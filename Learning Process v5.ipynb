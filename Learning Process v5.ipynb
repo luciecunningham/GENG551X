{
 "cells": [
  {
   "cell_type": "code",
   "execution_count": 1,
   "metadata": {},
   "outputs": [],
   "source": [
    "#This is to create the best turbidity model and save it\n"
   ]
  },
  {
   "cell_type": "code",
   "execution_count": 2,
   "metadata": {},
   "outputs": [],
   "source": [
    "import numpy as np\n",
    "import pandas as pd\n",
    "import os\n",
    "import datetime as dt\n",
    "\n",
    "import matplotlib.pyplot as plt\n",
    "import seaborn as sns\n",
    "\n",
    "from sklearn.preprocessing import StandardScaler\n",
    "from sklearn.metrics import r2_score\n",
    "from sklearn.svm import SVR\n",
    "from sklearn.pipeline import make_pipeline\n",
    "from sklearn import model_selection\n",
    "from sklearn.model_selection import GridSearchCV,cross_val_score,train_test_split, KFold\n",
    "from sklearn.metrics import mean_squared_error\n",
    "\n",
    "\n",
    "import tensorflow.keras as keras\n"
   ]
  },
  {
   "cell_type": "code",
   "execution_count": 3,
   "metadata": {},
   "outputs": [],
   "source": [
    "df = pd.read_csv(os.path.join(\"data\", \"final_df_big.csv\"))"
   ]
  },
  {
   "cell_type": "code",
   "execution_count": 4,
   "metadata": {},
   "outputs": [
    {
     "data": {
      "text/plain": [
       "Index(['Date', 'pH', 'Temperature (°C)', 'D.O. (mg/L)', 'Turbidity (NTU)',\n",
       "       'NO3-N (mg/L)', 'NH4-N (mg/L)', 'ORP (MV)', 'Conductivity (mS/cm)'],\n",
       "      dtype='object')"
      ]
     },
     "execution_count": 4,
     "metadata": {},
     "output_type": "execute_result"
    }
   ],
   "source": [
    "df.columns\n"
   ]
  },
  {
   "cell_type": "code",
   "execution_count": 5,
   "metadata": {},
   "outputs": [
    {
     "name": "stdout",
     "output_type": "stream",
     "text": [
      "KFold(n_splits=5, random_state=None, shuffle=True)\n"
     ]
    }
   ],
   "source": [
    "df_no_date = df.drop(columns=['Date'])\n",
    "df_no_date['extra'] = 1\n",
    "\n",
    "x_arr = np.array(df_no_date.drop(columns=['Turbidity (NTU)']), np.float32)\n",
    "x_shaped = x_arr.reshape(x_arr.shape[0], 1, x_arr.shape[1])\n",
    "\n",
    "y_shaped = df_no_date['Turbidity (NTU)'].values\n",
    "\n",
    "kf = KFold(n_splits=5, shuffle=True)\n",
    "kf.get_n_splits(x_shaped)\n",
    "\n",
    "print(kf)\n"
   ]
  },
  {
   "cell_type": "code",
   "execution_count": 6,
   "metadata": {},
   "outputs": [
    {
     "name": "stdout",
     "output_type": "stream",
     "text": [
      "Model: \"sequential\"\n",
      "_________________________________________________________________\n",
      " Layer (type)                Output Shape              Param #   \n",
      "=================================================================\n",
      " gru (GRU)                   (None, None, 100)         33000     \n",
      "                                                                 \n",
      " gru_1 (GRU)                 (None, None, 144)         106272    \n",
      "                                                                 \n",
      " reshape (Reshape)           (None, 12, 12)            0         \n",
      "                                                                 \n",
      " conv1d (Conv1D)             (None, 12, 128)           6272      \n",
      "                                                                 \n",
      " conv1d_1 (Conv1D)           (None, 12, 64)            32832     \n",
      "                                                                 \n",
      " max_pooling1d (MaxPooling1D  (None, 6, 64)            0         \n",
      " )                                                               \n",
      "                                                                 \n",
      " average_pooling1d (AverageP  (None, 3, 64)            0         \n",
      " ooling1D)                                                       \n",
      "                                                                 \n",
      " flatten (Flatten)           (None, 192)               0         \n",
      "                                                                 \n",
      " dense (Dense)               (None, 8)                 1544      \n",
      "                                                                 \n",
      " dense_1 (Dense)             (None, 1)                 9         \n",
      "                                                                 \n",
      "=================================================================\n",
      "Total params: 179,929\n",
      "Trainable params: 179,929\n",
      "Non-trainable params: 0\n",
      "_________________________________________________________________\n"
     ]
    }
   ],
   "source": [
    "model = keras.models.Sequential([\n",
    "    keras.layers.GRU(100, return_sequences=True, input_shape=[None, x_shaped.shape[2]]),\n",
    "    keras.layers.GRU(144, return_sequences=True, activation='relu'),\n",
    "    keras.layers.Reshape(target_shape=(12,12)),\n",
    "    keras.layers.Conv1D(filters=128, kernel_size=4, strides=1, padding='same',activation='relu'),\n",
    "    keras.layers.Conv1D(filters=64, kernel_size=4, padding='same', activation='relu'),\n",
    "    keras.layers.MaxPooling1D((2), strides=None),\n",
    "    keras.layers.AveragePooling1D(2),\n",
    "    keras.layers.Flatten(),\n",
    "    keras.layers.Dense(8, ),\n",
    "    keras.layers.Dense(1)\n",
    "])\n",
    "\n",
    "model.summary()"
   ]
  },
  {
   "cell_type": "code",
   "execution_count": 7,
   "metadata": {},
   "outputs": [],
   "source": [
    "\n",
    "cb = [keras.callbacks.ModelCheckpoint(\"best_model\", monitor='loss', save_best_only=True), keras.callbacks.EarlyStopping(patience=20, restore_best_weights=True, monitor='loss')]\n",
    "\n",
    "model.compile(optimizer=keras.optimizers.RMSprop(learning_rate=0.00010),  \n",
    "              loss='mse',\n",
    "              metrics=keras.metrics.RootMeanSquaredError()\n",
    "        )"
   ]
  },
  {
   "cell_type": "code",
   "execution_count": 8,
   "metadata": {},
   "outputs": [
    {
     "name": "stdout",
     "output_type": "stream",
     "text": [
      "Epoch 1/200\n",
      "1088/1098 [============================>.] - ETA: 0s - loss: 1852.3087 - root_mean_squared_error: 43.0385"
     ]
    },
    {
     "name": "stderr",
     "output_type": "stream",
     "text": [
      "WARNING:absl:Found untraced functions such as gru_cell_layer_call_fn, gru_cell_layer_call_and_return_conditional_losses while saving (showing 2 of 2). These functions will not be directly callable after loading.\n"
     ]
    },
    {
     "name": "stdout",
     "output_type": "stream",
     "text": [
      "INFO:tensorflow:Assets written to: best_model\\assets\n"
     ]
    },
    {
     "name": "stderr",
     "output_type": "stream",
     "text": [
      "INFO:tensorflow:Assets written to: best_model\\assets\n",
      "WARNING:absl:<keras.layers.recurrent.GRUCell object at 0x0000015E57CAE088> has the same name 'GRUCell' as a built-in Keras object. Consider renaming <class 'keras.layers.recurrent.GRUCell'> to avoid naming conflicts when loading with `tf.keras.models.load_model`. If renaming is not possible, pass the object in the `custom_objects` parameter of the load function.\n",
      "WARNING:absl:<keras.layers.recurrent.GRUCell object at 0x0000015E57CAEF48> has the same name 'GRUCell' as a built-in Keras object. Consider renaming <class 'keras.layers.recurrent.GRUCell'> to avoid naming conflicts when loading with `tf.keras.models.load_model`. If renaming is not possible, pass the object in the `custom_objects` parameter of the load function.\n"
     ]
    },
    {
     "name": "stdout",
     "output_type": "stream",
     "text": [
      "1098/1098 [==============================] - 11s 8ms/step - loss: 1841.2828 - root_mean_squared_error: 42.9102\n",
      "Epoch 2/200\n",
      "1097/1098 [============================>.] - ETA: 0s - loss: 639.3109 - root_mean_squared_error: 25.2846"
     ]
    },
    {
     "name": "stderr",
     "output_type": "stream",
     "text": [
      "WARNING:absl:Found untraced functions such as gru_cell_layer_call_fn, gru_cell_layer_call_and_return_conditional_losses while saving (showing 2 of 2). These functions will not be directly callable after loading.\n"
     ]
    },
    {
     "name": "stdout",
     "output_type": "stream",
     "text": [
      "INFO:tensorflow:Assets written to: best_model\\assets\n"
     ]
    },
    {
     "name": "stderr",
     "output_type": "stream",
     "text": [
      "INFO:tensorflow:Assets written to: best_model\\assets\n",
      "WARNING:absl:<keras.layers.recurrent.GRUCell object at 0x0000015E57CAE088> has the same name 'GRUCell' as a built-in Keras object. Consider renaming <class 'keras.layers.recurrent.GRUCell'> to avoid naming conflicts when loading with `tf.keras.models.load_model`. If renaming is not possible, pass the object in the `custom_objects` parameter of the load function.\n",
      "WARNING:absl:<keras.layers.recurrent.GRUCell object at 0x0000015E57CAEF48> has the same name 'GRUCell' as a built-in Keras object. Consider renaming <class 'keras.layers.recurrent.GRUCell'> to avoid naming conflicts when loading with `tf.keras.models.load_model`. If renaming is not possible, pass the object in the `custom_objects` parameter of the load function.\n"
     ]
    },
    {
     "name": "stdout",
     "output_type": "stream",
     "text": [
      "1098/1098 [==============================] - 9s 8ms/step - loss: 639.3718 - root_mean_squared_error: 25.2858\n",
      "Epoch 3/200\n",
      "1089/1098 [============================>.] - ETA: 0s - loss: 556.8022 - root_mean_squared_error: 23.5967"
     ]
    },
    {
     "name": "stderr",
     "output_type": "stream",
     "text": [
      "WARNING:absl:Found untraced functions such as gru_cell_layer_call_fn, gru_cell_layer_call_and_return_conditional_losses while saving (showing 2 of 2). These functions will not be directly callable after loading.\n"
     ]
    },
    {
     "name": "stdout",
     "output_type": "stream",
     "text": [
      "INFO:tensorflow:Assets written to: best_model\\assets\n"
     ]
    },
    {
     "name": "stderr",
     "output_type": "stream",
     "text": [
      "INFO:tensorflow:Assets written to: best_model\\assets\n",
      "WARNING:absl:<keras.layers.recurrent.GRUCell object at 0x0000015E57CAE088> has the same name 'GRUCell' as a built-in Keras object. Consider renaming <class 'keras.layers.recurrent.GRUCell'> to avoid naming conflicts when loading with `tf.keras.models.load_model`. If renaming is not possible, pass the object in the `custom_objects` parameter of the load function.\n",
      "WARNING:absl:<keras.layers.recurrent.GRUCell object at 0x0000015E57CAEF48> has the same name 'GRUCell' as a built-in Keras object. Consider renaming <class 'keras.layers.recurrent.GRUCell'> to avoid naming conflicts when loading with `tf.keras.models.load_model`. If renaming is not possible, pass the object in the `custom_objects` parameter of the load function.\n"
     ]
    },
    {
     "name": "stdout",
     "output_type": "stream",
     "text": [
      "1098/1098 [==============================] - 9s 8ms/step - loss: 556.6250 - root_mean_squared_error: 23.5929\n",
      "Epoch 4/200\n",
      "1089/1098 [============================>.] - ETA: 0s - loss: 493.2594 - root_mean_squared_error: 22.2094"
     ]
    },
    {
     "name": "stderr",
     "output_type": "stream",
     "text": [
      "WARNING:absl:Found untraced functions such as gru_cell_layer_call_fn, gru_cell_layer_call_and_return_conditional_losses while saving (showing 2 of 2). These functions will not be directly callable after loading.\n"
     ]
    },
    {
     "name": "stdout",
     "output_type": "stream",
     "text": [
      "INFO:tensorflow:Assets written to: best_model\\assets\n"
     ]
    },
    {
     "name": "stderr",
     "output_type": "stream",
     "text": [
      "INFO:tensorflow:Assets written to: best_model\\assets\n",
      "WARNING:absl:<keras.layers.recurrent.GRUCell object at 0x0000015E57CAE088> has the same name 'GRUCell' as a built-in Keras object. Consider renaming <class 'keras.layers.recurrent.GRUCell'> to avoid naming conflicts when loading with `tf.keras.models.load_model`. If renaming is not possible, pass the object in the `custom_objects` parameter of the load function.\n",
      "WARNING:absl:<keras.layers.recurrent.GRUCell object at 0x0000015E57CAEF48> has the same name 'GRUCell' as a built-in Keras object. Consider renaming <class 'keras.layers.recurrent.GRUCell'> to avoid naming conflicts when loading with `tf.keras.models.load_model`. If renaming is not possible, pass the object in the `custom_objects` parameter of the load function.\n"
     ]
    },
    {
     "name": "stdout",
     "output_type": "stream",
     "text": [
      "1098/1098 [==============================] - 9s 8ms/step - loss: 493.5403 - root_mean_squared_error: 22.2158\n",
      "Epoch 5/200\n",
      "1088/1098 [============================>.] - ETA: 0s - loss: 443.6135 - root_mean_squared_error: 21.0621"
     ]
    },
    {
     "name": "stderr",
     "output_type": "stream",
     "text": [
      "WARNING:absl:Found untraced functions such as gru_cell_layer_call_fn, gru_cell_layer_call_and_return_conditional_losses while saving (showing 2 of 2). These functions will not be directly callable after loading.\n"
     ]
    },
    {
     "name": "stdout",
     "output_type": "stream",
     "text": [
      "INFO:tensorflow:Assets written to: best_model\\assets\n"
     ]
    },
    {
     "name": "stderr",
     "output_type": "stream",
     "text": [
      "INFO:tensorflow:Assets written to: best_model\\assets\n",
      "WARNING:absl:<keras.layers.recurrent.GRUCell object at 0x0000015E57CAE088> has the same name 'GRUCell' as a built-in Keras object. Consider renaming <class 'keras.layers.recurrent.GRUCell'> to avoid naming conflicts when loading with `tf.keras.models.load_model`. If renaming is not possible, pass the object in the `custom_objects` parameter of the load function.\n",
      "WARNING:absl:<keras.layers.recurrent.GRUCell object at 0x0000015E57CAEF48> has the same name 'GRUCell' as a built-in Keras object. Consider renaming <class 'keras.layers.recurrent.GRUCell'> to avoid naming conflicts when loading with `tf.keras.models.load_model`. If renaming is not possible, pass the object in the `custom_objects` parameter of the load function.\n"
     ]
    },
    {
     "name": "stdout",
     "output_type": "stream",
     "text": [
      "1098/1098 [==============================] - 9s 8ms/step - loss: 443.2837 - root_mean_squared_error: 21.0543\n",
      "Epoch 6/200\n",
      "1093/1098 [============================>.] - ETA: 0s - loss: 398.0368 - root_mean_squared_error: 19.9509"
     ]
    },
    {
     "name": "stderr",
     "output_type": "stream",
     "text": [
      "WARNING:absl:Found untraced functions such as gru_cell_layer_call_fn, gru_cell_layer_call_and_return_conditional_losses while saving (showing 2 of 2). These functions will not be directly callable after loading.\n"
     ]
    },
    {
     "name": "stdout",
     "output_type": "stream",
     "text": [
      "INFO:tensorflow:Assets written to: best_model\\assets\n"
     ]
    },
    {
     "name": "stderr",
     "output_type": "stream",
     "text": [
      "INFO:tensorflow:Assets written to: best_model\\assets\n",
      "WARNING:absl:<keras.layers.recurrent.GRUCell object at 0x0000015E57CAE088> has the same name 'GRUCell' as a built-in Keras object. Consider renaming <class 'keras.layers.recurrent.GRUCell'> to avoid naming conflicts when loading with `tf.keras.models.load_model`. If renaming is not possible, pass the object in the `custom_objects` parameter of the load function.\n",
      "WARNING:absl:<keras.layers.recurrent.GRUCell object at 0x0000015E57CAEF48> has the same name 'GRUCell' as a built-in Keras object. Consider renaming <class 'keras.layers.recurrent.GRUCell'> to avoid naming conflicts when loading with `tf.keras.models.load_model`. If renaming is not possible, pass the object in the `custom_objects` parameter of the load function.\n"
     ]
    },
    {
     "name": "stdout",
     "output_type": "stream",
     "text": [
      "1098/1098 [==============================] - 9s 8ms/step - loss: 397.8090 - root_mean_squared_error: 19.9451\n",
      "Epoch 7/200\n",
      "1095/1098 [============================>.] - ETA: 0s - loss: 360.0895 - root_mean_squared_error: 18.9760"
     ]
    },
    {
     "name": "stderr",
     "output_type": "stream",
     "text": [
      "WARNING:absl:Found untraced functions such as gru_cell_layer_call_fn, gru_cell_layer_call_and_return_conditional_losses while saving (showing 2 of 2). These functions will not be directly callable after loading.\n"
     ]
    },
    {
     "name": "stdout",
     "output_type": "stream",
     "text": [
      "INFO:tensorflow:Assets written to: best_model\\assets\n"
     ]
    },
    {
     "name": "stderr",
     "output_type": "stream",
     "text": [
      "INFO:tensorflow:Assets written to: best_model\\assets\n",
      "WARNING:absl:<keras.layers.recurrent.GRUCell object at 0x0000015E57CAE088> has the same name 'GRUCell' as a built-in Keras object. Consider renaming <class 'keras.layers.recurrent.GRUCell'> to avoid naming conflicts when loading with `tf.keras.models.load_model`. If renaming is not possible, pass the object in the `custom_objects` parameter of the load function.\n",
      "WARNING:absl:<keras.layers.recurrent.GRUCell object at 0x0000015E57CAEF48> has the same name 'GRUCell' as a built-in Keras object. Consider renaming <class 'keras.layers.recurrent.GRUCell'> to avoid naming conflicts when loading with `tf.keras.models.load_model`. If renaming is not possible, pass the object in the `custom_objects` parameter of the load function.\n"
     ]
    },
    {
     "name": "stdout",
     "output_type": "stream",
     "text": [
      "1098/1098 [==============================] - 9s 8ms/step - loss: 359.9270 - root_mean_squared_error: 18.9717\n",
      "Epoch 8/200\n",
      "1093/1098 [============================>.] - ETA: 0s - loss: 329.0058 - root_mean_squared_error: 18.1385"
     ]
    },
    {
     "name": "stderr",
     "output_type": "stream",
     "text": [
      "WARNING:absl:Found untraced functions such as gru_cell_layer_call_fn, gru_cell_layer_call_and_return_conditional_losses while saving (showing 2 of 2). These functions will not be directly callable after loading.\n"
     ]
    },
    {
     "name": "stdout",
     "output_type": "stream",
     "text": [
      "INFO:tensorflow:Assets written to: best_model\\assets\n"
     ]
    },
    {
     "name": "stderr",
     "output_type": "stream",
     "text": [
      "INFO:tensorflow:Assets written to: best_model\\assets\n",
      "WARNING:absl:<keras.layers.recurrent.GRUCell object at 0x0000015E57CAE088> has the same name 'GRUCell' as a built-in Keras object. Consider renaming <class 'keras.layers.recurrent.GRUCell'> to avoid naming conflicts when loading with `tf.keras.models.load_model`. If renaming is not possible, pass the object in the `custom_objects` parameter of the load function.\n",
      "WARNING:absl:<keras.layers.recurrent.GRUCell object at 0x0000015E57CAEF48> has the same name 'GRUCell' as a built-in Keras object. Consider renaming <class 'keras.layers.recurrent.GRUCell'> to avoid naming conflicts when loading with `tf.keras.models.load_model`. If renaming is not possible, pass the object in the `custom_objects` parameter of the load function.\n"
     ]
    },
    {
     "name": "stdout",
     "output_type": "stream",
     "text": [
      "1098/1098 [==============================] - 9s 9ms/step - loss: 328.6328 - root_mean_squared_error: 18.1282\n",
      "Epoch 9/200\n",
      "1095/1098 [============================>.] - ETA: 0s - loss: 303.3896 - root_mean_squared_error: 17.4181"
     ]
    },
    {
     "name": "stderr",
     "output_type": "stream",
     "text": [
      "WARNING:absl:Found untraced functions such as gru_cell_layer_call_fn, gru_cell_layer_call_and_return_conditional_losses while saving (showing 2 of 2). These functions will not be directly callable after loading.\n"
     ]
    },
    {
     "name": "stdout",
     "output_type": "stream",
     "text": [
      "INFO:tensorflow:Assets written to: best_model\\assets\n"
     ]
    },
    {
     "name": "stderr",
     "output_type": "stream",
     "text": [
      "INFO:tensorflow:Assets written to: best_model\\assets\n",
      "WARNING:absl:<keras.layers.recurrent.GRUCell object at 0x0000015E57CAE088> has the same name 'GRUCell' as a built-in Keras object. Consider renaming <class 'keras.layers.recurrent.GRUCell'> to avoid naming conflicts when loading with `tf.keras.models.load_model`. If renaming is not possible, pass the object in the `custom_objects` parameter of the load function.\n",
      "WARNING:absl:<keras.layers.recurrent.GRUCell object at 0x0000015E57CAEF48> has the same name 'GRUCell' as a built-in Keras object. Consider renaming <class 'keras.layers.recurrent.GRUCell'> to avoid naming conflicts when loading with `tf.keras.models.load_model`. If renaming is not possible, pass the object in the `custom_objects` parameter of the load function.\n"
     ]
    },
    {
     "name": "stdout",
     "output_type": "stream",
     "text": [
      "1098/1098 [==============================] - 9s 8ms/step - loss: 303.2422 - root_mean_squared_error: 17.4138\n",
      "Epoch 10/200\n",
      "1093/1098 [============================>.] - ETA: 0s - loss: 282.0869 - root_mean_squared_error: 16.7954"
     ]
    },
    {
     "name": "stderr",
     "output_type": "stream",
     "text": [
      "WARNING:absl:Found untraced functions such as gru_cell_layer_call_fn, gru_cell_layer_call_and_return_conditional_losses while saving (showing 2 of 2). These functions will not be directly callable after loading.\n"
     ]
    },
    {
     "name": "stdout",
     "output_type": "stream",
     "text": [
      "INFO:tensorflow:Assets written to: best_model\\assets\n"
     ]
    },
    {
     "name": "stderr",
     "output_type": "stream",
     "text": [
      "INFO:tensorflow:Assets written to: best_model\\assets\n",
      "WARNING:absl:<keras.layers.recurrent.GRUCell object at 0x0000015E57CAE088> has the same name 'GRUCell' as a built-in Keras object. Consider renaming <class 'keras.layers.recurrent.GRUCell'> to avoid naming conflicts when loading with `tf.keras.models.load_model`. If renaming is not possible, pass the object in the `custom_objects` parameter of the load function.\n",
      "WARNING:absl:<keras.layers.recurrent.GRUCell object at 0x0000015E57CAEF48> has the same name 'GRUCell' as a built-in Keras object. Consider renaming <class 'keras.layers.recurrent.GRUCell'> to avoid naming conflicts when loading with `tf.keras.models.load_model`. If renaming is not possible, pass the object in the `custom_objects` parameter of the load function.\n"
     ]
    },
    {
     "name": "stdout",
     "output_type": "stream",
     "text": [
      "1098/1098 [==============================] - 9s 8ms/step - loss: 282.2213 - root_mean_squared_error: 16.7994\n",
      "Epoch 11/200\n",
      "1097/1098 [============================>.] - ETA: 0s - loss: 266.3298 - root_mean_squared_error: 16.3196"
     ]
    },
    {
     "name": "stderr",
     "output_type": "stream",
     "text": [
      "WARNING:absl:Found untraced functions such as gru_cell_layer_call_fn, gru_cell_layer_call_and_return_conditional_losses while saving (showing 2 of 2). These functions will not be directly callable after loading.\n"
     ]
    },
    {
     "name": "stdout",
     "output_type": "stream",
     "text": [
      "INFO:tensorflow:Assets written to: best_model\\assets\n"
     ]
    },
    {
     "name": "stderr",
     "output_type": "stream",
     "text": [
      "INFO:tensorflow:Assets written to: best_model\\assets\n",
      "WARNING:absl:<keras.layers.recurrent.GRUCell object at 0x0000015E57CAE088> has the same name 'GRUCell' as a built-in Keras object. Consider renaming <class 'keras.layers.recurrent.GRUCell'> to avoid naming conflicts when loading with `tf.keras.models.load_model`. If renaming is not possible, pass the object in the `custom_objects` parameter of the load function.\n",
      "WARNING:absl:<keras.layers.recurrent.GRUCell object at 0x0000015E57CAEF48> has the same name 'GRUCell' as a built-in Keras object. Consider renaming <class 'keras.layers.recurrent.GRUCell'> to avoid naming conflicts when loading with `tf.keras.models.load_model`. If renaming is not possible, pass the object in the `custom_objects` parameter of the load function.\n"
     ]
    },
    {
     "name": "stdout",
     "output_type": "stream",
     "text": [
      "1098/1098 [==============================] - 9s 8ms/step - loss: 266.3354 - root_mean_squared_error: 16.3198\n",
      "Epoch 12/200\n",
      "1089/1098 [============================>.] - ETA: 0s - loss: 253.2637 - root_mean_squared_error: 15.9143"
     ]
    },
    {
     "name": "stderr",
     "output_type": "stream",
     "text": [
      "WARNING:absl:Found untraced functions such as gru_cell_layer_call_fn, gru_cell_layer_call_and_return_conditional_losses while saving (showing 2 of 2). These functions will not be directly callable after loading.\n"
     ]
    },
    {
     "name": "stdout",
     "output_type": "stream",
     "text": [
      "INFO:tensorflow:Assets written to: best_model\\assets\n"
     ]
    },
    {
     "name": "stderr",
     "output_type": "stream",
     "text": [
      "INFO:tensorflow:Assets written to: best_model\\assets\n",
      "WARNING:absl:<keras.layers.recurrent.GRUCell object at 0x0000015E57CAE088> has the same name 'GRUCell' as a built-in Keras object. Consider renaming <class 'keras.layers.recurrent.GRUCell'> to avoid naming conflicts when loading with `tf.keras.models.load_model`. If renaming is not possible, pass the object in the `custom_objects` parameter of the load function.\n",
      "WARNING:absl:<keras.layers.recurrent.GRUCell object at 0x0000015E57CAEF48> has the same name 'GRUCell' as a built-in Keras object. Consider renaming <class 'keras.layers.recurrent.GRUCell'> to avoid naming conflicts when loading with `tf.keras.models.load_model`. If renaming is not possible, pass the object in the `custom_objects` parameter of the load function.\n"
     ]
    },
    {
     "name": "stdout",
     "output_type": "stream",
     "text": [
      "1098/1098 [==============================] - 9s 8ms/step - loss: 253.5072 - root_mean_squared_error: 15.9219\n",
      "Epoch 13/200\n",
      "1097/1098 [============================>.] - ETA: 0s - loss: 242.3488 - root_mean_squared_error: 15.5676"
     ]
    },
    {
     "name": "stderr",
     "output_type": "stream",
     "text": [
      "WARNING:absl:Found untraced functions such as gru_cell_layer_call_fn, gru_cell_layer_call_and_return_conditional_losses while saving (showing 2 of 2). These functions will not be directly callable after loading.\n"
     ]
    },
    {
     "name": "stdout",
     "output_type": "stream",
     "text": [
      "INFO:tensorflow:Assets written to: best_model\\assets\n"
     ]
    },
    {
     "name": "stderr",
     "output_type": "stream",
     "text": [
      "INFO:tensorflow:Assets written to: best_model\\assets\n",
      "WARNING:absl:<keras.layers.recurrent.GRUCell object at 0x0000015E57CAE088> has the same name 'GRUCell' as a built-in Keras object. Consider renaming <class 'keras.layers.recurrent.GRUCell'> to avoid naming conflicts when loading with `tf.keras.models.load_model`. If renaming is not possible, pass the object in the `custom_objects` parameter of the load function.\n",
      "WARNING:absl:<keras.layers.recurrent.GRUCell object at 0x0000015E57CAEF48> has the same name 'GRUCell' as a built-in Keras object. Consider renaming <class 'keras.layers.recurrent.GRUCell'> to avoid naming conflicts when loading with `tf.keras.models.load_model`. If renaming is not possible, pass the object in the `custom_objects` parameter of the load function.\n"
     ]
    },
    {
     "name": "stdout",
     "output_type": "stream",
     "text": [
      "1098/1098 [==============================] - 9s 8ms/step - loss: 242.3467 - root_mean_squared_error: 15.5675\n",
      "Epoch 14/200\n",
      "1090/1098 [============================>.] - ETA: 0s - loss: 233.2951 - root_mean_squared_error: 15.2740"
     ]
    },
    {
     "name": "stderr",
     "output_type": "stream",
     "text": [
      "WARNING:absl:Found untraced functions such as gru_cell_layer_call_fn, gru_cell_layer_call_and_return_conditional_losses while saving (showing 2 of 2). These functions will not be directly callable after loading.\n"
     ]
    },
    {
     "name": "stdout",
     "output_type": "stream",
     "text": [
      "INFO:tensorflow:Assets written to: best_model\\assets\n"
     ]
    },
    {
     "name": "stderr",
     "output_type": "stream",
     "text": [
      "INFO:tensorflow:Assets written to: best_model\\assets\n",
      "WARNING:absl:<keras.layers.recurrent.GRUCell object at 0x0000015E57CAE088> has the same name 'GRUCell' as a built-in Keras object. Consider renaming <class 'keras.layers.recurrent.GRUCell'> to avoid naming conflicts when loading with `tf.keras.models.load_model`. If renaming is not possible, pass the object in the `custom_objects` parameter of the load function.\n",
      "WARNING:absl:<keras.layers.recurrent.GRUCell object at 0x0000015E57CAEF48> has the same name 'GRUCell' as a built-in Keras object. Consider renaming <class 'keras.layers.recurrent.GRUCell'> to avoid naming conflicts when loading with `tf.keras.models.load_model`. If renaming is not possible, pass the object in the `custom_objects` parameter of the load function.\n"
     ]
    },
    {
     "name": "stdout",
     "output_type": "stream",
     "text": [
      "1098/1098 [==============================] - 9s 8ms/step - loss: 233.0669 - root_mean_squared_error: 15.2665\n",
      "Epoch 15/200\n",
      "1093/1098 [============================>.] - ETA: 0s - loss: 223.7338 - root_mean_squared_error: 14.9577"
     ]
    },
    {
     "name": "stderr",
     "output_type": "stream",
     "text": [
      "WARNING:absl:Found untraced functions such as gru_cell_layer_call_fn, gru_cell_layer_call_and_return_conditional_losses while saving (showing 2 of 2). These functions will not be directly callable after loading.\n"
     ]
    },
    {
     "name": "stdout",
     "output_type": "stream",
     "text": [
      "INFO:tensorflow:Assets written to: best_model\\assets\n"
     ]
    },
    {
     "name": "stderr",
     "output_type": "stream",
     "text": [
      "INFO:tensorflow:Assets written to: best_model\\assets\n",
      "WARNING:absl:<keras.layers.recurrent.GRUCell object at 0x0000015E57CAE088> has the same name 'GRUCell' as a built-in Keras object. Consider renaming <class 'keras.layers.recurrent.GRUCell'> to avoid naming conflicts when loading with `tf.keras.models.load_model`. If renaming is not possible, pass the object in the `custom_objects` parameter of the load function.\n",
      "WARNING:absl:<keras.layers.recurrent.GRUCell object at 0x0000015E57CAEF48> has the same name 'GRUCell' as a built-in Keras object. Consider renaming <class 'keras.layers.recurrent.GRUCell'> to avoid naming conflicts when loading with `tf.keras.models.load_model`. If renaming is not possible, pass the object in the `custom_objects` parameter of the load function.\n"
     ]
    },
    {
     "name": "stdout",
     "output_type": "stream",
     "text": [
      "1098/1098 [==============================] - 9s 8ms/step - loss: 223.6610 - root_mean_squared_error: 14.9553\n",
      "Epoch 16/200\n",
      "1095/1098 [============================>.] - ETA: 0s - loss: 214.8308 - root_mean_squared_error: 14.6571"
     ]
    },
    {
     "name": "stderr",
     "output_type": "stream",
     "text": [
      "WARNING:absl:Found untraced functions such as gru_cell_layer_call_fn, gru_cell_layer_call_and_return_conditional_losses while saving (showing 2 of 2). These functions will not be directly callable after loading.\n"
     ]
    },
    {
     "name": "stdout",
     "output_type": "stream",
     "text": [
      "INFO:tensorflow:Assets written to: best_model\\assets\n"
     ]
    },
    {
     "name": "stderr",
     "output_type": "stream",
     "text": [
      "INFO:tensorflow:Assets written to: best_model\\assets\n",
      "WARNING:absl:<keras.layers.recurrent.GRUCell object at 0x0000015E57CAE088> has the same name 'GRUCell' as a built-in Keras object. Consider renaming <class 'keras.layers.recurrent.GRUCell'> to avoid naming conflicts when loading with `tf.keras.models.load_model`. If renaming is not possible, pass the object in the `custom_objects` parameter of the load function.\n",
      "WARNING:absl:<keras.layers.recurrent.GRUCell object at 0x0000015E57CAEF48> has the same name 'GRUCell' as a built-in Keras object. Consider renaming <class 'keras.layers.recurrent.GRUCell'> to avoid naming conflicts when loading with `tf.keras.models.load_model`. If renaming is not possible, pass the object in the `custom_objects` parameter of the load function.\n"
     ]
    },
    {
     "name": "stdout",
     "output_type": "stream",
     "text": [
      "1098/1098 [==============================] - 9s 8ms/step - loss: 215.0333 - root_mean_squared_error: 14.6640\n",
      "Epoch 17/200\n",
      "1095/1098 [============================>.] - ETA: 0s - loss: 207.1279 - root_mean_squared_error: 14.3919"
     ]
    },
    {
     "name": "stderr",
     "output_type": "stream",
     "text": [
      "WARNING:absl:Found untraced functions such as gru_cell_layer_call_fn, gru_cell_layer_call_and_return_conditional_losses while saving (showing 2 of 2). These functions will not be directly callable after loading.\n"
     ]
    },
    {
     "name": "stdout",
     "output_type": "stream",
     "text": [
      "INFO:tensorflow:Assets written to: best_model\\assets\n"
     ]
    },
    {
     "name": "stderr",
     "output_type": "stream",
     "text": [
      "INFO:tensorflow:Assets written to: best_model\\assets\n",
      "WARNING:absl:<keras.layers.recurrent.GRUCell object at 0x0000015E57CAE088> has the same name 'GRUCell' as a built-in Keras object. Consider renaming <class 'keras.layers.recurrent.GRUCell'> to avoid naming conflicts when loading with `tf.keras.models.load_model`. If renaming is not possible, pass the object in the `custom_objects` parameter of the load function.\n",
      "WARNING:absl:<keras.layers.recurrent.GRUCell object at 0x0000015E57CAEF48> has the same name 'GRUCell' as a built-in Keras object. Consider renaming <class 'keras.layers.recurrent.GRUCell'> to avoid naming conflicts when loading with `tf.keras.models.load_model`. If renaming is not possible, pass the object in the `custom_objects` parameter of the load function.\n"
     ]
    },
    {
     "name": "stdout",
     "output_type": "stream",
     "text": [
      "1098/1098 [==============================] - 9s 8ms/step - loss: 207.0637 - root_mean_squared_error: 14.3897\n",
      "Epoch 18/200\n",
      "1097/1098 [============================>.] - ETA: 0s - loss: 199.2695 - root_mean_squared_error: 14.1163"
     ]
    },
    {
     "name": "stderr",
     "output_type": "stream",
     "text": [
      "WARNING:absl:Found untraced functions such as gru_cell_layer_call_fn, gru_cell_layer_call_and_return_conditional_losses while saving (showing 2 of 2). These functions will not be directly callable after loading.\n"
     ]
    },
    {
     "name": "stdout",
     "output_type": "stream",
     "text": [
      "INFO:tensorflow:Assets written to: best_model\\assets\n"
     ]
    },
    {
     "name": "stderr",
     "output_type": "stream",
     "text": [
      "INFO:tensorflow:Assets written to: best_model\\assets\n",
      "WARNING:absl:<keras.layers.recurrent.GRUCell object at 0x0000015E57CAE088> has the same name 'GRUCell' as a built-in Keras object. Consider renaming <class 'keras.layers.recurrent.GRUCell'> to avoid naming conflicts when loading with `tf.keras.models.load_model`. If renaming is not possible, pass the object in the `custom_objects` parameter of the load function.\n",
      "WARNING:absl:<keras.layers.recurrent.GRUCell object at 0x0000015E57CAEF48> has the same name 'GRUCell' as a built-in Keras object. Consider renaming <class 'keras.layers.recurrent.GRUCell'> to avoid naming conflicts when loading with `tf.keras.models.load_model`. If renaming is not possible, pass the object in the `custom_objects` parameter of the load function.\n"
     ]
    },
    {
     "name": "stdout",
     "output_type": "stream",
     "text": [
      "1098/1098 [==============================] - 9s 8ms/step - loss: 199.2320 - root_mean_squared_error: 14.1150\n",
      "Epoch 19/200\n",
      "1089/1098 [============================>.] - ETA: 0s - loss: 192.9078 - root_mean_squared_error: 13.8891"
     ]
    },
    {
     "name": "stderr",
     "output_type": "stream",
     "text": [
      "WARNING:absl:Found untraced functions such as gru_cell_layer_call_fn, gru_cell_layer_call_and_return_conditional_losses while saving (showing 2 of 2). These functions will not be directly callable after loading.\n"
     ]
    },
    {
     "name": "stdout",
     "output_type": "stream",
     "text": [
      "INFO:tensorflow:Assets written to: best_model\\assets\n"
     ]
    },
    {
     "name": "stderr",
     "output_type": "stream",
     "text": [
      "INFO:tensorflow:Assets written to: best_model\\assets\n",
      "WARNING:absl:<keras.layers.recurrent.GRUCell object at 0x0000015E57CAE088> has the same name 'GRUCell' as a built-in Keras object. Consider renaming <class 'keras.layers.recurrent.GRUCell'> to avoid naming conflicts when loading with `tf.keras.models.load_model`. If renaming is not possible, pass the object in the `custom_objects` parameter of the load function.\n",
      "WARNING:absl:<keras.layers.recurrent.GRUCell object at 0x0000015E57CAEF48> has the same name 'GRUCell' as a built-in Keras object. Consider renaming <class 'keras.layers.recurrent.GRUCell'> to avoid naming conflicts when loading with `tf.keras.models.load_model`. If renaming is not possible, pass the object in the `custom_objects` parameter of the load function.\n"
     ]
    },
    {
     "name": "stdout",
     "output_type": "stream",
     "text": [
      "1098/1098 [==============================] - 9s 8ms/step - loss: 193.1058 - root_mean_squared_error: 13.8963\n",
      "Epoch 20/200\n",
      "1096/1098 [============================>.] - ETA: 0s - loss: 187.1191 - root_mean_squared_error: 13.6791"
     ]
    },
    {
     "name": "stderr",
     "output_type": "stream",
     "text": [
      "WARNING:absl:Found untraced functions such as gru_cell_layer_call_fn, gru_cell_layer_call_and_return_conditional_losses while saving (showing 2 of 2). These functions will not be directly callable after loading.\n"
     ]
    },
    {
     "name": "stdout",
     "output_type": "stream",
     "text": [
      "INFO:tensorflow:Assets written to: best_model\\assets\n"
     ]
    },
    {
     "name": "stderr",
     "output_type": "stream",
     "text": [
      "INFO:tensorflow:Assets written to: best_model\\assets\n",
      "WARNING:absl:<keras.layers.recurrent.GRUCell object at 0x0000015E57CAE088> has the same name 'GRUCell' as a built-in Keras object. Consider renaming <class 'keras.layers.recurrent.GRUCell'> to avoid naming conflicts when loading with `tf.keras.models.load_model`. If renaming is not possible, pass the object in the `custom_objects` parameter of the load function.\n",
      "WARNING:absl:<keras.layers.recurrent.GRUCell object at 0x0000015E57CAEF48> has the same name 'GRUCell' as a built-in Keras object. Consider renaming <class 'keras.layers.recurrent.GRUCell'> to avoid naming conflicts when loading with `tf.keras.models.load_model`. If renaming is not possible, pass the object in the `custom_objects` parameter of the load function.\n"
     ]
    },
    {
     "name": "stdout",
     "output_type": "stream",
     "text": [
      "1098/1098 [==============================] - 9s 8ms/step - loss: 187.0219 - root_mean_squared_error: 13.6756\n",
      "Epoch 21/200\n",
      "1096/1098 [============================>.] - ETA: 0s - loss: 181.4781 - root_mean_squared_error: 13.4714"
     ]
    },
    {
     "name": "stderr",
     "output_type": "stream",
     "text": [
      "WARNING:absl:Found untraced functions such as gru_cell_layer_call_fn, gru_cell_layer_call_and_return_conditional_losses while saving (showing 2 of 2). These functions will not be directly callable after loading.\n"
     ]
    },
    {
     "name": "stdout",
     "output_type": "stream",
     "text": [
      "INFO:tensorflow:Assets written to: best_model\\assets\n"
     ]
    },
    {
     "name": "stderr",
     "output_type": "stream",
     "text": [
      "INFO:tensorflow:Assets written to: best_model\\assets\n",
      "WARNING:absl:<keras.layers.recurrent.GRUCell object at 0x0000015E57CAE088> has the same name 'GRUCell' as a built-in Keras object. Consider renaming <class 'keras.layers.recurrent.GRUCell'> to avoid naming conflicts when loading with `tf.keras.models.load_model`. If renaming is not possible, pass the object in the `custom_objects` parameter of the load function.\n",
      "WARNING:absl:<keras.layers.recurrent.GRUCell object at 0x0000015E57CAEF48> has the same name 'GRUCell' as a built-in Keras object. Consider renaming <class 'keras.layers.recurrent.GRUCell'> to avoid naming conflicts when loading with `tf.keras.models.load_model`. If renaming is not possible, pass the object in the `custom_objects` parameter of the load function.\n"
     ]
    },
    {
     "name": "stdout",
     "output_type": "stream",
     "text": [
      "1098/1098 [==============================] - 9s 8ms/step - loss: 181.5451 - root_mean_squared_error: 13.4739\n",
      "Epoch 22/200\n",
      "1095/1098 [============================>.] - ETA: 0s - loss: 176.8638 - root_mean_squared_error: 13.2990"
     ]
    },
    {
     "name": "stderr",
     "output_type": "stream",
     "text": [
      "WARNING:absl:Found untraced functions such as gru_cell_layer_call_fn, gru_cell_layer_call_and_return_conditional_losses while saving (showing 2 of 2). These functions will not be directly callable after loading.\n"
     ]
    },
    {
     "name": "stdout",
     "output_type": "stream",
     "text": [
      "INFO:tensorflow:Assets written to: best_model\\assets\n"
     ]
    },
    {
     "name": "stderr",
     "output_type": "stream",
     "text": [
      "INFO:tensorflow:Assets written to: best_model\\assets\n",
      "WARNING:absl:<keras.layers.recurrent.GRUCell object at 0x0000015E57CAE088> has the same name 'GRUCell' as a built-in Keras object. Consider renaming <class 'keras.layers.recurrent.GRUCell'> to avoid naming conflicts when loading with `tf.keras.models.load_model`. If renaming is not possible, pass the object in the `custom_objects` parameter of the load function.\n",
      "WARNING:absl:<keras.layers.recurrent.GRUCell object at 0x0000015E57CAEF48> has the same name 'GRUCell' as a built-in Keras object. Consider renaming <class 'keras.layers.recurrent.GRUCell'> to avoid naming conflicts when loading with `tf.keras.models.load_model`. If renaming is not possible, pass the object in the `custom_objects` parameter of the load function.\n"
     ]
    },
    {
     "name": "stdout",
     "output_type": "stream",
     "text": [
      "1098/1098 [==============================] - 9s 8ms/step - loss: 176.9334 - root_mean_squared_error: 13.3016\n",
      "Epoch 23/200\n",
      "1093/1098 [============================>.] - ETA: 0s - loss: 172.4378 - root_mean_squared_error: 13.1316"
     ]
    },
    {
     "name": "stderr",
     "output_type": "stream",
     "text": [
      "WARNING:absl:Found untraced functions such as gru_cell_layer_call_fn, gru_cell_layer_call_and_return_conditional_losses while saving (showing 2 of 2). These functions will not be directly callable after loading.\n"
     ]
    },
    {
     "name": "stdout",
     "output_type": "stream",
     "text": [
      "INFO:tensorflow:Assets written to: best_model\\assets\n"
     ]
    },
    {
     "name": "stderr",
     "output_type": "stream",
     "text": [
      "INFO:tensorflow:Assets written to: best_model\\assets\n",
      "WARNING:absl:<keras.layers.recurrent.GRUCell object at 0x0000015E57CAE088> has the same name 'GRUCell' as a built-in Keras object. Consider renaming <class 'keras.layers.recurrent.GRUCell'> to avoid naming conflicts when loading with `tf.keras.models.load_model`. If renaming is not possible, pass the object in the `custom_objects` parameter of the load function.\n",
      "WARNING:absl:<keras.layers.recurrent.GRUCell object at 0x0000015E57CAEF48> has the same name 'GRUCell' as a built-in Keras object. Consider renaming <class 'keras.layers.recurrent.GRUCell'> to avoid naming conflicts when loading with `tf.keras.models.load_model`. If renaming is not possible, pass the object in the `custom_objects` parameter of the load function.\n"
     ]
    },
    {
     "name": "stdout",
     "output_type": "stream",
     "text": [
      "1098/1098 [==============================] - 9s 8ms/step - loss: 172.3780 - root_mean_squared_error: 13.1293\n",
      "Epoch 24/200\n",
      "1095/1098 [============================>.] - ETA: 0s - loss: 168.6280 - root_mean_squared_error: 12.9857"
     ]
    },
    {
     "name": "stderr",
     "output_type": "stream",
     "text": [
      "WARNING:absl:Found untraced functions such as gru_cell_layer_call_fn, gru_cell_layer_call_and_return_conditional_losses while saving (showing 2 of 2). These functions will not be directly callable after loading.\n"
     ]
    },
    {
     "name": "stdout",
     "output_type": "stream",
     "text": [
      "INFO:tensorflow:Assets written to: best_model\\assets\n"
     ]
    },
    {
     "name": "stderr",
     "output_type": "stream",
     "text": [
      "INFO:tensorflow:Assets written to: best_model\\assets\n",
      "WARNING:absl:<keras.layers.recurrent.GRUCell object at 0x0000015E57CAE088> has the same name 'GRUCell' as a built-in Keras object. Consider renaming <class 'keras.layers.recurrent.GRUCell'> to avoid naming conflicts when loading with `tf.keras.models.load_model`. If renaming is not possible, pass the object in the `custom_objects` parameter of the load function.\n",
      "WARNING:absl:<keras.layers.recurrent.GRUCell object at 0x0000015E57CAEF48> has the same name 'GRUCell' as a built-in Keras object. Consider renaming <class 'keras.layers.recurrent.GRUCell'> to avoid naming conflicts when loading with `tf.keras.models.load_model`. If renaming is not possible, pass the object in the `custom_objects` parameter of the load function.\n"
     ]
    },
    {
     "name": "stdout",
     "output_type": "stream",
     "text": [
      "1098/1098 [==============================] - 9s 8ms/step - loss: 168.6075 - root_mean_squared_error: 12.9849\n",
      "Epoch 25/200\n",
      "1097/1098 [============================>.] - ETA: 0s - loss: 164.7685 - root_mean_squared_error: 12.8362"
     ]
    },
    {
     "name": "stderr",
     "output_type": "stream",
     "text": [
      "WARNING:absl:Found untraced functions such as gru_cell_layer_call_fn, gru_cell_layer_call_and_return_conditional_losses while saving (showing 2 of 2). These functions will not be directly callable after loading.\n"
     ]
    },
    {
     "name": "stdout",
     "output_type": "stream",
     "text": [
      "INFO:tensorflow:Assets written to: best_model\\assets\n"
     ]
    },
    {
     "name": "stderr",
     "output_type": "stream",
     "text": [
      "INFO:tensorflow:Assets written to: best_model\\assets\n",
      "WARNING:absl:<keras.layers.recurrent.GRUCell object at 0x0000015E57CAE088> has the same name 'GRUCell' as a built-in Keras object. Consider renaming <class 'keras.layers.recurrent.GRUCell'> to avoid naming conflicts when loading with `tf.keras.models.load_model`. If renaming is not possible, pass the object in the `custom_objects` parameter of the load function.\n",
      "WARNING:absl:<keras.layers.recurrent.GRUCell object at 0x0000015E57CAEF48> has the same name 'GRUCell' as a built-in Keras object. Consider renaming <class 'keras.layers.recurrent.GRUCell'> to avoid naming conflicts when loading with `tf.keras.models.load_model`. If renaming is not possible, pass the object in the `custom_objects` parameter of the load function.\n"
     ]
    },
    {
     "name": "stdout",
     "output_type": "stream",
     "text": [
      "1098/1098 [==============================] - 9s 8ms/step - loss: 164.7153 - root_mean_squared_error: 12.8341\n",
      "Epoch 26/200\n",
      "1089/1098 [============================>.] - ETA: 0s - loss: 161.4841 - root_mean_squared_error: 12.7076"
     ]
    },
    {
     "name": "stderr",
     "output_type": "stream",
     "text": [
      "WARNING:absl:Found untraced functions such as gru_cell_layer_call_fn, gru_cell_layer_call_and_return_conditional_losses while saving (showing 2 of 2). These functions will not be directly callable after loading.\n"
     ]
    },
    {
     "name": "stdout",
     "output_type": "stream",
     "text": [
      "INFO:tensorflow:Assets written to: best_model\\assets\n"
     ]
    },
    {
     "name": "stderr",
     "output_type": "stream",
     "text": [
      "INFO:tensorflow:Assets written to: best_model\\assets\n",
      "WARNING:absl:<keras.layers.recurrent.GRUCell object at 0x0000015E57CAE088> has the same name 'GRUCell' as a built-in Keras object. Consider renaming <class 'keras.layers.recurrent.GRUCell'> to avoid naming conflicts when loading with `tf.keras.models.load_model`. If renaming is not possible, pass the object in the `custom_objects` parameter of the load function.\n",
      "WARNING:absl:<keras.layers.recurrent.GRUCell object at 0x0000015E57CAEF48> has the same name 'GRUCell' as a built-in Keras object. Consider renaming <class 'keras.layers.recurrent.GRUCell'> to avoid naming conflicts when loading with `tf.keras.models.load_model`. If renaming is not possible, pass the object in the `custom_objects` parameter of the load function.\n"
     ]
    },
    {
     "name": "stdout",
     "output_type": "stream",
     "text": [
      "1098/1098 [==============================] - 9s 8ms/step - loss: 161.4619 - root_mean_squared_error: 12.7068\n",
      "Epoch 27/200\n",
      "1094/1098 [============================>.] - ETA: 0s - loss: 158.0059 - root_mean_squared_error: 12.5700"
     ]
    },
    {
     "name": "stderr",
     "output_type": "stream",
     "text": [
      "WARNING:absl:Found untraced functions such as gru_cell_layer_call_fn, gru_cell_layer_call_and_return_conditional_losses while saving (showing 2 of 2). These functions will not be directly callable after loading.\n"
     ]
    },
    {
     "name": "stdout",
     "output_type": "stream",
     "text": [
      "INFO:tensorflow:Assets written to: best_model\\assets\n"
     ]
    },
    {
     "name": "stderr",
     "output_type": "stream",
     "text": [
      "INFO:tensorflow:Assets written to: best_model\\assets\n",
      "WARNING:absl:<keras.layers.recurrent.GRUCell object at 0x0000015E57CAE088> has the same name 'GRUCell' as a built-in Keras object. Consider renaming <class 'keras.layers.recurrent.GRUCell'> to avoid naming conflicts when loading with `tf.keras.models.load_model`. If renaming is not possible, pass the object in the `custom_objects` parameter of the load function.\n",
      "WARNING:absl:<keras.layers.recurrent.GRUCell object at 0x0000015E57CAEF48> has the same name 'GRUCell' as a built-in Keras object. Consider renaming <class 'keras.layers.recurrent.GRUCell'> to avoid naming conflicts when loading with `tf.keras.models.load_model`. If renaming is not possible, pass the object in the `custom_objects` parameter of the load function.\n"
     ]
    },
    {
     "name": "stdout",
     "output_type": "stream",
     "text": [
      "1098/1098 [==============================] - 9s 8ms/step - loss: 157.9359 - root_mean_squared_error: 12.5673\n",
      "Epoch 28/200\n",
      "1098/1098 [==============================] - ETA: 0s - loss: 154.7684 - root_mean_squared_error: 12.4406"
     ]
    },
    {
     "name": "stderr",
     "output_type": "stream",
     "text": [
      "WARNING:absl:Found untraced functions such as gru_cell_layer_call_fn, gru_cell_layer_call_and_return_conditional_losses while saving (showing 2 of 2). These functions will not be directly callable after loading.\n"
     ]
    },
    {
     "name": "stdout",
     "output_type": "stream",
     "text": [
      "INFO:tensorflow:Assets written to: best_model\\assets\n"
     ]
    },
    {
     "name": "stderr",
     "output_type": "stream",
     "text": [
      "INFO:tensorflow:Assets written to: best_model\\assets\n",
      "WARNING:absl:<keras.layers.recurrent.GRUCell object at 0x0000015E57CAE088> has the same name 'GRUCell' as a built-in Keras object. Consider renaming <class 'keras.layers.recurrent.GRUCell'> to avoid naming conflicts when loading with `tf.keras.models.load_model`. If renaming is not possible, pass the object in the `custom_objects` parameter of the load function.\n",
      "WARNING:absl:<keras.layers.recurrent.GRUCell object at 0x0000015E57CAEF48> has the same name 'GRUCell' as a built-in Keras object. Consider renaming <class 'keras.layers.recurrent.GRUCell'> to avoid naming conflicts when loading with `tf.keras.models.load_model`. If renaming is not possible, pass the object in the `custom_objects` parameter of the load function.\n"
     ]
    },
    {
     "name": "stdout",
     "output_type": "stream",
     "text": [
      "1098/1098 [==============================] - 9s 8ms/step - loss: 154.7684 - root_mean_squared_error: 12.4406\n",
      "Epoch 29/200\n",
      "1093/1098 [============================>.] - ETA: 0s - loss: 151.7911 - root_mean_squared_error: 12.3204"
     ]
    },
    {
     "name": "stderr",
     "output_type": "stream",
     "text": [
      "WARNING:absl:Found untraced functions such as gru_cell_layer_call_fn, gru_cell_layer_call_and_return_conditional_losses while saving (showing 2 of 2). These functions will not be directly callable after loading.\n"
     ]
    },
    {
     "name": "stdout",
     "output_type": "stream",
     "text": [
      "INFO:tensorflow:Assets written to: best_model\\assets\n"
     ]
    },
    {
     "name": "stderr",
     "output_type": "stream",
     "text": [
      "INFO:tensorflow:Assets written to: best_model\\assets\n",
      "WARNING:absl:<keras.layers.recurrent.GRUCell object at 0x0000015E57CAE088> has the same name 'GRUCell' as a built-in Keras object. Consider renaming <class 'keras.layers.recurrent.GRUCell'> to avoid naming conflicts when loading with `tf.keras.models.load_model`. If renaming is not possible, pass the object in the `custom_objects` parameter of the load function.\n",
      "WARNING:absl:<keras.layers.recurrent.GRUCell object at 0x0000015E57CAEF48> has the same name 'GRUCell' as a built-in Keras object. Consider renaming <class 'keras.layers.recurrent.GRUCell'> to avoid naming conflicts when loading with `tf.keras.models.load_model`. If renaming is not possible, pass the object in the `custom_objects` parameter of the load function.\n"
     ]
    },
    {
     "name": "stdout",
     "output_type": "stream",
     "text": [
      "1098/1098 [==============================] - 9s 8ms/step - loss: 151.8137 - root_mean_squared_error: 12.3213\n",
      "Epoch 30/200\n",
      "1095/1098 [============================>.] - ETA: 0s - loss: 149.5468 - root_mean_squared_error: 12.2289"
     ]
    },
    {
     "name": "stderr",
     "output_type": "stream",
     "text": [
      "WARNING:absl:Found untraced functions such as gru_cell_layer_call_fn, gru_cell_layer_call_and_return_conditional_losses while saving (showing 2 of 2). These functions will not be directly callable after loading.\n"
     ]
    },
    {
     "name": "stdout",
     "output_type": "stream",
     "text": [
      "INFO:tensorflow:Assets written to: best_model\\assets\n"
     ]
    },
    {
     "name": "stderr",
     "output_type": "stream",
     "text": [
      "INFO:tensorflow:Assets written to: best_model\\assets\n",
      "WARNING:absl:<keras.layers.recurrent.GRUCell object at 0x0000015E57CAE088> has the same name 'GRUCell' as a built-in Keras object. Consider renaming <class 'keras.layers.recurrent.GRUCell'> to avoid naming conflicts when loading with `tf.keras.models.load_model`. If renaming is not possible, pass the object in the `custom_objects` parameter of the load function.\n",
      "WARNING:absl:<keras.layers.recurrent.GRUCell object at 0x0000015E57CAEF48> has the same name 'GRUCell' as a built-in Keras object. Consider renaming <class 'keras.layers.recurrent.GRUCell'> to avoid naming conflicts when loading with `tf.keras.models.load_model`. If renaming is not possible, pass the object in the `custom_objects` parameter of the load function.\n"
     ]
    },
    {
     "name": "stdout",
     "output_type": "stream",
     "text": [
      "1098/1098 [==============================] - 9s 8ms/step - loss: 149.5854 - root_mean_squared_error: 12.2305\n",
      "Epoch 31/200\n",
      "1089/1098 [============================>.] - ETA: 0s - loss: 146.2657 - root_mean_squared_error: 12.0940"
     ]
    },
    {
     "name": "stderr",
     "output_type": "stream",
     "text": [
      "WARNING:absl:Found untraced functions such as gru_cell_layer_call_fn, gru_cell_layer_call_and_return_conditional_losses while saving (showing 2 of 2). These functions will not be directly callable after loading.\n"
     ]
    },
    {
     "name": "stdout",
     "output_type": "stream",
     "text": [
      "INFO:tensorflow:Assets written to: best_model\\assets\n"
     ]
    },
    {
     "name": "stderr",
     "output_type": "stream",
     "text": [
      "INFO:tensorflow:Assets written to: best_model\\assets\n",
      "WARNING:absl:<keras.layers.recurrent.GRUCell object at 0x0000015E57CAE088> has the same name 'GRUCell' as a built-in Keras object. Consider renaming <class 'keras.layers.recurrent.GRUCell'> to avoid naming conflicts when loading with `tf.keras.models.load_model`. If renaming is not possible, pass the object in the `custom_objects` parameter of the load function.\n",
      "WARNING:absl:<keras.layers.recurrent.GRUCell object at 0x0000015E57CAEF48> has the same name 'GRUCell' as a built-in Keras object. Consider renaming <class 'keras.layers.recurrent.GRUCell'> to avoid naming conflicts when loading with `tf.keras.models.load_model`. If renaming is not possible, pass the object in the `custom_objects` parameter of the load function.\n"
     ]
    },
    {
     "name": "stdout",
     "output_type": "stream",
     "text": [
      "1098/1098 [==============================] - 9s 8ms/step - loss: 146.4028 - root_mean_squared_error: 12.0997\n",
      "Epoch 32/200\n",
      "1090/1098 [============================>.] - ETA: 0s - loss: 144.7464 - root_mean_squared_error: 12.0311"
     ]
    },
    {
     "name": "stderr",
     "output_type": "stream",
     "text": [
      "WARNING:absl:Found untraced functions such as gru_cell_layer_call_fn, gru_cell_layer_call_and_return_conditional_losses while saving (showing 2 of 2). These functions will not be directly callable after loading.\n"
     ]
    },
    {
     "name": "stdout",
     "output_type": "stream",
     "text": [
      "INFO:tensorflow:Assets written to: best_model\\assets\n"
     ]
    },
    {
     "name": "stderr",
     "output_type": "stream",
     "text": [
      "INFO:tensorflow:Assets written to: best_model\\assets\n",
      "WARNING:absl:<keras.layers.recurrent.GRUCell object at 0x0000015E57CAE088> has the same name 'GRUCell' as a built-in Keras object. Consider renaming <class 'keras.layers.recurrent.GRUCell'> to avoid naming conflicts when loading with `tf.keras.models.load_model`. If renaming is not possible, pass the object in the `custom_objects` parameter of the load function.\n",
      "WARNING:absl:<keras.layers.recurrent.GRUCell object at 0x0000015E57CAEF48> has the same name 'GRUCell' as a built-in Keras object. Consider renaming <class 'keras.layers.recurrent.GRUCell'> to avoid naming conflicts when loading with `tf.keras.models.load_model`. If renaming is not possible, pass the object in the `custom_objects` parameter of the load function.\n"
     ]
    },
    {
     "name": "stdout",
     "output_type": "stream",
     "text": [
      "1098/1098 [==============================] - 9s 9ms/step - loss: 144.6104 - root_mean_squared_error: 12.0254\n",
      "Epoch 33/200\n",
      "1095/1098 [============================>.] - ETA: 0s - loss: 142.5582 - root_mean_squared_error: 11.9398"
     ]
    },
    {
     "name": "stderr",
     "output_type": "stream",
     "text": [
      "WARNING:absl:Found untraced functions such as gru_cell_layer_call_fn, gru_cell_layer_call_and_return_conditional_losses while saving (showing 2 of 2). These functions will not be directly callable after loading.\n"
     ]
    },
    {
     "name": "stdout",
     "output_type": "stream",
     "text": [
      "INFO:tensorflow:Assets written to: best_model\\assets\n"
     ]
    },
    {
     "name": "stderr",
     "output_type": "stream",
     "text": [
      "INFO:tensorflow:Assets written to: best_model\\assets\n",
      "WARNING:absl:<keras.layers.recurrent.GRUCell object at 0x0000015E57CAE088> has the same name 'GRUCell' as a built-in Keras object. Consider renaming <class 'keras.layers.recurrent.GRUCell'> to avoid naming conflicts when loading with `tf.keras.models.load_model`. If renaming is not possible, pass the object in the `custom_objects` parameter of the load function.\n",
      "WARNING:absl:<keras.layers.recurrent.GRUCell object at 0x0000015E57CAEF48> has the same name 'GRUCell' as a built-in Keras object. Consider renaming <class 'keras.layers.recurrent.GRUCell'> to avoid naming conflicts when loading with `tf.keras.models.load_model`. If renaming is not possible, pass the object in the `custom_objects` parameter of the load function.\n"
     ]
    },
    {
     "name": "stdout",
     "output_type": "stream",
     "text": [
      "1098/1098 [==============================] - 10s 10ms/step - loss: 142.4657 - root_mean_squared_error: 11.9359\n",
      "Epoch 34/200\n",
      "1090/1098 [============================>.] - ETA: 0s - loss: 140.6694 - root_mean_squared_error: 11.8604"
     ]
    },
    {
     "name": "stderr",
     "output_type": "stream",
     "text": [
      "WARNING:absl:Found untraced functions such as gru_cell_layer_call_fn, gru_cell_layer_call_and_return_conditional_losses while saving (showing 2 of 2). These functions will not be directly callable after loading.\n"
     ]
    },
    {
     "name": "stdout",
     "output_type": "stream",
     "text": [
      "INFO:tensorflow:Assets written to: best_model\\assets\n"
     ]
    },
    {
     "name": "stderr",
     "output_type": "stream",
     "text": [
      "INFO:tensorflow:Assets written to: best_model\\assets\n",
      "WARNING:absl:<keras.layers.recurrent.GRUCell object at 0x0000015E57CAE088> has the same name 'GRUCell' as a built-in Keras object. Consider renaming <class 'keras.layers.recurrent.GRUCell'> to avoid naming conflicts when loading with `tf.keras.models.load_model`. If renaming is not possible, pass the object in the `custom_objects` parameter of the load function.\n",
      "WARNING:absl:<keras.layers.recurrent.GRUCell object at 0x0000015E57CAEF48> has the same name 'GRUCell' as a built-in Keras object. Consider renaming <class 'keras.layers.recurrent.GRUCell'> to avoid naming conflicts when loading with `tf.keras.models.load_model`. If renaming is not possible, pass the object in the `custom_objects` parameter of the load function.\n"
     ]
    },
    {
     "name": "stdout",
     "output_type": "stream",
     "text": [
      "1098/1098 [==============================] - 9s 9ms/step - loss: 140.4565 - root_mean_squared_error: 11.8514\n",
      "Epoch 35/200\n",
      "1091/1098 [============================>.] - ETA: 0s - loss: 138.6052 - root_mean_squared_error: 11.7731"
     ]
    },
    {
     "name": "stderr",
     "output_type": "stream",
     "text": [
      "WARNING:absl:Found untraced functions such as gru_cell_layer_call_fn, gru_cell_layer_call_and_return_conditional_losses while saving (showing 2 of 2). These functions will not be directly callable after loading.\n"
     ]
    },
    {
     "name": "stdout",
     "output_type": "stream",
     "text": [
      "INFO:tensorflow:Assets written to: best_model\\assets\n"
     ]
    },
    {
     "name": "stderr",
     "output_type": "stream",
     "text": [
      "INFO:tensorflow:Assets written to: best_model\\assets\n",
      "WARNING:absl:<keras.layers.recurrent.GRUCell object at 0x0000015E57CAE088> has the same name 'GRUCell' as a built-in Keras object. Consider renaming <class 'keras.layers.recurrent.GRUCell'> to avoid naming conflicts when loading with `tf.keras.models.load_model`. If renaming is not possible, pass the object in the `custom_objects` parameter of the load function.\n",
      "WARNING:absl:<keras.layers.recurrent.GRUCell object at 0x0000015E57CAEF48> has the same name 'GRUCell' as a built-in Keras object. Consider renaming <class 'keras.layers.recurrent.GRUCell'> to avoid naming conflicts when loading with `tf.keras.models.load_model`. If renaming is not possible, pass the object in the `custom_objects` parameter of the load function.\n"
     ]
    },
    {
     "name": "stdout",
     "output_type": "stream",
     "text": [
      "1098/1098 [==============================] - 9s 8ms/step - loss: 138.8492 - root_mean_squared_error: 11.7834\n",
      "Epoch 36/200\n",
      "1095/1098 [============================>.] - ETA: 0s - loss: 136.9900 - root_mean_squared_error: 11.7043"
     ]
    },
    {
     "name": "stderr",
     "output_type": "stream",
     "text": [
      "WARNING:absl:Found untraced functions such as gru_cell_layer_call_fn, gru_cell_layer_call_and_return_conditional_losses while saving (showing 2 of 2). These functions will not be directly callable after loading.\n"
     ]
    },
    {
     "name": "stdout",
     "output_type": "stream",
     "text": [
      "INFO:tensorflow:Assets written to: best_model\\assets\n"
     ]
    },
    {
     "name": "stderr",
     "output_type": "stream",
     "text": [
      "INFO:tensorflow:Assets written to: best_model\\assets\n",
      "WARNING:absl:<keras.layers.recurrent.GRUCell object at 0x0000015E57CAE088> has the same name 'GRUCell' as a built-in Keras object. Consider renaming <class 'keras.layers.recurrent.GRUCell'> to avoid naming conflicts when loading with `tf.keras.models.load_model`. If renaming is not possible, pass the object in the `custom_objects` parameter of the load function.\n",
      "WARNING:absl:<keras.layers.recurrent.GRUCell object at 0x0000015E57CAEF48> has the same name 'GRUCell' as a built-in Keras object. Consider renaming <class 'keras.layers.recurrent.GRUCell'> to avoid naming conflicts when loading with `tf.keras.models.load_model`. If renaming is not possible, pass the object in the `custom_objects` parameter of the load function.\n"
     ]
    },
    {
     "name": "stdout",
     "output_type": "stream",
     "text": [
      "1098/1098 [==============================] - 9s 8ms/step - loss: 137.0631 - root_mean_squared_error: 11.7074\n",
      "Epoch 37/200\n",
      "1098/1098 [==============================] - ETA: 0s - loss: 134.5747 - root_mean_squared_error: 11.6006"
     ]
    },
    {
     "name": "stderr",
     "output_type": "stream",
     "text": [
      "WARNING:absl:Found untraced functions such as gru_cell_layer_call_fn, gru_cell_layer_call_and_return_conditional_losses while saving (showing 2 of 2). These functions will not be directly callable after loading.\n"
     ]
    },
    {
     "name": "stdout",
     "output_type": "stream",
     "text": [
      "INFO:tensorflow:Assets written to: best_model\\assets\n"
     ]
    },
    {
     "name": "stderr",
     "output_type": "stream",
     "text": [
      "INFO:tensorflow:Assets written to: best_model\\assets\n",
      "WARNING:absl:<keras.layers.recurrent.GRUCell object at 0x0000015E57CAE088> has the same name 'GRUCell' as a built-in Keras object. Consider renaming <class 'keras.layers.recurrent.GRUCell'> to avoid naming conflicts when loading with `tf.keras.models.load_model`. If renaming is not possible, pass the object in the `custom_objects` parameter of the load function.\n",
      "WARNING:absl:<keras.layers.recurrent.GRUCell object at 0x0000015E57CAEF48> has the same name 'GRUCell' as a built-in Keras object. Consider renaming <class 'keras.layers.recurrent.GRUCell'> to avoid naming conflicts when loading with `tf.keras.models.load_model`. If renaming is not possible, pass the object in the `custom_objects` parameter of the load function.\n"
     ]
    },
    {
     "name": "stdout",
     "output_type": "stream",
     "text": [
      "1098/1098 [==============================] - 9s 8ms/step - loss: 134.5747 - root_mean_squared_error: 11.6006\n",
      "Epoch 38/200\n",
      "1096/1098 [============================>.] - ETA: 0s - loss: 133.6704 - root_mean_squared_error: 11.5616"
     ]
    },
    {
     "name": "stderr",
     "output_type": "stream",
     "text": [
      "WARNING:absl:Found untraced functions such as gru_cell_layer_call_fn, gru_cell_layer_call_and_return_conditional_losses while saving (showing 2 of 2). These functions will not be directly callable after loading.\n"
     ]
    },
    {
     "name": "stdout",
     "output_type": "stream",
     "text": [
      "INFO:tensorflow:Assets written to: best_model\\assets\n"
     ]
    },
    {
     "name": "stderr",
     "output_type": "stream",
     "text": [
      "INFO:tensorflow:Assets written to: best_model\\assets\n",
      "WARNING:absl:<keras.layers.recurrent.GRUCell object at 0x0000015E57CAE088> has the same name 'GRUCell' as a built-in Keras object. Consider renaming <class 'keras.layers.recurrent.GRUCell'> to avoid naming conflicts when loading with `tf.keras.models.load_model`. If renaming is not possible, pass the object in the `custom_objects` parameter of the load function.\n",
      "WARNING:absl:<keras.layers.recurrent.GRUCell object at 0x0000015E57CAEF48> has the same name 'GRUCell' as a built-in Keras object. Consider renaming <class 'keras.layers.recurrent.GRUCell'> to avoid naming conflicts when loading with `tf.keras.models.load_model`. If renaming is not possible, pass the object in the `custom_objects` parameter of the load function.\n"
     ]
    },
    {
     "name": "stdout",
     "output_type": "stream",
     "text": [
      "1098/1098 [==============================] - 9s 9ms/step - loss: 133.6968 - root_mean_squared_error: 11.5627\n",
      "Epoch 39/200\n",
      "1091/1098 [============================>.] - ETA: 0s - loss: 130.6854 - root_mean_squared_error: 11.4318"
     ]
    },
    {
     "name": "stderr",
     "output_type": "stream",
     "text": [
      "WARNING:absl:Found untraced functions such as gru_cell_layer_call_fn, gru_cell_layer_call_and_return_conditional_losses while saving (showing 2 of 2). These functions will not be directly callable after loading.\n"
     ]
    },
    {
     "name": "stdout",
     "output_type": "stream",
     "text": [
      "INFO:tensorflow:Assets written to: best_model\\assets\n"
     ]
    },
    {
     "name": "stderr",
     "output_type": "stream",
     "text": [
      "INFO:tensorflow:Assets written to: best_model\\assets\n",
      "WARNING:absl:<keras.layers.recurrent.GRUCell object at 0x0000015E57CAE088> has the same name 'GRUCell' as a built-in Keras object. Consider renaming <class 'keras.layers.recurrent.GRUCell'> to avoid naming conflicts when loading with `tf.keras.models.load_model`. If renaming is not possible, pass the object in the `custom_objects` parameter of the load function.\n",
      "WARNING:absl:<keras.layers.recurrent.GRUCell object at 0x0000015E57CAEF48> has the same name 'GRUCell' as a built-in Keras object. Consider renaming <class 'keras.layers.recurrent.GRUCell'> to avoid naming conflicts when loading with `tf.keras.models.load_model`. If renaming is not possible, pass the object in the `custom_objects` parameter of the load function.\n"
     ]
    },
    {
     "name": "stdout",
     "output_type": "stream",
     "text": [
      "1098/1098 [==============================] - 10s 9ms/step - loss: 130.6591 - root_mean_squared_error: 11.4306\n",
      "Epoch 40/200\n",
      "1094/1098 [============================>.] - ETA: 0s - loss: 129.6827 - root_mean_squared_error: 11.3878"
     ]
    },
    {
     "name": "stderr",
     "output_type": "stream",
     "text": [
      "WARNING:absl:Found untraced functions such as gru_cell_layer_call_fn, gru_cell_layer_call_and_return_conditional_losses while saving (showing 2 of 2). These functions will not be directly callable after loading.\n"
     ]
    },
    {
     "name": "stdout",
     "output_type": "stream",
     "text": [
      "INFO:tensorflow:Assets written to: best_model\\assets\n"
     ]
    },
    {
     "name": "stderr",
     "output_type": "stream",
     "text": [
      "INFO:tensorflow:Assets written to: best_model\\assets\n",
      "WARNING:absl:<keras.layers.recurrent.GRUCell object at 0x0000015E57CAE088> has the same name 'GRUCell' as a built-in Keras object. Consider renaming <class 'keras.layers.recurrent.GRUCell'> to avoid naming conflicts when loading with `tf.keras.models.load_model`. If renaming is not possible, pass the object in the `custom_objects` parameter of the load function.\n",
      "WARNING:absl:<keras.layers.recurrent.GRUCell object at 0x0000015E57CAEF48> has the same name 'GRUCell' as a built-in Keras object. Consider renaming <class 'keras.layers.recurrent.GRUCell'> to avoid naming conflicts when loading with `tf.keras.models.load_model`. If renaming is not possible, pass the object in the `custom_objects` parameter of the load function.\n"
     ]
    },
    {
     "name": "stdout",
     "output_type": "stream",
     "text": [
      "1098/1098 [==============================] - 10s 9ms/step - loss: 129.5652 - root_mean_squared_error: 11.3827\n",
      "Epoch 41/200\n",
      "1090/1098 [============================>.] - ETA: 0s - loss: 128.3448 - root_mean_squared_error: 11.3289"
     ]
    },
    {
     "name": "stderr",
     "output_type": "stream",
     "text": [
      "WARNING:absl:Found untraced functions such as gru_cell_layer_call_fn, gru_cell_layer_call_and_return_conditional_losses while saving (showing 2 of 2). These functions will not be directly callable after loading.\n"
     ]
    },
    {
     "name": "stdout",
     "output_type": "stream",
     "text": [
      "INFO:tensorflow:Assets written to: best_model\\assets\n"
     ]
    },
    {
     "name": "stderr",
     "output_type": "stream",
     "text": [
      "INFO:tensorflow:Assets written to: best_model\\assets\n",
      "WARNING:absl:<keras.layers.recurrent.GRUCell object at 0x0000015E57CAE088> has the same name 'GRUCell' as a built-in Keras object. Consider renaming <class 'keras.layers.recurrent.GRUCell'> to avoid naming conflicts when loading with `tf.keras.models.load_model`. If renaming is not possible, pass the object in the `custom_objects` parameter of the load function.\n",
      "WARNING:absl:<keras.layers.recurrent.GRUCell object at 0x0000015E57CAEF48> has the same name 'GRUCell' as a built-in Keras object. Consider renaming <class 'keras.layers.recurrent.GRUCell'> to avoid naming conflicts when loading with `tf.keras.models.load_model`. If renaming is not possible, pass the object in the `custom_objects` parameter of the load function.\n"
     ]
    },
    {
     "name": "stdout",
     "output_type": "stream",
     "text": [
      "1098/1098 [==============================] - 9s 8ms/step - loss: 128.2876 - root_mean_squared_error: 11.3264\n",
      "Epoch 42/200\n",
      "1093/1098 [============================>.] - ETA: 0s - loss: 127.1739 - root_mean_squared_error: 11.2771"
     ]
    },
    {
     "name": "stderr",
     "output_type": "stream",
     "text": [
      "WARNING:absl:Found untraced functions such as gru_cell_layer_call_fn, gru_cell_layer_call_and_return_conditional_losses while saving (showing 2 of 2). These functions will not be directly callable after loading.\n"
     ]
    },
    {
     "name": "stdout",
     "output_type": "stream",
     "text": [
      "INFO:tensorflow:Assets written to: best_model\\assets\n"
     ]
    },
    {
     "name": "stderr",
     "output_type": "stream",
     "text": [
      "INFO:tensorflow:Assets written to: best_model\\assets\n",
      "WARNING:absl:<keras.layers.recurrent.GRUCell object at 0x0000015E57CAE088> has the same name 'GRUCell' as a built-in Keras object. Consider renaming <class 'keras.layers.recurrent.GRUCell'> to avoid naming conflicts when loading with `tf.keras.models.load_model`. If renaming is not possible, pass the object in the `custom_objects` parameter of the load function.\n",
      "WARNING:absl:<keras.layers.recurrent.GRUCell object at 0x0000015E57CAEF48> has the same name 'GRUCell' as a built-in Keras object. Consider renaming <class 'keras.layers.recurrent.GRUCell'> to avoid naming conflicts when loading with `tf.keras.models.load_model`. If renaming is not possible, pass the object in the `custom_objects` parameter of the load function.\n"
     ]
    },
    {
     "name": "stdout",
     "output_type": "stream",
     "text": [
      "1098/1098 [==============================] - 9s 9ms/step - loss: 127.1411 - root_mean_squared_error: 11.2757\n",
      "Epoch 43/200\n",
      "1090/1098 [============================>.] - ETA: 0s - loss: 125.3241 - root_mean_squared_error: 11.1948"
     ]
    },
    {
     "name": "stderr",
     "output_type": "stream",
     "text": [
      "WARNING:absl:Found untraced functions such as gru_cell_layer_call_fn, gru_cell_layer_call_and_return_conditional_losses while saving (showing 2 of 2). These functions will not be directly callable after loading.\n"
     ]
    },
    {
     "name": "stdout",
     "output_type": "stream",
     "text": [
      "INFO:tensorflow:Assets written to: best_model\\assets\n"
     ]
    },
    {
     "name": "stderr",
     "output_type": "stream",
     "text": [
      "INFO:tensorflow:Assets written to: best_model\\assets\n",
      "WARNING:absl:<keras.layers.recurrent.GRUCell object at 0x0000015E57CAE088> has the same name 'GRUCell' as a built-in Keras object. Consider renaming <class 'keras.layers.recurrent.GRUCell'> to avoid naming conflicts when loading with `tf.keras.models.load_model`. If renaming is not possible, pass the object in the `custom_objects` parameter of the load function.\n",
      "WARNING:absl:<keras.layers.recurrent.GRUCell object at 0x0000015E57CAEF48> has the same name 'GRUCell' as a built-in Keras object. Consider renaming <class 'keras.layers.recurrent.GRUCell'> to avoid naming conflicts when loading with `tf.keras.models.load_model`. If renaming is not possible, pass the object in the `custom_objects` parameter of the load function.\n"
     ]
    },
    {
     "name": "stdout",
     "output_type": "stream",
     "text": [
      "1098/1098 [==============================] - 10s 9ms/step - loss: 125.4279 - root_mean_squared_error: 11.1995\n",
      "Epoch 44/200\n",
      "1097/1098 [============================>.] - ETA: 0s - loss: 123.1036 - root_mean_squared_error: 11.0952"
     ]
    },
    {
     "name": "stderr",
     "output_type": "stream",
     "text": [
      "WARNING:absl:Found untraced functions such as gru_cell_layer_call_fn, gru_cell_layer_call_and_return_conditional_losses while saving (showing 2 of 2). These functions will not be directly callable after loading.\n"
     ]
    },
    {
     "name": "stdout",
     "output_type": "stream",
     "text": [
      "INFO:tensorflow:Assets written to: best_model\\assets\n"
     ]
    },
    {
     "name": "stderr",
     "output_type": "stream",
     "text": [
      "INFO:tensorflow:Assets written to: best_model\\assets\n",
      "WARNING:absl:<keras.layers.recurrent.GRUCell object at 0x0000015E57CAE088> has the same name 'GRUCell' as a built-in Keras object. Consider renaming <class 'keras.layers.recurrent.GRUCell'> to avoid naming conflicts when loading with `tf.keras.models.load_model`. If renaming is not possible, pass the object in the `custom_objects` parameter of the load function.\n",
      "WARNING:absl:<keras.layers.recurrent.GRUCell object at 0x0000015E57CAEF48> has the same name 'GRUCell' as a built-in Keras object. Consider renaming <class 'keras.layers.recurrent.GRUCell'> to avoid naming conflicts when loading with `tf.keras.models.load_model`. If renaming is not possible, pass the object in the `custom_objects` parameter of the load function.\n"
     ]
    },
    {
     "name": "stdout",
     "output_type": "stream",
     "text": [
      "1098/1098 [==============================] - 9s 9ms/step - loss: 123.0720 - root_mean_squared_error: 11.0938\n",
      "Epoch 45/200\n",
      "1094/1098 [============================>.] - ETA: 0s - loss: 122.4669 - root_mean_squared_error: 11.0665"
     ]
    },
    {
     "name": "stderr",
     "output_type": "stream",
     "text": [
      "WARNING:absl:Found untraced functions such as gru_cell_layer_call_fn, gru_cell_layer_call_and_return_conditional_losses while saving (showing 2 of 2). These functions will not be directly callable after loading.\n"
     ]
    },
    {
     "name": "stdout",
     "output_type": "stream",
     "text": [
      "INFO:tensorflow:Assets written to: best_model\\assets\n"
     ]
    },
    {
     "name": "stderr",
     "output_type": "stream",
     "text": [
      "INFO:tensorflow:Assets written to: best_model\\assets\n",
      "WARNING:absl:<keras.layers.recurrent.GRUCell object at 0x0000015E57CAE088> has the same name 'GRUCell' as a built-in Keras object. Consider renaming <class 'keras.layers.recurrent.GRUCell'> to avoid naming conflicts when loading with `tf.keras.models.load_model`. If renaming is not possible, pass the object in the `custom_objects` parameter of the load function.\n",
      "WARNING:absl:<keras.layers.recurrent.GRUCell object at 0x0000015E57CAEF48> has the same name 'GRUCell' as a built-in Keras object. Consider renaming <class 'keras.layers.recurrent.GRUCell'> to avoid naming conflicts when loading with `tf.keras.models.load_model`. If renaming is not possible, pass the object in the `custom_objects` parameter of the load function.\n"
     ]
    },
    {
     "name": "stdout",
     "output_type": "stream",
     "text": [
      "1098/1098 [==============================] - 9s 8ms/step - loss: 122.3784 - root_mean_squared_error: 11.0625\n",
      "Epoch 46/200\n",
      "1097/1098 [============================>.] - ETA: 0s - loss: 121.1786 - root_mean_squared_error: 11.0081"
     ]
    },
    {
     "name": "stderr",
     "output_type": "stream",
     "text": [
      "WARNING:absl:Found untraced functions such as gru_cell_layer_call_fn, gru_cell_layer_call_and_return_conditional_losses while saving (showing 2 of 2). These functions will not be directly callable after loading.\n"
     ]
    },
    {
     "name": "stdout",
     "output_type": "stream",
     "text": [
      "INFO:tensorflow:Assets written to: best_model\\assets\n"
     ]
    },
    {
     "name": "stderr",
     "output_type": "stream",
     "text": [
      "INFO:tensorflow:Assets written to: best_model\\assets\n",
      "WARNING:absl:<keras.layers.recurrent.GRUCell object at 0x0000015E57CAE088> has the same name 'GRUCell' as a built-in Keras object. Consider renaming <class 'keras.layers.recurrent.GRUCell'> to avoid naming conflicts when loading with `tf.keras.models.load_model`. If renaming is not possible, pass the object in the `custom_objects` parameter of the load function.\n",
      "WARNING:absl:<keras.layers.recurrent.GRUCell object at 0x0000015E57CAEF48> has the same name 'GRUCell' as a built-in Keras object. Consider renaming <class 'keras.layers.recurrent.GRUCell'> to avoid naming conflicts when loading with `tf.keras.models.load_model`. If renaming is not possible, pass the object in the `custom_objects` parameter of the load function.\n"
     ]
    },
    {
     "name": "stdout",
     "output_type": "stream",
     "text": [
      "1098/1098 [==============================] - 9s 8ms/step - loss: 121.2193 - root_mean_squared_error: 11.0100\n",
      "Epoch 47/200\n",
      "1092/1098 [============================>.] - ETA: 0s - loss: 120.1111 - root_mean_squared_error: 10.9595"
     ]
    },
    {
     "name": "stderr",
     "output_type": "stream",
     "text": [
      "WARNING:absl:Found untraced functions such as gru_cell_layer_call_fn, gru_cell_layer_call_and_return_conditional_losses while saving (showing 2 of 2). These functions will not be directly callable after loading.\n"
     ]
    },
    {
     "name": "stdout",
     "output_type": "stream",
     "text": [
      "INFO:tensorflow:Assets written to: best_model\\assets\n"
     ]
    },
    {
     "name": "stderr",
     "output_type": "stream",
     "text": [
      "INFO:tensorflow:Assets written to: best_model\\assets\n",
      "WARNING:absl:<keras.layers.recurrent.GRUCell object at 0x0000015E57CAE088> has the same name 'GRUCell' as a built-in Keras object. Consider renaming <class 'keras.layers.recurrent.GRUCell'> to avoid naming conflicts when loading with `tf.keras.models.load_model`. If renaming is not possible, pass the object in the `custom_objects` parameter of the load function.\n",
      "WARNING:absl:<keras.layers.recurrent.GRUCell object at 0x0000015E57CAEF48> has the same name 'GRUCell' as a built-in Keras object. Consider renaming <class 'keras.layers.recurrent.GRUCell'> to avoid naming conflicts when loading with `tf.keras.models.load_model`. If renaming is not possible, pass the object in the `custom_objects` parameter of the load function.\n"
     ]
    },
    {
     "name": "stdout",
     "output_type": "stream",
     "text": [
      "1098/1098 [==============================] - 9s 9ms/step - loss: 120.0791 - root_mean_squared_error: 10.9581\n",
      "Epoch 48/200\n",
      "1093/1098 [============================>.] - ETA: 0s - loss: 118.5663 - root_mean_squared_error: 10.8888"
     ]
    },
    {
     "name": "stderr",
     "output_type": "stream",
     "text": [
      "WARNING:absl:Found untraced functions such as gru_cell_layer_call_fn, gru_cell_layer_call_and_return_conditional_losses while saving (showing 2 of 2). These functions will not be directly callable after loading.\n"
     ]
    },
    {
     "name": "stdout",
     "output_type": "stream",
     "text": [
      "INFO:tensorflow:Assets written to: best_model\\assets\n"
     ]
    },
    {
     "name": "stderr",
     "output_type": "stream",
     "text": [
      "INFO:tensorflow:Assets written to: best_model\\assets\n",
      "WARNING:absl:<keras.layers.recurrent.GRUCell object at 0x0000015E57CAE088> has the same name 'GRUCell' as a built-in Keras object. Consider renaming <class 'keras.layers.recurrent.GRUCell'> to avoid naming conflicts when loading with `tf.keras.models.load_model`. If renaming is not possible, pass the object in the `custom_objects` parameter of the load function.\n",
      "WARNING:absl:<keras.layers.recurrent.GRUCell object at 0x0000015E57CAEF48> has the same name 'GRUCell' as a built-in Keras object. Consider renaming <class 'keras.layers.recurrent.GRUCell'> to avoid naming conflicts when loading with `tf.keras.models.load_model`. If renaming is not possible, pass the object in the `custom_objects` parameter of the load function.\n"
     ]
    },
    {
     "name": "stdout",
     "output_type": "stream",
     "text": [
      "1098/1098 [==============================] - 9s 8ms/step - loss: 118.6312 - root_mean_squared_error: 10.8918\n",
      "Epoch 49/200\n",
      "1092/1098 [============================>.] - ETA: 0s - loss: 117.4045 - root_mean_squared_error: 10.8353"
     ]
    },
    {
     "name": "stderr",
     "output_type": "stream",
     "text": [
      "WARNING:absl:Found untraced functions such as gru_cell_layer_call_fn, gru_cell_layer_call_and_return_conditional_losses while saving (showing 2 of 2). These functions will not be directly callable after loading.\n"
     ]
    },
    {
     "name": "stdout",
     "output_type": "stream",
     "text": [
      "INFO:tensorflow:Assets written to: best_model\\assets\n"
     ]
    },
    {
     "name": "stderr",
     "output_type": "stream",
     "text": [
      "INFO:tensorflow:Assets written to: best_model\\assets\n",
      "WARNING:absl:<keras.layers.recurrent.GRUCell object at 0x0000015E57CAE088> has the same name 'GRUCell' as a built-in Keras object. Consider renaming <class 'keras.layers.recurrent.GRUCell'> to avoid naming conflicts when loading with `tf.keras.models.load_model`. If renaming is not possible, pass the object in the `custom_objects` parameter of the load function.\n",
      "WARNING:absl:<keras.layers.recurrent.GRUCell object at 0x0000015E57CAEF48> has the same name 'GRUCell' as a built-in Keras object. Consider renaming <class 'keras.layers.recurrent.GRUCell'> to avoid naming conflicts when loading with `tf.keras.models.load_model`. If renaming is not possible, pass the object in the `custom_objects` parameter of the load function.\n"
     ]
    },
    {
     "name": "stdout",
     "output_type": "stream",
     "text": [
      "1098/1098 [==============================] - 10s 9ms/step - loss: 117.2917 - root_mean_squared_error: 10.8301\n",
      "Epoch 50/200\n",
      "1089/1098 [============================>.] - ETA: 0s - loss: 116.0705 - root_mean_squared_error: 10.7736"
     ]
    },
    {
     "name": "stderr",
     "output_type": "stream",
     "text": [
      "WARNING:absl:Found untraced functions such as gru_cell_layer_call_fn, gru_cell_layer_call_and_return_conditional_losses while saving (showing 2 of 2). These functions will not be directly callable after loading.\n"
     ]
    },
    {
     "name": "stdout",
     "output_type": "stream",
     "text": [
      "INFO:tensorflow:Assets written to: best_model\\assets\n"
     ]
    },
    {
     "name": "stderr",
     "output_type": "stream",
     "text": [
      "INFO:tensorflow:Assets written to: best_model\\assets\n",
      "WARNING:absl:<keras.layers.recurrent.GRUCell object at 0x0000015E57CAE088> has the same name 'GRUCell' as a built-in Keras object. Consider renaming <class 'keras.layers.recurrent.GRUCell'> to avoid naming conflicts when loading with `tf.keras.models.load_model`. If renaming is not possible, pass the object in the `custom_objects` parameter of the load function.\n",
      "WARNING:absl:<keras.layers.recurrent.GRUCell object at 0x0000015E57CAEF48> has the same name 'GRUCell' as a built-in Keras object. Consider renaming <class 'keras.layers.recurrent.GRUCell'> to avoid naming conflicts when loading with `tf.keras.models.load_model`. If renaming is not possible, pass the object in the `custom_objects` parameter of the load function.\n"
     ]
    },
    {
     "name": "stdout",
     "output_type": "stream",
     "text": [
      "1098/1098 [==============================] - 9s 8ms/step - loss: 115.7655 - root_mean_squared_error: 10.7594\n",
      "Epoch 51/200\n",
      "1093/1098 [============================>.] - ETA: 0s - loss: 115.1617 - root_mean_squared_error: 10.7313"
     ]
    },
    {
     "name": "stderr",
     "output_type": "stream",
     "text": [
      "WARNING:absl:Found untraced functions such as gru_cell_layer_call_fn, gru_cell_layer_call_and_return_conditional_losses while saving (showing 2 of 2). These functions will not be directly callable after loading.\n"
     ]
    },
    {
     "name": "stdout",
     "output_type": "stream",
     "text": [
      "INFO:tensorflow:Assets written to: best_model\\assets\n"
     ]
    },
    {
     "name": "stderr",
     "output_type": "stream",
     "text": [
      "INFO:tensorflow:Assets written to: best_model\\assets\n",
      "WARNING:absl:<keras.layers.recurrent.GRUCell object at 0x0000015E57CAE088> has the same name 'GRUCell' as a built-in Keras object. Consider renaming <class 'keras.layers.recurrent.GRUCell'> to avoid naming conflicts when loading with `tf.keras.models.load_model`. If renaming is not possible, pass the object in the `custom_objects` parameter of the load function.\n",
      "WARNING:absl:<keras.layers.recurrent.GRUCell object at 0x0000015E57CAEF48> has the same name 'GRUCell' as a built-in Keras object. Consider renaming <class 'keras.layers.recurrent.GRUCell'> to avoid naming conflicts when loading with `tf.keras.models.load_model`. If renaming is not possible, pass the object in the `custom_objects` parameter of the load function.\n"
     ]
    },
    {
     "name": "stdout",
     "output_type": "stream",
     "text": [
      "1098/1098 [==============================] - 10s 9ms/step - loss: 115.1624 - root_mean_squared_error: 10.7314\n",
      "Epoch 52/200\n",
      "1097/1098 [============================>.] - ETA: 0s - loss: 113.9672 - root_mean_squared_error: 10.6755"
     ]
    },
    {
     "name": "stderr",
     "output_type": "stream",
     "text": [
      "WARNING:absl:Found untraced functions such as gru_cell_layer_call_fn, gru_cell_layer_call_and_return_conditional_losses while saving (showing 2 of 2). These functions will not be directly callable after loading.\n"
     ]
    },
    {
     "name": "stdout",
     "output_type": "stream",
     "text": [
      "INFO:tensorflow:Assets written to: best_model\\assets\n"
     ]
    },
    {
     "name": "stderr",
     "output_type": "stream",
     "text": [
      "INFO:tensorflow:Assets written to: best_model\\assets\n",
      "WARNING:absl:<keras.layers.recurrent.GRUCell object at 0x0000015E57CAE088> has the same name 'GRUCell' as a built-in Keras object. Consider renaming <class 'keras.layers.recurrent.GRUCell'> to avoid naming conflicts when loading with `tf.keras.models.load_model`. If renaming is not possible, pass the object in the `custom_objects` parameter of the load function.\n",
      "WARNING:absl:<keras.layers.recurrent.GRUCell object at 0x0000015E57CAEF48> has the same name 'GRUCell' as a built-in Keras object. Consider renaming <class 'keras.layers.recurrent.GRUCell'> to avoid naming conflicts when loading with `tf.keras.models.load_model`. If renaming is not possible, pass the object in the `custom_objects` parameter of the load function.\n"
     ]
    },
    {
     "name": "stdout",
     "output_type": "stream",
     "text": [
      "1098/1098 [==============================] - 12s 11ms/step - loss: 113.9694 - root_mean_squared_error: 10.6756\n",
      "Epoch 53/200\n",
      "1098/1098 [==============================] - ETA: 0s - loss: 112.1202 - root_mean_squared_error: 10.5887"
     ]
    },
    {
     "name": "stderr",
     "output_type": "stream",
     "text": [
      "WARNING:absl:Found untraced functions such as gru_cell_layer_call_fn, gru_cell_layer_call_and_return_conditional_losses while saving (showing 2 of 2). These functions will not be directly callable after loading.\n"
     ]
    },
    {
     "name": "stdout",
     "output_type": "stream",
     "text": [
      "INFO:tensorflow:Assets written to: best_model\\assets\n"
     ]
    },
    {
     "name": "stderr",
     "output_type": "stream",
     "text": [
      "INFO:tensorflow:Assets written to: best_model\\assets\n",
      "WARNING:absl:<keras.layers.recurrent.GRUCell object at 0x0000015E57CAE088> has the same name 'GRUCell' as a built-in Keras object. Consider renaming <class 'keras.layers.recurrent.GRUCell'> to avoid naming conflicts when loading with `tf.keras.models.load_model`. If renaming is not possible, pass the object in the `custom_objects` parameter of the load function.\n",
      "WARNING:absl:<keras.layers.recurrent.GRUCell object at 0x0000015E57CAEF48> has the same name 'GRUCell' as a built-in Keras object. Consider renaming <class 'keras.layers.recurrent.GRUCell'> to avoid naming conflicts when loading with `tf.keras.models.load_model`. If renaming is not possible, pass the object in the `custom_objects` parameter of the load function.\n"
     ]
    },
    {
     "name": "stdout",
     "output_type": "stream",
     "text": [
      "1098/1098 [==============================] - 11s 10ms/step - loss: 112.1202 - root_mean_squared_error: 10.5887\n",
      "Epoch 54/200\n",
      "1096/1098 [============================>.] - ETA: 0s - loss: 111.2807 - root_mean_squared_error: 10.5490"
     ]
    },
    {
     "name": "stderr",
     "output_type": "stream",
     "text": [
      "WARNING:absl:Found untraced functions such as gru_cell_layer_call_fn, gru_cell_layer_call_and_return_conditional_losses while saving (showing 2 of 2). These functions will not be directly callable after loading.\n"
     ]
    },
    {
     "name": "stdout",
     "output_type": "stream",
     "text": [
      "INFO:tensorflow:Assets written to: best_model\\assets\n"
     ]
    },
    {
     "name": "stderr",
     "output_type": "stream",
     "text": [
      "INFO:tensorflow:Assets written to: best_model\\assets\n",
      "WARNING:absl:<keras.layers.recurrent.GRUCell object at 0x0000015E57CAE088> has the same name 'GRUCell' as a built-in Keras object. Consider renaming <class 'keras.layers.recurrent.GRUCell'> to avoid naming conflicts when loading with `tf.keras.models.load_model`. If renaming is not possible, pass the object in the `custom_objects` parameter of the load function.\n",
      "WARNING:absl:<keras.layers.recurrent.GRUCell object at 0x0000015E57CAEF48> has the same name 'GRUCell' as a built-in Keras object. Consider renaming <class 'keras.layers.recurrent.GRUCell'> to avoid naming conflicts when loading with `tf.keras.models.load_model`. If renaming is not possible, pass the object in the `custom_objects` parameter of the load function.\n"
     ]
    },
    {
     "name": "stdout",
     "output_type": "stream",
     "text": [
      "1098/1098 [==============================] - 10s 9ms/step - loss: 111.3043 - root_mean_squared_error: 10.5501\n",
      "Epoch 55/200\n",
      "1093/1098 [============================>.] - ETA: 0s - loss: 110.2112 - root_mean_squared_error: 10.4982"
     ]
    },
    {
     "name": "stderr",
     "output_type": "stream",
     "text": [
      "WARNING:absl:Found untraced functions such as gru_cell_layer_call_fn, gru_cell_layer_call_and_return_conditional_losses while saving (showing 2 of 2). These functions will not be directly callable after loading.\n"
     ]
    },
    {
     "name": "stdout",
     "output_type": "stream",
     "text": [
      "INFO:tensorflow:Assets written to: best_model\\assets\n"
     ]
    },
    {
     "name": "stderr",
     "output_type": "stream",
     "text": [
      "INFO:tensorflow:Assets written to: best_model\\assets\n",
      "WARNING:absl:<keras.layers.recurrent.GRUCell object at 0x0000015E57CAE088> has the same name 'GRUCell' as a built-in Keras object. Consider renaming <class 'keras.layers.recurrent.GRUCell'> to avoid naming conflicts when loading with `tf.keras.models.load_model`. If renaming is not possible, pass the object in the `custom_objects` parameter of the load function.\n",
      "WARNING:absl:<keras.layers.recurrent.GRUCell object at 0x0000015E57CAEF48> has the same name 'GRUCell' as a built-in Keras object. Consider renaming <class 'keras.layers.recurrent.GRUCell'> to avoid naming conflicts when loading with `tf.keras.models.load_model`. If renaming is not possible, pass the object in the `custom_objects` parameter of the load function.\n"
     ]
    },
    {
     "name": "stdout",
     "output_type": "stream",
     "text": [
      "1098/1098 [==============================] - 10s 9ms/step - loss: 110.0768 - root_mean_squared_error: 10.4917\n",
      "Epoch 56/200\n",
      "1093/1098 [============================>.] - ETA: 0s - loss: 108.9883 - root_mean_squared_error: 10.4397"
     ]
    },
    {
     "name": "stderr",
     "output_type": "stream",
     "text": [
      "WARNING:absl:Found untraced functions such as gru_cell_layer_call_fn, gru_cell_layer_call_and_return_conditional_losses while saving (showing 2 of 2). These functions will not be directly callable after loading.\n"
     ]
    },
    {
     "name": "stdout",
     "output_type": "stream",
     "text": [
      "INFO:tensorflow:Assets written to: best_model\\assets\n"
     ]
    },
    {
     "name": "stderr",
     "output_type": "stream",
     "text": [
      "INFO:tensorflow:Assets written to: best_model\\assets\n",
      "WARNING:absl:<keras.layers.recurrent.GRUCell object at 0x0000015E57CAE088> has the same name 'GRUCell' as a built-in Keras object. Consider renaming <class 'keras.layers.recurrent.GRUCell'> to avoid naming conflicts when loading with `tf.keras.models.load_model`. If renaming is not possible, pass the object in the `custom_objects` parameter of the load function.\n",
      "WARNING:absl:<keras.layers.recurrent.GRUCell object at 0x0000015E57CAEF48> has the same name 'GRUCell' as a built-in Keras object. Consider renaming <class 'keras.layers.recurrent.GRUCell'> to avoid naming conflicts when loading with `tf.keras.models.load_model`. If renaming is not possible, pass the object in the `custom_objects` parameter of the load function.\n"
     ]
    },
    {
     "name": "stdout",
     "output_type": "stream",
     "text": [
      "1098/1098 [==============================] - 11s 10ms/step - loss: 108.8701 - root_mean_squared_error: 10.4341\n",
      "Epoch 57/200\n",
      "1093/1098 [============================>.] - ETA: 0s - loss: 107.8143 - root_mean_squared_error: 10.3834"
     ]
    },
    {
     "name": "stderr",
     "output_type": "stream",
     "text": [
      "WARNING:absl:Found untraced functions such as gru_cell_layer_call_fn, gru_cell_layer_call_and_return_conditional_losses while saving (showing 2 of 2). These functions will not be directly callable after loading.\n"
     ]
    },
    {
     "name": "stdout",
     "output_type": "stream",
     "text": [
      "INFO:tensorflow:Assets written to: best_model\\assets\n"
     ]
    },
    {
     "name": "stderr",
     "output_type": "stream",
     "text": [
      "INFO:tensorflow:Assets written to: best_model\\assets\n",
      "WARNING:absl:<keras.layers.recurrent.GRUCell object at 0x0000015E57CAE088> has the same name 'GRUCell' as a built-in Keras object. Consider renaming <class 'keras.layers.recurrent.GRUCell'> to avoid naming conflicts when loading with `tf.keras.models.load_model`. If renaming is not possible, pass the object in the `custom_objects` parameter of the load function.\n",
      "WARNING:absl:<keras.layers.recurrent.GRUCell object at 0x0000015E57CAEF48> has the same name 'GRUCell' as a built-in Keras object. Consider renaming <class 'keras.layers.recurrent.GRUCell'> to avoid naming conflicts when loading with `tf.keras.models.load_model`. If renaming is not possible, pass the object in the `custom_objects` parameter of the load function.\n"
     ]
    },
    {
     "name": "stdout",
     "output_type": "stream",
     "text": [
      "1098/1098 [==============================] - 11s 10ms/step - loss: 107.9555 - root_mean_squared_error: 10.3902\n",
      "Epoch 58/200\n",
      "1087/1098 [============================>.] - ETA: 0s - loss: 106.9061 - root_mean_squared_error: 10.3395"
     ]
    },
    {
     "name": "stderr",
     "output_type": "stream",
     "text": [
      "WARNING:absl:Found untraced functions such as gru_cell_layer_call_fn, gru_cell_layer_call_and_return_conditional_losses while saving (showing 2 of 2). These functions will not be directly callable after loading.\n"
     ]
    },
    {
     "name": "stdout",
     "output_type": "stream",
     "text": [
      "INFO:tensorflow:Assets written to: best_model\\assets\n"
     ]
    },
    {
     "name": "stderr",
     "output_type": "stream",
     "text": [
      "INFO:tensorflow:Assets written to: best_model\\assets\n",
      "WARNING:absl:<keras.layers.recurrent.GRUCell object at 0x0000015E57CAE088> has the same name 'GRUCell' as a built-in Keras object. Consider renaming <class 'keras.layers.recurrent.GRUCell'> to avoid naming conflicts when loading with `tf.keras.models.load_model`. If renaming is not possible, pass the object in the `custom_objects` parameter of the load function.\n",
      "WARNING:absl:<keras.layers.recurrent.GRUCell object at 0x0000015E57CAEF48> has the same name 'GRUCell' as a built-in Keras object. Consider renaming <class 'keras.layers.recurrent.GRUCell'> to avoid naming conflicts when loading with `tf.keras.models.load_model`. If renaming is not possible, pass the object in the `custom_objects` parameter of the load function.\n"
     ]
    },
    {
     "name": "stdout",
     "output_type": "stream",
     "text": [
      "1098/1098 [==============================] - 10s 10ms/step - loss: 107.2830 - root_mean_squared_error: 10.3577\n",
      "Epoch 59/200\n",
      "1094/1098 [============================>.] - ETA: 0s - loss: 106.0757 - root_mean_squared_error: 10.2993"
     ]
    },
    {
     "name": "stderr",
     "output_type": "stream",
     "text": [
      "WARNING:absl:Found untraced functions such as gru_cell_layer_call_fn, gru_cell_layer_call_and_return_conditional_losses while saving (showing 2 of 2). These functions will not be directly callable after loading.\n"
     ]
    },
    {
     "name": "stdout",
     "output_type": "stream",
     "text": [
      "INFO:tensorflow:Assets written to: best_model\\assets\n"
     ]
    },
    {
     "name": "stderr",
     "output_type": "stream",
     "text": [
      "INFO:tensorflow:Assets written to: best_model\\assets\n",
      "WARNING:absl:<keras.layers.recurrent.GRUCell object at 0x0000015E57CAE088> has the same name 'GRUCell' as a built-in Keras object. Consider renaming <class 'keras.layers.recurrent.GRUCell'> to avoid naming conflicts when loading with `tf.keras.models.load_model`. If renaming is not possible, pass the object in the `custom_objects` parameter of the load function.\n",
      "WARNING:absl:<keras.layers.recurrent.GRUCell object at 0x0000015E57CAEF48> has the same name 'GRUCell' as a built-in Keras object. Consider renaming <class 'keras.layers.recurrent.GRUCell'> to avoid naming conflicts when loading with `tf.keras.models.load_model`. If renaming is not possible, pass the object in the `custom_objects` parameter of the load function.\n"
     ]
    },
    {
     "name": "stdout",
     "output_type": "stream",
     "text": [
      "1098/1098 [==============================] - 10s 9ms/step - loss: 106.0525 - root_mean_squared_error: 10.2982\n",
      "Epoch 60/200\n",
      "1092/1098 [============================>.] - ETA: 0s - loss: 105.2666 - root_mean_squared_error: 10.2600"
     ]
    },
    {
     "name": "stderr",
     "output_type": "stream",
     "text": [
      "WARNING:absl:Found untraced functions such as gru_cell_layer_call_fn, gru_cell_layer_call_and_return_conditional_losses while saving (showing 2 of 2). These functions will not be directly callable after loading.\n"
     ]
    },
    {
     "name": "stdout",
     "output_type": "stream",
     "text": [
      "INFO:tensorflow:Assets written to: best_model\\assets\n"
     ]
    },
    {
     "name": "stderr",
     "output_type": "stream",
     "text": [
      "INFO:tensorflow:Assets written to: best_model\\assets\n",
      "WARNING:absl:<keras.layers.recurrent.GRUCell object at 0x0000015E57CAE088> has the same name 'GRUCell' as a built-in Keras object. Consider renaming <class 'keras.layers.recurrent.GRUCell'> to avoid naming conflicts when loading with `tf.keras.models.load_model`. If renaming is not possible, pass the object in the `custom_objects` parameter of the load function.\n",
      "WARNING:absl:<keras.layers.recurrent.GRUCell object at 0x0000015E57CAEF48> has the same name 'GRUCell' as a built-in Keras object. Consider renaming <class 'keras.layers.recurrent.GRUCell'> to avoid naming conflicts when loading with `tf.keras.models.load_model`. If renaming is not possible, pass the object in the `custom_objects` parameter of the load function.\n"
     ]
    },
    {
     "name": "stdout",
     "output_type": "stream",
     "text": [
      "1098/1098 [==============================] - 10s 9ms/step - loss: 105.0435 - root_mean_squared_error: 10.2491\n",
      "Epoch 61/200\n",
      "1092/1098 [============================>.] - ETA: 0s - loss: 104.0328 - root_mean_squared_error: 10.1996"
     ]
    },
    {
     "name": "stderr",
     "output_type": "stream",
     "text": [
      "WARNING:absl:Found untraced functions such as gru_cell_layer_call_fn, gru_cell_layer_call_and_return_conditional_losses while saving (showing 2 of 2). These functions will not be directly callable after loading.\n"
     ]
    },
    {
     "name": "stdout",
     "output_type": "stream",
     "text": [
      "INFO:tensorflow:Assets written to: best_model\\assets\n"
     ]
    },
    {
     "name": "stderr",
     "output_type": "stream",
     "text": [
      "INFO:tensorflow:Assets written to: best_model\\assets\n",
      "WARNING:absl:<keras.layers.recurrent.GRUCell object at 0x0000015E57CAE088> has the same name 'GRUCell' as a built-in Keras object. Consider renaming <class 'keras.layers.recurrent.GRUCell'> to avoid naming conflicts when loading with `tf.keras.models.load_model`. If renaming is not possible, pass the object in the `custom_objects` parameter of the load function.\n",
      "WARNING:absl:<keras.layers.recurrent.GRUCell object at 0x0000015E57CAEF48> has the same name 'GRUCell' as a built-in Keras object. Consider renaming <class 'keras.layers.recurrent.GRUCell'> to avoid naming conflicts when loading with `tf.keras.models.load_model`. If renaming is not possible, pass the object in the `custom_objects` parameter of the load function.\n"
     ]
    },
    {
     "name": "stdout",
     "output_type": "stream",
     "text": [
      "1098/1098 [==============================] - 10s 9ms/step - loss: 103.9373 - root_mean_squared_error: 10.1950\n",
      "Epoch 62/200\n",
      "1098/1098 [==============================] - 6s 5ms/step - loss: 103.9400 - root_mean_squared_error: 10.1951\n",
      "Epoch 63/200\n",
      "1094/1098 [============================>.] - ETA: 0s - loss: 102.6855 - root_mean_squared_error: 10.1334"
     ]
    },
    {
     "name": "stderr",
     "output_type": "stream",
     "text": [
      "WARNING:absl:Found untraced functions such as gru_cell_layer_call_fn, gru_cell_layer_call_and_return_conditional_losses while saving (showing 2 of 2). These functions will not be directly callable after loading.\n"
     ]
    },
    {
     "name": "stdout",
     "output_type": "stream",
     "text": [
      "INFO:tensorflow:Assets written to: best_model\\assets\n"
     ]
    },
    {
     "name": "stderr",
     "output_type": "stream",
     "text": [
      "INFO:tensorflow:Assets written to: best_model\\assets\n",
      "WARNING:absl:<keras.layers.recurrent.GRUCell object at 0x0000015E57CAE088> has the same name 'GRUCell' as a built-in Keras object. Consider renaming <class 'keras.layers.recurrent.GRUCell'> to avoid naming conflicts when loading with `tf.keras.models.load_model`. If renaming is not possible, pass the object in the `custom_objects` parameter of the load function.\n",
      "WARNING:absl:<keras.layers.recurrent.GRUCell object at 0x0000015E57CAEF48> has the same name 'GRUCell' as a built-in Keras object. Consider renaming <class 'keras.layers.recurrent.GRUCell'> to avoid naming conflicts when loading with `tf.keras.models.load_model`. If renaming is not possible, pass the object in the `custom_objects` parameter of the load function.\n"
     ]
    },
    {
     "name": "stdout",
     "output_type": "stream",
     "text": [
      "1098/1098 [==============================] - 9s 9ms/step - loss: 102.8447 - root_mean_squared_error: 10.1412\n",
      "Epoch 64/200\n",
      "1097/1098 [============================>.] - ETA: 0s - loss: 101.2354 - root_mean_squared_error: 10.0616"
     ]
    },
    {
     "name": "stderr",
     "output_type": "stream",
     "text": [
      "WARNING:absl:Found untraced functions such as gru_cell_layer_call_fn, gru_cell_layer_call_and_return_conditional_losses while saving (showing 2 of 2). These functions will not be directly callable after loading.\n"
     ]
    },
    {
     "name": "stdout",
     "output_type": "stream",
     "text": [
      "INFO:tensorflow:Assets written to: best_model\\assets\n"
     ]
    },
    {
     "name": "stderr",
     "output_type": "stream",
     "text": [
      "INFO:tensorflow:Assets written to: best_model\\assets\n",
      "WARNING:absl:<keras.layers.recurrent.GRUCell object at 0x0000015E57CAE088> has the same name 'GRUCell' as a built-in Keras object. Consider renaming <class 'keras.layers.recurrent.GRUCell'> to avoid naming conflicts when loading with `tf.keras.models.load_model`. If renaming is not possible, pass the object in the `custom_objects` parameter of the load function.\n",
      "WARNING:absl:<keras.layers.recurrent.GRUCell object at 0x0000015E57CAEF48> has the same name 'GRUCell' as a built-in Keras object. Consider renaming <class 'keras.layers.recurrent.GRUCell'> to avoid naming conflicts when loading with `tf.keras.models.load_model`. If renaming is not possible, pass the object in the `custom_objects` parameter of the load function.\n"
     ]
    },
    {
     "name": "stdout",
     "output_type": "stream",
     "text": [
      "1098/1098 [==============================] - 9s 9ms/step - loss: 101.2003 - root_mean_squared_error: 10.0598\n",
      "Epoch 65/200\n",
      "1097/1098 [============================>.] - ETA: 0s - loss: 100.8559 - root_mean_squared_error: 10.0427"
     ]
    },
    {
     "name": "stderr",
     "output_type": "stream",
     "text": [
      "WARNING:absl:Found untraced functions such as gru_cell_layer_call_fn, gru_cell_layer_call_and_return_conditional_losses while saving (showing 2 of 2). These functions will not be directly callable after loading.\n"
     ]
    },
    {
     "name": "stdout",
     "output_type": "stream",
     "text": [
      "INFO:tensorflow:Assets written to: best_model\\assets\n"
     ]
    },
    {
     "name": "stderr",
     "output_type": "stream",
     "text": [
      "INFO:tensorflow:Assets written to: best_model\\assets\n",
      "WARNING:absl:<keras.layers.recurrent.GRUCell object at 0x0000015E57CAE088> has the same name 'GRUCell' as a built-in Keras object. Consider renaming <class 'keras.layers.recurrent.GRUCell'> to avoid naming conflicts when loading with `tf.keras.models.load_model`. If renaming is not possible, pass the object in the `custom_objects` parameter of the load function.\n",
      "WARNING:absl:<keras.layers.recurrent.GRUCell object at 0x0000015E57CAEF48> has the same name 'GRUCell' as a built-in Keras object. Consider renaming <class 'keras.layers.recurrent.GRUCell'> to avoid naming conflicts when loading with `tf.keras.models.load_model`. If renaming is not possible, pass the object in the `custom_objects` parameter of the load function.\n"
     ]
    },
    {
     "name": "stdout",
     "output_type": "stream",
     "text": [
      "1098/1098 [==============================] - 10s 9ms/step - loss: 100.8313 - root_mean_squared_error: 10.0415\n",
      "Epoch 66/200\n",
      "1093/1098 [============================>.] - ETA: 0s - loss: 99.6302 - root_mean_squared_error: 9.9815"
     ]
    },
    {
     "name": "stderr",
     "output_type": "stream",
     "text": [
      "WARNING:absl:Found untraced functions such as gru_cell_layer_call_fn, gru_cell_layer_call_and_return_conditional_losses while saving (showing 2 of 2). These functions will not be directly callable after loading.\n"
     ]
    },
    {
     "name": "stdout",
     "output_type": "stream",
     "text": [
      "INFO:tensorflow:Assets written to: best_model\\assets\n"
     ]
    },
    {
     "name": "stderr",
     "output_type": "stream",
     "text": [
      "INFO:tensorflow:Assets written to: best_model\\assets\n",
      "WARNING:absl:<keras.layers.recurrent.GRUCell object at 0x0000015E57CAE088> has the same name 'GRUCell' as a built-in Keras object. Consider renaming <class 'keras.layers.recurrent.GRUCell'> to avoid naming conflicts when loading with `tf.keras.models.load_model`. If renaming is not possible, pass the object in the `custom_objects` parameter of the load function.\n",
      "WARNING:absl:<keras.layers.recurrent.GRUCell object at 0x0000015E57CAEF48> has the same name 'GRUCell' as a built-in Keras object. Consider renaming <class 'keras.layers.recurrent.GRUCell'> to avoid naming conflicts when loading with `tf.keras.models.load_model`. If renaming is not possible, pass the object in the `custom_objects` parameter of the load function.\n"
     ]
    },
    {
     "name": "stdout",
     "output_type": "stream",
     "text": [
      "1098/1098 [==============================] - 9s 9ms/step - loss: 99.5432 - root_mean_squared_error: 9.9771\n",
      "Epoch 67/200\n",
      "1093/1098 [============================>.] - ETA: 0s - loss: 98.6600 - root_mean_squared_error: 9.9328"
     ]
    },
    {
     "name": "stderr",
     "output_type": "stream",
     "text": [
      "WARNING:absl:Found untraced functions such as gru_cell_layer_call_fn, gru_cell_layer_call_and_return_conditional_losses while saving (showing 2 of 2). These functions will not be directly callable after loading.\n"
     ]
    },
    {
     "name": "stdout",
     "output_type": "stream",
     "text": [
      "INFO:tensorflow:Assets written to: best_model\\assets\n"
     ]
    },
    {
     "name": "stderr",
     "output_type": "stream",
     "text": [
      "INFO:tensorflow:Assets written to: best_model\\assets\n",
      "WARNING:absl:<keras.layers.recurrent.GRUCell object at 0x0000015E57CAE088> has the same name 'GRUCell' as a built-in Keras object. Consider renaming <class 'keras.layers.recurrent.GRUCell'> to avoid naming conflicts when loading with `tf.keras.models.load_model`. If renaming is not possible, pass the object in the `custom_objects` parameter of the load function.\n",
      "WARNING:absl:<keras.layers.recurrent.GRUCell object at 0x0000015E57CAEF48> has the same name 'GRUCell' as a built-in Keras object. Consider renaming <class 'keras.layers.recurrent.GRUCell'> to avoid naming conflicts when loading with `tf.keras.models.load_model`. If renaming is not possible, pass the object in the `custom_objects` parameter of the load function.\n"
     ]
    },
    {
     "name": "stdout",
     "output_type": "stream",
     "text": [
      "1098/1098 [==============================] - 10s 9ms/step - loss: 98.6865 - root_mean_squared_error: 9.9341\n",
      "Epoch 68/200\n",
      "1090/1098 [============================>.] - ETA: 0s - loss: 98.0869 - root_mean_squared_error: 9.9039"
     ]
    },
    {
     "name": "stderr",
     "output_type": "stream",
     "text": [
      "WARNING:absl:Found untraced functions such as gru_cell_layer_call_fn, gru_cell_layer_call_and_return_conditional_losses while saving (showing 2 of 2). These functions will not be directly callable after loading.\n"
     ]
    },
    {
     "name": "stdout",
     "output_type": "stream",
     "text": [
      "INFO:tensorflow:Assets written to: best_model\\assets\n"
     ]
    },
    {
     "name": "stderr",
     "output_type": "stream",
     "text": [
      "INFO:tensorflow:Assets written to: best_model\\assets\n",
      "WARNING:absl:<keras.layers.recurrent.GRUCell object at 0x0000015E57CAE088> has the same name 'GRUCell' as a built-in Keras object. Consider renaming <class 'keras.layers.recurrent.GRUCell'> to avoid naming conflicts when loading with `tf.keras.models.load_model`. If renaming is not possible, pass the object in the `custom_objects` parameter of the load function.\n",
      "WARNING:absl:<keras.layers.recurrent.GRUCell object at 0x0000015E57CAEF48> has the same name 'GRUCell' as a built-in Keras object. Consider renaming <class 'keras.layers.recurrent.GRUCell'> to avoid naming conflicts when loading with `tf.keras.models.load_model`. If renaming is not possible, pass the object in the `custom_objects` parameter of the load function.\n"
     ]
    },
    {
     "name": "stdout",
     "output_type": "stream",
     "text": [
      "1098/1098 [==============================] - 10s 9ms/step - loss: 97.8884 - root_mean_squared_error: 9.8939\n",
      "Epoch 69/200\n",
      "1097/1098 [============================>.] - ETA: 0s - loss: 96.9149 - root_mean_squared_error: 9.8445"
     ]
    },
    {
     "name": "stderr",
     "output_type": "stream",
     "text": [
      "WARNING:absl:Found untraced functions such as gru_cell_layer_call_fn, gru_cell_layer_call_and_return_conditional_losses while saving (showing 2 of 2). These functions will not be directly callable after loading.\n"
     ]
    },
    {
     "name": "stdout",
     "output_type": "stream",
     "text": [
      "INFO:tensorflow:Assets written to: best_model\\assets\n"
     ]
    },
    {
     "name": "stderr",
     "output_type": "stream",
     "text": [
      "INFO:tensorflow:Assets written to: best_model\\assets\n",
      "WARNING:absl:<keras.layers.recurrent.GRUCell object at 0x0000015E57CAE088> has the same name 'GRUCell' as a built-in Keras object. Consider renaming <class 'keras.layers.recurrent.GRUCell'> to avoid naming conflicts when loading with `tf.keras.models.load_model`. If renaming is not possible, pass the object in the `custom_objects` parameter of the load function.\n",
      "WARNING:absl:<keras.layers.recurrent.GRUCell object at 0x0000015E57CAEF48> has the same name 'GRUCell' as a built-in Keras object. Consider renaming <class 'keras.layers.recurrent.GRUCell'> to avoid naming conflicts when loading with `tf.keras.models.load_model`. If renaming is not possible, pass the object in the `custom_objects` parameter of the load function.\n"
     ]
    },
    {
     "name": "stdout",
     "output_type": "stream",
     "text": [
      "1098/1098 [==============================] - 9s 8ms/step - loss: 97.0386 - root_mean_squared_error: 9.8508\n",
      "Epoch 70/200\n",
      "1094/1098 [============================>.] - ETA: 0s - loss: 96.9539 - root_mean_squared_error: 9.8465"
     ]
    },
    {
     "name": "stderr",
     "output_type": "stream",
     "text": [
      "WARNING:absl:Found untraced functions such as gru_cell_layer_call_fn, gru_cell_layer_call_and_return_conditional_losses while saving (showing 2 of 2). These functions will not be directly callable after loading.\n"
     ]
    },
    {
     "name": "stdout",
     "output_type": "stream",
     "text": [
      "INFO:tensorflow:Assets written to: best_model\\assets\n"
     ]
    },
    {
     "name": "stderr",
     "output_type": "stream",
     "text": [
      "INFO:tensorflow:Assets written to: best_model\\assets\n",
      "WARNING:absl:<keras.layers.recurrent.GRUCell object at 0x0000015E57CAE088> has the same name 'GRUCell' as a built-in Keras object. Consider renaming <class 'keras.layers.recurrent.GRUCell'> to avoid naming conflicts when loading with `tf.keras.models.load_model`. If renaming is not possible, pass the object in the `custom_objects` parameter of the load function.\n",
      "WARNING:absl:<keras.layers.recurrent.GRUCell object at 0x0000015E57CAEF48> has the same name 'GRUCell' as a built-in Keras object. Consider renaming <class 'keras.layers.recurrent.GRUCell'> to avoid naming conflicts when loading with `tf.keras.models.load_model`. If renaming is not possible, pass the object in the `custom_objects` parameter of the load function.\n"
     ]
    },
    {
     "name": "stdout",
     "output_type": "stream",
     "text": [
      "1098/1098 [==============================] - 10s 9ms/step - loss: 96.9082 - root_mean_squared_error: 9.8442\n",
      "Epoch 71/200\n",
      "1092/1098 [============================>.] - ETA: 0s - loss: 95.3316 - root_mean_squared_error: 9.7638"
     ]
    },
    {
     "name": "stderr",
     "output_type": "stream",
     "text": [
      "WARNING:absl:Found untraced functions such as gru_cell_layer_call_fn, gru_cell_layer_call_and_return_conditional_losses while saving (showing 2 of 2). These functions will not be directly callable after loading.\n"
     ]
    },
    {
     "name": "stdout",
     "output_type": "stream",
     "text": [
      "INFO:tensorflow:Assets written to: best_model\\assets\n"
     ]
    },
    {
     "name": "stderr",
     "output_type": "stream",
     "text": [
      "INFO:tensorflow:Assets written to: best_model\\assets\n",
      "WARNING:absl:<keras.layers.recurrent.GRUCell object at 0x0000015E57CAE088> has the same name 'GRUCell' as a built-in Keras object. Consider renaming <class 'keras.layers.recurrent.GRUCell'> to avoid naming conflicts when loading with `tf.keras.models.load_model`. If renaming is not possible, pass the object in the `custom_objects` parameter of the load function.\n",
      "WARNING:absl:<keras.layers.recurrent.GRUCell object at 0x0000015E57CAEF48> has the same name 'GRUCell' as a built-in Keras object. Consider renaming <class 'keras.layers.recurrent.GRUCell'> to avoid naming conflicts when loading with `tf.keras.models.load_model`. If renaming is not possible, pass the object in the `custom_objects` parameter of the load function.\n"
     ]
    },
    {
     "name": "stdout",
     "output_type": "stream",
     "text": [
      "1098/1098 [==============================] - 10s 9ms/step - loss: 95.4818 - root_mean_squared_error: 9.7715\n",
      "Epoch 72/200\n",
      "1093/1098 [============================>.] - ETA: 0s - loss: 94.8462 - root_mean_squared_error: 9.7389"
     ]
    },
    {
     "name": "stderr",
     "output_type": "stream",
     "text": [
      "WARNING:absl:Found untraced functions such as gru_cell_layer_call_fn, gru_cell_layer_call_and_return_conditional_losses while saving (showing 2 of 2). These functions will not be directly callable after loading.\n"
     ]
    },
    {
     "name": "stdout",
     "output_type": "stream",
     "text": [
      "INFO:tensorflow:Assets written to: best_model\\assets\n"
     ]
    },
    {
     "name": "stderr",
     "output_type": "stream",
     "text": [
      "INFO:tensorflow:Assets written to: best_model\\assets\n",
      "WARNING:absl:<keras.layers.recurrent.GRUCell object at 0x0000015E57CAE088> has the same name 'GRUCell' as a built-in Keras object. Consider renaming <class 'keras.layers.recurrent.GRUCell'> to avoid naming conflicts when loading with `tf.keras.models.load_model`. If renaming is not possible, pass the object in the `custom_objects` parameter of the load function.\n",
      "WARNING:absl:<keras.layers.recurrent.GRUCell object at 0x0000015E57CAEF48> has the same name 'GRUCell' as a built-in Keras object. Consider renaming <class 'keras.layers.recurrent.GRUCell'> to avoid naming conflicts when loading with `tf.keras.models.load_model`. If renaming is not possible, pass the object in the `custom_objects` parameter of the load function.\n"
     ]
    },
    {
     "name": "stdout",
     "output_type": "stream",
     "text": [
      "1098/1098 [==============================] - 10s 9ms/step - loss: 94.7662 - root_mean_squared_error: 9.7348\n",
      "Epoch 73/200\n",
      "1093/1098 [============================>.] - ETA: 0s - loss: 93.9305 - root_mean_squared_error: 9.6918"
     ]
    },
    {
     "name": "stderr",
     "output_type": "stream",
     "text": [
      "WARNING:absl:Found untraced functions such as gru_cell_layer_call_fn, gru_cell_layer_call_and_return_conditional_losses while saving (showing 2 of 2). These functions will not be directly callable after loading.\n"
     ]
    },
    {
     "name": "stdout",
     "output_type": "stream",
     "text": [
      "INFO:tensorflow:Assets written to: best_model\\assets\n"
     ]
    },
    {
     "name": "stderr",
     "output_type": "stream",
     "text": [
      "INFO:tensorflow:Assets written to: best_model\\assets\n",
      "WARNING:absl:<keras.layers.recurrent.GRUCell object at 0x0000015E57CAE088> has the same name 'GRUCell' as a built-in Keras object. Consider renaming <class 'keras.layers.recurrent.GRUCell'> to avoid naming conflicts when loading with `tf.keras.models.load_model`. If renaming is not possible, pass the object in the `custom_objects` parameter of the load function.\n",
      "WARNING:absl:<keras.layers.recurrent.GRUCell object at 0x0000015E57CAEF48> has the same name 'GRUCell' as a built-in Keras object. Consider renaming <class 'keras.layers.recurrent.GRUCell'> to avoid naming conflicts when loading with `tf.keras.models.load_model`. If renaming is not possible, pass the object in the `custom_objects` parameter of the load function.\n"
     ]
    },
    {
     "name": "stdout",
     "output_type": "stream",
     "text": [
      "1098/1098 [==============================] - 10s 9ms/step - loss: 94.0998 - root_mean_squared_error: 9.7005\n",
      "Epoch 74/200\n",
      "1090/1098 [============================>.] - ETA: 0s - loss: 93.2489 - root_mean_squared_error: 9.6565"
     ]
    },
    {
     "name": "stderr",
     "output_type": "stream",
     "text": [
      "WARNING:absl:Found untraced functions such as gru_cell_layer_call_fn, gru_cell_layer_call_and_return_conditional_losses while saving (showing 2 of 2). These functions will not be directly callable after loading.\n"
     ]
    },
    {
     "name": "stdout",
     "output_type": "stream",
     "text": [
      "INFO:tensorflow:Assets written to: best_model\\assets\n"
     ]
    },
    {
     "name": "stderr",
     "output_type": "stream",
     "text": [
      "INFO:tensorflow:Assets written to: best_model\\assets\n",
      "WARNING:absl:<keras.layers.recurrent.GRUCell object at 0x0000015E57CAE088> has the same name 'GRUCell' as a built-in Keras object. Consider renaming <class 'keras.layers.recurrent.GRUCell'> to avoid naming conflicts when loading with `tf.keras.models.load_model`. If renaming is not possible, pass the object in the `custom_objects` parameter of the load function.\n",
      "WARNING:absl:<keras.layers.recurrent.GRUCell object at 0x0000015E57CAEF48> has the same name 'GRUCell' as a built-in Keras object. Consider renaming <class 'keras.layers.recurrent.GRUCell'> to avoid naming conflicts when loading with `tf.keras.models.load_model`. If renaming is not possible, pass the object in the `custom_objects` parameter of the load function.\n"
     ]
    },
    {
     "name": "stdout",
     "output_type": "stream",
     "text": [
      "1098/1098 [==============================] - 10s 9ms/step - loss: 93.3100 - root_mean_squared_error: 9.6597\n",
      "Epoch 75/200\n",
      "1098/1098 [==============================] - 6s 5ms/step - loss: 93.4264 - root_mean_squared_error: 9.6657\n",
      "Epoch 76/200\n",
      "1093/1098 [============================>.] - ETA: 0s - loss: 92.5177 - root_mean_squared_error: 9.6186"
     ]
    },
    {
     "name": "stderr",
     "output_type": "stream",
     "text": [
      "WARNING:absl:Found untraced functions such as gru_cell_layer_call_fn, gru_cell_layer_call_and_return_conditional_losses while saving (showing 2 of 2). These functions will not be directly callable after loading.\n"
     ]
    },
    {
     "name": "stdout",
     "output_type": "stream",
     "text": [
      "INFO:tensorflow:Assets written to: best_model\\assets\n"
     ]
    },
    {
     "name": "stderr",
     "output_type": "stream",
     "text": [
      "INFO:tensorflow:Assets written to: best_model\\assets\n",
      "WARNING:absl:<keras.layers.recurrent.GRUCell object at 0x0000015E57CAE088> has the same name 'GRUCell' as a built-in Keras object. Consider renaming <class 'keras.layers.recurrent.GRUCell'> to avoid naming conflicts when loading with `tf.keras.models.load_model`. If renaming is not possible, pass the object in the `custom_objects` parameter of the load function.\n",
      "WARNING:absl:<keras.layers.recurrent.GRUCell object at 0x0000015E57CAEF48> has the same name 'GRUCell' as a built-in Keras object. Consider renaming <class 'keras.layers.recurrent.GRUCell'> to avoid naming conflicts when loading with `tf.keras.models.load_model`. If renaming is not possible, pass the object in the `custom_objects` parameter of the load function.\n"
     ]
    },
    {
     "name": "stdout",
     "output_type": "stream",
     "text": [
      "1098/1098 [==============================] - 9s 8ms/step - loss: 92.4487 - root_mean_squared_error: 9.6150\n",
      "Epoch 77/200\n",
      "1092/1098 [============================>.] - ETA: 0s - loss: 91.9251 - root_mean_squared_error: 9.5878"
     ]
    },
    {
     "name": "stderr",
     "output_type": "stream",
     "text": [
      "WARNING:absl:Found untraced functions such as gru_cell_layer_call_fn, gru_cell_layer_call_and_return_conditional_losses while saving (showing 2 of 2). These functions will not be directly callable after loading.\n"
     ]
    },
    {
     "name": "stdout",
     "output_type": "stream",
     "text": [
      "INFO:tensorflow:Assets written to: best_model\\assets\n"
     ]
    },
    {
     "name": "stderr",
     "output_type": "stream",
     "text": [
      "INFO:tensorflow:Assets written to: best_model\\assets\n",
      "WARNING:absl:<keras.layers.recurrent.GRUCell object at 0x0000015E57CAE088> has the same name 'GRUCell' as a built-in Keras object. Consider renaming <class 'keras.layers.recurrent.GRUCell'> to avoid naming conflicts when loading with `tf.keras.models.load_model`. If renaming is not possible, pass the object in the `custom_objects` parameter of the load function.\n",
      "WARNING:absl:<keras.layers.recurrent.GRUCell object at 0x0000015E57CAEF48> has the same name 'GRUCell' as a built-in Keras object. Consider renaming <class 'keras.layers.recurrent.GRUCell'> to avoid naming conflicts when loading with `tf.keras.models.load_model`. If renaming is not possible, pass the object in the `custom_objects` parameter of the load function.\n"
     ]
    },
    {
     "name": "stdout",
     "output_type": "stream",
     "text": [
      "1098/1098 [==============================] - 9s 8ms/step - loss: 91.9018 - root_mean_squared_error: 9.5865\n",
      "Epoch 78/200\n",
      "1091/1098 [============================>.] - ETA: 0s - loss: 90.6054 - root_mean_squared_error: 9.5187"
     ]
    },
    {
     "name": "stderr",
     "output_type": "stream",
     "text": [
      "WARNING:absl:Found untraced functions such as gru_cell_layer_call_fn, gru_cell_layer_call_and_return_conditional_losses while saving (showing 2 of 2). These functions will not be directly callable after loading.\n"
     ]
    },
    {
     "name": "stdout",
     "output_type": "stream",
     "text": [
      "INFO:tensorflow:Assets written to: best_model\\assets\n"
     ]
    },
    {
     "name": "stderr",
     "output_type": "stream",
     "text": [
      "INFO:tensorflow:Assets written to: best_model\\assets\n",
      "WARNING:absl:<keras.layers.recurrent.GRUCell object at 0x0000015E57CAE088> has the same name 'GRUCell' as a built-in Keras object. Consider renaming <class 'keras.layers.recurrent.GRUCell'> to avoid naming conflicts when loading with `tf.keras.models.load_model`. If renaming is not possible, pass the object in the `custom_objects` parameter of the load function.\n",
      "WARNING:absl:<keras.layers.recurrent.GRUCell object at 0x0000015E57CAEF48> has the same name 'GRUCell' as a built-in Keras object. Consider renaming <class 'keras.layers.recurrent.GRUCell'> to avoid naming conflicts when loading with `tf.keras.models.load_model`. If renaming is not possible, pass the object in the `custom_objects` parameter of the load function.\n"
     ]
    },
    {
     "name": "stdout",
     "output_type": "stream",
     "text": [
      "1098/1098 [==============================] - 10s 9ms/step - loss: 90.4114 - root_mean_squared_error: 9.5085\n",
      "Epoch 79/200\n",
      "1098/1098 [==============================] - 6s 6ms/step - loss: 90.4721 - root_mean_squared_error: 9.5117\n",
      "Epoch 80/200\n",
      "1092/1098 [============================>.] - ETA: 0s - loss: 89.1408 - root_mean_squared_error: 9.4414"
     ]
    },
    {
     "name": "stderr",
     "output_type": "stream",
     "text": [
      "WARNING:absl:Found untraced functions such as gru_cell_layer_call_fn, gru_cell_layer_call_and_return_conditional_losses while saving (showing 2 of 2). These functions will not be directly callable after loading.\n"
     ]
    },
    {
     "name": "stdout",
     "output_type": "stream",
     "text": [
      "INFO:tensorflow:Assets written to: best_model\\assets\n"
     ]
    },
    {
     "name": "stderr",
     "output_type": "stream",
     "text": [
      "INFO:tensorflow:Assets written to: best_model\\assets\n",
      "WARNING:absl:<keras.layers.recurrent.GRUCell object at 0x0000015E57CAE088> has the same name 'GRUCell' as a built-in Keras object. Consider renaming <class 'keras.layers.recurrent.GRUCell'> to avoid naming conflicts when loading with `tf.keras.models.load_model`. If renaming is not possible, pass the object in the `custom_objects` parameter of the load function.\n",
      "WARNING:absl:<keras.layers.recurrent.GRUCell object at 0x0000015E57CAEF48> has the same name 'GRUCell' as a built-in Keras object. Consider renaming <class 'keras.layers.recurrent.GRUCell'> to avoid naming conflicts when loading with `tf.keras.models.load_model`. If renaming is not possible, pass the object in the `custom_objects` parameter of the load function.\n"
     ]
    },
    {
     "name": "stdout",
     "output_type": "stream",
     "text": [
      "1098/1098 [==============================] - 10s 9ms/step - loss: 88.9930 - root_mean_squared_error: 9.4336\n",
      "Epoch 81/200\n",
      "1098/1098 [==============================] - 6s 6ms/step - loss: 89.6878 - root_mean_squared_error: 9.4704\n",
      "Epoch 82/200\n",
      "1090/1098 [============================>.] - ETA: 0s - loss: 88.5201 - root_mean_squared_error: 9.4085"
     ]
    },
    {
     "name": "stderr",
     "output_type": "stream",
     "text": [
      "WARNING:absl:Found untraced functions such as gru_cell_layer_call_fn, gru_cell_layer_call_and_return_conditional_losses while saving (showing 2 of 2). These functions will not be directly callable after loading.\n"
     ]
    },
    {
     "name": "stdout",
     "output_type": "stream",
     "text": [
      "INFO:tensorflow:Assets written to: best_model\\assets\n"
     ]
    },
    {
     "name": "stderr",
     "output_type": "stream",
     "text": [
      "INFO:tensorflow:Assets written to: best_model\\assets\n",
      "WARNING:absl:<keras.layers.recurrent.GRUCell object at 0x0000015E57CAE088> has the same name 'GRUCell' as a built-in Keras object. Consider renaming <class 'keras.layers.recurrent.GRUCell'> to avoid naming conflicts when loading with `tf.keras.models.load_model`. If renaming is not possible, pass the object in the `custom_objects` parameter of the load function.\n",
      "WARNING:absl:<keras.layers.recurrent.GRUCell object at 0x0000015E57CAEF48> has the same name 'GRUCell' as a built-in Keras object. Consider renaming <class 'keras.layers.recurrent.GRUCell'> to avoid naming conflicts when loading with `tf.keras.models.load_model`. If renaming is not possible, pass the object in the `custom_objects` parameter of the load function.\n"
     ]
    },
    {
     "name": "stdout",
     "output_type": "stream",
     "text": [
      "1098/1098 [==============================] - 9s 9ms/step - loss: 88.6118 - root_mean_squared_error: 9.4134\n",
      "Epoch 83/200\n",
      "1091/1098 [============================>.] - ETA: 0s - loss: 87.4281 - root_mean_squared_error: 9.3503"
     ]
    },
    {
     "name": "stderr",
     "output_type": "stream",
     "text": [
      "WARNING:absl:Found untraced functions such as gru_cell_layer_call_fn, gru_cell_layer_call_and_return_conditional_losses while saving (showing 2 of 2). These functions will not be directly callable after loading.\n"
     ]
    },
    {
     "name": "stdout",
     "output_type": "stream",
     "text": [
      "INFO:tensorflow:Assets written to: best_model\\assets\n"
     ]
    },
    {
     "name": "stderr",
     "output_type": "stream",
     "text": [
      "INFO:tensorflow:Assets written to: best_model\\assets\n",
      "WARNING:absl:<keras.layers.recurrent.GRUCell object at 0x0000015E57CAE088> has the same name 'GRUCell' as a built-in Keras object. Consider renaming <class 'keras.layers.recurrent.GRUCell'> to avoid naming conflicts when loading with `tf.keras.models.load_model`. If renaming is not possible, pass the object in the `custom_objects` parameter of the load function.\n",
      "WARNING:absl:<keras.layers.recurrent.GRUCell object at 0x0000015E57CAEF48> has the same name 'GRUCell' as a built-in Keras object. Consider renaming <class 'keras.layers.recurrent.GRUCell'> to avoid naming conflicts when loading with `tf.keras.models.load_model`. If renaming is not possible, pass the object in the `custom_objects` parameter of the load function.\n"
     ]
    },
    {
     "name": "stdout",
     "output_type": "stream",
     "text": [
      "1098/1098 [==============================] - 10s 9ms/step - loss: 87.3475 - root_mean_squared_error: 9.3460\n",
      "Epoch 84/200\n",
      "1096/1098 [============================>.] - ETA: 0s - loss: 87.3506 - root_mean_squared_error: 9.3462"
     ]
    },
    {
     "name": "stderr",
     "output_type": "stream",
     "text": [
      "WARNING:absl:Found untraced functions such as gru_cell_layer_call_fn, gru_cell_layer_call_and_return_conditional_losses while saving (showing 2 of 2). These functions will not be directly callable after loading.\n"
     ]
    },
    {
     "name": "stdout",
     "output_type": "stream",
     "text": [
      "INFO:tensorflow:Assets written to: best_model\\assets\n"
     ]
    },
    {
     "name": "stderr",
     "output_type": "stream",
     "text": [
      "INFO:tensorflow:Assets written to: best_model\\assets\n",
      "WARNING:absl:<keras.layers.recurrent.GRUCell object at 0x0000015E57CAE088> has the same name 'GRUCell' as a built-in Keras object. Consider renaming <class 'keras.layers.recurrent.GRUCell'> to avoid naming conflicts when loading with `tf.keras.models.load_model`. If renaming is not possible, pass the object in the `custom_objects` parameter of the load function.\n",
      "WARNING:absl:<keras.layers.recurrent.GRUCell object at 0x0000015E57CAEF48> has the same name 'GRUCell' as a built-in Keras object. Consider renaming <class 'keras.layers.recurrent.GRUCell'> to avoid naming conflicts when loading with `tf.keras.models.load_model`. If renaming is not possible, pass the object in the `custom_objects` parameter of the load function.\n"
     ]
    },
    {
     "name": "stdout",
     "output_type": "stream",
     "text": [
      "1098/1098 [==============================] - 10s 9ms/step - loss: 87.2768 - root_mean_squared_error: 9.3422\n",
      "Epoch 85/200\n",
      "1093/1098 [============================>.] - ETA: 0s - loss: 86.8337 - root_mean_squared_error: 9.3185"
     ]
    },
    {
     "name": "stderr",
     "output_type": "stream",
     "text": [
      "WARNING:absl:Found untraced functions such as gru_cell_layer_call_fn, gru_cell_layer_call_and_return_conditional_losses while saving (showing 2 of 2). These functions will not be directly callable after loading.\n"
     ]
    },
    {
     "name": "stdout",
     "output_type": "stream",
     "text": [
      "INFO:tensorflow:Assets written to: best_model\\assets\n"
     ]
    },
    {
     "name": "stderr",
     "output_type": "stream",
     "text": [
      "INFO:tensorflow:Assets written to: best_model\\assets\n",
      "WARNING:absl:<keras.layers.recurrent.GRUCell object at 0x0000015E57CAE088> has the same name 'GRUCell' as a built-in Keras object. Consider renaming <class 'keras.layers.recurrent.GRUCell'> to avoid naming conflicts when loading with `tf.keras.models.load_model`. If renaming is not possible, pass the object in the `custom_objects` parameter of the load function.\n",
      "WARNING:absl:<keras.layers.recurrent.GRUCell object at 0x0000015E57CAEF48> has the same name 'GRUCell' as a built-in Keras object. Consider renaming <class 'keras.layers.recurrent.GRUCell'> to avoid naming conflicts when loading with `tf.keras.models.load_model`. If renaming is not possible, pass the object in the `custom_objects` parameter of the load function.\n"
     ]
    },
    {
     "name": "stdout",
     "output_type": "stream",
     "text": [
      "1098/1098 [==============================] - 10s 9ms/step - loss: 86.9680 - root_mean_squared_error: 9.3257\n",
      "Epoch 86/200\n",
      "1092/1098 [============================>.] - ETA: 0s - loss: 85.7597 - root_mean_squared_error: 9.2607"
     ]
    },
    {
     "name": "stderr",
     "output_type": "stream",
     "text": [
      "WARNING:absl:Found untraced functions such as gru_cell_layer_call_fn, gru_cell_layer_call_and_return_conditional_losses while saving (showing 2 of 2). These functions will not be directly callable after loading.\n"
     ]
    },
    {
     "name": "stdout",
     "output_type": "stream",
     "text": [
      "INFO:tensorflow:Assets written to: best_model\\assets\n"
     ]
    },
    {
     "name": "stderr",
     "output_type": "stream",
     "text": [
      "INFO:tensorflow:Assets written to: best_model\\assets\n",
      "WARNING:absl:<keras.layers.recurrent.GRUCell object at 0x0000015E57CAE088> has the same name 'GRUCell' as a built-in Keras object. Consider renaming <class 'keras.layers.recurrent.GRUCell'> to avoid naming conflicts when loading with `tf.keras.models.load_model`. If renaming is not possible, pass the object in the `custom_objects` parameter of the load function.\n",
      "WARNING:absl:<keras.layers.recurrent.GRUCell object at 0x0000015E57CAEF48> has the same name 'GRUCell' as a built-in Keras object. Consider renaming <class 'keras.layers.recurrent.GRUCell'> to avoid naming conflicts when loading with `tf.keras.models.load_model`. If renaming is not possible, pass the object in the `custom_objects` parameter of the load function.\n"
     ]
    },
    {
     "name": "stdout",
     "output_type": "stream",
     "text": [
      "1098/1098 [==============================] - 10s 9ms/step - loss: 85.6573 - root_mean_squared_error: 9.2551\n",
      "Epoch 87/200\n",
      "1093/1098 [============================>.] - ETA: 0s - loss: 85.4054 - root_mean_squared_error: 9.2415"
     ]
    },
    {
     "name": "stderr",
     "output_type": "stream",
     "text": [
      "WARNING:absl:Found untraced functions such as gru_cell_layer_call_fn, gru_cell_layer_call_and_return_conditional_losses while saving (showing 2 of 2). These functions will not be directly callable after loading.\n"
     ]
    },
    {
     "name": "stdout",
     "output_type": "stream",
     "text": [
      "INFO:tensorflow:Assets written to: best_model\\assets\n"
     ]
    },
    {
     "name": "stderr",
     "output_type": "stream",
     "text": [
      "INFO:tensorflow:Assets written to: best_model\\assets\n",
      "WARNING:absl:<keras.layers.recurrent.GRUCell object at 0x0000015E57CAE088> has the same name 'GRUCell' as a built-in Keras object. Consider renaming <class 'keras.layers.recurrent.GRUCell'> to avoid naming conflicts when loading with `tf.keras.models.load_model`. If renaming is not possible, pass the object in the `custom_objects` parameter of the load function.\n",
      "WARNING:absl:<keras.layers.recurrent.GRUCell object at 0x0000015E57CAEF48> has the same name 'GRUCell' as a built-in Keras object. Consider renaming <class 'keras.layers.recurrent.GRUCell'> to avoid naming conflicts when loading with `tf.keras.models.load_model`. If renaming is not possible, pass the object in the `custom_objects` parameter of the load function.\n"
     ]
    },
    {
     "name": "stdout",
     "output_type": "stream",
     "text": [
      "1098/1098 [==============================] - 10s 9ms/step - loss: 85.2883 - root_mean_squared_error: 9.2352\n",
      "Epoch 88/200\n",
      "1096/1098 [============================>.] - ETA: 0s - loss: 84.5141 - root_mean_squared_error: 9.1932"
     ]
    },
    {
     "name": "stderr",
     "output_type": "stream",
     "text": [
      "WARNING:absl:Found untraced functions such as gru_cell_layer_call_fn, gru_cell_layer_call_and_return_conditional_losses while saving (showing 2 of 2). These functions will not be directly callable after loading.\n"
     ]
    },
    {
     "name": "stdout",
     "output_type": "stream",
     "text": [
      "INFO:tensorflow:Assets written to: best_model\\assets\n"
     ]
    },
    {
     "name": "stderr",
     "output_type": "stream",
     "text": [
      "INFO:tensorflow:Assets written to: best_model\\assets\n",
      "WARNING:absl:<keras.layers.recurrent.GRUCell object at 0x0000015E57CAE088> has the same name 'GRUCell' as a built-in Keras object. Consider renaming <class 'keras.layers.recurrent.GRUCell'> to avoid naming conflicts when loading with `tf.keras.models.load_model`. If renaming is not possible, pass the object in the `custom_objects` parameter of the load function.\n",
      "WARNING:absl:<keras.layers.recurrent.GRUCell object at 0x0000015E57CAEF48> has the same name 'GRUCell' as a built-in Keras object. Consider renaming <class 'keras.layers.recurrent.GRUCell'> to avoid naming conflicts when loading with `tf.keras.models.load_model`. If renaming is not possible, pass the object in the `custom_objects` parameter of the load function.\n"
     ]
    },
    {
     "name": "stdout",
     "output_type": "stream",
     "text": [
      "1098/1098 [==============================] - 10s 9ms/step - loss: 84.5319 - root_mean_squared_error: 9.1941\n",
      "Epoch 89/200\n",
      "1095/1098 [============================>.] - ETA: 0s - loss: 84.0719 - root_mean_squared_error: 9.1691"
     ]
    },
    {
     "name": "stderr",
     "output_type": "stream",
     "text": [
      "WARNING:absl:Found untraced functions such as gru_cell_layer_call_fn, gru_cell_layer_call_and_return_conditional_losses while saving (showing 2 of 2). These functions will not be directly callable after loading.\n"
     ]
    },
    {
     "name": "stdout",
     "output_type": "stream",
     "text": [
      "INFO:tensorflow:Assets written to: best_model\\assets\n"
     ]
    },
    {
     "name": "stderr",
     "output_type": "stream",
     "text": [
      "INFO:tensorflow:Assets written to: best_model\\assets\n",
      "WARNING:absl:<keras.layers.recurrent.GRUCell object at 0x0000015E57CAE088> has the same name 'GRUCell' as a built-in Keras object. Consider renaming <class 'keras.layers.recurrent.GRUCell'> to avoid naming conflicts when loading with `tf.keras.models.load_model`. If renaming is not possible, pass the object in the `custom_objects` parameter of the load function.\n",
      "WARNING:absl:<keras.layers.recurrent.GRUCell object at 0x0000015E57CAEF48> has the same name 'GRUCell' as a built-in Keras object. Consider renaming <class 'keras.layers.recurrent.GRUCell'> to avoid naming conflicts when loading with `tf.keras.models.load_model`. If renaming is not possible, pass the object in the `custom_objects` parameter of the load function.\n"
     ]
    },
    {
     "name": "stdout",
     "output_type": "stream",
     "text": [
      "1098/1098 [==============================] - 10s 9ms/step - loss: 84.1159 - root_mean_squared_error: 9.1715\n",
      "Epoch 90/200\n",
      "1090/1098 [============================>.] - ETA: 0s - loss: 83.0949 - root_mean_squared_error: 9.1156"
     ]
    },
    {
     "name": "stderr",
     "output_type": "stream",
     "text": [
      "WARNING:absl:Found untraced functions such as gru_cell_layer_call_fn, gru_cell_layer_call_and_return_conditional_losses while saving (showing 2 of 2). These functions will not be directly callable after loading.\n"
     ]
    },
    {
     "name": "stdout",
     "output_type": "stream",
     "text": [
      "INFO:tensorflow:Assets written to: best_model\\assets\n"
     ]
    },
    {
     "name": "stderr",
     "output_type": "stream",
     "text": [
      "INFO:tensorflow:Assets written to: best_model\\assets\n",
      "WARNING:absl:<keras.layers.recurrent.GRUCell object at 0x0000015E57CAE088> has the same name 'GRUCell' as a built-in Keras object. Consider renaming <class 'keras.layers.recurrent.GRUCell'> to avoid naming conflicts when loading with `tf.keras.models.load_model`. If renaming is not possible, pass the object in the `custom_objects` parameter of the load function.\n",
      "WARNING:absl:<keras.layers.recurrent.GRUCell object at 0x0000015E57CAEF48> has the same name 'GRUCell' as a built-in Keras object. Consider renaming <class 'keras.layers.recurrent.GRUCell'> to avoid naming conflicts when loading with `tf.keras.models.load_model`. If renaming is not possible, pass the object in the `custom_objects` parameter of the load function.\n"
     ]
    },
    {
     "name": "stdout",
     "output_type": "stream",
     "text": [
      "1098/1098 [==============================] - 10s 9ms/step - loss: 83.0563 - root_mean_squared_error: 9.1135\n",
      "Epoch 91/200\n",
      "1098/1098 [==============================] - 6s 5ms/step - loss: 83.4054 - root_mean_squared_error: 9.1327\n",
      "Epoch 92/200\n",
      "1092/1098 [============================>.] - ETA: 0s - loss: 82.6289 - root_mean_squared_error: 9.0900"
     ]
    },
    {
     "name": "stderr",
     "output_type": "stream",
     "text": [
      "WARNING:absl:Found untraced functions such as gru_cell_layer_call_fn, gru_cell_layer_call_and_return_conditional_losses while saving (showing 2 of 2). These functions will not be directly callable after loading.\n"
     ]
    },
    {
     "name": "stdout",
     "output_type": "stream",
     "text": [
      "INFO:tensorflow:Assets written to: best_model\\assets\n"
     ]
    },
    {
     "name": "stderr",
     "output_type": "stream",
     "text": [
      "INFO:tensorflow:Assets written to: best_model\\assets\n",
      "WARNING:absl:<keras.layers.recurrent.GRUCell object at 0x0000015E57CAE088> has the same name 'GRUCell' as a built-in Keras object. Consider renaming <class 'keras.layers.recurrent.GRUCell'> to avoid naming conflicts when loading with `tf.keras.models.load_model`. If renaming is not possible, pass the object in the `custom_objects` parameter of the load function.\n",
      "WARNING:absl:<keras.layers.recurrent.GRUCell object at 0x0000015E57CAEF48> has the same name 'GRUCell' as a built-in Keras object. Consider renaming <class 'keras.layers.recurrent.GRUCell'> to avoid naming conflicts when loading with `tf.keras.models.load_model`. If renaming is not possible, pass the object in the `custom_objects` parameter of the load function.\n"
     ]
    },
    {
     "name": "stdout",
     "output_type": "stream",
     "text": [
      "1098/1098 [==============================] - 9s 9ms/step - loss: 82.6132 - root_mean_squared_error: 9.0892\n",
      "Epoch 93/200\n",
      "1089/1098 [============================>.] - ETA: 0s - loss: 82.0771 - root_mean_squared_error: 9.0596"
     ]
    },
    {
     "name": "stderr",
     "output_type": "stream",
     "text": [
      "WARNING:absl:Found untraced functions such as gru_cell_layer_call_fn, gru_cell_layer_call_and_return_conditional_losses while saving (showing 2 of 2). These functions will not be directly callable after loading.\n"
     ]
    },
    {
     "name": "stdout",
     "output_type": "stream",
     "text": [
      "INFO:tensorflow:Assets written to: best_model\\assets\n"
     ]
    },
    {
     "name": "stderr",
     "output_type": "stream",
     "text": [
      "INFO:tensorflow:Assets written to: best_model\\assets\n",
      "WARNING:absl:<keras.layers.recurrent.GRUCell object at 0x0000015E57CAE088> has the same name 'GRUCell' as a built-in Keras object. Consider renaming <class 'keras.layers.recurrent.GRUCell'> to avoid naming conflicts when loading with `tf.keras.models.load_model`. If renaming is not possible, pass the object in the `custom_objects` parameter of the load function.\n",
      "WARNING:absl:<keras.layers.recurrent.GRUCell object at 0x0000015E57CAEF48> has the same name 'GRUCell' as a built-in Keras object. Consider renaming <class 'keras.layers.recurrent.GRUCell'> to avoid naming conflicts when loading with `tf.keras.models.load_model`. If renaming is not possible, pass the object in the `custom_objects` parameter of the load function.\n"
     ]
    },
    {
     "name": "stdout",
     "output_type": "stream",
     "text": [
      "1098/1098 [==============================] - 10s 9ms/step - loss: 82.1042 - root_mean_squared_error: 9.0611\n",
      "Epoch 94/200\n",
      "1095/1098 [============================>.] - ETA: 0s - loss: 81.2350 - root_mean_squared_error: 9.0130"
     ]
    },
    {
     "name": "stderr",
     "output_type": "stream",
     "text": [
      "WARNING:absl:Found untraced functions such as gru_cell_layer_call_fn, gru_cell_layer_call_and_return_conditional_losses while saving (showing 2 of 2). These functions will not be directly callable after loading.\n"
     ]
    },
    {
     "name": "stdout",
     "output_type": "stream",
     "text": [
      "INFO:tensorflow:Assets written to: best_model\\assets\n"
     ]
    },
    {
     "name": "stderr",
     "output_type": "stream",
     "text": [
      "INFO:tensorflow:Assets written to: best_model\\assets\n",
      "WARNING:absl:<keras.layers.recurrent.GRUCell object at 0x0000015E57CAE088> has the same name 'GRUCell' as a built-in Keras object. Consider renaming <class 'keras.layers.recurrent.GRUCell'> to avoid naming conflicts when loading with `tf.keras.models.load_model`. If renaming is not possible, pass the object in the `custom_objects` parameter of the load function.\n",
      "WARNING:absl:<keras.layers.recurrent.GRUCell object at 0x0000015E57CAEF48> has the same name 'GRUCell' as a built-in Keras object. Consider renaming <class 'keras.layers.recurrent.GRUCell'> to avoid naming conflicts when loading with `tf.keras.models.load_model`. If renaming is not possible, pass the object in the `custom_objects` parameter of the load function.\n"
     ]
    },
    {
     "name": "stdout",
     "output_type": "stream",
     "text": [
      "1098/1098 [==============================] - 10s 9ms/step - loss: 81.2807 - root_mean_squared_error: 9.0156\n",
      "Epoch 95/200\n",
      "1092/1098 [============================>.] - ETA: 0s - loss: 80.8859 - root_mean_squared_error: 8.9937"
     ]
    },
    {
     "name": "stderr",
     "output_type": "stream",
     "text": [
      "WARNING:absl:Found untraced functions such as gru_cell_layer_call_fn, gru_cell_layer_call_and_return_conditional_losses while saving (showing 2 of 2). These functions will not be directly callable after loading.\n"
     ]
    },
    {
     "name": "stdout",
     "output_type": "stream",
     "text": [
      "INFO:tensorflow:Assets written to: best_model\\assets\n"
     ]
    },
    {
     "name": "stderr",
     "output_type": "stream",
     "text": [
      "INFO:tensorflow:Assets written to: best_model\\assets\n",
      "WARNING:absl:<keras.layers.recurrent.GRUCell object at 0x0000015E57CAE088> has the same name 'GRUCell' as a built-in Keras object. Consider renaming <class 'keras.layers.recurrent.GRUCell'> to avoid naming conflicts when loading with `tf.keras.models.load_model`. If renaming is not possible, pass the object in the `custom_objects` parameter of the load function.\n",
      "WARNING:absl:<keras.layers.recurrent.GRUCell object at 0x0000015E57CAEF48> has the same name 'GRUCell' as a built-in Keras object. Consider renaming <class 'keras.layers.recurrent.GRUCell'> to avoid naming conflicts when loading with `tf.keras.models.load_model`. If renaming is not possible, pass the object in the `custom_objects` parameter of the load function.\n"
     ]
    },
    {
     "name": "stdout",
     "output_type": "stream",
     "text": [
      "1098/1098 [==============================] - 10s 9ms/step - loss: 80.9542 - root_mean_squared_error: 8.9975\n",
      "Epoch 96/200\n",
      "1091/1098 [============================>.] - ETA: 0s - loss: 80.5192 - root_mean_squared_error: 8.9732"
     ]
    },
    {
     "name": "stderr",
     "output_type": "stream",
     "text": [
      "WARNING:absl:Found untraced functions such as gru_cell_layer_call_fn, gru_cell_layer_call_and_return_conditional_losses while saving (showing 2 of 2). These functions will not be directly callable after loading.\n"
     ]
    },
    {
     "name": "stdout",
     "output_type": "stream",
     "text": [
      "INFO:tensorflow:Assets written to: best_model\\assets\n"
     ]
    },
    {
     "name": "stderr",
     "output_type": "stream",
     "text": [
      "INFO:tensorflow:Assets written to: best_model\\assets\n",
      "WARNING:absl:<keras.layers.recurrent.GRUCell object at 0x0000015E57CAE088> has the same name 'GRUCell' as a built-in Keras object. Consider renaming <class 'keras.layers.recurrent.GRUCell'> to avoid naming conflicts when loading with `tf.keras.models.load_model`. If renaming is not possible, pass the object in the `custom_objects` parameter of the load function.\n",
      "WARNING:absl:<keras.layers.recurrent.GRUCell object at 0x0000015E57CAEF48> has the same name 'GRUCell' as a built-in Keras object. Consider renaming <class 'keras.layers.recurrent.GRUCell'> to avoid naming conflicts when loading with `tf.keras.models.load_model`. If renaming is not possible, pass the object in the `custom_objects` parameter of the load function.\n"
     ]
    },
    {
     "name": "stdout",
     "output_type": "stream",
     "text": [
      "1098/1098 [==============================] - 10s 9ms/step - loss: 80.6417 - root_mean_squared_error: 8.9801\n",
      "Epoch 97/200\n",
      "1096/1098 [============================>.] - ETA: 0s - loss: 80.2984 - root_mean_squared_error: 8.9609"
     ]
    },
    {
     "name": "stderr",
     "output_type": "stream",
     "text": [
      "WARNING:absl:Found untraced functions such as gru_cell_layer_call_fn, gru_cell_layer_call_and_return_conditional_losses while saving (showing 2 of 2). These functions will not be directly callable after loading.\n"
     ]
    },
    {
     "name": "stdout",
     "output_type": "stream",
     "text": [
      "INFO:tensorflow:Assets written to: best_model\\assets\n"
     ]
    },
    {
     "name": "stderr",
     "output_type": "stream",
     "text": [
      "INFO:tensorflow:Assets written to: best_model\\assets\n",
      "WARNING:absl:<keras.layers.recurrent.GRUCell object at 0x0000015E57CAE088> has the same name 'GRUCell' as a built-in Keras object. Consider renaming <class 'keras.layers.recurrent.GRUCell'> to avoid naming conflicts when loading with `tf.keras.models.load_model`. If renaming is not possible, pass the object in the `custom_objects` parameter of the load function.\n",
      "WARNING:absl:<keras.layers.recurrent.GRUCell object at 0x0000015E57CAEF48> has the same name 'GRUCell' as a built-in Keras object. Consider renaming <class 'keras.layers.recurrent.GRUCell'> to avoid naming conflicts when loading with `tf.keras.models.load_model`. If renaming is not possible, pass the object in the `custom_objects` parameter of the load function.\n"
     ]
    },
    {
     "name": "stdout",
     "output_type": "stream",
     "text": [
      "1098/1098 [==============================] - 10s 9ms/step - loss: 80.2718 - root_mean_squared_error: 8.9595\n",
      "Epoch 98/200\n",
      "1093/1098 [============================>.] - ETA: 0s - loss: 79.5282 - root_mean_squared_error: 8.9179"
     ]
    },
    {
     "name": "stderr",
     "output_type": "stream",
     "text": [
      "WARNING:absl:Found untraced functions such as gru_cell_layer_call_fn, gru_cell_layer_call_and_return_conditional_losses while saving (showing 2 of 2). These functions will not be directly callable after loading.\n"
     ]
    },
    {
     "name": "stdout",
     "output_type": "stream",
     "text": [
      "INFO:tensorflow:Assets written to: best_model\\assets\n"
     ]
    },
    {
     "name": "stderr",
     "output_type": "stream",
     "text": [
      "INFO:tensorflow:Assets written to: best_model\\assets\n",
      "WARNING:absl:<keras.layers.recurrent.GRUCell object at 0x0000015E57CAE088> has the same name 'GRUCell' as a built-in Keras object. Consider renaming <class 'keras.layers.recurrent.GRUCell'> to avoid naming conflicts when loading with `tf.keras.models.load_model`. If renaming is not possible, pass the object in the `custom_objects` parameter of the load function.\n",
      "WARNING:absl:<keras.layers.recurrent.GRUCell object at 0x0000015E57CAEF48> has the same name 'GRUCell' as a built-in Keras object. Consider renaming <class 'keras.layers.recurrent.GRUCell'> to avoid naming conflicts when loading with `tf.keras.models.load_model`. If renaming is not possible, pass the object in the `custom_objects` parameter of the load function.\n"
     ]
    },
    {
     "name": "stdout",
     "output_type": "stream",
     "text": [
      "1098/1098 [==============================] - 9s 9ms/step - loss: 79.4906 - root_mean_squared_error: 8.9158\n",
      "Epoch 99/200\n",
      "1095/1098 [============================>.] - ETA: 0s - loss: 79.1059 - root_mean_squared_error: 8.8942"
     ]
    },
    {
     "name": "stderr",
     "output_type": "stream",
     "text": [
      "WARNING:absl:Found untraced functions such as gru_cell_layer_call_fn, gru_cell_layer_call_and_return_conditional_losses while saving (showing 2 of 2). These functions will not be directly callable after loading.\n"
     ]
    },
    {
     "name": "stdout",
     "output_type": "stream",
     "text": [
      "INFO:tensorflow:Assets written to: best_model\\assets\n"
     ]
    },
    {
     "name": "stderr",
     "output_type": "stream",
     "text": [
      "INFO:tensorflow:Assets written to: best_model\\assets\n",
      "WARNING:absl:<keras.layers.recurrent.GRUCell object at 0x0000015E57CAE088> has the same name 'GRUCell' as a built-in Keras object. Consider renaming <class 'keras.layers.recurrent.GRUCell'> to avoid naming conflicts when loading with `tf.keras.models.load_model`. If renaming is not possible, pass the object in the `custom_objects` parameter of the load function.\n",
      "WARNING:absl:<keras.layers.recurrent.GRUCell object at 0x0000015E57CAEF48> has the same name 'GRUCell' as a built-in Keras object. Consider renaming <class 'keras.layers.recurrent.GRUCell'> to avoid naming conflicts when loading with `tf.keras.models.load_model`. If renaming is not possible, pass the object in the `custom_objects` parameter of the load function.\n"
     ]
    },
    {
     "name": "stdout",
     "output_type": "stream",
     "text": [
      "1098/1098 [==============================] - 10s 9ms/step - loss: 79.0415 - root_mean_squared_error: 8.8905\n",
      "Epoch 100/200\n",
      "1092/1098 [============================>.] - ETA: 0s - loss: 77.6634 - root_mean_squared_error: 8.8127"
     ]
    },
    {
     "name": "stderr",
     "output_type": "stream",
     "text": [
      "WARNING:absl:Found untraced functions such as gru_cell_layer_call_fn, gru_cell_layer_call_and_return_conditional_losses while saving (showing 2 of 2). These functions will not be directly callable after loading.\n"
     ]
    },
    {
     "name": "stdout",
     "output_type": "stream",
     "text": [
      "INFO:tensorflow:Assets written to: best_model\\assets\n"
     ]
    },
    {
     "name": "stderr",
     "output_type": "stream",
     "text": [
      "INFO:tensorflow:Assets written to: best_model\\assets\n",
      "WARNING:absl:<keras.layers.recurrent.GRUCell object at 0x0000015E57CAE088> has the same name 'GRUCell' as a built-in Keras object. Consider renaming <class 'keras.layers.recurrent.GRUCell'> to avoid naming conflicts when loading with `tf.keras.models.load_model`. If renaming is not possible, pass the object in the `custom_objects` parameter of the load function.\n",
      "WARNING:absl:<keras.layers.recurrent.GRUCell object at 0x0000015E57CAEF48> has the same name 'GRUCell' as a built-in Keras object. Consider renaming <class 'keras.layers.recurrent.GRUCell'> to avoid naming conflicts when loading with `tf.keras.models.load_model`. If renaming is not possible, pass the object in the `custom_objects` parameter of the load function.\n"
     ]
    },
    {
     "name": "stdout",
     "output_type": "stream",
     "text": [
      "1098/1098 [==============================] - 10s 9ms/step - loss: 77.6299 - root_mean_squared_error: 8.8108\n",
      "Epoch 101/200\n",
      "1089/1098 [============================>.] - ETA: 0s - loss: 77.4135 - root_mean_squared_error: 8.7985"
     ]
    },
    {
     "name": "stderr",
     "output_type": "stream",
     "text": [
      "WARNING:absl:Found untraced functions such as gru_cell_layer_call_fn, gru_cell_layer_call_and_return_conditional_losses while saving (showing 2 of 2). These functions will not be directly callable after loading.\n"
     ]
    },
    {
     "name": "stdout",
     "output_type": "stream",
     "text": [
      "INFO:tensorflow:Assets written to: best_model\\assets\n"
     ]
    },
    {
     "name": "stderr",
     "output_type": "stream",
     "text": [
      "INFO:tensorflow:Assets written to: best_model\\assets\n",
      "WARNING:absl:<keras.layers.recurrent.GRUCell object at 0x0000015E57CAE088> has the same name 'GRUCell' as a built-in Keras object. Consider renaming <class 'keras.layers.recurrent.GRUCell'> to avoid naming conflicts when loading with `tf.keras.models.load_model`. If renaming is not possible, pass the object in the `custom_objects` parameter of the load function.\n",
      "WARNING:absl:<keras.layers.recurrent.GRUCell object at 0x0000015E57CAEF48> has the same name 'GRUCell' as a built-in Keras object. Consider renaming <class 'keras.layers.recurrent.GRUCell'> to avoid naming conflicts when loading with `tf.keras.models.load_model`. If renaming is not possible, pass the object in the `custom_objects` parameter of the load function.\n"
     ]
    },
    {
     "name": "stdout",
     "output_type": "stream",
     "text": [
      "1098/1098 [==============================] - 10s 9ms/step - loss: 77.4731 - root_mean_squared_error: 8.8019\n",
      "Epoch 102/200\n",
      "1094/1098 [============================>.] - ETA: 0s - loss: 77.3789 - root_mean_squared_error: 8.7965"
     ]
    },
    {
     "name": "stderr",
     "output_type": "stream",
     "text": [
      "WARNING:absl:Found untraced functions such as gru_cell_layer_call_fn, gru_cell_layer_call_and_return_conditional_losses while saving (showing 2 of 2). These functions will not be directly callable after loading.\n"
     ]
    },
    {
     "name": "stdout",
     "output_type": "stream",
     "text": [
      "INFO:tensorflow:Assets written to: best_model\\assets\n"
     ]
    },
    {
     "name": "stderr",
     "output_type": "stream",
     "text": [
      "INFO:tensorflow:Assets written to: best_model\\assets\n",
      "WARNING:absl:<keras.layers.recurrent.GRUCell object at 0x0000015E57CAE088> has the same name 'GRUCell' as a built-in Keras object. Consider renaming <class 'keras.layers.recurrent.GRUCell'> to avoid naming conflicts when loading with `tf.keras.models.load_model`. If renaming is not possible, pass the object in the `custom_objects` parameter of the load function.\n",
      "WARNING:absl:<keras.layers.recurrent.GRUCell object at 0x0000015E57CAEF48> has the same name 'GRUCell' as a built-in Keras object. Consider renaming <class 'keras.layers.recurrent.GRUCell'> to avoid naming conflicts when loading with `tf.keras.models.load_model`. If renaming is not possible, pass the object in the `custom_objects` parameter of the load function.\n"
     ]
    },
    {
     "name": "stdout",
     "output_type": "stream",
     "text": [
      "1098/1098 [==============================] - 10s 9ms/step - loss: 77.3183 - root_mean_squared_error: 8.7931\n",
      "Epoch 103/200\n",
      "1096/1098 [============================>.] - ETA: 0s - loss: 76.7496 - root_mean_squared_error: 8.7607"
     ]
    },
    {
     "name": "stderr",
     "output_type": "stream",
     "text": [
      "WARNING:absl:Found untraced functions such as gru_cell_layer_call_fn, gru_cell_layer_call_and_return_conditional_losses while saving (showing 2 of 2). These functions will not be directly callable after loading.\n"
     ]
    },
    {
     "name": "stdout",
     "output_type": "stream",
     "text": [
      "INFO:tensorflow:Assets written to: best_model\\assets\n"
     ]
    },
    {
     "name": "stderr",
     "output_type": "stream",
     "text": [
      "INFO:tensorflow:Assets written to: best_model\\assets\n",
      "WARNING:absl:<keras.layers.recurrent.GRUCell object at 0x0000015E57CAE088> has the same name 'GRUCell' as a built-in Keras object. Consider renaming <class 'keras.layers.recurrent.GRUCell'> to avoid naming conflicts when loading with `tf.keras.models.load_model`. If renaming is not possible, pass the object in the `custom_objects` parameter of the load function.\n",
      "WARNING:absl:<keras.layers.recurrent.GRUCell object at 0x0000015E57CAEF48> has the same name 'GRUCell' as a built-in Keras object. Consider renaming <class 'keras.layers.recurrent.GRUCell'> to avoid naming conflicts when loading with `tf.keras.models.load_model`. If renaming is not possible, pass the object in the `custom_objects` parameter of the load function.\n"
     ]
    },
    {
     "name": "stdout",
     "output_type": "stream",
     "text": [
      "1098/1098 [==============================] - 10s 9ms/step - loss: 76.7833 - root_mean_squared_error: 8.7626\n",
      "Epoch 104/200\n",
      "1092/1098 [============================>.] - ETA: 0s - loss: 76.7860 - root_mean_squared_error: 8.7628"
     ]
    },
    {
     "name": "stderr",
     "output_type": "stream",
     "text": [
      "WARNING:absl:Found untraced functions such as gru_cell_layer_call_fn, gru_cell_layer_call_and_return_conditional_losses while saving (showing 2 of 2). These functions will not be directly callable after loading.\n"
     ]
    },
    {
     "name": "stdout",
     "output_type": "stream",
     "text": [
      "INFO:tensorflow:Assets written to: best_model\\assets\n"
     ]
    },
    {
     "name": "stderr",
     "output_type": "stream",
     "text": [
      "INFO:tensorflow:Assets written to: best_model\\assets\n",
      "WARNING:absl:<keras.layers.recurrent.GRUCell object at 0x0000015E57CAE088> has the same name 'GRUCell' as a built-in Keras object. Consider renaming <class 'keras.layers.recurrent.GRUCell'> to avoid naming conflicts when loading with `tf.keras.models.load_model`. If renaming is not possible, pass the object in the `custom_objects` parameter of the load function.\n",
      "WARNING:absl:<keras.layers.recurrent.GRUCell object at 0x0000015E57CAEF48> has the same name 'GRUCell' as a built-in Keras object. Consider renaming <class 'keras.layers.recurrent.GRUCell'> to avoid naming conflicts when loading with `tf.keras.models.load_model`. If renaming is not possible, pass the object in the `custom_objects` parameter of the load function.\n"
     ]
    },
    {
     "name": "stdout",
     "output_type": "stream",
     "text": [
      "1098/1098 [==============================] - 9s 8ms/step - loss: 76.7820 - root_mean_squared_error: 8.7625\n",
      "Epoch 105/200\n",
      "1095/1098 [============================>.] - ETA: 0s - loss: 75.8131 - root_mean_squared_error: 8.7071"
     ]
    },
    {
     "name": "stderr",
     "output_type": "stream",
     "text": [
      "WARNING:absl:Found untraced functions such as gru_cell_layer_call_fn, gru_cell_layer_call_and_return_conditional_losses while saving (showing 2 of 2). These functions will not be directly callable after loading.\n"
     ]
    },
    {
     "name": "stdout",
     "output_type": "stream",
     "text": [
      "INFO:tensorflow:Assets written to: best_model\\assets\n"
     ]
    },
    {
     "name": "stderr",
     "output_type": "stream",
     "text": [
      "INFO:tensorflow:Assets written to: best_model\\assets\n",
      "WARNING:absl:<keras.layers.recurrent.GRUCell object at 0x0000015E57CAE088> has the same name 'GRUCell' as a built-in Keras object. Consider renaming <class 'keras.layers.recurrent.GRUCell'> to avoid naming conflicts when loading with `tf.keras.models.load_model`. If renaming is not possible, pass the object in the `custom_objects` parameter of the load function.\n",
      "WARNING:absl:<keras.layers.recurrent.GRUCell object at 0x0000015E57CAEF48> has the same name 'GRUCell' as a built-in Keras object. Consider renaming <class 'keras.layers.recurrent.GRUCell'> to avoid naming conflicts when loading with `tf.keras.models.load_model`. If renaming is not possible, pass the object in the `custom_objects` parameter of the load function.\n"
     ]
    },
    {
     "name": "stdout",
     "output_type": "stream",
     "text": [
      "1098/1098 [==============================] - 10s 9ms/step - loss: 75.7677 - root_mean_squared_error: 8.7045\n",
      "Epoch 106/200\n",
      "1097/1098 [============================>.] - ETA: 0s - loss: 75.2427 - root_mean_squared_error: 8.6743"
     ]
    },
    {
     "name": "stderr",
     "output_type": "stream",
     "text": [
      "WARNING:absl:Found untraced functions such as gru_cell_layer_call_fn, gru_cell_layer_call_and_return_conditional_losses while saving (showing 2 of 2). These functions will not be directly callable after loading.\n"
     ]
    },
    {
     "name": "stdout",
     "output_type": "stream",
     "text": [
      "INFO:tensorflow:Assets written to: best_model\\assets\n"
     ]
    },
    {
     "name": "stderr",
     "output_type": "stream",
     "text": [
      "INFO:tensorflow:Assets written to: best_model\\assets\n",
      "WARNING:absl:<keras.layers.recurrent.GRUCell object at 0x0000015E57CAE088> has the same name 'GRUCell' as a built-in Keras object. Consider renaming <class 'keras.layers.recurrent.GRUCell'> to avoid naming conflicts when loading with `tf.keras.models.load_model`. If renaming is not possible, pass the object in the `custom_objects` parameter of the load function.\n",
      "WARNING:absl:<keras.layers.recurrent.GRUCell object at 0x0000015E57CAEF48> has the same name 'GRUCell' as a built-in Keras object. Consider renaming <class 'keras.layers.recurrent.GRUCell'> to avoid naming conflicts when loading with `tf.keras.models.load_model`. If renaming is not possible, pass the object in the `custom_objects` parameter of the load function.\n"
     ]
    },
    {
     "name": "stdout",
     "output_type": "stream",
     "text": [
      "1098/1098 [==============================] - 10s 9ms/step - loss: 75.2239 - root_mean_squared_error: 8.6732\n",
      "Epoch 107/200\n",
      "1092/1098 [============================>.] - ETA: 0s - loss: 74.9028 - root_mean_squared_error: 8.6546"
     ]
    },
    {
     "name": "stderr",
     "output_type": "stream",
     "text": [
      "WARNING:absl:Found untraced functions such as gru_cell_layer_call_fn, gru_cell_layer_call_and_return_conditional_losses while saving (showing 2 of 2). These functions will not be directly callable after loading.\n"
     ]
    },
    {
     "name": "stdout",
     "output_type": "stream",
     "text": [
      "INFO:tensorflow:Assets written to: best_model\\assets\n"
     ]
    },
    {
     "name": "stderr",
     "output_type": "stream",
     "text": [
      "INFO:tensorflow:Assets written to: best_model\\assets\n",
      "WARNING:absl:<keras.layers.recurrent.GRUCell object at 0x0000015E57CAE088> has the same name 'GRUCell' as a built-in Keras object. Consider renaming <class 'keras.layers.recurrent.GRUCell'> to avoid naming conflicts when loading with `tf.keras.models.load_model`. If renaming is not possible, pass the object in the `custom_objects` parameter of the load function.\n",
      "WARNING:absl:<keras.layers.recurrent.GRUCell object at 0x0000015E57CAEF48> has the same name 'GRUCell' as a built-in Keras object. Consider renaming <class 'keras.layers.recurrent.GRUCell'> to avoid naming conflicts when loading with `tf.keras.models.load_model`. If renaming is not possible, pass the object in the `custom_objects` parameter of the load function.\n"
     ]
    },
    {
     "name": "stdout",
     "output_type": "stream",
     "text": [
      "1098/1098 [==============================] - 10s 9ms/step - loss: 74.7453 - root_mean_squared_error: 8.6455\n",
      "Epoch 108/200\n",
      "1098/1098 [==============================] - 6s 6ms/step - loss: 75.4256 - root_mean_squared_error: 8.6848\n",
      "Epoch 109/200\n",
      "1089/1098 [============================>.] - ETA: 0s - loss: 74.0780 - root_mean_squared_error: 8.6069"
     ]
    },
    {
     "name": "stderr",
     "output_type": "stream",
     "text": [
      "WARNING:absl:Found untraced functions such as gru_cell_layer_call_fn, gru_cell_layer_call_and_return_conditional_losses while saving (showing 2 of 2). These functions will not be directly callable after loading.\n"
     ]
    },
    {
     "name": "stdout",
     "output_type": "stream",
     "text": [
      "INFO:tensorflow:Assets written to: best_model\\assets\n"
     ]
    },
    {
     "name": "stderr",
     "output_type": "stream",
     "text": [
      "INFO:tensorflow:Assets written to: best_model\\assets\n",
      "WARNING:absl:<keras.layers.recurrent.GRUCell object at 0x0000015E57CAE088> has the same name 'GRUCell' as a built-in Keras object. Consider renaming <class 'keras.layers.recurrent.GRUCell'> to avoid naming conflicts when loading with `tf.keras.models.load_model`. If renaming is not possible, pass the object in the `custom_objects` parameter of the load function.\n",
      "WARNING:absl:<keras.layers.recurrent.GRUCell object at 0x0000015E57CAEF48> has the same name 'GRUCell' as a built-in Keras object. Consider renaming <class 'keras.layers.recurrent.GRUCell'> to avoid naming conflicts when loading with `tf.keras.models.load_model`. If renaming is not possible, pass the object in the `custom_objects` parameter of the load function.\n"
     ]
    },
    {
     "name": "stdout",
     "output_type": "stream",
     "text": [
      "1098/1098 [==============================] - 10s 9ms/step - loss: 74.0668 - root_mean_squared_error: 8.6062\n",
      "Epoch 110/200\n",
      "1097/1098 [============================>.] - ETA: 0s - loss: 73.8504 - root_mean_squared_error: 8.5936"
     ]
    },
    {
     "name": "stderr",
     "output_type": "stream",
     "text": [
      "WARNING:absl:Found untraced functions such as gru_cell_layer_call_fn, gru_cell_layer_call_and_return_conditional_losses while saving (showing 2 of 2). These functions will not be directly callable after loading.\n"
     ]
    },
    {
     "name": "stdout",
     "output_type": "stream",
     "text": [
      "INFO:tensorflow:Assets written to: best_model\\assets\n"
     ]
    },
    {
     "name": "stderr",
     "output_type": "stream",
     "text": [
      "INFO:tensorflow:Assets written to: best_model\\assets\n",
      "WARNING:absl:<keras.layers.recurrent.GRUCell object at 0x0000015E57CAE088> has the same name 'GRUCell' as a built-in Keras object. Consider renaming <class 'keras.layers.recurrent.GRUCell'> to avoid naming conflicts when loading with `tf.keras.models.load_model`. If renaming is not possible, pass the object in the `custom_objects` parameter of the load function.\n",
      "WARNING:absl:<keras.layers.recurrent.GRUCell object at 0x0000015E57CAEF48> has the same name 'GRUCell' as a built-in Keras object. Consider renaming <class 'keras.layers.recurrent.GRUCell'> to avoid naming conflicts when loading with `tf.keras.models.load_model`. If renaming is not possible, pass the object in the `custom_objects` parameter of the load function.\n"
     ]
    },
    {
     "name": "stdout",
     "output_type": "stream",
     "text": [
      "1098/1098 [==============================] - 10s 9ms/step - loss: 73.8215 - root_mean_squared_error: 8.5919\n",
      "Epoch 111/200\n",
      "1091/1098 [============================>.] - ETA: 0s - loss: 72.8709 - root_mean_squared_error: 8.5364"
     ]
    },
    {
     "name": "stderr",
     "output_type": "stream",
     "text": [
      "WARNING:absl:Found untraced functions such as gru_cell_layer_call_fn, gru_cell_layer_call_and_return_conditional_losses while saving (showing 2 of 2). These functions will not be directly callable after loading.\n"
     ]
    },
    {
     "name": "stdout",
     "output_type": "stream",
     "text": [
      "INFO:tensorflow:Assets written to: best_model\\assets\n"
     ]
    },
    {
     "name": "stderr",
     "output_type": "stream",
     "text": [
      "INFO:tensorflow:Assets written to: best_model\\assets\n",
      "WARNING:absl:<keras.layers.recurrent.GRUCell object at 0x0000015E57CAE088> has the same name 'GRUCell' as a built-in Keras object. Consider renaming <class 'keras.layers.recurrent.GRUCell'> to avoid naming conflicts when loading with `tf.keras.models.load_model`. If renaming is not possible, pass the object in the `custom_objects` parameter of the load function.\n",
      "WARNING:absl:<keras.layers.recurrent.GRUCell object at 0x0000015E57CAEF48> has the same name 'GRUCell' as a built-in Keras object. Consider renaming <class 'keras.layers.recurrent.GRUCell'> to avoid naming conflicts when loading with `tf.keras.models.load_model`. If renaming is not possible, pass the object in the `custom_objects` parameter of the load function.\n"
     ]
    },
    {
     "name": "stdout",
     "output_type": "stream",
     "text": [
      "1098/1098 [==============================] - 10s 9ms/step - loss: 72.7748 - root_mean_squared_error: 8.5308\n",
      "Epoch 112/200\n",
      "1098/1098 [==============================] - 6s 6ms/step - loss: 72.7802 - root_mean_squared_error: 8.5311\n",
      "Epoch 113/200\n",
      "1095/1098 [============================>.] - ETA: 0s - loss: 72.6517 - root_mean_squared_error: 8.5236"
     ]
    },
    {
     "name": "stderr",
     "output_type": "stream",
     "text": [
      "WARNING:absl:Found untraced functions such as gru_cell_layer_call_fn, gru_cell_layer_call_and_return_conditional_losses while saving (showing 2 of 2). These functions will not be directly callable after loading.\n"
     ]
    },
    {
     "name": "stdout",
     "output_type": "stream",
     "text": [
      "INFO:tensorflow:Assets written to: best_model\\assets\n"
     ]
    },
    {
     "name": "stderr",
     "output_type": "stream",
     "text": [
      "INFO:tensorflow:Assets written to: best_model\\assets\n",
      "WARNING:absl:<keras.layers.recurrent.GRUCell object at 0x0000015E57CAE088> has the same name 'GRUCell' as a built-in Keras object. Consider renaming <class 'keras.layers.recurrent.GRUCell'> to avoid naming conflicts when loading with `tf.keras.models.load_model`. If renaming is not possible, pass the object in the `custom_objects` parameter of the load function.\n",
      "WARNING:absl:<keras.layers.recurrent.GRUCell object at 0x0000015E57CAEF48> has the same name 'GRUCell' as a built-in Keras object. Consider renaming <class 'keras.layers.recurrent.GRUCell'> to avoid naming conflicts when loading with `tf.keras.models.load_model`. If renaming is not possible, pass the object in the `custom_objects` parameter of the load function.\n"
     ]
    },
    {
     "name": "stdout",
     "output_type": "stream",
     "text": [
      "1098/1098 [==============================] - 9s 9ms/step - loss: 72.5762 - root_mean_squared_error: 8.5192\n",
      "Epoch 114/200\n",
      "1090/1098 [============================>.] - ETA: 0s - loss: 72.2296 - root_mean_squared_error: 8.4988"
     ]
    },
    {
     "name": "stderr",
     "output_type": "stream",
     "text": [
      "WARNING:absl:Found untraced functions such as gru_cell_layer_call_fn, gru_cell_layer_call_and_return_conditional_losses while saving (showing 2 of 2). These functions will not be directly callable after loading.\n"
     ]
    },
    {
     "name": "stdout",
     "output_type": "stream",
     "text": [
      "INFO:tensorflow:Assets written to: best_model\\assets\n"
     ]
    },
    {
     "name": "stderr",
     "output_type": "stream",
     "text": [
      "INFO:tensorflow:Assets written to: best_model\\assets\n",
      "WARNING:absl:<keras.layers.recurrent.GRUCell object at 0x0000015E57CAE088> has the same name 'GRUCell' as a built-in Keras object. Consider renaming <class 'keras.layers.recurrent.GRUCell'> to avoid naming conflicts when loading with `tf.keras.models.load_model`. If renaming is not possible, pass the object in the `custom_objects` parameter of the load function.\n",
      "WARNING:absl:<keras.layers.recurrent.GRUCell object at 0x0000015E57CAEF48> has the same name 'GRUCell' as a built-in Keras object. Consider renaming <class 'keras.layers.recurrent.GRUCell'> to avoid naming conflicts when loading with `tf.keras.models.load_model`. If renaming is not possible, pass the object in the `custom_objects` parameter of the load function.\n"
     ]
    },
    {
     "name": "stdout",
     "output_type": "stream",
     "text": [
      "1098/1098 [==============================] - 10s 9ms/step - loss: 72.2297 - root_mean_squared_error: 8.4988\n",
      "Epoch 115/200\n",
      "1094/1098 [============================>.] - ETA: 0s - loss: 71.7664 - root_mean_squared_error: 8.4715"
     ]
    },
    {
     "name": "stderr",
     "output_type": "stream",
     "text": [
      "WARNING:absl:Found untraced functions such as gru_cell_layer_call_fn, gru_cell_layer_call_and_return_conditional_losses while saving (showing 2 of 2). These functions will not be directly callable after loading.\n"
     ]
    },
    {
     "name": "stdout",
     "output_type": "stream",
     "text": [
      "INFO:tensorflow:Assets written to: best_model\\assets\n"
     ]
    },
    {
     "name": "stderr",
     "output_type": "stream",
     "text": [
      "INFO:tensorflow:Assets written to: best_model\\assets\n",
      "WARNING:absl:<keras.layers.recurrent.GRUCell object at 0x0000015E57CAE088> has the same name 'GRUCell' as a built-in Keras object. Consider renaming <class 'keras.layers.recurrent.GRUCell'> to avoid naming conflicts when loading with `tf.keras.models.load_model`. If renaming is not possible, pass the object in the `custom_objects` parameter of the load function.\n",
      "WARNING:absl:<keras.layers.recurrent.GRUCell object at 0x0000015E57CAEF48> has the same name 'GRUCell' as a built-in Keras object. Consider renaming <class 'keras.layers.recurrent.GRUCell'> to avoid naming conflicts when loading with `tf.keras.models.load_model`. If renaming is not possible, pass the object in the `custom_objects` parameter of the load function.\n"
     ]
    },
    {
     "name": "stdout",
     "output_type": "stream",
     "text": [
      "1098/1098 [==============================] - 10s 9ms/step - loss: 71.7711 - root_mean_squared_error: 8.4718\n",
      "Epoch 116/200\n",
      "1095/1098 [============================>.] - ETA: 0s - loss: 70.8073 - root_mean_squared_error: 8.4147"
     ]
    },
    {
     "name": "stderr",
     "output_type": "stream",
     "text": [
      "WARNING:absl:Found untraced functions such as gru_cell_layer_call_fn, gru_cell_layer_call_and_return_conditional_losses while saving (showing 2 of 2). These functions will not be directly callable after loading.\n"
     ]
    },
    {
     "name": "stdout",
     "output_type": "stream",
     "text": [
      "INFO:tensorflow:Assets written to: best_model\\assets\n"
     ]
    },
    {
     "name": "stderr",
     "output_type": "stream",
     "text": [
      "INFO:tensorflow:Assets written to: best_model\\assets\n",
      "WARNING:absl:<keras.layers.recurrent.GRUCell object at 0x0000015E57CAE088> has the same name 'GRUCell' as a built-in Keras object. Consider renaming <class 'keras.layers.recurrent.GRUCell'> to avoid naming conflicts when loading with `tf.keras.models.load_model`. If renaming is not possible, pass the object in the `custom_objects` parameter of the load function.\n",
      "WARNING:absl:<keras.layers.recurrent.GRUCell object at 0x0000015E57CAEF48> has the same name 'GRUCell' as a built-in Keras object. Consider renaming <class 'keras.layers.recurrent.GRUCell'> to avoid naming conflicts when loading with `tf.keras.models.load_model`. If renaming is not possible, pass the object in the `custom_objects` parameter of the load function.\n"
     ]
    },
    {
     "name": "stdout",
     "output_type": "stream",
     "text": [
      "1098/1098 [==============================] - 10s 9ms/step - loss: 70.7006 - root_mean_squared_error: 8.4084\n",
      "Epoch 117/200\n",
      "1098/1098 [==============================] - 7s 6ms/step - loss: 70.7920 - root_mean_squared_error: 8.4138\n",
      "Epoch 118/200\n",
      "1098/1098 [==============================] - 6s 6ms/step - loss: 70.7906 - root_mean_squared_error: 8.4137\n",
      "Epoch 119/200\n",
      "1094/1098 [============================>.] - ETA: 0s - loss: 70.2452 - root_mean_squared_error: 8.3812"
     ]
    },
    {
     "name": "stderr",
     "output_type": "stream",
     "text": [
      "WARNING:absl:Found untraced functions such as gru_cell_layer_call_fn, gru_cell_layer_call_and_return_conditional_losses while saving (showing 2 of 2). These functions will not be directly callable after loading.\n"
     ]
    },
    {
     "name": "stdout",
     "output_type": "stream",
     "text": [
      "INFO:tensorflow:Assets written to: best_model\\assets\n"
     ]
    },
    {
     "name": "stderr",
     "output_type": "stream",
     "text": [
      "INFO:tensorflow:Assets written to: best_model\\assets\n",
      "WARNING:absl:<keras.layers.recurrent.GRUCell object at 0x0000015E57CAE088> has the same name 'GRUCell' as a built-in Keras object. Consider renaming <class 'keras.layers.recurrent.GRUCell'> to avoid naming conflicts when loading with `tf.keras.models.load_model`. If renaming is not possible, pass the object in the `custom_objects` parameter of the load function.\n",
      "WARNING:absl:<keras.layers.recurrent.GRUCell object at 0x0000015E57CAEF48> has the same name 'GRUCell' as a built-in Keras object. Consider renaming <class 'keras.layers.recurrent.GRUCell'> to avoid naming conflicts when loading with `tf.keras.models.load_model`. If renaming is not possible, pass the object in the `custom_objects` parameter of the load function.\n"
     ]
    },
    {
     "name": "stdout",
     "output_type": "stream",
     "text": [
      "1098/1098 [==============================] - 11s 10ms/step - loss: 70.3436 - root_mean_squared_error: 8.3871\n",
      "Epoch 120/200\n",
      "1098/1098 [==============================] - 6s 6ms/step - loss: 70.3984 - root_mean_squared_error: 8.3904\n",
      "Epoch 121/200\n",
      "1095/1098 [============================>.] - ETA: 0s - loss: 70.1076 - root_mean_squared_error: 8.3730"
     ]
    },
    {
     "name": "stderr",
     "output_type": "stream",
     "text": [
      "WARNING:absl:Found untraced functions such as gru_cell_layer_call_fn, gru_cell_layer_call_and_return_conditional_losses while saving (showing 2 of 2). These functions will not be directly callable after loading.\n"
     ]
    },
    {
     "name": "stdout",
     "output_type": "stream",
     "text": [
      "INFO:tensorflow:Assets written to: best_model\\assets\n"
     ]
    },
    {
     "name": "stderr",
     "output_type": "stream",
     "text": [
      "INFO:tensorflow:Assets written to: best_model\\assets\n",
      "WARNING:absl:<keras.layers.recurrent.GRUCell object at 0x0000015E57CAE088> has the same name 'GRUCell' as a built-in Keras object. Consider renaming <class 'keras.layers.recurrent.GRUCell'> to avoid naming conflicts when loading with `tf.keras.models.load_model`. If renaming is not possible, pass the object in the `custom_objects` parameter of the load function.\n",
      "WARNING:absl:<keras.layers.recurrent.GRUCell object at 0x0000015E57CAEF48> has the same name 'GRUCell' as a built-in Keras object. Consider renaming <class 'keras.layers.recurrent.GRUCell'> to avoid naming conflicts when loading with `tf.keras.models.load_model`. If renaming is not possible, pass the object in the `custom_objects` parameter of the load function.\n"
     ]
    },
    {
     "name": "stdout",
     "output_type": "stream",
     "text": [
      "1098/1098 [==============================] - 10s 9ms/step - loss: 70.0521 - root_mean_squared_error: 8.3697\n",
      "Epoch 122/200\n",
      "1094/1098 [============================>.] - ETA: 0s - loss: 68.9891 - root_mean_squared_error: 8.3060"
     ]
    },
    {
     "name": "stderr",
     "output_type": "stream",
     "text": [
      "WARNING:absl:Found untraced functions such as gru_cell_layer_call_fn, gru_cell_layer_call_and_return_conditional_losses while saving (showing 2 of 2). These functions will not be directly callable after loading.\n"
     ]
    },
    {
     "name": "stdout",
     "output_type": "stream",
     "text": [
      "INFO:tensorflow:Assets written to: best_model\\assets\n"
     ]
    },
    {
     "name": "stderr",
     "output_type": "stream",
     "text": [
      "INFO:tensorflow:Assets written to: best_model\\assets\n",
      "WARNING:absl:<keras.layers.recurrent.GRUCell object at 0x0000015E57CAE088> has the same name 'GRUCell' as a built-in Keras object. Consider renaming <class 'keras.layers.recurrent.GRUCell'> to avoid naming conflicts when loading with `tf.keras.models.load_model`. If renaming is not possible, pass the object in the `custom_objects` parameter of the load function.\n",
      "WARNING:absl:<keras.layers.recurrent.GRUCell object at 0x0000015E57CAEF48> has the same name 'GRUCell' as a built-in Keras object. Consider renaming <class 'keras.layers.recurrent.GRUCell'> to avoid naming conflicts when loading with `tf.keras.models.load_model`. If renaming is not possible, pass the object in the `custom_objects` parameter of the load function.\n"
     ]
    },
    {
     "name": "stdout",
     "output_type": "stream",
     "text": [
      "1098/1098 [==============================] - 10s 9ms/step - loss: 68.9707 - root_mean_squared_error: 8.3049\n",
      "Epoch 123/200\n",
      "1093/1098 [============================>.] - ETA: 0s - loss: 68.2993 - root_mean_squared_error: 8.2643"
     ]
    },
    {
     "name": "stderr",
     "output_type": "stream",
     "text": [
      "WARNING:absl:Found untraced functions such as gru_cell_layer_call_fn, gru_cell_layer_call_and_return_conditional_losses while saving (showing 2 of 2). These functions will not be directly callable after loading.\n"
     ]
    },
    {
     "name": "stdout",
     "output_type": "stream",
     "text": [
      "INFO:tensorflow:Assets written to: best_model\\assets\n"
     ]
    },
    {
     "name": "stderr",
     "output_type": "stream",
     "text": [
      "INFO:tensorflow:Assets written to: best_model\\assets\n",
      "WARNING:absl:<keras.layers.recurrent.GRUCell object at 0x0000015E57CAE088> has the same name 'GRUCell' as a built-in Keras object. Consider renaming <class 'keras.layers.recurrent.GRUCell'> to avoid naming conflicts when loading with `tf.keras.models.load_model`. If renaming is not possible, pass the object in the `custom_objects` parameter of the load function.\n",
      "WARNING:absl:<keras.layers.recurrent.GRUCell object at 0x0000015E57CAEF48> has the same name 'GRUCell' as a built-in Keras object. Consider renaming <class 'keras.layers.recurrent.GRUCell'> to avoid naming conflicts when loading with `tf.keras.models.load_model`. If renaming is not possible, pass the object in the `custom_objects` parameter of the load function.\n"
     ]
    },
    {
     "name": "stdout",
     "output_type": "stream",
     "text": [
      "1098/1098 [==============================] - 10s 9ms/step - loss: 68.6785 - root_mean_squared_error: 8.2872\n",
      "Epoch 124/200\n",
      "1093/1098 [============================>.] - ETA: 0s - loss: 67.8707 - root_mean_squared_error: 8.2384"
     ]
    },
    {
     "name": "stderr",
     "output_type": "stream",
     "text": [
      "WARNING:absl:Found untraced functions such as gru_cell_layer_call_fn, gru_cell_layer_call_and_return_conditional_losses while saving (showing 2 of 2). These functions will not be directly callable after loading.\n"
     ]
    },
    {
     "name": "stdout",
     "output_type": "stream",
     "text": [
      "INFO:tensorflow:Assets written to: best_model\\assets\n"
     ]
    },
    {
     "name": "stderr",
     "output_type": "stream",
     "text": [
      "INFO:tensorflow:Assets written to: best_model\\assets\n",
      "WARNING:absl:<keras.layers.recurrent.GRUCell object at 0x0000015E57CAE088> has the same name 'GRUCell' as a built-in Keras object. Consider renaming <class 'keras.layers.recurrent.GRUCell'> to avoid naming conflicts when loading with `tf.keras.models.load_model`. If renaming is not possible, pass the object in the `custom_objects` parameter of the load function.\n",
      "WARNING:absl:<keras.layers.recurrent.GRUCell object at 0x0000015E57CAEF48> has the same name 'GRUCell' as a built-in Keras object. Consider renaming <class 'keras.layers.recurrent.GRUCell'> to avoid naming conflicts when loading with `tf.keras.models.load_model`. If renaming is not possible, pass the object in the `custom_objects` parameter of the load function.\n"
     ]
    },
    {
     "name": "stdout",
     "output_type": "stream",
     "text": [
      "1098/1098 [==============================] - 10s 9ms/step - loss: 67.9350 - root_mean_squared_error: 8.2423\n",
      "Epoch 125/200\n",
      "1098/1098 [==============================] - 7s 6ms/step - loss: 68.0006 - root_mean_squared_error: 8.2462\n",
      "Epoch 126/200\n",
      "1095/1098 [============================>.] - ETA: 0s - loss: 67.4884 - root_mean_squared_error: 8.2151"
     ]
    },
    {
     "name": "stderr",
     "output_type": "stream",
     "text": [
      "WARNING:absl:Found untraced functions such as gru_cell_layer_call_fn, gru_cell_layer_call_and_return_conditional_losses while saving (showing 2 of 2). These functions will not be directly callable after loading.\n"
     ]
    },
    {
     "name": "stdout",
     "output_type": "stream",
     "text": [
      "INFO:tensorflow:Assets written to: best_model\\assets\n"
     ]
    },
    {
     "name": "stderr",
     "output_type": "stream",
     "text": [
      "INFO:tensorflow:Assets written to: best_model\\assets\n",
      "WARNING:absl:<keras.layers.recurrent.GRUCell object at 0x0000015E57CAE088> has the same name 'GRUCell' as a built-in Keras object. Consider renaming <class 'keras.layers.recurrent.GRUCell'> to avoid naming conflicts when loading with `tf.keras.models.load_model`. If renaming is not possible, pass the object in the `custom_objects` parameter of the load function.\n",
      "WARNING:absl:<keras.layers.recurrent.GRUCell object at 0x0000015E57CAEF48> has the same name 'GRUCell' as a built-in Keras object. Consider renaming <class 'keras.layers.recurrent.GRUCell'> to avoid naming conflicts when loading with `tf.keras.models.load_model`. If renaming is not possible, pass the object in the `custom_objects` parameter of the load function.\n"
     ]
    },
    {
     "name": "stdout",
     "output_type": "stream",
     "text": [
      "1098/1098 [==============================] - 10s 9ms/step - loss: 67.5791 - root_mean_squared_error: 8.2206\n",
      "Epoch 127/200\n",
      "1096/1098 [============================>.] - ETA: 0s - loss: 67.0037 - root_mean_squared_error: 8.1856"
     ]
    },
    {
     "name": "stderr",
     "output_type": "stream",
     "text": [
      "WARNING:absl:Found untraced functions such as gru_cell_layer_call_fn, gru_cell_layer_call_and_return_conditional_losses while saving (showing 2 of 2). These functions will not be directly callable after loading.\n"
     ]
    },
    {
     "name": "stdout",
     "output_type": "stream",
     "text": [
      "INFO:tensorflow:Assets written to: best_model\\assets\n"
     ]
    },
    {
     "name": "stderr",
     "output_type": "stream",
     "text": [
      "INFO:tensorflow:Assets written to: best_model\\assets\n",
      "WARNING:absl:<keras.layers.recurrent.GRUCell object at 0x0000015E57CAE088> has the same name 'GRUCell' as a built-in Keras object. Consider renaming <class 'keras.layers.recurrent.GRUCell'> to avoid naming conflicts when loading with `tf.keras.models.load_model`. If renaming is not possible, pass the object in the `custom_objects` parameter of the load function.\n",
      "WARNING:absl:<keras.layers.recurrent.GRUCell object at 0x0000015E57CAEF48> has the same name 'GRUCell' as a built-in Keras object. Consider renaming <class 'keras.layers.recurrent.GRUCell'> to avoid naming conflicts when loading with `tf.keras.models.load_model`. If renaming is not possible, pass the object in the `custom_objects` parameter of the load function.\n"
     ]
    },
    {
     "name": "stdout",
     "output_type": "stream",
     "text": [
      "1098/1098 [==============================] - 10s 10ms/step - loss: 66.9842 - root_mean_squared_error: 8.1844\n",
      "Epoch 128/200\n",
      "1092/1098 [============================>.] - ETA: 0s - loss: 66.6765 - root_mean_squared_error: 8.1656"
     ]
    },
    {
     "name": "stderr",
     "output_type": "stream",
     "text": [
      "WARNING:absl:Found untraced functions such as gru_cell_layer_call_fn, gru_cell_layer_call_and_return_conditional_losses while saving (showing 2 of 2). These functions will not be directly callable after loading.\n"
     ]
    },
    {
     "name": "stdout",
     "output_type": "stream",
     "text": [
      "INFO:tensorflow:Assets written to: best_model\\assets\n"
     ]
    },
    {
     "name": "stderr",
     "output_type": "stream",
     "text": [
      "INFO:tensorflow:Assets written to: best_model\\assets\n",
      "WARNING:absl:<keras.layers.recurrent.GRUCell object at 0x0000015E57CAE088> has the same name 'GRUCell' as a built-in Keras object. Consider renaming <class 'keras.layers.recurrent.GRUCell'> to avoid naming conflicts when loading with `tf.keras.models.load_model`. If renaming is not possible, pass the object in the `custom_objects` parameter of the load function.\n",
      "WARNING:absl:<keras.layers.recurrent.GRUCell object at 0x0000015E57CAEF48> has the same name 'GRUCell' as a built-in Keras object. Consider renaming <class 'keras.layers.recurrent.GRUCell'> to avoid naming conflicts when loading with `tf.keras.models.load_model`. If renaming is not possible, pass the object in the `custom_objects` parameter of the load function.\n"
     ]
    },
    {
     "name": "stdout",
     "output_type": "stream",
     "text": [
      "1098/1098 [==============================] - 10s 9ms/step - loss: 66.5522 - root_mean_squared_error: 8.1580\n",
      "Epoch 129/200\n",
      "1098/1098 [==============================] - ETA: 0s - loss: 66.4408 - root_mean_squared_error: 8.1511"
     ]
    },
    {
     "name": "stderr",
     "output_type": "stream",
     "text": [
      "WARNING:absl:Found untraced functions such as gru_cell_layer_call_fn, gru_cell_layer_call_and_return_conditional_losses while saving (showing 2 of 2). These functions will not be directly callable after loading.\n"
     ]
    },
    {
     "name": "stdout",
     "output_type": "stream",
     "text": [
      "INFO:tensorflow:Assets written to: best_model\\assets\n"
     ]
    },
    {
     "name": "stderr",
     "output_type": "stream",
     "text": [
      "INFO:tensorflow:Assets written to: best_model\\assets\n",
      "WARNING:absl:<keras.layers.recurrent.GRUCell object at 0x0000015E57CAE088> has the same name 'GRUCell' as a built-in Keras object. Consider renaming <class 'keras.layers.recurrent.GRUCell'> to avoid naming conflicts when loading with `tf.keras.models.load_model`. If renaming is not possible, pass the object in the `custom_objects` parameter of the load function.\n",
      "WARNING:absl:<keras.layers.recurrent.GRUCell object at 0x0000015E57CAEF48> has the same name 'GRUCell' as a built-in Keras object. Consider renaming <class 'keras.layers.recurrent.GRUCell'> to avoid naming conflicts when loading with `tf.keras.models.load_model`. If renaming is not possible, pass the object in the `custom_objects` parameter of the load function.\n"
     ]
    },
    {
     "name": "stdout",
     "output_type": "stream",
     "text": [
      "1098/1098 [==============================] - 10s 9ms/step - loss: 66.4408 - root_mean_squared_error: 8.1511\n",
      "Epoch 130/200\n",
      "1098/1098 [==============================] - ETA: 0s - loss: 65.8654 - root_mean_squared_error: 8.1158"
     ]
    },
    {
     "name": "stderr",
     "output_type": "stream",
     "text": [
      "WARNING:absl:Found untraced functions such as gru_cell_layer_call_fn, gru_cell_layer_call_and_return_conditional_losses while saving (showing 2 of 2). These functions will not be directly callable after loading.\n"
     ]
    },
    {
     "name": "stdout",
     "output_type": "stream",
     "text": [
      "INFO:tensorflow:Assets written to: best_model\\assets\n"
     ]
    },
    {
     "name": "stderr",
     "output_type": "stream",
     "text": [
      "INFO:tensorflow:Assets written to: best_model\\assets\n",
      "WARNING:absl:<keras.layers.recurrent.GRUCell object at 0x0000015E57CAE088> has the same name 'GRUCell' as a built-in Keras object. Consider renaming <class 'keras.layers.recurrent.GRUCell'> to avoid naming conflicts when loading with `tf.keras.models.load_model`. If renaming is not possible, pass the object in the `custom_objects` parameter of the load function.\n",
      "WARNING:absl:<keras.layers.recurrent.GRUCell object at 0x0000015E57CAEF48> has the same name 'GRUCell' as a built-in Keras object. Consider renaming <class 'keras.layers.recurrent.GRUCell'> to avoid naming conflicts when loading with `tf.keras.models.load_model`. If renaming is not possible, pass the object in the `custom_objects` parameter of the load function.\n"
     ]
    },
    {
     "name": "stdout",
     "output_type": "stream",
     "text": [
      "1098/1098 [==============================] - 10s 9ms/step - loss: 65.8654 - root_mean_squared_error: 8.1158\n",
      "Epoch 131/200\n",
      "1091/1098 [============================>.] - ETA: 0s - loss: 65.8531 - root_mean_squared_error: 8.1150"
     ]
    },
    {
     "name": "stderr",
     "output_type": "stream",
     "text": [
      "WARNING:absl:Found untraced functions such as gru_cell_layer_call_fn, gru_cell_layer_call_and_return_conditional_losses while saving (showing 2 of 2). These functions will not be directly callable after loading.\n"
     ]
    },
    {
     "name": "stdout",
     "output_type": "stream",
     "text": [
      "INFO:tensorflow:Assets written to: best_model\\assets\n"
     ]
    },
    {
     "name": "stderr",
     "output_type": "stream",
     "text": [
      "INFO:tensorflow:Assets written to: best_model\\assets\n",
      "WARNING:absl:<keras.layers.recurrent.GRUCell object at 0x0000015E57CAE088> has the same name 'GRUCell' as a built-in Keras object. Consider renaming <class 'keras.layers.recurrent.GRUCell'> to avoid naming conflicts when loading with `tf.keras.models.load_model`. If renaming is not possible, pass the object in the `custom_objects` parameter of the load function.\n",
      "WARNING:absl:<keras.layers.recurrent.GRUCell object at 0x0000015E57CAEF48> has the same name 'GRUCell' as a built-in Keras object. Consider renaming <class 'keras.layers.recurrent.GRUCell'> to avoid naming conflicts when loading with `tf.keras.models.load_model`. If renaming is not possible, pass the object in the `custom_objects` parameter of the load function.\n"
     ]
    },
    {
     "name": "stdout",
     "output_type": "stream",
     "text": [
      "1098/1098 [==============================] - 10s 9ms/step - loss: 65.7957 - root_mean_squared_error: 8.1115\n",
      "Epoch 132/200\n",
      "1094/1098 [============================>.] - ETA: 0s - loss: 65.1294 - root_mean_squared_error: 8.0703"
     ]
    },
    {
     "name": "stderr",
     "output_type": "stream",
     "text": [
      "WARNING:absl:Found untraced functions such as gru_cell_layer_call_fn, gru_cell_layer_call_and_return_conditional_losses while saving (showing 2 of 2). These functions will not be directly callable after loading.\n"
     ]
    },
    {
     "name": "stdout",
     "output_type": "stream",
     "text": [
      "INFO:tensorflow:Assets written to: best_model\\assets\n"
     ]
    },
    {
     "name": "stderr",
     "output_type": "stream",
     "text": [
      "INFO:tensorflow:Assets written to: best_model\\assets\n",
      "WARNING:absl:<keras.layers.recurrent.GRUCell object at 0x0000015E57CAE088> has the same name 'GRUCell' as a built-in Keras object. Consider renaming <class 'keras.layers.recurrent.GRUCell'> to avoid naming conflicts when loading with `tf.keras.models.load_model`. If renaming is not possible, pass the object in the `custom_objects` parameter of the load function.\n",
      "WARNING:absl:<keras.layers.recurrent.GRUCell object at 0x0000015E57CAEF48> has the same name 'GRUCell' as a built-in Keras object. Consider renaming <class 'keras.layers.recurrent.GRUCell'> to avoid naming conflicts when loading with `tf.keras.models.load_model`. If renaming is not possible, pass the object in the `custom_objects` parameter of the load function.\n"
     ]
    },
    {
     "name": "stdout",
     "output_type": "stream",
     "text": [
      "1098/1098 [==============================] - 10s 9ms/step - loss: 65.2353 - root_mean_squared_error: 8.0768\n",
      "Epoch 133/200\n",
      "1096/1098 [============================>.] - ETA: 0s - loss: 64.9081 - root_mean_squared_error: 8.0566"
     ]
    },
    {
     "name": "stderr",
     "output_type": "stream",
     "text": [
      "WARNING:absl:Found untraced functions such as gru_cell_layer_call_fn, gru_cell_layer_call_and_return_conditional_losses while saving (showing 2 of 2). These functions will not be directly callable after loading.\n"
     ]
    },
    {
     "name": "stdout",
     "output_type": "stream",
     "text": [
      "INFO:tensorflow:Assets written to: best_model\\assets\n"
     ]
    },
    {
     "name": "stderr",
     "output_type": "stream",
     "text": [
      "INFO:tensorflow:Assets written to: best_model\\assets\n",
      "WARNING:absl:<keras.layers.recurrent.GRUCell object at 0x0000015E57CAE088> has the same name 'GRUCell' as a built-in Keras object. Consider renaming <class 'keras.layers.recurrent.GRUCell'> to avoid naming conflicts when loading with `tf.keras.models.load_model`. If renaming is not possible, pass the object in the `custom_objects` parameter of the load function.\n",
      "WARNING:absl:<keras.layers.recurrent.GRUCell object at 0x0000015E57CAEF48> has the same name 'GRUCell' as a built-in Keras object. Consider renaming <class 'keras.layers.recurrent.GRUCell'> to avoid naming conflicts when loading with `tf.keras.models.load_model`. If renaming is not possible, pass the object in the `custom_objects` parameter of the load function.\n"
     ]
    },
    {
     "name": "stdout",
     "output_type": "stream",
     "text": [
      "1098/1098 [==============================] - 10s 10ms/step - loss: 64.9141 - root_mean_squared_error: 8.0569\n",
      "Epoch 134/200\n",
      "1098/1098 [==============================] - ETA: 0s - loss: 64.8927 - root_mean_squared_error: 8.0556"
     ]
    },
    {
     "name": "stderr",
     "output_type": "stream",
     "text": [
      "WARNING:absl:Found untraced functions such as gru_cell_layer_call_fn, gru_cell_layer_call_and_return_conditional_losses while saving (showing 2 of 2). These functions will not be directly callable after loading.\n"
     ]
    },
    {
     "name": "stdout",
     "output_type": "stream",
     "text": [
      "INFO:tensorflow:Assets written to: best_model\\assets\n"
     ]
    },
    {
     "name": "stderr",
     "output_type": "stream",
     "text": [
      "INFO:tensorflow:Assets written to: best_model\\assets\n",
      "WARNING:absl:<keras.layers.recurrent.GRUCell object at 0x0000015E57CAE088> has the same name 'GRUCell' as a built-in Keras object. Consider renaming <class 'keras.layers.recurrent.GRUCell'> to avoid naming conflicts when loading with `tf.keras.models.load_model`. If renaming is not possible, pass the object in the `custom_objects` parameter of the load function.\n",
      "WARNING:absl:<keras.layers.recurrent.GRUCell object at 0x0000015E57CAEF48> has the same name 'GRUCell' as a built-in Keras object. Consider renaming <class 'keras.layers.recurrent.GRUCell'> to avoid naming conflicts when loading with `tf.keras.models.load_model`. If renaming is not possible, pass the object in the `custom_objects` parameter of the load function.\n"
     ]
    },
    {
     "name": "stdout",
     "output_type": "stream",
     "text": [
      "1098/1098 [==============================] - 10s 9ms/step - loss: 64.8927 - root_mean_squared_error: 8.0556\n",
      "Epoch 135/200\n",
      "1097/1098 [============================>.] - ETA: 0s - loss: 64.5154 - root_mean_squared_error: 8.0321"
     ]
    },
    {
     "name": "stderr",
     "output_type": "stream",
     "text": [
      "WARNING:absl:Found untraced functions such as gru_cell_layer_call_fn, gru_cell_layer_call_and_return_conditional_losses while saving (showing 2 of 2). These functions will not be directly callable after loading.\n"
     ]
    },
    {
     "name": "stdout",
     "output_type": "stream",
     "text": [
      "INFO:tensorflow:Assets written to: best_model\\assets\n"
     ]
    },
    {
     "name": "stderr",
     "output_type": "stream",
     "text": [
      "INFO:tensorflow:Assets written to: best_model\\assets\n",
      "WARNING:absl:<keras.layers.recurrent.GRUCell object at 0x0000015E57CAE088> has the same name 'GRUCell' as a built-in Keras object. Consider renaming <class 'keras.layers.recurrent.GRUCell'> to avoid naming conflicts when loading with `tf.keras.models.load_model`. If renaming is not possible, pass the object in the `custom_objects` parameter of the load function.\n",
      "WARNING:absl:<keras.layers.recurrent.GRUCell object at 0x0000015E57CAEF48> has the same name 'GRUCell' as a built-in Keras object. Consider renaming <class 'keras.layers.recurrent.GRUCell'> to avoid naming conflicts when loading with `tf.keras.models.load_model`. If renaming is not possible, pass the object in the `custom_objects` parameter of the load function.\n"
     ]
    },
    {
     "name": "stdout",
     "output_type": "stream",
     "text": [
      "1098/1098 [==============================] - 10s 9ms/step - loss: 64.5261 - root_mean_squared_error: 8.0328\n",
      "Epoch 136/200\n",
      "1097/1098 [============================>.] - ETA: 0s - loss: 64.2186 - root_mean_squared_error: 8.0136"
     ]
    },
    {
     "name": "stderr",
     "output_type": "stream",
     "text": [
      "WARNING:absl:Found untraced functions such as gru_cell_layer_call_fn, gru_cell_layer_call_and_return_conditional_losses while saving (showing 2 of 2). These functions will not be directly callable after loading.\n"
     ]
    },
    {
     "name": "stdout",
     "output_type": "stream",
     "text": [
      "INFO:tensorflow:Assets written to: best_model\\assets\n"
     ]
    },
    {
     "name": "stderr",
     "output_type": "stream",
     "text": [
      "INFO:tensorflow:Assets written to: best_model\\assets\n",
      "WARNING:absl:<keras.layers.recurrent.GRUCell object at 0x0000015E57CAE088> has the same name 'GRUCell' as a built-in Keras object. Consider renaming <class 'keras.layers.recurrent.GRUCell'> to avoid naming conflicts when loading with `tf.keras.models.load_model`. If renaming is not possible, pass the object in the `custom_objects` parameter of the load function.\n",
      "WARNING:absl:<keras.layers.recurrent.GRUCell object at 0x0000015E57CAEF48> has the same name 'GRUCell' as a built-in Keras object. Consider renaming <class 'keras.layers.recurrent.GRUCell'> to avoid naming conflicts when loading with `tf.keras.models.load_model`. If renaming is not possible, pass the object in the `custom_objects` parameter of the load function.\n"
     ]
    },
    {
     "name": "stdout",
     "output_type": "stream",
     "text": [
      "1098/1098 [==============================] - 10s 9ms/step - loss: 64.1971 - root_mean_squared_error: 8.0123\n",
      "Epoch 137/200\n",
      "1095/1098 [============================>.] - ETA: 0s - loss: 63.7336 - root_mean_squared_error: 7.9833"
     ]
    },
    {
     "name": "stderr",
     "output_type": "stream",
     "text": [
      "WARNING:absl:Found untraced functions such as gru_cell_layer_call_fn, gru_cell_layer_call_and_return_conditional_losses while saving (showing 2 of 2). These functions will not be directly callable after loading.\n"
     ]
    },
    {
     "name": "stdout",
     "output_type": "stream",
     "text": [
      "INFO:tensorflow:Assets written to: best_model\\assets\n"
     ]
    },
    {
     "name": "stderr",
     "output_type": "stream",
     "text": [
      "INFO:tensorflow:Assets written to: best_model\\assets\n",
      "WARNING:absl:<keras.layers.recurrent.GRUCell object at 0x0000015E57CAE088> has the same name 'GRUCell' as a built-in Keras object. Consider renaming <class 'keras.layers.recurrent.GRUCell'> to avoid naming conflicts when loading with `tf.keras.models.load_model`. If renaming is not possible, pass the object in the `custom_objects` parameter of the load function.\n",
      "WARNING:absl:<keras.layers.recurrent.GRUCell object at 0x0000015E57CAEF48> has the same name 'GRUCell' as a built-in Keras object. Consider renaming <class 'keras.layers.recurrent.GRUCell'> to avoid naming conflicts when loading with `tf.keras.models.load_model`. If renaming is not possible, pass the object in the `custom_objects` parameter of the load function.\n"
     ]
    },
    {
     "name": "stdout",
     "output_type": "stream",
     "text": [
      "1098/1098 [==============================] - 10s 9ms/step - loss: 63.7191 - root_mean_squared_error: 7.9824\n",
      "Epoch 138/200\n",
      "1098/1098 [==============================] - ETA: 0s - loss: 63.1275 - root_mean_squared_error: 7.9453"
     ]
    },
    {
     "name": "stderr",
     "output_type": "stream",
     "text": [
      "WARNING:absl:Found untraced functions such as gru_cell_layer_call_fn, gru_cell_layer_call_and_return_conditional_losses while saving (showing 2 of 2). These functions will not be directly callable after loading.\n"
     ]
    },
    {
     "name": "stdout",
     "output_type": "stream",
     "text": [
      "INFO:tensorflow:Assets written to: best_model\\assets\n"
     ]
    },
    {
     "name": "stderr",
     "output_type": "stream",
     "text": [
      "INFO:tensorflow:Assets written to: best_model\\assets\n",
      "WARNING:absl:<keras.layers.recurrent.GRUCell object at 0x0000015E57CAE088> has the same name 'GRUCell' as a built-in Keras object. Consider renaming <class 'keras.layers.recurrent.GRUCell'> to avoid naming conflicts when loading with `tf.keras.models.load_model`. If renaming is not possible, pass the object in the `custom_objects` parameter of the load function.\n",
      "WARNING:absl:<keras.layers.recurrent.GRUCell object at 0x0000015E57CAEF48> has the same name 'GRUCell' as a built-in Keras object. Consider renaming <class 'keras.layers.recurrent.GRUCell'> to avoid naming conflicts when loading with `tf.keras.models.load_model`. If renaming is not possible, pass the object in the `custom_objects` parameter of the load function.\n"
     ]
    },
    {
     "name": "stdout",
     "output_type": "stream",
     "text": [
      "1098/1098 [==============================] - 10s 9ms/step - loss: 63.1275 - root_mean_squared_error: 7.9453\n",
      "Epoch 139/200\n",
      "1097/1098 [============================>.] - ETA: 0s - loss: 62.5584 - root_mean_squared_error: 7.9094"
     ]
    },
    {
     "name": "stderr",
     "output_type": "stream",
     "text": [
      "WARNING:absl:Found untraced functions such as gru_cell_layer_call_fn, gru_cell_layer_call_and_return_conditional_losses while saving (showing 2 of 2). These functions will not be directly callable after loading.\n"
     ]
    },
    {
     "name": "stdout",
     "output_type": "stream",
     "text": [
      "INFO:tensorflow:Assets written to: best_model\\assets\n"
     ]
    },
    {
     "name": "stderr",
     "output_type": "stream",
     "text": [
      "INFO:tensorflow:Assets written to: best_model\\assets\n",
      "WARNING:absl:<keras.layers.recurrent.GRUCell object at 0x0000015E57CAE088> has the same name 'GRUCell' as a built-in Keras object. Consider renaming <class 'keras.layers.recurrent.GRUCell'> to avoid naming conflicts when loading with `tf.keras.models.load_model`. If renaming is not possible, pass the object in the `custom_objects` parameter of the load function.\n",
      "WARNING:absl:<keras.layers.recurrent.GRUCell object at 0x0000015E57CAEF48> has the same name 'GRUCell' as a built-in Keras object. Consider renaming <class 'keras.layers.recurrent.GRUCell'> to avoid naming conflicts when loading with `tf.keras.models.load_model`. If renaming is not possible, pass the object in the `custom_objects` parameter of the load function.\n"
     ]
    },
    {
     "name": "stdout",
     "output_type": "stream",
     "text": [
      "1098/1098 [==============================] - 10s 10ms/step - loss: 62.6347 - root_mean_squared_error: 7.9142\n",
      "Epoch 140/200\n",
      "1098/1098 [==============================] - 7s 6ms/step - loss: 62.7367 - root_mean_squared_error: 7.9207\n",
      "Epoch 141/200\n",
      "1092/1098 [============================>.] - ETA: 0s - loss: 62.5127 - root_mean_squared_error: 7.9065"
     ]
    },
    {
     "name": "stderr",
     "output_type": "stream",
     "text": [
      "WARNING:absl:Found untraced functions such as gru_cell_layer_call_fn, gru_cell_layer_call_and_return_conditional_losses while saving (showing 2 of 2). These functions will not be directly callable after loading.\n"
     ]
    },
    {
     "name": "stdout",
     "output_type": "stream",
     "text": [
      "INFO:tensorflow:Assets written to: best_model\\assets\n"
     ]
    },
    {
     "name": "stderr",
     "output_type": "stream",
     "text": [
      "INFO:tensorflow:Assets written to: best_model\\assets\n",
      "WARNING:absl:<keras.layers.recurrent.GRUCell object at 0x0000015E57CAE088> has the same name 'GRUCell' as a built-in Keras object. Consider renaming <class 'keras.layers.recurrent.GRUCell'> to avoid naming conflicts when loading with `tf.keras.models.load_model`. If renaming is not possible, pass the object in the `custom_objects` parameter of the load function.\n",
      "WARNING:absl:<keras.layers.recurrent.GRUCell object at 0x0000015E57CAEF48> has the same name 'GRUCell' as a built-in Keras object. Consider renaming <class 'keras.layers.recurrent.GRUCell'> to avoid naming conflicts when loading with `tf.keras.models.load_model`. If renaming is not possible, pass the object in the `custom_objects` parameter of the load function.\n"
     ]
    },
    {
     "name": "stdout",
     "output_type": "stream",
     "text": [
      "1098/1098 [==============================] - 10s 9ms/step - loss: 62.5838 - root_mean_squared_error: 7.9110\n",
      "Epoch 142/200\n",
      "1094/1098 [============================>.] - ETA: 0s - loss: 62.4975 - root_mean_squared_error: 7.9055"
     ]
    },
    {
     "name": "stderr",
     "output_type": "stream",
     "text": [
      "WARNING:absl:Found untraced functions such as gru_cell_layer_call_fn, gru_cell_layer_call_and_return_conditional_losses while saving (showing 2 of 2). These functions will not be directly callable after loading.\n"
     ]
    },
    {
     "name": "stdout",
     "output_type": "stream",
     "text": [
      "INFO:tensorflow:Assets written to: best_model\\assets\n"
     ]
    },
    {
     "name": "stderr",
     "output_type": "stream",
     "text": [
      "INFO:tensorflow:Assets written to: best_model\\assets\n",
      "WARNING:absl:<keras.layers.recurrent.GRUCell object at 0x0000015E57CAE088> has the same name 'GRUCell' as a built-in Keras object. Consider renaming <class 'keras.layers.recurrent.GRUCell'> to avoid naming conflicts when loading with `tf.keras.models.load_model`. If renaming is not possible, pass the object in the `custom_objects` parameter of the load function.\n",
      "WARNING:absl:<keras.layers.recurrent.GRUCell object at 0x0000015E57CAEF48> has the same name 'GRUCell' as a built-in Keras object. Consider renaming <class 'keras.layers.recurrent.GRUCell'> to avoid naming conflicts when loading with `tf.keras.models.load_model`. If renaming is not possible, pass the object in the `custom_objects` parameter of the load function.\n"
     ]
    },
    {
     "name": "stdout",
     "output_type": "stream",
     "text": [
      "1098/1098 [==============================] - 11s 10ms/step - loss: 62.4362 - root_mean_squared_error: 7.9017\n",
      "Epoch 143/200\n",
      "1097/1098 [============================>.] - ETA: 0s - loss: 61.6715 - root_mean_squared_error: 7.8531"
     ]
    },
    {
     "name": "stderr",
     "output_type": "stream",
     "text": [
      "WARNING:absl:Found untraced functions such as gru_cell_layer_call_fn, gru_cell_layer_call_and_return_conditional_losses while saving (showing 2 of 2). These functions will not be directly callable after loading.\n"
     ]
    },
    {
     "name": "stdout",
     "output_type": "stream",
     "text": [
      "INFO:tensorflow:Assets written to: best_model\\assets\n"
     ]
    },
    {
     "name": "stderr",
     "output_type": "stream",
     "text": [
      "INFO:tensorflow:Assets written to: best_model\\assets\n",
      "WARNING:absl:<keras.layers.recurrent.GRUCell object at 0x0000015E57CAE088> has the same name 'GRUCell' as a built-in Keras object. Consider renaming <class 'keras.layers.recurrent.GRUCell'> to avoid naming conflicts when loading with `tf.keras.models.load_model`. If renaming is not possible, pass the object in the `custom_objects` parameter of the load function.\n",
      "WARNING:absl:<keras.layers.recurrent.GRUCell object at 0x0000015E57CAEF48> has the same name 'GRUCell' as a built-in Keras object. Consider renaming <class 'keras.layers.recurrent.GRUCell'> to avoid naming conflicts when loading with `tf.keras.models.load_model`. If renaming is not possible, pass the object in the `custom_objects` parameter of the load function.\n"
     ]
    },
    {
     "name": "stdout",
     "output_type": "stream",
     "text": [
      "1098/1098 [==============================] - 10s 9ms/step - loss: 61.6850 - root_mean_squared_error: 7.8540\n",
      "Epoch 144/200\n",
      "1098/1098 [==============================] - 7s 6ms/step - loss: 61.9558 - root_mean_squared_error: 7.8712\n",
      "Epoch 145/200\n",
      "1096/1098 [============================>.] - ETA: 0s - loss: 61.2490 - root_mean_squared_error: 7.8262"
     ]
    },
    {
     "name": "stderr",
     "output_type": "stream",
     "text": [
      "WARNING:absl:Found untraced functions such as gru_cell_layer_call_fn, gru_cell_layer_call_and_return_conditional_losses while saving (showing 2 of 2). These functions will not be directly callable after loading.\n"
     ]
    },
    {
     "name": "stdout",
     "output_type": "stream",
     "text": [
      "INFO:tensorflow:Assets written to: best_model\\assets\n"
     ]
    },
    {
     "name": "stderr",
     "output_type": "stream",
     "text": [
      "INFO:tensorflow:Assets written to: best_model\\assets\n",
      "WARNING:absl:<keras.layers.recurrent.GRUCell object at 0x0000015E57CAE088> has the same name 'GRUCell' as a built-in Keras object. Consider renaming <class 'keras.layers.recurrent.GRUCell'> to avoid naming conflicts when loading with `tf.keras.models.load_model`. If renaming is not possible, pass the object in the `custom_objects` parameter of the load function.\n",
      "WARNING:absl:<keras.layers.recurrent.GRUCell object at 0x0000015E57CAEF48> has the same name 'GRUCell' as a built-in Keras object. Consider renaming <class 'keras.layers.recurrent.GRUCell'> to avoid naming conflicts when loading with `tf.keras.models.load_model`. If renaming is not possible, pass the object in the `custom_objects` parameter of the load function.\n"
     ]
    },
    {
     "name": "stdout",
     "output_type": "stream",
     "text": [
      "1098/1098 [==============================] - 10s 9ms/step - loss: 61.2518 - root_mean_squared_error: 7.8264\n",
      "Epoch 146/200\n",
      "1098/1098 [==============================] - 7s 6ms/step - loss: 61.5343 - root_mean_squared_error: 7.8444\n",
      "Epoch 147/200\n",
      "1093/1098 [============================>.] - ETA: 0s - loss: 60.8516 - root_mean_squared_error: 7.8007"
     ]
    },
    {
     "name": "stderr",
     "output_type": "stream",
     "text": [
      "WARNING:absl:Found untraced functions such as gru_cell_layer_call_fn, gru_cell_layer_call_and_return_conditional_losses while saving (showing 2 of 2). These functions will not be directly callable after loading.\n"
     ]
    },
    {
     "name": "stdout",
     "output_type": "stream",
     "text": [
      "INFO:tensorflow:Assets written to: best_model\\assets\n"
     ]
    },
    {
     "name": "stderr",
     "output_type": "stream",
     "text": [
      "INFO:tensorflow:Assets written to: best_model\\assets\n",
      "WARNING:absl:<keras.layers.recurrent.GRUCell object at 0x0000015E57CAE088> has the same name 'GRUCell' as a built-in Keras object. Consider renaming <class 'keras.layers.recurrent.GRUCell'> to avoid naming conflicts when loading with `tf.keras.models.load_model`. If renaming is not possible, pass the object in the `custom_objects` parameter of the load function.\n",
      "WARNING:absl:<keras.layers.recurrent.GRUCell object at 0x0000015E57CAEF48> has the same name 'GRUCell' as a built-in Keras object. Consider renaming <class 'keras.layers.recurrent.GRUCell'> to avoid naming conflicts when loading with `tf.keras.models.load_model`. If renaming is not possible, pass the object in the `custom_objects` parameter of the load function.\n"
     ]
    },
    {
     "name": "stdout",
     "output_type": "stream",
     "text": [
      "1098/1098 [==============================] - 10s 9ms/step - loss: 61.0001 - root_mean_squared_error: 7.8103\n",
      "Epoch 148/200\n",
      "1098/1098 [==============================] - ETA: 0s - loss: 60.1081 - root_mean_squared_error: 7.7529"
     ]
    },
    {
     "name": "stderr",
     "output_type": "stream",
     "text": [
      "WARNING:absl:Found untraced functions such as gru_cell_layer_call_fn, gru_cell_layer_call_and_return_conditional_losses while saving (showing 2 of 2). These functions will not be directly callable after loading.\n"
     ]
    },
    {
     "name": "stdout",
     "output_type": "stream",
     "text": [
      "INFO:tensorflow:Assets written to: best_model\\assets\n"
     ]
    },
    {
     "name": "stderr",
     "output_type": "stream",
     "text": [
      "INFO:tensorflow:Assets written to: best_model\\assets\n",
      "WARNING:absl:<keras.layers.recurrent.GRUCell object at 0x0000015E57CAE088> has the same name 'GRUCell' as a built-in Keras object. Consider renaming <class 'keras.layers.recurrent.GRUCell'> to avoid naming conflicts when loading with `tf.keras.models.load_model`. If renaming is not possible, pass the object in the `custom_objects` parameter of the load function.\n",
      "WARNING:absl:<keras.layers.recurrent.GRUCell object at 0x0000015E57CAEF48> has the same name 'GRUCell' as a built-in Keras object. Consider renaming <class 'keras.layers.recurrent.GRUCell'> to avoid naming conflicts when loading with `tf.keras.models.load_model`. If renaming is not possible, pass the object in the `custom_objects` parameter of the load function.\n"
     ]
    },
    {
     "name": "stdout",
     "output_type": "stream",
     "text": [
      "1098/1098 [==============================] - 11s 10ms/step - loss: 60.1081 - root_mean_squared_error: 7.7529\n",
      "Epoch 149/200\n",
      "1096/1098 [============================>.] - ETA: 0s - loss: 59.9319 - root_mean_squared_error: 7.7416"
     ]
    },
    {
     "name": "stderr",
     "output_type": "stream",
     "text": [
      "WARNING:absl:Found untraced functions such as gru_cell_layer_call_fn, gru_cell_layer_call_and_return_conditional_losses while saving (showing 2 of 2). These functions will not be directly callable after loading.\n"
     ]
    },
    {
     "name": "stdout",
     "output_type": "stream",
     "text": [
      "INFO:tensorflow:Assets written to: best_model\\assets\n"
     ]
    },
    {
     "name": "stderr",
     "output_type": "stream",
     "text": [
      "INFO:tensorflow:Assets written to: best_model\\assets\n",
      "WARNING:absl:<keras.layers.recurrent.GRUCell object at 0x0000015E57CAE088> has the same name 'GRUCell' as a built-in Keras object. Consider renaming <class 'keras.layers.recurrent.GRUCell'> to avoid naming conflicts when loading with `tf.keras.models.load_model`. If renaming is not possible, pass the object in the `custom_objects` parameter of the load function.\n",
      "WARNING:absl:<keras.layers.recurrent.GRUCell object at 0x0000015E57CAEF48> has the same name 'GRUCell' as a built-in Keras object. Consider renaming <class 'keras.layers.recurrent.GRUCell'> to avoid naming conflicts when loading with `tf.keras.models.load_model`. If renaming is not possible, pass the object in the `custom_objects` parameter of the load function.\n"
     ]
    },
    {
     "name": "stdout",
     "output_type": "stream",
     "text": [
      "1098/1098 [==============================] - 11s 10ms/step - loss: 59.9629 - root_mean_squared_error: 7.7436\n",
      "Epoch 150/200\n",
      "1096/1098 [============================>.] - ETA: 0s - loss: 59.5880 - root_mean_squared_error: 7.7193"
     ]
    },
    {
     "name": "stderr",
     "output_type": "stream",
     "text": [
      "WARNING:absl:Found untraced functions such as gru_cell_layer_call_fn, gru_cell_layer_call_and_return_conditional_losses while saving (showing 2 of 2). These functions will not be directly callable after loading.\n"
     ]
    },
    {
     "name": "stdout",
     "output_type": "stream",
     "text": [
      "INFO:tensorflow:Assets written to: best_model\\assets\n"
     ]
    },
    {
     "name": "stderr",
     "output_type": "stream",
     "text": [
      "INFO:tensorflow:Assets written to: best_model\\assets\n",
      "WARNING:absl:<keras.layers.recurrent.GRUCell object at 0x0000015E57CAE088> has the same name 'GRUCell' as a built-in Keras object. Consider renaming <class 'keras.layers.recurrent.GRUCell'> to avoid naming conflicts when loading with `tf.keras.models.load_model`. If renaming is not possible, pass the object in the `custom_objects` parameter of the load function.\n",
      "WARNING:absl:<keras.layers.recurrent.GRUCell object at 0x0000015E57CAEF48> has the same name 'GRUCell' as a built-in Keras object. Consider renaming <class 'keras.layers.recurrent.GRUCell'> to avoid naming conflicts when loading with `tf.keras.models.load_model`. If renaming is not possible, pass the object in the `custom_objects` parameter of the load function.\n"
     ]
    },
    {
     "name": "stdout",
     "output_type": "stream",
     "text": [
      "1098/1098 [==============================] - 11s 10ms/step - loss: 59.8922 - root_mean_squared_error: 7.7390\n",
      "Epoch 151/200\n",
      "1093/1098 [============================>.] - ETA: 0s - loss: 59.8035 - root_mean_squared_error: 7.7333"
     ]
    },
    {
     "name": "stderr",
     "output_type": "stream",
     "text": [
      "WARNING:absl:Found untraced functions such as gru_cell_layer_call_fn, gru_cell_layer_call_and_return_conditional_losses while saving (showing 2 of 2). These functions will not be directly callable after loading.\n"
     ]
    },
    {
     "name": "stdout",
     "output_type": "stream",
     "text": [
      "INFO:tensorflow:Assets written to: best_model\\assets\n"
     ]
    },
    {
     "name": "stderr",
     "output_type": "stream",
     "text": [
      "INFO:tensorflow:Assets written to: best_model\\assets\n",
      "WARNING:absl:<keras.layers.recurrent.GRUCell object at 0x0000015E57CAE088> has the same name 'GRUCell' as a built-in Keras object. Consider renaming <class 'keras.layers.recurrent.GRUCell'> to avoid naming conflicts when loading with `tf.keras.models.load_model`. If renaming is not possible, pass the object in the `custom_objects` parameter of the load function.\n",
      "WARNING:absl:<keras.layers.recurrent.GRUCell object at 0x0000015E57CAEF48> has the same name 'GRUCell' as a built-in Keras object. Consider renaming <class 'keras.layers.recurrent.GRUCell'> to avoid naming conflicts when loading with `tf.keras.models.load_model`. If renaming is not possible, pass the object in the `custom_objects` parameter of the load function.\n"
     ]
    },
    {
     "name": "stdout",
     "output_type": "stream",
     "text": [
      "1098/1098 [==============================] - 11s 10ms/step - loss: 59.7438 - root_mean_squared_error: 7.7294\n",
      "Epoch 152/200\n",
      "1098/1098 [==============================] - ETA: 0s - loss: 59.1360 - root_mean_squared_error: 7.6900"
     ]
    },
    {
     "name": "stderr",
     "output_type": "stream",
     "text": [
      "WARNING:absl:Found untraced functions such as gru_cell_layer_call_fn, gru_cell_layer_call_and_return_conditional_losses while saving (showing 2 of 2). These functions will not be directly callable after loading.\n"
     ]
    },
    {
     "name": "stdout",
     "output_type": "stream",
     "text": [
      "INFO:tensorflow:Assets written to: best_model\\assets\n"
     ]
    },
    {
     "name": "stderr",
     "output_type": "stream",
     "text": [
      "INFO:tensorflow:Assets written to: best_model\\assets\n",
      "WARNING:absl:<keras.layers.recurrent.GRUCell object at 0x0000015E57CAE088> has the same name 'GRUCell' as a built-in Keras object. Consider renaming <class 'keras.layers.recurrent.GRUCell'> to avoid naming conflicts when loading with `tf.keras.models.load_model`. If renaming is not possible, pass the object in the `custom_objects` parameter of the load function.\n",
      "WARNING:absl:<keras.layers.recurrent.GRUCell object at 0x0000015E57CAEF48> has the same name 'GRUCell' as a built-in Keras object. Consider renaming <class 'keras.layers.recurrent.GRUCell'> to avoid naming conflicts when loading with `tf.keras.models.load_model`. If renaming is not possible, pass the object in the `custom_objects` parameter of the load function.\n"
     ]
    },
    {
     "name": "stdout",
     "output_type": "stream",
     "text": [
      "1098/1098 [==============================] - 11s 10ms/step - loss: 59.1360 - root_mean_squared_error: 7.6900\n",
      "Epoch 153/200\n",
      "1098/1098 [==============================] - ETA: 0s - loss: 58.8057 - root_mean_squared_error: 7.6685"
     ]
    },
    {
     "name": "stderr",
     "output_type": "stream",
     "text": [
      "WARNING:absl:Found untraced functions such as gru_cell_layer_call_fn, gru_cell_layer_call_and_return_conditional_losses while saving (showing 2 of 2). These functions will not be directly callable after loading.\n"
     ]
    },
    {
     "name": "stdout",
     "output_type": "stream",
     "text": [
      "INFO:tensorflow:Assets written to: best_model\\assets\n"
     ]
    },
    {
     "name": "stderr",
     "output_type": "stream",
     "text": [
      "INFO:tensorflow:Assets written to: best_model\\assets\n",
      "WARNING:absl:<keras.layers.recurrent.GRUCell object at 0x0000015E57CAE088> has the same name 'GRUCell' as a built-in Keras object. Consider renaming <class 'keras.layers.recurrent.GRUCell'> to avoid naming conflicts when loading with `tf.keras.models.load_model`. If renaming is not possible, pass the object in the `custom_objects` parameter of the load function.\n",
      "WARNING:absl:<keras.layers.recurrent.GRUCell object at 0x0000015E57CAEF48> has the same name 'GRUCell' as a built-in Keras object. Consider renaming <class 'keras.layers.recurrent.GRUCell'> to avoid naming conflicts when loading with `tf.keras.models.load_model`. If renaming is not possible, pass the object in the `custom_objects` parameter of the load function.\n"
     ]
    },
    {
     "name": "stdout",
     "output_type": "stream",
     "text": [
      "1098/1098 [==============================] - 11s 10ms/step - loss: 58.8057 - root_mean_squared_error: 7.6685\n",
      "Epoch 154/200\n",
      "1091/1098 [============================>.] - ETA: 0s - loss: 58.3744 - root_mean_squared_error: 7.6403"
     ]
    },
    {
     "name": "stderr",
     "output_type": "stream",
     "text": [
      "WARNING:absl:Found untraced functions such as gru_cell_layer_call_fn, gru_cell_layer_call_and_return_conditional_losses while saving (showing 2 of 2). These functions will not be directly callable after loading.\n"
     ]
    },
    {
     "name": "stdout",
     "output_type": "stream",
     "text": [
      "INFO:tensorflow:Assets written to: best_model\\assets\n"
     ]
    },
    {
     "name": "stderr",
     "output_type": "stream",
     "text": [
      "INFO:tensorflow:Assets written to: best_model\\assets\n",
      "WARNING:absl:<keras.layers.recurrent.GRUCell object at 0x0000015E57CAE088> has the same name 'GRUCell' as a built-in Keras object. Consider renaming <class 'keras.layers.recurrent.GRUCell'> to avoid naming conflicts when loading with `tf.keras.models.load_model`. If renaming is not possible, pass the object in the `custom_objects` parameter of the load function.\n",
      "WARNING:absl:<keras.layers.recurrent.GRUCell object at 0x0000015E57CAEF48> has the same name 'GRUCell' as a built-in Keras object. Consider renaming <class 'keras.layers.recurrent.GRUCell'> to avoid naming conflicts when loading with `tf.keras.models.load_model`. If renaming is not possible, pass the object in the `custom_objects` parameter of the load function.\n"
     ]
    },
    {
     "name": "stdout",
     "output_type": "stream",
     "text": [
      "1098/1098 [==============================] - 12s 11ms/step - loss: 58.2539 - root_mean_squared_error: 7.6324\n",
      "Epoch 155/200\n",
      "1097/1098 [============================>.] - ETA: 0s - loss: 58.2188 - root_mean_squared_error: 7.6301"
     ]
    },
    {
     "name": "stderr",
     "output_type": "stream",
     "text": [
      "WARNING:absl:Found untraced functions such as gru_cell_layer_call_fn, gru_cell_layer_call_and_return_conditional_losses while saving (showing 2 of 2). These functions will not be directly callable after loading.\n"
     ]
    },
    {
     "name": "stdout",
     "output_type": "stream",
     "text": [
      "INFO:tensorflow:Assets written to: best_model\\assets\n"
     ]
    },
    {
     "name": "stderr",
     "output_type": "stream",
     "text": [
      "INFO:tensorflow:Assets written to: best_model\\assets\n",
      "WARNING:absl:<keras.layers.recurrent.GRUCell object at 0x0000015E57CAE088> has the same name 'GRUCell' as a built-in Keras object. Consider renaming <class 'keras.layers.recurrent.GRUCell'> to avoid naming conflicts when loading with `tf.keras.models.load_model`. If renaming is not possible, pass the object in the `custom_objects` parameter of the load function.\n",
      "WARNING:absl:<keras.layers.recurrent.GRUCell object at 0x0000015E57CAEF48> has the same name 'GRUCell' as a built-in Keras object. Consider renaming <class 'keras.layers.recurrent.GRUCell'> to avoid naming conflicts when loading with `tf.keras.models.load_model`. If renaming is not possible, pass the object in the `custom_objects` parameter of the load function.\n"
     ]
    },
    {
     "name": "stdout",
     "output_type": "stream",
     "text": [
      "1098/1098 [==============================] - 11s 10ms/step - loss: 58.2174 - root_mean_squared_error: 7.6300\n",
      "Epoch 156/200\n",
      "1098/1098 [==============================] - 8s 7ms/step - loss: 58.4198 - root_mean_squared_error: 7.6433\n",
      "Epoch 157/200\n",
      "1096/1098 [============================>.] - ETA: 0s - loss: 58.0142 - root_mean_squared_error: 7.6167"
     ]
    },
    {
     "name": "stderr",
     "output_type": "stream",
     "text": [
      "WARNING:absl:Found untraced functions such as gru_cell_layer_call_fn, gru_cell_layer_call_and_return_conditional_losses while saving (showing 2 of 2). These functions will not be directly callable after loading.\n"
     ]
    },
    {
     "name": "stdout",
     "output_type": "stream",
     "text": [
      "INFO:tensorflow:Assets written to: best_model\\assets\n"
     ]
    },
    {
     "name": "stderr",
     "output_type": "stream",
     "text": [
      "INFO:tensorflow:Assets written to: best_model\\assets\n",
      "WARNING:absl:<keras.layers.recurrent.GRUCell object at 0x0000015E57CAE088> has the same name 'GRUCell' as a built-in Keras object. Consider renaming <class 'keras.layers.recurrent.GRUCell'> to avoid naming conflicts when loading with `tf.keras.models.load_model`. If renaming is not possible, pass the object in the `custom_objects` parameter of the load function.\n",
      "WARNING:absl:<keras.layers.recurrent.GRUCell object at 0x0000015E57CAEF48> has the same name 'GRUCell' as a built-in Keras object. Consider renaming <class 'keras.layers.recurrent.GRUCell'> to avoid naming conflicts when loading with `tf.keras.models.load_model`. If renaming is not possible, pass the object in the `custom_objects` parameter of the load function.\n"
     ]
    },
    {
     "name": "stdout",
     "output_type": "stream",
     "text": [
      "1098/1098 [==============================] - 11s 10ms/step - loss: 58.0306 - root_mean_squared_error: 7.6178\n",
      "Epoch 158/200\n",
      "1098/1098 [==============================] - ETA: 0s - loss: 57.4992 - root_mean_squared_error: 7.5828"
     ]
    },
    {
     "name": "stderr",
     "output_type": "stream",
     "text": [
      "WARNING:absl:Found untraced functions such as gru_cell_layer_call_fn, gru_cell_layer_call_and_return_conditional_losses while saving (showing 2 of 2). These functions will not be directly callable after loading.\n"
     ]
    },
    {
     "name": "stdout",
     "output_type": "stream",
     "text": [
      "INFO:tensorflow:Assets written to: best_model\\assets\n"
     ]
    },
    {
     "name": "stderr",
     "output_type": "stream",
     "text": [
      "INFO:tensorflow:Assets written to: best_model\\assets\n",
      "WARNING:absl:<keras.layers.recurrent.GRUCell object at 0x0000015E57CAE088> has the same name 'GRUCell' as a built-in Keras object. Consider renaming <class 'keras.layers.recurrent.GRUCell'> to avoid naming conflicts when loading with `tf.keras.models.load_model`. If renaming is not possible, pass the object in the `custom_objects` parameter of the load function.\n",
      "WARNING:absl:<keras.layers.recurrent.GRUCell object at 0x0000015E57CAEF48> has the same name 'GRUCell' as a built-in Keras object. Consider renaming <class 'keras.layers.recurrent.GRUCell'> to avoid naming conflicts when loading with `tf.keras.models.load_model`. If renaming is not possible, pass the object in the `custom_objects` parameter of the load function.\n"
     ]
    },
    {
     "name": "stdout",
     "output_type": "stream",
     "text": [
      "1098/1098 [==============================] - 11s 10ms/step - loss: 57.4992 - root_mean_squared_error: 7.5828\n",
      "Epoch 159/200\n",
      "1098/1098 [==============================] - 7s 7ms/step - loss: 57.5824 - root_mean_squared_error: 7.5883\n",
      "Epoch 160/200\n",
      "1097/1098 [============================>.] - ETA: 0s - loss: 57.0507 - root_mean_squared_error: 7.5532"
     ]
    },
    {
     "name": "stderr",
     "output_type": "stream",
     "text": [
      "WARNING:absl:Found untraced functions such as gru_cell_layer_call_fn, gru_cell_layer_call_and_return_conditional_losses while saving (showing 2 of 2). These functions will not be directly callable after loading.\n"
     ]
    },
    {
     "name": "stdout",
     "output_type": "stream",
     "text": [
      "INFO:tensorflow:Assets written to: best_model\\assets\n"
     ]
    },
    {
     "name": "stderr",
     "output_type": "stream",
     "text": [
      "INFO:tensorflow:Assets written to: best_model\\assets\n",
      "WARNING:absl:<keras.layers.recurrent.GRUCell object at 0x0000015E57CAE088> has the same name 'GRUCell' as a built-in Keras object. Consider renaming <class 'keras.layers.recurrent.GRUCell'> to avoid naming conflicts when loading with `tf.keras.models.load_model`. If renaming is not possible, pass the object in the `custom_objects` parameter of the load function.\n",
      "WARNING:absl:<keras.layers.recurrent.GRUCell object at 0x0000015E57CAEF48> has the same name 'GRUCell' as a built-in Keras object. Consider renaming <class 'keras.layers.recurrent.GRUCell'> to avoid naming conflicts when loading with `tf.keras.models.load_model`. If renaming is not possible, pass the object in the `custom_objects` parameter of the load function.\n"
     ]
    },
    {
     "name": "stdout",
     "output_type": "stream",
     "text": [
      "1098/1098 [==============================] - 11s 10ms/step - loss: 57.0390 - root_mean_squared_error: 7.5524\n",
      "Epoch 161/200\n",
      "1097/1098 [============================>.] - ETA: 0s - loss: 56.1574 - root_mean_squared_error: 7.4938"
     ]
    },
    {
     "name": "stderr",
     "output_type": "stream",
     "text": [
      "WARNING:absl:Found untraced functions such as gru_cell_layer_call_fn, gru_cell_layer_call_and_return_conditional_losses while saving (showing 2 of 2). These functions will not be directly callable after loading.\n"
     ]
    },
    {
     "name": "stdout",
     "output_type": "stream",
     "text": [
      "INFO:tensorflow:Assets written to: best_model\\assets\n"
     ]
    },
    {
     "name": "stderr",
     "output_type": "stream",
     "text": [
      "INFO:tensorflow:Assets written to: best_model\\assets\n",
      "WARNING:absl:<keras.layers.recurrent.GRUCell object at 0x0000015E57CAE088> has the same name 'GRUCell' as a built-in Keras object. Consider renaming <class 'keras.layers.recurrent.GRUCell'> to avoid naming conflicts when loading with `tf.keras.models.load_model`. If renaming is not possible, pass the object in the `custom_objects` parameter of the load function.\n",
      "WARNING:absl:<keras.layers.recurrent.GRUCell object at 0x0000015E57CAEF48> has the same name 'GRUCell' as a built-in Keras object. Consider renaming <class 'keras.layers.recurrent.GRUCell'> to avoid naming conflicts when loading with `tf.keras.models.load_model`. If renaming is not possible, pass the object in the `custom_objects` parameter of the load function.\n"
     ]
    },
    {
     "name": "stdout",
     "output_type": "stream",
     "text": [
      "1098/1098 [==============================] - 10s 9ms/step - loss: 56.1906 - root_mean_squared_error: 7.4960\n",
      "Epoch 162/200\n",
      "1098/1098 [==============================] - 7s 7ms/step - loss: 56.5735 - root_mean_squared_error: 7.5215\n",
      "Epoch 163/200\n",
      "1098/1098 [==============================] - 8s 7ms/step - loss: 56.5870 - root_mean_squared_error: 7.5224\n",
      "Epoch 164/200\n",
      "1091/1098 [============================>.] - ETA: 0s - loss: 55.4339 - root_mean_squared_error: 7.4454"
     ]
    },
    {
     "name": "stderr",
     "output_type": "stream",
     "text": [
      "WARNING:absl:Found untraced functions such as gru_cell_layer_call_fn, gru_cell_layer_call_and_return_conditional_losses while saving (showing 2 of 2). These functions will not be directly callable after loading.\n"
     ]
    },
    {
     "name": "stdout",
     "output_type": "stream",
     "text": [
      "INFO:tensorflow:Assets written to: best_model\\assets\n"
     ]
    },
    {
     "name": "stderr",
     "output_type": "stream",
     "text": [
      "INFO:tensorflow:Assets written to: best_model\\assets\n",
      "WARNING:absl:<keras.layers.recurrent.GRUCell object at 0x0000015E57CAE088> has the same name 'GRUCell' as a built-in Keras object. Consider renaming <class 'keras.layers.recurrent.GRUCell'> to avoid naming conflicts when loading with `tf.keras.models.load_model`. If renaming is not possible, pass the object in the `custom_objects` parameter of the load function.\n",
      "WARNING:absl:<keras.layers.recurrent.GRUCell object at 0x0000015E57CAEF48> has the same name 'GRUCell' as a built-in Keras object. Consider renaming <class 'keras.layers.recurrent.GRUCell'> to avoid naming conflicts when loading with `tf.keras.models.load_model`. If renaming is not possible, pass the object in the `custom_objects` parameter of the load function.\n"
     ]
    },
    {
     "name": "stdout",
     "output_type": "stream",
     "text": [
      "1098/1098 [==============================] - 11s 10ms/step - loss: 55.5931 - root_mean_squared_error: 7.4561\n",
      "Epoch 165/200\n",
      "1094/1098 [============================>.] - ETA: 0s - loss: 55.3262 - root_mean_squared_error: 7.4382"
     ]
    },
    {
     "name": "stderr",
     "output_type": "stream",
     "text": [
      "WARNING:absl:Found untraced functions such as gru_cell_layer_call_fn, gru_cell_layer_call_and_return_conditional_losses while saving (showing 2 of 2). These functions will not be directly callable after loading.\n"
     ]
    },
    {
     "name": "stdout",
     "output_type": "stream",
     "text": [
      "INFO:tensorflow:Assets written to: best_model\\assets\n"
     ]
    },
    {
     "name": "stderr",
     "output_type": "stream",
     "text": [
      "INFO:tensorflow:Assets written to: best_model\\assets\n",
      "WARNING:absl:<keras.layers.recurrent.GRUCell object at 0x0000015E57CAE088> has the same name 'GRUCell' as a built-in Keras object. Consider renaming <class 'keras.layers.recurrent.GRUCell'> to avoid naming conflicts when loading with `tf.keras.models.load_model`. If renaming is not possible, pass the object in the `custom_objects` parameter of the load function.\n",
      "WARNING:absl:<keras.layers.recurrent.GRUCell object at 0x0000015E57CAEF48> has the same name 'GRUCell' as a built-in Keras object. Consider renaming <class 'keras.layers.recurrent.GRUCell'> to avoid naming conflicts when loading with `tf.keras.models.load_model`. If renaming is not possible, pass the object in the `custom_objects` parameter of the load function.\n"
     ]
    },
    {
     "name": "stdout",
     "output_type": "stream",
     "text": [
      "1098/1098 [==============================] - 11s 10ms/step - loss: 55.2558 - root_mean_squared_error: 7.4334\n",
      "Epoch 166/200\n",
      "1098/1098 [==============================] - 7s 7ms/step - loss: 55.2970 - root_mean_squared_error: 7.4362\n",
      "Epoch 167/200\n",
      "1097/1098 [============================>.] - ETA: 0s - loss: 54.9246 - root_mean_squared_error: 7.4111"
     ]
    },
    {
     "name": "stderr",
     "output_type": "stream",
     "text": [
      "WARNING:absl:Found untraced functions such as gru_cell_layer_call_fn, gru_cell_layer_call_and_return_conditional_losses while saving (showing 2 of 2). These functions will not be directly callable after loading.\n"
     ]
    },
    {
     "name": "stdout",
     "output_type": "stream",
     "text": [
      "INFO:tensorflow:Assets written to: best_model\\assets\n"
     ]
    },
    {
     "name": "stderr",
     "output_type": "stream",
     "text": [
      "INFO:tensorflow:Assets written to: best_model\\assets\n",
      "WARNING:absl:<keras.layers.recurrent.GRUCell object at 0x0000015E57CAE088> has the same name 'GRUCell' as a built-in Keras object. Consider renaming <class 'keras.layers.recurrent.GRUCell'> to avoid naming conflicts when loading with `tf.keras.models.load_model`. If renaming is not possible, pass the object in the `custom_objects` parameter of the load function.\n",
      "WARNING:absl:<keras.layers.recurrent.GRUCell object at 0x0000015E57CAEF48> has the same name 'GRUCell' as a built-in Keras object. Consider renaming <class 'keras.layers.recurrent.GRUCell'> to avoid naming conflicts when loading with `tf.keras.models.load_model`. If renaming is not possible, pass the object in the `custom_objects` parameter of the load function.\n"
     ]
    },
    {
     "name": "stdout",
     "output_type": "stream",
     "text": [
      "1098/1098 [==============================] - 11s 10ms/step - loss: 54.9312 - root_mean_squared_error: 7.4116\n",
      "Epoch 168/200\n",
      "1098/1098 [==============================] - 7s 7ms/step - loss: 55.0058 - root_mean_squared_error: 7.4166\n",
      "Epoch 169/200\n",
      "1091/1098 [============================>.] - ETA: 0s - loss: 54.5167 - root_mean_squared_error: 7.3835"
     ]
    },
    {
     "name": "stderr",
     "output_type": "stream",
     "text": [
      "WARNING:absl:Found untraced functions such as gru_cell_layer_call_fn, gru_cell_layer_call_and_return_conditional_losses while saving (showing 2 of 2). These functions will not be directly callable after loading.\n"
     ]
    },
    {
     "name": "stdout",
     "output_type": "stream",
     "text": [
      "INFO:tensorflow:Assets written to: best_model\\assets\n"
     ]
    },
    {
     "name": "stderr",
     "output_type": "stream",
     "text": [
      "INFO:tensorflow:Assets written to: best_model\\assets\n",
      "WARNING:absl:<keras.layers.recurrent.GRUCell object at 0x0000015E57CAE088> has the same name 'GRUCell' as a built-in Keras object. Consider renaming <class 'keras.layers.recurrent.GRUCell'> to avoid naming conflicts when loading with `tf.keras.models.load_model`. If renaming is not possible, pass the object in the `custom_objects` parameter of the load function.\n",
      "WARNING:absl:<keras.layers.recurrent.GRUCell object at 0x0000015E57CAEF48> has the same name 'GRUCell' as a built-in Keras object. Consider renaming <class 'keras.layers.recurrent.GRUCell'> to avoid naming conflicts when loading with `tf.keras.models.load_model`. If renaming is not possible, pass the object in the `custom_objects` parameter of the load function.\n"
     ]
    },
    {
     "name": "stdout",
     "output_type": "stream",
     "text": [
      "1098/1098 [==============================] - 11s 10ms/step - loss: 54.4375 - root_mean_squared_error: 7.3782\n",
      "Epoch 170/200\n",
      "1091/1098 [============================>.] - ETA: 0s - loss: 54.5142 - root_mean_squared_error: 7.3834"
     ]
    },
    {
     "name": "stderr",
     "output_type": "stream",
     "text": [
      "WARNING:absl:Found untraced functions such as gru_cell_layer_call_fn, gru_cell_layer_call_and_return_conditional_losses while saving (showing 2 of 2). These functions will not be directly callable after loading.\n"
     ]
    },
    {
     "name": "stdout",
     "output_type": "stream",
     "text": [
      "INFO:tensorflow:Assets written to: best_model\\assets\n"
     ]
    },
    {
     "name": "stderr",
     "output_type": "stream",
     "text": [
      "INFO:tensorflow:Assets written to: best_model\\assets\n",
      "WARNING:absl:<keras.layers.recurrent.GRUCell object at 0x0000015E57CAE088> has the same name 'GRUCell' as a built-in Keras object. Consider renaming <class 'keras.layers.recurrent.GRUCell'> to avoid naming conflicts when loading with `tf.keras.models.load_model`. If renaming is not possible, pass the object in the `custom_objects` parameter of the load function.\n",
      "WARNING:absl:<keras.layers.recurrent.GRUCell object at 0x0000015E57CAEF48> has the same name 'GRUCell' as a built-in Keras object. Consider renaming <class 'keras.layers.recurrent.GRUCell'> to avoid naming conflicts when loading with `tf.keras.models.load_model`. If renaming is not possible, pass the object in the `custom_objects` parameter of the load function.\n"
     ]
    },
    {
     "name": "stdout",
     "output_type": "stream",
     "text": [
      "1098/1098 [==============================] - 11s 10ms/step - loss: 54.4023 - root_mean_squared_error: 7.3758\n",
      "Epoch 171/200\n",
      "1095/1098 [============================>.] - ETA: 0s - loss: 53.9571 - root_mean_squared_error: 7.3455"
     ]
    },
    {
     "name": "stderr",
     "output_type": "stream",
     "text": [
      "WARNING:absl:Found untraced functions such as gru_cell_layer_call_fn, gru_cell_layer_call_and_return_conditional_losses while saving (showing 2 of 2). These functions will not be directly callable after loading.\n"
     ]
    },
    {
     "name": "stdout",
     "output_type": "stream",
     "text": [
      "INFO:tensorflow:Assets written to: best_model\\assets\n"
     ]
    },
    {
     "name": "stderr",
     "output_type": "stream",
     "text": [
      "INFO:tensorflow:Assets written to: best_model\\assets\n",
      "WARNING:absl:<keras.layers.recurrent.GRUCell object at 0x0000015E57CAE088> has the same name 'GRUCell' as a built-in Keras object. Consider renaming <class 'keras.layers.recurrent.GRUCell'> to avoid naming conflicts when loading with `tf.keras.models.load_model`. If renaming is not possible, pass the object in the `custom_objects` parameter of the load function.\n",
      "WARNING:absl:<keras.layers.recurrent.GRUCell object at 0x0000015E57CAEF48> has the same name 'GRUCell' as a built-in Keras object. Consider renaming <class 'keras.layers.recurrent.GRUCell'> to avoid naming conflicts when loading with `tf.keras.models.load_model`. If renaming is not possible, pass the object in the `custom_objects` parameter of the load function.\n"
     ]
    },
    {
     "name": "stdout",
     "output_type": "stream",
     "text": [
      "1098/1098 [==============================] - 11s 10ms/step - loss: 53.9815 - root_mean_squared_error: 7.3472\n",
      "Epoch 172/200\n",
      "1098/1098 [==============================] - ETA: 0s - loss: 53.8416 - root_mean_squared_error: 7.3377"
     ]
    },
    {
     "name": "stderr",
     "output_type": "stream",
     "text": [
      "WARNING:absl:Found untraced functions such as gru_cell_layer_call_fn, gru_cell_layer_call_and_return_conditional_losses while saving (showing 2 of 2). These functions will not be directly callable after loading.\n"
     ]
    },
    {
     "name": "stdout",
     "output_type": "stream",
     "text": [
      "INFO:tensorflow:Assets written to: best_model\\assets\n"
     ]
    },
    {
     "name": "stderr",
     "output_type": "stream",
     "text": [
      "INFO:tensorflow:Assets written to: best_model\\assets\n",
      "WARNING:absl:<keras.layers.recurrent.GRUCell object at 0x0000015E57CAE088> has the same name 'GRUCell' as a built-in Keras object. Consider renaming <class 'keras.layers.recurrent.GRUCell'> to avoid naming conflicts when loading with `tf.keras.models.load_model`. If renaming is not possible, pass the object in the `custom_objects` parameter of the load function.\n",
      "WARNING:absl:<keras.layers.recurrent.GRUCell object at 0x0000015E57CAEF48> has the same name 'GRUCell' as a built-in Keras object. Consider renaming <class 'keras.layers.recurrent.GRUCell'> to avoid naming conflicts when loading with `tf.keras.models.load_model`. If renaming is not possible, pass the object in the `custom_objects` parameter of the load function.\n"
     ]
    },
    {
     "name": "stdout",
     "output_type": "stream",
     "text": [
      "1098/1098 [==============================] - 11s 10ms/step - loss: 53.8416 - root_mean_squared_error: 7.3377\n",
      "Epoch 173/200\n",
      "1093/1098 [============================>.] - ETA: 0s - loss: 53.6918 - root_mean_squared_error: 7.3275"
     ]
    },
    {
     "name": "stderr",
     "output_type": "stream",
     "text": [
      "WARNING:absl:Found untraced functions such as gru_cell_layer_call_fn, gru_cell_layer_call_and_return_conditional_losses while saving (showing 2 of 2). These functions will not be directly callable after loading.\n"
     ]
    },
    {
     "name": "stdout",
     "output_type": "stream",
     "text": [
      "INFO:tensorflow:Assets written to: best_model\\assets\n"
     ]
    },
    {
     "name": "stderr",
     "output_type": "stream",
     "text": [
      "INFO:tensorflow:Assets written to: best_model\\assets\n",
      "WARNING:absl:<keras.layers.recurrent.GRUCell object at 0x0000015E57CAE088> has the same name 'GRUCell' as a built-in Keras object. Consider renaming <class 'keras.layers.recurrent.GRUCell'> to avoid naming conflicts when loading with `tf.keras.models.load_model`. If renaming is not possible, pass the object in the `custom_objects` parameter of the load function.\n",
      "WARNING:absl:<keras.layers.recurrent.GRUCell object at 0x0000015E57CAEF48> has the same name 'GRUCell' as a built-in Keras object. Consider renaming <class 'keras.layers.recurrent.GRUCell'> to avoid naming conflicts when loading with `tf.keras.models.load_model`. If renaming is not possible, pass the object in the `custom_objects` parameter of the load function.\n"
     ]
    },
    {
     "name": "stdout",
     "output_type": "stream",
     "text": [
      "1098/1098 [==============================] - 11s 10ms/step - loss: 53.7430 - root_mean_squared_error: 7.3310\n",
      "Epoch 174/200\n",
      "1093/1098 [============================>.] - ETA: 0s - loss: 53.1187 - root_mean_squared_error: 7.2883"
     ]
    },
    {
     "name": "stderr",
     "output_type": "stream",
     "text": [
      "WARNING:absl:Found untraced functions such as gru_cell_layer_call_fn, gru_cell_layer_call_and_return_conditional_losses while saving (showing 2 of 2). These functions will not be directly callable after loading.\n"
     ]
    },
    {
     "name": "stdout",
     "output_type": "stream",
     "text": [
      "INFO:tensorflow:Assets written to: best_model\\assets\n"
     ]
    },
    {
     "name": "stderr",
     "output_type": "stream",
     "text": [
      "INFO:tensorflow:Assets written to: best_model\\assets\n",
      "WARNING:absl:<keras.layers.recurrent.GRUCell object at 0x0000015E57CAE088> has the same name 'GRUCell' as a built-in Keras object. Consider renaming <class 'keras.layers.recurrent.GRUCell'> to avoid naming conflicts when loading with `tf.keras.models.load_model`. If renaming is not possible, pass the object in the `custom_objects` parameter of the load function.\n",
      "WARNING:absl:<keras.layers.recurrent.GRUCell object at 0x0000015E57CAEF48> has the same name 'GRUCell' as a built-in Keras object. Consider renaming <class 'keras.layers.recurrent.GRUCell'> to avoid naming conflicts when loading with `tf.keras.models.load_model`. If renaming is not possible, pass the object in the `custom_objects` parameter of the load function.\n"
     ]
    },
    {
     "name": "stdout",
     "output_type": "stream",
     "text": [
      "1098/1098 [==============================] - 11s 10ms/step - loss: 53.1081 - root_mean_squared_error: 7.2875\n",
      "Epoch 175/200\n",
      "1094/1098 [============================>.] - ETA: 0s - loss: 52.8819 - root_mean_squared_error: 7.2720"
     ]
    },
    {
     "name": "stderr",
     "output_type": "stream",
     "text": [
      "WARNING:absl:Found untraced functions such as gru_cell_layer_call_fn, gru_cell_layer_call_and_return_conditional_losses while saving (showing 2 of 2). These functions will not be directly callable after loading.\n"
     ]
    },
    {
     "name": "stdout",
     "output_type": "stream",
     "text": [
      "INFO:tensorflow:Assets written to: best_model\\assets\n"
     ]
    },
    {
     "name": "stderr",
     "output_type": "stream",
     "text": [
      "INFO:tensorflow:Assets written to: best_model\\assets\n",
      "WARNING:absl:<keras.layers.recurrent.GRUCell object at 0x0000015E57CAE088> has the same name 'GRUCell' as a built-in Keras object. Consider renaming <class 'keras.layers.recurrent.GRUCell'> to avoid naming conflicts when loading with `tf.keras.models.load_model`. If renaming is not possible, pass the object in the `custom_objects` parameter of the load function.\n",
      "WARNING:absl:<keras.layers.recurrent.GRUCell object at 0x0000015E57CAEF48> has the same name 'GRUCell' as a built-in Keras object. Consider renaming <class 'keras.layers.recurrent.GRUCell'> to avoid naming conflicts when loading with `tf.keras.models.load_model`. If renaming is not possible, pass the object in the `custom_objects` parameter of the load function.\n"
     ]
    },
    {
     "name": "stdout",
     "output_type": "stream",
     "text": [
      "1098/1098 [==============================] - 11s 10ms/step - loss: 52.8815 - root_mean_squared_error: 7.2720\n",
      "Epoch 176/200\n",
      "1092/1098 [============================>.] - ETA: 0s - loss: 52.6686 - root_mean_squared_error: 7.2573"
     ]
    },
    {
     "name": "stderr",
     "output_type": "stream",
     "text": [
      "WARNING:absl:Found untraced functions such as gru_cell_layer_call_fn, gru_cell_layer_call_and_return_conditional_losses while saving (showing 2 of 2). These functions will not be directly callable after loading.\n"
     ]
    },
    {
     "name": "stdout",
     "output_type": "stream",
     "text": [
      "INFO:tensorflow:Assets written to: best_model\\assets\n"
     ]
    },
    {
     "name": "stderr",
     "output_type": "stream",
     "text": [
      "INFO:tensorflow:Assets written to: best_model\\assets\n",
      "WARNING:absl:<keras.layers.recurrent.GRUCell object at 0x0000015E57CAE088> has the same name 'GRUCell' as a built-in Keras object. Consider renaming <class 'keras.layers.recurrent.GRUCell'> to avoid naming conflicts when loading with `tf.keras.models.load_model`. If renaming is not possible, pass the object in the `custom_objects` parameter of the load function.\n",
      "WARNING:absl:<keras.layers.recurrent.GRUCell object at 0x0000015E57CAEF48> has the same name 'GRUCell' as a built-in Keras object. Consider renaming <class 'keras.layers.recurrent.GRUCell'> to avoid naming conflicts when loading with `tf.keras.models.load_model`. If renaming is not possible, pass the object in the `custom_objects` parameter of the load function.\n"
     ]
    },
    {
     "name": "stdout",
     "output_type": "stream",
     "text": [
      "1098/1098 [==============================] - 11s 10ms/step - loss: 52.6201 - root_mean_squared_error: 7.2540\n",
      "Epoch 177/200\n",
      "1098/1098 [==============================] - 7s 7ms/step - loss: 52.8087 - root_mean_squared_error: 7.2670\n",
      "Epoch 178/200\n",
      "1095/1098 [============================>.] - ETA: 0s - loss: 52.1292 - root_mean_squared_error: 7.2201"
     ]
    },
    {
     "name": "stderr",
     "output_type": "stream",
     "text": [
      "WARNING:absl:Found untraced functions such as gru_cell_layer_call_fn, gru_cell_layer_call_and_return_conditional_losses while saving (showing 2 of 2). These functions will not be directly callable after loading.\n"
     ]
    },
    {
     "name": "stdout",
     "output_type": "stream",
     "text": [
      "INFO:tensorflow:Assets written to: best_model\\assets\n"
     ]
    },
    {
     "name": "stderr",
     "output_type": "stream",
     "text": [
      "INFO:tensorflow:Assets written to: best_model\\assets\n",
      "WARNING:absl:<keras.layers.recurrent.GRUCell object at 0x0000015E57CAE088> has the same name 'GRUCell' as a built-in Keras object. Consider renaming <class 'keras.layers.recurrent.GRUCell'> to avoid naming conflicts when loading with `tf.keras.models.load_model`. If renaming is not possible, pass the object in the `custom_objects` parameter of the load function.\n",
      "WARNING:absl:<keras.layers.recurrent.GRUCell object at 0x0000015E57CAEF48> has the same name 'GRUCell' as a built-in Keras object. Consider renaming <class 'keras.layers.recurrent.GRUCell'> to avoid naming conflicts when loading with `tf.keras.models.load_model`. If renaming is not possible, pass the object in the `custom_objects` parameter of the load function.\n"
     ]
    },
    {
     "name": "stdout",
     "output_type": "stream",
     "text": [
      "1098/1098 [==============================] - 11s 10ms/step - loss: 52.0989 - root_mean_squared_error: 7.2180\n",
      "Epoch 179/200\n",
      "1097/1098 [============================>.] - ETA: 0s - loss: 51.9774 - root_mean_squared_error: 7.2095"
     ]
    },
    {
     "name": "stderr",
     "output_type": "stream",
     "text": [
      "WARNING:absl:Found untraced functions such as gru_cell_layer_call_fn, gru_cell_layer_call_and_return_conditional_losses while saving (showing 2 of 2). These functions will not be directly callable after loading.\n"
     ]
    },
    {
     "name": "stdout",
     "output_type": "stream",
     "text": [
      "INFO:tensorflow:Assets written to: best_model\\assets\n"
     ]
    },
    {
     "name": "stderr",
     "output_type": "stream",
     "text": [
      "INFO:tensorflow:Assets written to: best_model\\assets\n",
      "WARNING:absl:<keras.layers.recurrent.GRUCell object at 0x0000015E57CAE088> has the same name 'GRUCell' as a built-in Keras object. Consider renaming <class 'keras.layers.recurrent.GRUCell'> to avoid naming conflicts when loading with `tf.keras.models.load_model`. If renaming is not possible, pass the object in the `custom_objects` parameter of the load function.\n",
      "WARNING:absl:<keras.layers.recurrent.GRUCell object at 0x0000015E57CAEF48> has the same name 'GRUCell' as a built-in Keras object. Consider renaming <class 'keras.layers.recurrent.GRUCell'> to avoid naming conflicts when loading with `tf.keras.models.load_model`. If renaming is not possible, pass the object in the `custom_objects` parameter of the load function.\n"
     ]
    },
    {
     "name": "stdout",
     "output_type": "stream",
     "text": [
      "1098/1098 [==============================] - 11s 10ms/step - loss: 51.9551 - root_mean_squared_error: 7.2080\n",
      "Epoch 180/200\n",
      "1098/1098 [==============================] - 7s 7ms/step - loss: 52.2355 - root_mean_squared_error: 7.2274\n",
      "Epoch 181/200\n",
      "1094/1098 [============================>.] - ETA: 0s - loss: 51.0804 - root_mean_squared_error: 7.1471"
     ]
    },
    {
     "name": "stderr",
     "output_type": "stream",
     "text": [
      "WARNING:absl:Found untraced functions such as gru_cell_layer_call_fn, gru_cell_layer_call_and_return_conditional_losses while saving (showing 2 of 2). These functions will not be directly callable after loading.\n"
     ]
    },
    {
     "name": "stdout",
     "output_type": "stream",
     "text": [
      "INFO:tensorflow:Assets written to: best_model\\assets\n"
     ]
    },
    {
     "name": "stderr",
     "output_type": "stream",
     "text": [
      "INFO:tensorflow:Assets written to: best_model\\assets\n",
      "WARNING:absl:<keras.layers.recurrent.GRUCell object at 0x0000015E57CAE088> has the same name 'GRUCell' as a built-in Keras object. Consider renaming <class 'keras.layers.recurrent.GRUCell'> to avoid naming conflicts when loading with `tf.keras.models.load_model`. If renaming is not possible, pass the object in the `custom_objects` parameter of the load function.\n",
      "WARNING:absl:<keras.layers.recurrent.GRUCell object at 0x0000015E57CAEF48> has the same name 'GRUCell' as a built-in Keras object. Consider renaming <class 'keras.layers.recurrent.GRUCell'> to avoid naming conflicts when loading with `tf.keras.models.load_model`. If renaming is not possible, pass the object in the `custom_objects` parameter of the load function.\n"
     ]
    },
    {
     "name": "stdout",
     "output_type": "stream",
     "text": [
      "1098/1098 [==============================] - 11s 10ms/step - loss: 51.0830 - root_mean_squared_error: 7.1472\n",
      "Epoch 182/200\n",
      "1098/1098 [==============================] - 8s 7ms/step - loss: 51.3911 - root_mean_squared_error: 7.1688\n",
      "Epoch 183/200\n",
      "1093/1098 [============================>.] - ETA: 0s - loss: 51.0759 - root_mean_squared_error: 7.1467"
     ]
    },
    {
     "name": "stderr",
     "output_type": "stream",
     "text": [
      "WARNING:absl:Found untraced functions such as gru_cell_layer_call_fn, gru_cell_layer_call_and_return_conditional_losses while saving (showing 2 of 2). These functions will not be directly callable after loading.\n"
     ]
    },
    {
     "name": "stdout",
     "output_type": "stream",
     "text": [
      "INFO:tensorflow:Assets written to: best_model\\assets\n"
     ]
    },
    {
     "name": "stderr",
     "output_type": "stream",
     "text": [
      "INFO:tensorflow:Assets written to: best_model\\assets\n",
      "WARNING:absl:<keras.layers.recurrent.GRUCell object at 0x0000015E57CAE088> has the same name 'GRUCell' as a built-in Keras object. Consider renaming <class 'keras.layers.recurrent.GRUCell'> to avoid naming conflicts when loading with `tf.keras.models.load_model`. If renaming is not possible, pass the object in the `custom_objects` parameter of the load function.\n",
      "WARNING:absl:<keras.layers.recurrent.GRUCell object at 0x0000015E57CAEF48> has the same name 'GRUCell' as a built-in Keras object. Consider renaming <class 'keras.layers.recurrent.GRUCell'> to avoid naming conflicts when loading with `tf.keras.models.load_model`. If renaming is not possible, pass the object in the `custom_objects` parameter of the load function.\n"
     ]
    },
    {
     "name": "stdout",
     "output_type": "stream",
     "text": [
      "1098/1098 [==============================] - 11s 10ms/step - loss: 51.0387 - root_mean_squared_error: 7.1441\n",
      "Epoch 184/200\n",
      "1092/1098 [============================>.] - ETA: 0s - loss: 50.8769 - root_mean_squared_error: 7.1328"
     ]
    },
    {
     "name": "stderr",
     "output_type": "stream",
     "text": [
      "WARNING:absl:Found untraced functions such as gru_cell_layer_call_fn, gru_cell_layer_call_and_return_conditional_losses while saving (showing 2 of 2). These functions will not be directly callable after loading.\n"
     ]
    },
    {
     "name": "stdout",
     "output_type": "stream",
     "text": [
      "INFO:tensorflow:Assets written to: best_model\\assets\n"
     ]
    },
    {
     "name": "stderr",
     "output_type": "stream",
     "text": [
      "INFO:tensorflow:Assets written to: best_model\\assets\n",
      "WARNING:absl:<keras.layers.recurrent.GRUCell object at 0x0000015E57CAE088> has the same name 'GRUCell' as a built-in Keras object. Consider renaming <class 'keras.layers.recurrent.GRUCell'> to avoid naming conflicts when loading with `tf.keras.models.load_model`. If renaming is not possible, pass the object in the `custom_objects` parameter of the load function.\n",
      "WARNING:absl:<keras.layers.recurrent.GRUCell object at 0x0000015E57CAEF48> has the same name 'GRUCell' as a built-in Keras object. Consider renaming <class 'keras.layers.recurrent.GRUCell'> to avoid naming conflicts when loading with `tf.keras.models.load_model`. If renaming is not possible, pass the object in the `custom_objects` parameter of the load function.\n"
     ]
    },
    {
     "name": "stdout",
     "output_type": "stream",
     "text": [
      "1098/1098 [==============================] - 11s 10ms/step - loss: 50.8391 - root_mean_squared_error: 7.1302\n",
      "Epoch 185/200\n",
      "1098/1098 [==============================] - 8s 7ms/step - loss: 51.0307 - root_mean_squared_error: 7.1436\n",
      "Epoch 186/200\n",
      "1092/1098 [============================>.] - ETA: 0s - loss: 50.5777 - root_mean_squared_error: 7.1118"
     ]
    },
    {
     "name": "stderr",
     "output_type": "stream",
     "text": [
      "WARNING:absl:Found untraced functions such as gru_cell_layer_call_fn, gru_cell_layer_call_and_return_conditional_losses while saving (showing 2 of 2). These functions will not be directly callable after loading.\n"
     ]
    },
    {
     "name": "stdout",
     "output_type": "stream",
     "text": [
      "INFO:tensorflow:Assets written to: best_model\\assets\n"
     ]
    },
    {
     "name": "stderr",
     "output_type": "stream",
     "text": [
      "INFO:tensorflow:Assets written to: best_model\\assets\n",
      "WARNING:absl:<keras.layers.recurrent.GRUCell object at 0x0000015E57CAE088> has the same name 'GRUCell' as a built-in Keras object. Consider renaming <class 'keras.layers.recurrent.GRUCell'> to avoid naming conflicts when loading with `tf.keras.models.load_model`. If renaming is not possible, pass the object in the `custom_objects` parameter of the load function.\n",
      "WARNING:absl:<keras.layers.recurrent.GRUCell object at 0x0000015E57CAEF48> has the same name 'GRUCell' as a built-in Keras object. Consider renaming <class 'keras.layers.recurrent.GRUCell'> to avoid naming conflicts when loading with `tf.keras.models.load_model`. If renaming is not possible, pass the object in the `custom_objects` parameter of the load function.\n"
     ]
    },
    {
     "name": "stdout",
     "output_type": "stream",
     "text": [
      "1098/1098 [==============================] - 12s 11ms/step - loss: 50.5942 - root_mean_squared_error: 7.1130\n",
      "Epoch 187/200\n",
      "1091/1098 [============================>.] - ETA: 0s - loss: 50.1315 - root_mean_squared_error: 7.0804"
     ]
    },
    {
     "name": "stderr",
     "output_type": "stream",
     "text": [
      "WARNING:absl:Found untraced functions such as gru_cell_layer_call_fn, gru_cell_layer_call_and_return_conditional_losses while saving (showing 2 of 2). These functions will not be directly callable after loading.\n"
     ]
    },
    {
     "name": "stdout",
     "output_type": "stream",
     "text": [
      "INFO:tensorflow:Assets written to: best_model\\assets\n"
     ]
    },
    {
     "name": "stderr",
     "output_type": "stream",
     "text": [
      "INFO:tensorflow:Assets written to: best_model\\assets\n",
      "WARNING:absl:<keras.layers.recurrent.GRUCell object at 0x0000015E57CAE088> has the same name 'GRUCell' as a built-in Keras object. Consider renaming <class 'keras.layers.recurrent.GRUCell'> to avoid naming conflicts when loading with `tf.keras.models.load_model`. If renaming is not possible, pass the object in the `custom_objects` parameter of the load function.\n",
      "WARNING:absl:<keras.layers.recurrent.GRUCell object at 0x0000015E57CAEF48> has the same name 'GRUCell' as a built-in Keras object. Consider renaming <class 'keras.layers.recurrent.GRUCell'> to avoid naming conflicts when loading with `tf.keras.models.load_model`. If renaming is not possible, pass the object in the `custom_objects` parameter of the load function.\n"
     ]
    },
    {
     "name": "stdout",
     "output_type": "stream",
     "text": [
      "1098/1098 [==============================] - 11s 10ms/step - loss: 50.1036 - root_mean_squared_error: 7.0784\n",
      "Epoch 188/200\n",
      "1092/1098 [============================>.] - ETA: 0s - loss: 49.8087 - root_mean_squared_error: 7.0575"
     ]
    },
    {
     "name": "stderr",
     "output_type": "stream",
     "text": [
      "WARNING:absl:Found untraced functions such as gru_cell_layer_call_fn, gru_cell_layer_call_and_return_conditional_losses while saving (showing 2 of 2). These functions will not be directly callable after loading.\n"
     ]
    },
    {
     "name": "stdout",
     "output_type": "stream",
     "text": [
      "INFO:tensorflow:Assets written to: best_model\\assets\n"
     ]
    },
    {
     "name": "stderr",
     "output_type": "stream",
     "text": [
      "INFO:tensorflow:Assets written to: best_model\\assets\n",
      "WARNING:absl:<keras.layers.recurrent.GRUCell object at 0x0000015E57CAE088> has the same name 'GRUCell' as a built-in Keras object. Consider renaming <class 'keras.layers.recurrent.GRUCell'> to avoid naming conflicts when loading with `tf.keras.models.load_model`. If renaming is not possible, pass the object in the `custom_objects` parameter of the load function.\n",
      "WARNING:absl:<keras.layers.recurrent.GRUCell object at 0x0000015E57CAEF48> has the same name 'GRUCell' as a built-in Keras object. Consider renaming <class 'keras.layers.recurrent.GRUCell'> to avoid naming conflicts when loading with `tf.keras.models.load_model`. If renaming is not possible, pass the object in the `custom_objects` parameter of the load function.\n"
     ]
    },
    {
     "name": "stdout",
     "output_type": "stream",
     "text": [
      "1098/1098 [==============================] - 12s 11ms/step - loss: 49.7637 - root_mean_squared_error: 7.0543\n",
      "Epoch 189/200\n",
      "1098/1098 [==============================] - 8s 7ms/step - loss: 49.8417 - root_mean_squared_error: 7.0599\n",
      "Epoch 190/200\n",
      "1092/1098 [============================>.] - ETA: 0s - loss: 49.1013 - root_mean_squared_error: 7.0072"
     ]
    },
    {
     "name": "stderr",
     "output_type": "stream",
     "text": [
      "WARNING:absl:Found untraced functions such as gru_cell_layer_call_fn, gru_cell_layer_call_and_return_conditional_losses while saving (showing 2 of 2). These functions will not be directly callable after loading.\n"
     ]
    },
    {
     "name": "stdout",
     "output_type": "stream",
     "text": [
      "INFO:tensorflow:Assets written to: best_model\\assets\n"
     ]
    },
    {
     "name": "stderr",
     "output_type": "stream",
     "text": [
      "INFO:tensorflow:Assets written to: best_model\\assets\n",
      "WARNING:absl:<keras.layers.recurrent.GRUCell object at 0x0000015E57CAE088> has the same name 'GRUCell' as a built-in Keras object. Consider renaming <class 'keras.layers.recurrent.GRUCell'> to avoid naming conflicts when loading with `tf.keras.models.load_model`. If renaming is not possible, pass the object in the `custom_objects` parameter of the load function.\n",
      "WARNING:absl:<keras.layers.recurrent.GRUCell object at 0x0000015E57CAEF48> has the same name 'GRUCell' as a built-in Keras object. Consider renaming <class 'keras.layers.recurrent.GRUCell'> to avoid naming conflicts when loading with `tf.keras.models.load_model`. If renaming is not possible, pass the object in the `custom_objects` parameter of the load function.\n"
     ]
    },
    {
     "name": "stdout",
     "output_type": "stream",
     "text": [
      "1098/1098 [==============================] - 12s 10ms/step - loss: 49.0950 - root_mean_squared_error: 7.0068\n",
      "Epoch 191/200\n",
      "1098/1098 [==============================] - 8s 7ms/step - loss: 49.3944 - root_mean_squared_error: 7.0281\n",
      "Epoch 192/200\n",
      "1093/1098 [============================>.] - ETA: 0s - loss: 48.9713 - root_mean_squared_error: 6.9979"
     ]
    },
    {
     "name": "stderr",
     "output_type": "stream",
     "text": [
      "WARNING:absl:Found untraced functions such as gru_cell_layer_call_fn, gru_cell_layer_call_and_return_conditional_losses while saving (showing 2 of 2). These functions will not be directly callable after loading.\n"
     ]
    },
    {
     "name": "stdout",
     "output_type": "stream",
     "text": [
      "INFO:tensorflow:Assets written to: best_model\\assets\n"
     ]
    },
    {
     "name": "stderr",
     "output_type": "stream",
     "text": [
      "INFO:tensorflow:Assets written to: best_model\\assets\n",
      "WARNING:absl:<keras.layers.recurrent.GRUCell object at 0x0000015E57CAE088> has the same name 'GRUCell' as a built-in Keras object. Consider renaming <class 'keras.layers.recurrent.GRUCell'> to avoid naming conflicts when loading with `tf.keras.models.load_model`. If renaming is not possible, pass the object in the `custom_objects` parameter of the load function.\n",
      "WARNING:absl:<keras.layers.recurrent.GRUCell object at 0x0000015E57CAEF48> has the same name 'GRUCell' as a built-in Keras object. Consider renaming <class 'keras.layers.recurrent.GRUCell'> to avoid naming conflicts when loading with `tf.keras.models.load_model`. If renaming is not possible, pass the object in the `custom_objects` parameter of the load function.\n"
     ]
    },
    {
     "name": "stdout",
     "output_type": "stream",
     "text": [
      "1098/1098 [==============================] - 11s 10ms/step - loss: 48.8836 - root_mean_squared_error: 6.9917\n",
      "Epoch 193/200\n",
      "1098/1098 [==============================] - 8s 7ms/step - loss: 49.1631 - root_mean_squared_error: 7.0116\n",
      "Epoch 194/200\n",
      "1098/1098 [==============================] - 8s 7ms/step - loss: 49.1248 - root_mean_squared_error: 7.0089\n",
      "Epoch 195/200\n",
      "1091/1098 [============================>.] - ETA: 0s - loss: 48.1836 - root_mean_squared_error: 6.9414"
     ]
    },
    {
     "name": "stderr",
     "output_type": "stream",
     "text": [
      "WARNING:absl:Found untraced functions such as gru_cell_layer_call_fn, gru_cell_layer_call_and_return_conditional_losses while saving (showing 2 of 2). These functions will not be directly callable after loading.\n"
     ]
    },
    {
     "name": "stdout",
     "output_type": "stream",
     "text": [
      "INFO:tensorflow:Assets written to: best_model\\assets\n"
     ]
    },
    {
     "name": "stderr",
     "output_type": "stream",
     "text": [
      "INFO:tensorflow:Assets written to: best_model\\assets\n",
      "WARNING:absl:<keras.layers.recurrent.GRUCell object at 0x0000015E57CAE088> has the same name 'GRUCell' as a built-in Keras object. Consider renaming <class 'keras.layers.recurrent.GRUCell'> to avoid naming conflicts when loading with `tf.keras.models.load_model`. If renaming is not possible, pass the object in the `custom_objects` parameter of the load function.\n",
      "WARNING:absl:<keras.layers.recurrent.GRUCell object at 0x0000015E57CAEF48> has the same name 'GRUCell' as a built-in Keras object. Consider renaming <class 'keras.layers.recurrent.GRUCell'> to avoid naming conflicts when loading with `tf.keras.models.load_model`. If renaming is not possible, pass the object in the `custom_objects` parameter of the load function.\n"
     ]
    },
    {
     "name": "stdout",
     "output_type": "stream",
     "text": [
      "1098/1098 [==============================] - 11s 10ms/step - loss: 48.2134 - root_mean_squared_error: 6.9436\n",
      "Epoch 196/200\n",
      "1098/1098 [==============================] - 8s 7ms/step - loss: 48.2185 - root_mean_squared_error: 6.9440\n",
      "Epoch 197/200\n",
      "1097/1098 [============================>.] - ETA: 0s - loss: 48.1076 - root_mean_squared_error: 6.9360"
     ]
    },
    {
     "name": "stderr",
     "output_type": "stream",
     "text": [
      "WARNING:absl:Found untraced functions such as gru_cell_layer_call_fn, gru_cell_layer_call_and_return_conditional_losses while saving (showing 2 of 2). These functions will not be directly callable after loading.\n"
     ]
    },
    {
     "name": "stdout",
     "output_type": "stream",
     "text": [
      "INFO:tensorflow:Assets written to: best_model\\assets\n"
     ]
    },
    {
     "name": "stderr",
     "output_type": "stream",
     "text": [
      "INFO:tensorflow:Assets written to: best_model\\assets\n",
      "WARNING:absl:<keras.layers.recurrent.GRUCell object at 0x0000015E57CAE088> has the same name 'GRUCell' as a built-in Keras object. Consider renaming <class 'keras.layers.recurrent.GRUCell'> to avoid naming conflicts when loading with `tf.keras.models.load_model`. If renaming is not possible, pass the object in the `custom_objects` parameter of the load function.\n",
      "WARNING:absl:<keras.layers.recurrent.GRUCell object at 0x0000015E57CAEF48> has the same name 'GRUCell' as a built-in Keras object. Consider renaming <class 'keras.layers.recurrent.GRUCell'> to avoid naming conflicts when loading with `tf.keras.models.load_model`. If renaming is not possible, pass the object in the `custom_objects` parameter of the load function.\n"
     ]
    },
    {
     "name": "stdout",
     "output_type": "stream",
     "text": [
      "1098/1098 [==============================] - 12s 11ms/step - loss: 48.0939 - root_mean_squared_error: 6.9350\n",
      "Epoch 198/200\n",
      "1098/1098 [==============================] - ETA: 0s - loss: 47.5523 - root_mean_squared_error: 6.8958"
     ]
    },
    {
     "name": "stderr",
     "output_type": "stream",
     "text": [
      "WARNING:absl:Found untraced functions such as gru_cell_layer_call_fn, gru_cell_layer_call_and_return_conditional_losses while saving (showing 2 of 2). These functions will not be directly callable after loading.\n"
     ]
    },
    {
     "name": "stdout",
     "output_type": "stream",
     "text": [
      "INFO:tensorflow:Assets written to: best_model\\assets\n"
     ]
    },
    {
     "name": "stderr",
     "output_type": "stream",
     "text": [
      "INFO:tensorflow:Assets written to: best_model\\assets\n",
      "WARNING:absl:<keras.layers.recurrent.GRUCell object at 0x0000015E57CAE088> has the same name 'GRUCell' as a built-in Keras object. Consider renaming <class 'keras.layers.recurrent.GRUCell'> to avoid naming conflicts when loading with `tf.keras.models.load_model`. If renaming is not possible, pass the object in the `custom_objects` parameter of the load function.\n",
      "WARNING:absl:<keras.layers.recurrent.GRUCell object at 0x0000015E57CAEF48> has the same name 'GRUCell' as a built-in Keras object. Consider renaming <class 'keras.layers.recurrent.GRUCell'> to avoid naming conflicts when loading with `tf.keras.models.load_model`. If renaming is not possible, pass the object in the `custom_objects` parameter of the load function.\n"
     ]
    },
    {
     "name": "stdout",
     "output_type": "stream",
     "text": [
      "1098/1098 [==============================] - 11s 10ms/step - loss: 47.5523 - root_mean_squared_error: 6.8958\n",
      "Epoch 199/200\n",
      "1098/1098 [==============================] - 8s 7ms/step - loss: 47.7362 - root_mean_squared_error: 6.9091\n",
      "Epoch 200/200\n",
      "1094/1098 [============================>.] - ETA: 0s - loss: 47.4702 - root_mean_squared_error: 6.8899"
     ]
    },
    {
     "name": "stderr",
     "output_type": "stream",
     "text": [
      "WARNING:absl:Found untraced functions such as gru_cell_layer_call_fn, gru_cell_layer_call_and_return_conditional_losses while saving (showing 2 of 2). These functions will not be directly callable after loading.\n"
     ]
    },
    {
     "name": "stdout",
     "output_type": "stream",
     "text": [
      "INFO:tensorflow:Assets written to: best_model\\assets\n"
     ]
    },
    {
     "name": "stderr",
     "output_type": "stream",
     "text": [
      "INFO:tensorflow:Assets written to: best_model\\assets\n",
      "WARNING:absl:<keras.layers.recurrent.GRUCell object at 0x0000015E57CAE088> has the same name 'GRUCell' as a built-in Keras object. Consider renaming <class 'keras.layers.recurrent.GRUCell'> to avoid naming conflicts when loading with `tf.keras.models.load_model`. If renaming is not possible, pass the object in the `custom_objects` parameter of the load function.\n",
      "WARNING:absl:<keras.layers.recurrent.GRUCell object at 0x0000015E57CAEF48> has the same name 'GRUCell' as a built-in Keras object. Consider renaming <class 'keras.layers.recurrent.GRUCell'> to avoid naming conflicts when loading with `tf.keras.models.load_model`. If renaming is not possible, pass the object in the `custom_objects` parameter of the load function.\n"
     ]
    },
    {
     "name": "stdout",
     "output_type": "stream",
     "text": [
      "1098/1098 [==============================] - 11s 10ms/step - loss: 47.5175 - root_mean_squared_error: 6.8933\n",
      "275/275 [==============================] - 1s 3ms/step - loss: 59.6002 - root_mean_squared_error: 7.7201\n",
      "Epoch 1/200\n",
      "1098/1098 [==============================] - 7s 7ms/step - loss: 48.8803 - root_mean_squared_error: 6.9914\n",
      "Epoch 2/200\n",
      "1098/1098 [==============================] - 8s 7ms/step - loss: 48.3395 - root_mean_squared_error: 6.9527\n",
      "Epoch 3/200\n",
      "1098/1098 [==============================] - 8s 7ms/step - loss: 48.3092 - root_mean_squared_error: 6.9505\n",
      "Epoch 4/200\n",
      "1098/1098 [==============================] - 8s 7ms/step - loss: 47.8617 - root_mean_squared_error: 6.9182\n",
      "Epoch 5/200\n",
      "1098/1098 [==============================] - 8s 7ms/step - loss: 47.9842 - root_mean_squared_error: 6.9271\n",
      "Epoch 6/200\n",
      "1094/1098 [============================>.] - ETA: 0s - loss: 47.5459 - root_mean_squared_error: 6.8954"
     ]
    },
    {
     "name": "stderr",
     "output_type": "stream",
     "text": [
      "WARNING:absl:Found untraced functions such as gru_cell_layer_call_fn, gru_cell_layer_call_and_return_conditional_losses while saving (showing 2 of 2). These functions will not be directly callable after loading.\n"
     ]
    },
    {
     "name": "stdout",
     "output_type": "stream",
     "text": [
      "INFO:tensorflow:Assets written to: best_model\\assets\n"
     ]
    },
    {
     "name": "stderr",
     "output_type": "stream",
     "text": [
      "INFO:tensorflow:Assets written to: best_model\\assets\n",
      "WARNING:absl:<keras.layers.recurrent.GRUCell object at 0x0000015E57CAE088> has the same name 'GRUCell' as a built-in Keras object. Consider renaming <class 'keras.layers.recurrent.GRUCell'> to avoid naming conflicts when loading with `tf.keras.models.load_model`. If renaming is not possible, pass the object in the `custom_objects` parameter of the load function.\n",
      "WARNING:absl:<keras.layers.recurrent.GRUCell object at 0x0000015E57CAEF48> has the same name 'GRUCell' as a built-in Keras object. Consider renaming <class 'keras.layers.recurrent.GRUCell'> to avoid naming conflicts when loading with `tf.keras.models.load_model`. If renaming is not possible, pass the object in the `custom_objects` parameter of the load function.\n"
     ]
    },
    {
     "name": "stdout",
     "output_type": "stream",
     "text": [
      "1098/1098 [==============================] - 11s 10ms/step - loss: 47.4898 - root_mean_squared_error: 6.8913\n",
      "Epoch 7/200\n",
      "1094/1098 [============================>.] - ETA: 0s - loss: 46.5224 - root_mean_squared_error: 6.8207"
     ]
    },
    {
     "name": "stderr",
     "output_type": "stream",
     "text": [
      "WARNING:absl:Found untraced functions such as gru_cell_layer_call_fn, gru_cell_layer_call_and_return_conditional_losses while saving (showing 2 of 2). These functions will not be directly callable after loading.\n"
     ]
    },
    {
     "name": "stdout",
     "output_type": "stream",
     "text": [
      "INFO:tensorflow:Assets written to: best_model\\assets\n"
     ]
    },
    {
     "name": "stderr",
     "output_type": "stream",
     "text": [
      "INFO:tensorflow:Assets written to: best_model\\assets\n",
      "WARNING:absl:<keras.layers.recurrent.GRUCell object at 0x0000015E57CAE088> has the same name 'GRUCell' as a built-in Keras object. Consider renaming <class 'keras.layers.recurrent.GRUCell'> to avoid naming conflicts when loading with `tf.keras.models.load_model`. If renaming is not possible, pass the object in the `custom_objects` parameter of the load function.\n",
      "WARNING:absl:<keras.layers.recurrent.GRUCell object at 0x0000015E57CAEF48> has the same name 'GRUCell' as a built-in Keras object. Consider renaming <class 'keras.layers.recurrent.GRUCell'> to avoid naming conflicts when loading with `tf.keras.models.load_model`. If renaming is not possible, pass the object in the `custom_objects` parameter of the load function.\n"
     ]
    },
    {
     "name": "stdout",
     "output_type": "stream",
     "text": [
      "1098/1098 [==============================] - 11s 10ms/step - loss: 46.5728 - root_mean_squared_error: 6.8244\n",
      "Epoch 8/200\n",
      "1097/1098 [============================>.] - ETA: 0s - loss: 46.4169 - root_mean_squared_error: 6.8130"
     ]
    },
    {
     "name": "stderr",
     "output_type": "stream",
     "text": [
      "WARNING:absl:Found untraced functions such as gru_cell_layer_call_fn, gru_cell_layer_call_and_return_conditional_losses while saving (showing 2 of 2). These functions will not be directly callable after loading.\n"
     ]
    },
    {
     "name": "stdout",
     "output_type": "stream",
     "text": [
      "INFO:tensorflow:Assets written to: best_model\\assets\n"
     ]
    },
    {
     "name": "stderr",
     "output_type": "stream",
     "text": [
      "INFO:tensorflow:Assets written to: best_model\\assets\n",
      "WARNING:absl:<keras.layers.recurrent.GRUCell object at 0x0000015E57CAE088> has the same name 'GRUCell' as a built-in Keras object. Consider renaming <class 'keras.layers.recurrent.GRUCell'> to avoid naming conflicts when loading with `tf.keras.models.load_model`. If renaming is not possible, pass the object in the `custom_objects` parameter of the load function.\n",
      "WARNING:absl:<keras.layers.recurrent.GRUCell object at 0x0000015E57CAEF48> has the same name 'GRUCell' as a built-in Keras object. Consider renaming <class 'keras.layers.recurrent.GRUCell'> to avoid naming conflicts when loading with `tf.keras.models.load_model`. If renaming is not possible, pass the object in the `custom_objects` parameter of the load function.\n"
     ]
    },
    {
     "name": "stdout",
     "output_type": "stream",
     "text": [
      "1098/1098 [==============================] - 12s 11ms/step - loss: 46.4011 - root_mean_squared_error: 6.8118\n",
      "Epoch 9/200\n",
      "1095/1098 [============================>.] - ETA: 0s - loss: 46.1863 - root_mean_squared_error: 6.7960"
     ]
    },
    {
     "name": "stderr",
     "output_type": "stream",
     "text": [
      "WARNING:absl:Found untraced functions such as gru_cell_layer_call_fn, gru_cell_layer_call_and_return_conditional_losses while saving (showing 2 of 2). These functions will not be directly callable after loading.\n"
     ]
    },
    {
     "name": "stdout",
     "output_type": "stream",
     "text": [
      "INFO:tensorflow:Assets written to: best_model\\assets\n"
     ]
    },
    {
     "name": "stderr",
     "output_type": "stream",
     "text": [
      "INFO:tensorflow:Assets written to: best_model\\assets\n",
      "WARNING:absl:<keras.layers.recurrent.GRUCell object at 0x0000015E57CAE088> has the same name 'GRUCell' as a built-in Keras object. Consider renaming <class 'keras.layers.recurrent.GRUCell'> to avoid naming conflicts when loading with `tf.keras.models.load_model`. If renaming is not possible, pass the object in the `custom_objects` parameter of the load function.\n",
      "WARNING:absl:<keras.layers.recurrent.GRUCell object at 0x0000015E57CAEF48> has the same name 'GRUCell' as a built-in Keras object. Consider renaming <class 'keras.layers.recurrent.GRUCell'> to avoid naming conflicts when loading with `tf.keras.models.load_model`. If renaming is not possible, pass the object in the `custom_objects` parameter of the load function.\n"
     ]
    },
    {
     "name": "stdout",
     "output_type": "stream",
     "text": [
      "1098/1098 [==============================] - 11s 10ms/step - loss: 46.2383 - root_mean_squared_error: 6.7999\n",
      "Epoch 10/200\n",
      "1098/1098 [==============================] - 8s 7ms/step - loss: 46.8536 - root_mean_squared_error: 6.8450\n",
      "Epoch 11/200\n",
      "1098/1098 [==============================] - 8s 7ms/step - loss: 46.4318 - root_mean_squared_error: 6.8141\n",
      "Epoch 12/200\n",
      "1096/1098 [============================>.] - ETA: 0s - loss: 45.8371 - root_mean_squared_error: 6.7703"
     ]
    },
    {
     "name": "stderr",
     "output_type": "stream",
     "text": [
      "WARNING:absl:Found untraced functions such as gru_cell_layer_call_fn, gru_cell_layer_call_and_return_conditional_losses while saving (showing 2 of 2). These functions will not be directly callable after loading.\n"
     ]
    },
    {
     "name": "stdout",
     "output_type": "stream",
     "text": [
      "INFO:tensorflow:Assets written to: best_model\\assets\n"
     ]
    },
    {
     "name": "stderr",
     "output_type": "stream",
     "text": [
      "INFO:tensorflow:Assets written to: best_model\\assets\n",
      "WARNING:absl:<keras.layers.recurrent.GRUCell object at 0x0000015E57CAE088> has the same name 'GRUCell' as a built-in Keras object. Consider renaming <class 'keras.layers.recurrent.GRUCell'> to avoid naming conflicts when loading with `tf.keras.models.load_model`. If renaming is not possible, pass the object in the `custom_objects` parameter of the load function.\n",
      "WARNING:absl:<keras.layers.recurrent.GRUCell object at 0x0000015E57CAEF48> has the same name 'GRUCell' as a built-in Keras object. Consider renaming <class 'keras.layers.recurrent.GRUCell'> to avoid naming conflicts when loading with `tf.keras.models.load_model`. If renaming is not possible, pass the object in the `custom_objects` parameter of the load function.\n"
     ]
    },
    {
     "name": "stdout",
     "output_type": "stream",
     "text": [
      "1098/1098 [==============================] - 12s 11ms/step - loss: 45.8495 - root_mean_squared_error: 6.7712\n",
      "Epoch 13/200\n",
      "1094/1098 [============================>.] - ETA: 0s - loss: 45.7216 - root_mean_squared_error: 6.7618"
     ]
    },
    {
     "name": "stderr",
     "output_type": "stream",
     "text": [
      "WARNING:absl:Found untraced functions such as gru_cell_layer_call_fn, gru_cell_layer_call_and_return_conditional_losses while saving (showing 2 of 2). These functions will not be directly callable after loading.\n"
     ]
    },
    {
     "name": "stdout",
     "output_type": "stream",
     "text": [
      "INFO:tensorflow:Assets written to: best_model\\assets\n"
     ]
    },
    {
     "name": "stderr",
     "output_type": "stream",
     "text": [
      "INFO:tensorflow:Assets written to: best_model\\assets\n",
      "WARNING:absl:<keras.layers.recurrent.GRUCell object at 0x0000015E57CAE088> has the same name 'GRUCell' as a built-in Keras object. Consider renaming <class 'keras.layers.recurrent.GRUCell'> to avoid naming conflicts when loading with `tf.keras.models.load_model`. If renaming is not possible, pass the object in the `custom_objects` parameter of the load function.\n",
      "WARNING:absl:<keras.layers.recurrent.GRUCell object at 0x0000015E57CAEF48> has the same name 'GRUCell' as a built-in Keras object. Consider renaming <class 'keras.layers.recurrent.GRUCell'> to avoid naming conflicts when loading with `tf.keras.models.load_model`. If renaming is not possible, pass the object in the `custom_objects` parameter of the load function.\n"
     ]
    },
    {
     "name": "stdout",
     "output_type": "stream",
     "text": [
      "1098/1098 [==============================] - 11s 10ms/step - loss: 45.7523 - root_mean_squared_error: 6.7640\n",
      "Epoch 14/200\n",
      "1098/1098 [==============================] - ETA: 0s - loss: 45.5750 - root_mean_squared_error: 6.7509"
     ]
    },
    {
     "name": "stderr",
     "output_type": "stream",
     "text": [
      "WARNING:absl:Found untraced functions such as gru_cell_layer_call_fn, gru_cell_layer_call_and_return_conditional_losses while saving (showing 2 of 2). These functions will not be directly callable after loading.\n"
     ]
    },
    {
     "name": "stdout",
     "output_type": "stream",
     "text": [
      "INFO:tensorflow:Assets written to: best_model\\assets\n"
     ]
    },
    {
     "name": "stderr",
     "output_type": "stream",
     "text": [
      "INFO:tensorflow:Assets written to: best_model\\assets\n",
      "WARNING:absl:<keras.layers.recurrent.GRUCell object at 0x0000015E57CAE088> has the same name 'GRUCell' as a built-in Keras object. Consider renaming <class 'keras.layers.recurrent.GRUCell'> to avoid naming conflicts when loading with `tf.keras.models.load_model`. If renaming is not possible, pass the object in the `custom_objects` parameter of the load function.\n",
      "WARNING:absl:<keras.layers.recurrent.GRUCell object at 0x0000015E57CAEF48> has the same name 'GRUCell' as a built-in Keras object. Consider renaming <class 'keras.layers.recurrent.GRUCell'> to avoid naming conflicts when loading with `tf.keras.models.load_model`. If renaming is not possible, pass the object in the `custom_objects` parameter of the load function.\n"
     ]
    },
    {
     "name": "stdout",
     "output_type": "stream",
     "text": [
      "1098/1098 [==============================] - 11s 10ms/step - loss: 45.5750 - root_mean_squared_error: 6.7509\n",
      "Epoch 15/200\n",
      "1098/1098 [==============================] - ETA: 0s - loss: 45.1591 - root_mean_squared_error: 6.7201"
     ]
    },
    {
     "name": "stderr",
     "output_type": "stream",
     "text": [
      "WARNING:absl:Found untraced functions such as gru_cell_layer_call_fn, gru_cell_layer_call_and_return_conditional_losses while saving (showing 2 of 2). These functions will not be directly callable after loading.\n"
     ]
    },
    {
     "name": "stdout",
     "output_type": "stream",
     "text": [
      "INFO:tensorflow:Assets written to: best_model\\assets\n"
     ]
    },
    {
     "name": "stderr",
     "output_type": "stream",
     "text": [
      "INFO:tensorflow:Assets written to: best_model\\assets\n",
      "WARNING:absl:<keras.layers.recurrent.GRUCell object at 0x0000015E57CAE088> has the same name 'GRUCell' as a built-in Keras object. Consider renaming <class 'keras.layers.recurrent.GRUCell'> to avoid naming conflicts when loading with `tf.keras.models.load_model`. If renaming is not possible, pass the object in the `custom_objects` parameter of the load function.\n",
      "WARNING:absl:<keras.layers.recurrent.GRUCell object at 0x0000015E57CAEF48> has the same name 'GRUCell' as a built-in Keras object. Consider renaming <class 'keras.layers.recurrent.GRUCell'> to avoid naming conflicts when loading with `tf.keras.models.load_model`. If renaming is not possible, pass the object in the `custom_objects` parameter of the load function.\n"
     ]
    },
    {
     "name": "stdout",
     "output_type": "stream",
     "text": [
      "1098/1098 [==============================] - 11s 10ms/step - loss: 45.1591 - root_mean_squared_error: 6.7201\n",
      "Epoch 16/200\n",
      "1095/1098 [============================>.] - ETA: 0s - loss: 44.8576 - root_mean_squared_error: 6.6976"
     ]
    },
    {
     "name": "stderr",
     "output_type": "stream",
     "text": [
      "WARNING:absl:Found untraced functions such as gru_cell_layer_call_fn, gru_cell_layer_call_and_return_conditional_losses while saving (showing 2 of 2). These functions will not be directly callable after loading.\n"
     ]
    },
    {
     "name": "stdout",
     "output_type": "stream",
     "text": [
      "INFO:tensorflow:Assets written to: best_model\\assets\n"
     ]
    },
    {
     "name": "stderr",
     "output_type": "stream",
     "text": [
      "INFO:tensorflow:Assets written to: best_model\\assets\n",
      "WARNING:absl:<keras.layers.recurrent.GRUCell object at 0x0000015E57CAE088> has the same name 'GRUCell' as a built-in Keras object. Consider renaming <class 'keras.layers.recurrent.GRUCell'> to avoid naming conflicts when loading with `tf.keras.models.load_model`. If renaming is not possible, pass the object in the `custom_objects` parameter of the load function.\n",
      "WARNING:absl:<keras.layers.recurrent.GRUCell object at 0x0000015E57CAEF48> has the same name 'GRUCell' as a built-in Keras object. Consider renaming <class 'keras.layers.recurrent.GRUCell'> to avoid naming conflicts when loading with `tf.keras.models.load_model`. If renaming is not possible, pass the object in the `custom_objects` parameter of the load function.\n"
     ]
    },
    {
     "name": "stdout",
     "output_type": "stream",
     "text": [
      "1098/1098 [==============================] - 12s 10ms/step - loss: 44.8478 - root_mean_squared_error: 6.6969\n",
      "Epoch 17/200\n",
      "1097/1098 [============================>.] - ETA: 0s - loss: 44.6612 - root_mean_squared_error: 6.6829"
     ]
    },
    {
     "name": "stderr",
     "output_type": "stream",
     "text": [
      "WARNING:absl:Found untraced functions such as gru_cell_layer_call_fn, gru_cell_layer_call_and_return_conditional_losses while saving (showing 2 of 2). These functions will not be directly callable after loading.\n"
     ]
    },
    {
     "name": "stdout",
     "output_type": "stream",
     "text": [
      "INFO:tensorflow:Assets written to: best_model\\assets\n"
     ]
    },
    {
     "name": "stderr",
     "output_type": "stream",
     "text": [
      "INFO:tensorflow:Assets written to: best_model\\assets\n",
      "WARNING:absl:<keras.layers.recurrent.GRUCell object at 0x0000015E57CAE088> has the same name 'GRUCell' as a built-in Keras object. Consider renaming <class 'keras.layers.recurrent.GRUCell'> to avoid naming conflicts when loading with `tf.keras.models.load_model`. If renaming is not possible, pass the object in the `custom_objects` parameter of the load function.\n",
      "WARNING:absl:<keras.layers.recurrent.GRUCell object at 0x0000015E57CAEF48> has the same name 'GRUCell' as a built-in Keras object. Consider renaming <class 'keras.layers.recurrent.GRUCell'> to avoid naming conflicts when loading with `tf.keras.models.load_model`. If renaming is not possible, pass the object in the `custom_objects` parameter of the load function.\n"
     ]
    },
    {
     "name": "stdout",
     "output_type": "stream",
     "text": [
      "1098/1098 [==============================] - 11s 10ms/step - loss: 44.6498 - root_mean_squared_error: 6.6821\n",
      "Epoch 18/200\n",
      "1098/1098 [==============================] - ETA: 0s - loss: 44.6232 - root_mean_squared_error: 6.6801"
     ]
    },
    {
     "name": "stderr",
     "output_type": "stream",
     "text": [
      "WARNING:absl:Found untraced functions such as gru_cell_layer_call_fn, gru_cell_layer_call_and_return_conditional_losses while saving (showing 2 of 2). These functions will not be directly callable after loading.\n"
     ]
    },
    {
     "name": "stdout",
     "output_type": "stream",
     "text": [
      "INFO:tensorflow:Assets written to: best_model\\assets\n"
     ]
    },
    {
     "name": "stderr",
     "output_type": "stream",
     "text": [
      "INFO:tensorflow:Assets written to: best_model\\assets\n",
      "WARNING:absl:<keras.layers.recurrent.GRUCell object at 0x0000015E57CAE088> has the same name 'GRUCell' as a built-in Keras object. Consider renaming <class 'keras.layers.recurrent.GRUCell'> to avoid naming conflicts when loading with `tf.keras.models.load_model`. If renaming is not possible, pass the object in the `custom_objects` parameter of the load function.\n",
      "WARNING:absl:<keras.layers.recurrent.GRUCell object at 0x0000015E57CAEF48> has the same name 'GRUCell' as a built-in Keras object. Consider renaming <class 'keras.layers.recurrent.GRUCell'> to avoid naming conflicts when loading with `tf.keras.models.load_model`. If renaming is not possible, pass the object in the `custom_objects` parameter of the load function.\n"
     ]
    },
    {
     "name": "stdout",
     "output_type": "stream",
     "text": [
      "1098/1098 [==============================] - 12s 11ms/step - loss: 44.6232 - root_mean_squared_error: 6.6801\n",
      "Epoch 19/200\n",
      "1096/1098 [============================>.] - ETA: 0s - loss: 43.9664 - root_mean_squared_error: 6.6307"
     ]
    },
    {
     "name": "stderr",
     "output_type": "stream",
     "text": [
      "WARNING:absl:Found untraced functions such as gru_cell_layer_call_fn, gru_cell_layer_call_and_return_conditional_losses while saving (showing 2 of 2). These functions will not be directly callable after loading.\n"
     ]
    },
    {
     "name": "stdout",
     "output_type": "stream",
     "text": [
      "INFO:tensorflow:Assets written to: best_model\\assets\n"
     ]
    },
    {
     "name": "stderr",
     "output_type": "stream",
     "text": [
      "INFO:tensorflow:Assets written to: best_model\\assets\n",
      "WARNING:absl:<keras.layers.recurrent.GRUCell object at 0x0000015E57CAE088> has the same name 'GRUCell' as a built-in Keras object. Consider renaming <class 'keras.layers.recurrent.GRUCell'> to avoid naming conflicts when loading with `tf.keras.models.load_model`. If renaming is not possible, pass the object in the `custom_objects` parameter of the load function.\n",
      "WARNING:absl:<keras.layers.recurrent.GRUCell object at 0x0000015E57CAEF48> has the same name 'GRUCell' as a built-in Keras object. Consider renaming <class 'keras.layers.recurrent.GRUCell'> to avoid naming conflicts when loading with `tf.keras.models.load_model`. If renaming is not possible, pass the object in the `custom_objects` parameter of the load function.\n"
     ]
    },
    {
     "name": "stdout",
     "output_type": "stream",
     "text": [
      "1098/1098 [==============================] - 12s 11ms/step - loss: 43.9588 - root_mean_squared_error: 6.6301\n",
      "Epoch 20/200\n",
      "1094/1098 [============================>.] - ETA: 0s - loss: 43.8100 - root_mean_squared_error: 6.6189"
     ]
    },
    {
     "name": "stderr",
     "output_type": "stream",
     "text": [
      "WARNING:absl:Found untraced functions such as gru_cell_layer_call_fn, gru_cell_layer_call_and_return_conditional_losses while saving (showing 2 of 2). These functions will not be directly callable after loading.\n"
     ]
    },
    {
     "name": "stdout",
     "output_type": "stream",
     "text": [
      "INFO:tensorflow:Assets written to: best_model\\assets\n"
     ]
    },
    {
     "name": "stderr",
     "output_type": "stream",
     "text": [
      "INFO:tensorflow:Assets written to: best_model\\assets\n",
      "WARNING:absl:<keras.layers.recurrent.GRUCell object at 0x0000015E57CAE088> has the same name 'GRUCell' as a built-in Keras object. Consider renaming <class 'keras.layers.recurrent.GRUCell'> to avoid naming conflicts when loading with `tf.keras.models.load_model`. If renaming is not possible, pass the object in the `custom_objects` parameter of the load function.\n",
      "WARNING:absl:<keras.layers.recurrent.GRUCell object at 0x0000015E57CAEF48> has the same name 'GRUCell' as a built-in Keras object. Consider renaming <class 'keras.layers.recurrent.GRUCell'> to avoid naming conflicts when loading with `tf.keras.models.load_model`. If renaming is not possible, pass the object in the `custom_objects` parameter of the load function.\n"
     ]
    },
    {
     "name": "stdout",
     "output_type": "stream",
     "text": [
      "1098/1098 [==============================] - 12s 11ms/step - loss: 43.7482 - root_mean_squared_error: 6.6142\n",
      "Epoch 21/200\n",
      "1095/1098 [============================>.] - ETA: 0s - loss: 43.6957 - root_mean_squared_error: 6.6103"
     ]
    },
    {
     "name": "stderr",
     "output_type": "stream",
     "text": [
      "WARNING:absl:Found untraced functions such as gru_cell_layer_call_fn, gru_cell_layer_call_and_return_conditional_losses while saving (showing 2 of 2). These functions will not be directly callable after loading.\n"
     ]
    },
    {
     "name": "stdout",
     "output_type": "stream",
     "text": [
      "INFO:tensorflow:Assets written to: best_model\\assets\n"
     ]
    },
    {
     "name": "stderr",
     "output_type": "stream",
     "text": [
      "INFO:tensorflow:Assets written to: best_model\\assets\n",
      "WARNING:absl:<keras.layers.recurrent.GRUCell object at 0x0000015E57CAE088> has the same name 'GRUCell' as a built-in Keras object. Consider renaming <class 'keras.layers.recurrent.GRUCell'> to avoid naming conflicts when loading with `tf.keras.models.load_model`. If renaming is not possible, pass the object in the `custom_objects` parameter of the load function.\n",
      "WARNING:absl:<keras.layers.recurrent.GRUCell object at 0x0000015E57CAEF48> has the same name 'GRUCell' as a built-in Keras object. Consider renaming <class 'keras.layers.recurrent.GRUCell'> to avoid naming conflicts when loading with `tf.keras.models.load_model`. If renaming is not possible, pass the object in the `custom_objects` parameter of the load function.\n"
     ]
    },
    {
     "name": "stdout",
     "output_type": "stream",
     "text": [
      "1098/1098 [==============================] - 12s 11ms/step - loss: 43.6933 - root_mean_squared_error: 6.6101\n",
      "Epoch 22/200\n",
      "1094/1098 [============================>.] - ETA: 0s - loss: 43.4746 - root_mean_squared_error: 6.5935"
     ]
    },
    {
     "name": "stderr",
     "output_type": "stream",
     "text": [
      "WARNING:absl:Found untraced functions such as gru_cell_layer_call_fn, gru_cell_layer_call_and_return_conditional_losses while saving (showing 2 of 2). These functions will not be directly callable after loading.\n"
     ]
    },
    {
     "name": "stdout",
     "output_type": "stream",
     "text": [
      "INFO:tensorflow:Assets written to: best_model\\assets\n"
     ]
    },
    {
     "name": "stderr",
     "output_type": "stream",
     "text": [
      "INFO:tensorflow:Assets written to: best_model\\assets\n",
      "WARNING:absl:<keras.layers.recurrent.GRUCell object at 0x0000015E57CAE088> has the same name 'GRUCell' as a built-in Keras object. Consider renaming <class 'keras.layers.recurrent.GRUCell'> to avoid naming conflicts when loading with `tf.keras.models.load_model`. If renaming is not possible, pass the object in the `custom_objects` parameter of the load function.\n",
      "WARNING:absl:<keras.layers.recurrent.GRUCell object at 0x0000015E57CAEF48> has the same name 'GRUCell' as a built-in Keras object. Consider renaming <class 'keras.layers.recurrent.GRUCell'> to avoid naming conflicts when loading with `tf.keras.models.load_model`. If renaming is not possible, pass the object in the `custom_objects` parameter of the load function.\n"
     ]
    },
    {
     "name": "stdout",
     "output_type": "stream",
     "text": [
      "1098/1098 [==============================] - 12s 11ms/step - loss: 43.6480 - root_mean_squared_error: 6.6067\n",
      "Epoch 23/200\n",
      "1094/1098 [============================>.] - ETA: 0s - loss: 43.0618 - root_mean_squared_error: 6.5621"
     ]
    },
    {
     "name": "stderr",
     "output_type": "stream",
     "text": [
      "WARNING:absl:Found untraced functions such as gru_cell_layer_call_fn, gru_cell_layer_call_and_return_conditional_losses while saving (showing 2 of 2). These functions will not be directly callable after loading.\n"
     ]
    },
    {
     "name": "stdout",
     "output_type": "stream",
     "text": [
      "INFO:tensorflow:Assets written to: best_model\\assets\n"
     ]
    },
    {
     "name": "stderr",
     "output_type": "stream",
     "text": [
      "INFO:tensorflow:Assets written to: best_model\\assets\n",
      "WARNING:absl:<keras.layers.recurrent.GRUCell object at 0x0000015E57CAE088> has the same name 'GRUCell' as a built-in Keras object. Consider renaming <class 'keras.layers.recurrent.GRUCell'> to avoid naming conflicts when loading with `tf.keras.models.load_model`. If renaming is not possible, pass the object in the `custom_objects` parameter of the load function.\n",
      "WARNING:absl:<keras.layers.recurrent.GRUCell object at 0x0000015E57CAEF48> has the same name 'GRUCell' as a built-in Keras object. Consider renaming <class 'keras.layers.recurrent.GRUCell'> to avoid naming conflicts when loading with `tf.keras.models.load_model`. If renaming is not possible, pass the object in the `custom_objects` parameter of the load function.\n"
     ]
    },
    {
     "name": "stdout",
     "output_type": "stream",
     "text": [
      "1098/1098 [==============================] - 12s 11ms/step - loss: 43.0778 - root_mean_squared_error: 6.5634\n",
      "Epoch 24/200\n",
      "1098/1098 [==============================] - 9s 8ms/step - loss: 43.4470 - root_mean_squared_error: 6.5914\n",
      "Epoch 25/200\n",
      "1094/1098 [============================>.] - ETA: 0s - loss: 43.1557 - root_mean_squared_error: 6.5693"
     ]
    },
    {
     "name": "stderr",
     "output_type": "stream",
     "text": [
      "WARNING:absl:Found untraced functions such as gru_cell_layer_call_fn, gru_cell_layer_call_and_return_conditional_losses while saving (showing 2 of 2). These functions will not be directly callable after loading.\n"
     ]
    },
    {
     "name": "stdout",
     "output_type": "stream",
     "text": [
      "INFO:tensorflow:Assets written to: best_model\\assets\n"
     ]
    },
    {
     "name": "stderr",
     "output_type": "stream",
     "text": [
      "INFO:tensorflow:Assets written to: best_model\\assets\n",
      "WARNING:absl:<keras.layers.recurrent.GRUCell object at 0x0000015E57CAE088> has the same name 'GRUCell' as a built-in Keras object. Consider renaming <class 'keras.layers.recurrent.GRUCell'> to avoid naming conflicts when loading with `tf.keras.models.load_model`. If renaming is not possible, pass the object in the `custom_objects` parameter of the load function.\n",
      "WARNING:absl:<keras.layers.recurrent.GRUCell object at 0x0000015E57CAEF48> has the same name 'GRUCell' as a built-in Keras object. Consider renaming <class 'keras.layers.recurrent.GRUCell'> to avoid naming conflicts when loading with `tf.keras.models.load_model`. If renaming is not possible, pass the object in the `custom_objects` parameter of the load function.\n"
     ]
    },
    {
     "name": "stdout",
     "output_type": "stream",
     "text": [
      "1098/1098 [==============================] - 12s 11ms/step - loss: 43.0744 - root_mean_squared_error: 6.5631\n",
      "Epoch 26/200\n",
      "1096/1098 [============================>.] - ETA: 0s - loss: 42.7177 - root_mean_squared_error: 6.5359"
     ]
    },
    {
     "name": "stderr",
     "output_type": "stream",
     "text": [
      "WARNING:absl:Found untraced functions such as gru_cell_layer_call_fn, gru_cell_layer_call_and_return_conditional_losses while saving (showing 2 of 2). These functions will not be directly callable after loading.\n"
     ]
    },
    {
     "name": "stdout",
     "output_type": "stream",
     "text": [
      "INFO:tensorflow:Assets written to: best_model\\assets\n"
     ]
    },
    {
     "name": "stderr",
     "output_type": "stream",
     "text": [
      "INFO:tensorflow:Assets written to: best_model\\assets\n",
      "WARNING:absl:<keras.layers.recurrent.GRUCell object at 0x0000015E57CAE088> has the same name 'GRUCell' as a built-in Keras object. Consider renaming <class 'keras.layers.recurrent.GRUCell'> to avoid naming conflicts when loading with `tf.keras.models.load_model`. If renaming is not possible, pass the object in the `custom_objects` parameter of the load function.\n",
      "WARNING:absl:<keras.layers.recurrent.GRUCell object at 0x0000015E57CAEF48> has the same name 'GRUCell' as a built-in Keras object. Consider renaming <class 'keras.layers.recurrent.GRUCell'> to avoid naming conflicts when loading with `tf.keras.models.load_model`. If renaming is not possible, pass the object in the `custom_objects` parameter of the load function.\n"
     ]
    },
    {
     "name": "stdout",
     "output_type": "stream",
     "text": [
      "1098/1098 [==============================] - 12s 11ms/step - loss: 42.6889 - root_mean_squared_error: 6.5337\n",
      "Epoch 27/200\n",
      "1098/1098 [==============================] - ETA: 0s - loss: 42.5525 - root_mean_squared_error: 6.5232"
     ]
    },
    {
     "name": "stderr",
     "output_type": "stream",
     "text": [
      "WARNING:absl:Found untraced functions such as gru_cell_layer_call_fn, gru_cell_layer_call_and_return_conditional_losses while saving (showing 2 of 2). These functions will not be directly callable after loading.\n"
     ]
    },
    {
     "name": "stdout",
     "output_type": "stream",
     "text": [
      "INFO:tensorflow:Assets written to: best_model\\assets\n"
     ]
    },
    {
     "name": "stderr",
     "output_type": "stream",
     "text": [
      "INFO:tensorflow:Assets written to: best_model\\assets\n",
      "WARNING:absl:<keras.layers.recurrent.GRUCell object at 0x0000015E57CAE088> has the same name 'GRUCell' as a built-in Keras object. Consider renaming <class 'keras.layers.recurrent.GRUCell'> to avoid naming conflicts when loading with `tf.keras.models.load_model`. If renaming is not possible, pass the object in the `custom_objects` parameter of the load function.\n",
      "WARNING:absl:<keras.layers.recurrent.GRUCell object at 0x0000015E57CAEF48> has the same name 'GRUCell' as a built-in Keras object. Consider renaming <class 'keras.layers.recurrent.GRUCell'> to avoid naming conflicts when loading with `tf.keras.models.load_model`. If renaming is not possible, pass the object in the `custom_objects` parameter of the load function.\n"
     ]
    },
    {
     "name": "stdout",
     "output_type": "stream",
     "text": [
      "1098/1098 [==============================] - 12s 11ms/step - loss: 42.5525 - root_mean_squared_error: 6.5232\n",
      "Epoch 28/200\n",
      "1098/1098 [==============================] - 9s 8ms/step - loss: 42.6837 - root_mean_squared_error: 6.5333\n",
      "Epoch 29/200\n",
      "1092/1098 [============================>.] - ETA: 0s - loss: 42.3978 - root_mean_squared_error: 6.5114"
     ]
    },
    {
     "name": "stderr",
     "output_type": "stream",
     "text": [
      "WARNING:absl:Found untraced functions such as gru_cell_layer_call_fn, gru_cell_layer_call_and_return_conditional_losses while saving (showing 2 of 2). These functions will not be directly callable after loading.\n"
     ]
    },
    {
     "name": "stdout",
     "output_type": "stream",
     "text": [
      "INFO:tensorflow:Assets written to: best_model\\assets\n"
     ]
    },
    {
     "name": "stderr",
     "output_type": "stream",
     "text": [
      "INFO:tensorflow:Assets written to: best_model\\assets\n",
      "WARNING:absl:<keras.layers.recurrent.GRUCell object at 0x0000015E57CAE088> has the same name 'GRUCell' as a built-in Keras object. Consider renaming <class 'keras.layers.recurrent.GRUCell'> to avoid naming conflicts when loading with `tf.keras.models.load_model`. If renaming is not possible, pass the object in the `custom_objects` parameter of the load function.\n",
      "WARNING:absl:<keras.layers.recurrent.GRUCell object at 0x0000015E57CAEF48> has the same name 'GRUCell' as a built-in Keras object. Consider renaming <class 'keras.layers.recurrent.GRUCell'> to avoid naming conflicts when loading with `tf.keras.models.load_model`. If renaming is not possible, pass the object in the `custom_objects` parameter of the load function.\n"
     ]
    },
    {
     "name": "stdout",
     "output_type": "stream",
     "text": [
      "1098/1098 [==============================] - 12s 11ms/step - loss: 42.3461 - root_mean_squared_error: 6.5074\n",
      "Epoch 30/200\n",
      "1094/1098 [============================>.] - ETA: 0s - loss: 42.0612 - root_mean_squared_error: 6.4855"
     ]
    },
    {
     "name": "stderr",
     "output_type": "stream",
     "text": [
      "WARNING:absl:Found untraced functions such as gru_cell_layer_call_fn, gru_cell_layer_call_and_return_conditional_losses while saving (showing 2 of 2). These functions will not be directly callable after loading.\n"
     ]
    },
    {
     "name": "stdout",
     "output_type": "stream",
     "text": [
      "INFO:tensorflow:Assets written to: best_model\\assets\n"
     ]
    },
    {
     "name": "stderr",
     "output_type": "stream",
     "text": [
      "INFO:tensorflow:Assets written to: best_model\\assets\n",
      "WARNING:absl:<keras.layers.recurrent.GRUCell object at 0x0000015E57CAE088> has the same name 'GRUCell' as a built-in Keras object. Consider renaming <class 'keras.layers.recurrent.GRUCell'> to avoid naming conflicts when loading with `tf.keras.models.load_model`. If renaming is not possible, pass the object in the `custom_objects` parameter of the load function.\n",
      "WARNING:absl:<keras.layers.recurrent.GRUCell object at 0x0000015E57CAEF48> has the same name 'GRUCell' as a built-in Keras object. Consider renaming <class 'keras.layers.recurrent.GRUCell'> to avoid naming conflicts when loading with `tf.keras.models.load_model`. If renaming is not possible, pass the object in the `custom_objects` parameter of the load function.\n"
     ]
    },
    {
     "name": "stdout",
     "output_type": "stream",
     "text": [
      "1098/1098 [==============================] - 12s 11ms/step - loss: 42.1379 - root_mean_squared_error: 6.4914\n",
      "Epoch 31/200\n",
      "1096/1098 [============================>.] - ETA: 0s - loss: 41.5718 - root_mean_squared_error: 6.4476"
     ]
    },
    {
     "name": "stderr",
     "output_type": "stream",
     "text": [
      "WARNING:absl:Found untraced functions such as gru_cell_layer_call_fn, gru_cell_layer_call_and_return_conditional_losses while saving (showing 2 of 2). These functions will not be directly callable after loading.\n"
     ]
    },
    {
     "name": "stdout",
     "output_type": "stream",
     "text": [
      "INFO:tensorflow:Assets written to: best_model\\assets\n"
     ]
    },
    {
     "name": "stderr",
     "output_type": "stream",
     "text": [
      "INFO:tensorflow:Assets written to: best_model\\assets\n",
      "WARNING:absl:<keras.layers.recurrent.GRUCell object at 0x0000015E57CAE088> has the same name 'GRUCell' as a built-in Keras object. Consider renaming <class 'keras.layers.recurrent.GRUCell'> to avoid naming conflicts when loading with `tf.keras.models.load_model`. If renaming is not possible, pass the object in the `custom_objects` parameter of the load function.\n",
      "WARNING:absl:<keras.layers.recurrent.GRUCell object at 0x0000015E57CAEF48> has the same name 'GRUCell' as a built-in Keras object. Consider renaming <class 'keras.layers.recurrent.GRUCell'> to avoid naming conflicts when loading with `tf.keras.models.load_model`. If renaming is not possible, pass the object in the `custom_objects` parameter of the load function.\n"
     ]
    },
    {
     "name": "stdout",
     "output_type": "stream",
     "text": [
      "1098/1098 [==============================] - 12s 11ms/step - loss: 41.5898 - root_mean_squared_error: 6.4490\n",
      "Epoch 32/200\n",
      "1098/1098 [==============================] - 9s 8ms/step - loss: 41.6330 - root_mean_squared_error: 6.4524\n",
      "Epoch 33/200\n",
      "1093/1098 [============================>.] - ETA: 0s - loss: 41.5852 - root_mean_squared_error: 6.4487"
     ]
    },
    {
     "name": "stderr",
     "output_type": "stream",
     "text": [
      "WARNING:absl:Found untraced functions such as gru_cell_layer_call_fn, gru_cell_layer_call_and_return_conditional_losses while saving (showing 2 of 2). These functions will not be directly callable after loading.\n"
     ]
    },
    {
     "name": "stdout",
     "output_type": "stream",
     "text": [
      "INFO:tensorflow:Assets written to: best_model\\assets\n"
     ]
    },
    {
     "name": "stderr",
     "output_type": "stream",
     "text": [
      "INFO:tensorflow:Assets written to: best_model\\assets\n",
      "WARNING:absl:<keras.layers.recurrent.GRUCell object at 0x0000015E57CAE088> has the same name 'GRUCell' as a built-in Keras object. Consider renaming <class 'keras.layers.recurrent.GRUCell'> to avoid naming conflicts when loading with `tf.keras.models.load_model`. If renaming is not possible, pass the object in the `custom_objects` parameter of the load function.\n",
      "WARNING:absl:<keras.layers.recurrent.GRUCell object at 0x0000015E57CAEF48> has the same name 'GRUCell' as a built-in Keras object. Consider renaming <class 'keras.layers.recurrent.GRUCell'> to avoid naming conflicts when loading with `tf.keras.models.load_model`. If renaming is not possible, pass the object in the `custom_objects` parameter of the load function.\n"
     ]
    },
    {
     "name": "stdout",
     "output_type": "stream",
     "text": [
      "1098/1098 [==============================] - 13s 11ms/step - loss: 41.5692 - root_mean_squared_error: 6.4474\n",
      "Epoch 34/200\n",
      "1096/1098 [============================>.] - ETA: 0s - loss: 41.1931 - root_mean_squared_error: 6.4182"
     ]
    },
    {
     "name": "stderr",
     "output_type": "stream",
     "text": [
      "WARNING:absl:Found untraced functions such as gru_cell_layer_call_fn, gru_cell_layer_call_and_return_conditional_losses while saving (showing 2 of 2). These functions will not be directly callable after loading.\n"
     ]
    },
    {
     "name": "stdout",
     "output_type": "stream",
     "text": [
      "INFO:tensorflow:Assets written to: best_model\\assets\n"
     ]
    },
    {
     "name": "stderr",
     "output_type": "stream",
     "text": [
      "INFO:tensorflow:Assets written to: best_model\\assets\n",
      "WARNING:absl:<keras.layers.recurrent.GRUCell object at 0x0000015E57CAE088> has the same name 'GRUCell' as a built-in Keras object. Consider renaming <class 'keras.layers.recurrent.GRUCell'> to avoid naming conflicts when loading with `tf.keras.models.load_model`. If renaming is not possible, pass the object in the `custom_objects` parameter of the load function.\n",
      "WARNING:absl:<keras.layers.recurrent.GRUCell object at 0x0000015E57CAEF48> has the same name 'GRUCell' as a built-in Keras object. Consider renaming <class 'keras.layers.recurrent.GRUCell'> to avoid naming conflicts when loading with `tf.keras.models.load_model`. If renaming is not possible, pass the object in the `custom_objects` parameter of the load function.\n"
     ]
    },
    {
     "name": "stdout",
     "output_type": "stream",
     "text": [
      "1098/1098 [==============================] - 12s 11ms/step - loss: 41.1595 - root_mean_squared_error: 6.4156\n",
      "Epoch 35/200\n",
      "1098/1098 [==============================] - ETA: 0s - loss: 40.9236 - root_mean_squared_error: 6.3972"
     ]
    },
    {
     "name": "stderr",
     "output_type": "stream",
     "text": [
      "WARNING:absl:Found untraced functions such as gru_cell_layer_call_fn, gru_cell_layer_call_and_return_conditional_losses while saving (showing 2 of 2). These functions will not be directly callable after loading.\n"
     ]
    },
    {
     "name": "stdout",
     "output_type": "stream",
     "text": [
      "INFO:tensorflow:Assets written to: best_model\\assets\n"
     ]
    },
    {
     "name": "stderr",
     "output_type": "stream",
     "text": [
      "INFO:tensorflow:Assets written to: best_model\\assets\n",
      "WARNING:absl:<keras.layers.recurrent.GRUCell object at 0x0000015E57CAE088> has the same name 'GRUCell' as a built-in Keras object. Consider renaming <class 'keras.layers.recurrent.GRUCell'> to avoid naming conflicts when loading with `tf.keras.models.load_model`. If renaming is not possible, pass the object in the `custom_objects` parameter of the load function.\n",
      "WARNING:absl:<keras.layers.recurrent.GRUCell object at 0x0000015E57CAEF48> has the same name 'GRUCell' as a built-in Keras object. Consider renaming <class 'keras.layers.recurrent.GRUCell'> to avoid naming conflicts when loading with `tf.keras.models.load_model`. If renaming is not possible, pass the object in the `custom_objects` parameter of the load function.\n"
     ]
    },
    {
     "name": "stdout",
     "output_type": "stream",
     "text": [
      "1098/1098 [==============================] - 12s 11ms/step - loss: 40.9236 - root_mean_squared_error: 6.3972\n",
      "Epoch 36/200\n",
      "1098/1098 [==============================] - ETA: 0s - loss: 40.8727 - root_mean_squared_error: 6.3932"
     ]
    },
    {
     "name": "stderr",
     "output_type": "stream",
     "text": [
      "WARNING:absl:Found untraced functions such as gru_cell_layer_call_fn, gru_cell_layer_call_and_return_conditional_losses while saving (showing 2 of 2). These functions will not be directly callable after loading.\n"
     ]
    },
    {
     "name": "stdout",
     "output_type": "stream",
     "text": [
      "INFO:tensorflow:Assets written to: best_model\\assets\n"
     ]
    },
    {
     "name": "stderr",
     "output_type": "stream",
     "text": [
      "INFO:tensorflow:Assets written to: best_model\\assets\n",
      "WARNING:absl:<keras.layers.recurrent.GRUCell object at 0x0000015E57CAE088> has the same name 'GRUCell' as a built-in Keras object. Consider renaming <class 'keras.layers.recurrent.GRUCell'> to avoid naming conflicts when loading with `tf.keras.models.load_model`. If renaming is not possible, pass the object in the `custom_objects` parameter of the load function.\n",
      "WARNING:absl:<keras.layers.recurrent.GRUCell object at 0x0000015E57CAEF48> has the same name 'GRUCell' as a built-in Keras object. Consider renaming <class 'keras.layers.recurrent.GRUCell'> to avoid naming conflicts when loading with `tf.keras.models.load_model`. If renaming is not possible, pass the object in the `custom_objects` parameter of the load function.\n"
     ]
    },
    {
     "name": "stdout",
     "output_type": "stream",
     "text": [
      "1098/1098 [==============================] - 12s 11ms/step - loss: 40.8727 - root_mean_squared_error: 6.3932\n",
      "Epoch 37/200\n",
      "1098/1098 [==============================] - ETA: 0s - loss: 40.4958 - root_mean_squared_error: 6.3636"
     ]
    },
    {
     "name": "stderr",
     "output_type": "stream",
     "text": [
      "WARNING:absl:Found untraced functions such as gru_cell_layer_call_fn, gru_cell_layer_call_and_return_conditional_losses while saving (showing 2 of 2). These functions will not be directly callable after loading.\n"
     ]
    },
    {
     "name": "stdout",
     "output_type": "stream",
     "text": [
      "INFO:tensorflow:Assets written to: best_model\\assets\n"
     ]
    },
    {
     "name": "stderr",
     "output_type": "stream",
     "text": [
      "INFO:tensorflow:Assets written to: best_model\\assets\n",
      "WARNING:absl:<keras.layers.recurrent.GRUCell object at 0x0000015E57CAE088> has the same name 'GRUCell' as a built-in Keras object. Consider renaming <class 'keras.layers.recurrent.GRUCell'> to avoid naming conflicts when loading with `tf.keras.models.load_model`. If renaming is not possible, pass the object in the `custom_objects` parameter of the load function.\n",
      "WARNING:absl:<keras.layers.recurrent.GRUCell object at 0x0000015E57CAEF48> has the same name 'GRUCell' as a built-in Keras object. Consider renaming <class 'keras.layers.recurrent.GRUCell'> to avoid naming conflicts when loading with `tf.keras.models.load_model`. If renaming is not possible, pass the object in the `custom_objects` parameter of the load function.\n"
     ]
    },
    {
     "name": "stdout",
     "output_type": "stream",
     "text": [
      "1098/1098 [==============================] - 13s 11ms/step - loss: 40.4958 - root_mean_squared_error: 6.3636\n",
      "Epoch 38/200\n",
      "1095/1098 [============================>.] - ETA: 0s - loss: 40.4643 - root_mean_squared_error: 6.3612"
     ]
    },
    {
     "name": "stderr",
     "output_type": "stream",
     "text": [
      "WARNING:absl:Found untraced functions such as gru_cell_layer_call_fn, gru_cell_layer_call_and_return_conditional_losses while saving (showing 2 of 2). These functions will not be directly callable after loading.\n"
     ]
    },
    {
     "name": "stdout",
     "output_type": "stream",
     "text": [
      "INFO:tensorflow:Assets written to: best_model\\assets\n"
     ]
    },
    {
     "name": "stderr",
     "output_type": "stream",
     "text": [
      "INFO:tensorflow:Assets written to: best_model\\assets\n",
      "WARNING:absl:<keras.layers.recurrent.GRUCell object at 0x0000015E57CAE088> has the same name 'GRUCell' as a built-in Keras object. Consider renaming <class 'keras.layers.recurrent.GRUCell'> to avoid naming conflicts when loading with `tf.keras.models.load_model`. If renaming is not possible, pass the object in the `custom_objects` parameter of the load function.\n",
      "WARNING:absl:<keras.layers.recurrent.GRUCell object at 0x0000015E57CAEF48> has the same name 'GRUCell' as a built-in Keras object. Consider renaming <class 'keras.layers.recurrent.GRUCell'> to avoid naming conflicts when loading with `tf.keras.models.load_model`. If renaming is not possible, pass the object in the `custom_objects` parameter of the load function.\n"
     ]
    },
    {
     "name": "stdout",
     "output_type": "stream",
     "text": [
      "1098/1098 [==============================] - 13s 12ms/step - loss: 40.4381 - root_mean_squared_error: 6.3591\n",
      "Epoch 39/200\n",
      "1098/1098 [==============================] - ETA: 0s - loss: 40.1866 - root_mean_squared_error: 6.3393"
     ]
    },
    {
     "name": "stderr",
     "output_type": "stream",
     "text": [
      "WARNING:absl:Found untraced functions such as gru_cell_layer_call_fn, gru_cell_layer_call_and_return_conditional_losses while saving (showing 2 of 2). These functions will not be directly callable after loading.\n"
     ]
    },
    {
     "name": "stdout",
     "output_type": "stream",
     "text": [
      "INFO:tensorflow:Assets written to: best_model\\assets\n"
     ]
    },
    {
     "name": "stderr",
     "output_type": "stream",
     "text": [
      "INFO:tensorflow:Assets written to: best_model\\assets\n",
      "WARNING:absl:<keras.layers.recurrent.GRUCell object at 0x0000015E57CAE088> has the same name 'GRUCell' as a built-in Keras object. Consider renaming <class 'keras.layers.recurrent.GRUCell'> to avoid naming conflicts when loading with `tf.keras.models.load_model`. If renaming is not possible, pass the object in the `custom_objects` parameter of the load function.\n",
      "WARNING:absl:<keras.layers.recurrent.GRUCell object at 0x0000015E57CAEF48> has the same name 'GRUCell' as a built-in Keras object. Consider renaming <class 'keras.layers.recurrent.GRUCell'> to avoid naming conflicts when loading with `tf.keras.models.load_model`. If renaming is not possible, pass the object in the `custom_objects` parameter of the load function.\n"
     ]
    },
    {
     "name": "stdout",
     "output_type": "stream",
     "text": [
      "1098/1098 [==============================] - 14s 12ms/step - loss: 40.1866 - root_mean_squared_error: 6.3393\n",
      "Epoch 40/200\n",
      "1098/1098 [==============================] - 9s 8ms/step - loss: 40.2848 - root_mean_squared_error: 6.3470\n",
      "Epoch 41/200\n",
      "1093/1098 [============================>.] - ETA: 0s - loss: 39.9784 - root_mean_squared_error: 6.3228"
     ]
    },
    {
     "name": "stderr",
     "output_type": "stream",
     "text": [
      "WARNING:absl:Found untraced functions such as gru_cell_layer_call_fn, gru_cell_layer_call_and_return_conditional_losses while saving (showing 2 of 2). These functions will not be directly callable after loading.\n"
     ]
    },
    {
     "name": "stdout",
     "output_type": "stream",
     "text": [
      "INFO:tensorflow:Assets written to: best_model\\assets\n"
     ]
    },
    {
     "name": "stderr",
     "output_type": "stream",
     "text": [
      "INFO:tensorflow:Assets written to: best_model\\assets\n",
      "WARNING:absl:<keras.layers.recurrent.GRUCell object at 0x0000015E57CAE088> has the same name 'GRUCell' as a built-in Keras object. Consider renaming <class 'keras.layers.recurrent.GRUCell'> to avoid naming conflicts when loading with `tf.keras.models.load_model`. If renaming is not possible, pass the object in the `custom_objects` parameter of the load function.\n",
      "WARNING:absl:<keras.layers.recurrent.GRUCell object at 0x0000015E57CAEF48> has the same name 'GRUCell' as a built-in Keras object. Consider renaming <class 'keras.layers.recurrent.GRUCell'> to avoid naming conflicts when loading with `tf.keras.models.load_model`. If renaming is not possible, pass the object in the `custom_objects` parameter of the load function.\n"
     ]
    },
    {
     "name": "stdout",
     "output_type": "stream",
     "text": [
      "1098/1098 [==============================] - 13s 12ms/step - loss: 39.9386 - root_mean_squared_error: 6.3197\n",
      "Epoch 42/200\n",
      "1096/1098 [============================>.] - ETA: 0s - loss: 39.4385 - root_mean_squared_error: 6.2800"
     ]
    },
    {
     "name": "stderr",
     "output_type": "stream",
     "text": [
      "WARNING:absl:Found untraced functions such as gru_cell_layer_call_fn, gru_cell_layer_call_and_return_conditional_losses while saving (showing 2 of 2). These functions will not be directly callable after loading.\n"
     ]
    },
    {
     "name": "stdout",
     "output_type": "stream",
     "text": [
      "INFO:tensorflow:Assets written to: best_model\\assets\n"
     ]
    },
    {
     "name": "stderr",
     "output_type": "stream",
     "text": [
      "INFO:tensorflow:Assets written to: best_model\\assets\n",
      "WARNING:absl:<keras.layers.recurrent.GRUCell object at 0x0000015E57CAE088> has the same name 'GRUCell' as a built-in Keras object. Consider renaming <class 'keras.layers.recurrent.GRUCell'> to avoid naming conflicts when loading with `tf.keras.models.load_model`. If renaming is not possible, pass the object in the `custom_objects` parameter of the load function.\n",
      "WARNING:absl:<keras.layers.recurrent.GRUCell object at 0x0000015E57CAEF48> has the same name 'GRUCell' as a built-in Keras object. Consider renaming <class 'keras.layers.recurrent.GRUCell'> to avoid naming conflicts when loading with `tf.keras.models.load_model`. If renaming is not possible, pass the object in the `custom_objects` parameter of the load function.\n"
     ]
    },
    {
     "name": "stdout",
     "output_type": "stream",
     "text": [
      "1098/1098 [==============================] - 12s 11ms/step - loss: 39.4122 - root_mean_squared_error: 6.2779\n",
      "Epoch 43/200\n",
      "1092/1098 [============================>.] - ETA: 0s - loss: 39.3037 - root_mean_squared_error: 6.2693"
     ]
    },
    {
     "name": "stderr",
     "output_type": "stream",
     "text": [
      "WARNING:absl:Found untraced functions such as gru_cell_layer_call_fn, gru_cell_layer_call_and_return_conditional_losses while saving (showing 2 of 2). These functions will not be directly callable after loading.\n"
     ]
    },
    {
     "name": "stdout",
     "output_type": "stream",
     "text": [
      "INFO:tensorflow:Assets written to: best_model\\assets\n"
     ]
    },
    {
     "name": "stderr",
     "output_type": "stream",
     "text": [
      "INFO:tensorflow:Assets written to: best_model\\assets\n",
      "WARNING:absl:<keras.layers.recurrent.GRUCell object at 0x0000015E57CAE088> has the same name 'GRUCell' as a built-in Keras object. Consider renaming <class 'keras.layers.recurrent.GRUCell'> to avoid naming conflicts when loading with `tf.keras.models.load_model`. If renaming is not possible, pass the object in the `custom_objects` parameter of the load function.\n",
      "WARNING:absl:<keras.layers.recurrent.GRUCell object at 0x0000015E57CAEF48> has the same name 'GRUCell' as a built-in Keras object. Consider renaming <class 'keras.layers.recurrent.GRUCell'> to avoid naming conflicts when loading with `tf.keras.models.load_model`. If renaming is not possible, pass the object in the `custom_objects` parameter of the load function.\n"
     ]
    },
    {
     "name": "stdout",
     "output_type": "stream",
     "text": [
      "1098/1098 [==============================] - 12s 11ms/step - loss: 39.3200 - root_mean_squared_error: 6.2706\n",
      "Epoch 44/200\n",
      "1098/1098 [==============================] - 9s 8ms/step - loss: 39.4756 - root_mean_squared_error: 6.2830\n",
      "Epoch 45/200\n",
      "1096/1098 [============================>.] - ETA: 0s - loss: 39.1199 - root_mean_squared_error: 6.2546"
     ]
    },
    {
     "name": "stderr",
     "output_type": "stream",
     "text": [
      "WARNING:absl:Found untraced functions such as gru_cell_layer_call_fn, gru_cell_layer_call_and_return_conditional_losses while saving (showing 2 of 2). These functions will not be directly callable after loading.\n"
     ]
    },
    {
     "name": "stdout",
     "output_type": "stream",
     "text": [
      "INFO:tensorflow:Assets written to: best_model\\assets\n"
     ]
    },
    {
     "name": "stderr",
     "output_type": "stream",
     "text": [
      "INFO:tensorflow:Assets written to: best_model\\assets\n",
      "WARNING:absl:<keras.layers.recurrent.GRUCell object at 0x0000015E57CAE088> has the same name 'GRUCell' as a built-in Keras object. Consider renaming <class 'keras.layers.recurrent.GRUCell'> to avoid naming conflicts when loading with `tf.keras.models.load_model`. If renaming is not possible, pass the object in the `custom_objects` parameter of the load function.\n",
      "WARNING:absl:<keras.layers.recurrent.GRUCell object at 0x0000015E57CAEF48> has the same name 'GRUCell' as a built-in Keras object. Consider renaming <class 'keras.layers.recurrent.GRUCell'> to avoid naming conflicts when loading with `tf.keras.models.load_model`. If renaming is not possible, pass the object in the `custom_objects` parameter of the load function.\n"
     ]
    },
    {
     "name": "stdout",
     "output_type": "stream",
     "text": [
      "1098/1098 [==============================] - 12s 11ms/step - loss: 39.1044 - root_mean_squared_error: 6.2534\n",
      "Epoch 46/200\n",
      "1098/1098 [==============================] - 8s 8ms/step - loss: 39.1764 - root_mean_squared_error: 6.2591\n",
      "Epoch 47/200\n",
      "1097/1098 [============================>.] - ETA: 0s - loss: 38.9328 - root_mean_squared_error: 6.2396"
     ]
    },
    {
     "name": "stderr",
     "output_type": "stream",
     "text": [
      "WARNING:absl:Found untraced functions such as gru_cell_layer_call_fn, gru_cell_layer_call_and_return_conditional_losses while saving (showing 2 of 2). These functions will not be directly callable after loading.\n"
     ]
    },
    {
     "name": "stdout",
     "output_type": "stream",
     "text": [
      "INFO:tensorflow:Assets written to: best_model\\assets\n"
     ]
    },
    {
     "name": "stderr",
     "output_type": "stream",
     "text": [
      "INFO:tensorflow:Assets written to: best_model\\assets\n",
      "WARNING:absl:<keras.layers.recurrent.GRUCell object at 0x0000015E57CAE088> has the same name 'GRUCell' as a built-in Keras object. Consider renaming <class 'keras.layers.recurrent.GRUCell'> to avoid naming conflicts when loading with `tf.keras.models.load_model`. If renaming is not possible, pass the object in the `custom_objects` parameter of the load function.\n",
      "WARNING:absl:<keras.layers.recurrent.GRUCell object at 0x0000015E57CAEF48> has the same name 'GRUCell' as a built-in Keras object. Consider renaming <class 'keras.layers.recurrent.GRUCell'> to avoid naming conflicts when loading with `tf.keras.models.load_model`. If renaming is not possible, pass the object in the `custom_objects` parameter of the load function.\n"
     ]
    },
    {
     "name": "stdout",
     "output_type": "stream",
     "text": [
      "1098/1098 [==============================] - 12s 11ms/step - loss: 38.9192 - root_mean_squared_error: 6.2385\n",
      "Epoch 48/200\n",
      "1095/1098 [============================>.] - ETA: 0s - loss: 38.8552 - root_mean_squared_error: 6.2334"
     ]
    },
    {
     "name": "stderr",
     "output_type": "stream",
     "text": [
      "WARNING:absl:Found untraced functions such as gru_cell_layer_call_fn, gru_cell_layer_call_and_return_conditional_losses while saving (showing 2 of 2). These functions will not be directly callable after loading.\n"
     ]
    },
    {
     "name": "stdout",
     "output_type": "stream",
     "text": [
      "INFO:tensorflow:Assets written to: best_model\\assets\n"
     ]
    },
    {
     "name": "stderr",
     "output_type": "stream",
     "text": [
      "INFO:tensorflow:Assets written to: best_model\\assets\n",
      "WARNING:absl:<keras.layers.recurrent.GRUCell object at 0x0000015E57CAE088> has the same name 'GRUCell' as a built-in Keras object. Consider renaming <class 'keras.layers.recurrent.GRUCell'> to avoid naming conflicts when loading with `tf.keras.models.load_model`. If renaming is not possible, pass the object in the `custom_objects` parameter of the load function.\n",
      "WARNING:absl:<keras.layers.recurrent.GRUCell object at 0x0000015E57CAEF48> has the same name 'GRUCell' as a built-in Keras object. Consider renaming <class 'keras.layers.recurrent.GRUCell'> to avoid naming conflicts when loading with `tf.keras.models.load_model`. If renaming is not possible, pass the object in the `custom_objects` parameter of the load function.\n"
     ]
    },
    {
     "name": "stdout",
     "output_type": "stream",
     "text": [
      "1098/1098 [==============================] - 12s 11ms/step - loss: 38.8377 - root_mean_squared_error: 6.2320\n",
      "Epoch 49/200\n",
      "1098/1098 [==============================] - 9s 8ms/step - loss: 38.9370 - root_mean_squared_error: 6.2400\n",
      "Epoch 50/200\n",
      "1098/1098 [==============================] - ETA: 0s - loss: 38.5595 - root_mean_squared_error: 6.2096"
     ]
    },
    {
     "name": "stderr",
     "output_type": "stream",
     "text": [
      "WARNING:absl:Found untraced functions such as gru_cell_layer_call_fn, gru_cell_layer_call_and_return_conditional_losses while saving (showing 2 of 2). These functions will not be directly callable after loading.\n"
     ]
    },
    {
     "name": "stdout",
     "output_type": "stream",
     "text": [
      "INFO:tensorflow:Assets written to: best_model\\assets\n"
     ]
    },
    {
     "name": "stderr",
     "output_type": "stream",
     "text": [
      "INFO:tensorflow:Assets written to: best_model\\assets\n",
      "WARNING:absl:<keras.layers.recurrent.GRUCell object at 0x0000015E57CAE088> has the same name 'GRUCell' as a built-in Keras object. Consider renaming <class 'keras.layers.recurrent.GRUCell'> to avoid naming conflicts when loading with `tf.keras.models.load_model`. If renaming is not possible, pass the object in the `custom_objects` parameter of the load function.\n",
      "WARNING:absl:<keras.layers.recurrent.GRUCell object at 0x0000015E57CAEF48> has the same name 'GRUCell' as a built-in Keras object. Consider renaming <class 'keras.layers.recurrent.GRUCell'> to avoid naming conflicts when loading with `tf.keras.models.load_model`. If renaming is not possible, pass the object in the `custom_objects` parameter of the load function.\n"
     ]
    },
    {
     "name": "stdout",
     "output_type": "stream",
     "text": [
      "1098/1098 [==============================] - 13s 11ms/step - loss: 38.5595 - root_mean_squared_error: 6.2096\n",
      "Epoch 51/200\n",
      "1097/1098 [============================>.] - ETA: 0s - loss: 38.1483 - root_mean_squared_error: 6.1764"
     ]
    },
    {
     "name": "stderr",
     "output_type": "stream",
     "text": [
      "WARNING:absl:Found untraced functions such as gru_cell_layer_call_fn, gru_cell_layer_call_and_return_conditional_losses while saving (showing 2 of 2). These functions will not be directly callable after loading.\n"
     ]
    },
    {
     "name": "stdout",
     "output_type": "stream",
     "text": [
      "INFO:tensorflow:Assets written to: best_model\\assets\n"
     ]
    },
    {
     "name": "stderr",
     "output_type": "stream",
     "text": [
      "INFO:tensorflow:Assets written to: best_model\\assets\n",
      "WARNING:absl:<keras.layers.recurrent.GRUCell object at 0x0000015E57CAE088> has the same name 'GRUCell' as a built-in Keras object. Consider renaming <class 'keras.layers.recurrent.GRUCell'> to avoid naming conflicts when loading with `tf.keras.models.load_model`. If renaming is not possible, pass the object in the `custom_objects` parameter of the load function.\n",
      "WARNING:absl:<keras.layers.recurrent.GRUCell object at 0x0000015E57CAEF48> has the same name 'GRUCell' as a built-in Keras object. Consider renaming <class 'keras.layers.recurrent.GRUCell'> to avoid naming conflicts when loading with `tf.keras.models.load_model`. If renaming is not possible, pass the object in the `custom_objects` parameter of the load function.\n"
     ]
    },
    {
     "name": "stdout",
     "output_type": "stream",
     "text": [
      "1098/1098 [==============================] - 12s 11ms/step - loss: 38.1452 - root_mean_squared_error: 6.1762\n",
      "Epoch 52/200\n",
      "1098/1098 [==============================] - 9s 8ms/step - loss: 38.1564 - root_mean_squared_error: 6.1771\n",
      "Epoch 53/200\n",
      "1096/1098 [============================>.] - ETA: 0s - loss: 37.7608 - root_mean_squared_error: 6.1450"
     ]
    },
    {
     "name": "stderr",
     "output_type": "stream",
     "text": [
      "WARNING:absl:Found untraced functions such as gru_cell_layer_call_fn, gru_cell_layer_call_and_return_conditional_losses while saving (showing 2 of 2). These functions will not be directly callable after loading.\n"
     ]
    },
    {
     "name": "stdout",
     "output_type": "stream",
     "text": [
      "INFO:tensorflow:Assets written to: best_model\\assets\n"
     ]
    },
    {
     "name": "stderr",
     "output_type": "stream",
     "text": [
      "INFO:tensorflow:Assets written to: best_model\\assets\n",
      "WARNING:absl:<keras.layers.recurrent.GRUCell object at 0x0000015E57CAE088> has the same name 'GRUCell' as a built-in Keras object. Consider renaming <class 'keras.layers.recurrent.GRUCell'> to avoid naming conflicts when loading with `tf.keras.models.load_model`. If renaming is not possible, pass the object in the `custom_objects` parameter of the load function.\n",
      "WARNING:absl:<keras.layers.recurrent.GRUCell object at 0x0000015E57CAEF48> has the same name 'GRUCell' as a built-in Keras object. Consider renaming <class 'keras.layers.recurrent.GRUCell'> to avoid naming conflicts when loading with `tf.keras.models.load_model`. If renaming is not possible, pass the object in the `custom_objects` parameter of the load function.\n"
     ]
    },
    {
     "name": "stdout",
     "output_type": "stream",
     "text": [
      "1098/1098 [==============================] - 12s 11ms/step - loss: 37.7421 - root_mean_squared_error: 6.1435\n",
      "Epoch 54/200\n",
      "1096/1098 [============================>.] - ETA: 0s - loss: 37.5441 - root_mean_squared_error: 6.1273"
     ]
    },
    {
     "name": "stderr",
     "output_type": "stream",
     "text": [
      "WARNING:absl:Found untraced functions such as gru_cell_layer_call_fn, gru_cell_layer_call_and_return_conditional_losses while saving (showing 2 of 2). These functions will not be directly callable after loading.\n"
     ]
    },
    {
     "name": "stdout",
     "output_type": "stream",
     "text": [
      "INFO:tensorflow:Assets written to: best_model\\assets\n"
     ]
    },
    {
     "name": "stderr",
     "output_type": "stream",
     "text": [
      "INFO:tensorflow:Assets written to: best_model\\assets\n",
      "WARNING:absl:<keras.layers.recurrent.GRUCell object at 0x0000015E57CAE088> has the same name 'GRUCell' as a built-in Keras object. Consider renaming <class 'keras.layers.recurrent.GRUCell'> to avoid naming conflicts when loading with `tf.keras.models.load_model`. If renaming is not possible, pass the object in the `custom_objects` parameter of the load function.\n",
      "WARNING:absl:<keras.layers.recurrent.GRUCell object at 0x0000015E57CAEF48> has the same name 'GRUCell' as a built-in Keras object. Consider renaming <class 'keras.layers.recurrent.GRUCell'> to avoid naming conflicts when loading with `tf.keras.models.load_model`. If renaming is not possible, pass the object in the `custom_objects` parameter of the load function.\n"
     ]
    },
    {
     "name": "stdout",
     "output_type": "stream",
     "text": [
      "1098/1098 [==============================] - 12s 11ms/step - loss: 37.5218 - root_mean_squared_error: 6.1255\n",
      "Epoch 55/200\n",
      "1093/1098 [============================>.] - ETA: 0s - loss: 37.4099 - root_mean_squared_error: 6.1164"
     ]
    },
    {
     "name": "stderr",
     "output_type": "stream",
     "text": [
      "WARNING:absl:Found untraced functions such as gru_cell_layer_call_fn, gru_cell_layer_call_and_return_conditional_losses while saving (showing 2 of 2). These functions will not be directly callable after loading.\n"
     ]
    },
    {
     "name": "stdout",
     "output_type": "stream",
     "text": [
      "INFO:tensorflow:Assets written to: best_model\\assets\n"
     ]
    },
    {
     "name": "stderr",
     "output_type": "stream",
     "text": [
      "INFO:tensorflow:Assets written to: best_model\\assets\n",
      "WARNING:absl:<keras.layers.recurrent.GRUCell object at 0x0000015E57CAE088> has the same name 'GRUCell' as a built-in Keras object. Consider renaming <class 'keras.layers.recurrent.GRUCell'> to avoid naming conflicts when loading with `tf.keras.models.load_model`. If renaming is not possible, pass the object in the `custom_objects` parameter of the load function.\n",
      "WARNING:absl:<keras.layers.recurrent.GRUCell object at 0x0000015E57CAEF48> has the same name 'GRUCell' as a built-in Keras object. Consider renaming <class 'keras.layers.recurrent.GRUCell'> to avoid naming conflicts when loading with `tf.keras.models.load_model`. If renaming is not possible, pass the object in the `custom_objects` parameter of the load function.\n"
     ]
    },
    {
     "name": "stdout",
     "output_type": "stream",
     "text": [
      "1098/1098 [==============================] - 12s 11ms/step - loss: 37.3562 - root_mean_squared_error: 6.1120\n",
      "Epoch 56/200\n",
      "1098/1098 [==============================] - 9s 8ms/step - loss: 37.6909 - root_mean_squared_error: 6.1393\n",
      "Epoch 57/200\n",
      "1097/1098 [============================>.] - ETA: 0s - loss: 37.1289 - root_mean_squared_error: 6.0934"
     ]
    },
    {
     "name": "stderr",
     "output_type": "stream",
     "text": [
      "WARNING:absl:Found untraced functions such as gru_cell_layer_call_fn, gru_cell_layer_call_and_return_conditional_losses while saving (showing 2 of 2). These functions will not be directly callable after loading.\n"
     ]
    },
    {
     "name": "stdout",
     "output_type": "stream",
     "text": [
      "INFO:tensorflow:Assets written to: best_model\\assets\n"
     ]
    },
    {
     "name": "stderr",
     "output_type": "stream",
     "text": [
      "INFO:tensorflow:Assets written to: best_model\\assets\n",
      "WARNING:absl:<keras.layers.recurrent.GRUCell object at 0x0000015E57CAE088> has the same name 'GRUCell' as a built-in Keras object. Consider renaming <class 'keras.layers.recurrent.GRUCell'> to avoid naming conflicts when loading with `tf.keras.models.load_model`. If renaming is not possible, pass the object in the `custom_objects` parameter of the load function.\n",
      "WARNING:absl:<keras.layers.recurrent.GRUCell object at 0x0000015E57CAEF48> has the same name 'GRUCell' as a built-in Keras object. Consider renaming <class 'keras.layers.recurrent.GRUCell'> to avoid naming conflicts when loading with `tf.keras.models.load_model`. If renaming is not possible, pass the object in the `custom_objects` parameter of the load function.\n"
     ]
    },
    {
     "name": "stdout",
     "output_type": "stream",
     "text": [
      "1098/1098 [==============================] - 13s 12ms/step - loss: 37.1203 - root_mean_squared_error: 6.0926\n",
      "Epoch 58/200\n",
      "1093/1098 [============================>.] - ETA: 0s - loss: 37.1639 - root_mean_squared_error: 6.0962"
     ]
    },
    {
     "name": "stderr",
     "output_type": "stream",
     "text": [
      "WARNING:absl:Found untraced functions such as gru_cell_layer_call_fn, gru_cell_layer_call_and_return_conditional_losses while saving (showing 2 of 2). These functions will not be directly callable after loading.\n"
     ]
    },
    {
     "name": "stdout",
     "output_type": "stream",
     "text": [
      "INFO:tensorflow:Assets written to: best_model\\assets\n"
     ]
    },
    {
     "name": "stderr",
     "output_type": "stream",
     "text": [
      "INFO:tensorflow:Assets written to: best_model\\assets\n",
      "WARNING:absl:<keras.layers.recurrent.GRUCell object at 0x0000015E57CAE088> has the same name 'GRUCell' as a built-in Keras object. Consider renaming <class 'keras.layers.recurrent.GRUCell'> to avoid naming conflicts when loading with `tf.keras.models.load_model`. If renaming is not possible, pass the object in the `custom_objects` parameter of the load function.\n",
      "WARNING:absl:<keras.layers.recurrent.GRUCell object at 0x0000015E57CAEF48> has the same name 'GRUCell' as a built-in Keras object. Consider renaming <class 'keras.layers.recurrent.GRUCell'> to avoid naming conflicts when loading with `tf.keras.models.load_model`. If renaming is not possible, pass the object in the `custom_objects` parameter of the load function.\n"
     ]
    },
    {
     "name": "stdout",
     "output_type": "stream",
     "text": [
      "1098/1098 [==============================] - 13s 11ms/step - loss: 37.1029 - root_mean_squared_error: 6.0912\n",
      "Epoch 59/200\n",
      "1098/1098 [==============================] - ETA: 0s - loss: 36.7336 - root_mean_squared_error: 6.0608"
     ]
    },
    {
     "name": "stderr",
     "output_type": "stream",
     "text": [
      "WARNING:absl:Found untraced functions such as gru_cell_layer_call_fn, gru_cell_layer_call_and_return_conditional_losses while saving (showing 2 of 2). These functions will not be directly callable after loading.\n"
     ]
    },
    {
     "name": "stdout",
     "output_type": "stream",
     "text": [
      "INFO:tensorflow:Assets written to: best_model\\assets\n"
     ]
    },
    {
     "name": "stderr",
     "output_type": "stream",
     "text": [
      "INFO:tensorflow:Assets written to: best_model\\assets\n",
      "WARNING:absl:<keras.layers.recurrent.GRUCell object at 0x0000015E57CAE088> has the same name 'GRUCell' as a built-in Keras object. Consider renaming <class 'keras.layers.recurrent.GRUCell'> to avoid naming conflicts when loading with `tf.keras.models.load_model`. If renaming is not possible, pass the object in the `custom_objects` parameter of the load function.\n",
      "WARNING:absl:<keras.layers.recurrent.GRUCell object at 0x0000015E57CAEF48> has the same name 'GRUCell' as a built-in Keras object. Consider renaming <class 'keras.layers.recurrent.GRUCell'> to avoid naming conflicts when loading with `tf.keras.models.load_model`. If renaming is not possible, pass the object in the `custom_objects` parameter of the load function.\n"
     ]
    },
    {
     "name": "stdout",
     "output_type": "stream",
     "text": [
      "1098/1098 [==============================] - 13s 11ms/step - loss: 36.7336 - root_mean_squared_error: 6.0608\n",
      "Epoch 60/200\n",
      "1097/1098 [============================>.] - ETA: 0s - loss: 36.7385 - root_mean_squared_error: 6.0612"
     ]
    },
    {
     "name": "stderr",
     "output_type": "stream",
     "text": [
      "WARNING:absl:Found untraced functions such as gru_cell_layer_call_fn, gru_cell_layer_call_and_return_conditional_losses while saving (showing 2 of 2). These functions will not be directly callable after loading.\n"
     ]
    },
    {
     "name": "stdout",
     "output_type": "stream",
     "text": [
      "INFO:tensorflow:Assets written to: best_model\\assets\n"
     ]
    },
    {
     "name": "stderr",
     "output_type": "stream",
     "text": [
      "INFO:tensorflow:Assets written to: best_model\\assets\n",
      "WARNING:absl:<keras.layers.recurrent.GRUCell object at 0x0000015E57CAE088> has the same name 'GRUCell' as a built-in Keras object. Consider renaming <class 'keras.layers.recurrent.GRUCell'> to avoid naming conflicts when loading with `tf.keras.models.load_model`. If renaming is not possible, pass the object in the `custom_objects` parameter of the load function.\n",
      "WARNING:absl:<keras.layers.recurrent.GRUCell object at 0x0000015E57CAEF48> has the same name 'GRUCell' as a built-in Keras object. Consider renaming <class 'keras.layers.recurrent.GRUCell'> to avoid naming conflicts when loading with `tf.keras.models.load_model`. If renaming is not possible, pass the object in the `custom_objects` parameter of the load function.\n"
     ]
    },
    {
     "name": "stdout",
     "output_type": "stream",
     "text": [
      "1098/1098 [==============================] - 13s 11ms/step - loss: 36.7293 - root_mean_squared_error: 6.0605\n",
      "Epoch 61/200\n",
      "1094/1098 [============================>.] - ETA: 0s - loss: 36.4093 - root_mean_squared_error: 6.0340"
     ]
    },
    {
     "name": "stderr",
     "output_type": "stream",
     "text": [
      "WARNING:absl:Found untraced functions such as gru_cell_layer_call_fn, gru_cell_layer_call_and_return_conditional_losses while saving (showing 2 of 2). These functions will not be directly callable after loading.\n"
     ]
    },
    {
     "name": "stdout",
     "output_type": "stream",
     "text": [
      "INFO:tensorflow:Assets written to: best_model\\assets\n"
     ]
    },
    {
     "name": "stderr",
     "output_type": "stream",
     "text": [
      "INFO:tensorflow:Assets written to: best_model\\assets\n",
      "WARNING:absl:<keras.layers.recurrent.GRUCell object at 0x0000015E57CAE088> has the same name 'GRUCell' as a built-in Keras object. Consider renaming <class 'keras.layers.recurrent.GRUCell'> to avoid naming conflicts when loading with `tf.keras.models.load_model`. If renaming is not possible, pass the object in the `custom_objects` parameter of the load function.\n",
      "WARNING:absl:<keras.layers.recurrent.GRUCell object at 0x0000015E57CAEF48> has the same name 'GRUCell' as a built-in Keras object. Consider renaming <class 'keras.layers.recurrent.GRUCell'> to avoid naming conflicts when loading with `tf.keras.models.load_model`. If renaming is not possible, pass the object in the `custom_objects` parameter of the load function.\n"
     ]
    },
    {
     "name": "stdout",
     "output_type": "stream",
     "text": [
      "1098/1098 [==============================] - 12s 11ms/step - loss: 36.3829 - root_mean_squared_error: 6.0318\n",
      "Epoch 62/200\n",
      "1094/1098 [============================>.] - ETA: 0s - loss: 36.3966 - root_mean_squared_error: 6.0330"
     ]
    },
    {
     "name": "stderr",
     "output_type": "stream",
     "text": [
      "WARNING:absl:Found untraced functions such as gru_cell_layer_call_fn, gru_cell_layer_call_and_return_conditional_losses while saving (showing 2 of 2). These functions will not be directly callable after loading.\n"
     ]
    },
    {
     "name": "stdout",
     "output_type": "stream",
     "text": [
      "INFO:tensorflow:Assets written to: best_model\\assets\n"
     ]
    },
    {
     "name": "stderr",
     "output_type": "stream",
     "text": [
      "INFO:tensorflow:Assets written to: best_model\\assets\n",
      "WARNING:absl:<keras.layers.recurrent.GRUCell object at 0x0000015E57CAE088> has the same name 'GRUCell' as a built-in Keras object. Consider renaming <class 'keras.layers.recurrent.GRUCell'> to avoid naming conflicts when loading with `tf.keras.models.load_model`. If renaming is not possible, pass the object in the `custom_objects` parameter of the load function.\n",
      "WARNING:absl:<keras.layers.recurrent.GRUCell object at 0x0000015E57CAEF48> has the same name 'GRUCell' as a built-in Keras object. Consider renaming <class 'keras.layers.recurrent.GRUCell'> to avoid naming conflicts when loading with `tf.keras.models.load_model`. If renaming is not possible, pass the object in the `custom_objects` parameter of the load function.\n"
     ]
    },
    {
     "name": "stdout",
     "output_type": "stream",
     "text": [
      "1098/1098 [==============================] - 12s 11ms/step - loss: 36.3687 - root_mean_squared_error: 6.0306\n",
      "Epoch 63/200\n",
      "1093/1098 [============================>.] - ETA: 0s - loss: 36.0692 - root_mean_squared_error: 6.0058"
     ]
    },
    {
     "name": "stderr",
     "output_type": "stream",
     "text": [
      "WARNING:absl:Found untraced functions such as gru_cell_layer_call_fn, gru_cell_layer_call_and_return_conditional_losses while saving (showing 2 of 2). These functions will not be directly callable after loading.\n"
     ]
    },
    {
     "name": "stdout",
     "output_type": "stream",
     "text": [
      "INFO:tensorflow:Assets written to: best_model\\assets\n"
     ]
    },
    {
     "name": "stderr",
     "output_type": "stream",
     "text": [
      "INFO:tensorflow:Assets written to: best_model\\assets\n",
      "WARNING:absl:<keras.layers.recurrent.GRUCell object at 0x0000015E57CAE088> has the same name 'GRUCell' as a built-in Keras object. Consider renaming <class 'keras.layers.recurrent.GRUCell'> to avoid naming conflicts when loading with `tf.keras.models.load_model`. If renaming is not possible, pass the object in the `custom_objects` parameter of the load function.\n",
      "WARNING:absl:<keras.layers.recurrent.GRUCell object at 0x0000015E57CAEF48> has the same name 'GRUCell' as a built-in Keras object. Consider renaming <class 'keras.layers.recurrent.GRUCell'> to avoid naming conflicts when loading with `tf.keras.models.load_model`. If renaming is not possible, pass the object in the `custom_objects` parameter of the load function.\n"
     ]
    },
    {
     "name": "stdout",
     "output_type": "stream",
     "text": [
      "1098/1098 [==============================] - 13s 12ms/step - loss: 36.0360 - root_mean_squared_error: 6.0030\n",
      "Epoch 64/200\n",
      "1092/1098 [============================>.] - ETA: 0s - loss: 36.0014 - root_mean_squared_error: 6.0001"
     ]
    },
    {
     "name": "stderr",
     "output_type": "stream",
     "text": [
      "WARNING:absl:Found untraced functions such as gru_cell_layer_call_fn, gru_cell_layer_call_and_return_conditional_losses while saving (showing 2 of 2). These functions will not be directly callable after loading.\n"
     ]
    },
    {
     "name": "stdout",
     "output_type": "stream",
     "text": [
      "INFO:tensorflow:Assets written to: best_model\\assets\n"
     ]
    },
    {
     "name": "stderr",
     "output_type": "stream",
     "text": [
      "INFO:tensorflow:Assets written to: best_model\\assets\n",
      "WARNING:absl:<keras.layers.recurrent.GRUCell object at 0x0000015E57CAE088> has the same name 'GRUCell' as a built-in Keras object. Consider renaming <class 'keras.layers.recurrent.GRUCell'> to avoid naming conflicts when loading with `tf.keras.models.load_model`. If renaming is not possible, pass the object in the `custom_objects` parameter of the load function.\n",
      "WARNING:absl:<keras.layers.recurrent.GRUCell object at 0x0000015E57CAEF48> has the same name 'GRUCell' as a built-in Keras object. Consider renaming <class 'keras.layers.recurrent.GRUCell'> to avoid naming conflicts when loading with `tf.keras.models.load_model`. If renaming is not possible, pass the object in the `custom_objects` parameter of the load function.\n"
     ]
    },
    {
     "name": "stdout",
     "output_type": "stream",
     "text": [
      "1098/1098 [==============================] - 13s 11ms/step - loss: 35.9378 - root_mean_squared_error: 5.9948\n",
      "Epoch 65/200\n",
      "1096/1098 [============================>.] - ETA: 0s - loss: 35.7458 - root_mean_squared_error: 5.9788"
     ]
    },
    {
     "name": "stderr",
     "output_type": "stream",
     "text": [
      "WARNING:absl:Found untraced functions such as gru_cell_layer_call_fn, gru_cell_layer_call_and_return_conditional_losses while saving (showing 2 of 2). These functions will not be directly callable after loading.\n"
     ]
    },
    {
     "name": "stdout",
     "output_type": "stream",
     "text": [
      "INFO:tensorflow:Assets written to: best_model\\assets\n"
     ]
    },
    {
     "name": "stderr",
     "output_type": "stream",
     "text": [
      "INFO:tensorflow:Assets written to: best_model\\assets\n",
      "WARNING:absl:<keras.layers.recurrent.GRUCell object at 0x0000015E57CAE088> has the same name 'GRUCell' as a built-in Keras object. Consider renaming <class 'keras.layers.recurrent.GRUCell'> to avoid naming conflicts when loading with `tf.keras.models.load_model`. If renaming is not possible, pass the object in the `custom_objects` parameter of the load function.\n",
      "WARNING:absl:<keras.layers.recurrent.GRUCell object at 0x0000015E57CAEF48> has the same name 'GRUCell' as a built-in Keras object. Consider renaming <class 'keras.layers.recurrent.GRUCell'> to avoid naming conflicts when loading with `tf.keras.models.load_model`. If renaming is not possible, pass the object in the `custom_objects` parameter of the load function.\n"
     ]
    },
    {
     "name": "stdout",
     "output_type": "stream",
     "text": [
      "1098/1098 [==============================] - 12s 11ms/step - loss: 35.7439 - root_mean_squared_error: 5.9786\n",
      "Epoch 66/200\n",
      "1092/1098 [============================>.] - ETA: 0s - loss: 35.8076 - root_mean_squared_error: 5.9839"
     ]
    },
    {
     "name": "stderr",
     "output_type": "stream",
     "text": [
      "WARNING:absl:Found untraced functions such as gru_cell_layer_call_fn, gru_cell_layer_call_and_return_conditional_losses while saving (showing 2 of 2). These functions will not be directly callable after loading.\n"
     ]
    },
    {
     "name": "stdout",
     "output_type": "stream",
     "text": [
      "INFO:tensorflow:Assets written to: best_model\\assets\n"
     ]
    },
    {
     "name": "stderr",
     "output_type": "stream",
     "text": [
      "INFO:tensorflow:Assets written to: best_model\\assets\n",
      "WARNING:absl:<keras.layers.recurrent.GRUCell object at 0x0000015E57CAE088> has the same name 'GRUCell' as a built-in Keras object. Consider renaming <class 'keras.layers.recurrent.GRUCell'> to avoid naming conflicts when loading with `tf.keras.models.load_model`. If renaming is not possible, pass the object in the `custom_objects` parameter of the load function.\n",
      "WARNING:absl:<keras.layers.recurrent.GRUCell object at 0x0000015E57CAEF48> has the same name 'GRUCell' as a built-in Keras object. Consider renaming <class 'keras.layers.recurrent.GRUCell'> to avoid naming conflicts when loading with `tf.keras.models.load_model`. If renaming is not possible, pass the object in the `custom_objects` parameter of the load function.\n"
     ]
    },
    {
     "name": "stdout",
     "output_type": "stream",
     "text": [
      "1098/1098 [==============================] - 13s 11ms/step - loss: 35.7346 - root_mean_squared_error: 5.9778\n",
      "Epoch 67/200\n",
      "1097/1098 [============================>.] - ETA: 0s - loss: 35.2034 - root_mean_squared_error: 5.9332"
     ]
    },
    {
     "name": "stderr",
     "output_type": "stream",
     "text": [
      "WARNING:absl:Found untraced functions such as gru_cell_layer_call_fn, gru_cell_layer_call_and_return_conditional_losses while saving (showing 2 of 2). These functions will not be directly callable after loading.\n"
     ]
    },
    {
     "name": "stdout",
     "output_type": "stream",
     "text": [
      "INFO:tensorflow:Assets written to: best_model\\assets\n"
     ]
    },
    {
     "name": "stderr",
     "output_type": "stream",
     "text": [
      "INFO:tensorflow:Assets written to: best_model\\assets\n",
      "WARNING:absl:<keras.layers.recurrent.GRUCell object at 0x0000015E57CAE088> has the same name 'GRUCell' as a built-in Keras object. Consider renaming <class 'keras.layers.recurrent.GRUCell'> to avoid naming conflicts when loading with `tf.keras.models.load_model`. If renaming is not possible, pass the object in the `custom_objects` parameter of the load function.\n",
      "WARNING:absl:<keras.layers.recurrent.GRUCell object at 0x0000015E57CAEF48> has the same name 'GRUCell' as a built-in Keras object. Consider renaming <class 'keras.layers.recurrent.GRUCell'> to avoid naming conflicts when loading with `tf.keras.models.load_model`. If renaming is not possible, pass the object in the `custom_objects` parameter of the load function.\n"
     ]
    },
    {
     "name": "stdout",
     "output_type": "stream",
     "text": [
      "1098/1098 [==============================] - 12s 11ms/step - loss: 35.2001 - root_mean_squared_error: 5.9330\n",
      "Epoch 68/200\n",
      "1098/1098 [==============================] - 9s 8ms/step - loss: 35.8377 - root_mean_squared_error: 5.9865\n",
      "Epoch 69/200\n",
      "1092/1098 [============================>.] - ETA: 0s - loss: 34.7481 - root_mean_squared_error: 5.8948"
     ]
    },
    {
     "name": "stderr",
     "output_type": "stream",
     "text": [
      "WARNING:absl:Found untraced functions such as gru_cell_layer_call_fn, gru_cell_layer_call_and_return_conditional_losses while saving (showing 2 of 2). These functions will not be directly callable after loading.\n"
     ]
    },
    {
     "name": "stdout",
     "output_type": "stream",
     "text": [
      "INFO:tensorflow:Assets written to: best_model\\assets\n"
     ]
    },
    {
     "name": "stderr",
     "output_type": "stream",
     "text": [
      "INFO:tensorflow:Assets written to: best_model\\assets\n",
      "WARNING:absl:<keras.layers.recurrent.GRUCell object at 0x0000015E57CAE088> has the same name 'GRUCell' as a built-in Keras object. Consider renaming <class 'keras.layers.recurrent.GRUCell'> to avoid naming conflicts when loading with `tf.keras.models.load_model`. If renaming is not possible, pass the object in the `custom_objects` parameter of the load function.\n",
      "WARNING:absl:<keras.layers.recurrent.GRUCell object at 0x0000015E57CAEF48> has the same name 'GRUCell' as a built-in Keras object. Consider renaming <class 'keras.layers.recurrent.GRUCell'> to avoid naming conflicts when loading with `tf.keras.models.load_model`. If renaming is not possible, pass the object in the `custom_objects` parameter of the load function.\n"
     ]
    },
    {
     "name": "stdout",
     "output_type": "stream",
     "text": [
      "1098/1098 [==============================] - 12s 11ms/step - loss: 34.7334 - root_mean_squared_error: 5.8935\n",
      "Epoch 70/200\n",
      "1098/1098 [==============================] - 9s 8ms/step - loss: 35.4056 - root_mean_squared_error: 5.9503\n",
      "Epoch 71/200\n",
      "1098/1098 [==============================] - 9s 8ms/step - loss: 35.3333 - root_mean_squared_error: 5.9442\n",
      "Epoch 72/200\n",
      "1097/1098 [============================>.] - ETA: 0s - loss: 34.5796 - root_mean_squared_error: 5.8804"
     ]
    },
    {
     "name": "stderr",
     "output_type": "stream",
     "text": [
      "WARNING:absl:Found untraced functions such as gru_cell_layer_call_fn, gru_cell_layer_call_and_return_conditional_losses while saving (showing 2 of 2). These functions will not be directly callable after loading.\n"
     ]
    },
    {
     "name": "stdout",
     "output_type": "stream",
     "text": [
      "INFO:tensorflow:Assets written to: best_model\\assets\n"
     ]
    },
    {
     "name": "stderr",
     "output_type": "stream",
     "text": [
      "INFO:tensorflow:Assets written to: best_model\\assets\n",
      "WARNING:absl:<keras.layers.recurrent.GRUCell object at 0x0000015E57CAE088> has the same name 'GRUCell' as a built-in Keras object. Consider renaming <class 'keras.layers.recurrent.GRUCell'> to avoid naming conflicts when loading with `tf.keras.models.load_model`. If renaming is not possible, pass the object in the `custom_objects` parameter of the load function.\n",
      "WARNING:absl:<keras.layers.recurrent.GRUCell object at 0x0000015E57CAEF48> has the same name 'GRUCell' as a built-in Keras object. Consider renaming <class 'keras.layers.recurrent.GRUCell'> to avoid naming conflicts when loading with `tf.keras.models.load_model`. If renaming is not possible, pass the object in the `custom_objects` parameter of the load function.\n"
     ]
    },
    {
     "name": "stdout",
     "output_type": "stream",
     "text": [
      "1098/1098 [==============================] - 13s 12ms/step - loss: 34.5675 - root_mean_squared_error: 5.8794\n",
      "Epoch 73/200\n",
      "1098/1098 [==============================] - 9s 8ms/step - loss: 34.8310 - root_mean_squared_error: 5.9018\n",
      "Epoch 74/200\n",
      "1098/1098 [==============================] - ETA: 0s - loss: 34.0655 - root_mean_squared_error: 5.8366"
     ]
    },
    {
     "name": "stderr",
     "output_type": "stream",
     "text": [
      "WARNING:absl:Found untraced functions such as gru_cell_layer_call_fn, gru_cell_layer_call_and_return_conditional_losses while saving (showing 2 of 2). These functions will not be directly callable after loading.\n"
     ]
    },
    {
     "name": "stdout",
     "output_type": "stream",
     "text": [
      "INFO:tensorflow:Assets written to: best_model\\assets\n"
     ]
    },
    {
     "name": "stderr",
     "output_type": "stream",
     "text": [
      "INFO:tensorflow:Assets written to: best_model\\assets\n",
      "WARNING:absl:<keras.layers.recurrent.GRUCell object at 0x0000015E57CAE088> has the same name 'GRUCell' as a built-in Keras object. Consider renaming <class 'keras.layers.recurrent.GRUCell'> to avoid naming conflicts when loading with `tf.keras.models.load_model`. If renaming is not possible, pass the object in the `custom_objects` parameter of the load function.\n",
      "WARNING:absl:<keras.layers.recurrent.GRUCell object at 0x0000015E57CAEF48> has the same name 'GRUCell' as a built-in Keras object. Consider renaming <class 'keras.layers.recurrent.GRUCell'> to avoid naming conflicts when loading with `tf.keras.models.load_model`. If renaming is not possible, pass the object in the `custom_objects` parameter of the load function.\n"
     ]
    },
    {
     "name": "stdout",
     "output_type": "stream",
     "text": [
      "1098/1098 [==============================] - 12s 11ms/step - loss: 34.0655 - root_mean_squared_error: 5.8366\n",
      "Epoch 75/200\n",
      "1098/1098 [==============================] - 9s 8ms/step - loss: 34.1990 - root_mean_squared_error: 5.8480\n",
      "Epoch 76/200\n",
      "1097/1098 [============================>.] - ETA: 0s - loss: 33.8053 - root_mean_squared_error: 5.8142"
     ]
    },
    {
     "name": "stderr",
     "output_type": "stream",
     "text": [
      "WARNING:absl:Found untraced functions such as gru_cell_layer_call_fn, gru_cell_layer_call_and_return_conditional_losses while saving (showing 2 of 2). These functions will not be directly callable after loading.\n"
     ]
    },
    {
     "name": "stdout",
     "output_type": "stream",
     "text": [
      "INFO:tensorflow:Assets written to: best_model\\assets\n"
     ]
    },
    {
     "name": "stderr",
     "output_type": "stream",
     "text": [
      "INFO:tensorflow:Assets written to: best_model\\assets\n",
      "WARNING:absl:<keras.layers.recurrent.GRUCell object at 0x0000015E57CAE088> has the same name 'GRUCell' as a built-in Keras object. Consider renaming <class 'keras.layers.recurrent.GRUCell'> to avoid naming conflicts when loading with `tf.keras.models.load_model`. If renaming is not possible, pass the object in the `custom_objects` parameter of the load function.\n",
      "WARNING:absl:<keras.layers.recurrent.GRUCell object at 0x0000015E57CAEF48> has the same name 'GRUCell' as a built-in Keras object. Consider renaming <class 'keras.layers.recurrent.GRUCell'> to avoid naming conflicts when loading with `tf.keras.models.load_model`. If renaming is not possible, pass the object in the `custom_objects` parameter of the load function.\n"
     ]
    },
    {
     "name": "stdout",
     "output_type": "stream",
     "text": [
      "1098/1098 [==============================] - 13s 12ms/step - loss: 33.8057 - root_mean_squared_error: 5.8143\n",
      "Epoch 77/200\n",
      "1098/1098 [==============================] - 9s 8ms/step - loss: 33.9537 - root_mean_squared_error: 5.8270\n",
      "Epoch 78/200\n",
      "1098/1098 [==============================] - 9s 8ms/step - loss: 33.8897 - root_mean_squared_error: 5.8215\n",
      "Epoch 79/200\n",
      "1097/1098 [============================>.] - ETA: 0s - loss: 33.7760 - root_mean_squared_error: 5.8117"
     ]
    },
    {
     "name": "stderr",
     "output_type": "stream",
     "text": [
      "WARNING:absl:Found untraced functions such as gru_cell_layer_call_fn, gru_cell_layer_call_and_return_conditional_losses while saving (showing 2 of 2). These functions will not be directly callable after loading.\n"
     ]
    },
    {
     "name": "stdout",
     "output_type": "stream",
     "text": [
      "INFO:tensorflow:Assets written to: best_model\\assets\n"
     ]
    },
    {
     "name": "stderr",
     "output_type": "stream",
     "text": [
      "INFO:tensorflow:Assets written to: best_model\\assets\n",
      "WARNING:absl:<keras.layers.recurrent.GRUCell object at 0x0000015E57CAE088> has the same name 'GRUCell' as a built-in Keras object. Consider renaming <class 'keras.layers.recurrent.GRUCell'> to avoid naming conflicts when loading with `tf.keras.models.load_model`. If renaming is not possible, pass the object in the `custom_objects` parameter of the load function.\n",
      "WARNING:absl:<keras.layers.recurrent.GRUCell object at 0x0000015E57CAEF48> has the same name 'GRUCell' as a built-in Keras object. Consider renaming <class 'keras.layers.recurrent.GRUCell'> to avoid naming conflicts when loading with `tf.keras.models.load_model`. If renaming is not possible, pass the object in the `custom_objects` parameter of the load function.\n"
     ]
    },
    {
     "name": "stdout",
     "output_type": "stream",
     "text": [
      "1098/1098 [==============================] - 13s 12ms/step - loss: 33.7807 - root_mean_squared_error: 5.8121\n",
      "Epoch 80/200\n",
      "1092/1098 [============================>.] - ETA: 0s - loss: 33.6334 - root_mean_squared_error: 5.7994"
     ]
    },
    {
     "name": "stderr",
     "output_type": "stream",
     "text": [
      "WARNING:absl:Found untraced functions such as gru_cell_layer_call_fn, gru_cell_layer_call_and_return_conditional_losses while saving (showing 2 of 2). These functions will not be directly callable after loading.\n"
     ]
    },
    {
     "name": "stdout",
     "output_type": "stream",
     "text": [
      "INFO:tensorflow:Assets written to: best_model\\assets\n"
     ]
    },
    {
     "name": "stderr",
     "output_type": "stream",
     "text": [
      "INFO:tensorflow:Assets written to: best_model\\assets\n",
      "WARNING:absl:<keras.layers.recurrent.GRUCell object at 0x0000015E57CAE088> has the same name 'GRUCell' as a built-in Keras object. Consider renaming <class 'keras.layers.recurrent.GRUCell'> to avoid naming conflicts when loading with `tf.keras.models.load_model`. If renaming is not possible, pass the object in the `custom_objects` parameter of the load function.\n",
      "WARNING:absl:<keras.layers.recurrent.GRUCell object at 0x0000015E57CAEF48> has the same name 'GRUCell' as a built-in Keras object. Consider renaming <class 'keras.layers.recurrent.GRUCell'> to avoid naming conflicts when loading with `tf.keras.models.load_model`. If renaming is not possible, pass the object in the `custom_objects` parameter of the load function.\n"
     ]
    },
    {
     "name": "stdout",
     "output_type": "stream",
     "text": [
      "1098/1098 [==============================] - 12s 11ms/step - loss: 33.6078 - root_mean_squared_error: 5.7972\n",
      "Epoch 81/200\n",
      "1092/1098 [============================>.] - ETA: 0s - loss: 33.5647 - root_mean_squared_error: 5.7935"
     ]
    },
    {
     "name": "stderr",
     "output_type": "stream",
     "text": [
      "WARNING:absl:Found untraced functions such as gru_cell_layer_call_fn, gru_cell_layer_call_and_return_conditional_losses while saving (showing 2 of 2). These functions will not be directly callable after loading.\n"
     ]
    },
    {
     "name": "stdout",
     "output_type": "stream",
     "text": [
      "INFO:tensorflow:Assets written to: best_model\\assets\n"
     ]
    },
    {
     "name": "stderr",
     "output_type": "stream",
     "text": [
      "INFO:tensorflow:Assets written to: best_model\\assets\n",
      "WARNING:absl:<keras.layers.recurrent.GRUCell object at 0x0000015E57CAE088> has the same name 'GRUCell' as a built-in Keras object. Consider renaming <class 'keras.layers.recurrent.GRUCell'> to avoid naming conflicts when loading with `tf.keras.models.load_model`. If renaming is not possible, pass the object in the `custom_objects` parameter of the load function.\n",
      "WARNING:absl:<keras.layers.recurrent.GRUCell object at 0x0000015E57CAEF48> has the same name 'GRUCell' as a built-in Keras object. Consider renaming <class 'keras.layers.recurrent.GRUCell'> to avoid naming conflicts when loading with `tf.keras.models.load_model`. If renaming is not possible, pass the object in the `custom_objects` parameter of the load function.\n"
     ]
    },
    {
     "name": "stdout",
     "output_type": "stream",
     "text": [
      "1098/1098 [==============================] - 12s 11ms/step - loss: 33.5197 - root_mean_squared_error: 5.7896\n",
      "Epoch 82/200\n",
      "1095/1098 [============================>.] - ETA: 0s - loss: 33.2964 - root_mean_squared_error: 5.7703"
     ]
    },
    {
     "name": "stderr",
     "output_type": "stream",
     "text": [
      "WARNING:absl:Found untraced functions such as gru_cell_layer_call_fn, gru_cell_layer_call_and_return_conditional_losses while saving (showing 2 of 2). These functions will not be directly callable after loading.\n"
     ]
    },
    {
     "name": "stdout",
     "output_type": "stream",
     "text": [
      "INFO:tensorflow:Assets written to: best_model\\assets\n"
     ]
    },
    {
     "name": "stderr",
     "output_type": "stream",
     "text": [
      "INFO:tensorflow:Assets written to: best_model\\assets\n",
      "WARNING:absl:<keras.layers.recurrent.GRUCell object at 0x0000015E57CAE088> has the same name 'GRUCell' as a built-in Keras object. Consider renaming <class 'keras.layers.recurrent.GRUCell'> to avoid naming conflicts when loading with `tf.keras.models.load_model`. If renaming is not possible, pass the object in the `custom_objects` parameter of the load function.\n",
      "WARNING:absl:<keras.layers.recurrent.GRUCell object at 0x0000015E57CAEF48> has the same name 'GRUCell' as a built-in Keras object. Consider renaming <class 'keras.layers.recurrent.GRUCell'> to avoid naming conflicts when loading with `tf.keras.models.load_model`. If renaming is not possible, pass the object in the `custom_objects` parameter of the load function.\n"
     ]
    },
    {
     "name": "stdout",
     "output_type": "stream",
     "text": [
      "1098/1098 [==============================] - 13s 12ms/step - loss: 33.4333 - root_mean_squared_error: 5.7822\n",
      "Epoch 83/200\n",
      "1095/1098 [============================>.] - ETA: 0s - loss: 33.0244 - root_mean_squared_error: 5.7467"
     ]
    },
    {
     "name": "stderr",
     "output_type": "stream",
     "text": [
      "WARNING:absl:Found untraced functions such as gru_cell_layer_call_fn, gru_cell_layer_call_and_return_conditional_losses while saving (showing 2 of 2). These functions will not be directly callable after loading.\n"
     ]
    },
    {
     "name": "stdout",
     "output_type": "stream",
     "text": [
      "INFO:tensorflow:Assets written to: best_model\\assets\n"
     ]
    },
    {
     "name": "stderr",
     "output_type": "stream",
     "text": [
      "INFO:tensorflow:Assets written to: best_model\\assets\n",
      "WARNING:absl:<keras.layers.recurrent.GRUCell object at 0x0000015E57CAE088> has the same name 'GRUCell' as a built-in Keras object. Consider renaming <class 'keras.layers.recurrent.GRUCell'> to avoid naming conflicts when loading with `tf.keras.models.load_model`. If renaming is not possible, pass the object in the `custom_objects` parameter of the load function.\n",
      "WARNING:absl:<keras.layers.recurrent.GRUCell object at 0x0000015E57CAEF48> has the same name 'GRUCell' as a built-in Keras object. Consider renaming <class 'keras.layers.recurrent.GRUCell'> to avoid naming conflicts when loading with `tf.keras.models.load_model`. If renaming is not possible, pass the object in the `custom_objects` parameter of the load function.\n"
     ]
    },
    {
     "name": "stdout",
     "output_type": "stream",
     "text": [
      "1098/1098 [==============================] - 12s 11ms/step - loss: 32.9944 - root_mean_squared_error: 5.7441\n",
      "Epoch 84/200\n",
      "1095/1098 [============================>.] - ETA: 0s - loss: 32.8845 - root_mean_squared_error: 5.7345"
     ]
    },
    {
     "name": "stderr",
     "output_type": "stream",
     "text": [
      "WARNING:absl:Found untraced functions such as gru_cell_layer_call_fn, gru_cell_layer_call_and_return_conditional_losses while saving (showing 2 of 2). These functions will not be directly callable after loading.\n"
     ]
    },
    {
     "name": "stdout",
     "output_type": "stream",
     "text": [
      "INFO:tensorflow:Assets written to: best_model\\assets\n"
     ]
    },
    {
     "name": "stderr",
     "output_type": "stream",
     "text": [
      "INFO:tensorflow:Assets written to: best_model\\assets\n",
      "WARNING:absl:<keras.layers.recurrent.GRUCell object at 0x0000015E57CAE088> has the same name 'GRUCell' as a built-in Keras object. Consider renaming <class 'keras.layers.recurrent.GRUCell'> to avoid naming conflicts when loading with `tf.keras.models.load_model`. If renaming is not possible, pass the object in the `custom_objects` parameter of the load function.\n",
      "WARNING:absl:<keras.layers.recurrent.GRUCell object at 0x0000015E57CAEF48> has the same name 'GRUCell' as a built-in Keras object. Consider renaming <class 'keras.layers.recurrent.GRUCell'> to avoid naming conflicts when loading with `tf.keras.models.load_model`. If renaming is not possible, pass the object in the `custom_objects` parameter of the load function.\n"
     ]
    },
    {
     "name": "stdout",
     "output_type": "stream",
     "text": [
      "1098/1098 [==============================] - 12s 11ms/step - loss: 32.8691 - root_mean_squared_error: 5.7332\n",
      "Epoch 85/200\n",
      "1098/1098 [==============================] - 9s 8ms/step - loss: 32.9071 - root_mean_squared_error: 5.7365\n",
      "Epoch 86/200\n",
      "1097/1098 [============================>.] - ETA: 0s - loss: 32.6739 - root_mean_squared_error: 5.7161"
     ]
    },
    {
     "name": "stderr",
     "output_type": "stream",
     "text": [
      "WARNING:absl:Found untraced functions such as gru_cell_layer_call_fn, gru_cell_layer_call_and_return_conditional_losses while saving (showing 2 of 2). These functions will not be directly callable after loading.\n"
     ]
    },
    {
     "name": "stdout",
     "output_type": "stream",
     "text": [
      "INFO:tensorflow:Assets written to: best_model\\assets\n"
     ]
    },
    {
     "name": "stderr",
     "output_type": "stream",
     "text": [
      "INFO:tensorflow:Assets written to: best_model\\assets\n",
      "WARNING:absl:<keras.layers.recurrent.GRUCell object at 0x0000015E57CAE088> has the same name 'GRUCell' as a built-in Keras object. Consider renaming <class 'keras.layers.recurrent.GRUCell'> to avoid naming conflicts when loading with `tf.keras.models.load_model`. If renaming is not possible, pass the object in the `custom_objects` parameter of the load function.\n",
      "WARNING:absl:<keras.layers.recurrent.GRUCell object at 0x0000015E57CAEF48> has the same name 'GRUCell' as a built-in Keras object. Consider renaming <class 'keras.layers.recurrent.GRUCell'> to avoid naming conflicts when loading with `tf.keras.models.load_model`. If renaming is not possible, pass the object in the `custom_objects` parameter of the load function.\n"
     ]
    },
    {
     "name": "stdout",
     "output_type": "stream",
     "text": [
      "1098/1098 [==============================] - 13s 12ms/step - loss: 32.6620 - root_mean_squared_error: 5.7151\n",
      "Epoch 87/200\n",
      "1098/1098 [==============================] - 9s 8ms/step - loss: 32.7867 - root_mean_squared_error: 5.7260\n",
      "Epoch 88/200\n",
      "1092/1098 [============================>.] - ETA: 0s - loss: 32.5688 - root_mean_squared_error: 5.7069"
     ]
    },
    {
     "name": "stderr",
     "output_type": "stream",
     "text": [
      "WARNING:absl:Found untraced functions such as gru_cell_layer_call_fn, gru_cell_layer_call_and_return_conditional_losses while saving (showing 2 of 2). These functions will not be directly callable after loading.\n"
     ]
    },
    {
     "name": "stdout",
     "output_type": "stream",
     "text": [
      "INFO:tensorflow:Assets written to: best_model\\assets\n"
     ]
    },
    {
     "name": "stderr",
     "output_type": "stream",
     "text": [
      "INFO:tensorflow:Assets written to: best_model\\assets\n",
      "WARNING:absl:<keras.layers.recurrent.GRUCell object at 0x0000015E57CAE088> has the same name 'GRUCell' as a built-in Keras object. Consider renaming <class 'keras.layers.recurrent.GRUCell'> to avoid naming conflicts when loading with `tf.keras.models.load_model`. If renaming is not possible, pass the object in the `custom_objects` parameter of the load function.\n",
      "WARNING:absl:<keras.layers.recurrent.GRUCell object at 0x0000015E57CAEF48> has the same name 'GRUCell' as a built-in Keras object. Consider renaming <class 'keras.layers.recurrent.GRUCell'> to avoid naming conflicts when loading with `tf.keras.models.load_model`. If renaming is not possible, pass the object in the `custom_objects` parameter of the load function.\n"
     ]
    },
    {
     "name": "stdout",
     "output_type": "stream",
     "text": [
      "1098/1098 [==============================] - 13s 12ms/step - loss: 32.5241 - root_mean_squared_error: 5.7030\n",
      "Epoch 89/200\n",
      "1097/1098 [============================>.] - ETA: 0s - loss: 32.4363 - root_mean_squared_error: 5.6953"
     ]
    },
    {
     "name": "stderr",
     "output_type": "stream",
     "text": [
      "WARNING:absl:Found untraced functions such as gru_cell_layer_call_fn, gru_cell_layer_call_and_return_conditional_losses while saving (showing 2 of 2). These functions will not be directly callable after loading.\n"
     ]
    },
    {
     "name": "stdout",
     "output_type": "stream",
     "text": [
      "INFO:tensorflow:Assets written to: best_model\\assets\n"
     ]
    },
    {
     "name": "stderr",
     "output_type": "stream",
     "text": [
      "INFO:tensorflow:Assets written to: best_model\\assets\n",
      "WARNING:absl:<keras.layers.recurrent.GRUCell object at 0x0000015E57CAE088> has the same name 'GRUCell' as a built-in Keras object. Consider renaming <class 'keras.layers.recurrent.GRUCell'> to avoid naming conflicts when loading with `tf.keras.models.load_model`. If renaming is not possible, pass the object in the `custom_objects` parameter of the load function.\n",
      "WARNING:absl:<keras.layers.recurrent.GRUCell object at 0x0000015E57CAEF48> has the same name 'GRUCell' as a built-in Keras object. Consider renaming <class 'keras.layers.recurrent.GRUCell'> to avoid naming conflicts when loading with `tf.keras.models.load_model`. If renaming is not possible, pass the object in the `custom_objects` parameter of the load function.\n"
     ]
    },
    {
     "name": "stdout",
     "output_type": "stream",
     "text": [
      "1098/1098 [==============================] - 12s 11ms/step - loss: 32.4363 - root_mean_squared_error: 5.6953\n",
      "Epoch 90/200\n",
      "1094/1098 [============================>.] - ETA: 0s - loss: 32.1718 - root_mean_squared_error: 5.6720"
     ]
    },
    {
     "name": "stderr",
     "output_type": "stream",
     "text": [
      "WARNING:absl:Found untraced functions such as gru_cell_layer_call_fn, gru_cell_layer_call_and_return_conditional_losses while saving (showing 2 of 2). These functions will not be directly callable after loading.\n"
     ]
    },
    {
     "name": "stdout",
     "output_type": "stream",
     "text": [
      "INFO:tensorflow:Assets written to: best_model\\assets\n"
     ]
    },
    {
     "name": "stderr",
     "output_type": "stream",
     "text": [
      "INFO:tensorflow:Assets written to: best_model\\assets\n",
      "WARNING:absl:<keras.layers.recurrent.GRUCell object at 0x0000015E57CAE088> has the same name 'GRUCell' as a built-in Keras object. Consider renaming <class 'keras.layers.recurrent.GRUCell'> to avoid naming conflicts when loading with `tf.keras.models.load_model`. If renaming is not possible, pass the object in the `custom_objects` parameter of the load function.\n",
      "WARNING:absl:<keras.layers.recurrent.GRUCell object at 0x0000015E57CAEF48> has the same name 'GRUCell' as a built-in Keras object. Consider renaming <class 'keras.layers.recurrent.GRUCell'> to avoid naming conflicts when loading with `tf.keras.models.load_model`. If renaming is not possible, pass the object in the `custom_objects` parameter of the load function.\n"
     ]
    },
    {
     "name": "stdout",
     "output_type": "stream",
     "text": [
      "1098/1098 [==============================] - 13s 12ms/step - loss: 32.1652 - root_mean_squared_error: 5.6714\n",
      "Epoch 91/200\n",
      "1094/1098 [============================>.] - ETA: 0s - loss: 32.0483 - root_mean_squared_error: 5.6611"
     ]
    },
    {
     "name": "stderr",
     "output_type": "stream",
     "text": [
      "WARNING:absl:Found untraced functions such as gru_cell_layer_call_fn, gru_cell_layer_call_and_return_conditional_losses while saving (showing 2 of 2). These functions will not be directly callable after loading.\n"
     ]
    },
    {
     "name": "stdout",
     "output_type": "stream",
     "text": [
      "INFO:tensorflow:Assets written to: best_model\\assets\n"
     ]
    },
    {
     "name": "stderr",
     "output_type": "stream",
     "text": [
      "INFO:tensorflow:Assets written to: best_model\\assets\n",
      "WARNING:absl:<keras.layers.recurrent.GRUCell object at 0x0000015E57CAE088> has the same name 'GRUCell' as a built-in Keras object. Consider renaming <class 'keras.layers.recurrent.GRUCell'> to avoid naming conflicts when loading with `tf.keras.models.load_model`. If renaming is not possible, pass the object in the `custom_objects` parameter of the load function.\n",
      "WARNING:absl:<keras.layers.recurrent.GRUCell object at 0x0000015E57CAEF48> has the same name 'GRUCell' as a built-in Keras object. Consider renaming <class 'keras.layers.recurrent.GRUCell'> to avoid naming conflicts when loading with `tf.keras.models.load_model`. If renaming is not possible, pass the object in the `custom_objects` parameter of the load function.\n"
     ]
    },
    {
     "name": "stdout",
     "output_type": "stream",
     "text": [
      "1098/1098 [==============================] - 13s 12ms/step - loss: 32.0263 - root_mean_squared_error: 5.6592\n",
      "Epoch 92/200\n",
      "1098/1098 [==============================] - 9s 8ms/step - loss: 32.0494 - root_mean_squared_error: 5.6612\n",
      "Epoch 93/200\n",
      "1097/1098 [============================>.] - ETA: 0s - loss: 31.9929 - root_mean_squared_error: 5.6562"
     ]
    },
    {
     "name": "stderr",
     "output_type": "stream",
     "text": [
      "WARNING:absl:Found untraced functions such as gru_cell_layer_call_fn, gru_cell_layer_call_and_return_conditional_losses while saving (showing 2 of 2). These functions will not be directly callable after loading.\n"
     ]
    },
    {
     "name": "stdout",
     "output_type": "stream",
     "text": [
      "INFO:tensorflow:Assets written to: best_model\\assets\n"
     ]
    },
    {
     "name": "stderr",
     "output_type": "stream",
     "text": [
      "INFO:tensorflow:Assets written to: best_model\\assets\n",
      "WARNING:absl:<keras.layers.recurrent.GRUCell object at 0x0000015E57CAE088> has the same name 'GRUCell' as a built-in Keras object. Consider renaming <class 'keras.layers.recurrent.GRUCell'> to avoid naming conflicts when loading with `tf.keras.models.load_model`. If renaming is not possible, pass the object in the `custom_objects` parameter of the load function.\n",
      "WARNING:absl:<keras.layers.recurrent.GRUCell object at 0x0000015E57CAEF48> has the same name 'GRUCell' as a built-in Keras object. Consider renaming <class 'keras.layers.recurrent.GRUCell'> to avoid naming conflicts when loading with `tf.keras.models.load_model`. If renaming is not possible, pass the object in the `custom_objects` parameter of the load function.\n"
     ]
    },
    {
     "name": "stdout",
     "output_type": "stream",
     "text": [
      "1098/1098 [==============================] - 13s 12ms/step - loss: 31.9878 - root_mean_squared_error: 5.6558\n",
      "Epoch 94/200\n",
      "1093/1098 [============================>.] - ETA: 0s - loss: 31.5223 - root_mean_squared_error: 5.6145"
     ]
    },
    {
     "name": "stderr",
     "output_type": "stream",
     "text": [
      "WARNING:absl:Found untraced functions such as gru_cell_layer_call_fn, gru_cell_layer_call_and_return_conditional_losses while saving (showing 2 of 2). These functions will not be directly callable after loading.\n"
     ]
    },
    {
     "name": "stdout",
     "output_type": "stream",
     "text": [
      "INFO:tensorflow:Assets written to: best_model\\assets\n"
     ]
    },
    {
     "name": "stderr",
     "output_type": "stream",
     "text": [
      "INFO:tensorflow:Assets written to: best_model\\assets\n",
      "WARNING:absl:<keras.layers.recurrent.GRUCell object at 0x0000015E57CAE088> has the same name 'GRUCell' as a built-in Keras object. Consider renaming <class 'keras.layers.recurrent.GRUCell'> to avoid naming conflicts when loading with `tf.keras.models.load_model`. If renaming is not possible, pass the object in the `custom_objects` parameter of the load function.\n",
      "WARNING:absl:<keras.layers.recurrent.GRUCell object at 0x0000015E57CAEF48> has the same name 'GRUCell' as a built-in Keras object. Consider renaming <class 'keras.layers.recurrent.GRUCell'> to avoid naming conflicts when loading with `tf.keras.models.load_model`. If renaming is not possible, pass the object in the `custom_objects` parameter of the load function.\n"
     ]
    },
    {
     "name": "stdout",
     "output_type": "stream",
     "text": [
      "1098/1098 [==============================] - 13s 12ms/step - loss: 31.5450 - root_mean_squared_error: 5.6165\n",
      "Epoch 95/200\n",
      "1098/1098 [==============================] - 9s 8ms/step - loss: 31.9610 - root_mean_squared_error: 5.6534\n",
      "Epoch 96/200\n",
      "1098/1098 [==============================] - ETA: 0s - loss: 31.5248 - root_mean_squared_error: 5.6147"
     ]
    },
    {
     "name": "stderr",
     "output_type": "stream",
     "text": [
      "WARNING:absl:Found untraced functions such as gru_cell_layer_call_fn, gru_cell_layer_call_and_return_conditional_losses while saving (showing 2 of 2). These functions will not be directly callable after loading.\n"
     ]
    },
    {
     "name": "stdout",
     "output_type": "stream",
     "text": [
      "INFO:tensorflow:Assets written to: best_model\\assets\n"
     ]
    },
    {
     "name": "stderr",
     "output_type": "stream",
     "text": [
      "INFO:tensorflow:Assets written to: best_model\\assets\n",
      "WARNING:absl:<keras.layers.recurrent.GRUCell object at 0x0000015E57CAE088> has the same name 'GRUCell' as a built-in Keras object. Consider renaming <class 'keras.layers.recurrent.GRUCell'> to avoid naming conflicts when loading with `tf.keras.models.load_model`. If renaming is not possible, pass the object in the `custom_objects` parameter of the load function.\n",
      "WARNING:absl:<keras.layers.recurrent.GRUCell object at 0x0000015E57CAEF48> has the same name 'GRUCell' as a built-in Keras object. Consider renaming <class 'keras.layers.recurrent.GRUCell'> to avoid naming conflicts when loading with `tf.keras.models.load_model`. If renaming is not possible, pass the object in the `custom_objects` parameter of the load function.\n"
     ]
    },
    {
     "name": "stdout",
     "output_type": "stream",
     "text": [
      "1098/1098 [==============================] - 13s 12ms/step - loss: 31.5248 - root_mean_squared_error: 5.6147\n",
      "Epoch 97/200\n",
      "1098/1098 [==============================] - 9s 8ms/step - loss: 31.9191 - root_mean_squared_error: 5.6497\n",
      "Epoch 98/200\n",
      "1093/1098 [============================>.] - ETA: 0s - loss: 31.2700 - root_mean_squared_error: 5.5920"
     ]
    },
    {
     "name": "stderr",
     "output_type": "stream",
     "text": [
      "WARNING:absl:Found untraced functions such as gru_cell_layer_call_fn, gru_cell_layer_call_and_return_conditional_losses while saving (showing 2 of 2). These functions will not be directly callable after loading.\n"
     ]
    },
    {
     "name": "stdout",
     "output_type": "stream",
     "text": [
      "INFO:tensorflow:Assets written to: best_model\\assets\n"
     ]
    },
    {
     "name": "stderr",
     "output_type": "stream",
     "text": [
      "INFO:tensorflow:Assets written to: best_model\\assets\n",
      "WARNING:absl:<keras.layers.recurrent.GRUCell object at 0x0000015E57CAE088> has the same name 'GRUCell' as a built-in Keras object. Consider renaming <class 'keras.layers.recurrent.GRUCell'> to avoid naming conflicts when loading with `tf.keras.models.load_model`. If renaming is not possible, pass the object in the `custom_objects` parameter of the load function.\n",
      "WARNING:absl:<keras.layers.recurrent.GRUCell object at 0x0000015E57CAEF48> has the same name 'GRUCell' as a built-in Keras object. Consider renaming <class 'keras.layers.recurrent.GRUCell'> to avoid naming conflicts when loading with `tf.keras.models.load_model`. If renaming is not possible, pass the object in the `custom_objects` parameter of the load function.\n"
     ]
    },
    {
     "name": "stdout",
     "output_type": "stream",
     "text": [
      "1098/1098 [==============================] - 12s 11ms/step - loss: 31.2019 - root_mean_squared_error: 5.5859\n",
      "Epoch 99/200\n",
      "1096/1098 [============================>.] - ETA: 0s - loss: 31.1245 - root_mean_squared_error: 5.5789"
     ]
    },
    {
     "name": "stderr",
     "output_type": "stream",
     "text": [
      "WARNING:absl:Found untraced functions such as gru_cell_layer_call_fn, gru_cell_layer_call_and_return_conditional_losses while saving (showing 2 of 2). These functions will not be directly callable after loading.\n"
     ]
    },
    {
     "name": "stdout",
     "output_type": "stream",
     "text": [
      "INFO:tensorflow:Assets written to: best_model\\assets\n"
     ]
    },
    {
     "name": "stderr",
     "output_type": "stream",
     "text": [
      "INFO:tensorflow:Assets written to: best_model\\assets\n",
      "WARNING:absl:<keras.layers.recurrent.GRUCell object at 0x0000015E57CAE088> has the same name 'GRUCell' as a built-in Keras object. Consider renaming <class 'keras.layers.recurrent.GRUCell'> to avoid naming conflicts when loading with `tf.keras.models.load_model`. If renaming is not possible, pass the object in the `custom_objects` parameter of the load function.\n",
      "WARNING:absl:<keras.layers.recurrent.GRUCell object at 0x0000015E57CAEF48> has the same name 'GRUCell' as a built-in Keras object. Consider renaming <class 'keras.layers.recurrent.GRUCell'> to avoid naming conflicts when loading with `tf.keras.models.load_model`. If renaming is not possible, pass the object in the `custom_objects` parameter of the load function.\n"
     ]
    },
    {
     "name": "stdout",
     "output_type": "stream",
     "text": [
      "1098/1098 [==============================] - 13s 12ms/step - loss: 31.1092 - root_mean_squared_error: 5.5776\n",
      "Epoch 100/200\n",
      "1098/1098 [==============================] - 9s 8ms/step - loss: 31.3641 - root_mean_squared_error: 5.6004\n",
      "Epoch 101/200\n",
      "1097/1098 [============================>.] - ETA: 0s - loss: 30.7865 - root_mean_squared_error: 5.5486"
     ]
    },
    {
     "name": "stderr",
     "output_type": "stream",
     "text": [
      "WARNING:absl:Found untraced functions such as gru_cell_layer_call_fn, gru_cell_layer_call_and_return_conditional_losses while saving (showing 2 of 2). These functions will not be directly callable after loading.\n"
     ]
    },
    {
     "name": "stdout",
     "output_type": "stream",
     "text": [
      "INFO:tensorflow:Assets written to: best_model\\assets\n"
     ]
    },
    {
     "name": "stderr",
     "output_type": "stream",
     "text": [
      "INFO:tensorflow:Assets written to: best_model\\assets\n",
      "WARNING:absl:<keras.layers.recurrent.GRUCell object at 0x0000015E57CAE088> has the same name 'GRUCell' as a built-in Keras object. Consider renaming <class 'keras.layers.recurrent.GRUCell'> to avoid naming conflicts when loading with `tf.keras.models.load_model`. If renaming is not possible, pass the object in the `custom_objects` parameter of the load function.\n",
      "WARNING:absl:<keras.layers.recurrent.GRUCell object at 0x0000015E57CAEF48> has the same name 'GRUCell' as a built-in Keras object. Consider renaming <class 'keras.layers.recurrent.GRUCell'> to avoid naming conflicts when loading with `tf.keras.models.load_model`. If renaming is not possible, pass the object in the `custom_objects` parameter of the load function.\n"
     ]
    },
    {
     "name": "stdout",
     "output_type": "stream",
     "text": [
      "1098/1098 [==============================] - 13s 12ms/step - loss: 30.7769 - root_mean_squared_error: 5.5477\n",
      "Epoch 102/200\n",
      "1093/1098 [============================>.] - ETA: 0s - loss: 30.7839 - root_mean_squared_error: 5.5483"
     ]
    },
    {
     "name": "stderr",
     "output_type": "stream",
     "text": [
      "WARNING:absl:Found untraced functions such as gru_cell_layer_call_fn, gru_cell_layer_call_and_return_conditional_losses while saving (showing 2 of 2). These functions will not be directly callable after loading.\n"
     ]
    },
    {
     "name": "stdout",
     "output_type": "stream",
     "text": [
      "INFO:tensorflow:Assets written to: best_model\\assets\n"
     ]
    },
    {
     "name": "stderr",
     "output_type": "stream",
     "text": [
      "INFO:tensorflow:Assets written to: best_model\\assets\n",
      "WARNING:absl:<keras.layers.recurrent.GRUCell object at 0x0000015E57CAE088> has the same name 'GRUCell' as a built-in Keras object. Consider renaming <class 'keras.layers.recurrent.GRUCell'> to avoid naming conflicts when loading with `tf.keras.models.load_model`. If renaming is not possible, pass the object in the `custom_objects` parameter of the load function.\n",
      "WARNING:absl:<keras.layers.recurrent.GRUCell object at 0x0000015E57CAEF48> has the same name 'GRUCell' as a built-in Keras object. Consider renaming <class 'keras.layers.recurrent.GRUCell'> to avoid naming conflicts when loading with `tf.keras.models.load_model`. If renaming is not possible, pass the object in the `custom_objects` parameter of the load function.\n"
     ]
    },
    {
     "name": "stdout",
     "output_type": "stream",
     "text": [
      "1098/1098 [==============================] - 13s 11ms/step - loss: 30.7664 - root_mean_squared_error: 5.5468\n",
      "Epoch 103/200\n",
      "1098/1098 [==============================] - 9s 8ms/step - loss: 30.7815 - root_mean_squared_error: 5.5481\n",
      "Epoch 104/200\n",
      "1097/1098 [============================>.] - ETA: 0s - loss: 30.2328 - root_mean_squared_error: 5.4984"
     ]
    },
    {
     "name": "stderr",
     "output_type": "stream",
     "text": [
      "WARNING:absl:Found untraced functions such as gru_cell_layer_call_fn, gru_cell_layer_call_and_return_conditional_losses while saving (showing 2 of 2). These functions will not be directly callable after loading.\n"
     ]
    },
    {
     "name": "stdout",
     "output_type": "stream",
     "text": [
      "INFO:tensorflow:Assets written to: best_model\\assets\n"
     ]
    },
    {
     "name": "stderr",
     "output_type": "stream",
     "text": [
      "INFO:tensorflow:Assets written to: best_model\\assets\n",
      "WARNING:absl:<keras.layers.recurrent.GRUCell object at 0x0000015E57CAE088> has the same name 'GRUCell' as a built-in Keras object. Consider renaming <class 'keras.layers.recurrent.GRUCell'> to avoid naming conflicts when loading with `tf.keras.models.load_model`. If renaming is not possible, pass the object in the `custom_objects` parameter of the load function.\n",
      "WARNING:absl:<keras.layers.recurrent.GRUCell object at 0x0000015E57CAEF48> has the same name 'GRUCell' as a built-in Keras object. Consider renaming <class 'keras.layers.recurrent.GRUCell'> to avoid naming conflicts when loading with `tf.keras.models.load_model`. If renaming is not possible, pass the object in the `custom_objects` parameter of the load function.\n"
     ]
    },
    {
     "name": "stdout",
     "output_type": "stream",
     "text": [
      "1098/1098 [==============================] - 13s 12ms/step - loss: 30.2261 - root_mean_squared_error: 5.4978\n",
      "Epoch 105/200\n",
      "1098/1098 [==============================] - 9s 8ms/step - loss: 30.2500 - root_mean_squared_error: 5.5000\n",
      "Epoch 106/200\n",
      "1098/1098 [==============================] - 9s 8ms/step - loss: 30.3917 - root_mean_squared_error: 5.5129\n",
      "Epoch 107/200\n",
      "1098/1098 [==============================] - 9s 8ms/step - loss: 30.5204 - root_mean_squared_error: 5.5245\n",
      "Epoch 108/200\n",
      "1096/1098 [============================>.] - ETA: 0s - loss: 30.1463 - root_mean_squared_error: 5.4906"
     ]
    },
    {
     "name": "stderr",
     "output_type": "stream",
     "text": [
      "WARNING:absl:Found untraced functions such as gru_cell_layer_call_fn, gru_cell_layer_call_and_return_conditional_losses while saving (showing 2 of 2). These functions will not be directly callable after loading.\n"
     ]
    },
    {
     "name": "stdout",
     "output_type": "stream",
     "text": [
      "INFO:tensorflow:Assets written to: best_model\\assets\n"
     ]
    },
    {
     "name": "stderr",
     "output_type": "stream",
     "text": [
      "INFO:tensorflow:Assets written to: best_model\\assets\n",
      "WARNING:absl:<keras.layers.recurrent.GRUCell object at 0x0000015E57CAE088> has the same name 'GRUCell' as a built-in Keras object. Consider renaming <class 'keras.layers.recurrent.GRUCell'> to avoid naming conflicts when loading with `tf.keras.models.load_model`. If renaming is not possible, pass the object in the `custom_objects` parameter of the load function.\n",
      "WARNING:absl:<keras.layers.recurrent.GRUCell object at 0x0000015E57CAEF48> has the same name 'GRUCell' as a built-in Keras object. Consider renaming <class 'keras.layers.recurrent.GRUCell'> to avoid naming conflicts when loading with `tf.keras.models.load_model`. If renaming is not possible, pass the object in the `custom_objects` parameter of the load function.\n"
     ]
    },
    {
     "name": "stdout",
     "output_type": "stream",
     "text": [
      "1098/1098 [==============================] - 13s 12ms/step - loss: 30.1413 - root_mean_squared_error: 5.4901\n",
      "Epoch 109/200\n",
      "1093/1098 [============================>.] - ETA: 0s - loss: 29.7668 - root_mean_squared_error: 5.4559"
     ]
    },
    {
     "name": "stderr",
     "output_type": "stream",
     "text": [
      "WARNING:absl:Found untraced functions such as gru_cell_layer_call_fn, gru_cell_layer_call_and_return_conditional_losses while saving (showing 2 of 2). These functions will not be directly callable after loading.\n"
     ]
    },
    {
     "name": "stdout",
     "output_type": "stream",
     "text": [
      "INFO:tensorflow:Assets written to: best_model\\assets\n"
     ]
    },
    {
     "name": "stderr",
     "output_type": "stream",
     "text": [
      "INFO:tensorflow:Assets written to: best_model\\assets\n",
      "WARNING:absl:<keras.layers.recurrent.GRUCell object at 0x0000015E57CAE088> has the same name 'GRUCell' as a built-in Keras object. Consider renaming <class 'keras.layers.recurrent.GRUCell'> to avoid naming conflicts when loading with `tf.keras.models.load_model`. If renaming is not possible, pass the object in the `custom_objects` parameter of the load function.\n",
      "WARNING:absl:<keras.layers.recurrent.GRUCell object at 0x0000015E57CAEF48> has the same name 'GRUCell' as a built-in Keras object. Consider renaming <class 'keras.layers.recurrent.GRUCell'> to avoid naming conflicts when loading with `tf.keras.models.load_model`. If renaming is not possible, pass the object in the `custom_objects` parameter of the load function.\n"
     ]
    },
    {
     "name": "stdout",
     "output_type": "stream",
     "text": [
      "1098/1098 [==============================] - 12s 11ms/step - loss: 29.7230 - root_mean_squared_error: 5.4519\n",
      "Epoch 110/200\n",
      "1098/1098 [==============================] - 10s 9ms/step - loss: 29.7626 - root_mean_squared_error: 5.4555\n",
      "Epoch 111/200\n",
      "1095/1098 [============================>.] - ETA: 0s - loss: 29.5859 - root_mean_squared_error: 5.4393"
     ]
    },
    {
     "name": "stderr",
     "output_type": "stream",
     "text": [
      "WARNING:absl:Found untraced functions such as gru_cell_layer_call_fn, gru_cell_layer_call_and_return_conditional_losses while saving (showing 2 of 2). These functions will not be directly callable after loading.\n"
     ]
    },
    {
     "name": "stdout",
     "output_type": "stream",
     "text": [
      "INFO:tensorflow:Assets written to: best_model\\assets\n"
     ]
    },
    {
     "name": "stderr",
     "output_type": "stream",
     "text": [
      "INFO:tensorflow:Assets written to: best_model\\assets\n",
      "WARNING:absl:<keras.layers.recurrent.GRUCell object at 0x0000015E57CAE088> has the same name 'GRUCell' as a built-in Keras object. Consider renaming <class 'keras.layers.recurrent.GRUCell'> to avoid naming conflicts when loading with `tf.keras.models.load_model`. If renaming is not possible, pass the object in the `custom_objects` parameter of the load function.\n",
      "WARNING:absl:<keras.layers.recurrent.GRUCell object at 0x0000015E57CAEF48> has the same name 'GRUCell' as a built-in Keras object. Consider renaming <class 'keras.layers.recurrent.GRUCell'> to avoid naming conflicts when loading with `tf.keras.models.load_model`. If renaming is not possible, pass the object in the `custom_objects` parameter of the load function.\n"
     ]
    },
    {
     "name": "stdout",
     "output_type": "stream",
     "text": [
      "1098/1098 [==============================] - 13s 12ms/step - loss: 29.5744 - root_mean_squared_error: 5.4382\n",
      "Epoch 112/200\n",
      "1098/1098 [==============================] - 9s 9ms/step - loss: 29.6611 - root_mean_squared_error: 5.4462\n",
      "Epoch 113/200\n",
      "1093/1098 [============================>.] - ETA: 0s - loss: 29.2916 - root_mean_squared_error: 5.4122"
     ]
    },
    {
     "name": "stderr",
     "output_type": "stream",
     "text": [
      "WARNING:absl:Found untraced functions such as gru_cell_layer_call_fn, gru_cell_layer_call_and_return_conditional_losses while saving (showing 2 of 2). These functions will not be directly callable after loading.\n"
     ]
    },
    {
     "name": "stdout",
     "output_type": "stream",
     "text": [
      "INFO:tensorflow:Assets written to: best_model\\assets\n"
     ]
    },
    {
     "name": "stderr",
     "output_type": "stream",
     "text": [
      "INFO:tensorflow:Assets written to: best_model\\assets\n",
      "WARNING:absl:<keras.layers.recurrent.GRUCell object at 0x0000015E57CAE088> has the same name 'GRUCell' as a built-in Keras object. Consider renaming <class 'keras.layers.recurrent.GRUCell'> to avoid naming conflicts when loading with `tf.keras.models.load_model`. If renaming is not possible, pass the object in the `custom_objects` parameter of the load function.\n",
      "WARNING:absl:<keras.layers.recurrent.GRUCell object at 0x0000015E57CAEF48> has the same name 'GRUCell' as a built-in Keras object. Consider renaming <class 'keras.layers.recurrent.GRUCell'> to avoid naming conflicts when loading with `tf.keras.models.load_model`. If renaming is not possible, pass the object in the `custom_objects` parameter of the load function.\n"
     ]
    },
    {
     "name": "stdout",
     "output_type": "stream",
     "text": [
      "1098/1098 [==============================] - 13s 12ms/step - loss: 29.2857 - root_mean_squared_error: 5.4116\n",
      "Epoch 114/200\n",
      "1098/1098 [==============================] - 9s 8ms/step - loss: 29.5454 - root_mean_squared_error: 5.4356\n",
      "Epoch 115/200\n",
      "1097/1098 [============================>.] - ETA: 0s - loss: 28.9261 - root_mean_squared_error: 5.3783"
     ]
    },
    {
     "name": "stderr",
     "output_type": "stream",
     "text": [
      "WARNING:absl:Found untraced functions such as gru_cell_layer_call_fn, gru_cell_layer_call_and_return_conditional_losses while saving (showing 2 of 2). These functions will not be directly callable after loading.\n"
     ]
    },
    {
     "name": "stdout",
     "output_type": "stream",
     "text": [
      "INFO:tensorflow:Assets written to: best_model\\assets\n"
     ]
    },
    {
     "name": "stderr",
     "output_type": "stream",
     "text": [
      "INFO:tensorflow:Assets written to: best_model\\assets\n",
      "WARNING:absl:<keras.layers.recurrent.GRUCell object at 0x0000015E57CAE088> has the same name 'GRUCell' as a built-in Keras object. Consider renaming <class 'keras.layers.recurrent.GRUCell'> to avoid naming conflicts when loading with `tf.keras.models.load_model`. If renaming is not possible, pass the object in the `custom_objects` parameter of the load function.\n",
      "WARNING:absl:<keras.layers.recurrent.GRUCell object at 0x0000015E57CAEF48> has the same name 'GRUCell' as a built-in Keras object. Consider renaming <class 'keras.layers.recurrent.GRUCell'> to avoid naming conflicts when loading with `tf.keras.models.load_model`. If renaming is not possible, pass the object in the `custom_objects` parameter of the load function.\n"
     ]
    },
    {
     "name": "stdout",
     "output_type": "stream",
     "text": [
      "1098/1098 [==============================] - 13s 12ms/step - loss: 28.9155 - root_mean_squared_error: 5.3773\n",
      "Epoch 116/200\n",
      "1098/1098 [==============================] - 9s 8ms/step - loss: 29.3735 - root_mean_squared_error: 5.4197\n",
      "Epoch 117/200\n",
      "1095/1098 [============================>.] - ETA: 0s - loss: 28.7101 - root_mean_squared_error: 5.3582"
     ]
    },
    {
     "name": "stderr",
     "output_type": "stream",
     "text": [
      "WARNING:absl:Found untraced functions such as gru_cell_layer_call_fn, gru_cell_layer_call_and_return_conditional_losses while saving (showing 2 of 2). These functions will not be directly callable after loading.\n"
     ]
    },
    {
     "name": "stdout",
     "output_type": "stream",
     "text": [
      "INFO:tensorflow:Assets written to: best_model\\assets\n"
     ]
    },
    {
     "name": "stderr",
     "output_type": "stream",
     "text": [
      "INFO:tensorflow:Assets written to: best_model\\assets\n",
      "WARNING:absl:<keras.layers.recurrent.GRUCell object at 0x0000015E57CAE088> has the same name 'GRUCell' as a built-in Keras object. Consider renaming <class 'keras.layers.recurrent.GRUCell'> to avoid naming conflicts when loading with `tf.keras.models.load_model`. If renaming is not possible, pass the object in the `custom_objects` parameter of the load function.\n",
      "WARNING:absl:<keras.layers.recurrent.GRUCell object at 0x0000015E57CAEF48> has the same name 'GRUCell' as a built-in Keras object. Consider renaming <class 'keras.layers.recurrent.GRUCell'> to avoid naming conflicts when loading with `tf.keras.models.load_model`. If renaming is not possible, pass the object in the `custom_objects` parameter of the load function.\n"
     ]
    },
    {
     "name": "stdout",
     "output_type": "stream",
     "text": [
      "1098/1098 [==============================] - 13s 12ms/step - loss: 28.6856 - root_mean_squared_error: 5.3559\n",
      "Epoch 118/200\n",
      "1098/1098 [==============================] - 9s 8ms/step - loss: 29.0773 - root_mean_squared_error: 5.3923\n",
      "Epoch 119/200\n",
      "1098/1098 [==============================] - 9s 8ms/step - loss: 28.9477 - root_mean_squared_error: 5.3803\n",
      "Epoch 120/200\n",
      "1098/1098 [==============================] - 9s 8ms/step - loss: 28.8532 - root_mean_squared_error: 5.3715\n",
      "Epoch 121/200\n",
      "1094/1098 [============================>.] - ETA: 0s - loss: 28.1334 - root_mean_squared_error: 5.3041"
     ]
    },
    {
     "name": "stderr",
     "output_type": "stream",
     "text": [
      "WARNING:absl:Found untraced functions such as gru_cell_layer_call_fn, gru_cell_layer_call_and_return_conditional_losses while saving (showing 2 of 2). These functions will not be directly callable after loading.\n"
     ]
    },
    {
     "name": "stdout",
     "output_type": "stream",
     "text": [
      "INFO:tensorflow:Assets written to: best_model\\assets\n"
     ]
    },
    {
     "name": "stderr",
     "output_type": "stream",
     "text": [
      "INFO:tensorflow:Assets written to: best_model\\assets\n",
      "WARNING:absl:<keras.layers.recurrent.GRUCell object at 0x0000015E57CAE088> has the same name 'GRUCell' as a built-in Keras object. Consider renaming <class 'keras.layers.recurrent.GRUCell'> to avoid naming conflicts when loading with `tf.keras.models.load_model`. If renaming is not possible, pass the object in the `custom_objects` parameter of the load function.\n",
      "WARNING:absl:<keras.layers.recurrent.GRUCell object at 0x0000015E57CAEF48> has the same name 'GRUCell' as a built-in Keras object. Consider renaming <class 'keras.layers.recurrent.GRUCell'> to avoid naming conflicts when loading with `tf.keras.models.load_model`. If renaming is not possible, pass the object in the `custom_objects` parameter of the load function.\n"
     ]
    },
    {
     "name": "stdout",
     "output_type": "stream",
     "text": [
      "1098/1098 [==============================] - 13s 12ms/step - loss: 28.1098 - root_mean_squared_error: 5.3019\n",
      "Epoch 122/200\n",
      "1098/1098 [==============================] - 9s 8ms/step - loss: 28.8472 - root_mean_squared_error: 5.3710\n",
      "Epoch 123/200\n",
      "1098/1098 [==============================] - 9s 8ms/step - loss: 28.2956 - root_mean_squared_error: 5.3194\n",
      "Epoch 124/200\n",
      "1098/1098 [==============================] - 9s 8ms/step - loss: 28.4029 - root_mean_squared_error: 5.3294\n",
      "Epoch 125/200\n",
      "1097/1098 [============================>.] - ETA: 0s - loss: 28.1021 - root_mean_squared_error: 5.3011"
     ]
    },
    {
     "name": "stderr",
     "output_type": "stream",
     "text": [
      "WARNING:absl:Found untraced functions such as gru_cell_layer_call_fn, gru_cell_layer_call_and_return_conditional_losses while saving (showing 2 of 2). These functions will not be directly callable after loading.\n"
     ]
    },
    {
     "name": "stdout",
     "output_type": "stream",
     "text": [
      "INFO:tensorflow:Assets written to: best_model\\assets\n"
     ]
    },
    {
     "name": "stderr",
     "output_type": "stream",
     "text": [
      "INFO:tensorflow:Assets written to: best_model\\assets\n",
      "WARNING:absl:<keras.layers.recurrent.GRUCell object at 0x0000015E57CAE088> has the same name 'GRUCell' as a built-in Keras object. Consider renaming <class 'keras.layers.recurrent.GRUCell'> to avoid naming conflicts when loading with `tf.keras.models.load_model`. If renaming is not possible, pass the object in the `custom_objects` parameter of the load function.\n",
      "WARNING:absl:<keras.layers.recurrent.GRUCell object at 0x0000015E57CAEF48> has the same name 'GRUCell' as a built-in Keras object. Consider renaming <class 'keras.layers.recurrent.GRUCell'> to avoid naming conflicts when loading with `tf.keras.models.load_model`. If renaming is not possible, pass the object in the `custom_objects` parameter of the load function.\n"
     ]
    },
    {
     "name": "stdout",
     "output_type": "stream",
     "text": [
      "1098/1098 [==============================] - 12s 11ms/step - loss: 28.0916 - root_mean_squared_error: 5.3002\n",
      "Epoch 126/200\n",
      "1093/1098 [============================>.] - ETA: 0s - loss: 27.5634 - root_mean_squared_error: 5.2501"
     ]
    },
    {
     "name": "stderr",
     "output_type": "stream",
     "text": [
      "WARNING:absl:Found untraced functions such as gru_cell_layer_call_fn, gru_cell_layer_call_and_return_conditional_losses while saving (showing 2 of 2). These functions will not be directly callable after loading.\n"
     ]
    },
    {
     "name": "stdout",
     "output_type": "stream",
     "text": [
      "INFO:tensorflow:Assets written to: best_model\\assets\n"
     ]
    },
    {
     "name": "stderr",
     "output_type": "stream",
     "text": [
      "INFO:tensorflow:Assets written to: best_model\\assets\n",
      "WARNING:absl:<keras.layers.recurrent.GRUCell object at 0x0000015E57CAE088> has the same name 'GRUCell' as a built-in Keras object. Consider renaming <class 'keras.layers.recurrent.GRUCell'> to avoid naming conflicts when loading with `tf.keras.models.load_model`. If renaming is not possible, pass the object in the `custom_objects` parameter of the load function.\n",
      "WARNING:absl:<keras.layers.recurrent.GRUCell object at 0x0000015E57CAEF48> has the same name 'GRUCell' as a built-in Keras object. Consider renaming <class 'keras.layers.recurrent.GRUCell'> to avoid naming conflicts when loading with `tf.keras.models.load_model`. If renaming is not possible, pass the object in the `custom_objects` parameter of the load function.\n"
     ]
    },
    {
     "name": "stdout",
     "output_type": "stream",
     "text": [
      "1098/1098 [==============================] - 13s 12ms/step - loss: 27.5285 - root_mean_squared_error: 5.2468\n",
      "Epoch 127/200\n",
      "1098/1098 [==============================] - 10s 9ms/step - loss: 27.7986 - root_mean_squared_error: 5.2724\n",
      "Epoch 128/200\n",
      "1098/1098 [==============================] - 10s 9ms/step - loss: 27.7418 - root_mean_squared_error: 5.2670\n",
      "Epoch 129/200\n",
      "1098/1098 [==============================] - 9s 9ms/step - loss: 27.7696 - root_mean_squared_error: 5.2697\n",
      "Epoch 130/200\n",
      "1098/1098 [==============================] - 9s 9ms/step - loss: 27.7761 - root_mean_squared_error: 5.2703\n",
      "Epoch 131/200\n",
      "1093/1098 [============================>.] - ETA: 0s - loss: 27.4559 - root_mean_squared_error: 5.2398"
     ]
    },
    {
     "name": "stderr",
     "output_type": "stream",
     "text": [
      "WARNING:absl:Found untraced functions such as gru_cell_layer_call_fn, gru_cell_layer_call_and_return_conditional_losses while saving (showing 2 of 2). These functions will not be directly callable after loading.\n"
     ]
    },
    {
     "name": "stdout",
     "output_type": "stream",
     "text": [
      "INFO:tensorflow:Assets written to: best_model\\assets\n"
     ]
    },
    {
     "name": "stderr",
     "output_type": "stream",
     "text": [
      "INFO:tensorflow:Assets written to: best_model\\assets\n",
      "WARNING:absl:<keras.layers.recurrent.GRUCell object at 0x0000015E57CAE088> has the same name 'GRUCell' as a built-in Keras object. Consider renaming <class 'keras.layers.recurrent.GRUCell'> to avoid naming conflicts when loading with `tf.keras.models.load_model`. If renaming is not possible, pass the object in the `custom_objects` parameter of the load function.\n",
      "WARNING:absl:<keras.layers.recurrent.GRUCell object at 0x0000015E57CAEF48> has the same name 'GRUCell' as a built-in Keras object. Consider renaming <class 'keras.layers.recurrent.GRUCell'> to avoid naming conflicts when loading with `tf.keras.models.load_model`. If renaming is not possible, pass the object in the `custom_objects` parameter of the load function.\n"
     ]
    },
    {
     "name": "stdout",
     "output_type": "stream",
     "text": [
      "1098/1098 [==============================] - 13s 12ms/step - loss: 27.4403 - root_mean_squared_error: 5.2383\n",
      "Epoch 132/200\n",
      "1098/1098 [==============================] - 9s 8ms/step - loss: 27.5059 - root_mean_squared_error: 5.2446\n",
      "Epoch 133/200\n",
      "1096/1098 [============================>.] - ETA: 0s - loss: 27.1315 - root_mean_squared_error: 5.2088"
     ]
    },
    {
     "name": "stderr",
     "output_type": "stream",
     "text": [
      "WARNING:absl:Found untraced functions such as gru_cell_layer_call_fn, gru_cell_layer_call_and_return_conditional_losses while saving (showing 2 of 2). These functions will not be directly callable after loading.\n"
     ]
    },
    {
     "name": "stdout",
     "output_type": "stream",
     "text": [
      "INFO:tensorflow:Assets written to: best_model\\assets\n"
     ]
    },
    {
     "name": "stderr",
     "output_type": "stream",
     "text": [
      "INFO:tensorflow:Assets written to: best_model\\assets\n",
      "WARNING:absl:<keras.layers.recurrent.GRUCell object at 0x0000015E57CAE088> has the same name 'GRUCell' as a built-in Keras object. Consider renaming <class 'keras.layers.recurrent.GRUCell'> to avoid naming conflicts when loading with `tf.keras.models.load_model`. If renaming is not possible, pass the object in the `custom_objects` parameter of the load function.\n",
      "WARNING:absl:<keras.layers.recurrent.GRUCell object at 0x0000015E57CAEF48> has the same name 'GRUCell' as a built-in Keras object. Consider renaming <class 'keras.layers.recurrent.GRUCell'> to avoid naming conflicts when loading with `tf.keras.models.load_model`. If renaming is not possible, pass the object in the `custom_objects` parameter of the load function.\n"
     ]
    },
    {
     "name": "stdout",
     "output_type": "stream",
     "text": [
      "1098/1098 [==============================] - 13s 12ms/step - loss: 27.1716 - root_mean_squared_error: 5.2126\n",
      "Epoch 134/200\n",
      "1098/1098 [==============================] - 9s 8ms/step - loss: 27.2645 - root_mean_squared_error: 5.2215\n",
      "Epoch 135/200\n",
      "1093/1098 [============================>.] - ETA: 0s - loss: 26.8865 - root_mean_squared_error: 5.1852"
     ]
    },
    {
     "name": "stderr",
     "output_type": "stream",
     "text": [
      "WARNING:absl:Found untraced functions such as gru_cell_layer_call_fn, gru_cell_layer_call_and_return_conditional_losses while saving (showing 2 of 2). These functions will not be directly callable after loading.\n"
     ]
    },
    {
     "name": "stdout",
     "output_type": "stream",
     "text": [
      "INFO:tensorflow:Assets written to: best_model\\assets\n"
     ]
    },
    {
     "name": "stderr",
     "output_type": "stream",
     "text": [
      "INFO:tensorflow:Assets written to: best_model\\assets\n",
      "WARNING:absl:<keras.layers.recurrent.GRUCell object at 0x0000015E57CAE088> has the same name 'GRUCell' as a built-in Keras object. Consider renaming <class 'keras.layers.recurrent.GRUCell'> to avoid naming conflicts when loading with `tf.keras.models.load_model`. If renaming is not possible, pass the object in the `custom_objects` parameter of the load function.\n",
      "WARNING:absl:<keras.layers.recurrent.GRUCell object at 0x0000015E57CAEF48> has the same name 'GRUCell' as a built-in Keras object. Consider renaming <class 'keras.layers.recurrent.GRUCell'> to avoid naming conflicts when loading with `tf.keras.models.load_model`. If renaming is not possible, pass the object in the `custom_objects` parameter of the load function.\n"
     ]
    },
    {
     "name": "stdout",
     "output_type": "stream",
     "text": [
      "1098/1098 [==============================] - 13s 12ms/step - loss: 26.8411 - root_mean_squared_error: 5.1808\n",
      "Epoch 136/200\n",
      "1098/1098 [==============================] - 9s 8ms/step - loss: 26.9698 - root_mean_squared_error: 5.1932\n",
      "Epoch 137/200\n",
      "1094/1098 [============================>.] - ETA: 0s - loss: 26.6967 - root_mean_squared_error: 5.1669"
     ]
    },
    {
     "name": "stderr",
     "output_type": "stream",
     "text": [
      "WARNING:absl:Found untraced functions such as gru_cell_layer_call_fn, gru_cell_layer_call_and_return_conditional_losses while saving (showing 2 of 2). These functions will not be directly callable after loading.\n"
     ]
    },
    {
     "name": "stdout",
     "output_type": "stream",
     "text": [
      "INFO:tensorflow:Assets written to: best_model\\assets\n"
     ]
    },
    {
     "name": "stderr",
     "output_type": "stream",
     "text": [
      "INFO:tensorflow:Assets written to: best_model\\assets\n",
      "WARNING:absl:<keras.layers.recurrent.GRUCell object at 0x0000015E57CAE088> has the same name 'GRUCell' as a built-in Keras object. Consider renaming <class 'keras.layers.recurrent.GRUCell'> to avoid naming conflicts when loading with `tf.keras.models.load_model`. If renaming is not possible, pass the object in the `custom_objects` parameter of the load function.\n",
      "WARNING:absl:<keras.layers.recurrent.GRUCell object at 0x0000015E57CAEF48> has the same name 'GRUCell' as a built-in Keras object. Consider renaming <class 'keras.layers.recurrent.GRUCell'> to avoid naming conflicts when loading with `tf.keras.models.load_model`. If renaming is not possible, pass the object in the `custom_objects` parameter of the load function.\n"
     ]
    },
    {
     "name": "stdout",
     "output_type": "stream",
     "text": [
      "1098/1098 [==============================] - 13s 12ms/step - loss: 26.7077 - root_mean_squared_error: 5.1679\n",
      "Epoch 138/200\n",
      "1098/1098 [==============================] - 9s 8ms/step - loss: 26.7699 - root_mean_squared_error: 5.1740\n",
      "Epoch 139/200\n",
      "1098/1098 [==============================] - 9s 8ms/step - loss: 26.8802 - root_mean_squared_error: 5.1846\n",
      "Epoch 140/200\n",
      "1098/1098 [==============================] - 9s 8ms/step - loss: 26.7121 - root_mean_squared_error: 5.1684\n",
      "Epoch 141/200\n",
      "1098/1098 [==============================] - ETA: 0s - loss: 26.5371 - root_mean_squared_error: 5.1514"
     ]
    },
    {
     "name": "stderr",
     "output_type": "stream",
     "text": [
      "WARNING:absl:Found untraced functions such as gru_cell_layer_call_fn, gru_cell_layer_call_and_return_conditional_losses while saving (showing 2 of 2). These functions will not be directly callable after loading.\n"
     ]
    },
    {
     "name": "stdout",
     "output_type": "stream",
     "text": [
      "INFO:tensorflow:Assets written to: best_model\\assets\n"
     ]
    },
    {
     "name": "stderr",
     "output_type": "stream",
     "text": [
      "INFO:tensorflow:Assets written to: best_model\\assets\n",
      "WARNING:absl:<keras.layers.recurrent.GRUCell object at 0x0000015E57CAE088> has the same name 'GRUCell' as a built-in Keras object. Consider renaming <class 'keras.layers.recurrent.GRUCell'> to avoid naming conflicts when loading with `tf.keras.models.load_model`. If renaming is not possible, pass the object in the `custom_objects` parameter of the load function.\n",
      "WARNING:absl:<keras.layers.recurrent.GRUCell object at 0x0000015E57CAEF48> has the same name 'GRUCell' as a built-in Keras object. Consider renaming <class 'keras.layers.recurrent.GRUCell'> to avoid naming conflicts when loading with `tf.keras.models.load_model`. If renaming is not possible, pass the object in the `custom_objects` parameter of the load function.\n"
     ]
    },
    {
     "name": "stdout",
     "output_type": "stream",
     "text": [
      "1098/1098 [==============================] - 12s 11ms/step - loss: 26.5371 - root_mean_squared_error: 5.1514\n",
      "Epoch 142/200\n",
      "1094/1098 [============================>.] - ETA: 0s - loss: 26.1925 - root_mean_squared_error: 5.1179"
     ]
    },
    {
     "name": "stderr",
     "output_type": "stream",
     "text": [
      "WARNING:absl:Found untraced functions such as gru_cell_layer_call_fn, gru_cell_layer_call_and_return_conditional_losses while saving (showing 2 of 2). These functions will not be directly callable after loading.\n"
     ]
    },
    {
     "name": "stdout",
     "output_type": "stream",
     "text": [
      "INFO:tensorflow:Assets written to: best_model\\assets\n"
     ]
    },
    {
     "name": "stderr",
     "output_type": "stream",
     "text": [
      "INFO:tensorflow:Assets written to: best_model\\assets\n",
      "WARNING:absl:<keras.layers.recurrent.GRUCell object at 0x0000015E57CAE088> has the same name 'GRUCell' as a built-in Keras object. Consider renaming <class 'keras.layers.recurrent.GRUCell'> to avoid naming conflicts when loading with `tf.keras.models.load_model`. If renaming is not possible, pass the object in the `custom_objects` parameter of the load function.\n",
      "WARNING:absl:<keras.layers.recurrent.GRUCell object at 0x0000015E57CAEF48> has the same name 'GRUCell' as a built-in Keras object. Consider renaming <class 'keras.layers.recurrent.GRUCell'> to avoid naming conflicts when loading with `tf.keras.models.load_model`. If renaming is not possible, pass the object in the `custom_objects` parameter of the load function.\n"
     ]
    },
    {
     "name": "stdout",
     "output_type": "stream",
     "text": [
      "1098/1098 [==============================] - 14s 12ms/step - loss: 26.1963 - root_mean_squared_error: 5.1182\n",
      "Epoch 143/200\n",
      "1098/1098 [==============================] - ETA: 0s - loss: 26.0492 - root_mean_squared_error: 5.1038"
     ]
    },
    {
     "name": "stderr",
     "output_type": "stream",
     "text": [
      "WARNING:absl:Found untraced functions such as gru_cell_layer_call_fn, gru_cell_layer_call_and_return_conditional_losses while saving (showing 2 of 2). These functions will not be directly callable after loading.\n"
     ]
    },
    {
     "name": "stdout",
     "output_type": "stream",
     "text": [
      "INFO:tensorflow:Assets written to: best_model\\assets\n"
     ]
    },
    {
     "name": "stderr",
     "output_type": "stream",
     "text": [
      "INFO:tensorflow:Assets written to: best_model\\assets\n",
      "WARNING:absl:<keras.layers.recurrent.GRUCell object at 0x0000015E57CAE088> has the same name 'GRUCell' as a built-in Keras object. Consider renaming <class 'keras.layers.recurrent.GRUCell'> to avoid naming conflicts when loading with `tf.keras.models.load_model`. If renaming is not possible, pass the object in the `custom_objects` parameter of the load function.\n",
      "WARNING:absl:<keras.layers.recurrent.GRUCell object at 0x0000015E57CAEF48> has the same name 'GRUCell' as a built-in Keras object. Consider renaming <class 'keras.layers.recurrent.GRUCell'> to avoid naming conflicts when loading with `tf.keras.models.load_model`. If renaming is not possible, pass the object in the `custom_objects` parameter of the load function.\n"
     ]
    },
    {
     "name": "stdout",
     "output_type": "stream",
     "text": [
      "1098/1098 [==============================] - 13s 12ms/step - loss: 26.0492 - root_mean_squared_error: 5.1038\n",
      "Epoch 144/200\n",
      "1098/1098 [==============================] - 10s 9ms/step - loss: 26.2297 - root_mean_squared_error: 5.1215\n",
      "Epoch 145/200\n",
      "1098/1098 [==============================] - 10s 9ms/step - loss: 26.2564 - root_mean_squared_error: 5.1241\n",
      "Epoch 146/200\n",
      "1095/1098 [============================>.] - ETA: 0s - loss: 25.8694 - root_mean_squared_error: 5.0862"
     ]
    },
    {
     "name": "stderr",
     "output_type": "stream",
     "text": [
      "WARNING:absl:Found untraced functions such as gru_cell_layer_call_fn, gru_cell_layer_call_and_return_conditional_losses while saving (showing 2 of 2). These functions will not be directly callable after loading.\n"
     ]
    },
    {
     "name": "stdout",
     "output_type": "stream",
     "text": [
      "INFO:tensorflow:Assets written to: best_model\\assets\n"
     ]
    },
    {
     "name": "stderr",
     "output_type": "stream",
     "text": [
      "INFO:tensorflow:Assets written to: best_model\\assets\n",
      "WARNING:absl:<keras.layers.recurrent.GRUCell object at 0x0000015E57CAE088> has the same name 'GRUCell' as a built-in Keras object. Consider renaming <class 'keras.layers.recurrent.GRUCell'> to avoid naming conflicts when loading with `tf.keras.models.load_model`. If renaming is not possible, pass the object in the `custom_objects` parameter of the load function.\n",
      "WARNING:absl:<keras.layers.recurrent.GRUCell object at 0x0000015E57CAEF48> has the same name 'GRUCell' as a built-in Keras object. Consider renaming <class 'keras.layers.recurrent.GRUCell'> to avoid naming conflicts when loading with `tf.keras.models.load_model`. If renaming is not possible, pass the object in the `custom_objects` parameter of the load function.\n"
     ]
    },
    {
     "name": "stdout",
     "output_type": "stream",
     "text": [
      "1098/1098 [==============================] - 13s 12ms/step - loss: 25.8419 - root_mean_squared_error: 5.0835\n",
      "Epoch 147/200\n",
      "1096/1098 [============================>.] - ETA: 0s - loss: 25.8049 - root_mean_squared_error: 5.0799"
     ]
    },
    {
     "name": "stderr",
     "output_type": "stream",
     "text": [
      "WARNING:absl:Found untraced functions such as gru_cell_layer_call_fn, gru_cell_layer_call_and_return_conditional_losses while saving (showing 2 of 2). These functions will not be directly callable after loading.\n"
     ]
    },
    {
     "name": "stdout",
     "output_type": "stream",
     "text": [
      "INFO:tensorflow:Assets written to: best_model\\assets\n"
     ]
    },
    {
     "name": "stderr",
     "output_type": "stream",
     "text": [
      "INFO:tensorflow:Assets written to: best_model\\assets\n",
      "WARNING:absl:<keras.layers.recurrent.GRUCell object at 0x0000015E57CAE088> has the same name 'GRUCell' as a built-in Keras object. Consider renaming <class 'keras.layers.recurrent.GRUCell'> to avoid naming conflicts when loading with `tf.keras.models.load_model`. If renaming is not possible, pass the object in the `custom_objects` parameter of the load function.\n",
      "WARNING:absl:<keras.layers.recurrent.GRUCell object at 0x0000015E57CAEF48> has the same name 'GRUCell' as a built-in Keras object. Consider renaming <class 'keras.layers.recurrent.GRUCell'> to avoid naming conflicts when loading with `tf.keras.models.load_model`. If renaming is not possible, pass the object in the `custom_objects` parameter of the load function.\n"
     ]
    },
    {
     "name": "stdout",
     "output_type": "stream",
     "text": [
      "1098/1098 [==============================] - 13s 12ms/step - loss: 25.7915 - root_mean_squared_error: 5.0785\n",
      "Epoch 148/200\n",
      "1098/1098 [==============================] - 9s 8ms/step - loss: 26.4844 - root_mean_squared_error: 5.1463\n",
      "Epoch 149/200\n",
      "1098/1098 [==============================] - 9s 8ms/step - loss: 25.8660 - root_mean_squared_error: 5.0859\n",
      "Epoch 150/200\n",
      "1094/1098 [============================>.] - ETA: 0s - loss: 25.6298 - root_mean_squared_error: 5.0626"
     ]
    },
    {
     "name": "stderr",
     "output_type": "stream",
     "text": [
      "WARNING:absl:Found untraced functions such as gru_cell_layer_call_fn, gru_cell_layer_call_and_return_conditional_losses while saving (showing 2 of 2). These functions will not be directly callable after loading.\n"
     ]
    },
    {
     "name": "stdout",
     "output_type": "stream",
     "text": [
      "INFO:tensorflow:Assets written to: best_model\\assets\n"
     ]
    },
    {
     "name": "stderr",
     "output_type": "stream",
     "text": [
      "INFO:tensorflow:Assets written to: best_model\\assets\n",
      "WARNING:absl:<keras.layers.recurrent.GRUCell object at 0x0000015E57CAE088> has the same name 'GRUCell' as a built-in Keras object. Consider renaming <class 'keras.layers.recurrent.GRUCell'> to avoid naming conflicts when loading with `tf.keras.models.load_model`. If renaming is not possible, pass the object in the `custom_objects` parameter of the load function.\n",
      "WARNING:absl:<keras.layers.recurrent.GRUCell object at 0x0000015E57CAEF48> has the same name 'GRUCell' as a built-in Keras object. Consider renaming <class 'keras.layers.recurrent.GRUCell'> to avoid naming conflicts when loading with `tf.keras.models.load_model`. If renaming is not possible, pass the object in the `custom_objects` parameter of the load function.\n"
     ]
    },
    {
     "name": "stdout",
     "output_type": "stream",
     "text": [
      "1098/1098 [==============================] - 13s 12ms/step - loss: 25.5857 - root_mean_squared_error: 5.0582\n",
      "Epoch 151/200\n",
      "1094/1098 [============================>.] - ETA: 0s - loss: 25.4356 - root_mean_squared_error: 5.0434"
     ]
    },
    {
     "name": "stderr",
     "output_type": "stream",
     "text": [
      "WARNING:absl:Found untraced functions such as gru_cell_layer_call_fn, gru_cell_layer_call_and_return_conditional_losses while saving (showing 2 of 2). These functions will not be directly callable after loading.\n"
     ]
    },
    {
     "name": "stdout",
     "output_type": "stream",
     "text": [
      "INFO:tensorflow:Assets written to: best_model\\assets\n"
     ]
    },
    {
     "name": "stderr",
     "output_type": "stream",
     "text": [
      "INFO:tensorflow:Assets written to: best_model\\assets\n",
      "WARNING:absl:<keras.layers.recurrent.GRUCell object at 0x0000015E57CAE088> has the same name 'GRUCell' as a built-in Keras object. Consider renaming <class 'keras.layers.recurrent.GRUCell'> to avoid naming conflicts when loading with `tf.keras.models.load_model`. If renaming is not possible, pass the object in the `custom_objects` parameter of the load function.\n",
      "WARNING:absl:<keras.layers.recurrent.GRUCell object at 0x0000015E57CAEF48> has the same name 'GRUCell' as a built-in Keras object. Consider renaming <class 'keras.layers.recurrent.GRUCell'> to avoid naming conflicts when loading with `tf.keras.models.load_model`. If renaming is not possible, pass the object in the `custom_objects` parameter of the load function.\n"
     ]
    },
    {
     "name": "stdout",
     "output_type": "stream",
     "text": [
      "1098/1098 [==============================] - 12s 11ms/step - loss: 25.4725 - root_mean_squared_error: 5.0470\n",
      "Epoch 152/200\n",
      "1098/1098 [==============================] - ETA: 0s - loss: 25.2462 - root_mean_squared_error: 5.0246"
     ]
    },
    {
     "name": "stderr",
     "output_type": "stream",
     "text": [
      "WARNING:absl:Found untraced functions such as gru_cell_layer_call_fn, gru_cell_layer_call_and_return_conditional_losses while saving (showing 2 of 2). These functions will not be directly callable after loading.\n"
     ]
    },
    {
     "name": "stdout",
     "output_type": "stream",
     "text": [
      "INFO:tensorflow:Assets written to: best_model\\assets\n"
     ]
    },
    {
     "name": "stderr",
     "output_type": "stream",
     "text": [
      "INFO:tensorflow:Assets written to: best_model\\assets\n",
      "WARNING:absl:<keras.layers.recurrent.GRUCell object at 0x0000015E57CAE088> has the same name 'GRUCell' as a built-in Keras object. Consider renaming <class 'keras.layers.recurrent.GRUCell'> to avoid naming conflicts when loading with `tf.keras.models.load_model`. If renaming is not possible, pass the object in the `custom_objects` parameter of the load function.\n",
      "WARNING:absl:<keras.layers.recurrent.GRUCell object at 0x0000015E57CAEF48> has the same name 'GRUCell' as a built-in Keras object. Consider renaming <class 'keras.layers.recurrent.GRUCell'> to avoid naming conflicts when loading with `tf.keras.models.load_model`. If renaming is not possible, pass the object in the `custom_objects` parameter of the load function.\n"
     ]
    },
    {
     "name": "stdout",
     "output_type": "stream",
     "text": [
      "1098/1098 [==============================] - 14s 12ms/step - loss: 25.2462 - root_mean_squared_error: 5.0246\n",
      "Epoch 153/200\n",
      "1098/1098 [==============================] - 9s 8ms/step - loss: 25.4039 - root_mean_squared_error: 5.0402\n",
      "Epoch 154/200\n",
      "1095/1098 [============================>.] - ETA: 0s - loss: 25.2228 - root_mean_squared_error: 5.0222"
     ]
    },
    {
     "name": "stderr",
     "output_type": "stream",
     "text": [
      "WARNING:absl:Found untraced functions such as gru_cell_layer_call_fn, gru_cell_layer_call_and_return_conditional_losses while saving (showing 2 of 2). These functions will not be directly callable after loading.\n"
     ]
    },
    {
     "name": "stdout",
     "output_type": "stream",
     "text": [
      "INFO:tensorflow:Assets written to: best_model\\assets\n"
     ]
    },
    {
     "name": "stderr",
     "output_type": "stream",
     "text": [
      "INFO:tensorflow:Assets written to: best_model\\assets\n",
      "WARNING:absl:<keras.layers.recurrent.GRUCell object at 0x0000015E57CAE088> has the same name 'GRUCell' as a built-in Keras object. Consider renaming <class 'keras.layers.recurrent.GRUCell'> to avoid naming conflicts when loading with `tf.keras.models.load_model`. If renaming is not possible, pass the object in the `custom_objects` parameter of the load function.\n",
      "WARNING:absl:<keras.layers.recurrent.GRUCell object at 0x0000015E57CAEF48> has the same name 'GRUCell' as a built-in Keras object. Consider renaming <class 'keras.layers.recurrent.GRUCell'> to avoid naming conflicts when loading with `tf.keras.models.load_model`. If renaming is not possible, pass the object in the `custom_objects` parameter of the load function.\n"
     ]
    },
    {
     "name": "stdout",
     "output_type": "stream",
     "text": [
      "1098/1098 [==============================] - 13s 12ms/step - loss: 25.1921 - root_mean_squared_error: 5.0192\n",
      "Epoch 155/200\n",
      "1093/1098 [============================>.] - ETA: 0s - loss: 25.2433 - root_mean_squared_error: 5.0243"
     ]
    },
    {
     "name": "stderr",
     "output_type": "stream",
     "text": [
      "WARNING:absl:Found untraced functions such as gru_cell_layer_call_fn, gru_cell_layer_call_and_return_conditional_losses while saving (showing 2 of 2). These functions will not be directly callable after loading.\n"
     ]
    },
    {
     "name": "stdout",
     "output_type": "stream",
     "text": [
      "INFO:tensorflow:Assets written to: best_model\\assets\n"
     ]
    },
    {
     "name": "stderr",
     "output_type": "stream",
     "text": [
      "INFO:tensorflow:Assets written to: best_model\\assets\n",
      "WARNING:absl:<keras.layers.recurrent.GRUCell object at 0x0000015E57CAE088> has the same name 'GRUCell' as a built-in Keras object. Consider renaming <class 'keras.layers.recurrent.GRUCell'> to avoid naming conflicts when loading with `tf.keras.models.load_model`. If renaming is not possible, pass the object in the `custom_objects` parameter of the load function.\n",
      "WARNING:absl:<keras.layers.recurrent.GRUCell object at 0x0000015E57CAEF48> has the same name 'GRUCell' as a built-in Keras object. Consider renaming <class 'keras.layers.recurrent.GRUCell'> to avoid naming conflicts when loading with `tf.keras.models.load_model`. If renaming is not possible, pass the object in the `custom_objects` parameter of the load function.\n"
     ]
    },
    {
     "name": "stdout",
     "output_type": "stream",
     "text": [
      "1098/1098 [==============================] - 13s 12ms/step - loss: 25.1787 - root_mean_squared_error: 5.0178\n",
      "Epoch 156/200\n",
      "1098/1098 [==============================] - ETA: 0s - loss: 25.1646 - root_mean_squared_error: 5.0164"
     ]
    },
    {
     "name": "stderr",
     "output_type": "stream",
     "text": [
      "WARNING:absl:Found untraced functions such as gru_cell_layer_call_fn, gru_cell_layer_call_and_return_conditional_losses while saving (showing 2 of 2). These functions will not be directly callable after loading.\n"
     ]
    },
    {
     "name": "stdout",
     "output_type": "stream",
     "text": [
      "INFO:tensorflow:Assets written to: best_model\\assets\n"
     ]
    },
    {
     "name": "stderr",
     "output_type": "stream",
     "text": [
      "INFO:tensorflow:Assets written to: best_model\\assets\n",
      "WARNING:absl:<keras.layers.recurrent.GRUCell object at 0x0000015E57CAE088> has the same name 'GRUCell' as a built-in Keras object. Consider renaming <class 'keras.layers.recurrent.GRUCell'> to avoid naming conflicts when loading with `tf.keras.models.load_model`. If renaming is not possible, pass the object in the `custom_objects` parameter of the load function.\n",
      "WARNING:absl:<keras.layers.recurrent.GRUCell object at 0x0000015E57CAEF48> has the same name 'GRUCell' as a built-in Keras object. Consider renaming <class 'keras.layers.recurrent.GRUCell'> to avoid naming conflicts when loading with `tf.keras.models.load_model`. If renaming is not possible, pass the object in the `custom_objects` parameter of the load function.\n"
     ]
    },
    {
     "name": "stdout",
     "output_type": "stream",
     "text": [
      "1098/1098 [==============================] - 13s 12ms/step - loss: 25.1646 - root_mean_squared_error: 5.0164\n",
      "Epoch 157/200\n",
      "1098/1098 [==============================] - 9s 8ms/step - loss: 25.2549 - root_mean_squared_error: 5.0254\n",
      "Epoch 158/200\n",
      "1094/1098 [============================>.] - ETA: 0s - loss: 24.8913 - root_mean_squared_error: 4.9891"
     ]
    },
    {
     "name": "stderr",
     "output_type": "stream",
     "text": [
      "WARNING:absl:Found untraced functions such as gru_cell_layer_call_fn, gru_cell_layer_call_and_return_conditional_losses while saving (showing 2 of 2). These functions will not be directly callable after loading.\n"
     ]
    },
    {
     "name": "stdout",
     "output_type": "stream",
     "text": [
      "INFO:tensorflow:Assets written to: best_model\\assets\n"
     ]
    },
    {
     "name": "stderr",
     "output_type": "stream",
     "text": [
      "INFO:tensorflow:Assets written to: best_model\\assets\n",
      "WARNING:absl:<keras.layers.recurrent.GRUCell object at 0x0000015E57CAE088> has the same name 'GRUCell' as a built-in Keras object. Consider renaming <class 'keras.layers.recurrent.GRUCell'> to avoid naming conflicts when loading with `tf.keras.models.load_model`. If renaming is not possible, pass the object in the `custom_objects` parameter of the load function.\n",
      "WARNING:absl:<keras.layers.recurrent.GRUCell object at 0x0000015E57CAEF48> has the same name 'GRUCell' as a built-in Keras object. Consider renaming <class 'keras.layers.recurrent.GRUCell'> to avoid naming conflicts when loading with `tf.keras.models.load_model`. If renaming is not possible, pass the object in the `custom_objects` parameter of the load function.\n"
     ]
    },
    {
     "name": "stdout",
     "output_type": "stream",
     "text": [
      "1098/1098 [==============================] - 13s 12ms/step - loss: 24.8547 - root_mean_squared_error: 4.9854\n",
      "Epoch 159/200\n",
      "1098/1098 [==============================] - 9s 8ms/step - loss: 24.9949 - root_mean_squared_error: 4.9995\n",
      "Epoch 160/200\n",
      "1098/1098 [==============================] - 9s 8ms/step - loss: 24.8917 - root_mean_squared_error: 4.9892\n",
      "Epoch 161/200\n",
      "1097/1098 [============================>.] - ETA: 0s - loss: 24.5914 - root_mean_squared_error: 4.9590"
     ]
    },
    {
     "name": "stderr",
     "output_type": "stream",
     "text": [
      "WARNING:absl:Found untraced functions such as gru_cell_layer_call_fn, gru_cell_layer_call_and_return_conditional_losses while saving (showing 2 of 2). These functions will not be directly callable after loading.\n"
     ]
    },
    {
     "name": "stdout",
     "output_type": "stream",
     "text": [
      "INFO:tensorflow:Assets written to: best_model\\assets\n"
     ]
    },
    {
     "name": "stderr",
     "output_type": "stream",
     "text": [
      "INFO:tensorflow:Assets written to: best_model\\assets\n",
      "WARNING:absl:<keras.layers.recurrent.GRUCell object at 0x0000015E57CAE088> has the same name 'GRUCell' as a built-in Keras object. Consider renaming <class 'keras.layers.recurrent.GRUCell'> to avoid naming conflicts when loading with `tf.keras.models.load_model`. If renaming is not possible, pass the object in the `custom_objects` parameter of the load function.\n",
      "WARNING:absl:<keras.layers.recurrent.GRUCell object at 0x0000015E57CAEF48> has the same name 'GRUCell' as a built-in Keras object. Consider renaming <class 'keras.layers.recurrent.GRUCell'> to avoid naming conflicts when loading with `tf.keras.models.load_model`. If renaming is not possible, pass the object in the `custom_objects` parameter of the load function.\n"
     ]
    },
    {
     "name": "stdout",
     "output_type": "stream",
     "text": [
      "1098/1098 [==============================] - 13s 11ms/step - loss: 24.5831 - root_mean_squared_error: 4.9581\n",
      "Epoch 162/200\n",
      "1097/1098 [============================>.] - ETA: 0s - loss: 24.2043 - root_mean_squared_error: 4.9198"
     ]
    },
    {
     "name": "stderr",
     "output_type": "stream",
     "text": [
      "WARNING:absl:Found untraced functions such as gru_cell_layer_call_fn, gru_cell_layer_call_and_return_conditional_losses while saving (showing 2 of 2). These functions will not be directly callable after loading.\n"
     ]
    },
    {
     "name": "stdout",
     "output_type": "stream",
     "text": [
      "INFO:tensorflow:Assets written to: best_model\\assets\n"
     ]
    },
    {
     "name": "stderr",
     "output_type": "stream",
     "text": [
      "INFO:tensorflow:Assets written to: best_model\\assets\n",
      "WARNING:absl:<keras.layers.recurrent.GRUCell object at 0x0000015E57CAE088> has the same name 'GRUCell' as a built-in Keras object. Consider renaming <class 'keras.layers.recurrent.GRUCell'> to avoid naming conflicts when loading with `tf.keras.models.load_model`. If renaming is not possible, pass the object in the `custom_objects` parameter of the load function.\n",
      "WARNING:absl:<keras.layers.recurrent.GRUCell object at 0x0000015E57CAEF48> has the same name 'GRUCell' as a built-in Keras object. Consider renaming <class 'keras.layers.recurrent.GRUCell'> to avoid naming conflicts when loading with `tf.keras.models.load_model`. If renaming is not possible, pass the object in the `custom_objects` parameter of the load function.\n"
     ]
    },
    {
     "name": "stdout",
     "output_type": "stream",
     "text": [
      "1098/1098 [==============================] - 14s 12ms/step - loss: 24.2007 - root_mean_squared_error: 4.9194\n",
      "Epoch 163/200\n",
      "1098/1098 [==============================] - 10s 9ms/step - loss: 24.5107 - root_mean_squared_error: 4.9508\n",
      "Epoch 164/200\n",
      "1098/1098 [==============================] - 10s 9ms/step - loss: 24.5076 - root_mean_squared_error: 4.9505\n",
      "Epoch 165/200\n",
      "1098/1098 [==============================] - ETA: 0s - loss: 24.1946 - root_mean_squared_error: 4.9188"
     ]
    },
    {
     "name": "stderr",
     "output_type": "stream",
     "text": [
      "WARNING:absl:Found untraced functions such as gru_cell_layer_call_fn, gru_cell_layer_call_and_return_conditional_losses while saving (showing 2 of 2). These functions will not be directly callable after loading.\n"
     ]
    },
    {
     "name": "stdout",
     "output_type": "stream",
     "text": [
      "INFO:tensorflow:Assets written to: best_model\\assets\n"
     ]
    },
    {
     "name": "stderr",
     "output_type": "stream",
     "text": [
      "INFO:tensorflow:Assets written to: best_model\\assets\n",
      "WARNING:absl:<keras.layers.recurrent.GRUCell object at 0x0000015E57CAE088> has the same name 'GRUCell' as a built-in Keras object. Consider renaming <class 'keras.layers.recurrent.GRUCell'> to avoid naming conflicts when loading with `tf.keras.models.load_model`. If renaming is not possible, pass the object in the `custom_objects` parameter of the load function.\n",
      "WARNING:absl:<keras.layers.recurrent.GRUCell object at 0x0000015E57CAEF48> has the same name 'GRUCell' as a built-in Keras object. Consider renaming <class 'keras.layers.recurrent.GRUCell'> to avoid naming conflicts when loading with `tf.keras.models.load_model`. If renaming is not possible, pass the object in the `custom_objects` parameter of the load function.\n"
     ]
    },
    {
     "name": "stdout",
     "output_type": "stream",
     "text": [
      "1098/1098 [==============================] - 13s 12ms/step - loss: 24.1946 - root_mean_squared_error: 4.9188\n",
      "Epoch 166/200\n",
      "1098/1098 [==============================] - 10s 9ms/step - loss: 24.6236 - root_mean_squared_error: 4.9622\n",
      "Epoch 167/200\n",
      "1098/1098 [==============================] - 10s 9ms/step - loss: 24.3621 - root_mean_squared_error: 4.9358\n",
      "Epoch 168/200\n",
      "1098/1098 [==============================] - 10s 9ms/step - loss: 24.2294 - root_mean_squared_error: 4.9223\n",
      "Epoch 169/200\n",
      "1094/1098 [============================>.] - ETA: 0s - loss: 24.1234 - root_mean_squared_error: 4.9116"
     ]
    },
    {
     "name": "stderr",
     "output_type": "stream",
     "text": [
      "WARNING:absl:Found untraced functions such as gru_cell_layer_call_fn, gru_cell_layer_call_and_return_conditional_losses while saving (showing 2 of 2). These functions will not be directly callable after loading.\n"
     ]
    },
    {
     "name": "stdout",
     "output_type": "stream",
     "text": [
      "INFO:tensorflow:Assets written to: best_model\\assets\n"
     ]
    },
    {
     "name": "stderr",
     "output_type": "stream",
     "text": [
      "INFO:tensorflow:Assets written to: best_model\\assets\n",
      "WARNING:absl:<keras.layers.recurrent.GRUCell object at 0x0000015E57CAE088> has the same name 'GRUCell' as a built-in Keras object. Consider renaming <class 'keras.layers.recurrent.GRUCell'> to avoid naming conflicts when loading with `tf.keras.models.load_model`. If renaming is not possible, pass the object in the `custom_objects` parameter of the load function.\n",
      "WARNING:absl:<keras.layers.recurrent.GRUCell object at 0x0000015E57CAEF48> has the same name 'GRUCell' as a built-in Keras object. Consider renaming <class 'keras.layers.recurrent.GRUCell'> to avoid naming conflicts when loading with `tf.keras.models.load_model`. If renaming is not possible, pass the object in the `custom_objects` parameter of the load function.\n"
     ]
    },
    {
     "name": "stdout",
     "output_type": "stream",
     "text": [
      "1098/1098 [==============================] - 13s 12ms/step - loss: 24.1105 - root_mean_squared_error: 4.9102\n",
      "Epoch 170/200\n",
      "1095/1098 [============================>.] - ETA: 0s - loss: 23.7608 - root_mean_squared_error: 4.8745"
     ]
    },
    {
     "name": "stderr",
     "output_type": "stream",
     "text": [
      "WARNING:absl:Found untraced functions such as gru_cell_layer_call_fn, gru_cell_layer_call_and_return_conditional_losses while saving (showing 2 of 2). These functions will not be directly callable after loading.\n"
     ]
    },
    {
     "name": "stdout",
     "output_type": "stream",
     "text": [
      "INFO:tensorflow:Assets written to: best_model\\assets\n"
     ]
    },
    {
     "name": "stderr",
     "output_type": "stream",
     "text": [
      "INFO:tensorflow:Assets written to: best_model\\assets\n",
      "WARNING:absl:<keras.layers.recurrent.GRUCell object at 0x0000015E57CAE088> has the same name 'GRUCell' as a built-in Keras object. Consider renaming <class 'keras.layers.recurrent.GRUCell'> to avoid naming conflicts when loading with `tf.keras.models.load_model`. If renaming is not possible, pass the object in the `custom_objects` parameter of the load function.\n",
      "WARNING:absl:<keras.layers.recurrent.GRUCell object at 0x0000015E57CAEF48> has the same name 'GRUCell' as a built-in Keras object. Consider renaming <class 'keras.layers.recurrent.GRUCell'> to avoid naming conflicts when loading with `tf.keras.models.load_model`. If renaming is not possible, pass the object in the `custom_objects` parameter of the load function.\n"
     ]
    },
    {
     "name": "stdout",
     "output_type": "stream",
     "text": [
      "1098/1098 [==============================] - 13s 12ms/step - loss: 23.7839 - root_mean_squared_error: 4.8769\n",
      "Epoch 171/200\n",
      "1098/1098 [==============================] - 9s 8ms/step - loss: 24.0697 - root_mean_squared_error: 4.9061\n",
      "Epoch 172/200\n",
      "1097/1098 [============================>.] - ETA: 0s - loss: 23.5605 - root_mean_squared_error: 4.8539"
     ]
    },
    {
     "name": "stderr",
     "output_type": "stream",
     "text": [
      "WARNING:absl:Found untraced functions such as gru_cell_layer_call_fn, gru_cell_layer_call_and_return_conditional_losses while saving (showing 2 of 2). These functions will not be directly callable after loading.\n"
     ]
    },
    {
     "name": "stdout",
     "output_type": "stream",
     "text": [
      "INFO:tensorflow:Assets written to: best_model\\assets\n"
     ]
    },
    {
     "name": "stderr",
     "output_type": "stream",
     "text": [
      "INFO:tensorflow:Assets written to: best_model\\assets\n",
      "WARNING:absl:<keras.layers.recurrent.GRUCell object at 0x0000015E57CAE088> has the same name 'GRUCell' as a built-in Keras object. Consider renaming <class 'keras.layers.recurrent.GRUCell'> to avoid naming conflicts when loading with `tf.keras.models.load_model`. If renaming is not possible, pass the object in the `custom_objects` parameter of the load function.\n",
      "WARNING:absl:<keras.layers.recurrent.GRUCell object at 0x0000015E57CAEF48> has the same name 'GRUCell' as a built-in Keras object. Consider renaming <class 'keras.layers.recurrent.GRUCell'> to avoid naming conflicts when loading with `tf.keras.models.load_model`. If renaming is not possible, pass the object in the `custom_objects` parameter of the load function.\n"
     ]
    },
    {
     "name": "stdout",
     "output_type": "stream",
     "text": [
      "1098/1098 [==============================] - 13s 12ms/step - loss: 23.5611 - root_mean_squared_error: 4.8540\n",
      "Epoch 173/200\n",
      "1098/1098 [==============================] - 9s 8ms/step - loss: 23.6462 - root_mean_squared_error: 4.8627\n",
      "Epoch 174/200\n",
      "1098/1098 [==============================] - 9s 8ms/step - loss: 23.8122 - root_mean_squared_error: 4.8798\n",
      "Epoch 175/200\n",
      "1097/1098 [============================>.] - ETA: 0s - loss: 23.4388 - root_mean_squared_error: 4.8414"
     ]
    },
    {
     "name": "stderr",
     "output_type": "stream",
     "text": [
      "WARNING:absl:Found untraced functions such as gru_cell_layer_call_fn, gru_cell_layer_call_and_return_conditional_losses while saving (showing 2 of 2). These functions will not be directly callable after loading.\n"
     ]
    },
    {
     "name": "stdout",
     "output_type": "stream",
     "text": [
      "INFO:tensorflow:Assets written to: best_model\\assets\n"
     ]
    },
    {
     "name": "stderr",
     "output_type": "stream",
     "text": [
      "INFO:tensorflow:Assets written to: best_model\\assets\n",
      "WARNING:absl:<keras.layers.recurrent.GRUCell object at 0x0000015E57CAE088> has the same name 'GRUCell' as a built-in Keras object. Consider renaming <class 'keras.layers.recurrent.GRUCell'> to avoid naming conflicts when loading with `tf.keras.models.load_model`. If renaming is not possible, pass the object in the `custom_objects` parameter of the load function.\n",
      "WARNING:absl:<keras.layers.recurrent.GRUCell object at 0x0000015E57CAEF48> has the same name 'GRUCell' as a built-in Keras object. Consider renaming <class 'keras.layers.recurrent.GRUCell'> to avoid naming conflicts when loading with `tf.keras.models.load_model`. If renaming is not possible, pass the object in the `custom_objects` parameter of the load function.\n"
     ]
    },
    {
     "name": "stdout",
     "output_type": "stream",
     "text": [
      "1098/1098 [==============================] - 13s 11ms/step - loss: 23.4593 - root_mean_squared_error: 4.8435\n",
      "Epoch 176/200\n",
      "1098/1098 [==============================] - 10s 9ms/step - loss: 23.6048 - root_mean_squared_error: 4.8585\n",
      "Epoch 177/200\n",
      "1094/1098 [============================>.] - ETA: 0s - loss: 23.3790 - root_mean_squared_error: 4.8352"
     ]
    },
    {
     "name": "stderr",
     "output_type": "stream",
     "text": [
      "WARNING:absl:Found untraced functions such as gru_cell_layer_call_fn, gru_cell_layer_call_and_return_conditional_losses while saving (showing 2 of 2). These functions will not be directly callable after loading.\n"
     ]
    },
    {
     "name": "stdout",
     "output_type": "stream",
     "text": [
      "INFO:tensorflow:Assets written to: best_model\\assets\n"
     ]
    },
    {
     "name": "stderr",
     "output_type": "stream",
     "text": [
      "INFO:tensorflow:Assets written to: best_model\\assets\n",
      "WARNING:absl:<keras.layers.recurrent.GRUCell object at 0x0000015E57CAE088> has the same name 'GRUCell' as a built-in Keras object. Consider renaming <class 'keras.layers.recurrent.GRUCell'> to avoid naming conflicts when loading with `tf.keras.models.load_model`. If renaming is not possible, pass the object in the `custom_objects` parameter of the load function.\n",
      "WARNING:absl:<keras.layers.recurrent.GRUCell object at 0x0000015E57CAEF48> has the same name 'GRUCell' as a built-in Keras object. Consider renaming <class 'keras.layers.recurrent.GRUCell'> to avoid naming conflicts when loading with `tf.keras.models.load_model`. If renaming is not possible, pass the object in the `custom_objects` parameter of the load function.\n"
     ]
    },
    {
     "name": "stdout",
     "output_type": "stream",
     "text": [
      "1098/1098 [==============================] - 14s 13ms/step - loss: 23.3704 - root_mean_squared_error: 4.8343\n",
      "Epoch 178/200\n",
      "1095/1098 [============================>.] - ETA: 0s - loss: 23.1629 - root_mean_squared_error: 4.8128"
     ]
    },
    {
     "name": "stderr",
     "output_type": "stream",
     "text": [
      "WARNING:absl:Found untraced functions such as gru_cell_layer_call_fn, gru_cell_layer_call_and_return_conditional_losses while saving (showing 2 of 2). These functions will not be directly callable after loading.\n"
     ]
    },
    {
     "name": "stdout",
     "output_type": "stream",
     "text": [
      "INFO:tensorflow:Assets written to: best_model\\assets\n"
     ]
    },
    {
     "name": "stderr",
     "output_type": "stream",
     "text": [
      "INFO:tensorflow:Assets written to: best_model\\assets\n",
      "WARNING:absl:<keras.layers.recurrent.GRUCell object at 0x0000015E57CAE088> has the same name 'GRUCell' as a built-in Keras object. Consider renaming <class 'keras.layers.recurrent.GRUCell'> to avoid naming conflicts when loading with `tf.keras.models.load_model`. If renaming is not possible, pass the object in the `custom_objects` parameter of the load function.\n",
      "WARNING:absl:<keras.layers.recurrent.GRUCell object at 0x0000015E57CAEF48> has the same name 'GRUCell' as a built-in Keras object. Consider renaming <class 'keras.layers.recurrent.GRUCell'> to avoid naming conflicts when loading with `tf.keras.models.load_model`. If renaming is not possible, pass the object in the `custom_objects` parameter of the load function.\n"
     ]
    },
    {
     "name": "stdout",
     "output_type": "stream",
     "text": [
      "1098/1098 [==============================] - 13s 12ms/step - loss: 23.1466 - root_mean_squared_error: 4.8111\n",
      "Epoch 179/200\n",
      "1094/1098 [============================>.] - ETA: 0s - loss: 23.0447 - root_mean_squared_error: 4.8005"
     ]
    },
    {
     "name": "stderr",
     "output_type": "stream",
     "text": [
      "WARNING:absl:Found untraced functions such as gru_cell_layer_call_fn, gru_cell_layer_call_and_return_conditional_losses while saving (showing 2 of 2). These functions will not be directly callable after loading.\n"
     ]
    },
    {
     "name": "stdout",
     "output_type": "stream",
     "text": [
      "INFO:tensorflow:Assets written to: best_model\\assets\n"
     ]
    },
    {
     "name": "stderr",
     "output_type": "stream",
     "text": [
      "INFO:tensorflow:Assets written to: best_model\\assets\n",
      "WARNING:absl:<keras.layers.recurrent.GRUCell object at 0x0000015E57CAE088> has the same name 'GRUCell' as a built-in Keras object. Consider renaming <class 'keras.layers.recurrent.GRUCell'> to avoid naming conflicts when loading with `tf.keras.models.load_model`. If renaming is not possible, pass the object in the `custom_objects` parameter of the load function.\n",
      "WARNING:absl:<keras.layers.recurrent.GRUCell object at 0x0000015E57CAEF48> has the same name 'GRUCell' as a built-in Keras object. Consider renaming <class 'keras.layers.recurrent.GRUCell'> to avoid naming conflicts when loading with `tf.keras.models.load_model`. If renaming is not possible, pass the object in the `custom_objects` parameter of the load function.\n"
     ]
    },
    {
     "name": "stdout",
     "output_type": "stream",
     "text": [
      "1098/1098 [==============================] - 13s 12ms/step - loss: 23.0380 - root_mean_squared_error: 4.7998\n",
      "Epoch 180/200\n",
      "1098/1098 [==============================] - 9s 9ms/step - loss: 23.0558 - root_mean_squared_error: 4.8016\n",
      "Epoch 181/200\n",
      "1097/1098 [============================>.] - ETA: 0s - loss: 22.9878 - root_mean_squared_error: 4.7946"
     ]
    },
    {
     "name": "stderr",
     "output_type": "stream",
     "text": [
      "WARNING:absl:Found untraced functions such as gru_cell_layer_call_fn, gru_cell_layer_call_and_return_conditional_losses while saving (showing 2 of 2). These functions will not be directly callable after loading.\n"
     ]
    },
    {
     "name": "stdout",
     "output_type": "stream",
     "text": [
      "INFO:tensorflow:Assets written to: best_model\\assets\n"
     ]
    },
    {
     "name": "stderr",
     "output_type": "stream",
     "text": [
      "INFO:tensorflow:Assets written to: best_model\\assets\n",
      "WARNING:absl:<keras.layers.recurrent.GRUCell object at 0x0000015E57CAE088> has the same name 'GRUCell' as a built-in Keras object. Consider renaming <class 'keras.layers.recurrent.GRUCell'> to avoid naming conflicts when loading with `tf.keras.models.load_model`. If renaming is not possible, pass the object in the `custom_objects` parameter of the load function.\n",
      "WARNING:absl:<keras.layers.recurrent.GRUCell object at 0x0000015E57CAEF48> has the same name 'GRUCell' as a built-in Keras object. Consider renaming <class 'keras.layers.recurrent.GRUCell'> to avoid naming conflicts when loading with `tf.keras.models.load_model`. If renaming is not possible, pass the object in the `custom_objects` parameter of the load function.\n"
     ]
    },
    {
     "name": "stdout",
     "output_type": "stream",
     "text": [
      "1098/1098 [==============================] - 13s 12ms/step - loss: 22.9875 - root_mean_squared_error: 4.7945\n",
      "Epoch 182/200\n",
      "1098/1098 [==============================] - 9s 8ms/step - loss: 23.2127 - root_mean_squared_error: 4.8180\n",
      "Epoch 183/200\n",
      "1098/1098 [==============================] - ETA: 0s - loss: 22.7038 - root_mean_squared_error: 4.7649"
     ]
    },
    {
     "name": "stderr",
     "output_type": "stream",
     "text": [
      "WARNING:absl:Found untraced functions such as gru_cell_layer_call_fn, gru_cell_layer_call_and_return_conditional_losses while saving (showing 2 of 2). These functions will not be directly callable after loading.\n"
     ]
    },
    {
     "name": "stdout",
     "output_type": "stream",
     "text": [
      "INFO:tensorflow:Assets written to: best_model\\assets\n"
     ]
    },
    {
     "name": "stderr",
     "output_type": "stream",
     "text": [
      "INFO:tensorflow:Assets written to: best_model\\assets\n",
      "WARNING:absl:<keras.layers.recurrent.GRUCell object at 0x0000015E57CAE088> has the same name 'GRUCell' as a built-in Keras object. Consider renaming <class 'keras.layers.recurrent.GRUCell'> to avoid naming conflicts when loading with `tf.keras.models.load_model`. If renaming is not possible, pass the object in the `custom_objects` parameter of the load function.\n",
      "WARNING:absl:<keras.layers.recurrent.GRUCell object at 0x0000015E57CAEF48> has the same name 'GRUCell' as a built-in Keras object. Consider renaming <class 'keras.layers.recurrent.GRUCell'> to avoid naming conflicts when loading with `tf.keras.models.load_model`. If renaming is not possible, pass the object in the `custom_objects` parameter of the load function.\n"
     ]
    },
    {
     "name": "stdout",
     "output_type": "stream",
     "text": [
      "1098/1098 [==============================] - 13s 12ms/step - loss: 22.7038 - root_mean_squared_error: 4.7649\n",
      "Epoch 184/200\n",
      "1098/1098 [==============================] - 10s 9ms/step - loss: 23.0301 - root_mean_squared_error: 4.7990\n",
      "Epoch 185/200\n",
      "1098/1098 [==============================] - 10s 9ms/step - loss: 22.7183 - root_mean_squared_error: 4.7664\n",
      "Epoch 186/200\n",
      "1098/1098 [==============================] - 11s 10ms/step - loss: 22.8605 - root_mean_squared_error: 4.7813\n",
      "Epoch 187/200\n",
      "1098/1098 [==============================] - 10s 9ms/step - loss: 22.9957 - root_mean_squared_error: 4.7954\n",
      "Epoch 188/200\n",
      "1096/1098 [============================>.] - ETA: 0s - loss: 22.3351 - root_mean_squared_error: 4.7260"
     ]
    },
    {
     "name": "stderr",
     "output_type": "stream",
     "text": [
      "WARNING:absl:Found untraced functions such as gru_cell_layer_call_fn, gru_cell_layer_call_and_return_conditional_losses while saving (showing 2 of 2). These functions will not be directly callable after loading.\n"
     ]
    },
    {
     "name": "stdout",
     "output_type": "stream",
     "text": [
      "INFO:tensorflow:Assets written to: best_model\\assets\n"
     ]
    },
    {
     "name": "stderr",
     "output_type": "stream",
     "text": [
      "INFO:tensorflow:Assets written to: best_model\\assets\n",
      "WARNING:absl:<keras.layers.recurrent.GRUCell object at 0x0000015E57CAE088> has the same name 'GRUCell' as a built-in Keras object. Consider renaming <class 'keras.layers.recurrent.GRUCell'> to avoid naming conflicts when loading with `tf.keras.models.load_model`. If renaming is not possible, pass the object in the `custom_objects` parameter of the load function.\n",
      "WARNING:absl:<keras.layers.recurrent.GRUCell object at 0x0000015E57CAEF48> has the same name 'GRUCell' as a built-in Keras object. Consider renaming <class 'keras.layers.recurrent.GRUCell'> to avoid naming conflicts when loading with `tf.keras.models.load_model`. If renaming is not possible, pass the object in the `custom_objects` parameter of the load function.\n"
     ]
    },
    {
     "name": "stdout",
     "output_type": "stream",
     "text": [
      "1098/1098 [==============================] - 14s 13ms/step - loss: 22.3267 - root_mean_squared_error: 4.7251\n",
      "Epoch 189/200\n",
      "1098/1098 [==============================] - 10s 9ms/step - loss: 22.4237 - root_mean_squared_error: 4.7354\n",
      "Epoch 190/200\n",
      "1096/1098 [============================>.] - ETA: 0s - loss: 22.2845 - root_mean_squared_error: 4.7206"
     ]
    },
    {
     "name": "stderr",
     "output_type": "stream",
     "text": [
      "WARNING:absl:Found untraced functions such as gru_cell_layer_call_fn, gru_cell_layer_call_and_return_conditional_losses while saving (showing 2 of 2). These functions will not be directly callable after loading.\n"
     ]
    },
    {
     "name": "stdout",
     "output_type": "stream",
     "text": [
      "INFO:tensorflow:Assets written to: best_model\\assets\n"
     ]
    },
    {
     "name": "stderr",
     "output_type": "stream",
     "text": [
      "INFO:tensorflow:Assets written to: best_model\\assets\n",
      "WARNING:absl:<keras.layers.recurrent.GRUCell object at 0x0000015E57CAE088> has the same name 'GRUCell' as a built-in Keras object. Consider renaming <class 'keras.layers.recurrent.GRUCell'> to avoid naming conflicts when loading with `tf.keras.models.load_model`. If renaming is not possible, pass the object in the `custom_objects` parameter of the load function.\n",
      "WARNING:absl:<keras.layers.recurrent.GRUCell object at 0x0000015E57CAEF48> has the same name 'GRUCell' as a built-in Keras object. Consider renaming <class 'keras.layers.recurrent.GRUCell'> to avoid naming conflicts when loading with `tf.keras.models.load_model`. If renaming is not possible, pass the object in the `custom_objects` parameter of the load function.\n"
     ]
    },
    {
     "name": "stdout",
     "output_type": "stream",
     "text": [
      "1098/1098 [==============================] - 13s 12ms/step - loss: 22.2878 - root_mean_squared_error: 4.7210\n",
      "Epoch 191/200\n",
      "1097/1098 [============================>.] - ETA: 0s - loss: 22.1279 - root_mean_squared_error: 4.7040"
     ]
    },
    {
     "name": "stderr",
     "output_type": "stream",
     "text": [
      "WARNING:absl:Found untraced functions such as gru_cell_layer_call_fn, gru_cell_layer_call_and_return_conditional_losses while saving (showing 2 of 2). These functions will not be directly callable after loading.\n"
     ]
    },
    {
     "name": "stdout",
     "output_type": "stream",
     "text": [
      "INFO:tensorflow:Assets written to: best_model\\assets\n"
     ]
    },
    {
     "name": "stderr",
     "output_type": "stream",
     "text": [
      "INFO:tensorflow:Assets written to: best_model\\assets\n",
      "WARNING:absl:<keras.layers.recurrent.GRUCell object at 0x0000015E57CAE088> has the same name 'GRUCell' as a built-in Keras object. Consider renaming <class 'keras.layers.recurrent.GRUCell'> to avoid naming conflicts when loading with `tf.keras.models.load_model`. If renaming is not possible, pass the object in the `custom_objects` parameter of the load function.\n",
      "WARNING:absl:<keras.layers.recurrent.GRUCell object at 0x0000015E57CAEF48> has the same name 'GRUCell' as a built-in Keras object. Consider renaming <class 'keras.layers.recurrent.GRUCell'> to avoid naming conflicts when loading with `tf.keras.models.load_model`. If renaming is not possible, pass the object in the `custom_objects` parameter of the load function.\n"
     ]
    },
    {
     "name": "stdout",
     "output_type": "stream",
     "text": [
      "1098/1098 [==============================] - 13s 12ms/step - loss: 22.1280 - root_mean_squared_error: 4.7040\n",
      "Epoch 192/200\n",
      "1098/1098 [==============================] - 9s 9ms/step - loss: 22.1321 - root_mean_squared_error: 4.7045\n",
      "Epoch 193/200\n",
      "1096/1098 [============================>.] - ETA: 0s - loss: 21.9305 - root_mean_squared_error: 4.6830"
     ]
    },
    {
     "name": "stderr",
     "output_type": "stream",
     "text": [
      "WARNING:absl:Found untraced functions such as gru_cell_layer_call_fn, gru_cell_layer_call_and_return_conditional_losses while saving (showing 2 of 2). These functions will not be directly callable after loading.\n"
     ]
    },
    {
     "name": "stdout",
     "output_type": "stream",
     "text": [
      "INFO:tensorflow:Assets written to: best_model\\assets\n"
     ]
    },
    {
     "name": "stderr",
     "output_type": "stream",
     "text": [
      "INFO:tensorflow:Assets written to: best_model\\assets\n",
      "WARNING:absl:<keras.layers.recurrent.GRUCell object at 0x0000015E57CAE088> has the same name 'GRUCell' as a built-in Keras object. Consider renaming <class 'keras.layers.recurrent.GRUCell'> to avoid naming conflicts when loading with `tf.keras.models.load_model`. If renaming is not possible, pass the object in the `custom_objects` parameter of the load function.\n",
      "WARNING:absl:<keras.layers.recurrent.GRUCell object at 0x0000015E57CAEF48> has the same name 'GRUCell' as a built-in Keras object. Consider renaming <class 'keras.layers.recurrent.GRUCell'> to avoid naming conflicts when loading with `tf.keras.models.load_model`. If renaming is not possible, pass the object in the `custom_objects` parameter of the load function.\n"
     ]
    },
    {
     "name": "stdout",
     "output_type": "stream",
     "text": [
      "1098/1098 [==============================] - 13s 12ms/step - loss: 21.9247 - root_mean_squared_error: 4.6824\n",
      "Epoch 194/200\n",
      "1098/1098 [==============================] - 10s 9ms/step - loss: 22.1408 - root_mean_squared_error: 4.7054\n",
      "Epoch 195/200\n",
      "1097/1098 [============================>.] - ETA: 0s - loss: 21.4522 - root_mean_squared_error: 4.6317"
     ]
    },
    {
     "name": "stderr",
     "output_type": "stream",
     "text": [
      "WARNING:absl:Found untraced functions such as gru_cell_layer_call_fn, gru_cell_layer_call_and_return_conditional_losses while saving (showing 2 of 2). These functions will not be directly callable after loading.\n"
     ]
    },
    {
     "name": "stdout",
     "output_type": "stream",
     "text": [
      "INFO:tensorflow:Assets written to: best_model\\assets\n"
     ]
    },
    {
     "name": "stderr",
     "output_type": "stream",
     "text": [
      "INFO:tensorflow:Assets written to: best_model\\assets\n",
      "WARNING:absl:<keras.layers.recurrent.GRUCell object at 0x0000015E57CAE088> has the same name 'GRUCell' as a built-in Keras object. Consider renaming <class 'keras.layers.recurrent.GRUCell'> to avoid naming conflicts when loading with `tf.keras.models.load_model`. If renaming is not possible, pass the object in the `custom_objects` parameter of the load function.\n",
      "WARNING:absl:<keras.layers.recurrent.GRUCell object at 0x0000015E57CAEF48> has the same name 'GRUCell' as a built-in Keras object. Consider renaming <class 'keras.layers.recurrent.GRUCell'> to avoid naming conflicts when loading with `tf.keras.models.load_model`. If renaming is not possible, pass the object in the `custom_objects` parameter of the load function.\n"
     ]
    },
    {
     "name": "stdout",
     "output_type": "stream",
     "text": [
      "1098/1098 [==============================] - 14s 13ms/step - loss: 21.4660 - root_mean_squared_error: 4.6331\n",
      "Epoch 196/200\n",
      "1098/1098 [==============================] - 10s 9ms/step - loss: 22.1882 - root_mean_squared_error: 4.7104\n",
      "Epoch 197/200\n",
      "1098/1098 [==============================] - 10s 9ms/step - loss: 21.5340 - root_mean_squared_error: 4.6405\n",
      "Epoch 198/200\n",
      "1098/1098 [==============================] - 10s 9ms/step - loss: 21.9295 - root_mean_squared_error: 4.6829\n",
      "Epoch 199/200\n",
      "1098/1098 [==============================] - 10s 9ms/step - loss: 21.9848 - root_mean_squared_error: 4.6888\n",
      "Epoch 200/200\n",
      "1098/1098 [==============================] - 10s 9ms/step - loss: 21.5822 - root_mean_squared_error: 4.6457\n",
      "275/275 [==============================] - 1s 3ms/step - loss: 22.8646 - root_mean_squared_error: 4.7817\n",
      "Epoch 1/200\n",
      "1098/1098 [==============================] - 10s 9ms/step - loss: 23.1666 - root_mean_squared_error: 4.8132\n",
      "Epoch 2/200\n",
      "1098/1098 [==============================] - 10s 9ms/step - loss: 22.7335 - root_mean_squared_error: 4.7680\n",
      "Epoch 3/200\n",
      "1098/1098 [==============================] - 10s 9ms/step - loss: 22.9947 - root_mean_squared_error: 4.7953\n",
      "Epoch 4/200\n",
      "1098/1098 [==============================] - 10s 9ms/step - loss: 23.1063 - root_mean_squared_error: 4.8069\n",
      "Epoch 5/200\n",
      "1098/1098 [==============================] - 10s 9ms/step - loss: 22.4980 - root_mean_squared_error: 4.7432\n",
      "Epoch 6/200\n",
      "1098/1098 [==============================] - 10s 9ms/step - loss: 22.4269 - root_mean_squared_error: 4.7357\n",
      "Epoch 7/200\n",
      "1098/1098 [==============================] - 10s 9ms/step - loss: 22.5155 - root_mean_squared_error: 4.7451\n",
      "Epoch 8/200\n",
      "1098/1098 [==============================] - 10s 9ms/step - loss: 22.3421 - root_mean_squared_error: 4.7267\n",
      "Epoch 9/200\n",
      "1098/1098 [==============================] - 10s 9ms/step - loss: 22.3074 - root_mean_squared_error: 4.7231\n",
      "Epoch 10/200\n",
      "1098/1098 [==============================] - 10s 9ms/step - loss: 22.1552 - root_mean_squared_error: 4.7069\n",
      "Epoch 11/200\n",
      "1098/1098 [==============================] - 10s 9ms/step - loss: 22.0655 - root_mean_squared_error: 4.6974\n",
      "Epoch 12/200\n",
      "1098/1098 [==============================] - 10s 9ms/step - loss: 21.9222 - root_mean_squared_error: 4.6821\n",
      "Epoch 13/200\n",
      "1098/1098 [==============================] - 10s 9ms/step - loss: 22.1087 - root_mean_squared_error: 4.7020\n",
      "Epoch 14/200\n",
      "1098/1098 [==============================] - 10s 9ms/step - loss: 21.7298 - root_mean_squared_error: 4.6615\n",
      "Epoch 15/200\n",
      "1098/1098 [==============================] - 10s 9ms/step - loss: 21.5994 - root_mean_squared_error: 4.6475\n",
      "Epoch 16/200\n",
      "1095/1098 [============================>.] - ETA: 0s - loss: 21.4137 - root_mean_squared_error: 4.6275"
     ]
    },
    {
     "name": "stderr",
     "output_type": "stream",
     "text": [
      "WARNING:absl:Found untraced functions such as gru_cell_layer_call_fn, gru_cell_layer_call_and_return_conditional_losses while saving (showing 2 of 2). These functions will not be directly callable after loading.\n"
     ]
    },
    {
     "name": "stdout",
     "output_type": "stream",
     "text": [
      "INFO:tensorflow:Assets written to: best_model\\assets\n"
     ]
    },
    {
     "name": "stderr",
     "output_type": "stream",
     "text": [
      "INFO:tensorflow:Assets written to: best_model\\assets\n",
      "WARNING:absl:<keras.layers.recurrent.GRUCell object at 0x0000015E57CAE088> has the same name 'GRUCell' as a built-in Keras object. Consider renaming <class 'keras.layers.recurrent.GRUCell'> to avoid naming conflicts when loading with `tf.keras.models.load_model`. If renaming is not possible, pass the object in the `custom_objects` parameter of the load function.\n",
      "WARNING:absl:<keras.layers.recurrent.GRUCell object at 0x0000015E57CAEF48> has the same name 'GRUCell' as a built-in Keras object. Consider renaming <class 'keras.layers.recurrent.GRUCell'> to avoid naming conflicts when loading with `tf.keras.models.load_model`. If renaming is not possible, pass the object in the `custom_objects` parameter of the load function.\n"
     ]
    },
    {
     "name": "stdout",
     "output_type": "stream",
     "text": [
      "1098/1098 [==============================] - 13s 12ms/step - loss: 21.4078 - root_mean_squared_error: 4.6269\n",
      "Epoch 17/200\n",
      "1098/1098 [==============================] - 10s 9ms/step - loss: 21.9732 - root_mean_squared_error: 4.6876\n",
      "Epoch 18/200\n",
      "1098/1098 [==============================] - 10s 9ms/step - loss: 21.4996 - root_mean_squared_error: 4.6368\n",
      "Epoch 19/200\n",
      "1098/1098 [==============================] - 10s 9ms/step - loss: 21.6388 - root_mean_squared_error: 4.6518\n",
      "Epoch 20/200\n",
      "1098/1098 [==============================] - 10s 9ms/step - loss: 21.5818 - root_mean_squared_error: 4.6456\n",
      "Epoch 21/200\n",
      "1098/1098 [==============================] - 10s 9ms/step - loss: 21.4216 - root_mean_squared_error: 4.6283\n",
      "Epoch 22/200\n",
      "1095/1098 [============================>.] - ETA: 0s - loss: 21.2330 - root_mean_squared_error: 4.6079"
     ]
    },
    {
     "name": "stderr",
     "output_type": "stream",
     "text": [
      "WARNING:absl:Found untraced functions such as gru_cell_layer_call_fn, gru_cell_layer_call_and_return_conditional_losses while saving (showing 2 of 2). These functions will not be directly callable after loading.\n"
     ]
    },
    {
     "name": "stdout",
     "output_type": "stream",
     "text": [
      "INFO:tensorflow:Assets written to: best_model\\assets\n"
     ]
    },
    {
     "name": "stderr",
     "output_type": "stream",
     "text": [
      "INFO:tensorflow:Assets written to: best_model\\assets\n",
      "WARNING:absl:<keras.layers.recurrent.GRUCell object at 0x0000015E57CAE088> has the same name 'GRUCell' as a built-in Keras object. Consider renaming <class 'keras.layers.recurrent.GRUCell'> to avoid naming conflicts when loading with `tf.keras.models.load_model`. If renaming is not possible, pass the object in the `custom_objects` parameter of the load function.\n",
      "WARNING:absl:<keras.layers.recurrent.GRUCell object at 0x0000015E57CAEF48> has the same name 'GRUCell' as a built-in Keras object. Consider renaming <class 'keras.layers.recurrent.GRUCell'> to avoid naming conflicts when loading with `tf.keras.models.load_model`. If renaming is not possible, pass the object in the `custom_objects` parameter of the load function.\n"
     ]
    },
    {
     "name": "stdout",
     "output_type": "stream",
     "text": [
      "1098/1098 [==============================] - 13s 12ms/step - loss: 21.2157 - root_mean_squared_error: 4.6061\n",
      "Epoch 23/200\n",
      "1093/1098 [============================>.] - ETA: 0s - loss: 21.1294 - root_mean_squared_error: 4.5967"
     ]
    },
    {
     "name": "stderr",
     "output_type": "stream",
     "text": [
      "WARNING:absl:Found untraced functions such as gru_cell_layer_call_fn, gru_cell_layer_call_and_return_conditional_losses while saving (showing 2 of 2). These functions will not be directly callable after loading.\n"
     ]
    },
    {
     "name": "stdout",
     "output_type": "stream",
     "text": [
      "INFO:tensorflow:Assets written to: best_model\\assets\n"
     ]
    },
    {
     "name": "stderr",
     "output_type": "stream",
     "text": [
      "INFO:tensorflow:Assets written to: best_model\\assets\n",
      "WARNING:absl:<keras.layers.recurrent.GRUCell object at 0x0000015E57CAE088> has the same name 'GRUCell' as a built-in Keras object. Consider renaming <class 'keras.layers.recurrent.GRUCell'> to avoid naming conflicts when loading with `tf.keras.models.load_model`. If renaming is not possible, pass the object in the `custom_objects` parameter of the load function.\n",
      "WARNING:absl:<keras.layers.recurrent.GRUCell object at 0x0000015E57CAEF48> has the same name 'GRUCell' as a built-in Keras object. Consider renaming <class 'keras.layers.recurrent.GRUCell'> to avoid naming conflicts when loading with `tf.keras.models.load_model`. If renaming is not possible, pass the object in the `custom_objects` parameter of the load function.\n"
     ]
    },
    {
     "name": "stdout",
     "output_type": "stream",
     "text": [
      "1098/1098 [==============================] - 13s 12ms/step - loss: 21.1292 - root_mean_squared_error: 4.5966\n",
      "Epoch 24/200\n",
      "1094/1098 [============================>.] - ETA: 0s - loss: 21.0054 - root_mean_squared_error: 4.5832"
     ]
    },
    {
     "name": "stderr",
     "output_type": "stream",
     "text": [
      "WARNING:absl:Found untraced functions such as gru_cell_layer_call_fn, gru_cell_layer_call_and_return_conditional_losses while saving (showing 2 of 2). These functions will not be directly callable after loading.\n"
     ]
    },
    {
     "name": "stdout",
     "output_type": "stream",
     "text": [
      "INFO:tensorflow:Assets written to: best_model\\assets\n"
     ]
    },
    {
     "name": "stderr",
     "output_type": "stream",
     "text": [
      "INFO:tensorflow:Assets written to: best_model\\assets\n",
      "WARNING:absl:<keras.layers.recurrent.GRUCell object at 0x0000015E57CAE088> has the same name 'GRUCell' as a built-in Keras object. Consider renaming <class 'keras.layers.recurrent.GRUCell'> to avoid naming conflicts when loading with `tf.keras.models.load_model`. If renaming is not possible, pass the object in the `custom_objects` parameter of the load function.\n",
      "WARNING:absl:<keras.layers.recurrent.GRUCell object at 0x0000015E57CAEF48> has the same name 'GRUCell' as a built-in Keras object. Consider renaming <class 'keras.layers.recurrent.GRUCell'> to avoid naming conflicts when loading with `tf.keras.models.load_model`. If renaming is not possible, pass the object in the `custom_objects` parameter of the load function.\n"
     ]
    },
    {
     "name": "stdout",
     "output_type": "stream",
     "text": [
      "1098/1098 [==============================] - 13s 12ms/step - loss: 20.9773 - root_mean_squared_error: 4.5801\n",
      "Epoch 25/200\n",
      "1098/1098 [==============================] - 9s 9ms/step - loss: 20.9879 - root_mean_squared_error: 4.5813\n",
      "Epoch 26/200\n",
      "1098/1098 [==============================] - 10s 9ms/step - loss: 21.1121 - root_mean_squared_error: 4.5948\n",
      "Epoch 27/200\n",
      "1097/1098 [============================>.] - ETA: 0s - loss: 20.9305 - root_mean_squared_error: 4.5750"
     ]
    },
    {
     "name": "stderr",
     "output_type": "stream",
     "text": [
      "WARNING:absl:Found untraced functions such as gru_cell_layer_call_fn, gru_cell_layer_call_and_return_conditional_losses while saving (showing 2 of 2). These functions will not be directly callable after loading.\n"
     ]
    },
    {
     "name": "stdout",
     "output_type": "stream",
     "text": [
      "INFO:tensorflow:Assets written to: best_model\\assets\n"
     ]
    },
    {
     "name": "stderr",
     "output_type": "stream",
     "text": [
      "INFO:tensorflow:Assets written to: best_model\\assets\n",
      "WARNING:absl:<keras.layers.recurrent.GRUCell object at 0x0000015E57CAE088> has the same name 'GRUCell' as a built-in Keras object. Consider renaming <class 'keras.layers.recurrent.GRUCell'> to avoid naming conflicts when loading with `tf.keras.models.load_model`. If renaming is not possible, pass the object in the `custom_objects` parameter of the load function.\n",
      "WARNING:absl:<keras.layers.recurrent.GRUCell object at 0x0000015E57CAEF48> has the same name 'GRUCell' as a built-in Keras object. Consider renaming <class 'keras.layers.recurrent.GRUCell'> to avoid naming conflicts when loading with `tf.keras.models.load_model`. If renaming is not possible, pass the object in the `custom_objects` parameter of the load function.\n"
     ]
    },
    {
     "name": "stdout",
     "output_type": "stream",
     "text": [
      "1098/1098 [==============================] - 13s 12ms/step - loss: 20.9289 - root_mean_squared_error: 4.5748\n",
      "Epoch 28/200\n",
      "1098/1098 [==============================] - 10s 9ms/step - loss: 20.9852 - root_mean_squared_error: 4.5810\n",
      "Epoch 29/200\n",
      "1098/1098 [==============================] - 10s 9ms/step - loss: 20.9454 - root_mean_squared_error: 4.5766\n",
      "Epoch 30/200\n",
      "1098/1098 [==============================] - 10s 9ms/step - loss: 20.9469 - root_mean_squared_error: 4.5768\n",
      "Epoch 31/200\n",
      "1094/1098 [============================>.] - ETA: 0s - loss: 20.7379 - root_mean_squared_error: 4.5539"
     ]
    },
    {
     "name": "stderr",
     "output_type": "stream",
     "text": [
      "WARNING:absl:Found untraced functions such as gru_cell_layer_call_fn, gru_cell_layer_call_and_return_conditional_losses while saving (showing 2 of 2). These functions will not be directly callable after loading.\n"
     ]
    },
    {
     "name": "stdout",
     "output_type": "stream",
     "text": [
      "INFO:tensorflow:Assets written to: best_model\\assets\n"
     ]
    },
    {
     "name": "stderr",
     "output_type": "stream",
     "text": [
      "INFO:tensorflow:Assets written to: best_model\\assets\n",
      "WARNING:absl:<keras.layers.recurrent.GRUCell object at 0x0000015E57CAE088> has the same name 'GRUCell' as a built-in Keras object. Consider renaming <class 'keras.layers.recurrent.GRUCell'> to avoid naming conflicts when loading with `tf.keras.models.load_model`. If renaming is not possible, pass the object in the `custom_objects` parameter of the load function.\n",
      "WARNING:absl:<keras.layers.recurrent.GRUCell object at 0x0000015E57CAEF48> has the same name 'GRUCell' as a built-in Keras object. Consider renaming <class 'keras.layers.recurrent.GRUCell'> to avoid naming conflicts when loading with `tf.keras.models.load_model`. If renaming is not possible, pass the object in the `custom_objects` parameter of the load function.\n"
     ]
    },
    {
     "name": "stdout",
     "output_type": "stream",
     "text": [
      "1098/1098 [==============================] - 14s 13ms/step - loss: 20.7535 - root_mean_squared_error: 4.5556\n",
      "Epoch 32/200\n",
      "1098/1098 [==============================] - 10s 9ms/step - loss: 20.9779 - root_mean_squared_error: 4.5802\n",
      "Epoch 33/200\n",
      "1095/1098 [============================>.] - ETA: 0s - loss: 20.6707 - root_mean_squared_error: 4.5465"
     ]
    },
    {
     "name": "stderr",
     "output_type": "stream",
     "text": [
      "WARNING:absl:Found untraced functions such as gru_cell_layer_call_fn, gru_cell_layer_call_and_return_conditional_losses while saving (showing 2 of 2). These functions will not be directly callable after loading.\n"
     ]
    },
    {
     "name": "stdout",
     "output_type": "stream",
     "text": [
      "INFO:tensorflow:Assets written to: best_model\\assets\n"
     ]
    },
    {
     "name": "stderr",
     "output_type": "stream",
     "text": [
      "INFO:tensorflow:Assets written to: best_model\\assets\n",
      "WARNING:absl:<keras.layers.recurrent.GRUCell object at 0x0000015E57CAE088> has the same name 'GRUCell' as a built-in Keras object. Consider renaming <class 'keras.layers.recurrent.GRUCell'> to avoid naming conflicts when loading with `tf.keras.models.load_model`. If renaming is not possible, pass the object in the `custom_objects` parameter of the load function.\n",
      "WARNING:absl:<keras.layers.recurrent.GRUCell object at 0x0000015E57CAEF48> has the same name 'GRUCell' as a built-in Keras object. Consider renaming <class 'keras.layers.recurrent.GRUCell'> to avoid naming conflicts when loading with `tf.keras.models.load_model`. If renaming is not possible, pass the object in the `custom_objects` parameter of the load function.\n"
     ]
    },
    {
     "name": "stdout",
     "output_type": "stream",
     "text": [
      "1098/1098 [==============================] - 13s 12ms/step - loss: 20.6619 - root_mean_squared_error: 4.5455\n",
      "Epoch 34/200\n",
      "1093/1098 [============================>.] - ETA: 0s - loss: 20.6623 - root_mean_squared_error: 4.5456"
     ]
    },
    {
     "name": "stderr",
     "output_type": "stream",
     "text": [
      "WARNING:absl:Found untraced functions such as gru_cell_layer_call_fn, gru_cell_layer_call_and_return_conditional_losses while saving (showing 2 of 2). These functions will not be directly callable after loading.\n"
     ]
    },
    {
     "name": "stdout",
     "output_type": "stream",
     "text": [
      "INFO:tensorflow:Assets written to: best_model\\assets\n"
     ]
    },
    {
     "name": "stderr",
     "output_type": "stream",
     "text": [
      "INFO:tensorflow:Assets written to: best_model\\assets\n",
      "WARNING:absl:<keras.layers.recurrent.GRUCell object at 0x0000015E57CAE088> has the same name 'GRUCell' as a built-in Keras object. Consider renaming <class 'keras.layers.recurrent.GRUCell'> to avoid naming conflicts when loading with `tf.keras.models.load_model`. If renaming is not possible, pass the object in the `custom_objects` parameter of the load function.\n",
      "WARNING:absl:<keras.layers.recurrent.GRUCell object at 0x0000015E57CAEF48> has the same name 'GRUCell' as a built-in Keras object. Consider renaming <class 'keras.layers.recurrent.GRUCell'> to avoid naming conflicts when loading with `tf.keras.models.load_model`. If renaming is not possible, pass the object in the `custom_objects` parameter of the load function.\n"
     ]
    },
    {
     "name": "stdout",
     "output_type": "stream",
     "text": [
      "1098/1098 [==============================] - 13s 12ms/step - loss: 20.6230 - root_mean_squared_error: 4.5413\n",
      "Epoch 35/200\n",
      "1097/1098 [============================>.] - ETA: 0s - loss: 20.4189 - root_mean_squared_error: 4.5187"
     ]
    },
    {
     "name": "stderr",
     "output_type": "stream",
     "text": [
      "WARNING:absl:Found untraced functions such as gru_cell_layer_call_fn, gru_cell_layer_call_and_return_conditional_losses while saving (showing 2 of 2). These functions will not be directly callable after loading.\n"
     ]
    },
    {
     "name": "stdout",
     "output_type": "stream",
     "text": [
      "INFO:tensorflow:Assets written to: best_model\\assets\n"
     ]
    },
    {
     "name": "stderr",
     "output_type": "stream",
     "text": [
      "INFO:tensorflow:Assets written to: best_model\\assets\n",
      "WARNING:absl:<keras.layers.recurrent.GRUCell object at 0x0000015E57CAE088> has the same name 'GRUCell' as a built-in Keras object. Consider renaming <class 'keras.layers.recurrent.GRUCell'> to avoid naming conflicts when loading with `tf.keras.models.load_model`. If renaming is not possible, pass the object in the `custom_objects` parameter of the load function.\n",
      "WARNING:absl:<keras.layers.recurrent.GRUCell object at 0x0000015E57CAEF48> has the same name 'GRUCell' as a built-in Keras object. Consider renaming <class 'keras.layers.recurrent.GRUCell'> to avoid naming conflicts when loading with `tf.keras.models.load_model`. If renaming is not possible, pass the object in the `custom_objects` parameter of the load function.\n"
     ]
    },
    {
     "name": "stdout",
     "output_type": "stream",
     "text": [
      "1098/1098 [==============================] - 12s 11ms/step - loss: 20.4128 - root_mean_squared_error: 4.5181\n",
      "Epoch 36/200\n",
      "1094/1098 [============================>.] - ETA: 0s - loss: 20.3279 - root_mean_squared_error: 4.5087"
     ]
    },
    {
     "name": "stderr",
     "output_type": "stream",
     "text": [
      "WARNING:absl:Found untraced functions such as gru_cell_layer_call_fn, gru_cell_layer_call_and_return_conditional_losses while saving (showing 2 of 2). These functions will not be directly callable after loading.\n"
     ]
    },
    {
     "name": "stdout",
     "output_type": "stream",
     "text": [
      "INFO:tensorflow:Assets written to: best_model\\assets\n"
     ]
    },
    {
     "name": "stderr",
     "output_type": "stream",
     "text": [
      "INFO:tensorflow:Assets written to: best_model\\assets\n",
      "WARNING:absl:<keras.layers.recurrent.GRUCell object at 0x0000015E57CAE088> has the same name 'GRUCell' as a built-in Keras object. Consider renaming <class 'keras.layers.recurrent.GRUCell'> to avoid naming conflicts when loading with `tf.keras.models.load_model`. If renaming is not possible, pass the object in the `custom_objects` parameter of the load function.\n",
      "WARNING:absl:<keras.layers.recurrent.GRUCell object at 0x0000015E57CAEF48> has the same name 'GRUCell' as a built-in Keras object. Consider renaming <class 'keras.layers.recurrent.GRUCell'> to avoid naming conflicts when loading with `tf.keras.models.load_model`. If renaming is not possible, pass the object in the `custom_objects` parameter of the load function.\n"
     ]
    },
    {
     "name": "stdout",
     "output_type": "stream",
     "text": [
      "1098/1098 [==============================] - 13s 12ms/step - loss: 20.2991 - root_mean_squared_error: 4.5054\n",
      "Epoch 37/200\n",
      "1098/1098 [==============================] - 10s 9ms/step - loss: 20.4551 - root_mean_squared_error: 4.5227\n",
      "Epoch 38/200\n",
      "1098/1098 [==============================] - 10s 9ms/step - loss: 20.5834 - root_mean_squared_error: 4.5369\n",
      "Epoch 39/200\n",
      "1093/1098 [============================>.] - ETA: 0s - loss: 20.1196 - root_mean_squared_error: 4.4855"
     ]
    },
    {
     "name": "stderr",
     "output_type": "stream",
     "text": [
      "WARNING:absl:Found untraced functions such as gru_cell_layer_call_fn, gru_cell_layer_call_and_return_conditional_losses while saving (showing 2 of 2). These functions will not be directly callable after loading.\n"
     ]
    },
    {
     "name": "stdout",
     "output_type": "stream",
     "text": [
      "INFO:tensorflow:Assets written to: best_model\\assets\n"
     ]
    },
    {
     "name": "stderr",
     "output_type": "stream",
     "text": [
      "INFO:tensorflow:Assets written to: best_model\\assets\n",
      "WARNING:absl:<keras.layers.recurrent.GRUCell object at 0x0000015E57CAE088> has the same name 'GRUCell' as a built-in Keras object. Consider renaming <class 'keras.layers.recurrent.GRUCell'> to avoid naming conflicts when loading with `tf.keras.models.load_model`. If renaming is not possible, pass the object in the `custom_objects` parameter of the load function.\n",
      "WARNING:absl:<keras.layers.recurrent.GRUCell object at 0x0000015E57CAEF48> has the same name 'GRUCell' as a built-in Keras object. Consider renaming <class 'keras.layers.recurrent.GRUCell'> to avoid naming conflicts when loading with `tf.keras.models.load_model`. If renaming is not possible, pass the object in the `custom_objects` parameter of the load function.\n"
     ]
    },
    {
     "name": "stdout",
     "output_type": "stream",
     "text": [
      "1098/1098 [==============================] - 14s 13ms/step - loss: 20.0783 - root_mean_squared_error: 4.4809\n",
      "Epoch 40/200\n",
      "1098/1098 [==============================] - 10s 9ms/step - loss: 20.2190 - root_mean_squared_error: 4.4966\n",
      "Epoch 41/200\n",
      "1097/1098 [============================>.] - ETA: 0s - loss: 19.9453 - root_mean_squared_error: 4.4660"
     ]
    },
    {
     "name": "stderr",
     "output_type": "stream",
     "text": [
      "WARNING:absl:Found untraced functions such as gru_cell_layer_call_fn, gru_cell_layer_call_and_return_conditional_losses while saving (showing 2 of 2). These functions will not be directly callable after loading.\n"
     ]
    },
    {
     "name": "stdout",
     "output_type": "stream",
     "text": [
      "INFO:tensorflow:Assets written to: best_model\\assets\n"
     ]
    },
    {
     "name": "stderr",
     "output_type": "stream",
     "text": [
      "INFO:tensorflow:Assets written to: best_model\\assets\n",
      "WARNING:absl:<keras.layers.recurrent.GRUCell object at 0x0000015E57CAE088> has the same name 'GRUCell' as a built-in Keras object. Consider renaming <class 'keras.layers.recurrent.GRUCell'> to avoid naming conflicts when loading with `tf.keras.models.load_model`. If renaming is not possible, pass the object in the `custom_objects` parameter of the load function.\n",
      "WARNING:absl:<keras.layers.recurrent.GRUCell object at 0x0000015E57CAEF48> has the same name 'GRUCell' as a built-in Keras object. Consider renaming <class 'keras.layers.recurrent.GRUCell'> to avoid naming conflicts when loading with `tf.keras.models.load_model`. If renaming is not possible, pass the object in the `custom_objects` parameter of the load function.\n"
     ]
    },
    {
     "name": "stdout",
     "output_type": "stream",
     "text": [
      "1098/1098 [==============================] - 13s 12ms/step - loss: 19.9420 - root_mean_squared_error: 4.4656\n",
      "Epoch 42/200\n",
      "1098/1098 [==============================] - 9s 8ms/step - loss: 19.9992 - root_mean_squared_error: 4.4721\n",
      "Epoch 43/200\n",
      "1098/1098 [==============================] - 9s 9ms/step - loss: 20.0560 - root_mean_squared_error: 4.4784\n",
      "Epoch 44/200\n",
      "1092/1098 [============================>.] - ETA: 0s - loss: 19.8126 - root_mean_squared_error: 4.4511"
     ]
    },
    {
     "name": "stderr",
     "output_type": "stream",
     "text": [
      "WARNING:absl:Found untraced functions such as gru_cell_layer_call_fn, gru_cell_layer_call_and_return_conditional_losses while saving (showing 2 of 2). These functions will not be directly callable after loading.\n"
     ]
    },
    {
     "name": "stdout",
     "output_type": "stream",
     "text": [
      "INFO:tensorflow:Assets written to: best_model\\assets\n"
     ]
    },
    {
     "name": "stderr",
     "output_type": "stream",
     "text": [
      "INFO:tensorflow:Assets written to: best_model\\assets\n",
      "WARNING:absl:<keras.layers.recurrent.GRUCell object at 0x0000015E57CAE088> has the same name 'GRUCell' as a built-in Keras object. Consider renaming <class 'keras.layers.recurrent.GRUCell'> to avoid naming conflicts when loading with `tf.keras.models.load_model`. If renaming is not possible, pass the object in the `custom_objects` parameter of the load function.\n",
      "WARNING:absl:<keras.layers.recurrent.GRUCell object at 0x0000015E57CAEF48> has the same name 'GRUCell' as a built-in Keras object. Consider renaming <class 'keras.layers.recurrent.GRUCell'> to avoid naming conflicts when loading with `tf.keras.models.load_model`. If renaming is not possible, pass the object in the `custom_objects` parameter of the load function.\n"
     ]
    },
    {
     "name": "stdout",
     "output_type": "stream",
     "text": [
      "1098/1098 [==============================] - 13s 12ms/step - loss: 19.8044 - root_mean_squared_error: 4.4502\n",
      "Epoch 45/200\n",
      "1098/1098 [==============================] - 10s 9ms/step - loss: 19.8840 - root_mean_squared_error: 4.4592\n",
      "Epoch 46/200\n",
      "1098/1098 [==============================] - 10s 9ms/step - loss: 19.8959 - root_mean_squared_error: 4.4605\n",
      "Epoch 47/200\n",
      "1098/1098 [==============================] - ETA: 0s - loss: 19.6636 - root_mean_squared_error: 4.4344"
     ]
    },
    {
     "name": "stderr",
     "output_type": "stream",
     "text": [
      "WARNING:absl:Found untraced functions such as gru_cell_layer_call_fn, gru_cell_layer_call_and_return_conditional_losses while saving (showing 2 of 2). These functions will not be directly callable after loading.\n"
     ]
    },
    {
     "name": "stdout",
     "output_type": "stream",
     "text": [
      "INFO:tensorflow:Assets written to: best_model\\assets\n"
     ]
    },
    {
     "name": "stderr",
     "output_type": "stream",
     "text": [
      "INFO:tensorflow:Assets written to: best_model\\assets\n",
      "WARNING:absl:<keras.layers.recurrent.GRUCell object at 0x0000015E57CAE088> has the same name 'GRUCell' as a built-in Keras object. Consider renaming <class 'keras.layers.recurrent.GRUCell'> to avoid naming conflicts when loading with `tf.keras.models.load_model`. If renaming is not possible, pass the object in the `custom_objects` parameter of the load function.\n",
      "WARNING:absl:<keras.layers.recurrent.GRUCell object at 0x0000015E57CAEF48> has the same name 'GRUCell' as a built-in Keras object. Consider renaming <class 'keras.layers.recurrent.GRUCell'> to avoid naming conflicts when loading with `tf.keras.models.load_model`. If renaming is not possible, pass the object in the `custom_objects` parameter of the load function.\n"
     ]
    },
    {
     "name": "stdout",
     "output_type": "stream",
     "text": [
      "1098/1098 [==============================] - 14s 13ms/step - loss: 19.6636 - root_mean_squared_error: 4.4344\n",
      "Epoch 48/200\n",
      "1096/1098 [============================>.] - ETA: 0s - loss: 19.6442 - root_mean_squared_error: 4.4322"
     ]
    },
    {
     "name": "stderr",
     "output_type": "stream",
     "text": [
      "WARNING:absl:Found untraced functions such as gru_cell_layer_call_fn, gru_cell_layer_call_and_return_conditional_losses while saving (showing 2 of 2). These functions will not be directly callable after loading.\n"
     ]
    },
    {
     "name": "stdout",
     "output_type": "stream",
     "text": [
      "INFO:tensorflow:Assets written to: best_model\\assets\n"
     ]
    },
    {
     "name": "stderr",
     "output_type": "stream",
     "text": [
      "INFO:tensorflow:Assets written to: best_model\\assets\n",
      "WARNING:absl:<keras.layers.recurrent.GRUCell object at 0x0000015E57CAE088> has the same name 'GRUCell' as a built-in Keras object. Consider renaming <class 'keras.layers.recurrent.GRUCell'> to avoid naming conflicts when loading with `tf.keras.models.load_model`. If renaming is not possible, pass the object in the `custom_objects` parameter of the load function.\n",
      "WARNING:absl:<keras.layers.recurrent.GRUCell object at 0x0000015E57CAEF48> has the same name 'GRUCell' as a built-in Keras object. Consider renaming <class 'keras.layers.recurrent.GRUCell'> to avoid naming conflicts when loading with `tf.keras.models.load_model`. If renaming is not possible, pass the object in the `custom_objects` parameter of the load function.\n"
     ]
    },
    {
     "name": "stdout",
     "output_type": "stream",
     "text": [
      "1098/1098 [==============================] - 14s 12ms/step - loss: 19.6419 - root_mean_squared_error: 4.4319\n",
      "Epoch 49/200\n",
      "1098/1098 [==============================] - 10s 9ms/step - loss: 19.9624 - root_mean_squared_error: 4.4679\n",
      "Epoch 50/200\n",
      "1098/1098 [==============================] - 10s 9ms/step - loss: 19.8096 - root_mean_squared_error: 4.4508\n",
      "Epoch 51/200\n",
      "1093/1098 [============================>.] - ETA: 0s - loss: 19.5694 - root_mean_squared_error: 4.4237"
     ]
    },
    {
     "name": "stderr",
     "output_type": "stream",
     "text": [
      "WARNING:absl:Found untraced functions such as gru_cell_layer_call_fn, gru_cell_layer_call_and_return_conditional_losses while saving (showing 2 of 2). These functions will not be directly callable after loading.\n"
     ]
    },
    {
     "name": "stdout",
     "output_type": "stream",
     "text": [
      "INFO:tensorflow:Assets written to: best_model\\assets\n"
     ]
    },
    {
     "name": "stderr",
     "output_type": "stream",
     "text": [
      "INFO:tensorflow:Assets written to: best_model\\assets\n",
      "WARNING:absl:<keras.layers.recurrent.GRUCell object at 0x0000015E57CAE088> has the same name 'GRUCell' as a built-in Keras object. Consider renaming <class 'keras.layers.recurrent.GRUCell'> to avoid naming conflicts when loading with `tf.keras.models.load_model`. If renaming is not possible, pass the object in the `custom_objects` parameter of the load function.\n",
      "WARNING:absl:<keras.layers.recurrent.GRUCell object at 0x0000015E57CAEF48> has the same name 'GRUCell' as a built-in Keras object. Consider renaming <class 'keras.layers.recurrent.GRUCell'> to avoid naming conflicts when loading with `tf.keras.models.load_model`. If renaming is not possible, pass the object in the `custom_objects` parameter of the load function.\n"
     ]
    },
    {
     "name": "stdout",
     "output_type": "stream",
     "text": [
      "1098/1098 [==============================] - 14s 13ms/step - loss: 19.5475 - root_mean_squared_error: 4.4213\n",
      "Epoch 52/200\n",
      "1098/1098 [==============================] - ETA: 0s - loss: 19.3307 - root_mean_squared_error: 4.3967"
     ]
    },
    {
     "name": "stderr",
     "output_type": "stream",
     "text": [
      "WARNING:absl:Found untraced functions such as gru_cell_layer_call_fn, gru_cell_layer_call_and_return_conditional_losses while saving (showing 2 of 2). These functions will not be directly callable after loading.\n"
     ]
    },
    {
     "name": "stdout",
     "output_type": "stream",
     "text": [
      "INFO:tensorflow:Assets written to: best_model\\assets\n"
     ]
    },
    {
     "name": "stderr",
     "output_type": "stream",
     "text": [
      "INFO:tensorflow:Assets written to: best_model\\assets\n",
      "WARNING:absl:<keras.layers.recurrent.GRUCell object at 0x0000015E57CAE088> has the same name 'GRUCell' as a built-in Keras object. Consider renaming <class 'keras.layers.recurrent.GRUCell'> to avoid naming conflicts when loading with `tf.keras.models.load_model`. If renaming is not possible, pass the object in the `custom_objects` parameter of the load function.\n",
      "WARNING:absl:<keras.layers.recurrent.GRUCell object at 0x0000015E57CAEF48> has the same name 'GRUCell' as a built-in Keras object. Consider renaming <class 'keras.layers.recurrent.GRUCell'> to avoid naming conflicts when loading with `tf.keras.models.load_model`. If renaming is not possible, pass the object in the `custom_objects` parameter of the load function.\n"
     ]
    },
    {
     "name": "stdout",
     "output_type": "stream",
     "text": [
      "1098/1098 [==============================] - 14s 12ms/step - loss: 19.3307 - root_mean_squared_error: 4.3967\n",
      "Epoch 53/200\n",
      "1098/1098 [==============================] - 10s 9ms/step - loss: 19.4327 - root_mean_squared_error: 4.4083\n",
      "Epoch 54/200\n",
      "1096/1098 [============================>.] - ETA: 0s - loss: 19.0213 - root_mean_squared_error: 4.3613"
     ]
    },
    {
     "name": "stderr",
     "output_type": "stream",
     "text": [
      "WARNING:absl:Found untraced functions such as gru_cell_layer_call_fn, gru_cell_layer_call_and_return_conditional_losses while saving (showing 2 of 2). These functions will not be directly callable after loading.\n"
     ]
    },
    {
     "name": "stdout",
     "output_type": "stream",
     "text": [
      "INFO:tensorflow:Assets written to: best_model\\assets\n"
     ]
    },
    {
     "name": "stderr",
     "output_type": "stream",
     "text": [
      "INFO:tensorflow:Assets written to: best_model\\assets\n",
      "WARNING:absl:<keras.layers.recurrent.GRUCell object at 0x0000015E57CAE088> has the same name 'GRUCell' as a built-in Keras object. Consider renaming <class 'keras.layers.recurrent.GRUCell'> to avoid naming conflicts when loading with `tf.keras.models.load_model`. If renaming is not possible, pass the object in the `custom_objects` parameter of the load function.\n",
      "WARNING:absl:<keras.layers.recurrent.GRUCell object at 0x0000015E57CAEF48> has the same name 'GRUCell' as a built-in Keras object. Consider renaming <class 'keras.layers.recurrent.GRUCell'> to avoid naming conflicts when loading with `tf.keras.models.load_model`. If renaming is not possible, pass the object in the `custom_objects` parameter of the load function.\n"
     ]
    },
    {
     "name": "stdout",
     "output_type": "stream",
     "text": [
      "1098/1098 [==============================] - 14s 13ms/step - loss: 19.0049 - root_mean_squared_error: 4.3595\n",
      "Epoch 55/200\n",
      "1098/1098 [==============================] - 10s 9ms/step - loss: 19.4992 - root_mean_squared_error: 4.4158\n",
      "Epoch 56/200\n",
      "1098/1098 [==============================] - 10s 9ms/step - loss: 19.4071 - root_mean_squared_error: 4.4054\n",
      "Epoch 57/200\n",
      "1098/1098 [==============================] - 10s 9ms/step - loss: 19.0739 - root_mean_squared_error: 4.3674\n",
      "Epoch 58/200\n",
      "1098/1098 [==============================] - 10s 9ms/step - loss: 19.2948 - root_mean_squared_error: 4.3926\n",
      "Epoch 59/200\n",
      "1093/1098 [============================>.] - ETA: 0s - loss: 18.8865 - root_mean_squared_error: 4.3459"
     ]
    },
    {
     "name": "stderr",
     "output_type": "stream",
     "text": [
      "WARNING:absl:Found untraced functions such as gru_cell_layer_call_fn, gru_cell_layer_call_and_return_conditional_losses while saving (showing 2 of 2). These functions will not be directly callable after loading.\n"
     ]
    },
    {
     "name": "stdout",
     "output_type": "stream",
     "text": [
      "INFO:tensorflow:Assets written to: best_model\\assets\n"
     ]
    },
    {
     "name": "stderr",
     "output_type": "stream",
     "text": [
      "INFO:tensorflow:Assets written to: best_model\\assets\n",
      "WARNING:absl:<keras.layers.recurrent.GRUCell object at 0x0000015E57CAE088> has the same name 'GRUCell' as a built-in Keras object. Consider renaming <class 'keras.layers.recurrent.GRUCell'> to avoid naming conflicts when loading with `tf.keras.models.load_model`. If renaming is not possible, pass the object in the `custom_objects` parameter of the load function.\n",
      "WARNING:absl:<keras.layers.recurrent.GRUCell object at 0x0000015E57CAEF48> has the same name 'GRUCell' as a built-in Keras object. Consider renaming <class 'keras.layers.recurrent.GRUCell'> to avoid naming conflicts when loading with `tf.keras.models.load_model`. If renaming is not possible, pass the object in the `custom_objects` parameter of the load function.\n"
     ]
    },
    {
     "name": "stdout",
     "output_type": "stream",
     "text": [
      "1098/1098 [==============================] - 14s 12ms/step - loss: 18.8746 - root_mean_squared_error: 4.3445\n",
      "Epoch 60/200\n",
      "1098/1098 [==============================] - 10s 9ms/step - loss: 19.0964 - root_mean_squared_error: 4.3699\n",
      "Epoch 61/200\n",
      "1098/1098 [==============================] - 10s 10ms/step - loss: 19.1919 - root_mean_squared_error: 4.3809\n",
      "Epoch 62/200\n",
      "1098/1098 [==============================] - 11s 10ms/step - loss: 18.8852 - root_mean_squared_error: 4.3457\n",
      "Epoch 63/200\n",
      "1098/1098 [==============================] - 10s 10ms/step - loss: 19.1609 - root_mean_squared_error: 4.3773\n",
      "Epoch 64/200\n",
      "1098/1098 [==============================] - 11s 10ms/step - loss: 19.0684 - root_mean_squared_error: 4.3667\n",
      "Epoch 65/200\n",
      "1093/1098 [============================>.] - ETA: 0s - loss: 18.6543 - root_mean_squared_error: 4.3191"
     ]
    },
    {
     "name": "stderr",
     "output_type": "stream",
     "text": [
      "WARNING:absl:Found untraced functions such as gru_cell_layer_call_fn, gru_cell_layer_call_and_return_conditional_losses while saving (showing 2 of 2). These functions will not be directly callable after loading.\n"
     ]
    },
    {
     "name": "stdout",
     "output_type": "stream",
     "text": [
      "INFO:tensorflow:Assets written to: best_model\\assets\n"
     ]
    },
    {
     "name": "stderr",
     "output_type": "stream",
     "text": [
      "INFO:tensorflow:Assets written to: best_model\\assets\n",
      "WARNING:absl:<keras.layers.recurrent.GRUCell object at 0x0000015E57CAE088> has the same name 'GRUCell' as a built-in Keras object. Consider renaming <class 'keras.layers.recurrent.GRUCell'> to avoid naming conflicts when loading with `tf.keras.models.load_model`. If renaming is not possible, pass the object in the `custom_objects` parameter of the load function.\n",
      "WARNING:absl:<keras.layers.recurrent.GRUCell object at 0x0000015E57CAEF48> has the same name 'GRUCell' as a built-in Keras object. Consider renaming <class 'keras.layers.recurrent.GRUCell'> to avoid naming conflicts when loading with `tf.keras.models.load_model`. If renaming is not possible, pass the object in the `custom_objects` parameter of the load function.\n"
     ]
    },
    {
     "name": "stdout",
     "output_type": "stream",
     "text": [
      "1098/1098 [==============================] - 14s 13ms/step - loss: 18.6212 - root_mean_squared_error: 4.3152\n",
      "Epoch 66/200\n",
      "1098/1098 [==============================] - 10s 9ms/step - loss: 18.8272 - root_mean_squared_error: 4.3390\n",
      "Epoch 67/200\n",
      "1098/1098 [==============================] - 10s 9ms/step - loss: 18.7309 - root_mean_squared_error: 4.3279\n",
      "Epoch 68/200\n",
      "1093/1098 [============================>.] - ETA: 0s - loss: 18.4130 - root_mean_squared_error: 4.2910"
     ]
    },
    {
     "name": "stderr",
     "output_type": "stream",
     "text": [
      "WARNING:absl:Found untraced functions such as gru_cell_layer_call_fn, gru_cell_layer_call_and_return_conditional_losses while saving (showing 2 of 2). These functions will not be directly callable after loading.\n"
     ]
    },
    {
     "name": "stdout",
     "output_type": "stream",
     "text": [
      "INFO:tensorflow:Assets written to: best_model\\assets\n"
     ]
    },
    {
     "name": "stderr",
     "output_type": "stream",
     "text": [
      "INFO:tensorflow:Assets written to: best_model\\assets\n",
      "WARNING:absl:<keras.layers.recurrent.GRUCell object at 0x0000015E57CAE088> has the same name 'GRUCell' as a built-in Keras object. Consider renaming <class 'keras.layers.recurrent.GRUCell'> to avoid naming conflicts when loading with `tf.keras.models.load_model`. If renaming is not possible, pass the object in the `custom_objects` parameter of the load function.\n",
      "WARNING:absl:<keras.layers.recurrent.GRUCell object at 0x0000015E57CAEF48> has the same name 'GRUCell' as a built-in Keras object. Consider renaming <class 'keras.layers.recurrent.GRUCell'> to avoid naming conflicts when loading with `tf.keras.models.load_model`. If renaming is not possible, pass the object in the `custom_objects` parameter of the load function.\n"
     ]
    },
    {
     "name": "stdout",
     "output_type": "stream",
     "text": [
      "1098/1098 [==============================] - 14s 13ms/step - loss: 18.4104 - root_mean_squared_error: 4.2907\n",
      "Epoch 69/200\n",
      "1098/1098 [==============================] - 10s 9ms/step - loss: 18.5762 - root_mean_squared_error: 4.3100\n",
      "Epoch 70/200\n",
      "1098/1098 [==============================] - 10s 9ms/step - loss: 18.6432 - root_mean_squared_error: 4.3178\n",
      "Epoch 71/200\n",
      "1094/1098 [============================>.] - ETA: 0s - loss: 18.1851 - root_mean_squared_error: 4.2644"
     ]
    },
    {
     "name": "stderr",
     "output_type": "stream",
     "text": [
      "WARNING:absl:Found untraced functions such as gru_cell_layer_call_fn, gru_cell_layer_call_and_return_conditional_losses while saving (showing 2 of 2). These functions will not be directly callable after loading.\n"
     ]
    },
    {
     "name": "stdout",
     "output_type": "stream",
     "text": [
      "INFO:tensorflow:Assets written to: best_model\\assets\n"
     ]
    },
    {
     "name": "stderr",
     "output_type": "stream",
     "text": [
      "INFO:tensorflow:Assets written to: best_model\\assets\n",
      "WARNING:absl:<keras.layers.recurrent.GRUCell object at 0x0000015E57CAE088> has the same name 'GRUCell' as a built-in Keras object. Consider renaming <class 'keras.layers.recurrent.GRUCell'> to avoid naming conflicts when loading with `tf.keras.models.load_model`. If renaming is not possible, pass the object in the `custom_objects` parameter of the load function.\n",
      "WARNING:absl:<keras.layers.recurrent.GRUCell object at 0x0000015E57CAEF48> has the same name 'GRUCell' as a built-in Keras object. Consider renaming <class 'keras.layers.recurrent.GRUCell'> to avoid naming conflicts when loading with `tf.keras.models.load_model`. If renaming is not possible, pass the object in the `custom_objects` parameter of the load function.\n"
     ]
    },
    {
     "name": "stdout",
     "output_type": "stream",
     "text": [
      "1098/1098 [==============================] - 14s 13ms/step - loss: 18.1713 - root_mean_squared_error: 4.2628\n",
      "Epoch 72/200\n",
      "1098/1098 [==============================] - 10s 9ms/step - loss: 18.2243 - root_mean_squared_error: 4.2690\n",
      "Epoch 73/200\n",
      "1098/1098 [==============================] - 10s 9ms/step - loss: 18.4743 - root_mean_squared_error: 4.2982\n",
      "Epoch 74/200\n",
      "1098/1098 [==============================] - 10s 9ms/step - loss: 18.2532 - root_mean_squared_error: 4.2724\n",
      "Epoch 75/200\n",
      "1098/1098 [==============================] - 10s 10ms/step - loss: 18.2147 - root_mean_squared_error: 4.2679\n",
      "Epoch 76/200\n",
      "1098/1098 [==============================] - 10s 9ms/step - loss: 18.2517 - root_mean_squared_error: 4.2722\n",
      "Epoch 77/200\n",
      "1098/1098 [==============================] - ETA: 0s - loss: 18.0487 - root_mean_squared_error: 4.2484"
     ]
    },
    {
     "name": "stderr",
     "output_type": "stream",
     "text": [
      "WARNING:absl:Found untraced functions such as gru_cell_layer_call_fn, gru_cell_layer_call_and_return_conditional_losses while saving (showing 2 of 2). These functions will not be directly callable after loading.\n"
     ]
    },
    {
     "name": "stdout",
     "output_type": "stream",
     "text": [
      "INFO:tensorflow:Assets written to: best_model\\assets\n"
     ]
    },
    {
     "name": "stderr",
     "output_type": "stream",
     "text": [
      "INFO:tensorflow:Assets written to: best_model\\assets\n",
      "WARNING:absl:<keras.layers.recurrent.GRUCell object at 0x0000015E57CAE088> has the same name 'GRUCell' as a built-in Keras object. Consider renaming <class 'keras.layers.recurrent.GRUCell'> to avoid naming conflicts when loading with `tf.keras.models.load_model`. If renaming is not possible, pass the object in the `custom_objects` parameter of the load function.\n",
      "WARNING:absl:<keras.layers.recurrent.GRUCell object at 0x0000015E57CAEF48> has the same name 'GRUCell' as a built-in Keras object. Consider renaming <class 'keras.layers.recurrent.GRUCell'> to avoid naming conflicts when loading with `tf.keras.models.load_model`. If renaming is not possible, pass the object in the `custom_objects` parameter of the load function.\n"
     ]
    },
    {
     "name": "stdout",
     "output_type": "stream",
     "text": [
      "1098/1098 [==============================] - 15s 14ms/step - loss: 18.0487 - root_mean_squared_error: 4.2484\n",
      "Epoch 78/200\n",
      "1098/1098 [==============================] - 11s 10ms/step - loss: 18.0787 - root_mean_squared_error: 4.2519\n",
      "Epoch 79/200\n",
      "1098/1098 [==============================] - 11s 10ms/step - loss: 18.3043 - root_mean_squared_error: 4.2784\n",
      "Epoch 80/200\n",
      "1093/1098 [============================>.] - ETA: 0s - loss: 17.9440 - root_mean_squared_error: 4.2360"
     ]
    },
    {
     "name": "stderr",
     "output_type": "stream",
     "text": [
      "WARNING:absl:Found untraced functions such as gru_cell_layer_call_fn, gru_cell_layer_call_and_return_conditional_losses while saving (showing 2 of 2). These functions will not be directly callable after loading.\n"
     ]
    },
    {
     "name": "stdout",
     "output_type": "stream",
     "text": [
      "INFO:tensorflow:Assets written to: best_model\\assets\n"
     ]
    },
    {
     "name": "stderr",
     "output_type": "stream",
     "text": [
      "INFO:tensorflow:Assets written to: best_model\\assets\n",
      "WARNING:absl:<keras.layers.recurrent.GRUCell object at 0x0000015E57CAE088> has the same name 'GRUCell' as a built-in Keras object. Consider renaming <class 'keras.layers.recurrent.GRUCell'> to avoid naming conflicts when loading with `tf.keras.models.load_model`. If renaming is not possible, pass the object in the `custom_objects` parameter of the load function.\n",
      "WARNING:absl:<keras.layers.recurrent.GRUCell object at 0x0000015E57CAEF48> has the same name 'GRUCell' as a built-in Keras object. Consider renaming <class 'keras.layers.recurrent.GRUCell'> to avoid naming conflicts when loading with `tf.keras.models.load_model`. If renaming is not possible, pass the object in the `custom_objects` parameter of the load function.\n"
     ]
    },
    {
     "name": "stdout",
     "output_type": "stream",
     "text": [
      "1098/1098 [==============================] - 14s 13ms/step - loss: 17.9739 - root_mean_squared_error: 4.2396\n",
      "Epoch 81/200\n",
      "1093/1098 [============================>.] - ETA: 0s - loss: 17.6762 - root_mean_squared_error: 4.2043"
     ]
    },
    {
     "name": "stderr",
     "output_type": "stream",
     "text": [
      "WARNING:absl:Found untraced functions such as gru_cell_layer_call_fn, gru_cell_layer_call_and_return_conditional_losses while saving (showing 2 of 2). These functions will not be directly callable after loading.\n"
     ]
    },
    {
     "name": "stdout",
     "output_type": "stream",
     "text": [
      "INFO:tensorflow:Assets written to: best_model\\assets\n"
     ]
    },
    {
     "name": "stderr",
     "output_type": "stream",
     "text": [
      "INFO:tensorflow:Assets written to: best_model\\assets\n",
      "WARNING:absl:<keras.layers.recurrent.GRUCell object at 0x0000015E57CAE088> has the same name 'GRUCell' as a built-in Keras object. Consider renaming <class 'keras.layers.recurrent.GRUCell'> to avoid naming conflicts when loading with `tf.keras.models.load_model`. If renaming is not possible, pass the object in the `custom_objects` parameter of the load function.\n",
      "WARNING:absl:<keras.layers.recurrent.GRUCell object at 0x0000015E57CAEF48> has the same name 'GRUCell' as a built-in Keras object. Consider renaming <class 'keras.layers.recurrent.GRUCell'> to avoid naming conflicts when loading with `tf.keras.models.load_model`. If renaming is not possible, pass the object in the `custom_objects` parameter of the load function.\n"
     ]
    },
    {
     "name": "stdout",
     "output_type": "stream",
     "text": [
      "1098/1098 [==============================] - 13s 12ms/step - loss: 17.6469 - root_mean_squared_error: 4.2008\n",
      "Epoch 82/200\n",
      "1098/1098 [==============================] - 10s 9ms/step - loss: 17.7788 - root_mean_squared_error: 4.2165\n",
      "Epoch 83/200\n",
      "1098/1098 [==============================] - 11s 10ms/step - loss: 17.7594 - root_mean_squared_error: 4.2142\n",
      "Epoch 84/200\n",
      "1098/1098 [==============================] - 11s 10ms/step - loss: 17.8639 - root_mean_squared_error: 4.2266\n",
      "Epoch 85/200\n",
      "1098/1098 [==============================] - 11s 10ms/step - loss: 17.7945 - root_mean_squared_error: 4.2184\n",
      "Epoch 86/200\n",
      "1093/1098 [============================>.] - ETA: 0s - loss: 17.4462 - root_mean_squared_error: 4.1769"
     ]
    },
    {
     "name": "stderr",
     "output_type": "stream",
     "text": [
      "WARNING:absl:Found untraced functions such as gru_cell_layer_call_fn, gru_cell_layer_call_and_return_conditional_losses while saving (showing 2 of 2). These functions will not be directly callable after loading.\n"
     ]
    },
    {
     "name": "stdout",
     "output_type": "stream",
     "text": [
      "INFO:tensorflow:Assets written to: best_model\\assets\n"
     ]
    },
    {
     "name": "stderr",
     "output_type": "stream",
     "text": [
      "INFO:tensorflow:Assets written to: best_model\\assets\n",
      "WARNING:absl:<keras.layers.recurrent.GRUCell object at 0x0000015E57CAE088> has the same name 'GRUCell' as a built-in Keras object. Consider renaming <class 'keras.layers.recurrent.GRUCell'> to avoid naming conflicts when loading with `tf.keras.models.load_model`. If renaming is not possible, pass the object in the `custom_objects` parameter of the load function.\n",
      "WARNING:absl:<keras.layers.recurrent.GRUCell object at 0x0000015E57CAEF48> has the same name 'GRUCell' as a built-in Keras object. Consider renaming <class 'keras.layers.recurrent.GRUCell'> to avoid naming conflicts when loading with `tf.keras.models.load_model`. If renaming is not possible, pass the object in the `custom_objects` parameter of the load function.\n"
     ]
    },
    {
     "name": "stdout",
     "output_type": "stream",
     "text": [
      "1098/1098 [==============================] - 14s 13ms/step - loss: 17.4284 - root_mean_squared_error: 4.1747\n",
      "Epoch 87/200\n",
      "1098/1098 [==============================] - 10s 9ms/step - loss: 17.9773 - root_mean_squared_error: 4.2400\n",
      "Epoch 88/200\n",
      "1098/1098 [==============================] - 10s 10ms/step - loss: 17.5967 - root_mean_squared_error: 4.1948\n",
      "Epoch 89/200\n",
      "1098/1098 [==============================] - 10s 9ms/step - loss: 17.4691 - root_mean_squared_error: 4.1796\n",
      "Epoch 90/200\n",
      "1098/1098 [==============================] - 10s 9ms/step - loss: 17.5513 - root_mean_squared_error: 4.1894\n",
      "Epoch 91/200\n",
      "1098/1098 [==============================] - 10s 9ms/step - loss: 17.6449 - root_mean_squared_error: 4.2006\n",
      "Epoch 92/200\n",
      "1097/1098 [============================>.] - ETA: 0s - loss: 17.3114 - root_mean_squared_error: 4.1607"
     ]
    },
    {
     "name": "stderr",
     "output_type": "stream",
     "text": [
      "WARNING:absl:Found untraced functions such as gru_cell_layer_call_fn, gru_cell_layer_call_and_return_conditional_losses while saving (showing 2 of 2). These functions will not be directly callable after loading.\n"
     ]
    },
    {
     "name": "stdout",
     "output_type": "stream",
     "text": [
      "INFO:tensorflow:Assets written to: best_model\\assets\n"
     ]
    },
    {
     "name": "stderr",
     "output_type": "stream",
     "text": [
      "INFO:tensorflow:Assets written to: best_model\\assets\n",
      "WARNING:absl:<keras.layers.recurrent.GRUCell object at 0x0000015E57CAE088> has the same name 'GRUCell' as a built-in Keras object. Consider renaming <class 'keras.layers.recurrent.GRUCell'> to avoid naming conflicts when loading with `tf.keras.models.load_model`. If renaming is not possible, pass the object in the `custom_objects` parameter of the load function.\n",
      "WARNING:absl:<keras.layers.recurrent.GRUCell object at 0x0000015E57CAEF48> has the same name 'GRUCell' as a built-in Keras object. Consider renaming <class 'keras.layers.recurrent.GRUCell'> to avoid naming conflicts when loading with `tf.keras.models.load_model`. If renaming is not possible, pass the object in the `custom_objects` parameter of the load function.\n"
     ]
    },
    {
     "name": "stdout",
     "output_type": "stream",
     "text": [
      "1098/1098 [==============================] - 14s 13ms/step - loss: 17.3098 - root_mean_squared_error: 4.1605\n",
      "Epoch 93/200\n",
      "1098/1098 [==============================] - 10s 9ms/step - loss: 17.4998 - root_mean_squared_error: 4.1833\n",
      "Epoch 94/200\n",
      "1095/1098 [============================>.] - ETA: 0s - loss: 17.1687 - root_mean_squared_error: 4.1435"
     ]
    },
    {
     "name": "stderr",
     "output_type": "stream",
     "text": [
      "WARNING:absl:Found untraced functions such as gru_cell_layer_call_fn, gru_cell_layer_call_and_return_conditional_losses while saving (showing 2 of 2). These functions will not be directly callable after loading.\n"
     ]
    },
    {
     "name": "stdout",
     "output_type": "stream",
     "text": [
      "INFO:tensorflow:Assets written to: best_model\\assets\n"
     ]
    },
    {
     "name": "stderr",
     "output_type": "stream",
     "text": [
      "INFO:tensorflow:Assets written to: best_model\\assets\n",
      "WARNING:absl:<keras.layers.recurrent.GRUCell object at 0x0000015E57CAE088> has the same name 'GRUCell' as a built-in Keras object. Consider renaming <class 'keras.layers.recurrent.GRUCell'> to avoid naming conflicts when loading with `tf.keras.models.load_model`. If renaming is not possible, pass the object in the `custom_objects` parameter of the load function.\n",
      "WARNING:absl:<keras.layers.recurrent.GRUCell object at 0x0000015E57CAEF48> has the same name 'GRUCell' as a built-in Keras object. Consider renaming <class 'keras.layers.recurrent.GRUCell'> to avoid naming conflicts when loading with `tf.keras.models.load_model`. If renaming is not possible, pass the object in the `custom_objects` parameter of the load function.\n"
     ]
    },
    {
     "name": "stdout",
     "output_type": "stream",
     "text": [
      "1098/1098 [==============================] - 14s 13ms/step - loss: 17.2430 - root_mean_squared_error: 4.1525\n",
      "Epoch 95/200\n",
      "1096/1098 [============================>.] - ETA: 0s - loss: 17.1349 - root_mean_squared_error: 4.1394"
     ]
    },
    {
     "name": "stderr",
     "output_type": "stream",
     "text": [
      "WARNING:absl:Found untraced functions such as gru_cell_layer_call_fn, gru_cell_layer_call_and_return_conditional_losses while saving (showing 2 of 2). These functions will not be directly callable after loading.\n"
     ]
    },
    {
     "name": "stdout",
     "output_type": "stream",
     "text": [
      "INFO:tensorflow:Assets written to: best_model\\assets\n"
     ]
    },
    {
     "name": "stderr",
     "output_type": "stream",
     "text": [
      "INFO:tensorflow:Assets written to: best_model\\assets\n",
      "WARNING:absl:<keras.layers.recurrent.GRUCell object at 0x0000015E57CAE088> has the same name 'GRUCell' as a built-in Keras object. Consider renaming <class 'keras.layers.recurrent.GRUCell'> to avoid naming conflicts when loading with `tf.keras.models.load_model`. If renaming is not possible, pass the object in the `custom_objects` parameter of the load function.\n",
      "WARNING:absl:<keras.layers.recurrent.GRUCell object at 0x0000015E57CAEF48> has the same name 'GRUCell' as a built-in Keras object. Consider renaming <class 'keras.layers.recurrent.GRUCell'> to avoid naming conflicts when loading with `tf.keras.models.load_model`. If renaming is not possible, pass the object in the `custom_objects` parameter of the load function.\n"
     ]
    },
    {
     "name": "stdout",
     "output_type": "stream",
     "text": [
      "1098/1098 [==============================] - 14s 12ms/step - loss: 17.1311 - root_mean_squared_error: 4.1390\n",
      "Epoch 96/200\n",
      "1098/1098 [==============================] - 10s 9ms/step - loss: 17.6017 - root_mean_squared_error: 4.1954\n",
      "Epoch 97/200\n",
      "1098/1098 [==============================] - 10s 9ms/step - loss: 17.3257 - root_mean_squared_error: 4.1624\n",
      "Epoch 98/200\n",
      "1098/1098 [==============================] - 10s 9ms/step - loss: 17.4501 - root_mean_squared_error: 4.1773\n",
      "Epoch 99/200\n",
      "1096/1098 [============================>.] - ETA: 0s - loss: 17.1198 - root_mean_squared_error: 4.1376"
     ]
    },
    {
     "name": "stderr",
     "output_type": "stream",
     "text": [
      "WARNING:absl:Found untraced functions such as gru_cell_layer_call_fn, gru_cell_layer_call_and_return_conditional_losses while saving (showing 2 of 2). These functions will not be directly callable after loading.\n"
     ]
    },
    {
     "name": "stdout",
     "output_type": "stream",
     "text": [
      "INFO:tensorflow:Assets written to: best_model\\assets\n"
     ]
    },
    {
     "name": "stderr",
     "output_type": "stream",
     "text": [
      "INFO:tensorflow:Assets written to: best_model\\assets\n",
      "WARNING:absl:<keras.layers.recurrent.GRUCell object at 0x0000015E57CAE088> has the same name 'GRUCell' as a built-in Keras object. Consider renaming <class 'keras.layers.recurrent.GRUCell'> to avoid naming conflicts when loading with `tf.keras.models.load_model`. If renaming is not possible, pass the object in the `custom_objects` parameter of the load function.\n",
      "WARNING:absl:<keras.layers.recurrent.GRUCell object at 0x0000015E57CAEF48> has the same name 'GRUCell' as a built-in Keras object. Consider renaming <class 'keras.layers.recurrent.GRUCell'> to avoid naming conflicts when loading with `tf.keras.models.load_model`. If renaming is not possible, pass the object in the `custom_objects` parameter of the load function.\n"
     ]
    },
    {
     "name": "stdout",
     "output_type": "stream",
     "text": [
      "1098/1098 [==============================] - 14s 12ms/step - loss: 17.1081 - root_mean_squared_error: 4.1362\n",
      "Epoch 100/200\n",
      "1092/1098 [============================>.] - ETA: 0s - loss: 16.8240 - root_mean_squared_error: 4.1017"
     ]
    },
    {
     "name": "stderr",
     "output_type": "stream",
     "text": [
      "WARNING:absl:Found untraced functions such as gru_cell_layer_call_fn, gru_cell_layer_call_and_return_conditional_losses while saving (showing 2 of 2). These functions will not be directly callable after loading.\n"
     ]
    },
    {
     "name": "stdout",
     "output_type": "stream",
     "text": [
      "INFO:tensorflow:Assets written to: best_model\\assets\n"
     ]
    },
    {
     "name": "stderr",
     "output_type": "stream",
     "text": [
      "INFO:tensorflow:Assets written to: best_model\\assets\n",
      "WARNING:absl:<keras.layers.recurrent.GRUCell object at 0x0000015E57CAE088> has the same name 'GRUCell' as a built-in Keras object. Consider renaming <class 'keras.layers.recurrent.GRUCell'> to avoid naming conflicts when loading with `tf.keras.models.load_model`. If renaming is not possible, pass the object in the `custom_objects` parameter of the load function.\n",
      "WARNING:absl:<keras.layers.recurrent.GRUCell object at 0x0000015E57CAEF48> has the same name 'GRUCell' as a built-in Keras object. Consider renaming <class 'keras.layers.recurrent.GRUCell'> to avoid naming conflicts when loading with `tf.keras.models.load_model`. If renaming is not possible, pass the object in the `custom_objects` parameter of the load function.\n"
     ]
    },
    {
     "name": "stdout",
     "output_type": "stream",
     "text": [
      "1098/1098 [==============================] - 13s 12ms/step - loss: 16.8367 - root_mean_squared_error: 4.1033\n",
      "Epoch 101/200\n",
      "1098/1098 [==============================] - 10s 9ms/step - loss: 16.9762 - root_mean_squared_error: 4.1202\n",
      "Epoch 102/200\n",
      "1098/1098 [==============================] - 11s 10ms/step - loss: 16.8763 - root_mean_squared_error: 4.1081\n",
      "Epoch 103/200\n",
      "1098/1098 [==============================] - 11s 10ms/step - loss: 17.1313 - root_mean_squared_error: 4.1390\n",
      "Epoch 104/200\n",
      "1098/1098 [==============================] - 11s 10ms/step - loss: 16.9021 - root_mean_squared_error: 4.1112\n",
      "Epoch 105/200\n",
      "1098/1098 [==============================] - 11s 10ms/step - loss: 16.9623 - root_mean_squared_error: 4.1185\n",
      "Epoch 106/200\n",
      "1093/1098 [============================>.] - ETA: 0s - loss: 16.6962 - root_mean_squared_error: 4.0861"
     ]
    },
    {
     "name": "stderr",
     "output_type": "stream",
     "text": [
      "WARNING:absl:Found untraced functions such as gru_cell_layer_call_fn, gru_cell_layer_call_and_return_conditional_losses while saving (showing 2 of 2). These functions will not be directly callable after loading.\n"
     ]
    },
    {
     "name": "stdout",
     "output_type": "stream",
     "text": [
      "INFO:tensorflow:Assets written to: best_model\\assets\n"
     ]
    },
    {
     "name": "stderr",
     "output_type": "stream",
     "text": [
      "INFO:tensorflow:Assets written to: best_model\\assets\n",
      "WARNING:absl:<keras.layers.recurrent.GRUCell object at 0x0000015E57CAE088> has the same name 'GRUCell' as a built-in Keras object. Consider renaming <class 'keras.layers.recurrent.GRUCell'> to avoid naming conflicts when loading with `tf.keras.models.load_model`. If renaming is not possible, pass the object in the `custom_objects` parameter of the load function.\n",
      "WARNING:absl:<keras.layers.recurrent.GRUCell object at 0x0000015E57CAEF48> has the same name 'GRUCell' as a built-in Keras object. Consider renaming <class 'keras.layers.recurrent.GRUCell'> to avoid naming conflicts when loading with `tf.keras.models.load_model`. If renaming is not possible, pass the object in the `custom_objects` parameter of the load function.\n"
     ]
    },
    {
     "name": "stdout",
     "output_type": "stream",
     "text": [
      "1098/1098 [==============================] - 14s 13ms/step - loss: 16.6669 - root_mean_squared_error: 4.0825\n",
      "Epoch 107/200\n",
      "1098/1098 [==============================] - 10s 9ms/step - loss: 17.0474 - root_mean_squared_error: 4.1289\n",
      "Epoch 108/200\n",
      "1098/1098 [==============================] - 10s 9ms/step - loss: 16.7636 - root_mean_squared_error: 4.0943\n",
      "Epoch 109/200\n",
      "1098/1098 [==============================] - 10s 9ms/step - loss: 16.7102 - root_mean_squared_error: 4.0878\n",
      "Epoch 110/200\n",
      "1096/1098 [============================>.] - ETA: 0s - loss: 16.5378 - root_mean_squared_error: 4.0667"
     ]
    },
    {
     "name": "stderr",
     "output_type": "stream",
     "text": [
      "WARNING:absl:Found untraced functions such as gru_cell_layer_call_fn, gru_cell_layer_call_and_return_conditional_losses while saving (showing 2 of 2). These functions will not be directly callable after loading.\n"
     ]
    },
    {
     "name": "stdout",
     "output_type": "stream",
     "text": [
      "INFO:tensorflow:Assets written to: best_model\\assets\n"
     ]
    },
    {
     "name": "stderr",
     "output_type": "stream",
     "text": [
      "INFO:tensorflow:Assets written to: best_model\\assets\n",
      "WARNING:absl:<keras.layers.recurrent.GRUCell object at 0x0000015E57CAE088> has the same name 'GRUCell' as a built-in Keras object. Consider renaming <class 'keras.layers.recurrent.GRUCell'> to avoid naming conflicts when loading with `tf.keras.models.load_model`. If renaming is not possible, pass the object in the `custom_objects` parameter of the load function.\n",
      "WARNING:absl:<keras.layers.recurrent.GRUCell object at 0x0000015E57CAEF48> has the same name 'GRUCell' as a built-in Keras object. Consider renaming <class 'keras.layers.recurrent.GRUCell'> to avoid naming conflicts when loading with `tf.keras.models.load_model`. If renaming is not possible, pass the object in the `custom_objects` parameter of the load function.\n"
     ]
    },
    {
     "name": "stdout",
     "output_type": "stream",
     "text": [
      "1098/1098 [==============================] - 14s 13ms/step - loss: 16.5259 - root_mean_squared_error: 4.0652\n",
      "Epoch 111/200\n",
      "1098/1098 [==============================] - 10s 9ms/step - loss: 16.7012 - root_mean_squared_error: 4.0867\n",
      "Epoch 112/200\n",
      "1098/1098 [==============================] - 10s 9ms/step - loss: 16.6394 - root_mean_squared_error: 4.0791\n",
      "Epoch 113/200\n",
      "1098/1098 [==============================] - 10s 9ms/step - loss: 16.5307 - root_mean_squared_error: 4.0658\n",
      "Epoch 114/200\n",
      "1096/1098 [============================>.] - ETA: 0s - loss: 16.5084 - root_mean_squared_error: 4.0631"
     ]
    },
    {
     "name": "stderr",
     "output_type": "stream",
     "text": [
      "WARNING:absl:Found untraced functions such as gru_cell_layer_call_fn, gru_cell_layer_call_and_return_conditional_losses while saving (showing 2 of 2). These functions will not be directly callable after loading.\n"
     ]
    },
    {
     "name": "stdout",
     "output_type": "stream",
     "text": [
      "INFO:tensorflow:Assets written to: best_model\\assets\n"
     ]
    },
    {
     "name": "stderr",
     "output_type": "stream",
     "text": [
      "INFO:tensorflow:Assets written to: best_model\\assets\n",
      "WARNING:absl:<keras.layers.recurrent.GRUCell object at 0x0000015E57CAE088> has the same name 'GRUCell' as a built-in Keras object. Consider renaming <class 'keras.layers.recurrent.GRUCell'> to avoid naming conflicts when loading with `tf.keras.models.load_model`. If renaming is not possible, pass the object in the `custom_objects` parameter of the load function.\n",
      "WARNING:absl:<keras.layers.recurrent.GRUCell object at 0x0000015E57CAEF48> has the same name 'GRUCell' as a built-in Keras object. Consider renaming <class 'keras.layers.recurrent.GRUCell'> to avoid naming conflicts when loading with `tf.keras.models.load_model`. If renaming is not possible, pass the object in the `custom_objects` parameter of the load function.\n"
     ]
    },
    {
     "name": "stdout",
     "output_type": "stream",
     "text": [
      "1098/1098 [==============================] - 14s 13ms/step - loss: 16.5092 - root_mean_squared_error: 4.0632\n",
      "Epoch 115/200\n",
      "1097/1098 [============================>.] - ETA: 0s - loss: 16.3148 - root_mean_squared_error: 4.0392"
     ]
    },
    {
     "name": "stderr",
     "output_type": "stream",
     "text": [
      "WARNING:absl:Found untraced functions such as gru_cell_layer_call_fn, gru_cell_layer_call_and_return_conditional_losses while saving (showing 2 of 2). These functions will not be directly callable after loading.\n"
     ]
    },
    {
     "name": "stdout",
     "output_type": "stream",
     "text": [
      "INFO:tensorflow:Assets written to: best_model\\assets\n"
     ]
    },
    {
     "name": "stderr",
     "output_type": "stream",
     "text": [
      "INFO:tensorflow:Assets written to: best_model\\assets\n",
      "WARNING:absl:<keras.layers.recurrent.GRUCell object at 0x0000015E57CAE088> has the same name 'GRUCell' as a built-in Keras object. Consider renaming <class 'keras.layers.recurrent.GRUCell'> to avoid naming conflicts when loading with `tf.keras.models.load_model`. If renaming is not possible, pass the object in the `custom_objects` parameter of the load function.\n",
      "WARNING:absl:<keras.layers.recurrent.GRUCell object at 0x0000015E57CAEF48> has the same name 'GRUCell' as a built-in Keras object. Consider renaming <class 'keras.layers.recurrent.GRUCell'> to avoid naming conflicts when loading with `tf.keras.models.load_model`. If renaming is not possible, pass the object in the `custom_objects` parameter of the load function.\n"
     ]
    },
    {
     "name": "stdout",
     "output_type": "stream",
     "text": [
      "1098/1098 [==============================] - 14s 12ms/step - loss: 16.3087 - root_mean_squared_error: 4.0384\n",
      "Epoch 116/200\n",
      "1098/1098 [==============================] - 10s 9ms/step - loss: 16.4888 - root_mean_squared_error: 4.0606\n",
      "Epoch 117/200\n",
      "1098/1098 [==============================] - 10s 9ms/step - loss: 16.5445 - root_mean_squared_error: 4.0675\n",
      "Epoch 118/200\n",
      "1098/1098 [==============================] - 10s 9ms/step - loss: 16.3927 - root_mean_squared_error: 4.0488\n",
      "Epoch 119/200\n",
      "1095/1098 [============================>.] - ETA: 0s - loss: 16.2337 - root_mean_squared_error: 4.0291"
     ]
    },
    {
     "name": "stderr",
     "output_type": "stream",
     "text": [
      "WARNING:absl:Found untraced functions such as gru_cell_layer_call_fn, gru_cell_layer_call_and_return_conditional_losses while saving (showing 2 of 2). These functions will not be directly callable after loading.\n"
     ]
    },
    {
     "name": "stdout",
     "output_type": "stream",
     "text": [
      "INFO:tensorflow:Assets written to: best_model\\assets\n"
     ]
    },
    {
     "name": "stderr",
     "output_type": "stream",
     "text": [
      "INFO:tensorflow:Assets written to: best_model\\assets\n",
      "WARNING:absl:<keras.layers.recurrent.GRUCell object at 0x0000015E57CAE088> has the same name 'GRUCell' as a built-in Keras object. Consider renaming <class 'keras.layers.recurrent.GRUCell'> to avoid naming conflicts when loading with `tf.keras.models.load_model`. If renaming is not possible, pass the object in the `custom_objects` parameter of the load function.\n",
      "WARNING:absl:<keras.layers.recurrent.GRUCell object at 0x0000015E57CAEF48> has the same name 'GRUCell' as a built-in Keras object. Consider renaming <class 'keras.layers.recurrent.GRUCell'> to avoid naming conflicts when loading with `tf.keras.models.load_model`. If renaming is not possible, pass the object in the `custom_objects` parameter of the load function.\n"
     ]
    },
    {
     "name": "stdout",
     "output_type": "stream",
     "text": [
      "1098/1098 [==============================] - 14s 12ms/step - loss: 16.2217 - root_mean_squared_error: 4.0276\n",
      "Epoch 120/200\n",
      "1098/1098 [==============================] - 9s 9ms/step - loss: 16.3698 - root_mean_squared_error: 4.0460\n",
      "Epoch 121/200\n",
      "1096/1098 [============================>.] - ETA: 0s - loss: 16.0558 - root_mean_squared_error: 4.0070"
     ]
    },
    {
     "name": "stderr",
     "output_type": "stream",
     "text": [
      "WARNING:absl:Found untraced functions such as gru_cell_layer_call_fn, gru_cell_layer_call_and_return_conditional_losses while saving (showing 2 of 2). These functions will not be directly callable after loading.\n"
     ]
    },
    {
     "name": "stdout",
     "output_type": "stream",
     "text": [
      "INFO:tensorflow:Assets written to: best_model\\assets\n"
     ]
    },
    {
     "name": "stderr",
     "output_type": "stream",
     "text": [
      "INFO:tensorflow:Assets written to: best_model\\assets\n",
      "WARNING:absl:<keras.layers.recurrent.GRUCell object at 0x0000015E57CAE088> has the same name 'GRUCell' as a built-in Keras object. Consider renaming <class 'keras.layers.recurrent.GRUCell'> to avoid naming conflicts when loading with `tf.keras.models.load_model`. If renaming is not possible, pass the object in the `custom_objects` parameter of the load function.\n",
      "WARNING:absl:<keras.layers.recurrent.GRUCell object at 0x0000015E57CAEF48> has the same name 'GRUCell' as a built-in Keras object. Consider renaming <class 'keras.layers.recurrent.GRUCell'> to avoid naming conflicts when loading with `tf.keras.models.load_model`. If renaming is not possible, pass the object in the `custom_objects` parameter of the load function.\n"
     ]
    },
    {
     "name": "stdout",
     "output_type": "stream",
     "text": [
      "1098/1098 [==============================] - 13s 12ms/step - loss: 16.0700 - root_mean_squared_error: 4.0087\n",
      "Epoch 122/200\n",
      "1098/1098 [==============================] - 10s 9ms/step - loss: 16.1378 - root_mean_squared_error: 4.0172\n",
      "Epoch 123/200\n",
      "1098/1098 [==============================] - 11s 10ms/step - loss: 16.1990 - root_mean_squared_error: 4.0248\n",
      "Epoch 124/200\n",
      "1098/1098 [==============================] - 11s 10ms/step - loss: 16.1668 - root_mean_squared_error: 4.0208\n",
      "Epoch 125/200\n",
      "1097/1098 [============================>.] - ETA: 0s - loss: 15.9800 - root_mean_squared_error: 3.9975"
     ]
    },
    {
     "name": "stderr",
     "output_type": "stream",
     "text": [
      "WARNING:absl:Found untraced functions such as gru_cell_layer_call_fn, gru_cell_layer_call_and_return_conditional_losses while saving (showing 2 of 2). These functions will not be directly callable after loading.\n"
     ]
    },
    {
     "name": "stdout",
     "output_type": "stream",
     "text": [
      "INFO:tensorflow:Assets written to: best_model\\assets\n"
     ]
    },
    {
     "name": "stderr",
     "output_type": "stream",
     "text": [
      "INFO:tensorflow:Assets written to: best_model\\assets\n",
      "WARNING:absl:<keras.layers.recurrent.GRUCell object at 0x0000015E57CAE088> has the same name 'GRUCell' as a built-in Keras object. Consider renaming <class 'keras.layers.recurrent.GRUCell'> to avoid naming conflicts when loading with `tf.keras.models.load_model`. If renaming is not possible, pass the object in the `custom_objects` parameter of the load function.\n",
      "WARNING:absl:<keras.layers.recurrent.GRUCell object at 0x0000015E57CAEF48> has the same name 'GRUCell' as a built-in Keras object. Consider renaming <class 'keras.layers.recurrent.GRUCell'> to avoid naming conflicts when loading with `tf.keras.models.load_model`. If renaming is not possible, pass the object in the `custom_objects` parameter of the load function.\n"
     ]
    },
    {
     "name": "stdout",
     "output_type": "stream",
     "text": [
      "1098/1098 [==============================] - 14s 13ms/step - loss: 15.9757 - root_mean_squared_error: 3.9970\n",
      "Epoch 126/200\n",
      "1094/1098 [============================>.] - ETA: 0s - loss: 15.8668 - root_mean_squared_error: 3.9833"
     ]
    },
    {
     "name": "stderr",
     "output_type": "stream",
     "text": [
      "WARNING:absl:Found untraced functions such as gru_cell_layer_call_fn, gru_cell_layer_call_and_return_conditional_losses while saving (showing 2 of 2). These functions will not be directly callable after loading.\n"
     ]
    },
    {
     "name": "stdout",
     "output_type": "stream",
     "text": [
      "INFO:tensorflow:Assets written to: best_model\\assets\n"
     ]
    },
    {
     "name": "stderr",
     "output_type": "stream",
     "text": [
      "INFO:tensorflow:Assets written to: best_model\\assets\n",
      "WARNING:absl:<keras.layers.recurrent.GRUCell object at 0x0000015E57CAE088> has the same name 'GRUCell' as a built-in Keras object. Consider renaming <class 'keras.layers.recurrent.GRUCell'> to avoid naming conflicts when loading with `tf.keras.models.load_model`. If renaming is not possible, pass the object in the `custom_objects` parameter of the load function.\n",
      "WARNING:absl:<keras.layers.recurrent.GRUCell object at 0x0000015E57CAEF48> has the same name 'GRUCell' as a built-in Keras object. Consider renaming <class 'keras.layers.recurrent.GRUCell'> to avoid naming conflicts when loading with `tf.keras.models.load_model`. If renaming is not possible, pass the object in the `custom_objects` parameter of the load function.\n"
     ]
    },
    {
     "name": "stdout",
     "output_type": "stream",
     "text": [
      "1098/1098 [==============================] - 14s 12ms/step - loss: 15.8439 - root_mean_squared_error: 3.9804\n",
      "Epoch 127/200\n",
      "1098/1098 [==============================] - 10s 9ms/step - loss: 16.0182 - root_mean_squared_error: 4.0023\n",
      "Epoch 128/200\n",
      "1098/1098 [==============================] - 11s 10ms/step - loss: 15.9579 - root_mean_squared_error: 3.9947\n",
      "Epoch 129/200\n",
      "1093/1098 [============================>.] - ETA: 0s - loss: 15.8378 - root_mean_squared_error: 3.9797"
     ]
    },
    {
     "name": "stderr",
     "output_type": "stream",
     "text": [
      "WARNING:absl:Found untraced functions such as gru_cell_layer_call_fn, gru_cell_layer_call_and_return_conditional_losses while saving (showing 2 of 2). These functions will not be directly callable after loading.\n"
     ]
    },
    {
     "name": "stdout",
     "output_type": "stream",
     "text": [
      "INFO:tensorflow:Assets written to: best_model\\assets\n"
     ]
    },
    {
     "name": "stderr",
     "output_type": "stream",
     "text": [
      "INFO:tensorflow:Assets written to: best_model\\assets\n",
      "WARNING:absl:<keras.layers.recurrent.GRUCell object at 0x0000015E57CAE088> has the same name 'GRUCell' as a built-in Keras object. Consider renaming <class 'keras.layers.recurrent.GRUCell'> to avoid naming conflicts when loading with `tf.keras.models.load_model`. If renaming is not possible, pass the object in the `custom_objects` parameter of the load function.\n",
      "WARNING:absl:<keras.layers.recurrent.GRUCell object at 0x0000015E57CAEF48> has the same name 'GRUCell' as a built-in Keras object. Consider renaming <class 'keras.layers.recurrent.GRUCell'> to avoid naming conflicts when loading with `tf.keras.models.load_model`. If renaming is not possible, pass the object in the `custom_objects` parameter of the load function.\n"
     ]
    },
    {
     "name": "stdout",
     "output_type": "stream",
     "text": [
      "1098/1098 [==============================] - 14s 13ms/step - loss: 15.8228 - root_mean_squared_error: 3.9778\n",
      "Epoch 130/200\n",
      "1098/1098 [==============================] - 10s 9ms/step - loss: 15.9061 - root_mean_squared_error: 3.9882\n",
      "Epoch 131/200\n",
      "1098/1098 [==============================] - 11s 10ms/step - loss: 16.3978 - root_mean_squared_error: 4.0494\n",
      "Epoch 132/200\n",
      "1098/1098 [==============================] - 10s 10ms/step - loss: 15.8813 - root_mean_squared_error: 3.9851\n",
      "Epoch 133/200\n",
      "1097/1098 [============================>.] - ETA: 0s - loss: 15.7959 - root_mean_squared_error: 3.9744"
     ]
    },
    {
     "name": "stderr",
     "output_type": "stream",
     "text": [
      "WARNING:absl:Found untraced functions such as gru_cell_layer_call_fn, gru_cell_layer_call_and_return_conditional_losses while saving (showing 2 of 2). These functions will not be directly callable after loading.\n"
     ]
    },
    {
     "name": "stdout",
     "output_type": "stream",
     "text": [
      "INFO:tensorflow:Assets written to: best_model\\assets\n"
     ]
    },
    {
     "name": "stderr",
     "output_type": "stream",
     "text": [
      "INFO:tensorflow:Assets written to: best_model\\assets\n",
      "WARNING:absl:<keras.layers.recurrent.GRUCell object at 0x0000015E57CAE088> has the same name 'GRUCell' as a built-in Keras object. Consider renaming <class 'keras.layers.recurrent.GRUCell'> to avoid naming conflicts when loading with `tf.keras.models.load_model`. If renaming is not possible, pass the object in the `custom_objects` parameter of the load function.\n",
      "WARNING:absl:<keras.layers.recurrent.GRUCell object at 0x0000015E57CAEF48> has the same name 'GRUCell' as a built-in Keras object. Consider renaming <class 'keras.layers.recurrent.GRUCell'> to avoid naming conflicts when loading with `tf.keras.models.load_model`. If renaming is not possible, pass the object in the `custom_objects` parameter of the load function.\n"
     ]
    },
    {
     "name": "stdout",
     "output_type": "stream",
     "text": [
      "1098/1098 [==============================] - 14s 13ms/step - loss: 15.7922 - root_mean_squared_error: 3.9739\n",
      "Epoch 134/200\n",
      "1094/1098 [============================>.] - ETA: 0s - loss: 15.5730 - root_mean_squared_error: 3.9463"
     ]
    },
    {
     "name": "stderr",
     "output_type": "stream",
     "text": [
      "WARNING:absl:Found untraced functions such as gru_cell_layer_call_fn, gru_cell_layer_call_and_return_conditional_losses while saving (showing 2 of 2). These functions will not be directly callable after loading.\n"
     ]
    },
    {
     "name": "stdout",
     "output_type": "stream",
     "text": [
      "INFO:tensorflow:Assets written to: best_model\\assets\n"
     ]
    },
    {
     "name": "stderr",
     "output_type": "stream",
     "text": [
      "INFO:tensorflow:Assets written to: best_model\\assets\n",
      "WARNING:absl:<keras.layers.recurrent.GRUCell object at 0x0000015E57CAE088> has the same name 'GRUCell' as a built-in Keras object. Consider renaming <class 'keras.layers.recurrent.GRUCell'> to avoid naming conflicts when loading with `tf.keras.models.load_model`. If renaming is not possible, pass the object in the `custom_objects` parameter of the load function.\n",
      "WARNING:absl:<keras.layers.recurrent.GRUCell object at 0x0000015E57CAEF48> has the same name 'GRUCell' as a built-in Keras object. Consider renaming <class 'keras.layers.recurrent.GRUCell'> to avoid naming conflicts when loading with `tf.keras.models.load_model`. If renaming is not possible, pass the object in the `custom_objects` parameter of the load function.\n"
     ]
    },
    {
     "name": "stdout",
     "output_type": "stream",
     "text": [
      "1098/1098 [==============================] - 14s 13ms/step - loss: 15.5893 - root_mean_squared_error: 3.9483\n",
      "Epoch 135/200\n",
      "1098/1098 [==============================] - 9s 9ms/step - loss: 15.8233 - root_mean_squared_error: 3.9778\n",
      "Epoch 136/200\n",
      "1098/1098 [==============================] - 10s 9ms/step - loss: 15.7933 - root_mean_squared_error: 3.9741\n",
      "Epoch 137/200\n",
      "1096/1098 [============================>.] - ETA: 0s - loss: 15.5677 - root_mean_squared_error: 3.9456"
     ]
    },
    {
     "name": "stderr",
     "output_type": "stream",
     "text": [
      "WARNING:absl:Found untraced functions such as gru_cell_layer_call_fn, gru_cell_layer_call_and_return_conditional_losses while saving (showing 2 of 2). These functions will not be directly callable after loading.\n"
     ]
    },
    {
     "name": "stdout",
     "output_type": "stream",
     "text": [
      "INFO:tensorflow:Assets written to: best_model\\assets\n"
     ]
    },
    {
     "name": "stderr",
     "output_type": "stream",
     "text": [
      "INFO:tensorflow:Assets written to: best_model\\assets\n",
      "WARNING:absl:<keras.layers.recurrent.GRUCell object at 0x0000015E57CAE088> has the same name 'GRUCell' as a built-in Keras object. Consider renaming <class 'keras.layers.recurrent.GRUCell'> to avoid naming conflicts when loading with `tf.keras.models.load_model`. If renaming is not possible, pass the object in the `custom_objects` parameter of the load function.\n",
      "WARNING:absl:<keras.layers.recurrent.GRUCell object at 0x0000015E57CAEF48> has the same name 'GRUCell' as a built-in Keras object. Consider renaming <class 'keras.layers.recurrent.GRUCell'> to avoid naming conflicts when loading with `tf.keras.models.load_model`. If renaming is not possible, pass the object in the `custom_objects` parameter of the load function.\n"
     ]
    },
    {
     "name": "stdout",
     "output_type": "stream",
     "text": [
      "1098/1098 [==============================] - 13s 12ms/step - loss: 15.5577 - root_mean_squared_error: 3.9443\n",
      "Epoch 138/200\n",
      "1098/1098 [==============================] - 10s 10ms/step - loss: 15.5675 - root_mean_squared_error: 3.9456\n",
      "Epoch 139/200\n",
      "1098/1098 [==============================] - 11s 10ms/step - loss: 15.8145 - root_mean_squared_error: 3.9767\n",
      "Epoch 140/200\n",
      "1096/1098 [============================>.] - ETA: 0s - loss: 15.5598 - root_mean_squared_error: 3.9446"
     ]
    },
    {
     "name": "stderr",
     "output_type": "stream",
     "text": [
      "WARNING:absl:Found untraced functions such as gru_cell_layer_call_fn, gru_cell_layer_call_and_return_conditional_losses while saving (showing 2 of 2). These functions will not be directly callable after loading.\n"
     ]
    },
    {
     "name": "stdout",
     "output_type": "stream",
     "text": [
      "INFO:tensorflow:Assets written to: best_model\\assets\n"
     ]
    },
    {
     "name": "stderr",
     "output_type": "stream",
     "text": [
      "INFO:tensorflow:Assets written to: best_model\\assets\n",
      "WARNING:absl:<keras.layers.recurrent.GRUCell object at 0x0000015E57CAE088> has the same name 'GRUCell' as a built-in Keras object. Consider renaming <class 'keras.layers.recurrent.GRUCell'> to avoid naming conflicts when loading with `tf.keras.models.load_model`. If renaming is not possible, pass the object in the `custom_objects` parameter of the load function.\n",
      "WARNING:absl:<keras.layers.recurrent.GRUCell object at 0x0000015E57CAEF48> has the same name 'GRUCell' as a built-in Keras object. Consider renaming <class 'keras.layers.recurrent.GRUCell'> to avoid naming conflicts when loading with `tf.keras.models.load_model`. If renaming is not possible, pass the object in the `custom_objects` parameter of the load function.\n"
     ]
    },
    {
     "name": "stdout",
     "output_type": "stream",
     "text": [
      "1098/1098 [==============================] - 14s 13ms/step - loss: 15.5481 - root_mean_squared_error: 3.9431\n",
      "Epoch 141/200\n",
      "1097/1098 [============================>.] - ETA: 0s - loss: 15.5263 - root_mean_squared_error: 3.9403"
     ]
    },
    {
     "name": "stderr",
     "output_type": "stream",
     "text": [
      "WARNING:absl:Found untraced functions such as gru_cell_layer_call_fn, gru_cell_layer_call_and_return_conditional_losses while saving (showing 2 of 2). These functions will not be directly callable after loading.\n"
     ]
    },
    {
     "name": "stdout",
     "output_type": "stream",
     "text": [
      "INFO:tensorflow:Assets written to: best_model\\assets\n"
     ]
    },
    {
     "name": "stderr",
     "output_type": "stream",
     "text": [
      "INFO:tensorflow:Assets written to: best_model\\assets\n",
      "WARNING:absl:<keras.layers.recurrent.GRUCell object at 0x0000015E57CAE088> has the same name 'GRUCell' as a built-in Keras object. Consider renaming <class 'keras.layers.recurrent.GRUCell'> to avoid naming conflicts when loading with `tf.keras.models.load_model`. If renaming is not possible, pass the object in the `custom_objects` parameter of the load function.\n",
      "WARNING:absl:<keras.layers.recurrent.GRUCell object at 0x0000015E57CAEF48> has the same name 'GRUCell' as a built-in Keras object. Consider renaming <class 'keras.layers.recurrent.GRUCell'> to avoid naming conflicts when loading with `tf.keras.models.load_model`. If renaming is not possible, pass the object in the `custom_objects` parameter of the load function.\n"
     ]
    },
    {
     "name": "stdout",
     "output_type": "stream",
     "text": [
      "1098/1098 [==============================] - 14s 13ms/step - loss: 15.5218 - root_mean_squared_error: 3.9398\n",
      "Epoch 142/200\n",
      "1098/1098 [==============================] - 10s 9ms/step - loss: 15.5583 - root_mean_squared_error: 3.9444\n",
      "Epoch 143/200\n",
      "1096/1098 [============================>.] - ETA: 0s - loss: 15.3671 - root_mean_squared_error: 3.9201"
     ]
    },
    {
     "name": "stderr",
     "output_type": "stream",
     "text": [
      "WARNING:absl:Found untraced functions such as gru_cell_layer_call_fn, gru_cell_layer_call_and_return_conditional_losses while saving (showing 2 of 2). These functions will not be directly callable after loading.\n"
     ]
    },
    {
     "name": "stdout",
     "output_type": "stream",
     "text": [
      "INFO:tensorflow:Assets written to: best_model\\assets\n"
     ]
    },
    {
     "name": "stderr",
     "output_type": "stream",
     "text": [
      "INFO:tensorflow:Assets written to: best_model\\assets\n",
      "WARNING:absl:<keras.layers.recurrent.GRUCell object at 0x0000015E57CAE088> has the same name 'GRUCell' as a built-in Keras object. Consider renaming <class 'keras.layers.recurrent.GRUCell'> to avoid naming conflicts when loading with `tf.keras.models.load_model`. If renaming is not possible, pass the object in the `custom_objects` parameter of the load function.\n",
      "WARNING:absl:<keras.layers.recurrent.GRUCell object at 0x0000015E57CAEF48> has the same name 'GRUCell' as a built-in Keras object. Consider renaming <class 'keras.layers.recurrent.GRUCell'> to avoid naming conflicts when loading with `tf.keras.models.load_model`. If renaming is not possible, pass the object in the `custom_objects` parameter of the load function.\n"
     ]
    },
    {
     "name": "stdout",
     "output_type": "stream",
     "text": [
      "1098/1098 [==============================] - 14s 13ms/step - loss: 15.3604 - root_mean_squared_error: 3.9192\n",
      "Epoch 144/200\n",
      "1098/1098 [==============================] - 10s 9ms/step - loss: 15.5996 - root_mean_squared_error: 3.9496\n",
      "Epoch 145/200\n",
      "1098/1098 [==============================] - 10s 9ms/step - loss: 15.5431 - root_mean_squared_error: 3.9425\n",
      "Epoch 146/200\n",
      "1098/1098 [==============================] - 10s 9ms/step - loss: 15.3716 - root_mean_squared_error: 3.9207\n",
      "Epoch 147/200\n",
      "1095/1098 [============================>.] - ETA: 0s - loss: 15.1098 - root_mean_squared_error: 3.8871"
     ]
    },
    {
     "name": "stderr",
     "output_type": "stream",
     "text": [
      "WARNING:absl:Found untraced functions such as gru_cell_layer_call_fn, gru_cell_layer_call_and_return_conditional_losses while saving (showing 2 of 2). These functions will not be directly callable after loading.\n"
     ]
    },
    {
     "name": "stdout",
     "output_type": "stream",
     "text": [
      "INFO:tensorflow:Assets written to: best_model\\assets\n"
     ]
    },
    {
     "name": "stderr",
     "output_type": "stream",
     "text": [
      "INFO:tensorflow:Assets written to: best_model\\assets\n",
      "WARNING:absl:<keras.layers.recurrent.GRUCell object at 0x0000015E57CAE088> has the same name 'GRUCell' as a built-in Keras object. Consider renaming <class 'keras.layers.recurrent.GRUCell'> to avoid naming conflicts when loading with `tf.keras.models.load_model`. If renaming is not possible, pass the object in the `custom_objects` parameter of the load function.\n",
      "WARNING:absl:<keras.layers.recurrent.GRUCell object at 0x0000015E57CAEF48> has the same name 'GRUCell' as a built-in Keras object. Consider renaming <class 'keras.layers.recurrent.GRUCell'> to avoid naming conflicts when loading with `tf.keras.models.load_model`. If renaming is not possible, pass the object in the `custom_objects` parameter of the load function.\n"
     ]
    },
    {
     "name": "stdout",
     "output_type": "stream",
     "text": [
      "1098/1098 [==============================] - 14s 12ms/step - loss: 15.1077 - root_mean_squared_error: 3.8869\n",
      "Epoch 148/200\n",
      "1098/1098 [==============================] - 10s 9ms/step - loss: 15.3425 - root_mean_squared_error: 3.9170\n",
      "Epoch 149/200\n",
      "1098/1098 [==============================] - 10s 9ms/step - loss: 15.2181 - root_mean_squared_error: 3.9010\n",
      "Epoch 150/200\n",
      "1098/1098 [==============================] - 10s 9ms/step - loss: 15.3704 - root_mean_squared_error: 3.9205\n",
      "Epoch 151/200\n",
      "1093/1098 [============================>.] - ETA: 0s - loss: 15.0646 - root_mean_squared_error: 3.8813"
     ]
    },
    {
     "name": "stderr",
     "output_type": "stream",
     "text": [
      "WARNING:absl:Found untraced functions such as gru_cell_layer_call_fn, gru_cell_layer_call_and_return_conditional_losses while saving (showing 2 of 2). These functions will not be directly callable after loading.\n"
     ]
    },
    {
     "name": "stdout",
     "output_type": "stream",
     "text": [
      "INFO:tensorflow:Assets written to: best_model\\assets\n"
     ]
    },
    {
     "name": "stderr",
     "output_type": "stream",
     "text": [
      "INFO:tensorflow:Assets written to: best_model\\assets\n",
      "WARNING:absl:<keras.layers.recurrent.GRUCell object at 0x0000015E57CAE088> has the same name 'GRUCell' as a built-in Keras object. Consider renaming <class 'keras.layers.recurrent.GRUCell'> to avoid naming conflicts when loading with `tf.keras.models.load_model`. If renaming is not possible, pass the object in the `custom_objects` parameter of the load function.\n",
      "WARNING:absl:<keras.layers.recurrent.GRUCell object at 0x0000015E57CAEF48> has the same name 'GRUCell' as a built-in Keras object. Consider renaming <class 'keras.layers.recurrent.GRUCell'> to avoid naming conflicts when loading with `tf.keras.models.load_model`. If renaming is not possible, pass the object in the `custom_objects` parameter of the load function.\n"
     ]
    },
    {
     "name": "stdout",
     "output_type": "stream",
     "text": [
      "1098/1098 [==============================] - 14s 13ms/step - loss: 15.0490 - root_mean_squared_error: 3.8793\n",
      "Epoch 152/200\n",
      "1098/1098 [==============================] - 9s 8ms/step - loss: 15.0865 - root_mean_squared_error: 3.8841\n",
      "Epoch 153/200\n",
      "1098/1098 [==============================] - 9s 9ms/step - loss: 15.4833 - root_mean_squared_error: 3.9349\n",
      "Epoch 154/200\n",
      "1098/1098 [==============================] - 9s 9ms/step - loss: 15.1383 - root_mean_squared_error: 3.8908\n",
      "Epoch 155/200\n",
      "1095/1098 [============================>.] - ETA: 0s - loss: 15.0365 - root_mean_squared_error: 3.8777"
     ]
    },
    {
     "name": "stderr",
     "output_type": "stream",
     "text": [
      "WARNING:absl:Found untraced functions such as gru_cell_layer_call_fn, gru_cell_layer_call_and_return_conditional_losses while saving (showing 2 of 2). These functions will not be directly callable after loading.\n"
     ]
    },
    {
     "name": "stdout",
     "output_type": "stream",
     "text": [
      "INFO:tensorflow:Assets written to: best_model\\assets\n"
     ]
    },
    {
     "name": "stderr",
     "output_type": "stream",
     "text": [
      "INFO:tensorflow:Assets written to: best_model\\assets\n",
      "WARNING:absl:<keras.layers.recurrent.GRUCell object at 0x0000015E57CAE088> has the same name 'GRUCell' as a built-in Keras object. Consider renaming <class 'keras.layers.recurrent.GRUCell'> to avoid naming conflicts when loading with `tf.keras.models.load_model`. If renaming is not possible, pass the object in the `custom_objects` parameter of the load function.\n",
      "WARNING:absl:<keras.layers.recurrent.GRUCell object at 0x0000015E57CAEF48> has the same name 'GRUCell' as a built-in Keras object. Consider renaming <class 'keras.layers.recurrent.GRUCell'> to avoid naming conflicts when loading with `tf.keras.models.load_model`. If renaming is not possible, pass the object in the `custom_objects` parameter of the load function.\n"
     ]
    },
    {
     "name": "stdout",
     "output_type": "stream",
     "text": [
      "1098/1098 [==============================] - 13s 12ms/step - loss: 15.0306 - root_mean_squared_error: 3.8769\n",
      "Epoch 156/200\n",
      "1093/1098 [============================>.] - ETA: 0s - loss: 14.8834 - root_mean_squared_error: 3.8579"
     ]
    },
    {
     "name": "stderr",
     "output_type": "stream",
     "text": [
      "WARNING:absl:Found untraced functions such as gru_cell_layer_call_fn, gru_cell_layer_call_and_return_conditional_losses while saving (showing 2 of 2). These functions will not be directly callable after loading.\n"
     ]
    },
    {
     "name": "stdout",
     "output_type": "stream",
     "text": [
      "INFO:tensorflow:Assets written to: best_model\\assets\n"
     ]
    },
    {
     "name": "stderr",
     "output_type": "stream",
     "text": [
      "INFO:tensorflow:Assets written to: best_model\\assets\n",
      "WARNING:absl:<keras.layers.recurrent.GRUCell object at 0x0000015E57CAE088> has the same name 'GRUCell' as a built-in Keras object. Consider renaming <class 'keras.layers.recurrent.GRUCell'> to avoid naming conflicts when loading with `tf.keras.models.load_model`. If renaming is not possible, pass the object in the `custom_objects` parameter of the load function.\n",
      "WARNING:absl:<keras.layers.recurrent.GRUCell object at 0x0000015E57CAEF48> has the same name 'GRUCell' as a built-in Keras object. Consider renaming <class 'keras.layers.recurrent.GRUCell'> to avoid naming conflicts when loading with `tf.keras.models.load_model`. If renaming is not possible, pass the object in the `custom_objects` parameter of the load function.\n"
     ]
    },
    {
     "name": "stdout",
     "output_type": "stream",
     "text": [
      "1098/1098 [==============================] - 14s 13ms/step - loss: 14.8652 - root_mean_squared_error: 3.8555\n",
      "Epoch 157/200\n",
      "1098/1098 [==============================] - 10s 9ms/step - loss: 14.9693 - root_mean_squared_error: 3.8690\n",
      "Epoch 158/200\n",
      "1098/1098 [==============================] - 11s 10ms/step - loss: 15.0565 - root_mean_squared_error: 3.8803\n",
      "Epoch 159/200\n",
      "1098/1098 [==============================] - 11s 10ms/step - loss: 15.0404 - root_mean_squared_error: 3.8782\n",
      "Epoch 160/200\n",
      "1097/1098 [============================>.] - ETA: 0s - loss: 14.4853 - root_mean_squared_error: 3.8060"
     ]
    },
    {
     "name": "stderr",
     "output_type": "stream",
     "text": [
      "WARNING:absl:Found untraced functions such as gru_cell_layer_call_fn, gru_cell_layer_call_and_return_conditional_losses while saving (showing 2 of 2). These functions will not be directly callable after loading.\n"
     ]
    },
    {
     "name": "stdout",
     "output_type": "stream",
     "text": [
      "INFO:tensorflow:Assets written to: best_model\\assets\n"
     ]
    },
    {
     "name": "stderr",
     "output_type": "stream",
     "text": [
      "INFO:tensorflow:Assets written to: best_model\\assets\n",
      "WARNING:absl:<keras.layers.recurrent.GRUCell object at 0x0000015E57CAE088> has the same name 'GRUCell' as a built-in Keras object. Consider renaming <class 'keras.layers.recurrent.GRUCell'> to avoid naming conflicts when loading with `tf.keras.models.load_model`. If renaming is not possible, pass the object in the `custom_objects` parameter of the load function.\n",
      "WARNING:absl:<keras.layers.recurrent.GRUCell object at 0x0000015E57CAEF48> has the same name 'GRUCell' as a built-in Keras object. Consider renaming <class 'keras.layers.recurrent.GRUCell'> to avoid naming conflicts when loading with `tf.keras.models.load_model`. If renaming is not possible, pass the object in the `custom_objects` parameter of the load function.\n"
     ]
    },
    {
     "name": "stdout",
     "output_type": "stream",
     "text": [
      "1098/1098 [==============================] - 14s 13ms/step - loss: 14.4986 - root_mean_squared_error: 3.8077\n",
      "Epoch 161/200\n",
      "1098/1098 [==============================] - 10s 9ms/step - loss: 14.7351 - root_mean_squared_error: 3.8386\n",
      "Epoch 162/200\n",
      "1098/1098 [==============================] - 11s 10ms/step - loss: 14.7867 - root_mean_squared_error: 3.8453\n",
      "Epoch 163/200\n",
      "1098/1098 [==============================] - 10s 10ms/step - loss: 14.6729 - root_mean_squared_error: 3.8305\n",
      "Epoch 164/200\n",
      "1098/1098 [==============================] - 11s 10ms/step - loss: 14.8480 - root_mean_squared_error: 3.8533\n",
      "Epoch 165/200\n",
      "1098/1098 [==============================] - 10s 10ms/step - loss: 14.6823 - root_mean_squared_error: 3.8317\n",
      "Epoch 166/200\n",
      "1098/1098 [==============================] - 10s 9ms/step - loss: 14.6771 - root_mean_squared_error: 3.8311\n",
      "Epoch 167/200\n",
      "1093/1098 [============================>.] - ETA: 0s - loss: 14.4903 - root_mean_squared_error: 3.8066"
     ]
    },
    {
     "name": "stderr",
     "output_type": "stream",
     "text": [
      "WARNING:absl:Found untraced functions such as gru_cell_layer_call_fn, gru_cell_layer_call_and_return_conditional_losses while saving (showing 2 of 2). These functions will not be directly callable after loading.\n"
     ]
    },
    {
     "name": "stdout",
     "output_type": "stream",
     "text": [
      "INFO:tensorflow:Assets written to: best_model\\assets\n"
     ]
    },
    {
     "name": "stderr",
     "output_type": "stream",
     "text": [
      "INFO:tensorflow:Assets written to: best_model\\assets\n",
      "WARNING:absl:<keras.layers.recurrent.GRUCell object at 0x0000015E57CAE088> has the same name 'GRUCell' as a built-in Keras object. Consider renaming <class 'keras.layers.recurrent.GRUCell'> to avoid naming conflicts when loading with `tf.keras.models.load_model`. If renaming is not possible, pass the object in the `custom_objects` parameter of the load function.\n",
      "WARNING:absl:<keras.layers.recurrent.GRUCell object at 0x0000015E57CAEF48> has the same name 'GRUCell' as a built-in Keras object. Consider renaming <class 'keras.layers.recurrent.GRUCell'> to avoid naming conflicts when loading with `tf.keras.models.load_model`. If renaming is not possible, pass the object in the `custom_objects` parameter of the load function.\n"
     ]
    },
    {
     "name": "stdout",
     "output_type": "stream",
     "text": [
      "1098/1098 [==============================] - 14s 13ms/step - loss: 14.4888 - root_mean_squared_error: 3.8064\n",
      "Epoch 168/200\n",
      "1098/1098 [==============================] - 10s 9ms/step - loss: 14.8096 - root_mean_squared_error: 3.8483\n",
      "Epoch 169/200\n",
      "1098/1098 [==============================] - 10s 9ms/step - loss: 14.5547 - root_mean_squared_error: 3.8151\n",
      "Epoch 170/200\n",
      "1098/1098 [==============================] - 10s 9ms/step - loss: 14.6025 - root_mean_squared_error: 3.8213\n",
      "Epoch 171/200\n",
      "1098/1098 [==============================] - 10s 9ms/step - loss: 14.6215 - root_mean_squared_error: 3.8238\n",
      "Epoch 172/200\n",
      "1098/1098 [==============================] - 10s 9ms/step - loss: 14.6362 - root_mean_squared_error: 3.8257\n",
      "Epoch 173/200\n",
      "1098/1098 [==============================] - 10s 9ms/step - loss: 14.5972 - root_mean_squared_error: 3.8206\n",
      "Epoch 174/200\n",
      "1097/1098 [============================>.] - ETA: 0s - loss: 14.2815 - root_mean_squared_error: 3.7791"
     ]
    },
    {
     "name": "stderr",
     "output_type": "stream",
     "text": [
      "WARNING:absl:Found untraced functions such as gru_cell_layer_call_fn, gru_cell_layer_call_and_return_conditional_losses while saving (showing 2 of 2). These functions will not be directly callable after loading.\n"
     ]
    },
    {
     "name": "stdout",
     "output_type": "stream",
     "text": [
      "INFO:tensorflow:Assets written to: best_model\\assets\n"
     ]
    },
    {
     "name": "stderr",
     "output_type": "stream",
     "text": [
      "INFO:tensorflow:Assets written to: best_model\\assets\n",
      "WARNING:absl:<keras.layers.recurrent.GRUCell object at 0x0000015E57CAE088> has the same name 'GRUCell' as a built-in Keras object. Consider renaming <class 'keras.layers.recurrent.GRUCell'> to avoid naming conflicts when loading with `tf.keras.models.load_model`. If renaming is not possible, pass the object in the `custom_objects` parameter of the load function.\n",
      "WARNING:absl:<keras.layers.recurrent.GRUCell object at 0x0000015E57CAEF48> has the same name 'GRUCell' as a built-in Keras object. Consider renaming <class 'keras.layers.recurrent.GRUCell'> to avoid naming conflicts when loading with `tf.keras.models.load_model`. If renaming is not possible, pass the object in the `custom_objects` parameter of the load function.\n"
     ]
    },
    {
     "name": "stdout",
     "output_type": "stream",
     "text": [
      "1098/1098 [==============================] - 14s 13ms/step - loss: 14.2806 - root_mean_squared_error: 3.7790\n",
      "Epoch 175/200\n",
      "1098/1098 [==============================] - 10s 9ms/step - loss: 14.4467 - root_mean_squared_error: 3.8009\n",
      "Epoch 176/200\n",
      "1098/1098 [==============================] - 10s 9ms/step - loss: 14.4962 - root_mean_squared_error: 3.8074\n",
      "Epoch 177/200\n",
      "1098/1098 [==============================] - 10s 9ms/step - loss: 14.5193 - root_mean_squared_error: 3.8104\n",
      "Epoch 178/200\n",
      "1098/1098 [==============================] - ETA: 0s - loss: 14.2469 - root_mean_squared_error: 3.7745"
     ]
    },
    {
     "name": "stderr",
     "output_type": "stream",
     "text": [
      "WARNING:absl:Found untraced functions such as gru_cell_layer_call_fn, gru_cell_layer_call_and_return_conditional_losses while saving (showing 2 of 2). These functions will not be directly callable after loading.\n"
     ]
    },
    {
     "name": "stdout",
     "output_type": "stream",
     "text": [
      "INFO:tensorflow:Assets written to: best_model\\assets\n"
     ]
    },
    {
     "name": "stderr",
     "output_type": "stream",
     "text": [
      "INFO:tensorflow:Assets written to: best_model\\assets\n",
      "WARNING:absl:<keras.layers.recurrent.GRUCell object at 0x0000015E57CAE088> has the same name 'GRUCell' as a built-in Keras object. Consider renaming <class 'keras.layers.recurrent.GRUCell'> to avoid naming conflicts when loading with `tf.keras.models.load_model`. If renaming is not possible, pass the object in the `custom_objects` parameter of the load function.\n",
      "WARNING:absl:<keras.layers.recurrent.GRUCell object at 0x0000015E57CAEF48> has the same name 'GRUCell' as a built-in Keras object. Consider renaming <class 'keras.layers.recurrent.GRUCell'> to avoid naming conflicts when loading with `tf.keras.models.load_model`. If renaming is not possible, pass the object in the `custom_objects` parameter of the load function.\n"
     ]
    },
    {
     "name": "stdout",
     "output_type": "stream",
     "text": [
      "1098/1098 [==============================] - 14s 13ms/step - loss: 14.2469 - root_mean_squared_error: 3.7745\n",
      "Epoch 179/200\n",
      "1095/1098 [============================>.] - ETA: 0s - loss: 14.0475 - root_mean_squared_error: 3.7480"
     ]
    },
    {
     "name": "stderr",
     "output_type": "stream",
     "text": [
      "WARNING:absl:Found untraced functions such as gru_cell_layer_call_fn, gru_cell_layer_call_and_return_conditional_losses while saving (showing 2 of 2). These functions will not be directly callable after loading.\n"
     ]
    },
    {
     "name": "stdout",
     "output_type": "stream",
     "text": [
      "INFO:tensorflow:Assets written to: best_model\\assets\n"
     ]
    },
    {
     "name": "stderr",
     "output_type": "stream",
     "text": [
      "INFO:tensorflow:Assets written to: best_model\\assets\n",
      "WARNING:absl:<keras.layers.recurrent.GRUCell object at 0x0000015E57CAE088> has the same name 'GRUCell' as a built-in Keras object. Consider renaming <class 'keras.layers.recurrent.GRUCell'> to avoid naming conflicts when loading with `tf.keras.models.load_model`. If renaming is not possible, pass the object in the `custom_objects` parameter of the load function.\n",
      "WARNING:absl:<keras.layers.recurrent.GRUCell object at 0x0000015E57CAEF48> has the same name 'GRUCell' as a built-in Keras object. Consider renaming <class 'keras.layers.recurrent.GRUCell'> to avoid naming conflicts when loading with `tf.keras.models.load_model`. If renaming is not possible, pass the object in the `custom_objects` parameter of the load function.\n"
     ]
    },
    {
     "name": "stdout",
     "output_type": "stream",
     "text": [
      "1098/1098 [==============================] - 13s 12ms/step - loss: 14.0332 - root_mean_squared_error: 3.7461\n",
      "Epoch 180/200\n",
      "1098/1098 [==============================] - 10s 9ms/step - loss: 14.2169 - root_mean_squared_error: 3.7705\n",
      "Epoch 181/200\n",
      "1098/1098 [==============================] - 11s 10ms/step - loss: 14.3652 - root_mean_squared_error: 3.7901\n",
      "Epoch 182/200\n",
      "1098/1098 [==============================] - 11s 10ms/step - loss: 14.0877 - root_mean_squared_error: 3.7534\n",
      "Epoch 183/200\n",
      "1098/1098 [==============================] - 11s 10ms/step - loss: 14.0474 - root_mean_squared_error: 3.7480\n",
      "Epoch 184/200\n",
      "1098/1098 [==============================] - 11s 10ms/step - loss: 14.2417 - root_mean_squared_error: 3.7738\n",
      "Epoch 185/200\n",
      "1097/1098 [============================>.] - ETA: 0s - loss: 13.9241 - root_mean_squared_error: 3.7315"
     ]
    },
    {
     "name": "stderr",
     "output_type": "stream",
     "text": [
      "WARNING:absl:Found untraced functions such as gru_cell_layer_call_fn, gru_cell_layer_call_and_return_conditional_losses while saving (showing 2 of 2). These functions will not be directly callable after loading.\n"
     ]
    },
    {
     "name": "stdout",
     "output_type": "stream",
     "text": [
      "INFO:tensorflow:Assets written to: best_model\\assets\n"
     ]
    },
    {
     "name": "stderr",
     "output_type": "stream",
     "text": [
      "INFO:tensorflow:Assets written to: best_model\\assets\n",
      "WARNING:absl:<keras.layers.recurrent.GRUCell object at 0x0000015E57CAE088> has the same name 'GRUCell' as a built-in Keras object. Consider renaming <class 'keras.layers.recurrent.GRUCell'> to avoid naming conflicts when loading with `tf.keras.models.load_model`. If renaming is not possible, pass the object in the `custom_objects` parameter of the load function.\n",
      "WARNING:absl:<keras.layers.recurrent.GRUCell object at 0x0000015E57CAEF48> has the same name 'GRUCell' as a built-in Keras object. Consider renaming <class 'keras.layers.recurrent.GRUCell'> to avoid naming conflicts when loading with `tf.keras.models.load_model`. If renaming is not possible, pass the object in the `custom_objects` parameter of the load function.\n"
     ]
    },
    {
     "name": "stdout",
     "output_type": "stream",
     "text": [
      "1098/1098 [==============================] - 14s 13ms/step - loss: 13.9235 - root_mean_squared_error: 3.7314\n",
      "Epoch 186/200\n",
      "1098/1098 [==============================] - 10s 9ms/step - loss: 14.1043 - root_mean_squared_error: 3.7556\n",
      "Epoch 187/200\n",
      "1097/1098 [============================>.] - ETA: 0s - loss: 13.8811 - root_mean_squared_error: 3.7257"
     ]
    },
    {
     "name": "stderr",
     "output_type": "stream",
     "text": [
      "WARNING:absl:Found untraced functions such as gru_cell_layer_call_fn, gru_cell_layer_call_and_return_conditional_losses while saving (showing 2 of 2). These functions will not be directly callable after loading.\n"
     ]
    },
    {
     "name": "stdout",
     "output_type": "stream",
     "text": [
      "INFO:tensorflow:Assets written to: best_model\\assets\n"
     ]
    },
    {
     "name": "stderr",
     "output_type": "stream",
     "text": [
      "INFO:tensorflow:Assets written to: best_model\\assets\n",
      "WARNING:absl:<keras.layers.recurrent.GRUCell object at 0x0000015E57CAE088> has the same name 'GRUCell' as a built-in Keras object. Consider renaming <class 'keras.layers.recurrent.GRUCell'> to avoid naming conflicts when loading with `tf.keras.models.load_model`. If renaming is not possible, pass the object in the `custom_objects` parameter of the load function.\n",
      "WARNING:absl:<keras.layers.recurrent.GRUCell object at 0x0000015E57CAEF48> has the same name 'GRUCell' as a built-in Keras object. Consider renaming <class 'keras.layers.recurrent.GRUCell'> to avoid naming conflicts when loading with `tf.keras.models.load_model`. If renaming is not possible, pass the object in the `custom_objects` parameter of the load function.\n"
     ]
    },
    {
     "name": "stdout",
     "output_type": "stream",
     "text": [
      "1098/1098 [==============================] - 14s 13ms/step - loss: 13.8773 - root_mean_squared_error: 3.7252\n",
      "Epoch 188/200\n",
      "1098/1098 [==============================] - 10s 9ms/step - loss: 14.1058 - root_mean_squared_error: 3.7558\n",
      "Epoch 189/200\n",
      "1098/1098 [==============================] - 10s 10ms/step - loss: 13.8972 - root_mean_squared_error: 3.7279\n",
      "Epoch 190/200\n",
      "1098/1098 [==============================] - 10s 9ms/step - loss: 14.0476 - root_mean_squared_error: 3.7480\n",
      "Epoch 191/200\n",
      "1098/1098 [==============================] - 10s 10ms/step - loss: 14.2441 - root_mean_squared_error: 3.7741\n",
      "Epoch 192/200\n",
      "1098/1098 [==============================] - 10s 9ms/step - loss: 13.9761 - root_mean_squared_error: 3.7385\n",
      "Epoch 193/200\n",
      "1096/1098 [============================>.] - ETA: 0s - loss: 13.5541 - root_mean_squared_error: 3.6816"
     ]
    },
    {
     "name": "stderr",
     "output_type": "stream",
     "text": [
      "WARNING:absl:Found untraced functions such as gru_cell_layer_call_fn, gru_cell_layer_call_and_return_conditional_losses while saving (showing 2 of 2). These functions will not be directly callable after loading.\n"
     ]
    },
    {
     "name": "stdout",
     "output_type": "stream",
     "text": [
      "INFO:tensorflow:Assets written to: best_model\\assets\n"
     ]
    },
    {
     "name": "stderr",
     "output_type": "stream",
     "text": [
      "INFO:tensorflow:Assets written to: best_model\\assets\n",
      "WARNING:absl:<keras.layers.recurrent.GRUCell object at 0x0000015E57CAE088> has the same name 'GRUCell' as a built-in Keras object. Consider renaming <class 'keras.layers.recurrent.GRUCell'> to avoid naming conflicts when loading with `tf.keras.models.load_model`. If renaming is not possible, pass the object in the `custom_objects` parameter of the load function.\n",
      "WARNING:absl:<keras.layers.recurrent.GRUCell object at 0x0000015E57CAEF48> has the same name 'GRUCell' as a built-in Keras object. Consider renaming <class 'keras.layers.recurrent.GRUCell'> to avoid naming conflicts when loading with `tf.keras.models.load_model`. If renaming is not possible, pass the object in the `custom_objects` parameter of the load function.\n"
     ]
    },
    {
     "name": "stdout",
     "output_type": "stream",
     "text": [
      "1098/1098 [==============================] - 14s 13ms/step - loss: 13.5580 - root_mean_squared_error: 3.6821\n",
      "Epoch 194/200\n",
      "1098/1098 [==============================] - 10s 9ms/step - loss: 13.9607 - root_mean_squared_error: 3.7364\n",
      "Epoch 195/200\n",
      "1098/1098 [==============================] - 10s 9ms/step - loss: 13.5834 - root_mean_squared_error: 3.6856\n",
      "Epoch 196/200\n",
      "1098/1098 [==============================] - 10s 9ms/step - loss: 14.1643 - root_mean_squared_error: 3.7635\n",
      "Epoch 197/200\n",
      "1098/1098 [==============================] - 10s 10ms/step - loss: 13.9661 - root_mean_squared_error: 3.7371\n",
      "Epoch 198/200\n",
      "1098/1098 [==============================] - 11s 10ms/step - loss: 13.6964 - root_mean_squared_error: 3.7009\n",
      "Epoch 199/200\n",
      "1098/1098 [==============================] - 10s 9ms/step - loss: 13.6558 - root_mean_squared_error: 3.6954\n",
      "Epoch 200/200\n",
      "1098/1098 [==============================] - 10s 9ms/step - loss: 13.8008 - root_mean_squared_error: 3.7149\n",
      "275/275 [==============================] - 1s 3ms/step - loss: 17.4219 - root_mean_squared_error: 4.1740\n",
      "Epoch 1/200\n",
      "1098/1098 [==============================] - 10s 9ms/step - loss: 14.7221 - root_mean_squared_error: 3.8369\n",
      "Epoch 2/200\n",
      "1098/1098 [==============================] - 10s 10ms/step - loss: 14.6642 - root_mean_squared_error: 3.8294\n",
      "Epoch 3/200\n",
      "1098/1098 [==============================] - 10s 9ms/step - loss: 14.7249 - root_mean_squared_error: 3.8373\n",
      "Epoch 4/200\n",
      "1098/1098 [==============================] - 10s 9ms/step - loss: 14.5098 - root_mean_squared_error: 3.8092\n",
      "Epoch 5/200\n",
      "1098/1098 [==============================] - 10s 9ms/step - loss: 14.7373 - root_mean_squared_error: 3.8389\n",
      "Epoch 6/200\n",
      "1098/1098 [==============================] - 10s 9ms/step - loss: 14.4197 - root_mean_squared_error: 3.7973\n",
      "Epoch 7/200\n",
      "1098/1098 [==============================] - 10s 9ms/step - loss: 14.3634 - root_mean_squared_error: 3.7899\n",
      "Epoch 8/200\n",
      "1098/1098 [==============================] - 10s 10ms/step - loss: 14.4770 - root_mean_squared_error: 3.8049\n",
      "Epoch 9/200\n",
      "1098/1098 [==============================] - 11s 10ms/step - loss: 14.2014 - root_mean_squared_error: 3.7685\n",
      "Epoch 10/200\n",
      "1098/1098 [==============================] - 11s 10ms/step - loss: 14.2221 - root_mean_squared_error: 3.7712\n",
      "Epoch 11/200\n",
      "1098/1098 [==============================] - 10s 10ms/step - loss: 13.9254 - root_mean_squared_error: 3.7317\n",
      "Epoch 12/200\n",
      "1098/1098 [==============================] - 10s 10ms/step - loss: 14.1543 - root_mean_squared_error: 3.7622\n",
      "Epoch 13/200\n",
      "1098/1098 [==============================] - 10s 9ms/step - loss: 14.2018 - root_mean_squared_error: 3.7685\n",
      "Epoch 14/200\n",
      "1098/1098 [==============================] - 10s 10ms/step - loss: 13.8141 - root_mean_squared_error: 3.7167\n",
      "Epoch 15/200\n",
      "1098/1098 [==============================] - 10s 9ms/step - loss: 13.9437 - root_mean_squared_error: 3.7341\n",
      "Epoch 16/200\n",
      "1098/1098 [==============================] - 10s 9ms/step - loss: 13.8423 - root_mean_squared_error: 3.7205\n",
      "Epoch 17/200\n",
      "1098/1098 [==============================] - 10s 9ms/step - loss: 13.7732 - root_mean_squared_error: 3.7112\n",
      "Epoch 18/200\n",
      "1098/1098 [==============================] - 10s 10ms/step - loss: 13.6884 - root_mean_squared_error: 3.6998\n",
      "Epoch 19/200\n",
      "1098/1098 [==============================] - 10s 9ms/step - loss: 13.8297 - root_mean_squared_error: 3.7188\n",
      "Epoch 20/200\n",
      "1098/1098 [==============================] - 11s 10ms/step - loss: 13.8171 - root_mean_squared_error: 3.7171\n",
      "Epoch 21/200\n",
      "1098/1098 [==============================] - 11s 10ms/step - loss: 13.7909 - root_mean_squared_error: 3.7136\n",
      "Epoch 22/200\n",
      "1098/1098 [==============================] - 10s 9ms/step - loss: 13.7560 - root_mean_squared_error: 3.7089\n",
      "Epoch 23/200\n",
      "1096/1098 [============================>.] - ETA: 0s - loss: 13.4472 - root_mean_squared_error: 3.6670"
     ]
    },
    {
     "name": "stderr",
     "output_type": "stream",
     "text": [
      "WARNING:absl:Found untraced functions such as gru_cell_layer_call_fn, gru_cell_layer_call_and_return_conditional_losses while saving (showing 2 of 2). These functions will not be directly callable after loading.\n"
     ]
    },
    {
     "name": "stdout",
     "output_type": "stream",
     "text": [
      "INFO:tensorflow:Assets written to: best_model\\assets\n"
     ]
    },
    {
     "name": "stderr",
     "output_type": "stream",
     "text": [
      "INFO:tensorflow:Assets written to: best_model\\assets\n",
      "WARNING:absl:<keras.layers.recurrent.GRUCell object at 0x0000015E57CAE088> has the same name 'GRUCell' as a built-in Keras object. Consider renaming <class 'keras.layers.recurrent.GRUCell'> to avoid naming conflicts when loading with `tf.keras.models.load_model`. If renaming is not possible, pass the object in the `custom_objects` parameter of the load function.\n",
      "WARNING:absl:<keras.layers.recurrent.GRUCell object at 0x0000015E57CAEF48> has the same name 'GRUCell' as a built-in Keras object. Consider renaming <class 'keras.layers.recurrent.GRUCell'> to avoid naming conflicts when loading with `tf.keras.models.load_model`. If renaming is not possible, pass the object in the `custom_objects` parameter of the load function.\n"
     ]
    },
    {
     "name": "stdout",
     "output_type": "stream",
     "text": [
      "1098/1098 [==============================] - 14s 13ms/step - loss: 13.4643 - root_mean_squared_error: 3.6694\n",
      "Epoch 24/200\n",
      "1098/1098 [==============================] - 10s 9ms/step - loss: 13.5916 - root_mean_squared_error: 3.6867\n",
      "Epoch 25/200\n",
      "1098/1098 [==============================] - 10s 9ms/step - loss: 13.8222 - root_mean_squared_error: 3.7178\n",
      "Epoch 26/200\n",
      "1098/1098 [==============================] - 10s 9ms/step - loss: 13.6741 - root_mean_squared_error: 3.6978\n",
      "Epoch 27/200\n",
      "1098/1098 [==============================] - 10s 9ms/step - loss: 13.7076 - root_mean_squared_error: 3.7024\n",
      "Epoch 28/200\n",
      "1095/1098 [============================>.] - ETA: 0s - loss: 13.3604 - root_mean_squared_error: 3.6552"
     ]
    },
    {
     "name": "stderr",
     "output_type": "stream",
     "text": [
      "WARNING:absl:Found untraced functions such as gru_cell_layer_call_fn, gru_cell_layer_call_and_return_conditional_losses while saving (showing 2 of 2). These functions will not be directly callable after loading.\n"
     ]
    },
    {
     "name": "stdout",
     "output_type": "stream",
     "text": [
      "INFO:tensorflow:Assets written to: best_model\\assets\n"
     ]
    },
    {
     "name": "stderr",
     "output_type": "stream",
     "text": [
      "INFO:tensorflow:Assets written to: best_model\\assets\n",
      "WARNING:absl:<keras.layers.recurrent.GRUCell object at 0x0000015E57CAE088> has the same name 'GRUCell' as a built-in Keras object. Consider renaming <class 'keras.layers.recurrent.GRUCell'> to avoid naming conflicts when loading with `tf.keras.models.load_model`. If renaming is not possible, pass the object in the `custom_objects` parameter of the load function.\n",
      "WARNING:absl:<keras.layers.recurrent.GRUCell object at 0x0000015E57CAEF48> has the same name 'GRUCell' as a built-in Keras object. Consider renaming <class 'keras.layers.recurrent.GRUCell'> to avoid naming conflicts when loading with `tf.keras.models.load_model`. If renaming is not possible, pass the object in the `custom_objects` parameter of the load function.\n"
     ]
    },
    {
     "name": "stdout",
     "output_type": "stream",
     "text": [
      "1098/1098 [==============================] - 13s 12ms/step - loss: 13.3452 - root_mean_squared_error: 3.6531\n",
      "Epoch 29/200\n",
      "1094/1098 [============================>.] - ETA: 0s - loss: 13.1449 - root_mean_squared_error: 3.6256"
     ]
    },
    {
     "name": "stderr",
     "output_type": "stream",
     "text": [
      "WARNING:absl:Found untraced functions such as gru_cell_layer_call_fn, gru_cell_layer_call_and_return_conditional_losses while saving (showing 2 of 2). These functions will not be directly callable after loading.\n"
     ]
    },
    {
     "name": "stdout",
     "output_type": "stream",
     "text": [
      "INFO:tensorflow:Assets written to: best_model\\assets\n"
     ]
    },
    {
     "name": "stderr",
     "output_type": "stream",
     "text": [
      "INFO:tensorflow:Assets written to: best_model\\assets\n",
      "WARNING:absl:<keras.layers.recurrent.GRUCell object at 0x0000015E57CAE088> has the same name 'GRUCell' as a built-in Keras object. Consider renaming <class 'keras.layers.recurrent.GRUCell'> to avoid naming conflicts when loading with `tf.keras.models.load_model`. If renaming is not possible, pass the object in the `custom_objects` parameter of the load function.\n",
      "WARNING:absl:<keras.layers.recurrent.GRUCell object at 0x0000015E57CAEF48> has the same name 'GRUCell' as a built-in Keras object. Consider renaming <class 'keras.layers.recurrent.GRUCell'> to avoid naming conflicts when loading with `tf.keras.models.load_model`. If renaming is not possible, pass the object in the `custom_objects` parameter of the load function.\n"
     ]
    },
    {
     "name": "stdout",
     "output_type": "stream",
     "text": [
      "1098/1098 [==============================] - 13s 12ms/step - loss: 13.2907 - root_mean_squared_error: 3.6456\n",
      "Epoch 30/200\n",
      "1098/1098 [==============================] - 10s 9ms/step - loss: 13.4774 - root_mean_squared_error: 3.6712\n",
      "Epoch 31/200\n",
      "1098/1098 [==============================] - 11s 10ms/step - loss: 13.3815 - root_mean_squared_error: 3.6581\n",
      "Epoch 32/200\n",
      "1098/1098 [==============================] - 11s 10ms/step - loss: 13.3577 - root_mean_squared_error: 3.6548\n",
      "Epoch 33/200\n",
      "1098/1098 [==============================] - 11s 10ms/step - loss: 13.3373 - root_mean_squared_error: 3.6520\n",
      "Epoch 34/200\n",
      "1098/1098 [==============================] - 11s 10ms/step - loss: 13.4175 - root_mean_squared_error: 3.6630\n",
      "Epoch 35/200\n",
      "1098/1098 [==============================] - ETA: 0s - loss: 13.2257 - root_mean_squared_error: 3.6367"
     ]
    },
    {
     "name": "stderr",
     "output_type": "stream",
     "text": [
      "WARNING:absl:Found untraced functions such as gru_cell_layer_call_fn, gru_cell_layer_call_and_return_conditional_losses while saving (showing 2 of 2). These functions will not be directly callable after loading.\n"
     ]
    },
    {
     "name": "stdout",
     "output_type": "stream",
     "text": [
      "INFO:tensorflow:Assets written to: best_model\\assets\n"
     ]
    },
    {
     "name": "stderr",
     "output_type": "stream",
     "text": [
      "INFO:tensorflow:Assets written to: best_model\\assets\n",
      "WARNING:absl:<keras.layers.recurrent.GRUCell object at 0x0000015E57CAE088> has the same name 'GRUCell' as a built-in Keras object. Consider renaming <class 'keras.layers.recurrent.GRUCell'> to avoid naming conflicts when loading with `tf.keras.models.load_model`. If renaming is not possible, pass the object in the `custom_objects` parameter of the load function.\n",
      "WARNING:absl:<keras.layers.recurrent.GRUCell object at 0x0000015E57CAEF48> has the same name 'GRUCell' as a built-in Keras object. Consider renaming <class 'keras.layers.recurrent.GRUCell'> to avoid naming conflicts when loading with `tf.keras.models.load_model`. If renaming is not possible, pass the object in the `custom_objects` parameter of the load function.\n"
     ]
    },
    {
     "name": "stdout",
     "output_type": "stream",
     "text": [
      "1098/1098 [==============================] - 14s 13ms/step - loss: 13.2257 - root_mean_squared_error: 3.6367\n",
      "Epoch 36/200\n",
      "1098/1098 [==============================] - ETA: 0s - loss: 13.1308 - root_mean_squared_error: 3.6236"
     ]
    },
    {
     "name": "stderr",
     "output_type": "stream",
     "text": [
      "WARNING:absl:Found untraced functions such as gru_cell_layer_call_fn, gru_cell_layer_call_and_return_conditional_losses while saving (showing 2 of 2). These functions will not be directly callable after loading.\n"
     ]
    },
    {
     "name": "stdout",
     "output_type": "stream",
     "text": [
      "INFO:tensorflow:Assets written to: best_model\\assets\n"
     ]
    },
    {
     "name": "stderr",
     "output_type": "stream",
     "text": [
      "INFO:tensorflow:Assets written to: best_model\\assets\n",
      "WARNING:absl:<keras.layers.recurrent.GRUCell object at 0x0000015E57CAE088> has the same name 'GRUCell' as a built-in Keras object. Consider renaming <class 'keras.layers.recurrent.GRUCell'> to avoid naming conflicts when loading with `tf.keras.models.load_model`. If renaming is not possible, pass the object in the `custom_objects` parameter of the load function.\n",
      "WARNING:absl:<keras.layers.recurrent.GRUCell object at 0x0000015E57CAEF48> has the same name 'GRUCell' as a built-in Keras object. Consider renaming <class 'keras.layers.recurrent.GRUCell'> to avoid naming conflicts when loading with `tf.keras.models.load_model`. If renaming is not possible, pass the object in the `custom_objects` parameter of the load function.\n"
     ]
    },
    {
     "name": "stdout",
     "output_type": "stream",
     "text": [
      "1098/1098 [==============================] - 14s 12ms/step - loss: 13.1308 - root_mean_squared_error: 3.6236\n",
      "Epoch 37/200\n",
      "1098/1098 [==============================] - 10s 9ms/step - loss: 13.1570 - root_mean_squared_error: 3.6273\n",
      "Epoch 38/200\n",
      "1098/1098 [==============================] - ETA: 0s - loss: 13.1259 - root_mean_squared_error: 3.6230"
     ]
    },
    {
     "name": "stderr",
     "output_type": "stream",
     "text": [
      "WARNING:absl:Found untraced functions such as gru_cell_layer_call_fn, gru_cell_layer_call_and_return_conditional_losses while saving (showing 2 of 2). These functions will not be directly callable after loading.\n"
     ]
    },
    {
     "name": "stdout",
     "output_type": "stream",
     "text": [
      "INFO:tensorflow:Assets written to: best_model\\assets\n"
     ]
    },
    {
     "name": "stderr",
     "output_type": "stream",
     "text": [
      "INFO:tensorflow:Assets written to: best_model\\assets\n",
      "WARNING:absl:<keras.layers.recurrent.GRUCell object at 0x0000015E57CAE088> has the same name 'GRUCell' as a built-in Keras object. Consider renaming <class 'keras.layers.recurrent.GRUCell'> to avoid naming conflicts when loading with `tf.keras.models.load_model`. If renaming is not possible, pass the object in the `custom_objects` parameter of the load function.\n",
      "WARNING:absl:<keras.layers.recurrent.GRUCell object at 0x0000015E57CAEF48> has the same name 'GRUCell' as a built-in Keras object. Consider renaming <class 'keras.layers.recurrent.GRUCell'> to avoid naming conflicts when loading with `tf.keras.models.load_model`. If renaming is not possible, pass the object in the `custom_objects` parameter of the load function.\n"
     ]
    },
    {
     "name": "stdout",
     "output_type": "stream",
     "text": [
      "1098/1098 [==============================] - 14s 12ms/step - loss: 13.1259 - root_mean_squared_error: 3.6230\n",
      "Epoch 39/200\n",
      "1095/1098 [============================>.] - ETA: 0s - loss: 13.0261 - root_mean_squared_error: 3.6092"
     ]
    },
    {
     "name": "stderr",
     "output_type": "stream",
     "text": [
      "WARNING:absl:Found untraced functions such as gru_cell_layer_call_fn, gru_cell_layer_call_and_return_conditional_losses while saving (showing 2 of 2). These functions will not be directly callable after loading.\n"
     ]
    },
    {
     "name": "stdout",
     "output_type": "stream",
     "text": [
      "INFO:tensorflow:Assets written to: best_model\\assets\n"
     ]
    },
    {
     "name": "stderr",
     "output_type": "stream",
     "text": [
      "INFO:tensorflow:Assets written to: best_model\\assets\n",
      "WARNING:absl:<keras.layers.recurrent.GRUCell object at 0x0000015E57CAE088> has the same name 'GRUCell' as a built-in Keras object. Consider renaming <class 'keras.layers.recurrent.GRUCell'> to avoid naming conflicts when loading with `tf.keras.models.load_model`. If renaming is not possible, pass the object in the `custom_objects` parameter of the load function.\n",
      "WARNING:absl:<keras.layers.recurrent.GRUCell object at 0x0000015E57CAEF48> has the same name 'GRUCell' as a built-in Keras object. Consider renaming <class 'keras.layers.recurrent.GRUCell'> to avoid naming conflicts when loading with `tf.keras.models.load_model`. If renaming is not possible, pass the object in the `custom_objects` parameter of the load function.\n"
     ]
    },
    {
     "name": "stdout",
     "output_type": "stream",
     "text": [
      "1098/1098 [==============================] - 13s 12ms/step - loss: 13.0162 - root_mean_squared_error: 3.6078\n",
      "Epoch 40/200\n",
      "1094/1098 [============================>.] - ETA: 0s - loss: 12.9317 - root_mean_squared_error: 3.5961"
     ]
    },
    {
     "name": "stderr",
     "output_type": "stream",
     "text": [
      "WARNING:absl:Found untraced functions such as gru_cell_layer_call_fn, gru_cell_layer_call_and_return_conditional_losses while saving (showing 2 of 2). These functions will not be directly callable after loading.\n"
     ]
    },
    {
     "name": "stdout",
     "output_type": "stream",
     "text": [
      "INFO:tensorflow:Assets written to: best_model\\assets\n"
     ]
    },
    {
     "name": "stderr",
     "output_type": "stream",
     "text": [
      "INFO:tensorflow:Assets written to: best_model\\assets\n",
      "WARNING:absl:<keras.layers.recurrent.GRUCell object at 0x0000015E57CAE088> has the same name 'GRUCell' as a built-in Keras object. Consider renaming <class 'keras.layers.recurrent.GRUCell'> to avoid naming conflicts when loading with `tf.keras.models.load_model`. If renaming is not possible, pass the object in the `custom_objects` parameter of the load function.\n",
      "WARNING:absl:<keras.layers.recurrent.GRUCell object at 0x0000015E57CAEF48> has the same name 'GRUCell' as a built-in Keras object. Consider renaming <class 'keras.layers.recurrent.GRUCell'> to avoid naming conflicts when loading with `tf.keras.models.load_model`. If renaming is not possible, pass the object in the `custom_objects` parameter of the load function.\n"
     ]
    },
    {
     "name": "stdout",
     "output_type": "stream",
     "text": [
      "1098/1098 [==============================] - 13s 11ms/step - loss: 12.9132 - root_mean_squared_error: 3.5935\n",
      "Epoch 41/200\n",
      "1098/1098 [==============================] - 10s 9ms/step - loss: 13.0270 - root_mean_squared_error: 3.6093\n",
      "Epoch 42/200\n",
      "1098/1098 [==============================] - 11s 10ms/step - loss: 13.0515 - root_mean_squared_error: 3.6127\n",
      "Epoch 43/200\n",
      "1098/1098 [==============================] - 11s 10ms/step - loss: 12.9591 - root_mean_squared_error: 3.5999\n",
      "Epoch 44/200\n",
      "1098/1098 [==============================] - 11s 10ms/step - loss: 12.9861 - root_mean_squared_error: 3.6036\n",
      "Epoch 45/200\n",
      "1093/1098 [============================>.] - ETA: 0s - loss: 12.8793 - root_mean_squared_error: 3.5888"
     ]
    },
    {
     "name": "stderr",
     "output_type": "stream",
     "text": [
      "WARNING:absl:Found untraced functions such as gru_cell_layer_call_fn, gru_cell_layer_call_and_return_conditional_losses while saving (showing 2 of 2). These functions will not be directly callable after loading.\n"
     ]
    },
    {
     "name": "stdout",
     "output_type": "stream",
     "text": [
      "INFO:tensorflow:Assets written to: best_model\\assets\n"
     ]
    },
    {
     "name": "stderr",
     "output_type": "stream",
     "text": [
      "INFO:tensorflow:Assets written to: best_model\\assets\n",
      "WARNING:absl:<keras.layers.recurrent.GRUCell object at 0x0000015E57CAE088> has the same name 'GRUCell' as a built-in Keras object. Consider renaming <class 'keras.layers.recurrent.GRUCell'> to avoid naming conflicts when loading with `tf.keras.models.load_model`. If renaming is not possible, pass the object in the `custom_objects` parameter of the load function.\n",
      "WARNING:absl:<keras.layers.recurrent.GRUCell object at 0x0000015E57CAEF48> has the same name 'GRUCell' as a built-in Keras object. Consider renaming <class 'keras.layers.recurrent.GRUCell'> to avoid naming conflicts when loading with `tf.keras.models.load_model`. If renaming is not possible, pass the object in the `custom_objects` parameter of the load function.\n"
     ]
    },
    {
     "name": "stdout",
     "output_type": "stream",
     "text": [
      "1098/1098 [==============================] - 14s 13ms/step - loss: 12.8602 - root_mean_squared_error: 3.5861\n",
      "Epoch 46/200\n",
      "1098/1098 [==============================] - 10s 9ms/step - loss: 12.8976 - root_mean_squared_error: 3.5913\n",
      "Epoch 47/200\n",
      "1094/1098 [============================>.] - ETA: 0s - loss: 12.6775 - root_mean_squared_error: 3.5605"
     ]
    },
    {
     "name": "stderr",
     "output_type": "stream",
     "text": [
      "WARNING:absl:Found untraced functions such as gru_cell_layer_call_fn, gru_cell_layer_call_and_return_conditional_losses while saving (showing 2 of 2). These functions will not be directly callable after loading.\n"
     ]
    },
    {
     "name": "stdout",
     "output_type": "stream",
     "text": [
      "INFO:tensorflow:Assets written to: best_model\\assets\n"
     ]
    },
    {
     "name": "stderr",
     "output_type": "stream",
     "text": [
      "INFO:tensorflow:Assets written to: best_model\\assets\n",
      "WARNING:absl:<keras.layers.recurrent.GRUCell object at 0x0000015E57CAE088> has the same name 'GRUCell' as a built-in Keras object. Consider renaming <class 'keras.layers.recurrent.GRUCell'> to avoid naming conflicts when loading with `tf.keras.models.load_model`. If renaming is not possible, pass the object in the `custom_objects` parameter of the load function.\n",
      "WARNING:absl:<keras.layers.recurrent.GRUCell object at 0x0000015E57CAEF48> has the same name 'GRUCell' as a built-in Keras object. Consider renaming <class 'keras.layers.recurrent.GRUCell'> to avoid naming conflicts when loading with `tf.keras.models.load_model`. If renaming is not possible, pass the object in the `custom_objects` parameter of the load function.\n"
     ]
    },
    {
     "name": "stdout",
     "output_type": "stream",
     "text": [
      "1098/1098 [==============================] - 14s 13ms/step - loss: 12.6581 - root_mean_squared_error: 3.5578\n",
      "Epoch 48/200\n",
      "1098/1098 [==============================] - 10s 9ms/step - loss: 12.9319 - root_mean_squared_error: 3.5961\n",
      "Epoch 49/200\n",
      "1098/1098 [==============================] - 11s 10ms/step - loss: 12.7484 - root_mean_squared_error: 3.5705\n",
      "Epoch 50/200\n",
      "1098/1098 [==============================] - 10s 9ms/step - loss: 12.9667 - root_mean_squared_error: 3.6009\n",
      "Epoch 51/200\n",
      "1098/1098 [==============================] - 10s 9ms/step - loss: 13.0115 - root_mean_squared_error: 3.6071\n",
      "Epoch 52/200\n",
      "1096/1098 [============================>.] - ETA: 0s - loss: 12.4103 - root_mean_squared_error: 3.5228"
     ]
    },
    {
     "name": "stderr",
     "output_type": "stream",
     "text": [
      "WARNING:absl:Found untraced functions such as gru_cell_layer_call_fn, gru_cell_layer_call_and_return_conditional_losses while saving (showing 2 of 2). These functions will not be directly callable after loading.\n"
     ]
    },
    {
     "name": "stdout",
     "output_type": "stream",
     "text": [
      "INFO:tensorflow:Assets written to: best_model\\assets\n"
     ]
    },
    {
     "name": "stderr",
     "output_type": "stream",
     "text": [
      "INFO:tensorflow:Assets written to: best_model\\assets\n",
      "WARNING:absl:<keras.layers.recurrent.GRUCell object at 0x0000015E57CAE088> has the same name 'GRUCell' as a built-in Keras object. Consider renaming <class 'keras.layers.recurrent.GRUCell'> to avoid naming conflicts when loading with `tf.keras.models.load_model`. If renaming is not possible, pass the object in the `custom_objects` parameter of the load function.\n",
      "WARNING:absl:<keras.layers.recurrent.GRUCell object at 0x0000015E57CAEF48> has the same name 'GRUCell' as a built-in Keras object. Consider renaming <class 'keras.layers.recurrent.GRUCell'> to avoid naming conflicts when loading with `tf.keras.models.load_model`. If renaming is not possible, pass the object in the `custom_objects` parameter of the load function.\n"
     ]
    },
    {
     "name": "stdout",
     "output_type": "stream",
     "text": [
      "1098/1098 [==============================] - 14s 13ms/step - loss: 12.4045 - root_mean_squared_error: 3.5220\n",
      "Epoch 53/200\n",
      "1098/1098 [==============================] - 10s 9ms/step - loss: 12.6949 - root_mean_squared_error: 3.5630\n",
      "Epoch 54/200\n",
      "1098/1098 [==============================] - 10s 9ms/step - loss: 12.7609 - root_mean_squared_error: 3.5722\n",
      "Epoch 55/200\n",
      "1098/1098 [==============================] - 10s 9ms/step - loss: 12.8295 - root_mean_squared_error: 3.5818\n",
      "Epoch 56/200\n",
      "1098/1098 [==============================] - 10s 9ms/step - loss: 12.4826 - root_mean_squared_error: 3.5331\n",
      "Epoch 57/200\n",
      "1098/1098 [==============================] - 10s 9ms/step - loss: 12.4160 - root_mean_squared_error: 3.5236\n",
      "Epoch 58/200\n",
      "1098/1098 [==============================] - 10s 9ms/step - loss: 12.5300 - root_mean_squared_error: 3.5398\n",
      "Epoch 59/200\n",
      "1098/1098 [==============================] - 10s 9ms/step - loss: 12.7130 - root_mean_squared_error: 3.5655\n",
      "Epoch 60/200\n",
      "1098/1098 [==============================] - 10s 9ms/step - loss: 12.5311 - root_mean_squared_error: 3.5399\n",
      "Epoch 61/200\n",
      "1095/1098 [============================>.] - ETA: 0s - loss: 12.3150 - root_mean_squared_error: 3.5093"
     ]
    },
    {
     "name": "stderr",
     "output_type": "stream",
     "text": [
      "WARNING:absl:Found untraced functions such as gru_cell_layer_call_fn, gru_cell_layer_call_and_return_conditional_losses while saving (showing 2 of 2). These functions will not be directly callable after loading.\n"
     ]
    },
    {
     "name": "stdout",
     "output_type": "stream",
     "text": [
      "INFO:tensorflow:Assets written to: best_model\\assets\n"
     ]
    },
    {
     "name": "stderr",
     "output_type": "stream",
     "text": [
      "INFO:tensorflow:Assets written to: best_model\\assets\n",
      "WARNING:absl:<keras.layers.recurrent.GRUCell object at 0x0000015E57CAE088> has the same name 'GRUCell' as a built-in Keras object. Consider renaming <class 'keras.layers.recurrent.GRUCell'> to avoid naming conflicts when loading with `tf.keras.models.load_model`. If renaming is not possible, pass the object in the `custom_objects` parameter of the load function.\n",
      "WARNING:absl:<keras.layers.recurrent.GRUCell object at 0x0000015E57CAEF48> has the same name 'GRUCell' as a built-in Keras object. Consider renaming <class 'keras.layers.recurrent.GRUCell'> to avoid naming conflicts when loading with `tf.keras.models.load_model`. If renaming is not possible, pass the object in the `custom_objects` parameter of the load function.\n"
     ]
    },
    {
     "name": "stdout",
     "output_type": "stream",
     "text": [
      "1098/1098 [==============================] - 13s 12ms/step - loss: 12.3128 - root_mean_squared_error: 3.5090\n",
      "Epoch 62/200\n",
      "1098/1098 [==============================] - 11s 10ms/step - loss: 12.4298 - root_mean_squared_error: 3.5256\n",
      "Epoch 63/200\n",
      "1098/1098 [==============================] - 11s 10ms/step - loss: 12.4259 - root_mean_squared_error: 3.5250\n",
      "Epoch 64/200\n",
      "1098/1098 [==============================] - 11s 10ms/step - loss: 12.4431 - root_mean_squared_error: 3.5275\n",
      "Epoch 65/200\n",
      "1098/1098 [==============================] - ETA: 0s - loss: 12.1677 - root_mean_squared_error: 3.4882"
     ]
    },
    {
     "name": "stderr",
     "output_type": "stream",
     "text": [
      "WARNING:absl:Found untraced functions such as gru_cell_layer_call_fn, gru_cell_layer_call_and_return_conditional_losses while saving (showing 2 of 2). These functions will not be directly callable after loading.\n"
     ]
    },
    {
     "name": "stdout",
     "output_type": "stream",
     "text": [
      "INFO:tensorflow:Assets written to: best_model\\assets\n"
     ]
    },
    {
     "name": "stderr",
     "output_type": "stream",
     "text": [
      "INFO:tensorflow:Assets written to: best_model\\assets\n",
      "WARNING:absl:<keras.layers.recurrent.GRUCell object at 0x0000015E57CAE088> has the same name 'GRUCell' as a built-in Keras object. Consider renaming <class 'keras.layers.recurrent.GRUCell'> to avoid naming conflicts when loading with `tf.keras.models.load_model`. If renaming is not possible, pass the object in the `custom_objects` parameter of the load function.\n",
      "WARNING:absl:<keras.layers.recurrent.GRUCell object at 0x0000015E57CAEF48> has the same name 'GRUCell' as a built-in Keras object. Consider renaming <class 'keras.layers.recurrent.GRUCell'> to avoid naming conflicts when loading with `tf.keras.models.load_model`. If renaming is not possible, pass the object in the `custom_objects` parameter of the load function.\n"
     ]
    },
    {
     "name": "stdout",
     "output_type": "stream",
     "text": [
      "1098/1098 [==============================] - 14s 13ms/step - loss: 12.1677 - root_mean_squared_error: 3.4882\n",
      "Epoch 66/200\n",
      "1098/1098 [==============================] - 10s 9ms/step - loss: 12.3468 - root_mean_squared_error: 3.5138\n",
      "Epoch 67/200\n",
      "1098/1098 [==============================] - 10s 9ms/step - loss: 12.2382 - root_mean_squared_error: 3.4983\n",
      "Epoch 68/200\n",
      "1098/1098 [==============================] - 10s 10ms/step - loss: 12.3514 - root_mean_squared_error: 3.5145\n",
      "Epoch 69/200\n",
      "1098/1098 [==============================] - 10s 9ms/step - loss: 12.2023 - root_mean_squared_error: 3.4932\n",
      "Epoch 70/200\n",
      "1098/1098 [==============================] - 10s 9ms/step - loss: 12.2611 - root_mean_squared_error: 3.5016\n",
      "Epoch 71/200\n",
      "1095/1098 [============================>.] - ETA: 0s - loss: 12.1745 - root_mean_squared_error: 3.4892"
     ]
    },
    {
     "name": "stderr",
     "output_type": "stream",
     "text": [
      "WARNING:absl:Found untraced functions such as gru_cell_layer_call_fn, gru_cell_layer_call_and_return_conditional_losses while saving (showing 2 of 2). These functions will not be directly callable after loading.\n"
     ]
    },
    {
     "name": "stdout",
     "output_type": "stream",
     "text": [
      "INFO:tensorflow:Assets written to: best_model\\assets\n"
     ]
    },
    {
     "name": "stderr",
     "output_type": "stream",
     "text": [
      "INFO:tensorflow:Assets written to: best_model\\assets\n",
      "WARNING:absl:<keras.layers.recurrent.GRUCell object at 0x0000015E57CAE088> has the same name 'GRUCell' as a built-in Keras object. Consider renaming <class 'keras.layers.recurrent.GRUCell'> to avoid naming conflicts when loading with `tf.keras.models.load_model`. If renaming is not possible, pass the object in the `custom_objects` parameter of the load function.\n",
      "WARNING:absl:<keras.layers.recurrent.GRUCell object at 0x0000015E57CAEF48> has the same name 'GRUCell' as a built-in Keras object. Consider renaming <class 'keras.layers.recurrent.GRUCell'> to avoid naming conflicts when loading with `tf.keras.models.load_model`. If renaming is not possible, pass the object in the `custom_objects` parameter of the load function.\n"
     ]
    },
    {
     "name": "stdout",
     "output_type": "stream",
     "text": [
      "1098/1098 [==============================] - 14s 13ms/step - loss: 12.1569 - root_mean_squared_error: 3.4867\n",
      "Epoch 72/200\n",
      "1096/1098 [============================>.] - ETA: 0s - loss: 12.0459 - root_mean_squared_error: 3.4707"
     ]
    },
    {
     "name": "stderr",
     "output_type": "stream",
     "text": [
      "WARNING:absl:Found untraced functions such as gru_cell_layer_call_fn, gru_cell_layer_call_and_return_conditional_losses while saving (showing 2 of 2). These functions will not be directly callable after loading.\n"
     ]
    },
    {
     "name": "stdout",
     "output_type": "stream",
     "text": [
      "INFO:tensorflow:Assets written to: best_model\\assets\n"
     ]
    },
    {
     "name": "stderr",
     "output_type": "stream",
     "text": [
      "INFO:tensorflow:Assets written to: best_model\\assets\n",
      "WARNING:absl:<keras.layers.recurrent.GRUCell object at 0x0000015E57CAE088> has the same name 'GRUCell' as a built-in Keras object. Consider renaming <class 'keras.layers.recurrent.GRUCell'> to avoid naming conflicts when loading with `tf.keras.models.load_model`. If renaming is not possible, pass the object in the `custom_objects` parameter of the load function.\n",
      "WARNING:absl:<keras.layers.recurrent.GRUCell object at 0x0000015E57CAEF48> has the same name 'GRUCell' as a built-in Keras object. Consider renaming <class 'keras.layers.recurrent.GRUCell'> to avoid naming conflicts when loading with `tf.keras.models.load_model`. If renaming is not possible, pass the object in the `custom_objects` parameter of the load function.\n"
     ]
    },
    {
     "name": "stdout",
     "output_type": "stream",
     "text": [
      "1098/1098 [==============================] - 14s 12ms/step - loss: 12.0701 - root_mean_squared_error: 3.4742\n",
      "Epoch 73/200\n",
      "1098/1098 [==============================] - 10s 9ms/step - loss: 12.0704 - root_mean_squared_error: 3.4742\n",
      "Epoch 74/200\n",
      "1098/1098 [==============================] - 10s 9ms/step - loss: 12.0865 - root_mean_squared_error: 3.4766\n",
      "Epoch 75/200\n",
      "1098/1098 [==============================] - 10s 9ms/step - loss: 12.1210 - root_mean_squared_error: 3.4815\n",
      "Epoch 76/200\n",
      "1096/1098 [============================>.] - ETA: 0s - loss: 11.9410 - root_mean_squared_error: 3.4556"
     ]
    },
    {
     "name": "stderr",
     "output_type": "stream",
     "text": [
      "WARNING:absl:Found untraced functions such as gru_cell_layer_call_fn, gru_cell_layer_call_and_return_conditional_losses while saving (showing 2 of 2). These functions will not be directly callable after loading.\n"
     ]
    },
    {
     "name": "stdout",
     "output_type": "stream",
     "text": [
      "INFO:tensorflow:Assets written to: best_model\\assets\n"
     ]
    },
    {
     "name": "stderr",
     "output_type": "stream",
     "text": [
      "INFO:tensorflow:Assets written to: best_model\\assets\n",
      "WARNING:absl:<keras.layers.recurrent.GRUCell object at 0x0000015E57CAE088> has the same name 'GRUCell' as a built-in Keras object. Consider renaming <class 'keras.layers.recurrent.GRUCell'> to avoid naming conflicts when loading with `tf.keras.models.load_model`. If renaming is not possible, pass the object in the `custom_objects` parameter of the load function.\n",
      "WARNING:absl:<keras.layers.recurrent.GRUCell object at 0x0000015E57CAEF48> has the same name 'GRUCell' as a built-in Keras object. Consider renaming <class 'keras.layers.recurrent.GRUCell'> to avoid naming conflicts when loading with `tf.keras.models.load_model`. If renaming is not possible, pass the object in the `custom_objects` parameter of the load function.\n"
     ]
    },
    {
     "name": "stdout",
     "output_type": "stream",
     "text": [
      "1098/1098 [==============================] - 13s 12ms/step - loss: 11.9487 - root_mean_squared_error: 3.4567\n",
      "Epoch 77/200\n",
      "1098/1098 [==============================] - 11s 10ms/step - loss: 11.9676 - root_mean_squared_error: 3.4594\n",
      "Epoch 78/200\n",
      "1095/1098 [============================>.] - ETA: 0s - loss: 11.8875 - root_mean_squared_error: 3.4478"
     ]
    },
    {
     "name": "stderr",
     "output_type": "stream",
     "text": [
      "WARNING:absl:Found untraced functions such as gru_cell_layer_call_fn, gru_cell_layer_call_and_return_conditional_losses while saving (showing 2 of 2). These functions will not be directly callable after loading.\n"
     ]
    },
    {
     "name": "stdout",
     "output_type": "stream",
     "text": [
      "INFO:tensorflow:Assets written to: best_model\\assets\n"
     ]
    },
    {
     "name": "stderr",
     "output_type": "stream",
     "text": [
      "INFO:tensorflow:Assets written to: best_model\\assets\n",
      "WARNING:absl:<keras.layers.recurrent.GRUCell object at 0x0000015E57CAE088> has the same name 'GRUCell' as a built-in Keras object. Consider renaming <class 'keras.layers.recurrent.GRUCell'> to avoid naming conflicts when loading with `tf.keras.models.load_model`. If renaming is not possible, pass the object in the `custom_objects` parameter of the load function.\n",
      "WARNING:absl:<keras.layers.recurrent.GRUCell object at 0x0000015E57CAEF48> has the same name 'GRUCell' as a built-in Keras object. Consider renaming <class 'keras.layers.recurrent.GRUCell'> to avoid naming conflicts when loading with `tf.keras.models.load_model`. If renaming is not possible, pass the object in the `custom_objects` parameter of the load function.\n"
     ]
    },
    {
     "name": "stdout",
     "output_type": "stream",
     "text": [
      "1098/1098 [==============================] - 14s 13ms/step - loss: 11.8706 - root_mean_squared_error: 3.4454\n",
      "Epoch 79/200\n",
      "1098/1098 [==============================] - 10s 9ms/step - loss: 12.0345 - root_mean_squared_error: 3.4691\n",
      "Epoch 80/200\n",
      "1097/1098 [============================>.] - ETA: 0s - loss: 11.7296 - root_mean_squared_error: 3.4249"
     ]
    },
    {
     "name": "stderr",
     "output_type": "stream",
     "text": [
      "WARNING:absl:Found untraced functions such as gru_cell_layer_call_fn, gru_cell_layer_call_and_return_conditional_losses while saving (showing 2 of 2). These functions will not be directly callable after loading.\n"
     ]
    },
    {
     "name": "stdout",
     "output_type": "stream",
     "text": [
      "INFO:tensorflow:Assets written to: best_model\\assets\n"
     ]
    },
    {
     "name": "stderr",
     "output_type": "stream",
     "text": [
      "INFO:tensorflow:Assets written to: best_model\\assets\n",
      "WARNING:absl:<keras.layers.recurrent.GRUCell object at 0x0000015E57CAE088> has the same name 'GRUCell' as a built-in Keras object. Consider renaming <class 'keras.layers.recurrent.GRUCell'> to avoid naming conflicts when loading with `tf.keras.models.load_model`. If renaming is not possible, pass the object in the `custom_objects` parameter of the load function.\n",
      "WARNING:absl:<keras.layers.recurrent.GRUCell object at 0x0000015E57CAEF48> has the same name 'GRUCell' as a built-in Keras object. Consider renaming <class 'keras.layers.recurrent.GRUCell'> to avoid naming conflicts when loading with `tf.keras.models.load_model`. If renaming is not possible, pass the object in the `custom_objects` parameter of the load function.\n"
     ]
    },
    {
     "name": "stdout",
     "output_type": "stream",
     "text": [
      "1098/1098 [==============================] - 15s 13ms/step - loss: 11.7287 - root_mean_squared_error: 3.4247\n",
      "Epoch 81/200\n",
      "1098/1098 [==============================] - 10s 9ms/step - loss: 11.8914 - root_mean_squared_error: 3.4484\n",
      "Epoch 82/200\n",
      "1098/1098 [==============================] - 11s 10ms/step - loss: 11.9966 - root_mean_squared_error: 3.4636\n",
      "Epoch 83/200\n",
      "1093/1098 [============================>.] - ETA: 0s - loss: 11.6961 - root_mean_squared_error: 3.4200"
     ]
    },
    {
     "name": "stderr",
     "output_type": "stream",
     "text": [
      "WARNING:absl:Found untraced functions such as gru_cell_layer_call_fn, gru_cell_layer_call_and_return_conditional_losses while saving (showing 2 of 2). These functions will not be directly callable after loading.\n"
     ]
    },
    {
     "name": "stdout",
     "output_type": "stream",
     "text": [
      "INFO:tensorflow:Assets written to: best_model\\assets\n"
     ]
    },
    {
     "name": "stderr",
     "output_type": "stream",
     "text": [
      "INFO:tensorflow:Assets written to: best_model\\assets\n",
      "WARNING:absl:<keras.layers.recurrent.GRUCell object at 0x0000015E57CAE088> has the same name 'GRUCell' as a built-in Keras object. Consider renaming <class 'keras.layers.recurrent.GRUCell'> to avoid naming conflicts when loading with `tf.keras.models.load_model`. If renaming is not possible, pass the object in the `custom_objects` parameter of the load function.\n",
      "WARNING:absl:<keras.layers.recurrent.GRUCell object at 0x0000015E57CAEF48> has the same name 'GRUCell' as a built-in Keras object. Consider renaming <class 'keras.layers.recurrent.GRUCell'> to avoid naming conflicts when loading with `tf.keras.models.load_model`. If renaming is not possible, pass the object in the `custom_objects` parameter of the load function.\n"
     ]
    },
    {
     "name": "stdout",
     "output_type": "stream",
     "text": [
      "1098/1098 [==============================] - 14s 13ms/step - loss: 11.7040 - root_mean_squared_error: 3.4211\n",
      "Epoch 84/200\n",
      "1098/1098 [==============================] - 10s 9ms/step - loss: 12.0326 - root_mean_squared_error: 3.4688\n",
      "Epoch 85/200\n",
      "1098/1098 [==============================] - 10s 10ms/step - loss: 11.8223 - root_mean_squared_error: 3.4384\n",
      "Epoch 86/200\n",
      "1098/1098 [==============================] - 10s 10ms/step - loss: 11.7534 - root_mean_squared_error: 3.4283\n",
      "Epoch 87/200\n",
      "1095/1098 [============================>.] - ETA: 0s - loss: 11.6705 - root_mean_squared_error: 3.4162"
     ]
    },
    {
     "name": "stderr",
     "output_type": "stream",
     "text": [
      "WARNING:absl:Found untraced functions such as gru_cell_layer_call_fn, gru_cell_layer_call_and_return_conditional_losses while saving (showing 2 of 2). These functions will not be directly callable after loading.\n"
     ]
    },
    {
     "name": "stdout",
     "output_type": "stream",
     "text": [
      "INFO:tensorflow:Assets written to: best_model\\assets\n"
     ]
    },
    {
     "name": "stderr",
     "output_type": "stream",
     "text": [
      "INFO:tensorflow:Assets written to: best_model\\assets\n",
      "WARNING:absl:<keras.layers.recurrent.GRUCell object at 0x0000015E57CAE088> has the same name 'GRUCell' as a built-in Keras object. Consider renaming <class 'keras.layers.recurrent.GRUCell'> to avoid naming conflicts when loading with `tf.keras.models.load_model`. If renaming is not possible, pass the object in the `custom_objects` parameter of the load function.\n",
      "WARNING:absl:<keras.layers.recurrent.GRUCell object at 0x0000015E57CAEF48> has the same name 'GRUCell' as a built-in Keras object. Consider renaming <class 'keras.layers.recurrent.GRUCell'> to avoid naming conflicts when loading with `tf.keras.models.load_model`. If renaming is not possible, pass the object in the `custom_objects` parameter of the load function.\n"
     ]
    },
    {
     "name": "stdout",
     "output_type": "stream",
     "text": [
      "1098/1098 [==============================] - 14s 13ms/step - loss: 11.6658 - root_mean_squared_error: 3.4155\n",
      "Epoch 88/200\n",
      "1098/1098 [==============================] - 10s 9ms/step - loss: 11.6934 - root_mean_squared_error: 3.4196\n",
      "Epoch 89/200\n",
      "1093/1098 [============================>.] - ETA: 0s - loss: 11.5967 - root_mean_squared_error: 3.4054"
     ]
    },
    {
     "name": "stderr",
     "output_type": "stream",
     "text": [
      "WARNING:absl:Found untraced functions such as gru_cell_layer_call_fn, gru_cell_layer_call_and_return_conditional_losses while saving (showing 2 of 2). These functions will not be directly callable after loading.\n"
     ]
    },
    {
     "name": "stdout",
     "output_type": "stream",
     "text": [
      "INFO:tensorflow:Assets written to: best_model\\assets\n"
     ]
    },
    {
     "name": "stderr",
     "output_type": "stream",
     "text": [
      "INFO:tensorflow:Assets written to: best_model\\assets\n",
      "WARNING:absl:<keras.layers.recurrent.GRUCell object at 0x0000015E57CAE088> has the same name 'GRUCell' as a built-in Keras object. Consider renaming <class 'keras.layers.recurrent.GRUCell'> to avoid naming conflicts when loading with `tf.keras.models.load_model`. If renaming is not possible, pass the object in the `custom_objects` parameter of the load function.\n",
      "WARNING:absl:<keras.layers.recurrent.GRUCell object at 0x0000015E57CAEF48> has the same name 'GRUCell' as a built-in Keras object. Consider renaming <class 'keras.layers.recurrent.GRUCell'> to avoid naming conflicts when loading with `tf.keras.models.load_model`. If renaming is not possible, pass the object in the `custom_objects` parameter of the load function.\n"
     ]
    },
    {
     "name": "stdout",
     "output_type": "stream",
     "text": [
      "1098/1098 [==============================] - 14s 13ms/step - loss: 11.6075 - root_mean_squared_error: 3.4070\n",
      "Epoch 90/200\n",
      "1098/1098 [==============================] - 10s 9ms/step - loss: 11.6780 - root_mean_squared_error: 3.4173\n",
      "Epoch 91/200\n",
      "1096/1098 [============================>.] - ETA: 0s - loss: 11.5526 - root_mean_squared_error: 3.3989"
     ]
    },
    {
     "name": "stderr",
     "output_type": "stream",
     "text": [
      "WARNING:absl:Found untraced functions such as gru_cell_layer_call_fn, gru_cell_layer_call_and_return_conditional_losses while saving (showing 2 of 2). These functions will not be directly callable after loading.\n"
     ]
    },
    {
     "name": "stdout",
     "output_type": "stream",
     "text": [
      "INFO:tensorflow:Assets written to: best_model\\assets\n"
     ]
    },
    {
     "name": "stderr",
     "output_type": "stream",
     "text": [
      "INFO:tensorflow:Assets written to: best_model\\assets\n",
      "WARNING:absl:<keras.layers.recurrent.GRUCell object at 0x0000015E57CAE088> has the same name 'GRUCell' as a built-in Keras object. Consider renaming <class 'keras.layers.recurrent.GRUCell'> to avoid naming conflicts when loading with `tf.keras.models.load_model`. If renaming is not possible, pass the object in the `custom_objects` parameter of the load function.\n",
      "WARNING:absl:<keras.layers.recurrent.GRUCell object at 0x0000015E57CAEF48> has the same name 'GRUCell' as a built-in Keras object. Consider renaming <class 'keras.layers.recurrent.GRUCell'> to avoid naming conflicts when loading with `tf.keras.models.load_model`. If renaming is not possible, pass the object in the `custom_objects` parameter of the load function.\n"
     ]
    },
    {
     "name": "stdout",
     "output_type": "stream",
     "text": [
      "1098/1098 [==============================] - 13s 12ms/step - loss: 11.5505 - root_mean_squared_error: 3.3986\n",
      "Epoch 92/200\n",
      "1097/1098 [============================>.] - ETA: 0s - loss: 11.5347 - root_mean_squared_error: 3.3963"
     ]
    },
    {
     "name": "stderr",
     "output_type": "stream",
     "text": [
      "WARNING:absl:Found untraced functions such as gru_cell_layer_call_fn, gru_cell_layer_call_and_return_conditional_losses while saving (showing 2 of 2). These functions will not be directly callable after loading.\n"
     ]
    },
    {
     "name": "stdout",
     "output_type": "stream",
     "text": [
      "INFO:tensorflow:Assets written to: best_model\\assets\n"
     ]
    },
    {
     "name": "stderr",
     "output_type": "stream",
     "text": [
      "INFO:tensorflow:Assets written to: best_model\\assets\n",
      "WARNING:absl:<keras.layers.recurrent.GRUCell object at 0x0000015E57CAE088> has the same name 'GRUCell' as a built-in Keras object. Consider renaming <class 'keras.layers.recurrent.GRUCell'> to avoid naming conflicts when loading with `tf.keras.models.load_model`. If renaming is not possible, pass the object in the `custom_objects` parameter of the load function.\n",
      "WARNING:absl:<keras.layers.recurrent.GRUCell object at 0x0000015E57CAEF48> has the same name 'GRUCell' as a built-in Keras object. Consider renaming <class 'keras.layers.recurrent.GRUCell'> to avoid naming conflicts when loading with `tf.keras.models.load_model`. If renaming is not possible, pass the object in the `custom_objects` parameter of the load function.\n"
     ]
    },
    {
     "name": "stdout",
     "output_type": "stream",
     "text": [
      "1098/1098 [==============================] - 14s 13ms/step - loss: 11.5320 - root_mean_squared_error: 3.3959\n",
      "Epoch 93/200\n",
      "1098/1098 [==============================] - 11s 10ms/step - loss: 11.7338 - root_mean_squared_error: 3.4255\n",
      "Epoch 94/200\n",
      "1097/1098 [============================>.] - ETA: 0s - loss: 11.4097 - root_mean_squared_error: 3.3778"
     ]
    },
    {
     "name": "stderr",
     "output_type": "stream",
     "text": [
      "WARNING:absl:Found untraced functions such as gru_cell_layer_call_fn, gru_cell_layer_call_and_return_conditional_losses while saving (showing 2 of 2). These functions will not be directly callable after loading.\n"
     ]
    },
    {
     "name": "stdout",
     "output_type": "stream",
     "text": [
      "INFO:tensorflow:Assets written to: best_model\\assets\n"
     ]
    },
    {
     "name": "stderr",
     "output_type": "stream",
     "text": [
      "INFO:tensorflow:Assets written to: best_model\\assets\n",
      "WARNING:absl:<keras.layers.recurrent.GRUCell object at 0x0000015E57CAE088> has the same name 'GRUCell' as a built-in Keras object. Consider renaming <class 'keras.layers.recurrent.GRUCell'> to avoid naming conflicts when loading with `tf.keras.models.load_model`. If renaming is not possible, pass the object in the `custom_objects` parameter of the load function.\n",
      "WARNING:absl:<keras.layers.recurrent.GRUCell object at 0x0000015E57CAEF48> has the same name 'GRUCell' as a built-in Keras object. Consider renaming <class 'keras.layers.recurrent.GRUCell'> to avoid naming conflicts when loading with `tf.keras.models.load_model`. If renaming is not possible, pass the object in the `custom_objects` parameter of the load function.\n"
     ]
    },
    {
     "name": "stdout",
     "output_type": "stream",
     "text": [
      "1098/1098 [==============================] - 14s 13ms/step - loss: 11.4094 - root_mean_squared_error: 3.3778\n",
      "Epoch 95/200\n",
      "1098/1098 [==============================] - 10s 9ms/step - loss: 11.5037 - root_mean_squared_error: 3.3917\n",
      "Epoch 96/200\n",
      "1098/1098 [==============================] - 10s 9ms/step - loss: 11.4885 - root_mean_squared_error: 3.3895\n",
      "Epoch 97/200\n",
      "1098/1098 [==============================] - 10s 10ms/step - loss: 11.5418 - root_mean_squared_error: 3.3973\n",
      "Epoch 98/200\n",
      "1094/1098 [============================>.] - ETA: 0s - loss: 11.2143 - root_mean_squared_error: 3.3488"
     ]
    },
    {
     "name": "stderr",
     "output_type": "stream",
     "text": [
      "WARNING:absl:Found untraced functions such as gru_cell_layer_call_fn, gru_cell_layer_call_and_return_conditional_losses while saving (showing 2 of 2). These functions will not be directly callable after loading.\n"
     ]
    },
    {
     "name": "stdout",
     "output_type": "stream",
     "text": [
      "INFO:tensorflow:Assets written to: best_model\\assets\n"
     ]
    },
    {
     "name": "stderr",
     "output_type": "stream",
     "text": [
      "INFO:tensorflow:Assets written to: best_model\\assets\n",
      "WARNING:absl:<keras.layers.recurrent.GRUCell object at 0x0000015E57CAE088> has the same name 'GRUCell' as a built-in Keras object. Consider renaming <class 'keras.layers.recurrent.GRUCell'> to avoid naming conflicts when loading with `tf.keras.models.load_model`. If renaming is not possible, pass the object in the `custom_objects` parameter of the load function.\n",
      "WARNING:absl:<keras.layers.recurrent.GRUCell object at 0x0000015E57CAEF48> has the same name 'GRUCell' as a built-in Keras object. Consider renaming <class 'keras.layers.recurrent.GRUCell'> to avoid naming conflicts when loading with `tf.keras.models.load_model`. If renaming is not possible, pass the object in the `custom_objects` parameter of the load function.\n"
     ]
    },
    {
     "name": "stdout",
     "output_type": "stream",
     "text": [
      "1098/1098 [==============================] - 14s 13ms/step - loss: 11.2017 - root_mean_squared_error: 3.3469\n",
      "Epoch 99/200\n",
      "1098/1098 [==============================] - 10s 9ms/step - loss: 11.5242 - root_mean_squared_error: 3.3947\n",
      "Epoch 100/200\n",
      "1098/1098 [==============================] - 10s 10ms/step - loss: 11.6097 - root_mean_squared_error: 3.4073\n",
      "Epoch 101/200\n",
      "1098/1098 [==============================] - 10s 9ms/step - loss: 11.4427 - root_mean_squared_error: 3.3827\n",
      "Epoch 102/200\n",
      "1098/1098 [==============================] - 11s 10ms/step - loss: 11.3234 - root_mean_squared_error: 3.3650\n",
      "Epoch 103/200\n",
      "1098/1098 [==============================] - 10s 10ms/step - loss: 11.4426 - root_mean_squared_error: 3.3827\n",
      "Epoch 104/200\n",
      "1098/1098 [==============================] - 11s 10ms/step - loss: 11.2480 - root_mean_squared_error: 3.3538\n",
      "Epoch 105/200\n",
      "1098/1098 [==============================] - 10s 10ms/step - loss: 11.5186 - root_mean_squared_error: 3.3939\n",
      "Epoch 106/200\n",
      "1098/1098 [==============================] - 10s 10ms/step - loss: 11.5447 - root_mean_squared_error: 3.3977\n",
      "Epoch 107/200\n",
      "1098/1098 [==============================] - 10s 10ms/step - loss: 11.2735 - root_mean_squared_error: 3.3576\n",
      "Epoch 108/200\n",
      "1097/1098 [============================>.] - ETA: 0s - loss: 11.1754 - root_mean_squared_error: 3.3430"
     ]
    },
    {
     "name": "stderr",
     "output_type": "stream",
     "text": [
      "WARNING:absl:Found untraced functions such as gru_cell_layer_call_fn, gru_cell_layer_call_and_return_conditional_losses while saving (showing 2 of 2). These functions will not be directly callable after loading.\n"
     ]
    },
    {
     "name": "stdout",
     "output_type": "stream",
     "text": [
      "INFO:tensorflow:Assets written to: best_model\\assets\n"
     ]
    },
    {
     "name": "stderr",
     "output_type": "stream",
     "text": [
      "INFO:tensorflow:Assets written to: best_model\\assets\n",
      "WARNING:absl:<keras.layers.recurrent.GRUCell object at 0x0000015E57CAE088> has the same name 'GRUCell' as a built-in Keras object. Consider renaming <class 'keras.layers.recurrent.GRUCell'> to avoid naming conflicts when loading with `tf.keras.models.load_model`. If renaming is not possible, pass the object in the `custom_objects` parameter of the load function.\n",
      "WARNING:absl:<keras.layers.recurrent.GRUCell object at 0x0000015E57CAEF48> has the same name 'GRUCell' as a built-in Keras object. Consider renaming <class 'keras.layers.recurrent.GRUCell'> to avoid naming conflicts when loading with `tf.keras.models.load_model`. If renaming is not possible, pass the object in the `custom_objects` parameter of the load function.\n"
     ]
    },
    {
     "name": "stdout",
     "output_type": "stream",
     "text": [
      "1098/1098 [==============================] - 14s 13ms/step - loss: 11.1713 - root_mean_squared_error: 3.3424\n",
      "Epoch 109/200\n",
      "1098/1098 [==============================] - 10s 9ms/step - loss: 11.4893 - root_mean_squared_error: 3.3896\n",
      "Epoch 110/200\n",
      "1098/1098 [==============================] - ETA: 0s - loss: 11.1385 - root_mean_squared_error: 3.3374"
     ]
    },
    {
     "name": "stderr",
     "output_type": "stream",
     "text": [
      "WARNING:absl:Found untraced functions such as gru_cell_layer_call_fn, gru_cell_layer_call_and_return_conditional_losses while saving (showing 2 of 2). These functions will not be directly callable after loading.\n"
     ]
    },
    {
     "name": "stdout",
     "output_type": "stream",
     "text": [
      "INFO:tensorflow:Assets written to: best_model\\assets\n"
     ]
    },
    {
     "name": "stderr",
     "output_type": "stream",
     "text": [
      "INFO:tensorflow:Assets written to: best_model\\assets\n",
      "WARNING:absl:<keras.layers.recurrent.GRUCell object at 0x0000015E57CAE088> has the same name 'GRUCell' as a built-in Keras object. Consider renaming <class 'keras.layers.recurrent.GRUCell'> to avoid naming conflicts when loading with `tf.keras.models.load_model`. If renaming is not possible, pass the object in the `custom_objects` parameter of the load function.\n",
      "WARNING:absl:<keras.layers.recurrent.GRUCell object at 0x0000015E57CAEF48> has the same name 'GRUCell' as a built-in Keras object. Consider renaming <class 'keras.layers.recurrent.GRUCell'> to avoid naming conflicts when loading with `tf.keras.models.load_model`. If renaming is not possible, pass the object in the `custom_objects` parameter of the load function.\n"
     ]
    },
    {
     "name": "stdout",
     "output_type": "stream",
     "text": [
      "1098/1098 [==============================] - 14s 13ms/step - loss: 11.1385 - root_mean_squared_error: 3.3374\n",
      "Epoch 111/200\n",
      "1098/1098 [==============================] - 10s 9ms/step - loss: 11.1610 - root_mean_squared_error: 3.3408\n",
      "Epoch 112/200\n",
      "1098/1098 [==============================] - 10s 9ms/step - loss: 11.3076 - root_mean_squared_error: 3.3627\n",
      "Epoch 113/200\n",
      "1098/1098 [==============================] - 10s 9ms/step - loss: 11.3725 - root_mean_squared_error: 3.3723\n",
      "Epoch 114/200\n",
      "1095/1098 [============================>.] - ETA: 0s - loss: 11.0796 - root_mean_squared_error: 3.3286"
     ]
    },
    {
     "name": "stderr",
     "output_type": "stream",
     "text": [
      "WARNING:absl:Found untraced functions such as gru_cell_layer_call_fn, gru_cell_layer_call_and_return_conditional_losses while saving (showing 2 of 2). These functions will not be directly callable after loading.\n"
     ]
    },
    {
     "name": "stdout",
     "output_type": "stream",
     "text": [
      "INFO:tensorflow:Assets written to: best_model\\assets\n"
     ]
    },
    {
     "name": "stderr",
     "output_type": "stream",
     "text": [
      "INFO:tensorflow:Assets written to: best_model\\assets\n",
      "WARNING:absl:<keras.layers.recurrent.GRUCell object at 0x0000015E57CAE088> has the same name 'GRUCell' as a built-in Keras object. Consider renaming <class 'keras.layers.recurrent.GRUCell'> to avoid naming conflicts when loading with `tf.keras.models.load_model`. If renaming is not possible, pass the object in the `custom_objects` parameter of the load function.\n",
      "WARNING:absl:<keras.layers.recurrent.GRUCell object at 0x0000015E57CAEF48> has the same name 'GRUCell' as a built-in Keras object. Consider renaming <class 'keras.layers.recurrent.GRUCell'> to avoid naming conflicts when loading with `tf.keras.models.load_model`. If renaming is not possible, pass the object in the `custom_objects` parameter of the load function.\n"
     ]
    },
    {
     "name": "stdout",
     "output_type": "stream",
     "text": [
      "1098/1098 [==============================] - 13s 12ms/step - loss: 11.0669 - root_mean_squared_error: 3.3267\n",
      "Epoch 115/200\n",
      "1096/1098 [============================>.] - ETA: 0s - loss: 10.9224 - root_mean_squared_error: 3.3049"
     ]
    },
    {
     "name": "stderr",
     "output_type": "stream",
     "text": [
      "WARNING:absl:Found untraced functions such as gru_cell_layer_call_fn, gru_cell_layer_call_and_return_conditional_losses while saving (showing 2 of 2). These functions will not be directly callable after loading.\n"
     ]
    },
    {
     "name": "stdout",
     "output_type": "stream",
     "text": [
      "INFO:tensorflow:Assets written to: best_model\\assets\n"
     ]
    },
    {
     "name": "stderr",
     "output_type": "stream",
     "text": [
      "INFO:tensorflow:Assets written to: best_model\\assets\n",
      "WARNING:absl:<keras.layers.recurrent.GRUCell object at 0x0000015E57CAE088> has the same name 'GRUCell' as a built-in Keras object. Consider renaming <class 'keras.layers.recurrent.GRUCell'> to avoid naming conflicts when loading with `tf.keras.models.load_model`. If renaming is not possible, pass the object in the `custom_objects` parameter of the load function.\n",
      "WARNING:absl:<keras.layers.recurrent.GRUCell object at 0x0000015E57CAEF48> has the same name 'GRUCell' as a built-in Keras object. Consider renaming <class 'keras.layers.recurrent.GRUCell'> to avoid naming conflicts when loading with `tf.keras.models.load_model`. If renaming is not possible, pass the object in the `custom_objects` parameter of the load function.\n"
     ]
    },
    {
     "name": "stdout",
     "output_type": "stream",
     "text": [
      "1098/1098 [==============================] - 14s 13ms/step - loss: 10.9634 - root_mean_squared_error: 3.3111\n",
      "Epoch 116/200\n",
      "1098/1098 [==============================] - 11s 10ms/step - loss: 11.1273 - root_mean_squared_error: 3.3358\n",
      "Epoch 117/200\n",
      "1098/1098 [==============================] - 11s 10ms/step - loss: 11.3832 - root_mean_squared_error: 3.3739\n",
      "Epoch 118/200\n",
      "1098/1098 [==============================] - 11s 10ms/step - loss: 11.0639 - root_mean_squared_error: 3.3262\n",
      "Epoch 119/200\n",
      "1098/1098 [==============================] - 11s 10ms/step - loss: 11.0836 - root_mean_squared_error: 3.3292\n",
      "Epoch 120/200\n",
      "1098/1098 [==============================] - 11s 10ms/step - loss: 11.1472 - root_mean_squared_error: 3.3387\n",
      "Epoch 121/200\n",
      "1098/1098 [==============================] - 11s 10ms/step - loss: 11.0360 - root_mean_squared_error: 3.3221\n",
      "Epoch 122/200\n",
      "1098/1098 [==============================] - 11s 10ms/step - loss: 11.0138 - root_mean_squared_error: 3.3187\n",
      "Epoch 123/200\n",
      "1098/1098 [==============================] - 11s 10ms/step - loss: 10.9911 - root_mean_squared_error: 3.3153\n",
      "Epoch 124/200\n",
      "1096/1098 [============================>.] - ETA: 0s - loss: 10.9317 - root_mean_squared_error: 3.3063"
     ]
    },
    {
     "name": "stderr",
     "output_type": "stream",
     "text": [
      "WARNING:absl:Found untraced functions such as gru_cell_layer_call_fn, gru_cell_layer_call_and_return_conditional_losses while saving (showing 2 of 2). These functions will not be directly callable after loading.\n"
     ]
    },
    {
     "name": "stdout",
     "output_type": "stream",
     "text": [
      "INFO:tensorflow:Assets written to: best_model\\assets\n"
     ]
    },
    {
     "name": "stderr",
     "output_type": "stream",
     "text": [
      "INFO:tensorflow:Assets written to: best_model\\assets\n",
      "WARNING:absl:<keras.layers.recurrent.GRUCell object at 0x0000015E57CAE088> has the same name 'GRUCell' as a built-in Keras object. Consider renaming <class 'keras.layers.recurrent.GRUCell'> to avoid naming conflicts when loading with `tf.keras.models.load_model`. If renaming is not possible, pass the object in the `custom_objects` parameter of the load function.\n",
      "WARNING:absl:<keras.layers.recurrent.GRUCell object at 0x0000015E57CAEF48> has the same name 'GRUCell' as a built-in Keras object. Consider renaming <class 'keras.layers.recurrent.GRUCell'> to avoid naming conflicts when loading with `tf.keras.models.load_model`. If renaming is not possible, pass the object in the `custom_objects` parameter of the load function.\n"
     ]
    },
    {
     "name": "stdout",
     "output_type": "stream",
     "text": [
      "1098/1098 [==============================] - 14s 13ms/step - loss: 10.9279 - root_mean_squared_error: 3.3057\n",
      "Epoch 125/200\n",
      "1098/1098 [==============================] - 10s 10ms/step - loss: 10.9654 - root_mean_squared_error: 3.3114\n",
      "Epoch 126/200\n",
      "1098/1098 [==============================] - 11s 10ms/step - loss: 11.1160 - root_mean_squared_error: 3.3341\n",
      "Epoch 127/200\n",
      "1098/1098 [==============================] - 11s 10ms/step - loss: 10.9490 - root_mean_squared_error: 3.3089\n",
      "Epoch 128/200\n",
      "1098/1098 [==============================] - 11s 10ms/step - loss: 11.0542 - root_mean_squared_error: 3.3248\n",
      "Epoch 129/200\n",
      "1098/1098 [==============================] - 11s 10ms/step - loss: 11.0693 - root_mean_squared_error: 3.3271\n",
      "Epoch 130/200\n",
      "1093/1098 [============================>.] - ETA: 0s - loss: 10.9418 - root_mean_squared_error: 3.3078"
     ]
    },
    {
     "name": "stderr",
     "output_type": "stream",
     "text": [
      "WARNING:absl:Found untraced functions such as gru_cell_layer_call_fn, gru_cell_layer_call_and_return_conditional_losses while saving (showing 2 of 2). These functions will not be directly callable after loading.\n"
     ]
    },
    {
     "name": "stdout",
     "output_type": "stream",
     "text": [
      "INFO:tensorflow:Assets written to: best_model\\assets\n"
     ]
    },
    {
     "name": "stderr",
     "output_type": "stream",
     "text": [
      "INFO:tensorflow:Assets written to: best_model\\assets\n",
      "WARNING:absl:<keras.layers.recurrent.GRUCell object at 0x0000015E57CAE088> has the same name 'GRUCell' as a built-in Keras object. Consider renaming <class 'keras.layers.recurrent.GRUCell'> to avoid naming conflicts when loading with `tf.keras.models.load_model`. If renaming is not possible, pass the object in the `custom_objects` parameter of the load function.\n",
      "WARNING:absl:<keras.layers.recurrent.GRUCell object at 0x0000015E57CAEF48> has the same name 'GRUCell' as a built-in Keras object. Consider renaming <class 'keras.layers.recurrent.GRUCell'> to avoid naming conflicts when loading with `tf.keras.models.load_model`. If renaming is not possible, pass the object in the `custom_objects` parameter of the load function.\n"
     ]
    },
    {
     "name": "stdout",
     "output_type": "stream",
     "text": [
      "1098/1098 [==============================] - 14s 13ms/step - loss: 10.9276 - root_mean_squared_error: 3.3057\n",
      "Epoch 131/200\n",
      "1098/1098 [==============================] - 11s 10ms/step - loss: 10.9475 - root_mean_squared_error: 3.3087\n",
      "Epoch 132/200\n",
      "1098/1098 [==============================] - ETA: 0s - loss: 10.8835 - root_mean_squared_error: 3.2990"
     ]
    },
    {
     "name": "stderr",
     "output_type": "stream",
     "text": [
      "WARNING:absl:Found untraced functions such as gru_cell_layer_call_fn, gru_cell_layer_call_and_return_conditional_losses while saving (showing 2 of 2). These functions will not be directly callable after loading.\n"
     ]
    },
    {
     "name": "stdout",
     "output_type": "stream",
     "text": [
      "INFO:tensorflow:Assets written to: best_model\\assets\n"
     ]
    },
    {
     "name": "stderr",
     "output_type": "stream",
     "text": [
      "INFO:tensorflow:Assets written to: best_model\\assets\n",
      "WARNING:absl:<keras.layers.recurrent.GRUCell object at 0x0000015E57CAE088> has the same name 'GRUCell' as a built-in Keras object. Consider renaming <class 'keras.layers.recurrent.GRUCell'> to avoid naming conflicts when loading with `tf.keras.models.load_model`. If renaming is not possible, pass the object in the `custom_objects` parameter of the load function.\n",
      "WARNING:absl:<keras.layers.recurrent.GRUCell object at 0x0000015E57CAEF48> has the same name 'GRUCell' as a built-in Keras object. Consider renaming <class 'keras.layers.recurrent.GRUCell'> to avoid naming conflicts when loading with `tf.keras.models.load_model`. If renaming is not possible, pass the object in the `custom_objects` parameter of the load function.\n"
     ]
    },
    {
     "name": "stdout",
     "output_type": "stream",
     "text": [
      "1098/1098 [==============================] - 14s 13ms/step - loss: 10.8835 - root_mean_squared_error: 3.2990\n",
      "Epoch 133/200\n",
      "1097/1098 [============================>.] - ETA: 0s - loss: 10.7495 - root_mean_squared_error: 3.2786"
     ]
    },
    {
     "name": "stderr",
     "output_type": "stream",
     "text": [
      "WARNING:absl:Found untraced functions such as gru_cell_layer_call_fn, gru_cell_layer_call_and_return_conditional_losses while saving (showing 2 of 2). These functions will not be directly callable after loading.\n"
     ]
    },
    {
     "name": "stdout",
     "output_type": "stream",
     "text": [
      "INFO:tensorflow:Assets written to: best_model\\assets\n"
     ]
    },
    {
     "name": "stderr",
     "output_type": "stream",
     "text": [
      "INFO:tensorflow:Assets written to: best_model\\assets\n",
      "WARNING:absl:<keras.layers.recurrent.GRUCell object at 0x0000015E57CAE088> has the same name 'GRUCell' as a built-in Keras object. Consider renaming <class 'keras.layers.recurrent.GRUCell'> to avoid naming conflicts when loading with `tf.keras.models.load_model`. If renaming is not possible, pass the object in the `custom_objects` parameter of the load function.\n",
      "WARNING:absl:<keras.layers.recurrent.GRUCell object at 0x0000015E57CAEF48> has the same name 'GRUCell' as a built-in Keras object. Consider renaming <class 'keras.layers.recurrent.GRUCell'> to avoid naming conflicts when loading with `tf.keras.models.load_model`. If renaming is not possible, pass the object in the `custom_objects` parameter of the load function.\n"
     ]
    },
    {
     "name": "stdout",
     "output_type": "stream",
     "text": [
      "1098/1098 [==============================] - 14s 13ms/step - loss: 10.7450 - root_mean_squared_error: 3.2780\n",
      "Epoch 134/200\n",
      "1098/1098 [==============================] - ETA: 0s - loss: 10.6956 - root_mean_squared_error: 3.2704"
     ]
    },
    {
     "name": "stderr",
     "output_type": "stream",
     "text": [
      "WARNING:absl:Found untraced functions such as gru_cell_layer_call_fn, gru_cell_layer_call_and_return_conditional_losses while saving (showing 2 of 2). These functions will not be directly callable after loading.\n"
     ]
    },
    {
     "name": "stdout",
     "output_type": "stream",
     "text": [
      "INFO:tensorflow:Assets written to: best_model\\assets\n"
     ]
    },
    {
     "name": "stderr",
     "output_type": "stream",
     "text": [
      "INFO:tensorflow:Assets written to: best_model\\assets\n",
      "WARNING:absl:<keras.layers.recurrent.GRUCell object at 0x0000015E57CAE088> has the same name 'GRUCell' as a built-in Keras object. Consider renaming <class 'keras.layers.recurrent.GRUCell'> to avoid naming conflicts when loading with `tf.keras.models.load_model`. If renaming is not possible, pass the object in the `custom_objects` parameter of the load function.\n",
      "WARNING:absl:<keras.layers.recurrent.GRUCell object at 0x0000015E57CAEF48> has the same name 'GRUCell' as a built-in Keras object. Consider renaming <class 'keras.layers.recurrent.GRUCell'> to avoid naming conflicts when loading with `tf.keras.models.load_model`. If renaming is not possible, pass the object in the `custom_objects` parameter of the load function.\n"
     ]
    },
    {
     "name": "stdout",
     "output_type": "stream",
     "text": [
      "1098/1098 [==============================] - 13s 12ms/step - loss: 10.6956 - root_mean_squared_error: 3.2704\n",
      "Epoch 135/200\n",
      "1098/1098 [==============================] - 10s 9ms/step - loss: 10.7746 - root_mean_squared_error: 3.2825\n",
      "Epoch 136/200\n",
      "1098/1098 [==============================] - 11s 10ms/step - loss: 10.7053 - root_mean_squared_error: 3.2719\n",
      "Epoch 137/200\n",
      "1098/1098 [==============================] - 11s 10ms/step - loss: 10.9146 - root_mean_squared_error: 3.3037\n",
      "Epoch 138/200\n",
      "1098/1098 [==============================] - 11s 10ms/step - loss: 10.7370 - root_mean_squared_error: 3.2767\n",
      "Epoch 139/200\n",
      "1098/1098 [==============================] - ETA: 0s - loss: 10.6727 - root_mean_squared_error: 3.2669"
     ]
    },
    {
     "name": "stderr",
     "output_type": "stream",
     "text": [
      "WARNING:absl:Found untraced functions such as gru_cell_layer_call_fn, gru_cell_layer_call_and_return_conditional_losses while saving (showing 2 of 2). These functions will not be directly callable after loading.\n"
     ]
    },
    {
     "name": "stdout",
     "output_type": "stream",
     "text": [
      "INFO:tensorflow:Assets written to: best_model\\assets\n"
     ]
    },
    {
     "name": "stderr",
     "output_type": "stream",
     "text": [
      "INFO:tensorflow:Assets written to: best_model\\assets\n",
      "WARNING:absl:<keras.layers.recurrent.GRUCell object at 0x0000015E57CAE088> has the same name 'GRUCell' as a built-in Keras object. Consider renaming <class 'keras.layers.recurrent.GRUCell'> to avoid naming conflicts when loading with `tf.keras.models.load_model`. If renaming is not possible, pass the object in the `custom_objects` parameter of the load function.\n",
      "WARNING:absl:<keras.layers.recurrent.GRUCell object at 0x0000015E57CAEF48> has the same name 'GRUCell' as a built-in Keras object. Consider renaming <class 'keras.layers.recurrent.GRUCell'> to avoid naming conflicts when loading with `tf.keras.models.load_model`. If renaming is not possible, pass the object in the `custom_objects` parameter of the load function.\n"
     ]
    },
    {
     "name": "stdout",
     "output_type": "stream",
     "text": [
      "1098/1098 [==============================] - 14s 13ms/step - loss: 10.6727 - root_mean_squared_error: 3.2669\n",
      "Epoch 140/200\n",
      "1098/1098 [==============================] - ETA: 0s - loss: 10.5598 - root_mean_squared_error: 3.2496"
     ]
    },
    {
     "name": "stderr",
     "output_type": "stream",
     "text": [
      "WARNING:absl:Found untraced functions such as gru_cell_layer_call_fn, gru_cell_layer_call_and_return_conditional_losses while saving (showing 2 of 2). These functions will not be directly callable after loading.\n"
     ]
    },
    {
     "name": "stdout",
     "output_type": "stream",
     "text": [
      "INFO:tensorflow:Assets written to: best_model\\assets\n"
     ]
    },
    {
     "name": "stderr",
     "output_type": "stream",
     "text": [
      "INFO:tensorflow:Assets written to: best_model\\assets\n",
      "WARNING:absl:<keras.layers.recurrent.GRUCell object at 0x0000015E57CAE088> has the same name 'GRUCell' as a built-in Keras object. Consider renaming <class 'keras.layers.recurrent.GRUCell'> to avoid naming conflicts when loading with `tf.keras.models.load_model`. If renaming is not possible, pass the object in the `custom_objects` parameter of the load function.\n",
      "WARNING:absl:<keras.layers.recurrent.GRUCell object at 0x0000015E57CAEF48> has the same name 'GRUCell' as a built-in Keras object. Consider renaming <class 'keras.layers.recurrent.GRUCell'> to avoid naming conflicts when loading with `tf.keras.models.load_model`. If renaming is not possible, pass the object in the `custom_objects` parameter of the load function.\n"
     ]
    },
    {
     "name": "stdout",
     "output_type": "stream",
     "text": [
      "1098/1098 [==============================] - 14s 12ms/step - loss: 10.5598 - root_mean_squared_error: 3.2496\n",
      "Epoch 141/200\n",
      "1098/1098 [==============================] - 10s 9ms/step - loss: 10.6341 - root_mean_squared_error: 3.2610\n",
      "Epoch 142/200\n",
      "1098/1098 [==============================] - 10s 9ms/step - loss: 10.7505 - root_mean_squared_error: 3.2788\n",
      "Epoch 143/200\n",
      "1098/1098 [==============================] - 10s 9ms/step - loss: 10.6864 - root_mean_squared_error: 3.2690\n",
      "Epoch 144/200\n",
      "1098/1098 [==============================] - 10s 9ms/step - loss: 10.6028 - root_mean_squared_error: 3.2562\n",
      "Epoch 145/200\n",
      "1098/1098 [==============================] - 10s 9ms/step - loss: 10.6705 - root_mean_squared_error: 3.2666\n",
      "Epoch 146/200\n",
      "1098/1098 [==============================] - 10s 9ms/step - loss: 10.5774 - root_mean_squared_error: 3.2523\n",
      "Epoch 147/200\n",
      "1094/1098 [============================>.] - ETA: 0s - loss: 10.5320 - root_mean_squared_error: 3.2453"
     ]
    },
    {
     "name": "stderr",
     "output_type": "stream",
     "text": [
      "WARNING:absl:Found untraced functions such as gru_cell_layer_call_fn, gru_cell_layer_call_and_return_conditional_losses while saving (showing 2 of 2). These functions will not be directly callable after loading.\n"
     ]
    },
    {
     "name": "stdout",
     "output_type": "stream",
     "text": [
      "INFO:tensorflow:Assets written to: best_model\\assets\n"
     ]
    },
    {
     "name": "stderr",
     "output_type": "stream",
     "text": [
      "INFO:tensorflow:Assets written to: best_model\\assets\n",
      "WARNING:absl:<keras.layers.recurrent.GRUCell object at 0x0000015E57CAE088> has the same name 'GRUCell' as a built-in Keras object. Consider renaming <class 'keras.layers.recurrent.GRUCell'> to avoid naming conflicts when loading with `tf.keras.models.load_model`. If renaming is not possible, pass the object in the `custom_objects` parameter of the load function.\n",
      "WARNING:absl:<keras.layers.recurrent.GRUCell object at 0x0000015E57CAEF48> has the same name 'GRUCell' as a built-in Keras object. Consider renaming <class 'keras.layers.recurrent.GRUCell'> to avoid naming conflicts when loading with `tf.keras.models.load_model`. If renaming is not possible, pass the object in the `custom_objects` parameter of the load function.\n"
     ]
    },
    {
     "name": "stdout",
     "output_type": "stream",
     "text": [
      "1098/1098 [==============================] - 14s 13ms/step - loss: 10.5237 - root_mean_squared_error: 3.2440\n",
      "Epoch 148/200\n",
      "1095/1098 [============================>.] - ETA: 0s - loss: 10.4272 - root_mean_squared_error: 3.2291"
     ]
    },
    {
     "name": "stderr",
     "output_type": "stream",
     "text": [
      "WARNING:absl:Found untraced functions such as gru_cell_layer_call_fn, gru_cell_layer_call_and_return_conditional_losses while saving (showing 2 of 2). These functions will not be directly callable after loading.\n"
     ]
    },
    {
     "name": "stdout",
     "output_type": "stream",
     "text": [
      "INFO:tensorflow:Assets written to: best_model\\assets\n"
     ]
    },
    {
     "name": "stderr",
     "output_type": "stream",
     "text": [
      "INFO:tensorflow:Assets written to: best_model\\assets\n",
      "WARNING:absl:<keras.layers.recurrent.GRUCell object at 0x0000015E57CAE088> has the same name 'GRUCell' as a built-in Keras object. Consider renaming <class 'keras.layers.recurrent.GRUCell'> to avoid naming conflicts when loading with `tf.keras.models.load_model`. If renaming is not possible, pass the object in the `custom_objects` parameter of the load function.\n",
      "WARNING:absl:<keras.layers.recurrent.GRUCell object at 0x0000015E57CAEF48> has the same name 'GRUCell' as a built-in Keras object. Consider renaming <class 'keras.layers.recurrent.GRUCell'> to avoid naming conflicts when loading with `tf.keras.models.load_model`. If renaming is not possible, pass the object in the `custom_objects` parameter of the load function.\n"
     ]
    },
    {
     "name": "stdout",
     "output_type": "stream",
     "text": [
      "1098/1098 [==============================] - 14s 13ms/step - loss: 10.4286 - root_mean_squared_error: 3.2293\n",
      "Epoch 149/200\n",
      "1098/1098 [==============================] - 10s 9ms/step - loss: 10.4841 - root_mean_squared_error: 3.2379\n",
      "Epoch 150/200\n",
      "1098/1098 [==============================] - 10s 9ms/step - loss: 10.6912 - root_mean_squared_error: 3.2697\n",
      "Epoch 151/200\n",
      "1098/1098 [==============================] - 10s 9ms/step - loss: 10.4483 - root_mean_squared_error: 3.2324\n",
      "Epoch 152/200\n",
      "1098/1098 [==============================] - 10s 9ms/step - loss: 10.4927 - root_mean_squared_error: 3.2392\n",
      "Epoch 153/200\n",
      "1094/1098 [============================>.] - ETA: 0s - loss: 10.3633 - root_mean_squared_error: 3.2192"
     ]
    },
    {
     "name": "stderr",
     "output_type": "stream",
     "text": [
      "WARNING:absl:Found untraced functions such as gru_cell_layer_call_fn, gru_cell_layer_call_and_return_conditional_losses while saving (showing 2 of 2). These functions will not be directly callable after loading.\n"
     ]
    },
    {
     "name": "stdout",
     "output_type": "stream",
     "text": [
      "INFO:tensorflow:Assets written to: best_model\\assets\n"
     ]
    },
    {
     "name": "stderr",
     "output_type": "stream",
     "text": [
      "INFO:tensorflow:Assets written to: best_model\\assets\n",
      "WARNING:absl:<keras.layers.recurrent.GRUCell object at 0x0000015E57CAE088> has the same name 'GRUCell' as a built-in Keras object. Consider renaming <class 'keras.layers.recurrent.GRUCell'> to avoid naming conflicts when loading with `tf.keras.models.load_model`. If renaming is not possible, pass the object in the `custom_objects` parameter of the load function.\n",
      "WARNING:absl:<keras.layers.recurrent.GRUCell object at 0x0000015E57CAEF48> has the same name 'GRUCell' as a built-in Keras object. Consider renaming <class 'keras.layers.recurrent.GRUCell'> to avoid naming conflicts when loading with `tf.keras.models.load_model`. If renaming is not possible, pass the object in the `custom_objects` parameter of the load function.\n"
     ]
    },
    {
     "name": "stdout",
     "output_type": "stream",
     "text": [
      "1098/1098 [==============================] - 14s 13ms/step - loss: 10.3631 - root_mean_squared_error: 3.2192\n",
      "Epoch 154/200\n",
      "1094/1098 [============================>.] - ETA: 0s - loss: 10.3131 - root_mean_squared_error: 3.2114"
     ]
    },
    {
     "name": "stderr",
     "output_type": "stream",
     "text": [
      "WARNING:absl:Found untraced functions such as gru_cell_layer_call_fn, gru_cell_layer_call_and_return_conditional_losses while saving (showing 2 of 2). These functions will not be directly callable after loading.\n"
     ]
    },
    {
     "name": "stdout",
     "output_type": "stream",
     "text": [
      "INFO:tensorflow:Assets written to: best_model\\assets\n"
     ]
    },
    {
     "name": "stderr",
     "output_type": "stream",
     "text": [
      "INFO:tensorflow:Assets written to: best_model\\assets\n",
      "WARNING:absl:<keras.layers.recurrent.GRUCell object at 0x0000015E57CAE088> has the same name 'GRUCell' as a built-in Keras object. Consider renaming <class 'keras.layers.recurrent.GRUCell'> to avoid naming conflicts when loading with `tf.keras.models.load_model`. If renaming is not possible, pass the object in the `custom_objects` parameter of the load function.\n",
      "WARNING:absl:<keras.layers.recurrent.GRUCell object at 0x0000015E57CAEF48> has the same name 'GRUCell' as a built-in Keras object. Consider renaming <class 'keras.layers.recurrent.GRUCell'> to avoid naming conflicts when loading with `tf.keras.models.load_model`. If renaming is not possible, pass the object in the `custom_objects` parameter of the load function.\n"
     ]
    },
    {
     "name": "stdout",
     "output_type": "stream",
     "text": [
      "1098/1098 [==============================] - 13s 12ms/step - loss: 10.3001 - root_mean_squared_error: 3.2094\n",
      "Epoch 155/200\n",
      "1098/1098 [==============================] - 10s 9ms/step - loss: 10.5349 - root_mean_squared_error: 3.2457\n",
      "Epoch 156/200\n",
      "1098/1098 [==============================] - 11s 10ms/step - loss: 10.8138 - root_mean_squared_error: 3.2884\n",
      "Epoch 157/200\n",
      "1098/1098 [==============================] - 11s 10ms/step - loss: 10.3293 - root_mean_squared_error: 3.2139\n",
      "Epoch 158/200\n",
      "1098/1098 [==============================] - 11s 10ms/step - loss: 10.4659 - root_mean_squared_error: 3.2351\n",
      "Epoch 159/200\n",
      "1098/1098 [==============================] - 11s 10ms/step - loss: 10.4800 - root_mean_squared_error: 3.2373\n",
      "Epoch 160/200\n",
      "1098/1098 [==============================] - 11s 10ms/step - loss: 10.4264 - root_mean_squared_error: 3.2290\n",
      "Epoch 161/200\n",
      "1098/1098 [==============================] - 11s 10ms/step - loss: 10.5144 - root_mean_squared_error: 3.2426\n",
      "Epoch 162/200\n",
      "1098/1098 [==============================] - 11s 10ms/step - loss: 10.3458 - root_mean_squared_error: 3.2165\n",
      "Epoch 163/200\n",
      "1097/1098 [============================>.] - ETA: 0s - loss: 10.2723 - root_mean_squared_error: 3.2050"
     ]
    },
    {
     "name": "stderr",
     "output_type": "stream",
     "text": [
      "WARNING:absl:Found untraced functions such as gru_cell_layer_call_fn, gru_cell_layer_call_and_return_conditional_losses while saving (showing 2 of 2). These functions will not be directly callable after loading.\n"
     ]
    },
    {
     "name": "stdout",
     "output_type": "stream",
     "text": [
      "INFO:tensorflow:Assets written to: best_model\\assets\n"
     ]
    },
    {
     "name": "stderr",
     "output_type": "stream",
     "text": [
      "INFO:tensorflow:Assets written to: best_model\\assets\n",
      "WARNING:absl:<keras.layers.recurrent.GRUCell object at 0x0000015E57CAE088> has the same name 'GRUCell' as a built-in Keras object. Consider renaming <class 'keras.layers.recurrent.GRUCell'> to avoid naming conflicts when loading with `tf.keras.models.load_model`. If renaming is not possible, pass the object in the `custom_objects` parameter of the load function.\n",
      "WARNING:absl:<keras.layers.recurrent.GRUCell object at 0x0000015E57CAEF48> has the same name 'GRUCell' as a built-in Keras object. Consider renaming <class 'keras.layers.recurrent.GRUCell'> to avoid naming conflicts when loading with `tf.keras.models.load_model`. If renaming is not possible, pass the object in the `custom_objects` parameter of the load function.\n"
     ]
    },
    {
     "name": "stdout",
     "output_type": "stream",
     "text": [
      "1098/1098 [==============================] - 14s 13ms/step - loss: 10.2701 - root_mean_squared_error: 3.2047\n",
      "Epoch 164/200\n",
      "1095/1098 [============================>.] - ETA: 0s - loss: 10.2527 - root_mean_squared_error: 3.2020"
     ]
    },
    {
     "name": "stderr",
     "output_type": "stream",
     "text": [
      "WARNING:absl:Found untraced functions such as gru_cell_layer_call_fn, gru_cell_layer_call_and_return_conditional_losses while saving (showing 2 of 2). These functions will not be directly callable after loading.\n"
     ]
    },
    {
     "name": "stdout",
     "output_type": "stream",
     "text": [
      "INFO:tensorflow:Assets written to: best_model\\assets\n"
     ]
    },
    {
     "name": "stderr",
     "output_type": "stream",
     "text": [
      "INFO:tensorflow:Assets written to: best_model\\assets\n",
      "WARNING:absl:<keras.layers.recurrent.GRUCell object at 0x0000015E57CAE088> has the same name 'GRUCell' as a built-in Keras object. Consider renaming <class 'keras.layers.recurrent.GRUCell'> to avoid naming conflicts when loading with `tf.keras.models.load_model`. If renaming is not possible, pass the object in the `custom_objects` parameter of the load function.\n",
      "WARNING:absl:<keras.layers.recurrent.GRUCell object at 0x0000015E57CAEF48> has the same name 'GRUCell' as a built-in Keras object. Consider renaming <class 'keras.layers.recurrent.GRUCell'> to avoid naming conflicts when loading with `tf.keras.models.load_model`. If renaming is not possible, pass the object in the `custom_objects` parameter of the load function.\n"
     ]
    },
    {
     "name": "stdout",
     "output_type": "stream",
     "text": [
      "1098/1098 [==============================] - 14s 13ms/step - loss: 10.2500 - root_mean_squared_error: 3.2016\n",
      "Epoch 165/200\n",
      "1098/1098 [==============================] - 10s 10ms/step - loss: 10.3472 - root_mean_squared_error: 3.2167\n",
      "Epoch 166/200\n",
      "1097/1098 [============================>.] - ETA: 0s - loss: 10.0886 - root_mean_squared_error: 3.1763"
     ]
    },
    {
     "name": "stderr",
     "output_type": "stream",
     "text": [
      "WARNING:absl:Found untraced functions such as gru_cell_layer_call_fn, gru_cell_layer_call_and_return_conditional_losses while saving (showing 2 of 2). These functions will not be directly callable after loading.\n"
     ]
    },
    {
     "name": "stdout",
     "output_type": "stream",
     "text": [
      "INFO:tensorflow:Assets written to: best_model\\assets\n"
     ]
    },
    {
     "name": "stderr",
     "output_type": "stream",
     "text": [
      "INFO:tensorflow:Assets written to: best_model\\assets\n",
      "WARNING:absl:<keras.layers.recurrent.GRUCell object at 0x0000015E57CAE088> has the same name 'GRUCell' as a built-in Keras object. Consider renaming <class 'keras.layers.recurrent.GRUCell'> to avoid naming conflicts when loading with `tf.keras.models.load_model`. If renaming is not possible, pass the object in the `custom_objects` parameter of the load function.\n",
      "WARNING:absl:<keras.layers.recurrent.GRUCell object at 0x0000015E57CAEF48> has the same name 'GRUCell' as a built-in Keras object. Consider renaming <class 'keras.layers.recurrent.GRUCell'> to avoid naming conflicts when loading with `tf.keras.models.load_model`. If renaming is not possible, pass the object in the `custom_objects` parameter of the load function.\n"
     ]
    },
    {
     "name": "stdout",
     "output_type": "stream",
     "text": [
      "1098/1098 [==============================] - 14s 13ms/step - loss: 10.0889 - root_mean_squared_error: 3.1763\n",
      "Epoch 167/200\n",
      "1093/1098 [============================>.] - ETA: 0s - loss: 10.0773 - root_mean_squared_error: 3.1745"
     ]
    },
    {
     "name": "stderr",
     "output_type": "stream",
     "text": [
      "WARNING:absl:Found untraced functions such as gru_cell_layer_call_fn, gru_cell_layer_call_and_return_conditional_losses while saving (showing 2 of 2). These functions will not be directly callable after loading.\n"
     ]
    },
    {
     "name": "stdout",
     "output_type": "stream",
     "text": [
      "INFO:tensorflow:Assets written to: best_model\\assets\n"
     ]
    },
    {
     "name": "stderr",
     "output_type": "stream",
     "text": [
      "INFO:tensorflow:Assets written to: best_model\\assets\n",
      "WARNING:absl:<keras.layers.recurrent.GRUCell object at 0x0000015E57CAE088> has the same name 'GRUCell' as a built-in Keras object. Consider renaming <class 'keras.layers.recurrent.GRUCell'> to avoid naming conflicts when loading with `tf.keras.models.load_model`. If renaming is not possible, pass the object in the `custom_objects` parameter of the load function.\n",
      "WARNING:absl:<keras.layers.recurrent.GRUCell object at 0x0000015E57CAEF48> has the same name 'GRUCell' as a built-in Keras object. Consider renaming <class 'keras.layers.recurrent.GRUCell'> to avoid naming conflicts when loading with `tf.keras.models.load_model`. If renaming is not possible, pass the object in the `custom_objects` parameter of the load function.\n"
     ]
    },
    {
     "name": "stdout",
     "output_type": "stream",
     "text": [
      "1098/1098 [==============================] - 14s 13ms/step - loss: 10.0852 - root_mean_squared_error: 3.1757\n",
      "Epoch 168/200\n",
      "1095/1098 [============================>.] - ETA: 0s - loss: 10.0041 - root_mean_squared_error: 3.1629"
     ]
    },
    {
     "name": "stderr",
     "output_type": "stream",
     "text": [
      "WARNING:absl:Found untraced functions such as gru_cell_layer_call_fn, gru_cell_layer_call_and_return_conditional_losses while saving (showing 2 of 2). These functions will not be directly callable after loading.\n"
     ]
    },
    {
     "name": "stdout",
     "output_type": "stream",
     "text": [
      "INFO:tensorflow:Assets written to: best_model\\assets\n"
     ]
    },
    {
     "name": "stderr",
     "output_type": "stream",
     "text": [
      "INFO:tensorflow:Assets written to: best_model\\assets\n",
      "WARNING:absl:<keras.layers.recurrent.GRUCell object at 0x0000015E57CAE088> has the same name 'GRUCell' as a built-in Keras object. Consider renaming <class 'keras.layers.recurrent.GRUCell'> to avoid naming conflicts when loading with `tf.keras.models.load_model`. If renaming is not possible, pass the object in the `custom_objects` parameter of the load function.\n",
      "WARNING:absl:<keras.layers.recurrent.GRUCell object at 0x0000015E57CAEF48> has the same name 'GRUCell' as a built-in Keras object. Consider renaming <class 'keras.layers.recurrent.GRUCell'> to avoid naming conflicts when loading with `tf.keras.models.load_model`. If renaming is not possible, pass the object in the `custom_objects` parameter of the load function.\n"
     ]
    },
    {
     "name": "stdout",
     "output_type": "stream",
     "text": [
      "1098/1098 [==============================] - 14s 13ms/step - loss: 9.9935 - root_mean_squared_error: 3.1612\n",
      "Epoch 169/200\n",
      "1098/1098 [==============================] - 10s 9ms/step - loss: 10.3267 - root_mean_squared_error: 3.2135\n",
      "Epoch 170/200\n",
      "1098/1098 [==============================] - 10s 9ms/step - loss: 10.1847 - root_mean_squared_error: 3.1913\n",
      "Epoch 171/200\n",
      "1098/1098 [==============================] - 10s 9ms/step - loss: 10.0184 - root_mean_squared_error: 3.1652\n",
      "Epoch 172/200\n",
      "1098/1098 [==============================] - 10s 9ms/step - loss: 10.0324 - root_mean_squared_error: 3.1674\n",
      "Epoch 173/200\n",
      "1098/1098 [==============================] - ETA: 0s - loss: 9.9875 - root_mean_squared_error: 3.1603"
     ]
    },
    {
     "name": "stderr",
     "output_type": "stream",
     "text": [
      "WARNING:absl:Found untraced functions such as gru_cell_layer_call_fn, gru_cell_layer_call_and_return_conditional_losses while saving (showing 2 of 2). These functions will not be directly callable after loading.\n"
     ]
    },
    {
     "name": "stdout",
     "output_type": "stream",
     "text": [
      "INFO:tensorflow:Assets written to: best_model\\assets\n"
     ]
    },
    {
     "name": "stderr",
     "output_type": "stream",
     "text": [
      "INFO:tensorflow:Assets written to: best_model\\assets\n",
      "WARNING:absl:<keras.layers.recurrent.GRUCell object at 0x0000015E57CAE088> has the same name 'GRUCell' as a built-in Keras object. Consider renaming <class 'keras.layers.recurrent.GRUCell'> to avoid naming conflicts when loading with `tf.keras.models.load_model`. If renaming is not possible, pass the object in the `custom_objects` parameter of the load function.\n",
      "WARNING:absl:<keras.layers.recurrent.GRUCell object at 0x0000015E57CAEF48> has the same name 'GRUCell' as a built-in Keras object. Consider renaming <class 'keras.layers.recurrent.GRUCell'> to avoid naming conflicts when loading with `tf.keras.models.load_model`. If renaming is not possible, pass the object in the `custom_objects` parameter of the load function.\n"
     ]
    },
    {
     "name": "stdout",
     "output_type": "stream",
     "text": [
      "1098/1098 [==============================] - 13s 12ms/step - loss: 9.9875 - root_mean_squared_error: 3.1603\n",
      "Epoch 174/200\n",
      "1098/1098 [==============================] - 10s 9ms/step - loss: 10.1536 - root_mean_squared_error: 3.1865\n",
      "Epoch 175/200\n",
      "1098/1098 [==============================] - 11s 10ms/step - loss: 10.1149 - root_mean_squared_error: 3.1804\n",
      "Epoch 176/200\n",
      "1098/1098 [==============================] - 11s 10ms/step - loss: 10.0641 - root_mean_squared_error: 3.1724\n",
      "Epoch 177/200\n",
      "1098/1098 [==============================] - 11s 10ms/step - loss: 10.0486 - root_mean_squared_error: 3.1700\n",
      "Epoch 178/200\n",
      "1098/1098 [==============================] - ETA: 0s - loss: 9.9676 - root_mean_squared_error: 3.1571"
     ]
    },
    {
     "name": "stderr",
     "output_type": "stream",
     "text": [
      "WARNING:absl:Found untraced functions such as gru_cell_layer_call_fn, gru_cell_layer_call_and_return_conditional_losses while saving (showing 2 of 2). These functions will not be directly callable after loading.\n"
     ]
    },
    {
     "name": "stdout",
     "output_type": "stream",
     "text": [
      "INFO:tensorflow:Assets written to: best_model\\assets\n"
     ]
    },
    {
     "name": "stderr",
     "output_type": "stream",
     "text": [
      "INFO:tensorflow:Assets written to: best_model\\assets\n",
      "WARNING:absl:<keras.layers.recurrent.GRUCell object at 0x0000015E57CAE088> has the same name 'GRUCell' as a built-in Keras object. Consider renaming <class 'keras.layers.recurrent.GRUCell'> to avoid naming conflicts when loading with `tf.keras.models.load_model`. If renaming is not possible, pass the object in the `custom_objects` parameter of the load function.\n",
      "WARNING:absl:<keras.layers.recurrent.GRUCell object at 0x0000015E57CAEF48> has the same name 'GRUCell' as a built-in Keras object. Consider renaming <class 'keras.layers.recurrent.GRUCell'> to avoid naming conflicts when loading with `tf.keras.models.load_model`. If renaming is not possible, pass the object in the `custom_objects` parameter of the load function.\n"
     ]
    },
    {
     "name": "stdout",
     "output_type": "stream",
     "text": [
      "1098/1098 [==============================] - 14s 13ms/step - loss: 9.9676 - root_mean_squared_error: 3.1571\n",
      "Epoch 179/200\n",
      "1098/1098 [==============================] - 11s 10ms/step - loss: 10.0590 - root_mean_squared_error: 3.1716\n",
      "Epoch 180/200\n",
      "1098/1098 [==============================] - 10s 9ms/step - loss: 10.1375 - root_mean_squared_error: 3.1839\n",
      "Epoch 181/200\n",
      "1098/1098 [==============================] - 11s 10ms/step - loss: 10.1291 - root_mean_squared_error: 3.1826\n",
      "Epoch 182/200\n",
      "1098/1098 [==============================] - 10s 9ms/step - loss: 10.0676 - root_mean_squared_error: 3.1729\n",
      "Epoch 183/200\n",
      "1098/1098 [==============================] - ETA: 0s - loss: 9.9376 - root_mean_squared_error: 3.1524"
     ]
    },
    {
     "name": "stderr",
     "output_type": "stream",
     "text": [
      "WARNING:absl:Found untraced functions such as gru_cell_layer_call_fn, gru_cell_layer_call_and_return_conditional_losses while saving (showing 2 of 2). These functions will not be directly callable after loading.\n"
     ]
    },
    {
     "name": "stdout",
     "output_type": "stream",
     "text": [
      "INFO:tensorflow:Assets written to: best_model\\assets\n"
     ]
    },
    {
     "name": "stderr",
     "output_type": "stream",
     "text": [
      "INFO:tensorflow:Assets written to: best_model\\assets\n",
      "WARNING:absl:<keras.layers.recurrent.GRUCell object at 0x0000015E57CAE088> has the same name 'GRUCell' as a built-in Keras object. Consider renaming <class 'keras.layers.recurrent.GRUCell'> to avoid naming conflicts when loading with `tf.keras.models.load_model`. If renaming is not possible, pass the object in the `custom_objects` parameter of the load function.\n",
      "WARNING:absl:<keras.layers.recurrent.GRUCell object at 0x0000015E57CAEF48> has the same name 'GRUCell' as a built-in Keras object. Consider renaming <class 'keras.layers.recurrent.GRUCell'> to avoid naming conflicts when loading with `tf.keras.models.load_model`. If renaming is not possible, pass the object in the `custom_objects` parameter of the load function.\n"
     ]
    },
    {
     "name": "stdout",
     "output_type": "stream",
     "text": [
      "1098/1098 [==============================] - 14s 13ms/step - loss: 9.9376 - root_mean_squared_error: 3.1524\n",
      "Epoch 184/200\n",
      "1098/1098 [==============================] - 10s 9ms/step - loss: 10.0404 - root_mean_squared_error: 3.1687\n",
      "Epoch 185/200\n",
      "1094/1098 [============================>.] - ETA: 0s - loss: 9.8376 - root_mean_squared_error: 3.1365"
     ]
    },
    {
     "name": "stderr",
     "output_type": "stream",
     "text": [
      "WARNING:absl:Found untraced functions such as gru_cell_layer_call_fn, gru_cell_layer_call_and_return_conditional_losses while saving (showing 2 of 2). These functions will not be directly callable after loading.\n"
     ]
    },
    {
     "name": "stdout",
     "output_type": "stream",
     "text": [
      "INFO:tensorflow:Assets written to: best_model\\assets\n"
     ]
    },
    {
     "name": "stderr",
     "output_type": "stream",
     "text": [
      "INFO:tensorflow:Assets written to: best_model\\assets\n",
      "WARNING:absl:<keras.layers.recurrent.GRUCell object at 0x0000015E57CAE088> has the same name 'GRUCell' as a built-in Keras object. Consider renaming <class 'keras.layers.recurrent.GRUCell'> to avoid naming conflicts when loading with `tf.keras.models.load_model`. If renaming is not possible, pass the object in the `custom_objects` parameter of the load function.\n",
      "WARNING:absl:<keras.layers.recurrent.GRUCell object at 0x0000015E57CAEF48> has the same name 'GRUCell' as a built-in Keras object. Consider renaming <class 'keras.layers.recurrent.GRUCell'> to avoid naming conflicts when loading with `tf.keras.models.load_model`. If renaming is not possible, pass the object in the `custom_objects` parameter of the load function.\n"
     ]
    },
    {
     "name": "stdout",
     "output_type": "stream",
     "text": [
      "1098/1098 [==============================] - 14s 13ms/step - loss: 9.8263 - root_mean_squared_error: 3.1347\n",
      "Epoch 186/200\n",
      "1098/1098 [==============================] - 10s 9ms/step - loss: 9.9491 - root_mean_squared_error: 3.1542\n",
      "Epoch 187/200\n",
      "1098/1098 [==============================] - 10s 9ms/step - loss: 10.0679 - root_mean_squared_error: 3.1730\n",
      "Epoch 188/200\n",
      "1098/1098 [==============================] - 10s 9ms/step - loss: 9.8492 - root_mean_squared_error: 3.1383\n",
      "Epoch 189/200\n",
      "1098/1098 [==============================] - 10s 9ms/step - loss: 9.9013 - root_mean_squared_error: 3.1466\n",
      "Epoch 190/200\n",
      "1098/1098 [==============================] - 10s 9ms/step - loss: 10.1565 - root_mean_squared_error: 3.1869\n",
      "Epoch 191/200\n",
      "1098/1098 [==============================] - 10s 9ms/step - loss: 9.8408 - root_mean_squared_error: 3.1370\n",
      "Epoch 192/200\n",
      "1098/1098 [==============================] - 10s 9ms/step - loss: 9.9277 - root_mean_squared_error: 3.1508\n",
      "Epoch 193/200\n",
      "1098/1098 [==============================] - 10s 9ms/step - loss: 9.9934 - root_mean_squared_error: 3.1612\n",
      "Epoch 194/200\n",
      "1098/1098 [==============================] - 10s 9ms/step - loss: 9.8616 - root_mean_squared_error: 3.1403\n",
      "Epoch 195/200\n",
      "1098/1098 [==============================] - ETA: 0s - loss: 9.7909 - root_mean_squared_error: 3.1290"
     ]
    },
    {
     "name": "stderr",
     "output_type": "stream",
     "text": [
      "WARNING:absl:Found untraced functions such as gru_cell_layer_call_fn, gru_cell_layer_call_and_return_conditional_losses while saving (showing 2 of 2). These functions will not be directly callable after loading.\n"
     ]
    },
    {
     "name": "stdout",
     "output_type": "stream",
     "text": [
      "INFO:tensorflow:Assets written to: best_model\\assets\n"
     ]
    },
    {
     "name": "stderr",
     "output_type": "stream",
     "text": [
      "INFO:tensorflow:Assets written to: best_model\\assets\n",
      "WARNING:absl:<keras.layers.recurrent.GRUCell object at 0x0000015E57CAE088> has the same name 'GRUCell' as a built-in Keras object. Consider renaming <class 'keras.layers.recurrent.GRUCell'> to avoid naming conflicts when loading with `tf.keras.models.load_model`. If renaming is not possible, pass the object in the `custom_objects` parameter of the load function.\n",
      "WARNING:absl:<keras.layers.recurrent.GRUCell object at 0x0000015E57CAEF48> has the same name 'GRUCell' as a built-in Keras object. Consider renaming <class 'keras.layers.recurrent.GRUCell'> to avoid naming conflicts when loading with `tf.keras.models.load_model`. If renaming is not possible, pass the object in the `custom_objects` parameter of the load function.\n"
     ]
    },
    {
     "name": "stdout",
     "output_type": "stream",
     "text": [
      "1098/1098 [==============================] - 14s 12ms/step - loss: 9.7909 - root_mean_squared_error: 3.1290\n",
      "Epoch 196/200\n",
      "1098/1098 [==============================] - 10s 9ms/step - loss: 9.8184 - root_mean_squared_error: 3.1334\n",
      "Epoch 197/200\n",
      "1098/1098 [==============================] - 10s 9ms/step - loss: 9.9129 - root_mean_squared_error: 3.1485\n",
      "Epoch 198/200\n",
      "1098/1098 [==============================] - 10s 9ms/step - loss: 9.8848 - root_mean_squared_error: 3.1440\n",
      "Epoch 199/200\n",
      "1098/1098 [==============================] - 10s 9ms/step - loss: 9.9381 - root_mean_squared_error: 3.1525\n",
      "Epoch 200/200\n",
      "1098/1098 [==============================] - 10s 9ms/step - loss: 9.8199 - root_mean_squared_error: 3.1337\n",
      "275/275 [==============================] - 1s 3ms/step - loss: 28.0961 - root_mean_squared_error: 5.3006\n",
      "Epoch 1/200\n",
      "1098/1098 [==============================] - 10s 9ms/step - loss: 11.0323 - root_mean_squared_error: 3.3215\n",
      "Epoch 2/200\n",
      "1098/1098 [==============================] - 10s 9ms/step - loss: 10.8532 - root_mean_squared_error: 3.2944\n",
      "Epoch 3/200\n",
      "1098/1098 [==============================] - 10s 9ms/step - loss: 10.6745 - root_mean_squared_error: 3.2672\n",
      "Epoch 4/200\n",
      "1098/1098 [==============================] - 10s 9ms/step - loss: 10.8542 - root_mean_squared_error: 3.2946\n",
      "Epoch 5/200\n",
      "1098/1098 [==============================] - 10s 9ms/step - loss: 10.5198 - root_mean_squared_error: 3.2434\n",
      "Epoch 6/200\n",
      "1098/1098 [==============================] - 10s 9ms/step - loss: 10.6294 - root_mean_squared_error: 3.2603\n",
      "Epoch 7/200\n",
      "1098/1098 [==============================] - 10s 9ms/step - loss: 10.5148 - root_mean_squared_error: 3.2426\n",
      "Epoch 8/200\n",
      "1098/1098 [==============================] - 10s 9ms/step - loss: 10.4274 - root_mean_squared_error: 3.2291\n",
      "Epoch 9/200\n",
      "1098/1098 [==============================] - 10s 9ms/step - loss: 10.4729 - root_mean_squared_error: 3.2362\n",
      "Epoch 10/200\n",
      "1098/1098 [==============================] - 10s 9ms/step - loss: 10.4223 - root_mean_squared_error: 3.2284\n",
      "Epoch 11/200\n",
      "1098/1098 [==============================] - 10s 9ms/step - loss: 10.3698 - root_mean_squared_error: 3.2202\n",
      "Epoch 12/200\n",
      "1098/1098 [==============================] - 10s 9ms/step - loss: 10.4550 - root_mean_squared_error: 3.2334\n",
      "Epoch 13/200\n",
      "1098/1098 [==============================] - 10s 9ms/step - loss: 10.2015 - root_mean_squared_error: 3.1940\n",
      "Epoch 14/200\n",
      "1098/1098 [==============================] - 10s 9ms/step - loss: 10.2479 - root_mean_squared_error: 3.2012\n",
      "Epoch 15/200\n",
      "1098/1098 [==============================] - 10s 9ms/step - loss: 10.1809 - root_mean_squared_error: 3.1907\n",
      "Epoch 16/200\n",
      "1098/1098 [==============================] - 10s 9ms/step - loss: 10.0220 - root_mean_squared_error: 3.1658\n",
      "Epoch 17/200\n",
      "1098/1098 [==============================] - 10s 9ms/step - loss: 10.3423 - root_mean_squared_error: 3.2160\n",
      "Epoch 18/200\n",
      "1098/1098 [==============================] - 10s 9ms/step - loss: 10.1858 - root_mean_squared_error: 3.1915\n",
      "Epoch 19/200\n",
      "1098/1098 [==============================] - 10s 9ms/step - loss: 10.1799 - root_mean_squared_error: 3.1906\n",
      "Epoch 20/200\n",
      "1098/1098 [==============================] - 10s 9ms/step - loss: 10.1760 - root_mean_squared_error: 3.1900\n",
      "Epoch 21/200\n",
      "1098/1098 [==============================] - 10s 9ms/step - loss: 9.9649 - root_mean_squared_error: 3.1567\n",
      "Epoch 22/200\n",
      "1098/1098 [==============================] - 10s 9ms/step - loss: 10.0619 - root_mean_squared_error: 3.1721\n",
      "Epoch 23/200\n",
      "1098/1098 [==============================] - 10s 9ms/step - loss: 9.9646 - root_mean_squared_error: 3.1567\n",
      "Epoch 24/200\n",
      "1098/1098 [==============================] - 10s 9ms/step - loss: 10.1730 - root_mean_squared_error: 3.1895\n",
      "Epoch 25/200\n",
      "1098/1098 [==============================] - 10s 9ms/step - loss: 10.0544 - root_mean_squared_error: 3.1709\n",
      "Epoch 26/200\n",
      "1098/1098 [==============================] - 10s 9ms/step - loss: 9.8619 - root_mean_squared_error: 3.1404\n",
      "Epoch 27/200\n",
      "1098/1098 [==============================] - 10s 9ms/step - loss: 9.9599 - root_mean_squared_error: 3.1559\n",
      "Epoch 28/200\n",
      "1095/1098 [============================>.] - ETA: 0s - loss: 9.7107 - root_mean_squared_error: 3.1162"
     ]
    },
    {
     "name": "stderr",
     "output_type": "stream",
     "text": [
      "WARNING:absl:Found untraced functions such as gru_cell_layer_call_fn, gru_cell_layer_call_and_return_conditional_losses while saving (showing 2 of 2). These functions will not be directly callable after loading.\n"
     ]
    },
    {
     "name": "stdout",
     "output_type": "stream",
     "text": [
      "INFO:tensorflow:Assets written to: best_model\\assets\n"
     ]
    },
    {
     "name": "stderr",
     "output_type": "stream",
     "text": [
      "INFO:tensorflow:Assets written to: best_model\\assets\n",
      "WARNING:absl:<keras.layers.recurrent.GRUCell object at 0x0000015E57CAE088> has the same name 'GRUCell' as a built-in Keras object. Consider renaming <class 'keras.layers.recurrent.GRUCell'> to avoid naming conflicts when loading with `tf.keras.models.load_model`. If renaming is not possible, pass the object in the `custom_objects` parameter of the load function.\n",
      "WARNING:absl:<keras.layers.recurrent.GRUCell object at 0x0000015E57CAEF48> has the same name 'GRUCell' as a built-in Keras object. Consider renaming <class 'keras.layers.recurrent.GRUCell'> to avoid naming conflicts when loading with `tf.keras.models.load_model`. If renaming is not possible, pass the object in the `custom_objects` parameter of the load function.\n"
     ]
    },
    {
     "name": "stdout",
     "output_type": "stream",
     "text": [
      "1098/1098 [==============================] - 14s 13ms/step - loss: 9.7014 - root_mean_squared_error: 3.1147\n",
      "Epoch 29/200\n",
      "1098/1098 [==============================] - 10s 9ms/step - loss: 9.8244 - root_mean_squared_error: 3.1344\n",
      "Epoch 30/200\n",
      "1098/1098 [==============================] - 10s 9ms/step - loss: 9.7157 - root_mean_squared_error: 3.1170\n",
      "Epoch 31/200\n",
      "1098/1098 [==============================] - 10s 9ms/step - loss: 9.9120 - root_mean_squared_error: 3.1483\n",
      "Epoch 32/200\n",
      "1098/1098 [==============================] - 10s 9ms/step - loss: 9.9519 - root_mean_squared_error: 3.1547\n",
      "Epoch 33/200\n",
      "1098/1098 [==============================] - 10s 9ms/step - loss: 10.0102 - root_mean_squared_error: 3.1639\n",
      "Epoch 34/200\n",
      "1098/1098 [==============================] - 10s 9ms/step - loss: 9.7026 - root_mean_squared_error: 3.1149\n",
      "Epoch 35/200\n",
      "1098/1098 [==============================] - 10s 9ms/step - loss: 9.7576 - root_mean_squared_error: 3.1237\n",
      "Epoch 36/200\n",
      "1098/1098 [==============================] - 10s 9ms/step - loss: 9.8241 - root_mean_squared_error: 3.1343\n",
      "Epoch 37/200\n",
      "1098/1098 [==============================] - 10s 9ms/step - loss: 9.7165 - root_mean_squared_error: 3.1171\n",
      "Epoch 38/200\n",
      "1094/1098 [============================>.] - ETA: 0s - loss: 9.5430 - root_mean_squared_error: 3.0892"
     ]
    },
    {
     "name": "stderr",
     "output_type": "stream",
     "text": [
      "WARNING:absl:Found untraced functions such as gru_cell_layer_call_fn, gru_cell_layer_call_and_return_conditional_losses while saving (showing 2 of 2). These functions will not be directly callable after loading.\n"
     ]
    },
    {
     "name": "stdout",
     "output_type": "stream",
     "text": [
      "INFO:tensorflow:Assets written to: best_model\\assets\n"
     ]
    },
    {
     "name": "stderr",
     "output_type": "stream",
     "text": [
      "INFO:tensorflow:Assets written to: best_model\\assets\n",
      "WARNING:absl:<keras.layers.recurrent.GRUCell object at 0x0000015E57CAE088> has the same name 'GRUCell' as a built-in Keras object. Consider renaming <class 'keras.layers.recurrent.GRUCell'> to avoid naming conflicts when loading with `tf.keras.models.load_model`. If renaming is not possible, pass the object in the `custom_objects` parameter of the load function.\n",
      "WARNING:absl:<keras.layers.recurrent.GRUCell object at 0x0000015E57CAEF48> has the same name 'GRUCell' as a built-in Keras object. Consider renaming <class 'keras.layers.recurrent.GRUCell'> to avoid naming conflicts when loading with `tf.keras.models.load_model`. If renaming is not possible, pass the object in the `custom_objects` parameter of the load function.\n"
     ]
    },
    {
     "name": "stdout",
     "output_type": "stream",
     "text": [
      "1098/1098 [==============================] - 13s 12ms/step - loss: 9.5300 - root_mean_squared_error: 3.0871\n",
      "Epoch 39/200\n",
      "1098/1098 [==============================] - 10s 9ms/step - loss: 9.5825 - root_mean_squared_error: 3.0956\n",
      "Epoch 40/200\n",
      "1098/1098 [==============================] - 11s 10ms/step - loss: 9.8872 - root_mean_squared_error: 3.1444\n",
      "Epoch 41/200\n",
      "1098/1098 [==============================] - 11s 10ms/step - loss: 9.6727 - root_mean_squared_error: 3.1101\n",
      "Epoch 42/200\n",
      "1098/1098 [==============================] - 11s 10ms/step - loss: 9.7231 - root_mean_squared_error: 3.1182\n",
      "Epoch 43/200\n",
      "1098/1098 [==============================] - 11s 10ms/step - loss: 9.7580 - root_mean_squared_error: 3.1238\n",
      "Epoch 44/200\n",
      "1098/1098 [==============================] - 11s 10ms/step - loss: 9.8764 - root_mean_squared_error: 3.1427\n",
      "Epoch 45/200\n",
      "1098/1098 [==============================] - ETA: 0s - loss: 9.4486 - root_mean_squared_error: 3.0739"
     ]
    },
    {
     "name": "stderr",
     "output_type": "stream",
     "text": [
      "WARNING:absl:Found untraced functions such as gru_cell_layer_call_fn, gru_cell_layer_call_and_return_conditional_losses while saving (showing 2 of 2). These functions will not be directly callable after loading.\n"
     ]
    },
    {
     "name": "stdout",
     "output_type": "stream",
     "text": [
      "INFO:tensorflow:Assets written to: best_model\\assets\n"
     ]
    },
    {
     "name": "stderr",
     "output_type": "stream",
     "text": [
      "INFO:tensorflow:Assets written to: best_model\\assets\n",
      "WARNING:absl:<keras.layers.recurrent.GRUCell object at 0x0000015E57CAE088> has the same name 'GRUCell' as a built-in Keras object. Consider renaming <class 'keras.layers.recurrent.GRUCell'> to avoid naming conflicts when loading with `tf.keras.models.load_model`. If renaming is not possible, pass the object in the `custom_objects` parameter of the load function.\n",
      "WARNING:absl:<keras.layers.recurrent.GRUCell object at 0x0000015E57CAEF48> has the same name 'GRUCell' as a built-in Keras object. Consider renaming <class 'keras.layers.recurrent.GRUCell'> to avoid naming conflicts when loading with `tf.keras.models.load_model`. If renaming is not possible, pass the object in the `custom_objects` parameter of the load function.\n"
     ]
    },
    {
     "name": "stdout",
     "output_type": "stream",
     "text": [
      "1098/1098 [==============================] - 14s 13ms/step - loss: 9.4486 - root_mean_squared_error: 3.0739\n",
      "Epoch 46/200\n",
      "1098/1098 [==============================] - 11s 10ms/step - loss: 9.7245 - root_mean_squared_error: 3.1184\n",
      "Epoch 47/200\n",
      "1098/1098 [==============================] - 11s 10ms/step - loss: 9.5715 - root_mean_squared_error: 3.0938\n",
      "Epoch 48/200\n",
      "1098/1098 [==============================] - 11s 10ms/step - loss: 9.6119 - root_mean_squared_error: 3.1003\n",
      "Epoch 49/200\n",
      "1098/1098 [==============================] - 11s 10ms/step - loss: 9.6862 - root_mean_squared_error: 3.1123\n",
      "Epoch 50/200\n",
      "1098/1098 [==============================] - 11s 10ms/step - loss: 9.4813 - root_mean_squared_error: 3.0792\n",
      "Epoch 51/200\n",
      "1098/1098 [==============================] - 11s 10ms/step - loss: 9.5175 - root_mean_squared_error: 3.0850\n",
      "Epoch 52/200\n",
      "1093/1098 [============================>.] - ETA: 0s - loss: 9.3448 - root_mean_squared_error: 3.0569"
     ]
    },
    {
     "name": "stderr",
     "output_type": "stream",
     "text": [
      "WARNING:absl:Found untraced functions such as gru_cell_layer_call_fn, gru_cell_layer_call_and_return_conditional_losses while saving (showing 2 of 2). These functions will not be directly callable after loading.\n"
     ]
    },
    {
     "name": "stdout",
     "output_type": "stream",
     "text": [
      "INFO:tensorflow:Assets written to: best_model\\assets\n"
     ]
    },
    {
     "name": "stderr",
     "output_type": "stream",
     "text": [
      "INFO:tensorflow:Assets written to: best_model\\assets\n",
      "WARNING:absl:<keras.layers.recurrent.GRUCell object at 0x0000015E57CAE088> has the same name 'GRUCell' as a built-in Keras object. Consider renaming <class 'keras.layers.recurrent.GRUCell'> to avoid naming conflicts when loading with `tf.keras.models.load_model`. If renaming is not possible, pass the object in the `custom_objects` parameter of the load function.\n",
      "WARNING:absl:<keras.layers.recurrent.GRUCell object at 0x0000015E57CAEF48> has the same name 'GRUCell' as a built-in Keras object. Consider renaming <class 'keras.layers.recurrent.GRUCell'> to avoid naming conflicts when loading with `tf.keras.models.load_model`. If renaming is not possible, pass the object in the `custom_objects` parameter of the load function.\n"
     ]
    },
    {
     "name": "stdout",
     "output_type": "stream",
     "text": [
      "1098/1098 [==============================] - 14s 13ms/step - loss: 9.3529 - root_mean_squared_error: 3.0583\n",
      "Epoch 53/200\n",
      "1098/1098 [==============================] - 10s 9ms/step - loss: 9.4403 - root_mean_squared_error: 3.0725\n",
      "Epoch 54/200\n",
      "1098/1098 [==============================] - 10s 9ms/step - loss: 9.5450 - root_mean_squared_error: 3.0895\n",
      "Epoch 55/200\n",
      "1098/1098 [==============================] - 10s 9ms/step - loss: 9.5104 - root_mean_squared_error: 3.0839\n",
      "Epoch 56/200\n",
      "1098/1098 [==============================] - 10s 9ms/step - loss: 9.4137 - root_mean_squared_error: 3.0682\n",
      "Epoch 57/200\n",
      "1098/1098 [==============================] - 10s 10ms/step - loss: 9.3933 - root_mean_squared_error: 3.0648\n",
      "Epoch 58/200\n",
      "1098/1098 [==============================] - 10s 10ms/step - loss: 9.5655 - root_mean_squared_error: 3.0928\n",
      "Epoch 59/200\n",
      "1098/1098 [==============================] - 10s 9ms/step - loss: 9.4437 - root_mean_squared_error: 3.0731\n",
      "Epoch 60/200\n",
      "1095/1098 [============================>.] - ETA: 0s - loss: 9.2165 - root_mean_squared_error: 3.0359"
     ]
    },
    {
     "name": "stderr",
     "output_type": "stream",
     "text": [
      "WARNING:absl:Found untraced functions such as gru_cell_layer_call_fn, gru_cell_layer_call_and_return_conditional_losses while saving (showing 2 of 2). These functions will not be directly callable after loading.\n"
     ]
    },
    {
     "name": "stdout",
     "output_type": "stream",
     "text": [
      "INFO:tensorflow:Assets written to: best_model\\assets\n"
     ]
    },
    {
     "name": "stderr",
     "output_type": "stream",
     "text": [
      "INFO:tensorflow:Assets written to: best_model\\assets\n",
      "WARNING:absl:<keras.layers.recurrent.GRUCell object at 0x0000015E57CAE088> has the same name 'GRUCell' as a built-in Keras object. Consider renaming <class 'keras.layers.recurrent.GRUCell'> to avoid naming conflicts when loading with `tf.keras.models.load_model`. If renaming is not possible, pass the object in the `custom_objects` parameter of the load function.\n",
      "WARNING:absl:<keras.layers.recurrent.GRUCell object at 0x0000015E57CAEF48> has the same name 'GRUCell' as a built-in Keras object. Consider renaming <class 'keras.layers.recurrent.GRUCell'> to avoid naming conflicts when loading with `tf.keras.models.load_model`. If renaming is not possible, pass the object in the `custom_objects` parameter of the load function.\n"
     ]
    },
    {
     "name": "stdout",
     "output_type": "stream",
     "text": [
      "1098/1098 [==============================] - 14s 13ms/step - loss: 9.2368 - root_mean_squared_error: 3.0392\n",
      "Epoch 61/200\n",
      "1096/1098 [============================>.] - ETA: 0s - loss: 9.2147 - root_mean_squared_error: 3.0356"
     ]
    },
    {
     "name": "stderr",
     "output_type": "stream",
     "text": [
      "WARNING:absl:Found untraced functions such as gru_cell_layer_call_fn, gru_cell_layer_call_and_return_conditional_losses while saving (showing 2 of 2). These functions will not be directly callable after loading.\n"
     ]
    },
    {
     "name": "stdout",
     "output_type": "stream",
     "text": [
      "INFO:tensorflow:Assets written to: best_model\\assets\n"
     ]
    },
    {
     "name": "stderr",
     "output_type": "stream",
     "text": [
      "INFO:tensorflow:Assets written to: best_model\\assets\n",
      "WARNING:absl:<keras.layers.recurrent.GRUCell object at 0x0000015E57CAE088> has the same name 'GRUCell' as a built-in Keras object. Consider renaming <class 'keras.layers.recurrent.GRUCell'> to avoid naming conflicts when loading with `tf.keras.models.load_model`. If renaming is not possible, pass the object in the `custom_objects` parameter of the load function.\n",
      "WARNING:absl:<keras.layers.recurrent.GRUCell object at 0x0000015E57CAEF48> has the same name 'GRUCell' as a built-in Keras object. Consider renaming <class 'keras.layers.recurrent.GRUCell'> to avoid naming conflicts when loading with `tf.keras.models.load_model`. If renaming is not possible, pass the object in the `custom_objects` parameter of the load function.\n"
     ]
    },
    {
     "name": "stdout",
     "output_type": "stream",
     "text": [
      "1098/1098 [==============================] - 13s 12ms/step - loss: 9.2112 - root_mean_squared_error: 3.0350\n",
      "Epoch 62/200\n",
      "1096/1098 [============================>.] - ETA: 0s - loss: 9.2038 - root_mean_squared_error: 3.0338"
     ]
    },
    {
     "name": "stderr",
     "output_type": "stream",
     "text": [
      "WARNING:absl:Found untraced functions such as gru_cell_layer_call_fn, gru_cell_layer_call_and_return_conditional_losses while saving (showing 2 of 2). These functions will not be directly callable after loading.\n"
     ]
    },
    {
     "name": "stdout",
     "output_type": "stream",
     "text": [
      "INFO:tensorflow:Assets written to: best_model\\assets\n"
     ]
    },
    {
     "name": "stderr",
     "output_type": "stream",
     "text": [
      "INFO:tensorflow:Assets written to: best_model\\assets\n",
      "WARNING:absl:<keras.layers.recurrent.GRUCell object at 0x0000015E57CAE088> has the same name 'GRUCell' as a built-in Keras object. Consider renaming <class 'keras.layers.recurrent.GRUCell'> to avoid naming conflicts when loading with `tf.keras.models.load_model`. If renaming is not possible, pass the object in the `custom_objects` parameter of the load function.\n",
      "WARNING:absl:<keras.layers.recurrent.GRUCell object at 0x0000015E57CAEF48> has the same name 'GRUCell' as a built-in Keras object. Consider renaming <class 'keras.layers.recurrent.GRUCell'> to avoid naming conflicts when loading with `tf.keras.models.load_model`. If renaming is not possible, pass the object in the `custom_objects` parameter of the load function.\n"
     ]
    },
    {
     "name": "stdout",
     "output_type": "stream",
     "text": [
      "1098/1098 [==============================] - 13s 12ms/step - loss: 9.1968 - root_mean_squared_error: 3.0326\n",
      "Epoch 63/200\n",
      "1098/1098 [==============================] - 10s 9ms/step - loss: 9.2866 - root_mean_squared_error: 3.0474\n",
      "Epoch 64/200\n",
      "1098/1098 [==============================] - 11s 10ms/step - loss: 9.4346 - root_mean_squared_error: 3.0716\n",
      "Epoch 65/200\n",
      "1096/1098 [============================>.] - ETA: 0s - loss: 9.1020 - root_mean_squared_error: 3.0170"
     ]
    },
    {
     "name": "stderr",
     "output_type": "stream",
     "text": [
      "WARNING:absl:Found untraced functions such as gru_cell_layer_call_fn, gru_cell_layer_call_and_return_conditional_losses while saving (showing 2 of 2). These functions will not be directly callable after loading.\n"
     ]
    },
    {
     "name": "stdout",
     "output_type": "stream",
     "text": [
      "INFO:tensorflow:Assets written to: best_model\\assets\n"
     ]
    },
    {
     "name": "stderr",
     "output_type": "stream",
     "text": [
      "INFO:tensorflow:Assets written to: best_model\\assets\n",
      "WARNING:absl:<keras.layers.recurrent.GRUCell object at 0x0000015E57CAE088> has the same name 'GRUCell' as a built-in Keras object. Consider renaming <class 'keras.layers.recurrent.GRUCell'> to avoid naming conflicts when loading with `tf.keras.models.load_model`. If renaming is not possible, pass the object in the `custom_objects` parameter of the load function.\n",
      "WARNING:absl:<keras.layers.recurrent.GRUCell object at 0x0000015E57CAEF48> has the same name 'GRUCell' as a built-in Keras object. Consider renaming <class 'keras.layers.recurrent.GRUCell'> to avoid naming conflicts when loading with `tf.keras.models.load_model`. If renaming is not possible, pass the object in the `custom_objects` parameter of the load function.\n"
     ]
    },
    {
     "name": "stdout",
     "output_type": "stream",
     "text": [
      "1098/1098 [==============================] - 14s 13ms/step - loss: 9.1176 - root_mean_squared_error: 3.0195\n",
      "Epoch 66/200\n",
      "1098/1098 [==============================] - 10s 9ms/step - loss: 9.3543 - root_mean_squared_error: 3.0585\n",
      "Epoch 67/200\n",
      "1098/1098 [==============================] - 10s 10ms/step - loss: 9.2893 - root_mean_squared_error: 3.0478\n",
      "Epoch 68/200\n",
      "1098/1098 [==============================] - 11s 10ms/step - loss: 9.2566 - root_mean_squared_error: 3.0425\n",
      "Epoch 69/200\n",
      "1098/1098 [==============================] - 10s 9ms/step - loss: 9.1943 - root_mean_squared_error: 3.0322\n",
      "Epoch 70/200\n",
      "1096/1098 [============================>.] - ETA: 0s - loss: 9.0773 - root_mean_squared_error: 3.0129"
     ]
    },
    {
     "name": "stderr",
     "output_type": "stream",
     "text": [
      "WARNING:absl:Found untraced functions such as gru_cell_layer_call_fn, gru_cell_layer_call_and_return_conditional_losses while saving (showing 2 of 2). These functions will not be directly callable after loading.\n"
     ]
    },
    {
     "name": "stdout",
     "output_type": "stream",
     "text": [
      "INFO:tensorflow:Assets written to: best_model\\assets\n"
     ]
    },
    {
     "name": "stderr",
     "output_type": "stream",
     "text": [
      "INFO:tensorflow:Assets written to: best_model\\assets\n",
      "WARNING:absl:<keras.layers.recurrent.GRUCell object at 0x0000015E57CAE088> has the same name 'GRUCell' as a built-in Keras object. Consider renaming <class 'keras.layers.recurrent.GRUCell'> to avoid naming conflicts when loading with `tf.keras.models.load_model`. If renaming is not possible, pass the object in the `custom_objects` parameter of the load function.\n",
      "WARNING:absl:<keras.layers.recurrent.GRUCell object at 0x0000015E57CAEF48> has the same name 'GRUCell' as a built-in Keras object. Consider renaming <class 'keras.layers.recurrent.GRUCell'> to avoid naming conflicts when loading with `tf.keras.models.load_model`. If renaming is not possible, pass the object in the `custom_objects` parameter of the load function.\n"
     ]
    },
    {
     "name": "stdout",
     "output_type": "stream",
     "text": [
      "1098/1098 [==============================] - 14s 13ms/step - loss: 9.0750 - root_mean_squared_error: 3.0125\n",
      "Epoch 71/200\n",
      "1098/1098 [==============================] - 10s 9ms/step - loss: 9.1487 - root_mean_squared_error: 3.0247\n",
      "Epoch 72/200\n",
      "1098/1098 [==============================] - 10s 9ms/step - loss: 9.4189 - root_mean_squared_error: 3.0690\n",
      "Epoch 73/200\n",
      "1098/1098 [==============================] - 10s 9ms/step - loss: 9.1333 - root_mean_squared_error: 3.0221\n",
      "Epoch 74/200\n",
      "1098/1098 [==============================] - 10s 9ms/step - loss: 9.3049 - root_mean_squared_error: 3.0504\n",
      "Epoch 75/200\n",
      "1098/1098 [==============================] - 10s 9ms/step - loss: 9.2595 - root_mean_squared_error: 3.0429\n",
      "Epoch 76/200\n",
      "1095/1098 [============================>.] - ETA: 0s - loss: 8.9529 - root_mean_squared_error: 2.9921"
     ]
    },
    {
     "name": "stderr",
     "output_type": "stream",
     "text": [
      "WARNING:absl:Found untraced functions such as gru_cell_layer_call_fn, gru_cell_layer_call_and_return_conditional_losses while saving (showing 2 of 2). These functions will not be directly callable after loading.\n"
     ]
    },
    {
     "name": "stdout",
     "output_type": "stream",
     "text": [
      "INFO:tensorflow:Assets written to: best_model\\assets\n"
     ]
    },
    {
     "name": "stderr",
     "output_type": "stream",
     "text": [
      "INFO:tensorflow:Assets written to: best_model\\assets\n",
      "WARNING:absl:<keras.layers.recurrent.GRUCell object at 0x0000015E57CAE088> has the same name 'GRUCell' as a built-in Keras object. Consider renaming <class 'keras.layers.recurrent.GRUCell'> to avoid naming conflicts when loading with `tf.keras.models.load_model`. If renaming is not possible, pass the object in the `custom_objects` parameter of the load function.\n",
      "WARNING:absl:<keras.layers.recurrent.GRUCell object at 0x0000015E57CAEF48> has the same name 'GRUCell' as a built-in Keras object. Consider renaming <class 'keras.layers.recurrent.GRUCell'> to avoid naming conflicts when loading with `tf.keras.models.load_model`. If renaming is not possible, pass the object in the `custom_objects` parameter of the load function.\n"
     ]
    },
    {
     "name": "stdout",
     "output_type": "stream",
     "text": [
      "1098/1098 [==============================] - 14s 13ms/step - loss: 8.9444 - root_mean_squared_error: 2.9907\n",
      "Epoch 77/200\n",
      "1098/1098 [==============================] - 10s 9ms/step - loss: 9.0356 - root_mean_squared_error: 3.0059\n",
      "Epoch 78/200\n",
      "1098/1098 [==============================] - 10s 9ms/step - loss: 9.1164 - root_mean_squared_error: 3.0193\n",
      "Epoch 79/200\n",
      "1098/1098 [==============================] - 10s 9ms/step - loss: 9.2336 - root_mean_squared_error: 3.0387\n",
      "Epoch 80/200\n",
      "1098/1098 [==============================] - 10s 9ms/step - loss: 9.0422 - root_mean_squared_error: 3.0070\n",
      "Epoch 81/200\n",
      "1098/1098 [==============================] - 10s 9ms/step - loss: 9.1954 - root_mean_squared_error: 3.0324\n",
      "Epoch 82/200\n",
      "1098/1098 [==============================] - 10s 9ms/step - loss: 8.9509 - root_mean_squared_error: 2.9918\n",
      "Epoch 83/200\n",
      "1098/1098 [==============================] - 10s 9ms/step - loss: 9.0917 - root_mean_squared_error: 3.0152\n",
      "Epoch 84/200\n",
      "1098/1098 [==============================] - 10s 9ms/step - loss: 9.0107 - root_mean_squared_error: 3.0018\n",
      "Epoch 85/200\n",
      "1095/1098 [============================>.] - ETA: 0s - loss: 8.9352 - root_mean_squared_error: 2.9892"
     ]
    },
    {
     "name": "stderr",
     "output_type": "stream",
     "text": [
      "WARNING:absl:Found untraced functions such as gru_cell_layer_call_fn, gru_cell_layer_call_and_return_conditional_losses while saving (showing 2 of 2). These functions will not be directly callable after loading.\n"
     ]
    },
    {
     "name": "stdout",
     "output_type": "stream",
     "text": [
      "INFO:tensorflow:Assets written to: best_model\\assets\n"
     ]
    },
    {
     "name": "stderr",
     "output_type": "stream",
     "text": [
      "INFO:tensorflow:Assets written to: best_model\\assets\n",
      "WARNING:absl:<keras.layers.recurrent.GRUCell object at 0x0000015E57CAE088> has the same name 'GRUCell' as a built-in Keras object. Consider renaming <class 'keras.layers.recurrent.GRUCell'> to avoid naming conflicts when loading with `tf.keras.models.load_model`. If renaming is not possible, pass the object in the `custom_objects` parameter of the load function.\n",
      "WARNING:absl:<keras.layers.recurrent.GRUCell object at 0x0000015E57CAEF48> has the same name 'GRUCell' as a built-in Keras object. Consider renaming <class 'keras.layers.recurrent.GRUCell'> to avoid naming conflicts when loading with `tf.keras.models.load_model`. If renaming is not possible, pass the object in the `custom_objects` parameter of the load function.\n"
     ]
    },
    {
     "name": "stdout",
     "output_type": "stream",
     "text": [
      "1098/1098 [==============================] - 13s 12ms/step - loss: 8.9337 - root_mean_squared_error: 2.9889\n",
      "Epoch 86/200\n",
      "1097/1098 [============================>.] - ETA: 0s - loss: 8.9039 - root_mean_squared_error: 2.9839"
     ]
    },
    {
     "name": "stderr",
     "output_type": "stream",
     "text": [
      "WARNING:absl:Found untraced functions such as gru_cell_layer_call_fn, gru_cell_layer_call_and_return_conditional_losses while saving (showing 2 of 2). These functions will not be directly callable after loading.\n"
     ]
    },
    {
     "name": "stdout",
     "output_type": "stream",
     "text": [
      "INFO:tensorflow:Assets written to: best_model\\assets\n"
     ]
    },
    {
     "name": "stderr",
     "output_type": "stream",
     "text": [
      "INFO:tensorflow:Assets written to: best_model\\assets\n",
      "WARNING:absl:<keras.layers.recurrent.GRUCell object at 0x0000015E57CAE088> has the same name 'GRUCell' as a built-in Keras object. Consider renaming <class 'keras.layers.recurrent.GRUCell'> to avoid naming conflicts when loading with `tf.keras.models.load_model`. If renaming is not possible, pass the object in the `custom_objects` parameter of the load function.\n",
      "WARNING:absl:<keras.layers.recurrent.GRUCell object at 0x0000015E57CAEF48> has the same name 'GRUCell' as a built-in Keras object. Consider renaming <class 'keras.layers.recurrent.GRUCell'> to avoid naming conflicts when loading with `tf.keras.models.load_model`. If renaming is not possible, pass the object in the `custom_objects` parameter of the load function.\n"
     ]
    },
    {
     "name": "stdout",
     "output_type": "stream",
     "text": [
      "1098/1098 [==============================] - 14s 13ms/step - loss: 8.9037 - root_mean_squared_error: 2.9839\n",
      "Epoch 87/200\n",
      "1098/1098 [==============================] - 11s 10ms/step - loss: 9.0389 - root_mean_squared_error: 3.0065\n",
      "Epoch 88/200\n",
      "1094/1098 [============================>.] - ETA: 0s - loss: 8.8519 - root_mean_squared_error: 2.9752"
     ]
    },
    {
     "name": "stderr",
     "output_type": "stream",
     "text": [
      "WARNING:absl:Found untraced functions such as gru_cell_layer_call_fn, gru_cell_layer_call_and_return_conditional_losses while saving (showing 2 of 2). These functions will not be directly callable after loading.\n"
     ]
    },
    {
     "name": "stdout",
     "output_type": "stream",
     "text": [
      "INFO:tensorflow:Assets written to: best_model\\assets\n"
     ]
    },
    {
     "name": "stderr",
     "output_type": "stream",
     "text": [
      "INFO:tensorflow:Assets written to: best_model\\assets\n",
      "WARNING:absl:<keras.layers.recurrent.GRUCell object at 0x0000015E57CAE088> has the same name 'GRUCell' as a built-in Keras object. Consider renaming <class 'keras.layers.recurrent.GRUCell'> to avoid naming conflicts when loading with `tf.keras.models.load_model`. If renaming is not possible, pass the object in the `custom_objects` parameter of the load function.\n",
      "WARNING:absl:<keras.layers.recurrent.GRUCell object at 0x0000015E57CAEF48> has the same name 'GRUCell' as a built-in Keras object. Consider renaming <class 'keras.layers.recurrent.GRUCell'> to avoid naming conflicts when loading with `tf.keras.models.load_model`. If renaming is not possible, pass the object in the `custom_objects` parameter of the load function.\n"
     ]
    },
    {
     "name": "stdout",
     "output_type": "stream",
     "text": [
      "1098/1098 [==============================] - 14s 13ms/step - loss: 8.8428 - root_mean_squared_error: 2.9737\n",
      "Epoch 89/200\n",
      "1098/1098 [==============================] - 11s 10ms/step - loss: 9.0107 - root_mean_squared_error: 3.0018\n",
      "Epoch 90/200\n",
      "1098/1098 [==============================] - 11s 10ms/step - loss: 9.0104 - root_mean_squared_error: 3.0017\n",
      "Epoch 91/200\n",
      "1093/1098 [============================>.] - ETA: 0s - loss: 8.8261 - root_mean_squared_error: 2.9709"
     ]
    },
    {
     "name": "stderr",
     "output_type": "stream",
     "text": [
      "WARNING:absl:Found untraced functions such as gru_cell_layer_call_fn, gru_cell_layer_call_and_return_conditional_losses while saving (showing 2 of 2). These functions will not be directly callable after loading.\n"
     ]
    },
    {
     "name": "stdout",
     "output_type": "stream",
     "text": [
      "INFO:tensorflow:Assets written to: best_model\\assets\n"
     ]
    },
    {
     "name": "stderr",
     "output_type": "stream",
     "text": [
      "INFO:tensorflow:Assets written to: best_model\\assets\n",
      "WARNING:absl:<keras.layers.recurrent.GRUCell object at 0x0000015E57CAE088> has the same name 'GRUCell' as a built-in Keras object. Consider renaming <class 'keras.layers.recurrent.GRUCell'> to avoid naming conflicts when loading with `tf.keras.models.load_model`. If renaming is not possible, pass the object in the `custom_objects` parameter of the load function.\n",
      "WARNING:absl:<keras.layers.recurrent.GRUCell object at 0x0000015E57CAEF48> has the same name 'GRUCell' as a built-in Keras object. Consider renaming <class 'keras.layers.recurrent.GRUCell'> to avoid naming conflicts when loading with `tf.keras.models.load_model`. If renaming is not possible, pass the object in the `custom_objects` parameter of the load function.\n"
     ]
    },
    {
     "name": "stdout",
     "output_type": "stream",
     "text": [
      "1098/1098 [==============================] - 14s 13ms/step - loss: 8.8108 - root_mean_squared_error: 2.9683\n",
      "Epoch 92/200\n",
      "1098/1098 [==============================] - 10s 9ms/step - loss: 8.8640 - root_mean_squared_error: 2.9772\n",
      "Epoch 93/200\n",
      "1098/1098 [==============================] - 10s 9ms/step - loss: 8.9068 - root_mean_squared_error: 2.9844\n",
      "Epoch 94/200\n",
      "1098/1098 [==============================] - 10s 9ms/step - loss: 9.1482 - root_mean_squared_error: 3.0246\n",
      "Epoch 95/200\n",
      "1098/1098 [==============================] - 10s 9ms/step - loss: 8.8686 - root_mean_squared_error: 2.9780\n",
      "Epoch 96/200\n",
      "1096/1098 [============================>.] - ETA: 0s - loss: 8.7218 - root_mean_squared_error: 2.9533"
     ]
    },
    {
     "name": "stderr",
     "output_type": "stream",
     "text": [
      "WARNING:absl:Found untraced functions such as gru_cell_layer_call_fn, gru_cell_layer_call_and_return_conditional_losses while saving (showing 2 of 2). These functions will not be directly callable after loading.\n"
     ]
    },
    {
     "name": "stdout",
     "output_type": "stream",
     "text": [
      "INFO:tensorflow:Assets written to: best_model\\assets\n"
     ]
    },
    {
     "name": "stderr",
     "output_type": "stream",
     "text": [
      "INFO:tensorflow:Assets written to: best_model\\assets\n",
      "WARNING:absl:<keras.layers.recurrent.GRUCell object at 0x0000015E57CAE088> has the same name 'GRUCell' as a built-in Keras object. Consider renaming <class 'keras.layers.recurrent.GRUCell'> to avoid naming conflicts when loading with `tf.keras.models.load_model`. If renaming is not possible, pass the object in the `custom_objects` parameter of the load function.\n",
      "WARNING:absl:<keras.layers.recurrent.GRUCell object at 0x0000015E57CAEF48> has the same name 'GRUCell' as a built-in Keras object. Consider renaming <class 'keras.layers.recurrent.GRUCell'> to avoid naming conflicts when loading with `tf.keras.models.load_model`. If renaming is not possible, pass the object in the `custom_objects` parameter of the load function.\n"
     ]
    },
    {
     "name": "stdout",
     "output_type": "stream",
     "text": [
      "1098/1098 [==============================] - 14s 12ms/step - loss: 8.7155 - root_mean_squared_error: 2.9522\n",
      "Epoch 97/200\n",
      "1098/1098 [==============================] - 11s 10ms/step - loss: 8.8252 - root_mean_squared_error: 2.9707\n",
      "Epoch 98/200\n",
      "1098/1098 [==============================] - 11s 10ms/step - loss: 8.8365 - root_mean_squared_error: 2.9726\n",
      "Epoch 99/200\n",
      "1094/1098 [============================>.] - ETA: 0s - loss: 8.5951 - root_mean_squared_error: 2.9317"
     ]
    },
    {
     "name": "stderr",
     "output_type": "stream",
     "text": [
      "WARNING:absl:Found untraced functions such as gru_cell_layer_call_fn, gru_cell_layer_call_and_return_conditional_losses while saving (showing 2 of 2). These functions will not be directly callable after loading.\n"
     ]
    },
    {
     "name": "stdout",
     "output_type": "stream",
     "text": [
      "INFO:tensorflow:Assets written to: best_model\\assets\n"
     ]
    },
    {
     "name": "stderr",
     "output_type": "stream",
     "text": [
      "INFO:tensorflow:Assets written to: best_model\\assets\n",
      "WARNING:absl:<keras.layers.recurrent.GRUCell object at 0x0000015E57CAE088> has the same name 'GRUCell' as a built-in Keras object. Consider renaming <class 'keras.layers.recurrent.GRUCell'> to avoid naming conflicts when loading with `tf.keras.models.load_model`. If renaming is not possible, pass the object in the `custom_objects` parameter of the load function.\n",
      "WARNING:absl:<keras.layers.recurrent.GRUCell object at 0x0000015E57CAEF48> has the same name 'GRUCell' as a built-in Keras object. Consider renaming <class 'keras.layers.recurrent.GRUCell'> to avoid naming conflicts when loading with `tf.keras.models.load_model`. If renaming is not possible, pass the object in the `custom_objects` parameter of the load function.\n"
     ]
    },
    {
     "name": "stdout",
     "output_type": "stream",
     "text": [
      "1098/1098 [==============================] - 14s 13ms/step - loss: 8.5891 - root_mean_squared_error: 2.9307\n",
      "Epoch 100/200\n",
      "1098/1098 [==============================] - 11s 10ms/step - loss: 8.8062 - root_mean_squared_error: 2.9675\n",
      "Epoch 101/200\n",
      "1098/1098 [==============================] - 11s 10ms/step - loss: 8.6618 - root_mean_squared_error: 2.9431\n",
      "Epoch 102/200\n",
      "1098/1098 [==============================] - 11s 10ms/step - loss: 8.9343 - root_mean_squared_error: 2.9890\n",
      "Epoch 103/200\n",
      "1098/1098 [==============================] - 11s 10ms/step - loss: 8.6215 - root_mean_squared_error: 2.9362\n",
      "Epoch 104/200\n",
      "1098/1098 [==============================] - 11s 10ms/step - loss: 8.7934 - root_mean_squared_error: 2.9654\n",
      "Epoch 105/200\n",
      "1098/1098 [==============================] - 11s 10ms/step - loss: 8.9059 - root_mean_squared_error: 2.9843\n",
      "Epoch 106/200\n",
      "1098/1098 [==============================] - 11s 10ms/step - loss: 8.7620 - root_mean_squared_error: 2.9601\n",
      "Epoch 107/200\n",
      "1098/1098 [==============================] - 11s 10ms/step - loss: 8.7854 - root_mean_squared_error: 2.9640\n",
      "Epoch 108/200\n",
      "1098/1098 [==============================] - 11s 10ms/step - loss: 8.6963 - root_mean_squared_error: 2.9490\n",
      "Epoch 109/200\n",
      "1098/1098 [==============================] - 11s 10ms/step - loss: 8.6413 - root_mean_squared_error: 2.9396\n",
      "Epoch 110/200\n",
      "1098/1098 [==============================] - 11s 10ms/step - loss: 8.6634 - root_mean_squared_error: 2.9434\n",
      "Epoch 111/200\n",
      "1098/1098 [==============================] - 11s 10ms/step - loss: 8.6579 - root_mean_squared_error: 2.9424\n",
      "Epoch 112/200\n",
      "1093/1098 [============================>.] - ETA: 0s - loss: 8.5732 - root_mean_squared_error: 2.9280"
     ]
    },
    {
     "name": "stderr",
     "output_type": "stream",
     "text": [
      "WARNING:absl:Found untraced functions such as gru_cell_layer_call_fn, gru_cell_layer_call_and_return_conditional_losses while saving (showing 2 of 2). These functions will not be directly callable after loading.\n"
     ]
    },
    {
     "name": "stdout",
     "output_type": "stream",
     "text": [
      "INFO:tensorflow:Assets written to: best_model\\assets\n"
     ]
    },
    {
     "name": "stderr",
     "output_type": "stream",
     "text": [
      "INFO:tensorflow:Assets written to: best_model\\assets\n",
      "WARNING:absl:<keras.layers.recurrent.GRUCell object at 0x0000015E57CAE088> has the same name 'GRUCell' as a built-in Keras object. Consider renaming <class 'keras.layers.recurrent.GRUCell'> to avoid naming conflicts when loading with `tf.keras.models.load_model`. If renaming is not possible, pass the object in the `custom_objects` parameter of the load function.\n",
      "WARNING:absl:<keras.layers.recurrent.GRUCell object at 0x0000015E57CAEF48> has the same name 'GRUCell' as a built-in Keras object. Consider renaming <class 'keras.layers.recurrent.GRUCell'> to avoid naming conflicts when loading with `tf.keras.models.load_model`. If renaming is not possible, pass the object in the `custom_objects` parameter of the load function.\n"
     ]
    },
    {
     "name": "stdout",
     "output_type": "stream",
     "text": [
      "1098/1098 [==============================] - 15s 13ms/step - loss: 8.5737 - root_mean_squared_error: 2.9281\n",
      "Epoch 113/200\n",
      "1095/1098 [============================>.] - ETA: 0s - loss: 8.5734 - root_mean_squared_error: 2.9280"
     ]
    },
    {
     "name": "stderr",
     "output_type": "stream",
     "text": [
      "WARNING:absl:Found untraced functions such as gru_cell_layer_call_fn, gru_cell_layer_call_and_return_conditional_losses while saving (showing 2 of 2). These functions will not be directly callable after loading.\n"
     ]
    },
    {
     "name": "stdout",
     "output_type": "stream",
     "text": [
      "INFO:tensorflow:Assets written to: best_model\\assets\n"
     ]
    },
    {
     "name": "stderr",
     "output_type": "stream",
     "text": [
      "INFO:tensorflow:Assets written to: best_model\\assets\n",
      "WARNING:absl:<keras.layers.recurrent.GRUCell object at 0x0000015E57CAE088> has the same name 'GRUCell' as a built-in Keras object. Consider renaming <class 'keras.layers.recurrent.GRUCell'> to avoid naming conflicts when loading with `tf.keras.models.load_model`. If renaming is not possible, pass the object in the `custom_objects` parameter of the load function.\n",
      "WARNING:absl:<keras.layers.recurrent.GRUCell object at 0x0000015E57CAEF48> has the same name 'GRUCell' as a built-in Keras object. Consider renaming <class 'keras.layers.recurrent.GRUCell'> to avoid naming conflicts when loading with `tf.keras.models.load_model`. If renaming is not possible, pass the object in the `custom_objects` parameter of the load function.\n"
     ]
    },
    {
     "name": "stdout",
     "output_type": "stream",
     "text": [
      "1098/1098 [==============================] - 15s 13ms/step - loss: 8.5682 - root_mean_squared_error: 2.9271\n",
      "Epoch 114/200\n",
      "1098/1098 [==============================] - 11s 10ms/step - loss: 8.7989 - root_mean_squared_error: 2.9663\n",
      "Epoch 115/200\n",
      "1094/1098 [============================>.] - ETA: 0s - loss: 8.5098 - root_mean_squared_error: 2.9172"
     ]
    },
    {
     "name": "stderr",
     "output_type": "stream",
     "text": [
      "WARNING:absl:Found untraced functions such as gru_cell_layer_call_fn, gru_cell_layer_call_and_return_conditional_losses while saving (showing 2 of 2). These functions will not be directly callable after loading.\n"
     ]
    },
    {
     "name": "stdout",
     "output_type": "stream",
     "text": [
      "INFO:tensorflow:Assets written to: best_model\\assets\n"
     ]
    },
    {
     "name": "stderr",
     "output_type": "stream",
     "text": [
      "INFO:tensorflow:Assets written to: best_model\\assets\n",
      "WARNING:absl:<keras.layers.recurrent.GRUCell object at 0x0000015E57CAE088> has the same name 'GRUCell' as a built-in Keras object. Consider renaming <class 'keras.layers.recurrent.GRUCell'> to avoid naming conflicts when loading with `tf.keras.models.load_model`. If renaming is not possible, pass the object in the `custom_objects` parameter of the load function.\n",
      "WARNING:absl:<keras.layers.recurrent.GRUCell object at 0x0000015E57CAEF48> has the same name 'GRUCell' as a built-in Keras object. Consider renaming <class 'keras.layers.recurrent.GRUCell'> to avoid naming conflicts when loading with `tf.keras.models.load_model`. If renaming is not possible, pass the object in the `custom_objects` parameter of the load function.\n"
     ]
    },
    {
     "name": "stdout",
     "output_type": "stream",
     "text": [
      "1098/1098 [==============================] - 15s 14ms/step - loss: 8.5039 - root_mean_squared_error: 2.9161\n",
      "Epoch 116/200\n",
      "1098/1098 [==============================] - 11s 10ms/step - loss: 8.6852 - root_mean_squared_error: 2.9471\n",
      "Epoch 117/200\n",
      "1098/1098 [==============================] - 11s 10ms/step - loss: 8.6690 - root_mean_squared_error: 2.9443\n",
      "Epoch 118/200\n",
      "1098/1098 [==============================] - 11s 10ms/step - loss: 8.6540 - root_mean_squared_error: 2.9418\n",
      "Epoch 119/200\n",
      "1098/1098 [==============================] - 11s 10ms/step - loss: 8.5571 - root_mean_squared_error: 2.9252\n",
      "Epoch 120/200\n",
      "1093/1098 [============================>.] - ETA: 0s - loss: 8.4600 - root_mean_squared_error: 2.9086"
     ]
    },
    {
     "name": "stderr",
     "output_type": "stream",
     "text": [
      "WARNING:absl:Found untraced functions such as gru_cell_layer_call_fn, gru_cell_layer_call_and_return_conditional_losses while saving (showing 2 of 2). These functions will not be directly callable after loading.\n"
     ]
    },
    {
     "name": "stdout",
     "output_type": "stream",
     "text": [
      "INFO:tensorflow:Assets written to: best_model\\assets\n"
     ]
    },
    {
     "name": "stderr",
     "output_type": "stream",
     "text": [
      "INFO:tensorflow:Assets written to: best_model\\assets\n",
      "WARNING:absl:<keras.layers.recurrent.GRUCell object at 0x0000015E57CAE088> has the same name 'GRUCell' as a built-in Keras object. Consider renaming <class 'keras.layers.recurrent.GRUCell'> to avoid naming conflicts when loading with `tf.keras.models.load_model`. If renaming is not possible, pass the object in the `custom_objects` parameter of the load function.\n",
      "WARNING:absl:<keras.layers.recurrent.GRUCell object at 0x0000015E57CAEF48> has the same name 'GRUCell' as a built-in Keras object. Consider renaming <class 'keras.layers.recurrent.GRUCell'> to avoid naming conflicts when loading with `tf.keras.models.load_model`. If renaming is not possible, pass the object in the `custom_objects` parameter of the load function.\n"
     ]
    },
    {
     "name": "stdout",
     "output_type": "stream",
     "text": [
      "1098/1098 [==============================] - 15s 13ms/step - loss: 8.4595 - root_mean_squared_error: 2.9085\n",
      "Epoch 121/200\n",
      "1098/1098 [==============================] - 11s 10ms/step - loss: 8.5701 - root_mean_squared_error: 2.9275\n",
      "Epoch 122/200\n",
      "1098/1098 [==============================] - 11s 10ms/step - loss: 8.5786 - root_mean_squared_error: 2.9289\n",
      "Epoch 123/200\n",
      "1098/1098 [==============================] - 11s 10ms/step - loss: 8.5827 - root_mean_squared_error: 2.9296\n",
      "Epoch 124/200\n",
      "1097/1098 [============================>.] - ETA: 0s - loss: 8.4170 - root_mean_squared_error: 2.9012"
     ]
    },
    {
     "name": "stderr",
     "output_type": "stream",
     "text": [
      "WARNING:absl:Found untraced functions such as gru_cell_layer_call_fn, gru_cell_layer_call_and_return_conditional_losses while saving (showing 2 of 2). These functions will not be directly callable after loading.\n"
     ]
    },
    {
     "name": "stdout",
     "output_type": "stream",
     "text": [
      "INFO:tensorflow:Assets written to: best_model\\assets\n"
     ]
    },
    {
     "name": "stderr",
     "output_type": "stream",
     "text": [
      "INFO:tensorflow:Assets written to: best_model\\assets\n",
      "WARNING:absl:<keras.layers.recurrent.GRUCell object at 0x0000015E57CAE088> has the same name 'GRUCell' as a built-in Keras object. Consider renaming <class 'keras.layers.recurrent.GRUCell'> to avoid naming conflicts when loading with `tf.keras.models.load_model`. If renaming is not possible, pass the object in the `custom_objects` parameter of the load function.\n",
      "WARNING:absl:<keras.layers.recurrent.GRUCell object at 0x0000015E57CAEF48> has the same name 'GRUCell' as a built-in Keras object. Consider renaming <class 'keras.layers.recurrent.GRUCell'> to avoid naming conflicts when loading with `tf.keras.models.load_model`. If renaming is not possible, pass the object in the `custom_objects` parameter of the load function.\n"
     ]
    },
    {
     "name": "stdout",
     "output_type": "stream",
     "text": [
      "1098/1098 [==============================] - 14s 13ms/step - loss: 8.4150 - root_mean_squared_error: 2.9009\n",
      "Epoch 125/200\n",
      "1098/1098 [==============================] - 11s 10ms/step - loss: 8.5302 - root_mean_squared_error: 2.9206\n",
      "Epoch 126/200\n",
      "1098/1098 [==============================] - 11s 10ms/step - loss: 8.4698 - root_mean_squared_error: 2.9103\n",
      "Epoch 127/200\n",
      "1098/1098 [==============================] - 11s 10ms/step - loss: 8.5547 - root_mean_squared_error: 2.9248\n",
      "Epoch 128/200\n",
      "1096/1098 [============================>.] - ETA: 0s - loss: 8.3786 - root_mean_squared_error: 2.8946"
     ]
    },
    {
     "name": "stderr",
     "output_type": "stream",
     "text": [
      "WARNING:absl:Found untraced functions such as gru_cell_layer_call_fn, gru_cell_layer_call_and_return_conditional_losses while saving (showing 2 of 2). These functions will not be directly callable after loading.\n"
     ]
    },
    {
     "name": "stdout",
     "output_type": "stream",
     "text": [
      "INFO:tensorflow:Assets written to: best_model\\assets\n"
     ]
    },
    {
     "name": "stderr",
     "output_type": "stream",
     "text": [
      "INFO:tensorflow:Assets written to: best_model\\assets\n",
      "WARNING:absl:<keras.layers.recurrent.GRUCell object at 0x0000015E57CAE088> has the same name 'GRUCell' as a built-in Keras object. Consider renaming <class 'keras.layers.recurrent.GRUCell'> to avoid naming conflicts when loading with `tf.keras.models.load_model`. If renaming is not possible, pass the object in the `custom_objects` parameter of the load function.\n",
      "WARNING:absl:<keras.layers.recurrent.GRUCell object at 0x0000015E57CAEF48> has the same name 'GRUCell' as a built-in Keras object. Consider renaming <class 'keras.layers.recurrent.GRUCell'> to avoid naming conflicts when loading with `tf.keras.models.load_model`. If renaming is not possible, pass the object in the `custom_objects` parameter of the load function.\n"
     ]
    },
    {
     "name": "stdout",
     "output_type": "stream",
     "text": [
      "1098/1098 [==============================] - 15s 13ms/step - loss: 8.3727 - root_mean_squared_error: 2.8936\n",
      "Epoch 129/200\n",
      "1098/1098 [==============================] - 11s 10ms/step - loss: 8.4757 - root_mean_squared_error: 2.9113\n",
      "Epoch 130/200\n",
      "1098/1098 [==============================] - 11s 10ms/step - loss: 8.5149 - root_mean_squared_error: 2.9180\n",
      "Epoch 131/200\n",
      "1098/1098 [==============================] - 11s 10ms/step - loss: 8.4939 - root_mean_squared_error: 2.9144\n",
      "Epoch 132/200\n",
      "1098/1098 [==============================] - 11s 10ms/step - loss: 8.4928 - root_mean_squared_error: 2.9142\n",
      "Epoch 133/200\n",
      "1098/1098 [==============================] - 11s 10ms/step - loss: 8.4617 - root_mean_squared_error: 2.9089\n",
      "Epoch 134/200\n",
      "1095/1098 [============================>.] - ETA: 0s - loss: 8.3670 - root_mean_squared_error: 2.8926"
     ]
    },
    {
     "name": "stderr",
     "output_type": "stream",
     "text": [
      "WARNING:absl:Found untraced functions such as gru_cell_layer_call_fn, gru_cell_layer_call_and_return_conditional_losses while saving (showing 2 of 2). These functions will not be directly callable after loading.\n"
     ]
    },
    {
     "name": "stdout",
     "output_type": "stream",
     "text": [
      "INFO:tensorflow:Assets written to: best_model\\assets\n"
     ]
    },
    {
     "name": "stderr",
     "output_type": "stream",
     "text": [
      "INFO:tensorflow:Assets written to: best_model\\assets\n",
      "WARNING:absl:<keras.layers.recurrent.GRUCell object at 0x0000015E57CAE088> has the same name 'GRUCell' as a built-in Keras object. Consider renaming <class 'keras.layers.recurrent.GRUCell'> to avoid naming conflicts when loading with `tf.keras.models.load_model`. If renaming is not possible, pass the object in the `custom_objects` parameter of the load function.\n",
      "WARNING:absl:<keras.layers.recurrent.GRUCell object at 0x0000015E57CAEF48> has the same name 'GRUCell' as a built-in Keras object. Consider renaming <class 'keras.layers.recurrent.GRUCell'> to avoid naming conflicts when loading with `tf.keras.models.load_model`. If renaming is not possible, pass the object in the `custom_objects` parameter of the load function.\n"
     ]
    },
    {
     "name": "stdout",
     "output_type": "stream",
     "text": [
      "1098/1098 [==============================] - 15s 13ms/step - loss: 8.3596 - root_mean_squared_error: 2.8913\n",
      "Epoch 135/200\n",
      "1098/1098 [==============================] - 11s 10ms/step - loss: 8.3785 - root_mean_squared_error: 2.8946\n",
      "Epoch 136/200\n",
      "1097/1098 [============================>.] - ETA: 0s - loss: 8.3284 - root_mean_squared_error: 2.8859"
     ]
    },
    {
     "name": "stderr",
     "output_type": "stream",
     "text": [
      "WARNING:absl:Found untraced functions such as gru_cell_layer_call_fn, gru_cell_layer_call_and_return_conditional_losses while saving (showing 2 of 2). These functions will not be directly callable after loading.\n"
     ]
    },
    {
     "name": "stdout",
     "output_type": "stream",
     "text": [
      "INFO:tensorflow:Assets written to: best_model\\assets\n"
     ]
    },
    {
     "name": "stderr",
     "output_type": "stream",
     "text": [
      "INFO:tensorflow:Assets written to: best_model\\assets\n",
      "WARNING:absl:<keras.layers.recurrent.GRUCell object at 0x0000015E57CAE088> has the same name 'GRUCell' as a built-in Keras object. Consider renaming <class 'keras.layers.recurrent.GRUCell'> to avoid naming conflicts when loading with `tf.keras.models.load_model`. If renaming is not possible, pass the object in the `custom_objects` parameter of the load function.\n",
      "WARNING:absl:<keras.layers.recurrent.GRUCell object at 0x0000015E57CAEF48> has the same name 'GRUCell' as a built-in Keras object. Consider renaming <class 'keras.layers.recurrent.GRUCell'> to avoid naming conflicts when loading with `tf.keras.models.load_model`. If renaming is not possible, pass the object in the `custom_objects` parameter of the load function.\n"
     ]
    },
    {
     "name": "stdout",
     "output_type": "stream",
     "text": [
      "1098/1098 [==============================] - 14s 13ms/step - loss: 8.3268 - root_mean_squared_error: 2.8856\n",
      "Epoch 137/200\n",
      "1098/1098 [==============================] - 11s 10ms/step - loss: 8.4628 - root_mean_squared_error: 2.9091\n",
      "Epoch 138/200\n",
      "1097/1098 [============================>.] - ETA: 0s - loss: 8.3055 - root_mean_squared_error: 2.8819"
     ]
    },
    {
     "name": "stderr",
     "output_type": "stream",
     "text": [
      "WARNING:absl:Found untraced functions such as gru_cell_layer_call_fn, gru_cell_layer_call_and_return_conditional_losses while saving (showing 2 of 2). These functions will not be directly callable after loading.\n"
     ]
    },
    {
     "name": "stdout",
     "output_type": "stream",
     "text": [
      "INFO:tensorflow:Assets written to: best_model\\assets\n"
     ]
    },
    {
     "name": "stderr",
     "output_type": "stream",
     "text": [
      "INFO:tensorflow:Assets written to: best_model\\assets\n",
      "WARNING:absl:<keras.layers.recurrent.GRUCell object at 0x0000015E57CAE088> has the same name 'GRUCell' as a built-in Keras object. Consider renaming <class 'keras.layers.recurrent.GRUCell'> to avoid naming conflicts when loading with `tf.keras.models.load_model`. If renaming is not possible, pass the object in the `custom_objects` parameter of the load function.\n",
      "WARNING:absl:<keras.layers.recurrent.GRUCell object at 0x0000015E57CAEF48> has the same name 'GRUCell' as a built-in Keras object. Consider renaming <class 'keras.layers.recurrent.GRUCell'> to avoid naming conflicts when loading with `tf.keras.models.load_model`. If renaming is not possible, pass the object in the `custom_objects` parameter of the load function.\n"
     ]
    },
    {
     "name": "stdout",
     "output_type": "stream",
     "text": [
      "1098/1098 [==============================] - 14s 13ms/step - loss: 8.3036 - root_mean_squared_error: 2.8816\n",
      "Epoch 139/200\n",
      "1098/1098 [==============================] - 10s 9ms/step - loss: 8.3861 - root_mean_squared_error: 2.8959\n",
      "Epoch 140/200\n",
      "1095/1098 [============================>.] - ETA: 0s - loss: 8.1967 - root_mean_squared_error: 2.8630"
     ]
    },
    {
     "name": "stderr",
     "output_type": "stream",
     "text": [
      "WARNING:absl:Found untraced functions such as gru_cell_layer_call_fn, gru_cell_layer_call_and_return_conditional_losses while saving (showing 2 of 2). These functions will not be directly callable after loading.\n"
     ]
    },
    {
     "name": "stdout",
     "output_type": "stream",
     "text": [
      "INFO:tensorflow:Assets written to: best_model\\assets\n"
     ]
    },
    {
     "name": "stderr",
     "output_type": "stream",
     "text": [
      "INFO:tensorflow:Assets written to: best_model\\assets\n",
      "WARNING:absl:<keras.layers.recurrent.GRUCell object at 0x0000015E57CAE088> has the same name 'GRUCell' as a built-in Keras object. Consider renaming <class 'keras.layers.recurrent.GRUCell'> to avoid naming conflicts when loading with `tf.keras.models.load_model`. If renaming is not possible, pass the object in the `custom_objects` parameter of the load function.\n",
      "WARNING:absl:<keras.layers.recurrent.GRUCell object at 0x0000015E57CAEF48> has the same name 'GRUCell' as a built-in Keras object. Consider renaming <class 'keras.layers.recurrent.GRUCell'> to avoid naming conflicts when loading with `tf.keras.models.load_model`. If renaming is not possible, pass the object in the `custom_objects` parameter of the load function.\n"
     ]
    },
    {
     "name": "stdout",
     "output_type": "stream",
     "text": [
      "1098/1098 [==============================] - 14s 13ms/step - loss: 8.1876 - root_mean_squared_error: 2.8614\n",
      "Epoch 141/200\n",
      "1098/1098 [==============================] - 10s 9ms/step - loss: 8.3513 - root_mean_squared_error: 2.8899\n",
      "Epoch 142/200\n",
      "1098/1098 [==============================] - 10s 9ms/step - loss: 8.3152 - root_mean_squared_error: 2.8836\n",
      "Epoch 143/200\n",
      "1098/1098 [==============================] - 10s 9ms/step - loss: 8.2462 - root_mean_squared_error: 2.8716\n",
      "Epoch 144/200\n",
      "1098/1098 [==============================] - 10s 9ms/step - loss: 8.3811 - root_mean_squared_error: 2.8950\n",
      "Epoch 145/200\n",
      "1098/1098 [==============================] - 10s 9ms/step - loss: 8.2806 - root_mean_squared_error: 2.8776\n",
      "Epoch 146/200\n",
      "1098/1098 [==============================] - 10s 9ms/step - loss: 8.2227 - root_mean_squared_error: 2.8675\n",
      "Epoch 147/200\n",
      "1094/1098 [============================>.] - ETA: 0s - loss: 8.1910 - root_mean_squared_error: 2.8620"
     ]
    },
    {
     "name": "stderr",
     "output_type": "stream",
     "text": [
      "WARNING:absl:Found untraced functions such as gru_cell_layer_call_fn, gru_cell_layer_call_and_return_conditional_losses while saving (showing 2 of 2). These functions will not be directly callable after loading.\n"
     ]
    },
    {
     "name": "stdout",
     "output_type": "stream",
     "text": [
      "INFO:tensorflow:Assets written to: best_model\\assets\n"
     ]
    },
    {
     "name": "stderr",
     "output_type": "stream",
     "text": [
      "INFO:tensorflow:Assets written to: best_model\\assets\n",
      "WARNING:absl:<keras.layers.recurrent.GRUCell object at 0x0000015E57CAE088> has the same name 'GRUCell' as a built-in Keras object. Consider renaming <class 'keras.layers.recurrent.GRUCell'> to avoid naming conflicts when loading with `tf.keras.models.load_model`. If renaming is not possible, pass the object in the `custom_objects` parameter of the load function.\n",
      "WARNING:absl:<keras.layers.recurrent.GRUCell object at 0x0000015E57CAEF48> has the same name 'GRUCell' as a built-in Keras object. Consider renaming <class 'keras.layers.recurrent.GRUCell'> to avoid naming conflicts when loading with `tf.keras.models.load_model`. If renaming is not possible, pass the object in the `custom_objects` parameter of the load function.\n"
     ]
    },
    {
     "name": "stdout",
     "output_type": "stream",
     "text": [
      "1098/1098 [==============================] - 14s 13ms/step - loss: 8.1766 - root_mean_squared_error: 2.8595\n",
      "Epoch 148/200\n",
      "1098/1098 [==============================] - 11s 10ms/step - loss: 8.3351 - root_mean_squared_error: 2.8871\n",
      "Epoch 149/200\n",
      "1098/1098 [==============================] - 11s 10ms/step - loss: 8.2291 - root_mean_squared_error: 2.8686\n",
      "Epoch 150/200\n",
      "1098/1098 [==============================] - 11s 10ms/step - loss: 8.2048 - root_mean_squared_error: 2.8644\n",
      "Epoch 151/200\n",
      "1098/1098 [==============================] - 11s 10ms/step - loss: 8.2843 - root_mean_squared_error: 2.8782\n",
      "Epoch 152/200\n",
      "1095/1098 [============================>.] - ETA: 0s - loss: 8.1419 - root_mean_squared_error: 2.8534"
     ]
    },
    {
     "name": "stderr",
     "output_type": "stream",
     "text": [
      "WARNING:absl:Found untraced functions such as gru_cell_layer_call_fn, gru_cell_layer_call_and_return_conditional_losses while saving (showing 2 of 2). These functions will not be directly callable after loading.\n"
     ]
    },
    {
     "name": "stdout",
     "output_type": "stream",
     "text": [
      "INFO:tensorflow:Assets written to: best_model\\assets\n"
     ]
    },
    {
     "name": "stderr",
     "output_type": "stream",
     "text": [
      "INFO:tensorflow:Assets written to: best_model\\assets\n",
      "WARNING:absl:<keras.layers.recurrent.GRUCell object at 0x0000015E57CAE088> has the same name 'GRUCell' as a built-in Keras object. Consider renaming <class 'keras.layers.recurrent.GRUCell'> to avoid naming conflicts when loading with `tf.keras.models.load_model`. If renaming is not possible, pass the object in the `custom_objects` parameter of the load function.\n",
      "WARNING:absl:<keras.layers.recurrent.GRUCell object at 0x0000015E57CAEF48> has the same name 'GRUCell' as a built-in Keras object. Consider renaming <class 'keras.layers.recurrent.GRUCell'> to avoid naming conflicts when loading with `tf.keras.models.load_model`. If renaming is not possible, pass the object in the `custom_objects` parameter of the load function.\n"
     ]
    },
    {
     "name": "stdout",
     "output_type": "stream",
     "text": [
      "1098/1098 [==============================] - 15s 14ms/step - loss: 8.1317 - root_mean_squared_error: 2.8516\n",
      "Epoch 153/200\n",
      "1098/1098 [==============================] - 11s 10ms/step - loss: 8.2580 - root_mean_squared_error: 2.8737\n",
      "Epoch 154/200\n",
      "1098/1098 [==============================] - 11s 10ms/step - loss: 8.2830 - root_mean_squared_error: 2.8780\n",
      "Epoch 155/200\n",
      "1098/1098 [==============================] - 11s 10ms/step - loss: 8.2203 - root_mean_squared_error: 2.8671\n",
      "Epoch 156/200\n",
      "1098/1098 [==============================] - 11s 10ms/step - loss: 8.2160 - root_mean_squared_error: 2.8664\n",
      "Epoch 157/200\n",
      "1098/1098 [==============================] - 11s 10ms/step - loss: 8.2253 - root_mean_squared_error: 2.8680\n",
      "Epoch 158/200\n",
      "1098/1098 [==============================] - 11s 10ms/step - loss: 8.2061 - root_mean_squared_error: 2.8646\n",
      "Epoch 159/200\n",
      "1098/1098 [==============================] - 11s 10ms/step - loss: 8.1420 - root_mean_squared_error: 2.8534\n",
      "Epoch 160/200\n",
      "1096/1098 [============================>.] - ETA: 0s - loss: 8.0457 - root_mean_squared_error: 2.8365"
     ]
    },
    {
     "name": "stderr",
     "output_type": "stream",
     "text": [
      "WARNING:absl:Found untraced functions such as gru_cell_layer_call_fn, gru_cell_layer_call_and_return_conditional_losses while saving (showing 2 of 2). These functions will not be directly callable after loading.\n"
     ]
    },
    {
     "name": "stdout",
     "output_type": "stream",
     "text": [
      "INFO:tensorflow:Assets written to: best_model\\assets\n"
     ]
    },
    {
     "name": "stderr",
     "output_type": "stream",
     "text": [
      "INFO:tensorflow:Assets written to: best_model\\assets\n",
      "WARNING:absl:<keras.layers.recurrent.GRUCell object at 0x0000015E57CAE088> has the same name 'GRUCell' as a built-in Keras object. Consider renaming <class 'keras.layers.recurrent.GRUCell'> to avoid naming conflicts when loading with `tf.keras.models.load_model`. If renaming is not possible, pass the object in the `custom_objects` parameter of the load function.\n",
      "WARNING:absl:<keras.layers.recurrent.GRUCell object at 0x0000015E57CAEF48> has the same name 'GRUCell' as a built-in Keras object. Consider renaming <class 'keras.layers.recurrent.GRUCell'> to avoid naming conflicts when loading with `tf.keras.models.load_model`. If renaming is not possible, pass the object in the `custom_objects` parameter of the load function.\n"
     ]
    },
    {
     "name": "stdout",
     "output_type": "stream",
     "text": [
      "1098/1098 [==============================] - 15s 13ms/step - loss: 8.0444 - root_mean_squared_error: 2.8363\n",
      "Epoch 161/200\n",
      "1098/1098 [==============================] - 11s 10ms/step - loss: 8.2114 - root_mean_squared_error: 2.8656\n",
      "Epoch 162/200\n",
      "1095/1098 [============================>.] - ETA: 0s - loss: 7.9719 - root_mean_squared_error: 2.8235"
     ]
    },
    {
     "name": "stderr",
     "output_type": "stream",
     "text": [
      "WARNING:absl:Found untraced functions such as gru_cell_layer_call_fn, gru_cell_layer_call_and_return_conditional_losses while saving (showing 2 of 2). These functions will not be directly callable after loading.\n"
     ]
    },
    {
     "name": "stdout",
     "output_type": "stream",
     "text": [
      "INFO:tensorflow:Assets written to: best_model\\assets\n"
     ]
    },
    {
     "name": "stderr",
     "output_type": "stream",
     "text": [
      "INFO:tensorflow:Assets written to: best_model\\assets\n",
      "WARNING:absl:<keras.layers.recurrent.GRUCell object at 0x0000015E57CAE088> has the same name 'GRUCell' as a built-in Keras object. Consider renaming <class 'keras.layers.recurrent.GRUCell'> to avoid naming conflicts when loading with `tf.keras.models.load_model`. If renaming is not possible, pass the object in the `custom_objects` parameter of the load function.\n",
      "WARNING:absl:<keras.layers.recurrent.GRUCell object at 0x0000015E57CAEF48> has the same name 'GRUCell' as a built-in Keras object. Consider renaming <class 'keras.layers.recurrent.GRUCell'> to avoid naming conflicts when loading with `tf.keras.models.load_model`. If renaming is not possible, pass the object in the `custom_objects` parameter of the load function.\n"
     ]
    },
    {
     "name": "stdout",
     "output_type": "stream",
     "text": [
      "1098/1098 [==============================] - 15s 14ms/step - loss: 7.9669 - root_mean_squared_error: 2.8226\n",
      "Epoch 163/200\n",
      "1098/1098 [==============================] - 11s 10ms/step - loss: 8.0433 - root_mean_squared_error: 2.8361\n",
      "Epoch 164/200\n",
      "1098/1098 [==============================] - 11s 10ms/step - loss: 8.0627 - root_mean_squared_error: 2.8395\n",
      "Epoch 165/200\n",
      "1098/1098 [==============================] - 11s 10ms/step - loss: 8.1832 - root_mean_squared_error: 2.8606\n",
      "Epoch 166/200\n",
      "1098/1098 [==============================] - 11s 10ms/step - loss: 8.1213 - root_mean_squared_error: 2.8498\n",
      "Epoch 167/200\n",
      "1096/1098 [============================>.] - ETA: 0s - loss: 7.9327 - root_mean_squared_error: 2.8165"
     ]
    },
    {
     "name": "stderr",
     "output_type": "stream",
     "text": [
      "WARNING:absl:Found untraced functions such as gru_cell_layer_call_fn, gru_cell_layer_call_and_return_conditional_losses while saving (showing 2 of 2). These functions will not be directly callable after loading.\n"
     ]
    },
    {
     "name": "stdout",
     "output_type": "stream",
     "text": [
      "INFO:tensorflow:Assets written to: best_model\\assets\n"
     ]
    },
    {
     "name": "stderr",
     "output_type": "stream",
     "text": [
      "INFO:tensorflow:Assets written to: best_model\\assets\n",
      "WARNING:absl:<keras.layers.recurrent.GRUCell object at 0x0000015E57CAE088> has the same name 'GRUCell' as a built-in Keras object. Consider renaming <class 'keras.layers.recurrent.GRUCell'> to avoid naming conflicts when loading with `tf.keras.models.load_model`. If renaming is not possible, pass the object in the `custom_objects` parameter of the load function.\n",
      "WARNING:absl:<keras.layers.recurrent.GRUCell object at 0x0000015E57CAEF48> has the same name 'GRUCell' as a built-in Keras object. Consider renaming <class 'keras.layers.recurrent.GRUCell'> to avoid naming conflicts when loading with `tf.keras.models.load_model`. If renaming is not possible, pass the object in the `custom_objects` parameter of the load function.\n"
     ]
    },
    {
     "name": "stdout",
     "output_type": "stream",
     "text": [
      "1098/1098 [==============================] - 15s 13ms/step - loss: 7.9278 - root_mean_squared_error: 2.8156\n",
      "Epoch 168/200\n",
      "1098/1098 [==============================] - 11s 10ms/step - loss: 8.0736 - root_mean_squared_error: 2.8414\n",
      "Epoch 169/200\n",
      "1098/1098 [==============================] - 12s 11ms/step - loss: 8.0461 - root_mean_squared_error: 2.8366\n",
      "Epoch 170/200\n",
      "1098/1098 [==============================] - 11s 10ms/step - loss: 8.0670 - root_mean_squared_error: 2.8403\n",
      "Epoch 171/200\n",
      "1098/1098 [==============================] - 11s 10ms/step - loss: 7.9764 - root_mean_squared_error: 2.8243\n",
      "Epoch 172/200\n",
      "1098/1098 [==============================] - 11s 10ms/step - loss: 7.9639 - root_mean_squared_error: 2.8220\n",
      "Epoch 173/200\n",
      "1095/1098 [============================>.] - ETA: 0s - loss: 7.9102 - root_mean_squared_error: 2.8125"
     ]
    },
    {
     "name": "stderr",
     "output_type": "stream",
     "text": [
      "WARNING:absl:Found untraced functions such as gru_cell_layer_call_fn, gru_cell_layer_call_and_return_conditional_losses while saving (showing 2 of 2). These functions will not be directly callable after loading.\n"
     ]
    },
    {
     "name": "stdout",
     "output_type": "stream",
     "text": [
      "INFO:tensorflow:Assets written to: best_model\\assets\n"
     ]
    },
    {
     "name": "stderr",
     "output_type": "stream",
     "text": [
      "INFO:tensorflow:Assets written to: best_model\\assets\n",
      "WARNING:absl:<keras.layers.recurrent.GRUCell object at 0x0000015E57CAE088> has the same name 'GRUCell' as a built-in Keras object. Consider renaming <class 'keras.layers.recurrent.GRUCell'> to avoid naming conflicts when loading with `tf.keras.models.load_model`. If renaming is not possible, pass the object in the `custom_objects` parameter of the load function.\n",
      "WARNING:absl:<keras.layers.recurrent.GRUCell object at 0x0000015E57CAEF48> has the same name 'GRUCell' as a built-in Keras object. Consider renaming <class 'keras.layers.recurrent.GRUCell'> to avoid naming conflicts when loading with `tf.keras.models.load_model`. If renaming is not possible, pass the object in the `custom_objects` parameter of the load function.\n"
     ]
    },
    {
     "name": "stdout",
     "output_type": "stream",
     "text": [
      "1098/1098 [==============================] - 15s 13ms/step - loss: 7.9156 - root_mean_squared_error: 2.8135\n",
      "Epoch 174/200\n",
      "1098/1098 [==============================] - 10s 10ms/step - loss: 8.0220 - root_mean_squared_error: 2.8323\n",
      "Epoch 175/200\n",
      "1095/1098 [============================>.] - ETA: 0s - loss: 7.8822 - root_mean_squared_error: 2.8075"
     ]
    },
    {
     "name": "stderr",
     "output_type": "stream",
     "text": [
      "WARNING:absl:Found untraced functions such as gru_cell_layer_call_fn, gru_cell_layer_call_and_return_conditional_losses while saving (showing 2 of 2). These functions will not be directly callable after loading.\n"
     ]
    },
    {
     "name": "stdout",
     "output_type": "stream",
     "text": [
      "INFO:tensorflow:Assets written to: best_model\\assets\n"
     ]
    },
    {
     "name": "stderr",
     "output_type": "stream",
     "text": [
      "INFO:tensorflow:Assets written to: best_model\\assets\n",
      "WARNING:absl:<keras.layers.recurrent.GRUCell object at 0x0000015E57CAE088> has the same name 'GRUCell' as a built-in Keras object. Consider renaming <class 'keras.layers.recurrent.GRUCell'> to avoid naming conflicts when loading with `tf.keras.models.load_model`. If renaming is not possible, pass the object in the `custom_objects` parameter of the load function.\n",
      "WARNING:absl:<keras.layers.recurrent.GRUCell object at 0x0000015E57CAEF48> has the same name 'GRUCell' as a built-in Keras object. Consider renaming <class 'keras.layers.recurrent.GRUCell'> to avoid naming conflicts when loading with `tf.keras.models.load_model`. If renaming is not possible, pass the object in the `custom_objects` parameter of the load function.\n"
     ]
    },
    {
     "name": "stdout",
     "output_type": "stream",
     "text": [
      "1098/1098 [==============================] - 14s 13ms/step - loss: 7.8714 - root_mean_squared_error: 2.8056\n",
      "Epoch 176/200\n",
      "1098/1098 [==============================] - 11s 10ms/step - loss: 8.0142 - root_mean_squared_error: 2.8309\n",
      "Epoch 177/200\n",
      "1098/1098 [==============================] - 11s 10ms/step - loss: 7.9182 - root_mean_squared_error: 2.8139\n",
      "Epoch 178/200\n",
      "1093/1098 [============================>.] - ETA: 0s - loss: 7.8386 - root_mean_squared_error: 2.7998"
     ]
    },
    {
     "name": "stderr",
     "output_type": "stream",
     "text": [
      "WARNING:absl:Found untraced functions such as gru_cell_layer_call_fn, gru_cell_layer_call_and_return_conditional_losses while saving (showing 2 of 2). These functions will not be directly callable after loading.\n"
     ]
    },
    {
     "name": "stdout",
     "output_type": "stream",
     "text": [
      "INFO:tensorflow:Assets written to: best_model\\assets\n"
     ]
    },
    {
     "name": "stderr",
     "output_type": "stream",
     "text": [
      "INFO:tensorflow:Assets written to: best_model\\assets\n",
      "WARNING:absl:<keras.layers.recurrent.GRUCell object at 0x0000015E57CAE088> has the same name 'GRUCell' as a built-in Keras object. Consider renaming <class 'keras.layers.recurrent.GRUCell'> to avoid naming conflicts when loading with `tf.keras.models.load_model`. If renaming is not possible, pass the object in the `custom_objects` parameter of the load function.\n",
      "WARNING:absl:<keras.layers.recurrent.GRUCell object at 0x0000015E57CAEF48> has the same name 'GRUCell' as a built-in Keras object. Consider renaming <class 'keras.layers.recurrent.GRUCell'> to avoid naming conflicts when loading with `tf.keras.models.load_model`. If renaming is not possible, pass the object in the `custom_objects` parameter of the load function.\n"
     ]
    },
    {
     "name": "stdout",
     "output_type": "stream",
     "text": [
      "1098/1098 [==============================] - 15s 14ms/step - loss: 7.8367 - root_mean_squared_error: 2.7994\n",
      "Epoch 179/200\n",
      "1096/1098 [============================>.] - ETA: 0s - loss: 7.7133 - root_mean_squared_error: 2.7773"
     ]
    },
    {
     "name": "stderr",
     "output_type": "stream",
     "text": [
      "WARNING:absl:Found untraced functions such as gru_cell_layer_call_fn, gru_cell_layer_call_and_return_conditional_losses while saving (showing 2 of 2). These functions will not be directly callable after loading.\n"
     ]
    },
    {
     "name": "stdout",
     "output_type": "stream",
     "text": [
      "INFO:tensorflow:Assets written to: best_model\\assets\n"
     ]
    },
    {
     "name": "stderr",
     "output_type": "stream",
     "text": [
      "INFO:tensorflow:Assets written to: best_model\\assets\n",
      "WARNING:absl:<keras.layers.recurrent.GRUCell object at 0x0000015E57CAE088> has the same name 'GRUCell' as a built-in Keras object. Consider renaming <class 'keras.layers.recurrent.GRUCell'> to avoid naming conflicts when loading with `tf.keras.models.load_model`. If renaming is not possible, pass the object in the `custom_objects` parameter of the load function.\n",
      "WARNING:absl:<keras.layers.recurrent.GRUCell object at 0x0000015E57CAEF48> has the same name 'GRUCell' as a built-in Keras object. Consider renaming <class 'keras.layers.recurrent.GRUCell'> to avoid naming conflicts when loading with `tf.keras.models.load_model`. If renaming is not possible, pass the object in the `custom_objects` parameter of the load function.\n"
     ]
    },
    {
     "name": "stdout",
     "output_type": "stream",
     "text": [
      "1098/1098 [==============================] - 14s 13ms/step - loss: 7.7084 - root_mean_squared_error: 2.7764\n",
      "Epoch 180/200\n",
      "1098/1098 [==============================] - 11s 10ms/step - loss: 7.9032 - root_mean_squared_error: 2.8113\n",
      "Epoch 181/200\n",
      "1098/1098 [==============================] - 11s 10ms/step - loss: 7.9612 - root_mean_squared_error: 2.8216\n",
      "Epoch 182/200\n",
      "1098/1098 [==============================] - 11s 10ms/step - loss: 7.9191 - root_mean_squared_error: 2.8141\n",
      "Epoch 183/200\n",
      "1098/1098 [==============================] - 11s 10ms/step - loss: 7.8517 - root_mean_squared_error: 2.8021\n",
      "Epoch 184/200\n",
      "1098/1098 [==============================] - 11s 10ms/step - loss: 7.8933 - root_mean_squared_error: 2.8095\n",
      "Epoch 185/200\n",
      "1098/1098 [==============================] - 11s 10ms/step - loss: 8.0083 - root_mean_squared_error: 2.8299\n",
      "Epoch 186/200\n",
      "1098/1098 [==============================] - 11s 10ms/step - loss: 7.7436 - root_mean_squared_error: 2.7827\n",
      "Epoch 187/200\n",
      "1098/1098 [==============================] - 11s 10ms/step - loss: 7.9231 - root_mean_squared_error: 2.8148\n",
      "Epoch 188/200\n",
      "1098/1098 [==============================] - 11s 10ms/step - loss: 7.8387 - root_mean_squared_error: 2.7998\n",
      "Epoch 189/200\n",
      "1098/1098 [==============================] - 11s 10ms/step - loss: 7.8929 - root_mean_squared_error: 2.8094\n",
      "Epoch 190/200\n",
      "1098/1098 [==============================] - 11s 10ms/step - loss: 7.8381 - root_mean_squared_error: 2.7997\n",
      "Epoch 191/200\n",
      "1098/1098 [==============================] - 11s 10ms/step - loss: 7.8046 - root_mean_squared_error: 2.7937\n",
      "Epoch 192/200\n",
      "1098/1098 [==============================] - 11s 10ms/step - loss: 7.8812 - root_mean_squared_error: 2.8073\n",
      "Epoch 193/200\n",
      "1096/1098 [============================>.] - ETA: 0s - loss: 7.6727 - root_mean_squared_error: 2.7700"
     ]
    },
    {
     "name": "stderr",
     "output_type": "stream",
     "text": [
      "WARNING:absl:Found untraced functions such as gru_cell_layer_call_fn, gru_cell_layer_call_and_return_conditional_losses while saving (showing 2 of 2). These functions will not be directly callable after loading.\n"
     ]
    },
    {
     "name": "stdout",
     "output_type": "stream",
     "text": [
      "INFO:tensorflow:Assets written to: best_model\\assets\n"
     ]
    },
    {
     "name": "stderr",
     "output_type": "stream",
     "text": [
      "INFO:tensorflow:Assets written to: best_model\\assets\n",
      "WARNING:absl:<keras.layers.recurrent.GRUCell object at 0x0000015E57CAE088> has the same name 'GRUCell' as a built-in Keras object. Consider renaming <class 'keras.layers.recurrent.GRUCell'> to avoid naming conflicts when loading with `tf.keras.models.load_model`. If renaming is not possible, pass the object in the `custom_objects` parameter of the load function.\n",
      "WARNING:absl:<keras.layers.recurrent.GRUCell object at 0x0000015E57CAEF48> has the same name 'GRUCell' as a built-in Keras object. Consider renaming <class 'keras.layers.recurrent.GRUCell'> to avoid naming conflicts when loading with `tf.keras.models.load_model`. If renaming is not possible, pass the object in the `custom_objects` parameter of the load function.\n"
     ]
    },
    {
     "name": "stdout",
     "output_type": "stream",
     "text": [
      "1098/1098 [==============================] - 15s 13ms/step - loss: 7.6685 - root_mean_squared_error: 2.7692\n",
      "Epoch 194/200\n",
      "1098/1098 [==============================] - 11s 10ms/step - loss: 7.7351 - root_mean_squared_error: 2.7812\n",
      "Epoch 195/200\n",
      "1098/1098 [==============================] - 11s 10ms/step - loss: 7.6922 - root_mean_squared_error: 2.7735\n",
      "Epoch 196/200\n",
      "1098/1098 [==============================] - 11s 10ms/step - loss: 7.6859 - root_mean_squared_error: 2.7723\n",
      "Epoch 197/200\n",
      "1098/1098 [==============================] - 11s 10ms/step - loss: 7.7637 - root_mean_squared_error: 2.7863\n",
      "Epoch 198/200\n",
      "1098/1098 [==============================] - 11s 10ms/step - loss: 7.7058 - root_mean_squared_error: 2.7759\n",
      "Epoch 199/200\n",
      "1095/1098 [============================>.] - ETA: 0s - loss: 7.6132 - root_mean_squared_error: 2.7592"
     ]
    },
    {
     "name": "stderr",
     "output_type": "stream",
     "text": [
      "WARNING:absl:Found untraced functions such as gru_cell_layer_call_fn, gru_cell_layer_call_and_return_conditional_losses while saving (showing 2 of 2). These functions will not be directly callable after loading.\n"
     ]
    },
    {
     "name": "stdout",
     "output_type": "stream",
     "text": [
      "INFO:tensorflow:Assets written to: best_model\\assets\n"
     ]
    },
    {
     "name": "stderr",
     "output_type": "stream",
     "text": [
      "INFO:tensorflow:Assets written to: best_model\\assets\n",
      "WARNING:absl:<keras.layers.recurrent.GRUCell object at 0x0000015E57CAE088> has the same name 'GRUCell' as a built-in Keras object. Consider renaming <class 'keras.layers.recurrent.GRUCell'> to avoid naming conflicts when loading with `tf.keras.models.load_model`. If renaming is not possible, pass the object in the `custom_objects` parameter of the load function.\n",
      "WARNING:absl:<keras.layers.recurrent.GRUCell object at 0x0000015E57CAEF48> has the same name 'GRUCell' as a built-in Keras object. Consider renaming <class 'keras.layers.recurrent.GRUCell'> to avoid naming conflicts when loading with `tf.keras.models.load_model`. If renaming is not possible, pass the object in the `custom_objects` parameter of the load function.\n"
     ]
    },
    {
     "name": "stdout",
     "output_type": "stream",
     "text": [
      "1098/1098 [==============================] - 15s 14ms/step - loss: 7.6111 - root_mean_squared_error: 2.7588\n",
      "Epoch 200/200\n",
      "1098/1098 [==============================] - 11s 10ms/step - loss: 7.7367 - root_mean_squared_error: 2.7815\n",
      "275/275 [==============================] - 1s 3ms/step - loss: 10.0858 - root_mean_squared_error: 3.1758\n"
     ]
    }
   ],
   "source": [
    "models = []\n",
    "histories = []  \n",
    "model_evals = []\n",
    "for train_index, test_index in kf.split(x_shaped):\n",
    "    x_train, x_test = x_shaped[train_index], x_shaped[test_index]\n",
    "    y_train, y_test = y_shaped[train_index], y_shaped[test_index]\n",
    "    \n",
    "\n",
    "    history = model.fit(x_train,y_train,epochs=200, callbacks=cb)\n",
    "    \n",
    "    model_eval = model.evaluate(x_test, y_test)\n",
    "    models.append(model)\n",
    "    histories.append(history)\n",
    "    model_evals.append(model_eval)\n",
    "        "
   ]
  },
  {
   "cell_type": "code",
   "execution_count": 23,
   "metadata": {},
   "outputs": [
    {
     "data": {
      "text/plain": [
       "16.322064542770384"
      ]
     },
     "execution_count": 23,
     "metadata": {},
     "output_type": "execute_result"
    }
   ],
   "source": [
    "#check which is best\n",
    "np.mean(model_evals)"
   ]
  },
  {
   "cell_type": "code",
   "execution_count": 10,
   "metadata": {},
   "outputs": [
    {
     "name": "stderr",
     "output_type": "stream",
     "text": [
      "WARNING:absl:Found untraced functions such as gru_cell_layer_call_fn, gru_cell_layer_call_and_return_conditional_losses while saving (showing 2 of 2). These functions will not be directly callable after loading.\n"
     ]
    },
    {
     "name": "stdout",
     "output_type": "stream",
     "text": [
      "INFO:tensorflow:Assets written to: best_model\\assets\n"
     ]
    },
    {
     "name": "stderr",
     "output_type": "stream",
     "text": [
      "INFO:tensorflow:Assets written to: best_model\\assets\n",
      "WARNING:absl:<keras.layers.recurrent.GRUCell object at 0x0000015E57CAE088> has the same name 'GRUCell' as a built-in Keras object. Consider renaming <class 'keras.layers.recurrent.GRUCell'> to avoid naming conflicts when loading with `tf.keras.models.load_model`. If renaming is not possible, pass the object in the `custom_objects` parameter of the load function.\n",
      "WARNING:absl:<keras.layers.recurrent.GRUCell object at 0x0000015E57CAEF48> has the same name 'GRUCell' as a built-in Keras object. Consider renaming <class 'keras.layers.recurrent.GRUCell'> to avoid naming conflicts when loading with `tf.keras.models.load_model`. If renaming is not possible, pass the object in the `custom_objects` parameter of the load function.\n"
     ]
    }
   ],
   "source": [
    "best_loc = model_evals.index(min(model_evals))\n",
    "best_model = models[best_loc]\n",
    "best_history = histories[best_loc]\n",
    "best_eval = model_evals[best_loc]\n",
    "\n",
    "best_model.save('best_model')"
   ]
  },
  {
   "cell_type": "code",
   "execution_count": 11,
   "metadata": {},
   "outputs": [
    {
     "data": {
      "text/plain": [
       "dict_keys(['loss', 'root_mean_squared_error'])"
      ]
     },
     "execution_count": 11,
     "metadata": {},
     "output_type": "execute_result"
    }
   ],
   "source": [
    "best_history.history.keys()"
   ]
  },
  {
   "cell_type": "code",
   "execution_count": 12,
   "metadata": {},
   "outputs": [],
   "source": [
    "\n",
    "test_loss = best_eval[0]\n",
    "test_rmse = best_eval[1]\n",
    "\n",
    "now = dt.datetime.now().strftime(\"%Y-%m-%d %H-%M\")"
   ]
  },
  {
   "cell_type": "code",
   "execution_count": null,
   "metadata": {},
   "outputs": [],
   "source": []
  },
  {
   "cell_type": "code",
   "execution_count": 13,
   "metadata": {},
   "outputs": [],
   "source": [
    "ffp_rmse = min(y_shaped) * 0.1"
   ]
  },
  {
   "cell_type": "code",
   "execution_count": 14,
   "metadata": {},
   "outputs": [],
   "source": [
    "def check_file(fpath):\n",
    "    return os.path.exists(fpath)"
   ]
  },
  {
   "cell_type": "code",
   "execution_count": 17,
   "metadata": {},
   "outputs": [
    {
     "name": "stdout",
     "output_type": "stream",
     "text": [
      "Could not save: plots\\2022-05-10 22-41 Model RMSE vs Epoch for predicting turbidity.png\n",
      "Possibly change datetime\n"
     ]
    },
    {
     "data": {
      "image/png": "[encoded data removed]",
      "text/plain": [
       "<Figure size 432x288 with 1 Axes>"
      ]
     },
     "metadata": {
      "needs_background": "light"
     },
     "output_type": "display_data"
    },
    {
     "name": "stdout",
     "output_type": "stream",
     "text": [
      "Could not save: plots\\2022-05-10 22-41 Model Loss vs Epoch for predicting turbidity.png\n",
      "Possibly change datetime\n"
     ]
    },
    {
     "data": {
      "image/png": "[encoded data removed]",
      "text/plain": [
       "<Figure size 432x288 with 1 Axes>"
      ]
     },
     "metadata": {
      "needs_background": "light"
     },
     "output_type": "display_data"
    }
   ],
   "source": [
    "plt.plot(best_history.history['root_mean_squared_error'], label='Train')\n",
    "plt.axhline(test_rmse, color='g', label='Test')\n",
    "plt.axhline(ffp_rmse, color='orange', label='Fit For Purpose')\n",
    "plt.title('Model RMSE')\n",
    "plt.ylabel('RMSE (NTU)')\n",
    "plt.xlabel('Epoch')\n",
    "plt.legend()\n",
    "fpath = os.path.join(\"plots\", now + \" Model RMSE vs Epoch for predicting turbidity\" + \".png\")\n",
    "if check_file(fpath):\n",
    "    print(\"Could not save: {0}\\nPossibly change datetime\".format(fpath))\n",
    "else:\n",
    "    plt.savefig(fpath)\n",
    "plt.show()\n",
    "\n",
    "plt.plot(best_history.history['loss'], label='Train Data')\n",
    "plt.axhline(test_loss, color='g', label='Test Data')\n",
    "plt.title('Model Loss')\n",
    "plt.ylabel('Loss')\n",
    "plt.xlabel('Epoch')\n",
    "plt.legend()\n",
    "fpath = os.path.join(\"plots\", now + \" Model Loss vs Epoch for predicting turbidity\" + \".png\")\n",
    "if check_file(fpath):\n",
    "    print(\"Could not save: {0}\\nPossibly change datetime\".format(fpath))\n",
    "else:\n",
    "    plt.savefig(fpath)\n",
    "plt.show()"
   ]
  },
  {
   "cell_type": "code",
   "execution_count": 18,
   "metadata": {},
   "outputs": [
    {
     "data": {
      "image/png": "[encoded data removed]",
      "text/plain": [
       "<Figure size 432x288 with 1 Axes>"
      ]
     },
     "metadata": {
      "needs_background": "light"
     },
     "output_type": "display_data"
    }
   ],
   "source": [
    "pred = best_model.predict(x_shaped)\n",
    "\n",
    "plt.plot(pred, label='pred')\n",
    "plt.plot(y_shaped, color='orange', label='true')\n",
    "plt.title('Overall Acc Predicted and True vs Time')\n",
    "plt.ylabel('Turbidity (NTU)')\n",
    "plt.xlabel('Time (per 15 min)')\n",
    "plt.legend()\n",
    "fpath = os.path.join(\"plots\", now + \" Overall Acc Predicted and True vs Time for predicting turbidity\" + \".png\")\n",
    "if check_file(fpath):\n",
    "    print(\"Could not save: {0}\\nPossibly change datetime\".format(fpath))\n",
    "else:\n",
    "    plt.savefig(fpath)\n",
    "plt.show()\n"
   ]
  },
  {
   "cell_type": "code",
   "execution_count": 19,
   "metadata": {},
   "outputs": [
    {
     "data": {
      "image/png": "[encoded data removed]",
      "text/plain": [
       "<Figure size 432x288 with 1 Axes>"
      ]
     },
     "metadata": {
      "needs_background": "light"
     },
     "output_type": "display_data"
    }
   ],
   "source": [
    "plt.scatter(y_shaped, pred, s=1)\n",
    "xpoints = ypoints = plt.xlim()\n",
    "plt.plot(xpoints, ypoints, label=\"x=y\", color='k', lw=2, scalex=False, scaley=False)\n",
    "plt.title('Predicted vs True values when predicting Turbidity')\n",
    "plt.xlabel('True Turbidity (NTU)')\n",
    "plt.ylabel('Predicted Turbidity (NTU)')\n",
    "plt.legend()\n",
    "fpath = os.path.join(\"plots\", now + \" Predicted vs True values when predicting Turbidity\" + \".png\")\n",
    "if check_file(fpath):\n",
    "    print(\"Could not save: {0}\\nPossibly change datetime\".format(fpath))\n",
    "else:\n",
    "    plt.savefig(fpath)\n",
    "plt.show()"
   ]
  },
  {
   "cell_type": "code",
   "execution_count": null,
   "metadata": {},
   "outputs": [],
   "source": []
  },
  {
   "cell_type": "code",
   "execution_count": null,
   "metadata": {},
   "outputs": [],
   "source": []
  },
  {
   "cell_type": "code",
   "execution_count": null,
   "metadata": {},
   "outputs": [],
   "source": []
  }
 ],
 "metadata": {
  "kernelspec": {
   "display_name": "Python 3",
   "language": "python",
   "name": "python3"
  },
  "language_info": {
   "codemirror_mode": {
    "name": "ipython",
    "version": 3
   },
   "file_extension": ".py",
   "mimetype": "text/x-python",
   "name": "python",
   "nbconvert_exporter": "python",
   "pygments_lexer": "ipython3",
   "version": "3.7.7"
  }
 },
 "nbformat": 4,
 "nbformat_minor": 4
}
