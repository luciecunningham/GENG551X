{
 "cells": [
  {
   "cell_type": "code",
   "execution_count": 1,
   "metadata": {},
   "outputs": [],
   "source": [
    "#AIM\n",
    "#Pred turbidity with sensor data (42755 points)\n",
    "#pred cellcount with tubidity (~100 points)\n",
    "#get rid of TSS\n"
   ]
  },
  {
   "cell_type": "code",
   "execution_count": 2,
   "metadata": {},
   "outputs": [],
   "source": [
    "import numpy as np\n",
    "import pandas as pd\n",
    "\n",
    "import matplotlib.pyplot as plt\n",
    "from sklearn.preprocessing import StandardScaler\n",
    "import seaborn as sns\n",
    "\n",
    "import json\n",
    "import os\n",
    "import datetime as dt\n",
    "\n",
    "from pandas.plotting import lag_plot\n",
    "import matplotlib.dates as mdates\n",
    "\n",
    "import xlrd"
   ]
  },
  {
   "cell_type": "code",
   "execution_count": 3,
   "metadata": {},
   "outputs": [],
   "source": [
    "sensor_path = os.path.join(\"data\", \"data-withdate-missingvals.csv\")\n",
    "sensor_df = pd.read_csv(sensor_path)"
   ]
  },
  {
   "cell_type": "code",
   "execution_count": 4,
   "metadata": {},
   "outputs": [],
   "source": [
    "features = ['pH', 'Temperature', 'D.O. (mg/L)', 'Turbidity (NTU)', 'TSS (g/L)', 'NO3-N (mg/L)', 'NH4-N (mg/L)', 'ORP (MV)', 'Conductivity (mS/cm)']"
   ]
  },
  {
   "cell_type": "code",
   "execution_count": 5,
   "metadata": {},
   "outputs": [],
   "source": [
    "\n",
    "sensor_df = sensor_df.drop(columns=[\"TSS (g/L)\"])"
   ]
  },
  {
   "cell_type": "code",
   "execution_count": 6,
   "metadata": {},
   "outputs": [],
   "source": [
    "#convert to date\n",
    "sensor_df = sensor_df.rename(columns={'S01': 'Date'})\n",
    "def py_date(x):\n",
    "    \"\"\"Converts Excel dates to python datetime\"\"\"\n",
    "    date_tuple = xlrd.xldate_as_tuple(x,0)\n",
    "    return dt.datetime(*date_tuple)\n",
    "\n",
    "sensor_df['Date'] = sensor_df['Date'].transform(py_date)\n",
    "\n"
   ]
  },
  {
   "cell_type": "code",
   "execution_count": 21,
   "metadata": {},
   "outputs": [],
   "source": [
    "#only need upper limit as 3 std below mean is negative which is not possible\n",
    "upper_limit = 200 + 20\n",
    "lower_limit = 20\n",
    "sensor_df = sensor_df[~(sensor_df[\"Turbidity (NTU)\"] > upper_limit)]\n",
    "sensor_df = sensor_df[~(sensor_df[\"Turbidity (NTU)\"] < lower_limit)]"
   ]
  },
  {
   "cell_type": "code",
   "execution_count": 22,
   "metadata": {},
   "outputs": [],
   "source": [
    "cleaned_df = sensor_df.dropna(how='any',axis=0) "
   ]
  },
  {
   "cell_type": "code",
   "execution_count": 23,
   "metadata": {},
   "outputs": [
    {
     "name": "stdout",
     "output_type": "stream",
     "text": [
      "<class 'pandas.core.frame.DataFrame'>\n",
      "Int64Index: 43904 entries, 0 to 50722\n",
      "Data columns (total 9 columns):\n",
      " #   Column                Non-Null Count  Dtype         \n",
      "---  ------                --------------  -----         \n",
      " 0   Date                  43904 non-null  datetime64[ns]\n",
      " 1   pH                    43904 non-null  float64       \n",
      " 2   Temperature (°C)      43904 non-null  float64       \n",
      " 3   D.O. (mg/L)           43904 non-null  float64       \n",
      " 4   Turbidity (NTU)       43904 non-null  float64       \n",
      " 5   NO3-N (mg/L)          43904 non-null  float64       \n",
      " 6   NH4-N (mg/L)          43904 non-null  float64       \n",
      " 7   ORP (MV)              43904 non-null  float64       \n",
      " 8   Conductivity (mS/cm)  43904 non-null  float64       \n",
      "dtypes: datetime64[ns](1), float64(8)\n",
      "memory usage: 3.3 MB\n"
     ]
    }
   ],
   "source": [
    "cleaned_df.info()"
   ]
  },
  {
   "cell_type": "code",
   "execution_count": 24,
   "metadata": {},
   "outputs": [
    {
     "data": {
      "text/plain": [
       "20.013"
      ]
     },
     "execution_count": 24,
     "metadata": {},
     "output_type": "execute_result"
    }
   ],
   "source": [
    "cleaned_df[\"Turbidity (NTU)\"].max()\n",
    "cleaned_df[\"Turbidity (NTU)\"].min()"
   ]
  },
  {
   "cell_type": "code",
   "execution_count": 20,
   "metadata": {},
   "outputs": [
    {
     "data": {
      "text/plain": [
       "[<matplotlib.lines.Line2D at 0x22d2ac7b408>]"
      ]
     },
     "execution_count": 20,
     "metadata": {},
     "output_type": "execute_result"
    },
    {
     "data": {
      "image/png": "[encoded data removed]",
      "text/plain": [
       "<Figure size 432x288 with 1 Axes>"
      ]
     },
     "metadata": {
      "needs_background": "light"
     },
     "output_type": "display_data"
    }
   ],
   "source": [
    "plt.plot(cleaned_df[\"Date\"], cleaned_df[\"Turbidity (NTU)\"])"
   ]
  },
  {
   "cell_type": "code",
   "execution_count": 25,
   "metadata": {},
   "outputs": [],
   "source": [
    "output_datafile = os.path.join(\"data\", \"final_df_big.csv\")\n",
    "cleaned_df.to_csv(output_datafile, index=False)"
   ]
  },
  {
   "cell_type": "code",
   "execution_count": null,
   "metadata": {},
   "outputs": [],
   "source": []
  }
 ],
 "metadata": {
  "kernelspec": {
   "display_name": "Python 3",
   "language": "python",
   "name": "python3"
  },
  "language_info": {
   "codemirror_mode": {
    "name": "ipython",
    "version": 3
   },
   "file_extension": ".py",
   "mimetype": "text/x-python",
   "name": "python",
   "nbconvert_exporter": "python",
   "pygments_lexer": "ipython3",
   "version": "3.7.7"
  }
 },
 "nbformat": 4,
 "nbformat_minor": 4
}
