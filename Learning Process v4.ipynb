{
 "cells": [
  {
   "cell_type": "code",
   "execution_count": 1,
   "metadata": {},
   "outputs": [],
   "source": [
    "#This is to create the best turbidity model and save it\n"
   ]
  },
  {
   "cell_type": "code",
   "execution_count": 2,
   "metadata": {},
   "outputs": [],
   "source": [
    "import numpy as np\n",
    "import pandas as pd\n",
    "import os\n",
    "import datetime as dt\n",
    "\n",
    "import matplotlib.pyplot as plt\n",
    "import seaborn as sns\n",
    "\n",
    "from sklearn.preprocessing import StandardScaler\n",
    "from sklearn.metrics import r2_score\n",
    "from sklearn.svm import SVR\n",
    "from sklearn.pipeline import make_pipeline\n",
    "from sklearn import model_selection\n",
    "from sklearn.model_selection import GridSearchCV,cross_val_score,train_test_split, KFold\n",
    "from sklearn.metrics import mean_squared_error\n",
    "\n",
    "\n",
    "import tensorflow.keras as keras\n"
   ]
  },
  {
   "cell_type": "code",
   "execution_count": 4,
   "metadata": {},
   "outputs": [],
   "source": [
    "df = pd.read_csv(os.path.join(\"data\", \"final_df_big.csv\"))"
   ]
  },
  {
   "cell_type": "code",
   "execution_count": 4,
   "metadata": {},
   "outputs": [
    {
     "name": "stdout",
     "output_type": "stream",
     "text": [
      "KFold(n_splits=5, random_state=None, shuffle=True)\n"
     ]
    }
   ],
   "source": [
    "\n",
    "\n",
    "x_arr = np.array(df_no_date.drop(columns=['Turbidity (NTU)']), np.float32)\n",
    "x_shaped = x_arr.reshape(x_arr.shape[0], 1, x_arr.shape[1])\n",
    "\n",
    "y_shaped = df_no_date['Turbidity (NTU)'].values\n",
    "\n",
    "kf = KFold(n_splits=5, shuffle=True)\n",
    "kf.get_n_splits(x_shaped)\n",
    "\n",
    "print(kf)\n"
   ]
  },
  {
   "cell_type": "code",
   "execution_count": 5,
   "metadata": {},
   "outputs": [
    {
     "name": "stdout",
     "output_type": "stream",
     "text": [
      "Model: \"sequential\"\n",
      "_________________________________________________________________\n",
      " Layer (type)                Output Shape              Param #   \n",
      "=================================================================\n",
      " gru (GRU)                   (None, None, 100)         32700     \n",
      "                                                                 \n",
      " gru_1 (GRU)                 (None, None, 144)         106272    \n",
      "                                                                 \n",
      " reshape (Reshape)           (None, 12, 12)            0         \n",
      "                                                                 \n",
      " conv1d (Conv1D)             (None, 12, 128)           6272      \n",
      "                                                                 \n",
      " conv1d_1 (Conv1D)           (None, 12, 64)            32832     \n",
      "                                                                 \n",
      " max_pooling1d (MaxPooling1D  (None, 6, 64)            0         \n",
      " )                                                               \n",
      "                                                                 \n",
      " average_pooling1d (AverageP  (None, 3, 64)            0         \n",
      " ooling1D)                                                       \n",
      "                                                                 \n",
      " flatten (Flatten)           (None, 192)               0         \n",
      "                                                                 \n",
      " dense (Dense)               (None, 8)                 1544      \n",
      "                                                                 \n",
      " dense_1 (Dense)             (None, 1)                 9         \n",
      "                                                                 \n",
      "=================================================================\n",
      "Total params: 179,629\n",
      "Trainable params: 179,629\n",
      "Non-trainable params: 0\n",
      "_________________________________________________________________\n"
     ]
    }
   ],
   "source": [
    "model = keras.models.Sequential([\n",
    "    keras.layers.GRU(100, return_sequences=True, input_shape=[None, x_shaped.shape[2]]),\n",
    "    keras.layers.GRU(144, return_sequences=True, activation='relu'),\n",
    "    keras.layers.Reshape(target_shape=(12,12)),\n",
    "    keras.layers.Conv1D(filters=128, kernel_size=4, strides=1, padding='same',activation='relu'),\n",
    "    keras.layers.Conv1D(filters=64, kernel_size=4, padding='same', activation='relu'),\n",
    "    keras.layers.MaxPooling1D((2), strides=None),\n",
    "    keras.layers.AveragePooling1D(2),\n",
    "    keras.layers.Flatten(),\n",
    "    keras.layers.Dense(8, ),\n",
    "    keras.layers.Dense(1)\n",
    "])\n",
    "\n",
    "model.summary()"
   ]
  },
  {
   "cell_type": "code",
   "execution_count": 21,
   "metadata": {},
   "outputs": [],
   "source": [
    "\n",
    "cb = [keras.callbacks.ModelCheckpoint(\"best_model\", monitor='loss', save_best_only=True)]\n",
    "\n",
    "model.compile(optimizer=keras.optimizers.RMSprop(learning_rate=0.00010),  \n",
    "              loss='mse',\n",
    "              metrics=keras.metrics.RootMeanSquaredError()\n",
    "        )"
   ]
  },
  {
   "cell_type": "code",
   "execution_count": 23,
   "metadata": {},
   "outputs": [
    {
     "name": "stdout",
     "output_type": "stream",
     "text": [
      "Epoch 1/200\n",
      "1100/1110 [============================>.] - ETA: 0s - loss: 292.6717 - root_mean_squared_error: 17.1077"
     ]
    },
    {
     "name": "stderr",
     "output_type": "stream",
     "text": [
      "WARNING:absl:Found untraced functions such as gru_cell_layer_call_fn, gru_cell_layer_call_and_return_conditional_losses while saving (showing 2 of 2). These functions will not be directly callable after loading.\n"
     ]
    },
    {
     "name": "stdout",
     "output_type": "stream",
     "text": [
      "INFO:tensorflow:Assets written to: best_model\\assets\n"
     ]
    },
    {
     "name": "stderr",
     "output_type": "stream",
     "text": [
      "INFO:tensorflow:Assets written to: best_model\\assets\n",
      "WARNING:absl:<keras.layers.recurrent.GRUCell object at 0x0000022BCE4C1748> has the same name 'GRUCell' as a built-in Keras object. Consider renaming <class 'keras.layers.recurrent.GRUCell'> to avoid naming conflicts when loading with `tf.keras.models.load_model`. If renaming is not possible, pass the object in the `custom_objects` parameter of the load function.\n",
      "WARNING:absl:<keras.layers.recurrent.GRUCell object at 0x0000022BCE54D988> has the same name 'GRUCell' as a built-in Keras object. Consider renaming <class 'keras.layers.recurrent.GRUCell'> to avoid naming conflicts when loading with `tf.keras.models.load_model`. If renaming is not possible, pass the object in the `custom_objects` parameter of the load function.\n"
     ]
    },
    {
     "name": "stdout",
     "output_type": "stream",
     "text": [
      "1110/1110 [==============================] - 9s 8ms/step - loss: 291.9434 - root_mean_squared_error: 17.0864\n",
      "Epoch 2/200\n",
      "1102/1110 [============================>.] - ETA: 0s - loss: 280.6763 - root_mean_squared_error: 16.7534"
     ]
    },
    {
     "name": "stderr",
     "output_type": "stream",
     "text": [
      "WARNING:absl:Found untraced functions such as gru_cell_layer_call_fn, gru_cell_layer_call_and_return_conditional_losses while saving (showing 2 of 2). These functions will not be directly callable after loading.\n"
     ]
    },
    {
     "name": "stdout",
     "output_type": "stream",
     "text": [
      "INFO:tensorflow:Assets written to: best_model\\assets\n"
     ]
    },
    {
     "name": "stderr",
     "output_type": "stream",
     "text": [
      "INFO:tensorflow:Assets written to: best_model\\assets\n",
      "WARNING:absl:<keras.layers.recurrent.GRUCell object at 0x0000022BCE4C1748> has the same name 'GRUCell' as a built-in Keras object. Consider renaming <class 'keras.layers.recurrent.GRUCell'> to avoid naming conflicts when loading with `tf.keras.models.load_model`. If renaming is not possible, pass the object in the `custom_objects` parameter of the load function.\n",
      "WARNING:absl:<keras.layers.recurrent.GRUCell object at 0x0000022BCE54D988> has the same name 'GRUCell' as a built-in Keras object. Consider renaming <class 'keras.layers.recurrent.GRUCell'> to avoid naming conflicts when loading with `tf.keras.models.load_model`. If renaming is not possible, pass the object in the `custom_objects` parameter of the load function.\n"
     ]
    },
    {
     "name": "stdout",
     "output_type": "stream",
     "text": [
      "1110/1110 [==============================] - 9s 8ms/step - loss: 280.6307 - root_mean_squared_error: 16.7520\n",
      "Epoch 3/200\n",
      "1103/1110 [============================>.] - ETA: 0s - loss: 270.2235 - root_mean_squared_error: 16.4385"
     ]
    },
    {
     "name": "stderr",
     "output_type": "stream",
     "text": [
      "WARNING:absl:Found untraced functions such as gru_cell_layer_call_fn, gru_cell_layer_call_and_return_conditional_losses while saving (showing 2 of 2). These functions will not be directly callable after loading.\n"
     ]
    },
    {
     "name": "stdout",
     "output_type": "stream",
     "text": [
      "INFO:tensorflow:Assets written to: best_model\\assets\n"
     ]
    },
    {
     "name": "stderr",
     "output_type": "stream",
     "text": [
      "INFO:tensorflow:Assets written to: best_model\\assets\n",
      "WARNING:absl:<keras.layers.recurrent.GRUCell object at 0x0000022BCE4C1748> has the same name 'GRUCell' as a built-in Keras object. Consider renaming <class 'keras.layers.recurrent.GRUCell'> to avoid naming conflicts when loading with `tf.keras.models.load_model`. If renaming is not possible, pass the object in the `custom_objects` parameter of the load function.\n",
      "WARNING:absl:<keras.layers.recurrent.GRUCell object at 0x0000022BCE54D988> has the same name 'GRUCell' as a built-in Keras object. Consider renaming <class 'keras.layers.recurrent.GRUCell'> to avoid naming conflicts when loading with `tf.keras.models.load_model`. If renaming is not possible, pass the object in the `custom_objects` parameter of the load function.\n"
     ]
    },
    {
     "name": "stdout",
     "output_type": "stream",
     "text": [
      "1110/1110 [==============================] - 9s 8ms/step - loss: 270.8605 - root_mean_squared_error: 16.4578\n",
      "Epoch 4/200\n",
      "1104/1110 [============================>.] - ETA: 0s - loss: 261.4247 - root_mean_squared_error: 16.1686"
     ]
    },
    {
     "name": "stderr",
     "output_type": "stream",
     "text": [
      "WARNING:absl:Found untraced functions such as gru_cell_layer_call_fn, gru_cell_layer_call_and_return_conditional_losses while saving (showing 2 of 2). These functions will not be directly callable after loading.\n"
     ]
    },
    {
     "name": "stdout",
     "output_type": "stream",
     "text": [
      "INFO:tensorflow:Assets written to: best_model\\assets\n"
     ]
    },
    {
     "name": "stderr",
     "output_type": "stream",
     "text": [
      "INFO:tensorflow:Assets written to: best_model\\assets\n",
      "WARNING:absl:<keras.layers.recurrent.GRUCell object at 0x0000022BCE4C1748> has the same name 'GRUCell' as a built-in Keras object. Consider renaming <class 'keras.layers.recurrent.GRUCell'> to avoid naming conflicts when loading with `tf.keras.models.load_model`. If renaming is not possible, pass the object in the `custom_objects` parameter of the load function.\n",
      "WARNING:absl:<keras.layers.recurrent.GRUCell object at 0x0000022BCE54D988> has the same name 'GRUCell' as a built-in Keras object. Consider renaming <class 'keras.layers.recurrent.GRUCell'> to avoid naming conflicts when loading with `tf.keras.models.load_model`. If renaming is not possible, pass the object in the `custom_objects` parameter of the load function.\n"
     ]
    },
    {
     "name": "stdout",
     "output_type": "stream",
     "text": [
      "1110/1110 [==============================] - 9s 8ms/step - loss: 261.6318 - root_mean_squared_error: 16.1750\n",
      "Epoch 5/200\n",
      "1110/1110 [==============================] - ETA: 0s - loss: 253.6142 - root_mean_squared_error: 15.9253"
     ]
    },
    {
     "name": "stderr",
     "output_type": "stream",
     "text": [
      "WARNING:absl:Found untraced functions such as gru_cell_layer_call_fn, gru_cell_layer_call_and_return_conditional_losses while saving (showing 2 of 2). These functions will not be directly callable after loading.\n"
     ]
    },
    {
     "name": "stdout",
     "output_type": "stream",
     "text": [
      "INFO:tensorflow:Assets written to: best_model\\assets\n"
     ]
    },
    {
     "name": "stderr",
     "output_type": "stream",
     "text": [
      "INFO:tensorflow:Assets written to: best_model\\assets\n",
      "WARNING:absl:<keras.layers.recurrent.GRUCell object at 0x0000022BCE4C1748> has the same name 'GRUCell' as a built-in Keras object. Consider renaming <class 'keras.layers.recurrent.GRUCell'> to avoid naming conflicts when loading with `tf.keras.models.load_model`. If renaming is not possible, pass the object in the `custom_objects` parameter of the load function.\n",
      "WARNING:absl:<keras.layers.recurrent.GRUCell object at 0x0000022BCE54D988> has the same name 'GRUCell' as a built-in Keras object. Consider renaming <class 'keras.layers.recurrent.GRUCell'> to avoid naming conflicts when loading with `tf.keras.models.load_model`. If renaming is not possible, pass the object in the `custom_objects` parameter of the load function.\n"
     ]
    },
    {
     "name": "stdout",
     "output_type": "stream",
     "text": [
      "1110/1110 [==============================] - 9s 8ms/step - loss: 253.6142 - root_mean_squared_error: 15.9253\n",
      "Epoch 6/200\n",
      "1100/1110 [============================>.] - ETA: 0s - loss: 246.5467 - root_mean_squared_error: 15.7018"
     ]
    },
    {
     "name": "stderr",
     "output_type": "stream",
     "text": [
      "WARNING:absl:Found untraced functions such as gru_cell_layer_call_fn, gru_cell_layer_call_and_return_conditional_losses while saving (showing 2 of 2). These functions will not be directly callable after loading.\n"
     ]
    },
    {
     "name": "stdout",
     "output_type": "stream",
     "text": [
      "INFO:tensorflow:Assets written to: best_model\\assets\n"
     ]
    },
    {
     "name": "stderr",
     "output_type": "stream",
     "text": [
      "INFO:tensorflow:Assets written to: best_model\\assets\n",
      "WARNING:absl:<keras.layers.recurrent.GRUCell object at 0x0000022BCE4C1748> has the same name 'GRUCell' as a built-in Keras object. Consider renaming <class 'keras.layers.recurrent.GRUCell'> to avoid naming conflicts when loading with `tf.keras.models.load_model`. If renaming is not possible, pass the object in the `custom_objects` parameter of the load function.\n",
      "WARNING:absl:<keras.layers.recurrent.GRUCell object at 0x0000022BCE54D988> has the same name 'GRUCell' as a built-in Keras object. Consider renaming <class 'keras.layers.recurrent.GRUCell'> to avoid naming conflicts when loading with `tf.keras.models.load_model`. If renaming is not possible, pass the object in the `custom_objects` parameter of the load function.\n"
     ]
    },
    {
     "name": "stdout",
     "output_type": "stream",
     "text": [
      "1110/1110 [==============================] - 9s 8ms/step - loss: 246.3600 - root_mean_squared_error: 15.6959\n",
      "Epoch 7/200\n",
      "1105/1110 [============================>.] - ETA: 0s - loss: 241.0624 - root_mean_squared_error: 15.5262"
     ]
    },
    {
     "name": "stderr",
     "output_type": "stream",
     "text": [
      "WARNING:absl:Found untraced functions such as gru_cell_layer_call_fn, gru_cell_layer_call_and_return_conditional_losses while saving (showing 2 of 2). These functions will not be directly callable after loading.\n"
     ]
    },
    {
     "name": "stdout",
     "output_type": "stream",
     "text": [
      "INFO:tensorflow:Assets written to: best_model\\assets\n"
     ]
    },
    {
     "name": "stderr",
     "output_type": "stream",
     "text": [
      "INFO:tensorflow:Assets written to: best_model\\assets\n",
      "WARNING:absl:<keras.layers.recurrent.GRUCell object at 0x0000022BCE4C1748> has the same name 'GRUCell' as a built-in Keras object. Consider renaming <class 'keras.layers.recurrent.GRUCell'> to avoid naming conflicts when loading with `tf.keras.models.load_model`. If renaming is not possible, pass the object in the `custom_objects` parameter of the load function.\n",
      "WARNING:absl:<keras.layers.recurrent.GRUCell object at 0x0000022BCE54D988> has the same name 'GRUCell' as a built-in Keras object. Consider renaming <class 'keras.layers.recurrent.GRUCell'> to avoid naming conflicts when loading with `tf.keras.models.load_model`. If renaming is not possible, pass the object in the `custom_objects` parameter of the load function.\n"
     ]
    },
    {
     "name": "stdout",
     "output_type": "stream",
     "text": [
      "1110/1110 [==============================] - 9s 8ms/step - loss: 240.8302 - root_mean_squared_error: 15.5187\n",
      "Epoch 8/200\n",
      "1109/1110 [============================>.] - ETA: 0s - loss: 234.3431 - root_mean_squared_error: 15.3083"
     ]
    },
    {
     "name": "stderr",
     "output_type": "stream",
     "text": [
      "WARNING:absl:Found untraced functions such as gru_cell_layer_call_fn, gru_cell_layer_call_and_return_conditional_losses while saving (showing 2 of 2). These functions will not be directly callable after loading.\n"
     ]
    },
    {
     "name": "stdout",
     "output_type": "stream",
     "text": [
      "INFO:tensorflow:Assets written to: best_model\\assets\n"
     ]
    },
    {
     "name": "stderr",
     "output_type": "stream",
     "text": [
      "INFO:tensorflow:Assets written to: best_model\\assets\n",
      "WARNING:absl:<keras.layers.recurrent.GRUCell object at 0x0000022BCE4C1748> has the same name 'GRUCell' as a built-in Keras object. Consider renaming <class 'keras.layers.recurrent.GRUCell'> to avoid naming conflicts when loading with `tf.keras.models.load_model`. If renaming is not possible, pass the object in the `custom_objects` parameter of the load function.\n",
      "WARNING:absl:<keras.layers.recurrent.GRUCell object at 0x0000022BCE54D988> has the same name 'GRUCell' as a built-in Keras object. Consider renaming <class 'keras.layers.recurrent.GRUCell'> to avoid naming conflicts when loading with `tf.keras.models.load_model`. If renaming is not possible, pass the object in the `custom_objects` parameter of the load function.\n"
     ]
    },
    {
     "name": "stdout",
     "output_type": "stream",
     "text": [
      "1110/1110 [==============================] - 9s 8ms/step - loss: 234.3888 - root_mean_squared_error: 15.3098\n",
      "Epoch 9/200\n",
      "1103/1110 [============================>.] - ETA: 0s - loss: 228.5052 - root_mean_squared_error: 15.1164"
     ]
    },
    {
     "name": "stderr",
     "output_type": "stream",
     "text": [
      "WARNING:absl:Found untraced functions such as gru_cell_layer_call_fn, gru_cell_layer_call_and_return_conditional_losses while saving (showing 2 of 2). These functions will not be directly callable after loading.\n"
     ]
    },
    {
     "name": "stdout",
     "output_type": "stream",
     "text": [
      "INFO:tensorflow:Assets written to: best_model\\assets\n"
     ]
    },
    {
     "name": "stderr",
     "output_type": "stream",
     "text": [
      "INFO:tensorflow:Assets written to: best_model\\assets\n",
      "WARNING:absl:<keras.layers.recurrent.GRUCell object at 0x0000022BCE4C1748> has the same name 'GRUCell' as a built-in Keras object. Consider renaming <class 'keras.layers.recurrent.GRUCell'> to avoid naming conflicts when loading with `tf.keras.models.load_model`. If renaming is not possible, pass the object in the `custom_objects` parameter of the load function.\n",
      "WARNING:absl:<keras.layers.recurrent.GRUCell object at 0x0000022BCE54D988> has the same name 'GRUCell' as a built-in Keras object. Consider renaming <class 'keras.layers.recurrent.GRUCell'> to avoid naming conflicts when loading with `tf.keras.models.load_model`. If renaming is not possible, pass the object in the `custom_objects` parameter of the load function.\n"
     ]
    },
    {
     "name": "stdout",
     "output_type": "stream",
     "text": [
      "1110/1110 [==============================] - 9s 8ms/step - loss: 228.5848 - root_mean_squared_error: 15.1190\n",
      "Epoch 10/200\n",
      "1105/1110 [============================>.] - ETA: 0s - loss: 224.1118 - root_mean_squared_error: 14.9704"
     ]
    },
    {
     "name": "stderr",
     "output_type": "stream",
     "text": [
      "WARNING:absl:Found untraced functions such as gru_cell_layer_call_fn, gru_cell_layer_call_and_return_conditional_losses while saving (showing 2 of 2). These functions will not be directly callable after loading.\n"
     ]
    },
    {
     "name": "stdout",
     "output_type": "stream",
     "text": [
      "INFO:tensorflow:Assets written to: best_model\\assets\n"
     ]
    },
    {
     "name": "stderr",
     "output_type": "stream",
     "text": [
      "INFO:tensorflow:Assets written to: best_model\\assets\n",
      "WARNING:absl:<keras.layers.recurrent.GRUCell object at 0x0000022BCE4C1748> has the same name 'GRUCell' as a built-in Keras object. Consider renaming <class 'keras.layers.recurrent.GRUCell'> to avoid naming conflicts when loading with `tf.keras.models.load_model`. If renaming is not possible, pass the object in the `custom_objects` parameter of the load function.\n",
      "WARNING:absl:<keras.layers.recurrent.GRUCell object at 0x0000022BCE54D988> has the same name 'GRUCell' as a built-in Keras object. Consider renaming <class 'keras.layers.recurrent.GRUCell'> to avoid naming conflicts when loading with `tf.keras.models.load_model`. If renaming is not possible, pass the object in the `custom_objects` parameter of the load function.\n"
     ]
    },
    {
     "name": "stdout",
     "output_type": "stream",
     "text": [
      "1110/1110 [==============================] - 9s 8ms/step - loss: 224.2009 - root_mean_squared_error: 14.9733\n",
      "Epoch 11/200\n",
      "1107/1110 [============================>.] - ETA: 0s - loss: 218.1440 - root_mean_squared_error: 14.7697"
     ]
    },
    {
     "name": "stderr",
     "output_type": "stream",
     "text": [
      "WARNING:absl:Found untraced functions such as gru_cell_layer_call_fn, gru_cell_layer_call_and_return_conditional_losses while saving (showing 2 of 2). These functions will not be directly callable after loading.\n"
     ]
    },
    {
     "name": "stdout",
     "output_type": "stream",
     "text": [
      "INFO:tensorflow:Assets written to: best_model\\assets\n"
     ]
    },
    {
     "name": "stderr",
     "output_type": "stream",
     "text": [
      "INFO:tensorflow:Assets written to: best_model\\assets\n",
      "WARNING:absl:<keras.layers.recurrent.GRUCell object at 0x0000022BCE4C1748> has the same name 'GRUCell' as a built-in Keras object. Consider renaming <class 'keras.layers.recurrent.GRUCell'> to avoid naming conflicts when loading with `tf.keras.models.load_model`. If renaming is not possible, pass the object in the `custom_objects` parameter of the load function.\n",
      "WARNING:absl:<keras.layers.recurrent.GRUCell object at 0x0000022BCE54D988> has the same name 'GRUCell' as a built-in Keras object. Consider renaming <class 'keras.layers.recurrent.GRUCell'> to avoid naming conflicts when loading with `tf.keras.models.load_model`. If renaming is not possible, pass the object in the `custom_objects` parameter of the load function.\n"
     ]
    },
    {
     "name": "stdout",
     "output_type": "stream",
     "text": [
      "1110/1110 [==============================] - 10s 9ms/step - loss: 218.1411 - root_mean_squared_error: 14.7696\n",
      "Epoch 12/200\n",
      "1100/1110 [============================>.] - ETA: 0s - loss: 213.3200 - root_mean_squared_error: 14.6055"
     ]
    },
    {
     "name": "stderr",
     "output_type": "stream",
     "text": [
      "WARNING:absl:Found untraced functions such as gru_cell_layer_call_fn, gru_cell_layer_call_and_return_conditional_losses while saving (showing 2 of 2). These functions will not be directly callable after loading.\n"
     ]
    },
    {
     "name": "stdout",
     "output_type": "stream",
     "text": [
      "INFO:tensorflow:Assets written to: best_model\\assets\n"
     ]
    },
    {
     "name": "stderr",
     "output_type": "stream",
     "text": [
      "INFO:tensorflow:Assets written to: best_model\\assets\n",
      "WARNING:absl:<keras.layers.recurrent.GRUCell object at 0x0000022BCE4C1748> has the same name 'GRUCell' as a built-in Keras object. Consider renaming <class 'keras.layers.recurrent.GRUCell'> to avoid naming conflicts when loading with `tf.keras.models.load_model`. If renaming is not possible, pass the object in the `custom_objects` parameter of the load function.\n",
      "WARNING:absl:<keras.layers.recurrent.GRUCell object at 0x0000022BCE54D988> has the same name 'GRUCell' as a built-in Keras object. Consider renaming <class 'keras.layers.recurrent.GRUCell'> to avoid naming conflicts when loading with `tf.keras.models.load_model`. If renaming is not possible, pass the object in the `custom_objects` parameter of the load function.\n"
     ]
    },
    {
     "name": "stdout",
     "output_type": "stream",
     "text": [
      "1110/1110 [==============================] - 9s 8ms/step - loss: 213.4000 - root_mean_squared_error: 14.6082\n",
      "Epoch 13/200\n",
      "1110/1110 [==============================] - ETA: 0s - loss: 209.5497 - root_mean_squared_error: 14.4758"
     ]
    },
    {
     "name": "stderr",
     "output_type": "stream",
     "text": [
      "WARNING:absl:Found untraced functions such as gru_cell_layer_call_fn, gru_cell_layer_call_and_return_conditional_losses while saving (showing 2 of 2). These functions will not be directly callable after loading.\n"
     ]
    },
    {
     "name": "stdout",
     "output_type": "stream",
     "text": [
      "INFO:tensorflow:Assets written to: best_model\\assets\n"
     ]
    },
    {
     "name": "stderr",
     "output_type": "stream",
     "text": [
      "INFO:tensorflow:Assets written to: best_model\\assets\n",
      "WARNING:absl:<keras.layers.recurrent.GRUCell object at 0x0000022BCE4C1748> has the same name 'GRUCell' as a built-in Keras object. Consider renaming <class 'keras.layers.recurrent.GRUCell'> to avoid naming conflicts when loading with `tf.keras.models.load_model`. If renaming is not possible, pass the object in the `custom_objects` parameter of the load function.\n",
      "WARNING:absl:<keras.layers.recurrent.GRUCell object at 0x0000022BCE54D988> has the same name 'GRUCell' as a built-in Keras object. Consider renaming <class 'keras.layers.recurrent.GRUCell'> to avoid naming conflicts when loading with `tf.keras.models.load_model`. If renaming is not possible, pass the object in the `custom_objects` parameter of the load function.\n"
     ]
    },
    {
     "name": "stdout",
     "output_type": "stream",
     "text": [
      "1110/1110 [==============================] - 9s 8ms/step - loss: 209.5497 - root_mean_squared_error: 14.4758\n",
      "Epoch 14/200\n",
      "1107/1110 [============================>.] - ETA: 0s - loss: 205.0998 - root_mean_squared_error: 14.3213"
     ]
    },
    {
     "name": "stderr",
     "output_type": "stream",
     "text": [
      "WARNING:absl:Found untraced functions such as gru_cell_layer_call_fn, gru_cell_layer_call_and_return_conditional_losses while saving (showing 2 of 2). These functions will not be directly callable after loading.\n"
     ]
    },
    {
     "name": "stdout",
     "output_type": "stream",
     "text": [
      "INFO:tensorflow:Assets written to: best_model\\assets\n"
     ]
    },
    {
     "name": "stderr",
     "output_type": "stream",
     "text": [
      "INFO:tensorflow:Assets written to: best_model\\assets\n",
      "WARNING:absl:<keras.layers.recurrent.GRUCell object at 0x0000022BCE4C1748> has the same name 'GRUCell' as a built-in Keras object. Consider renaming <class 'keras.layers.recurrent.GRUCell'> to avoid naming conflicts when loading with `tf.keras.models.load_model`. If renaming is not possible, pass the object in the `custom_objects` parameter of the load function.\n",
      "WARNING:absl:<keras.layers.recurrent.GRUCell object at 0x0000022BCE54D988> has the same name 'GRUCell' as a built-in Keras object. Consider renaming <class 'keras.layers.recurrent.GRUCell'> to avoid naming conflicts when loading with `tf.keras.models.load_model`. If renaming is not possible, pass the object in the `custom_objects` parameter of the load function.\n"
     ]
    },
    {
     "name": "stdout",
     "output_type": "stream",
     "text": [
      "1110/1110 [==============================] - 9s 8ms/step - loss: 205.1698 - root_mean_squared_error: 14.3238\n",
      "Epoch 15/200\n",
      "1106/1110 [============================>.] - ETA: 0s - loss: 201.8830 - root_mean_squared_error: 14.2086"
     ]
    },
    {
     "name": "stderr",
     "output_type": "stream",
     "text": [
      "WARNING:absl:Found untraced functions such as gru_cell_layer_call_fn, gru_cell_layer_call_and_return_conditional_losses while saving (showing 2 of 2). These functions will not be directly callable after loading.\n"
     ]
    },
    {
     "name": "stdout",
     "output_type": "stream",
     "text": [
      "INFO:tensorflow:Assets written to: best_model\\assets\n"
     ]
    },
    {
     "name": "stderr",
     "output_type": "stream",
     "text": [
      "INFO:tensorflow:Assets written to: best_model\\assets\n",
      "WARNING:absl:<keras.layers.recurrent.GRUCell object at 0x0000022BCE4C1748> has the same name 'GRUCell' as a built-in Keras object. Consider renaming <class 'keras.layers.recurrent.GRUCell'> to avoid naming conflicts when loading with `tf.keras.models.load_model`. If renaming is not possible, pass the object in the `custom_objects` parameter of the load function.\n",
      "WARNING:absl:<keras.layers.recurrent.GRUCell object at 0x0000022BCE54D988> has the same name 'GRUCell' as a built-in Keras object. Consider renaming <class 'keras.layers.recurrent.GRUCell'> to avoid naming conflicts when loading with `tf.keras.models.load_model`. If renaming is not possible, pass the object in the `custom_objects` parameter of the load function.\n"
     ]
    },
    {
     "name": "stdout",
     "output_type": "stream",
     "text": [
      "1110/1110 [==============================] - 9s 9ms/step - loss: 202.1093 - root_mean_squared_error: 14.2165\n",
      "Epoch 16/200\n",
      "1107/1110 [============================>.] - ETA: 0s - loss: 198.0182 - root_mean_squared_error: 14.0719"
     ]
    },
    {
     "name": "stderr",
     "output_type": "stream",
     "text": [
      "WARNING:absl:Found untraced functions such as gru_cell_layer_call_fn, gru_cell_layer_call_and_return_conditional_losses while saving (showing 2 of 2). These functions will not be directly callable after loading.\n"
     ]
    },
    {
     "name": "stdout",
     "output_type": "stream",
     "text": [
      "INFO:tensorflow:Assets written to: best_model\\assets\n"
     ]
    },
    {
     "name": "stderr",
     "output_type": "stream",
     "text": [
      "INFO:tensorflow:Assets written to: best_model\\assets\n",
      "WARNING:absl:<keras.layers.recurrent.GRUCell object at 0x0000022BCE4C1748> has the same name 'GRUCell' as a built-in Keras object. Consider renaming <class 'keras.layers.recurrent.GRUCell'> to avoid naming conflicts when loading with `tf.keras.models.load_model`. If renaming is not possible, pass the object in the `custom_objects` parameter of the load function.\n",
      "WARNING:absl:<keras.layers.recurrent.GRUCell object at 0x0000022BCE54D988> has the same name 'GRUCell' as a built-in Keras object. Consider renaming <class 'keras.layers.recurrent.GRUCell'> to avoid naming conflicts when loading with `tf.keras.models.load_model`. If renaming is not possible, pass the object in the `custom_objects` parameter of the load function.\n"
     ]
    },
    {
     "name": "stdout",
     "output_type": "stream",
     "text": [
      "1110/1110 [==============================] - 10s 9ms/step - loss: 198.2236 - root_mean_squared_error: 14.0792\n",
      "Epoch 17/200\n",
      "1101/1110 [============================>.] - ETA: 0s - loss: 194.6237 - root_mean_squared_error: 13.9508"
     ]
    },
    {
     "name": "stderr",
     "output_type": "stream",
     "text": [
      "WARNING:absl:Found untraced functions such as gru_cell_layer_call_fn, gru_cell_layer_call_and_return_conditional_losses while saving (showing 2 of 2). These functions will not be directly callable after loading.\n"
     ]
    },
    {
     "name": "stdout",
     "output_type": "stream",
     "text": [
      "INFO:tensorflow:Assets written to: best_model\\assets\n"
     ]
    },
    {
     "name": "stderr",
     "output_type": "stream",
     "text": [
      "INFO:tensorflow:Assets written to: best_model\\assets\n",
      "WARNING:absl:<keras.layers.recurrent.GRUCell object at 0x0000022BCE4C1748> has the same name 'GRUCell' as a built-in Keras object. Consider renaming <class 'keras.layers.recurrent.GRUCell'> to avoid naming conflicts when loading with `tf.keras.models.load_model`. If renaming is not possible, pass the object in the `custom_objects` parameter of the load function.\n",
      "WARNING:absl:<keras.layers.recurrent.GRUCell object at 0x0000022BCE54D988> has the same name 'GRUCell' as a built-in Keras object. Consider renaming <class 'keras.layers.recurrent.GRUCell'> to avoid naming conflicts when loading with `tf.keras.models.load_model`. If renaming is not possible, pass the object in the `custom_objects` parameter of the load function.\n"
     ]
    },
    {
     "name": "stdout",
     "output_type": "stream",
     "text": [
      "1110/1110 [==============================] - 10s 9ms/step - loss: 194.4284 - root_mean_squared_error: 13.9438\n",
      "Epoch 18/200\n",
      "1108/1110 [============================>.] - ETA: 0s - loss: 191.2400 - root_mean_squared_error: 13.8290"
     ]
    },
    {
     "name": "stderr",
     "output_type": "stream",
     "text": [
      "WARNING:absl:Found untraced functions such as gru_cell_layer_call_fn, gru_cell_layer_call_and_return_conditional_losses while saving (showing 2 of 2). These functions will not be directly callable after loading.\n"
     ]
    },
    {
     "name": "stdout",
     "output_type": "stream",
     "text": [
      "INFO:tensorflow:Assets written to: best_model\\assets\n"
     ]
    },
    {
     "name": "stderr",
     "output_type": "stream",
     "text": [
      "INFO:tensorflow:Assets written to: best_model\\assets\n",
      "WARNING:absl:<keras.layers.recurrent.GRUCell object at 0x0000022BCE4C1748> has the same name 'GRUCell' as a built-in Keras object. Consider renaming <class 'keras.layers.recurrent.GRUCell'> to avoid naming conflicts when loading with `tf.keras.models.load_model`. If renaming is not possible, pass the object in the `custom_objects` parameter of the load function.\n",
      "WARNING:absl:<keras.layers.recurrent.GRUCell object at 0x0000022BCE54D988> has the same name 'GRUCell' as a built-in Keras object. Consider renaming <class 'keras.layers.recurrent.GRUCell'> to avoid naming conflicts when loading with `tf.keras.models.load_model`. If renaming is not possible, pass the object in the `custom_objects` parameter of the load function.\n"
     ]
    },
    {
     "name": "stdout",
     "output_type": "stream",
     "text": [
      "1110/1110 [==============================] - 9s 8ms/step - loss: 191.2692 - root_mean_squared_error: 13.8300\n",
      "Epoch 19/200\n",
      "1100/1110 [============================>.] - ETA: 0s - loss: 188.9768 - root_mean_squared_error: 13.7469"
     ]
    },
    {
     "name": "stderr",
     "output_type": "stream",
     "text": [
      "WARNING:absl:Found untraced functions such as gru_cell_layer_call_fn, gru_cell_layer_call_and_return_conditional_losses while saving (showing 2 of 2). These functions will not be directly callable after loading.\n"
     ]
    },
    {
     "name": "stdout",
     "output_type": "stream",
     "text": [
      "INFO:tensorflow:Assets written to: best_model\\assets\n"
     ]
    },
    {
     "name": "stderr",
     "output_type": "stream",
     "text": [
      "INFO:tensorflow:Assets written to: best_model\\assets\n",
      "WARNING:absl:<keras.layers.recurrent.GRUCell object at 0x0000022BCE4C1748> has the same name 'GRUCell' as a built-in Keras object. Consider renaming <class 'keras.layers.recurrent.GRUCell'> to avoid naming conflicts when loading with `tf.keras.models.load_model`. If renaming is not possible, pass the object in the `custom_objects` parameter of the load function.\n",
      "WARNING:absl:<keras.layers.recurrent.GRUCell object at 0x0000022BCE54D988> has the same name 'GRUCell' as a built-in Keras object. Consider renaming <class 'keras.layers.recurrent.GRUCell'> to avoid naming conflicts when loading with `tf.keras.models.load_model`. If renaming is not possible, pass the object in the `custom_objects` parameter of the load function.\n"
     ]
    },
    {
     "name": "stdout",
     "output_type": "stream",
     "text": [
      "1110/1110 [==============================] - 9s 8ms/step - loss: 188.9942 - root_mean_squared_error: 13.7475\n",
      "Epoch 20/200\n",
      "1109/1110 [============================>.] - ETA: 0s - loss: 185.8817 - root_mean_squared_error: 13.6338"
     ]
    },
    {
     "name": "stderr",
     "output_type": "stream",
     "text": [
      "WARNING:absl:Found untraced functions such as gru_cell_layer_call_fn, gru_cell_layer_call_and_return_conditional_losses while saving (showing 2 of 2). These functions will not be directly callable after loading.\n"
     ]
    },
    {
     "name": "stdout",
     "output_type": "stream",
     "text": [
      "INFO:tensorflow:Assets written to: best_model\\assets\n"
     ]
    },
    {
     "name": "stderr",
     "output_type": "stream",
     "text": [
      "INFO:tensorflow:Assets written to: best_model\\assets\n",
      "WARNING:absl:<keras.layers.recurrent.GRUCell object at 0x0000022BCE4C1748> has the same name 'GRUCell' as a built-in Keras object. Consider renaming <class 'keras.layers.recurrent.GRUCell'> to avoid naming conflicts when loading with `tf.keras.models.load_model`. If renaming is not possible, pass the object in the `custom_objects` parameter of the load function.\n",
      "WARNING:absl:<keras.layers.recurrent.GRUCell object at 0x0000022BCE54D988> has the same name 'GRUCell' as a built-in Keras object. Consider renaming <class 'keras.layers.recurrent.GRUCell'> to avoid naming conflicts when loading with `tf.keras.models.load_model`. If renaming is not possible, pass the object in the `custom_objects` parameter of the load function.\n"
     ]
    },
    {
     "name": "stdout",
     "output_type": "stream",
     "text": [
      "1110/1110 [==============================] - 10s 9ms/step - loss: 185.8603 - root_mean_squared_error: 13.6331\n",
      "Epoch 21/200\n",
      "1110/1110 [==============================] - ETA: 0s - loss: 183.0106 - root_mean_squared_error: 13.5281"
     ]
    },
    {
     "name": "stderr",
     "output_type": "stream",
     "text": [
      "WARNING:absl:Found untraced functions such as gru_cell_layer_call_fn, gru_cell_layer_call_and_return_conditional_losses while saving (showing 2 of 2). These functions will not be directly callable after loading.\n"
     ]
    },
    {
     "name": "stdout",
     "output_type": "stream",
     "text": [
      "INFO:tensorflow:Assets written to: best_model\\assets\n"
     ]
    },
    {
     "name": "stderr",
     "output_type": "stream",
     "text": [
      "INFO:tensorflow:Assets written to: best_model\\assets\n",
      "WARNING:absl:<keras.layers.recurrent.GRUCell object at 0x0000022BCE4C1748> has the same name 'GRUCell' as a built-in Keras object. Consider renaming <class 'keras.layers.recurrent.GRUCell'> to avoid naming conflicts when loading with `tf.keras.models.load_model`. If renaming is not possible, pass the object in the `custom_objects` parameter of the load function.\n",
      "WARNING:absl:<keras.layers.recurrent.GRUCell object at 0x0000022BCE54D988> has the same name 'GRUCell' as a built-in Keras object. Consider renaming <class 'keras.layers.recurrent.GRUCell'> to avoid naming conflicts when loading with `tf.keras.models.load_model`. If renaming is not possible, pass the object in the `custom_objects` parameter of the load function.\n"
     ]
    },
    {
     "name": "stdout",
     "output_type": "stream",
     "text": [
      "1110/1110 [==============================] - 10s 9ms/step - loss: 183.0106 - root_mean_squared_error: 13.5281\n",
      "Epoch 22/200\n",
      "1106/1110 [============================>.] - ETA: 0s - loss: 180.4086 - root_mean_squared_error: 13.4316"
     ]
    },
    {
     "name": "stderr",
     "output_type": "stream",
     "text": [
      "WARNING:absl:Found untraced functions such as gru_cell_layer_call_fn, gru_cell_layer_call_and_return_conditional_losses while saving (showing 2 of 2). These functions will not be directly callable after loading.\n"
     ]
    },
    {
     "name": "stdout",
     "output_type": "stream",
     "text": [
      "INFO:tensorflow:Assets written to: best_model\\assets\n"
     ]
    },
    {
     "name": "stderr",
     "output_type": "stream",
     "text": [
      "INFO:tensorflow:Assets written to: best_model\\assets\n",
      "WARNING:absl:<keras.layers.recurrent.GRUCell object at 0x0000022BCE4C1748> has the same name 'GRUCell' as a built-in Keras object. Consider renaming <class 'keras.layers.recurrent.GRUCell'> to avoid naming conflicts when loading with `tf.keras.models.load_model`. If renaming is not possible, pass the object in the `custom_objects` parameter of the load function.\n",
      "WARNING:absl:<keras.layers.recurrent.GRUCell object at 0x0000022BCE54D988> has the same name 'GRUCell' as a built-in Keras object. Consider renaming <class 'keras.layers.recurrent.GRUCell'> to avoid naming conflicts when loading with `tf.keras.models.load_model`. If renaming is not possible, pass the object in the `custom_objects` parameter of the load function.\n"
     ]
    },
    {
     "name": "stdout",
     "output_type": "stream",
     "text": [
      "1110/1110 [==============================] - 10s 9ms/step - loss: 180.3727 - root_mean_squared_error: 13.4303\n",
      "Epoch 23/200\n",
      "1104/1110 [============================>.] - ETA: 0s - loss: 179.2960 - root_mean_squared_error: 13.3901"
     ]
    },
    {
     "name": "stderr",
     "output_type": "stream",
     "text": [
      "WARNING:absl:Found untraced functions such as gru_cell_layer_call_fn, gru_cell_layer_call_and_return_conditional_losses while saving (showing 2 of 2). These functions will not be directly callable after loading.\n"
     ]
    },
    {
     "name": "stdout",
     "output_type": "stream",
     "text": [
      "INFO:tensorflow:Assets written to: best_model\\assets\n"
     ]
    },
    {
     "name": "stderr",
     "output_type": "stream",
     "text": [
      "INFO:tensorflow:Assets written to: best_model\\assets\n",
      "WARNING:absl:<keras.layers.recurrent.GRUCell object at 0x0000022BCE4C1748> has the same name 'GRUCell' as a built-in Keras object. Consider renaming <class 'keras.layers.recurrent.GRUCell'> to avoid naming conflicts when loading with `tf.keras.models.load_model`. If renaming is not possible, pass the object in the `custom_objects` parameter of the load function.\n",
      "WARNING:absl:<keras.layers.recurrent.GRUCell object at 0x0000022BCE54D988> has the same name 'GRUCell' as a built-in Keras object. Consider renaming <class 'keras.layers.recurrent.GRUCell'> to avoid naming conflicts when loading with `tf.keras.models.load_model`. If renaming is not possible, pass the object in the `custom_objects` parameter of the load function.\n"
     ]
    },
    {
     "name": "stdout",
     "output_type": "stream",
     "text": [
      "1110/1110 [==============================] - 9s 8ms/step - loss: 179.0007 - root_mean_squared_error: 13.3791\n",
      "Epoch 24/200\n",
      "1107/1110 [============================>.] - ETA: 0s - loss: 175.8498 - root_mean_squared_error: 13.2608"
     ]
    },
    {
     "name": "stderr",
     "output_type": "stream",
     "text": [
      "WARNING:absl:Found untraced functions such as gru_cell_layer_call_fn, gru_cell_layer_call_and_return_conditional_losses while saving (showing 2 of 2). These functions will not be directly callable after loading.\n"
     ]
    },
    {
     "name": "stdout",
     "output_type": "stream",
     "text": [
      "INFO:tensorflow:Assets written to: best_model\\assets\n"
     ]
    },
    {
     "name": "stderr",
     "output_type": "stream",
     "text": [
      "INFO:tensorflow:Assets written to: best_model\\assets\n",
      "WARNING:absl:<keras.layers.recurrent.GRUCell object at 0x0000022BCE4C1748> has the same name 'GRUCell' as a built-in Keras object. Consider renaming <class 'keras.layers.recurrent.GRUCell'> to avoid naming conflicts when loading with `tf.keras.models.load_model`. If renaming is not possible, pass the object in the `custom_objects` parameter of the load function.\n",
      "WARNING:absl:<keras.layers.recurrent.GRUCell object at 0x0000022BCE54D988> has the same name 'GRUCell' as a built-in Keras object. Consider renaming <class 'keras.layers.recurrent.GRUCell'> to avoid naming conflicts when loading with `tf.keras.models.load_model`. If renaming is not possible, pass the object in the `custom_objects` parameter of the load function.\n"
     ]
    },
    {
     "name": "stdout",
     "output_type": "stream",
     "text": [
      "1110/1110 [==============================] - 10s 9ms/step - loss: 175.8260 - root_mean_squared_error: 13.2599\n",
      "Epoch 25/200\n",
      "1109/1110 [============================>.] - ETA: 0s - loss: 173.9686 - root_mean_squared_error: 13.1897"
     ]
    },
    {
     "name": "stderr",
     "output_type": "stream",
     "text": [
      "WARNING:absl:Found untraced functions such as gru_cell_layer_call_fn, gru_cell_layer_call_and_return_conditional_losses while saving (showing 2 of 2). These functions will not be directly callable after loading.\n"
     ]
    },
    {
     "name": "stdout",
     "output_type": "stream",
     "text": [
      "INFO:tensorflow:Assets written to: best_model\\assets\n"
     ]
    },
    {
     "name": "stderr",
     "output_type": "stream",
     "text": [
      "INFO:tensorflow:Assets written to: best_model\\assets\n",
      "WARNING:absl:<keras.layers.recurrent.GRUCell object at 0x0000022BCE4C1748> has the same name 'GRUCell' as a built-in Keras object. Consider renaming <class 'keras.layers.recurrent.GRUCell'> to avoid naming conflicts when loading with `tf.keras.models.load_model`. If renaming is not possible, pass the object in the `custom_objects` parameter of the load function.\n",
      "WARNING:absl:<keras.layers.recurrent.GRUCell object at 0x0000022BCE54D988> has the same name 'GRUCell' as a built-in Keras object. Consider renaming <class 'keras.layers.recurrent.GRUCell'> to avoid naming conflicts when loading with `tf.keras.models.load_model`. If renaming is not possible, pass the object in the `custom_objects` parameter of the load function.\n"
     ]
    },
    {
     "name": "stdout",
     "output_type": "stream",
     "text": [
      "1110/1110 [==============================] - 9s 8ms/step - loss: 173.9452 - root_mean_squared_error: 13.1888\n",
      "Epoch 26/200\n",
      "1106/1110 [============================>.] - ETA: 0s - loss: 171.4812 - root_mean_squared_error: 13.0951"
     ]
    },
    {
     "name": "stderr",
     "output_type": "stream",
     "text": [
      "WARNING:absl:Found untraced functions such as gru_cell_layer_call_fn, gru_cell_layer_call_and_return_conditional_losses while saving (showing 2 of 2). These functions will not be directly callable after loading.\n"
     ]
    },
    {
     "name": "stdout",
     "output_type": "stream",
     "text": [
      "INFO:tensorflow:Assets written to: best_model\\assets\n"
     ]
    },
    {
     "name": "stderr",
     "output_type": "stream",
     "text": [
      "INFO:tensorflow:Assets written to: best_model\\assets\n",
      "WARNING:absl:<keras.layers.recurrent.GRUCell object at 0x0000022BCE4C1748> has the same name 'GRUCell' as a built-in Keras object. Consider renaming <class 'keras.layers.recurrent.GRUCell'> to avoid naming conflicts when loading with `tf.keras.models.load_model`. If renaming is not possible, pass the object in the `custom_objects` parameter of the load function.\n",
      "WARNING:absl:<keras.layers.recurrent.GRUCell object at 0x0000022BCE54D988> has the same name 'GRUCell' as a built-in Keras object. Consider renaming <class 'keras.layers.recurrent.GRUCell'> to avoid naming conflicts when loading with `tf.keras.models.load_model`. If renaming is not possible, pass the object in the `custom_objects` parameter of the load function.\n"
     ]
    },
    {
     "name": "stdout",
     "output_type": "stream",
     "text": [
      "1110/1110 [==============================] - 10s 9ms/step - loss: 171.6232 - root_mean_squared_error: 13.1005\n",
      "Epoch 27/200\n",
      "1103/1110 [============================>.] - ETA: 0s - loss: 169.1568 - root_mean_squared_error: 13.0060"
     ]
    },
    {
     "name": "stderr",
     "output_type": "stream",
     "text": [
      "WARNING:absl:Found untraced functions such as gru_cell_layer_call_fn, gru_cell_layer_call_and_return_conditional_losses while saving (showing 2 of 2). These functions will not be directly callable after loading.\n"
     ]
    },
    {
     "name": "stdout",
     "output_type": "stream",
     "text": [
      "INFO:tensorflow:Assets written to: best_model\\assets\n"
     ]
    },
    {
     "name": "stderr",
     "output_type": "stream",
     "text": [
      "INFO:tensorflow:Assets written to: best_model\\assets\n",
      "WARNING:absl:<keras.layers.recurrent.GRUCell object at 0x0000022BCE4C1748> has the same name 'GRUCell' as a built-in Keras object. Consider renaming <class 'keras.layers.recurrent.GRUCell'> to avoid naming conflicts when loading with `tf.keras.models.load_model`. If renaming is not possible, pass the object in the `custom_objects` parameter of the load function.\n",
      "WARNING:absl:<keras.layers.recurrent.GRUCell object at 0x0000022BCE54D988> has the same name 'GRUCell' as a built-in Keras object. Consider renaming <class 'keras.layers.recurrent.GRUCell'> to avoid naming conflicts when loading with `tf.keras.models.load_model`. If renaming is not possible, pass the object in the `custom_objects` parameter of the load function.\n"
     ]
    },
    {
     "name": "stdout",
     "output_type": "stream",
     "text": [
      "1110/1110 [==============================] - 9s 9ms/step - loss: 169.0794 - root_mean_squared_error: 13.0031\n",
      "Epoch 28/200\n",
      "1104/1110 [============================>.] - ETA: 0s - loss: 167.9475 - root_mean_squared_error: 12.9595"
     ]
    },
    {
     "name": "stderr",
     "output_type": "stream",
     "text": [
      "WARNING:absl:Found untraced functions such as gru_cell_layer_call_fn, gru_cell_layer_call_and_return_conditional_losses while saving (showing 2 of 2). These functions will not be directly callable after loading.\n"
     ]
    },
    {
     "name": "stdout",
     "output_type": "stream",
     "text": [
      "INFO:tensorflow:Assets written to: best_model\\assets\n"
     ]
    },
    {
     "name": "stderr",
     "output_type": "stream",
     "text": [
      "INFO:tensorflow:Assets written to: best_model\\assets\n",
      "WARNING:absl:<keras.layers.recurrent.GRUCell object at 0x0000022BCE4C1748> has the same name 'GRUCell' as a built-in Keras object. Consider renaming <class 'keras.layers.recurrent.GRUCell'> to avoid naming conflicts when loading with `tf.keras.models.load_model`. If renaming is not possible, pass the object in the `custom_objects` parameter of the load function.\n",
      "WARNING:absl:<keras.layers.recurrent.GRUCell object at 0x0000022BCE54D988> has the same name 'GRUCell' as a built-in Keras object. Consider renaming <class 'keras.layers.recurrent.GRUCell'> to avoid naming conflicts when loading with `tf.keras.models.load_model`. If renaming is not possible, pass the object in the `custom_objects` parameter of the load function.\n"
     ]
    },
    {
     "name": "stdout",
     "output_type": "stream",
     "text": [
      "1110/1110 [==============================] - 10s 9ms/step - loss: 167.9292 - root_mean_squared_error: 12.9588\n",
      "Epoch 29/200\n",
      "1102/1110 [============================>.] - ETA: 0s - loss: 166.0120 - root_mean_squared_error: 12.8846"
     ]
    },
    {
     "name": "stderr",
     "output_type": "stream",
     "text": [
      "WARNING:absl:Found untraced functions such as gru_cell_layer_call_fn, gru_cell_layer_call_and_return_conditional_losses while saving (showing 2 of 2). These functions will not be directly callable after loading.\n"
     ]
    },
    {
     "name": "stdout",
     "output_type": "stream",
     "text": [
      "INFO:tensorflow:Assets written to: best_model\\assets\n"
     ]
    },
    {
     "name": "stderr",
     "output_type": "stream",
     "text": [
      "INFO:tensorflow:Assets written to: best_model\\assets\n",
      "WARNING:absl:<keras.layers.recurrent.GRUCell object at 0x0000022BCE4C1748> has the same name 'GRUCell' as a built-in Keras object. Consider renaming <class 'keras.layers.recurrent.GRUCell'> to avoid naming conflicts when loading with `tf.keras.models.load_model`. If renaming is not possible, pass the object in the `custom_objects` parameter of the load function.\n",
      "WARNING:absl:<keras.layers.recurrent.GRUCell object at 0x0000022BCE54D988> has the same name 'GRUCell' as a built-in Keras object. Consider renaming <class 'keras.layers.recurrent.GRUCell'> to avoid naming conflicts when loading with `tf.keras.models.load_model`. If renaming is not possible, pass the object in the `custom_objects` parameter of the load function.\n"
     ]
    },
    {
     "name": "stdout",
     "output_type": "stream",
     "text": [
      "1110/1110 [==============================] - 10s 9ms/step - loss: 165.9583 - root_mean_squared_error: 12.8825\n",
      "Epoch 30/200\n",
      "1103/1110 [============================>.] - ETA: 0s - loss: 164.5161 - root_mean_squared_error: 12.8264"
     ]
    },
    {
     "name": "stderr",
     "output_type": "stream",
     "text": [
      "WARNING:absl:Found untraced functions such as gru_cell_layer_call_fn, gru_cell_layer_call_and_return_conditional_losses while saving (showing 2 of 2). These functions will not be directly callable after loading.\n"
     ]
    },
    {
     "name": "stdout",
     "output_type": "stream",
     "text": [
      "INFO:tensorflow:Assets written to: best_model\\assets\n"
     ]
    },
    {
     "name": "stderr",
     "output_type": "stream",
     "text": [
      "INFO:tensorflow:Assets written to: best_model\\assets\n",
      "WARNING:absl:<keras.layers.recurrent.GRUCell object at 0x0000022BCE4C1748> has the same name 'GRUCell' as a built-in Keras object. Consider renaming <class 'keras.layers.recurrent.GRUCell'> to avoid naming conflicts when loading with `tf.keras.models.load_model`. If renaming is not possible, pass the object in the `custom_objects` parameter of the load function.\n",
      "WARNING:absl:<keras.layers.recurrent.GRUCell object at 0x0000022BCE54D988> has the same name 'GRUCell' as a built-in Keras object. Consider renaming <class 'keras.layers.recurrent.GRUCell'> to avoid naming conflicts when loading with `tf.keras.models.load_model`. If renaming is not possible, pass the object in the `custom_objects` parameter of the load function.\n"
     ]
    },
    {
     "name": "stdout",
     "output_type": "stream",
     "text": [
      "1110/1110 [==============================] - 9s 9ms/step - loss: 164.7991 - root_mean_squared_error: 12.8374\n",
      "Epoch 31/200\n",
      "1103/1110 [============================>.] - ETA: 0s - loss: 162.1702 - root_mean_squared_error: 12.7346"
     ]
    },
    {
     "name": "stderr",
     "output_type": "stream",
     "text": [
      "WARNING:absl:Found untraced functions such as gru_cell_layer_call_fn, gru_cell_layer_call_and_return_conditional_losses while saving (showing 2 of 2). These functions will not be directly callable after loading.\n"
     ]
    },
    {
     "name": "stdout",
     "output_type": "stream",
     "text": [
      "INFO:tensorflow:Assets written to: best_model\\assets\n"
     ]
    },
    {
     "name": "stderr",
     "output_type": "stream",
     "text": [
      "INFO:tensorflow:Assets written to: best_model\\assets\n",
      "WARNING:absl:<keras.layers.recurrent.GRUCell object at 0x0000022BCE4C1748> has the same name 'GRUCell' as a built-in Keras object. Consider renaming <class 'keras.layers.recurrent.GRUCell'> to avoid naming conflicts when loading with `tf.keras.models.load_model`. If renaming is not possible, pass the object in the `custom_objects` parameter of the load function.\n",
      "WARNING:absl:<keras.layers.recurrent.GRUCell object at 0x0000022BCE54D988> has the same name 'GRUCell' as a built-in Keras object. Consider renaming <class 'keras.layers.recurrent.GRUCell'> to avoid naming conflicts when loading with `tf.keras.models.load_model`. If renaming is not possible, pass the object in the `custom_objects` parameter of the load function.\n"
     ]
    },
    {
     "name": "stdout",
     "output_type": "stream",
     "text": [
      "1110/1110 [==============================] - 10s 9ms/step - loss: 162.8932 - root_mean_squared_error: 12.7630\n",
      "Epoch 32/200\n",
      "1105/1110 [============================>.] - ETA: 0s - loss: 161.6641 - root_mean_squared_error: 12.7147"
     ]
    },
    {
     "name": "stderr",
     "output_type": "stream",
     "text": [
      "WARNING:absl:Found untraced functions such as gru_cell_layer_call_fn, gru_cell_layer_call_and_return_conditional_losses while saving (showing 2 of 2). These functions will not be directly callable after loading.\n"
     ]
    },
    {
     "name": "stdout",
     "output_type": "stream",
     "text": [
      "INFO:tensorflow:Assets written to: best_model\\assets\n"
     ]
    },
    {
     "name": "stderr",
     "output_type": "stream",
     "text": [
      "INFO:tensorflow:Assets written to: best_model\\assets\n",
      "WARNING:absl:<keras.layers.recurrent.GRUCell object at 0x0000022BCE4C1748> has the same name 'GRUCell' as a built-in Keras object. Consider renaming <class 'keras.layers.recurrent.GRUCell'> to avoid naming conflicts when loading with `tf.keras.models.load_model`. If renaming is not possible, pass the object in the `custom_objects` parameter of the load function.\n",
      "WARNING:absl:<keras.layers.recurrent.GRUCell object at 0x0000022BCE54D988> has the same name 'GRUCell' as a built-in Keras object. Consider renaming <class 'keras.layers.recurrent.GRUCell'> to avoid naming conflicts when loading with `tf.keras.models.load_model`. If renaming is not possible, pass the object in the `custom_objects` parameter of the load function.\n"
     ]
    },
    {
     "name": "stdout",
     "output_type": "stream",
     "text": [
      "1110/1110 [==============================] - 10s 9ms/step - loss: 161.4283 - root_mean_squared_error: 12.7054\n",
      "Epoch 33/200\n",
      "1105/1110 [============================>.] - ETA: 0s - loss: 159.5754 - root_mean_squared_error: 12.6323"
     ]
    },
    {
     "name": "stderr",
     "output_type": "stream",
     "text": [
      "WARNING:absl:Found untraced functions such as gru_cell_layer_call_fn, gru_cell_layer_call_and_return_conditional_losses while saving (showing 2 of 2). These functions will not be directly callable after loading.\n"
     ]
    },
    {
     "name": "stdout",
     "output_type": "stream",
     "text": [
      "INFO:tensorflow:Assets written to: best_model\\assets\n"
     ]
    },
    {
     "name": "stderr",
     "output_type": "stream",
     "text": [
      "INFO:tensorflow:Assets written to: best_model\\assets\n",
      "WARNING:absl:<keras.layers.recurrent.GRUCell object at 0x0000022BCE4C1748> has the same name 'GRUCell' as a built-in Keras object. Consider renaming <class 'keras.layers.recurrent.GRUCell'> to avoid naming conflicts when loading with `tf.keras.models.load_model`. If renaming is not possible, pass the object in the `custom_objects` parameter of the load function.\n",
      "WARNING:absl:<keras.layers.recurrent.GRUCell object at 0x0000022BCE54D988> has the same name 'GRUCell' as a built-in Keras object. Consider renaming <class 'keras.layers.recurrent.GRUCell'> to avoid naming conflicts when loading with `tf.keras.models.load_model`. If renaming is not possible, pass the object in the `custom_objects` parameter of the load function.\n"
     ]
    },
    {
     "name": "stdout",
     "output_type": "stream",
     "text": [
      "1110/1110 [==============================] - 10s 9ms/step - loss: 159.4161 - root_mean_squared_error: 12.6260\n",
      "Epoch 34/200\n",
      "1110/1110 [==============================] - ETA: 0s - loss: 158.1825 - root_mean_squared_error: 12.5771"
     ]
    },
    {
     "name": "stderr",
     "output_type": "stream",
     "text": [
      "WARNING:absl:Found untraced functions such as gru_cell_layer_call_fn, gru_cell_layer_call_and_return_conditional_losses while saving (showing 2 of 2). These functions will not be directly callable after loading.\n"
     ]
    },
    {
     "name": "stdout",
     "output_type": "stream",
     "text": [
      "INFO:tensorflow:Assets written to: best_model\\assets\n"
     ]
    },
    {
     "name": "stderr",
     "output_type": "stream",
     "text": [
      "INFO:tensorflow:Assets written to: best_model\\assets\n",
      "WARNING:absl:<keras.layers.recurrent.GRUCell object at 0x0000022BCE4C1748> has the same name 'GRUCell' as a built-in Keras object. Consider renaming <class 'keras.layers.recurrent.GRUCell'> to avoid naming conflicts when loading with `tf.keras.models.load_model`. If renaming is not possible, pass the object in the `custom_objects` parameter of the load function.\n",
      "WARNING:absl:<keras.layers.recurrent.GRUCell object at 0x0000022BCE54D988> has the same name 'GRUCell' as a built-in Keras object. Consider renaming <class 'keras.layers.recurrent.GRUCell'> to avoid naming conflicts when loading with `tf.keras.models.load_model`. If renaming is not possible, pass the object in the `custom_objects` parameter of the load function.\n"
     ]
    },
    {
     "name": "stdout",
     "output_type": "stream",
     "text": [
      "1110/1110 [==============================] - 9s 8ms/step - loss: 158.1825 - root_mean_squared_error: 12.5771\n",
      "Epoch 35/200\n",
      "1110/1110 [==============================] - ETA: 0s - loss: 156.4598 - root_mean_squared_error: 12.5084"
     ]
    },
    {
     "name": "stderr",
     "output_type": "stream",
     "text": [
      "WARNING:absl:Found untraced functions such as gru_cell_layer_call_fn, gru_cell_layer_call_and_return_conditional_losses while saving (showing 2 of 2). These functions will not be directly callable after loading.\n"
     ]
    },
    {
     "name": "stdout",
     "output_type": "stream",
     "text": [
      "INFO:tensorflow:Assets written to: best_model\\assets\n"
     ]
    },
    {
     "name": "stderr",
     "output_type": "stream",
     "text": [
      "INFO:tensorflow:Assets written to: best_model\\assets\n",
      "WARNING:absl:<keras.layers.recurrent.GRUCell object at 0x0000022BCE4C1748> has the same name 'GRUCell' as a built-in Keras object. Consider renaming <class 'keras.layers.recurrent.GRUCell'> to avoid naming conflicts when loading with `tf.keras.models.load_model`. If renaming is not possible, pass the object in the `custom_objects` parameter of the load function.\n",
      "WARNING:absl:<keras.layers.recurrent.GRUCell object at 0x0000022BCE54D988> has the same name 'GRUCell' as a built-in Keras object. Consider renaming <class 'keras.layers.recurrent.GRUCell'> to avoid naming conflicts when loading with `tf.keras.models.load_model`. If renaming is not possible, pass the object in the `custom_objects` parameter of the load function.\n"
     ]
    },
    {
     "name": "stdout",
     "output_type": "stream",
     "text": [
      "1110/1110 [==============================] - 9s 8ms/step - loss: 156.4598 - root_mean_squared_error: 12.5084\n",
      "Epoch 36/200\n",
      "1102/1110 [============================>.] - ETA: 0s - loss: 154.9874 - root_mean_squared_error: 12.4494"
     ]
    },
    {
     "name": "stderr",
     "output_type": "stream",
     "text": [
      "WARNING:absl:Found untraced functions such as gru_cell_layer_call_fn, gru_cell_layer_call_and_return_conditional_losses while saving (showing 2 of 2). These functions will not be directly callable after loading.\n"
     ]
    },
    {
     "name": "stdout",
     "output_type": "stream",
     "text": [
      "INFO:tensorflow:Assets written to: best_model\\assets\n"
     ]
    },
    {
     "name": "stderr",
     "output_type": "stream",
     "text": [
      "INFO:tensorflow:Assets written to: best_model\\assets\n",
      "WARNING:absl:<keras.layers.recurrent.GRUCell object at 0x0000022BCE4C1748> has the same name 'GRUCell' as a built-in Keras object. Consider renaming <class 'keras.layers.recurrent.GRUCell'> to avoid naming conflicts when loading with `tf.keras.models.load_model`. If renaming is not possible, pass the object in the `custom_objects` parameter of the load function.\n",
      "WARNING:absl:<keras.layers.recurrent.GRUCell object at 0x0000022BCE54D988> has the same name 'GRUCell' as a built-in Keras object. Consider renaming <class 'keras.layers.recurrent.GRUCell'> to avoid naming conflicts when loading with `tf.keras.models.load_model`. If renaming is not possible, pass the object in the `custom_objects` parameter of the load function.\n"
     ]
    },
    {
     "name": "stdout",
     "output_type": "stream",
     "text": [
      "1110/1110 [==============================] - 9s 9ms/step - loss: 155.0300 - root_mean_squared_error: 12.4511\n",
      "Epoch 37/200\n",
      "1109/1110 [============================>.] - ETA: 0s - loss: 153.8001 - root_mean_squared_error: 12.4016"
     ]
    },
    {
     "name": "stderr",
     "output_type": "stream",
     "text": [
      "WARNING:absl:Found untraced functions such as gru_cell_layer_call_fn, gru_cell_layer_call_and_return_conditional_losses while saving (showing 2 of 2). These functions will not be directly callable after loading.\n"
     ]
    },
    {
     "name": "stdout",
     "output_type": "stream",
     "text": [
      "INFO:tensorflow:Assets written to: best_model\\assets\n"
     ]
    },
    {
     "name": "stderr",
     "output_type": "stream",
     "text": [
      "INFO:tensorflow:Assets written to: best_model\\assets\n",
      "WARNING:absl:<keras.layers.recurrent.GRUCell object at 0x0000022BCE4C1748> has the same name 'GRUCell' as a built-in Keras object. Consider renaming <class 'keras.layers.recurrent.GRUCell'> to avoid naming conflicts when loading with `tf.keras.models.load_model`. If renaming is not possible, pass the object in the `custom_objects` parameter of the load function.\n",
      "WARNING:absl:<keras.layers.recurrent.GRUCell object at 0x0000022BCE54D988> has the same name 'GRUCell' as a built-in Keras object. Consider renaming <class 'keras.layers.recurrent.GRUCell'> to avoid naming conflicts when loading with `tf.keras.models.load_model`. If renaming is not possible, pass the object in the `custom_objects` parameter of the load function.\n"
     ]
    },
    {
     "name": "stdout",
     "output_type": "stream",
     "text": [
      "1110/1110 [==============================] - 9s 9ms/step - loss: 153.8396 - root_mean_squared_error: 12.4032\n",
      "Epoch 38/200\n",
      "1100/1110 [============================>.] - ETA: 0s - loss: 150.5920 - root_mean_squared_error: 12.2716"
     ]
    },
    {
     "name": "stderr",
     "output_type": "stream",
     "text": [
      "WARNING:absl:Found untraced functions such as gru_cell_layer_call_fn, gru_cell_layer_call_and_return_conditional_losses while saving (showing 2 of 2). These functions will not be directly callable after loading.\n"
     ]
    },
    {
     "name": "stdout",
     "output_type": "stream",
     "text": [
      "INFO:tensorflow:Assets written to: best_model\\assets\n"
     ]
    },
    {
     "name": "stderr",
     "output_type": "stream",
     "text": [
      "INFO:tensorflow:Assets written to: best_model\\assets\n",
      "WARNING:absl:<keras.layers.recurrent.GRUCell object at 0x0000022BCE4C1748> has the same name 'GRUCell' as a built-in Keras object. Consider renaming <class 'keras.layers.recurrent.GRUCell'> to avoid naming conflicts when loading with `tf.keras.models.load_model`. If renaming is not possible, pass the object in the `custom_objects` parameter of the load function.\n",
      "WARNING:absl:<keras.layers.recurrent.GRUCell object at 0x0000022BCE54D988> has the same name 'GRUCell' as a built-in Keras object. Consider renaming <class 'keras.layers.recurrent.GRUCell'> to avoid naming conflicts when loading with `tf.keras.models.load_model`. If renaming is not possible, pass the object in the `custom_objects` parameter of the load function.\n"
     ]
    },
    {
     "name": "stdout",
     "output_type": "stream",
     "text": [
      "1110/1110 [==============================] - 9s 8ms/step - loss: 151.3593 - root_mean_squared_error: 12.3028\n",
      "Epoch 39/200\n",
      "1110/1110 [==============================] - 6s 5ms/step - loss: 151.6642 - root_mean_squared_error: 12.3152\n",
      "Epoch 40/200\n",
      "1104/1110 [============================>.] - ETA: 0s - loss: 150.4138 - root_mean_squared_error: 12.2643"
     ]
    },
    {
     "name": "stderr",
     "output_type": "stream",
     "text": [
      "WARNING:absl:Found untraced functions such as gru_cell_layer_call_fn, gru_cell_layer_call_and_return_conditional_losses while saving (showing 2 of 2). These functions will not be directly callable after loading.\n"
     ]
    },
    {
     "name": "stdout",
     "output_type": "stream",
     "text": [
      "INFO:tensorflow:Assets written to: best_model\\assets\n"
     ]
    },
    {
     "name": "stderr",
     "output_type": "stream",
     "text": [
      "INFO:tensorflow:Assets written to: best_model\\assets\n",
      "WARNING:absl:<keras.layers.recurrent.GRUCell object at 0x0000022BCE4C1748> has the same name 'GRUCell' as a built-in Keras object. Consider renaming <class 'keras.layers.recurrent.GRUCell'> to avoid naming conflicts when loading with `tf.keras.models.load_model`. If renaming is not possible, pass the object in the `custom_objects` parameter of the load function.\n",
      "WARNING:absl:<keras.layers.recurrent.GRUCell object at 0x0000022BCE54D988> has the same name 'GRUCell' as a built-in Keras object. Consider renaming <class 'keras.layers.recurrent.GRUCell'> to avoid naming conflicts when loading with `tf.keras.models.load_model`. If renaming is not possible, pass the object in the `custom_objects` parameter of the load function.\n"
     ]
    },
    {
     "name": "stdout",
     "output_type": "stream",
     "text": [
      "1110/1110 [==============================] - 10s 9ms/step - loss: 150.0554 - root_mean_squared_error: 12.2497\n",
      "Epoch 41/200\n",
      "1100/1110 [============================>.] - ETA: 0s - loss: 147.7832 - root_mean_squared_error: 12.1566"
     ]
    },
    {
     "name": "stderr",
     "output_type": "stream",
     "text": [
      "WARNING:absl:Found untraced functions such as gru_cell_layer_call_fn, gru_cell_layer_call_and_return_conditional_losses while saving (showing 2 of 2). These functions will not be directly callable after loading.\n"
     ]
    },
    {
     "name": "stdout",
     "output_type": "stream",
     "text": [
      "INFO:tensorflow:Assets written to: best_model\\assets\n"
     ]
    },
    {
     "name": "stderr",
     "output_type": "stream",
     "text": [
      "INFO:tensorflow:Assets written to: best_model\\assets\n",
      "WARNING:absl:<keras.layers.recurrent.GRUCell object at 0x0000022BCE4C1748> has the same name 'GRUCell' as a built-in Keras object. Consider renaming <class 'keras.layers.recurrent.GRUCell'> to avoid naming conflicts when loading with `tf.keras.models.load_model`. If renaming is not possible, pass the object in the `custom_objects` parameter of the load function.\n",
      "WARNING:absl:<keras.layers.recurrent.GRUCell object at 0x0000022BCE54D988> has the same name 'GRUCell' as a built-in Keras object. Consider renaming <class 'keras.layers.recurrent.GRUCell'> to avoid naming conflicts when loading with `tf.keras.models.load_model`. If renaming is not possible, pass the object in the `custom_objects` parameter of the load function.\n"
     ]
    },
    {
     "name": "stdout",
     "output_type": "stream",
     "text": [
      "1110/1110 [==============================] - 9s 8ms/step - loss: 148.0056 - root_mean_squared_error: 12.1658\n",
      "Epoch 42/200\n",
      "1110/1110 [==============================] - ETA: 0s - loss: 147.5908 - root_mean_squared_error: 12.1487"
     ]
    },
    {
     "name": "stderr",
     "output_type": "stream",
     "text": [
      "WARNING:absl:Found untraced functions such as gru_cell_layer_call_fn, gru_cell_layer_call_and_return_conditional_losses while saving (showing 2 of 2). These functions will not be directly callable after loading.\n"
     ]
    },
    {
     "name": "stdout",
     "output_type": "stream",
     "text": [
      "INFO:tensorflow:Assets written to: best_model\\assets\n"
     ]
    },
    {
     "name": "stderr",
     "output_type": "stream",
     "text": [
      "INFO:tensorflow:Assets written to: best_model\\assets\n",
      "WARNING:absl:<keras.layers.recurrent.GRUCell object at 0x0000022BCE4C1748> has the same name 'GRUCell' as a built-in Keras object. Consider renaming <class 'keras.layers.recurrent.GRUCell'> to avoid naming conflicts when loading with `tf.keras.models.load_model`. If renaming is not possible, pass the object in the `custom_objects` parameter of the load function.\n",
      "WARNING:absl:<keras.layers.recurrent.GRUCell object at 0x0000022BCE54D988> has the same name 'GRUCell' as a built-in Keras object. Consider renaming <class 'keras.layers.recurrent.GRUCell'> to avoid naming conflicts when loading with `tf.keras.models.load_model`. If renaming is not possible, pass the object in the `custom_objects` parameter of the load function.\n"
     ]
    },
    {
     "name": "stdout",
     "output_type": "stream",
     "text": [
      "1110/1110 [==============================] - 9s 8ms/step - loss: 147.5908 - root_mean_squared_error: 12.1487\n",
      "Epoch 43/200\n",
      "1103/1110 [============================>.] - ETA: 0s - loss: 145.5662 - root_mean_squared_error: 12.0651"
     ]
    },
    {
     "name": "stderr",
     "output_type": "stream",
     "text": [
      "WARNING:absl:Found untraced functions such as gru_cell_layer_call_fn, gru_cell_layer_call_and_return_conditional_losses while saving (showing 2 of 2). These functions will not be directly callable after loading.\n"
     ]
    },
    {
     "name": "stdout",
     "output_type": "stream",
     "text": [
      "INFO:tensorflow:Assets written to: best_model\\assets\n"
     ]
    },
    {
     "name": "stderr",
     "output_type": "stream",
     "text": [
      "INFO:tensorflow:Assets written to: best_model\\assets\n",
      "WARNING:absl:<keras.layers.recurrent.GRUCell object at 0x0000022BCE4C1748> has the same name 'GRUCell' as a built-in Keras object. Consider renaming <class 'keras.layers.recurrent.GRUCell'> to avoid naming conflicts when loading with `tf.keras.models.load_model`. If renaming is not possible, pass the object in the `custom_objects` parameter of the load function.\n",
      "WARNING:absl:<keras.layers.recurrent.GRUCell object at 0x0000022BCE54D988> has the same name 'GRUCell' as a built-in Keras object. Consider renaming <class 'keras.layers.recurrent.GRUCell'> to avoid naming conflicts when loading with `tf.keras.models.load_model`. If renaming is not possible, pass the object in the `custom_objects` parameter of the load function.\n"
     ]
    },
    {
     "name": "stdout",
     "output_type": "stream",
     "text": [
      "1110/1110 [==============================] - 9s 8ms/step - loss: 145.4576 - root_mean_squared_error: 12.0606\n",
      "Epoch 44/200\n",
      "1104/1110 [============================>.] - ETA: 0s - loss: 143.6221 - root_mean_squared_error: 11.9842"
     ]
    },
    {
     "name": "stderr",
     "output_type": "stream",
     "text": [
      "WARNING:absl:Found untraced functions such as gru_cell_layer_call_fn, gru_cell_layer_call_and_return_conditional_losses while saving (showing 2 of 2). These functions will not be directly callable after loading.\n"
     ]
    },
    {
     "name": "stdout",
     "output_type": "stream",
     "text": [
      "INFO:tensorflow:Assets written to: best_model\\assets\n"
     ]
    },
    {
     "name": "stderr",
     "output_type": "stream",
     "text": [
      "INFO:tensorflow:Assets written to: best_model\\assets\n",
      "WARNING:absl:<keras.layers.recurrent.GRUCell object at 0x0000022BCE4C1748> has the same name 'GRUCell' as a built-in Keras object. Consider renaming <class 'keras.layers.recurrent.GRUCell'> to avoid naming conflicts when loading with `tf.keras.models.load_model`. If renaming is not possible, pass the object in the `custom_objects` parameter of the load function.\n",
      "WARNING:absl:<keras.layers.recurrent.GRUCell object at 0x0000022BCE54D988> has the same name 'GRUCell' as a built-in Keras object. Consider renaming <class 'keras.layers.recurrent.GRUCell'> to avoid naming conflicts when loading with `tf.keras.models.load_model`. If renaming is not possible, pass the object in the `custom_objects` parameter of the load function.\n"
     ]
    },
    {
     "name": "stdout",
     "output_type": "stream",
     "text": [
      "1110/1110 [==============================] - 10s 9ms/step - loss: 143.9107 - root_mean_squared_error: 11.9963\n",
      "Epoch 45/200\n",
      "1110/1110 [==============================] - 6s 5ms/step - loss: 144.3710 - root_mean_squared_error: 12.0154\n",
      "Epoch 46/200\n",
      "1104/1110 [============================>.] - ETA: 0s - loss: 143.9151 - root_mean_squared_error: 11.9965"
     ]
    },
    {
     "name": "stderr",
     "output_type": "stream",
     "text": [
      "WARNING:absl:Found untraced functions such as gru_cell_layer_call_fn, gru_cell_layer_call_and_return_conditional_losses while saving (showing 2 of 2). These functions will not be directly callable after loading.\n"
     ]
    },
    {
     "name": "stdout",
     "output_type": "stream",
     "text": [
      "INFO:tensorflow:Assets written to: best_model\\assets\n"
     ]
    },
    {
     "name": "stderr",
     "output_type": "stream",
     "text": [
      "INFO:tensorflow:Assets written to: best_model\\assets\n",
      "WARNING:absl:<keras.layers.recurrent.GRUCell object at 0x0000022BCE4C1748> has the same name 'GRUCell' as a built-in Keras object. Consider renaming <class 'keras.layers.recurrent.GRUCell'> to avoid naming conflicts when loading with `tf.keras.models.load_model`. If renaming is not possible, pass the object in the `custom_objects` parameter of the load function.\n",
      "WARNING:absl:<keras.layers.recurrent.GRUCell object at 0x0000022BCE54D988> has the same name 'GRUCell' as a built-in Keras object. Consider renaming <class 'keras.layers.recurrent.GRUCell'> to avoid naming conflicts when loading with `tf.keras.models.load_model`. If renaming is not possible, pass the object in the `custom_objects` parameter of the load function.\n"
     ]
    },
    {
     "name": "stdout",
     "output_type": "stream",
     "text": [
      "1110/1110 [==============================] - 9s 8ms/step - loss: 143.5459 - root_mean_squared_error: 11.9811\n",
      "Epoch 47/200\n",
      "1108/1110 [============================>.] - ETA: 0s - loss: 141.9411 - root_mean_squared_error: 11.9139"
     ]
    },
    {
     "name": "stderr",
     "output_type": "stream",
     "text": [
      "WARNING:absl:Found untraced functions such as gru_cell_layer_call_fn, gru_cell_layer_call_and_return_conditional_losses while saving (showing 2 of 2). These functions will not be directly callable after loading.\n"
     ]
    },
    {
     "name": "stdout",
     "output_type": "stream",
     "text": [
      "INFO:tensorflow:Assets written to: best_model\\assets\n"
     ]
    },
    {
     "name": "stderr",
     "output_type": "stream",
     "text": [
      "INFO:tensorflow:Assets written to: best_model\\assets\n",
      "WARNING:absl:<keras.layers.recurrent.GRUCell object at 0x0000022BCE4C1748> has the same name 'GRUCell' as a built-in Keras object. Consider renaming <class 'keras.layers.recurrent.GRUCell'> to avoid naming conflicts when loading with `tf.keras.models.load_model`. If renaming is not possible, pass the object in the `custom_objects` parameter of the load function.\n",
      "WARNING:absl:<keras.layers.recurrent.GRUCell object at 0x0000022BCE54D988> has the same name 'GRUCell' as a built-in Keras object. Consider renaming <class 'keras.layers.recurrent.GRUCell'> to avoid naming conflicts when loading with `tf.keras.models.load_model`. If renaming is not possible, pass the object in the `custom_objects` parameter of the load function.\n"
     ]
    },
    {
     "name": "stdout",
     "output_type": "stream",
     "text": [
      "1110/1110 [==============================] - 10s 9ms/step - loss: 141.9312 - root_mean_squared_error: 11.9135\n",
      "Epoch 48/200\n",
      "1109/1110 [============================>.] - ETA: 0s - loss: 140.6546 - root_mean_squared_error: 11.8598"
     ]
    },
    {
     "name": "stderr",
     "output_type": "stream",
     "text": [
      "WARNING:absl:Found untraced functions such as gru_cell_layer_call_fn, gru_cell_layer_call_and_return_conditional_losses while saving (showing 2 of 2). These functions will not be directly callable after loading.\n"
     ]
    },
    {
     "name": "stdout",
     "output_type": "stream",
     "text": [
      "INFO:tensorflow:Assets written to: best_model\\assets\n"
     ]
    },
    {
     "name": "stderr",
     "output_type": "stream",
     "text": [
      "INFO:tensorflow:Assets written to: best_model\\assets\n",
      "WARNING:absl:<keras.layers.recurrent.GRUCell object at 0x0000022BCE4C1748> has the same name 'GRUCell' as a built-in Keras object. Consider renaming <class 'keras.layers.recurrent.GRUCell'> to avoid naming conflicts when loading with `tf.keras.models.load_model`. If renaming is not possible, pass the object in the `custom_objects` parameter of the load function.\n",
      "WARNING:absl:<keras.layers.recurrent.GRUCell object at 0x0000022BCE54D988> has the same name 'GRUCell' as a built-in Keras object. Consider renaming <class 'keras.layers.recurrent.GRUCell'> to avoid naming conflicts when loading with `tf.keras.models.load_model`. If renaming is not possible, pass the object in the `custom_objects` parameter of the load function.\n"
     ]
    },
    {
     "name": "stdout",
     "output_type": "stream",
     "text": [
      "1110/1110 [==============================] - 9s 9ms/step - loss: 140.6521 - root_mean_squared_error: 11.8597\n",
      "Epoch 49/200\n",
      "1105/1110 [============================>.] - ETA: 0s - loss: 140.1582 - root_mean_squared_error: 11.8388"
     ]
    },
    {
     "name": "stderr",
     "output_type": "stream",
     "text": [
      "WARNING:absl:Found untraced functions such as gru_cell_layer_call_fn, gru_cell_layer_call_and_return_conditional_losses while saving (showing 2 of 2). These functions will not be directly callable after loading.\n"
     ]
    },
    {
     "name": "stdout",
     "output_type": "stream",
     "text": [
      "INFO:tensorflow:Assets written to: best_model\\assets\n"
     ]
    },
    {
     "name": "stderr",
     "output_type": "stream",
     "text": [
      "INFO:tensorflow:Assets written to: best_model\\assets\n",
      "WARNING:absl:<keras.layers.recurrent.GRUCell object at 0x0000022BCE4C1748> has the same name 'GRUCell' as a built-in Keras object. Consider renaming <class 'keras.layers.recurrent.GRUCell'> to avoid naming conflicts when loading with `tf.keras.models.load_model`. If renaming is not possible, pass the object in the `custom_objects` parameter of the load function.\n",
      "WARNING:absl:<keras.layers.recurrent.GRUCell object at 0x0000022BCE54D988> has the same name 'GRUCell' as a built-in Keras object. Consider renaming <class 'keras.layers.recurrent.GRUCell'> to avoid naming conflicts when loading with `tf.keras.models.load_model`. If renaming is not possible, pass the object in the `custom_objects` parameter of the load function.\n"
     ]
    },
    {
     "name": "stdout",
     "output_type": "stream",
     "text": [
      "1110/1110 [==============================] - 9s 9ms/step - loss: 140.1219 - root_mean_squared_error: 11.8373\n",
      "Epoch 50/200\n",
      "1098/1110 [============================>.] - ETA: 0s - loss: 138.1678 - root_mean_squared_error: 11.7545"
     ]
    },
    {
     "name": "stderr",
     "output_type": "stream",
     "text": [
      "WARNING:absl:Found untraced functions such as gru_cell_layer_call_fn, gru_cell_layer_call_and_return_conditional_losses while saving (showing 2 of 2). These functions will not be directly callable after loading.\n"
     ]
    },
    {
     "name": "stdout",
     "output_type": "stream",
     "text": [
      "INFO:tensorflow:Assets written to: best_model\\assets\n"
     ]
    },
    {
     "name": "stderr",
     "output_type": "stream",
     "text": [
      "INFO:tensorflow:Assets written to: best_model\\assets\n",
      "WARNING:absl:<keras.layers.recurrent.GRUCell object at 0x0000022BCE4C1748> has the same name 'GRUCell' as a built-in Keras object. Consider renaming <class 'keras.layers.recurrent.GRUCell'> to avoid naming conflicts when loading with `tf.keras.models.load_model`. If renaming is not possible, pass the object in the `custom_objects` parameter of the load function.\n",
      "WARNING:absl:<keras.layers.recurrent.GRUCell object at 0x0000022BCE54D988> has the same name 'GRUCell' as a built-in Keras object. Consider renaming <class 'keras.layers.recurrent.GRUCell'> to avoid naming conflicts when loading with `tf.keras.models.load_model`. If renaming is not possible, pass the object in the `custom_objects` parameter of the load function.\n"
     ]
    },
    {
     "name": "stdout",
     "output_type": "stream",
     "text": [
      "1110/1110 [==============================] - 9s 8ms/step - loss: 138.3434 - root_mean_squared_error: 11.7619\n",
      "Epoch 51/200\n",
      "1104/1110 [============================>.] - ETA: 0s - loss: 137.4126 - root_mean_squared_error: 11.7223"
     ]
    },
    {
     "name": "stderr",
     "output_type": "stream",
     "text": [
      "WARNING:absl:Found untraced functions such as gru_cell_layer_call_fn, gru_cell_layer_call_and_return_conditional_losses while saving (showing 2 of 2). These functions will not be directly callable after loading.\n"
     ]
    },
    {
     "name": "stdout",
     "output_type": "stream",
     "text": [
      "INFO:tensorflow:Assets written to: best_model\\assets\n"
     ]
    },
    {
     "name": "stderr",
     "output_type": "stream",
     "text": [
      "INFO:tensorflow:Assets written to: best_model\\assets\n",
      "WARNING:absl:<keras.layers.recurrent.GRUCell object at 0x0000022BCE4C1748> has the same name 'GRUCell' as a built-in Keras object. Consider renaming <class 'keras.layers.recurrent.GRUCell'> to avoid naming conflicts when loading with `tf.keras.models.load_model`. If renaming is not possible, pass the object in the `custom_objects` parameter of the load function.\n",
      "WARNING:absl:<keras.layers.recurrent.GRUCell object at 0x0000022BCE54D988> has the same name 'GRUCell' as a built-in Keras object. Consider renaming <class 'keras.layers.recurrent.GRUCell'> to avoid naming conflicts when loading with `tf.keras.models.load_model`. If renaming is not possible, pass the object in the `custom_objects` parameter of the load function.\n"
     ]
    },
    {
     "name": "stdout",
     "output_type": "stream",
     "text": [
      "1110/1110 [==============================] - 9s 8ms/step - loss: 137.4875 - root_mean_squared_error: 11.7255\n",
      "Epoch 52/200\n",
      "1109/1110 [============================>.] - ETA: 0s - loss: 137.3211 - root_mean_squared_error: 11.7184"
     ]
    },
    {
     "name": "stderr",
     "output_type": "stream",
     "text": [
      "WARNING:absl:Found untraced functions such as gru_cell_layer_call_fn, gru_cell_layer_call_and_return_conditional_losses while saving (showing 2 of 2). These functions will not be directly callable after loading.\n"
     ]
    },
    {
     "name": "stdout",
     "output_type": "stream",
     "text": [
      "INFO:tensorflow:Assets written to: best_model\\assets\n"
     ]
    },
    {
     "name": "stderr",
     "output_type": "stream",
     "text": [
      "INFO:tensorflow:Assets written to: best_model\\assets\n",
      "WARNING:absl:<keras.layers.recurrent.GRUCell object at 0x0000022BCE4C1748> has the same name 'GRUCell' as a built-in Keras object. Consider renaming <class 'keras.layers.recurrent.GRUCell'> to avoid naming conflicts when loading with `tf.keras.models.load_model`. If renaming is not possible, pass the object in the `custom_objects` parameter of the load function.\n",
      "WARNING:absl:<keras.layers.recurrent.GRUCell object at 0x0000022BCE54D988> has the same name 'GRUCell' as a built-in Keras object. Consider renaming <class 'keras.layers.recurrent.GRUCell'> to avoid naming conflicts when loading with `tf.keras.models.load_model`. If renaming is not possible, pass the object in the `custom_objects` parameter of the load function.\n"
     ]
    },
    {
     "name": "stdout",
     "output_type": "stream",
     "text": [
      "1110/1110 [==============================] - 9s 8ms/step - loss: 137.3396 - root_mean_squared_error: 11.7192\n",
      "Epoch 53/200\n",
      "1100/1110 [============================>.] - ETA: 0s - loss: 135.5333 - root_mean_squared_error: 11.6419"
     ]
    },
    {
     "name": "stderr",
     "output_type": "stream",
     "text": [
      "WARNING:absl:Found untraced functions such as gru_cell_layer_call_fn, gru_cell_layer_call_and_return_conditional_losses while saving (showing 2 of 2). These functions will not be directly callable after loading.\n"
     ]
    },
    {
     "name": "stdout",
     "output_type": "stream",
     "text": [
      "INFO:tensorflow:Assets written to: best_model\\assets\n"
     ]
    },
    {
     "name": "stderr",
     "output_type": "stream",
     "text": [
      "INFO:tensorflow:Assets written to: best_model\\assets\n",
      "WARNING:absl:<keras.layers.recurrent.GRUCell object at 0x0000022BCE4C1748> has the same name 'GRUCell' as a built-in Keras object. Consider renaming <class 'keras.layers.recurrent.GRUCell'> to avoid naming conflicts when loading with `tf.keras.models.load_model`. If renaming is not possible, pass the object in the `custom_objects` parameter of the load function.\n",
      "WARNING:absl:<keras.layers.recurrent.GRUCell object at 0x0000022BCE54D988> has the same name 'GRUCell' as a built-in Keras object. Consider renaming <class 'keras.layers.recurrent.GRUCell'> to avoid naming conflicts when loading with `tf.keras.models.load_model`. If renaming is not possible, pass the object in the `custom_objects` parameter of the load function.\n"
     ]
    },
    {
     "name": "stdout",
     "output_type": "stream",
     "text": [
      "1110/1110 [==============================] - 9s 8ms/step - loss: 135.7646 - root_mean_squared_error: 11.6518\n",
      "Epoch 54/200\n",
      "1110/1110 [==============================] - ETA: 0s - loss: 134.9058 - root_mean_squared_error: 11.6149"
     ]
    },
    {
     "name": "stderr",
     "output_type": "stream",
     "text": [
      "WARNING:absl:Found untraced functions such as gru_cell_layer_call_fn, gru_cell_layer_call_and_return_conditional_losses while saving (showing 2 of 2). These functions will not be directly callable after loading.\n"
     ]
    },
    {
     "name": "stdout",
     "output_type": "stream",
     "text": [
      "INFO:tensorflow:Assets written to: best_model\\assets\n"
     ]
    },
    {
     "name": "stderr",
     "output_type": "stream",
     "text": [
      "INFO:tensorflow:Assets written to: best_model\\assets\n",
      "WARNING:absl:<keras.layers.recurrent.GRUCell object at 0x0000022BCE4C1748> has the same name 'GRUCell' as a built-in Keras object. Consider renaming <class 'keras.layers.recurrent.GRUCell'> to avoid naming conflicts when loading with `tf.keras.models.load_model`. If renaming is not possible, pass the object in the `custom_objects` parameter of the load function.\n",
      "WARNING:absl:<keras.layers.recurrent.GRUCell object at 0x0000022BCE54D988> has the same name 'GRUCell' as a built-in Keras object. Consider renaming <class 'keras.layers.recurrent.GRUCell'> to avoid naming conflicts when loading with `tf.keras.models.load_model`. If renaming is not possible, pass the object in the `custom_objects` parameter of the load function.\n"
     ]
    },
    {
     "name": "stdout",
     "output_type": "stream",
     "text": [
      "1110/1110 [==============================] - 10s 9ms/step - loss: 134.9058 - root_mean_squared_error: 11.6149\n",
      "Epoch 55/200\n",
      "1110/1110 [==============================] - ETA: 0s - loss: 134.4087 - root_mean_squared_error: 11.5935"
     ]
    },
    {
     "name": "stderr",
     "output_type": "stream",
     "text": [
      "WARNING:absl:Found untraced functions such as gru_cell_layer_call_fn, gru_cell_layer_call_and_return_conditional_losses while saving (showing 2 of 2). These functions will not be directly callable after loading.\n"
     ]
    },
    {
     "name": "stdout",
     "output_type": "stream",
     "text": [
      "INFO:tensorflow:Assets written to: best_model\\assets\n"
     ]
    },
    {
     "name": "stderr",
     "output_type": "stream",
     "text": [
      "INFO:tensorflow:Assets written to: best_model\\assets\n",
      "WARNING:absl:<keras.layers.recurrent.GRUCell object at 0x0000022BCE4C1748> has the same name 'GRUCell' as a built-in Keras object. Consider renaming <class 'keras.layers.recurrent.GRUCell'> to avoid naming conflicts when loading with `tf.keras.models.load_model`. If renaming is not possible, pass the object in the `custom_objects` parameter of the load function.\n",
      "WARNING:absl:<keras.layers.recurrent.GRUCell object at 0x0000022BCE54D988> has the same name 'GRUCell' as a built-in Keras object. Consider renaming <class 'keras.layers.recurrent.GRUCell'> to avoid naming conflicts when loading with `tf.keras.models.load_model`. If renaming is not possible, pass the object in the `custom_objects` parameter of the load function.\n"
     ]
    },
    {
     "name": "stdout",
     "output_type": "stream",
     "text": [
      "1110/1110 [==============================] - 9s 9ms/step - loss: 134.4087 - root_mean_squared_error: 11.5935\n",
      "Epoch 56/200\n",
      "1099/1110 [============================>.] - ETA: 0s - loss: 133.4184 - root_mean_squared_error: 11.5507"
     ]
    },
    {
     "name": "stderr",
     "output_type": "stream",
     "text": [
      "WARNING:absl:Found untraced functions such as gru_cell_layer_call_fn, gru_cell_layer_call_and_return_conditional_losses while saving (showing 2 of 2). These functions will not be directly callable after loading.\n"
     ]
    },
    {
     "name": "stdout",
     "output_type": "stream",
     "text": [
      "INFO:tensorflow:Assets written to: best_model\\assets\n"
     ]
    },
    {
     "name": "stderr",
     "output_type": "stream",
     "text": [
      "INFO:tensorflow:Assets written to: best_model\\assets\n",
      "WARNING:absl:<keras.layers.recurrent.GRUCell object at 0x0000022BCE4C1748> has the same name 'GRUCell' as a built-in Keras object. Consider renaming <class 'keras.layers.recurrent.GRUCell'> to avoid naming conflicts when loading with `tf.keras.models.load_model`. If renaming is not possible, pass the object in the `custom_objects` parameter of the load function.\n",
      "WARNING:absl:<keras.layers.recurrent.GRUCell object at 0x0000022BCE54D988> has the same name 'GRUCell' as a built-in Keras object. Consider renaming <class 'keras.layers.recurrent.GRUCell'> to avoid naming conflicts when loading with `tf.keras.models.load_model`. If renaming is not possible, pass the object in the `custom_objects` parameter of the load function.\n"
     ]
    },
    {
     "name": "stdout",
     "output_type": "stream",
     "text": [
      "1110/1110 [==============================] - 10s 9ms/step - loss: 133.4791 - root_mean_squared_error: 11.5533\n",
      "Epoch 57/200\n",
      "1105/1110 [============================>.] - ETA: 0s - loss: 132.7693 - root_mean_squared_error: 11.5226"
     ]
    },
    {
     "name": "stderr",
     "output_type": "stream",
     "text": [
      "WARNING:absl:Found untraced functions such as gru_cell_layer_call_fn, gru_cell_layer_call_and_return_conditional_losses while saving (showing 2 of 2). These functions will not be directly callable after loading.\n"
     ]
    },
    {
     "name": "stdout",
     "output_type": "stream",
     "text": [
      "INFO:tensorflow:Assets written to: best_model\\assets\n"
     ]
    },
    {
     "name": "stderr",
     "output_type": "stream",
     "text": [
      "INFO:tensorflow:Assets written to: best_model\\assets\n",
      "WARNING:absl:<keras.layers.recurrent.GRUCell object at 0x0000022BCE4C1748> has the same name 'GRUCell' as a built-in Keras object. Consider renaming <class 'keras.layers.recurrent.GRUCell'> to avoid naming conflicts when loading with `tf.keras.models.load_model`. If renaming is not possible, pass the object in the `custom_objects` parameter of the load function.\n",
      "WARNING:absl:<keras.layers.recurrent.GRUCell object at 0x0000022BCE54D988> has the same name 'GRUCell' as a built-in Keras object. Consider renaming <class 'keras.layers.recurrent.GRUCell'> to avoid naming conflicts when loading with `tf.keras.models.load_model`. If renaming is not possible, pass the object in the `custom_objects` parameter of the load function.\n"
     ]
    },
    {
     "name": "stdout",
     "output_type": "stream",
     "text": [
      "1110/1110 [==============================] - 9s 8ms/step - loss: 132.8663 - root_mean_squared_error: 11.5268\n",
      "Epoch 58/200\n",
      "1100/1110 [============================>.] - ETA: 0s - loss: 131.6081 - root_mean_squared_error: 11.4721"
     ]
    },
    {
     "name": "stderr",
     "output_type": "stream",
     "text": [
      "WARNING:absl:Found untraced functions such as gru_cell_layer_call_fn, gru_cell_layer_call_and_return_conditional_losses while saving (showing 2 of 2). These functions will not be directly callable after loading.\n"
     ]
    },
    {
     "name": "stdout",
     "output_type": "stream",
     "text": [
      "INFO:tensorflow:Assets written to: best_model\\assets\n"
     ]
    },
    {
     "name": "stderr",
     "output_type": "stream",
     "text": [
      "INFO:tensorflow:Assets written to: best_model\\assets\n",
      "WARNING:absl:<keras.layers.recurrent.GRUCell object at 0x0000022BCE4C1748> has the same name 'GRUCell' as a built-in Keras object. Consider renaming <class 'keras.layers.recurrent.GRUCell'> to avoid naming conflicts when loading with `tf.keras.models.load_model`. If renaming is not possible, pass the object in the `custom_objects` parameter of the load function.\n",
      "WARNING:absl:<keras.layers.recurrent.GRUCell object at 0x0000022BCE54D988> has the same name 'GRUCell' as a built-in Keras object. Consider renaming <class 'keras.layers.recurrent.GRUCell'> to avoid naming conflicts when loading with `tf.keras.models.load_model`. If renaming is not possible, pass the object in the `custom_objects` parameter of the load function.\n"
     ]
    },
    {
     "name": "stdout",
     "output_type": "stream",
     "text": [
      "1110/1110 [==============================] - 10s 9ms/step - loss: 131.4821 - root_mean_squared_error: 11.4666\n",
      "Epoch 59/200\n",
      "1108/1110 [============================>.] - ETA: 0s - loss: 130.1448 - root_mean_squared_error: 11.4081"
     ]
    },
    {
     "name": "stderr",
     "output_type": "stream",
     "text": [
      "WARNING:absl:Found untraced functions such as gru_cell_layer_call_fn, gru_cell_layer_call_and_return_conditional_losses while saving (showing 2 of 2). These functions will not be directly callable after loading.\n"
     ]
    },
    {
     "name": "stdout",
     "output_type": "stream",
     "text": [
      "INFO:tensorflow:Assets written to: best_model\\assets\n"
     ]
    },
    {
     "name": "stderr",
     "output_type": "stream",
     "text": [
      "INFO:tensorflow:Assets written to: best_model\\assets\n",
      "WARNING:absl:<keras.layers.recurrent.GRUCell object at 0x0000022BCE4C1748> has the same name 'GRUCell' as a built-in Keras object. Consider renaming <class 'keras.layers.recurrent.GRUCell'> to avoid naming conflicts when loading with `tf.keras.models.load_model`. If renaming is not possible, pass the object in the `custom_objects` parameter of the load function.\n",
      "WARNING:absl:<keras.layers.recurrent.GRUCell object at 0x0000022BCE54D988> has the same name 'GRUCell' as a built-in Keras object. Consider renaming <class 'keras.layers.recurrent.GRUCell'> to avoid naming conflicts when loading with `tf.keras.models.load_model`. If renaming is not possible, pass the object in the `custom_objects` parameter of the load function.\n"
     ]
    },
    {
     "name": "stdout",
     "output_type": "stream",
     "text": [
      "1110/1110 [==============================] - 9s 8ms/step - loss: 130.2530 - root_mean_squared_error: 11.4128\n",
      "Epoch 60/200\n",
      "1109/1110 [============================>.] - ETA: 0s - loss: 130.1061 - root_mean_squared_error: 11.4064"
     ]
    },
    {
     "name": "stderr",
     "output_type": "stream",
     "text": [
      "WARNING:absl:Found untraced functions such as gru_cell_layer_call_fn, gru_cell_layer_call_and_return_conditional_losses while saving (showing 2 of 2). These functions will not be directly callable after loading.\n"
     ]
    },
    {
     "name": "stdout",
     "output_type": "stream",
     "text": [
      "INFO:tensorflow:Assets written to: best_model\\assets\n"
     ]
    },
    {
     "name": "stderr",
     "output_type": "stream",
     "text": [
      "INFO:tensorflow:Assets written to: best_model\\assets\n",
      "WARNING:absl:<keras.layers.recurrent.GRUCell object at 0x0000022BCE4C1748> has the same name 'GRUCell' as a built-in Keras object. Consider renaming <class 'keras.layers.recurrent.GRUCell'> to avoid naming conflicts when loading with `tf.keras.models.load_model`. If renaming is not possible, pass the object in the `custom_objects` parameter of the load function.\n",
      "WARNING:absl:<keras.layers.recurrent.GRUCell object at 0x0000022BCE54D988> has the same name 'GRUCell' as a built-in Keras object. Consider renaming <class 'keras.layers.recurrent.GRUCell'> to avoid naming conflicts when loading with `tf.keras.models.load_model`. If renaming is not possible, pass the object in the `custom_objects` parameter of the load function.\n"
     ]
    },
    {
     "name": "stdout",
     "output_type": "stream",
     "text": [
      "1110/1110 [==============================] - 10s 9ms/step - loss: 130.0795 - root_mean_squared_error: 11.4052\n",
      "Epoch 61/200\n",
      "1105/1110 [============================>.] - ETA: 0s - loss: 129.6367 - root_mean_squared_error: 11.3858"
     ]
    },
    {
     "name": "stderr",
     "output_type": "stream",
     "text": [
      "WARNING:absl:Found untraced functions such as gru_cell_layer_call_fn, gru_cell_layer_call_and_return_conditional_losses while saving (showing 2 of 2). These functions will not be directly callable after loading.\n"
     ]
    },
    {
     "name": "stdout",
     "output_type": "stream",
     "text": [
      "INFO:tensorflow:Assets written to: best_model\\assets\n"
     ]
    },
    {
     "name": "stderr",
     "output_type": "stream",
     "text": [
      "INFO:tensorflow:Assets written to: best_model\\assets\n",
      "WARNING:absl:<keras.layers.recurrent.GRUCell object at 0x0000022BCE4C1748> has the same name 'GRUCell' as a built-in Keras object. Consider renaming <class 'keras.layers.recurrent.GRUCell'> to avoid naming conflicts when loading with `tf.keras.models.load_model`. If renaming is not possible, pass the object in the `custom_objects` parameter of the load function.\n",
      "WARNING:absl:<keras.layers.recurrent.GRUCell object at 0x0000022BCE54D988> has the same name 'GRUCell' as a built-in Keras object. Consider renaming <class 'keras.layers.recurrent.GRUCell'> to avoid naming conflicts when loading with `tf.keras.models.load_model`. If renaming is not possible, pass the object in the `custom_objects` parameter of the load function.\n"
     ]
    },
    {
     "name": "stdout",
     "output_type": "stream",
     "text": [
      "1110/1110 [==============================] - 9s 9ms/step - loss: 129.5459 - root_mean_squared_error: 11.3818\n",
      "Epoch 62/200\n",
      "1107/1110 [============================>.] - ETA: 0s - loss: 128.3984 - root_mean_squared_error: 11.3313"
     ]
    },
    {
     "name": "stderr",
     "output_type": "stream",
     "text": [
      "WARNING:absl:Found untraced functions such as gru_cell_layer_call_fn, gru_cell_layer_call_and_return_conditional_losses while saving (showing 2 of 2). These functions will not be directly callable after loading.\n"
     ]
    },
    {
     "name": "stdout",
     "output_type": "stream",
     "text": [
      "INFO:tensorflow:Assets written to: best_model\\assets\n"
     ]
    },
    {
     "name": "stderr",
     "output_type": "stream",
     "text": [
      "INFO:tensorflow:Assets written to: best_model\\assets\n",
      "WARNING:absl:<keras.layers.recurrent.GRUCell object at 0x0000022BCE4C1748> has the same name 'GRUCell' as a built-in Keras object. Consider renaming <class 'keras.layers.recurrent.GRUCell'> to avoid naming conflicts when loading with `tf.keras.models.load_model`. If renaming is not possible, pass the object in the `custom_objects` parameter of the load function.\n",
      "WARNING:absl:<keras.layers.recurrent.GRUCell object at 0x0000022BCE54D988> has the same name 'GRUCell' as a built-in Keras object. Consider renaming <class 'keras.layers.recurrent.GRUCell'> to avoid naming conflicts when loading with `tf.keras.models.load_model`. If renaming is not possible, pass the object in the `custom_objects` parameter of the load function.\n"
     ]
    },
    {
     "name": "stdout",
     "output_type": "stream",
     "text": [
      "1110/1110 [==============================] - 10s 9ms/step - loss: 128.3582 - root_mean_squared_error: 11.3295\n",
      "Epoch 63/200\n",
      "1108/1110 [============================>.] - ETA: 0s - loss: 127.9705 - root_mean_squared_error: 11.3124"
     ]
    },
    {
     "name": "stderr",
     "output_type": "stream",
     "text": [
      "WARNING:absl:Found untraced functions such as gru_cell_layer_call_fn, gru_cell_layer_call_and_return_conditional_losses while saving (showing 2 of 2). These functions will not be directly callable after loading.\n"
     ]
    },
    {
     "name": "stdout",
     "output_type": "stream",
     "text": [
      "INFO:tensorflow:Assets written to: best_model\\assets\n"
     ]
    },
    {
     "name": "stderr",
     "output_type": "stream",
     "text": [
      "INFO:tensorflow:Assets written to: best_model\\assets\n",
      "WARNING:absl:<keras.layers.recurrent.GRUCell object at 0x0000022BCE4C1748> has the same name 'GRUCell' as a built-in Keras object. Consider renaming <class 'keras.layers.recurrent.GRUCell'> to avoid naming conflicts when loading with `tf.keras.models.load_model`. If renaming is not possible, pass the object in the `custom_objects` parameter of the load function.\n",
      "WARNING:absl:<keras.layers.recurrent.GRUCell object at 0x0000022BCE54D988> has the same name 'GRUCell' as a built-in Keras object. Consider renaming <class 'keras.layers.recurrent.GRUCell'> to avoid naming conflicts when loading with `tf.keras.models.load_model`. If renaming is not possible, pass the object in the `custom_objects` parameter of the load function.\n"
     ]
    },
    {
     "name": "stdout",
     "output_type": "stream",
     "text": [
      "1110/1110 [==============================] - 10s 9ms/step - loss: 127.9334 - root_mean_squared_error: 11.3108\n",
      "Epoch 64/200\n",
      "1104/1110 [============================>.] - ETA: 0s - loss: 127.0035 - root_mean_squared_error: 11.2696"
     ]
    },
    {
     "name": "stderr",
     "output_type": "stream",
     "text": [
      "WARNING:absl:Found untraced functions such as gru_cell_layer_call_fn, gru_cell_layer_call_and_return_conditional_losses while saving (showing 2 of 2). These functions will not be directly callable after loading.\n"
     ]
    },
    {
     "name": "stdout",
     "output_type": "stream",
     "text": [
      "INFO:tensorflow:Assets written to: best_model\\assets\n"
     ]
    },
    {
     "name": "stderr",
     "output_type": "stream",
     "text": [
      "INFO:tensorflow:Assets written to: best_model\\assets\n",
      "WARNING:absl:<keras.layers.recurrent.GRUCell object at 0x0000022BCE4C1748> has the same name 'GRUCell' as a built-in Keras object. Consider renaming <class 'keras.layers.recurrent.GRUCell'> to avoid naming conflicts when loading with `tf.keras.models.load_model`. If renaming is not possible, pass the object in the `custom_objects` parameter of the load function.\n",
      "WARNING:absl:<keras.layers.recurrent.GRUCell object at 0x0000022BCE54D988> has the same name 'GRUCell' as a built-in Keras object. Consider renaming <class 'keras.layers.recurrent.GRUCell'> to avoid naming conflicts when loading with `tf.keras.models.load_model`. If renaming is not possible, pass the object in the `custom_objects` parameter of the load function.\n"
     ]
    },
    {
     "name": "stdout",
     "output_type": "stream",
     "text": [
      "1110/1110 [==============================] - 10s 9ms/step - loss: 127.1932 - root_mean_squared_error: 11.2780\n",
      "Epoch 65/200\n",
      "1109/1110 [============================>.] - ETA: 0s - loss: 126.2415 - root_mean_squared_error: 11.2357"
     ]
    },
    {
     "name": "stderr",
     "output_type": "stream",
     "text": [
      "WARNING:absl:Found untraced functions such as gru_cell_layer_call_fn, gru_cell_layer_call_and_return_conditional_losses while saving (showing 2 of 2). These functions will not be directly callable after loading.\n"
     ]
    },
    {
     "name": "stdout",
     "output_type": "stream",
     "text": [
      "INFO:tensorflow:Assets written to: best_model\\assets\n"
     ]
    },
    {
     "name": "stderr",
     "output_type": "stream",
     "text": [
      "INFO:tensorflow:Assets written to: best_model\\assets\n",
      "WARNING:absl:<keras.layers.recurrent.GRUCell object at 0x0000022BCE4C1748> has the same name 'GRUCell' as a built-in Keras object. Consider renaming <class 'keras.layers.recurrent.GRUCell'> to avoid naming conflicts when loading with `tf.keras.models.load_model`. If renaming is not possible, pass the object in the `custom_objects` parameter of the load function.\n",
      "WARNING:absl:<keras.layers.recurrent.GRUCell object at 0x0000022BCE54D988> has the same name 'GRUCell' as a built-in Keras object. Consider renaming <class 'keras.layers.recurrent.GRUCell'> to avoid naming conflicts when loading with `tf.keras.models.load_model`. If renaming is not possible, pass the object in the `custom_objects` parameter of the load function.\n"
     ]
    },
    {
     "name": "stdout",
     "output_type": "stream",
     "text": [
      "1110/1110 [==============================] - 10s 9ms/step - loss: 126.2231 - root_mean_squared_error: 11.2349\n",
      "Epoch 66/200\n",
      "1106/1110 [============================>.] - ETA: 0s - loss: 125.3452 - root_mean_squared_error: 11.1958"
     ]
    },
    {
     "name": "stderr",
     "output_type": "stream",
     "text": [
      "WARNING:absl:Found untraced functions such as gru_cell_layer_call_fn, gru_cell_layer_call_and_return_conditional_losses while saving (showing 2 of 2). These functions will not be directly callable after loading.\n"
     ]
    },
    {
     "name": "stdout",
     "output_type": "stream",
     "text": [
      "INFO:tensorflow:Assets written to: best_model\\assets\n"
     ]
    },
    {
     "name": "stderr",
     "output_type": "stream",
     "text": [
      "INFO:tensorflow:Assets written to: best_model\\assets\n",
      "WARNING:absl:<keras.layers.recurrent.GRUCell object at 0x0000022BCE4C1748> has the same name 'GRUCell' as a built-in Keras object. Consider renaming <class 'keras.layers.recurrent.GRUCell'> to avoid naming conflicts when loading with `tf.keras.models.load_model`. If renaming is not possible, pass the object in the `custom_objects` parameter of the load function.\n",
      "WARNING:absl:<keras.layers.recurrent.GRUCell object at 0x0000022BCE54D988> has the same name 'GRUCell' as a built-in Keras object. Consider renaming <class 'keras.layers.recurrent.GRUCell'> to avoid naming conflicts when loading with `tf.keras.models.load_model`. If renaming is not possible, pass the object in the `custom_objects` parameter of the load function.\n"
     ]
    },
    {
     "name": "stdout",
     "output_type": "stream",
     "text": [
      "1110/1110 [==============================] - 10s 9ms/step - loss: 125.3443 - root_mean_squared_error: 11.1957\n",
      "Epoch 67/200\n",
      "1109/1110 [============================>.] - ETA: 0s - loss: 124.7728 - root_mean_squared_error: 11.1702"
     ]
    },
    {
     "name": "stderr",
     "output_type": "stream",
     "text": [
      "WARNING:absl:Found untraced functions such as gru_cell_layer_call_fn, gru_cell_layer_call_and_return_conditional_losses while saving (showing 2 of 2). These functions will not be directly callable after loading.\n"
     ]
    },
    {
     "name": "stdout",
     "output_type": "stream",
     "text": [
      "INFO:tensorflow:Assets written to: best_model\\assets\n"
     ]
    },
    {
     "name": "stderr",
     "output_type": "stream",
     "text": [
      "INFO:tensorflow:Assets written to: best_model\\assets\n",
      "WARNING:absl:<keras.layers.recurrent.GRUCell object at 0x0000022BCE4C1748> has the same name 'GRUCell' as a built-in Keras object. Consider renaming <class 'keras.layers.recurrent.GRUCell'> to avoid naming conflicts when loading with `tf.keras.models.load_model`. If renaming is not possible, pass the object in the `custom_objects` parameter of the load function.\n",
      "WARNING:absl:<keras.layers.recurrent.GRUCell object at 0x0000022BCE54D988> has the same name 'GRUCell' as a built-in Keras object. Consider renaming <class 'keras.layers.recurrent.GRUCell'> to avoid naming conflicts when loading with `tf.keras.models.load_model`. If renaming is not possible, pass the object in the `custom_objects` parameter of the load function.\n"
     ]
    },
    {
     "name": "stdout",
     "output_type": "stream",
     "text": [
      "1110/1110 [==============================] - 10s 9ms/step - loss: 124.7579 - root_mean_squared_error: 11.1695\n",
      "Epoch 68/200\n",
      "1104/1110 [============================>.] - ETA: 0s - loss: 123.6016 - root_mean_squared_error: 11.1176"
     ]
    },
    {
     "name": "stderr",
     "output_type": "stream",
     "text": [
      "WARNING:absl:Found untraced functions such as gru_cell_layer_call_fn, gru_cell_layer_call_and_return_conditional_losses while saving (showing 2 of 2). These functions will not be directly callable after loading.\n"
     ]
    },
    {
     "name": "stdout",
     "output_type": "stream",
     "text": [
      "INFO:tensorflow:Assets written to: best_model\\assets\n"
     ]
    },
    {
     "name": "stderr",
     "output_type": "stream",
     "text": [
      "INFO:tensorflow:Assets written to: best_model\\assets\n",
      "WARNING:absl:<keras.layers.recurrent.GRUCell object at 0x0000022BCE4C1748> has the same name 'GRUCell' as a built-in Keras object. Consider renaming <class 'keras.layers.recurrent.GRUCell'> to avoid naming conflicts when loading with `tf.keras.models.load_model`. If renaming is not possible, pass the object in the `custom_objects` parameter of the load function.\n",
      "WARNING:absl:<keras.layers.recurrent.GRUCell object at 0x0000022BCE54D988> has the same name 'GRUCell' as a built-in Keras object. Consider renaming <class 'keras.layers.recurrent.GRUCell'> to avoid naming conflicts when loading with `tf.keras.models.load_model`. If renaming is not possible, pass the object in the `custom_objects` parameter of the load function.\n"
     ]
    },
    {
     "name": "stdout",
     "output_type": "stream",
     "text": [
      "1110/1110 [==============================] - 10s 9ms/step - loss: 123.9441 - root_mean_squared_error: 11.1330\n",
      "Epoch 69/200\n",
      "1102/1110 [============================>.] - ETA: 0s - loss: 121.8391 - root_mean_squared_error: 11.0381"
     ]
    },
    {
     "name": "stderr",
     "output_type": "stream",
     "text": [
      "WARNING:absl:Found untraced functions such as gru_cell_layer_call_fn, gru_cell_layer_call_and_return_conditional_losses while saving (showing 2 of 2). These functions will not be directly callable after loading.\n"
     ]
    },
    {
     "name": "stdout",
     "output_type": "stream",
     "text": [
      "INFO:tensorflow:Assets written to: best_model\\assets\n"
     ]
    },
    {
     "name": "stderr",
     "output_type": "stream",
     "text": [
      "INFO:tensorflow:Assets written to: best_model\\assets\n",
      "WARNING:absl:<keras.layers.recurrent.GRUCell object at 0x0000022BCE4C1748> has the same name 'GRUCell' as a built-in Keras object. Consider renaming <class 'keras.layers.recurrent.GRUCell'> to avoid naming conflicts when loading with `tf.keras.models.load_model`. If renaming is not possible, pass the object in the `custom_objects` parameter of the load function.\n",
      "WARNING:absl:<keras.layers.recurrent.GRUCell object at 0x0000022BCE54D988> has the same name 'GRUCell' as a built-in Keras object. Consider renaming <class 'keras.layers.recurrent.GRUCell'> to avoid naming conflicts when loading with `tf.keras.models.load_model`. If renaming is not possible, pass the object in the `custom_objects` parameter of the load function.\n"
     ]
    },
    {
     "name": "stdout",
     "output_type": "stream",
     "text": [
      "1110/1110 [==============================] - 10s 9ms/step - loss: 122.5974 - root_mean_squared_error: 11.0724\n",
      "Epoch 70/200\n",
      "1108/1110 [============================>.] - ETA: 0s - loss: 122.3295 - root_mean_squared_error: 11.0603"
     ]
    },
    {
     "name": "stderr",
     "output_type": "stream",
     "text": [
      "WARNING:absl:Found untraced functions such as gru_cell_layer_call_fn, gru_cell_layer_call_and_return_conditional_losses while saving (showing 2 of 2). These functions will not be directly callable after loading.\n"
     ]
    },
    {
     "name": "stdout",
     "output_type": "stream",
     "text": [
      "INFO:tensorflow:Assets written to: best_model\\assets\n"
     ]
    },
    {
     "name": "stderr",
     "output_type": "stream",
     "text": [
      "INFO:tensorflow:Assets written to: best_model\\assets\n",
      "WARNING:absl:<keras.layers.recurrent.GRUCell object at 0x0000022BCE4C1748> has the same name 'GRUCell' as a built-in Keras object. Consider renaming <class 'keras.layers.recurrent.GRUCell'> to avoid naming conflicts when loading with `tf.keras.models.load_model`. If renaming is not possible, pass the object in the `custom_objects` parameter of the load function.\n",
      "WARNING:absl:<keras.layers.recurrent.GRUCell object at 0x0000022BCE54D988> has the same name 'GRUCell' as a built-in Keras object. Consider renaming <class 'keras.layers.recurrent.GRUCell'> to avoid naming conflicts when loading with `tf.keras.models.load_model`. If renaming is not possible, pass the object in the `custom_objects` parameter of the load function.\n"
     ]
    },
    {
     "name": "stdout",
     "output_type": "stream",
     "text": [
      "1110/1110 [==============================] - 10s 9ms/step - loss: 122.2894 - root_mean_squared_error: 11.0585\n",
      "Epoch 71/200\n",
      "1106/1110 [============================>.] - ETA: 0s - loss: 121.5531 - root_mean_squared_error: 11.0251"
     ]
    },
    {
     "name": "stderr",
     "output_type": "stream",
     "text": [
      "WARNING:absl:Found untraced functions such as gru_cell_layer_call_fn, gru_cell_layer_call_and_return_conditional_losses while saving (showing 2 of 2). These functions will not be directly callable after loading.\n"
     ]
    },
    {
     "name": "stdout",
     "output_type": "stream",
     "text": [
      "INFO:tensorflow:Assets written to: best_model\\assets\n"
     ]
    },
    {
     "name": "stderr",
     "output_type": "stream",
     "text": [
      "INFO:tensorflow:Assets written to: best_model\\assets\n",
      "WARNING:absl:<keras.layers.recurrent.GRUCell object at 0x0000022BCE4C1748> has the same name 'GRUCell' as a built-in Keras object. Consider renaming <class 'keras.layers.recurrent.GRUCell'> to avoid naming conflicts when loading with `tf.keras.models.load_model`. If renaming is not possible, pass the object in the `custom_objects` parameter of the load function.\n",
      "WARNING:absl:<keras.layers.recurrent.GRUCell object at 0x0000022BCE54D988> has the same name 'GRUCell' as a built-in Keras object. Consider renaming <class 'keras.layers.recurrent.GRUCell'> to avoid naming conflicts when loading with `tf.keras.models.load_model`. If renaming is not possible, pass the object in the `custom_objects` parameter of the load function.\n"
     ]
    },
    {
     "name": "stdout",
     "output_type": "stream",
     "text": [
      "1110/1110 [==============================] - 10s 9ms/step - loss: 121.6696 - root_mean_squared_error: 11.0304\n",
      "Epoch 72/200\n",
      "1105/1110 [============================>.] - ETA: 0s - loss: 121.7041 - root_mean_squared_error: 11.0320"
     ]
    },
    {
     "name": "stderr",
     "output_type": "stream",
     "text": [
      "WARNING:absl:Found untraced functions such as gru_cell_layer_call_fn, gru_cell_layer_call_and_return_conditional_losses while saving (showing 2 of 2). These functions will not be directly callable after loading.\n"
     ]
    },
    {
     "name": "stdout",
     "output_type": "stream",
     "text": [
      "INFO:tensorflow:Assets written to: best_model\\assets\n"
     ]
    },
    {
     "name": "stderr",
     "output_type": "stream",
     "text": [
      "INFO:tensorflow:Assets written to: best_model\\assets\n",
      "WARNING:absl:<keras.layers.recurrent.GRUCell object at 0x0000022BCE4C1748> has the same name 'GRUCell' as a built-in Keras object. Consider renaming <class 'keras.layers.recurrent.GRUCell'> to avoid naming conflicts when loading with `tf.keras.models.load_model`. If renaming is not possible, pass the object in the `custom_objects` parameter of the load function.\n",
      "WARNING:absl:<keras.layers.recurrent.GRUCell object at 0x0000022BCE54D988> has the same name 'GRUCell' as a built-in Keras object. Consider renaming <class 'keras.layers.recurrent.GRUCell'> to avoid naming conflicts when loading with `tf.keras.models.load_model`. If renaming is not possible, pass the object in the `custom_objects` parameter of the load function.\n"
     ]
    },
    {
     "name": "stdout",
     "output_type": "stream",
     "text": [
      "1110/1110 [==============================] - 10s 9ms/step - loss: 121.5862 - root_mean_squared_error: 11.0266\n",
      "Epoch 73/200\n",
      "1105/1110 [============================>.] - ETA: 0s - loss: 120.2521 - root_mean_squared_error: 10.9660"
     ]
    },
    {
     "name": "stderr",
     "output_type": "stream",
     "text": [
      "WARNING:absl:Found untraced functions such as gru_cell_layer_call_fn, gru_cell_layer_call_and_return_conditional_losses while saving (showing 2 of 2). These functions will not be directly callable after loading.\n"
     ]
    },
    {
     "name": "stdout",
     "output_type": "stream",
     "text": [
      "INFO:tensorflow:Assets written to: best_model\\assets\n"
     ]
    },
    {
     "name": "stderr",
     "output_type": "stream",
     "text": [
      "INFO:tensorflow:Assets written to: best_model\\assets\n",
      "WARNING:absl:<keras.layers.recurrent.GRUCell object at 0x0000022BCE4C1748> has the same name 'GRUCell' as a built-in Keras object. Consider renaming <class 'keras.layers.recurrent.GRUCell'> to avoid naming conflicts when loading with `tf.keras.models.load_model`. If renaming is not possible, pass the object in the `custom_objects` parameter of the load function.\n",
      "WARNING:absl:<keras.layers.recurrent.GRUCell object at 0x0000022BCE54D988> has the same name 'GRUCell' as a built-in Keras object. Consider renaming <class 'keras.layers.recurrent.GRUCell'> to avoid naming conflicts when loading with `tf.keras.models.load_model`. If renaming is not possible, pass the object in the `custom_objects` parameter of the load function.\n"
     ]
    },
    {
     "name": "stdout",
     "output_type": "stream",
     "text": [
      "1110/1110 [==============================] - 10s 9ms/step - loss: 120.4415 - root_mean_squared_error: 10.9746\n",
      "Epoch 74/200\n",
      "1106/1110 [============================>.] - ETA: 0s - loss: 120.3202 - root_mean_squared_error: 10.9691"
     ]
    },
    {
     "name": "stderr",
     "output_type": "stream",
     "text": [
      "WARNING:absl:Found untraced functions such as gru_cell_layer_call_fn, gru_cell_layer_call_and_return_conditional_losses while saving (showing 2 of 2). These functions will not be directly callable after loading.\n"
     ]
    },
    {
     "name": "stdout",
     "output_type": "stream",
     "text": [
      "INFO:tensorflow:Assets written to: best_model\\assets\n"
     ]
    },
    {
     "name": "stderr",
     "output_type": "stream",
     "text": [
      "INFO:tensorflow:Assets written to: best_model\\assets\n",
      "WARNING:absl:<keras.layers.recurrent.GRUCell object at 0x0000022BCE4C1748> has the same name 'GRUCell' as a built-in Keras object. Consider renaming <class 'keras.layers.recurrent.GRUCell'> to avoid naming conflicts when loading with `tf.keras.models.load_model`. If renaming is not possible, pass the object in the `custom_objects` parameter of the load function.\n",
      "WARNING:absl:<keras.layers.recurrent.GRUCell object at 0x0000022BCE54D988> has the same name 'GRUCell' as a built-in Keras object. Consider renaming <class 'keras.layers.recurrent.GRUCell'> to avoid naming conflicts when loading with `tf.keras.models.load_model`. If renaming is not possible, pass the object in the `custom_objects` parameter of the load function.\n"
     ]
    },
    {
     "name": "stdout",
     "output_type": "stream",
     "text": [
      "1110/1110 [==============================] - 10s 9ms/step - loss: 120.1998 - root_mean_squared_error: 10.9636\n",
      "Epoch 75/200\n",
      "1105/1110 [============================>.] - ETA: 0s - loss: 119.5306 - root_mean_squared_error: 10.9330"
     ]
    },
    {
     "name": "stderr",
     "output_type": "stream",
     "text": [
      "WARNING:absl:Found untraced functions such as gru_cell_layer_call_fn, gru_cell_layer_call_and_return_conditional_losses while saving (showing 2 of 2). These functions will not be directly callable after loading.\n"
     ]
    },
    {
     "name": "stdout",
     "output_type": "stream",
     "text": [
      "INFO:tensorflow:Assets written to: best_model\\assets\n"
     ]
    },
    {
     "name": "stderr",
     "output_type": "stream",
     "text": [
      "INFO:tensorflow:Assets written to: best_model\\assets\n",
      "WARNING:absl:<keras.layers.recurrent.GRUCell object at 0x0000022BCE4C1748> has the same name 'GRUCell' as a built-in Keras object. Consider renaming <class 'keras.layers.recurrent.GRUCell'> to avoid naming conflicts when loading with `tf.keras.models.load_model`. If renaming is not possible, pass the object in the `custom_objects` parameter of the load function.\n",
      "WARNING:absl:<keras.layers.recurrent.GRUCell object at 0x0000022BCE54D988> has the same name 'GRUCell' as a built-in Keras object. Consider renaming <class 'keras.layers.recurrent.GRUCell'> to avoid naming conflicts when loading with `tf.keras.models.load_model`. If renaming is not possible, pass the object in the `custom_objects` parameter of the load function.\n"
     ]
    },
    {
     "name": "stdout",
     "output_type": "stream",
     "text": [
      "1110/1110 [==============================] - 10s 9ms/step - loss: 119.6423 - root_mean_squared_error: 10.9381\n",
      "Epoch 76/200\n",
      "1104/1110 [============================>.] - ETA: 0s - loss: 119.6029 - root_mean_squared_error: 10.9363"
     ]
    },
    {
     "name": "stderr",
     "output_type": "stream",
     "text": [
      "WARNING:absl:Found untraced functions such as gru_cell_layer_call_fn, gru_cell_layer_call_and_return_conditional_losses while saving (showing 2 of 2). These functions will not be directly callable after loading.\n"
     ]
    },
    {
     "name": "stdout",
     "output_type": "stream",
     "text": [
      "INFO:tensorflow:Assets written to: best_model\\assets\n"
     ]
    },
    {
     "name": "stderr",
     "output_type": "stream",
     "text": [
      "INFO:tensorflow:Assets written to: best_model\\assets\n",
      "WARNING:absl:<keras.layers.recurrent.GRUCell object at 0x0000022BCE4C1748> has the same name 'GRUCell' as a built-in Keras object. Consider renaming <class 'keras.layers.recurrent.GRUCell'> to avoid naming conflicts when loading with `tf.keras.models.load_model`. If renaming is not possible, pass the object in the `custom_objects` parameter of the load function.\n",
      "WARNING:absl:<keras.layers.recurrent.GRUCell object at 0x0000022BCE54D988> has the same name 'GRUCell' as a built-in Keras object. Consider renaming <class 'keras.layers.recurrent.GRUCell'> to avoid naming conflicts when loading with `tf.keras.models.load_model`. If renaming is not possible, pass the object in the `custom_objects` parameter of the load function.\n"
     ]
    },
    {
     "name": "stdout",
     "output_type": "stream",
     "text": [
      "1110/1110 [==============================] - 9s 8ms/step - loss: 119.5165 - root_mean_squared_error: 10.9324\n",
      "Epoch 77/200\n",
      "1105/1110 [============================>.] - ETA: 0s - loss: 118.1438 - root_mean_squared_error: 10.8694"
     ]
    },
    {
     "name": "stderr",
     "output_type": "stream",
     "text": [
      "WARNING:absl:Found untraced functions such as gru_cell_layer_call_fn, gru_cell_layer_call_and_return_conditional_losses while saving (showing 2 of 2). These functions will not be directly callable after loading.\n"
     ]
    },
    {
     "name": "stdout",
     "output_type": "stream",
     "text": [
      "INFO:tensorflow:Assets written to: best_model\\assets\n"
     ]
    },
    {
     "name": "stderr",
     "output_type": "stream",
     "text": [
      "INFO:tensorflow:Assets written to: best_model\\assets\n",
      "WARNING:absl:<keras.layers.recurrent.GRUCell object at 0x0000022BCE4C1748> has the same name 'GRUCell' as a built-in Keras object. Consider renaming <class 'keras.layers.recurrent.GRUCell'> to avoid naming conflicts when loading with `tf.keras.models.load_model`. If renaming is not possible, pass the object in the `custom_objects` parameter of the load function.\n",
      "WARNING:absl:<keras.layers.recurrent.GRUCell object at 0x0000022BCE54D988> has the same name 'GRUCell' as a built-in Keras object. Consider renaming <class 'keras.layers.recurrent.GRUCell'> to avoid naming conflicts when loading with `tf.keras.models.load_model`. If renaming is not possible, pass the object in the `custom_objects` parameter of the load function.\n"
     ]
    },
    {
     "name": "stdout",
     "output_type": "stream",
     "text": [
      "1110/1110 [==============================] - 10s 9ms/step - loss: 117.8981 - root_mean_squared_error: 10.8581\n",
      "Epoch 78/200\n",
      "1107/1110 [============================>.] - ETA: 0s - loss: 117.2401 - root_mean_squared_error: 10.8277"
     ]
    },
    {
     "name": "stderr",
     "output_type": "stream",
     "text": [
      "WARNING:absl:Found untraced functions such as gru_cell_layer_call_fn, gru_cell_layer_call_and_return_conditional_losses while saving (showing 2 of 2). These functions will not be directly callable after loading.\n"
     ]
    },
    {
     "name": "stdout",
     "output_type": "stream",
     "text": [
      "INFO:tensorflow:Assets written to: best_model\\assets\n"
     ]
    },
    {
     "name": "stderr",
     "output_type": "stream",
     "text": [
      "INFO:tensorflow:Assets written to: best_model\\assets\n",
      "WARNING:absl:<keras.layers.recurrent.GRUCell object at 0x0000022BCE4C1748> has the same name 'GRUCell' as a built-in Keras object. Consider renaming <class 'keras.layers.recurrent.GRUCell'> to avoid naming conflicts when loading with `tf.keras.models.load_model`. If renaming is not possible, pass the object in the `custom_objects` parameter of the load function.\n",
      "WARNING:absl:<keras.layers.recurrent.GRUCell object at 0x0000022BCE54D988> has the same name 'GRUCell' as a built-in Keras object. Consider renaming <class 'keras.layers.recurrent.GRUCell'> to avoid naming conflicts when loading with `tf.keras.models.load_model`. If renaming is not possible, pass the object in the `custom_objects` parameter of the load function.\n"
     ]
    },
    {
     "name": "stdout",
     "output_type": "stream",
     "text": [
      "1110/1110 [==============================] - 10s 9ms/step - loss: 117.2972 - root_mean_squared_error: 10.8304\n",
      "Epoch 79/200\n",
      "1110/1110 [==============================] - 6s 6ms/step - loss: 117.7412 - root_mean_squared_error: 10.8509\n",
      "Epoch 80/200\n",
      "1105/1110 [============================>.] - ETA: 0s - loss: 116.1912 - root_mean_squared_error: 10.7792"
     ]
    },
    {
     "name": "stderr",
     "output_type": "stream",
     "text": [
      "WARNING:absl:Found untraced functions such as gru_cell_layer_call_fn, gru_cell_layer_call_and_return_conditional_losses while saving (showing 2 of 2). These functions will not be directly callable after loading.\n"
     ]
    },
    {
     "name": "stdout",
     "output_type": "stream",
     "text": [
      "INFO:tensorflow:Assets written to: best_model\\assets\n"
     ]
    },
    {
     "name": "stderr",
     "output_type": "stream",
     "text": [
      "INFO:tensorflow:Assets written to: best_model\\assets\n",
      "WARNING:absl:<keras.layers.recurrent.GRUCell object at 0x0000022BCE4C1748> has the same name 'GRUCell' as a built-in Keras object. Consider renaming <class 'keras.layers.recurrent.GRUCell'> to avoid naming conflicts when loading with `tf.keras.models.load_model`. If renaming is not possible, pass the object in the `custom_objects` parameter of the load function.\n",
      "WARNING:absl:<keras.layers.recurrent.GRUCell object at 0x0000022BCE54D988> has the same name 'GRUCell' as a built-in Keras object. Consider renaming <class 'keras.layers.recurrent.GRUCell'> to avoid naming conflicts when loading with `tf.keras.models.load_model`. If renaming is not possible, pass the object in the `custom_objects` parameter of the load function.\n"
     ]
    },
    {
     "name": "stdout",
     "output_type": "stream",
     "text": [
      "1110/1110 [==============================] - 9s 9ms/step - loss: 116.1097 - root_mean_squared_error: 10.7754\n",
      "Epoch 81/200\n",
      "1109/1110 [============================>.] - ETA: 0s - loss: 115.4565 - root_mean_squared_error: 10.7451"
     ]
    },
    {
     "name": "stderr",
     "output_type": "stream",
     "text": [
      "WARNING:absl:Found untraced functions such as gru_cell_layer_call_fn, gru_cell_layer_call_and_return_conditional_losses while saving (showing 2 of 2). These functions will not be directly callable after loading.\n"
     ]
    },
    {
     "name": "stdout",
     "output_type": "stream",
     "text": [
      "INFO:tensorflow:Assets written to: best_model\\assets\n"
     ]
    },
    {
     "name": "stderr",
     "output_type": "stream",
     "text": [
      "INFO:tensorflow:Assets written to: best_model\\assets\n",
      "WARNING:absl:<keras.layers.recurrent.GRUCell object at 0x0000022BCE4C1748> has the same name 'GRUCell' as a built-in Keras object. Consider renaming <class 'keras.layers.recurrent.GRUCell'> to avoid naming conflicts when loading with `tf.keras.models.load_model`. If renaming is not possible, pass the object in the `custom_objects` parameter of the load function.\n",
      "WARNING:absl:<keras.layers.recurrent.GRUCell object at 0x0000022BCE54D988> has the same name 'GRUCell' as a built-in Keras object. Consider renaming <class 'keras.layers.recurrent.GRUCell'> to avoid naming conflicts when loading with `tf.keras.models.load_model`. If renaming is not possible, pass the object in the `custom_objects` parameter of the load function.\n"
     ]
    },
    {
     "name": "stdout",
     "output_type": "stream",
     "text": [
      "1110/1110 [==============================] - 10s 9ms/step - loss: 115.4740 - root_mean_squared_error: 10.7459\n",
      "Epoch 82/200\n",
      "1106/1110 [============================>.] - ETA: 0s - loss: 114.8888 - root_mean_squared_error: 10.7186"
     ]
    },
    {
     "name": "stderr",
     "output_type": "stream",
     "text": [
      "WARNING:absl:Found untraced functions such as gru_cell_layer_call_fn, gru_cell_layer_call_and_return_conditional_losses while saving (showing 2 of 2). These functions will not be directly callable after loading.\n"
     ]
    },
    {
     "name": "stdout",
     "output_type": "stream",
     "text": [
      "INFO:tensorflow:Assets written to: best_model\\assets\n"
     ]
    },
    {
     "name": "stderr",
     "output_type": "stream",
     "text": [
      "INFO:tensorflow:Assets written to: best_model\\assets\n",
      "WARNING:absl:<keras.layers.recurrent.GRUCell object at 0x0000022BCE4C1748> has the same name 'GRUCell' as a built-in Keras object. Consider renaming <class 'keras.layers.recurrent.GRUCell'> to avoid naming conflicts when loading with `tf.keras.models.load_model`. If renaming is not possible, pass the object in the `custom_objects` parameter of the load function.\n",
      "WARNING:absl:<keras.layers.recurrent.GRUCell object at 0x0000022BCE54D988> has the same name 'GRUCell' as a built-in Keras object. Consider renaming <class 'keras.layers.recurrent.GRUCell'> to avoid naming conflicts when loading with `tf.keras.models.load_model`. If renaming is not possible, pass the object in the `custom_objects` parameter of the load function.\n"
     ]
    },
    {
     "name": "stdout",
     "output_type": "stream",
     "text": [
      "1110/1110 [==============================] - 9s 8ms/step - loss: 114.9141 - root_mean_squared_error: 10.7198\n",
      "Epoch 83/200\n",
      "1110/1110 [==============================] - 6s 6ms/step - loss: 115.0689 - root_mean_squared_error: 10.7270\n",
      "Epoch 84/200\n",
      "1108/1110 [============================>.] - ETA: 0s - loss: 113.0021 - root_mean_squared_error: 10.6302"
     ]
    },
    {
     "name": "stderr",
     "output_type": "stream",
     "text": [
      "WARNING:absl:Found untraced functions such as gru_cell_layer_call_fn, gru_cell_layer_call_and_return_conditional_losses while saving (showing 2 of 2). These functions will not be directly callable after loading.\n"
     ]
    },
    {
     "name": "stdout",
     "output_type": "stream",
     "text": [
      "INFO:tensorflow:Assets written to: best_model\\assets\n"
     ]
    },
    {
     "name": "stderr",
     "output_type": "stream",
     "text": [
      "INFO:tensorflow:Assets written to: best_model\\assets\n",
      "WARNING:absl:<keras.layers.recurrent.GRUCell object at 0x0000022BCE4C1748> has the same name 'GRUCell' as a built-in Keras object. Consider renaming <class 'keras.layers.recurrent.GRUCell'> to avoid naming conflicts when loading with `tf.keras.models.load_model`. If renaming is not possible, pass the object in the `custom_objects` parameter of the load function.\n",
      "WARNING:absl:<keras.layers.recurrent.GRUCell object at 0x0000022BCE54D988> has the same name 'GRUCell' as a built-in Keras object. Consider renaming <class 'keras.layers.recurrent.GRUCell'> to avoid naming conflicts when loading with `tf.keras.models.load_model`. If renaming is not possible, pass the object in the `custom_objects` parameter of the load function.\n"
     ]
    },
    {
     "name": "stdout",
     "output_type": "stream",
     "text": [
      "1110/1110 [==============================] - 10s 9ms/step - loss: 113.1115 - root_mean_squared_error: 10.6354\n",
      "Epoch 85/200\n",
      "1106/1110 [============================>.] - ETA: 0s - loss: 113.1961 - root_mean_squared_error: 10.6394"
     ]
    },
    {
     "name": "stderr",
     "output_type": "stream",
     "text": [
      "WARNING:absl:Found untraced functions such as gru_cell_layer_call_fn, gru_cell_layer_call_and_return_conditional_losses while saving (showing 2 of 2). These functions will not be directly callable after loading.\n"
     ]
    },
    {
     "name": "stdout",
     "output_type": "stream",
     "text": [
      "INFO:tensorflow:Assets written to: best_model\\assets\n"
     ]
    },
    {
     "name": "stderr",
     "output_type": "stream",
     "text": [
      "INFO:tensorflow:Assets written to: best_model\\assets\n",
      "WARNING:absl:<keras.layers.recurrent.GRUCell object at 0x0000022BCE4C1748> has the same name 'GRUCell' as a built-in Keras object. Consider renaming <class 'keras.layers.recurrent.GRUCell'> to avoid naming conflicts when loading with `tf.keras.models.load_model`. If renaming is not possible, pass the object in the `custom_objects` parameter of the load function.\n",
      "WARNING:absl:<keras.layers.recurrent.GRUCell object at 0x0000022BCE54D988> has the same name 'GRUCell' as a built-in Keras object. Consider renaming <class 'keras.layers.recurrent.GRUCell'> to avoid naming conflicts when loading with `tf.keras.models.load_model`. If renaming is not possible, pass the object in the `custom_objects` parameter of the load function.\n"
     ]
    },
    {
     "name": "stdout",
     "output_type": "stream",
     "text": [
      "1110/1110 [==============================] - 10s 9ms/step - loss: 113.0943 - root_mean_squared_error: 10.6346\n",
      "Epoch 86/200\n",
      "1110/1110 [==============================] - 6s 5ms/step - loss: 113.1583 - root_mean_squared_error: 10.6376\n",
      "Epoch 87/200\n",
      "1098/1110 [============================>.] - ETA: 0s - loss: 111.5343 - root_mean_squared_error: 10.5610"
     ]
    },
    {
     "name": "stderr",
     "output_type": "stream",
     "text": [
      "WARNING:absl:Found untraced functions such as gru_cell_layer_call_fn, gru_cell_layer_call_and_return_conditional_losses while saving (showing 2 of 2). These functions will not be directly callable after loading.\n"
     ]
    },
    {
     "name": "stdout",
     "output_type": "stream",
     "text": [
      "INFO:tensorflow:Assets written to: best_model\\assets\n"
     ]
    },
    {
     "name": "stderr",
     "output_type": "stream",
     "text": [
      "INFO:tensorflow:Assets written to: best_model\\assets\n",
      "WARNING:absl:<keras.layers.recurrent.GRUCell object at 0x0000022BCE4C1748> has the same name 'GRUCell' as a built-in Keras object. Consider renaming <class 'keras.layers.recurrent.GRUCell'> to avoid naming conflicts when loading with `tf.keras.models.load_model`. If renaming is not possible, pass the object in the `custom_objects` parameter of the load function.\n",
      "WARNING:absl:<keras.layers.recurrent.GRUCell object at 0x0000022BCE54D988> has the same name 'GRUCell' as a built-in Keras object. Consider renaming <class 'keras.layers.recurrent.GRUCell'> to avoid naming conflicts when loading with `tf.keras.models.load_model`. If renaming is not possible, pass the object in the `custom_objects` parameter of the load function.\n"
     ]
    },
    {
     "name": "stdout",
     "output_type": "stream",
     "text": [
      "1110/1110 [==============================] - 9s 8ms/step - loss: 112.0188 - root_mean_squared_error: 10.5839\n",
      "Epoch 88/200\n",
      "1100/1110 [============================>.] - ETA: 0s - loss: 111.3207 - root_mean_squared_error: 10.5509"
     ]
    },
    {
     "name": "stderr",
     "output_type": "stream",
     "text": [
      "WARNING:absl:Found untraced functions such as gru_cell_layer_call_fn, gru_cell_layer_call_and_return_conditional_losses while saving (showing 2 of 2). These functions will not be directly callable after loading.\n"
     ]
    },
    {
     "name": "stdout",
     "output_type": "stream",
     "text": [
      "INFO:tensorflow:Assets written to: best_model\\assets\n"
     ]
    },
    {
     "name": "stderr",
     "output_type": "stream",
     "text": [
      "INFO:tensorflow:Assets written to: best_model\\assets\n",
      "WARNING:absl:<keras.layers.recurrent.GRUCell object at 0x0000022BCE4C1748> has the same name 'GRUCell' as a built-in Keras object. Consider renaming <class 'keras.layers.recurrent.GRUCell'> to avoid naming conflicts when loading with `tf.keras.models.load_model`. If renaming is not possible, pass the object in the `custom_objects` parameter of the load function.\n",
      "WARNING:absl:<keras.layers.recurrent.GRUCell object at 0x0000022BCE54D988> has the same name 'GRUCell' as a built-in Keras object. Consider renaming <class 'keras.layers.recurrent.GRUCell'> to avoid naming conflicts when loading with `tf.keras.models.load_model`. If renaming is not possible, pass the object in the `custom_objects` parameter of the load function.\n"
     ]
    },
    {
     "name": "stdout",
     "output_type": "stream",
     "text": [
      "1110/1110 [==============================] - 10s 9ms/step - loss: 111.1687 - root_mean_squared_error: 10.5437\n",
      "Epoch 89/200\n",
      "1105/1110 [============================>.] - ETA: 0s - loss: 110.2457 - root_mean_squared_error: 10.4998"
     ]
    },
    {
     "name": "stderr",
     "output_type": "stream",
     "text": [
      "WARNING:absl:Found untraced functions such as gru_cell_layer_call_fn, gru_cell_layer_call_and_return_conditional_losses while saving (showing 2 of 2). These functions will not be directly callable after loading.\n"
     ]
    },
    {
     "name": "stdout",
     "output_type": "stream",
     "text": [
      "INFO:tensorflow:Assets written to: best_model\\assets\n"
     ]
    },
    {
     "name": "stderr",
     "output_type": "stream",
     "text": [
      "INFO:tensorflow:Assets written to: best_model\\assets\n",
      "WARNING:absl:<keras.layers.recurrent.GRUCell object at 0x0000022BCE4C1748> has the same name 'GRUCell' as a built-in Keras object. Consider renaming <class 'keras.layers.recurrent.GRUCell'> to avoid naming conflicts when loading with `tf.keras.models.load_model`. If renaming is not possible, pass the object in the `custom_objects` parameter of the load function.\n",
      "WARNING:absl:<keras.layers.recurrent.GRUCell object at 0x0000022BCE54D988> has the same name 'GRUCell' as a built-in Keras object. Consider renaming <class 'keras.layers.recurrent.GRUCell'> to avoid naming conflicts when loading with `tf.keras.models.load_model`. If renaming is not possible, pass the object in the `custom_objects` parameter of the load function.\n"
     ]
    },
    {
     "name": "stdout",
     "output_type": "stream",
     "text": [
      "1110/1110 [==============================] - 10s 9ms/step - loss: 110.3927 - root_mean_squared_error: 10.5068\n",
      "Epoch 90/200\n",
      "1110/1110 [==============================] - 6s 5ms/step - loss: 110.9928 - root_mean_squared_error: 10.5353\n",
      "Epoch 91/200\n",
      "1101/1110 [============================>.] - ETA: 0s - loss: 110.5866 - root_mean_squared_error: 10.5160"
     ]
    },
    {
     "name": "stderr",
     "output_type": "stream",
     "text": [
      "WARNING:absl:Found untraced functions such as gru_cell_layer_call_fn, gru_cell_layer_call_and_return_conditional_losses while saving (showing 2 of 2). These functions will not be directly callable after loading.\n"
     ]
    },
    {
     "name": "stdout",
     "output_type": "stream",
     "text": [
      "INFO:tensorflow:Assets written to: best_model\\assets\n"
     ]
    },
    {
     "name": "stderr",
     "output_type": "stream",
     "text": [
      "INFO:tensorflow:Assets written to: best_model\\assets\n",
      "WARNING:absl:<keras.layers.recurrent.GRUCell object at 0x0000022BCE4C1748> has the same name 'GRUCell' as a built-in Keras object. Consider renaming <class 'keras.layers.recurrent.GRUCell'> to avoid naming conflicts when loading with `tf.keras.models.load_model`. If renaming is not possible, pass the object in the `custom_objects` parameter of the load function.\n",
      "WARNING:absl:<keras.layers.recurrent.GRUCell object at 0x0000022BCE54D988> has the same name 'GRUCell' as a built-in Keras object. Consider renaming <class 'keras.layers.recurrent.GRUCell'> to avoid naming conflicts when loading with `tf.keras.models.load_model`. If renaming is not possible, pass the object in the `custom_objects` parameter of the load function.\n"
     ]
    },
    {
     "name": "stdout",
     "output_type": "stream",
     "text": [
      "1110/1110 [==============================] - 9s 8ms/step - loss: 110.2712 - root_mean_squared_error: 10.5010\n",
      "Epoch 92/200\n",
      "1103/1110 [============================>.] - ETA: 0s - loss: 109.6887 - root_mean_squared_error: 10.4732"
     ]
    },
    {
     "name": "stderr",
     "output_type": "stream",
     "text": [
      "WARNING:absl:Found untraced functions such as gru_cell_layer_call_fn, gru_cell_layer_call_and_return_conditional_losses while saving (showing 2 of 2). These functions will not be directly callable after loading.\n"
     ]
    },
    {
     "name": "stdout",
     "output_type": "stream",
     "text": [
      "INFO:tensorflow:Assets written to: best_model\\assets\n"
     ]
    },
    {
     "name": "stderr",
     "output_type": "stream",
     "text": [
      "INFO:tensorflow:Assets written to: best_model\\assets\n",
      "WARNING:absl:<keras.layers.recurrent.GRUCell object at 0x0000022BCE4C1748> has the same name 'GRUCell' as a built-in Keras object. Consider renaming <class 'keras.layers.recurrent.GRUCell'> to avoid naming conflicts when loading with `tf.keras.models.load_model`. If renaming is not possible, pass the object in the `custom_objects` parameter of the load function.\n",
      "WARNING:absl:<keras.layers.recurrent.GRUCell object at 0x0000022BCE54D988> has the same name 'GRUCell' as a built-in Keras object. Consider renaming <class 'keras.layers.recurrent.GRUCell'> to avoid naming conflicts when loading with `tf.keras.models.load_model`. If renaming is not possible, pass the object in the `custom_objects` parameter of the load function.\n"
     ]
    },
    {
     "name": "stdout",
     "output_type": "stream",
     "text": [
      "1110/1110 [==============================] - 10s 9ms/step - loss: 109.7373 - root_mean_squared_error: 10.4756\n",
      "Epoch 93/200\n",
      "1107/1110 [============================>.] - ETA: 0s - loss: 108.2615 - root_mean_squared_error: 10.4049"
     ]
    },
    {
     "name": "stderr",
     "output_type": "stream",
     "text": [
      "WARNING:absl:Found untraced functions such as gru_cell_layer_call_fn, gru_cell_layer_call_and_return_conditional_losses while saving (showing 2 of 2). These functions will not be directly callable after loading.\n"
     ]
    },
    {
     "name": "stdout",
     "output_type": "stream",
     "text": [
      "INFO:tensorflow:Assets written to: best_model\\assets\n"
     ]
    },
    {
     "name": "stderr",
     "output_type": "stream",
     "text": [
      "INFO:tensorflow:Assets written to: best_model\\assets\n",
      "WARNING:absl:<keras.layers.recurrent.GRUCell object at 0x0000022BCE4C1748> has the same name 'GRUCell' as a built-in Keras object. Consider renaming <class 'keras.layers.recurrent.GRUCell'> to avoid naming conflicts when loading with `tf.keras.models.load_model`. If renaming is not possible, pass the object in the `custom_objects` parameter of the load function.\n",
      "WARNING:absl:<keras.layers.recurrent.GRUCell object at 0x0000022BCE54D988> has the same name 'GRUCell' as a built-in Keras object. Consider renaming <class 'keras.layers.recurrent.GRUCell'> to avoid naming conflicts when loading with `tf.keras.models.load_model`. If renaming is not possible, pass the object in the `custom_objects` parameter of the load function.\n"
     ]
    },
    {
     "name": "stdout",
     "output_type": "stream",
     "text": [
      "1110/1110 [==============================] - 10s 9ms/step - loss: 108.4314 - root_mean_squared_error: 10.4130\n",
      "Epoch 94/200\n",
      "1110/1110 [==============================] - 7s 6ms/step - loss: 108.8754 - root_mean_squared_error: 10.4343\n",
      "Epoch 95/200\n",
      "1105/1110 [============================>.] - ETA: 0s - loss: 107.4213 - root_mean_squared_error: 10.3644"
     ]
    },
    {
     "name": "stderr",
     "output_type": "stream",
     "text": [
      "WARNING:absl:Found untraced functions such as gru_cell_layer_call_fn, gru_cell_layer_call_and_return_conditional_losses while saving (showing 2 of 2). These functions will not be directly callable after loading.\n"
     ]
    },
    {
     "name": "stdout",
     "output_type": "stream",
     "text": [
      "INFO:tensorflow:Assets written to: best_model\\assets\n"
     ]
    },
    {
     "name": "stderr",
     "output_type": "stream",
     "text": [
      "INFO:tensorflow:Assets written to: best_model\\assets\n",
      "WARNING:absl:<keras.layers.recurrent.GRUCell object at 0x0000022BCE4C1748> has the same name 'GRUCell' as a built-in Keras object. Consider renaming <class 'keras.layers.recurrent.GRUCell'> to avoid naming conflicts when loading with `tf.keras.models.load_model`. If renaming is not possible, pass the object in the `custom_objects` parameter of the load function.\n",
      "WARNING:absl:<keras.layers.recurrent.GRUCell object at 0x0000022BCE54D988> has the same name 'GRUCell' as a built-in Keras object. Consider renaming <class 'keras.layers.recurrent.GRUCell'> to avoid naming conflicts when loading with `tf.keras.models.load_model`. If renaming is not possible, pass the object in the `custom_objects` parameter of the load function.\n"
     ]
    },
    {
     "name": "stdout",
     "output_type": "stream",
     "text": [
      "1110/1110 [==============================] - 10s 9ms/step - loss: 107.4213 - root_mean_squared_error: 10.3644\n",
      "Epoch 96/200\n",
      "1110/1110 [==============================] - 7s 6ms/step - loss: 107.5788 - root_mean_squared_error: 10.3720\n",
      "Epoch 97/200\n",
      "1107/1110 [============================>.] - ETA: 0s - loss: 106.9453 - root_mean_squared_error: 10.3414"
     ]
    },
    {
     "name": "stderr",
     "output_type": "stream",
     "text": [
      "WARNING:absl:Found untraced functions such as gru_cell_layer_call_fn, gru_cell_layer_call_and_return_conditional_losses while saving (showing 2 of 2). These functions will not be directly callable after loading.\n"
     ]
    },
    {
     "name": "stdout",
     "output_type": "stream",
     "text": [
      "INFO:tensorflow:Assets written to: best_model\\assets\n"
     ]
    },
    {
     "name": "stderr",
     "output_type": "stream",
     "text": [
      "INFO:tensorflow:Assets written to: best_model\\assets\n",
      "WARNING:absl:<keras.layers.recurrent.GRUCell object at 0x0000022BCE4C1748> has the same name 'GRUCell' as a built-in Keras object. Consider renaming <class 'keras.layers.recurrent.GRUCell'> to avoid naming conflicts when loading with `tf.keras.models.load_model`. If renaming is not possible, pass the object in the `custom_objects` parameter of the load function.\n",
      "WARNING:absl:<keras.layers.recurrent.GRUCell object at 0x0000022BCE54D988> has the same name 'GRUCell' as a built-in Keras object. Consider renaming <class 'keras.layers.recurrent.GRUCell'> to avoid naming conflicts when loading with `tf.keras.models.load_model`. If renaming is not possible, pass the object in the `custom_objects` parameter of the load function.\n"
     ]
    },
    {
     "name": "stdout",
     "output_type": "stream",
     "text": [
      "1110/1110 [==============================] - 10s 9ms/step - loss: 107.0000 - root_mean_squared_error: 10.3441\n",
      "Epoch 98/200\n",
      "1106/1110 [============================>.] - ETA: 0s - loss: 106.2842 - root_mean_squared_error: 10.3094"
     ]
    },
    {
     "name": "stderr",
     "output_type": "stream",
     "text": [
      "WARNING:absl:Found untraced functions such as gru_cell_layer_call_fn, gru_cell_layer_call_and_return_conditional_losses while saving (showing 2 of 2). These functions will not be directly callable after loading.\n"
     ]
    },
    {
     "name": "stdout",
     "output_type": "stream",
     "text": [
      "INFO:tensorflow:Assets written to: best_model\\assets\n"
     ]
    },
    {
     "name": "stderr",
     "output_type": "stream",
     "text": [
      "INFO:tensorflow:Assets written to: best_model\\assets\n",
      "WARNING:absl:<keras.layers.recurrent.GRUCell object at 0x0000022BCE4C1748> has the same name 'GRUCell' as a built-in Keras object. Consider renaming <class 'keras.layers.recurrent.GRUCell'> to avoid naming conflicts when loading with `tf.keras.models.load_model`. If renaming is not possible, pass the object in the `custom_objects` parameter of the load function.\n",
      "WARNING:absl:<keras.layers.recurrent.GRUCell object at 0x0000022BCE54D988> has the same name 'GRUCell' as a built-in Keras object. Consider renaming <class 'keras.layers.recurrent.GRUCell'> to avoid naming conflicts when loading with `tf.keras.models.load_model`. If renaming is not possible, pass the object in the `custom_objects` parameter of the load function.\n"
     ]
    },
    {
     "name": "stdout",
     "output_type": "stream",
     "text": [
      "1110/1110 [==============================] - 10s 9ms/step - loss: 106.2025 - root_mean_squared_error: 10.3055\n",
      "Epoch 99/200\n",
      "1104/1110 [============================>.] - ETA: 0s - loss: 105.7157 - root_mean_squared_error: 10.2818"
     ]
    },
    {
     "name": "stderr",
     "output_type": "stream",
     "text": [
      "WARNING:absl:Found untraced functions such as gru_cell_layer_call_fn, gru_cell_layer_call_and_return_conditional_losses while saving (showing 2 of 2). These functions will not be directly callable after loading.\n"
     ]
    },
    {
     "name": "stdout",
     "output_type": "stream",
     "text": [
      "INFO:tensorflow:Assets written to: best_model\\assets\n"
     ]
    },
    {
     "name": "stderr",
     "output_type": "stream",
     "text": [
      "INFO:tensorflow:Assets written to: best_model\\assets\n",
      "WARNING:absl:<keras.layers.recurrent.GRUCell object at 0x0000022BCE4C1748> has the same name 'GRUCell' as a built-in Keras object. Consider renaming <class 'keras.layers.recurrent.GRUCell'> to avoid naming conflicts when loading with `tf.keras.models.load_model`. If renaming is not possible, pass the object in the `custom_objects` parameter of the load function.\n",
      "WARNING:absl:<keras.layers.recurrent.GRUCell object at 0x0000022BCE54D988> has the same name 'GRUCell' as a built-in Keras object. Consider renaming <class 'keras.layers.recurrent.GRUCell'> to avoid naming conflicts when loading with `tf.keras.models.load_model`. If renaming is not possible, pass the object in the `custom_objects` parameter of the load function.\n"
     ]
    },
    {
     "name": "stdout",
     "output_type": "stream",
     "text": [
      "1110/1110 [==============================] - 10s 9ms/step - loss: 105.6347 - root_mean_squared_error: 10.2779\n",
      "Epoch 100/200\n",
      "1109/1110 [============================>.] - ETA: 0s - loss: 105.6538 - root_mean_squared_error: 10.2788"
     ]
    },
    {
     "name": "stderr",
     "output_type": "stream",
     "text": [
      "WARNING:absl:Found untraced functions such as gru_cell_layer_call_fn, gru_cell_layer_call_and_return_conditional_losses while saving (showing 2 of 2). These functions will not be directly callable after loading.\n"
     ]
    },
    {
     "name": "stdout",
     "output_type": "stream",
     "text": [
      "INFO:tensorflow:Assets written to: best_model\\assets\n"
     ]
    },
    {
     "name": "stderr",
     "output_type": "stream",
     "text": [
      "INFO:tensorflow:Assets written to: best_model\\assets\n",
      "WARNING:absl:<keras.layers.recurrent.GRUCell object at 0x0000022BCE4C1748> has the same name 'GRUCell' as a built-in Keras object. Consider renaming <class 'keras.layers.recurrent.GRUCell'> to avoid naming conflicts when loading with `tf.keras.models.load_model`. If renaming is not possible, pass the object in the `custom_objects` parameter of the load function.\n",
      "WARNING:absl:<keras.layers.recurrent.GRUCell object at 0x0000022BCE54D988> has the same name 'GRUCell' as a built-in Keras object. Consider renaming <class 'keras.layers.recurrent.GRUCell'> to avoid naming conflicts when loading with `tf.keras.models.load_model`. If renaming is not possible, pass the object in the `custom_objects` parameter of the load function.\n"
     ]
    },
    {
     "name": "stdout",
     "output_type": "stream",
     "text": [
      "1110/1110 [==============================] - 10s 9ms/step - loss: 105.6321 - root_mean_squared_error: 10.2777\n",
      "Epoch 101/200\n",
      "1105/1110 [============================>.] - ETA: 0s - loss: 104.7008 - root_mean_squared_error: 10.2323"
     ]
    },
    {
     "name": "stderr",
     "output_type": "stream",
     "text": [
      "WARNING:absl:Found untraced functions such as gru_cell_layer_call_fn, gru_cell_layer_call_and_return_conditional_losses while saving (showing 2 of 2). These functions will not be directly callable after loading.\n"
     ]
    },
    {
     "name": "stdout",
     "output_type": "stream",
     "text": [
      "INFO:tensorflow:Assets written to: best_model\\assets\n"
     ]
    },
    {
     "name": "stderr",
     "output_type": "stream",
     "text": [
      "INFO:tensorflow:Assets written to: best_model\\assets\n",
      "WARNING:absl:<keras.layers.recurrent.GRUCell object at 0x0000022BCE4C1748> has the same name 'GRUCell' as a built-in Keras object. Consider renaming <class 'keras.layers.recurrent.GRUCell'> to avoid naming conflicts when loading with `tf.keras.models.load_model`. If renaming is not possible, pass the object in the `custom_objects` parameter of the load function.\n",
      "WARNING:absl:<keras.layers.recurrent.GRUCell object at 0x0000022BCE54D988> has the same name 'GRUCell' as a built-in Keras object. Consider renaming <class 'keras.layers.recurrent.GRUCell'> to avoid naming conflicts when loading with `tf.keras.models.load_model`. If renaming is not possible, pass the object in the `custom_objects` parameter of the load function.\n"
     ]
    },
    {
     "name": "stdout",
     "output_type": "stream",
     "text": [
      "1110/1110 [==============================] - 9s 8ms/step - loss: 104.8224 - root_mean_squared_error: 10.2383\n",
      "Epoch 102/200\n",
      "1107/1110 [============================>.] - ETA: 0s - loss: 104.4445 - root_mean_squared_error: 10.2198"
     ]
    },
    {
     "name": "stderr",
     "output_type": "stream",
     "text": [
      "WARNING:absl:Found untraced functions such as gru_cell_layer_call_fn, gru_cell_layer_call_and_return_conditional_losses while saving (showing 2 of 2). These functions will not be directly callable after loading.\n"
     ]
    },
    {
     "name": "stdout",
     "output_type": "stream",
     "text": [
      "INFO:tensorflow:Assets written to: best_model\\assets\n"
     ]
    },
    {
     "name": "stderr",
     "output_type": "stream",
     "text": [
      "INFO:tensorflow:Assets written to: best_model\\assets\n",
      "WARNING:absl:<keras.layers.recurrent.GRUCell object at 0x0000022BCE4C1748> has the same name 'GRUCell' as a built-in Keras object. Consider renaming <class 'keras.layers.recurrent.GRUCell'> to avoid naming conflicts when loading with `tf.keras.models.load_model`. If renaming is not possible, pass the object in the `custom_objects` parameter of the load function.\n",
      "WARNING:absl:<keras.layers.recurrent.GRUCell object at 0x0000022BCE54D988> has the same name 'GRUCell' as a built-in Keras object. Consider renaming <class 'keras.layers.recurrent.GRUCell'> to avoid naming conflicts when loading with `tf.keras.models.load_model`. If renaming is not possible, pass the object in the `custom_objects` parameter of the load function.\n"
     ]
    },
    {
     "name": "stdout",
     "output_type": "stream",
     "text": [
      "1110/1110 [==============================] - 11s 10ms/step - loss: 104.4546 - root_mean_squared_error: 10.2203\n",
      "Epoch 103/200\n",
      "1101/1110 [============================>.] - ETA: 0s - loss: 103.5382 - root_mean_squared_error: 10.1754"
     ]
    },
    {
     "name": "stderr",
     "output_type": "stream",
     "text": [
      "WARNING:absl:Found untraced functions such as gru_cell_layer_call_fn, gru_cell_layer_call_and_return_conditional_losses while saving (showing 2 of 2). These functions will not be directly callable after loading.\n"
     ]
    },
    {
     "name": "stdout",
     "output_type": "stream",
     "text": [
      "INFO:tensorflow:Assets written to: best_model\\assets\n"
     ]
    },
    {
     "name": "stderr",
     "output_type": "stream",
     "text": [
      "INFO:tensorflow:Assets written to: best_model\\assets\n",
      "WARNING:absl:<keras.layers.recurrent.GRUCell object at 0x0000022BCE4C1748> has the same name 'GRUCell' as a built-in Keras object. Consider renaming <class 'keras.layers.recurrent.GRUCell'> to avoid naming conflicts when loading with `tf.keras.models.load_model`. If renaming is not possible, pass the object in the `custom_objects` parameter of the load function.\n",
      "WARNING:absl:<keras.layers.recurrent.GRUCell object at 0x0000022BCE54D988> has the same name 'GRUCell' as a built-in Keras object. Consider renaming <class 'keras.layers.recurrent.GRUCell'> to avoid naming conflicts when loading with `tf.keras.models.load_model`. If renaming is not possible, pass the object in the `custom_objects` parameter of the load function.\n"
     ]
    },
    {
     "name": "stdout",
     "output_type": "stream",
     "text": [
      "1110/1110 [==============================] - 11s 10ms/step - loss: 103.7257 - root_mean_squared_error: 10.1846\n",
      "Epoch 104/200\n",
      "1106/1110 [============================>.] - ETA: 0s - loss: 103.5185 - root_mean_squared_error: 10.1744"
     ]
    },
    {
     "name": "stderr",
     "output_type": "stream",
     "text": [
      "WARNING:absl:Found untraced functions such as gru_cell_layer_call_fn, gru_cell_layer_call_and_return_conditional_losses while saving (showing 2 of 2). These functions will not be directly callable after loading.\n"
     ]
    },
    {
     "name": "stdout",
     "output_type": "stream",
     "text": [
      "INFO:tensorflow:Assets written to: best_model\\assets\n"
     ]
    },
    {
     "name": "stderr",
     "output_type": "stream",
     "text": [
      "INFO:tensorflow:Assets written to: best_model\\assets\n",
      "WARNING:absl:<keras.layers.recurrent.GRUCell object at 0x0000022BCE4C1748> has the same name 'GRUCell' as a built-in Keras object. Consider renaming <class 'keras.layers.recurrent.GRUCell'> to avoid naming conflicts when loading with `tf.keras.models.load_model`. If renaming is not possible, pass the object in the `custom_objects` parameter of the load function.\n",
      "WARNING:absl:<keras.layers.recurrent.GRUCell object at 0x0000022BCE54D988> has the same name 'GRUCell' as a built-in Keras object. Consider renaming <class 'keras.layers.recurrent.GRUCell'> to avoid naming conflicts when loading with `tf.keras.models.load_model`. If renaming is not possible, pass the object in the `custom_objects` parameter of the load function.\n"
     ]
    },
    {
     "name": "stdout",
     "output_type": "stream",
     "text": [
      "1110/1110 [==============================] - 11s 10ms/step - loss: 103.7078 - root_mean_squared_error: 10.1837\n",
      "Epoch 105/200\n",
      "1104/1110 [============================>.] - ETA: 0s - loss: 102.4444 - root_mean_squared_error: 10.1215"
     ]
    },
    {
     "name": "stderr",
     "output_type": "stream",
     "text": [
      "WARNING:absl:Found untraced functions such as gru_cell_layer_call_fn, gru_cell_layer_call_and_return_conditional_losses while saving (showing 2 of 2). These functions will not be directly callable after loading.\n"
     ]
    },
    {
     "name": "stdout",
     "output_type": "stream",
     "text": [
      "INFO:tensorflow:Assets written to: best_model\\assets\n"
     ]
    },
    {
     "name": "stderr",
     "output_type": "stream",
     "text": [
      "INFO:tensorflow:Assets written to: best_model\\assets\n",
      "WARNING:absl:<keras.layers.recurrent.GRUCell object at 0x0000022BCE4C1748> has the same name 'GRUCell' as a built-in Keras object. Consider renaming <class 'keras.layers.recurrent.GRUCell'> to avoid naming conflicts when loading with `tf.keras.models.load_model`. If renaming is not possible, pass the object in the `custom_objects` parameter of the load function.\n",
      "WARNING:absl:<keras.layers.recurrent.GRUCell object at 0x0000022BCE54D988> has the same name 'GRUCell' as a built-in Keras object. Consider renaming <class 'keras.layers.recurrent.GRUCell'> to avoid naming conflicts when loading with `tf.keras.models.load_model`. If renaming is not possible, pass the object in the `custom_objects` parameter of the load function.\n"
     ]
    },
    {
     "name": "stdout",
     "output_type": "stream",
     "text": [
      "1110/1110 [==============================] - 11s 10ms/step - loss: 102.5237 - root_mean_squared_error: 10.1254\n",
      "Epoch 106/200\n",
      "1110/1110 [==============================] - 7s 6ms/step - loss: 102.7522 - root_mean_squared_error: 10.1367\n",
      "Epoch 107/200\n",
      "1102/1110 [============================>.] - ETA: 0s - loss: 102.2591 - root_mean_squared_error: 10.1123"
     ]
    },
    {
     "name": "stderr",
     "output_type": "stream",
     "text": [
      "WARNING:absl:Found untraced functions such as gru_cell_layer_call_fn, gru_cell_layer_call_and_return_conditional_losses while saving (showing 2 of 2). These functions will not be directly callable after loading.\n"
     ]
    },
    {
     "name": "stdout",
     "output_type": "stream",
     "text": [
      "INFO:tensorflow:Assets written to: best_model\\assets\n"
     ]
    },
    {
     "name": "stderr",
     "output_type": "stream",
     "text": [
      "INFO:tensorflow:Assets written to: best_model\\assets\n",
      "WARNING:absl:<keras.layers.recurrent.GRUCell object at 0x0000022BCE4C1748> has the same name 'GRUCell' as a built-in Keras object. Consider renaming <class 'keras.layers.recurrent.GRUCell'> to avoid naming conflicts when loading with `tf.keras.models.load_model`. If renaming is not possible, pass the object in the `custom_objects` parameter of the load function.\n",
      "WARNING:absl:<keras.layers.recurrent.GRUCell object at 0x0000022BCE54D988> has the same name 'GRUCell' as a built-in Keras object. Consider renaming <class 'keras.layers.recurrent.GRUCell'> to avoid naming conflicts when loading with `tf.keras.models.load_model`. If renaming is not possible, pass the object in the `custom_objects` parameter of the load function.\n"
     ]
    },
    {
     "name": "stdout",
     "output_type": "stream",
     "text": [
      "1110/1110 [==============================] - 11s 10ms/step - loss: 102.1522 - root_mean_squared_error: 10.1070\n",
      "Epoch 108/200\n",
      "1104/1110 [============================>.] - ETA: 0s - loss: 100.7896 - root_mean_squared_error: 10.0394"
     ]
    },
    {
     "name": "stderr",
     "output_type": "stream",
     "text": [
      "WARNING:absl:Found untraced functions such as gru_cell_layer_call_fn, gru_cell_layer_call_and_return_conditional_losses while saving (showing 2 of 2). These functions will not be directly callable after loading.\n"
     ]
    },
    {
     "name": "stdout",
     "output_type": "stream",
     "text": [
      "INFO:tensorflow:Assets written to: best_model\\assets\n"
     ]
    },
    {
     "name": "stderr",
     "output_type": "stream",
     "text": [
      "INFO:tensorflow:Assets written to: best_model\\assets\n",
      "WARNING:absl:<keras.layers.recurrent.GRUCell object at 0x0000022BCE4C1748> has the same name 'GRUCell' as a built-in Keras object. Consider renaming <class 'keras.layers.recurrent.GRUCell'> to avoid naming conflicts when loading with `tf.keras.models.load_model`. If renaming is not possible, pass the object in the `custom_objects` parameter of the load function.\n",
      "WARNING:absl:<keras.layers.recurrent.GRUCell object at 0x0000022BCE54D988> has the same name 'GRUCell' as a built-in Keras object. Consider renaming <class 'keras.layers.recurrent.GRUCell'> to avoid naming conflicts when loading with `tf.keras.models.load_model`. If renaming is not possible, pass the object in the `custom_objects` parameter of the load function.\n"
     ]
    },
    {
     "name": "stdout",
     "output_type": "stream",
     "text": [
      "1110/1110 [==============================] - 10s 9ms/step - loss: 100.6122 - root_mean_squared_error: 10.0306\n",
      "Epoch 109/200\n",
      "1110/1110 [==============================] - 7s 6ms/step - loss: 101.2706 - root_mean_squared_error: 10.0633\n",
      "Epoch 110/200\n",
      "1104/1110 [============================>.] - ETA: 0s - loss: 100.3976 - root_mean_squared_error: 10.0199"
     ]
    },
    {
     "name": "stderr",
     "output_type": "stream",
     "text": [
      "WARNING:absl:Found untraced functions such as gru_cell_layer_call_fn, gru_cell_layer_call_and_return_conditional_losses while saving (showing 2 of 2). These functions will not be directly callable after loading.\n"
     ]
    },
    {
     "name": "stdout",
     "output_type": "stream",
     "text": [
      "INFO:tensorflow:Assets written to: best_model\\assets\n"
     ]
    },
    {
     "name": "stderr",
     "output_type": "stream",
     "text": [
      "INFO:tensorflow:Assets written to: best_model\\assets\n",
      "WARNING:absl:<keras.layers.recurrent.GRUCell object at 0x0000022BCE4C1748> has the same name 'GRUCell' as a built-in Keras object. Consider renaming <class 'keras.layers.recurrent.GRUCell'> to avoid naming conflicts when loading with `tf.keras.models.load_model`. If renaming is not possible, pass the object in the `custom_objects` parameter of the load function.\n",
      "WARNING:absl:<keras.layers.recurrent.GRUCell object at 0x0000022BCE54D988> has the same name 'GRUCell' as a built-in Keras object. Consider renaming <class 'keras.layers.recurrent.GRUCell'> to avoid naming conflicts when loading with `tf.keras.models.load_model`. If renaming is not possible, pass the object in the `custom_objects` parameter of the load function.\n"
     ]
    },
    {
     "name": "stdout",
     "output_type": "stream",
     "text": [
      "1110/1110 [==============================] - 10s 9ms/step - loss: 100.2242 - root_mean_squared_error: 10.0112\n",
      "Epoch 111/200\n",
      "1106/1110 [============================>.] - ETA: 0s - loss: 99.6996 - root_mean_squared_error: 9.9850"
     ]
    },
    {
     "name": "stderr",
     "output_type": "stream",
     "text": [
      "WARNING:absl:Found untraced functions such as gru_cell_layer_call_fn, gru_cell_layer_call_and_return_conditional_losses while saving (showing 2 of 2). These functions will not be directly callable after loading.\n"
     ]
    },
    {
     "name": "stdout",
     "output_type": "stream",
     "text": [
      "INFO:tensorflow:Assets written to: best_model\\assets\n"
     ]
    },
    {
     "name": "stderr",
     "output_type": "stream",
     "text": [
      "INFO:tensorflow:Assets written to: best_model\\assets\n",
      "WARNING:absl:<keras.layers.recurrent.GRUCell object at 0x0000022BCE4C1748> has the same name 'GRUCell' as a built-in Keras object. Consider renaming <class 'keras.layers.recurrent.GRUCell'> to avoid naming conflicts when loading with `tf.keras.models.load_model`. If renaming is not possible, pass the object in the `custom_objects` parameter of the load function.\n",
      "WARNING:absl:<keras.layers.recurrent.GRUCell object at 0x0000022BCE54D988> has the same name 'GRUCell' as a built-in Keras object. Consider renaming <class 'keras.layers.recurrent.GRUCell'> to avoid naming conflicts when loading with `tf.keras.models.load_model`. If renaming is not possible, pass the object in the `custom_objects` parameter of the load function.\n"
     ]
    },
    {
     "name": "stdout",
     "output_type": "stream",
     "text": [
      "1110/1110 [==============================] - 11s 10ms/step - loss: 99.6149 - root_mean_squared_error: 9.9807\n",
      "Epoch 112/200\n",
      "1110/1110 [==============================] - 7s 6ms/step - loss: 100.3727 - root_mean_squared_error: 10.0186\n",
      "Epoch 113/200\n",
      "1101/1110 [============================>.] - ETA: 0s - loss: 98.7344 - root_mean_squared_error: 9.9365"
     ]
    },
    {
     "name": "stderr",
     "output_type": "stream",
     "text": [
      "WARNING:absl:Found untraced functions such as gru_cell_layer_call_fn, gru_cell_layer_call_and_return_conditional_losses while saving (showing 2 of 2). These functions will not be directly callable after loading.\n"
     ]
    },
    {
     "name": "stdout",
     "output_type": "stream",
     "text": [
      "INFO:tensorflow:Assets written to: best_model\\assets\n"
     ]
    },
    {
     "name": "stderr",
     "output_type": "stream",
     "text": [
      "INFO:tensorflow:Assets written to: best_model\\assets\n",
      "WARNING:absl:<keras.layers.recurrent.GRUCell object at 0x0000022BCE4C1748> has the same name 'GRUCell' as a built-in Keras object. Consider renaming <class 'keras.layers.recurrent.GRUCell'> to avoid naming conflicts when loading with `tf.keras.models.load_model`. If renaming is not possible, pass the object in the `custom_objects` parameter of the load function.\n",
      "WARNING:absl:<keras.layers.recurrent.GRUCell object at 0x0000022BCE54D988> has the same name 'GRUCell' as a built-in Keras object. Consider renaming <class 'keras.layers.recurrent.GRUCell'> to avoid naming conflicts when loading with `tf.keras.models.load_model`. If renaming is not possible, pass the object in the `custom_objects` parameter of the load function.\n"
     ]
    },
    {
     "name": "stdout",
     "output_type": "stream",
     "text": [
      "1110/1110 [==============================] - 11s 10ms/step - loss: 98.7660 - root_mean_squared_error: 9.9381\n",
      "Epoch 114/200\n",
      "1104/1110 [============================>.] - ETA: 0s - loss: 98.7518 - root_mean_squared_error: 9.9374"
     ]
    },
    {
     "name": "stderr",
     "output_type": "stream",
     "text": [
      "WARNING:absl:Found untraced functions such as gru_cell_layer_call_fn, gru_cell_layer_call_and_return_conditional_losses while saving (showing 2 of 2). These functions will not be directly callable after loading.\n"
     ]
    },
    {
     "name": "stdout",
     "output_type": "stream",
     "text": [
      "INFO:tensorflow:Assets written to: best_model\\assets\n"
     ]
    },
    {
     "name": "stderr",
     "output_type": "stream",
     "text": [
      "INFO:tensorflow:Assets written to: best_model\\assets\n",
      "WARNING:absl:<keras.layers.recurrent.GRUCell object at 0x0000022BCE4C1748> has the same name 'GRUCell' as a built-in Keras object. Consider renaming <class 'keras.layers.recurrent.GRUCell'> to avoid naming conflicts when loading with `tf.keras.models.load_model`. If renaming is not possible, pass the object in the `custom_objects` parameter of the load function.\n",
      "WARNING:absl:<keras.layers.recurrent.GRUCell object at 0x0000022BCE54D988> has the same name 'GRUCell' as a built-in Keras object. Consider renaming <class 'keras.layers.recurrent.GRUCell'> to avoid naming conflicts when loading with `tf.keras.models.load_model`. If renaming is not possible, pass the object in the `custom_objects` parameter of the load function.\n"
     ]
    },
    {
     "name": "stdout",
     "output_type": "stream",
     "text": [
      "1110/1110 [==============================] - 10s 9ms/step - loss: 98.7245 - root_mean_squared_error: 9.9360\n",
      "Epoch 115/200\n",
      "1101/1110 [============================>.] - ETA: 0s - loss: 98.1972 - root_mean_squared_error: 9.9095"
     ]
    },
    {
     "name": "stderr",
     "output_type": "stream",
     "text": [
      "WARNING:absl:Found untraced functions such as gru_cell_layer_call_fn, gru_cell_layer_call_and_return_conditional_losses while saving (showing 2 of 2). These functions will not be directly callable after loading.\n"
     ]
    },
    {
     "name": "stdout",
     "output_type": "stream",
     "text": [
      "INFO:tensorflow:Assets written to: best_model\\assets\n"
     ]
    },
    {
     "name": "stderr",
     "output_type": "stream",
     "text": [
      "INFO:tensorflow:Assets written to: best_model\\assets\n",
      "WARNING:absl:<keras.layers.recurrent.GRUCell object at 0x0000022BCE4C1748> has the same name 'GRUCell' as a built-in Keras object. Consider renaming <class 'keras.layers.recurrent.GRUCell'> to avoid naming conflicts when loading with `tf.keras.models.load_model`. If renaming is not possible, pass the object in the `custom_objects` parameter of the load function.\n",
      "WARNING:absl:<keras.layers.recurrent.GRUCell object at 0x0000022BCE54D988> has the same name 'GRUCell' as a built-in Keras object. Consider renaming <class 'keras.layers.recurrent.GRUCell'> to avoid naming conflicts when loading with `tf.keras.models.load_model`. If renaming is not possible, pass the object in the `custom_objects` parameter of the load function.\n"
     ]
    },
    {
     "name": "stdout",
     "output_type": "stream",
     "text": [
      "1110/1110 [==============================] - 11s 9ms/step - loss: 97.9859 - root_mean_squared_error: 9.8988\n",
      "Epoch 116/200\n",
      "1106/1110 [============================>.] - ETA: 0s - loss: 96.8929 - root_mean_squared_error: 9.8434"
     ]
    },
    {
     "name": "stderr",
     "output_type": "stream",
     "text": [
      "WARNING:absl:Found untraced functions such as gru_cell_layer_call_fn, gru_cell_layer_call_and_return_conditional_losses while saving (showing 2 of 2). These functions will not be directly callable after loading.\n"
     ]
    },
    {
     "name": "stdout",
     "output_type": "stream",
     "text": [
      "INFO:tensorflow:Assets written to: best_model\\assets\n"
     ]
    },
    {
     "name": "stderr",
     "output_type": "stream",
     "text": [
      "INFO:tensorflow:Assets written to: best_model\\assets\n",
      "WARNING:absl:<keras.layers.recurrent.GRUCell object at 0x0000022BCE4C1748> has the same name 'GRUCell' as a built-in Keras object. Consider renaming <class 'keras.layers.recurrent.GRUCell'> to avoid naming conflicts when loading with `tf.keras.models.load_model`. If renaming is not possible, pass the object in the `custom_objects` parameter of the load function.\n",
      "WARNING:absl:<keras.layers.recurrent.GRUCell object at 0x0000022BCE54D988> has the same name 'GRUCell' as a built-in Keras object. Consider renaming <class 'keras.layers.recurrent.GRUCell'> to avoid naming conflicts when loading with `tf.keras.models.load_model`. If renaming is not possible, pass the object in the `custom_objects` parameter of the load function.\n"
     ]
    },
    {
     "name": "stdout",
     "output_type": "stream",
     "text": [
      "1110/1110 [==============================] - 12s 10ms/step - loss: 96.8615 - root_mean_squared_error: 9.8418\n",
      "Epoch 117/200\n",
      "1110/1110 [==============================] - 7s 6ms/step - loss: 97.7352 - root_mean_squared_error: 9.8861\n",
      "Epoch 118/200\n",
      "1110/1110 [==============================] - 7s 6ms/step - loss: 97.2429 - root_mean_squared_error: 9.8612\n",
      "Epoch 119/200\n",
      "1103/1110 [============================>.] - ETA: 0s - loss: 96.5591 - root_mean_squared_error: 9.8264"
     ]
    },
    {
     "name": "stderr",
     "output_type": "stream",
     "text": [
      "WARNING:absl:Found untraced functions such as gru_cell_layer_call_fn, gru_cell_layer_call_and_return_conditional_losses while saving (showing 2 of 2). These functions will not be directly callable after loading.\n"
     ]
    },
    {
     "name": "stdout",
     "output_type": "stream",
     "text": [
      "INFO:tensorflow:Assets written to: best_model\\assets\n"
     ]
    },
    {
     "name": "stderr",
     "output_type": "stream",
     "text": [
      "INFO:tensorflow:Assets written to: best_model\\assets\n",
      "WARNING:absl:<keras.layers.recurrent.GRUCell object at 0x0000022BCE4C1748> has the same name 'GRUCell' as a built-in Keras object. Consider renaming <class 'keras.layers.recurrent.GRUCell'> to avoid naming conflicts when loading with `tf.keras.models.load_model`. If renaming is not possible, pass the object in the `custom_objects` parameter of the load function.\n",
      "WARNING:absl:<keras.layers.recurrent.GRUCell object at 0x0000022BCE54D988> has the same name 'GRUCell' as a built-in Keras object. Consider renaming <class 'keras.layers.recurrent.GRUCell'> to avoid naming conflicts when loading with `tf.keras.models.load_model`. If renaming is not possible, pass the object in the `custom_objects` parameter of the load function.\n"
     ]
    },
    {
     "name": "stdout",
     "output_type": "stream",
     "text": [
      "1110/1110 [==============================] - 10s 9ms/step - loss: 96.3621 - root_mean_squared_error: 9.8164\n",
      "Epoch 120/200\n",
      "1104/1110 [============================>.] - ETA: 0s - loss: 95.6983 - root_mean_squared_error: 9.7826"
     ]
    },
    {
     "name": "stderr",
     "output_type": "stream",
     "text": [
      "WARNING:absl:Found untraced functions such as gru_cell_layer_call_fn, gru_cell_layer_call_and_return_conditional_losses while saving (showing 2 of 2). These functions will not be directly callable after loading.\n"
     ]
    },
    {
     "name": "stdout",
     "output_type": "stream",
     "text": [
      "INFO:tensorflow:Assets written to: best_model\\assets\n"
     ]
    },
    {
     "name": "stderr",
     "output_type": "stream",
     "text": [
      "INFO:tensorflow:Assets written to: best_model\\assets\n",
      "WARNING:absl:<keras.layers.recurrent.GRUCell object at 0x0000022BCE4C1748> has the same name 'GRUCell' as a built-in Keras object. Consider renaming <class 'keras.layers.recurrent.GRUCell'> to avoid naming conflicts when loading with `tf.keras.models.load_model`. If renaming is not possible, pass the object in the `custom_objects` parameter of the load function.\n",
      "WARNING:absl:<keras.layers.recurrent.GRUCell object at 0x0000022BCE54D988> has the same name 'GRUCell' as a built-in Keras object. Consider renaming <class 'keras.layers.recurrent.GRUCell'> to avoid naming conflicts when loading with `tf.keras.models.load_model`. If renaming is not possible, pass the object in the `custom_objects` parameter of the load function.\n"
     ]
    },
    {
     "name": "stdout",
     "output_type": "stream",
     "text": [
      "1110/1110 [==============================] - 11s 10ms/step - loss: 95.4719 - root_mean_squared_error: 9.7710\n",
      "Epoch 121/200\n",
      "1110/1110 [==============================] - 6s 6ms/step - loss: 95.5354 - root_mean_squared_error: 9.7742\n",
      "Epoch 122/200\n",
      "1106/1110 [============================>.] - ETA: 0s - loss: 94.7080 - root_mean_squared_error: 9.7318"
     ]
    },
    {
     "name": "stderr",
     "output_type": "stream",
     "text": [
      "WARNING:absl:Found untraced functions such as gru_cell_layer_call_fn, gru_cell_layer_call_and_return_conditional_losses while saving (showing 2 of 2). These functions will not be directly callable after loading.\n"
     ]
    },
    {
     "name": "stdout",
     "output_type": "stream",
     "text": [
      "INFO:tensorflow:Assets written to: best_model\\assets\n"
     ]
    },
    {
     "name": "stderr",
     "output_type": "stream",
     "text": [
      "INFO:tensorflow:Assets written to: best_model\\assets\n",
      "WARNING:absl:<keras.layers.recurrent.GRUCell object at 0x0000022BCE4C1748> has the same name 'GRUCell' as a built-in Keras object. Consider renaming <class 'keras.layers.recurrent.GRUCell'> to avoid naming conflicts when loading with `tf.keras.models.load_model`. If renaming is not possible, pass the object in the `custom_objects` parameter of the load function.\n",
      "WARNING:absl:<keras.layers.recurrent.GRUCell object at 0x0000022BCE54D988> has the same name 'GRUCell' as a built-in Keras object. Consider renaming <class 'keras.layers.recurrent.GRUCell'> to avoid naming conflicts when loading with `tf.keras.models.load_model`. If renaming is not possible, pass the object in the `custom_objects` parameter of the load function.\n"
     ]
    },
    {
     "name": "stdout",
     "output_type": "stream",
     "text": [
      "1110/1110 [==============================] - 10s 9ms/step - loss: 94.5910 - root_mean_squared_error: 9.7258\n",
      "Epoch 123/200\n",
      "1108/1110 [============================>.] - ETA: 0s - loss: 94.5552 - root_mean_squared_error: 9.7240"
     ]
    },
    {
     "name": "stderr",
     "output_type": "stream",
     "text": [
      "WARNING:absl:Found untraced functions such as gru_cell_layer_call_fn, gru_cell_layer_call_and_return_conditional_losses while saving (showing 2 of 2). These functions will not be directly callable after loading.\n"
     ]
    },
    {
     "name": "stdout",
     "output_type": "stream",
     "text": [
      "INFO:tensorflow:Assets written to: best_model\\assets\n"
     ]
    },
    {
     "name": "stderr",
     "output_type": "stream",
     "text": [
      "INFO:tensorflow:Assets written to: best_model\\assets\n",
      "WARNING:absl:<keras.layers.recurrent.GRUCell object at 0x0000022BCE4C1748> has the same name 'GRUCell' as a built-in Keras object. Consider renaming <class 'keras.layers.recurrent.GRUCell'> to avoid naming conflicts when loading with `tf.keras.models.load_model`. If renaming is not possible, pass the object in the `custom_objects` parameter of the load function.\n",
      "WARNING:absl:<keras.layers.recurrent.GRUCell object at 0x0000022BCE54D988> has the same name 'GRUCell' as a built-in Keras object. Consider renaming <class 'keras.layers.recurrent.GRUCell'> to avoid naming conflicts when loading with `tf.keras.models.load_model`. If renaming is not possible, pass the object in the `custom_objects` parameter of the load function.\n"
     ]
    },
    {
     "name": "stdout",
     "output_type": "stream",
     "text": [
      "1110/1110 [==============================] - 10s 9ms/step - loss: 94.5861 - root_mean_squared_error: 9.7255\n",
      "Epoch 124/200\n",
      "1110/1110 [==============================] - 6s 6ms/step - loss: 94.6903 - root_mean_squared_error: 9.7309\n",
      "Epoch 125/200\n",
      "1109/1110 [============================>.] - ETA: 0s - loss: 93.9783 - root_mean_squared_error: 9.6942"
     ]
    },
    {
     "name": "stderr",
     "output_type": "stream",
     "text": [
      "WARNING:absl:Found untraced functions such as gru_cell_layer_call_fn, gru_cell_layer_call_and_return_conditional_losses while saving (showing 2 of 2). These functions will not be directly callable after loading.\n"
     ]
    },
    {
     "name": "stdout",
     "output_type": "stream",
     "text": [
      "INFO:tensorflow:Assets written to: best_model\\assets\n"
     ]
    },
    {
     "name": "stderr",
     "output_type": "stream",
     "text": [
      "INFO:tensorflow:Assets written to: best_model\\assets\n",
      "WARNING:absl:<keras.layers.recurrent.GRUCell object at 0x0000022BCE4C1748> has the same name 'GRUCell' as a built-in Keras object. Consider renaming <class 'keras.layers.recurrent.GRUCell'> to avoid naming conflicts when loading with `tf.keras.models.load_model`. If renaming is not possible, pass the object in the `custom_objects` parameter of the load function.\n",
      "WARNING:absl:<keras.layers.recurrent.GRUCell object at 0x0000022BCE54D988> has the same name 'GRUCell' as a built-in Keras object. Consider renaming <class 'keras.layers.recurrent.GRUCell'> to avoid naming conflicts when loading with `tf.keras.models.load_model`. If renaming is not possible, pass the object in the `custom_objects` parameter of the load function.\n"
     ]
    },
    {
     "name": "stdout",
     "output_type": "stream",
     "text": [
      "1110/1110 [==============================] - 10s 9ms/step - loss: 93.9760 - root_mean_squared_error: 9.6941\n",
      "Epoch 126/200\n",
      "1110/1110 [==============================] - 6s 6ms/step - loss: 94.1512 - root_mean_squared_error: 9.7032\n",
      "Epoch 127/200\n",
      "1105/1110 [============================>.] - ETA: 0s - loss: 92.2770 - root_mean_squared_error: 9.6061"
     ]
    },
    {
     "name": "stderr",
     "output_type": "stream",
     "text": [
      "WARNING:absl:Found untraced functions such as gru_cell_layer_call_fn, gru_cell_layer_call_and_return_conditional_losses while saving (showing 2 of 2). These functions will not be directly callable after loading.\n"
     ]
    },
    {
     "name": "stdout",
     "output_type": "stream",
     "text": [
      "INFO:tensorflow:Assets written to: best_model\\assets\n"
     ]
    },
    {
     "name": "stderr",
     "output_type": "stream",
     "text": [
      "INFO:tensorflow:Assets written to: best_model\\assets\n",
      "WARNING:absl:<keras.layers.recurrent.GRUCell object at 0x0000022BCE4C1748> has the same name 'GRUCell' as a built-in Keras object. Consider renaming <class 'keras.layers.recurrent.GRUCell'> to avoid naming conflicts when loading with `tf.keras.models.load_model`. If renaming is not possible, pass the object in the `custom_objects` parameter of the load function.\n",
      "WARNING:absl:<keras.layers.recurrent.GRUCell object at 0x0000022BCE54D988> has the same name 'GRUCell' as a built-in Keras object. Consider renaming <class 'keras.layers.recurrent.GRUCell'> to avoid naming conflicts when loading with `tf.keras.models.load_model`. If renaming is not possible, pass the object in the `custom_objects` parameter of the load function.\n"
     ]
    },
    {
     "name": "stdout",
     "output_type": "stream",
     "text": [
      "1110/1110 [==============================] - 9s 8ms/step - loss: 92.5671 - root_mean_squared_error: 9.6212\n",
      "Epoch 128/200\n",
      "1103/1110 [============================>.] - ETA: 0s - loss: 92.5785 - root_mean_squared_error: 9.6218"
     ]
    },
    {
     "name": "stderr",
     "output_type": "stream",
     "text": [
      "WARNING:absl:Found untraced functions such as gru_cell_layer_call_fn, gru_cell_layer_call_and_return_conditional_losses while saving (showing 2 of 2). These functions will not be directly callable after loading.\n"
     ]
    },
    {
     "name": "stdout",
     "output_type": "stream",
     "text": [
      "INFO:tensorflow:Assets written to: best_model\\assets\n"
     ]
    },
    {
     "name": "stderr",
     "output_type": "stream",
     "text": [
      "INFO:tensorflow:Assets written to: best_model\\assets\n",
      "WARNING:absl:<keras.layers.recurrent.GRUCell object at 0x0000022BCE4C1748> has the same name 'GRUCell' as a built-in Keras object. Consider renaming <class 'keras.layers.recurrent.GRUCell'> to avoid naming conflicts when loading with `tf.keras.models.load_model`. If renaming is not possible, pass the object in the `custom_objects` parameter of the load function.\n",
      "WARNING:absl:<keras.layers.recurrent.GRUCell object at 0x0000022BCE54D988> has the same name 'GRUCell' as a built-in Keras object. Consider renaming <class 'keras.layers.recurrent.GRUCell'> to avoid naming conflicts when loading with `tf.keras.models.load_model`. If renaming is not possible, pass the object in the `custom_objects` parameter of the load function.\n"
     ]
    },
    {
     "name": "stdout",
     "output_type": "stream",
     "text": [
      "1110/1110 [==============================] - 11s 10ms/step - loss: 92.5386 - root_mean_squared_error: 9.6197\n",
      "Epoch 129/200\n",
      "1109/1110 [============================>.] - ETA: 0s - loss: 91.5788 - root_mean_squared_error: 9.5697"
     ]
    },
    {
     "name": "stderr",
     "output_type": "stream",
     "text": [
      "WARNING:absl:Found untraced functions such as gru_cell_layer_call_fn, gru_cell_layer_call_and_return_conditional_losses while saving (showing 2 of 2). These functions will not be directly callable after loading.\n"
     ]
    },
    {
     "name": "stdout",
     "output_type": "stream",
     "text": [
      "INFO:tensorflow:Assets written to: best_model\\assets\n"
     ]
    },
    {
     "name": "stderr",
     "output_type": "stream",
     "text": [
      "INFO:tensorflow:Assets written to: best_model\\assets\n",
      "WARNING:absl:<keras.layers.recurrent.GRUCell object at 0x0000022BCE4C1748> has the same name 'GRUCell' as a built-in Keras object. Consider renaming <class 'keras.layers.recurrent.GRUCell'> to avoid naming conflicts when loading with `tf.keras.models.load_model`. If renaming is not possible, pass the object in the `custom_objects` parameter of the load function.\n",
      "WARNING:absl:<keras.layers.recurrent.GRUCell object at 0x0000022BCE54D988> has the same name 'GRUCell' as a built-in Keras object. Consider renaming <class 'keras.layers.recurrent.GRUCell'> to avoid naming conflicts when loading with `tf.keras.models.load_model`. If renaming is not possible, pass the object in the `custom_objects` parameter of the load function.\n"
     ]
    },
    {
     "name": "stdout",
     "output_type": "stream",
     "text": [
      "1110/1110 [==============================] - 11s 10ms/step - loss: 91.5826 - root_mean_squared_error: 9.5699\n",
      "Epoch 130/200\n",
      "1110/1110 [==============================] - 7s 7ms/step - loss: 91.8976 - root_mean_squared_error: 9.5863\n",
      "Epoch 131/200\n",
      "1108/1110 [============================>.] - ETA: 0s - loss: 91.5178 - root_mean_squared_error: 9.5665"
     ]
    },
    {
     "name": "stderr",
     "output_type": "stream",
     "text": [
      "WARNING:absl:Found untraced functions such as gru_cell_layer_call_fn, gru_cell_layer_call_and_return_conditional_losses while saving (showing 2 of 2). These functions will not be directly callable after loading.\n"
     ]
    },
    {
     "name": "stdout",
     "output_type": "stream",
     "text": [
      "INFO:tensorflow:Assets written to: best_model\\assets\n"
     ]
    },
    {
     "name": "stderr",
     "output_type": "stream",
     "text": [
      "INFO:tensorflow:Assets written to: best_model\\assets\n",
      "WARNING:absl:<keras.layers.recurrent.GRUCell object at 0x0000022BCE4C1748> has the same name 'GRUCell' as a built-in Keras object. Consider renaming <class 'keras.layers.recurrent.GRUCell'> to avoid naming conflicts when loading with `tf.keras.models.load_model`. If renaming is not possible, pass the object in the `custom_objects` parameter of the load function.\n",
      "WARNING:absl:<keras.layers.recurrent.GRUCell object at 0x0000022BCE54D988> has the same name 'GRUCell' as a built-in Keras object. Consider renaming <class 'keras.layers.recurrent.GRUCell'> to avoid naming conflicts when loading with `tf.keras.models.load_model`. If renaming is not possible, pass the object in the `custom_objects` parameter of the load function.\n"
     ]
    },
    {
     "name": "stdout",
     "output_type": "stream",
     "text": [
      "1110/1110 [==============================] - 11s 10ms/step - loss: 91.5102 - root_mean_squared_error: 9.5661\n",
      "Epoch 132/200\n",
      "1103/1110 [============================>.] - ETA: 0s - loss: 91.0816 - root_mean_squared_error: 9.5437"
     ]
    },
    {
     "name": "stderr",
     "output_type": "stream",
     "text": [
      "WARNING:absl:Found untraced functions such as gru_cell_layer_call_fn, gru_cell_layer_call_and_return_conditional_losses while saving (showing 2 of 2). These functions will not be directly callable after loading.\n"
     ]
    },
    {
     "name": "stdout",
     "output_type": "stream",
     "text": [
      "INFO:tensorflow:Assets written to: best_model\\assets\n"
     ]
    },
    {
     "name": "stderr",
     "output_type": "stream",
     "text": [
      "INFO:tensorflow:Assets written to: best_model\\assets\n",
      "WARNING:absl:<keras.layers.recurrent.GRUCell object at 0x0000022BCE4C1748> has the same name 'GRUCell' as a built-in Keras object. Consider renaming <class 'keras.layers.recurrent.GRUCell'> to avoid naming conflicts when loading with `tf.keras.models.load_model`. If renaming is not possible, pass the object in the `custom_objects` parameter of the load function.\n",
      "WARNING:absl:<keras.layers.recurrent.GRUCell object at 0x0000022BCE54D988> has the same name 'GRUCell' as a built-in Keras object. Consider renaming <class 'keras.layers.recurrent.GRUCell'> to avoid naming conflicts when loading with `tf.keras.models.load_model`. If renaming is not possible, pass the object in the `custom_objects` parameter of the load function.\n"
     ]
    },
    {
     "name": "stdout",
     "output_type": "stream",
     "text": [
      "1110/1110 [==============================] - 11s 10ms/step - loss: 91.0377 - root_mean_squared_error: 9.5414\n",
      "Epoch 133/200\n",
      "1103/1110 [============================>.] - ETA: 0s - loss: 90.9739 - root_mean_squared_error: 9.5380"
     ]
    },
    {
     "name": "stderr",
     "output_type": "stream",
     "text": [
      "WARNING:absl:Found untraced functions such as gru_cell_layer_call_fn, gru_cell_layer_call_and_return_conditional_losses while saving (showing 2 of 2). These functions will not be directly callable after loading.\n"
     ]
    },
    {
     "name": "stdout",
     "output_type": "stream",
     "text": [
      "INFO:tensorflow:Assets written to: best_model\\assets\n"
     ]
    },
    {
     "name": "stderr",
     "output_type": "stream",
     "text": [
      "INFO:tensorflow:Assets written to: best_model\\assets\n",
      "WARNING:absl:<keras.layers.recurrent.GRUCell object at 0x0000022BCE4C1748> has the same name 'GRUCell' as a built-in Keras object. Consider renaming <class 'keras.layers.recurrent.GRUCell'> to avoid naming conflicts when loading with `tf.keras.models.load_model`. If renaming is not possible, pass the object in the `custom_objects` parameter of the load function.\n",
      "WARNING:absl:<keras.layers.recurrent.GRUCell object at 0x0000022BCE54D988> has the same name 'GRUCell' as a built-in Keras object. Consider renaming <class 'keras.layers.recurrent.GRUCell'> to avoid naming conflicts when loading with `tf.keras.models.load_model`. If renaming is not possible, pass the object in the `custom_objects` parameter of the load function.\n"
     ]
    },
    {
     "name": "stdout",
     "output_type": "stream",
     "text": [
      "1110/1110 [==============================] - 11s 10ms/step - loss: 90.9461 - root_mean_squared_error: 9.5366\n",
      "Epoch 134/200\n",
      "1108/1110 [============================>.] - ETA: 0s - loss: 90.1099 - root_mean_squared_error: 9.4926"
     ]
    },
    {
     "name": "stderr",
     "output_type": "stream",
     "text": [
      "WARNING:absl:Found untraced functions such as gru_cell_layer_call_fn, gru_cell_layer_call_and_return_conditional_losses while saving (showing 2 of 2). These functions will not be directly callable after loading.\n"
     ]
    },
    {
     "name": "stdout",
     "output_type": "stream",
     "text": [
      "INFO:tensorflow:Assets written to: best_model\\assets\n"
     ]
    },
    {
     "name": "stderr",
     "output_type": "stream",
     "text": [
      "INFO:tensorflow:Assets written to: best_model\\assets\n",
      "WARNING:absl:<keras.layers.recurrent.GRUCell object at 0x0000022BCE4C1748> has the same name 'GRUCell' as a built-in Keras object. Consider renaming <class 'keras.layers.recurrent.GRUCell'> to avoid naming conflicts when loading with `tf.keras.models.load_model`. If renaming is not possible, pass the object in the `custom_objects` parameter of the load function.\n",
      "WARNING:absl:<keras.layers.recurrent.GRUCell object at 0x0000022BCE54D988> has the same name 'GRUCell' as a built-in Keras object. Consider renaming <class 'keras.layers.recurrent.GRUCell'> to avoid naming conflicts when loading with `tf.keras.models.load_model`. If renaming is not possible, pass the object in the `custom_objects` parameter of the load function.\n"
     ]
    },
    {
     "name": "stdout",
     "output_type": "stream",
     "text": [
      "1110/1110 [==============================] - 10s 9ms/step - loss: 90.2019 - root_mean_squared_error: 9.4975\n",
      "Epoch 135/200\n",
      "1106/1110 [============================>.] - ETA: 0s - loss: 89.7368 - root_mean_squared_error: 9.4730"
     ]
    },
    {
     "name": "stderr",
     "output_type": "stream",
     "text": [
      "WARNING:absl:Found untraced functions such as gru_cell_layer_call_fn, gru_cell_layer_call_and_return_conditional_losses while saving (showing 2 of 2). These functions will not be directly callable after loading.\n"
     ]
    },
    {
     "name": "stdout",
     "output_type": "stream",
     "text": [
      "INFO:tensorflow:Assets written to: best_model\\assets\n"
     ]
    },
    {
     "name": "stderr",
     "output_type": "stream",
     "text": [
      "INFO:tensorflow:Assets written to: best_model\\assets\n",
      "WARNING:absl:<keras.layers.recurrent.GRUCell object at 0x0000022BCE4C1748> has the same name 'GRUCell' as a built-in Keras object. Consider renaming <class 'keras.layers.recurrent.GRUCell'> to avoid naming conflicts when loading with `tf.keras.models.load_model`. If renaming is not possible, pass the object in the `custom_objects` parameter of the load function.\n",
      "WARNING:absl:<keras.layers.recurrent.GRUCell object at 0x0000022BCE54D988> has the same name 'GRUCell' as a built-in Keras object. Consider renaming <class 'keras.layers.recurrent.GRUCell'> to avoid naming conflicts when loading with `tf.keras.models.load_model`. If renaming is not possible, pass the object in the `custom_objects` parameter of the load function.\n"
     ]
    },
    {
     "name": "stdout",
     "output_type": "stream",
     "text": [
      "1110/1110 [==============================] - 10s 9ms/step - loss: 89.6816 - root_mean_squared_error: 9.4700\n",
      "Epoch 136/200\n",
      "1101/1110 [============================>.] - ETA: 0s - loss: 89.3608 - root_mean_squared_error: 9.4531"
     ]
    },
    {
     "name": "stderr",
     "output_type": "stream",
     "text": [
      "WARNING:absl:Found untraced functions such as gru_cell_layer_call_fn, gru_cell_layer_call_and_return_conditional_losses while saving (showing 2 of 2). These functions will not be directly callable after loading.\n"
     ]
    },
    {
     "name": "stdout",
     "output_type": "stream",
     "text": [
      "INFO:tensorflow:Assets written to: best_model\\assets\n"
     ]
    },
    {
     "name": "stderr",
     "output_type": "stream",
     "text": [
      "INFO:tensorflow:Assets written to: best_model\\assets\n",
      "WARNING:absl:<keras.layers.recurrent.GRUCell object at 0x0000022BCE4C1748> has the same name 'GRUCell' as a built-in Keras object. Consider renaming <class 'keras.layers.recurrent.GRUCell'> to avoid naming conflicts when loading with `tf.keras.models.load_model`. If renaming is not possible, pass the object in the `custom_objects` parameter of the load function.\n",
      "WARNING:absl:<keras.layers.recurrent.GRUCell object at 0x0000022BCE54D988> has the same name 'GRUCell' as a built-in Keras object. Consider renaming <class 'keras.layers.recurrent.GRUCell'> to avoid naming conflicts when loading with `tf.keras.models.load_model`. If renaming is not possible, pass the object in the `custom_objects` parameter of the load function.\n"
     ]
    },
    {
     "name": "stdout",
     "output_type": "stream",
     "text": [
      "1110/1110 [==============================] - 11s 10ms/step - loss: 89.3195 - root_mean_squared_error: 9.4509\n",
      "Epoch 137/200\n",
      "1105/1110 [============================>.] - ETA: 0s - loss: 89.4071 - root_mean_squared_error: 9.4555"
     ]
    },
    {
     "name": "stderr",
     "output_type": "stream",
     "text": [
      "WARNING:absl:Found untraced functions such as gru_cell_layer_call_fn, gru_cell_layer_call_and_return_conditional_losses while saving (showing 2 of 2). These functions will not be directly callable after loading.\n"
     ]
    },
    {
     "name": "stdout",
     "output_type": "stream",
     "text": [
      "INFO:tensorflow:Assets written to: best_model\\assets\n"
     ]
    },
    {
     "name": "stderr",
     "output_type": "stream",
     "text": [
      "INFO:tensorflow:Assets written to: best_model\\assets\n",
      "WARNING:absl:<keras.layers.recurrent.GRUCell object at 0x0000022BCE4C1748> has the same name 'GRUCell' as a built-in Keras object. Consider renaming <class 'keras.layers.recurrent.GRUCell'> to avoid naming conflicts when loading with `tf.keras.models.load_model`. If renaming is not possible, pass the object in the `custom_objects` parameter of the load function.\n",
      "WARNING:absl:<keras.layers.recurrent.GRUCell object at 0x0000022BCE54D988> has the same name 'GRUCell' as a built-in Keras object. Consider renaming <class 'keras.layers.recurrent.GRUCell'> to avoid naming conflicts when loading with `tf.keras.models.load_model`. If renaming is not possible, pass the object in the `custom_objects` parameter of the load function.\n"
     ]
    },
    {
     "name": "stdout",
     "output_type": "stream",
     "text": [
      "1110/1110 [==============================] - 10s 9ms/step - loss: 89.2099 - root_mean_squared_error: 9.4451\n",
      "Epoch 138/200\n",
      "1108/1110 [============================>.] - ETA: 0s - loss: 88.3442 - root_mean_squared_error: 9.3992"
     ]
    },
    {
     "name": "stderr",
     "output_type": "stream",
     "text": [
      "WARNING:absl:Found untraced functions such as gru_cell_layer_call_fn, gru_cell_layer_call_and_return_conditional_losses while saving (showing 2 of 2). These functions will not be directly callable after loading.\n"
     ]
    },
    {
     "name": "stdout",
     "output_type": "stream",
     "text": [
      "INFO:tensorflow:Assets written to: best_model\\assets\n"
     ]
    },
    {
     "name": "stderr",
     "output_type": "stream",
     "text": [
      "INFO:tensorflow:Assets written to: best_model\\assets\n",
      "WARNING:absl:<keras.layers.recurrent.GRUCell object at 0x0000022BCE4C1748> has the same name 'GRUCell' as a built-in Keras object. Consider renaming <class 'keras.layers.recurrent.GRUCell'> to avoid naming conflicts when loading with `tf.keras.models.load_model`. If renaming is not possible, pass the object in the `custom_objects` parameter of the load function.\n",
      "WARNING:absl:<keras.layers.recurrent.GRUCell object at 0x0000022BCE54D988> has the same name 'GRUCell' as a built-in Keras object. Consider renaming <class 'keras.layers.recurrent.GRUCell'> to avoid naming conflicts when loading with `tf.keras.models.load_model`. If renaming is not possible, pass the object in the `custom_objects` parameter of the load function.\n"
     ]
    },
    {
     "name": "stdout",
     "output_type": "stream",
     "text": [
      "1110/1110 [==============================] - 11s 10ms/step - loss: 88.3826 - root_mean_squared_error: 9.4012\n",
      "Epoch 139/200\n",
      "1108/1110 [============================>.] - ETA: 0s - loss: 87.9198 - root_mean_squared_error: 9.3766"
     ]
    },
    {
     "name": "stderr",
     "output_type": "stream",
     "text": [
      "WARNING:absl:Found untraced functions such as gru_cell_layer_call_fn, gru_cell_layer_call_and_return_conditional_losses while saving (showing 2 of 2). These functions will not be directly callable after loading.\n"
     ]
    },
    {
     "name": "stdout",
     "output_type": "stream",
     "text": [
      "INFO:tensorflow:Assets written to: best_model\\assets\n"
     ]
    },
    {
     "name": "stderr",
     "output_type": "stream",
     "text": [
      "INFO:tensorflow:Assets written to: best_model\\assets\n",
      "WARNING:absl:<keras.layers.recurrent.GRUCell object at 0x0000022BCE4C1748> has the same name 'GRUCell' as a built-in Keras object. Consider renaming <class 'keras.layers.recurrent.GRUCell'> to avoid naming conflicts when loading with `tf.keras.models.load_model`. If renaming is not possible, pass the object in the `custom_objects` parameter of the load function.\n",
      "WARNING:absl:<keras.layers.recurrent.GRUCell object at 0x0000022BCE54D988> has the same name 'GRUCell' as a built-in Keras object. Consider renaming <class 'keras.layers.recurrent.GRUCell'> to avoid naming conflicts when loading with `tf.keras.models.load_model`. If renaming is not possible, pass the object in the `custom_objects` parameter of the load function.\n"
     ]
    },
    {
     "name": "stdout",
     "output_type": "stream",
     "text": [
      "1110/1110 [==============================] - 11s 10ms/step - loss: 88.3029 - root_mean_squared_error: 9.3970\n",
      "Epoch 140/200\n",
      "1109/1110 [============================>.] - ETA: 0s - loss: 88.0014 - root_mean_squared_error: 9.3809"
     ]
    },
    {
     "name": "stderr",
     "output_type": "stream",
     "text": [
      "WARNING:absl:Found untraced functions such as gru_cell_layer_call_fn, gru_cell_layer_call_and_return_conditional_losses while saving (showing 2 of 2). These functions will not be directly callable after loading.\n"
     ]
    },
    {
     "name": "stdout",
     "output_type": "stream",
     "text": [
      "INFO:tensorflow:Assets written to: best_model\\assets\n"
     ]
    },
    {
     "name": "stderr",
     "output_type": "stream",
     "text": [
      "INFO:tensorflow:Assets written to: best_model\\assets\n",
      "WARNING:absl:<keras.layers.recurrent.GRUCell object at 0x0000022BCE4C1748> has the same name 'GRUCell' as a built-in Keras object. Consider renaming <class 'keras.layers.recurrent.GRUCell'> to avoid naming conflicts when loading with `tf.keras.models.load_model`. If renaming is not possible, pass the object in the `custom_objects` parameter of the load function.\n",
      "WARNING:absl:<keras.layers.recurrent.GRUCell object at 0x0000022BCE54D988> has the same name 'GRUCell' as a built-in Keras object. Consider renaming <class 'keras.layers.recurrent.GRUCell'> to avoid naming conflicts when loading with `tf.keras.models.load_model`. If renaming is not possible, pass the object in the `custom_objects` parameter of the load function.\n"
     ]
    },
    {
     "name": "stdout",
     "output_type": "stream",
     "text": [
      "1110/1110 [==============================] - 12s 11ms/step - loss: 87.9891 - root_mean_squared_error: 9.3803\n",
      "Epoch 141/200\n",
      "1104/1110 [============================>.] - ETA: 0s - loss: 87.6061 - root_mean_squared_error: 9.3598"
     ]
    },
    {
     "name": "stderr",
     "output_type": "stream",
     "text": [
      "WARNING:absl:Found untraced functions such as gru_cell_layer_call_fn, gru_cell_layer_call_and_return_conditional_losses while saving (showing 2 of 2). These functions will not be directly callable after loading.\n"
     ]
    },
    {
     "name": "stdout",
     "output_type": "stream",
     "text": [
      "INFO:tensorflow:Assets written to: best_model\\assets\n"
     ]
    },
    {
     "name": "stderr",
     "output_type": "stream",
     "text": [
      "INFO:tensorflow:Assets written to: best_model\\assets\n",
      "WARNING:absl:<keras.layers.recurrent.GRUCell object at 0x0000022BCE4C1748> has the same name 'GRUCell' as a built-in Keras object. Consider renaming <class 'keras.layers.recurrent.GRUCell'> to avoid naming conflicts when loading with `tf.keras.models.load_model`. If renaming is not possible, pass the object in the `custom_objects` parameter of the load function.\n",
      "WARNING:absl:<keras.layers.recurrent.GRUCell object at 0x0000022BCE54D988> has the same name 'GRUCell' as a built-in Keras object. Consider renaming <class 'keras.layers.recurrent.GRUCell'> to avoid naming conflicts when loading with `tf.keras.models.load_model`. If renaming is not possible, pass the object in the `custom_objects` parameter of the load function.\n"
     ]
    },
    {
     "name": "stdout",
     "output_type": "stream",
     "text": [
      "1110/1110 [==============================] - 11s 10ms/step - loss: 87.7611 - root_mean_squared_error: 9.3681\n",
      "Epoch 142/200\n",
      "1102/1110 [============================>.] - ETA: 0s - loss: 87.3143 - root_mean_squared_error: 9.3442"
     ]
    },
    {
     "name": "stderr",
     "output_type": "stream",
     "text": [
      "WARNING:absl:Found untraced functions such as gru_cell_layer_call_fn, gru_cell_layer_call_and_return_conditional_losses while saving (showing 2 of 2). These functions will not be directly callable after loading.\n"
     ]
    },
    {
     "name": "stdout",
     "output_type": "stream",
     "text": [
      "INFO:tensorflow:Assets written to: best_model\\assets\n"
     ]
    },
    {
     "name": "stderr",
     "output_type": "stream",
     "text": [
      "INFO:tensorflow:Assets written to: best_model\\assets\n",
      "WARNING:absl:<keras.layers.recurrent.GRUCell object at 0x0000022BCE4C1748> has the same name 'GRUCell' as a built-in Keras object. Consider renaming <class 'keras.layers.recurrent.GRUCell'> to avoid naming conflicts when loading with `tf.keras.models.load_model`. If renaming is not possible, pass the object in the `custom_objects` parameter of the load function.\n",
      "WARNING:absl:<keras.layers.recurrent.GRUCell object at 0x0000022BCE54D988> has the same name 'GRUCell' as a built-in Keras object. Consider renaming <class 'keras.layers.recurrent.GRUCell'> to avoid naming conflicts when loading with `tf.keras.models.load_model`. If renaming is not possible, pass the object in the `custom_objects` parameter of the load function.\n"
     ]
    },
    {
     "name": "stdout",
     "output_type": "stream",
     "text": [
      "1110/1110 [==============================] - 11s 10ms/step - loss: 87.4006 - root_mean_squared_error: 9.3488\n",
      "Epoch 143/200\n",
      "1103/1110 [============================>.] - ETA: 0s - loss: 86.3793 - root_mean_squared_error: 9.2940"
     ]
    },
    {
     "name": "stderr",
     "output_type": "stream",
     "text": [
      "WARNING:absl:Found untraced functions such as gru_cell_layer_call_fn, gru_cell_layer_call_and_return_conditional_losses while saving (showing 2 of 2). These functions will not be directly callable after loading.\n"
     ]
    },
    {
     "name": "stdout",
     "output_type": "stream",
     "text": [
      "INFO:tensorflow:Assets written to: best_model\\assets\n"
     ]
    },
    {
     "name": "stderr",
     "output_type": "stream",
     "text": [
      "INFO:tensorflow:Assets written to: best_model\\assets\n",
      "WARNING:absl:<keras.layers.recurrent.GRUCell object at 0x0000022BCE4C1748> has the same name 'GRUCell' as a built-in Keras object. Consider renaming <class 'keras.layers.recurrent.GRUCell'> to avoid naming conflicts when loading with `tf.keras.models.load_model`. If renaming is not possible, pass the object in the `custom_objects` parameter of the load function.\n",
      "WARNING:absl:<keras.layers.recurrent.GRUCell object at 0x0000022BCE54D988> has the same name 'GRUCell' as a built-in Keras object. Consider renaming <class 'keras.layers.recurrent.GRUCell'> to avoid naming conflicts when loading with `tf.keras.models.load_model`. If renaming is not possible, pass the object in the `custom_objects` parameter of the load function.\n"
     ]
    },
    {
     "name": "stdout",
     "output_type": "stream",
     "text": [
      "1110/1110 [==============================] - 12s 10ms/step - loss: 86.2800 - root_mean_squared_error: 9.2887\n",
      "Epoch 144/200\n",
      "1110/1110 [==============================] - 8s 7ms/step - loss: 86.5988 - root_mean_squared_error: 9.3058\n",
      "Epoch 145/200\n",
      "1110/1110 [==============================] - 8s 7ms/step - loss: 86.3383 - root_mean_squared_error: 9.2918\n",
      "Epoch 146/200\n",
      "1104/1110 [============================>.] - ETA: 0s - loss: 85.8713 - root_mean_squared_error: 9.2667"
     ]
    },
    {
     "name": "stderr",
     "output_type": "stream",
     "text": [
      "WARNING:absl:Found untraced functions such as gru_cell_layer_call_fn, gru_cell_layer_call_and_return_conditional_losses while saving (showing 2 of 2). These functions will not be directly callable after loading.\n"
     ]
    },
    {
     "name": "stdout",
     "output_type": "stream",
     "text": [
      "INFO:tensorflow:Assets written to: best_model\\assets\n"
     ]
    },
    {
     "name": "stderr",
     "output_type": "stream",
     "text": [
      "INFO:tensorflow:Assets written to: best_model\\assets\n",
      "WARNING:absl:<keras.layers.recurrent.GRUCell object at 0x0000022BCE4C1748> has the same name 'GRUCell' as a built-in Keras object. Consider renaming <class 'keras.layers.recurrent.GRUCell'> to avoid naming conflicts when loading with `tf.keras.models.load_model`. If renaming is not possible, pass the object in the `custom_objects` parameter of the load function.\n",
      "WARNING:absl:<keras.layers.recurrent.GRUCell object at 0x0000022BCE54D988> has the same name 'GRUCell' as a built-in Keras object. Consider renaming <class 'keras.layers.recurrent.GRUCell'> to avoid naming conflicts when loading with `tf.keras.models.load_model`. If renaming is not possible, pass the object in the `custom_objects` parameter of the load function.\n"
     ]
    },
    {
     "name": "stdout",
     "output_type": "stream",
     "text": [
      "1110/1110 [==============================] - 11s 10ms/step - loss: 85.8125 - root_mean_squared_error: 9.2635\n",
      "Epoch 147/200\n",
      "1108/1110 [============================>.] - ETA: 0s - loss: 85.6425 - root_mean_squared_error: 9.2543"
     ]
    },
    {
     "name": "stderr",
     "output_type": "stream",
     "text": [
      "WARNING:absl:Found untraced functions such as gru_cell_layer_call_fn, gru_cell_layer_call_and_return_conditional_losses while saving (showing 2 of 2). These functions will not be directly callable after loading.\n"
     ]
    },
    {
     "name": "stdout",
     "output_type": "stream",
     "text": [
      "INFO:tensorflow:Assets written to: best_model\\assets\n"
     ]
    },
    {
     "name": "stderr",
     "output_type": "stream",
     "text": [
      "INFO:tensorflow:Assets written to: best_model\\assets\n",
      "WARNING:absl:<keras.layers.recurrent.GRUCell object at 0x0000022BCE4C1748> has the same name 'GRUCell' as a built-in Keras object. Consider renaming <class 'keras.layers.recurrent.GRUCell'> to avoid naming conflicts when loading with `tf.keras.models.load_model`. If renaming is not possible, pass the object in the `custom_objects` parameter of the load function.\n",
      "WARNING:absl:<keras.layers.recurrent.GRUCell object at 0x0000022BCE54D988> has the same name 'GRUCell' as a built-in Keras object. Consider renaming <class 'keras.layers.recurrent.GRUCell'> to avoid naming conflicts when loading with `tf.keras.models.load_model`. If renaming is not possible, pass the object in the `custom_objects` parameter of the load function.\n"
     ]
    },
    {
     "name": "stdout",
     "output_type": "stream",
     "text": [
      "1110/1110 [==============================] - 11s 10ms/step - loss: 85.6374 - root_mean_squared_error: 9.2540\n",
      "Epoch 148/200\n",
      "1108/1110 [============================>.] - ETA: 0s - loss: 84.7260 - root_mean_squared_error: 9.2047"
     ]
    },
    {
     "name": "stderr",
     "output_type": "stream",
     "text": [
      "WARNING:absl:Found untraced functions such as gru_cell_layer_call_fn, gru_cell_layer_call_and_return_conditional_losses while saving (showing 2 of 2). These functions will not be directly callable after loading.\n"
     ]
    },
    {
     "name": "stdout",
     "output_type": "stream",
     "text": [
      "INFO:tensorflow:Assets written to: best_model\\assets\n"
     ]
    },
    {
     "name": "stderr",
     "output_type": "stream",
     "text": [
      "INFO:tensorflow:Assets written to: best_model\\assets\n",
      "WARNING:absl:<keras.layers.recurrent.GRUCell object at 0x0000022BCE4C1748> has the same name 'GRUCell' as a built-in Keras object. Consider renaming <class 'keras.layers.recurrent.GRUCell'> to avoid naming conflicts when loading with `tf.keras.models.load_model`. If renaming is not possible, pass the object in the `custom_objects` parameter of the load function.\n",
      "WARNING:absl:<keras.layers.recurrent.GRUCell object at 0x0000022BCE54D988> has the same name 'GRUCell' as a built-in Keras object. Consider renaming <class 'keras.layers.recurrent.GRUCell'> to avoid naming conflicts when loading with `tf.keras.models.load_model`. If renaming is not possible, pass the object in the `custom_objects` parameter of the load function.\n"
     ]
    },
    {
     "name": "stdout",
     "output_type": "stream",
     "text": [
      "1110/1110 [==============================] - 11s 9ms/step - loss: 84.7679 - root_mean_squared_error: 9.2069\n",
      "Epoch 149/200\n",
      "1107/1110 [============================>.] - ETA: 0s - loss: 84.4943 - root_mean_squared_error: 9.1921"
     ]
    },
    {
     "name": "stderr",
     "output_type": "stream",
     "text": [
      "WARNING:absl:Found untraced functions such as gru_cell_layer_call_fn, gru_cell_layer_call_and_return_conditional_losses while saving (showing 2 of 2). These functions will not be directly callable after loading.\n"
     ]
    },
    {
     "name": "stdout",
     "output_type": "stream",
     "text": [
      "INFO:tensorflow:Assets written to: best_model\\assets\n"
     ]
    },
    {
     "name": "stderr",
     "output_type": "stream",
     "text": [
      "INFO:tensorflow:Assets written to: best_model\\assets\n",
      "WARNING:absl:<keras.layers.recurrent.GRUCell object at 0x0000022BCE4C1748> has the same name 'GRUCell' as a built-in Keras object. Consider renaming <class 'keras.layers.recurrent.GRUCell'> to avoid naming conflicts when loading with `tf.keras.models.load_model`. If renaming is not possible, pass the object in the `custom_objects` parameter of the load function.\n",
      "WARNING:absl:<keras.layers.recurrent.GRUCell object at 0x0000022BCE54D988> has the same name 'GRUCell' as a built-in Keras object. Consider renaming <class 'keras.layers.recurrent.GRUCell'> to avoid naming conflicts when loading with `tf.keras.models.load_model`. If renaming is not possible, pass the object in the `custom_objects` parameter of the load function.\n"
     ]
    },
    {
     "name": "stdout",
     "output_type": "stream",
     "text": [
      "1110/1110 [==============================] - 11s 10ms/step - loss: 84.7249 - root_mean_squared_error: 9.2046\n",
      "Epoch 150/200\n",
      "1103/1110 [============================>.] - ETA: 0s - loss: 84.3237 - root_mean_squared_error: 9.1828"
     ]
    },
    {
     "name": "stderr",
     "output_type": "stream",
     "text": [
      "WARNING:absl:Found untraced functions such as gru_cell_layer_call_fn, gru_cell_layer_call_and_return_conditional_losses while saving (showing 2 of 2). These functions will not be directly callable after loading.\n"
     ]
    },
    {
     "name": "stdout",
     "output_type": "stream",
     "text": [
      "INFO:tensorflow:Assets written to: best_model\\assets\n"
     ]
    },
    {
     "name": "stderr",
     "output_type": "stream",
     "text": [
      "INFO:tensorflow:Assets written to: best_model\\assets\n",
      "WARNING:absl:<keras.layers.recurrent.GRUCell object at 0x0000022BCE4C1748> has the same name 'GRUCell' as a built-in Keras object. Consider renaming <class 'keras.layers.recurrent.GRUCell'> to avoid naming conflicts when loading with `tf.keras.models.load_model`. If renaming is not possible, pass the object in the `custom_objects` parameter of the load function.\n",
      "WARNING:absl:<keras.layers.recurrent.GRUCell object at 0x0000022BCE54D988> has the same name 'GRUCell' as a built-in Keras object. Consider renaming <class 'keras.layers.recurrent.GRUCell'> to avoid naming conflicts when loading with `tf.keras.models.load_model`. If renaming is not possible, pass the object in the `custom_objects` parameter of the load function.\n"
     ]
    },
    {
     "name": "stdout",
     "output_type": "stream",
     "text": [
      "1110/1110 [==============================] - 11s 10ms/step - loss: 84.2932 - root_mean_squared_error: 9.1811\n",
      "Epoch 151/200\n",
      "1110/1110 [==============================] - ETA: 0s - loss: 83.6450 - root_mean_squared_error: 9.1458"
     ]
    },
    {
     "name": "stderr",
     "output_type": "stream",
     "text": [
      "WARNING:absl:Found untraced functions such as gru_cell_layer_call_fn, gru_cell_layer_call_and_return_conditional_losses while saving (showing 2 of 2). These functions will not be directly callable after loading.\n"
     ]
    },
    {
     "name": "stdout",
     "output_type": "stream",
     "text": [
      "INFO:tensorflow:Assets written to: best_model\\assets\n"
     ]
    },
    {
     "name": "stderr",
     "output_type": "stream",
     "text": [
      "INFO:tensorflow:Assets written to: best_model\\assets\n",
      "WARNING:absl:<keras.layers.recurrent.GRUCell object at 0x0000022BCE4C1748> has the same name 'GRUCell' as a built-in Keras object. Consider renaming <class 'keras.layers.recurrent.GRUCell'> to avoid naming conflicts when loading with `tf.keras.models.load_model`. If renaming is not possible, pass the object in the `custom_objects` parameter of the load function.\n",
      "WARNING:absl:<keras.layers.recurrent.GRUCell object at 0x0000022BCE54D988> has the same name 'GRUCell' as a built-in Keras object. Consider renaming <class 'keras.layers.recurrent.GRUCell'> to avoid naming conflicts when loading with `tf.keras.models.load_model`. If renaming is not possible, pass the object in the `custom_objects` parameter of the load function.\n"
     ]
    },
    {
     "name": "stdout",
     "output_type": "stream",
     "text": [
      "1110/1110 [==============================] - 11s 10ms/step - loss: 83.6450 - root_mean_squared_error: 9.1458\n",
      "Epoch 152/200\n",
      "1106/1110 [============================>.] - ETA: 0s - loss: 83.4141 - root_mean_squared_error: 9.1331"
     ]
    },
    {
     "name": "stderr",
     "output_type": "stream",
     "text": [
      "WARNING:absl:Found untraced functions such as gru_cell_layer_call_fn, gru_cell_layer_call_and_return_conditional_losses while saving (showing 2 of 2). These functions will not be directly callable after loading.\n"
     ]
    },
    {
     "name": "stdout",
     "output_type": "stream",
     "text": [
      "INFO:tensorflow:Assets written to: best_model\\assets\n"
     ]
    },
    {
     "name": "stderr",
     "output_type": "stream",
     "text": [
      "INFO:tensorflow:Assets written to: best_model\\assets\n",
      "WARNING:absl:<keras.layers.recurrent.GRUCell object at 0x0000022BCE4C1748> has the same name 'GRUCell' as a built-in Keras object. Consider renaming <class 'keras.layers.recurrent.GRUCell'> to avoid naming conflicts when loading with `tf.keras.models.load_model`. If renaming is not possible, pass the object in the `custom_objects` parameter of the load function.\n",
      "WARNING:absl:<keras.layers.recurrent.GRUCell object at 0x0000022BCE54D988> has the same name 'GRUCell' as a built-in Keras object. Consider renaming <class 'keras.layers.recurrent.GRUCell'> to avoid naming conflicts when loading with `tf.keras.models.load_model`. If renaming is not possible, pass the object in the `custom_objects` parameter of the load function.\n"
     ]
    },
    {
     "name": "stdout",
     "output_type": "stream",
     "text": [
      "1110/1110 [==============================] - 11s 10ms/step - loss: 83.5377 - root_mean_squared_error: 9.1399\n",
      "Epoch 153/200\n",
      "1105/1110 [============================>.] - ETA: 0s - loss: 83.5667 - root_mean_squared_error: 9.1415"
     ]
    },
    {
     "name": "stderr",
     "output_type": "stream",
     "text": [
      "WARNING:absl:Found untraced functions such as gru_cell_layer_call_fn, gru_cell_layer_call_and_return_conditional_losses while saving (showing 2 of 2). These functions will not be directly callable after loading.\n"
     ]
    },
    {
     "name": "stdout",
     "output_type": "stream",
     "text": [
      "INFO:tensorflow:Assets written to: best_model\\assets\n"
     ]
    },
    {
     "name": "stderr",
     "output_type": "stream",
     "text": [
      "INFO:tensorflow:Assets written to: best_model\\assets\n",
      "WARNING:absl:<keras.layers.recurrent.GRUCell object at 0x0000022BCE4C1748> has the same name 'GRUCell' as a built-in Keras object. Consider renaming <class 'keras.layers.recurrent.GRUCell'> to avoid naming conflicts when loading with `tf.keras.models.load_model`. If renaming is not possible, pass the object in the `custom_objects` parameter of the load function.\n",
      "WARNING:absl:<keras.layers.recurrent.GRUCell object at 0x0000022BCE54D988> has the same name 'GRUCell' as a built-in Keras object. Consider renaming <class 'keras.layers.recurrent.GRUCell'> to avoid naming conflicts when loading with `tf.keras.models.load_model`. If renaming is not possible, pass the object in the `custom_objects` parameter of the load function.\n"
     ]
    },
    {
     "name": "stdout",
     "output_type": "stream",
     "text": [
      "1110/1110 [==============================] - 11s 10ms/step - loss: 83.4579 - root_mean_squared_error: 9.1355\n",
      "Epoch 154/200\n",
      "1103/1110 [============================>.] - ETA: 0s - loss: 82.4230 - root_mean_squared_error: 9.0787"
     ]
    },
    {
     "name": "stderr",
     "output_type": "stream",
     "text": [
      "WARNING:absl:Found untraced functions such as gru_cell_layer_call_fn, gru_cell_layer_call_and_return_conditional_losses while saving (showing 2 of 2). These functions will not be directly callable after loading.\n"
     ]
    },
    {
     "name": "stdout",
     "output_type": "stream",
     "text": [
      "INFO:tensorflow:Assets written to: best_model\\assets\n"
     ]
    },
    {
     "name": "stderr",
     "output_type": "stream",
     "text": [
      "INFO:tensorflow:Assets written to: best_model\\assets\n",
      "WARNING:absl:<keras.layers.recurrent.GRUCell object at 0x0000022BCE4C1748> has the same name 'GRUCell' as a built-in Keras object. Consider renaming <class 'keras.layers.recurrent.GRUCell'> to avoid naming conflicts when loading with `tf.keras.models.load_model`. If renaming is not possible, pass the object in the `custom_objects` parameter of the load function.\n",
      "WARNING:absl:<keras.layers.recurrent.GRUCell object at 0x0000022BCE54D988> has the same name 'GRUCell' as a built-in Keras object. Consider renaming <class 'keras.layers.recurrent.GRUCell'> to avoid naming conflicts when loading with `tf.keras.models.load_model`. If renaming is not possible, pass the object in the `custom_objects` parameter of the load function.\n"
     ]
    },
    {
     "name": "stdout",
     "output_type": "stream",
     "text": [
      "1110/1110 [==============================] - 11s 10ms/step - loss: 82.2612 - root_mean_squared_error: 9.0698\n",
      "Epoch 155/200\n",
      "1110/1110 [==============================] - 8s 7ms/step - loss: 82.9965 - root_mean_squared_error: 9.1102\n",
      "Epoch 156/200\n",
      "1110/1110 [==============================] - 8s 7ms/step - loss: 82.4356 - root_mean_squared_error: 9.0794\n",
      "Epoch 157/200\n",
      "1108/1110 [============================>.] - ETA: 0s - loss: 81.7363 - root_mean_squared_error: 9.0408"
     ]
    },
    {
     "name": "stderr",
     "output_type": "stream",
     "text": [
      "WARNING:absl:Found untraced functions such as gru_cell_layer_call_fn, gru_cell_layer_call_and_return_conditional_losses while saving (showing 2 of 2). These functions will not be directly callable after loading.\n"
     ]
    },
    {
     "name": "stdout",
     "output_type": "stream",
     "text": [
      "INFO:tensorflow:Assets written to: best_model\\assets\n"
     ]
    },
    {
     "name": "stderr",
     "output_type": "stream",
     "text": [
      "INFO:tensorflow:Assets written to: best_model\\assets\n",
      "WARNING:absl:<keras.layers.recurrent.GRUCell object at 0x0000022BCE4C1748> has the same name 'GRUCell' as a built-in Keras object. Consider renaming <class 'keras.layers.recurrent.GRUCell'> to avoid naming conflicts when loading with `tf.keras.models.load_model`. If renaming is not possible, pass the object in the `custom_objects` parameter of the load function.\n",
      "WARNING:absl:<keras.layers.recurrent.GRUCell object at 0x0000022BCE54D988> has the same name 'GRUCell' as a built-in Keras object. Consider renaming <class 'keras.layers.recurrent.GRUCell'> to avoid naming conflicts when loading with `tf.keras.models.load_model`. If renaming is not possible, pass the object in the `custom_objects` parameter of the load function.\n"
     ]
    },
    {
     "name": "stdout",
     "output_type": "stream",
     "text": [
      "1110/1110 [==============================] - 11s 10ms/step - loss: 81.8227 - root_mean_squared_error: 9.0456\n",
      "Epoch 158/200\n",
      "1104/1110 [============================>.] - ETA: 0s - loss: 81.2024 - root_mean_squared_error: 9.0112"
     ]
    },
    {
     "name": "stderr",
     "output_type": "stream",
     "text": [
      "WARNING:absl:Found untraced functions such as gru_cell_layer_call_fn, gru_cell_layer_call_and_return_conditional_losses while saving (showing 2 of 2). These functions will not be directly callable after loading.\n"
     ]
    },
    {
     "name": "stdout",
     "output_type": "stream",
     "text": [
      "INFO:tensorflow:Assets written to: best_model\\assets\n"
     ]
    },
    {
     "name": "stderr",
     "output_type": "stream",
     "text": [
      "INFO:tensorflow:Assets written to: best_model\\assets\n",
      "WARNING:absl:<keras.layers.recurrent.GRUCell object at 0x0000022BCE4C1748> has the same name 'GRUCell' as a built-in Keras object. Consider renaming <class 'keras.layers.recurrent.GRUCell'> to avoid naming conflicts when loading with `tf.keras.models.load_model`. If renaming is not possible, pass the object in the `custom_objects` parameter of the load function.\n",
      "WARNING:absl:<keras.layers.recurrent.GRUCell object at 0x0000022BCE54D988> has the same name 'GRUCell' as a built-in Keras object. Consider renaming <class 'keras.layers.recurrent.GRUCell'> to avoid naming conflicts when loading with `tf.keras.models.load_model`. If renaming is not possible, pass the object in the `custom_objects` parameter of the load function.\n"
     ]
    },
    {
     "name": "stdout",
     "output_type": "stream",
     "text": [
      "1110/1110 [==============================] - 11s 10ms/step - loss: 81.4687 - root_mean_squared_error: 9.0260\n",
      "Epoch 159/200\n",
      "1109/1110 [============================>.] - ETA: 0s - loss: 81.0053 - root_mean_squared_error: 9.0003"
     ]
    },
    {
     "name": "stderr",
     "output_type": "stream",
     "text": [
      "WARNING:absl:Found untraced functions such as gru_cell_layer_call_fn, gru_cell_layer_call_and_return_conditional_losses while saving (showing 2 of 2). These functions will not be directly callable after loading.\n"
     ]
    },
    {
     "name": "stdout",
     "output_type": "stream",
     "text": [
      "INFO:tensorflow:Assets written to: best_model\\assets\n"
     ]
    },
    {
     "name": "stderr",
     "output_type": "stream",
     "text": [
      "INFO:tensorflow:Assets written to: best_model\\assets\n",
      "WARNING:absl:<keras.layers.recurrent.GRUCell object at 0x0000022BCE4C1748> has the same name 'GRUCell' as a built-in Keras object. Consider renaming <class 'keras.layers.recurrent.GRUCell'> to avoid naming conflicts when loading with `tf.keras.models.load_model`. If renaming is not possible, pass the object in the `custom_objects` parameter of the load function.\n",
      "WARNING:absl:<keras.layers.recurrent.GRUCell object at 0x0000022BCE54D988> has the same name 'GRUCell' as a built-in Keras object. Consider renaming <class 'keras.layers.recurrent.GRUCell'> to avoid naming conflicts when loading with `tf.keras.models.load_model`. If renaming is not possible, pass the object in the `custom_objects` parameter of the load function.\n"
     ]
    },
    {
     "name": "stdout",
     "output_type": "stream",
     "text": [
      "1110/1110 [==============================] - 11s 10ms/step - loss: 80.9925 - root_mean_squared_error: 8.9996\n",
      "Epoch 160/200\n",
      "1109/1110 [============================>.] - ETA: 0s - loss: 80.7840 - root_mean_squared_error: 8.9880"
     ]
    },
    {
     "name": "stderr",
     "output_type": "stream",
     "text": [
      "WARNING:absl:Found untraced functions such as gru_cell_layer_call_fn, gru_cell_layer_call_and_return_conditional_losses while saving (showing 2 of 2). These functions will not be directly callable after loading.\n"
     ]
    },
    {
     "name": "stdout",
     "output_type": "stream",
     "text": [
      "INFO:tensorflow:Assets written to: best_model\\assets\n"
     ]
    },
    {
     "name": "stderr",
     "output_type": "stream",
     "text": [
      "INFO:tensorflow:Assets written to: best_model\\assets\n",
      "WARNING:absl:<keras.layers.recurrent.GRUCell object at 0x0000022BCE4C1748> has the same name 'GRUCell' as a built-in Keras object. Consider renaming <class 'keras.layers.recurrent.GRUCell'> to avoid naming conflicts when loading with `tf.keras.models.load_model`. If renaming is not possible, pass the object in the `custom_objects` parameter of the load function.\n",
      "WARNING:absl:<keras.layers.recurrent.GRUCell object at 0x0000022BCE54D988> has the same name 'GRUCell' as a built-in Keras object. Consider renaming <class 'keras.layers.recurrent.GRUCell'> to avoid naming conflicts when loading with `tf.keras.models.load_model`. If renaming is not possible, pass the object in the `custom_objects` parameter of the load function.\n"
     ]
    },
    {
     "name": "stdout",
     "output_type": "stream",
     "text": [
      "1110/1110 [==============================] - 11s 10ms/step - loss: 80.7954 - root_mean_squared_error: 8.9886\n",
      "Epoch 161/200\n",
      "1105/1110 [============================>.] - ETA: 0s - loss: 80.5573 - root_mean_squared_error: 8.9754"
     ]
    },
    {
     "name": "stderr",
     "output_type": "stream",
     "text": [
      "WARNING:absl:Found untraced functions such as gru_cell_layer_call_fn, gru_cell_layer_call_and_return_conditional_losses while saving (showing 2 of 2). These functions will not be directly callable after loading.\n"
     ]
    },
    {
     "name": "stdout",
     "output_type": "stream",
     "text": [
      "INFO:tensorflow:Assets written to: best_model\\assets\n"
     ]
    },
    {
     "name": "stderr",
     "output_type": "stream",
     "text": [
      "INFO:tensorflow:Assets written to: best_model\\assets\n",
      "WARNING:absl:<keras.layers.recurrent.GRUCell object at 0x0000022BCE4C1748> has the same name 'GRUCell' as a built-in Keras object. Consider renaming <class 'keras.layers.recurrent.GRUCell'> to avoid naming conflicts when loading with `tf.keras.models.load_model`. If renaming is not possible, pass the object in the `custom_objects` parameter of the load function.\n",
      "WARNING:absl:<keras.layers.recurrent.GRUCell object at 0x0000022BCE54D988> has the same name 'GRUCell' as a built-in Keras object. Consider renaming <class 'keras.layers.recurrent.GRUCell'> to avoid naming conflicts when loading with `tf.keras.models.load_model`. If renaming is not possible, pass the object in the `custom_objects` parameter of the load function.\n"
     ]
    },
    {
     "name": "stdout",
     "output_type": "stream",
     "text": [
      "1110/1110 [==============================] - 11s 10ms/step - loss: 80.3969 - root_mean_squared_error: 8.9664\n",
      "Epoch 162/200\n",
      "1103/1110 [============================>.] - ETA: 0s - loss: 80.1326 - root_mean_squared_error: 8.9517"
     ]
    },
    {
     "name": "stderr",
     "output_type": "stream",
     "text": [
      "WARNING:absl:Found untraced functions such as gru_cell_layer_call_fn, gru_cell_layer_call_and_return_conditional_losses while saving (showing 2 of 2). These functions will not be directly callable after loading.\n"
     ]
    },
    {
     "name": "stdout",
     "output_type": "stream",
     "text": [
      "INFO:tensorflow:Assets written to: best_model\\assets\n"
     ]
    },
    {
     "name": "stderr",
     "output_type": "stream",
     "text": [
      "INFO:tensorflow:Assets written to: best_model\\assets\n",
      "WARNING:absl:<keras.layers.recurrent.GRUCell object at 0x0000022BCE4C1748> has the same name 'GRUCell' as a built-in Keras object. Consider renaming <class 'keras.layers.recurrent.GRUCell'> to avoid naming conflicts when loading with `tf.keras.models.load_model`. If renaming is not possible, pass the object in the `custom_objects` parameter of the load function.\n",
      "WARNING:absl:<keras.layers.recurrent.GRUCell object at 0x0000022BCE54D988> has the same name 'GRUCell' as a built-in Keras object. Consider renaming <class 'keras.layers.recurrent.GRUCell'> to avoid naming conflicts when loading with `tf.keras.models.load_model`. If renaming is not possible, pass the object in the `custom_objects` parameter of the load function.\n"
     ]
    },
    {
     "name": "stdout",
     "output_type": "stream",
     "text": [
      "1110/1110 [==============================] - 11s 10ms/step - loss: 79.9802 - root_mean_squared_error: 8.9432\n",
      "Epoch 163/200\n",
      "1108/1110 [============================>.] - ETA: 0s - loss: 79.0164 - root_mean_squared_error: 8.8891"
     ]
    },
    {
     "name": "stderr",
     "output_type": "stream",
     "text": [
      "WARNING:absl:Found untraced functions such as gru_cell_layer_call_fn, gru_cell_layer_call_and_return_conditional_losses while saving (showing 2 of 2). These functions will not be directly callable after loading.\n"
     ]
    },
    {
     "name": "stdout",
     "output_type": "stream",
     "text": [
      "INFO:tensorflow:Assets written to: best_model\\assets\n"
     ]
    },
    {
     "name": "stderr",
     "output_type": "stream",
     "text": [
      "INFO:tensorflow:Assets written to: best_model\\assets\n",
      "WARNING:absl:<keras.layers.recurrent.GRUCell object at 0x0000022BCE4C1748> has the same name 'GRUCell' as a built-in Keras object. Consider renaming <class 'keras.layers.recurrent.GRUCell'> to avoid naming conflicts when loading with `tf.keras.models.load_model`. If renaming is not possible, pass the object in the `custom_objects` parameter of the load function.\n",
      "WARNING:absl:<keras.layers.recurrent.GRUCell object at 0x0000022BCE54D988> has the same name 'GRUCell' as a built-in Keras object. Consider renaming <class 'keras.layers.recurrent.GRUCell'> to avoid naming conflicts when loading with `tf.keras.models.load_model`. If renaming is not possible, pass the object in the `custom_objects` parameter of the load function.\n"
     ]
    },
    {
     "name": "stdout",
     "output_type": "stream",
     "text": [
      "1110/1110 [==============================] - 11s 10ms/step - loss: 78.9483 - root_mean_squared_error: 8.8853\n",
      "Epoch 164/200\n",
      "1110/1110 [==============================] - 8s 7ms/step - loss: 79.2306 - root_mean_squared_error: 8.9012\n",
      "Epoch 165/200\n",
      "1110/1110 [==============================] - 8s 7ms/step - loss: 79.5584 - root_mean_squared_error: 8.9196\n",
      "Epoch 166/200\n",
      "1105/1110 [============================>.] - ETA: 0s - loss: 78.6229 - root_mean_squared_error: 8.8670"
     ]
    },
    {
     "name": "stderr",
     "output_type": "stream",
     "text": [
      "WARNING:absl:Found untraced functions such as gru_cell_layer_call_fn, gru_cell_layer_call_and_return_conditional_losses while saving (showing 2 of 2). These functions will not be directly callable after loading.\n"
     ]
    },
    {
     "name": "stdout",
     "output_type": "stream",
     "text": [
      "INFO:tensorflow:Assets written to: best_model\\assets\n"
     ]
    },
    {
     "name": "stderr",
     "output_type": "stream",
     "text": [
      "INFO:tensorflow:Assets written to: best_model\\assets\n",
      "WARNING:absl:<keras.layers.recurrent.GRUCell object at 0x0000022BCE4C1748> has the same name 'GRUCell' as a built-in Keras object. Consider renaming <class 'keras.layers.recurrent.GRUCell'> to avoid naming conflicts when loading with `tf.keras.models.load_model`. If renaming is not possible, pass the object in the `custom_objects` parameter of the load function.\n",
      "WARNING:absl:<keras.layers.recurrent.GRUCell object at 0x0000022BCE54D988> has the same name 'GRUCell' as a built-in Keras object. Consider renaming <class 'keras.layers.recurrent.GRUCell'> to avoid naming conflicts when loading with `tf.keras.models.load_model`. If renaming is not possible, pass the object in the `custom_objects` parameter of the load function.\n"
     ]
    },
    {
     "name": "stdout",
     "output_type": "stream",
     "text": [
      "1110/1110 [==============================] - 11s 10ms/step - loss: 78.8656 - root_mean_squared_error: 8.8806\n",
      "Epoch 167/200\n",
      "1105/1110 [============================>.] - ETA: 0s - loss: 78.6119 - root_mean_squared_error: 8.8663"
     ]
    },
    {
     "name": "stderr",
     "output_type": "stream",
     "text": [
      "WARNING:absl:Found untraced functions such as gru_cell_layer_call_fn, gru_cell_layer_call_and_return_conditional_losses while saving (showing 2 of 2). These functions will not be directly callable after loading.\n"
     ]
    },
    {
     "name": "stdout",
     "output_type": "stream",
     "text": [
      "INFO:tensorflow:Assets written to: best_model\\assets\n"
     ]
    },
    {
     "name": "stderr",
     "output_type": "stream",
     "text": [
      "INFO:tensorflow:Assets written to: best_model\\assets\n",
      "WARNING:absl:<keras.layers.recurrent.GRUCell object at 0x0000022BCE4C1748> has the same name 'GRUCell' as a built-in Keras object. Consider renaming <class 'keras.layers.recurrent.GRUCell'> to avoid naming conflicts when loading with `tf.keras.models.load_model`. If renaming is not possible, pass the object in the `custom_objects` parameter of the load function.\n",
      "WARNING:absl:<keras.layers.recurrent.GRUCell object at 0x0000022BCE54D988> has the same name 'GRUCell' as a built-in Keras object. Consider renaming <class 'keras.layers.recurrent.GRUCell'> to avoid naming conflicts when loading with `tf.keras.models.load_model`. If renaming is not possible, pass the object in the `custom_objects` parameter of the load function.\n"
     ]
    },
    {
     "name": "stdout",
     "output_type": "stream",
     "text": [
      "1110/1110 [==============================] - 11s 10ms/step - loss: 78.7984 - root_mean_squared_error: 8.8768\n",
      "Epoch 168/200\n",
      "1109/1110 [============================>.] - ETA: 0s - loss: 77.4373 - root_mean_squared_error: 8.7998"
     ]
    },
    {
     "name": "stderr",
     "output_type": "stream",
     "text": [
      "WARNING:absl:Found untraced functions such as gru_cell_layer_call_fn, gru_cell_layer_call_and_return_conditional_losses while saving (showing 2 of 2). These functions will not be directly callable after loading.\n"
     ]
    },
    {
     "name": "stdout",
     "output_type": "stream",
     "text": [
      "INFO:tensorflow:Assets written to: best_model\\assets\n"
     ]
    },
    {
     "name": "stderr",
     "output_type": "stream",
     "text": [
      "INFO:tensorflow:Assets written to: best_model\\assets\n",
      "WARNING:absl:<keras.layers.recurrent.GRUCell object at 0x0000022BCE4C1748> has the same name 'GRUCell' as a built-in Keras object. Consider renaming <class 'keras.layers.recurrent.GRUCell'> to avoid naming conflicts when loading with `tf.keras.models.load_model`. If renaming is not possible, pass the object in the `custom_objects` parameter of the load function.\n",
      "WARNING:absl:<keras.layers.recurrent.GRUCell object at 0x0000022BCE54D988> has the same name 'GRUCell' as a built-in Keras object. Consider renaming <class 'keras.layers.recurrent.GRUCell'> to avoid naming conflicts when loading with `tf.keras.models.load_model`. If renaming is not possible, pass the object in the `custom_objects` parameter of the load function.\n"
     ]
    },
    {
     "name": "stdout",
     "output_type": "stream",
     "text": [
      "1110/1110 [==============================] - 11s 10ms/step - loss: 77.4150 - root_mean_squared_error: 8.7986\n",
      "Epoch 169/200\n",
      "1110/1110 [==============================] - 7s 7ms/step - loss: 77.7180 - root_mean_squared_error: 8.8158\n",
      "Epoch 170/200\n",
      "1106/1110 [============================>.] - ETA: 0s - loss: 77.2006 - root_mean_squared_error: 8.7864"
     ]
    },
    {
     "name": "stderr",
     "output_type": "stream",
     "text": [
      "WARNING:absl:Found untraced functions such as gru_cell_layer_call_fn, gru_cell_layer_call_and_return_conditional_losses while saving (showing 2 of 2). These functions will not be directly callable after loading.\n"
     ]
    },
    {
     "name": "stdout",
     "output_type": "stream",
     "text": [
      "INFO:tensorflow:Assets written to: best_model\\assets\n"
     ]
    },
    {
     "name": "stderr",
     "output_type": "stream",
     "text": [
      "INFO:tensorflow:Assets written to: best_model\\assets\n",
      "WARNING:absl:<keras.layers.recurrent.GRUCell object at 0x0000022BCE4C1748> has the same name 'GRUCell' as a built-in Keras object. Consider renaming <class 'keras.layers.recurrent.GRUCell'> to avoid naming conflicts when loading with `tf.keras.models.load_model`. If renaming is not possible, pass the object in the `custom_objects` parameter of the load function.\n",
      "WARNING:absl:<keras.layers.recurrent.GRUCell object at 0x0000022BCE54D988> has the same name 'GRUCell' as a built-in Keras object. Consider renaming <class 'keras.layers.recurrent.GRUCell'> to avoid naming conflicts when loading with `tf.keras.models.load_model`. If renaming is not possible, pass the object in the `custom_objects` parameter of the load function.\n"
     ]
    },
    {
     "name": "stdout",
     "output_type": "stream",
     "text": [
      "1110/1110 [==============================] - 11s 10ms/step - loss: 77.1184 - root_mean_squared_error: 8.7817\n",
      "Epoch 171/200\n",
      "1110/1110 [==============================] - 8s 7ms/step - loss: 77.1289 - root_mean_squared_error: 8.7823\n",
      "Epoch 172/200\n",
      "1103/1110 [============================>.] - ETA: 0s - loss: 76.1654 - root_mean_squared_error: 8.7273"
     ]
    },
    {
     "name": "stderr",
     "output_type": "stream",
     "text": [
      "WARNING:absl:Found untraced functions such as gru_cell_layer_call_fn, gru_cell_layer_call_and_return_conditional_losses while saving (showing 2 of 2). These functions will not be directly callable after loading.\n"
     ]
    },
    {
     "name": "stdout",
     "output_type": "stream",
     "text": [
      "INFO:tensorflow:Assets written to: best_model\\assets\n"
     ]
    },
    {
     "name": "stderr",
     "output_type": "stream",
     "text": [
      "INFO:tensorflow:Assets written to: best_model\\assets\n",
      "WARNING:absl:<keras.layers.recurrent.GRUCell object at 0x0000022BCE4C1748> has the same name 'GRUCell' as a built-in Keras object. Consider renaming <class 'keras.layers.recurrent.GRUCell'> to avoid naming conflicts when loading with `tf.keras.models.load_model`. If renaming is not possible, pass the object in the `custom_objects` parameter of the load function.\n",
      "WARNING:absl:<keras.layers.recurrent.GRUCell object at 0x0000022BCE54D988> has the same name 'GRUCell' as a built-in Keras object. Consider renaming <class 'keras.layers.recurrent.GRUCell'> to avoid naming conflicts when loading with `tf.keras.models.load_model`. If renaming is not possible, pass the object in the `custom_objects` parameter of the load function.\n"
     ]
    },
    {
     "name": "stdout",
     "output_type": "stream",
     "text": [
      "1110/1110 [==============================] - 11s 9ms/step - loss: 76.2651 - root_mean_squared_error: 8.7330\n",
      "Epoch 173/200\n",
      "1110/1110 [==============================] - 8s 7ms/step - loss: 76.4553 - root_mean_squared_error: 8.7439\n",
      "Epoch 174/200\n",
      "1108/1110 [============================>.] - ETA: 0s - loss: 75.8228 - root_mean_squared_error: 8.7076"
     ]
    },
    {
     "name": "stderr",
     "output_type": "stream",
     "text": [
      "WARNING:absl:Found untraced functions such as gru_cell_layer_call_fn, gru_cell_layer_call_and_return_conditional_losses while saving (showing 2 of 2). These functions will not be directly callable after loading.\n"
     ]
    },
    {
     "name": "stdout",
     "output_type": "stream",
     "text": [
      "INFO:tensorflow:Assets written to: best_model\\assets\n"
     ]
    },
    {
     "name": "stderr",
     "output_type": "stream",
     "text": [
      "INFO:tensorflow:Assets written to: best_model\\assets\n",
      "WARNING:absl:<keras.layers.recurrent.GRUCell object at 0x0000022BCE4C1748> has the same name 'GRUCell' as a built-in Keras object. Consider renaming <class 'keras.layers.recurrent.GRUCell'> to avoid naming conflicts when loading with `tf.keras.models.load_model`. If renaming is not possible, pass the object in the `custom_objects` parameter of the load function.\n",
      "WARNING:absl:<keras.layers.recurrent.GRUCell object at 0x0000022BCE54D988> has the same name 'GRUCell' as a built-in Keras object. Consider renaming <class 'keras.layers.recurrent.GRUCell'> to avoid naming conflicts when loading with `tf.keras.models.load_model`. If renaming is not possible, pass the object in the `custom_objects` parameter of the load function.\n"
     ]
    },
    {
     "name": "stdout",
     "output_type": "stream",
     "text": [
      "1110/1110 [==============================] - 11s 10ms/step - loss: 75.7750 - root_mean_squared_error: 8.7049\n",
      "Epoch 175/200\n",
      "1108/1110 [============================>.] - ETA: 0s - loss: 75.5091 - root_mean_squared_error: 8.6896"
     ]
    },
    {
     "name": "stderr",
     "output_type": "stream",
     "text": [
      "WARNING:absl:Found untraced functions such as gru_cell_layer_call_fn, gru_cell_layer_call_and_return_conditional_losses while saving (showing 2 of 2). These functions will not be directly callable after loading.\n"
     ]
    },
    {
     "name": "stdout",
     "output_type": "stream",
     "text": [
      "INFO:tensorflow:Assets written to: best_model\\assets\n"
     ]
    },
    {
     "name": "stderr",
     "output_type": "stream",
     "text": [
      "INFO:tensorflow:Assets written to: best_model\\assets\n",
      "WARNING:absl:<keras.layers.recurrent.GRUCell object at 0x0000022BCE4C1748> has the same name 'GRUCell' as a built-in Keras object. Consider renaming <class 'keras.layers.recurrent.GRUCell'> to avoid naming conflicts when loading with `tf.keras.models.load_model`. If renaming is not possible, pass the object in the `custom_objects` parameter of the load function.\n",
      "WARNING:absl:<keras.layers.recurrent.GRUCell object at 0x0000022BCE54D988> has the same name 'GRUCell' as a built-in Keras object. Consider renaming <class 'keras.layers.recurrent.GRUCell'> to avoid naming conflicts when loading with `tf.keras.models.load_model`. If renaming is not possible, pass the object in the `custom_objects` parameter of the load function.\n"
     ]
    },
    {
     "name": "stdout",
     "output_type": "stream",
     "text": [
      "1110/1110 [==============================] - 11s 10ms/step - loss: 75.4539 - root_mean_squared_error: 8.6864\n",
      "Epoch 176/200\n",
      "1110/1110 [==============================] - 8s 7ms/step - loss: 75.7777 - root_mean_squared_error: 8.7050\n",
      "Epoch 177/200\n",
      "1110/1110 [==============================] - ETA: 0s - loss: 75.0462 - root_mean_squared_error: 8.6629"
     ]
    },
    {
     "name": "stderr",
     "output_type": "stream",
     "text": [
      "WARNING:absl:Found untraced functions such as gru_cell_layer_call_fn, gru_cell_layer_call_and_return_conditional_losses while saving (showing 2 of 2). These functions will not be directly callable after loading.\n"
     ]
    },
    {
     "name": "stdout",
     "output_type": "stream",
     "text": [
      "INFO:tensorflow:Assets written to: best_model\\assets\n"
     ]
    },
    {
     "name": "stderr",
     "output_type": "stream",
     "text": [
      "INFO:tensorflow:Assets written to: best_model\\assets\n",
      "WARNING:absl:<keras.layers.recurrent.GRUCell object at 0x0000022BCE4C1748> has the same name 'GRUCell' as a built-in Keras object. Consider renaming <class 'keras.layers.recurrent.GRUCell'> to avoid naming conflicts when loading with `tf.keras.models.load_model`. If renaming is not possible, pass the object in the `custom_objects` parameter of the load function.\n",
      "WARNING:absl:<keras.layers.recurrent.GRUCell object at 0x0000022BCE54D988> has the same name 'GRUCell' as a built-in Keras object. Consider renaming <class 'keras.layers.recurrent.GRUCell'> to avoid naming conflicts when loading with `tf.keras.models.load_model`. If renaming is not possible, pass the object in the `custom_objects` parameter of the load function.\n"
     ]
    },
    {
     "name": "stdout",
     "output_type": "stream",
     "text": [
      "1110/1110 [==============================] - 12s 10ms/step - loss: 75.0462 - root_mean_squared_error: 8.6629\n",
      "Epoch 178/200\n",
      "1109/1110 [============================>.] - ETA: 0s - loss: 74.6432 - root_mean_squared_error: 8.6396"
     ]
    },
    {
     "name": "stderr",
     "output_type": "stream",
     "text": [
      "WARNING:absl:Found untraced functions such as gru_cell_layer_call_fn, gru_cell_layer_call_and_return_conditional_losses while saving (showing 2 of 2). These functions will not be directly callable after loading.\n"
     ]
    },
    {
     "name": "stdout",
     "output_type": "stream",
     "text": [
      "INFO:tensorflow:Assets written to: best_model\\assets\n"
     ]
    },
    {
     "name": "stderr",
     "output_type": "stream",
     "text": [
      "INFO:tensorflow:Assets written to: best_model\\assets\n",
      "WARNING:absl:<keras.layers.recurrent.GRUCell object at 0x0000022BCE4C1748> has the same name 'GRUCell' as a built-in Keras object. Consider renaming <class 'keras.layers.recurrent.GRUCell'> to avoid naming conflicts when loading with `tf.keras.models.load_model`. If renaming is not possible, pass the object in the `custom_objects` parameter of the load function.\n",
      "WARNING:absl:<keras.layers.recurrent.GRUCell object at 0x0000022BCE54D988> has the same name 'GRUCell' as a built-in Keras object. Consider renaming <class 'keras.layers.recurrent.GRUCell'> to avoid naming conflicts when loading with `tf.keras.models.load_model`. If renaming is not possible, pass the object in the `custom_objects` parameter of the load function.\n"
     ]
    },
    {
     "name": "stdout",
     "output_type": "stream",
     "text": [
      "1110/1110 [==============================] - 12s 10ms/step - loss: 74.6265 - root_mean_squared_error: 8.6387\n",
      "Epoch 179/200\n",
      "1110/1110 [==============================] - 8s 7ms/step - loss: 75.1478 - root_mean_squared_error: 8.6688\n",
      "Epoch 180/200\n",
      "1103/1110 [============================>.] - ETA: 0s - loss: 74.0643 - root_mean_squared_error: 8.6061"
     ]
    },
    {
     "name": "stderr",
     "output_type": "stream",
     "text": [
      "WARNING:absl:Found untraced functions such as gru_cell_layer_call_fn, gru_cell_layer_call_and_return_conditional_losses while saving (showing 2 of 2). These functions will not be directly callable after loading.\n"
     ]
    },
    {
     "name": "stdout",
     "output_type": "stream",
     "text": [
      "INFO:tensorflow:Assets written to: best_model\\assets\n"
     ]
    },
    {
     "name": "stderr",
     "output_type": "stream",
     "text": [
      "INFO:tensorflow:Assets written to: best_model\\assets\n",
      "WARNING:absl:<keras.layers.recurrent.GRUCell object at 0x0000022BCE4C1748> has the same name 'GRUCell' as a built-in Keras object. Consider renaming <class 'keras.layers.recurrent.GRUCell'> to avoid naming conflicts when loading with `tf.keras.models.load_model`. If renaming is not possible, pass the object in the `custom_objects` parameter of the load function.\n",
      "WARNING:absl:<keras.layers.recurrent.GRUCell object at 0x0000022BCE54D988> has the same name 'GRUCell' as a built-in Keras object. Consider renaming <class 'keras.layers.recurrent.GRUCell'> to avoid naming conflicts when loading with `tf.keras.models.load_model`. If renaming is not possible, pass the object in the `custom_objects` parameter of the load function.\n"
     ]
    },
    {
     "name": "stdout",
     "output_type": "stream",
     "text": [
      "1110/1110 [==============================] - 12s 10ms/step - loss: 74.3394 - root_mean_squared_error: 8.6220\n",
      "Epoch 181/200\n",
      "1107/1110 [============================>.] - ETA: 0s - loss: 73.9834 - root_mean_squared_error: 8.6014"
     ]
    },
    {
     "name": "stderr",
     "output_type": "stream",
     "text": [
      "WARNING:absl:Found untraced functions such as gru_cell_layer_call_fn, gru_cell_layer_call_and_return_conditional_losses while saving (showing 2 of 2). These functions will not be directly callable after loading.\n"
     ]
    },
    {
     "name": "stdout",
     "output_type": "stream",
     "text": [
      "INFO:tensorflow:Assets written to: best_model\\assets\n"
     ]
    },
    {
     "name": "stderr",
     "output_type": "stream",
     "text": [
      "INFO:tensorflow:Assets written to: best_model\\assets\n",
      "WARNING:absl:<keras.layers.recurrent.GRUCell object at 0x0000022BCE4C1748> has the same name 'GRUCell' as a built-in Keras object. Consider renaming <class 'keras.layers.recurrent.GRUCell'> to avoid naming conflicts when loading with `tf.keras.models.load_model`. If renaming is not possible, pass the object in the `custom_objects` parameter of the load function.\n",
      "WARNING:absl:<keras.layers.recurrent.GRUCell object at 0x0000022BCE54D988> has the same name 'GRUCell' as a built-in Keras object. Consider renaming <class 'keras.layers.recurrent.GRUCell'> to avoid naming conflicts when loading with `tf.keras.models.load_model`. If renaming is not possible, pass the object in the `custom_objects` parameter of the load function.\n"
     ]
    },
    {
     "name": "stdout",
     "output_type": "stream",
     "text": [
      "1110/1110 [==============================] - 11s 10ms/step - loss: 74.0297 - root_mean_squared_error: 8.6040\n",
      "Epoch 182/200\n",
      "1103/1110 [============================>.] - ETA: 0s - loss: 73.3639 - root_mean_squared_error: 8.5653"
     ]
    },
    {
     "name": "stderr",
     "output_type": "stream",
     "text": [
      "WARNING:absl:Found untraced functions such as gru_cell_layer_call_fn, gru_cell_layer_call_and_return_conditional_losses while saving (showing 2 of 2). These functions will not be directly callable after loading.\n"
     ]
    },
    {
     "name": "stdout",
     "output_type": "stream",
     "text": [
      "INFO:tensorflow:Assets written to: best_model\\assets\n"
     ]
    },
    {
     "name": "stderr",
     "output_type": "stream",
     "text": [
      "INFO:tensorflow:Assets written to: best_model\\assets\n",
      "WARNING:absl:<keras.layers.recurrent.GRUCell object at 0x0000022BCE4C1748> has the same name 'GRUCell' as a built-in Keras object. Consider renaming <class 'keras.layers.recurrent.GRUCell'> to avoid naming conflicts when loading with `tf.keras.models.load_model`. If renaming is not possible, pass the object in the `custom_objects` parameter of the load function.\n",
      "WARNING:absl:<keras.layers.recurrent.GRUCell object at 0x0000022BCE54D988> has the same name 'GRUCell' as a built-in Keras object. Consider renaming <class 'keras.layers.recurrent.GRUCell'> to avoid naming conflicts when loading with `tf.keras.models.load_model`. If renaming is not possible, pass the object in the `custom_objects` parameter of the load function.\n"
     ]
    },
    {
     "name": "stdout",
     "output_type": "stream",
     "text": [
      "1110/1110 [==============================] - 11s 10ms/step - loss: 73.2574 - root_mean_squared_error: 8.5591\n",
      "Epoch 183/200\n",
      "1110/1110 [==============================] - 8s 7ms/step - loss: 73.4706 - root_mean_squared_error: 8.5715\n",
      "Epoch 184/200\n",
      "1105/1110 [============================>.] - ETA: 0s - loss: 72.5663 - root_mean_squared_error: 8.5186"
     ]
    },
    {
     "name": "stderr",
     "output_type": "stream",
     "text": [
      "WARNING:absl:Found untraced functions such as gru_cell_layer_call_fn, gru_cell_layer_call_and_return_conditional_losses while saving (showing 2 of 2). These functions will not be directly callable after loading.\n"
     ]
    },
    {
     "name": "stdout",
     "output_type": "stream",
     "text": [
      "INFO:tensorflow:Assets written to: best_model\\assets\n"
     ]
    },
    {
     "name": "stderr",
     "output_type": "stream",
     "text": [
      "INFO:tensorflow:Assets written to: best_model\\assets\n",
      "WARNING:absl:<keras.layers.recurrent.GRUCell object at 0x0000022BCE4C1748> has the same name 'GRUCell' as a built-in Keras object. Consider renaming <class 'keras.layers.recurrent.GRUCell'> to avoid naming conflicts when loading with `tf.keras.models.load_model`. If renaming is not possible, pass the object in the `custom_objects` parameter of the load function.\n",
      "WARNING:absl:<keras.layers.recurrent.GRUCell object at 0x0000022BCE54D988> has the same name 'GRUCell' as a built-in Keras object. Consider renaming <class 'keras.layers.recurrent.GRUCell'> to avoid naming conflicts when loading with `tf.keras.models.load_model`. If renaming is not possible, pass the object in the `custom_objects` parameter of the load function.\n"
     ]
    },
    {
     "name": "stdout",
     "output_type": "stream",
     "text": [
      "1110/1110 [==============================] - 11s 10ms/step - loss: 72.4851 - root_mean_squared_error: 8.5138\n",
      "Epoch 185/200\n",
      "1110/1110 [==============================] - 8s 7ms/step - loss: 73.5232 - root_mean_squared_error: 8.5746\n",
      "Epoch 186/200\n",
      "1110/1110 [==============================] - ETA: 0s - loss: 72.4515 - root_mean_squared_error: 8.5118"
     ]
    },
    {
     "name": "stderr",
     "output_type": "stream",
     "text": [
      "WARNING:absl:Found untraced functions such as gru_cell_layer_call_fn, gru_cell_layer_call_and_return_conditional_losses while saving (showing 2 of 2). These functions will not be directly callable after loading.\n"
     ]
    },
    {
     "name": "stdout",
     "output_type": "stream",
     "text": [
      "INFO:tensorflow:Assets written to: best_model\\assets\n"
     ]
    },
    {
     "name": "stderr",
     "output_type": "stream",
     "text": [
      "INFO:tensorflow:Assets written to: best_model\\assets\n",
      "WARNING:absl:<keras.layers.recurrent.GRUCell object at 0x0000022BCE4C1748> has the same name 'GRUCell' as a built-in Keras object. Consider renaming <class 'keras.layers.recurrent.GRUCell'> to avoid naming conflicts when loading with `tf.keras.models.load_model`. If renaming is not possible, pass the object in the `custom_objects` parameter of the load function.\n",
      "WARNING:absl:<keras.layers.recurrent.GRUCell object at 0x0000022BCE54D988> has the same name 'GRUCell' as a built-in Keras object. Consider renaming <class 'keras.layers.recurrent.GRUCell'> to avoid naming conflicts when loading with `tf.keras.models.load_model`. If renaming is not possible, pass the object in the `custom_objects` parameter of the load function.\n"
     ]
    },
    {
     "name": "stdout",
     "output_type": "stream",
     "text": [
      "1110/1110 [==============================] - 11s 10ms/step - loss: 72.4515 - root_mean_squared_error: 8.5118\n",
      "Epoch 187/200\n",
      "1110/1110 [==============================] - ETA: 0s - loss: 71.9977 - root_mean_squared_error: 8.4851"
     ]
    },
    {
     "name": "stderr",
     "output_type": "stream",
     "text": [
      "WARNING:absl:Found untraced functions such as gru_cell_layer_call_fn, gru_cell_layer_call_and_return_conditional_losses while saving (showing 2 of 2). These functions will not be directly callable after loading.\n"
     ]
    },
    {
     "name": "stdout",
     "output_type": "stream",
     "text": [
      "INFO:tensorflow:Assets written to: best_model\\assets\n"
     ]
    },
    {
     "name": "stderr",
     "output_type": "stream",
     "text": [
      "INFO:tensorflow:Assets written to: best_model\\assets\n",
      "WARNING:absl:<keras.layers.recurrent.GRUCell object at 0x0000022BCE4C1748> has the same name 'GRUCell' as a built-in Keras object. Consider renaming <class 'keras.layers.recurrent.GRUCell'> to avoid naming conflicts when loading with `tf.keras.models.load_model`. If renaming is not possible, pass the object in the `custom_objects` parameter of the load function.\n",
      "WARNING:absl:<keras.layers.recurrent.GRUCell object at 0x0000022BCE54D988> has the same name 'GRUCell' as a built-in Keras object. Consider renaming <class 'keras.layers.recurrent.GRUCell'> to avoid naming conflicts when loading with `tf.keras.models.load_model`. If renaming is not possible, pass the object in the `custom_objects` parameter of the load function.\n"
     ]
    },
    {
     "name": "stdout",
     "output_type": "stream",
     "text": [
      "1110/1110 [==============================] - 11s 10ms/step - loss: 71.9977 - root_mean_squared_error: 8.4851\n",
      "Epoch 188/200\n",
      "1110/1110 [==============================] - 8s 7ms/step - loss: 72.2358 - root_mean_squared_error: 8.4992\n",
      "Epoch 189/200\n",
      "1103/1110 [============================>.] - ETA: 0s - loss: 71.2706 - root_mean_squared_error: 8.4422"
     ]
    },
    {
     "name": "stderr",
     "output_type": "stream",
     "text": [
      "WARNING:absl:Found untraced functions such as gru_cell_layer_call_fn, gru_cell_layer_call_and_return_conditional_losses while saving (showing 2 of 2). These functions will not be directly callable after loading.\n"
     ]
    },
    {
     "name": "stdout",
     "output_type": "stream",
     "text": [
      "INFO:tensorflow:Assets written to: best_model\\assets\n"
     ]
    },
    {
     "name": "stderr",
     "output_type": "stream",
     "text": [
      "INFO:tensorflow:Assets written to: best_model\\assets\n",
      "WARNING:absl:<keras.layers.recurrent.GRUCell object at 0x0000022BCE4C1748> has the same name 'GRUCell' as a built-in Keras object. Consider renaming <class 'keras.layers.recurrent.GRUCell'> to avoid naming conflicts when loading with `tf.keras.models.load_model`. If renaming is not possible, pass the object in the `custom_objects` parameter of the load function.\n",
      "WARNING:absl:<keras.layers.recurrent.GRUCell object at 0x0000022BCE54D988> has the same name 'GRUCell' as a built-in Keras object. Consider renaming <class 'keras.layers.recurrent.GRUCell'> to avoid naming conflicts when loading with `tf.keras.models.load_model`. If renaming is not possible, pass the object in the `custom_objects` parameter of the load function.\n"
     ]
    },
    {
     "name": "stdout",
     "output_type": "stream",
     "text": [
      "1110/1110 [==============================] - 12s 11ms/step - loss: 71.1567 - root_mean_squared_error: 8.4354\n",
      "Epoch 190/200\n",
      "1110/1110 [==============================] - 9s 8ms/step - loss: 71.2402 - root_mean_squared_error: 8.4404\n",
      "Epoch 191/200\n",
      "1105/1110 [============================>.] - ETA: 0s - loss: 70.6803 - root_mean_squared_error: 8.4072"
     ]
    },
    {
     "name": "stderr",
     "output_type": "stream",
     "text": [
      "WARNING:absl:Found untraced functions such as gru_cell_layer_call_fn, gru_cell_layer_call_and_return_conditional_losses while saving (showing 2 of 2). These functions will not be directly callable after loading.\n"
     ]
    },
    {
     "name": "stdout",
     "output_type": "stream",
     "text": [
      "INFO:tensorflow:Assets written to: best_model\\assets\n"
     ]
    },
    {
     "name": "stderr",
     "output_type": "stream",
     "text": [
      "INFO:tensorflow:Assets written to: best_model\\assets\n",
      "WARNING:absl:<keras.layers.recurrent.GRUCell object at 0x0000022BCE4C1748> has the same name 'GRUCell' as a built-in Keras object. Consider renaming <class 'keras.layers.recurrent.GRUCell'> to avoid naming conflicts when loading with `tf.keras.models.load_model`. If renaming is not possible, pass the object in the `custom_objects` parameter of the load function.\n",
      "WARNING:absl:<keras.layers.recurrent.GRUCell object at 0x0000022BCE54D988> has the same name 'GRUCell' as a built-in Keras object. Consider renaming <class 'keras.layers.recurrent.GRUCell'> to avoid naming conflicts when loading with `tf.keras.models.load_model`. If renaming is not possible, pass the object in the `custom_objects` parameter of the load function.\n"
     ]
    },
    {
     "name": "stdout",
     "output_type": "stream",
     "text": [
      "1110/1110 [==============================] - 12s 11ms/step - loss: 70.8644 - root_mean_squared_error: 8.4181\n",
      "Epoch 192/200\n",
      "1104/1110 [============================>.] - ETA: 0s - loss: 70.8593 - root_mean_squared_error: 8.4178"
     ]
    },
    {
     "name": "stderr",
     "output_type": "stream",
     "text": [
      "WARNING:absl:Found untraced functions such as gru_cell_layer_call_fn, gru_cell_layer_call_and_return_conditional_losses while saving (showing 2 of 2). These functions will not be directly callable after loading.\n"
     ]
    },
    {
     "name": "stdout",
     "output_type": "stream",
     "text": [
      "INFO:tensorflow:Assets written to: best_model\\assets\n"
     ]
    },
    {
     "name": "stderr",
     "output_type": "stream",
     "text": [
      "INFO:tensorflow:Assets written to: best_model\\assets\n",
      "WARNING:absl:<keras.layers.recurrent.GRUCell object at 0x0000022BCE4C1748> has the same name 'GRUCell' as a built-in Keras object. Consider renaming <class 'keras.layers.recurrent.GRUCell'> to avoid naming conflicts when loading with `tf.keras.models.load_model`. If renaming is not possible, pass the object in the `custom_objects` parameter of the load function.\n",
      "WARNING:absl:<keras.layers.recurrent.GRUCell object at 0x0000022BCE54D988> has the same name 'GRUCell' as a built-in Keras object. Consider renaming <class 'keras.layers.recurrent.GRUCell'> to avoid naming conflicts when loading with `tf.keras.models.load_model`. If renaming is not possible, pass the object in the `custom_objects` parameter of the load function.\n"
     ]
    },
    {
     "name": "stdout",
     "output_type": "stream",
     "text": [
      "1110/1110 [==============================] - 12s 10ms/step - loss: 70.8368 - root_mean_squared_error: 8.4165\n",
      "Epoch 193/200\n",
      "1105/1110 [============================>.] - ETA: 0s - loss: 70.2041 - root_mean_squared_error: 8.3788"
     ]
    },
    {
     "name": "stderr",
     "output_type": "stream",
     "text": [
      "WARNING:absl:Found untraced functions such as gru_cell_layer_call_fn, gru_cell_layer_call_and_return_conditional_losses while saving (showing 2 of 2). These functions will not be directly callable after loading.\n"
     ]
    },
    {
     "name": "stdout",
     "output_type": "stream",
     "text": [
      "INFO:tensorflow:Assets written to: best_model\\assets\n"
     ]
    },
    {
     "name": "stderr",
     "output_type": "stream",
     "text": [
      "INFO:tensorflow:Assets written to: best_model\\assets\n",
      "WARNING:absl:<keras.layers.recurrent.GRUCell object at 0x0000022BCE4C1748> has the same name 'GRUCell' as a built-in Keras object. Consider renaming <class 'keras.layers.recurrent.GRUCell'> to avoid naming conflicts when loading with `tf.keras.models.load_model`. If renaming is not possible, pass the object in the `custom_objects` parameter of the load function.\n",
      "WARNING:absl:<keras.layers.recurrent.GRUCell object at 0x0000022BCE54D988> has the same name 'GRUCell' as a built-in Keras object. Consider renaming <class 'keras.layers.recurrent.GRUCell'> to avoid naming conflicts when loading with `tf.keras.models.load_model`. If renaming is not possible, pass the object in the `custom_objects` parameter of the load function.\n"
     ]
    },
    {
     "name": "stdout",
     "output_type": "stream",
     "text": [
      "1110/1110 [==============================] - 12s 11ms/step - loss: 70.1291 - root_mean_squared_error: 8.3743\n",
      "Epoch 194/200\n",
      "1106/1110 [============================>.] - ETA: 0s - loss: 70.1976 - root_mean_squared_error: 8.3784"
     ]
    },
    {
     "name": "stderr",
     "output_type": "stream",
     "text": [
      "WARNING:absl:Found untraced functions such as gru_cell_layer_call_fn, gru_cell_layer_call_and_return_conditional_losses while saving (showing 2 of 2). These functions will not be directly callable after loading.\n"
     ]
    },
    {
     "name": "stdout",
     "output_type": "stream",
     "text": [
      "INFO:tensorflow:Assets written to: best_model\\assets\n"
     ]
    },
    {
     "name": "stderr",
     "output_type": "stream",
     "text": [
      "INFO:tensorflow:Assets written to: best_model\\assets\n",
      "WARNING:absl:<keras.layers.recurrent.GRUCell object at 0x0000022BCE4C1748> has the same name 'GRUCell' as a built-in Keras object. Consider renaming <class 'keras.layers.recurrent.GRUCell'> to avoid naming conflicts when loading with `tf.keras.models.load_model`. If renaming is not possible, pass the object in the `custom_objects` parameter of the load function.\n",
      "WARNING:absl:<keras.layers.recurrent.GRUCell object at 0x0000022BCE54D988> has the same name 'GRUCell' as a built-in Keras object. Consider renaming <class 'keras.layers.recurrent.GRUCell'> to avoid naming conflicts when loading with `tf.keras.models.load_model`. If renaming is not possible, pass the object in the `custom_objects` parameter of the load function.\n"
     ]
    },
    {
     "name": "stdout",
     "output_type": "stream",
     "text": [
      "1110/1110 [==============================] - 12s 11ms/step - loss: 70.1136 - root_mean_squared_error: 8.3734\n",
      "Epoch 195/200\n",
      "1106/1110 [============================>.] - ETA: 0s - loss: 69.5606 - root_mean_squared_error: 8.3403"
     ]
    },
    {
     "name": "stderr",
     "output_type": "stream",
     "text": [
      "WARNING:absl:Found untraced functions such as gru_cell_layer_call_fn, gru_cell_layer_call_and_return_conditional_losses while saving (showing 2 of 2). These functions will not be directly callable after loading.\n"
     ]
    },
    {
     "name": "stdout",
     "output_type": "stream",
     "text": [
      "INFO:tensorflow:Assets written to: best_model\\assets\n"
     ]
    },
    {
     "name": "stderr",
     "output_type": "stream",
     "text": [
      "INFO:tensorflow:Assets written to: best_model\\assets\n",
      "WARNING:absl:<keras.layers.recurrent.GRUCell object at 0x0000022BCE4C1748> has the same name 'GRUCell' as a built-in Keras object. Consider renaming <class 'keras.layers.recurrent.GRUCell'> to avoid naming conflicts when loading with `tf.keras.models.load_model`. If renaming is not possible, pass the object in the `custom_objects` parameter of the load function.\n",
      "WARNING:absl:<keras.layers.recurrent.GRUCell object at 0x0000022BCE54D988> has the same name 'GRUCell' as a built-in Keras object. Consider renaming <class 'keras.layers.recurrent.GRUCell'> to avoid naming conflicts when loading with `tf.keras.models.load_model`. If renaming is not possible, pass the object in the `custom_objects` parameter of the load function.\n"
     ]
    },
    {
     "name": "stdout",
     "output_type": "stream",
     "text": [
      "1110/1110 [==============================] - 12s 10ms/step - loss: 69.5864 - root_mean_squared_error: 8.3418\n",
      "Epoch 196/200\n",
      "1109/1110 [============================>.] - ETA: 0s - loss: 69.0482 - root_mean_squared_error: 8.3095"
     ]
    },
    {
     "name": "stderr",
     "output_type": "stream",
     "text": [
      "WARNING:absl:Found untraced functions such as gru_cell_layer_call_fn, gru_cell_layer_call_and_return_conditional_losses while saving (showing 2 of 2). These functions will not be directly callable after loading.\n"
     ]
    },
    {
     "name": "stdout",
     "output_type": "stream",
     "text": [
      "INFO:tensorflow:Assets written to: best_model\\assets\n"
     ]
    },
    {
     "name": "stderr",
     "output_type": "stream",
     "text": [
      "INFO:tensorflow:Assets written to: best_model\\assets\n",
      "WARNING:absl:<keras.layers.recurrent.GRUCell object at 0x0000022BCE4C1748> has the same name 'GRUCell' as a built-in Keras object. Consider renaming <class 'keras.layers.recurrent.GRUCell'> to avoid naming conflicts when loading with `tf.keras.models.load_model`. If renaming is not possible, pass the object in the `custom_objects` parameter of the load function.\n",
      "WARNING:absl:<keras.layers.recurrent.GRUCell object at 0x0000022BCE54D988> has the same name 'GRUCell' as a built-in Keras object. Consider renaming <class 'keras.layers.recurrent.GRUCell'> to avoid naming conflicts when loading with `tf.keras.models.load_model`. If renaming is not possible, pass the object in the `custom_objects` parameter of the load function.\n"
     ]
    },
    {
     "name": "stdout",
     "output_type": "stream",
     "text": [
      "1110/1110 [==============================] - 12s 11ms/step - loss: 69.0322 - root_mean_squared_error: 8.3086\n",
      "Epoch 197/200\n",
      "1110/1110 [==============================] - 8s 7ms/step - loss: 69.0758 - root_mean_squared_error: 8.3112\n",
      "Epoch 198/200\n",
      "1103/1110 [============================>.] - ETA: 0s - loss: 68.8285 - root_mean_squared_error: 8.2963"
     ]
    },
    {
     "name": "stderr",
     "output_type": "stream",
     "text": [
      "WARNING:absl:Found untraced functions such as gru_cell_layer_call_fn, gru_cell_layer_call_and_return_conditional_losses while saving (showing 2 of 2). These functions will not be directly callable after loading.\n"
     ]
    },
    {
     "name": "stdout",
     "output_type": "stream",
     "text": [
      "INFO:tensorflow:Assets written to: best_model\\assets\n"
     ]
    },
    {
     "name": "stderr",
     "output_type": "stream",
     "text": [
      "INFO:tensorflow:Assets written to: best_model\\assets\n",
      "WARNING:absl:<keras.layers.recurrent.GRUCell object at 0x0000022BCE4C1748> has the same name 'GRUCell' as a built-in Keras object. Consider renaming <class 'keras.layers.recurrent.GRUCell'> to avoid naming conflicts when loading with `tf.keras.models.load_model`. If renaming is not possible, pass the object in the `custom_objects` parameter of the load function.\n",
      "WARNING:absl:<keras.layers.recurrent.GRUCell object at 0x0000022BCE54D988> has the same name 'GRUCell' as a built-in Keras object. Consider renaming <class 'keras.layers.recurrent.GRUCell'> to avoid naming conflicts when loading with `tf.keras.models.load_model`. If renaming is not possible, pass the object in the `custom_objects` parameter of the load function.\n"
     ]
    },
    {
     "name": "stdout",
     "output_type": "stream",
     "text": [
      "1110/1110 [==============================] - 11s 10ms/step - loss: 68.7103 - root_mean_squared_error: 8.2892\n",
      "Epoch 199/200\n",
      "1106/1110 [============================>.] - ETA: 0s - loss: 68.4196 - root_mean_squared_error: 8.2716"
     ]
    },
    {
     "name": "stderr",
     "output_type": "stream",
     "text": [
      "WARNING:absl:Found untraced functions such as gru_cell_layer_call_fn, gru_cell_layer_call_and_return_conditional_losses while saving (showing 2 of 2). These functions will not be directly callable after loading.\n"
     ]
    },
    {
     "name": "stdout",
     "output_type": "stream",
     "text": [
      "INFO:tensorflow:Assets written to: best_model\\assets\n"
     ]
    },
    {
     "name": "stderr",
     "output_type": "stream",
     "text": [
      "INFO:tensorflow:Assets written to: best_model\\assets\n",
      "WARNING:absl:<keras.layers.recurrent.GRUCell object at 0x0000022BCE4C1748> has the same name 'GRUCell' as a built-in Keras object. Consider renaming <class 'keras.layers.recurrent.GRUCell'> to avoid naming conflicts when loading with `tf.keras.models.load_model`. If renaming is not possible, pass the object in the `custom_objects` parameter of the load function.\n",
      "WARNING:absl:<keras.layers.recurrent.GRUCell object at 0x0000022BCE54D988> has the same name 'GRUCell' as a built-in Keras object. Consider renaming <class 'keras.layers.recurrent.GRUCell'> to avoid naming conflicts when loading with `tf.keras.models.load_model`. If renaming is not possible, pass the object in the `custom_objects` parameter of the load function.\n"
     ]
    },
    {
     "name": "stdout",
     "output_type": "stream",
     "text": [
      "1110/1110 [==============================] - 12s 11ms/step - loss: 68.3689 - root_mean_squared_error: 8.2686\n",
      "Epoch 200/200\n",
      "1104/1110 [============================>.] - ETA: 0s - loss: 68.3271 - root_mean_squared_error: 8.2660"
     ]
    },
    {
     "name": "stderr",
     "output_type": "stream",
     "text": [
      "WARNING:absl:Found untraced functions such as gru_cell_layer_call_fn, gru_cell_layer_call_and_return_conditional_losses while saving (showing 2 of 2). These functions will not be directly callable after loading.\n"
     ]
    },
    {
     "name": "stdout",
     "output_type": "stream",
     "text": [
      "INFO:tensorflow:Assets written to: best_model\\assets\n"
     ]
    },
    {
     "name": "stderr",
     "output_type": "stream",
     "text": [
      "INFO:tensorflow:Assets written to: best_model\\assets\n",
      "WARNING:absl:<keras.layers.recurrent.GRUCell object at 0x0000022BCE4C1748> has the same name 'GRUCell' as a built-in Keras object. Consider renaming <class 'keras.layers.recurrent.GRUCell'> to avoid naming conflicts when loading with `tf.keras.models.load_model`. If renaming is not possible, pass the object in the `custom_objects` parameter of the load function.\n",
      "WARNING:absl:<keras.layers.recurrent.GRUCell object at 0x0000022BCE54D988> has the same name 'GRUCell' as a built-in Keras object. Consider renaming <class 'keras.layers.recurrent.GRUCell'> to avoid naming conflicts when loading with `tf.keras.models.load_model`. If renaming is not possible, pass the object in the `custom_objects` parameter of the load function.\n"
     ]
    },
    {
     "name": "stdout",
     "output_type": "stream",
     "text": [
      "1110/1110 [==============================] - 12s 10ms/step - loss: 68.3236 - root_mean_squared_error: 8.2658\n",
      "278/278 [==============================] - 1s 2ms/step - loss: 76.0270 - root_mean_squared_error: 8.7193\n",
      "Epoch 1/200\n",
      "1110/1110 [==============================] - 8s 7ms/step - loss: 69.2815 - root_mean_squared_error: 8.3235\n",
      "Epoch 2/200\n",
      "1110/1110 [==============================] - 8s 7ms/step - loss: 68.7882 - root_mean_squared_error: 8.2939\n",
      "Epoch 3/200\n",
      "1105/1110 [============================>.] - ETA: 0s - loss: 68.2701 - root_mean_squared_error: 8.2626"
     ]
    },
    {
     "name": "stderr",
     "output_type": "stream",
     "text": [
      "WARNING:absl:Found untraced functions such as gru_cell_layer_call_fn, gru_cell_layer_call_and_return_conditional_losses while saving (showing 2 of 2). These functions will not be directly callable after loading.\n"
     ]
    },
    {
     "name": "stdout",
     "output_type": "stream",
     "text": [
      "INFO:tensorflow:Assets written to: best_model\\assets\n"
     ]
    },
    {
     "name": "stderr",
     "output_type": "stream",
     "text": [
      "INFO:tensorflow:Assets written to: best_model\\assets\n",
      "WARNING:absl:<keras.layers.recurrent.GRUCell object at 0x0000022BCE4C1748> has the same name 'GRUCell' as a built-in Keras object. Consider renaming <class 'keras.layers.recurrent.GRUCell'> to avoid naming conflicts when loading with `tf.keras.models.load_model`. If renaming is not possible, pass the object in the `custom_objects` parameter of the load function.\n",
      "WARNING:absl:<keras.layers.recurrent.GRUCell object at 0x0000022BCE54D988> has the same name 'GRUCell' as a built-in Keras object. Consider renaming <class 'keras.layers.recurrent.GRUCell'> to avoid naming conflicts when loading with `tf.keras.models.load_model`. If renaming is not possible, pass the object in the `custom_objects` parameter of the load function.\n"
     ]
    },
    {
     "name": "stdout",
     "output_type": "stream",
     "text": [
      "1110/1110 [==============================] - 11s 10ms/step - loss: 68.2909 - root_mean_squared_error: 8.2638\n",
      "Epoch 4/200\n",
      "1110/1110 [==============================] - 7s 7ms/step - loss: 68.6184 - root_mean_squared_error: 8.2836\n",
      "Epoch 5/200\n",
      "1108/1110 [============================>.] - ETA: 0s - loss: 67.7100 - root_mean_squared_error: 8.2286"
     ]
    },
    {
     "name": "stderr",
     "output_type": "stream",
     "text": [
      "WARNING:absl:Found untraced functions such as gru_cell_layer_call_fn, gru_cell_layer_call_and_return_conditional_losses while saving (showing 2 of 2). These functions will not be directly callable after loading.\n"
     ]
    },
    {
     "name": "stdout",
     "output_type": "stream",
     "text": [
      "INFO:tensorflow:Assets written to: best_model\\assets\n"
     ]
    },
    {
     "name": "stderr",
     "output_type": "stream",
     "text": [
      "INFO:tensorflow:Assets written to: best_model\\assets\n",
      "WARNING:absl:<keras.layers.recurrent.GRUCell object at 0x0000022BCE4C1748> has the same name 'GRUCell' as a built-in Keras object. Consider renaming <class 'keras.layers.recurrent.GRUCell'> to avoid naming conflicts when loading with `tf.keras.models.load_model`. If renaming is not possible, pass the object in the `custom_objects` parameter of the load function.\n",
      "WARNING:absl:<keras.layers.recurrent.GRUCell object at 0x0000022BCE54D988> has the same name 'GRUCell' as a built-in Keras object. Consider renaming <class 'keras.layers.recurrent.GRUCell'> to avoid naming conflicts when loading with `tf.keras.models.load_model`. If renaming is not possible, pass the object in the `custom_objects` parameter of the load function.\n"
     ]
    },
    {
     "name": "stdout",
     "output_type": "stream",
     "text": [
      "1110/1110 [==============================] - 11s 10ms/step - loss: 67.6769 - root_mean_squared_error: 8.2266\n",
      "Epoch 6/200\n",
      "1110/1110 [==============================] - 7s 7ms/step - loss: 67.8323 - root_mean_squared_error: 8.2360\n",
      "Epoch 7/200\n",
      "1105/1110 [============================>.] - ETA: 0s - loss: 66.2465 - root_mean_squared_error: 8.1392"
     ]
    },
    {
     "name": "stderr",
     "output_type": "stream",
     "text": [
      "WARNING:absl:Found untraced functions such as gru_cell_layer_call_fn, gru_cell_layer_call_and_return_conditional_losses while saving (showing 2 of 2). These functions will not be directly callable after loading.\n"
     ]
    },
    {
     "name": "stdout",
     "output_type": "stream",
     "text": [
      "INFO:tensorflow:Assets written to: best_model\\assets\n"
     ]
    },
    {
     "name": "stderr",
     "output_type": "stream",
     "text": [
      "INFO:tensorflow:Assets written to: best_model\\assets\n",
      "WARNING:absl:<keras.layers.recurrent.GRUCell object at 0x0000022BCE4C1748> has the same name 'GRUCell' as a built-in Keras object. Consider renaming <class 'keras.layers.recurrent.GRUCell'> to avoid naming conflicts when loading with `tf.keras.models.load_model`. If renaming is not possible, pass the object in the `custom_objects` parameter of the load function.\n",
      "WARNING:absl:<keras.layers.recurrent.GRUCell object at 0x0000022BCE54D988> has the same name 'GRUCell' as a built-in Keras object. Consider renaming <class 'keras.layers.recurrent.GRUCell'> to avoid naming conflicts when loading with `tf.keras.models.load_model`. If renaming is not possible, pass the object in the `custom_objects` parameter of the load function.\n"
     ]
    },
    {
     "name": "stdout",
     "output_type": "stream",
     "text": [
      "1110/1110 [==============================] - 11s 10ms/step - loss: 66.1266 - root_mean_squared_error: 8.1318\n",
      "Epoch 8/200\n",
      "1110/1110 [==============================] - 8s 7ms/step - loss: 67.1134 - root_mean_squared_error: 8.1923\n",
      "Epoch 9/200\n",
      "1109/1110 [============================>.] - ETA: 0s - loss: 66.1337 - root_mean_squared_error: 8.1323"
     ]
    },
    {
     "name": "stderr",
     "output_type": "stream",
     "text": [
      "WARNING:absl:Found untraced functions such as gru_cell_layer_call_fn, gru_cell_layer_call_and_return_conditional_losses while saving (showing 2 of 2). These functions will not be directly callable after loading.\n"
     ]
    },
    {
     "name": "stdout",
     "output_type": "stream",
     "text": [
      "INFO:tensorflow:Assets written to: best_model\\assets\n"
     ]
    },
    {
     "name": "stderr",
     "output_type": "stream",
     "text": [
      "INFO:tensorflow:Assets written to: best_model\\assets\n",
      "WARNING:absl:<keras.layers.recurrent.GRUCell object at 0x0000022BCE4C1748> has the same name 'GRUCell' as a built-in Keras object. Consider renaming <class 'keras.layers.recurrent.GRUCell'> to avoid naming conflicts when loading with `tf.keras.models.load_model`. If renaming is not possible, pass the object in the `custom_objects` parameter of the load function.\n",
      "WARNING:absl:<keras.layers.recurrent.GRUCell object at 0x0000022BCE54D988> has the same name 'GRUCell' as a built-in Keras object. Consider renaming <class 'keras.layers.recurrent.GRUCell'> to avoid naming conflicts when loading with `tf.keras.models.load_model`. If renaming is not possible, pass the object in the `custom_objects` parameter of the load function.\n"
     ]
    },
    {
     "name": "stdout",
     "output_type": "stream",
     "text": [
      "1110/1110 [==============================] - 11s 10ms/step - loss: 66.1184 - root_mean_squared_error: 8.1313\n",
      "Epoch 10/200\n",
      "1110/1110 [==============================] - 8s 7ms/step - loss: 66.3578 - root_mean_squared_error: 8.1460\n",
      "Epoch 11/200\n",
      "1110/1110 [==============================] - 9s 8ms/step - loss: 66.1936 - root_mean_squared_error: 8.1359\n",
      "Epoch 12/200\n",
      "1107/1110 [============================>.] - ETA: 0s - loss: 65.5232 - root_mean_squared_error: 8.0946"
     ]
    },
    {
     "name": "stderr",
     "output_type": "stream",
     "text": [
      "WARNING:absl:Found untraced functions such as gru_cell_layer_call_fn, gru_cell_layer_call_and_return_conditional_losses while saving (showing 2 of 2). These functions will not be directly callable after loading.\n"
     ]
    },
    {
     "name": "stdout",
     "output_type": "stream",
     "text": [
      "INFO:tensorflow:Assets written to: best_model\\assets\n"
     ]
    },
    {
     "name": "stderr",
     "output_type": "stream",
     "text": [
      "INFO:tensorflow:Assets written to: best_model\\assets\n",
      "WARNING:absl:<keras.layers.recurrent.GRUCell object at 0x0000022BCE4C1748> has the same name 'GRUCell' as a built-in Keras object. Consider renaming <class 'keras.layers.recurrent.GRUCell'> to avoid naming conflicts when loading with `tf.keras.models.load_model`. If renaming is not possible, pass the object in the `custom_objects` parameter of the load function.\n",
      "WARNING:absl:<keras.layers.recurrent.GRUCell object at 0x0000022BCE54D988> has the same name 'GRUCell' as a built-in Keras object. Consider renaming <class 'keras.layers.recurrent.GRUCell'> to avoid naming conflicts when loading with `tf.keras.models.load_model`. If renaming is not possible, pass the object in the `custom_objects` parameter of the load function.\n"
     ]
    },
    {
     "name": "stdout",
     "output_type": "stream",
     "text": [
      "1110/1110 [==============================] - 17s 15ms/step - loss: 65.6933 - root_mean_squared_error: 8.1051\n",
      "Epoch 13/200\n",
      "1110/1110 [==============================] - 9s 8ms/step - loss: 66.0364 - root_mean_squared_error: 8.1263\n",
      "Epoch 14/200\n",
      "1110/1110 [==============================] - 8s 7ms/step - loss: 65.8237 - root_mean_squared_error: 8.1132\n",
      "Epoch 15/200\n",
      "1110/1110 [==============================] - ETA: 0s - loss: 65.0764 - root_mean_squared_error: 8.0670"
     ]
    },
    {
     "name": "stderr",
     "output_type": "stream",
     "text": [
      "WARNING:absl:Found untraced functions such as gru_cell_layer_call_fn, gru_cell_layer_call_and_return_conditional_losses while saving (showing 2 of 2). These functions will not be directly callable after loading.\n"
     ]
    },
    {
     "name": "stdout",
     "output_type": "stream",
     "text": [
      "INFO:tensorflow:Assets written to: best_model\\assets\n"
     ]
    },
    {
     "name": "stderr",
     "output_type": "stream",
     "text": [
      "INFO:tensorflow:Assets written to: best_model\\assets\n",
      "WARNING:absl:<keras.layers.recurrent.GRUCell object at 0x0000022BCE4C1748> has the same name 'GRUCell' as a built-in Keras object. Consider renaming <class 'keras.layers.recurrent.GRUCell'> to avoid naming conflicts when loading with `tf.keras.models.load_model`. If renaming is not possible, pass the object in the `custom_objects` parameter of the load function.\n",
      "WARNING:absl:<keras.layers.recurrent.GRUCell object at 0x0000022BCE54D988> has the same name 'GRUCell' as a built-in Keras object. Consider renaming <class 'keras.layers.recurrent.GRUCell'> to avoid naming conflicts when loading with `tf.keras.models.load_model`. If renaming is not possible, pass the object in the `custom_objects` parameter of the load function.\n"
     ]
    },
    {
     "name": "stdout",
     "output_type": "stream",
     "text": [
      "1110/1110 [==============================] - 11s 10ms/step - loss: 65.0764 - root_mean_squared_error: 8.0670\n",
      "Epoch 16/200\n",
      "1103/1110 [============================>.] - ETA: 0s - loss: 65.0443 - root_mean_squared_error: 8.0650"
     ]
    },
    {
     "name": "stderr",
     "output_type": "stream",
     "text": [
      "WARNING:absl:Found untraced functions such as gru_cell_layer_call_fn, gru_cell_layer_call_and_return_conditional_losses while saving (showing 2 of 2). These functions will not be directly callable after loading.\n"
     ]
    },
    {
     "name": "stdout",
     "output_type": "stream",
     "text": [
      "INFO:tensorflow:Assets written to: best_model\\assets\n"
     ]
    },
    {
     "name": "stderr",
     "output_type": "stream",
     "text": [
      "INFO:tensorflow:Assets written to: best_model\\assets\n",
      "WARNING:absl:<keras.layers.recurrent.GRUCell object at 0x0000022BCE4C1748> has the same name 'GRUCell' as a built-in Keras object. Consider renaming <class 'keras.layers.recurrent.GRUCell'> to avoid naming conflicts when loading with `tf.keras.models.load_model`. If renaming is not possible, pass the object in the `custom_objects` parameter of the load function.\n",
      "WARNING:absl:<keras.layers.recurrent.GRUCell object at 0x0000022BCE54D988> has the same name 'GRUCell' as a built-in Keras object. Consider renaming <class 'keras.layers.recurrent.GRUCell'> to avoid naming conflicts when loading with `tf.keras.models.load_model`. If renaming is not possible, pass the object in the `custom_objects` parameter of the load function.\n"
     ]
    },
    {
     "name": "stdout",
     "output_type": "stream",
     "text": [
      "1110/1110 [==============================] - 12s 10ms/step - loss: 64.9739 - root_mean_squared_error: 8.0606\n",
      "Epoch 17/200\n",
      "1103/1110 [============================>.] - ETA: 0s - loss: 64.2465 - root_mean_squared_error: 8.0154"
     ]
    },
    {
     "name": "stderr",
     "output_type": "stream",
     "text": [
      "WARNING:absl:Found untraced functions such as gru_cell_layer_call_fn, gru_cell_layer_call_and_return_conditional_losses while saving (showing 2 of 2). These functions will not be directly callable after loading.\n"
     ]
    },
    {
     "name": "stdout",
     "output_type": "stream",
     "text": [
      "INFO:tensorflow:Assets written to: best_model\\assets\n"
     ]
    },
    {
     "name": "stderr",
     "output_type": "stream",
     "text": [
      "INFO:tensorflow:Assets written to: best_model\\assets\n",
      "WARNING:absl:<keras.layers.recurrent.GRUCell object at 0x0000022BCE4C1748> has the same name 'GRUCell' as a built-in Keras object. Consider renaming <class 'keras.layers.recurrent.GRUCell'> to avoid naming conflicts when loading with `tf.keras.models.load_model`. If renaming is not possible, pass the object in the `custom_objects` parameter of the load function.\n",
      "WARNING:absl:<keras.layers.recurrent.GRUCell object at 0x0000022BCE54D988> has the same name 'GRUCell' as a built-in Keras object. Consider renaming <class 'keras.layers.recurrent.GRUCell'> to avoid naming conflicts when loading with `tf.keras.models.load_model`. If renaming is not possible, pass the object in the `custom_objects` parameter of the load function.\n"
     ]
    },
    {
     "name": "stdout",
     "output_type": "stream",
     "text": [
      "1110/1110 [==============================] - 12s 11ms/step - loss: 64.4667 - root_mean_squared_error: 8.0291\n",
      "Epoch 18/200\n",
      "1110/1110 [==============================] - ETA: 0s - loss: 64.1749 - root_mean_squared_error: 8.0109"
     ]
    },
    {
     "name": "stderr",
     "output_type": "stream",
     "text": [
      "WARNING:absl:Found untraced functions such as gru_cell_layer_call_fn, gru_cell_layer_call_and_return_conditional_losses while saving (showing 2 of 2). These functions will not be directly callable after loading.\n"
     ]
    },
    {
     "name": "stdout",
     "output_type": "stream",
     "text": [
      "INFO:tensorflow:Assets written to: best_model\\assets\n"
     ]
    },
    {
     "name": "stderr",
     "output_type": "stream",
     "text": [
      "INFO:tensorflow:Assets written to: best_model\\assets\n",
      "WARNING:absl:<keras.layers.recurrent.GRUCell object at 0x0000022BCE4C1748> has the same name 'GRUCell' as a built-in Keras object. Consider renaming <class 'keras.layers.recurrent.GRUCell'> to avoid naming conflicts when loading with `tf.keras.models.load_model`. If renaming is not possible, pass the object in the `custom_objects` parameter of the load function.\n",
      "WARNING:absl:<keras.layers.recurrent.GRUCell object at 0x0000022BCE54D988> has the same name 'GRUCell' as a built-in Keras object. Consider renaming <class 'keras.layers.recurrent.GRUCell'> to avoid naming conflicts when loading with `tf.keras.models.load_model`. If renaming is not possible, pass the object in the `custom_objects` parameter of the load function.\n"
     ]
    },
    {
     "name": "stdout",
     "output_type": "stream",
     "text": [
      "1110/1110 [==============================] - 12s 11ms/step - loss: 64.1749 - root_mean_squared_error: 8.0109\n",
      "Epoch 19/200\n",
      "1109/1110 [============================>.] - ETA: 0s - loss: 63.9453 - root_mean_squared_error: 7.9966"
     ]
    },
    {
     "name": "stderr",
     "output_type": "stream",
     "text": [
      "WARNING:absl:Found untraced functions such as gru_cell_layer_call_fn, gru_cell_layer_call_and_return_conditional_losses while saving (showing 2 of 2). These functions will not be directly callable after loading.\n"
     ]
    },
    {
     "name": "stdout",
     "output_type": "stream",
     "text": [
      "INFO:tensorflow:Assets written to: best_model\\assets\n"
     ]
    },
    {
     "name": "stderr",
     "output_type": "stream",
     "text": [
      "INFO:tensorflow:Assets written to: best_model\\assets\n",
      "WARNING:absl:<keras.layers.recurrent.GRUCell object at 0x0000022BCE4C1748> has the same name 'GRUCell' as a built-in Keras object. Consider renaming <class 'keras.layers.recurrent.GRUCell'> to avoid naming conflicts when loading with `tf.keras.models.load_model`. If renaming is not possible, pass the object in the `custom_objects` parameter of the load function.\n",
      "WARNING:absl:<keras.layers.recurrent.GRUCell object at 0x0000022BCE54D988> has the same name 'GRUCell' as a built-in Keras object. Consider renaming <class 'keras.layers.recurrent.GRUCell'> to avoid naming conflicts when loading with `tf.keras.models.load_model`. If renaming is not possible, pass the object in the `custom_objects` parameter of the load function.\n"
     ]
    },
    {
     "name": "stdout",
     "output_type": "stream",
     "text": [
      "1110/1110 [==============================] - 12s 11ms/step - loss: 63.9687 - root_mean_squared_error: 7.9980\n",
      "Epoch 20/200\n",
      "1108/1110 [============================>.] - ETA: 0s - loss: 63.5822 - root_mean_squared_error: 7.9738"
     ]
    },
    {
     "name": "stderr",
     "output_type": "stream",
     "text": [
      "WARNING:absl:Found untraced functions such as gru_cell_layer_call_fn, gru_cell_layer_call_and_return_conditional_losses while saving (showing 2 of 2). These functions will not be directly callable after loading.\n"
     ]
    },
    {
     "name": "stdout",
     "output_type": "stream",
     "text": [
      "INFO:tensorflow:Assets written to: best_model\\assets\n"
     ]
    },
    {
     "name": "stderr",
     "output_type": "stream",
     "text": [
      "INFO:tensorflow:Assets written to: best_model\\assets\n",
      "WARNING:absl:<keras.layers.recurrent.GRUCell object at 0x0000022BCE4C1748> has the same name 'GRUCell' as a built-in Keras object. Consider renaming <class 'keras.layers.recurrent.GRUCell'> to avoid naming conflicts when loading with `tf.keras.models.load_model`. If renaming is not possible, pass the object in the `custom_objects` parameter of the load function.\n",
      "WARNING:absl:<keras.layers.recurrent.GRUCell object at 0x0000022BCE54D988> has the same name 'GRUCell' as a built-in Keras object. Consider renaming <class 'keras.layers.recurrent.GRUCell'> to avoid naming conflicts when loading with `tf.keras.models.load_model`. If renaming is not possible, pass the object in the `custom_objects` parameter of the load function.\n"
     ]
    },
    {
     "name": "stdout",
     "output_type": "stream",
     "text": [
      "1110/1110 [==============================] - 14s 12ms/step - loss: 63.5685 - root_mean_squared_error: 7.9730\n",
      "Epoch 21/200\n",
      "1108/1110 [============================>.] - ETA: 0s - loss: 63.1565 - root_mean_squared_error: 7.9471"
     ]
    },
    {
     "name": "stderr",
     "output_type": "stream",
     "text": [
      "WARNING:absl:Found untraced functions such as gru_cell_layer_call_fn, gru_cell_layer_call_and_return_conditional_losses while saving (showing 2 of 2). These functions will not be directly callable after loading.\n"
     ]
    },
    {
     "name": "stdout",
     "output_type": "stream",
     "text": [
      "INFO:tensorflow:Assets written to: best_model\\assets\n"
     ]
    },
    {
     "name": "stderr",
     "output_type": "stream",
     "text": [
      "INFO:tensorflow:Assets written to: best_model\\assets\n",
      "WARNING:absl:<keras.layers.recurrent.GRUCell object at 0x0000022BCE4C1748> has the same name 'GRUCell' as a built-in Keras object. Consider renaming <class 'keras.layers.recurrent.GRUCell'> to avoid naming conflicts when loading with `tf.keras.models.load_model`. If renaming is not possible, pass the object in the `custom_objects` parameter of the load function.\n",
      "WARNING:absl:<keras.layers.recurrent.GRUCell object at 0x0000022BCE54D988> has the same name 'GRUCell' as a built-in Keras object. Consider renaming <class 'keras.layers.recurrent.GRUCell'> to avoid naming conflicts when loading with `tf.keras.models.load_model`. If renaming is not possible, pass the object in the `custom_objects` parameter of the load function.\n"
     ]
    },
    {
     "name": "stdout",
     "output_type": "stream",
     "text": [
      "1110/1110 [==============================] - 17s 15ms/step - loss: 63.1335 - root_mean_squared_error: 7.9457\n",
      "Epoch 22/200\n",
      "1110/1110 [==============================] - 10s 9ms/step - loss: 63.7765 - root_mean_squared_error: 7.9860\n",
      "Epoch 23/200\n",
      "1107/1110 [============================>.] - ETA: 0s - loss: 62.9836 - root_mean_squared_error: 7.9362"
     ]
    },
    {
     "name": "stderr",
     "output_type": "stream",
     "text": [
      "WARNING:absl:Found untraced functions such as gru_cell_layer_call_fn, gru_cell_layer_call_and_return_conditional_losses while saving (showing 2 of 2). These functions will not be directly callable after loading.\n"
     ]
    },
    {
     "name": "stdout",
     "output_type": "stream",
     "text": [
      "INFO:tensorflow:Assets written to: best_model\\assets\n"
     ]
    },
    {
     "name": "stderr",
     "output_type": "stream",
     "text": [
      "INFO:tensorflow:Assets written to: best_model\\assets\n",
      "WARNING:absl:<keras.layers.recurrent.GRUCell object at 0x0000022BCE4C1748> has the same name 'GRUCell' as a built-in Keras object. Consider renaming <class 'keras.layers.recurrent.GRUCell'> to avoid naming conflicts when loading with `tf.keras.models.load_model`. If renaming is not possible, pass the object in the `custom_objects` parameter of the load function.\n",
      "WARNING:absl:<keras.layers.recurrent.GRUCell object at 0x0000022BCE54D988> has the same name 'GRUCell' as a built-in Keras object. Consider renaming <class 'keras.layers.recurrent.GRUCell'> to avoid naming conflicts when loading with `tf.keras.models.load_model`. If renaming is not possible, pass the object in the `custom_objects` parameter of the load function.\n"
     ]
    },
    {
     "name": "stdout",
     "output_type": "stream",
     "text": [
      "1110/1110 [==============================] - 16s 15ms/step - loss: 62.9245 - root_mean_squared_error: 7.9325\n",
      "Epoch 24/200\n",
      "1105/1110 [============================>.] - ETA: 0s - loss: 62.3339 - root_mean_squared_error: 7.8952"
     ]
    },
    {
     "name": "stderr",
     "output_type": "stream",
     "text": [
      "WARNING:absl:Found untraced functions such as gru_cell_layer_call_fn, gru_cell_layer_call_and_return_conditional_losses while saving (showing 2 of 2). These functions will not be directly callable after loading.\n"
     ]
    },
    {
     "name": "stdout",
     "output_type": "stream",
     "text": [
      "INFO:tensorflow:Assets written to: best_model\\assets\n"
     ]
    },
    {
     "name": "stderr",
     "output_type": "stream",
     "text": [
      "INFO:tensorflow:Assets written to: best_model\\assets\n",
      "WARNING:absl:<keras.layers.recurrent.GRUCell object at 0x0000022BCE4C1748> has the same name 'GRUCell' as a built-in Keras object. Consider renaming <class 'keras.layers.recurrent.GRUCell'> to avoid naming conflicts when loading with `tf.keras.models.load_model`. If renaming is not possible, pass the object in the `custom_objects` parameter of the load function.\n",
      "WARNING:absl:<keras.layers.recurrent.GRUCell object at 0x0000022BCE54D988> has the same name 'GRUCell' as a built-in Keras object. Consider renaming <class 'keras.layers.recurrent.GRUCell'> to avoid naming conflicts when loading with `tf.keras.models.load_model`. If renaming is not possible, pass the object in the `custom_objects` parameter of the load function.\n"
     ]
    },
    {
     "name": "stdout",
     "output_type": "stream",
     "text": [
      "1110/1110 [==============================] - 17s 15ms/step - loss: 62.2029 - root_mean_squared_error: 7.8869\n",
      "Epoch 25/200\n",
      "1107/1110 [============================>.] - ETA: 0s - loss: 62.1844 - root_mean_squared_error: 7.8857"
     ]
    },
    {
     "name": "stderr",
     "output_type": "stream",
     "text": [
      "WARNING:absl:Found untraced functions such as gru_cell_layer_call_fn, gru_cell_layer_call_and_return_conditional_losses while saving (showing 2 of 2). These functions will not be directly callable after loading.\n"
     ]
    },
    {
     "name": "stdout",
     "output_type": "stream",
     "text": [
      "INFO:tensorflow:Assets written to: best_model\\assets\n"
     ]
    },
    {
     "name": "stderr",
     "output_type": "stream",
     "text": [
      "INFO:tensorflow:Assets written to: best_model\\assets\n",
      "WARNING:absl:<keras.layers.recurrent.GRUCell object at 0x0000022BCE4C1748> has the same name 'GRUCell' as a built-in Keras object. Consider renaming <class 'keras.layers.recurrent.GRUCell'> to avoid naming conflicts when loading with `tf.keras.models.load_model`. If renaming is not possible, pass the object in the `custom_objects` parameter of the load function.\n",
      "WARNING:absl:<keras.layers.recurrent.GRUCell object at 0x0000022BCE54D988> has the same name 'GRUCell' as a built-in Keras object. Consider renaming <class 'keras.layers.recurrent.GRUCell'> to avoid naming conflicts when loading with `tf.keras.models.load_model`. If renaming is not possible, pass the object in the `custom_objects` parameter of the load function.\n"
     ]
    },
    {
     "name": "stdout",
     "output_type": "stream",
     "text": [
      "1110/1110 [==============================] - 17s 15ms/step - loss: 62.1737 - root_mean_squared_error: 7.8850\n",
      "Epoch 26/200\n",
      "1103/1110 [============================>.] - ETA: 0s - loss: 61.9421 - root_mean_squared_error: 7.8703"
     ]
    },
    {
     "name": "stderr",
     "output_type": "stream",
     "text": [
      "WARNING:absl:Found untraced functions such as gru_cell_layer_call_fn, gru_cell_layer_call_and_return_conditional_losses while saving (showing 2 of 2). These functions will not be directly callable after loading.\n"
     ]
    },
    {
     "name": "stdout",
     "output_type": "stream",
     "text": [
      "INFO:tensorflow:Assets written to: best_model\\assets\n"
     ]
    },
    {
     "name": "stderr",
     "output_type": "stream",
     "text": [
      "INFO:tensorflow:Assets written to: best_model\\assets\n",
      "WARNING:absl:<keras.layers.recurrent.GRUCell object at 0x0000022BCE4C1748> has the same name 'GRUCell' as a built-in Keras object. Consider renaming <class 'keras.layers.recurrent.GRUCell'> to avoid naming conflicts when loading with `tf.keras.models.load_model`. If renaming is not possible, pass the object in the `custom_objects` parameter of the load function.\n",
      "WARNING:absl:<keras.layers.recurrent.GRUCell object at 0x0000022BCE54D988> has the same name 'GRUCell' as a built-in Keras object. Consider renaming <class 'keras.layers.recurrent.GRUCell'> to avoid naming conflicts when loading with `tf.keras.models.load_model`. If renaming is not possible, pass the object in the `custom_objects` parameter of the load function.\n"
     ]
    },
    {
     "name": "stdout",
     "output_type": "stream",
     "text": [
      "1110/1110 [==============================] - 13s 12ms/step - loss: 61.9259 - root_mean_squared_error: 7.8693\n",
      "Epoch 27/200\n",
      "1106/1110 [============================>.] - ETA: 0s - loss: 61.5851 - root_mean_squared_error: 7.8476"
     ]
    },
    {
     "name": "stderr",
     "output_type": "stream",
     "text": [
      "WARNING:absl:Found untraced functions such as gru_cell_layer_call_fn, gru_cell_layer_call_and_return_conditional_losses while saving (showing 2 of 2). These functions will not be directly callable after loading.\n"
     ]
    },
    {
     "name": "stdout",
     "output_type": "stream",
     "text": [
      "INFO:tensorflow:Assets written to: best_model\\assets\n"
     ]
    },
    {
     "name": "stderr",
     "output_type": "stream",
     "text": [
      "INFO:tensorflow:Assets written to: best_model\\assets\n",
      "WARNING:absl:<keras.layers.recurrent.GRUCell object at 0x0000022BCE4C1748> has the same name 'GRUCell' as a built-in Keras object. Consider renaming <class 'keras.layers.recurrent.GRUCell'> to avoid naming conflicts when loading with `tf.keras.models.load_model`. If renaming is not possible, pass the object in the `custom_objects` parameter of the load function.\n",
      "WARNING:absl:<keras.layers.recurrent.GRUCell object at 0x0000022BCE54D988> has the same name 'GRUCell' as a built-in Keras object. Consider renaming <class 'keras.layers.recurrent.GRUCell'> to avoid naming conflicts when loading with `tf.keras.models.load_model`. If renaming is not possible, pass the object in the `custom_objects` parameter of the load function.\n"
     ]
    },
    {
     "name": "stdout",
     "output_type": "stream",
     "text": [
      "1110/1110 [==============================] - 11s 10ms/step - loss: 61.5818 - root_mean_squared_error: 7.8474\n",
      "Epoch 28/200\n",
      "1108/1110 [============================>.] - ETA: 0s - loss: 61.4474 - root_mean_squared_error: 7.8388"
     ]
    },
    {
     "name": "stderr",
     "output_type": "stream",
     "text": [
      "WARNING:absl:Found untraced functions such as gru_cell_layer_call_fn, gru_cell_layer_call_and_return_conditional_losses while saving (showing 2 of 2). These functions will not be directly callable after loading.\n"
     ]
    },
    {
     "name": "stdout",
     "output_type": "stream",
     "text": [
      "INFO:tensorflow:Assets written to: best_model\\assets\n"
     ]
    },
    {
     "name": "stderr",
     "output_type": "stream",
     "text": [
      "INFO:tensorflow:Assets written to: best_model\\assets\n",
      "WARNING:absl:<keras.layers.recurrent.GRUCell object at 0x0000022BCE4C1748> has the same name 'GRUCell' as a built-in Keras object. Consider renaming <class 'keras.layers.recurrent.GRUCell'> to avoid naming conflicts when loading with `tf.keras.models.load_model`. If renaming is not possible, pass the object in the `custom_objects` parameter of the load function.\n",
      "WARNING:absl:<keras.layers.recurrent.GRUCell object at 0x0000022BCE54D988> has the same name 'GRUCell' as a built-in Keras object. Consider renaming <class 'keras.layers.recurrent.GRUCell'> to avoid naming conflicts when loading with `tf.keras.models.load_model`. If renaming is not possible, pass the object in the `custom_objects` parameter of the load function.\n"
     ]
    },
    {
     "name": "stdout",
     "output_type": "stream",
     "text": [
      "1110/1110 [==============================] - 12s 10ms/step - loss: 61.4214 - root_mean_squared_error: 7.8372\n",
      "Epoch 29/200\n",
      "1105/1110 [============================>.] - ETA: 0s - loss: 61.2543 - root_mean_squared_error: 7.8265"
     ]
    },
    {
     "name": "stderr",
     "output_type": "stream",
     "text": [
      "WARNING:absl:Found untraced functions such as gru_cell_layer_call_fn, gru_cell_layer_call_and_return_conditional_losses while saving (showing 2 of 2). These functions will not be directly callable after loading.\n"
     ]
    },
    {
     "name": "stdout",
     "output_type": "stream",
     "text": [
      "INFO:tensorflow:Assets written to: best_model\\assets\n"
     ]
    },
    {
     "name": "stderr",
     "output_type": "stream",
     "text": [
      "INFO:tensorflow:Assets written to: best_model\\assets\n",
      "WARNING:absl:<keras.layers.recurrent.GRUCell object at 0x0000022BCE4C1748> has the same name 'GRUCell' as a built-in Keras object. Consider renaming <class 'keras.layers.recurrent.GRUCell'> to avoid naming conflicts when loading with `tf.keras.models.load_model`. If renaming is not possible, pass the object in the `custom_objects` parameter of the load function.\n",
      "WARNING:absl:<keras.layers.recurrent.GRUCell object at 0x0000022BCE54D988> has the same name 'GRUCell' as a built-in Keras object. Consider renaming <class 'keras.layers.recurrent.GRUCell'> to avoid naming conflicts when loading with `tf.keras.models.load_model`. If renaming is not possible, pass the object in the `custom_objects` parameter of the load function.\n"
     ]
    },
    {
     "name": "stdout",
     "output_type": "stream",
     "text": [
      "1110/1110 [==============================] - 11s 10ms/step - loss: 61.1812 - root_mean_squared_error: 7.8218\n",
      "Epoch 30/200\n",
      "1108/1110 [============================>.] - ETA: 0s - loss: 60.8933 - root_mean_squared_error: 7.8034"
     ]
    },
    {
     "name": "stderr",
     "output_type": "stream",
     "text": [
      "WARNING:absl:Found untraced functions such as gru_cell_layer_call_fn, gru_cell_layer_call_and_return_conditional_losses while saving (showing 2 of 2). These functions will not be directly callable after loading.\n"
     ]
    },
    {
     "name": "stdout",
     "output_type": "stream",
     "text": [
      "INFO:tensorflow:Assets written to: best_model\\assets\n"
     ]
    },
    {
     "name": "stderr",
     "output_type": "stream",
     "text": [
      "INFO:tensorflow:Assets written to: best_model\\assets\n",
      "WARNING:absl:<keras.layers.recurrent.GRUCell object at 0x0000022BCE4C1748> has the same name 'GRUCell' as a built-in Keras object. Consider renaming <class 'keras.layers.recurrent.GRUCell'> to avoid naming conflicts when loading with `tf.keras.models.load_model`. If renaming is not possible, pass the object in the `custom_objects` parameter of the load function.\n",
      "WARNING:absl:<keras.layers.recurrent.GRUCell object at 0x0000022BCE54D988> has the same name 'GRUCell' as a built-in Keras object. Consider renaming <class 'keras.layers.recurrent.GRUCell'> to avoid naming conflicts when loading with `tf.keras.models.load_model`. If renaming is not possible, pass the object in the `custom_objects` parameter of the load function.\n"
     ]
    },
    {
     "name": "stdout",
     "output_type": "stream",
     "text": [
      "1110/1110 [==============================] - 13s 12ms/step - loss: 60.8782 - root_mean_squared_error: 7.8025\n",
      "Epoch 31/200\n",
      "1110/1110 [==============================] - 8s 7ms/step - loss: 60.9061 - root_mean_squared_error: 7.8042\n",
      "Epoch 32/200\n",
      "1102/1110 [============================>.] - ETA: 0s - loss: 60.2532 - root_mean_squared_error: 7.7623"
     ]
    },
    {
     "name": "stderr",
     "output_type": "stream",
     "text": [
      "WARNING:absl:Found untraced functions such as gru_cell_layer_call_fn, gru_cell_layer_call_and_return_conditional_losses while saving (showing 2 of 2). These functions will not be directly callable after loading.\n"
     ]
    },
    {
     "name": "stdout",
     "output_type": "stream",
     "text": [
      "INFO:tensorflow:Assets written to: best_model\\assets\n"
     ]
    },
    {
     "name": "stderr",
     "output_type": "stream",
     "text": [
      "INFO:tensorflow:Assets written to: best_model\\assets\n",
      "WARNING:absl:<keras.layers.recurrent.GRUCell object at 0x0000022BCE4C1748> has the same name 'GRUCell' as a built-in Keras object. Consider renaming <class 'keras.layers.recurrent.GRUCell'> to avoid naming conflicts when loading with `tf.keras.models.load_model`. If renaming is not possible, pass the object in the `custom_objects` parameter of the load function.\n",
      "WARNING:absl:<keras.layers.recurrent.GRUCell object at 0x0000022BCE54D988> has the same name 'GRUCell' as a built-in Keras object. Consider renaming <class 'keras.layers.recurrent.GRUCell'> to avoid naming conflicts when loading with `tf.keras.models.load_model`. If renaming is not possible, pass the object in the `custom_objects` parameter of the load function.\n"
     ]
    },
    {
     "name": "stdout",
     "output_type": "stream",
     "text": [
      "1110/1110 [==============================] - 12s 11ms/step - loss: 60.2895 - root_mean_squared_error: 7.7646\n",
      "Epoch 33/200\n",
      "1108/1110 [============================>.] - ETA: 0s - loss: 59.6414 - root_mean_squared_error: 7.7228"
     ]
    },
    {
     "name": "stderr",
     "output_type": "stream",
     "text": [
      "WARNING:absl:Found untraced functions such as gru_cell_layer_call_fn, gru_cell_layer_call_and_return_conditional_losses while saving (showing 2 of 2). These functions will not be directly callable after loading.\n"
     ]
    },
    {
     "name": "stdout",
     "output_type": "stream",
     "text": [
      "INFO:tensorflow:Assets written to: best_model\\assets\n"
     ]
    },
    {
     "name": "stderr",
     "output_type": "stream",
     "text": [
      "INFO:tensorflow:Assets written to: best_model\\assets\n",
      "WARNING:absl:<keras.layers.recurrent.GRUCell object at 0x0000022BCE4C1748> has the same name 'GRUCell' as a built-in Keras object. Consider renaming <class 'keras.layers.recurrent.GRUCell'> to avoid naming conflicts when loading with `tf.keras.models.load_model`. If renaming is not possible, pass the object in the `custom_objects` parameter of the load function.\n",
      "WARNING:absl:<keras.layers.recurrent.GRUCell object at 0x0000022BCE54D988> has the same name 'GRUCell' as a built-in Keras object. Consider renaming <class 'keras.layers.recurrent.GRUCell'> to avoid naming conflicts when loading with `tf.keras.models.load_model`. If renaming is not possible, pass the object in the `custom_objects` parameter of the load function.\n"
     ]
    },
    {
     "name": "stdout",
     "output_type": "stream",
     "text": [
      "1110/1110 [==============================] - 12s 11ms/step - loss: 59.5959 - root_mean_squared_error: 7.7198\n",
      "Epoch 34/200\n",
      "1110/1110 [==============================] - 9s 8ms/step - loss: 60.7323 - root_mean_squared_error: 7.7931\n",
      "Epoch 35/200\n",
      "1110/1110 [==============================] - 8s 7ms/step - loss: 59.6427 - root_mean_squared_error: 7.7229\n",
      "Epoch 36/200\n",
      "1110/1110 [==============================] - ETA: 0s - loss: 58.9128 - root_mean_squared_error: 7.6755"
     ]
    },
    {
     "name": "stderr",
     "output_type": "stream",
     "text": [
      "WARNING:absl:Found untraced functions such as gru_cell_layer_call_fn, gru_cell_layer_call_and_return_conditional_losses while saving (showing 2 of 2). These functions will not be directly callable after loading.\n"
     ]
    },
    {
     "name": "stdout",
     "output_type": "stream",
     "text": [
      "INFO:tensorflow:Assets written to: best_model\\assets\n"
     ]
    },
    {
     "name": "stderr",
     "output_type": "stream",
     "text": [
      "INFO:tensorflow:Assets written to: best_model\\assets\n",
      "WARNING:absl:<keras.layers.recurrent.GRUCell object at 0x0000022BCE4C1748> has the same name 'GRUCell' as a built-in Keras object. Consider renaming <class 'keras.layers.recurrent.GRUCell'> to avoid naming conflicts when loading with `tf.keras.models.load_model`. If renaming is not possible, pass the object in the `custom_objects` parameter of the load function.\n",
      "WARNING:absl:<keras.layers.recurrent.GRUCell object at 0x0000022BCE54D988> has the same name 'GRUCell' as a built-in Keras object. Consider renaming <class 'keras.layers.recurrent.GRUCell'> to avoid naming conflicts when loading with `tf.keras.models.load_model`. If renaming is not possible, pass the object in the `custom_objects` parameter of the load function.\n"
     ]
    },
    {
     "name": "stdout",
     "output_type": "stream",
     "text": [
      "1110/1110 [==============================] - 13s 11ms/step - loss: 58.9128 - root_mean_squared_error: 7.6755\n",
      "Epoch 37/200\n",
      "1110/1110 [==============================] - 9s 8ms/step - loss: 59.0066 - root_mean_squared_error: 7.6816\n",
      "Epoch 38/200\n",
      "1110/1110 [==============================] - 8s 7ms/step - loss: 59.3475 - root_mean_squared_error: 7.7037\n",
      "Epoch 39/200\n",
      "1108/1110 [============================>.] - ETA: 0s - loss: 58.7893 - root_mean_squared_error: 7.6674"
     ]
    },
    {
     "name": "stderr",
     "output_type": "stream",
     "text": [
      "WARNING:absl:Found untraced functions such as gru_cell_layer_call_fn, gru_cell_layer_call_and_return_conditional_losses while saving (showing 2 of 2). These functions will not be directly callable after loading.\n"
     ]
    },
    {
     "name": "stdout",
     "output_type": "stream",
     "text": [
      "INFO:tensorflow:Assets written to: best_model\\assets\n"
     ]
    },
    {
     "name": "stderr",
     "output_type": "stream",
     "text": [
      "INFO:tensorflow:Assets written to: best_model\\assets\n",
      "WARNING:absl:<keras.layers.recurrent.GRUCell object at 0x0000022BCE4C1748> has the same name 'GRUCell' as a built-in Keras object. Consider renaming <class 'keras.layers.recurrent.GRUCell'> to avoid naming conflicts when loading with `tf.keras.models.load_model`. If renaming is not possible, pass the object in the `custom_objects` parameter of the load function.\n",
      "WARNING:absl:<keras.layers.recurrent.GRUCell object at 0x0000022BCE54D988> has the same name 'GRUCell' as a built-in Keras object. Consider renaming <class 'keras.layers.recurrent.GRUCell'> to avoid naming conflicts when loading with `tf.keras.models.load_model`. If renaming is not possible, pass the object in the `custom_objects` parameter of the load function.\n"
     ]
    },
    {
     "name": "stdout",
     "output_type": "stream",
     "text": [
      "1110/1110 [==============================] - 12s 11ms/step - loss: 58.8042 - root_mean_squared_error: 7.6684\n",
      "Epoch 40/200\n",
      "1108/1110 [============================>.] - ETA: 0s - loss: 58.6600 - root_mean_squared_error: 7.6590"
     ]
    },
    {
     "name": "stderr",
     "output_type": "stream",
     "text": [
      "WARNING:absl:Found untraced functions such as gru_cell_layer_call_fn, gru_cell_layer_call_and_return_conditional_losses while saving (showing 2 of 2). These functions will not be directly callable after loading.\n"
     ]
    },
    {
     "name": "stdout",
     "output_type": "stream",
     "text": [
      "INFO:tensorflow:Assets written to: best_model\\assets\n"
     ]
    },
    {
     "name": "stderr",
     "output_type": "stream",
     "text": [
      "INFO:tensorflow:Assets written to: best_model\\assets\n",
      "WARNING:absl:<keras.layers.recurrent.GRUCell object at 0x0000022BCE4C1748> has the same name 'GRUCell' as a built-in Keras object. Consider renaming <class 'keras.layers.recurrent.GRUCell'> to avoid naming conflicts when loading with `tf.keras.models.load_model`. If renaming is not possible, pass the object in the `custom_objects` parameter of the load function.\n",
      "WARNING:absl:<keras.layers.recurrent.GRUCell object at 0x0000022BCE54D988> has the same name 'GRUCell' as a built-in Keras object. Consider renaming <class 'keras.layers.recurrent.GRUCell'> to avoid naming conflicts when loading with `tf.keras.models.load_model`. If renaming is not possible, pass the object in the `custom_objects` parameter of the load function.\n"
     ]
    },
    {
     "name": "stdout",
     "output_type": "stream",
     "text": [
      "1110/1110 [==============================] - 11s 10ms/step - loss: 58.6301 - root_mean_squared_error: 7.6570\n",
      "Epoch 41/200\n",
      "1106/1110 [============================>.] - ETA: 0s - loss: 58.0280 - root_mean_squared_error: 7.6176"
     ]
    },
    {
     "name": "stderr",
     "output_type": "stream",
     "text": [
      "WARNING:absl:Found untraced functions such as gru_cell_layer_call_fn, gru_cell_layer_call_and_return_conditional_losses while saving (showing 2 of 2). These functions will not be directly callable after loading.\n"
     ]
    },
    {
     "name": "stdout",
     "output_type": "stream",
     "text": [
      "INFO:tensorflow:Assets written to: best_model\\assets\n"
     ]
    },
    {
     "name": "stderr",
     "output_type": "stream",
     "text": [
      "INFO:tensorflow:Assets written to: best_model\\assets\n",
      "WARNING:absl:<keras.layers.recurrent.GRUCell object at 0x0000022BCE4C1748> has the same name 'GRUCell' as a built-in Keras object. Consider renaming <class 'keras.layers.recurrent.GRUCell'> to avoid naming conflicts when loading with `tf.keras.models.load_model`. If renaming is not possible, pass the object in the `custom_objects` parameter of the load function.\n",
      "WARNING:absl:<keras.layers.recurrent.GRUCell object at 0x0000022BCE54D988> has the same name 'GRUCell' as a built-in Keras object. Consider renaming <class 'keras.layers.recurrent.GRUCell'> to avoid naming conflicts when loading with `tf.keras.models.load_model`. If renaming is not possible, pass the object in the `custom_objects` parameter of the load function.\n"
     ]
    },
    {
     "name": "stdout",
     "output_type": "stream",
     "text": [
      "1110/1110 [==============================] - 12s 11ms/step - loss: 57.9945 - root_mean_squared_error: 7.6154\n",
      "Epoch 42/200\n",
      "1110/1110 [==============================] - 8s 7ms/step - loss: 58.0409 - root_mean_squared_error: 7.6185\n",
      "Epoch 43/200\n",
      "1105/1110 [============================>.] - ETA: 0s - loss: 56.9573 - root_mean_squared_error: 7.5470"
     ]
    },
    {
     "name": "stderr",
     "output_type": "stream",
     "text": [
      "WARNING:absl:Found untraced functions such as gru_cell_layer_call_fn, gru_cell_layer_call_and_return_conditional_losses while saving (showing 2 of 2). These functions will not be directly callable after loading.\n"
     ]
    },
    {
     "name": "stdout",
     "output_type": "stream",
     "text": [
      "INFO:tensorflow:Assets written to: best_model\\assets\n"
     ]
    },
    {
     "name": "stderr",
     "output_type": "stream",
     "text": [
      "INFO:tensorflow:Assets written to: best_model\\assets\n",
      "WARNING:absl:<keras.layers.recurrent.GRUCell object at 0x0000022BCE4C1748> has the same name 'GRUCell' as a built-in Keras object. Consider renaming <class 'keras.layers.recurrent.GRUCell'> to avoid naming conflicts when loading with `tf.keras.models.load_model`. If renaming is not possible, pass the object in the `custom_objects` parameter of the load function.\n",
      "WARNING:absl:<keras.layers.recurrent.GRUCell object at 0x0000022BCE54D988> has the same name 'GRUCell' as a built-in Keras object. Consider renaming <class 'keras.layers.recurrent.GRUCell'> to avoid naming conflicts when loading with `tf.keras.models.load_model`. If renaming is not possible, pass the object in the `custom_objects` parameter of the load function.\n"
     ]
    },
    {
     "name": "stdout",
     "output_type": "stream",
     "text": [
      "1110/1110 [==============================] - 11s 10ms/step - loss: 57.1196 - root_mean_squared_error: 7.5578\n",
      "Epoch 44/200\n",
      "1110/1110 [==============================] - 8s 7ms/step - loss: 57.6581 - root_mean_squared_error: 7.5933\n",
      "Epoch 45/200\n",
      "1104/1110 [============================>.] - ETA: 0s - loss: 57.1866 - root_mean_squared_error: 7.5622"
     ]
    },
    {
     "name": "stderr",
     "output_type": "stream",
     "text": [
      "WARNING:absl:Found untraced functions such as gru_cell_layer_call_fn, gru_cell_layer_call_and_return_conditional_losses while saving (showing 2 of 2). These functions will not be directly callable after loading.\n"
     ]
    },
    {
     "name": "stdout",
     "output_type": "stream",
     "text": [
      "INFO:tensorflow:Assets written to: best_model\\assets\n"
     ]
    },
    {
     "name": "stderr",
     "output_type": "stream",
     "text": [
      "INFO:tensorflow:Assets written to: best_model\\assets\n",
      "WARNING:absl:<keras.layers.recurrent.GRUCell object at 0x0000022BCE4C1748> has the same name 'GRUCell' as a built-in Keras object. Consider renaming <class 'keras.layers.recurrent.GRUCell'> to avoid naming conflicts when loading with `tf.keras.models.load_model`. If renaming is not possible, pass the object in the `custom_objects` parameter of the load function.\n",
      "WARNING:absl:<keras.layers.recurrent.GRUCell object at 0x0000022BCE54D988> has the same name 'GRUCell' as a built-in Keras object. Consider renaming <class 'keras.layers.recurrent.GRUCell'> to avoid naming conflicts when loading with `tf.keras.models.load_model`. If renaming is not possible, pass the object in the `custom_objects` parameter of the load function.\n"
     ]
    },
    {
     "name": "stdout",
     "output_type": "stream",
     "text": [
      "1110/1110 [==============================] - 12s 11ms/step - loss: 57.0627 - root_mean_squared_error: 7.5540\n",
      "Epoch 46/200\n",
      "1104/1110 [============================>.] - ETA: 0s - loss: 56.2216 - root_mean_squared_error: 7.4981"
     ]
    },
    {
     "name": "stderr",
     "output_type": "stream",
     "text": [
      "WARNING:absl:Found untraced functions such as gru_cell_layer_call_fn, gru_cell_layer_call_and_return_conditional_losses while saving (showing 2 of 2). These functions will not be directly callable after loading.\n"
     ]
    },
    {
     "name": "stdout",
     "output_type": "stream",
     "text": [
      "INFO:tensorflow:Assets written to: best_model\\assets\n"
     ]
    },
    {
     "name": "stderr",
     "output_type": "stream",
     "text": [
      "INFO:tensorflow:Assets written to: best_model\\assets\n",
      "WARNING:absl:<keras.layers.recurrent.GRUCell object at 0x0000022BCE4C1748> has the same name 'GRUCell' as a built-in Keras object. Consider renaming <class 'keras.layers.recurrent.GRUCell'> to avoid naming conflicts when loading with `tf.keras.models.load_model`. If renaming is not possible, pass the object in the `custom_objects` parameter of the load function.\n",
      "WARNING:absl:<keras.layers.recurrent.GRUCell object at 0x0000022BCE54D988> has the same name 'GRUCell' as a built-in Keras object. Consider renaming <class 'keras.layers.recurrent.GRUCell'> to avoid naming conflicts when loading with `tf.keras.models.load_model`. If renaming is not possible, pass the object in the `custom_objects` parameter of the load function.\n"
     ]
    },
    {
     "name": "stdout",
     "output_type": "stream",
     "text": [
      "1110/1110 [==============================] - 11s 10ms/step - loss: 56.3134 - root_mean_squared_error: 7.5042\n",
      "Epoch 47/200\n",
      "1110/1110 [==============================] - 8s 7ms/step - loss: 56.4650 - root_mean_squared_error: 7.5143\n",
      "Epoch 48/200\n",
      "1110/1110 [==============================] - 8s 7ms/step - loss: 56.4854 - root_mean_squared_error: 7.5157\n",
      "Epoch 49/200\n",
      "1110/1110 [==============================] - 8s 7ms/step - loss: 57.0215 - root_mean_squared_error: 7.5513\n",
      "Epoch 50/200\n",
      "1110/1110 [==============================] - 8s 7ms/step - loss: 56.6402 - root_mean_squared_error: 7.5260\n",
      "Epoch 51/200\n",
      "1110/1110 [==============================] - ETA: 0s - loss: 56.2106 - root_mean_squared_error: 7.4974"
     ]
    },
    {
     "name": "stderr",
     "output_type": "stream",
     "text": [
      "WARNING:absl:Found untraced functions such as gru_cell_layer_call_fn, gru_cell_layer_call_and_return_conditional_losses while saving (showing 2 of 2). These functions will not be directly callable after loading.\n"
     ]
    },
    {
     "name": "stdout",
     "output_type": "stream",
     "text": [
      "INFO:tensorflow:Assets written to: best_model\\assets\n"
     ]
    },
    {
     "name": "stderr",
     "output_type": "stream",
     "text": [
      "INFO:tensorflow:Assets written to: best_model\\assets\n",
      "WARNING:absl:<keras.layers.recurrent.GRUCell object at 0x0000022BCE4C1748> has the same name 'GRUCell' as a built-in Keras object. Consider renaming <class 'keras.layers.recurrent.GRUCell'> to avoid naming conflicts when loading with `tf.keras.models.load_model`. If renaming is not possible, pass the object in the `custom_objects` parameter of the load function.\n",
      "WARNING:absl:<keras.layers.recurrent.GRUCell object at 0x0000022BCE54D988> has the same name 'GRUCell' as a built-in Keras object. Consider renaming <class 'keras.layers.recurrent.GRUCell'> to avoid naming conflicts when loading with `tf.keras.models.load_model`. If renaming is not possible, pass the object in the `custom_objects` parameter of the load function.\n"
     ]
    },
    {
     "name": "stdout",
     "output_type": "stream",
     "text": [
      "1110/1110 [==============================] - 11s 10ms/step - loss: 56.2106 - root_mean_squared_error: 7.4974\n",
      "Epoch 52/200\n",
      "1104/1110 [============================>.] - ETA: 0s - loss: 55.6131 - root_mean_squared_error: 7.4574"
     ]
    },
    {
     "name": "stderr",
     "output_type": "stream",
     "text": [
      "WARNING:absl:Found untraced functions such as gru_cell_layer_call_fn, gru_cell_layer_call_and_return_conditional_losses while saving (showing 2 of 2). These functions will not be directly callable after loading.\n"
     ]
    },
    {
     "name": "stdout",
     "output_type": "stream",
     "text": [
      "INFO:tensorflow:Assets written to: best_model\\assets\n"
     ]
    },
    {
     "name": "stderr",
     "output_type": "stream",
     "text": [
      "INFO:tensorflow:Assets written to: best_model\\assets\n",
      "WARNING:absl:<keras.layers.recurrent.GRUCell object at 0x0000022BCE4C1748> has the same name 'GRUCell' as a built-in Keras object. Consider renaming <class 'keras.layers.recurrent.GRUCell'> to avoid naming conflicts when loading with `tf.keras.models.load_model`. If renaming is not possible, pass the object in the `custom_objects` parameter of the load function.\n",
      "WARNING:absl:<keras.layers.recurrent.GRUCell object at 0x0000022BCE54D988> has the same name 'GRUCell' as a built-in Keras object. Consider renaming <class 'keras.layers.recurrent.GRUCell'> to avoid naming conflicts when loading with `tf.keras.models.load_model`. If renaming is not possible, pass the object in the `custom_objects` parameter of the load function.\n"
     ]
    },
    {
     "name": "stdout",
     "output_type": "stream",
     "text": [
      "1110/1110 [==============================] - 12s 11ms/step - loss: 55.7999 - root_mean_squared_error: 7.4699\n",
      "Epoch 53/200\n",
      "1106/1110 [============================>.] - ETA: 0s - loss: 55.0339 - root_mean_squared_error: 7.4185"
     ]
    },
    {
     "name": "stderr",
     "output_type": "stream",
     "text": [
      "WARNING:absl:Found untraced functions such as gru_cell_layer_call_fn, gru_cell_layer_call_and_return_conditional_losses while saving (showing 2 of 2). These functions will not be directly callable after loading.\n"
     ]
    },
    {
     "name": "stdout",
     "output_type": "stream",
     "text": [
      "INFO:tensorflow:Assets written to: best_model\\assets\n"
     ]
    },
    {
     "name": "stderr",
     "output_type": "stream",
     "text": [
      "INFO:tensorflow:Assets written to: best_model\\assets\n",
      "WARNING:absl:<keras.layers.recurrent.GRUCell object at 0x0000022BCE4C1748> has the same name 'GRUCell' as a built-in Keras object. Consider renaming <class 'keras.layers.recurrent.GRUCell'> to avoid naming conflicts when loading with `tf.keras.models.load_model`. If renaming is not possible, pass the object in the `custom_objects` parameter of the load function.\n",
      "WARNING:absl:<keras.layers.recurrent.GRUCell object at 0x0000022BCE54D988> has the same name 'GRUCell' as a built-in Keras object. Consider renaming <class 'keras.layers.recurrent.GRUCell'> to avoid naming conflicts when loading with `tf.keras.models.load_model`. If renaming is not possible, pass the object in the `custom_objects` parameter of the load function.\n"
     ]
    },
    {
     "name": "stdout",
     "output_type": "stream",
     "text": [
      "1110/1110 [==============================] - 12s 10ms/step - loss: 55.0736 - root_mean_squared_error: 7.4212\n",
      "Epoch 54/200\n",
      "1110/1110 [==============================] - 8s 7ms/step - loss: 55.8029 - root_mean_squared_error: 7.4701\n",
      "Epoch 55/200\n",
      "1103/1110 [============================>.] - ETA: 0s - loss: 54.9334 - root_mean_squared_error: 7.4117"
     ]
    },
    {
     "name": "stderr",
     "output_type": "stream",
     "text": [
      "WARNING:absl:Found untraced functions such as gru_cell_layer_call_fn, gru_cell_layer_call_and_return_conditional_losses while saving (showing 2 of 2). These functions will not be directly callable after loading.\n"
     ]
    },
    {
     "name": "stdout",
     "output_type": "stream",
     "text": [
      "INFO:tensorflow:Assets written to: best_model\\assets\n"
     ]
    },
    {
     "name": "stderr",
     "output_type": "stream",
     "text": [
      "INFO:tensorflow:Assets written to: best_model\\assets\n",
      "WARNING:absl:<keras.layers.recurrent.GRUCell object at 0x0000022BCE4C1748> has the same name 'GRUCell' as a built-in Keras object. Consider renaming <class 'keras.layers.recurrent.GRUCell'> to avoid naming conflicts when loading with `tf.keras.models.load_model`. If renaming is not possible, pass the object in the `custom_objects` parameter of the load function.\n",
      "WARNING:absl:<keras.layers.recurrent.GRUCell object at 0x0000022BCE54D988> has the same name 'GRUCell' as a built-in Keras object. Consider renaming <class 'keras.layers.recurrent.GRUCell'> to avoid naming conflicts when loading with `tf.keras.models.load_model`. If renaming is not possible, pass the object in the `custom_objects` parameter of the load function.\n"
     ]
    },
    {
     "name": "stdout",
     "output_type": "stream",
     "text": [
      "1110/1110 [==============================] - 12s 11ms/step - loss: 54.9588 - root_mean_squared_error: 7.4134\n",
      "Epoch 56/200\n",
      "1110/1110 [==============================] - ETA: 0s - loss: 54.8507 - root_mean_squared_error: 7.4061"
     ]
    },
    {
     "name": "stderr",
     "output_type": "stream",
     "text": [
      "WARNING:absl:Found untraced functions such as gru_cell_layer_call_fn, gru_cell_layer_call_and_return_conditional_losses while saving (showing 2 of 2). These functions will not be directly callable after loading.\n"
     ]
    },
    {
     "name": "stdout",
     "output_type": "stream",
     "text": [
      "INFO:tensorflow:Assets written to: best_model\\assets\n"
     ]
    },
    {
     "name": "stderr",
     "output_type": "stream",
     "text": [
      "INFO:tensorflow:Assets written to: best_model\\assets\n",
      "WARNING:absl:<keras.layers.recurrent.GRUCell object at 0x0000022BCE4C1748> has the same name 'GRUCell' as a built-in Keras object. Consider renaming <class 'keras.layers.recurrent.GRUCell'> to avoid naming conflicts when loading with `tf.keras.models.load_model`. If renaming is not possible, pass the object in the `custom_objects` parameter of the load function.\n",
      "WARNING:absl:<keras.layers.recurrent.GRUCell object at 0x0000022BCE54D988> has the same name 'GRUCell' as a built-in Keras object. Consider renaming <class 'keras.layers.recurrent.GRUCell'> to avoid naming conflicts when loading with `tf.keras.models.load_model`. If renaming is not possible, pass the object in the `custom_objects` parameter of the load function.\n"
     ]
    },
    {
     "name": "stdout",
     "output_type": "stream",
     "text": [
      "1110/1110 [==============================] - 12s 10ms/step - loss: 54.8507 - root_mean_squared_error: 7.4061\n",
      "Epoch 57/200\n",
      "1110/1110 [==============================] - 8s 7ms/step - loss: 54.9242 - root_mean_squared_error: 7.4111\n",
      "Epoch 58/200\n",
      "1106/1110 [============================>.] - ETA: 0s - loss: 54.2135 - root_mean_squared_error: 7.3630"
     ]
    },
    {
     "name": "stderr",
     "output_type": "stream",
     "text": [
      "WARNING:absl:Found untraced functions such as gru_cell_layer_call_fn, gru_cell_layer_call_and_return_conditional_losses while saving (showing 2 of 2). These functions will not be directly callable after loading.\n"
     ]
    },
    {
     "name": "stdout",
     "output_type": "stream",
     "text": [
      "INFO:tensorflow:Assets written to: best_model\\assets\n"
     ]
    },
    {
     "name": "stderr",
     "output_type": "stream",
     "text": [
      "INFO:tensorflow:Assets written to: best_model\\assets\n",
      "WARNING:absl:<keras.layers.recurrent.GRUCell object at 0x0000022BCE4C1748> has the same name 'GRUCell' as a built-in Keras object. Consider renaming <class 'keras.layers.recurrent.GRUCell'> to avoid naming conflicts when loading with `tf.keras.models.load_model`. If renaming is not possible, pass the object in the `custom_objects` parameter of the load function.\n",
      "WARNING:absl:<keras.layers.recurrent.GRUCell object at 0x0000022BCE54D988> has the same name 'GRUCell' as a built-in Keras object. Consider renaming <class 'keras.layers.recurrent.GRUCell'> to avoid naming conflicts when loading with `tf.keras.models.load_model`. If renaming is not possible, pass the object in the `custom_objects` parameter of the load function.\n"
     ]
    },
    {
     "name": "stdout",
     "output_type": "stream",
     "text": [
      "1110/1110 [==============================] - 11s 10ms/step - loss: 54.2894 - root_mean_squared_error: 7.3681\n",
      "Epoch 59/200\n",
      "1109/1110 [============================>.] - ETA: 0s - loss: 53.9374 - root_mean_squared_error: 7.3442"
     ]
    },
    {
     "name": "stderr",
     "output_type": "stream",
     "text": [
      "WARNING:absl:Found untraced functions such as gru_cell_layer_call_fn, gru_cell_layer_call_and_return_conditional_losses while saving (showing 2 of 2). These functions will not be directly callable after loading.\n"
     ]
    },
    {
     "name": "stdout",
     "output_type": "stream",
     "text": [
      "INFO:tensorflow:Assets written to: best_model\\assets\n"
     ]
    },
    {
     "name": "stderr",
     "output_type": "stream",
     "text": [
      "INFO:tensorflow:Assets written to: best_model\\assets\n",
      "WARNING:absl:<keras.layers.recurrent.GRUCell object at 0x0000022BCE4C1748> has the same name 'GRUCell' as a built-in Keras object. Consider renaming <class 'keras.layers.recurrent.GRUCell'> to avoid naming conflicts when loading with `tf.keras.models.load_model`. If renaming is not possible, pass the object in the `custom_objects` parameter of the load function.\n",
      "WARNING:absl:<keras.layers.recurrent.GRUCell object at 0x0000022BCE54D988> has the same name 'GRUCell' as a built-in Keras object. Consider renaming <class 'keras.layers.recurrent.GRUCell'> to avoid naming conflicts when loading with `tf.keras.models.load_model`. If renaming is not possible, pass the object in the `custom_objects` parameter of the load function.\n"
     ]
    },
    {
     "name": "stdout",
     "output_type": "stream",
     "text": [
      "1110/1110 [==============================] - 11s 10ms/step - loss: 54.0538 - root_mean_squared_error: 7.3521\n",
      "Epoch 60/200\n",
      "1107/1110 [============================>.] - ETA: 0s - loss: 53.7670 - root_mean_squared_error: 7.3326"
     ]
    },
    {
     "name": "stderr",
     "output_type": "stream",
     "text": [
      "WARNING:absl:Found untraced functions such as gru_cell_layer_call_fn, gru_cell_layer_call_and_return_conditional_losses while saving (showing 2 of 2). These functions will not be directly callable after loading.\n"
     ]
    },
    {
     "name": "stdout",
     "output_type": "stream",
     "text": [
      "INFO:tensorflow:Assets written to: best_model\\assets\n"
     ]
    },
    {
     "name": "stderr",
     "output_type": "stream",
     "text": [
      "INFO:tensorflow:Assets written to: best_model\\assets\n",
      "WARNING:absl:<keras.layers.recurrent.GRUCell object at 0x0000022BCE4C1748> has the same name 'GRUCell' as a built-in Keras object. Consider renaming <class 'keras.layers.recurrent.GRUCell'> to avoid naming conflicts when loading with `tf.keras.models.load_model`. If renaming is not possible, pass the object in the `custom_objects` parameter of the load function.\n",
      "WARNING:absl:<keras.layers.recurrent.GRUCell object at 0x0000022BCE54D988> has the same name 'GRUCell' as a built-in Keras object. Consider renaming <class 'keras.layers.recurrent.GRUCell'> to avoid naming conflicts when loading with `tf.keras.models.load_model`. If renaming is not possible, pass the object in the `custom_objects` parameter of the load function.\n"
     ]
    },
    {
     "name": "stdout",
     "output_type": "stream",
     "text": [
      "1110/1110 [==============================] - 12s 11ms/step - loss: 53.7453 - root_mean_squared_error: 7.3311\n",
      "Epoch 61/200\n",
      "1105/1110 [============================>.] - ETA: 0s - loss: 53.7257 - root_mean_squared_error: 7.3298"
     ]
    },
    {
     "name": "stderr",
     "output_type": "stream",
     "text": [
      "WARNING:absl:Found untraced functions such as gru_cell_layer_call_fn, gru_cell_layer_call_and_return_conditional_losses while saving (showing 2 of 2). These functions will not be directly callable after loading.\n"
     ]
    },
    {
     "name": "stdout",
     "output_type": "stream",
     "text": [
      "INFO:tensorflow:Assets written to: best_model\\assets\n"
     ]
    },
    {
     "name": "stderr",
     "output_type": "stream",
     "text": [
      "INFO:tensorflow:Assets written to: best_model\\assets\n",
      "WARNING:absl:<keras.layers.recurrent.GRUCell object at 0x0000022BCE4C1748> has the same name 'GRUCell' as a built-in Keras object. Consider renaming <class 'keras.layers.recurrent.GRUCell'> to avoid naming conflicts when loading with `tf.keras.models.load_model`. If renaming is not possible, pass the object in the `custom_objects` parameter of the load function.\n",
      "WARNING:absl:<keras.layers.recurrent.GRUCell object at 0x0000022BCE54D988> has the same name 'GRUCell' as a built-in Keras object. Consider renaming <class 'keras.layers.recurrent.GRUCell'> to avoid naming conflicts when loading with `tf.keras.models.load_model`. If renaming is not possible, pass the object in the `custom_objects` parameter of the load function.\n"
     ]
    },
    {
     "name": "stdout",
     "output_type": "stream",
     "text": [
      "1110/1110 [==============================] - 12s 11ms/step - loss: 53.6641 - root_mean_squared_error: 7.3256\n",
      "Epoch 62/200\n",
      "1110/1110 [==============================] - 9s 8ms/step - loss: 53.8555 - root_mean_squared_error: 7.3386\n",
      "Epoch 63/200\n",
      "1109/1110 [============================>.] - ETA: 0s - loss: 53.5129 - root_mean_squared_error: 7.3152"
     ]
    },
    {
     "name": "stderr",
     "output_type": "stream",
     "text": [
      "WARNING:absl:Found untraced functions such as gru_cell_layer_call_fn, gru_cell_layer_call_and_return_conditional_losses while saving (showing 2 of 2). These functions will not be directly callable after loading.\n"
     ]
    },
    {
     "name": "stdout",
     "output_type": "stream",
     "text": [
      "INFO:tensorflow:Assets written to: best_model\\assets\n"
     ]
    },
    {
     "name": "stderr",
     "output_type": "stream",
     "text": [
      "INFO:tensorflow:Assets written to: best_model\\assets\n",
      "WARNING:absl:<keras.layers.recurrent.GRUCell object at 0x0000022BCE4C1748> has the same name 'GRUCell' as a built-in Keras object. Consider renaming <class 'keras.layers.recurrent.GRUCell'> to avoid naming conflicts when loading with `tf.keras.models.load_model`. If renaming is not possible, pass the object in the `custom_objects` parameter of the load function.\n",
      "WARNING:absl:<keras.layers.recurrent.GRUCell object at 0x0000022BCE54D988> has the same name 'GRUCell' as a built-in Keras object. Consider renaming <class 'keras.layers.recurrent.GRUCell'> to avoid naming conflicts when loading with `tf.keras.models.load_model`. If renaming is not possible, pass the object in the `custom_objects` parameter of the load function.\n"
     ]
    },
    {
     "name": "stdout",
     "output_type": "stream",
     "text": [
      "1110/1110 [==============================] - 12s 11ms/step - loss: 53.5029 - root_mean_squared_error: 7.3146\n",
      "Epoch 64/200\n",
      "1108/1110 [============================>.] - ETA: 0s - loss: 52.9224 - root_mean_squared_error: 7.2748"
     ]
    },
    {
     "name": "stderr",
     "output_type": "stream",
     "text": [
      "WARNING:absl:Found untraced functions such as gru_cell_layer_call_fn, gru_cell_layer_call_and_return_conditional_losses while saving (showing 2 of 2). These functions will not be directly callable after loading.\n"
     ]
    },
    {
     "name": "stdout",
     "output_type": "stream",
     "text": [
      "INFO:tensorflow:Assets written to: best_model\\assets\n"
     ]
    },
    {
     "name": "stderr",
     "output_type": "stream",
     "text": [
      "INFO:tensorflow:Assets written to: best_model\\assets\n",
      "WARNING:absl:<keras.layers.recurrent.GRUCell object at 0x0000022BCE4C1748> has the same name 'GRUCell' as a built-in Keras object. Consider renaming <class 'keras.layers.recurrent.GRUCell'> to avoid naming conflicts when loading with `tf.keras.models.load_model`. If renaming is not possible, pass the object in the `custom_objects` parameter of the load function.\n",
      "WARNING:absl:<keras.layers.recurrent.GRUCell object at 0x0000022BCE54D988> has the same name 'GRUCell' as a built-in Keras object. Consider renaming <class 'keras.layers.recurrent.GRUCell'> to avoid naming conflicts when loading with `tf.keras.models.load_model`. If renaming is not possible, pass the object in the `custom_objects` parameter of the load function.\n"
     ]
    },
    {
     "name": "stdout",
     "output_type": "stream",
     "text": [
      "1110/1110 [==============================] - 12s 11ms/step - loss: 52.9073 - root_mean_squared_error: 7.2737\n",
      "Epoch 65/200\n",
      "1106/1110 [============================>.] - ETA: 0s - loss: 52.8172 - root_mean_squared_error: 7.2675"
     ]
    },
    {
     "name": "stderr",
     "output_type": "stream",
     "text": [
      "WARNING:absl:Found untraced functions such as gru_cell_layer_call_fn, gru_cell_layer_call_and_return_conditional_losses while saving (showing 2 of 2). These functions will not be directly callable after loading.\n"
     ]
    },
    {
     "name": "stdout",
     "output_type": "stream",
     "text": [
      "INFO:tensorflow:Assets written to: best_model\\assets\n"
     ]
    },
    {
     "name": "stderr",
     "output_type": "stream",
     "text": [
      "INFO:tensorflow:Assets written to: best_model\\assets\n",
      "WARNING:absl:<keras.layers.recurrent.GRUCell object at 0x0000022BCE4C1748> has the same name 'GRUCell' as a built-in Keras object. Consider renaming <class 'keras.layers.recurrent.GRUCell'> to avoid naming conflicts when loading with `tf.keras.models.load_model`. If renaming is not possible, pass the object in the `custom_objects` parameter of the load function.\n",
      "WARNING:absl:<keras.layers.recurrent.GRUCell object at 0x0000022BCE54D988> has the same name 'GRUCell' as a built-in Keras object. Consider renaming <class 'keras.layers.recurrent.GRUCell'> to avoid naming conflicts when loading with `tf.keras.models.load_model`. If renaming is not possible, pass the object in the `custom_objects` parameter of the load function.\n"
     ]
    },
    {
     "name": "stdout",
     "output_type": "stream",
     "text": [
      "1110/1110 [==============================] - 12s 11ms/step - loss: 52.7203 - root_mean_squared_error: 7.2609\n",
      "Epoch 66/200\n",
      "1106/1110 [============================>.] - ETA: 0s - loss: 52.6757 - root_mean_squared_error: 7.2578"
     ]
    },
    {
     "name": "stderr",
     "output_type": "stream",
     "text": [
      "WARNING:absl:Found untraced functions such as gru_cell_layer_call_fn, gru_cell_layer_call_and_return_conditional_losses while saving (showing 2 of 2). These functions will not be directly callable after loading.\n"
     ]
    },
    {
     "name": "stdout",
     "output_type": "stream",
     "text": [
      "INFO:tensorflow:Assets written to: best_model\\assets\n"
     ]
    },
    {
     "name": "stderr",
     "output_type": "stream",
     "text": [
      "INFO:tensorflow:Assets written to: best_model\\assets\n",
      "WARNING:absl:<keras.layers.recurrent.GRUCell object at 0x0000022BCE4C1748> has the same name 'GRUCell' as a built-in Keras object. Consider renaming <class 'keras.layers.recurrent.GRUCell'> to avoid naming conflicts when loading with `tf.keras.models.load_model`. If renaming is not possible, pass the object in the `custom_objects` parameter of the load function.\n",
      "WARNING:absl:<keras.layers.recurrent.GRUCell object at 0x0000022BCE54D988> has the same name 'GRUCell' as a built-in Keras object. Consider renaming <class 'keras.layers.recurrent.GRUCell'> to avoid naming conflicts when loading with `tf.keras.models.load_model`. If renaming is not possible, pass the object in the `custom_objects` parameter of the load function.\n"
     ]
    },
    {
     "name": "stdout",
     "output_type": "stream",
     "text": [
      "1110/1110 [==============================] - 12s 11ms/step - loss: 52.6539 - root_mean_squared_error: 7.2563\n",
      "Epoch 67/200\n",
      "1104/1110 [============================>.] - ETA: 0s - loss: 52.4257 - root_mean_squared_error: 7.2406"
     ]
    },
    {
     "name": "stderr",
     "output_type": "stream",
     "text": [
      "WARNING:absl:Found untraced functions such as gru_cell_layer_call_fn, gru_cell_layer_call_and_return_conditional_losses while saving (showing 2 of 2). These functions will not be directly callable after loading.\n"
     ]
    },
    {
     "name": "stdout",
     "output_type": "stream",
     "text": [
      "INFO:tensorflow:Assets written to: best_model\\assets\n"
     ]
    },
    {
     "name": "stderr",
     "output_type": "stream",
     "text": [
      "INFO:tensorflow:Assets written to: best_model\\assets\n",
      "WARNING:absl:<keras.layers.recurrent.GRUCell object at 0x0000022BCE4C1748> has the same name 'GRUCell' as a built-in Keras object. Consider renaming <class 'keras.layers.recurrent.GRUCell'> to avoid naming conflicts when loading with `tf.keras.models.load_model`. If renaming is not possible, pass the object in the `custom_objects` parameter of the load function.\n",
      "WARNING:absl:<keras.layers.recurrent.GRUCell object at 0x0000022BCE54D988> has the same name 'GRUCell' as a built-in Keras object. Consider renaming <class 'keras.layers.recurrent.GRUCell'> to avoid naming conflicts when loading with `tf.keras.models.load_model`. If renaming is not possible, pass the object in the `custom_objects` parameter of the load function.\n"
     ]
    },
    {
     "name": "stdout",
     "output_type": "stream",
     "text": [
      "1110/1110 [==============================] - 12s 11ms/step - loss: 52.6278 - root_mean_squared_error: 7.2545\n",
      "Epoch 68/200\n",
      "1108/1110 [============================>.] - ETA: 0s - loss: 52.0336 - root_mean_squared_error: 7.2134"
     ]
    },
    {
     "name": "stderr",
     "output_type": "stream",
     "text": [
      "WARNING:absl:Found untraced functions such as gru_cell_layer_call_fn, gru_cell_layer_call_and_return_conditional_losses while saving (showing 2 of 2). These functions will not be directly callable after loading.\n"
     ]
    },
    {
     "name": "stdout",
     "output_type": "stream",
     "text": [
      "INFO:tensorflow:Assets written to: best_model\\assets\n"
     ]
    },
    {
     "name": "stderr",
     "output_type": "stream",
     "text": [
      "INFO:tensorflow:Assets written to: best_model\\assets\n",
      "WARNING:absl:<keras.layers.recurrent.GRUCell object at 0x0000022BCE4C1748> has the same name 'GRUCell' as a built-in Keras object. Consider renaming <class 'keras.layers.recurrent.GRUCell'> to avoid naming conflicts when loading with `tf.keras.models.load_model`. If renaming is not possible, pass the object in the `custom_objects` parameter of the load function.\n",
      "WARNING:absl:<keras.layers.recurrent.GRUCell object at 0x0000022BCE54D988> has the same name 'GRUCell' as a built-in Keras object. Consider renaming <class 'keras.layers.recurrent.GRUCell'> to avoid naming conflicts when loading with `tf.keras.models.load_model`. If renaming is not possible, pass the object in the `custom_objects` parameter of the load function.\n"
     ]
    },
    {
     "name": "stdout",
     "output_type": "stream",
     "text": [
      "1110/1110 [==============================] - 12s 11ms/step - loss: 52.0280 - root_mean_squared_error: 7.2130\n",
      "Epoch 69/200\n",
      "1110/1110 [==============================] - 8s 8ms/step - loss: 52.3372 - root_mean_squared_error: 7.2344\n",
      "Epoch 70/200\n",
      "1107/1110 [============================>.] - ETA: 0s - loss: 51.5703 - root_mean_squared_error: 7.1812"
     ]
    },
    {
     "name": "stderr",
     "output_type": "stream",
     "text": [
      "WARNING:absl:Found untraced functions such as gru_cell_layer_call_fn, gru_cell_layer_call_and_return_conditional_losses while saving (showing 2 of 2). These functions will not be directly callable after loading.\n"
     ]
    },
    {
     "name": "stdout",
     "output_type": "stream",
     "text": [
      "INFO:tensorflow:Assets written to: best_model\\assets\n"
     ]
    },
    {
     "name": "stderr",
     "output_type": "stream",
     "text": [
      "INFO:tensorflow:Assets written to: best_model\\assets\n",
      "WARNING:absl:<keras.layers.recurrent.GRUCell object at 0x0000022BCE4C1748> has the same name 'GRUCell' as a built-in Keras object. Consider renaming <class 'keras.layers.recurrent.GRUCell'> to avoid naming conflicts when loading with `tf.keras.models.load_model`. If renaming is not possible, pass the object in the `custom_objects` parameter of the load function.\n",
      "WARNING:absl:<keras.layers.recurrent.GRUCell object at 0x0000022BCE54D988> has the same name 'GRUCell' as a built-in Keras object. Consider renaming <class 'keras.layers.recurrent.GRUCell'> to avoid naming conflicts when loading with `tf.keras.models.load_model`. If renaming is not possible, pass the object in the `custom_objects` parameter of the load function.\n"
     ]
    },
    {
     "name": "stdout",
     "output_type": "stream",
     "text": [
      "1110/1110 [==============================] - 12s 11ms/step - loss: 51.5459 - root_mean_squared_error: 7.1795\n",
      "Epoch 71/200\n",
      "1110/1110 [==============================] - 8s 8ms/step - loss: 52.0712 - root_mean_squared_error: 7.2160\n",
      "Epoch 72/200\n",
      "1110/1110 [==============================] - 8s 8ms/step - loss: 51.9538 - root_mean_squared_error: 7.2079\n",
      "Epoch 73/200\n",
      "1105/1110 [============================>.] - ETA: 0s - loss: 51.1104 - root_mean_squared_error: 7.1492"
     ]
    },
    {
     "name": "stderr",
     "output_type": "stream",
     "text": [
      "WARNING:absl:Found untraced functions such as gru_cell_layer_call_fn, gru_cell_layer_call_and_return_conditional_losses while saving (showing 2 of 2). These functions will not be directly callable after loading.\n"
     ]
    },
    {
     "name": "stdout",
     "output_type": "stream",
     "text": [
      "INFO:tensorflow:Assets written to: best_model\\assets\n"
     ]
    },
    {
     "name": "stderr",
     "output_type": "stream",
     "text": [
      "INFO:tensorflow:Assets written to: best_model\\assets\n",
      "WARNING:absl:<keras.layers.recurrent.GRUCell object at 0x0000022BCE4C1748> has the same name 'GRUCell' as a built-in Keras object. Consider renaming <class 'keras.layers.recurrent.GRUCell'> to avoid naming conflicts when loading with `tf.keras.models.load_model`. If renaming is not possible, pass the object in the `custom_objects` parameter of the load function.\n",
      "WARNING:absl:<keras.layers.recurrent.GRUCell object at 0x0000022BCE54D988> has the same name 'GRUCell' as a built-in Keras object. Consider renaming <class 'keras.layers.recurrent.GRUCell'> to avoid naming conflicts when loading with `tf.keras.models.load_model`. If renaming is not possible, pass the object in the `custom_objects` parameter of the load function.\n"
     ]
    },
    {
     "name": "stdout",
     "output_type": "stream",
     "text": [
      "1110/1110 [==============================] - 12s 11ms/step - loss: 51.2071 - root_mean_squared_error: 7.1559\n",
      "Epoch 74/200\n",
      "1110/1110 [==============================] - 9s 8ms/step - loss: 51.3209 - root_mean_squared_error: 7.1639\n",
      "Epoch 75/200\n",
      "1107/1110 [============================>.] - ETA: 0s - loss: 50.9002 - root_mean_squared_error: 7.1344"
     ]
    },
    {
     "name": "stderr",
     "output_type": "stream",
     "text": [
      "WARNING:absl:Found untraced functions such as gru_cell_layer_call_fn, gru_cell_layer_call_and_return_conditional_losses while saving (showing 2 of 2). These functions will not be directly callable after loading.\n"
     ]
    },
    {
     "name": "stdout",
     "output_type": "stream",
     "text": [
      "INFO:tensorflow:Assets written to: best_model\\assets\n"
     ]
    },
    {
     "name": "stderr",
     "output_type": "stream",
     "text": [
      "INFO:tensorflow:Assets written to: best_model\\assets\n",
      "WARNING:absl:<keras.layers.recurrent.GRUCell object at 0x0000022BCE4C1748> has the same name 'GRUCell' as a built-in Keras object. Consider renaming <class 'keras.layers.recurrent.GRUCell'> to avoid naming conflicts when loading with `tf.keras.models.load_model`. If renaming is not possible, pass the object in the `custom_objects` parameter of the load function.\n",
      "WARNING:absl:<keras.layers.recurrent.GRUCell object at 0x0000022BCE54D988> has the same name 'GRUCell' as a built-in Keras object. Consider renaming <class 'keras.layers.recurrent.GRUCell'> to avoid naming conflicts when loading with `tf.keras.models.load_model`. If renaming is not possible, pass the object in the `custom_objects` parameter of the load function.\n"
     ]
    },
    {
     "name": "stdout",
     "output_type": "stream",
     "text": [
      "1110/1110 [==============================] - 12s 11ms/step - loss: 50.9583 - root_mean_squared_error: 7.1385\n",
      "Epoch 76/200\n",
      "1110/1110 [==============================] - 9s 8ms/step - loss: 51.1962 - root_mean_squared_error: 7.1552\n",
      "Epoch 77/200\n",
      "1104/1110 [============================>.] - ETA: 0s - loss: 50.1423 - root_mean_squared_error: 7.0811"
     ]
    },
    {
     "name": "stderr",
     "output_type": "stream",
     "text": [
      "WARNING:absl:Found untraced functions such as gru_cell_layer_call_fn, gru_cell_layer_call_and_return_conditional_losses while saving (showing 2 of 2). These functions will not be directly callable after loading.\n"
     ]
    },
    {
     "name": "stdout",
     "output_type": "stream",
     "text": [
      "INFO:tensorflow:Assets written to: best_model\\assets\n"
     ]
    },
    {
     "name": "stderr",
     "output_type": "stream",
     "text": [
      "INFO:tensorflow:Assets written to: best_model\\assets\n",
      "WARNING:absl:<keras.layers.recurrent.GRUCell object at 0x0000022BCE4C1748> has the same name 'GRUCell' as a built-in Keras object. Consider renaming <class 'keras.layers.recurrent.GRUCell'> to avoid naming conflicts when loading with `tf.keras.models.load_model`. If renaming is not possible, pass the object in the `custom_objects` parameter of the load function.\n",
      "WARNING:absl:<keras.layers.recurrent.GRUCell object at 0x0000022BCE54D988> has the same name 'GRUCell' as a built-in Keras object. Consider renaming <class 'keras.layers.recurrent.GRUCell'> to avoid naming conflicts when loading with `tf.keras.models.load_model`. If renaming is not possible, pass the object in the `custom_objects` parameter of the load function.\n"
     ]
    },
    {
     "name": "stdout",
     "output_type": "stream",
     "text": [
      "1110/1110 [==============================] - 12s 11ms/step - loss: 50.1272 - root_mean_squared_error: 7.0801\n",
      "Epoch 78/200\n",
      "1110/1110 [==============================] - 8s 8ms/step - loss: 50.8962 - root_mean_squared_error: 7.1342\n",
      "Epoch 79/200\n",
      "1110/1110 [==============================] - 9s 8ms/step - loss: 50.8148 - root_mean_squared_error: 7.1284\n",
      "Epoch 80/200\n",
      "1110/1110 [==============================] - 8s 8ms/step - loss: 50.5825 - root_mean_squared_error: 7.1121\n",
      "Epoch 81/200\n",
      "1110/1110 [==============================] - 9s 8ms/step - loss: 50.8570 - root_mean_squared_error: 7.1314\n",
      "Epoch 82/200\n",
      "1105/1110 [============================>.] - ETA: 0s - loss: 49.7931 - root_mean_squared_error: 7.0564"
     ]
    },
    {
     "name": "stderr",
     "output_type": "stream",
     "text": [
      "WARNING:absl:Found untraced functions such as gru_cell_layer_call_fn, gru_cell_layer_call_and_return_conditional_losses while saving (showing 2 of 2). These functions will not be directly callable after loading.\n"
     ]
    },
    {
     "name": "stdout",
     "output_type": "stream",
     "text": [
      "INFO:tensorflow:Assets written to: best_model\\assets\n"
     ]
    },
    {
     "name": "stderr",
     "output_type": "stream",
     "text": [
      "INFO:tensorflow:Assets written to: best_model\\assets\n",
      "WARNING:absl:<keras.layers.recurrent.GRUCell object at 0x0000022BCE4C1748> has the same name 'GRUCell' as a built-in Keras object. Consider renaming <class 'keras.layers.recurrent.GRUCell'> to avoid naming conflicts when loading with `tf.keras.models.load_model`. If renaming is not possible, pass the object in the `custom_objects` parameter of the load function.\n",
      "WARNING:absl:<keras.layers.recurrent.GRUCell object at 0x0000022BCE54D988> has the same name 'GRUCell' as a built-in Keras object. Consider renaming <class 'keras.layers.recurrent.GRUCell'> to avoid naming conflicts when loading with `tf.keras.models.load_model`. If renaming is not possible, pass the object in the `custom_objects` parameter of the load function.\n"
     ]
    },
    {
     "name": "stdout",
     "output_type": "stream",
     "text": [
      "1110/1110 [==============================] - 12s 11ms/step - loss: 49.7509 - root_mean_squared_error: 7.0534\n",
      "Epoch 83/200\n",
      "1110/1110 [==============================] - ETA: 0s - loss: 49.4923 - root_mean_squared_error: 7.0351"
     ]
    },
    {
     "name": "stderr",
     "output_type": "stream",
     "text": [
      "WARNING:absl:Found untraced functions such as gru_cell_layer_call_fn, gru_cell_layer_call_and_return_conditional_losses while saving (showing 2 of 2). These functions will not be directly callable after loading.\n"
     ]
    },
    {
     "name": "stdout",
     "output_type": "stream",
     "text": [
      "INFO:tensorflow:Assets written to: best_model\\assets\n"
     ]
    },
    {
     "name": "stderr",
     "output_type": "stream",
     "text": [
      "INFO:tensorflow:Assets written to: best_model\\assets\n",
      "WARNING:absl:<keras.layers.recurrent.GRUCell object at 0x0000022BCE4C1748> has the same name 'GRUCell' as a built-in Keras object. Consider renaming <class 'keras.layers.recurrent.GRUCell'> to avoid naming conflicts when loading with `tf.keras.models.load_model`. If renaming is not possible, pass the object in the `custom_objects` parameter of the load function.\n",
      "WARNING:absl:<keras.layers.recurrent.GRUCell object at 0x0000022BCE54D988> has the same name 'GRUCell' as a built-in Keras object. Consider renaming <class 'keras.layers.recurrent.GRUCell'> to avoid naming conflicts when loading with `tf.keras.models.load_model`. If renaming is not possible, pass the object in the `custom_objects` parameter of the load function.\n"
     ]
    },
    {
     "name": "stdout",
     "output_type": "stream",
     "text": [
      "1110/1110 [==============================] - 12s 11ms/step - loss: 49.4923 - root_mean_squared_error: 7.0351\n",
      "Epoch 84/200\n",
      "1110/1110 [==============================] - 8s 8ms/step - loss: 49.6103 - root_mean_squared_error: 7.0435\n",
      "Epoch 85/200\n",
      "1110/1110 [==============================] - 8s 8ms/step - loss: 49.9279 - root_mean_squared_error: 7.0660\n",
      "Epoch 86/200\n",
      "1107/1110 [============================>.] - ETA: 0s - loss: 48.9927 - root_mean_squared_error: 6.9995"
     ]
    },
    {
     "name": "stderr",
     "output_type": "stream",
     "text": [
      "WARNING:absl:Found untraced functions such as gru_cell_layer_call_fn, gru_cell_layer_call_and_return_conditional_losses while saving (showing 2 of 2). These functions will not be directly callable after loading.\n"
     ]
    },
    {
     "name": "stdout",
     "output_type": "stream",
     "text": [
      "INFO:tensorflow:Assets written to: best_model\\assets\n"
     ]
    },
    {
     "name": "stderr",
     "output_type": "stream",
     "text": [
      "INFO:tensorflow:Assets written to: best_model\\assets\n",
      "WARNING:absl:<keras.layers.recurrent.GRUCell object at 0x0000022BCE4C1748> has the same name 'GRUCell' as a built-in Keras object. Consider renaming <class 'keras.layers.recurrent.GRUCell'> to avoid naming conflicts when loading with `tf.keras.models.load_model`. If renaming is not possible, pass the object in the `custom_objects` parameter of the load function.\n",
      "WARNING:absl:<keras.layers.recurrent.GRUCell object at 0x0000022BCE54D988> has the same name 'GRUCell' as a built-in Keras object. Consider renaming <class 'keras.layers.recurrent.GRUCell'> to avoid naming conflicts when loading with `tf.keras.models.load_model`. If renaming is not possible, pass the object in the `custom_objects` parameter of the load function.\n"
     ]
    },
    {
     "name": "stdout",
     "output_type": "stream",
     "text": [
      "1110/1110 [==============================] - 12s 11ms/step - loss: 48.9311 - root_mean_squared_error: 6.9951\n",
      "Epoch 87/200\n",
      "1110/1110 [==============================] - 9s 8ms/step - loss: 48.9955 - root_mean_squared_error: 6.9997\n",
      "Epoch 88/200\n",
      "1108/1110 [============================>.] - ETA: 0s - loss: 48.2308 - root_mean_squared_error: 6.9448"
     ]
    },
    {
     "name": "stderr",
     "output_type": "stream",
     "text": [
      "WARNING:absl:Found untraced functions such as gru_cell_layer_call_fn, gru_cell_layer_call_and_return_conditional_losses while saving (showing 2 of 2). These functions will not be directly callable after loading.\n"
     ]
    },
    {
     "name": "stdout",
     "output_type": "stream",
     "text": [
      "INFO:tensorflow:Assets written to: best_model\\assets\n"
     ]
    },
    {
     "name": "stderr",
     "output_type": "stream",
     "text": [
      "INFO:tensorflow:Assets written to: best_model\\assets\n",
      "WARNING:absl:<keras.layers.recurrent.GRUCell object at 0x0000022BCE4C1748> has the same name 'GRUCell' as a built-in Keras object. Consider renaming <class 'keras.layers.recurrent.GRUCell'> to avoid naming conflicts when loading with `tf.keras.models.load_model`. If renaming is not possible, pass the object in the `custom_objects` parameter of the load function.\n",
      "WARNING:absl:<keras.layers.recurrent.GRUCell object at 0x0000022BCE54D988> has the same name 'GRUCell' as a built-in Keras object. Consider renaming <class 'keras.layers.recurrent.GRUCell'> to avoid naming conflicts when loading with `tf.keras.models.load_model`. If renaming is not possible, pass the object in the `custom_objects` parameter of the load function.\n"
     ]
    },
    {
     "name": "stdout",
     "output_type": "stream",
     "text": [
      "1110/1110 [==============================] - 12s 11ms/step - loss: 48.1961 - root_mean_squared_error: 6.9423\n",
      "Epoch 89/200\n",
      "1110/1110 [==============================] - 8s 8ms/step - loss: 48.8545 - root_mean_squared_error: 6.9896\n",
      "Epoch 90/200\n",
      "1106/1110 [============================>.] - ETA: 0s - loss: 48.1501 - root_mean_squared_error: 6.9390"
     ]
    },
    {
     "name": "stderr",
     "output_type": "stream",
     "text": [
      "WARNING:absl:Found untraced functions such as gru_cell_layer_call_fn, gru_cell_layer_call_and_return_conditional_losses while saving (showing 2 of 2). These functions will not be directly callable after loading.\n"
     ]
    },
    {
     "name": "stdout",
     "output_type": "stream",
     "text": [
      "INFO:tensorflow:Assets written to: best_model\\assets\n"
     ]
    },
    {
     "name": "stderr",
     "output_type": "stream",
     "text": [
      "INFO:tensorflow:Assets written to: best_model\\assets\n",
      "WARNING:absl:<keras.layers.recurrent.GRUCell object at 0x0000022BCE4C1748> has the same name 'GRUCell' as a built-in Keras object. Consider renaming <class 'keras.layers.recurrent.GRUCell'> to avoid naming conflicts when loading with `tf.keras.models.load_model`. If renaming is not possible, pass the object in the `custom_objects` parameter of the load function.\n",
      "WARNING:absl:<keras.layers.recurrent.GRUCell object at 0x0000022BCE54D988> has the same name 'GRUCell' as a built-in Keras object. Consider renaming <class 'keras.layers.recurrent.GRUCell'> to avoid naming conflicts when loading with `tf.keras.models.load_model`. If renaming is not possible, pass the object in the `custom_objects` parameter of the load function.\n"
     ]
    },
    {
     "name": "stdout",
     "output_type": "stream",
     "text": [
      "1110/1110 [==============================] - 12s 11ms/step - loss: 48.1883 - root_mean_squared_error: 6.9418\n",
      "Epoch 91/200\n",
      "1107/1110 [============================>.] - ETA: 0s - loss: 47.9602 - root_mean_squared_error: 6.9253"
     ]
    },
    {
     "name": "stderr",
     "output_type": "stream",
     "text": [
      "WARNING:absl:Found untraced functions such as gru_cell_layer_call_fn, gru_cell_layer_call_and_return_conditional_losses while saving (showing 2 of 2). These functions will not be directly callable after loading.\n"
     ]
    },
    {
     "name": "stdout",
     "output_type": "stream",
     "text": [
      "INFO:tensorflow:Assets written to: best_model\\assets\n"
     ]
    },
    {
     "name": "stderr",
     "output_type": "stream",
     "text": [
      "INFO:tensorflow:Assets written to: best_model\\assets\n",
      "WARNING:absl:<keras.layers.recurrent.GRUCell object at 0x0000022BCE4C1748> has the same name 'GRUCell' as a built-in Keras object. Consider renaming <class 'keras.layers.recurrent.GRUCell'> to avoid naming conflicts when loading with `tf.keras.models.load_model`. If renaming is not possible, pass the object in the `custom_objects` parameter of the load function.\n",
      "WARNING:absl:<keras.layers.recurrent.GRUCell object at 0x0000022BCE54D988> has the same name 'GRUCell' as a built-in Keras object. Consider renaming <class 'keras.layers.recurrent.GRUCell'> to avoid naming conflicts when loading with `tf.keras.models.load_model`. If renaming is not possible, pass the object in the `custom_objects` parameter of the load function.\n"
     ]
    },
    {
     "name": "stdout",
     "output_type": "stream",
     "text": [
      "1110/1110 [==============================] - 12s 11ms/step - loss: 47.9516 - root_mean_squared_error: 6.9247\n",
      "Epoch 92/200\n",
      "1107/1110 [============================>.] - ETA: 0s - loss: 47.4671 - root_mean_squared_error: 6.8896"
     ]
    },
    {
     "name": "stderr",
     "output_type": "stream",
     "text": [
      "WARNING:absl:Found untraced functions such as gru_cell_layer_call_fn, gru_cell_layer_call_and_return_conditional_losses while saving (showing 2 of 2). These functions will not be directly callable after loading.\n"
     ]
    },
    {
     "name": "stdout",
     "output_type": "stream",
     "text": [
      "INFO:tensorflow:Assets written to: best_model\\assets\n"
     ]
    },
    {
     "name": "stderr",
     "output_type": "stream",
     "text": [
      "INFO:tensorflow:Assets written to: best_model\\assets\n",
      "WARNING:absl:<keras.layers.recurrent.GRUCell object at 0x0000022BCE4C1748> has the same name 'GRUCell' as a built-in Keras object. Consider renaming <class 'keras.layers.recurrent.GRUCell'> to avoid naming conflicts when loading with `tf.keras.models.load_model`. If renaming is not possible, pass the object in the `custom_objects` parameter of the load function.\n",
      "WARNING:absl:<keras.layers.recurrent.GRUCell object at 0x0000022BCE54D988> has the same name 'GRUCell' as a built-in Keras object. Consider renaming <class 'keras.layers.recurrent.GRUCell'> to avoid naming conflicts when loading with `tf.keras.models.load_model`. If renaming is not possible, pass the object in the `custom_objects` parameter of the load function.\n"
     ]
    },
    {
     "name": "stdout",
     "output_type": "stream",
     "text": [
      "1110/1110 [==============================] - 12s 11ms/step - loss: 47.4688 - root_mean_squared_error: 6.8898\n",
      "Epoch 93/200\n",
      "1110/1110 [==============================] - 9s 8ms/step - loss: 47.9877 - root_mean_squared_error: 6.9273\n",
      "Epoch 94/200\n",
      "1105/1110 [============================>.] - ETA: 0s - loss: 47.2129 - root_mean_squared_error: 6.8712"
     ]
    },
    {
     "name": "stderr",
     "output_type": "stream",
     "text": [
      "WARNING:absl:Found untraced functions such as gru_cell_layer_call_fn, gru_cell_layer_call_and_return_conditional_losses while saving (showing 2 of 2). These functions will not be directly callable after loading.\n"
     ]
    },
    {
     "name": "stdout",
     "output_type": "stream",
     "text": [
      "INFO:tensorflow:Assets written to: best_model\\assets\n"
     ]
    },
    {
     "name": "stderr",
     "output_type": "stream",
     "text": [
      "INFO:tensorflow:Assets written to: best_model\\assets\n",
      "WARNING:absl:<keras.layers.recurrent.GRUCell object at 0x0000022BCE4C1748> has the same name 'GRUCell' as a built-in Keras object. Consider renaming <class 'keras.layers.recurrent.GRUCell'> to avoid naming conflicts when loading with `tf.keras.models.load_model`. If renaming is not possible, pass the object in the `custom_objects` parameter of the load function.\n",
      "WARNING:absl:<keras.layers.recurrent.GRUCell object at 0x0000022BCE54D988> has the same name 'GRUCell' as a built-in Keras object. Consider renaming <class 'keras.layers.recurrent.GRUCell'> to avoid naming conflicts when loading with `tf.keras.models.load_model`. If renaming is not possible, pass the object in the `custom_objects` parameter of the load function.\n"
     ]
    },
    {
     "name": "stdout",
     "output_type": "stream",
     "text": [
      "1110/1110 [==============================] - 13s 11ms/step - loss: 47.1727 - root_mean_squared_error: 6.8682\n",
      "Epoch 95/200\n",
      "1110/1110 [==============================] - 9s 8ms/step - loss: 47.4968 - root_mean_squared_error: 6.8918\n",
      "Epoch 96/200\n",
      "1109/1110 [============================>.] - ETA: 0s - loss: 46.6951 - root_mean_squared_error: 6.8334"
     ]
    },
    {
     "name": "stderr",
     "output_type": "stream",
     "text": [
      "WARNING:absl:Found untraced functions such as gru_cell_layer_call_fn, gru_cell_layer_call_and_return_conditional_losses while saving (showing 2 of 2). These functions will not be directly callable after loading.\n"
     ]
    },
    {
     "name": "stdout",
     "output_type": "stream",
     "text": [
      "INFO:tensorflow:Assets written to: best_model\\assets\n"
     ]
    },
    {
     "name": "stderr",
     "output_type": "stream",
     "text": [
      "INFO:tensorflow:Assets written to: best_model\\assets\n",
      "WARNING:absl:<keras.layers.recurrent.GRUCell object at 0x0000022BCE4C1748> has the same name 'GRUCell' as a built-in Keras object. Consider renaming <class 'keras.layers.recurrent.GRUCell'> to avoid naming conflicts when loading with `tf.keras.models.load_model`. If renaming is not possible, pass the object in the `custom_objects` parameter of the load function.\n",
      "WARNING:absl:<keras.layers.recurrent.GRUCell object at 0x0000022BCE54D988> has the same name 'GRUCell' as a built-in Keras object. Consider renaming <class 'keras.layers.recurrent.GRUCell'> to avoid naming conflicts when loading with `tf.keras.models.load_model`. If renaming is not possible, pass the object in the `custom_objects` parameter of the load function.\n"
     ]
    },
    {
     "name": "stdout",
     "output_type": "stream",
     "text": [
      "1110/1110 [==============================] - 12s 11ms/step - loss: 46.7042 - root_mean_squared_error: 6.8340\n",
      "Epoch 97/200\n",
      "1110/1110 [==============================] - ETA: 0s - loss: 46.4151 - root_mean_squared_error: 6.8129"
     ]
    },
    {
     "name": "stderr",
     "output_type": "stream",
     "text": [
      "WARNING:absl:Found untraced functions such as gru_cell_layer_call_fn, gru_cell_layer_call_and_return_conditional_losses while saving (showing 2 of 2). These functions will not be directly callable after loading.\n"
     ]
    },
    {
     "name": "stdout",
     "output_type": "stream",
     "text": [
      "INFO:tensorflow:Assets written to: best_model\\assets\n"
     ]
    },
    {
     "name": "stderr",
     "output_type": "stream",
     "text": [
      "INFO:tensorflow:Assets written to: best_model\\assets\n",
      "WARNING:absl:<keras.layers.recurrent.GRUCell object at 0x0000022BCE4C1748> has the same name 'GRUCell' as a built-in Keras object. Consider renaming <class 'keras.layers.recurrent.GRUCell'> to avoid naming conflicts when loading with `tf.keras.models.load_model`. If renaming is not possible, pass the object in the `custom_objects` parameter of the load function.\n",
      "WARNING:absl:<keras.layers.recurrent.GRUCell object at 0x0000022BCE54D988> has the same name 'GRUCell' as a built-in Keras object. Consider renaming <class 'keras.layers.recurrent.GRUCell'> to avoid naming conflicts when loading with `tf.keras.models.load_model`. If renaming is not possible, pass the object in the `custom_objects` parameter of the load function.\n"
     ]
    },
    {
     "name": "stdout",
     "output_type": "stream",
     "text": [
      "1110/1110 [==============================] - 12s 11ms/step - loss: 46.4151 - root_mean_squared_error: 6.8129\n",
      "Epoch 98/200\n",
      "1110/1110 [==============================] - 8s 7ms/step - loss: 46.5956 - root_mean_squared_error: 6.8261\n",
      "Epoch 99/200\n",
      "1110/1110 [==============================] - 8s 7ms/step - loss: 46.5653 - root_mean_squared_error: 6.8239\n",
      "Epoch 100/200\n",
      "1110/1110 [==============================] - 8s 7ms/step - loss: 46.8975 - root_mean_squared_error: 6.8482\n",
      "Epoch 101/200\n",
      "1104/1110 [============================>.] - ETA: 0s - loss: 46.4636 - root_mean_squared_error: 6.8164"
     ]
    },
    {
     "name": "stderr",
     "output_type": "stream",
     "text": [
      "WARNING:absl:Found untraced functions such as gru_cell_layer_call_fn, gru_cell_layer_call_and_return_conditional_losses while saving (showing 2 of 2). These functions will not be directly callable after loading.\n"
     ]
    },
    {
     "name": "stdout",
     "output_type": "stream",
     "text": [
      "INFO:tensorflow:Assets written to: best_model\\assets\n"
     ]
    },
    {
     "name": "stderr",
     "output_type": "stream",
     "text": [
      "INFO:tensorflow:Assets written to: best_model\\assets\n",
      "WARNING:absl:<keras.layers.recurrent.GRUCell object at 0x0000022BCE4C1748> has the same name 'GRUCell' as a built-in Keras object. Consider renaming <class 'keras.layers.recurrent.GRUCell'> to avoid naming conflicts when loading with `tf.keras.models.load_model`. If renaming is not possible, pass the object in the `custom_objects` parameter of the load function.\n",
      "WARNING:absl:<keras.layers.recurrent.GRUCell object at 0x0000022BCE54D988> has the same name 'GRUCell' as a built-in Keras object. Consider renaming <class 'keras.layers.recurrent.GRUCell'> to avoid naming conflicts when loading with `tf.keras.models.load_model`. If renaming is not possible, pass the object in the `custom_objects` parameter of the load function.\n"
     ]
    },
    {
     "name": "stdout",
     "output_type": "stream",
     "text": [
      "1110/1110 [==============================] - 12s 11ms/step - loss: 46.3845 - root_mean_squared_error: 6.8106\n",
      "Epoch 102/200\n",
      "1110/1110 [==============================] - 8s 7ms/step - loss: 46.3886 - root_mean_squared_error: 6.8109\n",
      "Epoch 103/200\n",
      "1103/1110 [============================>.] - ETA: 0s - loss: 46.2274 - root_mean_squared_error: 6.7991"
     ]
    },
    {
     "name": "stderr",
     "output_type": "stream",
     "text": [
      "WARNING:absl:Found untraced functions such as gru_cell_layer_call_fn, gru_cell_layer_call_and_return_conditional_losses while saving (showing 2 of 2). These functions will not be directly callable after loading.\n"
     ]
    },
    {
     "name": "stdout",
     "output_type": "stream",
     "text": [
      "INFO:tensorflow:Assets written to: best_model\\assets\n"
     ]
    },
    {
     "name": "stderr",
     "output_type": "stream",
     "text": [
      "INFO:tensorflow:Assets written to: best_model\\assets\n",
      "WARNING:absl:<keras.layers.recurrent.GRUCell object at 0x0000022BCE4C1748> has the same name 'GRUCell' as a built-in Keras object. Consider renaming <class 'keras.layers.recurrent.GRUCell'> to avoid naming conflicts when loading with `tf.keras.models.load_model`. If renaming is not possible, pass the object in the `custom_objects` parameter of the load function.\n",
      "WARNING:absl:<keras.layers.recurrent.GRUCell object at 0x0000022BCE54D988> has the same name 'GRUCell' as a built-in Keras object. Consider renaming <class 'keras.layers.recurrent.GRUCell'> to avoid naming conflicts when loading with `tf.keras.models.load_model`. If renaming is not possible, pass the object in the `custom_objects` parameter of the load function.\n"
     ]
    },
    {
     "name": "stdout",
     "output_type": "stream",
     "text": [
      "1110/1110 [==============================] - 12s 11ms/step - loss: 46.1739 - root_mean_squared_error: 6.7951\n",
      "Epoch 104/200\n",
      "1105/1110 [============================>.] - ETA: 0s - loss: 45.5360 - root_mean_squared_error: 6.7480"
     ]
    },
    {
     "name": "stderr",
     "output_type": "stream",
     "text": [
      "WARNING:absl:Found untraced functions such as gru_cell_layer_call_fn, gru_cell_layer_call_and_return_conditional_losses while saving (showing 2 of 2). These functions will not be directly callable after loading.\n"
     ]
    },
    {
     "name": "stdout",
     "output_type": "stream",
     "text": [
      "INFO:tensorflow:Assets written to: best_model\\assets\n"
     ]
    },
    {
     "name": "stderr",
     "output_type": "stream",
     "text": [
      "INFO:tensorflow:Assets written to: best_model\\assets\n",
      "WARNING:absl:<keras.layers.recurrent.GRUCell object at 0x0000022BCE4C1748> has the same name 'GRUCell' as a built-in Keras object. Consider renaming <class 'keras.layers.recurrent.GRUCell'> to avoid naming conflicts when loading with `tf.keras.models.load_model`. If renaming is not possible, pass the object in the `custom_objects` parameter of the load function.\n",
      "WARNING:absl:<keras.layers.recurrent.GRUCell object at 0x0000022BCE54D988> has the same name 'GRUCell' as a built-in Keras object. Consider renaming <class 'keras.layers.recurrent.GRUCell'> to avoid naming conflicts when loading with `tf.keras.models.load_model`. If renaming is not possible, pass the object in the `custom_objects` parameter of the load function.\n"
     ]
    },
    {
     "name": "stdout",
     "output_type": "stream",
     "text": [
      "1110/1110 [==============================] - 12s 11ms/step - loss: 45.4676 - root_mean_squared_error: 6.7430\n",
      "Epoch 105/200\n",
      "1110/1110 [==============================] - 8s 7ms/step - loss: 46.1874 - root_mean_squared_error: 6.7961\n",
      "Epoch 106/200\n",
      "1110/1110 [==============================] - 8s 7ms/step - loss: 45.7586 - root_mean_squared_error: 6.7645\n",
      "Epoch 107/200\n",
      "1110/1110 [==============================] - 8s 7ms/step - loss: 45.4860 - root_mean_squared_error: 6.7443\n",
      "Epoch 108/200\n",
      "1109/1110 [============================>.] - ETA: 0s - loss: 45.3379 - root_mean_squared_error: 6.7333"
     ]
    },
    {
     "name": "stderr",
     "output_type": "stream",
     "text": [
      "WARNING:absl:Found untraced functions such as gru_cell_layer_call_fn, gru_cell_layer_call_and_return_conditional_losses while saving (showing 2 of 2). These functions will not be directly callable after loading.\n"
     ]
    },
    {
     "name": "stdout",
     "output_type": "stream",
     "text": [
      "INFO:tensorflow:Assets written to: best_model\\assets\n"
     ]
    },
    {
     "name": "stderr",
     "output_type": "stream",
     "text": [
      "INFO:tensorflow:Assets written to: best_model\\assets\n",
      "WARNING:absl:<keras.layers.recurrent.GRUCell object at 0x0000022BCE4C1748> has the same name 'GRUCell' as a built-in Keras object. Consider renaming <class 'keras.layers.recurrent.GRUCell'> to avoid naming conflicts when loading with `tf.keras.models.load_model`. If renaming is not possible, pass the object in the `custom_objects` parameter of the load function.\n",
      "WARNING:absl:<keras.layers.recurrent.GRUCell object at 0x0000022BCE54D988> has the same name 'GRUCell' as a built-in Keras object. Consider renaming <class 'keras.layers.recurrent.GRUCell'> to avoid naming conflicts when loading with `tf.keras.models.load_model`. If renaming is not possible, pass the object in the `custom_objects` parameter of the load function.\n"
     ]
    },
    {
     "name": "stdout",
     "output_type": "stream",
     "text": [
      "1110/1110 [==============================] - 12s 10ms/step - loss: 45.3348 - root_mean_squared_error: 6.7331\n",
      "Epoch 109/200\n",
      "1109/1110 [============================>.] - ETA: 0s - loss: 44.8300 - root_mean_squared_error: 6.6955"
     ]
    },
    {
     "name": "stderr",
     "output_type": "stream",
     "text": [
      "WARNING:absl:Found untraced functions such as gru_cell_layer_call_fn, gru_cell_layer_call_and_return_conditional_losses while saving (showing 2 of 2). These functions will not be directly callable after loading.\n"
     ]
    },
    {
     "name": "stdout",
     "output_type": "stream",
     "text": [
      "INFO:tensorflow:Assets written to: best_model\\assets\n"
     ]
    },
    {
     "name": "stderr",
     "output_type": "stream",
     "text": [
      "INFO:tensorflow:Assets written to: best_model\\assets\n",
      "WARNING:absl:<keras.layers.recurrent.GRUCell object at 0x0000022BCE4C1748> has the same name 'GRUCell' as a built-in Keras object. Consider renaming <class 'keras.layers.recurrent.GRUCell'> to avoid naming conflicts when loading with `tf.keras.models.load_model`. If renaming is not possible, pass the object in the `custom_objects` parameter of the load function.\n",
      "WARNING:absl:<keras.layers.recurrent.GRUCell object at 0x0000022BCE54D988> has the same name 'GRUCell' as a built-in Keras object. Consider renaming <class 'keras.layers.recurrent.GRUCell'> to avoid naming conflicts when loading with `tf.keras.models.load_model`. If renaming is not possible, pass the object in the `custom_objects` parameter of the load function.\n"
     ]
    },
    {
     "name": "stdout",
     "output_type": "stream",
     "text": [
      "1110/1110 [==============================] - 12s 11ms/step - loss: 44.8197 - root_mean_squared_error: 6.6948\n",
      "Epoch 110/200\n",
      "1105/1110 [============================>.] - ETA: 0s - loss: 44.5644 - root_mean_squared_error: 6.6757"
     ]
    },
    {
     "name": "stderr",
     "output_type": "stream",
     "text": [
      "WARNING:absl:Found untraced functions such as gru_cell_layer_call_fn, gru_cell_layer_call_and_return_conditional_losses while saving (showing 2 of 2). These functions will not be directly callable after loading.\n"
     ]
    },
    {
     "name": "stdout",
     "output_type": "stream",
     "text": [
      "INFO:tensorflow:Assets written to: best_model\\assets\n"
     ]
    },
    {
     "name": "stderr",
     "output_type": "stream",
     "text": [
      "INFO:tensorflow:Assets written to: best_model\\assets\n",
      "WARNING:absl:<keras.layers.recurrent.GRUCell object at 0x0000022BCE4C1748> has the same name 'GRUCell' as a built-in Keras object. Consider renaming <class 'keras.layers.recurrent.GRUCell'> to avoid naming conflicts when loading with `tf.keras.models.load_model`. If renaming is not possible, pass the object in the `custom_objects` parameter of the load function.\n",
      "WARNING:absl:<keras.layers.recurrent.GRUCell object at 0x0000022BCE54D988> has the same name 'GRUCell' as a built-in Keras object. Consider renaming <class 'keras.layers.recurrent.GRUCell'> to avoid naming conflicts when loading with `tf.keras.models.load_model`. If renaming is not possible, pass the object in the `custom_objects` parameter of the load function.\n"
     ]
    },
    {
     "name": "stdout",
     "output_type": "stream",
     "text": [
      "1110/1110 [==============================] - 11s 10ms/step - loss: 44.5347 - root_mean_squared_error: 6.6734\n",
      "Epoch 111/200\n",
      "1103/1110 [============================>.] - ETA: 0s - loss: 44.1104 - root_mean_squared_error: 6.6416"
     ]
    },
    {
     "name": "stderr",
     "output_type": "stream",
     "text": [
      "WARNING:absl:Found untraced functions such as gru_cell_layer_call_fn, gru_cell_layer_call_and_return_conditional_losses while saving (showing 2 of 2). These functions will not be directly callable after loading.\n"
     ]
    },
    {
     "name": "stdout",
     "output_type": "stream",
     "text": [
      "INFO:tensorflow:Assets written to: best_model\\assets\n"
     ]
    },
    {
     "name": "stderr",
     "output_type": "stream",
     "text": [
      "INFO:tensorflow:Assets written to: best_model\\assets\n",
      "WARNING:absl:<keras.layers.recurrent.GRUCell object at 0x0000022BCE4C1748> has the same name 'GRUCell' as a built-in Keras object. Consider renaming <class 'keras.layers.recurrent.GRUCell'> to avoid naming conflicts when loading with `tf.keras.models.load_model`. If renaming is not possible, pass the object in the `custom_objects` parameter of the load function.\n",
      "WARNING:absl:<keras.layers.recurrent.GRUCell object at 0x0000022BCE54D988> has the same name 'GRUCell' as a built-in Keras object. Consider renaming <class 'keras.layers.recurrent.GRUCell'> to avoid naming conflicts when loading with `tf.keras.models.load_model`. If renaming is not possible, pass the object in the `custom_objects` parameter of the load function.\n"
     ]
    },
    {
     "name": "stdout",
     "output_type": "stream",
     "text": [
      "1110/1110 [==============================] - 12s 11ms/step - loss: 44.1674 - root_mean_squared_error: 6.6459\n",
      "Epoch 112/200\n",
      "1110/1110 [==============================] - 8s 7ms/step - loss: 44.5628 - root_mean_squared_error: 6.6755\n",
      "Epoch 113/200\n",
      "1110/1110 [==============================] - 8s 7ms/step - loss: 44.8301 - root_mean_squared_error: 6.6955\n",
      "Epoch 114/200\n",
      "1103/1110 [============================>.] - ETA: 0s - loss: 43.4356 - root_mean_squared_error: 6.5906"
     ]
    },
    {
     "name": "stderr",
     "output_type": "stream",
     "text": [
      "WARNING:absl:Found untraced functions such as gru_cell_layer_call_fn, gru_cell_layer_call_and_return_conditional_losses while saving (showing 2 of 2). These functions will not be directly callable after loading.\n"
     ]
    },
    {
     "name": "stdout",
     "output_type": "stream",
     "text": [
      "INFO:tensorflow:Assets written to: best_model\\assets\n"
     ]
    },
    {
     "name": "stderr",
     "output_type": "stream",
     "text": [
      "INFO:tensorflow:Assets written to: best_model\\assets\n",
      "WARNING:absl:<keras.layers.recurrent.GRUCell object at 0x0000022BCE4C1748> has the same name 'GRUCell' as a built-in Keras object. Consider renaming <class 'keras.layers.recurrent.GRUCell'> to avoid naming conflicts when loading with `tf.keras.models.load_model`. If renaming is not possible, pass the object in the `custom_objects` parameter of the load function.\n",
      "WARNING:absl:<keras.layers.recurrent.GRUCell object at 0x0000022BCE54D988> has the same name 'GRUCell' as a built-in Keras object. Consider renaming <class 'keras.layers.recurrent.GRUCell'> to avoid naming conflicts when loading with `tf.keras.models.load_model`. If renaming is not possible, pass the object in the `custom_objects` parameter of the load function.\n"
     ]
    },
    {
     "name": "stdout",
     "output_type": "stream",
     "text": [
      "1110/1110 [==============================] - 12s 10ms/step - loss: 43.5778 - root_mean_squared_error: 6.6013\n",
      "Epoch 115/200\n",
      "1110/1110 [==============================] - 8s 7ms/step - loss: 43.9852 - root_mean_squared_error: 6.6321\n",
      "Epoch 116/200\n",
      "1110/1110 [==============================] - 8s 7ms/step - loss: 43.7777 - root_mean_squared_error: 6.6165\n",
      "Epoch 117/200\n",
      "1110/1110 [==============================] - 9s 8ms/step - loss: 43.8350 - root_mean_squared_error: 6.6208\n",
      "Epoch 118/200\n",
      "1110/1110 [==============================] - 8s 7ms/step - loss: 43.6979 - root_mean_squared_error: 6.6104\n",
      "Epoch 119/200\n",
      "1105/1110 [============================>.] - ETA: 0s - loss: 43.3480 - root_mean_squared_error: 6.5839"
     ]
    },
    {
     "name": "stderr",
     "output_type": "stream",
     "text": [
      "WARNING:absl:Found untraced functions such as gru_cell_layer_call_fn, gru_cell_layer_call_and_return_conditional_losses while saving (showing 2 of 2). These functions will not be directly callable after loading.\n"
     ]
    },
    {
     "name": "stdout",
     "output_type": "stream",
     "text": [
      "INFO:tensorflow:Assets written to: best_model\\assets\n"
     ]
    },
    {
     "name": "stderr",
     "output_type": "stream",
     "text": [
      "INFO:tensorflow:Assets written to: best_model\\assets\n",
      "WARNING:absl:<keras.layers.recurrent.GRUCell object at 0x0000022BCE4C1748> has the same name 'GRUCell' as a built-in Keras object. Consider renaming <class 'keras.layers.recurrent.GRUCell'> to avoid naming conflicts when loading with `tf.keras.models.load_model`. If renaming is not possible, pass the object in the `custom_objects` parameter of the load function.\n",
      "WARNING:absl:<keras.layers.recurrent.GRUCell object at 0x0000022BCE54D988> has the same name 'GRUCell' as a built-in Keras object. Consider renaming <class 'keras.layers.recurrent.GRUCell'> to avoid naming conflicts when loading with `tf.keras.models.load_model`. If renaming is not possible, pass the object in the `custom_objects` parameter of the load function.\n"
     ]
    },
    {
     "name": "stdout",
     "output_type": "stream",
     "text": [
      "1110/1110 [==============================] - 12s 10ms/step - loss: 43.4124 - root_mean_squared_error: 6.5888\n",
      "Epoch 120/200\n",
      "1109/1110 [============================>.] - ETA: 0s - loss: 42.8760 - root_mean_squared_error: 6.5480"
     ]
    },
    {
     "name": "stderr",
     "output_type": "stream",
     "text": [
      "WARNING:absl:Found untraced functions such as gru_cell_layer_call_fn, gru_cell_layer_call_and_return_conditional_losses while saving (showing 2 of 2). These functions will not be directly callable after loading.\n"
     ]
    },
    {
     "name": "stdout",
     "output_type": "stream",
     "text": [
      "INFO:tensorflow:Assets written to: best_model\\assets\n"
     ]
    },
    {
     "name": "stderr",
     "output_type": "stream",
     "text": [
      "INFO:tensorflow:Assets written to: best_model\\assets\n",
      "WARNING:absl:<keras.layers.recurrent.GRUCell object at 0x0000022BCE4C1748> has the same name 'GRUCell' as a built-in Keras object. Consider renaming <class 'keras.layers.recurrent.GRUCell'> to avoid naming conflicts when loading with `tf.keras.models.load_model`. If renaming is not possible, pass the object in the `custom_objects` parameter of the load function.\n",
      "WARNING:absl:<keras.layers.recurrent.GRUCell object at 0x0000022BCE54D988> has the same name 'GRUCell' as a built-in Keras object. Consider renaming <class 'keras.layers.recurrent.GRUCell'> to avoid naming conflicts when loading with `tf.keras.models.load_model`. If renaming is not possible, pass the object in the `custom_objects` parameter of the load function.\n"
     ]
    },
    {
     "name": "stdout",
     "output_type": "stream",
     "text": [
      "1110/1110 [==============================] - 11s 10ms/step - loss: 42.8683 - root_mean_squared_error: 6.5474\n",
      "Epoch 121/200\n",
      "1104/1110 [============================>.] - ETA: 0s - loss: 42.5683 - root_mean_squared_error: 6.5244"
     ]
    },
    {
     "name": "stderr",
     "output_type": "stream",
     "text": [
      "WARNING:absl:Found untraced functions such as gru_cell_layer_call_fn, gru_cell_layer_call_and_return_conditional_losses while saving (showing 2 of 2). These functions will not be directly callable after loading.\n"
     ]
    },
    {
     "name": "stdout",
     "output_type": "stream",
     "text": [
      "INFO:tensorflow:Assets written to: best_model\\assets\n"
     ]
    },
    {
     "name": "stderr",
     "output_type": "stream",
     "text": [
      "INFO:tensorflow:Assets written to: best_model\\assets\n",
      "WARNING:absl:<keras.layers.recurrent.GRUCell object at 0x0000022BCE4C1748> has the same name 'GRUCell' as a built-in Keras object. Consider renaming <class 'keras.layers.recurrent.GRUCell'> to avoid naming conflicts when loading with `tf.keras.models.load_model`. If renaming is not possible, pass the object in the `custom_objects` parameter of the load function.\n",
      "WARNING:absl:<keras.layers.recurrent.GRUCell object at 0x0000022BCE54D988> has the same name 'GRUCell' as a built-in Keras object. Consider renaming <class 'keras.layers.recurrent.GRUCell'> to avoid naming conflicts when loading with `tf.keras.models.load_model`. If renaming is not possible, pass the object in the `custom_objects` parameter of the load function.\n"
     ]
    },
    {
     "name": "stdout",
     "output_type": "stream",
     "text": [
      "1110/1110 [==============================] - 12s 10ms/step - loss: 42.5174 - root_mean_squared_error: 6.5205\n",
      "Epoch 122/200\n",
      "1108/1110 [============================>.] - ETA: 0s - loss: 42.4122 - root_mean_squared_error: 6.5125"
     ]
    },
    {
     "name": "stderr",
     "output_type": "stream",
     "text": [
      "WARNING:absl:Found untraced functions such as gru_cell_layer_call_fn, gru_cell_layer_call_and_return_conditional_losses while saving (showing 2 of 2). These functions will not be directly callable after loading.\n"
     ]
    },
    {
     "name": "stdout",
     "output_type": "stream",
     "text": [
      "INFO:tensorflow:Assets written to: best_model\\assets\n"
     ]
    },
    {
     "name": "stderr",
     "output_type": "stream",
     "text": [
      "INFO:tensorflow:Assets written to: best_model\\assets\n",
      "WARNING:absl:<keras.layers.recurrent.GRUCell object at 0x0000022BCE4C1748> has the same name 'GRUCell' as a built-in Keras object. Consider renaming <class 'keras.layers.recurrent.GRUCell'> to avoid naming conflicts when loading with `tf.keras.models.load_model`. If renaming is not possible, pass the object in the `custom_objects` parameter of the load function.\n",
      "WARNING:absl:<keras.layers.recurrent.GRUCell object at 0x0000022BCE54D988> has the same name 'GRUCell' as a built-in Keras object. Consider renaming <class 'keras.layers.recurrent.GRUCell'> to avoid naming conflicts when loading with `tf.keras.models.load_model`. If renaming is not possible, pass the object in the `custom_objects` parameter of the load function.\n"
     ]
    },
    {
     "name": "stdout",
     "output_type": "stream",
     "text": [
      "1110/1110 [==============================] - 12s 11ms/step - loss: 42.4013 - root_mean_squared_error: 6.5116\n",
      "Epoch 123/200\n",
      "1110/1110 [==============================] - 8s 7ms/step - loss: 43.5016 - root_mean_squared_error: 6.5956\n",
      "Epoch 124/200\n",
      "1110/1110 [==============================] - 8s 7ms/step - loss: 42.6788 - root_mean_squared_error: 6.5329\n",
      "Epoch 125/200\n",
      "1110/1110 [==============================] - 8s 7ms/step - loss: 42.9879 - root_mean_squared_error: 6.5565\n",
      "Epoch 126/200\n",
      "1108/1110 [============================>.] - ETA: 0s - loss: 42.1339 - root_mean_squared_error: 6.4911"
     ]
    },
    {
     "name": "stderr",
     "output_type": "stream",
     "text": [
      "WARNING:absl:Found untraced functions such as gru_cell_layer_call_fn, gru_cell_layer_call_and_return_conditional_losses while saving (showing 2 of 2). These functions will not be directly callable after loading.\n"
     ]
    },
    {
     "name": "stdout",
     "output_type": "stream",
     "text": [
      "INFO:tensorflow:Assets written to: best_model\\assets\n"
     ]
    },
    {
     "name": "stderr",
     "output_type": "stream",
     "text": [
      "INFO:tensorflow:Assets written to: best_model\\assets\n",
      "WARNING:absl:<keras.layers.recurrent.GRUCell object at 0x0000022BCE4C1748> has the same name 'GRUCell' as a built-in Keras object. Consider renaming <class 'keras.layers.recurrent.GRUCell'> to avoid naming conflicts when loading with `tf.keras.models.load_model`. If renaming is not possible, pass the object in the `custom_objects` parameter of the load function.\n",
      "WARNING:absl:<keras.layers.recurrent.GRUCell object at 0x0000022BCE54D988> has the same name 'GRUCell' as a built-in Keras object. Consider renaming <class 'keras.layers.recurrent.GRUCell'> to avoid naming conflicts when loading with `tf.keras.models.load_model`. If renaming is not possible, pass the object in the `custom_objects` parameter of the load function.\n"
     ]
    },
    {
     "name": "stdout",
     "output_type": "stream",
     "text": [
      "1110/1110 [==============================] - 11s 10ms/step - loss: 42.1414 - root_mean_squared_error: 6.4916\n",
      "Epoch 127/200\n",
      "1110/1110 [==============================] - 8s 7ms/step - loss: 42.6062 - root_mean_squared_error: 6.5273\n",
      "Epoch 128/200\n",
      "1110/1110 [==============================] - 8s 7ms/step - loss: 42.3902 - root_mean_squared_error: 6.5108\n",
      "Epoch 129/200\n",
      "1110/1110 [==============================] - 8s 7ms/step - loss: 42.1680 - root_mean_squared_error: 6.4937\n",
      "Epoch 130/200\n",
      "1106/1110 [============================>.] - ETA: 0s - loss: 41.9813 - root_mean_squared_error: 6.4793"
     ]
    },
    {
     "name": "stderr",
     "output_type": "stream",
     "text": [
      "WARNING:absl:Found untraced functions such as gru_cell_layer_call_fn, gru_cell_layer_call_and_return_conditional_losses while saving (showing 2 of 2). These functions will not be directly callable after loading.\n"
     ]
    },
    {
     "name": "stdout",
     "output_type": "stream",
     "text": [
      "INFO:tensorflow:Assets written to: best_model\\assets\n"
     ]
    },
    {
     "name": "stderr",
     "output_type": "stream",
     "text": [
      "INFO:tensorflow:Assets written to: best_model\\assets\n",
      "WARNING:absl:<keras.layers.recurrent.GRUCell object at 0x0000022BCE4C1748> has the same name 'GRUCell' as a built-in Keras object. Consider renaming <class 'keras.layers.recurrent.GRUCell'> to avoid naming conflicts when loading with `tf.keras.models.load_model`. If renaming is not possible, pass the object in the `custom_objects` parameter of the load function.\n",
      "WARNING:absl:<keras.layers.recurrent.GRUCell object at 0x0000022BCE54D988> has the same name 'GRUCell' as a built-in Keras object. Consider renaming <class 'keras.layers.recurrent.GRUCell'> to avoid naming conflicts when loading with `tf.keras.models.load_model`. If renaming is not possible, pass the object in the `custom_objects` parameter of the load function.\n"
     ]
    },
    {
     "name": "stdout",
     "output_type": "stream",
     "text": [
      "1110/1110 [==============================] - 11s 10ms/step - loss: 41.9641 - root_mean_squared_error: 6.4780\n",
      "Epoch 131/200\n",
      "1110/1110 [==============================] - 8s 7ms/step - loss: 42.3537 - root_mean_squared_error: 6.5080\n",
      "Epoch 132/200\n",
      "1110/1110 [==============================] - ETA: 0s - loss: 41.5625 - root_mean_squared_error: 6.4469"
     ]
    },
    {
     "name": "stderr",
     "output_type": "stream",
     "text": [
      "WARNING:absl:Found untraced functions such as gru_cell_layer_call_fn, gru_cell_layer_call_and_return_conditional_losses while saving (showing 2 of 2). These functions will not be directly callable after loading.\n"
     ]
    },
    {
     "name": "stdout",
     "output_type": "stream",
     "text": [
      "INFO:tensorflow:Assets written to: best_model\\assets\n"
     ]
    },
    {
     "name": "stderr",
     "output_type": "stream",
     "text": [
      "INFO:tensorflow:Assets written to: best_model\\assets\n",
      "WARNING:absl:<keras.layers.recurrent.GRUCell object at 0x0000022BCE4C1748> has the same name 'GRUCell' as a built-in Keras object. Consider renaming <class 'keras.layers.recurrent.GRUCell'> to avoid naming conflicts when loading with `tf.keras.models.load_model`. If renaming is not possible, pass the object in the `custom_objects` parameter of the load function.\n",
      "WARNING:absl:<keras.layers.recurrent.GRUCell object at 0x0000022BCE54D988> has the same name 'GRUCell' as a built-in Keras object. Consider renaming <class 'keras.layers.recurrent.GRUCell'> to avoid naming conflicts when loading with `tf.keras.models.load_model`. If renaming is not possible, pass the object in the `custom_objects` parameter of the load function.\n"
     ]
    },
    {
     "name": "stdout",
     "output_type": "stream",
     "text": [
      "1110/1110 [==============================] - 11s 10ms/step - loss: 41.5625 - root_mean_squared_error: 6.4469\n",
      "Epoch 133/200\n",
      "1110/1110 [==============================] - 8s 7ms/step - loss: 41.7175 - root_mean_squared_error: 6.4589\n",
      "Epoch 134/200\n",
      "1104/1110 [============================>.] - ETA: 0s - loss: 41.3987 - root_mean_squared_error: 6.4342"
     ]
    },
    {
     "name": "stderr",
     "output_type": "stream",
     "text": [
      "WARNING:absl:Found untraced functions such as gru_cell_layer_call_fn, gru_cell_layer_call_and_return_conditional_losses while saving (showing 2 of 2). These functions will not be directly callable after loading.\n"
     ]
    },
    {
     "name": "stdout",
     "output_type": "stream",
     "text": [
      "INFO:tensorflow:Assets written to: best_model\\assets\n"
     ]
    },
    {
     "name": "stderr",
     "output_type": "stream",
     "text": [
      "INFO:tensorflow:Assets written to: best_model\\assets\n",
      "WARNING:absl:<keras.layers.recurrent.GRUCell object at 0x0000022BCE4C1748> has the same name 'GRUCell' as a built-in Keras object. Consider renaming <class 'keras.layers.recurrent.GRUCell'> to avoid naming conflicts when loading with `tf.keras.models.load_model`. If renaming is not possible, pass the object in the `custom_objects` parameter of the load function.\n",
      "WARNING:absl:<keras.layers.recurrent.GRUCell object at 0x0000022BCE54D988> has the same name 'GRUCell' as a built-in Keras object. Consider renaming <class 'keras.layers.recurrent.GRUCell'> to avoid naming conflicts when loading with `tf.keras.models.load_model`. If renaming is not possible, pass the object in the `custom_objects` parameter of the load function.\n"
     ]
    },
    {
     "name": "stdout",
     "output_type": "stream",
     "text": [
      "1110/1110 [==============================] - 12s 11ms/step - loss: 41.4070 - root_mean_squared_error: 6.4348\n",
      "Epoch 135/200\n",
      "1109/1110 [============================>.] - ETA: 0s - loss: 41.0150 - root_mean_squared_error: 6.4043"
     ]
    },
    {
     "name": "stderr",
     "output_type": "stream",
     "text": [
      "WARNING:absl:Found untraced functions such as gru_cell_layer_call_fn, gru_cell_layer_call_and_return_conditional_losses while saving (showing 2 of 2). These functions will not be directly callable after loading.\n"
     ]
    },
    {
     "name": "stdout",
     "output_type": "stream",
     "text": [
      "INFO:tensorflow:Assets written to: best_model\\assets\n"
     ]
    },
    {
     "name": "stderr",
     "output_type": "stream",
     "text": [
      "INFO:tensorflow:Assets written to: best_model\\assets\n",
      "WARNING:absl:<keras.layers.recurrent.GRUCell object at 0x0000022BCE4C1748> has the same name 'GRUCell' as a built-in Keras object. Consider renaming <class 'keras.layers.recurrent.GRUCell'> to avoid naming conflicts when loading with `tf.keras.models.load_model`. If renaming is not possible, pass the object in the `custom_objects` parameter of the load function.\n",
      "WARNING:absl:<keras.layers.recurrent.GRUCell object at 0x0000022BCE54D988> has the same name 'GRUCell' as a built-in Keras object. Consider renaming <class 'keras.layers.recurrent.GRUCell'> to avoid naming conflicts when loading with `tf.keras.models.load_model`. If renaming is not possible, pass the object in the `custom_objects` parameter of the load function.\n"
     ]
    },
    {
     "name": "stdout",
     "output_type": "stream",
     "text": [
      "1110/1110 [==============================] - 12s 11ms/step - loss: 41.0117 - root_mean_squared_error: 6.4040\n",
      "Epoch 136/200\n",
      "1110/1110 [==============================] - 8s 7ms/step - loss: 41.6417 - root_mean_squared_error: 6.4530\n",
      "Epoch 137/200\n",
      "1110/1110 [==============================] - 8s 8ms/step - loss: 41.8150 - root_mean_squared_error: 6.4664\n",
      "Epoch 138/200\n",
      "1106/1110 [============================>.] - ETA: 0s - loss: 40.8071 - root_mean_squared_error: 6.3880"
     ]
    },
    {
     "name": "stderr",
     "output_type": "stream",
     "text": [
      "WARNING:absl:Found untraced functions such as gru_cell_layer_call_fn, gru_cell_layer_call_and_return_conditional_losses while saving (showing 2 of 2). These functions will not be directly callable after loading.\n"
     ]
    },
    {
     "name": "stdout",
     "output_type": "stream",
     "text": [
      "INFO:tensorflow:Assets written to: best_model\\assets\n"
     ]
    },
    {
     "name": "stderr",
     "output_type": "stream",
     "text": [
      "INFO:tensorflow:Assets written to: best_model\\assets\n",
      "WARNING:absl:<keras.layers.recurrent.GRUCell object at 0x0000022BCE4C1748> has the same name 'GRUCell' as a built-in Keras object. Consider renaming <class 'keras.layers.recurrent.GRUCell'> to avoid naming conflicts when loading with `tf.keras.models.load_model`. If renaming is not possible, pass the object in the `custom_objects` parameter of the load function.\n",
      "WARNING:absl:<keras.layers.recurrent.GRUCell object at 0x0000022BCE54D988> has the same name 'GRUCell' as a built-in Keras object. Consider renaming <class 'keras.layers.recurrent.GRUCell'> to avoid naming conflicts when loading with `tf.keras.models.load_model`. If renaming is not possible, pass the object in the `custom_objects` parameter of the load function.\n"
     ]
    },
    {
     "name": "stdout",
     "output_type": "stream",
     "text": [
      "1110/1110 [==============================] - 12s 11ms/step - loss: 40.7401 - root_mean_squared_error: 6.3828\n",
      "Epoch 139/200\n",
      "1110/1110 [==============================] - 8s 8ms/step - loss: 41.1930 - root_mean_squared_error: 6.4182\n",
      "Epoch 140/200\n",
      "1110/1110 [==============================] - 8s 7ms/step - loss: 41.4108 - root_mean_squared_error: 6.4351\n",
      "Epoch 141/200\n",
      "1106/1110 [============================>.] - ETA: 0s - loss: 40.4803 - root_mean_squared_error: 6.3624"
     ]
    },
    {
     "name": "stderr",
     "output_type": "stream",
     "text": [
      "WARNING:absl:Found untraced functions such as gru_cell_layer_call_fn, gru_cell_layer_call_and_return_conditional_losses while saving (showing 2 of 2). These functions will not be directly callable after loading.\n"
     ]
    },
    {
     "name": "stdout",
     "output_type": "stream",
     "text": [
      "INFO:tensorflow:Assets written to: best_model\\assets\n"
     ]
    },
    {
     "name": "stderr",
     "output_type": "stream",
     "text": [
      "INFO:tensorflow:Assets written to: best_model\\assets\n",
      "WARNING:absl:<keras.layers.recurrent.GRUCell object at 0x0000022BCE4C1748> has the same name 'GRUCell' as a built-in Keras object. Consider renaming <class 'keras.layers.recurrent.GRUCell'> to avoid naming conflicts when loading with `tf.keras.models.load_model`. If renaming is not possible, pass the object in the `custom_objects` parameter of the load function.\n",
      "WARNING:absl:<keras.layers.recurrent.GRUCell object at 0x0000022BCE54D988> has the same name 'GRUCell' as a built-in Keras object. Consider renaming <class 'keras.layers.recurrent.GRUCell'> to avoid naming conflicts when loading with `tf.keras.models.load_model`. If renaming is not possible, pass the object in the `custom_objects` parameter of the load function.\n"
     ]
    },
    {
     "name": "stdout",
     "output_type": "stream",
     "text": [
      "1110/1110 [==============================] - 12s 11ms/step - loss: 40.4176 - root_mean_squared_error: 6.3575\n",
      "Epoch 142/200\n",
      "1110/1110 [==============================] - 8s 7ms/step - loss: 40.6861 - root_mean_squared_error: 6.3786\n",
      "Epoch 143/200\n",
      "1110/1110 [==============================] - 8s 7ms/step - loss: 40.6086 - root_mean_squared_error: 6.3725\n",
      "Epoch 144/200\n",
      "1103/1110 [============================>.] - ETA: 0s - loss: 40.2211 - root_mean_squared_error: 6.3420"
     ]
    },
    {
     "name": "stderr",
     "output_type": "stream",
     "text": [
      "WARNING:absl:Found untraced functions such as gru_cell_layer_call_fn, gru_cell_layer_call_and_return_conditional_losses while saving (showing 2 of 2). These functions will not be directly callable after loading.\n"
     ]
    },
    {
     "name": "stdout",
     "output_type": "stream",
     "text": [
      "INFO:tensorflow:Assets written to: best_model\\assets\n"
     ]
    },
    {
     "name": "stderr",
     "output_type": "stream",
     "text": [
      "INFO:tensorflow:Assets written to: best_model\\assets\n",
      "WARNING:absl:<keras.layers.recurrent.GRUCell object at 0x0000022BCE4C1748> has the same name 'GRUCell' as a built-in Keras object. Consider renaming <class 'keras.layers.recurrent.GRUCell'> to avoid naming conflicts when loading with `tf.keras.models.load_model`. If renaming is not possible, pass the object in the `custom_objects` parameter of the load function.\n",
      "WARNING:absl:<keras.layers.recurrent.GRUCell object at 0x0000022BCE54D988> has the same name 'GRUCell' as a built-in Keras object. Consider renaming <class 'keras.layers.recurrent.GRUCell'> to avoid naming conflicts when loading with `tf.keras.models.load_model`. If renaming is not possible, pass the object in the `custom_objects` parameter of the load function.\n"
     ]
    },
    {
     "name": "stdout",
     "output_type": "stream",
     "text": [
      "1110/1110 [==============================] - 12s 11ms/step - loss: 40.1110 - root_mean_squared_error: 6.3333\n",
      "Epoch 145/200\n",
      "1110/1110 [==============================] - 8s 7ms/step - loss: 40.8217 - root_mean_squared_error: 6.3892\n",
      "Epoch 146/200\n",
      "1110/1110 [==============================] - 8s 7ms/step - loss: 40.4005 - root_mean_squared_error: 6.3561\n",
      "Epoch 147/200\n",
      "1110/1110 [==============================] - 8s 7ms/step - loss: 40.3932 - root_mean_squared_error: 6.3556\n",
      "Epoch 148/200\n",
      "1103/1110 [============================>.] - ETA: 0s - loss: 39.1283 - root_mean_squared_error: 6.2553"
     ]
    },
    {
     "name": "stderr",
     "output_type": "stream",
     "text": [
      "WARNING:absl:Found untraced functions such as gru_cell_layer_call_fn, gru_cell_layer_call_and_return_conditional_losses while saving (showing 2 of 2). These functions will not be directly callable after loading.\n"
     ]
    },
    {
     "name": "stdout",
     "output_type": "stream",
     "text": [
      "INFO:tensorflow:Assets written to: best_model\\assets\n"
     ]
    },
    {
     "name": "stderr",
     "output_type": "stream",
     "text": [
      "INFO:tensorflow:Assets written to: best_model\\assets\n",
      "WARNING:absl:<keras.layers.recurrent.GRUCell object at 0x0000022BCE4C1748> has the same name 'GRUCell' as a built-in Keras object. Consider renaming <class 'keras.layers.recurrent.GRUCell'> to avoid naming conflicts when loading with `tf.keras.models.load_model`. If renaming is not possible, pass the object in the `custom_objects` parameter of the load function.\n",
      "WARNING:absl:<keras.layers.recurrent.GRUCell object at 0x0000022BCE54D988> has the same name 'GRUCell' as a built-in Keras object. Consider renaming <class 'keras.layers.recurrent.GRUCell'> to avoid naming conflicts when loading with `tf.keras.models.load_model`. If renaming is not possible, pass the object in the `custom_objects` parameter of the load function.\n"
     ]
    },
    {
     "name": "stdout",
     "output_type": "stream",
     "text": [
      "1110/1110 [==============================] - 12s 10ms/step - loss: 39.2395 - root_mean_squared_error: 6.2641\n",
      "Epoch 149/200\n",
      "1110/1110 [==============================] - 8s 7ms/step - loss: 39.9487 - root_mean_squared_error: 6.3205\n",
      "Epoch 150/200\n",
      "1110/1110 [==============================] - 8s 7ms/step - loss: 39.7817 - root_mean_squared_error: 6.3073\n",
      "Epoch 151/200\n",
      "1103/1110 [============================>.] - ETA: 0s - loss: 39.2509 - root_mean_squared_error: 6.2651"
     ]
    },
    {
     "name": "stderr",
     "output_type": "stream",
     "text": [
      "WARNING:absl:Found untraced functions such as gru_cell_layer_call_fn, gru_cell_layer_call_and_return_conditional_losses while saving (showing 2 of 2). These functions will not be directly callable after loading.\n"
     ]
    },
    {
     "name": "stdout",
     "output_type": "stream",
     "text": [
      "INFO:tensorflow:Assets written to: best_model\\assets\n"
     ]
    },
    {
     "name": "stderr",
     "output_type": "stream",
     "text": [
      "INFO:tensorflow:Assets written to: best_model\\assets\n",
      "WARNING:absl:<keras.layers.recurrent.GRUCell object at 0x0000022BCE4C1748> has the same name 'GRUCell' as a built-in Keras object. Consider renaming <class 'keras.layers.recurrent.GRUCell'> to avoid naming conflicts when loading with `tf.keras.models.load_model`. If renaming is not possible, pass the object in the `custom_objects` parameter of the load function.\n",
      "WARNING:absl:<keras.layers.recurrent.GRUCell object at 0x0000022BCE54D988> has the same name 'GRUCell' as a built-in Keras object. Consider renaming <class 'keras.layers.recurrent.GRUCell'> to avoid naming conflicts when loading with `tf.keras.models.load_model`. If renaming is not possible, pass the object in the `custom_objects` parameter of the load function.\n"
     ]
    },
    {
     "name": "stdout",
     "output_type": "stream",
     "text": [
      "1110/1110 [==============================] - 12s 11ms/step - loss: 39.1583 - root_mean_squared_error: 6.2577\n",
      "Epoch 152/200\n",
      "1110/1110 [==============================] - 8s 7ms/step - loss: 39.6486 - root_mean_squared_error: 6.2967\n",
      "Epoch 153/200\n",
      "1109/1110 [============================>.] - ETA: 0s - loss: 38.7527 - root_mean_squared_error: 6.2252"
     ]
    },
    {
     "name": "stderr",
     "output_type": "stream",
     "text": [
      "WARNING:absl:Found untraced functions such as gru_cell_layer_call_fn, gru_cell_layer_call_and_return_conditional_losses while saving (showing 2 of 2). These functions will not be directly callable after loading.\n"
     ]
    },
    {
     "name": "stdout",
     "output_type": "stream",
     "text": [
      "INFO:tensorflow:Assets written to: best_model\\assets\n"
     ]
    },
    {
     "name": "stderr",
     "output_type": "stream",
     "text": [
      "INFO:tensorflow:Assets written to: best_model\\assets\n",
      "WARNING:absl:<keras.layers.recurrent.GRUCell object at 0x0000022BCE4C1748> has the same name 'GRUCell' as a built-in Keras object. Consider renaming <class 'keras.layers.recurrent.GRUCell'> to avoid naming conflicts when loading with `tf.keras.models.load_model`. If renaming is not possible, pass the object in the `custom_objects` parameter of the load function.\n",
      "WARNING:absl:<keras.layers.recurrent.GRUCell object at 0x0000022BCE54D988> has the same name 'GRUCell' as a built-in Keras object. Consider renaming <class 'keras.layers.recurrent.GRUCell'> to avoid naming conflicts when loading with `tf.keras.models.load_model`. If renaming is not possible, pass the object in the `custom_objects` parameter of the load function.\n"
     ]
    },
    {
     "name": "stdout",
     "output_type": "stream",
     "text": [
      "1110/1110 [==============================] - 12s 10ms/step - loss: 38.7992 - root_mean_squared_error: 6.2289\n",
      "Epoch 154/200\n",
      "1110/1110 [==============================] - 8s 7ms/step - loss: 39.4794 - root_mean_squared_error: 6.2833\n",
      "Epoch 155/200\n",
      "1107/1110 [============================>.] - ETA: 0s - loss: 38.5642 - root_mean_squared_error: 6.2100"
     ]
    },
    {
     "name": "stderr",
     "output_type": "stream",
     "text": [
      "WARNING:absl:Found untraced functions such as gru_cell_layer_call_fn, gru_cell_layer_call_and_return_conditional_losses while saving (showing 2 of 2). These functions will not be directly callable after loading.\n"
     ]
    },
    {
     "name": "stdout",
     "output_type": "stream",
     "text": [
      "INFO:tensorflow:Assets written to: best_model\\assets\n"
     ]
    },
    {
     "name": "stderr",
     "output_type": "stream",
     "text": [
      "INFO:tensorflow:Assets written to: best_model\\assets\n",
      "WARNING:absl:<keras.layers.recurrent.GRUCell object at 0x0000022BCE4C1748> has the same name 'GRUCell' as a built-in Keras object. Consider renaming <class 'keras.layers.recurrent.GRUCell'> to avoid naming conflicts when loading with `tf.keras.models.load_model`. If renaming is not possible, pass the object in the `custom_objects` parameter of the load function.\n",
      "WARNING:absl:<keras.layers.recurrent.GRUCell object at 0x0000022BCE54D988> has the same name 'GRUCell' as a built-in Keras object. Consider renaming <class 'keras.layers.recurrent.GRUCell'> to avoid naming conflicts when loading with `tf.keras.models.load_model`. If renaming is not possible, pass the object in the `custom_objects` parameter of the load function.\n"
     ]
    },
    {
     "name": "stdout",
     "output_type": "stream",
     "text": [
      "1110/1110 [==============================] - 12s 11ms/step - loss: 38.5380 - root_mean_squared_error: 6.2079\n",
      "Epoch 156/200\n",
      "1110/1110 [==============================] - 8s 7ms/step - loss: 39.2914 - root_mean_squared_error: 6.2683\n",
      "Epoch 157/200\n",
      "1110/1110 [==============================] - 8s 7ms/step - loss: 38.5977 - root_mean_squared_error: 6.2127\n",
      "Epoch 158/200\n",
      "1103/1110 [============================>.] - ETA: 0s - loss: 38.4286 - root_mean_squared_error: 6.1991"
     ]
    },
    {
     "name": "stderr",
     "output_type": "stream",
     "text": [
      "WARNING:absl:Found untraced functions such as gru_cell_layer_call_fn, gru_cell_layer_call_and_return_conditional_losses while saving (showing 2 of 2). These functions will not be directly callable after loading.\n"
     ]
    },
    {
     "name": "stdout",
     "output_type": "stream",
     "text": [
      "INFO:tensorflow:Assets written to: best_model\\assets\n"
     ]
    },
    {
     "name": "stderr",
     "output_type": "stream",
     "text": [
      "INFO:tensorflow:Assets written to: best_model\\assets\n",
      "WARNING:absl:<keras.layers.recurrent.GRUCell object at 0x0000022BCE4C1748> has the same name 'GRUCell' as a built-in Keras object. Consider renaming <class 'keras.layers.recurrent.GRUCell'> to avoid naming conflicts when loading with `tf.keras.models.load_model`. If renaming is not possible, pass the object in the `custom_objects` parameter of the load function.\n",
      "WARNING:absl:<keras.layers.recurrent.GRUCell object at 0x0000022BCE54D988> has the same name 'GRUCell' as a built-in Keras object. Consider renaming <class 'keras.layers.recurrent.GRUCell'> to avoid naming conflicts when loading with `tf.keras.models.load_model`. If renaming is not possible, pass the object in the `custom_objects` parameter of the load function.\n"
     ]
    },
    {
     "name": "stdout",
     "output_type": "stream",
     "text": [
      "1110/1110 [==============================] - 12s 10ms/step - loss: 38.3093 - root_mean_squared_error: 6.1895\n",
      "Epoch 159/200\n",
      "1110/1110 [==============================] - 8s 8ms/step - loss: 38.3593 - root_mean_squared_error: 6.1935\n",
      "Epoch 160/200\n",
      "1110/1110 [==============================] - 8s 8ms/step - loss: 38.6931 - root_mean_squared_error: 6.2204\n",
      "Epoch 161/200\n",
      "1110/1110 [==============================] - ETA: 0s - loss: 37.9380 - root_mean_squared_error: 6.1594"
     ]
    },
    {
     "name": "stderr",
     "output_type": "stream",
     "text": [
      "WARNING:absl:Found untraced functions such as gru_cell_layer_call_fn, gru_cell_layer_call_and_return_conditional_losses while saving (showing 2 of 2). These functions will not be directly callable after loading.\n"
     ]
    },
    {
     "name": "stdout",
     "output_type": "stream",
     "text": [
      "INFO:tensorflow:Assets written to: best_model\\assets\n"
     ]
    },
    {
     "name": "stderr",
     "output_type": "stream",
     "text": [
      "INFO:tensorflow:Assets written to: best_model\\assets\n",
      "WARNING:absl:<keras.layers.recurrent.GRUCell object at 0x0000022BCE4C1748> has the same name 'GRUCell' as a built-in Keras object. Consider renaming <class 'keras.layers.recurrent.GRUCell'> to avoid naming conflicts when loading with `tf.keras.models.load_model`. If renaming is not possible, pass the object in the `custom_objects` parameter of the load function.\n",
      "WARNING:absl:<keras.layers.recurrent.GRUCell object at 0x0000022BCE54D988> has the same name 'GRUCell' as a built-in Keras object. Consider renaming <class 'keras.layers.recurrent.GRUCell'> to avoid naming conflicts when loading with `tf.keras.models.load_model`. If renaming is not possible, pass the object in the `custom_objects` parameter of the load function.\n"
     ]
    },
    {
     "name": "stdout",
     "output_type": "stream",
     "text": [
      "1110/1110 [==============================] - 12s 11ms/step - loss: 37.9380 - root_mean_squared_error: 6.1594\n",
      "Epoch 162/200\n",
      "1110/1110 [==============================] - 9s 8ms/step - loss: 38.1929 - root_mean_squared_error: 6.1800\n",
      "Epoch 163/200\n",
      "1110/1110 [==============================] - 9s 8ms/step - loss: 38.1050 - root_mean_squared_error: 6.1729\n",
      "Epoch 164/200\n",
      "1108/1110 [============================>.] - ETA: 0s - loss: 37.5193 - root_mean_squared_error: 6.1253"
     ]
    },
    {
     "name": "stderr",
     "output_type": "stream",
     "text": [
      "WARNING:absl:Found untraced functions such as gru_cell_layer_call_fn, gru_cell_layer_call_and_return_conditional_losses while saving (showing 2 of 2). These functions will not be directly callable after loading.\n"
     ]
    },
    {
     "name": "stdout",
     "output_type": "stream",
     "text": [
      "INFO:tensorflow:Assets written to: best_model\\assets\n"
     ]
    },
    {
     "name": "stderr",
     "output_type": "stream",
     "text": [
      "INFO:tensorflow:Assets written to: best_model\\assets\n",
      "WARNING:absl:<keras.layers.recurrent.GRUCell object at 0x0000022BCE4C1748> has the same name 'GRUCell' as a built-in Keras object. Consider renaming <class 'keras.layers.recurrent.GRUCell'> to avoid naming conflicts when loading with `tf.keras.models.load_model`. If renaming is not possible, pass the object in the `custom_objects` parameter of the load function.\n",
      "WARNING:absl:<keras.layers.recurrent.GRUCell object at 0x0000022BCE54D988> has the same name 'GRUCell' as a built-in Keras object. Consider renaming <class 'keras.layers.recurrent.GRUCell'> to avoid naming conflicts when loading with `tf.keras.models.load_model`. If renaming is not possible, pass the object in the `custom_objects` parameter of the load function.\n"
     ]
    },
    {
     "name": "stdout",
     "output_type": "stream",
     "text": [
      "1110/1110 [==============================] - 12s 11ms/step - loss: 37.5978 - root_mean_squared_error: 6.1317\n",
      "Epoch 165/200\n",
      "1110/1110 [==============================] - 8s 7ms/step - loss: 38.4991 - root_mean_squared_error: 6.2048\n",
      "Epoch 166/200\n",
      "1110/1110 [==============================] - 9s 8ms/step - loss: 38.4758 - root_mean_squared_error: 6.2029\n",
      "Epoch 167/200\n",
      "1107/1110 [============================>.] - ETA: 0s - loss: 37.0329 - root_mean_squared_error: 6.0855"
     ]
    },
    {
     "name": "stderr",
     "output_type": "stream",
     "text": [
      "WARNING:absl:Found untraced functions such as gru_cell_layer_call_fn, gru_cell_layer_call_and_return_conditional_losses while saving (showing 2 of 2). These functions will not be directly callable after loading.\n"
     ]
    },
    {
     "name": "stdout",
     "output_type": "stream",
     "text": [
      "INFO:tensorflow:Assets written to: best_model\\assets\n"
     ]
    },
    {
     "name": "stderr",
     "output_type": "stream",
     "text": [
      "INFO:tensorflow:Assets written to: best_model\\assets\n",
      "WARNING:absl:<keras.layers.recurrent.GRUCell object at 0x0000022BCE4C1748> has the same name 'GRUCell' as a built-in Keras object. Consider renaming <class 'keras.layers.recurrent.GRUCell'> to avoid naming conflicts when loading with `tf.keras.models.load_model`. If renaming is not possible, pass the object in the `custom_objects` parameter of the load function.\n",
      "WARNING:absl:<keras.layers.recurrent.GRUCell object at 0x0000022BCE54D988> has the same name 'GRUCell' as a built-in Keras object. Consider renaming <class 'keras.layers.recurrent.GRUCell'> to avoid naming conflicts when loading with `tf.keras.models.load_model`. If renaming is not possible, pass the object in the `custom_objects` parameter of the load function.\n"
     ]
    },
    {
     "name": "stdout",
     "output_type": "stream",
     "text": [
      "1110/1110 [==============================] - 12s 11ms/step - loss: 37.0175 - root_mean_squared_error: 6.0842\n",
      "Epoch 168/200\n",
      "1110/1110 [==============================] - 8s 7ms/step - loss: 37.2215 - root_mean_squared_error: 6.1009\n",
      "Epoch 169/200\n",
      "1110/1110 [==============================] - 8s 7ms/step - loss: 37.4114 - root_mean_squared_error: 6.1165\n",
      "Epoch 170/200\n",
      "1110/1110 [==============================] - 8s 7ms/step - loss: 37.3740 - root_mean_squared_error: 6.1134\n",
      "Epoch 171/200\n",
      "1110/1110 [==============================] - 8s 7ms/step - loss: 37.3261 - root_mean_squared_error: 6.1095\n",
      "Epoch 172/200\n",
      "1108/1110 [============================>.] - ETA: 0s - loss: 37.0213 - root_mean_squared_error: 6.0845"
     ]
    },
    {
     "name": "stderr",
     "output_type": "stream",
     "text": [
      "WARNING:absl:Found untraced functions such as gru_cell_layer_call_fn, gru_cell_layer_call_and_return_conditional_losses while saving (showing 2 of 2). These functions will not be directly callable after loading.\n"
     ]
    },
    {
     "name": "stdout",
     "output_type": "stream",
     "text": [
      "INFO:tensorflow:Assets written to: best_model\\assets\n"
     ]
    },
    {
     "name": "stderr",
     "output_type": "stream",
     "text": [
      "INFO:tensorflow:Assets written to: best_model\\assets\n",
      "WARNING:absl:<keras.layers.recurrent.GRUCell object at 0x0000022BCE4C1748> has the same name 'GRUCell' as a built-in Keras object. Consider renaming <class 'keras.layers.recurrent.GRUCell'> to avoid naming conflicts when loading with `tf.keras.models.load_model`. If renaming is not possible, pass the object in the `custom_objects` parameter of the load function.\n",
      "WARNING:absl:<keras.layers.recurrent.GRUCell object at 0x0000022BCE54D988> has the same name 'GRUCell' as a built-in Keras object. Consider renaming <class 'keras.layers.recurrent.GRUCell'> to avoid naming conflicts when loading with `tf.keras.models.load_model`. If renaming is not possible, pass the object in the `custom_objects` parameter of the load function.\n"
     ]
    },
    {
     "name": "stdout",
     "output_type": "stream",
     "text": [
      "1110/1110 [==============================] - 12s 11ms/step - loss: 37.0001 - root_mean_squared_error: 6.0828\n",
      "Epoch 173/200\n",
      "1110/1110 [==============================] - 8s 7ms/step - loss: 37.0153 - root_mean_squared_error: 6.0840\n",
      "Epoch 174/200\n",
      "1106/1110 [============================>.] - ETA: 0s - loss: 36.6277 - root_mean_squared_error: 6.0521"
     ]
    },
    {
     "name": "stderr",
     "output_type": "stream",
     "text": [
      "WARNING:absl:Found untraced functions such as gru_cell_layer_call_fn, gru_cell_layer_call_and_return_conditional_losses while saving (showing 2 of 2). These functions will not be directly callable after loading.\n"
     ]
    },
    {
     "name": "stdout",
     "output_type": "stream",
     "text": [
      "INFO:tensorflow:Assets written to: best_model\\assets\n"
     ]
    },
    {
     "name": "stderr",
     "output_type": "stream",
     "text": [
      "INFO:tensorflow:Assets written to: best_model\\assets\n",
      "WARNING:absl:<keras.layers.recurrent.GRUCell object at 0x0000022BCE4C1748> has the same name 'GRUCell' as a built-in Keras object. Consider renaming <class 'keras.layers.recurrent.GRUCell'> to avoid naming conflicts when loading with `tf.keras.models.load_model`. If renaming is not possible, pass the object in the `custom_objects` parameter of the load function.\n",
      "WARNING:absl:<keras.layers.recurrent.GRUCell object at 0x0000022BCE54D988> has the same name 'GRUCell' as a built-in Keras object. Consider renaming <class 'keras.layers.recurrent.GRUCell'> to avoid naming conflicts when loading with `tf.keras.models.load_model`. If renaming is not possible, pass the object in the `custom_objects` parameter of the load function.\n"
     ]
    },
    {
     "name": "stdout",
     "output_type": "stream",
     "text": [
      "1110/1110 [==============================] - 12s 11ms/step - loss: 36.6250 - root_mean_squared_error: 6.0519\n",
      "Epoch 175/200\n",
      "1110/1110 [==============================] - 8s 7ms/step - loss: 36.9323 - root_mean_squared_error: 6.0772\n",
      "Epoch 176/200\n",
      "1110/1110 [==============================] - 8s 7ms/step - loss: 36.6430 - root_mean_squared_error: 6.0533\n",
      "Epoch 177/200\n",
      "1105/1110 [============================>.] - ETA: 0s - loss: 35.9262 - root_mean_squared_error: 5.9938"
     ]
    },
    {
     "name": "stderr",
     "output_type": "stream",
     "text": [
      "WARNING:absl:Found untraced functions such as gru_cell_layer_call_fn, gru_cell_layer_call_and_return_conditional_losses while saving (showing 2 of 2). These functions will not be directly callable after loading.\n"
     ]
    },
    {
     "name": "stdout",
     "output_type": "stream",
     "text": [
      "INFO:tensorflow:Assets written to: best_model\\assets\n"
     ]
    },
    {
     "name": "stderr",
     "output_type": "stream",
     "text": [
      "INFO:tensorflow:Assets written to: best_model\\assets\n",
      "WARNING:absl:<keras.layers.recurrent.GRUCell object at 0x0000022BCE4C1748> has the same name 'GRUCell' as a built-in Keras object. Consider renaming <class 'keras.layers.recurrent.GRUCell'> to avoid naming conflicts when loading with `tf.keras.models.load_model`. If renaming is not possible, pass the object in the `custom_objects` parameter of the load function.\n",
      "WARNING:absl:<keras.layers.recurrent.GRUCell object at 0x0000022BCE54D988> has the same name 'GRUCell' as a built-in Keras object. Consider renaming <class 'keras.layers.recurrent.GRUCell'> to avoid naming conflicts when loading with `tf.keras.models.load_model`. If renaming is not possible, pass the object in the `custom_objects` parameter of the load function.\n"
     ]
    },
    {
     "name": "stdout",
     "output_type": "stream",
     "text": [
      "1110/1110 [==============================] - 12s 11ms/step - loss: 35.9744 - root_mean_squared_error: 5.9979\n",
      "Epoch 178/200\n",
      "1107/1110 [============================>.] - ETA: 0s - loss: 35.7599 - root_mean_squared_error: 5.9800"
     ]
    },
    {
     "name": "stderr",
     "output_type": "stream",
     "text": [
      "WARNING:absl:Found untraced functions such as gru_cell_layer_call_fn, gru_cell_layer_call_and_return_conditional_losses while saving (showing 2 of 2). These functions will not be directly callable after loading.\n"
     ]
    },
    {
     "name": "stdout",
     "output_type": "stream",
     "text": [
      "INFO:tensorflow:Assets written to: best_model\\assets\n"
     ]
    },
    {
     "name": "stderr",
     "output_type": "stream",
     "text": [
      "INFO:tensorflow:Assets written to: best_model\\assets\n",
      "WARNING:absl:<keras.layers.recurrent.GRUCell object at 0x0000022BCE4C1748> has the same name 'GRUCell' as a built-in Keras object. Consider renaming <class 'keras.layers.recurrent.GRUCell'> to avoid naming conflicts when loading with `tf.keras.models.load_model`. If renaming is not possible, pass the object in the `custom_objects` parameter of the load function.\n",
      "WARNING:absl:<keras.layers.recurrent.GRUCell object at 0x0000022BCE54D988> has the same name 'GRUCell' as a built-in Keras object. Consider renaming <class 'keras.layers.recurrent.GRUCell'> to avoid naming conflicts when loading with `tf.keras.models.load_model`. If renaming is not possible, pass the object in the `custom_objects` parameter of the load function.\n"
     ]
    },
    {
     "name": "stdout",
     "output_type": "stream",
     "text": [
      "1110/1110 [==============================] - 12s 11ms/step - loss: 35.7283 - root_mean_squared_error: 5.9773\n",
      "Epoch 179/200\n",
      "1110/1110 [==============================] - 9s 8ms/step - loss: 36.1457 - root_mean_squared_error: 6.0121\n",
      "Epoch 180/200\n",
      "1105/1110 [============================>.] - ETA: 0s - loss: 35.7552 - root_mean_squared_error: 5.9796"
     ]
    },
    {
     "name": "stderr",
     "output_type": "stream",
     "text": [
      "WARNING:absl:Found untraced functions such as gru_cell_layer_call_fn, gru_cell_layer_call_and_return_conditional_losses while saving (showing 2 of 2). These functions will not be directly callable after loading.\n"
     ]
    },
    {
     "name": "stdout",
     "output_type": "stream",
     "text": [
      "INFO:tensorflow:Assets written to: best_model\\assets\n"
     ]
    },
    {
     "name": "stderr",
     "output_type": "stream",
     "text": [
      "INFO:tensorflow:Assets written to: best_model\\assets\n",
      "WARNING:absl:<keras.layers.recurrent.GRUCell object at 0x0000022BCE4C1748> has the same name 'GRUCell' as a built-in Keras object. Consider renaming <class 'keras.layers.recurrent.GRUCell'> to avoid naming conflicts when loading with `tf.keras.models.load_model`. If renaming is not possible, pass the object in the `custom_objects` parameter of the load function.\n",
      "WARNING:absl:<keras.layers.recurrent.GRUCell object at 0x0000022BCE54D988> has the same name 'GRUCell' as a built-in Keras object. Consider renaming <class 'keras.layers.recurrent.GRUCell'> to avoid naming conflicts when loading with `tf.keras.models.load_model`. If renaming is not possible, pass the object in the `custom_objects` parameter of the load function.\n"
     ]
    },
    {
     "name": "stdout",
     "output_type": "stream",
     "text": [
      "1110/1110 [==============================] - 12s 11ms/step - loss: 35.7094 - root_mean_squared_error: 5.9757\n",
      "Epoch 181/200\n",
      "1110/1110 [==============================] - 8s 7ms/step - loss: 36.1618 - root_mean_squared_error: 6.0135\n",
      "Epoch 182/200\n",
      "1110/1110 [==============================] - 8s 7ms/step - loss: 36.4790 - root_mean_squared_error: 6.0398\n",
      "Epoch 183/200\n",
      "1110/1110 [==============================] - 8s 7ms/step - loss: 35.8568 - root_mean_squared_error: 5.9881\n",
      "Epoch 184/200\n",
      "1110/1110 [==============================] - 8s 7ms/step - loss: 35.8898 - root_mean_squared_error: 5.9908\n",
      "Epoch 185/200\n",
      "1110/1110 [==============================] - 8s 7ms/step - loss: 35.9792 - root_mean_squared_error: 5.9983\n",
      "Epoch 186/200\n",
      "1110/1110 [==============================] - 8s 7ms/step - loss: 36.1258 - root_mean_squared_error: 6.0105\n",
      "Epoch 187/200\n",
      "1105/1110 [============================>.] - ETA: 0s - loss: 35.4155 - root_mean_squared_error: 5.9511"
     ]
    },
    {
     "name": "stderr",
     "output_type": "stream",
     "text": [
      "WARNING:absl:Found untraced functions such as gru_cell_layer_call_fn, gru_cell_layer_call_and_return_conditional_losses while saving (showing 2 of 2). These functions will not be directly callable after loading.\n"
     ]
    },
    {
     "name": "stdout",
     "output_type": "stream",
     "text": [
      "INFO:tensorflow:Assets written to: best_model\\assets\n"
     ]
    },
    {
     "name": "stderr",
     "output_type": "stream",
     "text": [
      "INFO:tensorflow:Assets written to: best_model\\assets\n",
      "WARNING:absl:<keras.layers.recurrent.GRUCell object at 0x0000022BCE4C1748> has the same name 'GRUCell' as a built-in Keras object. Consider renaming <class 'keras.layers.recurrent.GRUCell'> to avoid naming conflicts when loading with `tf.keras.models.load_model`. If renaming is not possible, pass the object in the `custom_objects` parameter of the load function.\n",
      "WARNING:absl:<keras.layers.recurrent.GRUCell object at 0x0000022BCE54D988> has the same name 'GRUCell' as a built-in Keras object. Consider renaming <class 'keras.layers.recurrent.GRUCell'> to avoid naming conflicts when loading with `tf.keras.models.load_model`. If renaming is not possible, pass the object in the `custom_objects` parameter of the load function.\n"
     ]
    },
    {
     "name": "stdout",
     "output_type": "stream",
     "text": [
      "1110/1110 [==============================] - 13s 12ms/step - loss: 35.3712 - root_mean_squared_error: 5.9474\n",
      "Epoch 188/200\n",
      "1110/1110 [==============================] - 9s 8ms/step - loss: 36.1807 - root_mean_squared_error: 6.0150\n",
      "Epoch 189/200\n",
      "1110/1110 [==============================] - ETA: 0s - loss: 35.0024 - root_mean_squared_error: 5.9163"
     ]
    },
    {
     "name": "stderr",
     "output_type": "stream",
     "text": [
      "WARNING:absl:Found untraced functions such as gru_cell_layer_call_fn, gru_cell_layer_call_and_return_conditional_losses while saving (showing 2 of 2). These functions will not be directly callable after loading.\n"
     ]
    },
    {
     "name": "stdout",
     "output_type": "stream",
     "text": [
      "INFO:tensorflow:Assets written to: best_model\\assets\n"
     ]
    },
    {
     "name": "stderr",
     "output_type": "stream",
     "text": [
      "INFO:tensorflow:Assets written to: best_model\\assets\n",
      "WARNING:absl:<keras.layers.recurrent.GRUCell object at 0x0000022BCE4C1748> has the same name 'GRUCell' as a built-in Keras object. Consider renaming <class 'keras.layers.recurrent.GRUCell'> to avoid naming conflicts when loading with `tf.keras.models.load_model`. If renaming is not possible, pass the object in the `custom_objects` parameter of the load function.\n",
      "WARNING:absl:<keras.layers.recurrent.GRUCell object at 0x0000022BCE54D988> has the same name 'GRUCell' as a built-in Keras object. Consider renaming <class 'keras.layers.recurrent.GRUCell'> to avoid naming conflicts when loading with `tf.keras.models.load_model`. If renaming is not possible, pass the object in the `custom_objects` parameter of the load function.\n"
     ]
    },
    {
     "name": "stdout",
     "output_type": "stream",
     "text": [
      "1110/1110 [==============================] - 12s 11ms/step - loss: 35.0024 - root_mean_squared_error: 5.9163\n",
      "Epoch 190/200\n",
      "1110/1110 [==============================] - 9s 8ms/step - loss: 35.2802 - root_mean_squared_error: 5.9397\n",
      "Epoch 191/200\n",
      "1108/1110 [============================>.] - ETA: 0s - loss: 34.7845 - root_mean_squared_error: 5.8978"
     ]
    },
    {
     "name": "stderr",
     "output_type": "stream",
     "text": [
      "WARNING:absl:Found untraced functions such as gru_cell_layer_call_fn, gru_cell_layer_call_and_return_conditional_losses while saving (showing 2 of 2). These functions will not be directly callable after loading.\n"
     ]
    },
    {
     "name": "stdout",
     "output_type": "stream",
     "text": [
      "INFO:tensorflow:Assets written to: best_model\\assets\n"
     ]
    },
    {
     "name": "stderr",
     "output_type": "stream",
     "text": [
      "INFO:tensorflow:Assets written to: best_model\\assets\n",
      "WARNING:absl:<keras.layers.recurrent.GRUCell object at 0x0000022BCE4C1748> has the same name 'GRUCell' as a built-in Keras object. Consider renaming <class 'keras.layers.recurrent.GRUCell'> to avoid naming conflicts when loading with `tf.keras.models.load_model`. If renaming is not possible, pass the object in the `custom_objects` parameter of the load function.\n",
      "WARNING:absl:<keras.layers.recurrent.GRUCell object at 0x0000022BCE54D988> has the same name 'GRUCell' as a built-in Keras object. Consider renaming <class 'keras.layers.recurrent.GRUCell'> to avoid naming conflicts when loading with `tf.keras.models.load_model`. If renaming is not possible, pass the object in the `custom_objects` parameter of the load function.\n"
     ]
    },
    {
     "name": "stdout",
     "output_type": "stream",
     "text": [
      "1110/1110 [==============================] - 12s 11ms/step - loss: 34.8339 - root_mean_squared_error: 5.9020\n",
      "Epoch 192/200\n",
      "1105/1110 [============================>.] - ETA: 0s - loss: 34.4107 - root_mean_squared_error: 5.8661"
     ]
    },
    {
     "name": "stderr",
     "output_type": "stream",
     "text": [
      "WARNING:absl:Found untraced functions such as gru_cell_layer_call_fn, gru_cell_layer_call_and_return_conditional_losses while saving (showing 2 of 2). These functions will not be directly callable after loading.\n"
     ]
    },
    {
     "name": "stdout",
     "output_type": "stream",
     "text": [
      "INFO:tensorflow:Assets written to: best_model\\assets\n"
     ]
    },
    {
     "name": "stderr",
     "output_type": "stream",
     "text": [
      "INFO:tensorflow:Assets written to: best_model\\assets\n",
      "WARNING:absl:<keras.layers.recurrent.GRUCell object at 0x0000022BCE4C1748> has the same name 'GRUCell' as a built-in Keras object. Consider renaming <class 'keras.layers.recurrent.GRUCell'> to avoid naming conflicts when loading with `tf.keras.models.load_model`. If renaming is not possible, pass the object in the `custom_objects` parameter of the load function.\n",
      "WARNING:absl:<keras.layers.recurrent.GRUCell object at 0x0000022BCE54D988> has the same name 'GRUCell' as a built-in Keras object. Consider renaming <class 'keras.layers.recurrent.GRUCell'> to avoid naming conflicts when loading with `tf.keras.models.load_model`. If renaming is not possible, pass the object in the `custom_objects` parameter of the load function.\n"
     ]
    },
    {
     "name": "stdout",
     "output_type": "stream",
     "text": [
      "1110/1110 [==============================] - 12s 11ms/step - loss: 34.4464 - root_mean_squared_error: 5.8691\n",
      "Epoch 193/200\n",
      "1110/1110 [==============================] - 9s 8ms/step - loss: 34.6477 - root_mean_squared_error: 5.8862\n",
      "Epoch 194/200\n",
      "1110/1110 [==============================] - 9s 8ms/step - loss: 34.8383 - root_mean_squared_error: 5.9024\n",
      "Epoch 195/200\n",
      "1110/1110 [==============================] - 8s 8ms/step - loss: 34.7584 - root_mean_squared_error: 5.8956\n",
      "Epoch 196/200\n",
      "1110/1110 [==============================] - 9s 8ms/step - loss: 34.5900 - root_mean_squared_error: 5.8813\n",
      "Epoch 197/200\n",
      "1110/1110 [==============================] - 9s 8ms/step - loss: 34.6675 - root_mean_squared_error: 5.8879\n",
      "Epoch 198/200\n",
      "1110/1110 [==============================] - 9s 8ms/step - loss: 34.9695 - root_mean_squared_error: 5.9135\n",
      "Epoch 199/200\n",
      "1110/1110 [==============================] - 9s 8ms/step - loss: 34.7239 - root_mean_squared_error: 5.8927\n",
      "Epoch 200/200\n",
      "1109/1110 [============================>.] - ETA: 0s - loss: 34.3664 - root_mean_squared_error: 5.8623"
     ]
    },
    {
     "name": "stderr",
     "output_type": "stream",
     "text": [
      "WARNING:absl:Found untraced functions such as gru_cell_layer_call_fn, gru_cell_layer_call_and_return_conditional_losses while saving (showing 2 of 2). These functions will not be directly callable after loading.\n"
     ]
    },
    {
     "name": "stdout",
     "output_type": "stream",
     "text": [
      "INFO:tensorflow:Assets written to: best_model\\assets\n"
     ]
    },
    {
     "name": "stderr",
     "output_type": "stream",
     "text": [
      "INFO:tensorflow:Assets written to: best_model\\assets\n",
      "WARNING:absl:<keras.layers.recurrent.GRUCell object at 0x0000022BCE4C1748> has the same name 'GRUCell' as a built-in Keras object. Consider renaming <class 'keras.layers.recurrent.GRUCell'> to avoid naming conflicts when loading with `tf.keras.models.load_model`. If renaming is not possible, pass the object in the `custom_objects` parameter of the load function.\n",
      "WARNING:absl:<keras.layers.recurrent.GRUCell object at 0x0000022BCE54D988> has the same name 'GRUCell' as a built-in Keras object. Consider renaming <class 'keras.layers.recurrent.GRUCell'> to avoid naming conflicts when loading with `tf.keras.models.load_model`. If renaming is not possible, pass the object in the `custom_objects` parameter of the load function.\n"
     ]
    },
    {
     "name": "stdout",
     "output_type": "stream",
     "text": [
      "1110/1110 [==============================] - 12s 11ms/step - loss: 34.3600 - root_mean_squared_error: 5.8617\n",
      "278/278 [==============================] - 1s 3ms/step - loss: 40.5369 - root_mean_squared_error: 6.3669\n",
      "Epoch 1/200\n",
      "1110/1110 [==============================] - 9s 8ms/step - loss: 36.2799 - root_mean_squared_error: 6.0233\n",
      "Epoch 2/200\n",
      "1110/1110 [==============================] - 8s 8ms/step - loss: 35.6029 - root_mean_squared_error: 5.9668\n",
      "Epoch 3/200\n",
      "1110/1110 [==============================] - 9s 8ms/step - loss: 36.4027 - root_mean_squared_error: 6.0335\n",
      "Epoch 4/200\n",
      "1110/1110 [==============================] - 9s 8ms/step - loss: 35.7999 - root_mean_squared_error: 5.9833\n",
      "Epoch 5/200\n",
      "1110/1110 [==============================] - 9s 8ms/step - loss: 35.6483 - root_mean_squared_error: 5.9706\n",
      "Epoch 6/200\n",
      "1110/1110 [==============================] - 9s 8ms/step - loss: 35.2570 - root_mean_squared_error: 5.9378\n",
      "Epoch 7/200\n",
      "1110/1110 [==============================] - 9s 8ms/step - loss: 35.1907 - root_mean_squared_error: 5.9322\n",
      "Epoch 8/200\n",
      "1110/1110 [==============================] - 9s 8ms/step - loss: 35.1702 - root_mean_squared_error: 5.9304\n",
      "Epoch 9/200\n",
      "1110/1110 [==============================] - 9s 8ms/step - loss: 35.3019 - root_mean_squared_error: 5.9415\n",
      "Epoch 10/200\n",
      "1110/1110 [==============================] - 9s 8ms/step - loss: 34.7104 - root_mean_squared_error: 5.8916\n",
      "Epoch 11/200\n",
      "1109/1110 [============================>.] - ETA: 0s - loss: 34.3449 - root_mean_squared_error: 5.8605"
     ]
    },
    {
     "name": "stderr",
     "output_type": "stream",
     "text": [
      "WARNING:absl:Found untraced functions such as gru_cell_layer_call_fn, gru_cell_layer_call_and_return_conditional_losses while saving (showing 2 of 2). These functions will not be directly callable after loading.\n"
     ]
    },
    {
     "name": "stdout",
     "output_type": "stream",
     "text": [
      "INFO:tensorflow:Assets written to: best_model\\assets\n"
     ]
    },
    {
     "name": "stderr",
     "output_type": "stream",
     "text": [
      "INFO:tensorflow:Assets written to: best_model\\assets\n",
      "WARNING:absl:<keras.layers.recurrent.GRUCell object at 0x0000022BCE4C1748> has the same name 'GRUCell' as a built-in Keras object. Consider renaming <class 'keras.layers.recurrent.GRUCell'> to avoid naming conflicts when loading with `tf.keras.models.load_model`. If renaming is not possible, pass the object in the `custom_objects` parameter of the load function.\n",
      "WARNING:absl:<keras.layers.recurrent.GRUCell object at 0x0000022BCE54D988> has the same name 'GRUCell' as a built-in Keras object. Consider renaming <class 'keras.layers.recurrent.GRUCell'> to avoid naming conflicts when loading with `tf.keras.models.load_model`. If renaming is not possible, pass the object in the `custom_objects` parameter of the load function.\n"
     ]
    },
    {
     "name": "stdout",
     "output_type": "stream",
     "text": [
      "1110/1110 [==============================] - 12s 11ms/step - loss: 34.3387 - root_mean_squared_error: 5.8599\n",
      "Epoch 12/200\n",
      "1110/1110 [==============================] - 9s 8ms/step - loss: 34.7121 - root_mean_squared_error: 5.8917\n",
      "Epoch 13/200\n",
      "1110/1110 [==============================] - 9s 8ms/step - loss: 34.4572 - root_mean_squared_error: 5.8700\n",
      "Epoch 14/200\n",
      "1107/1110 [============================>.] - ETA: 0s - loss: 34.2099 - root_mean_squared_error: 5.8489"
     ]
    },
    {
     "name": "stderr",
     "output_type": "stream",
     "text": [
      "WARNING:absl:Found untraced functions such as gru_cell_layer_call_fn, gru_cell_layer_call_and_return_conditional_losses while saving (showing 2 of 2). These functions will not be directly callable after loading.\n"
     ]
    },
    {
     "name": "stdout",
     "output_type": "stream",
     "text": [
      "INFO:tensorflow:Assets written to: best_model\\assets\n"
     ]
    },
    {
     "name": "stderr",
     "output_type": "stream",
     "text": [
      "INFO:tensorflow:Assets written to: best_model\\assets\n",
      "WARNING:absl:<keras.layers.recurrent.GRUCell object at 0x0000022BCE4C1748> has the same name 'GRUCell' as a built-in Keras object. Consider renaming <class 'keras.layers.recurrent.GRUCell'> to avoid naming conflicts when loading with `tf.keras.models.load_model`. If renaming is not possible, pass the object in the `custom_objects` parameter of the load function.\n",
      "WARNING:absl:<keras.layers.recurrent.GRUCell object at 0x0000022BCE54D988> has the same name 'GRUCell' as a built-in Keras object. Consider renaming <class 'keras.layers.recurrent.GRUCell'> to avoid naming conflicts when loading with `tf.keras.models.load_model`. If renaming is not possible, pass the object in the `custom_objects` parameter of the load function.\n"
     ]
    },
    {
     "name": "stdout",
     "output_type": "stream",
     "text": [
      "1110/1110 [==============================] - 13s 11ms/step - loss: 34.1888 - root_mean_squared_error: 5.8471\n",
      "Epoch 15/200\n",
      "1110/1110 [==============================] - 9s 8ms/step - loss: 34.2394 - root_mean_squared_error: 5.8514\n",
      "Epoch 16/200\n",
      "1105/1110 [============================>.] - ETA: 0s - loss: 33.9434 - root_mean_squared_error: 5.8261"
     ]
    },
    {
     "name": "stderr",
     "output_type": "stream",
     "text": [
      "WARNING:absl:Found untraced functions such as gru_cell_layer_call_fn, gru_cell_layer_call_and_return_conditional_losses while saving (showing 2 of 2). These functions will not be directly callable after loading.\n"
     ]
    },
    {
     "name": "stdout",
     "output_type": "stream",
     "text": [
      "INFO:tensorflow:Assets written to: best_model\\assets\n"
     ]
    },
    {
     "name": "stderr",
     "output_type": "stream",
     "text": [
      "INFO:tensorflow:Assets written to: best_model\\assets\n",
      "WARNING:absl:<keras.layers.recurrent.GRUCell object at 0x0000022BCE4C1748> has the same name 'GRUCell' as a built-in Keras object. Consider renaming <class 'keras.layers.recurrent.GRUCell'> to avoid naming conflicts when loading with `tf.keras.models.load_model`. If renaming is not possible, pass the object in the `custom_objects` parameter of the load function.\n",
      "WARNING:absl:<keras.layers.recurrent.GRUCell object at 0x0000022BCE54D988> has the same name 'GRUCell' as a built-in Keras object. Consider renaming <class 'keras.layers.recurrent.GRUCell'> to avoid naming conflicts when loading with `tf.keras.models.load_model`. If renaming is not possible, pass the object in the `custom_objects` parameter of the load function.\n"
     ]
    },
    {
     "name": "stdout",
     "output_type": "stream",
     "text": [
      "1110/1110 [==============================] - 14s 12ms/step - loss: 33.9237 - root_mean_squared_error: 5.8244\n",
      "Epoch 17/200\n",
      "1110/1110 [==============================] - 10s 9ms/step - loss: 33.9749 - root_mean_squared_error: 5.8288\n",
      "Epoch 18/200\n",
      "1106/1110 [============================>.] - ETA: 0s - loss: 33.3992 - root_mean_squared_error: 5.7792"
     ]
    },
    {
     "name": "stderr",
     "output_type": "stream",
     "text": [
      "WARNING:absl:Found untraced functions such as gru_cell_layer_call_fn, gru_cell_layer_call_and_return_conditional_losses while saving (showing 2 of 2). These functions will not be directly callable after loading.\n"
     ]
    },
    {
     "name": "stdout",
     "output_type": "stream",
     "text": [
      "INFO:tensorflow:Assets written to: best_model\\assets\n"
     ]
    },
    {
     "name": "stderr",
     "output_type": "stream",
     "text": [
      "INFO:tensorflow:Assets written to: best_model\\assets\n",
      "WARNING:absl:<keras.layers.recurrent.GRUCell object at 0x0000022BCE4C1748> has the same name 'GRUCell' as a built-in Keras object. Consider renaming <class 'keras.layers.recurrent.GRUCell'> to avoid naming conflicts when loading with `tf.keras.models.load_model`. If renaming is not possible, pass the object in the `custom_objects` parameter of the load function.\n",
      "WARNING:absl:<keras.layers.recurrent.GRUCell object at 0x0000022BCE54D988> has the same name 'GRUCell' as a built-in Keras object. Consider renaming <class 'keras.layers.recurrent.GRUCell'> to avoid naming conflicts when loading with `tf.keras.models.load_model`. If renaming is not possible, pass the object in the `custom_objects` parameter of the load function.\n"
     ]
    },
    {
     "name": "stdout",
     "output_type": "stream",
     "text": [
      "1110/1110 [==============================] - 13s 12ms/step - loss: 33.4046 - root_mean_squared_error: 5.7797\n",
      "Epoch 19/200\n",
      "1110/1110 [==============================] - 9s 8ms/step - loss: 33.6861 - root_mean_squared_error: 5.8040\n",
      "Epoch 20/200\n",
      "1110/1110 [==============================] - 9s 8ms/step - loss: 33.9576 - root_mean_squared_error: 5.8273\n",
      "Epoch 21/200\n",
      "1110/1110 [==============================] - 9s 8ms/step - loss: 33.6444 - root_mean_squared_error: 5.8004\n",
      "Epoch 22/200\n",
      "1107/1110 [============================>.] - ETA: 0s - loss: 33.2673 - root_mean_squared_error: 5.7678"
     ]
    },
    {
     "name": "stderr",
     "output_type": "stream",
     "text": [
      "WARNING:absl:Found untraced functions such as gru_cell_layer_call_fn, gru_cell_layer_call_and_return_conditional_losses while saving (showing 2 of 2). These functions will not be directly callable after loading.\n"
     ]
    },
    {
     "name": "stdout",
     "output_type": "stream",
     "text": [
      "INFO:tensorflow:Assets written to: best_model\\assets\n"
     ]
    },
    {
     "name": "stderr",
     "output_type": "stream",
     "text": [
      "INFO:tensorflow:Assets written to: best_model\\assets\n",
      "WARNING:absl:<keras.layers.recurrent.GRUCell object at 0x0000022BCE4C1748> has the same name 'GRUCell' as a built-in Keras object. Consider renaming <class 'keras.layers.recurrent.GRUCell'> to avoid naming conflicts when loading with `tf.keras.models.load_model`. If renaming is not possible, pass the object in the `custom_objects` parameter of the load function.\n",
      "WARNING:absl:<keras.layers.recurrent.GRUCell object at 0x0000022BCE54D988> has the same name 'GRUCell' as a built-in Keras object. Consider renaming <class 'keras.layers.recurrent.GRUCell'> to avoid naming conflicts when loading with `tf.keras.models.load_model`. If renaming is not possible, pass the object in the `custom_objects` parameter of the load function.\n"
     ]
    },
    {
     "name": "stdout",
     "output_type": "stream",
     "text": [
      "1110/1110 [==============================] - 13s 12ms/step - loss: 33.2335 - root_mean_squared_error: 5.7649\n",
      "Epoch 23/200\n",
      "1110/1110 [==============================] - 9s 8ms/step - loss: 33.9261 - root_mean_squared_error: 5.8246\n",
      "Epoch 24/200\n",
      "1108/1110 [============================>.] - ETA: 0s - loss: 32.7230 - root_mean_squared_error: 5.7204"
     ]
    },
    {
     "name": "stderr",
     "output_type": "stream",
     "text": [
      "WARNING:absl:Found untraced functions such as gru_cell_layer_call_fn, gru_cell_layer_call_and_return_conditional_losses while saving (showing 2 of 2). These functions will not be directly callable after loading.\n"
     ]
    },
    {
     "name": "stdout",
     "output_type": "stream",
     "text": [
      "INFO:tensorflow:Assets written to: best_model\\assets\n"
     ]
    },
    {
     "name": "stderr",
     "output_type": "stream",
     "text": [
      "INFO:tensorflow:Assets written to: best_model\\assets\n",
      "WARNING:absl:<keras.layers.recurrent.GRUCell object at 0x0000022BCE4C1748> has the same name 'GRUCell' as a built-in Keras object. Consider renaming <class 'keras.layers.recurrent.GRUCell'> to avoid naming conflicts when loading with `tf.keras.models.load_model`. If renaming is not possible, pass the object in the `custom_objects` parameter of the load function.\n",
      "WARNING:absl:<keras.layers.recurrent.GRUCell object at 0x0000022BCE54D988> has the same name 'GRUCell' as a built-in Keras object. Consider renaming <class 'keras.layers.recurrent.GRUCell'> to avoid naming conflicts when loading with `tf.keras.models.load_model`. If renaming is not possible, pass the object in the `custom_objects` parameter of the load function.\n"
     ]
    },
    {
     "name": "stdout",
     "output_type": "stream",
     "text": [
      "1110/1110 [==============================] - 13s 12ms/step - loss: 32.7277 - root_mean_squared_error: 5.7208\n",
      "Epoch 25/200\n",
      "1103/1110 [============================>.] - ETA: 0s - loss: 32.5882 - root_mean_squared_error: 5.7086"
     ]
    },
    {
     "name": "stderr",
     "output_type": "stream",
     "text": [
      "WARNING:absl:Found untraced functions such as gru_cell_layer_call_fn, gru_cell_layer_call_and_return_conditional_losses while saving (showing 2 of 2). These functions will not be directly callable after loading.\n"
     ]
    },
    {
     "name": "stdout",
     "output_type": "stream",
     "text": [
      "INFO:tensorflow:Assets written to: best_model\\assets\n"
     ]
    },
    {
     "name": "stderr",
     "output_type": "stream",
     "text": [
      "INFO:tensorflow:Assets written to: best_model\\assets\n",
      "WARNING:absl:<keras.layers.recurrent.GRUCell object at 0x0000022BCE4C1748> has the same name 'GRUCell' as a built-in Keras object. Consider renaming <class 'keras.layers.recurrent.GRUCell'> to avoid naming conflicts when loading with `tf.keras.models.load_model`. If renaming is not possible, pass the object in the `custom_objects` parameter of the load function.\n",
      "WARNING:absl:<keras.layers.recurrent.GRUCell object at 0x0000022BCE54D988> has the same name 'GRUCell' as a built-in Keras object. Consider renaming <class 'keras.layers.recurrent.GRUCell'> to avoid naming conflicts when loading with `tf.keras.models.load_model`. If renaming is not possible, pass the object in the `custom_objects` parameter of the load function.\n"
     ]
    },
    {
     "name": "stdout",
     "output_type": "stream",
     "text": [
      "1110/1110 [==============================] - 13s 11ms/step - loss: 32.5161 - root_mean_squared_error: 5.7023\n",
      "Epoch 26/200\n",
      "1110/1110 [==============================] - 9s 8ms/step - loss: 32.5320 - root_mean_squared_error: 5.7037\n",
      "Epoch 27/200\n",
      "1110/1110 [==============================] - 9s 8ms/step - loss: 32.8887 - root_mean_squared_error: 5.7349\n",
      "Epoch 28/200\n",
      "1110/1110 [==============================] - 10s 9ms/step - loss: 32.7442 - root_mean_squared_error: 5.7223\n",
      "Epoch 29/200\n",
      "1110/1110 [==============================] - ETA: 0s - loss: 32.1987 - root_mean_squared_error: 5.6744"
     ]
    },
    {
     "name": "stderr",
     "output_type": "stream",
     "text": [
      "WARNING:absl:Found untraced functions such as gru_cell_layer_call_fn, gru_cell_layer_call_and_return_conditional_losses while saving (showing 2 of 2). These functions will not be directly callable after loading.\n"
     ]
    },
    {
     "name": "stdout",
     "output_type": "stream",
     "text": [
      "INFO:tensorflow:Assets written to: best_model\\assets\n"
     ]
    },
    {
     "name": "stderr",
     "output_type": "stream",
     "text": [
      "INFO:tensorflow:Assets written to: best_model\\assets\n",
      "WARNING:absl:<keras.layers.recurrent.GRUCell object at 0x0000022BCE4C1748> has the same name 'GRUCell' as a built-in Keras object. Consider renaming <class 'keras.layers.recurrent.GRUCell'> to avoid naming conflicts when loading with `tf.keras.models.load_model`. If renaming is not possible, pass the object in the `custom_objects` parameter of the load function.\n",
      "WARNING:absl:<keras.layers.recurrent.GRUCell object at 0x0000022BCE54D988> has the same name 'GRUCell' as a built-in Keras object. Consider renaming <class 'keras.layers.recurrent.GRUCell'> to avoid naming conflicts when loading with `tf.keras.models.load_model`. If renaming is not possible, pass the object in the `custom_objects` parameter of the load function.\n"
     ]
    },
    {
     "name": "stdout",
     "output_type": "stream",
     "text": [
      "1110/1110 [==============================] - 14s 12ms/step - loss: 32.1987 - root_mean_squared_error: 5.6744\n",
      "Epoch 30/200\n",
      "1110/1110 [==============================] - 9s 8ms/step - loss: 32.3663 - root_mean_squared_error: 5.6891\n",
      "Epoch 31/200\n",
      "1110/1110 [==============================] - 9s 8ms/step - loss: 32.2178 - root_mean_squared_error: 5.6761\n",
      "Epoch 32/200\n",
      "1110/1110 [==============================] - 9s 8ms/step - loss: 32.7466 - root_mean_squared_error: 5.7225\n",
      "Epoch 33/200\n",
      "1110/1110 [==============================] - 10s 9ms/step - loss: 32.5472 - root_mean_squared_error: 5.7050\n",
      "Epoch 34/200\n",
      "1109/1110 [============================>.] - ETA: 0s - loss: 32.0807 - root_mean_squared_error: 5.6640"
     ]
    },
    {
     "name": "stderr",
     "output_type": "stream",
     "text": [
      "WARNING:absl:Found untraced functions such as gru_cell_layer_call_fn, gru_cell_layer_call_and_return_conditional_losses while saving (showing 2 of 2). These functions will not be directly callable after loading.\n"
     ]
    },
    {
     "name": "stdout",
     "output_type": "stream",
     "text": [
      "INFO:tensorflow:Assets written to: best_model\\assets\n"
     ]
    },
    {
     "name": "stderr",
     "output_type": "stream",
     "text": [
      "INFO:tensorflow:Assets written to: best_model\\assets\n",
      "WARNING:absl:<keras.layers.recurrent.GRUCell object at 0x0000022BCE4C1748> has the same name 'GRUCell' as a built-in Keras object. Consider renaming <class 'keras.layers.recurrent.GRUCell'> to avoid naming conflicts when loading with `tf.keras.models.load_model`. If renaming is not possible, pass the object in the `custom_objects` parameter of the load function.\n",
      "WARNING:absl:<keras.layers.recurrent.GRUCell object at 0x0000022BCE54D988> has the same name 'GRUCell' as a built-in Keras object. Consider renaming <class 'keras.layers.recurrent.GRUCell'> to avoid naming conflicts when loading with `tf.keras.models.load_model`. If renaming is not possible, pass the object in the `custom_objects` parameter of the load function.\n"
     ]
    },
    {
     "name": "stdout",
     "output_type": "stream",
     "text": [
      "1110/1110 [==============================] - 13s 12ms/step - loss: 32.0786 - root_mean_squared_error: 5.6638\n",
      "Epoch 35/200\n",
      "1110/1110 [==============================] - 9s 8ms/step - loss: 32.1529 - root_mean_squared_error: 5.6703\n",
      "Epoch 36/200\n",
      "1109/1110 [============================>.] - ETA: 0s - loss: 31.5922 - root_mean_squared_error: 5.6207"
     ]
    },
    {
     "name": "stderr",
     "output_type": "stream",
     "text": [
      "WARNING:absl:Found untraced functions such as gru_cell_layer_call_fn, gru_cell_layer_call_and_return_conditional_losses while saving (showing 2 of 2). These functions will not be directly callable after loading.\n"
     ]
    },
    {
     "name": "stdout",
     "output_type": "stream",
     "text": [
      "INFO:tensorflow:Assets written to: best_model\\assets\n"
     ]
    },
    {
     "name": "stderr",
     "output_type": "stream",
     "text": [
      "INFO:tensorflow:Assets written to: best_model\\assets\n",
      "WARNING:absl:<keras.layers.recurrent.GRUCell object at 0x0000022BCE4C1748> has the same name 'GRUCell' as a built-in Keras object. Consider renaming <class 'keras.layers.recurrent.GRUCell'> to avoid naming conflicts when loading with `tf.keras.models.load_model`. If renaming is not possible, pass the object in the `custom_objects` parameter of the load function.\n",
      "WARNING:absl:<keras.layers.recurrent.GRUCell object at 0x0000022BCE54D988> has the same name 'GRUCell' as a built-in Keras object. Consider renaming <class 'keras.layers.recurrent.GRUCell'> to avoid naming conflicts when loading with `tf.keras.models.load_model`. If renaming is not possible, pass the object in the `custom_objects` parameter of the load function.\n"
     ]
    },
    {
     "name": "stdout",
     "output_type": "stream",
     "text": [
      "1110/1110 [==============================] - 13s 12ms/step - loss: 31.5936 - root_mean_squared_error: 5.6208\n",
      "Epoch 37/200\n",
      "1106/1110 [============================>.] - ETA: 0s - loss: 31.5287 - root_mean_squared_error: 5.6150"
     ]
    },
    {
     "name": "stderr",
     "output_type": "stream",
     "text": [
      "WARNING:absl:Found untraced functions such as gru_cell_layer_call_fn, gru_cell_layer_call_and_return_conditional_losses while saving (showing 2 of 2). These functions will not be directly callable after loading.\n"
     ]
    },
    {
     "name": "stdout",
     "output_type": "stream",
     "text": [
      "INFO:tensorflow:Assets written to: best_model\\assets\n"
     ]
    },
    {
     "name": "stderr",
     "output_type": "stream",
     "text": [
      "INFO:tensorflow:Assets written to: best_model\\assets\n",
      "WARNING:absl:<keras.layers.recurrent.GRUCell object at 0x0000022BCE4C1748> has the same name 'GRUCell' as a built-in Keras object. Consider renaming <class 'keras.layers.recurrent.GRUCell'> to avoid naming conflicts when loading with `tf.keras.models.load_model`. If renaming is not possible, pass the object in the `custom_objects` parameter of the load function.\n",
      "WARNING:absl:<keras.layers.recurrent.GRUCell object at 0x0000022BCE54D988> has the same name 'GRUCell' as a built-in Keras object. Consider renaming <class 'keras.layers.recurrent.GRUCell'> to avoid naming conflicts when loading with `tf.keras.models.load_model`. If renaming is not possible, pass the object in the `custom_objects` parameter of the load function.\n"
     ]
    },
    {
     "name": "stdout",
     "output_type": "stream",
     "text": [
      "1110/1110 [==============================] - 13s 12ms/step - loss: 31.4980 - root_mean_squared_error: 5.6123\n",
      "Epoch 38/200\n",
      "1110/1110 [==============================] - 10s 9ms/step - loss: 31.8448 - root_mean_squared_error: 5.6431\n",
      "Epoch 39/200\n",
      "1110/1110 [==============================] - 10s 9ms/step - loss: 31.5177 - root_mean_squared_error: 5.6141\n",
      "Epoch 40/200\n",
      "1109/1110 [============================>.] - ETA: 0s - loss: 31.4122 - root_mean_squared_error: 5.6047"
     ]
    },
    {
     "name": "stderr",
     "output_type": "stream",
     "text": [
      "WARNING:absl:Found untraced functions such as gru_cell_layer_call_fn, gru_cell_layer_call_and_return_conditional_losses while saving (showing 2 of 2). These functions will not be directly callable after loading.\n"
     ]
    },
    {
     "name": "stdout",
     "output_type": "stream",
     "text": [
      "INFO:tensorflow:Assets written to: best_model\\assets\n"
     ]
    },
    {
     "name": "stderr",
     "output_type": "stream",
     "text": [
      "INFO:tensorflow:Assets written to: best_model\\assets\n",
      "WARNING:absl:<keras.layers.recurrent.GRUCell object at 0x0000022BCE4C1748> has the same name 'GRUCell' as a built-in Keras object. Consider renaming <class 'keras.layers.recurrent.GRUCell'> to avoid naming conflicts when loading with `tf.keras.models.load_model`. If renaming is not possible, pass the object in the `custom_objects` parameter of the load function.\n",
      "WARNING:absl:<keras.layers.recurrent.GRUCell object at 0x0000022BCE54D988> has the same name 'GRUCell' as a built-in Keras object. Consider renaming <class 'keras.layers.recurrent.GRUCell'> to avoid naming conflicts when loading with `tf.keras.models.load_model`. If renaming is not possible, pass the object in the `custom_objects` parameter of the load function.\n"
     ]
    },
    {
     "name": "stdout",
     "output_type": "stream",
     "text": [
      "1110/1110 [==============================] - 14s 13ms/step - loss: 31.4740 - root_mean_squared_error: 5.6102\n",
      "Epoch 41/200\n",
      "1107/1110 [============================>.] - ETA: 0s - loss: 31.2320 - root_mean_squared_error: 5.5886"
     ]
    },
    {
     "name": "stderr",
     "output_type": "stream",
     "text": [
      "WARNING:absl:Found untraced functions such as gru_cell_layer_call_fn, gru_cell_layer_call_and_return_conditional_losses while saving (showing 2 of 2). These functions will not be directly callable after loading.\n"
     ]
    },
    {
     "name": "stdout",
     "output_type": "stream",
     "text": [
      "INFO:tensorflow:Assets written to: best_model\\assets\n"
     ]
    },
    {
     "name": "stderr",
     "output_type": "stream",
     "text": [
      "INFO:tensorflow:Assets written to: best_model\\assets\n",
      "WARNING:absl:<keras.layers.recurrent.GRUCell object at 0x0000022BCE4C1748> has the same name 'GRUCell' as a built-in Keras object. Consider renaming <class 'keras.layers.recurrent.GRUCell'> to avoid naming conflicts when loading with `tf.keras.models.load_model`. If renaming is not possible, pass the object in the `custom_objects` parameter of the load function.\n",
      "WARNING:absl:<keras.layers.recurrent.GRUCell object at 0x0000022BCE54D988> has the same name 'GRUCell' as a built-in Keras object. Consider renaming <class 'keras.layers.recurrent.GRUCell'> to avoid naming conflicts when loading with `tf.keras.models.load_model`. If renaming is not possible, pass the object in the `custom_objects` parameter of the load function.\n"
     ]
    },
    {
     "name": "stdout",
     "output_type": "stream",
     "text": [
      "1110/1110 [==============================] - 14s 13ms/step - loss: 31.3210 - root_mean_squared_error: 5.5965\n",
      "Epoch 42/200\n",
      "1110/1110 [==============================] - 9s 8ms/step - loss: 31.4804 - root_mean_squared_error: 5.6107\n",
      "Epoch 43/200\n",
      "1109/1110 [============================>.] - ETA: 0s - loss: 30.7327 - root_mean_squared_error: 5.5437"
     ]
    },
    {
     "name": "stderr",
     "output_type": "stream",
     "text": [
      "WARNING:absl:Found untraced functions such as gru_cell_layer_call_fn, gru_cell_layer_call_and_return_conditional_losses while saving (showing 2 of 2). These functions will not be directly callable after loading.\n"
     ]
    },
    {
     "name": "stdout",
     "output_type": "stream",
     "text": [
      "INFO:tensorflow:Assets written to: best_model\\assets\n"
     ]
    },
    {
     "name": "stderr",
     "output_type": "stream",
     "text": [
      "INFO:tensorflow:Assets written to: best_model\\assets\n",
      "WARNING:absl:<keras.layers.recurrent.GRUCell object at 0x0000022BCE4C1748> has the same name 'GRUCell' as a built-in Keras object. Consider renaming <class 'keras.layers.recurrent.GRUCell'> to avoid naming conflicts when loading with `tf.keras.models.load_model`. If renaming is not possible, pass the object in the `custom_objects` parameter of the load function.\n",
      "WARNING:absl:<keras.layers.recurrent.GRUCell object at 0x0000022BCE54D988> has the same name 'GRUCell' as a built-in Keras object. Consider renaming <class 'keras.layers.recurrent.GRUCell'> to avoid naming conflicts when loading with `tf.keras.models.load_model`. If renaming is not possible, pass the object in the `custom_objects` parameter of the load function.\n"
     ]
    },
    {
     "name": "stdout",
     "output_type": "stream",
     "text": [
      "1110/1110 [==============================] - 13s 12ms/step - loss: 30.7266 - root_mean_squared_error: 5.5432\n",
      "Epoch 44/200\n",
      "1110/1110 [==============================] - 10s 9ms/step - loss: 30.7668 - root_mean_squared_error: 5.5468\n",
      "Epoch 45/200\n",
      "1110/1110 [==============================] - 10s 9ms/step - loss: 30.8604 - root_mean_squared_error: 5.5552\n",
      "Epoch 46/200\n",
      "1105/1110 [============================>.] - ETA: 0s - loss: 30.4959 - root_mean_squared_error: 5.5223"
     ]
    },
    {
     "name": "stderr",
     "output_type": "stream",
     "text": [
      "WARNING:absl:Found untraced functions such as gru_cell_layer_call_fn, gru_cell_layer_call_and_return_conditional_losses while saving (showing 2 of 2). These functions will not be directly callable after loading.\n"
     ]
    },
    {
     "name": "stdout",
     "output_type": "stream",
     "text": [
      "INFO:tensorflow:Assets written to: best_model\\assets\n"
     ]
    },
    {
     "name": "stderr",
     "output_type": "stream",
     "text": [
      "INFO:tensorflow:Assets written to: best_model\\assets\n",
      "WARNING:absl:<keras.layers.recurrent.GRUCell object at 0x0000022BCE4C1748> has the same name 'GRUCell' as a built-in Keras object. Consider renaming <class 'keras.layers.recurrent.GRUCell'> to avoid naming conflicts when loading with `tf.keras.models.load_model`. If renaming is not possible, pass the object in the `custom_objects` parameter of the load function.\n",
      "WARNING:absl:<keras.layers.recurrent.GRUCell object at 0x0000022BCE54D988> has the same name 'GRUCell' as a built-in Keras object. Consider renaming <class 'keras.layers.recurrent.GRUCell'> to avoid naming conflicts when loading with `tf.keras.models.load_model`. If renaming is not possible, pass the object in the `custom_objects` parameter of the load function.\n"
     ]
    },
    {
     "name": "stdout",
     "output_type": "stream",
     "text": [
      "1110/1110 [==============================] - 14s 12ms/step - loss: 30.5892 - root_mean_squared_error: 5.5308\n",
      "Epoch 47/200\n",
      "1110/1110 [==============================] - 10s 9ms/step - loss: 30.7533 - root_mean_squared_error: 5.5456\n",
      "Epoch 48/200\n",
      "1108/1110 [============================>.] - ETA: 0s - loss: 30.4612 - root_mean_squared_error: 5.5192"
     ]
    },
    {
     "name": "stderr",
     "output_type": "stream",
     "text": [
      "WARNING:absl:Found untraced functions such as gru_cell_layer_call_fn, gru_cell_layer_call_and_return_conditional_losses while saving (showing 2 of 2). These functions will not be directly callable after loading.\n"
     ]
    },
    {
     "name": "stdout",
     "output_type": "stream",
     "text": [
      "INFO:tensorflow:Assets written to: best_model\\assets\n"
     ]
    },
    {
     "name": "stderr",
     "output_type": "stream",
     "text": [
      "INFO:tensorflow:Assets written to: best_model\\assets\n",
      "WARNING:absl:<keras.layers.recurrent.GRUCell object at 0x0000022BCE4C1748> has the same name 'GRUCell' as a built-in Keras object. Consider renaming <class 'keras.layers.recurrent.GRUCell'> to avoid naming conflicts when loading with `tf.keras.models.load_model`. If renaming is not possible, pass the object in the `custom_objects` parameter of the load function.\n",
      "WARNING:absl:<keras.layers.recurrent.GRUCell object at 0x0000022BCE54D988> has the same name 'GRUCell' as a built-in Keras object. Consider renaming <class 'keras.layers.recurrent.GRUCell'> to avoid naming conflicts when loading with `tf.keras.models.load_model`. If renaming is not possible, pass the object in the `custom_objects` parameter of the load function.\n"
     ]
    },
    {
     "name": "stdout",
     "output_type": "stream",
     "text": [
      "1110/1110 [==============================] - 14s 12ms/step - loss: 30.4509 - root_mean_squared_error: 5.5182\n",
      "Epoch 49/200\n",
      "1110/1110 [==============================] - 9s 8ms/step - loss: 30.8966 - root_mean_squared_error: 5.5585\n",
      "Epoch 50/200\n",
      "1110/1110 [==============================] - 9s 8ms/step - loss: 30.5016 - root_mean_squared_error: 5.5228\n",
      "Epoch 51/200\n",
      "1107/1110 [============================>.] - ETA: 0s - loss: 30.1029 - root_mean_squared_error: 5.4866"
     ]
    },
    {
     "name": "stderr",
     "output_type": "stream",
     "text": [
      "WARNING:absl:Found untraced functions such as gru_cell_layer_call_fn, gru_cell_layer_call_and_return_conditional_losses while saving (showing 2 of 2). These functions will not be directly callable after loading.\n"
     ]
    },
    {
     "name": "stdout",
     "output_type": "stream",
     "text": [
      "INFO:tensorflow:Assets written to: best_model\\assets\n"
     ]
    },
    {
     "name": "stderr",
     "output_type": "stream",
     "text": [
      "INFO:tensorflow:Assets written to: best_model\\assets\n",
      "WARNING:absl:<keras.layers.recurrent.GRUCell object at 0x0000022BCE4C1748> has the same name 'GRUCell' as a built-in Keras object. Consider renaming <class 'keras.layers.recurrent.GRUCell'> to avoid naming conflicts when loading with `tf.keras.models.load_model`. If renaming is not possible, pass the object in the `custom_objects` parameter of the load function.\n",
      "WARNING:absl:<keras.layers.recurrent.GRUCell object at 0x0000022BCE54D988> has the same name 'GRUCell' as a built-in Keras object. Consider renaming <class 'keras.layers.recurrent.GRUCell'> to avoid naming conflicts when loading with `tf.keras.models.load_model`. If renaming is not possible, pass the object in the `custom_objects` parameter of the load function.\n"
     ]
    },
    {
     "name": "stdout",
     "output_type": "stream",
     "text": [
      "1110/1110 [==============================] - 13s 12ms/step - loss: 30.0762 - root_mean_squared_error: 5.4842\n",
      "Epoch 52/200\n",
      "1110/1110 [==============================] - 9s 8ms/step - loss: 30.1807 - root_mean_squared_error: 5.4937\n",
      "Epoch 53/200\n",
      "1110/1110 [==============================] - 9s 8ms/step - loss: 30.1642 - root_mean_squared_error: 5.4922\n",
      "Epoch 54/200\n",
      "1110/1110 [==============================] - 9s 8ms/step - loss: 30.1060 - root_mean_squared_error: 5.4869\n",
      "Epoch 55/200\n",
      "1110/1110 [==============================] - 9s 8ms/step - loss: 30.1291 - root_mean_squared_error: 5.4890\n",
      "Epoch 56/200\n",
      "1109/1110 [============================>.] - ETA: 0s - loss: 29.7471 - root_mean_squared_error: 5.4541"
     ]
    },
    {
     "name": "stderr",
     "output_type": "stream",
     "text": [
      "WARNING:absl:Found untraced functions such as gru_cell_layer_call_fn, gru_cell_layer_call_and_return_conditional_losses while saving (showing 2 of 2). These functions will not be directly callable after loading.\n"
     ]
    },
    {
     "name": "stdout",
     "output_type": "stream",
     "text": [
      "INFO:tensorflow:Assets written to: best_model\\assets\n"
     ]
    },
    {
     "name": "stderr",
     "output_type": "stream",
     "text": [
      "INFO:tensorflow:Assets written to: best_model\\assets\n",
      "WARNING:absl:<keras.layers.recurrent.GRUCell object at 0x0000022BCE4C1748> has the same name 'GRUCell' as a built-in Keras object. Consider renaming <class 'keras.layers.recurrent.GRUCell'> to avoid naming conflicts when loading with `tf.keras.models.load_model`. If renaming is not possible, pass the object in the `custom_objects` parameter of the load function.\n",
      "WARNING:absl:<keras.layers.recurrent.GRUCell object at 0x0000022BCE54D988> has the same name 'GRUCell' as a built-in Keras object. Consider renaming <class 'keras.layers.recurrent.GRUCell'> to avoid naming conflicts when loading with `tf.keras.models.load_model`. If renaming is not possible, pass the object in the `custom_objects` parameter of the load function.\n"
     ]
    },
    {
     "name": "stdout",
     "output_type": "stream",
     "text": [
      "1110/1110 [==============================] - 13s 12ms/step - loss: 29.7440 - root_mean_squared_error: 5.4538\n",
      "Epoch 57/200\n",
      "1110/1110 [==============================] - 9s 8ms/step - loss: 30.1796 - root_mean_squared_error: 5.4936\n",
      "Epoch 58/200\n",
      "1110/1110 [==============================] - 9s 8ms/step - loss: 30.2657 - root_mean_squared_error: 5.5014\n",
      "Epoch 59/200\n",
      "1105/1110 [============================>.] - ETA: 0s - loss: 29.6769 - root_mean_squared_error: 5.4477"
     ]
    },
    {
     "name": "stderr",
     "output_type": "stream",
     "text": [
      "WARNING:absl:Found untraced functions such as gru_cell_layer_call_fn, gru_cell_layer_call_and_return_conditional_losses while saving (showing 2 of 2). These functions will not be directly callable after loading.\n"
     ]
    },
    {
     "name": "stdout",
     "output_type": "stream",
     "text": [
      "INFO:tensorflow:Assets written to: best_model\\assets\n"
     ]
    },
    {
     "name": "stderr",
     "output_type": "stream",
     "text": [
      "INFO:tensorflow:Assets written to: best_model\\assets\n",
      "WARNING:absl:<keras.layers.recurrent.GRUCell object at 0x0000022BCE4C1748> has the same name 'GRUCell' as a built-in Keras object. Consider renaming <class 'keras.layers.recurrent.GRUCell'> to avoid naming conflicts when loading with `tf.keras.models.load_model`. If renaming is not possible, pass the object in the `custom_objects` parameter of the load function.\n",
      "WARNING:absl:<keras.layers.recurrent.GRUCell object at 0x0000022BCE54D988> has the same name 'GRUCell' as a built-in Keras object. Consider renaming <class 'keras.layers.recurrent.GRUCell'> to avoid naming conflicts when loading with `tf.keras.models.load_model`. If renaming is not possible, pass the object in the `custom_objects` parameter of the load function.\n"
     ]
    },
    {
     "name": "stdout",
     "output_type": "stream",
     "text": [
      "1110/1110 [==============================] - 14s 13ms/step - loss: 29.6856 - root_mean_squared_error: 5.4484\n",
      "Epoch 60/200\n",
      "1107/1110 [============================>.] - ETA: 0s - loss: 29.4943 - root_mean_squared_error: 5.4309"
     ]
    },
    {
     "name": "stderr",
     "output_type": "stream",
     "text": [
      "WARNING:absl:Found untraced functions such as gru_cell_layer_call_fn, gru_cell_layer_call_and_return_conditional_losses while saving (showing 2 of 2). These functions will not be directly callable after loading.\n"
     ]
    },
    {
     "name": "stdout",
     "output_type": "stream",
     "text": [
      "INFO:tensorflow:Assets written to: best_model\\assets\n"
     ]
    },
    {
     "name": "stderr",
     "output_type": "stream",
     "text": [
      "INFO:tensorflow:Assets written to: best_model\\assets\n",
      "WARNING:absl:<keras.layers.recurrent.GRUCell object at 0x0000022BCE4C1748> has the same name 'GRUCell' as a built-in Keras object. Consider renaming <class 'keras.layers.recurrent.GRUCell'> to avoid naming conflicts when loading with `tf.keras.models.load_model`. If renaming is not possible, pass the object in the `custom_objects` parameter of the load function.\n",
      "WARNING:absl:<keras.layers.recurrent.GRUCell object at 0x0000022BCE54D988> has the same name 'GRUCell' as a built-in Keras object. Consider renaming <class 'keras.layers.recurrent.GRUCell'> to avoid naming conflicts when loading with `tf.keras.models.load_model`. If renaming is not possible, pass the object in the `custom_objects` parameter of the load function.\n"
     ]
    },
    {
     "name": "stdout",
     "output_type": "stream",
     "text": [
      "1110/1110 [==============================] - 14s 13ms/step - loss: 29.5454 - root_mean_squared_error: 5.4356\n",
      "Epoch 61/200\n",
      "1108/1110 [============================>.] - ETA: 0s - loss: 29.3448 - root_mean_squared_error: 5.4171"
     ]
    },
    {
     "name": "stderr",
     "output_type": "stream",
     "text": [
      "WARNING:absl:Found untraced functions such as gru_cell_layer_call_fn, gru_cell_layer_call_and_return_conditional_losses while saving (showing 2 of 2). These functions will not be directly callable after loading.\n"
     ]
    },
    {
     "name": "stdout",
     "output_type": "stream",
     "text": [
      "INFO:tensorflow:Assets written to: best_model\\assets\n"
     ]
    },
    {
     "name": "stderr",
     "output_type": "stream",
     "text": [
      "INFO:tensorflow:Assets written to: best_model\\assets\n",
      "WARNING:absl:<keras.layers.recurrent.GRUCell object at 0x0000022BCE4C1748> has the same name 'GRUCell' as a built-in Keras object. Consider renaming <class 'keras.layers.recurrent.GRUCell'> to avoid naming conflicts when loading with `tf.keras.models.load_model`. If renaming is not possible, pass the object in the `custom_objects` parameter of the load function.\n",
      "WARNING:absl:<keras.layers.recurrent.GRUCell object at 0x0000022BCE54D988> has the same name 'GRUCell' as a built-in Keras object. Consider renaming <class 'keras.layers.recurrent.GRUCell'> to avoid naming conflicts when loading with `tf.keras.models.load_model`. If renaming is not possible, pass the object in the `custom_objects` parameter of the load function.\n"
     ]
    },
    {
     "name": "stdout",
     "output_type": "stream",
     "text": [
      "1110/1110 [==============================] - 13s 12ms/step - loss: 29.3246 - root_mean_squared_error: 5.4152\n",
      "Epoch 62/200\n",
      "1110/1110 [==============================] - 10s 9ms/step - loss: 29.4534 - root_mean_squared_error: 5.4271\n",
      "Epoch 63/200\n",
      "1107/1110 [============================>.] - ETA: 0s - loss: 29.2743 - root_mean_squared_error: 5.4106"
     ]
    },
    {
     "name": "stderr",
     "output_type": "stream",
     "text": [
      "WARNING:absl:Found untraced functions such as gru_cell_layer_call_fn, gru_cell_layer_call_and_return_conditional_losses while saving (showing 2 of 2). These functions will not be directly callable after loading.\n"
     ]
    },
    {
     "name": "stdout",
     "output_type": "stream",
     "text": [
      "INFO:tensorflow:Assets written to: best_model\\assets\n"
     ]
    },
    {
     "name": "stderr",
     "output_type": "stream",
     "text": [
      "INFO:tensorflow:Assets written to: best_model\\assets\n",
      "WARNING:absl:<keras.layers.recurrent.GRUCell object at 0x0000022BCE4C1748> has the same name 'GRUCell' as a built-in Keras object. Consider renaming <class 'keras.layers.recurrent.GRUCell'> to avoid naming conflicts when loading with `tf.keras.models.load_model`. If renaming is not possible, pass the object in the `custom_objects` parameter of the load function.\n",
      "WARNING:absl:<keras.layers.recurrent.GRUCell object at 0x0000022BCE54D988> has the same name 'GRUCell' as a built-in Keras object. Consider renaming <class 'keras.layers.recurrent.GRUCell'> to avoid naming conflicts when loading with `tf.keras.models.load_model`. If renaming is not possible, pass the object in the `custom_objects` parameter of the load function.\n"
     ]
    },
    {
     "name": "stdout",
     "output_type": "stream",
     "text": [
      "1110/1110 [==============================] - 14s 13ms/step - loss: 29.2550 - root_mean_squared_error: 5.4088\n",
      "Epoch 64/200\n",
      "1108/1110 [============================>.] - ETA: 0s - loss: 29.1278 - root_mean_squared_error: 5.3970"
     ]
    },
    {
     "name": "stderr",
     "output_type": "stream",
     "text": [
      "WARNING:absl:Found untraced functions such as gru_cell_layer_call_fn, gru_cell_layer_call_and_return_conditional_losses while saving (showing 2 of 2). These functions will not be directly callable after loading.\n"
     ]
    },
    {
     "name": "stdout",
     "output_type": "stream",
     "text": [
      "INFO:tensorflow:Assets written to: best_model\\assets\n"
     ]
    },
    {
     "name": "stderr",
     "output_type": "stream",
     "text": [
      "INFO:tensorflow:Assets written to: best_model\\assets\n",
      "WARNING:absl:<keras.layers.recurrent.GRUCell object at 0x0000022BCE4C1748> has the same name 'GRUCell' as a built-in Keras object. Consider renaming <class 'keras.layers.recurrent.GRUCell'> to avoid naming conflicts when loading with `tf.keras.models.load_model`. If renaming is not possible, pass the object in the `custom_objects` parameter of the load function.\n",
      "WARNING:absl:<keras.layers.recurrent.GRUCell object at 0x0000022BCE54D988> has the same name 'GRUCell' as a built-in Keras object. Consider renaming <class 'keras.layers.recurrent.GRUCell'> to avoid naming conflicts when loading with `tf.keras.models.load_model`. If renaming is not possible, pass the object in the `custom_objects` parameter of the load function.\n"
     ]
    },
    {
     "name": "stdout",
     "output_type": "stream",
     "text": [
      "1110/1110 [==============================] - 13s 12ms/step - loss: 29.2216 - root_mean_squared_error: 5.4057\n",
      "Epoch 65/200\n",
      "1110/1110 [==============================] - 9s 8ms/step - loss: 29.4517 - root_mean_squared_error: 5.4269\n",
      "Epoch 66/200\n",
      "1107/1110 [============================>.] - ETA: 0s - loss: 29.0567 - root_mean_squared_error: 5.3904"
     ]
    },
    {
     "name": "stderr",
     "output_type": "stream",
     "text": [
      "WARNING:absl:Found untraced functions such as gru_cell_layer_call_fn, gru_cell_layer_call_and_return_conditional_losses while saving (showing 2 of 2). These functions will not be directly callable after loading.\n"
     ]
    },
    {
     "name": "stdout",
     "output_type": "stream",
     "text": [
      "INFO:tensorflow:Assets written to: best_model\\assets\n"
     ]
    },
    {
     "name": "stderr",
     "output_type": "stream",
     "text": [
      "INFO:tensorflow:Assets written to: best_model\\assets\n",
      "WARNING:absl:<keras.layers.recurrent.GRUCell object at 0x0000022BCE4C1748> has the same name 'GRUCell' as a built-in Keras object. Consider renaming <class 'keras.layers.recurrent.GRUCell'> to avoid naming conflicts when loading with `tf.keras.models.load_model`. If renaming is not possible, pass the object in the `custom_objects` parameter of the load function.\n",
      "WARNING:absl:<keras.layers.recurrent.GRUCell object at 0x0000022BCE54D988> has the same name 'GRUCell' as a built-in Keras object. Consider renaming <class 'keras.layers.recurrent.GRUCell'> to avoid naming conflicts when loading with `tf.keras.models.load_model`. If renaming is not possible, pass the object in the `custom_objects` parameter of the load function.\n"
     ]
    },
    {
     "name": "stdout",
     "output_type": "stream",
     "text": [
      "1110/1110 [==============================] - 12s 11ms/step - loss: 29.0213 - root_mean_squared_error: 5.3871\n",
      "Epoch 67/200\n",
      "1108/1110 [============================>.] - ETA: 0s - loss: 28.7193 - root_mean_squared_error: 5.3590"
     ]
    },
    {
     "name": "stderr",
     "output_type": "stream",
     "text": [
      "WARNING:absl:Found untraced functions such as gru_cell_layer_call_fn, gru_cell_layer_call_and_return_conditional_losses while saving (showing 2 of 2). These functions will not be directly callable after loading.\n"
     ]
    },
    {
     "name": "stdout",
     "output_type": "stream",
     "text": [
      "INFO:tensorflow:Assets written to: best_model\\assets\n"
     ]
    },
    {
     "name": "stderr",
     "output_type": "stream",
     "text": [
      "INFO:tensorflow:Assets written to: best_model\\assets\n",
      "WARNING:absl:<keras.layers.recurrent.GRUCell object at 0x0000022BCE4C1748> has the same name 'GRUCell' as a built-in Keras object. Consider renaming <class 'keras.layers.recurrent.GRUCell'> to avoid naming conflicts when loading with `tf.keras.models.load_model`. If renaming is not possible, pass the object in the `custom_objects` parameter of the load function.\n",
      "WARNING:absl:<keras.layers.recurrent.GRUCell object at 0x0000022BCE54D988> has the same name 'GRUCell' as a built-in Keras object. Consider renaming <class 'keras.layers.recurrent.GRUCell'> to avoid naming conflicts when loading with `tf.keras.models.load_model`. If renaming is not possible, pass the object in the `custom_objects` parameter of the load function.\n"
     ]
    },
    {
     "name": "stdout",
     "output_type": "stream",
     "text": [
      "1110/1110 [==============================] - 14s 12ms/step - loss: 28.6994 - root_mean_squared_error: 5.3572\n",
      "Epoch 68/200\n",
      "1110/1110 [==============================] - 10s 9ms/step - loss: 29.5044 - root_mean_squared_error: 5.4318\n",
      "Epoch 69/200\n",
      "1110/1110 [==============================] - 10s 9ms/step - loss: 29.1769 - root_mean_squared_error: 5.4016\n",
      "Epoch 70/200\n",
      "1105/1110 [============================>.] - ETA: 0s - loss: 28.6327 - root_mean_squared_error: 5.3510"
     ]
    },
    {
     "name": "stderr",
     "output_type": "stream",
     "text": [
      "WARNING:absl:Found untraced functions such as gru_cell_layer_call_fn, gru_cell_layer_call_and_return_conditional_losses while saving (showing 2 of 2). These functions will not be directly callable after loading.\n"
     ]
    },
    {
     "name": "stdout",
     "output_type": "stream",
     "text": [
      "INFO:tensorflow:Assets written to: best_model\\assets\n"
     ]
    },
    {
     "name": "stderr",
     "output_type": "stream",
     "text": [
      "INFO:tensorflow:Assets written to: best_model\\assets\n",
      "WARNING:absl:<keras.layers.recurrent.GRUCell object at 0x0000022BCE4C1748> has the same name 'GRUCell' as a built-in Keras object. Consider renaming <class 'keras.layers.recurrent.GRUCell'> to avoid naming conflicts when loading with `tf.keras.models.load_model`. If renaming is not possible, pass the object in the `custom_objects` parameter of the load function.\n",
      "WARNING:absl:<keras.layers.recurrent.GRUCell object at 0x0000022BCE54D988> has the same name 'GRUCell' as a built-in Keras object. Consider renaming <class 'keras.layers.recurrent.GRUCell'> to avoid naming conflicts when loading with `tf.keras.models.load_model`. If renaming is not possible, pass the object in the `custom_objects` parameter of the load function.\n"
     ]
    },
    {
     "name": "stdout",
     "output_type": "stream",
     "text": [
      "1110/1110 [==============================] - 14s 12ms/step - loss: 28.6136 - root_mean_squared_error: 5.3492\n",
      "Epoch 71/200\n",
      "1108/1110 [============================>.] - ETA: 0s - loss: 28.1402 - root_mean_squared_error: 5.3047"
     ]
    },
    {
     "name": "stderr",
     "output_type": "stream",
     "text": [
      "WARNING:absl:Found untraced functions such as gru_cell_layer_call_fn, gru_cell_layer_call_and_return_conditional_losses while saving (showing 2 of 2). These functions will not be directly callable after loading.\n"
     ]
    },
    {
     "name": "stdout",
     "output_type": "stream",
     "text": [
      "INFO:tensorflow:Assets written to: best_model\\assets\n"
     ]
    },
    {
     "name": "stderr",
     "output_type": "stream",
     "text": [
      "INFO:tensorflow:Assets written to: best_model\\assets\n",
      "WARNING:absl:<keras.layers.recurrent.GRUCell object at 0x0000022BCE4C1748> has the same name 'GRUCell' as a built-in Keras object. Consider renaming <class 'keras.layers.recurrent.GRUCell'> to avoid naming conflicts when loading with `tf.keras.models.load_model`. If renaming is not possible, pass the object in the `custom_objects` parameter of the load function.\n",
      "WARNING:absl:<keras.layers.recurrent.GRUCell object at 0x0000022BCE54D988> has the same name 'GRUCell' as a built-in Keras object. Consider renaming <class 'keras.layers.recurrent.GRUCell'> to avoid naming conflicts when loading with `tf.keras.models.load_model`. If renaming is not possible, pass the object in the `custom_objects` parameter of the load function.\n"
     ]
    },
    {
     "name": "stdout",
     "output_type": "stream",
     "text": [
      "1110/1110 [==============================] - 14s 12ms/step - loss: 28.1273 - root_mean_squared_error: 5.3035\n",
      "Epoch 72/200\n",
      "1110/1110 [==============================] - 10s 9ms/step - loss: 28.9352 - root_mean_squared_error: 5.3791\n",
      "Epoch 73/200\n",
      "1110/1110 [==============================] - 9s 8ms/step - loss: 28.4353 - root_mean_squared_error: 5.3325\n",
      "Epoch 74/200\n",
      "1110/1110 [==============================] - 9s 9ms/step - loss: 28.8389 - root_mean_squared_error: 5.3702\n",
      "Epoch 75/200\n",
      "1110/1110 [==============================] - 9s 9ms/step - loss: 28.1300 - root_mean_squared_error: 5.3038\n",
      "Epoch 76/200\n",
      "1110/1110 [==============================] - 10s 9ms/step - loss: 28.2624 - root_mean_squared_error: 5.3162\n",
      "Epoch 77/200\n",
      "1110/1110 [==============================] - 10s 9ms/step - loss: 28.6175 - root_mean_squared_error: 5.3495\n",
      "Epoch 78/200\n",
      "1104/1110 [============================>.] - ETA: 0s - loss: 27.7974 - root_mean_squared_error: 5.2723"
     ]
    },
    {
     "name": "stderr",
     "output_type": "stream",
     "text": [
      "WARNING:absl:Found untraced functions such as gru_cell_layer_call_fn, gru_cell_layer_call_and_return_conditional_losses while saving (showing 2 of 2). These functions will not be directly callable after loading.\n"
     ]
    },
    {
     "name": "stdout",
     "output_type": "stream",
     "text": [
      "INFO:tensorflow:Assets written to: best_model\\assets\n"
     ]
    },
    {
     "name": "stderr",
     "output_type": "stream",
     "text": [
      "INFO:tensorflow:Assets written to: best_model\\assets\n",
      "WARNING:absl:<keras.layers.recurrent.GRUCell object at 0x0000022BCE4C1748> has the same name 'GRUCell' as a built-in Keras object. Consider renaming <class 'keras.layers.recurrent.GRUCell'> to avoid naming conflicts when loading with `tf.keras.models.load_model`. If renaming is not possible, pass the object in the `custom_objects` parameter of the load function.\n",
      "WARNING:absl:<keras.layers.recurrent.GRUCell object at 0x0000022BCE54D988> has the same name 'GRUCell' as a built-in Keras object. Consider renaming <class 'keras.layers.recurrent.GRUCell'> to avoid naming conflicts when loading with `tf.keras.models.load_model`. If renaming is not possible, pass the object in the `custom_objects` parameter of the load function.\n"
     ]
    },
    {
     "name": "stdout",
     "output_type": "stream",
     "text": [
      "1110/1110 [==============================] - 13s 12ms/step - loss: 27.7592 - root_mean_squared_error: 5.2687\n",
      "Epoch 79/200\n",
      "1110/1110 [==============================] - 9s 9ms/step - loss: 27.9490 - root_mean_squared_error: 5.2867\n",
      "Epoch 80/200\n",
      "1110/1110 [==============================] - 10s 9ms/step - loss: 28.4171 - root_mean_squared_error: 5.3308\n",
      "Epoch 81/200\n",
      "1107/1110 [============================>.] - ETA: 0s - loss: 27.3347 - root_mean_squared_error: 5.2283"
     ]
    },
    {
     "name": "stderr",
     "output_type": "stream",
     "text": [
      "WARNING:absl:Found untraced functions such as gru_cell_layer_call_fn, gru_cell_layer_call_and_return_conditional_losses while saving (showing 2 of 2). These functions will not be directly callable after loading.\n"
     ]
    },
    {
     "name": "stdout",
     "output_type": "stream",
     "text": [
      "INFO:tensorflow:Assets written to: best_model\\assets\n"
     ]
    },
    {
     "name": "stderr",
     "output_type": "stream",
     "text": [
      "INFO:tensorflow:Assets written to: best_model\\assets\n",
      "WARNING:absl:<keras.layers.recurrent.GRUCell object at 0x0000022BCE4C1748> has the same name 'GRUCell' as a built-in Keras object. Consider renaming <class 'keras.layers.recurrent.GRUCell'> to avoid naming conflicts when loading with `tf.keras.models.load_model`. If renaming is not possible, pass the object in the `custom_objects` parameter of the load function.\n",
      "WARNING:absl:<keras.layers.recurrent.GRUCell object at 0x0000022BCE54D988> has the same name 'GRUCell' as a built-in Keras object. Consider renaming <class 'keras.layers.recurrent.GRUCell'> to avoid naming conflicts when loading with `tf.keras.models.load_model`. If renaming is not possible, pass the object in the `custom_objects` parameter of the load function.\n"
     ]
    },
    {
     "name": "stdout",
     "output_type": "stream",
     "text": [
      "1110/1110 [==============================] - 13s 12ms/step - loss: 27.3095 - root_mean_squared_error: 5.2258\n",
      "Epoch 82/200\n",
      "1110/1110 [==============================] - 9s 9ms/step - loss: 28.1209 - root_mean_squared_error: 5.3029\n",
      "Epoch 83/200\n",
      "1110/1110 [==============================] - 9s 9ms/step - loss: 28.0570 - root_mean_squared_error: 5.2969\n",
      "Epoch 84/200\n",
      "1110/1110 [==============================] - 9s 8ms/step - loss: 27.5212 - root_mean_squared_error: 5.2461\n",
      "Epoch 85/200\n",
      "1110/1110 [==============================] - 10s 9ms/step - loss: 27.9615 - root_mean_squared_error: 5.2879\n",
      "Epoch 86/200\n",
      "1110/1110 [==============================] - 9s 9ms/step - loss: 28.5618 - root_mean_squared_error: 5.3443\n",
      "Epoch 87/200\n",
      "1110/1110 [==============================] - 10s 9ms/step - loss: 28.0028 - root_mean_squared_error: 5.2918\n",
      "Epoch 88/200\n",
      "1107/1110 [============================>.] - ETA: 0s - loss: 26.8343 - root_mean_squared_error: 5.1802"
     ]
    },
    {
     "name": "stderr",
     "output_type": "stream",
     "text": [
      "WARNING:absl:Found untraced functions such as gru_cell_layer_call_fn, gru_cell_layer_call_and_return_conditional_losses while saving (showing 2 of 2). These functions will not be directly callable after loading.\n"
     ]
    },
    {
     "name": "stdout",
     "output_type": "stream",
     "text": [
      "INFO:tensorflow:Assets written to: best_model\\assets\n"
     ]
    },
    {
     "name": "stderr",
     "output_type": "stream",
     "text": [
      "INFO:tensorflow:Assets written to: best_model\\assets\n",
      "WARNING:absl:<keras.layers.recurrent.GRUCell object at 0x0000022BCE4C1748> has the same name 'GRUCell' as a built-in Keras object. Consider renaming <class 'keras.layers.recurrent.GRUCell'> to avoid naming conflicts when loading with `tf.keras.models.load_model`. If renaming is not possible, pass the object in the `custom_objects` parameter of the load function.\n",
      "WARNING:absl:<keras.layers.recurrent.GRUCell object at 0x0000022BCE54D988> has the same name 'GRUCell' as a built-in Keras object. Consider renaming <class 'keras.layers.recurrent.GRUCell'> to avoid naming conflicts when loading with `tf.keras.models.load_model`. If renaming is not possible, pass the object in the `custom_objects` parameter of the load function.\n"
     ]
    },
    {
     "name": "stdout",
     "output_type": "stream",
     "text": [
      "1110/1110 [==============================] - 13s 12ms/step - loss: 26.8275 - root_mean_squared_error: 5.1795\n",
      "Epoch 89/200\n",
      "1110/1110 [==============================] - 9s 9ms/step - loss: 27.0866 - root_mean_squared_error: 5.2045\n",
      "Epoch 90/200\n",
      "1107/1110 [============================>.] - ETA: 0s - loss: 26.6123 - root_mean_squared_error: 5.1587"
     ]
    },
    {
     "name": "stderr",
     "output_type": "stream",
     "text": [
      "WARNING:absl:Found untraced functions such as gru_cell_layer_call_fn, gru_cell_layer_call_and_return_conditional_losses while saving (showing 2 of 2). These functions will not be directly callable after loading.\n"
     ]
    },
    {
     "name": "stdout",
     "output_type": "stream",
     "text": [
      "INFO:tensorflow:Assets written to: best_model\\assets\n"
     ]
    },
    {
     "name": "stderr",
     "output_type": "stream",
     "text": [
      "INFO:tensorflow:Assets written to: best_model\\assets\n",
      "WARNING:absl:<keras.layers.recurrent.GRUCell object at 0x0000022BCE4C1748> has the same name 'GRUCell' as a built-in Keras object. Consider renaming <class 'keras.layers.recurrent.GRUCell'> to avoid naming conflicts when loading with `tf.keras.models.load_model`. If renaming is not possible, pass the object in the `custom_objects` parameter of the load function.\n",
      "WARNING:absl:<keras.layers.recurrent.GRUCell object at 0x0000022BCE54D988> has the same name 'GRUCell' as a built-in Keras object. Consider renaming <class 'keras.layers.recurrent.GRUCell'> to avoid naming conflicts when loading with `tf.keras.models.load_model`. If renaming is not possible, pass the object in the `custom_objects` parameter of the load function.\n"
     ]
    },
    {
     "name": "stdout",
     "output_type": "stream",
     "text": [
      "1110/1110 [==============================] - 13s 12ms/step - loss: 26.6030 - root_mean_squared_error: 5.1578\n",
      "Epoch 91/200\n",
      "1107/1110 [============================>.] - ETA: 0s - loss: 26.2649 - root_mean_squared_error: 5.1249"
     ]
    },
    {
     "name": "stderr",
     "output_type": "stream",
     "text": [
      "WARNING:absl:Found untraced functions such as gru_cell_layer_call_fn, gru_cell_layer_call_and_return_conditional_losses while saving (showing 2 of 2). These functions will not be directly callable after loading.\n"
     ]
    },
    {
     "name": "stdout",
     "output_type": "stream",
     "text": [
      "INFO:tensorflow:Assets written to: best_model\\assets\n"
     ]
    },
    {
     "name": "stderr",
     "output_type": "stream",
     "text": [
      "INFO:tensorflow:Assets written to: best_model\\assets\n",
      "WARNING:absl:<keras.layers.recurrent.GRUCell object at 0x0000022BCE4C1748> has the same name 'GRUCell' as a built-in Keras object. Consider renaming <class 'keras.layers.recurrent.GRUCell'> to avoid naming conflicts when loading with `tf.keras.models.load_model`. If renaming is not possible, pass the object in the `custom_objects` parameter of the load function.\n",
      "WARNING:absl:<keras.layers.recurrent.GRUCell object at 0x0000022BCE54D988> has the same name 'GRUCell' as a built-in Keras object. Consider renaming <class 'keras.layers.recurrent.GRUCell'> to avoid naming conflicts when loading with `tf.keras.models.load_model`. If renaming is not possible, pass the object in the `custom_objects` parameter of the load function.\n"
     ]
    },
    {
     "name": "stdout",
     "output_type": "stream",
     "text": [
      "1110/1110 [==============================] - 13s 12ms/step - loss: 26.2588 - root_mean_squared_error: 5.1243\n",
      "Epoch 92/200\n",
      "1110/1110 [==============================] - 10s 9ms/step - loss: 26.9470 - root_mean_squared_error: 5.1911\n",
      "Epoch 93/200\n",
      "1110/1110 [==============================] - 10s 9ms/step - loss: 26.8554 - root_mean_squared_error: 5.1822\n",
      "Epoch 94/200\n",
      "1110/1110 [==============================] - 10s 9ms/step - loss: 26.8474 - root_mean_squared_error: 5.1814\n",
      "Epoch 95/200\n",
      "1110/1110 [==============================] - 10s 9ms/step - loss: 26.8841 - root_mean_squared_error: 5.1850\n",
      "Epoch 96/200\n",
      "1110/1110 [==============================] - 10s 9ms/step - loss: 26.5349 - root_mean_squared_error: 5.1512\n",
      "Epoch 97/200\n",
      "1110/1110 [==============================] - 10s 9ms/step - loss: 26.5309 - root_mean_squared_error: 5.1508\n",
      "Epoch 98/200\n",
      "1110/1110 [==============================] - 10s 9ms/step - loss: 26.7014 - root_mean_squared_error: 5.1673\n",
      "Epoch 99/200\n",
      "1109/1110 [============================>.] - ETA: 0s - loss: 26.1486 - root_mean_squared_error: 5.1136"
     ]
    },
    {
     "name": "stderr",
     "output_type": "stream",
     "text": [
      "WARNING:absl:Found untraced functions such as gru_cell_layer_call_fn, gru_cell_layer_call_and_return_conditional_losses while saving (showing 2 of 2). These functions will not be directly callable after loading.\n"
     ]
    },
    {
     "name": "stdout",
     "output_type": "stream",
     "text": [
      "INFO:tensorflow:Assets written to: best_model\\assets\n"
     ]
    },
    {
     "name": "stderr",
     "output_type": "stream",
     "text": [
      "INFO:tensorflow:Assets written to: best_model\\assets\n",
      "WARNING:absl:<keras.layers.recurrent.GRUCell object at 0x0000022BCE4C1748> has the same name 'GRUCell' as a built-in Keras object. Consider renaming <class 'keras.layers.recurrent.GRUCell'> to avoid naming conflicts when loading with `tf.keras.models.load_model`. If renaming is not possible, pass the object in the `custom_objects` parameter of the load function.\n",
      "WARNING:absl:<keras.layers.recurrent.GRUCell object at 0x0000022BCE54D988> has the same name 'GRUCell' as a built-in Keras object. Consider renaming <class 'keras.layers.recurrent.GRUCell'> to avoid naming conflicts when loading with `tf.keras.models.load_model`. If renaming is not possible, pass the object in the `custom_objects` parameter of the load function.\n"
     ]
    },
    {
     "name": "stdout",
     "output_type": "stream",
     "text": [
      "1110/1110 [==============================] - 14s 12ms/step - loss: 26.1466 - root_mean_squared_error: 5.1134\n",
      "Epoch 100/200\n",
      "1110/1110 [==============================] - 9s 8ms/step - loss: 26.6677 - root_mean_squared_error: 5.1641\n",
      "Epoch 101/200\n",
      "1110/1110 [==============================] - 9s 8ms/step - loss: 26.4097 - root_mean_squared_error: 5.1390\n",
      "Epoch 102/200\n",
      "1110/1110 [==============================] - ETA: 0s - loss: 26.0514 - root_mean_squared_error: 5.1041"
     ]
    },
    {
     "name": "stderr",
     "output_type": "stream",
     "text": [
      "WARNING:absl:Found untraced functions such as gru_cell_layer_call_fn, gru_cell_layer_call_and_return_conditional_losses while saving (showing 2 of 2). These functions will not be directly callable after loading.\n"
     ]
    },
    {
     "name": "stdout",
     "output_type": "stream",
     "text": [
      "INFO:tensorflow:Assets written to: best_model\\assets\n"
     ]
    },
    {
     "name": "stderr",
     "output_type": "stream",
     "text": [
      "INFO:tensorflow:Assets written to: best_model\\assets\n",
      "WARNING:absl:<keras.layers.recurrent.GRUCell object at 0x0000022BCE4C1748> has the same name 'GRUCell' as a built-in Keras object. Consider renaming <class 'keras.layers.recurrent.GRUCell'> to avoid naming conflicts when loading with `tf.keras.models.load_model`. If renaming is not possible, pass the object in the `custom_objects` parameter of the load function.\n",
      "WARNING:absl:<keras.layers.recurrent.GRUCell object at 0x0000022BCE54D988> has the same name 'GRUCell' as a built-in Keras object. Consider renaming <class 'keras.layers.recurrent.GRUCell'> to avoid naming conflicts when loading with `tf.keras.models.load_model`. If renaming is not possible, pass the object in the `custom_objects` parameter of the load function.\n"
     ]
    },
    {
     "name": "stdout",
     "output_type": "stream",
     "text": [
      "1110/1110 [==============================] - 13s 12ms/step - loss: 26.0514 - root_mean_squared_error: 5.1041\n",
      "Epoch 103/200\n",
      "1110/1110 [==============================] - 9s 8ms/step - loss: 26.2911 - root_mean_squared_error: 5.1275\n",
      "Epoch 104/200\n",
      "1109/1110 [============================>.] - ETA: 0s - loss: 26.0162 - root_mean_squared_error: 5.1006"
     ]
    },
    {
     "name": "stderr",
     "output_type": "stream",
     "text": [
      "WARNING:absl:Found untraced functions such as gru_cell_layer_call_fn, gru_cell_layer_call_and_return_conditional_losses while saving (showing 2 of 2). These functions will not be directly callable after loading.\n"
     ]
    },
    {
     "name": "stdout",
     "output_type": "stream",
     "text": [
      "INFO:tensorflow:Assets written to: best_model\\assets\n"
     ]
    },
    {
     "name": "stderr",
     "output_type": "stream",
     "text": [
      "INFO:tensorflow:Assets written to: best_model\\assets\n",
      "WARNING:absl:<keras.layers.recurrent.GRUCell object at 0x0000022BCE4C1748> has the same name 'GRUCell' as a built-in Keras object. Consider renaming <class 'keras.layers.recurrent.GRUCell'> to avoid naming conflicts when loading with `tf.keras.models.load_model`. If renaming is not possible, pass the object in the `custom_objects` parameter of the load function.\n",
      "WARNING:absl:<keras.layers.recurrent.GRUCell object at 0x0000022BCE54D988> has the same name 'GRUCell' as a built-in Keras object. Consider renaming <class 'keras.layers.recurrent.GRUCell'> to avoid naming conflicts when loading with `tf.keras.models.load_model`. If renaming is not possible, pass the object in the `custom_objects` parameter of the load function.\n"
     ]
    },
    {
     "name": "stdout",
     "output_type": "stream",
     "text": [
      "1110/1110 [==============================] - 13s 11ms/step - loss: 26.0261 - root_mean_squared_error: 5.1016\n",
      "Epoch 105/200\n",
      "1110/1110 [==============================] - 9s 8ms/step - loss: 26.6884 - root_mean_squared_error: 5.1661\n",
      "Epoch 106/200\n",
      "1104/1110 [============================>.] - ETA: 0s - loss: 25.7275 - root_mean_squared_error: 5.0722"
     ]
    },
    {
     "name": "stderr",
     "output_type": "stream",
     "text": [
      "WARNING:absl:Found untraced functions such as gru_cell_layer_call_fn, gru_cell_layer_call_and_return_conditional_losses while saving (showing 2 of 2). These functions will not be directly callable after loading.\n"
     ]
    },
    {
     "name": "stdout",
     "output_type": "stream",
     "text": [
      "INFO:tensorflow:Assets written to: best_model\\assets\n"
     ]
    },
    {
     "name": "stderr",
     "output_type": "stream",
     "text": [
      "INFO:tensorflow:Assets written to: best_model\\assets\n",
      "WARNING:absl:<keras.layers.recurrent.GRUCell object at 0x0000022BCE4C1748> has the same name 'GRUCell' as a built-in Keras object. Consider renaming <class 'keras.layers.recurrent.GRUCell'> to avoid naming conflicts when loading with `tf.keras.models.load_model`. If renaming is not possible, pass the object in the `custom_objects` parameter of the load function.\n",
      "WARNING:absl:<keras.layers.recurrent.GRUCell object at 0x0000022BCE54D988> has the same name 'GRUCell' as a built-in Keras object. Consider renaming <class 'keras.layers.recurrent.GRUCell'> to avoid naming conflicts when loading with `tf.keras.models.load_model`. If renaming is not possible, pass the object in the `custom_objects` parameter of the load function.\n"
     ]
    },
    {
     "name": "stdout",
     "output_type": "stream",
     "text": [
      "1110/1110 [==============================] - 13s 11ms/step - loss: 25.7753 - root_mean_squared_error: 5.0769\n",
      "Epoch 107/200\n",
      "1110/1110 [==============================] - 9s 8ms/step - loss: 25.9104 - root_mean_squared_error: 5.0902\n",
      "Epoch 108/200\n",
      "1110/1110 [==============================] - 9s 8ms/step - loss: 26.0769 - root_mean_squared_error: 5.1066\n",
      "Epoch 109/200\n",
      "1108/1110 [============================>.] - ETA: 0s - loss: 25.3443 - root_mean_squared_error: 5.0343"
     ]
    },
    {
     "name": "stderr",
     "output_type": "stream",
     "text": [
      "WARNING:absl:Found untraced functions such as gru_cell_layer_call_fn, gru_cell_layer_call_and_return_conditional_losses while saving (showing 2 of 2). These functions will not be directly callable after loading.\n"
     ]
    },
    {
     "name": "stdout",
     "output_type": "stream",
     "text": [
      "INFO:tensorflow:Assets written to: best_model\\assets\n"
     ]
    },
    {
     "name": "stderr",
     "output_type": "stream",
     "text": [
      "INFO:tensorflow:Assets written to: best_model\\assets\n",
      "WARNING:absl:<keras.layers.recurrent.GRUCell object at 0x0000022BCE4C1748> has the same name 'GRUCell' as a built-in Keras object. Consider renaming <class 'keras.layers.recurrent.GRUCell'> to avoid naming conflicts when loading with `tf.keras.models.load_model`. If renaming is not possible, pass the object in the `custom_objects` parameter of the load function.\n",
      "WARNING:absl:<keras.layers.recurrent.GRUCell object at 0x0000022BCE54D988> has the same name 'GRUCell' as a built-in Keras object. Consider renaming <class 'keras.layers.recurrent.GRUCell'> to avoid naming conflicts when loading with `tf.keras.models.load_model`. If renaming is not possible, pass the object in the `custom_objects` parameter of the load function.\n"
     ]
    },
    {
     "name": "stdout",
     "output_type": "stream",
     "text": [
      "1110/1110 [==============================] - 13s 11ms/step - loss: 25.3353 - root_mean_squared_error: 5.0334\n",
      "Epoch 110/200\n",
      "1110/1110 [==============================] - 9s 9ms/step - loss: 25.9137 - root_mean_squared_error: 5.0905\n",
      "Epoch 111/200\n",
      "1110/1110 [==============================] - 9s 8ms/step - loss: 26.1412 - root_mean_squared_error: 5.1128\n",
      "Epoch 112/200\n",
      "1110/1110 [==============================] - 9s 8ms/step - loss: 25.8735 - root_mean_squared_error: 5.0866\n",
      "Epoch 113/200\n",
      "1110/1110 [==============================] - 9s 8ms/step - loss: 25.6855 - root_mean_squared_error: 5.0681\n",
      "Epoch 114/200\n",
      "1110/1110 [==============================] - 9s 8ms/step - loss: 25.3522 - root_mean_squared_error: 5.0351\n",
      "Epoch 115/200\n",
      "1110/1110 [==============================] - ETA: 0s - loss: 25.2835 - root_mean_squared_error: 5.0283"
     ]
    },
    {
     "name": "stderr",
     "output_type": "stream",
     "text": [
      "WARNING:absl:Found untraced functions such as gru_cell_layer_call_fn, gru_cell_layer_call_and_return_conditional_losses while saving (showing 2 of 2). These functions will not be directly callable after loading.\n"
     ]
    },
    {
     "name": "stdout",
     "output_type": "stream",
     "text": [
      "INFO:tensorflow:Assets written to: best_model\\assets\n"
     ]
    },
    {
     "name": "stderr",
     "output_type": "stream",
     "text": [
      "INFO:tensorflow:Assets written to: best_model\\assets\n",
      "WARNING:absl:<keras.layers.recurrent.GRUCell object at 0x0000022BCE4C1748> has the same name 'GRUCell' as a built-in Keras object. Consider renaming <class 'keras.layers.recurrent.GRUCell'> to avoid naming conflicts when loading with `tf.keras.models.load_model`. If renaming is not possible, pass the object in the `custom_objects` parameter of the load function.\n",
      "WARNING:absl:<keras.layers.recurrent.GRUCell object at 0x0000022BCE54D988> has the same name 'GRUCell' as a built-in Keras object. Consider renaming <class 'keras.layers.recurrent.GRUCell'> to avoid naming conflicts when loading with `tf.keras.models.load_model`. If renaming is not possible, pass the object in the `custom_objects` parameter of the load function.\n"
     ]
    },
    {
     "name": "stdout",
     "output_type": "stream",
     "text": [
      "1110/1110 [==============================] - 13s 11ms/step - loss: 25.2835 - root_mean_squared_error: 5.0283\n",
      "Epoch 116/200\n",
      "1110/1110 [==============================] - 9s 8ms/step - loss: 25.4956 - root_mean_squared_error: 5.0493\n",
      "Epoch 117/200\n",
      "1109/1110 [============================>.] - ETA: 0s - loss: 24.9458 - root_mean_squared_error: 4.9946"
     ]
    },
    {
     "name": "stderr",
     "output_type": "stream",
     "text": [
      "WARNING:absl:Found untraced functions such as gru_cell_layer_call_fn, gru_cell_layer_call_and_return_conditional_losses while saving (showing 2 of 2). These functions will not be directly callable after loading.\n"
     ]
    },
    {
     "name": "stdout",
     "output_type": "stream",
     "text": [
      "INFO:tensorflow:Assets written to: best_model\\assets\n"
     ]
    },
    {
     "name": "stderr",
     "output_type": "stream",
     "text": [
      "INFO:tensorflow:Assets written to: best_model\\assets\n",
      "WARNING:absl:<keras.layers.recurrent.GRUCell object at 0x0000022BCE4C1748> has the same name 'GRUCell' as a built-in Keras object. Consider renaming <class 'keras.layers.recurrent.GRUCell'> to avoid naming conflicts when loading with `tf.keras.models.load_model`. If renaming is not possible, pass the object in the `custom_objects` parameter of the load function.\n",
      "WARNING:absl:<keras.layers.recurrent.GRUCell object at 0x0000022BCE54D988> has the same name 'GRUCell' as a built-in Keras object. Consider renaming <class 'keras.layers.recurrent.GRUCell'> to avoid naming conflicts when loading with `tf.keras.models.load_model`. If renaming is not possible, pass the object in the `custom_objects` parameter of the load function.\n"
     ]
    },
    {
     "name": "stdout",
     "output_type": "stream",
     "text": [
      "1110/1110 [==============================] - 13s 11ms/step - loss: 24.9431 - root_mean_squared_error: 4.9943\n",
      "Epoch 118/200\n",
      "1104/1110 [============================>.] - ETA: 0s - loss: 24.7265 - root_mean_squared_error: 4.9726"
     ]
    },
    {
     "name": "stderr",
     "output_type": "stream",
     "text": [
      "WARNING:absl:Found untraced functions such as gru_cell_layer_call_fn, gru_cell_layer_call_and_return_conditional_losses while saving (showing 2 of 2). These functions will not be directly callable after loading.\n"
     ]
    },
    {
     "name": "stdout",
     "output_type": "stream",
     "text": [
      "INFO:tensorflow:Assets written to: best_model\\assets\n"
     ]
    },
    {
     "name": "stderr",
     "output_type": "stream",
     "text": [
      "INFO:tensorflow:Assets written to: best_model\\assets\n",
      "WARNING:absl:<keras.layers.recurrent.GRUCell object at 0x0000022BCE4C1748> has the same name 'GRUCell' as a built-in Keras object. Consider renaming <class 'keras.layers.recurrent.GRUCell'> to avoid naming conflicts when loading with `tf.keras.models.load_model`. If renaming is not possible, pass the object in the `custom_objects` parameter of the load function.\n",
      "WARNING:absl:<keras.layers.recurrent.GRUCell object at 0x0000022BCE54D988> has the same name 'GRUCell' as a built-in Keras object. Consider renaming <class 'keras.layers.recurrent.GRUCell'> to avoid naming conflicts when loading with `tf.keras.models.load_model`. If renaming is not possible, pass the object in the `custom_objects` parameter of the load function.\n"
     ]
    },
    {
     "name": "stdout",
     "output_type": "stream",
     "text": [
      "1110/1110 [==============================] - 13s 11ms/step - loss: 24.7186 - root_mean_squared_error: 4.9718\n",
      "Epoch 119/200\n",
      "1110/1110 [==============================] - 9s 8ms/step - loss: 24.8897 - root_mean_squared_error: 4.9890\n",
      "Epoch 120/200\n",
      "1110/1110 [==============================] - 9s 8ms/step - loss: 24.9950 - root_mean_squared_error: 4.9995\n",
      "Epoch 121/200\n",
      "1110/1110 [==============================] - 9s 8ms/step - loss: 25.4357 - root_mean_squared_error: 5.0434\n",
      "Epoch 122/200\n",
      "1110/1110 [==============================] - 9s 8ms/step - loss: 24.9331 - root_mean_squared_error: 4.9933\n",
      "Epoch 123/200\n",
      "1108/1110 [============================>.] - ETA: 0s - loss: 24.4115 - root_mean_squared_error: 4.9408"
     ]
    },
    {
     "name": "stderr",
     "output_type": "stream",
     "text": [
      "WARNING:absl:Found untraced functions such as gru_cell_layer_call_fn, gru_cell_layer_call_and_return_conditional_losses while saving (showing 2 of 2). These functions will not be directly callable after loading.\n"
     ]
    },
    {
     "name": "stdout",
     "output_type": "stream",
     "text": [
      "INFO:tensorflow:Assets written to: best_model\\assets\n"
     ]
    },
    {
     "name": "stderr",
     "output_type": "stream",
     "text": [
      "INFO:tensorflow:Assets written to: best_model\\assets\n",
      "WARNING:absl:<keras.layers.recurrent.GRUCell object at 0x0000022BCE4C1748> has the same name 'GRUCell' as a built-in Keras object. Consider renaming <class 'keras.layers.recurrent.GRUCell'> to avoid naming conflicts when loading with `tf.keras.models.load_model`. If renaming is not possible, pass the object in the `custom_objects` parameter of the load function.\n",
      "WARNING:absl:<keras.layers.recurrent.GRUCell object at 0x0000022BCE54D988> has the same name 'GRUCell' as a built-in Keras object. Consider renaming <class 'keras.layers.recurrent.GRUCell'> to avoid naming conflicts when loading with `tf.keras.models.load_model`. If renaming is not possible, pass the object in the `custom_objects` parameter of the load function.\n"
     ]
    },
    {
     "name": "stdout",
     "output_type": "stream",
     "text": [
      "1110/1110 [==============================] - 13s 11ms/step - loss: 24.4099 - root_mean_squared_error: 4.9406\n",
      "Epoch 124/200\n",
      "1110/1110 [==============================] - 9s 8ms/step - loss: 24.9185 - root_mean_squared_error: 4.9918\n",
      "Epoch 125/200\n",
      "1107/1110 [============================>.] - ETA: 0s - loss: 24.2688 - root_mean_squared_error: 4.9263"
     ]
    },
    {
     "name": "stderr",
     "output_type": "stream",
     "text": [
      "WARNING:absl:Found untraced functions such as gru_cell_layer_call_fn, gru_cell_layer_call_and_return_conditional_losses while saving (showing 2 of 2). These functions will not be directly callable after loading.\n"
     ]
    },
    {
     "name": "stdout",
     "output_type": "stream",
     "text": [
      "INFO:tensorflow:Assets written to: best_model\\assets\n"
     ]
    },
    {
     "name": "stderr",
     "output_type": "stream",
     "text": [
      "INFO:tensorflow:Assets written to: best_model\\assets\n",
      "WARNING:absl:<keras.layers.recurrent.GRUCell object at 0x0000022BCE4C1748> has the same name 'GRUCell' as a built-in Keras object. Consider renaming <class 'keras.layers.recurrent.GRUCell'> to avoid naming conflicts when loading with `tf.keras.models.load_model`. If renaming is not possible, pass the object in the `custom_objects` parameter of the load function.\n",
      "WARNING:absl:<keras.layers.recurrent.GRUCell object at 0x0000022BCE54D988> has the same name 'GRUCell' as a built-in Keras object. Consider renaming <class 'keras.layers.recurrent.GRUCell'> to avoid naming conflicts when loading with `tf.keras.models.load_model`. If renaming is not possible, pass the object in the `custom_objects` parameter of the load function.\n"
     ]
    },
    {
     "name": "stdout",
     "output_type": "stream",
     "text": [
      "1110/1110 [==============================] - 13s 12ms/step - loss: 24.2400 - root_mean_squared_error: 4.9234\n",
      "Epoch 126/200\n",
      "1110/1110 [==============================] - 9s 8ms/step - loss: 25.2618 - root_mean_squared_error: 5.0261\n",
      "Epoch 127/200\n",
      "1110/1110 [==============================] - 9s 8ms/step - loss: 25.2211 - root_mean_squared_error: 5.0221\n",
      "Epoch 128/200\n",
      "1107/1110 [============================>.] - ETA: 0s - loss: 23.9390 - root_mean_squared_error: 4.8928"
     ]
    },
    {
     "name": "stderr",
     "output_type": "stream",
     "text": [
      "WARNING:absl:Found untraced functions such as gru_cell_layer_call_fn, gru_cell_layer_call_and_return_conditional_losses while saving (showing 2 of 2). These functions will not be directly callable after loading.\n"
     ]
    },
    {
     "name": "stdout",
     "output_type": "stream",
     "text": [
      "INFO:tensorflow:Assets written to: best_model\\assets\n"
     ]
    },
    {
     "name": "stderr",
     "output_type": "stream",
     "text": [
      "INFO:tensorflow:Assets written to: best_model\\assets\n",
      "WARNING:absl:<keras.layers.recurrent.GRUCell object at 0x0000022BCE4C1748> has the same name 'GRUCell' as a built-in Keras object. Consider renaming <class 'keras.layers.recurrent.GRUCell'> to avoid naming conflicts when loading with `tf.keras.models.load_model`. If renaming is not possible, pass the object in the `custom_objects` parameter of the load function.\n",
      "WARNING:absl:<keras.layers.recurrent.GRUCell object at 0x0000022BCE54D988> has the same name 'GRUCell' as a built-in Keras object. Consider renaming <class 'keras.layers.recurrent.GRUCell'> to avoid naming conflicts when loading with `tf.keras.models.load_model`. If renaming is not possible, pass the object in the `custom_objects` parameter of the load function.\n"
     ]
    },
    {
     "name": "stdout",
     "output_type": "stream",
     "text": [
      "1110/1110 [==============================] - 13s 12ms/step - loss: 23.9378 - root_mean_squared_error: 4.8926\n",
      "Epoch 129/200\n",
      "1110/1110 [==============================] - 9s 9ms/step - loss: 24.2944 - root_mean_squared_error: 4.9289\n",
      "Epoch 130/200\n",
      "1110/1110 [==============================] - ETA: 0s - loss: 23.8445 - root_mean_squared_error: 4.8831"
     ]
    },
    {
     "name": "stderr",
     "output_type": "stream",
     "text": [
      "WARNING:absl:Found untraced functions such as gru_cell_layer_call_fn, gru_cell_layer_call_and_return_conditional_losses while saving (showing 2 of 2). These functions will not be directly callable after loading.\n"
     ]
    },
    {
     "name": "stdout",
     "output_type": "stream",
     "text": [
      "INFO:tensorflow:Assets written to: best_model\\assets\n"
     ]
    },
    {
     "name": "stderr",
     "output_type": "stream",
     "text": [
      "INFO:tensorflow:Assets written to: best_model\\assets\n",
      "WARNING:absl:<keras.layers.recurrent.GRUCell object at 0x0000022BCE4C1748> has the same name 'GRUCell' as a built-in Keras object. Consider renaming <class 'keras.layers.recurrent.GRUCell'> to avoid naming conflicts when loading with `tf.keras.models.load_model`. If renaming is not possible, pass the object in the `custom_objects` parameter of the load function.\n",
      "WARNING:absl:<keras.layers.recurrent.GRUCell object at 0x0000022BCE54D988> has the same name 'GRUCell' as a built-in Keras object. Consider renaming <class 'keras.layers.recurrent.GRUCell'> to avoid naming conflicts when loading with `tf.keras.models.load_model`. If renaming is not possible, pass the object in the `custom_objects` parameter of the load function.\n"
     ]
    },
    {
     "name": "stdout",
     "output_type": "stream",
     "text": [
      "1110/1110 [==============================] - 13s 12ms/step - loss: 23.8445 - root_mean_squared_error: 4.8831\n",
      "Epoch 131/200\n",
      "1110/1110 [==============================] - 9s 8ms/step - loss: 24.1273 - root_mean_squared_error: 4.9120\n",
      "Epoch 132/200\n",
      "1110/1110 [==============================] - 9s 8ms/step - loss: 24.4809 - root_mean_squared_error: 4.9478\n",
      "Epoch 133/200\n",
      "1110/1110 [==============================] - 9s 8ms/step - loss: 24.3558 - root_mean_squared_error: 4.9352\n",
      "Epoch 134/200\n",
      "1110/1110 [==============================] - 9s 8ms/step - loss: 23.9137 - root_mean_squared_error: 4.8902\n",
      "Epoch 135/200\n",
      "1110/1110 [==============================] - 9s 8ms/step - loss: 24.2848 - root_mean_squared_error: 4.9280\n",
      "Epoch 136/200\n",
      "1109/1110 [============================>.] - ETA: 0s - loss: 23.6929 - root_mean_squared_error: 4.8675"
     ]
    },
    {
     "name": "stderr",
     "output_type": "stream",
     "text": [
      "WARNING:absl:Found untraced functions such as gru_cell_layer_call_fn, gru_cell_layer_call_and_return_conditional_losses while saving (showing 2 of 2). These functions will not be directly callable after loading.\n"
     ]
    },
    {
     "name": "stdout",
     "output_type": "stream",
     "text": [
      "INFO:tensorflow:Assets written to: best_model\\assets\n"
     ]
    },
    {
     "name": "stderr",
     "output_type": "stream",
     "text": [
      "INFO:tensorflow:Assets written to: best_model\\assets\n",
      "WARNING:absl:<keras.layers.recurrent.GRUCell object at 0x0000022BCE4C1748> has the same name 'GRUCell' as a built-in Keras object. Consider renaming <class 'keras.layers.recurrent.GRUCell'> to avoid naming conflicts when loading with `tf.keras.models.load_model`. If renaming is not possible, pass the object in the `custom_objects` parameter of the load function.\n",
      "WARNING:absl:<keras.layers.recurrent.GRUCell object at 0x0000022BCE54D988> has the same name 'GRUCell' as a built-in Keras object. Consider renaming <class 'keras.layers.recurrent.GRUCell'> to avoid naming conflicts when loading with `tf.keras.models.load_model`. If renaming is not possible, pass the object in the `custom_objects` parameter of the load function.\n"
     ]
    },
    {
     "name": "stdout",
     "output_type": "stream",
     "text": [
      "1110/1110 [==============================] - 13s 11ms/step - loss: 23.6869 - root_mean_squared_error: 4.8669\n",
      "Epoch 137/200\n",
      "1110/1110 [==============================] - 9s 8ms/step - loss: 24.5125 - root_mean_squared_error: 4.9510\n",
      "Epoch 138/200\n",
      "1110/1110 [==============================] - 9s 8ms/step - loss: 23.8203 - root_mean_squared_error: 4.8806\n",
      "Epoch 139/200\n",
      "1110/1110 [==============================] - 9s 8ms/step - loss: 24.2575 - root_mean_squared_error: 4.9252\n",
      "Epoch 140/200\n",
      "1110/1110 [==============================] - 9s 8ms/step - loss: 24.0750 - root_mean_squared_error: 4.9066\n",
      "Epoch 141/200\n",
      "1109/1110 [============================>.] - ETA: 0s - loss: 23.4171 - root_mean_squared_error: 4.8391"
     ]
    },
    {
     "name": "stderr",
     "output_type": "stream",
     "text": [
      "WARNING:absl:Found untraced functions such as gru_cell_layer_call_fn, gru_cell_layer_call_and_return_conditional_losses while saving (showing 2 of 2). These functions will not be directly callable after loading.\n"
     ]
    },
    {
     "name": "stdout",
     "output_type": "stream",
     "text": [
      "INFO:tensorflow:Assets written to: best_model\\assets\n"
     ]
    },
    {
     "name": "stderr",
     "output_type": "stream",
     "text": [
      "INFO:tensorflow:Assets written to: best_model\\assets\n",
      "WARNING:absl:<keras.layers.recurrent.GRUCell object at 0x0000022BCE4C1748> has the same name 'GRUCell' as a built-in Keras object. Consider renaming <class 'keras.layers.recurrent.GRUCell'> to avoid naming conflicts when loading with `tf.keras.models.load_model`. If renaming is not possible, pass the object in the `custom_objects` parameter of the load function.\n",
      "WARNING:absl:<keras.layers.recurrent.GRUCell object at 0x0000022BCE54D988> has the same name 'GRUCell' as a built-in Keras object. Consider renaming <class 'keras.layers.recurrent.GRUCell'> to avoid naming conflicts when loading with `tf.keras.models.load_model`. If renaming is not possible, pass the object in the `custom_objects` parameter of the load function.\n"
     ]
    },
    {
     "name": "stdout",
     "output_type": "stream",
     "text": [
      "1110/1110 [==============================] - 13s 11ms/step - loss: 23.4129 - root_mean_squared_error: 4.8387\n",
      "Epoch 142/200\n",
      "1110/1110 [==============================] - 9s 8ms/step - loss: 24.2784 - root_mean_squared_error: 4.9273\n",
      "Epoch 143/200\n",
      "1108/1110 [============================>.] - ETA: 0s - loss: 23.1995 - root_mean_squared_error: 4.8166"
     ]
    },
    {
     "name": "stderr",
     "output_type": "stream",
     "text": [
      "WARNING:absl:Found untraced functions such as gru_cell_layer_call_fn, gru_cell_layer_call_and_return_conditional_losses while saving (showing 2 of 2). These functions will not be directly callable after loading.\n"
     ]
    },
    {
     "name": "stdout",
     "output_type": "stream",
     "text": [
      "INFO:tensorflow:Assets written to: best_model\\assets\n"
     ]
    },
    {
     "name": "stderr",
     "output_type": "stream",
     "text": [
      "INFO:tensorflow:Assets written to: best_model\\assets\n",
      "WARNING:absl:<keras.layers.recurrent.GRUCell object at 0x0000022BCE4C1748> has the same name 'GRUCell' as a built-in Keras object. Consider renaming <class 'keras.layers.recurrent.GRUCell'> to avoid naming conflicts when loading with `tf.keras.models.load_model`. If renaming is not possible, pass the object in the `custom_objects` parameter of the load function.\n",
      "WARNING:absl:<keras.layers.recurrent.GRUCell object at 0x0000022BCE54D988> has the same name 'GRUCell' as a built-in Keras object. Consider renaming <class 'keras.layers.recurrent.GRUCell'> to avoid naming conflicts when loading with `tf.keras.models.load_model`. If renaming is not possible, pass the object in the `custom_objects` parameter of the load function.\n"
     ]
    },
    {
     "name": "stdout",
     "output_type": "stream",
     "text": [
      "1110/1110 [==============================] - 13s 11ms/step - loss: 23.1901 - root_mean_squared_error: 4.8156\n",
      "Epoch 144/200\n",
      "1104/1110 [============================>.] - ETA: 0s - loss: 23.1886 - root_mean_squared_error: 4.8155"
     ]
    },
    {
     "name": "stderr",
     "output_type": "stream",
     "text": [
      "WARNING:absl:Found untraced functions such as gru_cell_layer_call_fn, gru_cell_layer_call_and_return_conditional_losses while saving (showing 2 of 2). These functions will not be directly callable after loading.\n"
     ]
    },
    {
     "name": "stdout",
     "output_type": "stream",
     "text": [
      "INFO:tensorflow:Assets written to: best_model\\assets\n"
     ]
    },
    {
     "name": "stderr",
     "output_type": "stream",
     "text": [
      "INFO:tensorflow:Assets written to: best_model\\assets\n",
      "WARNING:absl:<keras.layers.recurrent.GRUCell object at 0x0000022BCE4C1748> has the same name 'GRUCell' as a built-in Keras object. Consider renaming <class 'keras.layers.recurrent.GRUCell'> to avoid naming conflicts when loading with `tf.keras.models.load_model`. If renaming is not possible, pass the object in the `custom_objects` parameter of the load function.\n",
      "WARNING:absl:<keras.layers.recurrent.GRUCell object at 0x0000022BCE54D988> has the same name 'GRUCell' as a built-in Keras object. Consider renaming <class 'keras.layers.recurrent.GRUCell'> to avoid naming conflicts when loading with `tf.keras.models.load_model`. If renaming is not possible, pass the object in the `custom_objects` parameter of the load function.\n"
     ]
    },
    {
     "name": "stdout",
     "output_type": "stream",
     "text": [
      "1110/1110 [==============================] - 13s 11ms/step - loss: 23.1457 - root_mean_squared_error: 4.8110\n",
      "Epoch 145/200\n",
      "1110/1110 [==============================] - 9s 8ms/step - loss: 23.8053 - root_mean_squared_error: 4.8791\n",
      "Epoch 146/200\n",
      "1110/1110 [==============================] - 9s 8ms/step - loss: 23.3685 - root_mean_squared_error: 4.8341\n",
      "Epoch 147/200\n",
      "1110/1110 [==============================] - 9s 8ms/step - loss: 23.7010 - root_mean_squared_error: 4.8684\n",
      "Epoch 148/200\n",
      "1110/1110 [==============================] - 9s 8ms/step - loss: 23.4661 - root_mean_squared_error: 4.8442\n",
      "Epoch 149/200\n",
      "1106/1110 [============================>.] - ETA: 0s - loss: 22.9143 - root_mean_squared_error: 4.7869"
     ]
    },
    {
     "name": "stderr",
     "output_type": "stream",
     "text": [
      "WARNING:absl:Found untraced functions such as gru_cell_layer_call_fn, gru_cell_layer_call_and_return_conditional_losses while saving (showing 2 of 2). These functions will not be directly callable after loading.\n"
     ]
    },
    {
     "name": "stdout",
     "output_type": "stream",
     "text": [
      "INFO:tensorflow:Assets written to: best_model\\assets\n"
     ]
    },
    {
     "name": "stderr",
     "output_type": "stream",
     "text": [
      "INFO:tensorflow:Assets written to: best_model\\assets\n",
      "WARNING:absl:<keras.layers.recurrent.GRUCell object at 0x0000022BCE4C1748> has the same name 'GRUCell' as a built-in Keras object. Consider renaming <class 'keras.layers.recurrent.GRUCell'> to avoid naming conflicts when loading with `tf.keras.models.load_model`. If renaming is not possible, pass the object in the `custom_objects` parameter of the load function.\n",
      "WARNING:absl:<keras.layers.recurrent.GRUCell object at 0x0000022BCE54D988> has the same name 'GRUCell' as a built-in Keras object. Consider renaming <class 'keras.layers.recurrent.GRUCell'> to avoid naming conflicts when loading with `tf.keras.models.load_model`. If renaming is not possible, pass the object in the `custom_objects` parameter of the load function.\n"
     ]
    },
    {
     "name": "stdout",
     "output_type": "stream",
     "text": [
      "1110/1110 [==============================] - 13s 11ms/step - loss: 23.0080 - root_mean_squared_error: 4.7967\n",
      "Epoch 150/200\n",
      "1107/1110 [============================>.] - ETA: 0s - loss: 22.8144 - root_mean_squared_error: 4.7764"
     ]
    },
    {
     "name": "stderr",
     "output_type": "stream",
     "text": [
      "WARNING:absl:Found untraced functions such as gru_cell_layer_call_fn, gru_cell_layer_call_and_return_conditional_losses while saving (showing 2 of 2). These functions will not be directly callable after loading.\n"
     ]
    },
    {
     "name": "stdout",
     "output_type": "stream",
     "text": [
      "INFO:tensorflow:Assets written to: best_model\\assets\n"
     ]
    },
    {
     "name": "stderr",
     "output_type": "stream",
     "text": [
      "INFO:tensorflow:Assets written to: best_model\\assets\n",
      "WARNING:absl:<keras.layers.recurrent.GRUCell object at 0x0000022BCE4C1748> has the same name 'GRUCell' as a built-in Keras object. Consider renaming <class 'keras.layers.recurrent.GRUCell'> to avoid naming conflicts when loading with `tf.keras.models.load_model`. If renaming is not possible, pass the object in the `custom_objects` parameter of the load function.\n",
      "WARNING:absl:<keras.layers.recurrent.GRUCell object at 0x0000022BCE54D988> has the same name 'GRUCell' as a built-in Keras object. Consider renaming <class 'keras.layers.recurrent.GRUCell'> to avoid naming conflicts when loading with `tf.keras.models.load_model`. If renaming is not possible, pass the object in the `custom_objects` parameter of the load function.\n"
     ]
    },
    {
     "name": "stdout",
     "output_type": "stream",
     "text": [
      "1110/1110 [==============================] - 13s 11ms/step - loss: 22.8285 - root_mean_squared_error: 4.7779\n",
      "Epoch 151/200\n",
      "1110/1110 [==============================] - 9s 8ms/step - loss: 23.2073 - root_mean_squared_error: 4.8174\n",
      "Epoch 152/200\n",
      "1110/1110 [==============================] - ETA: 0s - loss: 22.7863 - root_mean_squared_error: 4.7735"
     ]
    },
    {
     "name": "stderr",
     "output_type": "stream",
     "text": [
      "WARNING:absl:Found untraced functions such as gru_cell_layer_call_fn, gru_cell_layer_call_and_return_conditional_losses while saving (showing 2 of 2). These functions will not be directly callable after loading.\n"
     ]
    },
    {
     "name": "stdout",
     "output_type": "stream",
     "text": [
      "INFO:tensorflow:Assets written to: best_model\\assets\n"
     ]
    },
    {
     "name": "stderr",
     "output_type": "stream",
     "text": [
      "INFO:tensorflow:Assets written to: best_model\\assets\n",
      "WARNING:absl:<keras.layers.recurrent.GRUCell object at 0x0000022BCE4C1748> has the same name 'GRUCell' as a built-in Keras object. Consider renaming <class 'keras.layers.recurrent.GRUCell'> to avoid naming conflicts when loading with `tf.keras.models.load_model`. If renaming is not possible, pass the object in the `custom_objects` parameter of the load function.\n",
      "WARNING:absl:<keras.layers.recurrent.GRUCell object at 0x0000022BCE54D988> has the same name 'GRUCell' as a built-in Keras object. Consider renaming <class 'keras.layers.recurrent.GRUCell'> to avoid naming conflicts when loading with `tf.keras.models.load_model`. If renaming is not possible, pass the object in the `custom_objects` parameter of the load function.\n"
     ]
    },
    {
     "name": "stdout",
     "output_type": "stream",
     "text": [
      "1110/1110 [==============================] - 13s 11ms/step - loss: 22.7863 - root_mean_squared_error: 4.7735\n",
      "Epoch 153/200\n",
      "1107/1110 [============================>.] - ETA: 0s - loss: 22.7379 - root_mean_squared_error: 4.7684"
     ]
    },
    {
     "name": "stderr",
     "output_type": "stream",
     "text": [
      "WARNING:absl:Found untraced functions such as gru_cell_layer_call_fn, gru_cell_layer_call_and_return_conditional_losses while saving (showing 2 of 2). These functions will not be directly callable after loading.\n"
     ]
    },
    {
     "name": "stdout",
     "output_type": "stream",
     "text": [
      "INFO:tensorflow:Assets written to: best_model\\assets\n"
     ]
    },
    {
     "name": "stderr",
     "output_type": "stream",
     "text": [
      "INFO:tensorflow:Assets written to: best_model\\assets\n",
      "WARNING:absl:<keras.layers.recurrent.GRUCell object at 0x0000022BCE4C1748> has the same name 'GRUCell' as a built-in Keras object. Consider renaming <class 'keras.layers.recurrent.GRUCell'> to avoid naming conflicts when loading with `tf.keras.models.load_model`. If renaming is not possible, pass the object in the `custom_objects` parameter of the load function.\n",
      "WARNING:absl:<keras.layers.recurrent.GRUCell object at 0x0000022BCE54D988> has the same name 'GRUCell' as a built-in Keras object. Consider renaming <class 'keras.layers.recurrent.GRUCell'> to avoid naming conflicts when loading with `tf.keras.models.load_model`. If renaming is not possible, pass the object in the `custom_objects` parameter of the load function.\n"
     ]
    },
    {
     "name": "stdout",
     "output_type": "stream",
     "text": [
      "1110/1110 [==============================] - 13s 11ms/step - loss: 22.7286 - root_mean_squared_error: 4.7675\n",
      "Epoch 154/200\n",
      "1110/1110 [==============================] - 9s 8ms/step - loss: 22.8869 - root_mean_squared_error: 4.7840\n",
      "Epoch 155/200\n",
      "1110/1110 [==============================] - 9s 8ms/step - loss: 23.6083 - root_mean_squared_error: 4.8588\n",
      "Epoch 156/200\n",
      "1110/1110 [==============================] - 9s 8ms/step - loss: 22.9102 - root_mean_squared_error: 4.7865\n",
      "Epoch 157/200\n",
      "1110/1110 [==============================] - 9s 8ms/step - loss: 23.0392 - root_mean_squared_error: 4.7999\n",
      "Epoch 158/200\n",
      "1109/1110 [============================>.] - ETA: 0s - loss: 22.4905 - root_mean_squared_error: 4.7424"
     ]
    },
    {
     "name": "stderr",
     "output_type": "stream",
     "text": [
      "WARNING:absl:Found untraced functions such as gru_cell_layer_call_fn, gru_cell_layer_call_and_return_conditional_losses while saving (showing 2 of 2). These functions will not be directly callable after loading.\n"
     ]
    },
    {
     "name": "stdout",
     "output_type": "stream",
     "text": [
      "INFO:tensorflow:Assets written to: best_model\\assets\n"
     ]
    },
    {
     "name": "stderr",
     "output_type": "stream",
     "text": [
      "INFO:tensorflow:Assets written to: best_model\\assets\n",
      "WARNING:absl:<keras.layers.recurrent.GRUCell object at 0x0000022BCE4C1748> has the same name 'GRUCell' as a built-in Keras object. Consider renaming <class 'keras.layers.recurrent.GRUCell'> to avoid naming conflicts when loading with `tf.keras.models.load_model`. If renaming is not possible, pass the object in the `custom_objects` parameter of the load function.\n",
      "WARNING:absl:<keras.layers.recurrent.GRUCell object at 0x0000022BCE54D988> has the same name 'GRUCell' as a built-in Keras object. Consider renaming <class 'keras.layers.recurrent.GRUCell'> to avoid naming conflicts when loading with `tf.keras.models.load_model`. If renaming is not possible, pass the object in the `custom_objects` parameter of the load function.\n"
     ]
    },
    {
     "name": "stdout",
     "output_type": "stream",
     "text": [
      "1110/1110 [==============================] - 12s 11ms/step - loss: 22.4876 - root_mean_squared_error: 4.7421\n",
      "Epoch 159/200\n",
      "1110/1110 [==============================] - 10s 9ms/step - loss: 22.8214 - root_mean_squared_error: 4.7772\n",
      "Epoch 160/200\n",
      "1110/1110 [==============================] - 10s 9ms/step - loss: 22.7725 - root_mean_squared_error: 4.7721\n",
      "Epoch 161/200\n",
      "1105/1110 [============================>.] - ETA: 0s - loss: 22.1123 - root_mean_squared_error: 4.7024"
     ]
    },
    {
     "name": "stderr",
     "output_type": "stream",
     "text": [
      "WARNING:absl:Found untraced functions such as gru_cell_layer_call_fn, gru_cell_layer_call_and_return_conditional_losses while saving (showing 2 of 2). These functions will not be directly callable after loading.\n"
     ]
    },
    {
     "name": "stdout",
     "output_type": "stream",
     "text": [
      "INFO:tensorflow:Assets written to: best_model\\assets\n"
     ]
    },
    {
     "name": "stderr",
     "output_type": "stream",
     "text": [
      "INFO:tensorflow:Assets written to: best_model\\assets\n",
      "WARNING:absl:<keras.layers.recurrent.GRUCell object at 0x0000022BCE4C1748> has the same name 'GRUCell' as a built-in Keras object. Consider renaming <class 'keras.layers.recurrent.GRUCell'> to avoid naming conflicts when loading with `tf.keras.models.load_model`. If renaming is not possible, pass the object in the `custom_objects` parameter of the load function.\n",
      "WARNING:absl:<keras.layers.recurrent.GRUCell object at 0x0000022BCE54D988> has the same name 'GRUCell' as a built-in Keras object. Consider renaming <class 'keras.layers.recurrent.GRUCell'> to avoid naming conflicts when loading with `tf.keras.models.load_model`. If renaming is not possible, pass the object in the `custom_objects` parameter of the load function.\n"
     ]
    },
    {
     "name": "stdout",
     "output_type": "stream",
     "text": [
      "1110/1110 [==============================] - 13s 12ms/step - loss: 22.0941 - root_mean_squared_error: 4.7004\n",
      "Epoch 162/200\n",
      "1110/1110 [==============================] - 9s 9ms/step - loss: 22.4234 - root_mean_squared_error: 4.7353\n",
      "Epoch 163/200\n",
      "1110/1110 [==============================] - 9s 9ms/step - loss: 22.4916 - root_mean_squared_error: 4.7425\n",
      "Epoch 164/200\n",
      "1110/1110 [==============================] - ETA: 0s - loss: 22.0450 - root_mean_squared_error: 4.6952"
     ]
    },
    {
     "name": "stderr",
     "output_type": "stream",
     "text": [
      "WARNING:absl:Found untraced functions such as gru_cell_layer_call_fn, gru_cell_layer_call_and_return_conditional_losses while saving (showing 2 of 2). These functions will not be directly callable after loading.\n"
     ]
    },
    {
     "name": "stdout",
     "output_type": "stream",
     "text": [
      "INFO:tensorflow:Assets written to: best_model\\assets\n"
     ]
    },
    {
     "name": "stderr",
     "output_type": "stream",
     "text": [
      "INFO:tensorflow:Assets written to: best_model\\assets\n",
      "WARNING:absl:<keras.layers.recurrent.GRUCell object at 0x0000022BCE4C1748> has the same name 'GRUCell' as a built-in Keras object. Consider renaming <class 'keras.layers.recurrent.GRUCell'> to avoid naming conflicts when loading with `tf.keras.models.load_model`. If renaming is not possible, pass the object in the `custom_objects` parameter of the load function.\n",
      "WARNING:absl:<keras.layers.recurrent.GRUCell object at 0x0000022BCE54D988> has the same name 'GRUCell' as a built-in Keras object. Consider renaming <class 'keras.layers.recurrent.GRUCell'> to avoid naming conflicts when loading with `tf.keras.models.load_model`. If renaming is not possible, pass the object in the `custom_objects` parameter of the load function.\n"
     ]
    },
    {
     "name": "stdout",
     "output_type": "stream",
     "text": [
      "1110/1110 [==============================] - 13s 12ms/step - loss: 22.0450 - root_mean_squared_error: 4.6952\n",
      "Epoch 165/200\n",
      "1110/1110 [==============================] - 9s 8ms/step - loss: 22.4247 - root_mean_squared_error: 4.7355\n",
      "Epoch 166/200\n",
      "1110/1110 [==============================] - 9s 9ms/step - loss: 22.0754 - root_mean_squared_error: 4.6984\n",
      "Epoch 167/200\n",
      "1110/1110 [==============================] - 9s 8ms/step - loss: 22.0588 - root_mean_squared_error: 4.6967\n",
      "Epoch 168/200\n",
      "1105/1110 [============================>.] - ETA: 0s - loss: 21.8094 - root_mean_squared_error: 4.6701"
     ]
    },
    {
     "name": "stderr",
     "output_type": "stream",
     "text": [
      "WARNING:absl:Found untraced functions such as gru_cell_layer_call_fn, gru_cell_layer_call_and_return_conditional_losses while saving (showing 2 of 2). These functions will not be directly callable after loading.\n"
     ]
    },
    {
     "name": "stdout",
     "output_type": "stream",
     "text": [
      "INFO:tensorflow:Assets written to: best_model\\assets\n"
     ]
    },
    {
     "name": "stderr",
     "output_type": "stream",
     "text": [
      "INFO:tensorflow:Assets written to: best_model\\assets\n",
      "WARNING:absl:<keras.layers.recurrent.GRUCell object at 0x0000022BCE4C1748> has the same name 'GRUCell' as a built-in Keras object. Consider renaming <class 'keras.layers.recurrent.GRUCell'> to avoid naming conflicts when loading with `tf.keras.models.load_model`. If renaming is not possible, pass the object in the `custom_objects` parameter of the load function.\n",
      "WARNING:absl:<keras.layers.recurrent.GRUCell object at 0x0000022BCE54D988> has the same name 'GRUCell' as a built-in Keras object. Consider renaming <class 'keras.layers.recurrent.GRUCell'> to avoid naming conflicts when loading with `tf.keras.models.load_model`. If renaming is not possible, pass the object in the `custom_objects` parameter of the load function.\n"
     ]
    },
    {
     "name": "stdout",
     "output_type": "stream",
     "text": [
      "1110/1110 [==============================] - 13s 12ms/step - loss: 21.7919 - root_mean_squared_error: 4.6682\n",
      "Epoch 169/200\n",
      "1110/1110 [==============================] - 9s 9ms/step - loss: 21.9245 - root_mean_squared_error: 4.6824\n",
      "Epoch 170/200\n",
      "1105/1110 [============================>.] - ETA: 0s - loss: 21.6083 - root_mean_squared_error: 4.6485"
     ]
    },
    {
     "name": "stderr",
     "output_type": "stream",
     "text": [
      "WARNING:absl:Found untraced functions such as gru_cell_layer_call_fn, gru_cell_layer_call_and_return_conditional_losses while saving (showing 2 of 2). These functions will not be directly callable after loading.\n"
     ]
    },
    {
     "name": "stdout",
     "output_type": "stream",
     "text": [
      "INFO:tensorflow:Assets written to: best_model\\assets\n"
     ]
    },
    {
     "name": "stderr",
     "output_type": "stream",
     "text": [
      "INFO:tensorflow:Assets written to: best_model\\assets\n",
      "WARNING:absl:<keras.layers.recurrent.GRUCell object at 0x0000022BCE4C1748> has the same name 'GRUCell' as a built-in Keras object. Consider renaming <class 'keras.layers.recurrent.GRUCell'> to avoid naming conflicts when loading with `tf.keras.models.load_model`. If renaming is not possible, pass the object in the `custom_objects` parameter of the load function.\n",
      "WARNING:absl:<keras.layers.recurrent.GRUCell object at 0x0000022BCE54D988> has the same name 'GRUCell' as a built-in Keras object. Consider renaming <class 'keras.layers.recurrent.GRUCell'> to avoid naming conflicts when loading with `tf.keras.models.load_model`. If renaming is not possible, pass the object in the `custom_objects` parameter of the load function.\n"
     ]
    },
    {
     "name": "stdout",
     "output_type": "stream",
     "text": [
      "1110/1110 [==============================] - 13s 12ms/step - loss: 21.6509 - root_mean_squared_error: 4.6531\n",
      "Epoch 171/200\n",
      "1110/1110 [==============================] - 10s 9ms/step - loss: 21.7823 - root_mean_squared_error: 4.6672\n",
      "Epoch 172/200\n",
      "1110/1110 [==============================] - 10s 9ms/step - loss: 21.7447 - root_mean_squared_error: 4.6631\n",
      "Epoch 173/200\n",
      "1110/1110 [==============================] - 9s 9ms/step - loss: 21.7082 - root_mean_squared_error: 4.6592\n",
      "Epoch 174/200\n",
      "1110/1110 [==============================] - 10s 9ms/step - loss: 21.7695 - root_mean_squared_error: 4.6658\n",
      "Epoch 175/200\n",
      "1110/1110 [==============================] - 9s 9ms/step - loss: 22.0280 - root_mean_squared_error: 4.6934\n",
      "Epoch 176/200\n",
      "1110/1110 [==============================] - 10s 9ms/step - loss: 21.7465 - root_mean_squared_error: 4.6633\n",
      "Epoch 177/200\n",
      "1105/1110 [============================>.] - ETA: 0s - loss: 21.6133 - root_mean_squared_error: 4.6490"
     ]
    },
    {
     "name": "stderr",
     "output_type": "stream",
     "text": [
      "WARNING:absl:Found untraced functions such as gru_cell_layer_call_fn, gru_cell_layer_call_and_return_conditional_losses while saving (showing 2 of 2). These functions will not be directly callable after loading.\n"
     ]
    },
    {
     "name": "stdout",
     "output_type": "stream",
     "text": [
      "INFO:tensorflow:Assets written to: best_model\\assets\n"
     ]
    },
    {
     "name": "stderr",
     "output_type": "stream",
     "text": [
      "INFO:tensorflow:Assets written to: best_model\\assets\n",
      "WARNING:absl:<keras.layers.recurrent.GRUCell object at 0x0000022BCE4C1748> has the same name 'GRUCell' as a built-in Keras object. Consider renaming <class 'keras.layers.recurrent.GRUCell'> to avoid naming conflicts when loading with `tf.keras.models.load_model`. If renaming is not possible, pass the object in the `custom_objects` parameter of the load function.\n",
      "WARNING:absl:<keras.layers.recurrent.GRUCell object at 0x0000022BCE54D988> has the same name 'GRUCell' as a built-in Keras object. Consider renaming <class 'keras.layers.recurrent.GRUCell'> to avoid naming conflicts when loading with `tf.keras.models.load_model`. If renaming is not possible, pass the object in the `custom_objects` parameter of the load function.\n"
     ]
    },
    {
     "name": "stdout",
     "output_type": "stream",
     "text": [
      "1110/1110 [==============================] - 13s 12ms/step - loss: 21.5662 - root_mean_squared_error: 4.6439\n",
      "Epoch 178/200\n",
      "1110/1110 [==============================] - ETA: 0s - loss: 20.6310 - root_mean_squared_error: 4.5421"
     ]
    },
    {
     "name": "stderr",
     "output_type": "stream",
     "text": [
      "WARNING:absl:Found untraced functions such as gru_cell_layer_call_fn, gru_cell_layer_call_and_return_conditional_losses while saving (showing 2 of 2). These functions will not be directly callable after loading.\n"
     ]
    },
    {
     "name": "stdout",
     "output_type": "stream",
     "text": [
      "INFO:tensorflow:Assets written to: best_model\\assets\n"
     ]
    },
    {
     "name": "stderr",
     "output_type": "stream",
     "text": [
      "INFO:tensorflow:Assets written to: best_model\\assets\n",
      "WARNING:absl:<keras.layers.recurrent.GRUCell object at 0x0000022BCE4C1748> has the same name 'GRUCell' as a built-in Keras object. Consider renaming <class 'keras.layers.recurrent.GRUCell'> to avoid naming conflicts when loading with `tf.keras.models.load_model`. If renaming is not possible, pass the object in the `custom_objects` parameter of the load function.\n",
      "WARNING:absl:<keras.layers.recurrent.GRUCell object at 0x0000022BCE54D988> has the same name 'GRUCell' as a built-in Keras object. Consider renaming <class 'keras.layers.recurrent.GRUCell'> to avoid naming conflicts when loading with `tf.keras.models.load_model`. If renaming is not possible, pass the object in the `custom_objects` parameter of the load function.\n"
     ]
    },
    {
     "name": "stdout",
     "output_type": "stream",
     "text": [
      "1110/1110 [==============================] - 13s 12ms/step - loss: 20.6310 - root_mean_squared_error: 4.5421\n",
      "Epoch 179/200\n",
      "1110/1110 [==============================] - 9s 8ms/step - loss: 21.5896 - root_mean_squared_error: 4.6465\n",
      "Epoch 180/200\n",
      "1106/1110 [============================>.] - ETA: 0s - loss: 20.5076 - root_mean_squared_error: 4.5285"
     ]
    },
    {
     "name": "stderr",
     "output_type": "stream",
     "text": [
      "WARNING:absl:Found untraced functions such as gru_cell_layer_call_fn, gru_cell_layer_call_and_return_conditional_losses while saving (showing 2 of 2). These functions will not be directly callable after loading.\n"
     ]
    },
    {
     "name": "stdout",
     "output_type": "stream",
     "text": [
      "INFO:tensorflow:Assets written to: best_model\\assets\n"
     ]
    },
    {
     "name": "stderr",
     "output_type": "stream",
     "text": [
      "INFO:tensorflow:Assets written to: best_model\\assets\n",
      "WARNING:absl:<keras.layers.recurrent.GRUCell object at 0x0000022BCE4C1748> has the same name 'GRUCell' as a built-in Keras object. Consider renaming <class 'keras.layers.recurrent.GRUCell'> to avoid naming conflicts when loading with `tf.keras.models.load_model`. If renaming is not possible, pass the object in the `custom_objects` parameter of the load function.\n",
      "WARNING:absl:<keras.layers.recurrent.GRUCell object at 0x0000022BCE54D988> has the same name 'GRUCell' as a built-in Keras object. Consider renaming <class 'keras.layers.recurrent.GRUCell'> to avoid naming conflicts when loading with `tf.keras.models.load_model`. If renaming is not possible, pass the object in the `custom_objects` parameter of the load function.\n"
     ]
    },
    {
     "name": "stdout",
     "output_type": "stream",
     "text": [
      "1110/1110 [==============================] - 13s 12ms/step - loss: 20.5369 - root_mean_squared_error: 4.5318\n",
      "Epoch 181/200\n",
      "1110/1110 [==============================] - 9s 9ms/step - loss: 21.4713 - root_mean_squared_error: 4.6337\n",
      "Epoch 182/200\n",
      "1110/1110 [==============================] - 10s 9ms/step - loss: 21.3590 - root_mean_squared_error: 4.6216\n",
      "Epoch 183/200\n",
      "1110/1110 [==============================] - 10s 9ms/step - loss: 21.4265 - root_mean_squared_error: 4.6289\n",
      "Epoch 184/200\n",
      "1110/1110 [==============================] - 10s 9ms/step - loss: 21.2892 - root_mean_squared_error: 4.6140\n",
      "Epoch 185/200\n",
      "1110/1110 [==============================] - 10s 9ms/step - loss: 21.0155 - root_mean_squared_error: 4.5843\n",
      "Epoch 186/200\n",
      "1110/1110 [==============================] - 10s 9ms/step - loss: 21.1753 - root_mean_squared_error: 4.6017\n",
      "Epoch 187/200\n",
      "1110/1110 [==============================] - 10s 9ms/step - loss: 21.3077 - root_mean_squared_error: 4.6160\n",
      "Epoch 188/200\n",
      "1110/1110 [==============================] - 10s 9ms/step - loss: 21.5398 - root_mean_squared_error: 4.6411\n",
      "Epoch 189/200\n",
      "1110/1110 [==============================] - 10s 9ms/step - loss: 20.7706 - root_mean_squared_error: 4.5575\n",
      "Epoch 190/200\n",
      "1110/1110 [==============================] - 10s 9ms/step - loss: 21.3417 - root_mean_squared_error: 4.6197\n",
      "Epoch 191/200\n",
      "1110/1110 [==============================] - 10s 9ms/step - loss: 21.1398 - root_mean_squared_error: 4.5978\n",
      "Epoch 192/200\n",
      "1110/1110 [==============================] - 10s 9ms/step - loss: 21.0789 - root_mean_squared_error: 4.5912\n",
      "Epoch 193/200\n",
      "1110/1110 [==============================] - 10s 9ms/step - loss: 20.8047 - root_mean_squared_error: 4.5612\n",
      "Epoch 194/200\n",
      "1106/1110 [============================>.] - ETA: 0s - loss: 20.1872 - root_mean_squared_error: 4.4930"
     ]
    },
    {
     "name": "stderr",
     "output_type": "stream",
     "text": [
      "WARNING:absl:Found untraced functions such as gru_cell_layer_call_fn, gru_cell_layer_call_and_return_conditional_losses while saving (showing 2 of 2). These functions will not be directly callable after loading.\n"
     ]
    },
    {
     "name": "stdout",
     "output_type": "stream",
     "text": [
      "INFO:tensorflow:Assets written to: best_model\\assets\n"
     ]
    },
    {
     "name": "stderr",
     "output_type": "stream",
     "text": [
      "INFO:tensorflow:Assets written to: best_model\\assets\n",
      "WARNING:absl:<keras.layers.recurrent.GRUCell object at 0x0000022BCE4C1748> has the same name 'GRUCell' as a built-in Keras object. Consider renaming <class 'keras.layers.recurrent.GRUCell'> to avoid naming conflicts when loading with `tf.keras.models.load_model`. If renaming is not possible, pass the object in the `custom_objects` parameter of the load function.\n",
      "WARNING:absl:<keras.layers.recurrent.GRUCell object at 0x0000022BCE54D988> has the same name 'GRUCell' as a built-in Keras object. Consider renaming <class 'keras.layers.recurrent.GRUCell'> to avoid naming conflicts when loading with `tf.keras.models.load_model`. If renaming is not possible, pass the object in the `custom_objects` parameter of the load function.\n"
     ]
    },
    {
     "name": "stdout",
     "output_type": "stream",
     "text": [
      "1110/1110 [==============================] - 13s 12ms/step - loss: 20.1837 - root_mean_squared_error: 4.4926\n",
      "Epoch 195/200\n",
      "1110/1110 [==============================] - 10s 9ms/step - loss: 20.7723 - root_mean_squared_error: 4.5577\n",
      "Epoch 196/200\n",
      "1110/1110 [==============================] - 10s 9ms/step - loss: 21.2984 - root_mean_squared_error: 4.6150\n",
      "Epoch 197/200\n",
      "1110/1110 [==============================] - 10s 9ms/step - loss: 20.6207 - root_mean_squared_error: 4.5410\n",
      "Epoch 198/200\n",
      "1105/1110 [============================>.] - ETA: 0s - loss: 20.0427 - root_mean_squared_error: 4.4769"
     ]
    },
    {
     "name": "stderr",
     "output_type": "stream",
     "text": [
      "WARNING:absl:Found untraced functions such as gru_cell_layer_call_fn, gru_cell_layer_call_and_return_conditional_losses while saving (showing 2 of 2). These functions will not be directly callable after loading.\n"
     ]
    },
    {
     "name": "stdout",
     "output_type": "stream",
     "text": [
      "INFO:tensorflow:Assets written to: best_model\\assets\n"
     ]
    },
    {
     "name": "stderr",
     "output_type": "stream",
     "text": [
      "INFO:tensorflow:Assets written to: best_model\\assets\n",
      "WARNING:absl:<keras.layers.recurrent.GRUCell object at 0x0000022BCE4C1748> has the same name 'GRUCell' as a built-in Keras object. Consider renaming <class 'keras.layers.recurrent.GRUCell'> to avoid naming conflicts when loading with `tf.keras.models.load_model`. If renaming is not possible, pass the object in the `custom_objects` parameter of the load function.\n",
      "WARNING:absl:<keras.layers.recurrent.GRUCell object at 0x0000022BCE54D988> has the same name 'GRUCell' as a built-in Keras object. Consider renaming <class 'keras.layers.recurrent.GRUCell'> to avoid naming conflicts when loading with `tf.keras.models.load_model`. If renaming is not possible, pass the object in the `custom_objects` parameter of the load function.\n"
     ]
    },
    {
     "name": "stdout",
     "output_type": "stream",
     "text": [
      "1110/1110 [==============================] - 13s 12ms/step - loss: 20.0182 - root_mean_squared_error: 4.4742\n",
      "Epoch 199/200\n",
      "1110/1110 [==============================] - 9s 9ms/step - loss: 20.7078 - root_mean_squared_error: 4.5506\n",
      "Epoch 200/200\n",
      "1110/1110 [==============================] - 10s 9ms/step - loss: 20.6762 - root_mean_squared_error: 4.5471\n",
      "278/278 [==============================] - 1s 3ms/step - loss: 28.1680 - root_mean_squared_error: 5.3074\n",
      "Epoch 1/200\n",
      "1110/1110 [==============================] - 9s 8ms/step - loss: 22.3837 - root_mean_squared_error: 4.7311\n",
      "Epoch 2/200\n",
      "1110/1110 [==============================] - 9s 8ms/step - loss: 22.4572 - root_mean_squared_error: 4.7389\n",
      "Epoch 3/200\n",
      "1110/1110 [==============================] - 9s 9ms/step - loss: 21.9940 - root_mean_squared_error: 4.6898\n",
      "Epoch 4/200\n",
      "1110/1110 [==============================] - 9s 8ms/step - loss: 22.0404 - root_mean_squared_error: 4.6947\n",
      "Epoch 5/200\n",
      "1110/1110 [==============================] - 9s 8ms/step - loss: 21.3692 - root_mean_squared_error: 4.6227\n",
      "Epoch 6/200\n",
      "1110/1110 [==============================] - 9s 8ms/step - loss: 21.4770 - root_mean_squared_error: 4.6343\n",
      "Epoch 7/200\n",
      "1110/1110 [==============================] - 9s 8ms/step - loss: 21.4631 - root_mean_squared_error: 4.6328\n",
      "Epoch 8/200\n",
      "1110/1110 [==============================] - 9s 8ms/step - loss: 21.7370 - root_mean_squared_error: 4.6623\n",
      "Epoch 9/200\n",
      "1110/1110 [==============================] - 9s 8ms/step - loss: 21.2651 - root_mean_squared_error: 4.6114\n",
      "Epoch 10/200\n",
      "1110/1110 [==============================] - 9s 8ms/step - loss: 21.2809 - root_mean_squared_error: 4.6131\n",
      "Epoch 11/200\n",
      "1110/1110 [==============================] - 9s 8ms/step - loss: 20.6943 - root_mean_squared_error: 4.5491\n",
      "Epoch 12/200\n",
      "1110/1110 [==============================] - 9s 9ms/step - loss: 21.1502 - root_mean_squared_error: 4.5989\n",
      "Epoch 13/200\n",
      "1110/1110 [==============================] - 9s 8ms/step - loss: 20.7570 - root_mean_squared_error: 4.5560\n",
      "Epoch 14/200\n",
      "1110/1110 [==============================] - 9s 8ms/step - loss: 20.5380 - root_mean_squared_error: 4.5319\n",
      "Epoch 15/200\n",
      "1110/1110 [==============================] - 9s 8ms/step - loss: 20.3649 - root_mean_squared_error: 4.5128\n",
      "Epoch 16/200\n",
      "1110/1110 [==============================] - 9s 8ms/step - loss: 20.2681 - root_mean_squared_error: 4.5020\n",
      "Epoch 17/200\n",
      "1110/1110 [==============================] - 9s 8ms/step - loss: 20.0564 - root_mean_squared_error: 4.4784\n",
      "Epoch 18/200\n",
      "1106/1110 [============================>.] - ETA: 0s - loss: 19.8557 - root_mean_squared_error: 4.4560"
     ]
    },
    {
     "name": "stderr",
     "output_type": "stream",
     "text": [
      "WARNING:absl:Found untraced functions such as gru_cell_layer_call_fn, gru_cell_layer_call_and_return_conditional_losses while saving (showing 2 of 2). These functions will not be directly callable after loading.\n"
     ]
    },
    {
     "name": "stdout",
     "output_type": "stream",
     "text": [
      "INFO:tensorflow:Assets written to: best_model\\assets\n"
     ]
    },
    {
     "name": "stderr",
     "output_type": "stream",
     "text": [
      "INFO:tensorflow:Assets written to: best_model\\assets\n",
      "WARNING:absl:<keras.layers.recurrent.GRUCell object at 0x0000022BCE4C1748> has the same name 'GRUCell' as a built-in Keras object. Consider renaming <class 'keras.layers.recurrent.GRUCell'> to avoid naming conflicts when loading with `tf.keras.models.load_model`. If renaming is not possible, pass the object in the `custom_objects` parameter of the load function.\n",
      "WARNING:absl:<keras.layers.recurrent.GRUCell object at 0x0000022BCE54D988> has the same name 'GRUCell' as a built-in Keras object. Consider renaming <class 'keras.layers.recurrent.GRUCell'> to avoid naming conflicts when loading with `tf.keras.models.load_model`. If renaming is not possible, pass the object in the `custom_objects` parameter of the load function.\n"
     ]
    },
    {
     "name": "stdout",
     "output_type": "stream",
     "text": [
      "1110/1110 [==============================] - 13s 12ms/step - loss: 19.8253 - root_mean_squared_error: 4.4526\n",
      "Epoch 19/200\n",
      "1110/1110 [==============================] - 9s 8ms/step - loss: 20.3128 - root_mean_squared_error: 4.5070\n",
      "Epoch 20/200\n",
      "1110/1110 [==============================] - 10s 9ms/step - loss: 20.4534 - root_mean_squared_error: 4.5225\n",
      "Epoch 21/200\n",
      "1110/1110 [==============================] - 9s 8ms/step - loss: 20.3470 - root_mean_squared_error: 4.5108\n",
      "Epoch 22/200\n",
      "1110/1110 [==============================] - 10s 9ms/step - loss: 20.7377 - root_mean_squared_error: 4.5539\n",
      "Epoch 23/200\n",
      "1110/1110 [==============================] - 10s 9ms/step - loss: 20.5500 - root_mean_squared_error: 4.5332\n",
      "Epoch 24/200\n",
      "1110/1110 [==============================] - 10s 9ms/step - loss: 20.1348 - root_mean_squared_error: 4.4872\n",
      "Epoch 25/200\n",
      "1110/1110 [==============================] - 10s 9ms/step - loss: 19.9794 - root_mean_squared_error: 4.4698\n",
      "Epoch 26/200\n",
      "1108/1110 [============================>.] - ETA: 0s - loss: 19.7349 - root_mean_squared_error: 4.4424"
     ]
    },
    {
     "name": "stderr",
     "output_type": "stream",
     "text": [
      "WARNING:absl:Found untraced functions such as gru_cell_layer_call_fn, gru_cell_layer_call_and_return_conditional_losses while saving (showing 2 of 2). These functions will not be directly callable after loading.\n"
     ]
    },
    {
     "name": "stdout",
     "output_type": "stream",
     "text": [
      "INFO:tensorflow:Assets written to: best_model\\assets\n"
     ]
    },
    {
     "name": "stderr",
     "output_type": "stream",
     "text": [
      "INFO:tensorflow:Assets written to: best_model\\assets\n",
      "WARNING:absl:<keras.layers.recurrent.GRUCell object at 0x0000022BCE4C1748> has the same name 'GRUCell' as a built-in Keras object. Consider renaming <class 'keras.layers.recurrent.GRUCell'> to avoid naming conflicts when loading with `tf.keras.models.load_model`. If renaming is not possible, pass the object in the `custom_objects` parameter of the load function.\n",
      "WARNING:absl:<keras.layers.recurrent.GRUCell object at 0x0000022BCE54D988> has the same name 'GRUCell' as a built-in Keras object. Consider renaming <class 'keras.layers.recurrent.GRUCell'> to avoid naming conflicts when loading with `tf.keras.models.load_model`. If renaming is not possible, pass the object in the `custom_objects` parameter of the load function.\n"
     ]
    },
    {
     "name": "stdout",
     "output_type": "stream",
     "text": [
      "1110/1110 [==============================] - 13s 12ms/step - loss: 19.7310 - root_mean_squared_error: 4.4420\n",
      "Epoch 27/200\n",
      "1110/1110 [==============================] - ETA: 0s - loss: 19.6385 - root_mean_squared_error: 4.4315"
     ]
    },
    {
     "name": "stderr",
     "output_type": "stream",
     "text": [
      "WARNING:absl:Found untraced functions such as gru_cell_layer_call_fn, gru_cell_layer_call_and_return_conditional_losses while saving (showing 2 of 2). These functions will not be directly callable after loading.\n"
     ]
    },
    {
     "name": "stdout",
     "output_type": "stream",
     "text": [
      "INFO:tensorflow:Assets written to: best_model\\assets\n"
     ]
    },
    {
     "name": "stderr",
     "output_type": "stream",
     "text": [
      "INFO:tensorflow:Assets written to: best_model\\assets\n",
      "WARNING:absl:<keras.layers.recurrent.GRUCell object at 0x0000022BCE4C1748> has the same name 'GRUCell' as a built-in Keras object. Consider renaming <class 'keras.layers.recurrent.GRUCell'> to avoid naming conflicts when loading with `tf.keras.models.load_model`. If renaming is not possible, pass the object in the `custom_objects` parameter of the load function.\n",
      "WARNING:absl:<keras.layers.recurrent.GRUCell object at 0x0000022BCE54D988> has the same name 'GRUCell' as a built-in Keras object. Consider renaming <class 'keras.layers.recurrent.GRUCell'> to avoid naming conflicts when loading with `tf.keras.models.load_model`. If renaming is not possible, pass the object in the `custom_objects` parameter of the load function.\n"
     ]
    },
    {
     "name": "stdout",
     "output_type": "stream",
     "text": [
      "1110/1110 [==============================] - 13s 12ms/step - loss: 19.6385 - root_mean_squared_error: 4.4315\n",
      "Epoch 28/200\n",
      "1110/1110 [==============================] - 10s 9ms/step - loss: 19.8917 - root_mean_squared_error: 4.4600\n",
      "Epoch 29/200\n",
      "1105/1110 [============================>.] - ETA: 0s - loss: 19.4456 - root_mean_squared_error: 4.4097"
     ]
    },
    {
     "name": "stderr",
     "output_type": "stream",
     "text": [
      "WARNING:absl:Found untraced functions such as gru_cell_layer_call_fn, gru_cell_layer_call_and_return_conditional_losses while saving (showing 2 of 2). These functions will not be directly callable after loading.\n"
     ]
    },
    {
     "name": "stdout",
     "output_type": "stream",
     "text": [
      "INFO:tensorflow:Assets written to: best_model\\assets\n"
     ]
    },
    {
     "name": "stderr",
     "output_type": "stream",
     "text": [
      "INFO:tensorflow:Assets written to: best_model\\assets\n",
      "WARNING:absl:<keras.layers.recurrent.GRUCell object at 0x0000022BCE4C1748> has the same name 'GRUCell' as a built-in Keras object. Consider renaming <class 'keras.layers.recurrent.GRUCell'> to avoid naming conflicts when loading with `tf.keras.models.load_model`. If renaming is not possible, pass the object in the `custom_objects` parameter of the load function.\n",
      "WARNING:absl:<keras.layers.recurrent.GRUCell object at 0x0000022BCE54D988> has the same name 'GRUCell' as a built-in Keras object. Consider renaming <class 'keras.layers.recurrent.GRUCell'> to avoid naming conflicts when loading with `tf.keras.models.load_model`. If renaming is not possible, pass the object in the `custom_objects` parameter of the load function.\n"
     ]
    },
    {
     "name": "stdout",
     "output_type": "stream",
     "text": [
      "1110/1110 [==============================] - 13s 12ms/step - loss: 19.3940 - root_mean_squared_error: 4.4039\n",
      "Epoch 30/200\n",
      "1110/1110 [==============================] - 9s 9ms/step - loss: 20.2510 - root_mean_squared_error: 4.5001\n",
      "Epoch 31/200\n",
      "1108/1110 [============================>.] - ETA: 0s - loss: 19.3165 - root_mean_squared_error: 4.3951"
     ]
    },
    {
     "name": "stderr",
     "output_type": "stream",
     "text": [
      "WARNING:absl:Found untraced functions such as gru_cell_layer_call_fn, gru_cell_layer_call_and_return_conditional_losses while saving (showing 2 of 2). These functions will not be directly callable after loading.\n"
     ]
    },
    {
     "name": "stdout",
     "output_type": "stream",
     "text": [
      "INFO:tensorflow:Assets written to: best_model\\assets\n"
     ]
    },
    {
     "name": "stderr",
     "output_type": "stream",
     "text": [
      "INFO:tensorflow:Assets written to: best_model\\assets\n",
      "WARNING:absl:<keras.layers.recurrent.GRUCell object at 0x0000022BCE4C1748> has the same name 'GRUCell' as a built-in Keras object. Consider renaming <class 'keras.layers.recurrent.GRUCell'> to avoid naming conflicts when loading with `tf.keras.models.load_model`. If renaming is not possible, pass the object in the `custom_objects` parameter of the load function.\n",
      "WARNING:absl:<keras.layers.recurrent.GRUCell object at 0x0000022BCE54D988> has the same name 'GRUCell' as a built-in Keras object. Consider renaming <class 'keras.layers.recurrent.GRUCell'> to avoid naming conflicts when loading with `tf.keras.models.load_model`. If renaming is not possible, pass the object in the `custom_objects` parameter of the load function.\n"
     ]
    },
    {
     "name": "stdout",
     "output_type": "stream",
     "text": [
      "1110/1110 [==============================] - 14s 12ms/step - loss: 19.3044 - root_mean_squared_error: 4.3937\n",
      "Epoch 32/200\n",
      "1110/1110 [==============================] - 10s 9ms/step - loss: 19.7434 - root_mean_squared_error: 4.4434\n",
      "Epoch 33/200\n",
      "1110/1110 [==============================] - 10s 9ms/step - loss: 19.5650 - root_mean_squared_error: 4.4232\n",
      "Epoch 34/200\n",
      "1110/1110 [==============================] - 10s 9ms/step - loss: 19.4611 - root_mean_squared_error: 4.4115\n",
      "Epoch 35/200\n",
      "1105/1110 [============================>.] - ETA: 0s - loss: 19.2172 - root_mean_squared_error: 4.3837"
     ]
    },
    {
     "name": "stderr",
     "output_type": "stream",
     "text": [
      "WARNING:absl:Found untraced functions such as gru_cell_layer_call_fn, gru_cell_layer_call_and_return_conditional_losses while saving (showing 2 of 2). These functions will not be directly callable after loading.\n"
     ]
    },
    {
     "name": "stdout",
     "output_type": "stream",
     "text": [
      "INFO:tensorflow:Assets written to: best_model\\assets\n"
     ]
    },
    {
     "name": "stderr",
     "output_type": "stream",
     "text": [
      "INFO:tensorflow:Assets written to: best_model\\assets\n",
      "WARNING:absl:<keras.layers.recurrent.GRUCell object at 0x0000022BCE4C1748> has the same name 'GRUCell' as a built-in Keras object. Consider renaming <class 'keras.layers.recurrent.GRUCell'> to avoid naming conflicts when loading with `tf.keras.models.load_model`. If renaming is not possible, pass the object in the `custom_objects` parameter of the load function.\n",
      "WARNING:absl:<keras.layers.recurrent.GRUCell object at 0x0000022BCE54D988> has the same name 'GRUCell' as a built-in Keras object. Consider renaming <class 'keras.layers.recurrent.GRUCell'> to avoid naming conflicts when loading with `tf.keras.models.load_model`. If renaming is not possible, pass the object in the `custom_objects` parameter of the load function.\n"
     ]
    },
    {
     "name": "stdout",
     "output_type": "stream",
     "text": [
      "1110/1110 [==============================] - 14s 13ms/step - loss: 19.1926 - root_mean_squared_error: 4.3809\n",
      "Epoch 36/200\n",
      "1110/1110 [==============================] - 10s 9ms/step - loss: 19.3644 - root_mean_squared_error: 4.4005\n",
      "Epoch 37/200\n",
      "1106/1110 [============================>.] - ETA: 0s - loss: 18.6947 - root_mean_squared_error: 4.3237"
     ]
    },
    {
     "name": "stderr",
     "output_type": "stream",
     "text": [
      "WARNING:absl:Found untraced functions such as gru_cell_layer_call_fn, gru_cell_layer_call_and_return_conditional_losses while saving (showing 2 of 2). These functions will not be directly callable after loading.\n"
     ]
    },
    {
     "name": "stdout",
     "output_type": "stream",
     "text": [
      "INFO:tensorflow:Assets written to: best_model\\assets\n"
     ]
    },
    {
     "name": "stderr",
     "output_type": "stream",
     "text": [
      "INFO:tensorflow:Assets written to: best_model\\assets\n",
      "WARNING:absl:<keras.layers.recurrent.GRUCell object at 0x0000022BCE4C1748> has the same name 'GRUCell' as a built-in Keras object. Consider renaming <class 'keras.layers.recurrent.GRUCell'> to avoid naming conflicts when loading with `tf.keras.models.load_model`. If renaming is not possible, pass the object in the `custom_objects` parameter of the load function.\n",
      "WARNING:absl:<keras.layers.recurrent.GRUCell object at 0x0000022BCE54D988> has the same name 'GRUCell' as a built-in Keras object. Consider renaming <class 'keras.layers.recurrent.GRUCell'> to avoid naming conflicts when loading with `tf.keras.models.load_model`. If renaming is not possible, pass the object in the `custom_objects` parameter of the load function.\n"
     ]
    },
    {
     "name": "stdout",
     "output_type": "stream",
     "text": [
      "1110/1110 [==============================] - 13s 12ms/step - loss: 18.6928 - root_mean_squared_error: 4.3235\n",
      "Epoch 38/200\n",
      "1110/1110 [==============================] - 10s 9ms/step - loss: 19.2148 - root_mean_squared_error: 4.3835\n",
      "Epoch 39/200\n",
      "1110/1110 [==============================] - 10s 9ms/step - loss: 19.0576 - root_mean_squared_error: 4.3655\n",
      "Epoch 40/200\n",
      "1110/1110 [==============================] - 10s 9ms/step - loss: 19.0969 - root_mean_squared_error: 4.3700\n",
      "Epoch 41/200\n",
      "1110/1110 [==============================] - 10s 9ms/step - loss: 18.8118 - root_mean_squared_error: 4.3373\n",
      "Epoch 42/200\n",
      "1110/1110 [==============================] - 10s 9ms/step - loss: 19.0916 - root_mean_squared_error: 4.3694\n",
      "Epoch 43/200\n",
      "1110/1110 [==============================] - 10s 9ms/step - loss: 19.1389 - root_mean_squared_error: 4.3748\n",
      "Epoch 44/200\n",
      "1110/1110 [==============================] - 10s 9ms/step - loss: 18.9261 - root_mean_squared_error: 4.3504\n",
      "Epoch 45/200\n",
      "1110/1110 [==============================] - 10s 9ms/step - loss: 18.9562 - root_mean_squared_error: 4.3539\n",
      "Epoch 46/200\n",
      "1110/1110 [==============================] - 10s 9ms/step - loss: 19.2342 - root_mean_squared_error: 4.3857\n",
      "Epoch 47/200\n",
      "1105/1110 [============================>.] - ETA: 0s - loss: 18.6355 - root_mean_squared_error: 4.3169"
     ]
    },
    {
     "name": "stderr",
     "output_type": "stream",
     "text": [
      "WARNING:absl:Found untraced functions such as gru_cell_layer_call_fn, gru_cell_layer_call_and_return_conditional_losses while saving (showing 2 of 2). These functions will not be directly callable after loading.\n"
     ]
    },
    {
     "name": "stdout",
     "output_type": "stream",
     "text": [
      "INFO:tensorflow:Assets written to: best_model\\assets\n"
     ]
    },
    {
     "name": "stderr",
     "output_type": "stream",
     "text": [
      "INFO:tensorflow:Assets written to: best_model\\assets\n",
      "WARNING:absl:<keras.layers.recurrent.GRUCell object at 0x0000022BCE4C1748> has the same name 'GRUCell' as a built-in Keras object. Consider renaming <class 'keras.layers.recurrent.GRUCell'> to avoid naming conflicts when loading with `tf.keras.models.load_model`. If renaming is not possible, pass the object in the `custom_objects` parameter of the load function.\n",
      "WARNING:absl:<keras.layers.recurrent.GRUCell object at 0x0000022BCE54D988> has the same name 'GRUCell' as a built-in Keras object. Consider renaming <class 'keras.layers.recurrent.GRUCell'> to avoid naming conflicts when loading with `tf.keras.models.load_model`. If renaming is not possible, pass the object in the `custom_objects` parameter of the load function.\n"
     ]
    },
    {
     "name": "stdout",
     "output_type": "stream",
     "text": [
      "1110/1110 [==============================] - 13s 12ms/step - loss: 18.6129 - root_mean_squared_error: 4.3143\n",
      "Epoch 48/200\n",
      "1107/1110 [============================>.] - ETA: 0s - loss: 18.4176 - root_mean_squared_error: 4.2916"
     ]
    },
    {
     "name": "stderr",
     "output_type": "stream",
     "text": [
      "WARNING:absl:Found untraced functions such as gru_cell_layer_call_fn, gru_cell_layer_call_and_return_conditional_losses while saving (showing 2 of 2). These functions will not be directly callable after loading.\n"
     ]
    },
    {
     "name": "stdout",
     "output_type": "stream",
     "text": [
      "INFO:tensorflow:Assets written to: best_model\\assets\n"
     ]
    },
    {
     "name": "stderr",
     "output_type": "stream",
     "text": [
      "INFO:tensorflow:Assets written to: best_model\\assets\n",
      "WARNING:absl:<keras.layers.recurrent.GRUCell object at 0x0000022BCE4C1748> has the same name 'GRUCell' as a built-in Keras object. Consider renaming <class 'keras.layers.recurrent.GRUCell'> to avoid naming conflicts when loading with `tf.keras.models.load_model`. If renaming is not possible, pass the object in the `custom_objects` parameter of the load function.\n",
      "WARNING:absl:<keras.layers.recurrent.GRUCell object at 0x0000022BCE54D988> has the same name 'GRUCell' as a built-in Keras object. Consider renaming <class 'keras.layers.recurrent.GRUCell'> to avoid naming conflicts when loading with `tf.keras.models.load_model`. If renaming is not possible, pass the object in the `custom_objects` parameter of the load function.\n"
     ]
    },
    {
     "name": "stdout",
     "output_type": "stream",
     "text": [
      "1110/1110 [==============================] - 14s 13ms/step - loss: 18.4224 - root_mean_squared_error: 4.2921\n",
      "Epoch 49/200\n",
      "1110/1110 [==============================] - 10s 9ms/step - loss: 18.9049 - root_mean_squared_error: 4.3480\n",
      "Epoch 50/200\n",
      "1110/1110 [==============================] - ETA: 0s - loss: 18.0241 - root_mean_squared_error: 4.2455"
     ]
    },
    {
     "name": "stderr",
     "output_type": "stream",
     "text": [
      "WARNING:absl:Found untraced functions such as gru_cell_layer_call_fn, gru_cell_layer_call_and_return_conditional_losses while saving (showing 2 of 2). These functions will not be directly callable after loading.\n"
     ]
    },
    {
     "name": "stdout",
     "output_type": "stream",
     "text": [
      "INFO:tensorflow:Assets written to: best_model\\assets\n"
     ]
    },
    {
     "name": "stderr",
     "output_type": "stream",
     "text": [
      "INFO:tensorflow:Assets written to: best_model\\assets\n",
      "WARNING:absl:<keras.layers.recurrent.GRUCell object at 0x0000022BCE4C1748> has the same name 'GRUCell' as a built-in Keras object. Consider renaming <class 'keras.layers.recurrent.GRUCell'> to avoid naming conflicts when loading with `tf.keras.models.load_model`. If renaming is not possible, pass the object in the `custom_objects` parameter of the load function.\n",
      "WARNING:absl:<keras.layers.recurrent.GRUCell object at 0x0000022BCE54D988> has the same name 'GRUCell' as a built-in Keras object. Consider renaming <class 'keras.layers.recurrent.GRUCell'> to avoid naming conflicts when loading with `tf.keras.models.load_model`. If renaming is not possible, pass the object in the `custom_objects` parameter of the load function.\n"
     ]
    },
    {
     "name": "stdout",
     "output_type": "stream",
     "text": [
      "1110/1110 [==============================] - 14s 12ms/step - loss: 18.0241 - root_mean_squared_error: 4.2455\n",
      "Epoch 51/200\n",
      "1110/1110 [==============================] - 10s 9ms/step - loss: 19.0997 - root_mean_squared_error: 4.3703\n",
      "Epoch 52/200\n",
      "1110/1110 [==============================] - 10s 9ms/step - loss: 18.5763 - root_mean_squared_error: 4.3100\n",
      "Epoch 53/200\n",
      "1110/1110 [==============================] - 10s 9ms/step - loss: 18.0352 - root_mean_squared_error: 4.2468\n",
      "Epoch 54/200\n",
      "1110/1110 [==============================] - 10s 9ms/step - loss: 18.1765 - root_mean_squared_error: 4.2634\n",
      "Epoch 55/200\n",
      "1110/1110 [==============================] - 10s 9ms/step - loss: 18.3449 - root_mean_squared_error: 4.2831\n",
      "Epoch 56/200\n",
      "1110/1110 [==============================] - 10s 9ms/step - loss: 18.1726 - root_mean_squared_error: 4.2629\n",
      "Epoch 57/200\n",
      "1110/1110 [==============================] - 10s 9ms/step - loss: 18.1522 - root_mean_squared_error: 4.2605\n",
      "Epoch 58/200\n",
      "1109/1110 [============================>.] - ETA: 0s - loss: 18.0266 - root_mean_squared_error: 4.2458"
     ]
    },
    {
     "name": "stderr",
     "output_type": "stream",
     "text": [
      "WARNING:absl:Found untraced functions such as gru_cell_layer_call_fn, gru_cell_layer_call_and_return_conditional_losses while saving (showing 2 of 2). These functions will not be directly callable after loading.\n"
     ]
    },
    {
     "name": "stdout",
     "output_type": "stream",
     "text": [
      "INFO:tensorflow:Assets written to: best_model\\assets\n"
     ]
    },
    {
     "name": "stderr",
     "output_type": "stream",
     "text": [
      "INFO:tensorflow:Assets written to: best_model\\assets\n",
      "WARNING:absl:<keras.layers.recurrent.GRUCell object at 0x0000022BCE4C1748> has the same name 'GRUCell' as a built-in Keras object. Consider renaming <class 'keras.layers.recurrent.GRUCell'> to avoid naming conflicts when loading with `tf.keras.models.load_model`. If renaming is not possible, pass the object in the `custom_objects` parameter of the load function.\n",
      "WARNING:absl:<keras.layers.recurrent.GRUCell object at 0x0000022BCE54D988> has the same name 'GRUCell' as a built-in Keras object. Consider renaming <class 'keras.layers.recurrent.GRUCell'> to avoid naming conflicts when loading with `tf.keras.models.load_model`. If renaming is not possible, pass the object in the `custom_objects` parameter of the load function.\n"
     ]
    },
    {
     "name": "stdout",
     "output_type": "stream",
     "text": [
      "1110/1110 [==============================] - 14s 12ms/step - loss: 18.0224 - root_mean_squared_error: 4.2453\n",
      "Epoch 59/200\n",
      "1110/1110 [==============================] - 10s 9ms/step - loss: 18.4662 - root_mean_squared_error: 4.2972\n",
      "Epoch 60/200\n",
      "1106/1110 [============================>.] - ETA: 0s - loss: 17.8363 - root_mean_squared_error: 4.2233"
     ]
    },
    {
     "name": "stderr",
     "output_type": "stream",
     "text": [
      "WARNING:absl:Found untraced functions such as gru_cell_layer_call_fn, gru_cell_layer_call_and_return_conditional_losses while saving (showing 2 of 2). These functions will not be directly callable after loading.\n"
     ]
    },
    {
     "name": "stdout",
     "output_type": "stream",
     "text": [
      "INFO:tensorflow:Assets written to: best_model\\assets\n"
     ]
    },
    {
     "name": "stderr",
     "output_type": "stream",
     "text": [
      "INFO:tensorflow:Assets written to: best_model\\assets\n",
      "WARNING:absl:<keras.layers.recurrent.GRUCell object at 0x0000022BCE4C1748> has the same name 'GRUCell' as a built-in Keras object. Consider renaming <class 'keras.layers.recurrent.GRUCell'> to avoid naming conflicts when loading with `tf.keras.models.load_model`. If renaming is not possible, pass the object in the `custom_objects` parameter of the load function.\n",
      "WARNING:absl:<keras.layers.recurrent.GRUCell object at 0x0000022BCE54D988> has the same name 'GRUCell' as a built-in Keras object. Consider renaming <class 'keras.layers.recurrent.GRUCell'> to avoid naming conflicts when loading with `tf.keras.models.load_model`. If renaming is not possible, pass the object in the `custom_objects` parameter of the load function.\n"
     ]
    },
    {
     "name": "stdout",
     "output_type": "stream",
     "text": [
      "1110/1110 [==============================] - 14s 12ms/step - loss: 17.8252 - root_mean_squared_error: 4.2220\n",
      "Epoch 61/200\n",
      "1110/1110 [==============================] - 10s 9ms/step - loss: 18.1547 - root_mean_squared_error: 4.2608\n",
      "Epoch 62/200\n",
      "1109/1110 [============================>.] - ETA: 0s - loss: 17.8235 - root_mean_squared_error: 4.2218"
     ]
    },
    {
     "name": "stderr",
     "output_type": "stream",
     "text": [
      "WARNING:absl:Found untraced functions such as gru_cell_layer_call_fn, gru_cell_layer_call_and_return_conditional_losses while saving (showing 2 of 2). These functions will not be directly callable after loading.\n"
     ]
    },
    {
     "name": "stdout",
     "output_type": "stream",
     "text": [
      "INFO:tensorflow:Assets written to: best_model\\assets\n"
     ]
    },
    {
     "name": "stderr",
     "output_type": "stream",
     "text": [
      "INFO:tensorflow:Assets written to: best_model\\assets\n",
      "WARNING:absl:<keras.layers.recurrent.GRUCell object at 0x0000022BCE4C1748> has the same name 'GRUCell' as a built-in Keras object. Consider renaming <class 'keras.layers.recurrent.GRUCell'> to avoid naming conflicts when loading with `tf.keras.models.load_model`. If renaming is not possible, pass the object in the `custom_objects` parameter of the load function.\n",
      "WARNING:absl:<keras.layers.recurrent.GRUCell object at 0x0000022BCE54D988> has the same name 'GRUCell' as a built-in Keras object. Consider renaming <class 'keras.layers.recurrent.GRUCell'> to avoid naming conflicts when loading with `tf.keras.models.load_model`. If renaming is not possible, pass the object in the `custom_objects` parameter of the load function.\n"
     ]
    },
    {
     "name": "stdout",
     "output_type": "stream",
     "text": [
      "1110/1110 [==============================] - 14s 13ms/step - loss: 17.8183 - root_mean_squared_error: 4.2212\n",
      "Epoch 63/200\n",
      "1106/1110 [============================>.] - ETA: 0s - loss: 17.8210 - root_mean_squared_error: 4.2215"
     ]
    },
    {
     "name": "stderr",
     "output_type": "stream",
     "text": [
      "WARNING:absl:Found untraced functions such as gru_cell_layer_call_fn, gru_cell_layer_call_and_return_conditional_losses while saving (showing 2 of 2). These functions will not be directly callable after loading.\n"
     ]
    },
    {
     "name": "stdout",
     "output_type": "stream",
     "text": [
      "INFO:tensorflow:Assets written to: best_model\\assets\n"
     ]
    },
    {
     "name": "stderr",
     "output_type": "stream",
     "text": [
      "INFO:tensorflow:Assets written to: best_model\\assets\n",
      "WARNING:absl:<keras.layers.recurrent.GRUCell object at 0x0000022BCE4C1748> has the same name 'GRUCell' as a built-in Keras object. Consider renaming <class 'keras.layers.recurrent.GRUCell'> to avoid naming conflicts when loading with `tf.keras.models.load_model`. If renaming is not possible, pass the object in the `custom_objects` parameter of the load function.\n",
      "WARNING:absl:<keras.layers.recurrent.GRUCell object at 0x0000022BCE54D988> has the same name 'GRUCell' as a built-in Keras object. Consider renaming <class 'keras.layers.recurrent.GRUCell'> to avoid naming conflicts when loading with `tf.keras.models.load_model`. If renaming is not possible, pass the object in the `custom_objects` parameter of the load function.\n"
     ]
    },
    {
     "name": "stdout",
     "output_type": "stream",
     "text": [
      "1110/1110 [==============================] - 14s 12ms/step - loss: 17.7898 - root_mean_squared_error: 4.2178\n",
      "Epoch 64/200\n",
      "1109/1110 [============================>.] - ETA: 0s - loss: 17.7320 - root_mean_squared_error: 4.2109"
     ]
    },
    {
     "name": "stderr",
     "output_type": "stream",
     "text": [
      "WARNING:absl:Found untraced functions such as gru_cell_layer_call_fn, gru_cell_layer_call_and_return_conditional_losses while saving (showing 2 of 2). These functions will not be directly callable after loading.\n"
     ]
    },
    {
     "name": "stdout",
     "output_type": "stream",
     "text": [
      "INFO:tensorflow:Assets written to: best_model\\assets\n"
     ]
    },
    {
     "name": "stderr",
     "output_type": "stream",
     "text": [
      "INFO:tensorflow:Assets written to: best_model\\assets\n",
      "WARNING:absl:<keras.layers.recurrent.GRUCell object at 0x0000022BCE4C1748> has the same name 'GRUCell' as a built-in Keras object. Consider renaming <class 'keras.layers.recurrent.GRUCell'> to avoid naming conflicts when loading with `tf.keras.models.load_model`. If renaming is not possible, pass the object in the `custom_objects` parameter of the load function.\n",
      "WARNING:absl:<keras.layers.recurrent.GRUCell object at 0x0000022BCE54D988> has the same name 'GRUCell' as a built-in Keras object. Consider renaming <class 'keras.layers.recurrent.GRUCell'> to avoid naming conflicts when loading with `tf.keras.models.load_model`. If renaming is not possible, pass the object in the `custom_objects` parameter of the load function.\n"
     ]
    },
    {
     "name": "stdout",
     "output_type": "stream",
     "text": [
      "1110/1110 [==============================] - 13s 12ms/step - loss: 17.7302 - root_mean_squared_error: 4.2107\n",
      "Epoch 65/200\n",
      "1106/1110 [============================>.] - ETA: 0s - loss: 17.6924 - root_mean_squared_error: 4.2062"
     ]
    },
    {
     "name": "stderr",
     "output_type": "stream",
     "text": [
      "WARNING:absl:Found untraced functions such as gru_cell_layer_call_fn, gru_cell_layer_call_and_return_conditional_losses while saving (showing 2 of 2). These functions will not be directly callable after loading.\n"
     ]
    },
    {
     "name": "stdout",
     "output_type": "stream",
     "text": [
      "INFO:tensorflow:Assets written to: best_model\\assets\n"
     ]
    },
    {
     "name": "stderr",
     "output_type": "stream",
     "text": [
      "INFO:tensorflow:Assets written to: best_model\\assets\n",
      "WARNING:absl:<keras.layers.recurrent.GRUCell object at 0x0000022BCE4C1748> has the same name 'GRUCell' as a built-in Keras object. Consider renaming <class 'keras.layers.recurrent.GRUCell'> to avoid naming conflicts when loading with `tf.keras.models.load_model`. If renaming is not possible, pass the object in the `custom_objects` parameter of the load function.\n",
      "WARNING:absl:<keras.layers.recurrent.GRUCell object at 0x0000022BCE54D988> has the same name 'GRUCell' as a built-in Keras object. Consider renaming <class 'keras.layers.recurrent.GRUCell'> to avoid naming conflicts when loading with `tf.keras.models.load_model`. If renaming is not possible, pass the object in the `custom_objects` parameter of the load function.\n"
     ]
    },
    {
     "name": "stdout",
     "output_type": "stream",
     "text": [
      "1110/1110 [==============================] - 13s 12ms/step - loss: 17.6635 - root_mean_squared_error: 4.2028\n",
      "Epoch 66/200\n",
      "1110/1110 [==============================] - 10s 9ms/step - loss: 17.7439 - root_mean_squared_error: 4.2124\n",
      "Epoch 67/200\n",
      "1110/1110 [==============================] - 10s 9ms/step - loss: 17.7569 - root_mean_squared_error: 4.2139\n",
      "Epoch 68/200\n",
      "1110/1110 [==============================] - 10s 9ms/step - loss: 17.9291 - root_mean_squared_error: 4.2343\n",
      "Epoch 69/200\n",
      "1107/1110 [============================>.] - ETA: 0s - loss: 17.2597 - root_mean_squared_error: 4.1545"
     ]
    },
    {
     "name": "stderr",
     "output_type": "stream",
     "text": [
      "WARNING:absl:Found untraced functions such as gru_cell_layer_call_fn, gru_cell_layer_call_and_return_conditional_losses while saving (showing 2 of 2). These functions will not be directly callable after loading.\n"
     ]
    },
    {
     "name": "stdout",
     "output_type": "stream",
     "text": [
      "INFO:tensorflow:Assets written to: best_model\\assets\n"
     ]
    },
    {
     "name": "stderr",
     "output_type": "stream",
     "text": [
      "INFO:tensorflow:Assets written to: best_model\\assets\n",
      "WARNING:absl:<keras.layers.recurrent.GRUCell object at 0x0000022BCE4C1748> has the same name 'GRUCell' as a built-in Keras object. Consider renaming <class 'keras.layers.recurrent.GRUCell'> to avoid naming conflicts when loading with `tf.keras.models.load_model`. If renaming is not possible, pass the object in the `custom_objects` parameter of the load function.\n",
      "WARNING:absl:<keras.layers.recurrent.GRUCell object at 0x0000022BCE54D988> has the same name 'GRUCell' as a built-in Keras object. Consider renaming <class 'keras.layers.recurrent.GRUCell'> to avoid naming conflicts when loading with `tf.keras.models.load_model`. If renaming is not possible, pass the object in the `custom_objects` parameter of the load function.\n"
     ]
    },
    {
     "name": "stdout",
     "output_type": "stream",
     "text": [
      "1110/1110 [==============================] - 13s 12ms/step - loss: 17.2492 - root_mean_squared_error: 4.1532\n",
      "Epoch 70/200\n",
      "1110/1110 [==============================] - 10s 9ms/step - loss: 17.5560 - root_mean_squared_error: 4.1900\n",
      "Epoch 71/200\n",
      "1110/1110 [==============================] - 10s 9ms/step - loss: 17.5815 - root_mean_squared_error: 4.1930\n",
      "Epoch 72/200\n",
      "1110/1110 [==============================] - 10s 9ms/step - loss: 17.2877 - root_mean_squared_error: 4.1578\n",
      "Epoch 73/200\n",
      "1110/1110 [==============================] - 10s 9ms/step - loss: 17.4939 - root_mean_squared_error: 4.1826\n",
      "Epoch 74/200\n",
      "1107/1110 [============================>.] - ETA: 0s - loss: 17.2356 - root_mean_squared_error: 4.1516"
     ]
    },
    {
     "name": "stderr",
     "output_type": "stream",
     "text": [
      "WARNING:absl:Found untraced functions such as gru_cell_layer_call_fn, gru_cell_layer_call_and_return_conditional_losses while saving (showing 2 of 2). These functions will not be directly callable after loading.\n"
     ]
    },
    {
     "name": "stdout",
     "output_type": "stream",
     "text": [
      "INFO:tensorflow:Assets written to: best_model\\assets\n"
     ]
    },
    {
     "name": "stderr",
     "output_type": "stream",
     "text": [
      "INFO:tensorflow:Assets written to: best_model\\assets\n",
      "WARNING:absl:<keras.layers.recurrent.GRUCell object at 0x0000022BCE4C1748> has the same name 'GRUCell' as a built-in Keras object. Consider renaming <class 'keras.layers.recurrent.GRUCell'> to avoid naming conflicts when loading with `tf.keras.models.load_model`. If renaming is not possible, pass the object in the `custom_objects` parameter of the load function.\n",
      "WARNING:absl:<keras.layers.recurrent.GRUCell object at 0x0000022BCE54D988> has the same name 'GRUCell' as a built-in Keras object. Consider renaming <class 'keras.layers.recurrent.GRUCell'> to avoid naming conflicts when loading with `tf.keras.models.load_model`. If renaming is not possible, pass the object in the `custom_objects` parameter of the load function.\n"
     ]
    },
    {
     "name": "stdout",
     "output_type": "stream",
     "text": [
      "1110/1110 [==============================] - 14s 12ms/step - loss: 17.2218 - root_mean_squared_error: 4.1499\n",
      "Epoch 75/200\n",
      "1110/1110 [==============================] - 9s 8ms/step - loss: 17.5238 - root_mean_squared_error: 4.1861\n",
      "Epoch 76/200\n",
      "1109/1110 [============================>.] - ETA: 0s - loss: 17.0105 - root_mean_squared_error: 4.1244"
     ]
    },
    {
     "name": "stderr",
     "output_type": "stream",
     "text": [
      "WARNING:absl:Found untraced functions such as gru_cell_layer_call_fn, gru_cell_layer_call_and_return_conditional_losses while saving (showing 2 of 2). These functions will not be directly callable after loading.\n"
     ]
    },
    {
     "name": "stdout",
     "output_type": "stream",
     "text": [
      "INFO:tensorflow:Assets written to: best_model\\assets\n"
     ]
    },
    {
     "name": "stderr",
     "output_type": "stream",
     "text": [
      "INFO:tensorflow:Assets written to: best_model\\assets\n",
      "WARNING:absl:<keras.layers.recurrent.GRUCell object at 0x0000022BCE4C1748> has the same name 'GRUCell' as a built-in Keras object. Consider renaming <class 'keras.layers.recurrent.GRUCell'> to avoid naming conflicts when loading with `tf.keras.models.load_model`. If renaming is not possible, pass the object in the `custom_objects` parameter of the load function.\n",
      "WARNING:absl:<keras.layers.recurrent.GRUCell object at 0x0000022BCE54D988> has the same name 'GRUCell' as a built-in Keras object. Consider renaming <class 'keras.layers.recurrent.GRUCell'> to avoid naming conflicts when loading with `tf.keras.models.load_model`. If renaming is not possible, pass the object in the `custom_objects` parameter of the load function.\n"
     ]
    },
    {
     "name": "stdout",
     "output_type": "stream",
     "text": [
      "1110/1110 [==============================] - 13s 12ms/step - loss: 17.0084 - root_mean_squared_error: 4.1241\n",
      "Epoch 77/200\n",
      "1107/1110 [============================>.] - ETA: 0s - loss: 16.8077 - root_mean_squared_error: 4.0997"
     ]
    },
    {
     "name": "stderr",
     "output_type": "stream",
     "text": [
      "WARNING:absl:Found untraced functions such as gru_cell_layer_call_fn, gru_cell_layer_call_and_return_conditional_losses while saving (showing 2 of 2). These functions will not be directly callable after loading.\n"
     ]
    },
    {
     "name": "stdout",
     "output_type": "stream",
     "text": [
      "INFO:tensorflow:Assets written to: best_model\\assets\n"
     ]
    },
    {
     "name": "stderr",
     "output_type": "stream",
     "text": [
      "INFO:tensorflow:Assets written to: best_model\\assets\n",
      "WARNING:absl:<keras.layers.recurrent.GRUCell object at 0x0000022BCE4C1748> has the same name 'GRUCell' as a built-in Keras object. Consider renaming <class 'keras.layers.recurrent.GRUCell'> to avoid naming conflicts when loading with `tf.keras.models.load_model`. If renaming is not possible, pass the object in the `custom_objects` parameter of the load function.\n",
      "WARNING:absl:<keras.layers.recurrent.GRUCell object at 0x0000022BCE54D988> has the same name 'GRUCell' as a built-in Keras object. Consider renaming <class 'keras.layers.recurrent.GRUCell'> to avoid naming conflicts when loading with `tf.keras.models.load_model`. If renaming is not possible, pass the object in the `custom_objects` parameter of the load function.\n"
     ]
    },
    {
     "name": "stdout",
     "output_type": "stream",
     "text": [
      "1110/1110 [==============================] - 14s 12ms/step - loss: 16.8460 - root_mean_squared_error: 4.1044\n",
      "Epoch 78/200\n",
      "1108/1110 [============================>.] - ETA: 0s - loss: 16.6747 - root_mean_squared_error: 4.0835"
     ]
    },
    {
     "name": "stderr",
     "output_type": "stream",
     "text": [
      "WARNING:absl:Found untraced functions such as gru_cell_layer_call_fn, gru_cell_layer_call_and_return_conditional_losses while saving (showing 2 of 2). These functions will not be directly callable after loading.\n"
     ]
    },
    {
     "name": "stdout",
     "output_type": "stream",
     "text": [
      "INFO:tensorflow:Assets written to: best_model\\assets\n"
     ]
    },
    {
     "name": "stderr",
     "output_type": "stream",
     "text": [
      "INFO:tensorflow:Assets written to: best_model\\assets\n",
      "WARNING:absl:<keras.layers.recurrent.GRUCell object at 0x0000022BCE4C1748> has the same name 'GRUCell' as a built-in Keras object. Consider renaming <class 'keras.layers.recurrent.GRUCell'> to avoid naming conflicts when loading with `tf.keras.models.load_model`. If renaming is not possible, pass the object in the `custom_objects` parameter of the load function.\n",
      "WARNING:absl:<keras.layers.recurrent.GRUCell object at 0x0000022BCE54D988> has the same name 'GRUCell' as a built-in Keras object. Consider renaming <class 'keras.layers.recurrent.GRUCell'> to avoid naming conflicts when loading with `tf.keras.models.load_model`. If renaming is not possible, pass the object in the `custom_objects` parameter of the load function.\n"
     ]
    },
    {
     "name": "stdout",
     "output_type": "stream",
     "text": [
      "1110/1110 [==============================] - 14s 12ms/step - loss: 16.6699 - root_mean_squared_error: 4.0829\n",
      "Epoch 79/200\n",
      "1110/1110 [==============================] - 10s 9ms/step - loss: 17.2316 - root_mean_squared_error: 4.1511\n",
      "Epoch 80/200\n",
      "1110/1110 [==============================] - 10s 9ms/step - loss: 17.6488 - root_mean_squared_error: 4.2010\n",
      "Epoch 81/200\n",
      "1110/1110 [==============================] - 10s 9ms/step - loss: 16.8619 - root_mean_squared_error: 4.1063\n",
      "Epoch 82/200\n",
      "1110/1110 [==============================] - 10s 9ms/step - loss: 17.0619 - root_mean_squared_error: 4.1306\n",
      "Epoch 83/200\n",
      "1110/1110 [==============================] - 10s 9ms/step - loss: 16.9842 - root_mean_squared_error: 4.1212\n",
      "Epoch 84/200\n",
      "1108/1110 [============================>.] - ETA: 0s - loss: 16.6512 - root_mean_squared_error: 4.0806"
     ]
    },
    {
     "name": "stderr",
     "output_type": "stream",
     "text": [
      "WARNING:absl:Found untraced functions such as gru_cell_layer_call_fn, gru_cell_layer_call_and_return_conditional_losses while saving (showing 2 of 2). These functions will not be directly callable after loading.\n"
     ]
    },
    {
     "name": "stdout",
     "output_type": "stream",
     "text": [
      "INFO:tensorflow:Assets written to: best_model\\assets\n"
     ]
    },
    {
     "name": "stderr",
     "output_type": "stream",
     "text": [
      "INFO:tensorflow:Assets written to: best_model\\assets\n",
      "WARNING:absl:<keras.layers.recurrent.GRUCell object at 0x0000022BCE4C1748> has the same name 'GRUCell' as a built-in Keras object. Consider renaming <class 'keras.layers.recurrent.GRUCell'> to avoid naming conflicts when loading with `tf.keras.models.load_model`. If renaming is not possible, pass the object in the `custom_objects` parameter of the load function.\n",
      "WARNING:absl:<keras.layers.recurrent.GRUCell object at 0x0000022BCE54D988> has the same name 'GRUCell' as a built-in Keras object. Consider renaming <class 'keras.layers.recurrent.GRUCell'> to avoid naming conflicts when loading with `tf.keras.models.load_model`. If renaming is not possible, pass the object in the `custom_objects` parameter of the load function.\n"
     ]
    },
    {
     "name": "stdout",
     "output_type": "stream",
     "text": [
      "1110/1110 [==============================] - 14s 12ms/step - loss: 16.6535 - root_mean_squared_error: 4.0809\n",
      "Epoch 85/200\n",
      "1110/1110 [==============================] - 10s 9ms/step - loss: 16.7978 - root_mean_squared_error: 4.0985\n",
      "Epoch 86/200\n",
      "1110/1110 [==============================] - 10s 9ms/step - loss: 17.3911 - root_mean_squared_error: 4.1703\n",
      "Epoch 87/200\n",
      "1110/1110 [==============================] - 10s 9ms/step - loss: 16.6927 - root_mean_squared_error: 4.0857\n",
      "Epoch 88/200\n",
      "1110/1110 [==============================] - 10s 9ms/step - loss: 16.7524 - root_mean_squared_error: 4.0930\n",
      "Epoch 89/200\n",
      "1105/1110 [============================>.] - ETA: 0s - loss: 16.5936 - root_mean_squared_error: 4.0735"
     ]
    },
    {
     "name": "stderr",
     "output_type": "stream",
     "text": [
      "WARNING:absl:Found untraced functions such as gru_cell_layer_call_fn, gru_cell_layer_call_and_return_conditional_losses while saving (showing 2 of 2). These functions will not be directly callable after loading.\n"
     ]
    },
    {
     "name": "stdout",
     "output_type": "stream",
     "text": [
      "INFO:tensorflow:Assets written to: best_model\\assets\n"
     ]
    },
    {
     "name": "stderr",
     "output_type": "stream",
     "text": [
      "INFO:tensorflow:Assets written to: best_model\\assets\n",
      "WARNING:absl:<keras.layers.recurrent.GRUCell object at 0x0000022BCE4C1748> has the same name 'GRUCell' as a built-in Keras object. Consider renaming <class 'keras.layers.recurrent.GRUCell'> to avoid naming conflicts when loading with `tf.keras.models.load_model`. If renaming is not possible, pass the object in the `custom_objects` parameter of the load function.\n",
      "WARNING:absl:<keras.layers.recurrent.GRUCell object at 0x0000022BCE54D988> has the same name 'GRUCell' as a built-in Keras object. Consider renaming <class 'keras.layers.recurrent.GRUCell'> to avoid naming conflicts when loading with `tf.keras.models.load_model`. If renaming is not possible, pass the object in the `custom_objects` parameter of the load function.\n"
     ]
    },
    {
     "name": "stdout",
     "output_type": "stream",
     "text": [
      "1110/1110 [==============================] - 13s 12ms/step - loss: 16.6100 - root_mean_squared_error: 4.0755\n",
      "Epoch 90/200\n",
      "1106/1110 [============================>.] - ETA: 0s - loss: 16.5795 - root_mean_squared_error: 4.0718"
     ]
    },
    {
     "name": "stderr",
     "output_type": "stream",
     "text": [
      "WARNING:absl:Found untraced functions such as gru_cell_layer_call_fn, gru_cell_layer_call_and_return_conditional_losses while saving (showing 2 of 2). These functions will not be directly callable after loading.\n"
     ]
    },
    {
     "name": "stdout",
     "output_type": "stream",
     "text": [
      "INFO:tensorflow:Assets written to: best_model\\assets\n"
     ]
    },
    {
     "name": "stderr",
     "output_type": "stream",
     "text": [
      "INFO:tensorflow:Assets written to: best_model\\assets\n",
      "WARNING:absl:<keras.layers.recurrent.GRUCell object at 0x0000022BCE4C1748> has the same name 'GRUCell' as a built-in Keras object. Consider renaming <class 'keras.layers.recurrent.GRUCell'> to avoid naming conflicts when loading with `tf.keras.models.load_model`. If renaming is not possible, pass the object in the `custom_objects` parameter of the load function.\n",
      "WARNING:absl:<keras.layers.recurrent.GRUCell object at 0x0000022BCE54D988> has the same name 'GRUCell' as a built-in Keras object. Consider renaming <class 'keras.layers.recurrent.GRUCell'> to avoid naming conflicts when loading with `tf.keras.models.load_model`. If renaming is not possible, pass the object in the `custom_objects` parameter of the load function.\n"
     ]
    },
    {
     "name": "stdout",
     "output_type": "stream",
     "text": [
      "1110/1110 [==============================] - 13s 12ms/step - loss: 16.5710 - root_mean_squared_error: 4.0708\n",
      "Epoch 91/200\n",
      "1107/1110 [============================>.] - ETA: 0s - loss: 16.3844 - root_mean_squared_error: 4.0478"
     ]
    },
    {
     "name": "stderr",
     "output_type": "stream",
     "text": [
      "WARNING:absl:Found untraced functions such as gru_cell_layer_call_fn, gru_cell_layer_call_and_return_conditional_losses while saving (showing 2 of 2). These functions will not be directly callable after loading.\n"
     ]
    },
    {
     "name": "stdout",
     "output_type": "stream",
     "text": [
      "INFO:tensorflow:Assets written to: best_model\\assets\n"
     ]
    },
    {
     "name": "stderr",
     "output_type": "stream",
     "text": [
      "INFO:tensorflow:Assets written to: best_model\\assets\n",
      "WARNING:absl:<keras.layers.recurrent.GRUCell object at 0x0000022BCE4C1748> has the same name 'GRUCell' as a built-in Keras object. Consider renaming <class 'keras.layers.recurrent.GRUCell'> to avoid naming conflicts when loading with `tf.keras.models.load_model`. If renaming is not possible, pass the object in the `custom_objects` parameter of the load function.\n",
      "WARNING:absl:<keras.layers.recurrent.GRUCell object at 0x0000022BCE54D988> has the same name 'GRUCell' as a built-in Keras object. Consider renaming <class 'keras.layers.recurrent.GRUCell'> to avoid naming conflicts when loading with `tf.keras.models.load_model`. If renaming is not possible, pass the object in the `custom_objects` parameter of the load function.\n"
     ]
    },
    {
     "name": "stdout",
     "output_type": "stream",
     "text": [
      "1110/1110 [==============================] - 13s 12ms/step - loss: 16.3779 - root_mean_squared_error: 4.0470\n",
      "Epoch 92/200\n",
      "1110/1110 [==============================] - 10s 9ms/step - loss: 16.8001 - root_mean_squared_error: 4.0988\n",
      "Epoch 93/200\n",
      "1110/1110 [==============================] - 9s 8ms/step - loss: 16.6373 - root_mean_squared_error: 4.0789\n",
      "Epoch 94/200\n",
      "1110/1110 [==============================] - 9s 9ms/step - loss: 16.4885 - root_mean_squared_error: 4.0606\n",
      "Epoch 95/200\n",
      "1108/1110 [============================>.] - ETA: 0s - loss: 16.2335 - root_mean_squared_error: 4.0291"
     ]
    },
    {
     "name": "stderr",
     "output_type": "stream",
     "text": [
      "WARNING:absl:Found untraced functions such as gru_cell_layer_call_fn, gru_cell_layer_call_and_return_conditional_losses while saving (showing 2 of 2). These functions will not be directly callable after loading.\n"
     ]
    },
    {
     "name": "stdout",
     "output_type": "stream",
     "text": [
      "INFO:tensorflow:Assets written to: best_model\\assets\n"
     ]
    },
    {
     "name": "stderr",
     "output_type": "stream",
     "text": [
      "INFO:tensorflow:Assets written to: best_model\\assets\n",
      "WARNING:absl:<keras.layers.recurrent.GRUCell object at 0x0000022BCE4C1748> has the same name 'GRUCell' as a built-in Keras object. Consider renaming <class 'keras.layers.recurrent.GRUCell'> to avoid naming conflicts when loading with `tf.keras.models.load_model`. If renaming is not possible, pass the object in the `custom_objects` parameter of the load function.\n",
      "WARNING:absl:<keras.layers.recurrent.GRUCell object at 0x0000022BCE54D988> has the same name 'GRUCell' as a built-in Keras object. Consider renaming <class 'keras.layers.recurrent.GRUCell'> to avoid naming conflicts when loading with `tf.keras.models.load_model`. If renaming is not possible, pass the object in the `custom_objects` parameter of the load function.\n"
     ]
    },
    {
     "name": "stdout",
     "output_type": "stream",
     "text": [
      "1110/1110 [==============================] - 13s 12ms/step - loss: 16.2303 - root_mean_squared_error: 4.0287\n",
      "Epoch 96/200\n",
      "1110/1110 [==============================] - 10s 9ms/step - loss: 16.3047 - root_mean_squared_error: 4.0379\n",
      "Epoch 97/200\n",
      "1110/1110 [==============================] - 10s 9ms/step - loss: 16.4024 - root_mean_squared_error: 4.0500\n",
      "Epoch 98/200\n",
      "1110/1110 [==============================] - ETA: 0s - loss: 16.0347 - root_mean_squared_error: 4.0043"
     ]
    },
    {
     "name": "stderr",
     "output_type": "stream",
     "text": [
      "WARNING:absl:Found untraced functions such as gru_cell_layer_call_fn, gru_cell_layer_call_and_return_conditional_losses while saving (showing 2 of 2). These functions will not be directly callable after loading.\n"
     ]
    },
    {
     "name": "stdout",
     "output_type": "stream",
     "text": [
      "INFO:tensorflow:Assets written to: best_model\\assets\n"
     ]
    },
    {
     "name": "stderr",
     "output_type": "stream",
     "text": [
      "INFO:tensorflow:Assets written to: best_model\\assets\n",
      "WARNING:absl:<keras.layers.recurrent.GRUCell object at 0x0000022BCE4C1748> has the same name 'GRUCell' as a built-in Keras object. Consider renaming <class 'keras.layers.recurrent.GRUCell'> to avoid naming conflicts when loading with `tf.keras.models.load_model`. If renaming is not possible, pass the object in the `custom_objects` parameter of the load function.\n",
      "WARNING:absl:<keras.layers.recurrent.GRUCell object at 0x0000022BCE54D988> has the same name 'GRUCell' as a built-in Keras object. Consider renaming <class 'keras.layers.recurrent.GRUCell'> to avoid naming conflicts when loading with `tf.keras.models.load_model`. If renaming is not possible, pass the object in the `custom_objects` parameter of the load function.\n"
     ]
    },
    {
     "name": "stdout",
     "output_type": "stream",
     "text": [
      "1110/1110 [==============================] - 14s 12ms/step - loss: 16.0347 - root_mean_squared_error: 4.0043\n",
      "Epoch 99/200\n",
      "1107/1110 [============================>.] - ETA: 0s - loss: 15.7882 - root_mean_squared_error: 3.9734"
     ]
    },
    {
     "name": "stderr",
     "output_type": "stream",
     "text": [
      "WARNING:absl:Found untraced functions such as gru_cell_layer_call_fn, gru_cell_layer_call_and_return_conditional_losses while saving (showing 2 of 2). These functions will not be directly callable after loading.\n"
     ]
    },
    {
     "name": "stdout",
     "output_type": "stream",
     "text": [
      "INFO:tensorflow:Assets written to: best_model\\assets\n"
     ]
    },
    {
     "name": "stderr",
     "output_type": "stream",
     "text": [
      "INFO:tensorflow:Assets written to: best_model\\assets\n",
      "WARNING:absl:<keras.layers.recurrent.GRUCell object at 0x0000022BCE4C1748> has the same name 'GRUCell' as a built-in Keras object. Consider renaming <class 'keras.layers.recurrent.GRUCell'> to avoid naming conflicts when loading with `tf.keras.models.load_model`. If renaming is not possible, pass the object in the `custom_objects` parameter of the load function.\n",
      "WARNING:absl:<keras.layers.recurrent.GRUCell object at 0x0000022BCE54D988> has the same name 'GRUCell' as a built-in Keras object. Consider renaming <class 'keras.layers.recurrent.GRUCell'> to avoid naming conflicts when loading with `tf.keras.models.load_model`. If renaming is not possible, pass the object in the `custom_objects` parameter of the load function.\n"
     ]
    },
    {
     "name": "stdout",
     "output_type": "stream",
     "text": [
      "1110/1110 [==============================] - 13s 12ms/step - loss: 15.8354 - root_mean_squared_error: 3.9794\n",
      "Epoch 100/200\n",
      "1110/1110 [==============================] - 10s 9ms/step - loss: 16.7783 - root_mean_squared_error: 4.0961\n",
      "Epoch 101/200\n",
      "1110/1110 [==============================] - 10s 9ms/step - loss: 16.2454 - root_mean_squared_error: 4.0306\n",
      "Epoch 102/200\n",
      "1110/1110 [==============================] - 10s 9ms/step - loss: 16.4492 - root_mean_squared_error: 4.0558\n",
      "Epoch 103/200\n",
      "1110/1110 [==============================] - 10s 9ms/step - loss: 15.8939 - root_mean_squared_error: 3.9867\n",
      "Epoch 104/200\n",
      "1110/1110 [==============================] - 10s 9ms/step - loss: 16.2131 - root_mean_squared_error: 4.0265\n",
      "Epoch 105/200\n",
      "1110/1110 [==============================] - 10s 9ms/step - loss: 16.3845 - root_mean_squared_error: 4.0478\n",
      "Epoch 106/200\n",
      "1110/1110 [==============================] - 10s 9ms/step - loss: 16.0095 - root_mean_squared_error: 4.0012\n",
      "Epoch 107/200\n",
      "1110/1110 [==============================] - 10s 9ms/step - loss: 16.2163 - root_mean_squared_error: 4.0270\n",
      "Epoch 108/200\n",
      "1110/1110 [==============================] - 10s 9ms/step - loss: 16.1448 - root_mean_squared_error: 4.0181\n",
      "Epoch 109/200\n",
      "1110/1110 [==============================] - 10s 9ms/step - loss: 16.0793 - root_mean_squared_error: 4.0099\n",
      "Epoch 110/200\n",
      "1110/1110 [==============================] - 10s 9ms/step - loss: 16.0557 - root_mean_squared_error: 4.0070\n",
      "Epoch 111/200\n",
      "1110/1110 [==============================] - 10s 9ms/step - loss: 15.9971 - root_mean_squared_error: 3.9996\n",
      "Epoch 112/200\n",
      "1110/1110 [==============================] - 10s 9ms/step - loss: 15.8439 - root_mean_squared_error: 3.9804\n",
      "Epoch 113/200\n",
      "1110/1110 [==============================] - 10s 9ms/step - loss: 16.2149 - root_mean_squared_error: 4.0268\n",
      "Epoch 114/200\n",
      "1110/1110 [==============================] - 10s 9ms/step - loss: 15.9623 - root_mean_squared_error: 3.9953\n",
      "Epoch 115/200\n",
      "1110/1110 [==============================] - 10s 9ms/step - loss: 16.1235 - root_mean_squared_error: 4.0154\n",
      "Epoch 116/200\n",
      "1110/1110 [==============================] - 10s 9ms/step - loss: 15.9652 - root_mean_squared_error: 3.9956\n",
      "Epoch 117/200\n",
      "1109/1110 [============================>.] - ETA: 0s - loss: 15.8270 - root_mean_squared_error: 3.9783"
     ]
    },
    {
     "name": "stderr",
     "output_type": "stream",
     "text": [
      "WARNING:absl:Found untraced functions such as gru_cell_layer_call_fn, gru_cell_layer_call_and_return_conditional_losses while saving (showing 2 of 2). These functions will not be directly callable after loading.\n"
     ]
    },
    {
     "name": "stdout",
     "output_type": "stream",
     "text": [
      "INFO:tensorflow:Assets written to: best_model\\assets\n"
     ]
    },
    {
     "name": "stderr",
     "output_type": "stream",
     "text": [
      "INFO:tensorflow:Assets written to: best_model\\assets\n",
      "WARNING:absl:<keras.layers.recurrent.GRUCell object at 0x0000022BCE4C1748> has the same name 'GRUCell' as a built-in Keras object. Consider renaming <class 'keras.layers.recurrent.GRUCell'> to avoid naming conflicts when loading with `tf.keras.models.load_model`. If renaming is not possible, pass the object in the `custom_objects` parameter of the load function.\n",
      "WARNING:absl:<keras.layers.recurrent.GRUCell object at 0x0000022BCE54D988> has the same name 'GRUCell' as a built-in Keras object. Consider renaming <class 'keras.layers.recurrent.GRUCell'> to avoid naming conflicts when loading with `tf.keras.models.load_model`. If renaming is not possible, pass the object in the `custom_objects` parameter of the load function.\n"
     ]
    },
    {
     "name": "stdout",
     "output_type": "stream",
     "text": [
      "1110/1110 [==============================] - 13s 12ms/step - loss: 15.8237 - root_mean_squared_error: 3.9779\n",
      "Epoch 118/200\n",
      "1110/1110 [==============================] - ETA: 0s - loss: 15.5419 - root_mean_squared_error: 3.9423"
     ]
    },
    {
     "name": "stderr",
     "output_type": "stream",
     "text": [
      "WARNING:absl:Found untraced functions such as gru_cell_layer_call_fn, gru_cell_layer_call_and_return_conditional_losses while saving (showing 2 of 2). These functions will not be directly callable after loading.\n"
     ]
    },
    {
     "name": "stdout",
     "output_type": "stream",
     "text": [
      "INFO:tensorflow:Assets written to: best_model\\assets\n"
     ]
    },
    {
     "name": "stderr",
     "output_type": "stream",
     "text": [
      "INFO:tensorflow:Assets written to: best_model\\assets\n",
      "WARNING:absl:<keras.layers.recurrent.GRUCell object at 0x0000022BCE4C1748> has the same name 'GRUCell' as a built-in Keras object. Consider renaming <class 'keras.layers.recurrent.GRUCell'> to avoid naming conflicts when loading with `tf.keras.models.load_model`. If renaming is not possible, pass the object in the `custom_objects` parameter of the load function.\n",
      "WARNING:absl:<keras.layers.recurrent.GRUCell object at 0x0000022BCE54D988> has the same name 'GRUCell' as a built-in Keras object. Consider renaming <class 'keras.layers.recurrent.GRUCell'> to avoid naming conflicts when loading with `tf.keras.models.load_model`. If renaming is not possible, pass the object in the `custom_objects` parameter of the load function.\n"
     ]
    },
    {
     "name": "stdout",
     "output_type": "stream",
     "text": [
      "1110/1110 [==============================] - 13s 12ms/step - loss: 15.5419 - root_mean_squared_error: 3.9423\n",
      "Epoch 119/200\n",
      "1110/1110 [==============================] - 10s 9ms/step - loss: 15.6806 - root_mean_squared_error: 3.9599\n",
      "Epoch 120/200\n",
      "1108/1110 [============================>.] - ETA: 0s - loss: 15.1711 - root_mean_squared_error: 3.8950"
     ]
    },
    {
     "name": "stderr",
     "output_type": "stream",
     "text": [
      "WARNING:absl:Found untraced functions such as gru_cell_layer_call_fn, gru_cell_layer_call_and_return_conditional_losses while saving (showing 2 of 2). These functions will not be directly callable after loading.\n"
     ]
    },
    {
     "name": "stdout",
     "output_type": "stream",
     "text": [
      "INFO:tensorflow:Assets written to: best_model\\assets\n"
     ]
    },
    {
     "name": "stderr",
     "output_type": "stream",
     "text": [
      "INFO:tensorflow:Assets written to: best_model\\assets\n",
      "WARNING:absl:<keras.layers.recurrent.GRUCell object at 0x0000022BCE4C1748> has the same name 'GRUCell' as a built-in Keras object. Consider renaming <class 'keras.layers.recurrent.GRUCell'> to avoid naming conflicts when loading with `tf.keras.models.load_model`. If renaming is not possible, pass the object in the `custom_objects` parameter of the load function.\n",
      "WARNING:absl:<keras.layers.recurrent.GRUCell object at 0x0000022BCE54D988> has the same name 'GRUCell' as a built-in Keras object. Consider renaming <class 'keras.layers.recurrent.GRUCell'> to avoid naming conflicts when loading with `tf.keras.models.load_model`. If renaming is not possible, pass the object in the `custom_objects` parameter of the load function.\n"
     ]
    },
    {
     "name": "stdout",
     "output_type": "stream",
     "text": [
      "1110/1110 [==============================] - 13s 12ms/step - loss: 15.1676 - root_mean_squared_error: 3.8946\n",
      "Epoch 121/200\n",
      "1110/1110 [==============================] - 9s 9ms/step - loss: 15.6732 - root_mean_squared_error: 3.9589\n",
      "Epoch 122/200\n",
      "1110/1110 [==============================] - 10s 9ms/step - loss: 15.5934 - root_mean_squared_error: 3.9489\n",
      "Epoch 123/200\n",
      "1110/1110 [==============================] - 10s 9ms/step - loss: 15.5317 - root_mean_squared_error: 3.9410\n",
      "Epoch 124/200\n",
      "1110/1110 [==============================] - 10s 9ms/step - loss: 15.2210 - root_mean_squared_error: 3.9014\n",
      "Epoch 125/200\n",
      "1108/1110 [============================>.] - ETA: 0s - loss: 14.9776 - root_mean_squared_error: 3.8701"
     ]
    },
    {
     "name": "stderr",
     "output_type": "stream",
     "text": [
      "WARNING:absl:Found untraced functions such as gru_cell_layer_call_fn, gru_cell_layer_call_and_return_conditional_losses while saving (showing 2 of 2). These functions will not be directly callable after loading.\n"
     ]
    },
    {
     "name": "stdout",
     "output_type": "stream",
     "text": [
      "INFO:tensorflow:Assets written to: best_model\\assets\n"
     ]
    },
    {
     "name": "stderr",
     "output_type": "stream",
     "text": [
      "INFO:tensorflow:Assets written to: best_model\\assets\n",
      "WARNING:absl:<keras.layers.recurrent.GRUCell object at 0x0000022BCE4C1748> has the same name 'GRUCell' as a built-in Keras object. Consider renaming <class 'keras.layers.recurrent.GRUCell'> to avoid naming conflicts when loading with `tf.keras.models.load_model`. If renaming is not possible, pass the object in the `custom_objects` parameter of the load function.\n",
      "WARNING:absl:<keras.layers.recurrent.GRUCell object at 0x0000022BCE54D988> has the same name 'GRUCell' as a built-in Keras object. Consider renaming <class 'keras.layers.recurrent.GRUCell'> to avoid naming conflicts when loading with `tf.keras.models.load_model`. If renaming is not possible, pass the object in the `custom_objects` parameter of the load function.\n"
     ]
    },
    {
     "name": "stdout",
     "output_type": "stream",
     "text": [
      "1110/1110 [==============================] - 13s 12ms/step - loss: 14.9780 - root_mean_squared_error: 3.8701\n",
      "Epoch 126/200\n",
      "1110/1110 [==============================] - 9s 9ms/step - loss: 15.1045 - root_mean_squared_error: 3.8865\n",
      "Epoch 127/200\n",
      "1110/1110 [==============================] - 10s 9ms/step - loss: 15.5837 - root_mean_squared_error: 3.9476\n",
      "Epoch 128/200\n",
      "1110/1110 [==============================] - 10s 9ms/step - loss: 15.3038 - root_mean_squared_error: 3.9120\n",
      "Epoch 129/200\n",
      "1110/1110 [==============================] - 10s 9ms/step - loss: 15.1860 - root_mean_squared_error: 3.8969\n",
      "Epoch 130/200\n",
      "1110/1110 [==============================] - 10s 9ms/step - loss: 15.4254 - root_mean_squared_error: 3.9275\n",
      "Epoch 131/200\n",
      "1110/1110 [==============================] - 10s 9ms/step - loss: 15.3706 - root_mean_squared_error: 3.9205\n",
      "Epoch 132/200\n",
      "1107/1110 [============================>.] - ETA: 0s - loss: 14.9586 - root_mean_squared_error: 3.8676"
     ]
    },
    {
     "name": "stderr",
     "output_type": "stream",
     "text": [
      "WARNING:absl:Found untraced functions such as gru_cell_layer_call_fn, gru_cell_layer_call_and_return_conditional_losses while saving (showing 2 of 2). These functions will not be directly callable after loading.\n"
     ]
    },
    {
     "name": "stdout",
     "output_type": "stream",
     "text": [
      "INFO:tensorflow:Assets written to: best_model\\assets\n"
     ]
    },
    {
     "name": "stderr",
     "output_type": "stream",
     "text": [
      "INFO:tensorflow:Assets written to: best_model\\assets\n",
      "WARNING:absl:<keras.layers.recurrent.GRUCell object at 0x0000022BCE4C1748> has the same name 'GRUCell' as a built-in Keras object. Consider renaming <class 'keras.layers.recurrent.GRUCell'> to avoid naming conflicts when loading with `tf.keras.models.load_model`. If renaming is not possible, pass the object in the `custom_objects` parameter of the load function.\n",
      "WARNING:absl:<keras.layers.recurrent.GRUCell object at 0x0000022BCE54D988> has the same name 'GRUCell' as a built-in Keras object. Consider renaming <class 'keras.layers.recurrent.GRUCell'> to avoid naming conflicts when loading with `tf.keras.models.load_model`. If renaming is not possible, pass the object in the `custom_objects` parameter of the load function.\n"
     ]
    },
    {
     "name": "stdout",
     "output_type": "stream",
     "text": [
      "1110/1110 [==============================] - 13s 12ms/step - loss: 14.9670 - root_mean_squared_error: 3.8687\n",
      "Epoch 133/200\n",
      "1107/1110 [============================>.] - ETA: 0s - loss: 14.8231 - root_mean_squared_error: 3.8501"
     ]
    },
    {
     "name": "stderr",
     "output_type": "stream",
     "text": [
      "WARNING:absl:Found untraced functions such as gru_cell_layer_call_fn, gru_cell_layer_call_and_return_conditional_losses while saving (showing 2 of 2). These functions will not be directly callable after loading.\n"
     ]
    },
    {
     "name": "stdout",
     "output_type": "stream",
     "text": [
      "INFO:tensorflow:Assets written to: best_model\\assets\n"
     ]
    },
    {
     "name": "stderr",
     "output_type": "stream",
     "text": [
      "INFO:tensorflow:Assets written to: best_model\\assets\n",
      "WARNING:absl:<keras.layers.recurrent.GRUCell object at 0x0000022BCE4C1748> has the same name 'GRUCell' as a built-in Keras object. Consider renaming <class 'keras.layers.recurrent.GRUCell'> to avoid naming conflicts when loading with `tf.keras.models.load_model`. If renaming is not possible, pass the object in the `custom_objects` parameter of the load function.\n",
      "WARNING:absl:<keras.layers.recurrent.GRUCell object at 0x0000022BCE54D988> has the same name 'GRUCell' as a built-in Keras object. Consider renaming <class 'keras.layers.recurrent.GRUCell'> to avoid naming conflicts when loading with `tf.keras.models.load_model`. If renaming is not possible, pass the object in the `custom_objects` parameter of the load function.\n"
     ]
    },
    {
     "name": "stdout",
     "output_type": "stream",
     "text": [
      "1110/1110 [==============================] - 13s 12ms/step - loss: 14.8480 - root_mean_squared_error: 3.8533\n",
      "Epoch 134/200\n",
      "1110/1110 [==============================] - 9s 8ms/step - loss: 15.2031 - root_mean_squared_error: 3.8991\n",
      "Epoch 135/200\n",
      "1110/1110 [==============================] - 9s 8ms/step - loss: 15.2018 - root_mean_squared_error: 3.8989\n",
      "Epoch 136/200\n",
      "1110/1110 [==============================] - 9s 9ms/step - loss: 15.0649 - root_mean_squared_error: 3.8814\n",
      "Epoch 137/200\n",
      "1110/1110 [==============================] - 9s 8ms/step - loss: 14.9726 - root_mean_squared_error: 3.8694\n",
      "Epoch 138/200\n",
      "1110/1110 [==============================] - 9s 8ms/step - loss: 15.1884 - root_mean_squared_error: 3.8972\n",
      "Epoch 139/200\n",
      "1110/1110 [==============================] - 9s 9ms/step - loss: 15.1855 - root_mean_squared_error: 3.8969\n",
      "Epoch 140/200\n",
      "1110/1110 [==============================] - 9s 8ms/step - loss: 15.0231 - root_mean_squared_error: 3.8760\n",
      "Epoch 141/200\n",
      "1108/1110 [============================>.] - ETA: 0s - loss: 14.6427 - root_mean_squared_error: 3.8266"
     ]
    },
    {
     "name": "stderr",
     "output_type": "stream",
     "text": [
      "WARNING:absl:Found untraced functions such as gru_cell_layer_call_fn, gru_cell_layer_call_and_return_conditional_losses while saving (showing 2 of 2). These functions will not be directly callable after loading.\n"
     ]
    },
    {
     "name": "stdout",
     "output_type": "stream",
     "text": [
      "INFO:tensorflow:Assets written to: best_model\\assets\n"
     ]
    },
    {
     "name": "stderr",
     "output_type": "stream",
     "text": [
      "INFO:tensorflow:Assets written to: best_model\\assets\n",
      "WARNING:absl:<keras.layers.recurrent.GRUCell object at 0x0000022BCE4C1748> has the same name 'GRUCell' as a built-in Keras object. Consider renaming <class 'keras.layers.recurrent.GRUCell'> to avoid naming conflicts when loading with `tf.keras.models.load_model`. If renaming is not possible, pass the object in the `custom_objects` parameter of the load function.\n",
      "WARNING:absl:<keras.layers.recurrent.GRUCell object at 0x0000022BCE54D988> has the same name 'GRUCell' as a built-in Keras object. Consider renaming <class 'keras.layers.recurrent.GRUCell'> to avoid naming conflicts when loading with `tf.keras.models.load_model`. If renaming is not possible, pass the object in the `custom_objects` parameter of the load function.\n"
     ]
    },
    {
     "name": "stdout",
     "output_type": "stream",
     "text": [
      "1110/1110 [==============================] - 13s 12ms/step - loss: 14.6465 - root_mean_squared_error: 3.8271\n",
      "Epoch 142/200\n",
      "1109/1110 [============================>.] - ETA: 0s - loss: 14.5905 - root_mean_squared_error: 3.8198"
     ]
    },
    {
     "name": "stderr",
     "output_type": "stream",
     "text": [
      "WARNING:absl:Found untraced functions such as gru_cell_layer_call_fn, gru_cell_layer_call_and_return_conditional_losses while saving (showing 2 of 2). These functions will not be directly callable after loading.\n"
     ]
    },
    {
     "name": "stdout",
     "output_type": "stream",
     "text": [
      "INFO:tensorflow:Assets written to: best_model\\assets\n"
     ]
    },
    {
     "name": "stderr",
     "output_type": "stream",
     "text": [
      "INFO:tensorflow:Assets written to: best_model\\assets\n",
      "WARNING:absl:<keras.layers.recurrent.GRUCell object at 0x0000022BCE4C1748> has the same name 'GRUCell' as a built-in Keras object. Consider renaming <class 'keras.layers.recurrent.GRUCell'> to avoid naming conflicts when loading with `tf.keras.models.load_model`. If renaming is not possible, pass the object in the `custom_objects` parameter of the load function.\n",
      "WARNING:absl:<keras.layers.recurrent.GRUCell object at 0x0000022BCE54D988> has the same name 'GRUCell' as a built-in Keras object. Consider renaming <class 'keras.layers.recurrent.GRUCell'> to avoid naming conflicts when loading with `tf.keras.models.load_model`. If renaming is not possible, pass the object in the `custom_objects` parameter of the load function.\n"
     ]
    },
    {
     "name": "stdout",
     "output_type": "stream",
     "text": [
      "1110/1110 [==============================] - 13s 12ms/step - loss: 14.5919 - root_mean_squared_error: 3.8199\n",
      "Epoch 143/200\n",
      "1110/1110 [==============================] - 10s 9ms/step - loss: 14.9249 - root_mean_squared_error: 3.8633\n",
      "Epoch 144/200\n",
      "1110/1110 [==============================] - 10s 9ms/step - loss: 15.0275 - root_mean_squared_error: 3.8765\n",
      "Epoch 145/200\n",
      "1110/1110 [==============================] - 10s 9ms/step - loss: 14.6154 - root_mean_squared_error: 3.8230\n",
      "Epoch 146/200\n",
      "1110/1110 [==============================] - 10s 9ms/step - loss: 14.7706 - root_mean_squared_error: 3.8433\n",
      "Epoch 147/200\n",
      "1110/1110 [==============================] - 10s 9ms/step - loss: 14.6960 - root_mean_squared_error: 3.8335\n",
      "Epoch 148/200\n",
      "1110/1110 [==============================] - 10s 9ms/step - loss: 14.7459 - root_mean_squared_error: 3.8400\n",
      "Epoch 149/200\n",
      "1104/1110 [============================>.] - ETA: 0s - loss: 14.3903 - root_mean_squared_error: 3.7935"
     ]
    },
    {
     "name": "stderr",
     "output_type": "stream",
     "text": [
      "WARNING:absl:Found untraced functions such as gru_cell_layer_call_fn, gru_cell_layer_call_and_return_conditional_losses while saving (showing 2 of 2). These functions will not be directly callable after loading.\n"
     ]
    },
    {
     "name": "stdout",
     "output_type": "stream",
     "text": [
      "INFO:tensorflow:Assets written to: best_model\\assets\n"
     ]
    },
    {
     "name": "stderr",
     "output_type": "stream",
     "text": [
      "INFO:tensorflow:Assets written to: best_model\\assets\n",
      "WARNING:absl:<keras.layers.recurrent.GRUCell object at 0x0000022BCE4C1748> has the same name 'GRUCell' as a built-in Keras object. Consider renaming <class 'keras.layers.recurrent.GRUCell'> to avoid naming conflicts when loading with `tf.keras.models.load_model`. If renaming is not possible, pass the object in the `custom_objects` parameter of the load function.\n",
      "WARNING:absl:<keras.layers.recurrent.GRUCell object at 0x0000022BCE54D988> has the same name 'GRUCell' as a built-in Keras object. Consider renaming <class 'keras.layers.recurrent.GRUCell'> to avoid naming conflicts when loading with `tf.keras.models.load_model`. If renaming is not possible, pass the object in the `custom_objects` parameter of the load function.\n"
     ]
    },
    {
     "name": "stdout",
     "output_type": "stream",
     "text": [
      "1110/1110 [==============================] - 13s 12ms/step - loss: 14.4059 - root_mean_squared_error: 3.7955\n",
      "Epoch 150/200\n",
      "1110/1110 [==============================] - 11s 10ms/step - loss: 14.4148 - root_mean_squared_error: 3.7967\n",
      "Epoch 151/200\n",
      "1110/1110 [==============================] - 11s 10ms/step - loss: 14.8009 - root_mean_squared_error: 3.8472\n",
      "Epoch 152/200\n",
      "1105/1110 [============================>.] - ETA: 0s - loss: 13.9928 - root_mean_squared_error: 3.7407"
     ]
    },
    {
     "name": "stderr",
     "output_type": "stream",
     "text": [
      "WARNING:absl:Found untraced functions such as gru_cell_layer_call_fn, gru_cell_layer_call_and_return_conditional_losses while saving (showing 2 of 2). These functions will not be directly callable after loading.\n"
     ]
    },
    {
     "name": "stdout",
     "output_type": "stream",
     "text": [
      "INFO:tensorflow:Assets written to: best_model\\assets\n"
     ]
    },
    {
     "name": "stderr",
     "output_type": "stream",
     "text": [
      "INFO:tensorflow:Assets written to: best_model\\assets\n",
      "WARNING:absl:<keras.layers.recurrent.GRUCell object at 0x0000022BCE4C1748> has the same name 'GRUCell' as a built-in Keras object. Consider renaming <class 'keras.layers.recurrent.GRUCell'> to avoid naming conflicts when loading with `tf.keras.models.load_model`. If renaming is not possible, pass the object in the `custom_objects` parameter of the load function.\n",
      "WARNING:absl:<keras.layers.recurrent.GRUCell object at 0x0000022BCE54D988> has the same name 'GRUCell' as a built-in Keras object. Consider renaming <class 'keras.layers.recurrent.GRUCell'> to avoid naming conflicts when loading with `tf.keras.models.load_model`. If renaming is not possible, pass the object in the `custom_objects` parameter of the load function.\n"
     ]
    },
    {
     "name": "stdout",
     "output_type": "stream",
     "text": [
      "1110/1110 [==============================] - 15s 13ms/step - loss: 14.0550 - root_mean_squared_error: 3.7490\n",
      "Epoch 153/200\n",
      "1110/1110 [==============================] - 10s 9ms/step - loss: 14.7968 - root_mean_squared_error: 3.8467\n",
      "Epoch 154/200\n",
      "1110/1110 [==============================] - 10s 9ms/step - loss: 14.6448 - root_mean_squared_error: 3.8268\n",
      "Epoch 155/200\n",
      "1110/1110 [==============================] - 10s 9ms/step - loss: 14.4585 - root_mean_squared_error: 3.8024\n",
      "Epoch 156/200\n",
      "1110/1110 [==============================] - 10s 9ms/step - loss: 14.2174 - root_mean_squared_error: 3.7706\n",
      "Epoch 157/200\n",
      "1110/1110 [==============================] - 10s 9ms/step - loss: 14.3460 - root_mean_squared_error: 3.7876\n",
      "Epoch 158/200\n",
      "1110/1110 [==============================] - 10s 9ms/step - loss: 14.4676 - root_mean_squared_error: 3.8036\n",
      "Epoch 159/200\n",
      "1110/1110 [==============================] - 10s 9ms/step - loss: 14.4118 - root_mean_squared_error: 3.7963\n",
      "Epoch 160/200\n",
      "1110/1110 [==============================] - 10s 9ms/step - loss: 14.9893 - root_mean_squared_error: 3.8716\n",
      "Epoch 161/200\n",
      "1110/1110 [==============================] - 10s 9ms/step - loss: 14.5884 - root_mean_squared_error: 3.8195\n",
      "Epoch 162/200\n",
      "1110/1110 [==============================] - 10s 9ms/step - loss: 14.6326 - root_mean_squared_error: 3.8253\n",
      "Epoch 163/200\n",
      "1110/1110 [==============================] - ETA: 0s - loss: 14.0319 - root_mean_squared_error: 3.7459"
     ]
    },
    {
     "name": "stderr",
     "output_type": "stream",
     "text": [
      "WARNING:absl:Found untraced functions such as gru_cell_layer_call_fn, gru_cell_layer_call_and_return_conditional_losses while saving (showing 2 of 2). These functions will not be directly callable after loading.\n"
     ]
    },
    {
     "name": "stdout",
     "output_type": "stream",
     "text": [
      "INFO:tensorflow:Assets written to: best_model\\assets\n"
     ]
    },
    {
     "name": "stderr",
     "output_type": "stream",
     "text": [
      "INFO:tensorflow:Assets written to: best_model\\assets\n",
      "WARNING:absl:<keras.layers.recurrent.GRUCell object at 0x0000022BCE4C1748> has the same name 'GRUCell' as a built-in Keras object. Consider renaming <class 'keras.layers.recurrent.GRUCell'> to avoid naming conflicts when loading with `tf.keras.models.load_model`. If renaming is not possible, pass the object in the `custom_objects` parameter of the load function.\n",
      "WARNING:absl:<keras.layers.recurrent.GRUCell object at 0x0000022BCE54D988> has the same name 'GRUCell' as a built-in Keras object. Consider renaming <class 'keras.layers.recurrent.GRUCell'> to avoid naming conflicts when loading with `tf.keras.models.load_model`. If renaming is not possible, pass the object in the `custom_objects` parameter of the load function.\n"
     ]
    },
    {
     "name": "stdout",
     "output_type": "stream",
     "text": [
      "1110/1110 [==============================] - 14s 12ms/step - loss: 14.0319 - root_mean_squared_error: 3.7459\n",
      "Epoch 164/200\n",
      "1110/1110 [==============================] - 10s 9ms/step - loss: 14.3778 - root_mean_squared_error: 3.7918\n",
      "Epoch 165/200\n",
      "1110/1110 [==============================] - 10s 9ms/step - loss: 14.5577 - root_mean_squared_error: 3.8155\n",
      "Epoch 166/200\n",
      "1110/1110 [==============================] - 10s 9ms/step - loss: 14.4942 - root_mean_squared_error: 3.8071\n",
      "Epoch 167/200\n",
      "1110/1110 [==============================] - 11s 10ms/step - loss: 14.2216 - root_mean_squared_error: 3.7711\n",
      "Epoch 168/200\n",
      "1110/1110 [==============================] - 11s 10ms/step - loss: 14.2865 - root_mean_squared_error: 3.7797\n",
      "Epoch 169/200\n",
      "1110/1110 [==============================] - 10s 9ms/step - loss: 14.0791 - root_mean_squared_error: 3.7522\n",
      "Epoch 170/200\n",
      "1110/1110 [==============================] - 10s 9ms/step - loss: 14.4791 - root_mean_squared_error: 3.8051\n",
      "Epoch 171/200\n",
      "1110/1110 [==============================] - 10s 9ms/step - loss: 14.0732 - root_mean_squared_error: 3.7514\n",
      "Epoch 172/200\n",
      "1110/1110 [==============================] - 10s 9ms/step - loss: 14.1646 - root_mean_squared_error: 3.7636\n",
      "Epoch 173/200\n",
      "1110/1110 [==============================] - 10s 9ms/step - loss: 14.3081 - root_mean_squared_error: 3.7826\n",
      "Epoch 174/200\n",
      "1110/1110 [==============================] - 10s 9ms/step - loss: 14.0646 - root_mean_squared_error: 3.7503\n",
      "Epoch 175/200\n",
      "1110/1110 [==============================] - 10s 9ms/step - loss: 14.5065 - root_mean_squared_error: 3.8087\n",
      "Epoch 176/200\n",
      "1110/1110 [==============================] - 10s 9ms/step - loss: 14.2332 - root_mean_squared_error: 3.7727\n",
      "Epoch 177/200\n",
      "1110/1110 [==============================] - 10s 9ms/step - loss: 14.1052 - root_mean_squared_error: 3.7557\n",
      "Epoch 178/200\n",
      "1110/1110 [==============================] - 10s 9ms/step - loss: 14.1148 - root_mean_squared_error: 3.7570\n",
      "Epoch 179/200\n",
      "1110/1110 [==============================] - 10s 9ms/step - loss: 14.2523 - root_mean_squared_error: 3.7752\n",
      "Epoch 180/200\n",
      "1109/1110 [============================>.] - ETA: 0s - loss: 13.7234 - root_mean_squared_error: 3.7045"
     ]
    },
    {
     "name": "stderr",
     "output_type": "stream",
     "text": [
      "WARNING:absl:Found untraced functions such as gru_cell_layer_call_fn, gru_cell_layer_call_and_return_conditional_losses while saving (showing 2 of 2). These functions will not be directly callable after loading.\n"
     ]
    },
    {
     "name": "stdout",
     "output_type": "stream",
     "text": [
      "INFO:tensorflow:Assets written to: best_model\\assets\n"
     ]
    },
    {
     "name": "stderr",
     "output_type": "stream",
     "text": [
      "INFO:tensorflow:Assets written to: best_model\\assets\n",
      "WARNING:absl:<keras.layers.recurrent.GRUCell object at 0x0000022BCE4C1748> has the same name 'GRUCell' as a built-in Keras object. Consider renaming <class 'keras.layers.recurrent.GRUCell'> to avoid naming conflicts when loading with `tf.keras.models.load_model`. If renaming is not possible, pass the object in the `custom_objects` parameter of the load function.\n",
      "WARNING:absl:<keras.layers.recurrent.GRUCell object at 0x0000022BCE54D988> has the same name 'GRUCell' as a built-in Keras object. Consider renaming <class 'keras.layers.recurrent.GRUCell'> to avoid naming conflicts when loading with `tf.keras.models.load_model`. If renaming is not possible, pass the object in the `custom_objects` parameter of the load function.\n"
     ]
    },
    {
     "name": "stdout",
     "output_type": "stream",
     "text": [
      "1110/1110 [==============================] - 14s 12ms/step - loss: 13.7231 - root_mean_squared_error: 3.7045\n",
      "Epoch 181/200\n",
      "1110/1110 [==============================] - 10s 9ms/step - loss: 14.0691 - root_mean_squared_error: 3.7509\n",
      "Epoch 182/200\n",
      "1110/1110 [==============================] - 10s 9ms/step - loss: 14.1435 - root_mean_squared_error: 3.7608\n",
      "Epoch 183/200\n",
      "1110/1110 [==============================] - 10s 9ms/step - loss: 13.9097 - root_mean_squared_error: 3.7296\n",
      "Epoch 184/200\n",
      "1110/1110 [==============================] - 10s 9ms/step - loss: 14.1903 - root_mean_squared_error: 3.7670\n",
      "Epoch 185/200\n",
      "1110/1110 [==============================] - 10s 9ms/step - loss: 14.0459 - root_mean_squared_error: 3.7478\n",
      "Epoch 186/200\n",
      "1110/1110 [==============================] - 10s 9ms/step - loss: 13.7999 - root_mean_squared_error: 3.7148\n",
      "Epoch 187/200\n",
      "1110/1110 [==============================] - 10s 9ms/step - loss: 13.8365 - root_mean_squared_error: 3.7197\n",
      "Epoch 188/200\n",
      "1110/1110 [==============================] - 10s 9ms/step - loss: 13.7510 - root_mean_squared_error: 3.7082\n",
      "Epoch 189/200\n",
      "1110/1110 [==============================] - ETA: 0s - loss: 13.6468 - root_mean_squared_error: 3.6942"
     ]
    },
    {
     "name": "stderr",
     "output_type": "stream",
     "text": [
      "WARNING:absl:Found untraced functions such as gru_cell_layer_call_fn, gru_cell_layer_call_and_return_conditional_losses while saving (showing 2 of 2). These functions will not be directly callable after loading.\n"
     ]
    },
    {
     "name": "stdout",
     "output_type": "stream",
     "text": [
      "INFO:tensorflow:Assets written to: best_model\\assets\n"
     ]
    },
    {
     "name": "stderr",
     "output_type": "stream",
     "text": [
      "INFO:tensorflow:Assets written to: best_model\\assets\n",
      "WARNING:absl:<keras.layers.recurrent.GRUCell object at 0x0000022BCE4C1748> has the same name 'GRUCell' as a built-in Keras object. Consider renaming <class 'keras.layers.recurrent.GRUCell'> to avoid naming conflicts when loading with `tf.keras.models.load_model`. If renaming is not possible, pass the object in the `custom_objects` parameter of the load function.\n",
      "WARNING:absl:<keras.layers.recurrent.GRUCell object at 0x0000022BCE54D988> has the same name 'GRUCell' as a built-in Keras object. Consider renaming <class 'keras.layers.recurrent.GRUCell'> to avoid naming conflicts when loading with `tf.keras.models.load_model`. If renaming is not possible, pass the object in the `custom_objects` parameter of the load function.\n"
     ]
    },
    {
     "name": "stdout",
     "output_type": "stream",
     "text": [
      "1110/1110 [==============================] - 14s 12ms/step - loss: 13.6468 - root_mean_squared_error: 3.6942\n",
      "Epoch 190/200\n",
      "1110/1110 [==============================] - 10s 9ms/step - loss: 13.8135 - root_mean_squared_error: 3.7167\n",
      "Epoch 191/200\n",
      "1110/1110 [==============================] - 10s 9ms/step - loss: 13.7171 - root_mean_squared_error: 3.7037\n",
      "Epoch 192/200\n",
      "1110/1110 [==============================] - 10s 9ms/step - loss: 13.6517 - root_mean_squared_error: 3.6948\n",
      "Epoch 193/200\n",
      "1110/1110 [==============================] - 10s 9ms/step - loss: 13.8979 - root_mean_squared_error: 3.7280\n",
      "Epoch 194/200\n",
      "1110/1110 [==============================] - 10s 9ms/step - loss: 13.8068 - root_mean_squared_error: 3.7157\n",
      "Epoch 195/200\n",
      "1110/1110 [==============================] - ETA: 0s - loss: 13.5188 - root_mean_squared_error: 3.6768"
     ]
    },
    {
     "name": "stderr",
     "output_type": "stream",
     "text": [
      "WARNING:absl:Found untraced functions such as gru_cell_layer_call_fn, gru_cell_layer_call_and_return_conditional_losses while saving (showing 2 of 2). These functions will not be directly callable after loading.\n"
     ]
    },
    {
     "name": "stdout",
     "output_type": "stream",
     "text": [
      "INFO:tensorflow:Assets written to: best_model\\assets\n"
     ]
    },
    {
     "name": "stderr",
     "output_type": "stream",
     "text": [
      "INFO:tensorflow:Assets written to: best_model\\assets\n",
      "WARNING:absl:<keras.layers.recurrent.GRUCell object at 0x0000022BCE4C1748> has the same name 'GRUCell' as a built-in Keras object. Consider renaming <class 'keras.layers.recurrent.GRUCell'> to avoid naming conflicts when loading with `tf.keras.models.load_model`. If renaming is not possible, pass the object in the `custom_objects` parameter of the load function.\n",
      "WARNING:absl:<keras.layers.recurrent.GRUCell object at 0x0000022BCE54D988> has the same name 'GRUCell' as a built-in Keras object. Consider renaming <class 'keras.layers.recurrent.GRUCell'> to avoid naming conflicts when loading with `tf.keras.models.load_model`. If renaming is not possible, pass the object in the `custom_objects` parameter of the load function.\n"
     ]
    },
    {
     "name": "stdout",
     "output_type": "stream",
     "text": [
      "1110/1110 [==============================] - 14s 12ms/step - loss: 13.5188 - root_mean_squared_error: 3.6768\n",
      "Epoch 196/200\n",
      "1110/1110 [==============================] - 10s 9ms/step - loss: 13.7052 - root_mean_squared_error: 3.7021\n",
      "Epoch 197/200\n",
      "1110/1110 [==============================] - 10s 9ms/step - loss: 13.6080 - root_mean_squared_error: 3.6889\n",
      "Epoch 198/200\n",
      "1110/1110 [==============================] - 10s 9ms/step - loss: 13.9087 - root_mean_squared_error: 3.7294\n",
      "Epoch 199/200\n",
      "1108/1110 [============================>.] - ETA: 0s - loss: 13.5012 - root_mean_squared_error: 3.6744"
     ]
    },
    {
     "name": "stderr",
     "output_type": "stream",
     "text": [
      "WARNING:absl:Found untraced functions such as gru_cell_layer_call_fn, gru_cell_layer_call_and_return_conditional_losses while saving (showing 2 of 2). These functions will not be directly callable after loading.\n"
     ]
    },
    {
     "name": "stdout",
     "output_type": "stream",
     "text": [
      "INFO:tensorflow:Assets written to: best_model\\assets\n"
     ]
    },
    {
     "name": "stderr",
     "output_type": "stream",
     "text": [
      "INFO:tensorflow:Assets written to: best_model\\assets\n",
      "WARNING:absl:<keras.layers.recurrent.GRUCell object at 0x0000022BCE4C1748> has the same name 'GRUCell' as a built-in Keras object. Consider renaming <class 'keras.layers.recurrent.GRUCell'> to avoid naming conflicts when loading with `tf.keras.models.load_model`. If renaming is not possible, pass the object in the `custom_objects` parameter of the load function.\n",
      "WARNING:absl:<keras.layers.recurrent.GRUCell object at 0x0000022BCE54D988> has the same name 'GRUCell' as a built-in Keras object. Consider renaming <class 'keras.layers.recurrent.GRUCell'> to avoid naming conflicts when loading with `tf.keras.models.load_model`. If renaming is not possible, pass the object in the `custom_objects` parameter of the load function.\n"
     ]
    },
    {
     "name": "stdout",
     "output_type": "stream",
     "text": [
      "1110/1110 [==============================] - 13s 12ms/step - loss: 13.4974 - root_mean_squared_error: 3.6739\n",
      "Epoch 200/200\n",
      "1107/1110 [============================>.] - ETA: 0s - loss: 13.3471 - root_mean_squared_error: 3.6534"
     ]
    },
    {
     "name": "stderr",
     "output_type": "stream",
     "text": [
      "WARNING:absl:Found untraced functions such as gru_cell_layer_call_fn, gru_cell_layer_call_and_return_conditional_losses while saving (showing 2 of 2). These functions will not be directly callable after loading.\n"
     ]
    },
    {
     "name": "stdout",
     "output_type": "stream",
     "text": [
      "INFO:tensorflow:Assets written to: best_model\\assets\n"
     ]
    },
    {
     "name": "stderr",
     "output_type": "stream",
     "text": [
      "INFO:tensorflow:Assets written to: best_model\\assets\n",
      "WARNING:absl:<keras.layers.recurrent.GRUCell object at 0x0000022BCE4C1748> has the same name 'GRUCell' as a built-in Keras object. Consider renaming <class 'keras.layers.recurrent.GRUCell'> to avoid naming conflicts when loading with `tf.keras.models.load_model`. If renaming is not possible, pass the object in the `custom_objects` parameter of the load function.\n",
      "WARNING:absl:<keras.layers.recurrent.GRUCell object at 0x0000022BCE54D988> has the same name 'GRUCell' as a built-in Keras object. Consider renaming <class 'keras.layers.recurrent.GRUCell'> to avoid naming conflicts when loading with `tf.keras.models.load_model`. If renaming is not possible, pass the object in the `custom_objects` parameter of the load function.\n"
     ]
    },
    {
     "name": "stdout",
     "output_type": "stream",
     "text": [
      "1110/1110 [==============================] - 13s 12ms/step - loss: 13.3498 - root_mean_squared_error: 3.6537\n",
      "278/278 [==============================] - 1s 3ms/step - loss: 21.0159 - root_mean_squared_error: 4.5843\n",
      "Epoch 1/200\n",
      "1110/1110 [==============================] - 10s 9ms/step - loss: 15.9016 - root_mean_squared_error: 3.9877\n",
      "Epoch 2/200\n",
      "1110/1110 [==============================] - 10s 9ms/step - loss: 15.4922 - root_mean_squared_error: 3.9360\n",
      "Epoch 3/200\n",
      "1110/1110 [==============================] - 11s 10ms/step - loss: 15.8239 - root_mean_squared_error: 3.9779\n",
      "Epoch 4/200\n",
      "1110/1110 [==============================] - 6087s 5s/step - loss: 15.0476 - root_mean_squared_error: 3.8791\n",
      "Epoch 5/200\n",
      "1110/1110 [==============================] - 11s 10ms/step - loss: 15.3379 - root_mean_squared_error: 3.9164\n",
      "Epoch 6/200\n",
      "1110/1110 [==============================] - 10s 9ms/step - loss: 15.1935 - root_mean_squared_error: 3.8979\n",
      "Epoch 7/200\n",
      "1110/1110 [==============================] - 10s 9ms/step - loss: 15.4154 - root_mean_squared_error: 3.9262\n",
      "Epoch 8/200\n",
      "1110/1110 [==============================] - 10s 9ms/step - loss: 14.9994 - root_mean_squared_error: 3.8729\n",
      "Epoch 9/200\n",
      "1110/1110 [==============================] - 10s 9ms/step - loss: 15.2894 - root_mean_squared_error: 3.9102\n",
      "Epoch 10/200\n",
      "1110/1110 [==============================] - 11s 10ms/step - loss: 14.8213 - root_mean_squared_error: 3.8498\n",
      "Epoch 11/200\n",
      "1110/1110 [==============================] - 11s 10ms/step - loss: 15.0394 - root_mean_squared_error: 3.8781\n",
      "Epoch 12/200\n",
      "1110/1110 [==============================] - 11s 10ms/step - loss: 14.6694 - root_mean_squared_error: 3.8301\n",
      "Epoch 13/200\n",
      "1110/1110 [==============================] - 12s 11ms/step - loss: 14.8003 - root_mean_squared_error: 3.8471\n",
      "Epoch 14/200\n",
      "1110/1110 [==============================] - 11s 10ms/step - loss: 14.9216 - root_mean_squared_error: 3.8629\n",
      "Epoch 15/200\n",
      "1110/1110 [==============================] - 11s 10ms/step - loss: 14.6384 - root_mean_squared_error: 3.8260\n",
      "Epoch 16/200\n",
      "1110/1110 [==============================] - 10s 9ms/step - loss: 15.1656 - root_mean_squared_error: 3.8943\n",
      "Epoch 17/200\n",
      "1110/1110 [==============================] - 11s 10ms/step - loss: 15.2590 - root_mean_squared_error: 3.9063\n",
      "Epoch 18/200\n",
      "1110/1110 [==============================] - 11s 10ms/step - loss: 14.8664 - root_mean_squared_error: 3.8557\n",
      "Epoch 19/200\n",
      "1110/1110 [==============================] - 15s 13ms/step - loss: 14.7183 - root_mean_squared_error: 3.8364\n",
      "Epoch 20/200\n",
      "1110/1110 [==============================] - 12s 11ms/step - loss: 14.5715 - root_mean_squared_error: 3.8173\n",
      "Epoch 21/200\n",
      "1110/1110 [==============================] - 12s 11ms/step - loss: 14.5843 - root_mean_squared_error: 3.8189\n",
      "Epoch 22/200\n",
      "1110/1110 [==============================] - 11s 10ms/step - loss: 14.4372 - root_mean_squared_error: 3.7996\n",
      "Epoch 23/200\n",
      "1110/1110 [==============================] - 11s 10ms/step - loss: 14.1332 - root_mean_squared_error: 3.7594\n",
      "Epoch 24/200\n",
      "1110/1110 [==============================] - 10s 9ms/step - loss: 14.3548 - root_mean_squared_error: 3.7888\n",
      "Epoch 25/200\n",
      "1110/1110 [==============================] - 11s 10ms/step - loss: 14.6180 - root_mean_squared_error: 3.8234\n",
      "Epoch 26/200\n",
      "1110/1110 [==============================] - 11s 10ms/step - loss: 14.2069 - root_mean_squared_error: 3.7692\n",
      "Epoch 27/200\n",
      "1110/1110 [==============================] - 12s 10ms/step - loss: 14.5313 - root_mean_squared_error: 3.8120\n",
      "Epoch 28/200\n",
      "1110/1110 [==============================] - 11s 9ms/step - loss: 13.8537 - root_mean_squared_error: 3.7221\n",
      "Epoch 29/200\n",
      "1110/1110 [==============================] - 11s 10ms/step - loss: 14.4106 - root_mean_squared_error: 3.7961\n",
      "Epoch 30/200\n",
      "1110/1110 [==============================] - 10s 9ms/step - loss: 13.9107 - root_mean_squared_error: 3.7297\n",
      "Epoch 31/200\n",
      "1110/1110 [==============================] - 10s 9ms/step - loss: 14.4108 - root_mean_squared_error: 3.7962\n",
      "Epoch 32/200\n",
      "1110/1110 [==============================] - 10s 9ms/step - loss: 13.7870 - root_mean_squared_error: 3.7131\n",
      "Epoch 33/200\n",
      "1110/1110 [==============================] - 10s 9ms/step - loss: 13.9073 - root_mean_squared_error: 3.7292\n",
      "Epoch 34/200\n",
      "1110/1110 [==============================] - 10s 9ms/step - loss: 14.0026 - root_mean_squared_error: 3.7420\n",
      "Epoch 35/200\n",
      "1110/1110 [==============================] - 10s 9ms/step - loss: 14.0526 - root_mean_squared_error: 3.7487\n",
      "Epoch 36/200\n",
      "1110/1110 [==============================] - 10s 9ms/step - loss: 14.1236 - root_mean_squared_error: 3.7581\n",
      "Epoch 37/200\n",
      "1110/1110 [==============================] - 10s 9ms/step - loss: 13.4726 - root_mean_squared_error: 3.6705\n",
      "Epoch 38/200\n",
      "1110/1110 [==============================] - 10s 9ms/step - loss: 14.0819 - root_mean_squared_error: 3.7526\n",
      "Epoch 39/200\n",
      "1110/1110 [==============================] - 10s 9ms/step - loss: 13.8186 - root_mean_squared_error: 3.7173\n",
      "Epoch 40/200\n",
      "1110/1110 [==============================] - 10s 9ms/step - loss: 13.9120 - root_mean_squared_error: 3.7299\n",
      "Epoch 41/200\n",
      "1110/1110 [==============================] - 10s 9ms/step - loss: 14.1088 - root_mean_squared_error: 3.7562\n",
      "Epoch 42/200\n",
      "1110/1110 [==============================] - 10s 9ms/step - loss: 13.8986 - root_mean_squared_error: 3.7281\n",
      "Epoch 43/200\n",
      "1110/1110 [==============================] - 10s 9ms/step - loss: 13.9148 - root_mean_squared_error: 3.7303\n",
      "Epoch 44/200\n",
      "1110/1110 [==============================] - 10s 9ms/step - loss: 13.7568 - root_mean_squared_error: 3.7090\n",
      "Epoch 45/200\n",
      "1110/1110 [==============================] - 10s 9ms/step - loss: 13.8905 - root_mean_squared_error: 3.7270\n",
      "Epoch 46/200\n",
      "1110/1110 [==============================] - 10s 9ms/step - loss: 13.7758 - root_mean_squared_error: 3.7116\n",
      "Epoch 47/200\n",
      "1110/1110 [==============================] - 10s 9ms/step - loss: 13.4735 - root_mean_squared_error: 3.6706\n",
      "Epoch 48/200\n",
      "1110/1110 [==============================] - 10s 9ms/step - loss: 13.9902 - root_mean_squared_error: 3.7404\n",
      "Epoch 49/200\n",
      "1110/1110 [==============================] - 10s 9ms/step - loss: 13.6629 - root_mean_squared_error: 3.6963\n",
      "Epoch 50/200\n",
      "1110/1110 [==============================] - 10s 9ms/step - loss: 13.6620 - root_mean_squared_error: 3.6962\n",
      "Epoch 51/200\n",
      "1110/1110 [==============================] - 10s 9ms/step - loss: 13.3784 - root_mean_squared_error: 3.6577\n",
      "Epoch 52/200\n",
      "1110/1110 [==============================] - 10s 9ms/step - loss: 13.8083 - root_mean_squared_error: 3.7159\n",
      "Epoch 53/200\n",
      "1110/1110 [==============================] - 10s 9ms/step - loss: 13.6067 - root_mean_squared_error: 3.6887\n",
      "Epoch 54/200\n",
      "1110/1110 [==============================] - 10s 9ms/step - loss: 13.6517 - root_mean_squared_error: 3.6948\n",
      "Epoch 55/200\n",
      "1110/1110 [==============================] - 10s 9ms/step - loss: 14.0182 - root_mean_squared_error: 3.7441\n",
      "Epoch 56/200\n",
      "1110/1110 [==============================] - 10s 9ms/step - loss: 13.5434 - root_mean_squared_error: 3.6801\n",
      "Epoch 57/200\n",
      "1104/1110 [============================>.] - ETA: 0s - loss: 13.2810 - root_mean_squared_error: 3.6443"
     ]
    },
    {
     "name": "stderr",
     "output_type": "stream",
     "text": [
      "WARNING:absl:Found untraced functions such as gru_cell_layer_call_fn, gru_cell_layer_call_and_return_conditional_losses while saving (showing 2 of 2). These functions will not be directly callable after loading.\n"
     ]
    },
    {
     "name": "stdout",
     "output_type": "stream",
     "text": [
      "INFO:tensorflow:Assets written to: best_model\\assets\n"
     ]
    },
    {
     "name": "stderr",
     "output_type": "stream",
     "text": [
      "INFO:tensorflow:Assets written to: best_model\\assets\n",
      "WARNING:absl:<keras.layers.recurrent.GRUCell object at 0x0000022BCE4C1748> has the same name 'GRUCell' as a built-in Keras object. Consider renaming <class 'keras.layers.recurrent.GRUCell'> to avoid naming conflicts when loading with `tf.keras.models.load_model`. If renaming is not possible, pass the object in the `custom_objects` parameter of the load function.\n",
      "WARNING:absl:<keras.layers.recurrent.GRUCell object at 0x0000022BCE54D988> has the same name 'GRUCell' as a built-in Keras object. Consider renaming <class 'keras.layers.recurrent.GRUCell'> to avoid naming conflicts when loading with `tf.keras.models.load_model`. If renaming is not possible, pass the object in the `custom_objects` parameter of the load function.\n"
     ]
    },
    {
     "name": "stdout",
     "output_type": "stream",
     "text": [
      "1110/1110 [==============================] - 14s 13ms/step - loss: 13.3101 - root_mean_squared_error: 3.6483\n",
      "Epoch 58/200\n",
      "1110/1110 [==============================] - 11s 10ms/step - loss: 13.5709 - root_mean_squared_error: 3.6839\n",
      "Epoch 59/200\n",
      "1108/1110 [============================>.] - ETA: 0s - loss: 13.1032 - root_mean_squared_error: 3.6198"
     ]
    },
    {
     "name": "stderr",
     "output_type": "stream",
     "text": [
      "WARNING:absl:Found untraced functions such as gru_cell_layer_call_fn, gru_cell_layer_call_and_return_conditional_losses while saving (showing 2 of 2). These functions will not be directly callable after loading.\n"
     ]
    },
    {
     "name": "stdout",
     "output_type": "stream",
     "text": [
      "INFO:tensorflow:Assets written to: best_model\\assets\n"
     ]
    },
    {
     "name": "stderr",
     "output_type": "stream",
     "text": [
      "INFO:tensorflow:Assets written to: best_model\\assets\n",
      "WARNING:absl:<keras.layers.recurrent.GRUCell object at 0x0000022BCE4C1748> has the same name 'GRUCell' as a built-in Keras object. Consider renaming <class 'keras.layers.recurrent.GRUCell'> to avoid naming conflicts when loading with `tf.keras.models.load_model`. If renaming is not possible, pass the object in the `custom_objects` parameter of the load function.\n",
      "WARNING:absl:<keras.layers.recurrent.GRUCell object at 0x0000022BCE54D988> has the same name 'GRUCell' as a built-in Keras object. Consider renaming <class 'keras.layers.recurrent.GRUCell'> to avoid naming conflicts when loading with `tf.keras.models.load_model`. If renaming is not possible, pass the object in the `custom_objects` parameter of the load function.\n"
     ]
    },
    {
     "name": "stdout",
     "output_type": "stream",
     "text": [
      "1110/1110 [==============================] - 15s 14ms/step - loss: 13.1038 - root_mean_squared_error: 3.6199\n",
      "Epoch 60/200\n",
      "1108/1110 [============================>.] - ETA: 0s - loss: 12.8883 - root_mean_squared_error: 3.5900"
     ]
    },
    {
     "name": "stderr",
     "output_type": "stream",
     "text": [
      "WARNING:absl:Found untraced functions such as gru_cell_layer_call_fn, gru_cell_layer_call_and_return_conditional_losses while saving (showing 2 of 2). These functions will not be directly callable after loading.\n"
     ]
    },
    {
     "name": "stdout",
     "output_type": "stream",
     "text": [
      "INFO:tensorflow:Assets written to: best_model\\assets\n"
     ]
    },
    {
     "name": "stderr",
     "output_type": "stream",
     "text": [
      "INFO:tensorflow:Assets written to: best_model\\assets\n",
      "WARNING:absl:<keras.layers.recurrent.GRUCell object at 0x0000022BCE4C1748> has the same name 'GRUCell' as a built-in Keras object. Consider renaming <class 'keras.layers.recurrent.GRUCell'> to avoid naming conflicts when loading with `tf.keras.models.load_model`. If renaming is not possible, pass the object in the `custom_objects` parameter of the load function.\n",
      "WARNING:absl:<keras.layers.recurrent.GRUCell object at 0x0000022BCE54D988> has the same name 'GRUCell' as a built-in Keras object. Consider renaming <class 'keras.layers.recurrent.GRUCell'> to avoid naming conflicts when loading with `tf.keras.models.load_model`. If renaming is not possible, pass the object in the `custom_objects` parameter of the load function.\n"
     ]
    },
    {
     "name": "stdout",
     "output_type": "stream",
     "text": [
      "1110/1110 [==============================] - 14s 13ms/step - loss: 12.8839 - root_mean_squared_error: 3.5894\n",
      "Epoch 61/200\n",
      "1110/1110 [==============================] - 10s 9ms/step - loss: 13.5573 - root_mean_squared_error: 3.6820\n",
      "Epoch 62/200\n",
      "1110/1110 [==============================] - 10s 9ms/step - loss: 13.2119 - root_mean_squared_error: 3.6348\n",
      "Epoch 63/200\n",
      "1110/1110 [==============================] - 11s 10ms/step - loss: 13.4781 - root_mean_squared_error: 3.6713\n",
      "Epoch 64/200\n",
      "1110/1110 [==============================] - 11s 10ms/step - loss: 13.7205 - root_mean_squared_error: 3.7041\n",
      "Epoch 65/200\n",
      "1110/1110 [==============================] - 11s 10ms/step - loss: 13.2692 - root_mean_squared_error: 3.6427\n",
      "Epoch 66/200\n",
      "1110/1110 [==============================] - 11s 10ms/step - loss: 13.2306 - root_mean_squared_error: 3.6374\n",
      "Epoch 67/200\n",
      "1110/1110 [==============================] - 11s 10ms/step - loss: 13.5326 - root_mean_squared_error: 3.6787\n",
      "Epoch 68/200\n",
      "1110/1110 [==============================] - 11s 10ms/step - loss: 13.0252 - root_mean_squared_error: 3.6090\n",
      "Epoch 69/200\n",
      "1110/1110 [==============================] - 11s 10ms/step - loss: 12.9815 - root_mean_squared_error: 3.6030\n",
      "Epoch 70/200\n",
      "1110/1110 [==============================] - ETA: 0s - loss: 12.6931 - root_mean_squared_error: 3.5627"
     ]
    },
    {
     "name": "stderr",
     "output_type": "stream",
     "text": [
      "WARNING:absl:Found untraced functions such as gru_cell_layer_call_fn, gru_cell_layer_call_and_return_conditional_losses while saving (showing 2 of 2). These functions will not be directly callable after loading.\n"
     ]
    },
    {
     "name": "stdout",
     "output_type": "stream",
     "text": [
      "INFO:tensorflow:Assets written to: best_model\\assets\n"
     ]
    },
    {
     "name": "stderr",
     "output_type": "stream",
     "text": [
      "INFO:tensorflow:Assets written to: best_model\\assets\n",
      "WARNING:absl:<keras.layers.recurrent.GRUCell object at 0x0000022BCE4C1748> has the same name 'GRUCell' as a built-in Keras object. Consider renaming <class 'keras.layers.recurrent.GRUCell'> to avoid naming conflicts when loading with `tf.keras.models.load_model`. If renaming is not possible, pass the object in the `custom_objects` parameter of the load function.\n",
      "WARNING:absl:<keras.layers.recurrent.GRUCell object at 0x0000022BCE54D988> has the same name 'GRUCell' as a built-in Keras object. Consider renaming <class 'keras.layers.recurrent.GRUCell'> to avoid naming conflicts when loading with `tf.keras.models.load_model`. If renaming is not possible, pass the object in the `custom_objects` parameter of the load function.\n"
     ]
    },
    {
     "name": "stdout",
     "output_type": "stream",
     "text": [
      "1110/1110 [==============================] - 14s 13ms/step - loss: 12.6931 - root_mean_squared_error: 3.5627\n",
      "Epoch 71/200\n",
      "1110/1110 [==============================] - 11s 10ms/step - loss: 13.3646 - root_mean_squared_error: 3.6558\n",
      "Epoch 72/200\n",
      "1110/1110 [==============================] - 11s 10ms/step - loss: 13.2369 - root_mean_squared_error: 3.6383\n",
      "Epoch 73/200\n",
      "1110/1110 [==============================] - 11s 10ms/step - loss: 12.7529 - root_mean_squared_error: 3.5711\n",
      "Epoch 74/200\n",
      "1110/1110 [==============================] - 11s 10ms/step - loss: 12.7638 - root_mean_squared_error: 3.5726\n",
      "Epoch 75/200\n",
      "1106/1110 [============================>.] - ETA: 0s - loss: 12.5744 - root_mean_squared_error: 3.5460"
     ]
    },
    {
     "name": "stderr",
     "output_type": "stream",
     "text": [
      "WARNING:absl:Found untraced functions such as gru_cell_layer_call_fn, gru_cell_layer_call_and_return_conditional_losses while saving (showing 2 of 2). These functions will not be directly callable after loading.\n"
     ]
    },
    {
     "name": "stdout",
     "output_type": "stream",
     "text": [
      "INFO:tensorflow:Assets written to: best_model\\assets\n"
     ]
    },
    {
     "name": "stderr",
     "output_type": "stream",
     "text": [
      "INFO:tensorflow:Assets written to: best_model\\assets\n",
      "WARNING:absl:<keras.layers.recurrent.GRUCell object at 0x0000022BCE4C1748> has the same name 'GRUCell' as a built-in Keras object. Consider renaming <class 'keras.layers.recurrent.GRUCell'> to avoid naming conflicts when loading with `tf.keras.models.load_model`. If renaming is not possible, pass the object in the `custom_objects` parameter of the load function.\n",
      "WARNING:absl:<keras.layers.recurrent.GRUCell object at 0x0000022BCE54D988> has the same name 'GRUCell' as a built-in Keras object. Consider renaming <class 'keras.layers.recurrent.GRUCell'> to avoid naming conflicts when loading with `tf.keras.models.load_model`. If renaming is not possible, pass the object in the `custom_objects` parameter of the load function.\n"
     ]
    },
    {
     "name": "stdout",
     "output_type": "stream",
     "text": [
      "1110/1110 [==============================] - 15s 14ms/step - loss: 12.5597 - root_mean_squared_error: 3.5440\n",
      "Epoch 76/200\n",
      "1110/1110 [==============================] - 11s 10ms/step - loss: 12.6660 - root_mean_squared_error: 3.5589\n",
      "Epoch 77/200\n",
      "1110/1110 [==============================] - 11s 10ms/step - loss: 12.9402 - root_mean_squared_error: 3.5972\n",
      "Epoch 78/200\n",
      "1107/1110 [============================>.] - ETA: 0s - loss: 12.5457 - root_mean_squared_error: 3.5420"
     ]
    },
    {
     "name": "stderr",
     "output_type": "stream",
     "text": [
      "WARNING:absl:Found untraced functions such as gru_cell_layer_call_fn, gru_cell_layer_call_and_return_conditional_losses while saving (showing 2 of 2). These functions will not be directly callable after loading.\n"
     ]
    },
    {
     "name": "stdout",
     "output_type": "stream",
     "text": [
      "INFO:tensorflow:Assets written to: best_model\\assets\n"
     ]
    },
    {
     "name": "stderr",
     "output_type": "stream",
     "text": [
      "INFO:tensorflow:Assets written to: best_model\\assets\n",
      "WARNING:absl:<keras.layers.recurrent.GRUCell object at 0x0000022BCE4C1748> has the same name 'GRUCell' as a built-in Keras object. Consider renaming <class 'keras.layers.recurrent.GRUCell'> to avoid naming conflicts when loading with `tf.keras.models.load_model`. If renaming is not possible, pass the object in the `custom_objects` parameter of the load function.\n",
      "WARNING:absl:<keras.layers.recurrent.GRUCell object at 0x0000022BCE54D988> has the same name 'GRUCell' as a built-in Keras object. Consider renaming <class 'keras.layers.recurrent.GRUCell'> to avoid naming conflicts when loading with `tf.keras.models.load_model`. If renaming is not possible, pass the object in the `custom_objects` parameter of the load function.\n"
     ]
    },
    {
     "name": "stdout",
     "output_type": "stream",
     "text": [
      "1110/1110 [==============================] - 14s 13ms/step - loss: 12.5385 - root_mean_squared_error: 3.5410\n",
      "Epoch 79/200\n",
      "1110/1110 [==============================] - 11s 10ms/step - loss: 13.0512 - root_mean_squared_error: 3.6126\n",
      "Epoch 80/200\n",
      "1110/1110 [==============================] - 11s 10ms/step - loss: 12.8037 - root_mean_squared_error: 3.5782\n",
      "Epoch 81/200\n",
      "1110/1110 [==============================] - 11s 10ms/step - loss: 12.9871 - root_mean_squared_error: 3.6038\n",
      "Epoch 82/200\n",
      "1110/1110 [==============================] - 11s 10ms/step - loss: 12.8466 - root_mean_squared_error: 3.5842\n",
      "Epoch 83/200\n",
      "1110/1110 [==============================] - 11s 10ms/step - loss: 12.9936 - root_mean_squared_error: 3.6047\n",
      "Epoch 84/200\n",
      "1110/1110 [==============================] - 11s 10ms/step - loss: 12.8685 - root_mean_squared_error: 3.5873\n",
      "Epoch 85/200\n",
      "1110/1110 [==============================] - 11s 10ms/step - loss: 12.8075 - root_mean_squared_error: 3.5788\n",
      "Epoch 86/200\n",
      "1105/1110 [============================>.] - ETA: 0s - loss: 12.3228 - root_mean_squared_error: 3.5104"
     ]
    },
    {
     "name": "stderr",
     "output_type": "stream",
     "text": [
      "WARNING:absl:Found untraced functions such as gru_cell_layer_call_fn, gru_cell_layer_call_and_return_conditional_losses while saving (showing 2 of 2). These functions will not be directly callable after loading.\n"
     ]
    },
    {
     "name": "stdout",
     "output_type": "stream",
     "text": [
      "INFO:tensorflow:Assets written to: best_model\\assets\n"
     ]
    },
    {
     "name": "stderr",
     "output_type": "stream",
     "text": [
      "INFO:tensorflow:Assets written to: best_model\\assets\n",
      "WARNING:absl:<keras.layers.recurrent.GRUCell object at 0x0000022BCE4C1748> has the same name 'GRUCell' as a built-in Keras object. Consider renaming <class 'keras.layers.recurrent.GRUCell'> to avoid naming conflicts when loading with `tf.keras.models.load_model`. If renaming is not possible, pass the object in the `custom_objects` parameter of the load function.\n",
      "WARNING:absl:<keras.layers.recurrent.GRUCell object at 0x0000022BCE54D988> has the same name 'GRUCell' as a built-in Keras object. Consider renaming <class 'keras.layers.recurrent.GRUCell'> to avoid naming conflicts when loading with `tf.keras.models.load_model`. If renaming is not possible, pass the object in the `custom_objects` parameter of the load function.\n"
     ]
    },
    {
     "name": "stdout",
     "output_type": "stream",
     "text": [
      "1110/1110 [==============================] - 15s 14ms/step - loss: 12.3133 - root_mean_squared_error: 3.5090\n",
      "Epoch 87/200\n",
      "1110/1110 [==============================] - 11s 10ms/step - loss: 12.7965 - root_mean_squared_error: 3.5772\n",
      "Epoch 88/200\n",
      "1110/1110 [==============================] - 11s 10ms/step - loss: 12.9322 - root_mean_squared_error: 3.5961\n",
      "Epoch 89/200\n",
      "1110/1110 [==============================] - 11s 10ms/step - loss: 12.4792 - root_mean_squared_error: 3.5326\n",
      "Epoch 90/200\n",
      "1110/1110 [==============================] - 11s 10ms/step - loss: 12.4645 - root_mean_squared_error: 3.5305\n",
      "Epoch 91/200\n",
      "1105/1110 [============================>.] - ETA: 0s - loss: 12.2508 - root_mean_squared_error: 3.5001"
     ]
    },
    {
     "name": "stderr",
     "output_type": "stream",
     "text": [
      "WARNING:absl:Found untraced functions such as gru_cell_layer_call_fn, gru_cell_layer_call_and_return_conditional_losses while saving (showing 2 of 2). These functions will not be directly callable after loading.\n"
     ]
    },
    {
     "name": "stdout",
     "output_type": "stream",
     "text": [
      "INFO:tensorflow:Assets written to: best_model\\assets\n"
     ]
    },
    {
     "name": "stderr",
     "output_type": "stream",
     "text": [
      "INFO:tensorflow:Assets written to: best_model\\assets\n",
      "WARNING:absl:<keras.layers.recurrent.GRUCell object at 0x0000022BCE4C1748> has the same name 'GRUCell' as a built-in Keras object. Consider renaming <class 'keras.layers.recurrent.GRUCell'> to avoid naming conflicts when loading with `tf.keras.models.load_model`. If renaming is not possible, pass the object in the `custom_objects` parameter of the load function.\n",
      "WARNING:absl:<keras.layers.recurrent.GRUCell object at 0x0000022BCE54D988> has the same name 'GRUCell' as a built-in Keras object. Consider renaming <class 'keras.layers.recurrent.GRUCell'> to avoid naming conflicts when loading with `tf.keras.models.load_model`. If renaming is not possible, pass the object in the `custom_objects` parameter of the load function.\n"
     ]
    },
    {
     "name": "stdout",
     "output_type": "stream",
     "text": [
      "1110/1110 [==============================] - 14s 13ms/step - loss: 12.2429 - root_mean_squared_error: 3.4990\n",
      "Epoch 92/200\n",
      "1110/1110 [==============================] - 11s 10ms/step - loss: 12.5707 - root_mean_squared_error: 3.5455\n",
      "Epoch 93/200\n",
      "1110/1110 [==============================] - 11s 10ms/step - loss: 12.4743 - root_mean_squared_error: 3.5319\n",
      "Epoch 94/200\n",
      "1109/1110 [============================>.] - ETA: 0s - loss: 12.2412 - root_mean_squared_error: 3.4987"
     ]
    },
    {
     "name": "stderr",
     "output_type": "stream",
     "text": [
      "WARNING:absl:Found untraced functions such as gru_cell_layer_call_fn, gru_cell_layer_call_and_return_conditional_losses while saving (showing 2 of 2). These functions will not be directly callable after loading.\n"
     ]
    },
    {
     "name": "stdout",
     "output_type": "stream",
     "text": [
      "INFO:tensorflow:Assets written to: best_model\\assets\n"
     ]
    },
    {
     "name": "stderr",
     "output_type": "stream",
     "text": [
      "INFO:tensorflow:Assets written to: best_model\\assets\n",
      "WARNING:absl:<keras.layers.recurrent.GRUCell object at 0x0000022BCE4C1748> has the same name 'GRUCell' as a built-in Keras object. Consider renaming <class 'keras.layers.recurrent.GRUCell'> to avoid naming conflicts when loading with `tf.keras.models.load_model`. If renaming is not possible, pass the object in the `custom_objects` parameter of the load function.\n",
      "WARNING:absl:<keras.layers.recurrent.GRUCell object at 0x0000022BCE54D988> has the same name 'GRUCell' as a built-in Keras object. Consider renaming <class 'keras.layers.recurrent.GRUCell'> to avoid naming conflicts when loading with `tf.keras.models.load_model`. If renaming is not possible, pass the object in the `custom_objects` parameter of the load function.\n"
     ]
    },
    {
     "name": "stdout",
     "output_type": "stream",
     "text": [
      "1110/1110 [==============================] - 15s 13ms/step - loss: 12.2389 - root_mean_squared_error: 3.4984\n",
      "Epoch 95/200\n",
      "1110/1110 [==============================] - 11s 9ms/step - loss: 12.3252 - root_mean_squared_error: 3.5107\n",
      "Epoch 96/200\n",
      "1110/1110 [==============================] - 11s 10ms/step - loss: 12.6456 - root_mean_squared_error: 3.5561\n",
      "Epoch 97/200\n",
      "1110/1110 [==============================] - 11s 10ms/step - loss: 12.4017 - root_mean_squared_error: 3.5216\n",
      "Epoch 98/200\n",
      "1110/1110 [==============================] - 11s 10ms/step - loss: 12.5314 - root_mean_squared_error: 3.5400\n",
      "Epoch 99/200\n",
      "1107/1110 [============================>.] - ETA: 0s - loss: 12.1819 - root_mean_squared_error: 3.4903"
     ]
    },
    {
     "name": "stderr",
     "output_type": "stream",
     "text": [
      "WARNING:absl:Found untraced functions such as gru_cell_layer_call_fn, gru_cell_layer_call_and_return_conditional_losses while saving (showing 2 of 2). These functions will not be directly callable after loading.\n"
     ]
    },
    {
     "name": "stdout",
     "output_type": "stream",
     "text": [
      "INFO:tensorflow:Assets written to: best_model\\assets\n"
     ]
    },
    {
     "name": "stderr",
     "output_type": "stream",
     "text": [
      "INFO:tensorflow:Assets written to: best_model\\assets\n",
      "WARNING:absl:<keras.layers.recurrent.GRUCell object at 0x0000022BCE4C1748> has the same name 'GRUCell' as a built-in Keras object. Consider renaming <class 'keras.layers.recurrent.GRUCell'> to avoid naming conflicts when loading with `tf.keras.models.load_model`. If renaming is not possible, pass the object in the `custom_objects` parameter of the load function.\n",
      "WARNING:absl:<keras.layers.recurrent.GRUCell object at 0x0000022BCE54D988> has the same name 'GRUCell' as a built-in Keras object. Consider renaming <class 'keras.layers.recurrent.GRUCell'> to avoid naming conflicts when loading with `tf.keras.models.load_model`. If renaming is not possible, pass the object in the `custom_objects` parameter of the load function.\n"
     ]
    },
    {
     "name": "stdout",
     "output_type": "stream",
     "text": [
      "1110/1110 [==============================] - 15s 13ms/step - loss: 12.1777 - root_mean_squared_error: 3.4897\n",
      "Epoch 100/200\n",
      "1110/1110 [==============================] - 11s 10ms/step - loss: 12.5725 - root_mean_squared_error: 3.5458\n",
      "Epoch 101/200\n",
      "1110/1110 [==============================] - 11s 10ms/step - loss: 12.4085 - root_mean_squared_error: 3.5226\n",
      "Epoch 102/200\n",
      "1110/1110 [==============================] - 11s 10ms/step - loss: 12.2956 - root_mean_squared_error: 3.5065\n",
      "Epoch 103/200\n",
      "1110/1110 [==============================] - 11s 10ms/step - loss: 12.2348 - root_mean_squared_error: 3.4978\n",
      "Epoch 104/200\n",
      "1110/1110 [==============================] - 11s 10ms/step - loss: 12.3196 - root_mean_squared_error: 3.5099\n",
      "Epoch 105/200\n",
      "1110/1110 [==============================] - 11s 10ms/step - loss: 12.5013 - root_mean_squared_error: 3.5357\n",
      "Epoch 106/200\n",
      "1110/1110 [==============================] - 11s 10ms/step - loss: 12.4467 - root_mean_squared_error: 3.5280\n",
      "Epoch 107/200\n",
      "1110/1110 [==============================] - 11s 10ms/step - loss: 12.2656 - root_mean_squared_error: 3.5022\n",
      "Epoch 108/200\n",
      "1110/1110 [==============================] - ETA: 0s - loss: 12.1525 - root_mean_squared_error: 3.4860"
     ]
    },
    {
     "name": "stderr",
     "output_type": "stream",
     "text": [
      "WARNING:absl:Found untraced functions such as gru_cell_layer_call_fn, gru_cell_layer_call_and_return_conditional_losses while saving (showing 2 of 2). These functions will not be directly callable after loading.\n"
     ]
    },
    {
     "name": "stdout",
     "output_type": "stream",
     "text": [
      "INFO:tensorflow:Assets written to: best_model\\assets\n"
     ]
    },
    {
     "name": "stderr",
     "output_type": "stream",
     "text": [
      "INFO:tensorflow:Assets written to: best_model\\assets\n",
      "WARNING:absl:<keras.layers.recurrent.GRUCell object at 0x0000022BCE4C1748> has the same name 'GRUCell' as a built-in Keras object. Consider renaming <class 'keras.layers.recurrent.GRUCell'> to avoid naming conflicts when loading with `tf.keras.models.load_model`. If renaming is not possible, pass the object in the `custom_objects` parameter of the load function.\n",
      "WARNING:absl:<keras.layers.recurrent.GRUCell object at 0x0000022BCE54D988> has the same name 'GRUCell' as a built-in Keras object. Consider renaming <class 'keras.layers.recurrent.GRUCell'> to avoid naming conflicts when loading with `tf.keras.models.load_model`. If renaming is not possible, pass the object in the `custom_objects` parameter of the load function.\n"
     ]
    },
    {
     "name": "stdout",
     "output_type": "stream",
     "text": [
      "1110/1110 [==============================] - 15s 14ms/step - loss: 12.1525 - root_mean_squared_error: 3.4860\n",
      "Epoch 109/200\n",
      "1110/1110 [==============================] - 12s 11ms/step - loss: 12.7034 - root_mean_squared_error: 3.5642\n",
      "Epoch 110/200\n",
      "1110/1110 [==============================] - 12s 11ms/step - loss: 12.2620 - root_mean_squared_error: 3.5017\n",
      "Epoch 111/200\n",
      "1108/1110 [============================>.] - ETA: 0s - loss: 11.7283 - root_mean_squared_error: 3.4247"
     ]
    },
    {
     "name": "stderr",
     "output_type": "stream",
     "text": [
      "WARNING:absl:Found untraced functions such as gru_cell_layer_call_fn, gru_cell_layer_call_and_return_conditional_losses while saving (showing 2 of 2). These functions will not be directly callable after loading.\n"
     ]
    },
    {
     "name": "stdout",
     "output_type": "stream",
     "text": [
      "INFO:tensorflow:Assets written to: best_model\\assets\n"
     ]
    },
    {
     "name": "stderr",
     "output_type": "stream",
     "text": [
      "INFO:tensorflow:Assets written to: best_model\\assets\n",
      "WARNING:absl:<keras.layers.recurrent.GRUCell object at 0x0000022BCE4C1748> has the same name 'GRUCell' as a built-in Keras object. Consider renaming <class 'keras.layers.recurrent.GRUCell'> to avoid naming conflicts when loading with `tf.keras.models.load_model`. If renaming is not possible, pass the object in the `custom_objects` parameter of the load function.\n",
      "WARNING:absl:<keras.layers.recurrent.GRUCell object at 0x0000022BCE54D988> has the same name 'GRUCell' as a built-in Keras object. Consider renaming <class 'keras.layers.recurrent.GRUCell'> to avoid naming conflicts when loading with `tf.keras.models.load_model`. If renaming is not possible, pass the object in the `custom_objects` parameter of the load function.\n"
     ]
    },
    {
     "name": "stdout",
     "output_type": "stream",
     "text": [
      "1110/1110 [==============================] - 16s 14ms/step - loss: 11.7230 - root_mean_squared_error: 3.4239\n",
      "Epoch 112/200\n",
      "1110/1110 [==============================] - 13s 11ms/step - loss: 12.2278 - root_mean_squared_error: 3.4968\n",
      "Epoch 113/200\n",
      "1110/1110 [==============================] - 11s 10ms/step - loss: 11.7964 - root_mean_squared_error: 3.4346\n",
      "Epoch 114/200\n",
      "1110/1110 [==============================] - 12s 11ms/step - loss: 12.2974 - root_mean_squared_error: 3.5068\n",
      "Epoch 115/200\n",
      "1110/1110 [==============================] - 13s 12ms/step - loss: 12.0154 - root_mean_squared_error: 3.4663\n",
      "Epoch 116/200\n",
      "1110/1110 [==============================] - 12s 11ms/step - loss: 11.9488 - root_mean_squared_error: 3.4567\n",
      "Epoch 117/200\n",
      "1110/1110 [==============================] - 12s 11ms/step - loss: 12.2625 - root_mean_squared_error: 3.5018\n",
      "Epoch 118/200\n",
      "1110/1110 [==============================] - 11s 10ms/step - loss: 12.3205 - root_mean_squared_error: 3.5101\n",
      "Epoch 119/200\n",
      "1108/1110 [============================>.] - ETA: 0s - loss: 11.7234 - root_mean_squared_error: 3.4239"
     ]
    },
    {
     "name": "stderr",
     "output_type": "stream",
     "text": [
      "WARNING:absl:Found untraced functions such as gru_cell_layer_call_fn, gru_cell_layer_call_and_return_conditional_losses while saving (showing 2 of 2). These functions will not be directly callable after loading.\n"
     ]
    },
    {
     "name": "stdout",
     "output_type": "stream",
     "text": [
      "INFO:tensorflow:Assets written to: best_model\\assets\n"
     ]
    },
    {
     "name": "stderr",
     "output_type": "stream",
     "text": [
      "INFO:tensorflow:Assets written to: best_model\\assets\n",
      "WARNING:absl:<keras.layers.recurrent.GRUCell object at 0x0000022BCE4C1748> has the same name 'GRUCell' as a built-in Keras object. Consider renaming <class 'keras.layers.recurrent.GRUCell'> to avoid naming conflicts when loading with `tf.keras.models.load_model`. If renaming is not possible, pass the object in the `custom_objects` parameter of the load function.\n",
      "WARNING:absl:<keras.layers.recurrent.GRUCell object at 0x0000022BCE54D988> has the same name 'GRUCell' as a built-in Keras object. Consider renaming <class 'keras.layers.recurrent.GRUCell'> to avoid naming conflicts when loading with `tf.keras.models.load_model`. If renaming is not possible, pass the object in the `custom_objects` parameter of the load function.\n"
     ]
    },
    {
     "name": "stdout",
     "output_type": "stream",
     "text": [
      "1110/1110 [==============================] - 15s 14ms/step - loss: 11.7214 - root_mean_squared_error: 3.4236\n",
      "Epoch 120/200\n",
      "1110/1110 [==============================] - 12s 11ms/step - loss: 12.1717 - root_mean_squared_error: 3.4888\n",
      "Epoch 121/200\n",
      "1110/1110 [==============================] - 12s 11ms/step - loss: 12.0728 - root_mean_squared_error: 3.4746\n",
      "Epoch 122/200\n",
      "1110/1110 [==============================] - 12s 10ms/step - loss: 12.0750 - root_mean_squared_error: 3.4749\n",
      "Epoch 123/200\n",
      "1110/1110 [==============================] - 11s 10ms/step - loss: 11.7980 - root_mean_squared_error: 3.4348\n",
      "Epoch 124/200\n",
      "1110/1110 [==============================] - 11s 10ms/step - loss: 11.9835 - root_mean_squared_error: 3.4617\n",
      "Epoch 125/200\n",
      "1110/1110 [==============================] - 12s 10ms/step - loss: 12.1155 - root_mean_squared_error: 3.4807\n",
      "Epoch 126/200\n",
      "1110/1110 [==============================] - 12s 10ms/step - loss: 12.0639 - root_mean_squared_error: 3.4733\n",
      "Epoch 127/200\n",
      "1110/1110 [==============================] - ETA: 0s - loss: 11.4059 - root_mean_squared_error: 3.3773"
     ]
    },
    {
     "name": "stderr",
     "output_type": "stream",
     "text": [
      "WARNING:absl:Found untraced functions such as gru_cell_layer_call_fn, gru_cell_layer_call_and_return_conditional_losses while saving (showing 2 of 2). These functions will not be directly callable after loading.\n"
     ]
    },
    {
     "name": "stdout",
     "output_type": "stream",
     "text": [
      "INFO:tensorflow:Assets written to: best_model\\assets\n"
     ]
    },
    {
     "name": "stderr",
     "output_type": "stream",
     "text": [
      "INFO:tensorflow:Assets written to: best_model\\assets\n",
      "WARNING:absl:<keras.layers.recurrent.GRUCell object at 0x0000022BCE4C1748> has the same name 'GRUCell' as a built-in Keras object. Consider renaming <class 'keras.layers.recurrent.GRUCell'> to avoid naming conflicts when loading with `tf.keras.models.load_model`. If renaming is not possible, pass the object in the `custom_objects` parameter of the load function.\n",
      "WARNING:absl:<keras.layers.recurrent.GRUCell object at 0x0000022BCE54D988> has the same name 'GRUCell' as a built-in Keras object. Consider renaming <class 'keras.layers.recurrent.GRUCell'> to avoid naming conflicts when loading with `tf.keras.models.load_model`. If renaming is not possible, pass the object in the `custom_objects` parameter of the load function.\n"
     ]
    },
    {
     "name": "stdout",
     "output_type": "stream",
     "text": [
      "1110/1110 [==============================] - 15s 14ms/step - loss: 11.4059 - root_mean_squared_error: 3.3773\n",
      "Epoch 128/200\n",
      "1110/1110 [==============================] - 11s 10ms/step - loss: 12.1603 - root_mean_squared_error: 3.4872\n",
      "Epoch 129/200\n",
      "1110/1110 [==============================] - 11s 10ms/step - loss: 12.1225 - root_mean_squared_error: 3.4817\n",
      "Epoch 130/200\n",
      "1110/1110 [==============================] - 11s 10ms/step - loss: 11.8077 - root_mean_squared_error: 3.4362\n",
      "Epoch 131/200\n",
      "1110/1110 [==============================] - 11s 10ms/step - loss: 11.6452 - root_mean_squared_error: 3.4125\n",
      "Epoch 132/200\n",
      "1110/1110 [==============================] - 11s 10ms/step - loss: 11.4659 - root_mean_squared_error: 3.3861\n",
      "Epoch 133/200\n",
      "1110/1110 [==============================] - 11s 10ms/step - loss: 11.6799 - root_mean_squared_error: 3.4176\n",
      "Epoch 134/200\n",
      "1110/1110 [==============================] - 12s 10ms/step - loss: 12.0951 - root_mean_squared_error: 3.4778\n",
      "Epoch 135/200\n",
      "1110/1110 [==============================] - 11s 10ms/step - loss: 11.8093 - root_mean_squared_error: 3.4365\n",
      "Epoch 136/200\n",
      "1110/1110 [==============================] - 11s 10ms/step - loss: 11.6971 - root_mean_squared_error: 3.4201\n",
      "Epoch 137/200\n",
      "1110/1110 [==============================] - 11s 10ms/step - loss: 11.8701 - root_mean_squared_error: 3.4453\n",
      "Epoch 138/200\n",
      "1110/1110 [==============================] - 12s 10ms/step - loss: 11.5583 - root_mean_squared_error: 3.3997\n",
      "Epoch 139/200\n",
      "1110/1110 [==============================] - 12s 10ms/step - loss: 11.8031 - root_mean_squared_error: 3.4356\n",
      "Epoch 140/200\n",
      "1110/1110 [==============================] - 11s 10ms/step - loss: 11.6212 - root_mean_squared_error: 3.4090\n",
      "Epoch 141/200\n",
      "1110/1110 [==============================] - 11s 10ms/step - loss: 11.5627 - root_mean_squared_error: 3.4004\n",
      "Epoch 142/200\n",
      "1110/1110 [==============================] - 11s 10ms/step - loss: 11.7969 - root_mean_squared_error: 3.4347\n",
      "Epoch 143/200\n",
      "1110/1110 [==============================] - 11s 10ms/step - loss: 11.7897 - root_mean_squared_error: 3.4336\n",
      "Epoch 144/200\n",
      "1110/1110 [==============================] - 11s 10ms/step - loss: 11.6805 - root_mean_squared_error: 3.4177\n",
      "Epoch 145/200\n",
      "1106/1110 [============================>.] - ETA: 0s - loss: 11.2534 - root_mean_squared_error: 3.3546"
     ]
    },
    {
     "name": "stderr",
     "output_type": "stream",
     "text": [
      "WARNING:absl:Found untraced functions such as gru_cell_layer_call_fn, gru_cell_layer_call_and_return_conditional_losses while saving (showing 2 of 2). These functions will not be directly callable after loading.\n"
     ]
    },
    {
     "name": "stdout",
     "output_type": "stream",
     "text": [
      "INFO:tensorflow:Assets written to: best_model\\assets\n"
     ]
    },
    {
     "name": "stderr",
     "output_type": "stream",
     "text": [
      "INFO:tensorflow:Assets written to: best_model\\assets\n",
      "WARNING:absl:<keras.layers.recurrent.GRUCell object at 0x0000022BCE4C1748> has the same name 'GRUCell' as a built-in Keras object. Consider renaming <class 'keras.layers.recurrent.GRUCell'> to avoid naming conflicts when loading with `tf.keras.models.load_model`. If renaming is not possible, pass the object in the `custom_objects` parameter of the load function.\n",
      "WARNING:absl:<keras.layers.recurrent.GRUCell object at 0x0000022BCE54D988> has the same name 'GRUCell' as a built-in Keras object. Consider renaming <class 'keras.layers.recurrent.GRUCell'> to avoid naming conflicts when loading with `tf.keras.models.load_model`. If renaming is not possible, pass the object in the `custom_objects` parameter of the load function.\n"
     ]
    },
    {
     "name": "stdout",
     "output_type": "stream",
     "text": [
      "1110/1110 [==============================] - 15s 14ms/step - loss: 11.2318 - root_mean_squared_error: 3.3514\n",
      "Epoch 146/200\n",
      "1110/1110 [==============================] - 11s 10ms/step - loss: 11.5741 - root_mean_squared_error: 3.4021\n",
      "Epoch 147/200\n",
      "1110/1110 [==============================] - 11s 10ms/step - loss: 11.5760 - root_mean_squared_error: 3.4024\n",
      "Epoch 148/200\n",
      "1110/1110 [==============================] - 11s 10ms/step - loss: 11.5132 - root_mean_squared_error: 3.3931\n",
      "Epoch 149/200\n",
      "1110/1110 [==============================] - 11s 10ms/step - loss: 11.3652 - root_mean_squared_error: 3.3712\n",
      "Epoch 150/200\n",
      "1110/1110 [==============================] - 11s 10ms/step - loss: 11.9310 - root_mean_squared_error: 3.4541\n",
      "Epoch 151/200\n",
      "1110/1110 [==============================] - 11s 10ms/step - loss: 11.3580 - root_mean_squared_error: 3.3702\n",
      "Epoch 152/200\n",
      "1110/1110 [==============================] - 11s 10ms/step - loss: 11.5311 - root_mean_squared_error: 3.3957\n",
      "Epoch 153/200\n",
      "1104/1110 [============================>.] - ETA: 0s - loss: 11.2031 - root_mean_squared_error: 3.3471"
     ]
    },
    {
     "name": "stderr",
     "output_type": "stream",
     "text": [
      "WARNING:absl:Found untraced functions such as gru_cell_layer_call_fn, gru_cell_layer_call_and_return_conditional_losses while saving (showing 2 of 2). These functions will not be directly callable after loading.\n"
     ]
    },
    {
     "name": "stdout",
     "output_type": "stream",
     "text": [
      "INFO:tensorflow:Assets written to: best_model\\assets\n"
     ]
    },
    {
     "name": "stderr",
     "output_type": "stream",
     "text": [
      "INFO:tensorflow:Assets written to: best_model\\assets\n",
      "WARNING:absl:<keras.layers.recurrent.GRUCell object at 0x0000022BCE4C1748> has the same name 'GRUCell' as a built-in Keras object. Consider renaming <class 'keras.layers.recurrent.GRUCell'> to avoid naming conflicts when loading with `tf.keras.models.load_model`. If renaming is not possible, pass the object in the `custom_objects` parameter of the load function.\n",
      "WARNING:absl:<keras.layers.recurrent.GRUCell object at 0x0000022BCE54D988> has the same name 'GRUCell' as a built-in Keras object. Consider renaming <class 'keras.layers.recurrent.GRUCell'> to avoid naming conflicts when loading with `tf.keras.models.load_model`. If renaming is not possible, pass the object in the `custom_objects` parameter of the load function.\n"
     ]
    },
    {
     "name": "stdout",
     "output_type": "stream",
     "text": [
      "1110/1110 [==============================] - 15s 13ms/step - loss: 11.2007 - root_mean_squared_error: 3.3467\n",
      "Epoch 154/200\n",
      "1110/1110 [==============================] - 11s 10ms/step - loss: 11.5642 - root_mean_squared_error: 3.4006\n",
      "Epoch 155/200\n",
      "1110/1110 [==============================] - 11s 10ms/step - loss: 11.4674 - root_mean_squared_error: 3.3864\n",
      "Epoch 156/200\n",
      "1110/1110 [==============================] - 11s 10ms/step - loss: 11.2640 - root_mean_squared_error: 3.3562\n",
      "Epoch 157/200\n",
      "1110/1110 [==============================] - 11s 10ms/step - loss: 11.7525 - root_mean_squared_error: 3.4282\n",
      "Epoch 158/200\n",
      "1110/1110 [==============================] - 12s 11ms/step - loss: 11.2154 - root_mean_squared_error: 3.3489\n",
      "Epoch 159/200\n",
      "1110/1110 [==============================] - 12s 11ms/step - loss: 11.4230 - root_mean_squared_error: 3.3798\n",
      "Epoch 160/200\n",
      "1110/1110 [==============================] - 12s 11ms/step - loss: 11.3574 - root_mean_squared_error: 3.3701\n",
      "Epoch 161/200\n",
      "1110/1110 [==============================] - 12s 10ms/step - loss: 11.3158 - root_mean_squared_error: 3.3639\n",
      "Epoch 162/200\n",
      "1107/1110 [============================>.] - ETA: 0s - loss: 11.1534 - root_mean_squared_error: 3.3397"
     ]
    },
    {
     "name": "stderr",
     "output_type": "stream",
     "text": [
      "WARNING:absl:Found untraced functions such as gru_cell_layer_call_fn, gru_cell_layer_call_and_return_conditional_losses while saving (showing 2 of 2). These functions will not be directly callable after loading.\n"
     ]
    },
    {
     "name": "stdout",
     "output_type": "stream",
     "text": [
      "INFO:tensorflow:Assets written to: best_model\\assets\n"
     ]
    },
    {
     "name": "stderr",
     "output_type": "stream",
     "text": [
      "INFO:tensorflow:Assets written to: best_model\\assets\n",
      "WARNING:absl:<keras.layers.recurrent.GRUCell object at 0x0000022BCE4C1748> has the same name 'GRUCell' as a built-in Keras object. Consider renaming <class 'keras.layers.recurrent.GRUCell'> to avoid naming conflicts when loading with `tf.keras.models.load_model`. If renaming is not possible, pass the object in the `custom_objects` parameter of the load function.\n",
      "WARNING:absl:<keras.layers.recurrent.GRUCell object at 0x0000022BCE54D988> has the same name 'GRUCell' as a built-in Keras object. Consider renaming <class 'keras.layers.recurrent.GRUCell'> to avoid naming conflicts when loading with `tf.keras.models.load_model`. If renaming is not possible, pass the object in the `custom_objects` parameter of the load function.\n"
     ]
    },
    {
     "name": "stdout",
     "output_type": "stream",
     "text": [
      "1110/1110 [==============================] - 16s 14ms/step - loss: 11.1408 - root_mean_squared_error: 3.3378\n",
      "Epoch 163/200\n",
      "1110/1110 [==============================] - 12s 11ms/step - loss: 11.6624 - root_mean_squared_error: 3.4150\n",
      "Epoch 164/200\n",
      "1110/1110 [==============================] - 11s 10ms/step - loss: 11.2774 - root_mean_squared_error: 3.3582\n",
      "Epoch 165/200\n",
      "1109/1110 [============================>.] - ETA: 0s - loss: 11.1226 - root_mean_squared_error: 3.3351"
     ]
    },
    {
     "name": "stderr",
     "output_type": "stream",
     "text": [
      "WARNING:absl:Found untraced functions such as gru_cell_layer_call_fn, gru_cell_layer_call_and_return_conditional_losses while saving (showing 2 of 2). These functions will not be directly callable after loading.\n"
     ]
    },
    {
     "name": "stdout",
     "output_type": "stream",
     "text": [
      "INFO:tensorflow:Assets written to: best_model\\assets\n"
     ]
    },
    {
     "name": "stderr",
     "output_type": "stream",
     "text": [
      "INFO:tensorflow:Assets written to: best_model\\assets\n",
      "WARNING:absl:<keras.layers.recurrent.GRUCell object at 0x0000022BCE4C1748> has the same name 'GRUCell' as a built-in Keras object. Consider renaming <class 'keras.layers.recurrent.GRUCell'> to avoid naming conflicts when loading with `tf.keras.models.load_model`. If renaming is not possible, pass the object in the `custom_objects` parameter of the load function.\n",
      "WARNING:absl:<keras.layers.recurrent.GRUCell object at 0x0000022BCE54D988> has the same name 'GRUCell' as a built-in Keras object. Consider renaming <class 'keras.layers.recurrent.GRUCell'> to avoid naming conflicts when loading with `tf.keras.models.load_model`. If renaming is not possible, pass the object in the `custom_objects` parameter of the load function.\n"
     ]
    },
    {
     "name": "stdout",
     "output_type": "stream",
     "text": [
      "1110/1110 [==============================] - 16s 14ms/step - loss: 11.1201 - root_mean_squared_error: 3.3347\n",
      "Epoch 166/200\n",
      "1110/1110 [==============================] - 12s 11ms/step - loss: 11.6331 - root_mean_squared_error: 3.4107\n",
      "Epoch 167/200\n",
      "1110/1110 [==============================] - 12s 11ms/step - loss: 11.1269 - root_mean_squared_error: 3.3357\n",
      "Epoch 168/200\n",
      "1110/1110 [==============================] - 12s 11ms/step - loss: 11.2218 - root_mean_squared_error: 3.3499\n",
      "Epoch 169/200\n",
      "1106/1110 [============================>.] - ETA: 0s - loss: 11.1092 - root_mean_squared_error: 3.3330"
     ]
    },
    {
     "name": "stderr",
     "output_type": "stream",
     "text": [
      "WARNING:absl:Found untraced functions such as gru_cell_layer_call_fn, gru_cell_layer_call_and_return_conditional_losses while saving (showing 2 of 2). These functions will not be directly callable after loading.\n"
     ]
    },
    {
     "name": "stdout",
     "output_type": "stream",
     "text": [
      "INFO:tensorflow:Assets written to: best_model\\assets\n"
     ]
    },
    {
     "name": "stderr",
     "output_type": "stream",
     "text": [
      "INFO:tensorflow:Assets written to: best_model\\assets\n",
      "WARNING:absl:<keras.layers.recurrent.GRUCell object at 0x0000022BCE4C1748> has the same name 'GRUCell' as a built-in Keras object. Consider renaming <class 'keras.layers.recurrent.GRUCell'> to avoid naming conflicts when loading with `tf.keras.models.load_model`. If renaming is not possible, pass the object in the `custom_objects` parameter of the load function.\n",
      "WARNING:absl:<keras.layers.recurrent.GRUCell object at 0x0000022BCE54D988> has the same name 'GRUCell' as a built-in Keras object. Consider renaming <class 'keras.layers.recurrent.GRUCell'> to avoid naming conflicts when loading with `tf.keras.models.load_model`. If renaming is not possible, pass the object in the `custom_objects` parameter of the load function.\n"
     ]
    },
    {
     "name": "stdout",
     "output_type": "stream",
     "text": [
      "1110/1110 [==============================] - 15s 14ms/step - loss: 11.0898 - root_mean_squared_error: 3.3301\n",
      "Epoch 170/200\n",
      "1110/1110 [==============================] - 11s 10ms/step - loss: 11.4726 - root_mean_squared_error: 3.3871\n",
      "Epoch 171/200\n",
      "1110/1110 [==============================] - 11s 10ms/step - loss: 11.3922 - root_mean_squared_error: 3.3752\n",
      "Epoch 172/200\n",
      "1107/1110 [============================>.] - ETA: 0s - loss: 10.9432 - root_mean_squared_error: 3.3080"
     ]
    },
    {
     "name": "stderr",
     "output_type": "stream",
     "text": [
      "WARNING:absl:Found untraced functions such as gru_cell_layer_call_fn, gru_cell_layer_call_and_return_conditional_losses while saving (showing 2 of 2). These functions will not be directly callable after loading.\n"
     ]
    },
    {
     "name": "stdout",
     "output_type": "stream",
     "text": [
      "INFO:tensorflow:Assets written to: best_model\\assets\n"
     ]
    },
    {
     "name": "stderr",
     "output_type": "stream",
     "text": [
      "INFO:tensorflow:Assets written to: best_model\\assets\n",
      "WARNING:absl:<keras.layers.recurrent.GRUCell object at 0x0000022BCE4C1748> has the same name 'GRUCell' as a built-in Keras object. Consider renaming <class 'keras.layers.recurrent.GRUCell'> to avoid naming conflicts when loading with `tf.keras.models.load_model`. If renaming is not possible, pass the object in the `custom_objects` parameter of the load function.\n",
      "WARNING:absl:<keras.layers.recurrent.GRUCell object at 0x0000022BCE54D988> has the same name 'GRUCell' as a built-in Keras object. Consider renaming <class 'keras.layers.recurrent.GRUCell'> to avoid naming conflicts when loading with `tf.keras.models.load_model`. If renaming is not possible, pass the object in the `custom_objects` parameter of the load function.\n"
     ]
    },
    {
     "name": "stdout",
     "output_type": "stream",
     "text": [
      "1110/1110 [==============================] - 15s 14ms/step - loss: 10.9363 - root_mean_squared_error: 3.3070\n",
      "Epoch 173/200\n",
      "1107/1110 [============================>.] - ETA: 0s - loss: 10.8613 - root_mean_squared_error: 3.2957"
     ]
    },
    {
     "name": "stderr",
     "output_type": "stream",
     "text": [
      "WARNING:absl:Found untraced functions such as gru_cell_layer_call_fn, gru_cell_layer_call_and_return_conditional_losses while saving (showing 2 of 2). These functions will not be directly callable after loading.\n"
     ]
    },
    {
     "name": "stdout",
     "output_type": "stream",
     "text": [
      "INFO:tensorflow:Assets written to: best_model\\assets\n"
     ]
    },
    {
     "name": "stderr",
     "output_type": "stream",
     "text": [
      "INFO:tensorflow:Assets written to: best_model\\assets\n",
      "WARNING:absl:<keras.layers.recurrent.GRUCell object at 0x0000022BCE4C1748> has the same name 'GRUCell' as a built-in Keras object. Consider renaming <class 'keras.layers.recurrent.GRUCell'> to avoid naming conflicts when loading with `tf.keras.models.load_model`. If renaming is not possible, pass the object in the `custom_objects` parameter of the load function.\n",
      "WARNING:absl:<keras.layers.recurrent.GRUCell object at 0x0000022BCE54D988> has the same name 'GRUCell' as a built-in Keras object. Consider renaming <class 'keras.layers.recurrent.GRUCell'> to avoid naming conflicts when loading with `tf.keras.models.load_model`. If renaming is not possible, pass the object in the `custom_objects` parameter of the load function.\n"
     ]
    },
    {
     "name": "stdout",
     "output_type": "stream",
     "text": [
      "1110/1110 [==============================] - 15s 13ms/step - loss: 10.8557 - root_mean_squared_error: 3.2948\n",
      "Epoch 174/200\n",
      "1110/1110 [==============================] - 12s 10ms/step - loss: 11.0040 - root_mean_squared_error: 3.3172\n",
      "Epoch 175/200\n",
      "1110/1110 [==============================] - 11s 10ms/step - loss: 11.2732 - root_mean_squared_error: 3.3576\n",
      "Epoch 176/200\n",
      "1110/1110 [==============================] - 12s 11ms/step - loss: 11.1477 - root_mean_squared_error: 3.3388\n",
      "Epoch 177/200\n",
      "1110/1110 [==============================] - 12s 11ms/step - loss: 11.1106 - root_mean_squared_error: 3.3333\n",
      "Epoch 178/200\n",
      "1110/1110 [==============================] - 11s 10ms/step - loss: 11.1355 - root_mean_squared_error: 3.3370\n",
      "Epoch 179/200\n",
      "1110/1110 [==============================] - 11s 10ms/step - loss: 11.2280 - root_mean_squared_error: 3.3508\n",
      "Epoch 180/200\n",
      "1110/1110 [==============================] - 11s 10ms/step - loss: 11.1682 - root_mean_squared_error: 3.3419\n",
      "Epoch 181/200\n",
      "1110/1110 [==============================] - 11s 10ms/step - loss: 11.2178 - root_mean_squared_error: 3.3493\n",
      "Epoch 182/200\n",
      "1104/1110 [============================>.] - ETA: 0s - loss: 10.8021 - root_mean_squared_error: 3.2867"
     ]
    },
    {
     "name": "stderr",
     "output_type": "stream",
     "text": [
      "WARNING:absl:Found untraced functions such as gru_cell_layer_call_fn, gru_cell_layer_call_and_return_conditional_losses while saving (showing 2 of 2). These functions will not be directly callable after loading.\n"
     ]
    },
    {
     "name": "stdout",
     "output_type": "stream",
     "text": [
      "INFO:tensorflow:Assets written to: best_model\\assets\n"
     ]
    },
    {
     "name": "stderr",
     "output_type": "stream",
     "text": [
      "INFO:tensorflow:Assets written to: best_model\\assets\n",
      "WARNING:absl:<keras.layers.recurrent.GRUCell object at 0x0000022BCE4C1748> has the same name 'GRUCell' as a built-in Keras object. Consider renaming <class 'keras.layers.recurrent.GRUCell'> to avoid naming conflicts when loading with `tf.keras.models.load_model`. If renaming is not possible, pass the object in the `custom_objects` parameter of the load function.\n",
      "WARNING:absl:<keras.layers.recurrent.GRUCell object at 0x0000022BCE54D988> has the same name 'GRUCell' as a built-in Keras object. Consider renaming <class 'keras.layers.recurrent.GRUCell'> to avoid naming conflicts when loading with `tf.keras.models.load_model`. If renaming is not possible, pass the object in the `custom_objects` parameter of the load function.\n"
     ]
    },
    {
     "name": "stdout",
     "output_type": "stream",
     "text": [
      "1110/1110 [==============================] - 15s 14ms/step - loss: 10.7854 - root_mean_squared_error: 3.2841\n",
      "Epoch 183/200\n",
      "1110/1110 [==============================] - 11s 10ms/step - loss: 11.1079 - root_mean_squared_error: 3.3329\n",
      "Epoch 184/200\n",
      "1110/1110 [==============================] - 12s 11ms/step - loss: 11.5151 - root_mean_squared_error: 3.3934\n",
      "Epoch 185/200\n",
      "1110/1110 [==============================] - 12s 11ms/step - loss: 10.7875 - root_mean_squared_error: 3.2844\n",
      "Epoch 186/200\n",
      "1110/1110 [==============================] - 11s 10ms/step - loss: 10.8141 - root_mean_squared_error: 3.2885\n",
      "Epoch 187/200\n",
      "1110/1110 [==============================] - 12s 11ms/step - loss: 10.8959 - root_mean_squared_error: 3.3009\n",
      "Epoch 188/200\n",
      "1105/1110 [============================>.] - ETA: 0s - loss: 10.7189 - root_mean_squared_error: 3.2740"
     ]
    },
    {
     "name": "stderr",
     "output_type": "stream",
     "text": [
      "WARNING:absl:Found untraced functions such as gru_cell_layer_call_fn, gru_cell_layer_call_and_return_conditional_losses while saving (showing 2 of 2). These functions will not be directly callable after loading.\n"
     ]
    },
    {
     "name": "stdout",
     "output_type": "stream",
     "text": [
      "INFO:tensorflow:Assets written to: best_model\\assets\n"
     ]
    },
    {
     "name": "stderr",
     "output_type": "stream",
     "text": [
      "INFO:tensorflow:Assets written to: best_model\\assets\n",
      "WARNING:absl:<keras.layers.recurrent.GRUCell object at 0x0000022BCE4C1748> has the same name 'GRUCell' as a built-in Keras object. Consider renaming <class 'keras.layers.recurrent.GRUCell'> to avoid naming conflicts when loading with `tf.keras.models.load_model`. If renaming is not possible, pass the object in the `custom_objects` parameter of the load function.\n",
      "WARNING:absl:<keras.layers.recurrent.GRUCell object at 0x0000022BCE54D988> has the same name 'GRUCell' as a built-in Keras object. Consider renaming <class 'keras.layers.recurrent.GRUCell'> to avoid naming conflicts when loading with `tf.keras.models.load_model`. If renaming is not possible, pass the object in the `custom_objects` parameter of the load function.\n"
     ]
    },
    {
     "name": "stdout",
     "output_type": "stream",
     "text": [
      "1110/1110 [==============================] - 15s 14ms/step - loss: 10.7104 - root_mean_squared_error: 3.2727\n",
      "Epoch 189/200\n",
      "1110/1110 [==============================] - 12s 11ms/step - loss: 11.1945 - root_mean_squared_error: 3.3458\n",
      "Epoch 190/200\n",
      "1110/1110 [==============================] - 12s 10ms/step - loss: 11.1402 - root_mean_squared_error: 3.3377\n",
      "Epoch 191/200\n",
      "1110/1110 [==============================] - 11s 10ms/step - loss: 11.5463 - root_mean_squared_error: 3.3980\n",
      "Epoch 192/200\n",
      "1110/1110 [==============================] - 11s 10ms/step - loss: 10.8161 - root_mean_squared_error: 3.2888\n",
      "Epoch 193/200\n",
      "1107/1110 [============================>.] - ETA: 0s - loss: 10.6838 - root_mean_squared_error: 3.2686"
     ]
    },
    {
     "name": "stderr",
     "output_type": "stream",
     "text": [
      "WARNING:absl:Found untraced functions such as gru_cell_layer_call_fn, gru_cell_layer_call_and_return_conditional_losses while saving (showing 2 of 2). These functions will not be directly callable after loading.\n"
     ]
    },
    {
     "name": "stdout",
     "output_type": "stream",
     "text": [
      "INFO:tensorflow:Assets written to: best_model\\assets\n"
     ]
    },
    {
     "name": "stderr",
     "output_type": "stream",
     "text": [
      "INFO:tensorflow:Assets written to: best_model\\assets\n",
      "WARNING:absl:<keras.layers.recurrent.GRUCell object at 0x0000022BCE4C1748> has the same name 'GRUCell' as a built-in Keras object. Consider renaming <class 'keras.layers.recurrent.GRUCell'> to avoid naming conflicts when loading with `tf.keras.models.load_model`. If renaming is not possible, pass the object in the `custom_objects` parameter of the load function.\n",
      "WARNING:absl:<keras.layers.recurrent.GRUCell object at 0x0000022BCE54D988> has the same name 'GRUCell' as a built-in Keras object. Consider renaming <class 'keras.layers.recurrent.GRUCell'> to avoid naming conflicts when loading with `tf.keras.models.load_model`. If renaming is not possible, pass the object in the `custom_objects` parameter of the load function.\n"
     ]
    },
    {
     "name": "stdout",
     "output_type": "stream",
     "text": [
      "1110/1110 [==============================] - 15s 14ms/step - loss: 10.6763 - root_mean_squared_error: 3.2675\n",
      "Epoch 194/200\n",
      "1110/1110 [==============================] - 11s 10ms/step - loss: 10.8545 - root_mean_squared_error: 3.2946\n",
      "Epoch 195/200\n",
      "1110/1110 [==============================] - 11s 10ms/step - loss: 10.6881 - root_mean_squared_error: 3.2693\n",
      "Epoch 196/200\n",
      "1110/1110 [==============================] - 11s 10ms/step - loss: 11.0723 - root_mean_squared_error: 3.3275\n",
      "Epoch 197/200\n",
      "1110/1110 [==============================] - 12s 11ms/step - loss: 10.6928 - root_mean_squared_error: 3.2700\n",
      "Epoch 198/200\n",
      "1110/1110 [==============================] - 11s 10ms/step - loss: 10.7715 - root_mean_squared_error: 3.2820\n",
      "Epoch 199/200\n",
      "1110/1110 [==============================] - 11s 10ms/step - loss: 10.8699 - root_mean_squared_error: 3.2970\n",
      "Epoch 200/200\n",
      "1110/1110 [==============================] - 11s 10ms/step - loss: 10.8225 - root_mean_squared_error: 3.2898\n",
      "278/278 [==============================] - 1s 3ms/step - loss: 13.0138 - root_mean_squared_error: 3.6075\n"
     ]
    }
   ],
   "source": [
    "models = []\n",
    "histories = []  \n",
    "model_evals = []\n",
    "for train_index, test_index in kf.split(x_shaped):\n",
    "    x_train, x_test = x_shaped[train_index], x_shaped[test_index]\n",
    "    y_train, y_test = y_shaped[train_index], y_shaped[test_index]\n",
    "    \n",
    "\n",
    "    history = model.fit(x_train,y_train,epochs=200, callbacks=cb)\n",
    "    \n",
    "    model_eval = model.evaluate(x_test, y_test)\n",
    "    models.append(model)\n",
    "    histories.append(history)\n",
    "    model_evals.append(model_eval)\n",
    "        "
   ]
  },
  {
   "cell_type": "code",
   "execution_count": 24,
   "metadata": {},
   "outputs": [
    {
     "data": {
      "text/plain": [
       "[[76.02700805664062, 8.71934700012207],\n",
       " [40.5368537902832, 6.366856098175049],\n",
       " [28.167991638183594, 5.307352542877197],\n",
       " [21.015865325927734, 4.584306240081787],\n",
       " [13.013754844665527, 3.6074581146240234]]"
      ]
     },
     "execution_count": 24,
     "metadata": {},
     "output_type": "execute_result"
    }
   ],
   "source": [
    "#check which is best\n",
    "model_evals"
   ]
  },
  {
   "cell_type": "code",
   "execution_count": 25,
   "metadata": {},
   "outputs": [
    {
     "name": "stderr",
     "output_type": "stream",
     "text": [
      "WARNING:absl:Found untraced functions such as gru_cell_layer_call_fn, gru_cell_layer_call_and_return_conditional_losses while saving (showing 2 of 2). These functions will not be directly callable after loading.\n"
     ]
    },
    {
     "name": "stdout",
     "output_type": "stream",
     "text": [
      "INFO:tensorflow:Assets written to: best_model\\assets\n"
     ]
    },
    {
     "name": "stderr",
     "output_type": "stream",
     "text": [
      "INFO:tensorflow:Assets written to: best_model\\assets\n",
      "WARNING:absl:<keras.layers.recurrent.GRUCell object at 0x0000022BCE4C1748> has the same name 'GRUCell' as a built-in Keras object. Consider renaming <class 'keras.layers.recurrent.GRUCell'> to avoid naming conflicts when loading with `tf.keras.models.load_model`. If renaming is not possible, pass the object in the `custom_objects` parameter of the load function.\n",
      "WARNING:absl:<keras.layers.recurrent.GRUCell object at 0x0000022BCE54D988> has the same name 'GRUCell' as a built-in Keras object. Consider renaming <class 'keras.layers.recurrent.GRUCell'> to avoid naming conflicts when loading with `tf.keras.models.load_model`. If renaming is not possible, pass the object in the `custom_objects` parameter of the load function.\n"
     ]
    }
   ],
   "source": [
    "best_loc = model_evals.index(min(model_evals))\n",
    "best_model = models[best_loc]\n",
    "best_history = histories[best_loc]\n",
    "best_eval = model_evals[best_loc]\n",
    "\n",
    "best_model.save('best_model')"
   ]
  },
  {
   "cell_type": "code",
   "execution_count": 26,
   "metadata": {},
   "outputs": [
    {
     "data": {
      "text/plain": [
       "dict_keys(['loss', 'root_mean_squared_error'])"
      ]
     },
     "execution_count": 26,
     "metadata": {},
     "output_type": "execute_result"
    }
   ],
   "source": [
    "best_history.history.keys()"
   ]
  },
  {
   "cell_type": "code",
   "execution_count": 27,
   "metadata": {},
   "outputs": [],
   "source": [
    "\n",
    "test_loss = best_eval[0]\n",
    "test_rmse = best_eval[1]\n",
    "\n",
    "now = dt.datetime.now().strftime(\"%Y-%m-%d %H-%M\")"
   ]
  },
  {
   "cell_type": "code",
   "execution_count": null,
   "metadata": {},
   "outputs": [],
   "source": []
  },
  {
   "cell_type": "code",
   "execution_count": 28,
   "metadata": {},
   "outputs": [],
   "source": [
    "def check_file(fpath):\n",
    "    return os.path.exists(fpath)"
   ]
  },
  {
   "cell_type": "code",
   "execution_count": 29,
   "metadata": {},
   "outputs": [
    {
     "data": {
      "image/png": "[encoded data removed]",
      "text/plain": [
       "<Figure size 432x288 with 1 Axes>"
      ]
     },
     "metadata": {
      "needs_background": "light"
     },
     "output_type": "display_data"
    },
    {
     "data": {
      "image/png": "[encoded data removed]",
      "text/plain": [
       "<Figure size 432x288 with 1 Axes>"
      ]
     },
     "metadata": {
      "needs_background": "light"
     },
     "output_type": "display_data"
    }
   ],
   "source": [
    "plt.plot(best_history.history['root_mean_squared_error'], label='train')\n",
    "plt.axhline(test_rmse, color='g', label='test')\n",
    "plt.title('Model RMSE')\n",
    "plt.ylabel('RMSE')\n",
    "plt.xlabel('Epoch')\n",
    "plt.legend()\n",
    "fpath = os.path.join(\"plots\", now + \" Model RMSE vs Epoch for predicting turbidity\" + \".png\")\n",
    "if check_file(fpath):\n",
    "    print(\"Could not save: {0}\\nPossibly change datetime\".format(fpath))\n",
    "else:\n",
    "    plt.savefig(fpath)\n",
    "plt.show()\n",
    "\n",
    "plt.plot(best_history.history['loss'], label='train')\n",
    "plt.axhline(test_loss, color='g', label='test')\n",
    "plt.title('Model Loss')\n",
    "plt.ylabel('Loss')\n",
    "plt.xlabel('Epoch')\n",
    "plt.legend()\n",
    "fpath = os.path.join(\"plots\", now + \" Model Loss vs Epoch for predicting turbidity\" + \".png\")\n",
    "if check_file(fpath):\n",
    "    print(\"Could not save: {0}\\nPossibly change datetime\".format(fpath))\n",
    "else:\n",
    "    plt.savefig(fpath)\n",
    "plt.show()"
   ]
  },
  {
   "cell_type": "code",
   "execution_count": 30,
   "metadata": {},
   "outputs": [
    {
     "data": {
      "image/png": "[encoded data removed]",
      "text/plain": [
       "<Figure size 432x288 with 1 Axes>"
      ]
     },
     "metadata": {
      "needs_background": "light"
     },
     "output_type": "display_data"
    }
   ],
   "source": [
    "pred = best_model.predict(x_shaped)\n",
    "\n",
    "plt.plot(pred, label='pred')\n",
    "plt.plot(y_shaped, color='orange', label='true')\n",
    "plt.title('Overall Acc Predicted and True vs Time')\n",
    "plt.ylabel('Turbidity (NTU)')\n",
    "plt.xlabel('Time (per 15 min)')\n",
    "plt.legend()\n",
    "fpath = os.path.join(\"plots\", now + \" Overall Acc Predicted and True vs Time for predicting turbidity\" + \".png\")\n",
    "if check_file(fpath):\n",
    "    print(\"Could not save: {0}\\nPossibly change datetime\".format(fpath))\n",
    "else:\n",
    "    plt.savefig(fpath)\n",
    "plt.show()\n"
   ]
  },
  {
   "cell_type": "code",
   "execution_count": 31,
   "metadata": {},
   "outputs": [
    {
     "data": {
      "text/plain": [
       "0.13"
      ]
     },
     "execution_count": 31,
     "metadata": {},
     "output_type": "execute_result"
    }
   ],
   "source": [
    "min(y_shaped)"
   ]
  },
  {
   "cell_type": "code",
   "execution_count": 32,
   "metadata": {},
   "outputs": [
    {
     "data": {
      "image/png": "[encoded data removed]",
      "text/plain": [
       "<Figure size 432x288 with 1 Axes>"
      ]
     },
     "metadata": {
      "needs_background": "light"
     },
     "output_type": "display_data"
    }
   ],
   "source": [
    "plt.scatter(y_shaped, pred, s=1)\n",
    "xpoints = ypoints = plt.xlim()\n",
    "plt.plot(xpoints, ypoints, label=\"x=y\", color='k', lw=2, scalex=False, scaley=False)\n",
    "plt.title('Predicted vs True values when predicting Turbidity')\n",
    "plt.xlabel('True Turbidity (NTU)')\n",
    "plt.ylabel('Predicted Turbidity (NTU)')\n",
    "plt.legend()\n",
    "fpath = os.path.join(\"plots\", now + \" Predicted vs True values when predicting Turbidity\" + \".png\")\n",
    "if check_file(fpath):\n",
    "    print(\"Could not save: {0}\\nPossibly change datetime\".format(fpath))\n",
    "else:\n",
    "    plt.savefig(fpath)\n",
    "plt.show()"
   ]
  },
  {
   "cell_type": "code",
   "execution_count": null,
   "metadata": {},
   "outputs": [],
   "source": []
  }
 ],
 "metadata": {
  "kernelspec": {
   "display_name": "Python 3",
   "language": "python",
   "name": "python3"
  },
  "language_info": {
   "codemirror_mode": {
    "name": "ipython",
    "version": 3
   },
   "file_extension": ".py",
   "mimetype": "text/x-python",
   "name": "python",
   "nbconvert_exporter": "python",
   "pygments_lexer": "ipython3",
   "version": "3.7.7"
  }
 },
 "nbformat": 4,
 "nbformat_minor": 4
}
