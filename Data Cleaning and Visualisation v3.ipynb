{
 "cells": [
  {
   "cell_type": "code",
   "execution_count": null,
   "metadata": {},
   "outputs": [],
   "source": [
    "#AIM\n",
    "#Pred turbidity with sensor data (42755 points)\n",
    "#pred cellcount with tubidity (~100 points)"
   ]
  },
  {
   "cell_type": "code",
   "execution_count": 2,
   "metadata": {},
   "outputs": [],
   "source": [
    "import numpy as np\n",
    "import pandas as pd\n",
    "\n",
    "import matplotlib.pyplot as plt\n",
    "from sklearn.preprocessing import StandardScaler\n",
    "import seaborn as sns\n",
    "\n",
    "import json\n",
    "import os\n",
    "import datetime as dt\n",
    "\n",
    "from pandas.plotting import lag_plot\n",
    "import matplotlib.dates as mdates\n",
    "\n",
    "import xlrd"
   ]
  },
  {
   "cell_type": "code",
   "execution_count": 15,
   "metadata": {},
   "outputs": [],
   "source": [
    "sensor_path = os.path.join(\"data\", \"data-withdate-missingvals.csv\")\n",
    "sensor_df = pd.read_csv(sensor_path)"
   ]
  },
  {
   "cell_type": "code",
   "execution_count": 10,
   "metadata": {},
   "outputs": [],
   "source": [
    "features = ['pH', 'Temperature', 'D.O. (mg/L)', 'Turbidity (NTU)', 'TSS (g/L)', 'NO3-N (mg/L)', 'NH4-N (mg/L)', 'ORP (MV)', 'Conductivity (mS/cm)']"
   ]
  },
  {
   "cell_type": "code",
   "execution_count": 16,
   "metadata": {},
   "outputs": [
    {
     "name": "stdout",
     "output_type": "stream",
     "text": [
      "<class 'pandas.core.frame.DataFrame'>\n",
      "RangeIndex: 50723 entries, 0 to 50722\n",
      "Data columns (total 10 columns):\n",
      " #   Column                Non-Null Count  Dtype  \n",
      "---  ------                --------------  -----  \n",
      " 0   S01                   50723 non-null  float64\n",
      " 1   pH                    48608 non-null  float64\n",
      " 2   Temperature (°C)      50628 non-null  float64\n",
      " 3   D.O. (mg/L)           50381 non-null  float64\n",
      " 4   Turbidity (NTU)       50701 non-null  float64\n",
      " 5   TSS (g/L)             48500 non-null  float64\n",
      " 6   NO3-N (mg/L)          50451 non-null  float64\n",
      " 7   NH4-N (mg/L)          47689 non-null  float64\n",
      " 8   ORP (MV)              50723 non-null  float64\n",
      " 9   Conductivity (mS/cm)  50723 non-null  float64\n",
      "dtypes: float64(10)\n",
      "memory usage: 3.9 MB\n"
     ]
    }
   ],
   "source": [
    "sensor_df.info()"
   ]
  },
  {
   "cell_type": "code",
   "execution_count": 20,
   "metadata": {},
   "outputs": [],
   "source": [
    "#convert to date\n",
    "sensor_df = sensor_df.rename(columns={'S01': 'Date'})\n",
    "def py_date(x):\n",
    "    \"\"\"Converts Excel dates to python datetime\"\"\"\n",
    "    date_tuple = xlrd.xldate_as_tuple(x,0)\n",
    "    return dt.datetime(*date_tuple)\n",
    "\n",
    "sensor_df['Date'] = sensor_df['Date'].transform(py_date)\n",
    "\n"
   ]
  },
  {
   "cell_type": "code",
   "execution_count": 22,
   "metadata": {},
   "outputs": [],
   "source": [
    "cleaned_df = sensor_df.dropna(how='any',axis=0) "
   ]
  },
  {
   "cell_type": "code",
   "execution_count": 24,
   "metadata": {},
   "outputs": [
    {
     "name": "stdout",
     "output_type": "stream",
     "text": [
      "<class 'pandas.core.frame.DataFrame'>\n",
      "Int64Index: 42755 entries, 0 to 50722\n",
      "Data columns (total 10 columns):\n",
      " #   Column                Non-Null Count  Dtype         \n",
      "---  ------                --------------  -----         \n",
      " 0   Date                  42755 non-null  datetime64[ns]\n",
      " 1   pH                    42755 non-null  float64       \n",
      " 2   Temperature (°C)      42755 non-null  float64       \n",
      " 3   D.O. (mg/L)           42755 non-null  float64       \n",
      " 4   Turbidity (NTU)       42755 non-null  float64       \n",
      " 5   TSS (g/L)             42755 non-null  float64       \n",
      " 6   NO3-N (mg/L)          42755 non-null  float64       \n",
      " 7   NH4-N (mg/L)          42755 non-null  float64       \n",
      " 8   ORP (MV)              42755 non-null  float64       \n",
      " 9   Conductivity (mS/cm)  42755 non-null  float64       \n",
      "dtypes: datetime64[ns](1), float64(9)\n",
      "memory usage: 3.6 MB\n"
     ]
    }
   ],
   "source": [
    "cleaned_df.info()"
   ]
  },
  {
   "cell_type": "code",
   "execution_count": 27,
   "metadata": {},
   "outputs": [],
   "source": [
    "output_datafile = os.path.join(\"data\", \"final_df_big.csv\")\n",
    "cleaned_df.to_csv(output_datafile, index=False)"
   ]
  },
  {
   "cell_type": "code",
   "execution_count": null,
   "metadata": {},
   "outputs": [],
   "source": []
  }
 ],
 "metadata": {
  "kernelspec": {
   "display_name": "Python 3",
   "language": "python",
   "name": "python3"
  },
  "language_info": {
   "codemirror_mode": {
    "name": "ipython",
    "version": 3
   },
   "file_extension": ".py",
   "mimetype": "text/x-python",
   "name": "python",
   "nbconvert_exporter": "python",
   "pygments_lexer": "ipython3",
   "version": "3.7.7"
  }
 },
 "nbformat": 4,
 "nbformat_minor": 4
}
